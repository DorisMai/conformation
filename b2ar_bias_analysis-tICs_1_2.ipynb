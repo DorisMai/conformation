{
 "cells": [
  {
   "cell_type": "markdown",
   "metadata": {
    "collapsed": false
   },
   "source": [
    "In this iPython notebook, we will featurize MOR ligand binding simulation by pairwise distances between the ligand and different receptor residues. We will then perform tICA and prospectively build an MSM. "
   ]
  },
  {
   "cell_type": "code",
   "execution_count": 1,
   "metadata": {
    "collapsed": false
   },
   "outputs": [
    {
     "name": "stdout",
     "output_type": "stream",
     "text": [
      "Couldn't import dot_parser, loading of dot files will not be possible.\n"
     ]
    },
    {
     "name": "stderr",
     "output_type": "stream",
     "text": [
      "/home/enf/software/anaconda/lib/python2.7/site-packages/matplotlib/__init__.py:1318: UserWarning:  This call to matplotlib.use() has no effect\n",
      "because the backend has already been chosen;\n",
      "matplotlib.use() must be called *before* pylab, matplotlib.pyplot,\n",
      "or matplotlib.backends is imported for the first time.\n",
      "\n",
      "  warnings.warn(_use_error_msg)\n"
     ]
    }
   ],
   "source": [
    "import pandas as pd\n",
    "import matplotlib\n",
    "import matplotlib.pyplot as plt\n",
    "\n",
    "# changing matplotlib the default style\n",
    "matplotlib.style.use('ggplot')\n",
    "\n",
    "from PDB_Order_Fixer import PDB_Order_Fixer\n",
    "import mdtraj as md\n",
    "import os\n",
    "import numpy as np\n",
    "import h5py\n",
    "\n",
    "import datetime\n",
    "import glob\n",
    "import copy\n",
    "from functools import partial \n",
    "import operator\n",
    "import time\n",
    "\n",
    "import random \n",
    "import subprocess\n",
    "from subprocess import Popen\n",
    "import sys\n",
    "from io_functions import *\n",
    "from custom_clusterer import *\n",
    "from custom_tica import *\n",
    "from custom_featurizer import *\n",
    "from pdb_editing import *\n",
    "from analysis import *\n",
    "from io_functions import *\n",
    "#from topology_fixing import *\n",
    "from subsampling import *\n",
    "from conversions import *\n",
    "from custom_msm import *\n",
    "from grids import *\n",
    "from docking_analysis import *"
   ]
  },
  {
   "cell_type": "code",
   "execution_count": 2,
   "metadata": {
    "collapsed": true
   },
   "outputs": [],
   "source": [
    "import warnings\n",
    "warnings.filterwarnings('ignore')\n",
    "%matplotlib inline"
   ]
  },
  {
   "cell_type": "code",
   "execution_count": 3,
   "metadata": {
    "collapsed": false
   },
   "outputs": [],
   "source": [
    "from sklearn.preprocessing import scale"
   ]
  },
  {
   "cell_type": "code",
   "execution_count": 4,
   "metadata": {
    "collapsed": false
   },
   "outputs": [
    {
     "name": "stdout",
     "output_type": "stream",
     "text": [
      "we are operating on biox3\n"
     ]
    }
   ],
   "source": [
    "from detect_intermediates import *\n",
    "from interpret_tICs import *"
   ]
  },
  {
   "cell_type": "code",
   "execution_count": 5,
   "metadata": {
    "collapsed": false
   },
   "outputs": [],
   "source": [
    "def make_importances_df(importances, titles, scaled=False):\n",
    "    if scaled:\n",
    "        return pd.DataFrame(np.mean(np.vstack(list(importances)), axis=0), index = titles + [\"%s_scaled\" %n for n in titles], columns=[\"importance\"]).sort(\"importance\", inplace=False, ascending=False)\n",
    "    else: \n",
    "        return pd.DataFrame(np.mean(np.vstack(list(importances)), axis=0), index = titles, columns=[\"importance\"]).sort(\"importance\", inplace=False, ascending=False)\n",
    "        "
   ]
  },
  {
   "cell_type": "code",
   "execution_count": 6,
   "metadata": {
    "collapsed": false
   },
   "outputs": [],
   "source": [
    "from b2ar_feature_types import *\n",
    "from get_variable_names import *\n",
    "from b2ar_tica_config import *\n",
    "from residue import Residue, Atom"
   ]
  },
  {
   "cell_type": "code",
   "execution_count": 7,
   "metadata": {
    "collapsed": true
   },
   "outputs": [],
   "source": [
    "from sklearn import tree\n",
    "from sklearn.tree import DecisionTreeClassifier, export_graphviz\n",
    "from sklearn.preprocessing import scale\n",
    "from random import shuffle\n",
    "from sklearn.metrics import accuracy_score\n",
    "from sklearn.linear_model import LogisticRegression\n",
    "from sklearn.metrics import roc_curve, auc"
   ]
  },
  {
   "cell_type": "code",
   "execution_count": 8,
   "metadata": {
    "collapsed": true
   },
   "outputs": [],
   "source": [
    "\n",
    "ori_feature_name = copy.deepcopy(feature_name)"
   ]
  },
  {
   "cell_type": "code",
   "execution_count": 9,
   "metadata": {
    "collapsed": false
   },
   "outputs": [],
   "source": [
    "#schemes = [\"closest-heavy\", \"CA\"]\n",
    "#feature_name = \"%s-CA\" %ori_feature_name"
   ]
  },
  {
   "cell_type": "code",
   "execution_count": 10,
   "metadata": {
    "collapsed": true
   },
   "outputs": [],
   "source": [
    "rho = 0.01\n",
    "rho_string = \"_rho0pt01\"\n",
    "n_clusters = 25\n",
    "n_samples = 1\n",
    "lag_time=5\n",
    "precision = \"SP\""
   ]
  },
  {
   "cell_type": "code",
   "execution_count": 11,
   "metadata": {
    "collapsed": false
   },
   "outputs": [
    {
     "name": "stdout",
     "output_type": "stream",
     "text": [
      "/home/enf/b2ar_analysis/featuresall_residues_2rh1_3sn6_under_cutoff6A\n",
      "/home/enf/b2ar_analysis/featuresall_residues_2rh1_3sn6_under_cutoff6A\n"
     ]
    }
   ],
   "source": [
    "(active_ref_dir, inactive_ref_dir, simulation_ref_dir, scripts_dir,\n",
    "          ligand_dir, agonist_dir, inverse_agonist_dir, biased_agonist_dir, ref_receptors_dir, whole_trajectory_pnas,\n",
    "          sasa_file) = get_base_files(base)\n",
    "\n",
    "tica_dir = get_tica_dir(base, is_sparse, lag_time, n_components, feature_name, \n",
    "                                 wolf_string, shrinkage_string, rho_string)\n",
    "ori_tica_dir = copy.deepcopy(tica_dir)\n",
    "features_dir = get_features_dir(base, feature_name)\n",
    "\n",
    "landmarks_dir = get_landmarks_dir(tica_dir)\n",
    "analysis_dir = get_analysis_dir(tica_dir, n_clusters, sampling_method)\n",
    "gmm_dir = get_gmm_dir(tica_dir)\n",
    "rf_dirdir = get_rf_dir(tica_dir)\n",
    "\n",
    "\n",
    "ref_tica_dir, ref_tica_coords = get_ref_tica_dirs(tica_dir)\n",
    "\n",
    "graph_file = get_graph_file(tica_dir, msm_lag_time, n_clusters)\n",
    "\n",
    "pnas_titles =  [\"tm6_tm3_dist\", \"rmsd_npxxy_inactive\", \"rmsd_npxxy_active\", \"rmsd_connector_inactive\", \"rmsd_connector_active\"]\n",
    "pnas_features_dir = analysis_dir\n",
    "\n",
    "\n",
    "(clusterer_dir, msm_model_dir, macrostate_dir, features_known, model_dir, projected_features_dir,\n",
    "         projection_operator_dir, ktica_fit_model_filename, ktica_projected_data_filename, nystroem_data_filename,\n",
    "         mutual_information_csv, pearson_csv) = get_tica_files(base, tica_dir, n_clusters, msm_lag_time, n_macrostates)\n",
    "\n",
    "(standardized_features_dir, feature_residues_csv, feature_residues_pkl,\n",
    "          contact_csv, ref_features_dir) = get_feature_files(features_dir)\n",
    "\n",
    "(kmeans_csv, tica_coords_csv, features_csv, active_rmsd_dir, inactive_rmsd_dir, active_pnas_dir, inactive_pnas_joined, active_pnas_joined,\n",
    "        clusters_map_file, ktica_clusters_map_file, analysis_file, combined_file, docking_summary, docking_joined, docking_z_scores_csv,\n",
    "        aggregate_docking, aggregate_docking_joined, docking_pnas_joined, aggregate_docking_pnas, aggregate_docking_pnas_joined, docking_multiple_ligands,\n",
    "        docking_distances_file, docking_pdf, mmgbsa_docking_distances, pnas_coords, mmgbsa_dir, mmgbsa_csv, mmgbsa_pdf, aggregate_mmgbsa,\n",
    "        aggregate_mmgbsa_joined, aggregate_mmgbsa_pnas_joined, mmgbsa_z_scores_csv, active_clusters_csv, intermediate_clusters_csv,\n",
    "        inactive_clusters_csv, pnas_clusters_averages, tica_clusters_averages, tica_classes_csv, tica_samples_csv, subgraph_save_base,\n",
    "        degree_save_base, degree_map_csv, degree_z_map_csv, aggregate_docking_pnas_degree_z_joined, tic_residue_csv, feature_coefs_csv,\n",
    "        duplicated_feature_coefs_csv) = get_analysis_files(analysis_dir, n_clusters, tica_dir, tica_dir, sampling_method, n_samples, precision,\n",
    "                                                           msm_lag_time)\n",
    "\n",
    "(inactive_pnas_distances_dir, active_pnas_distances_dir, active_pnas_all_distances_dir,\n",
    "          inactive_pnas_distances_new_csv, active_pnas_distances_new_csv, active_pnas_joined, active_pnas_means, pnas_coords_dir,\n",
    "          pnas_coords_csv, pnas_all_coords_csv, pnas_coords_hexbin_dir, pnas_coords_co_crystallized_docking_dir,\n",
    "          pnas_coords_active_colors_dir, user_defined_features_file, reaction_coordinates_trajs_file) = get_pnas_files(whole_trajectory_pnas, pnas_features_dir)\n",
    "\n",
    "features_dir = get_features_dir(base, feature_name)\n",
    "\n",
    "\n",
    "\n",
    "graph_file = get_graph_file(tica_dir, msm_lag_time, n_clusters)\n",
    "(scripts_dir, pymol_fixpdb_dir) = get_script_dir(scripts_dir)\n",
    "(save_dir, reimaged_dir, mae_dir, combined_reimaged_dir, grid_dir, docking_dir) = get_docking_dirs(tica_dir, n_clusters, n_components, n_samples, sampling_method, precision)\n"
   ]
  },
  {
   "cell_type": "code",
   "execution_count": 12,
   "metadata": {
    "collapsed": false
   },
   "outputs": [
    {
     "name": "stdout",
     "output_type": "stream",
     "text": [
      "loading \"/home/enf/b2ar_analysis/sparse-tICA_t5_n_components2all_residues_2rh1_3sn6_under_cutoff6A_regularization_wolf_autoShrinkage_rho0pt01/phi_psi_chi2_allprot_tica_coords.h5\"...\n",
      "[ 729.62933227  289.65120394]\n"
     ]
    }
   ],
   "source": [
    "tica_object = verboseload(projection_operator_dir)\n",
    "print(tica_object.timescales_)"
   ]
  },
  {
   "cell_type": "code",
   "execution_count": 13,
   "metadata": {
    "collapsed": false
   },
   "outputs": [
    {
     "name": "stdout",
     "output_type": "stream",
     "text": [
      "hi\n"
     ]
    }
   ],
   "source": [
    "print(\"hi\")"
   ]
  },
  {
   "cell_type": "code",
   "execution_count": 14,
   "metadata": {
    "collapsed": false
   },
   "outputs": [
    {
     "name": "stdout",
     "output_type": "stream",
     "text": [
      "Interpreting tIC 1\n",
      "feature_importances_df.shape\n",
      "(6, 7)\n",
      "residue_importances_df.shape\n",
      "(11, 3)\n",
      "       feature_name   res_i   res_j  resid_i  resid_j  importance  \\\n",
      "3  Phe108 To Gln170  Phe108  Gln170      108      170    0.278917   \n",
      "5  Thr274 To Cys327  Thr274  Cys327      274      327   -0.216950   \n",
      "0   Asn51 To Ser319   Asn51  Ser319       51      319    0.209493   \n",
      "4   Asp79 To Tyr326   Asp79  Tyr326       79      326    0.195303   \n",
      "2   Leu75 To Pro323   Leu75  Pro323       75      323   -0.172376   \n",
      "1   Asn51 To Gly320   Asn51  Gly320       51      320   -0.163539   \n",
      "\n",
      "            feature  \n",
      "3  PHE108 to GLN170  \n",
      "5  THR274 to CYS327  \n",
      "0   ASN51 to SER319  \n",
      "4   ASP79 to TYR326  \n",
      "2   LEU75 to PRO323  \n",
      "1   ASN51 to GLY320  \n",
      "Using dark_background\n",
      "       residue  importance  resid\n",
      "Gln170  Gln170    0.278917    170\n",
      "Phe108  Phe108    0.278917    108\n",
      "Cys327  Cys327   -0.216950    327\n",
      "Thr274  Thr274   -0.216950    274\n",
      "Ser319  Ser319    0.209493    319\n",
      "Tyr326  Tyr326    0.195303    326\n",
      "Asp79    Asp79    0.195303     79\n",
      "Asn51    Asn51    0.190841     51\n",
      "Pro323  Pro323   -0.172376    323\n",
      "Leu75    Leu75   -0.172376     75\n",
      "Gly320  Gly320   -0.163539    320\n",
      "Using dark_background\n",
      "Interpreting tIC 2\n",
      "feature_importances_df.shape\n",
      "(7, 7)\n",
      "residue_importances_df.shape\n",
      "(12, 3)\n",
      "       feature_name   res_i   res_j  resid_i  resid_j  importance  \\\n",
      "6  Tyr219 To Leu272  Tyr219  Leu272      219      272    0.442840   \n",
      "2   Asp79 To Tyr326   Asp79  Tyr326       79      326    0.325170   \n",
      "3  Ile127 To Leu275  Ile127  Leu275      127      275    0.305118   \n",
      "4  Tyr141 To Glu268  Tyr141  Glu268      141      268    0.272796   \n",
      "0   Asp79 To Asn318   Asp79  Asn318       79      318    0.257021   \n",
      "5  Tyr219 To Ala271  Tyr219  Ala271      219      271   -0.205418   \n",
      "1   His93 To Cys190   His93  Cys190       93      190    0.193080   \n",
      "\n",
      "            feature  \n",
      "6  TYR219 to LEU272  \n",
      "2   ASP79 to TYR326  \n",
      "3  ILE127 to LEU275  \n",
      "4  TYR141 to GLU268  \n",
      "0   ASP79 to ASN318  \n",
      "5  TYR219 to ALA271  \n",
      "1   HIS93 to CYS190  \n",
      "Using dark_background\n",
      "       residue  importance  resid\n",
      "Leu272  Leu272    0.442840    272\n",
      "Tyr219  Tyr219    0.410427    219\n",
      "Tyr326  Tyr326    0.325170    326\n",
      "Asp79    Asp79    0.321762     79\n",
      "Leu275  Leu275    0.305118    275\n",
      "Ile127  Ile127    0.305118    127\n",
      "Glu268  Glu268    0.272796    268\n",
      "Tyr141  Tyr141    0.272796    141\n",
      "Asn318  Asn318    0.257021    318\n",
      "Ala271  Ala271   -0.205418    271\n",
      "Cys190  Cys190    0.193080    190\n",
      "His93    His93    0.193080     93\n",
      "Using dark_background\n"
     ]
    }
   ],
   "source": [
    "import interpret_tICs\n",
    "reload(interpret_tICs)\n",
    "from interpret_tICs import *\n",
    "tic_components_dir = tica_dir\n",
    "important_contact_features = interpret_tIC_components(projection_operator_dir, tic_components_dir, feature_residues_pkl, n_tica_components=5, percentile=95)"
   ]
  },
  {
   "cell_type": "code",
   "execution_count": 15,
   "metadata": {
    "collapsed": true
   },
   "outputs": [],
   "source": [
    "with open(feature_residues_pkl) as f:\n",
    "    feature_names = pickle.load(f)"
   ]
  },
  {
   "cell_type": "code",
   "execution_count": 16,
   "metadata": {
    "collapsed": false
   },
   "outputs": [],
   "source": [
    "import interpret_tICs\n",
    "reload(interpret_tICs)\n",
    "from interpret_tICs import *\n",
    "tic_subsampled_features_file = \"%s/features_subsampled.pkl\" % tica_dir\n",
    "subsampled_features_dir = os.path.join(tica_dir, \"subsampled_features\")\n",
    "if not os.path.exists(subsampled_features_dir): os.makedirs(subsampled_features_dir)\n",
    "important_contact_features_pruned, important_contact_features_indices = find_non_zero_features(important_contact_features[0], feature_names)\n",
    "#subsample_features(features_dir, important_contact_features_indices, important_contact_features_pruned, tic_subsampled_features_file)"
   ]
  },
  {
   "cell_type": "code",
   "execution_count": 17,
   "metadata": {
    "collapsed": false,
    "scrolled": true
   },
   "outputs": [
    {
     "name": "stdout",
     "output_type": "stream",
     "text": [
      "loading \"/home/enf/b2ar_analysis/sparse-tICA_t5_n_components2all_residues_2rh1_3sn6_under_cutoff6A_regularization_wolf_autoShrinkage_rho0pt01/phi_psi_chi2_allprot_projected.h5\"...\n",
      "loading \"/home/enf/b2ar_analysis/all_pnas_features/pnas_coords.h5\"...\n"
     ]
    }
   ],
   "source": [
    "tica_coords = verboseload(projected_features_dir)\n",
    "pnas_coords = verboseload(pnas_coords_dir)\n",
    "for pnas_coord in pnas_coords: pnas_coord[:,0]*=7.14\n",
    "tica_names = [\"tIC.%d\" %i for i in range(1,n_components+1)]\n",
    "pnas_names = [\"tm6_tm3_dist\", \"rmsd_npxxy_inactive\", \"rmsd_npxxy_active\", \"rmsd_connector_inactive\", \"rmsd_connector_active\"]"
   ]
  },
  {
   "cell_type": "code",
   "execution_count": 18,
   "metadata": {
    "collapsed": false
   },
   "outputs": [],
   "source": [
    "import plots\n",
    "reload(plots)\n",
    "from plots import *\n",
    "#plot_histograms(projected_features_dir, analysis_dir, \"tICA histogram\", titles=[\"tIC.%d\" %i for i in range(1,n_components+1)])"
   ]
  },
  {
   "cell_type": "code",
   "execution_count": 19,
   "metadata": {
    "collapsed": false
   },
   "outputs": [
    {
     "name": "stdout",
     "output_type": "stream",
     "text": [
      "loading \"/home/enf/b2ar_analysis/sparse-tICA_t5_n_components2all_residues_2rh1_3sn6_under_cutoff6A_regularization_wolf_autoShrinkage_rho0pt01/msm_lag_time25.h5\"...\n"
     ]
    }
   ],
   "source": [
    "lag_time = 25\n",
    "msm_model_dir = \"%s/msm_lag_time%d.h5\" % (tica_dir, lag_time)\n",
    "#build_msm(clusterer_tICs_1_2_3_filename, lag_time=lag_time, msm_model_dir=msm_model_dir)\n",
    "msm_object = verboseload(msm_model_dir)\n",
    "prior_counts = 0."
   ]
  },
  {
   "cell_type": "code",
   "execution_count": 20,
   "metadata": {
    "collapsed": false
   },
   "outputs": [
    {
     "ename": "NameError",
     "evalue": "name 'features_eq' is not defined",
     "output_type": "error",
     "traceback": [
      "\u001b[1;31m---------------------------------------------------------------------------\u001b[0m",
      "\u001b[1;31mNameError\u001b[0m                                 Traceback (most recent call last)",
      "\u001b[1;32m<ipython-input-20-303cae3357d3>\u001b[0m in \u001b[0;36m<module>\u001b[1;34m()\u001b[0m\n\u001b[1;32m----> 1\u001b[1;33m \u001b[0mplt\u001b[0m\u001b[1;33m.\u001b[0m\u001b[0mhist\u001b[0m\u001b[1;33m(\u001b[0m\u001b[0mfeatures_eq\u001b[0m\u001b[1;33m[\u001b[0m\u001b[1;34m\"tm6_tm3_dist\"\u001b[0m\u001b[1;33m]\u001b[0m\u001b[1;33m,\u001b[0m \u001b[0mbins\u001b[0m\u001b[1;33m=\u001b[0m\u001b[1;36m100\u001b[0m\u001b[1;33m)\u001b[0m\u001b[1;33m\u001b[0m\u001b[0m\n\u001b[0m",
      "\u001b[1;31mNameError\u001b[0m: name 'features_eq' is not defined"
     ]
    }
   ],
   "source": [
    "plt.hist(features_eq[\"tm6_tm3_dist\"], bins=100)"
   ]
  },
  {
   "cell_type": "code",
   "execution_count": null,
   "metadata": {
    "collapsed": false
   },
   "outputs": [],
   "source": [
    "plt.hist(features_eq[\"Ala59_Leu266\"], bins=100)\n",
    "plt.title(\"Ala59-Leu266\")"
   ]
  },
  {
   "cell_type": "code",
   "execution_count": null,
   "metadata": {
    "collapsed": false
   },
   "outputs": [],
   "source": [
    "plt.hist(features_eq[\"Thr66_Leu266\"], bins=100)\n",
    "plt.title(\"Thr66-Leu266\")"
   ]
  },
  {
   "cell_type": "code",
   "execution_count": null,
   "metadata": {
    "collapsed": false
   },
   "outputs": [],
   "source": [
    "plt.hist(features_eq[\"Asn148_Leu266\"], bins=100)\n",
    "plt.title(\"Asn148-Leu266\")"
   ]
  },
  {
   "cell_type": "code",
   "execution_count": null,
   "metadata": {
    "collapsed": false
   },
   "outputs": [],
   "source": [
    "feature_name_residues_dict"
   ]
  },
  {
   "cell_type": "code",
   "execution_count": 20,
   "metadata": {
    "collapsed": true
   },
   "outputs": [],
   "source": [
    "def calculate_cluster_averages_per_feature(clusterer, features):\n",
    "  n_clusters = clusterer.n_clusters \n",
    "  concatenated_clusters = np.concatenate(clusterer.labels_)\n",
    "  concatenated_features = np.concatenate(features)\n",
    "  cluster_averages = np.zeros((n_clusters, concatenated_features.shape[1]))\n",
    "  for i in range(0, n_clusters):\n",
    "    rows = np.where(concatenated_clusters == i)[0]\n",
    "    means = np.mean(concatenated_features[rows,:], axis=0)\n",
    "    cluster_averages[i,:] = means\n",
    "  return cluster_averages"
   ]
  },
  {
   "cell_type": "code",
   "execution_count": 21,
   "metadata": {
    "collapsed": true
   },
   "outputs": [],
   "source": [
    "def get_sample_coords(sample_indices, coords):\n",
    "    sample_coords = []\n",
    "    for cluster in range(0, np.shape(sample_indices)[0]):\n",
    "        print(\"Looking at cluster %d\" %cluster)\n",
    "        cluster_coords = []\n",
    "        if type(sample_indices[cluster][0]) not in [list, tuple]:\n",
    "            traj_index_frame_tuples = [sample_indices[cluster]]\n",
    "        else:\n",
    "            traj_index_frame_tuples = sample_indices[cluster]\n",
    "        for traj_index_frame_tuple in traj_index_frame_tuples:\n",
    "            traj_index = traj_index_frame_tuple[0]\n",
    "            frame = traj_index_frame_tuple[1]\n",
    "            cluster_coords.append(coords[traj_index][frame])\n",
    "        cluster_coords = np.vstack(cluster_coords)\n",
    "        sample_coords.append(cluster_coords)\n",
    "    return sample_coords"
   ]
  },
  {
   "cell_type": "code",
   "execution_count": 22,
   "metadata": {
    "collapsed": false
   },
   "outputs": [
    {
     "name": "stdout",
     "output_type": "stream",
     "text": [
      "loading \"/home/enf/b2ar_analysis/sparse-tICA_t5_n_components2all_residues_2rh1_3sn6_under_cutoff6A_regularization_wolf_autoShrinkage_rho0pt01/clusterer_25clusters.h5\"...\n"
     ]
    }
   ],
   "source": [
    "clusterer = verboseload(clusterer_dir)\n",
    "cluster_averages = calculate_cluster_averages_per_feature(clusterer, pnas_coords)\n"
   ]
  },
  {
   "cell_type": "code",
   "execution_count": 23,
   "metadata": {
    "collapsed": false
   },
   "outputs": [],
   "source": [
    "cluster_averages = pd.DataFrame(cluster_averages, columns=pnas_names)\n",
    "active_clusters = cluster_averages.loc[(cluster_averages[\"rmsd_npxxy_active\"] < 0.5) & (cluster_averages[\"tm6_tm3_dist\"] > 12.) & (cluster_averages[\"tm6_tm3_dist\"] < 15.)]\n",
    "inactive_clusters = cluster_averages.loc[(cluster_averages[\"rmsd_npxxy_active\"] > 0.5) & (cluster_averages[\"tm6_tm3_dist\"] <10.)]"
   ]
  },
  {
   "cell_type": "code",
   "execution_count": null,
   "metadata": {
    "collapsed": false
   },
   "outputs": [],
   "source": [
    "plot_data_vs_data(np.concatenate(tica_coords), np.concatenate(pnas_coords), tica_names, pnas_names, analysis_dir)"
   ]
  },
  {
   "cell_type": "code",
   "execution_count": null,
   "metadata": {
    "collapsed": false
   },
   "outputs": [],
   "source": [
    "plot_columns(tica_dir, projected_features_dir, titles = [\"tIC%d\" %j for j in range(1,11)], tICA = True, scale = 1.0, refcoords_file = None)"
   ]
  },
  {
   "cell_type": "code",
   "execution_count": 24,
   "metadata": {
    "collapsed": true
   },
   "outputs": [],
   "source": [
    "biased_ligands = get_ligands(biased_agonist_dir)\n",
    "agonist_ligands = get_ligands(agonist_dir)\n",
    "inverse_ligands = get_ligands(inverse_agonist_dir)"
   ]
  },
  {
   "cell_type": "code",
   "execution_count": 27,
   "metadata": {
    "collapsed": false,
    "scrolled": true
   },
   "outputs": [
    {
     "name": "stdout",
     "output_type": "stream",
     "text": [
      "Analyzing docking results\n",
      "/home/enf/b2ar_analysis/sparse-tICA_t5_n_components2all_residues_2rh1_3sn6_under_cutoff6A_regularization_wolf_autoShrinkage_rho0pt01/docking_n_clusters25_n_samples1_random_SP\n",
      "['', '', '', '', '', '', '', '', '', '', '', '', '', '', '', '', '', '', '', '', '', '', '', '', '', '', '', '', '', '', '', '', '', '', '', '', '', '', '', '', '', '', '', '', '', '', '', '', '', '', '', '', '', '', '', '', '', '', '', '', '', '', '3p0g_lig', \"4'-Methoxyfenoterol\", 'BRL 37344', 'Ici118551', 'Ici215001', 'Ici89406', 'MAPE', 'N-Cyclopentylbutanephrine', 'Structure2D_CID_3343', 'TERBSN', 'Tulobuterol', 'ZINC_results-single', 'acebutolol', 'adrenalone', 'ah3021', 'ah3474', 'alprenalol', 'bevantolol', 'bisoprolol', 'broxaterol', 'bucindolol', 'bupranolol', 'cgp12177', 'cicloprolol', 'cimaterol', 'clenbuterol', 'clenproperol', 'dichloroisopreterenol', 'dobutamine', 'dopamine', 'du211117', 'du28663', 'epinine', 'ethylnorepinephrine', 'fenoterol', 'formoterol', 'hexoprenaline', 'isoetharine', 'isoetharine_prepped', 'isopropylnorsynephrine', 'labetalol', 'metoprolol', 'nadolol', 'nebivolol', 'nipradilol', 'nor-metanephrine', 'norepinephrine', 'olodaterol', 'orciprenaline', 'pindolol', 'practolol', 'procaterol', 'pronethalol 2', 'pronethalol', 'propranolol', 'r_epinephrine', 'r_isopreterenol', 'ritrodine', 's-atenolol', 's-carazolol', 's-carvedilol', 's-carvedilol_prepped', 'salbutamol', 'salmeterol', 'skf42469', 'skf56301', 'sotalol', 'sulfonterol', 't-0509', 'ta-2005', 'terbutaline', 'timolol', 'xamoterol', 'zinterol']\n",
      "/home/enf/b2ar_analysis/sparse-tICA_t5_n_components2all_residues_2rh1_3sn6_under_cutoff6A_regularization_wolf_autoShrinkage_rho0pt01/docking_n_clusters25_n_samples1_random_SP/clenbuterol\n",
      "/home/enf/b2ar_analysis/sparse-tICA_t5_n_components2all_residues_2rh1_3sn6_under_cutoff6A_regularization_wolf_autoShrinkage_rho0pt01/docking_n_clusters25_n_samples1_random_SP/labetalol\n",
      "/home/enf/b2ar_analysis/sparse-tICA_t5_n_components2all_residues_2rh1_3sn6_under_cutoff6A_regularization_wolf_autoShrinkage_rho0pt01/docking_n_clusters25_n_samples1_random_SP/cimaterol\n",
      "/home/enf/b2ar_analysis/sparse-tICA_t5_n_components2all_residues_2rh1_3sn6_under_cutoff6A_regularization_wolf_autoShrinkage_rho0pt01/docking_n_clusters25_n_samples1_random_SP/olodaterol\n",
      "/home/enf/b2ar_analysis/sparse-tICA_t5_n_components2all_residues_2rh1_3sn6_under_cutoff6A_regularization_wolf_autoShrinkage_rho0pt01/docking_n_clusters25_n_samples1_random_SP/t-0509\n",
      "/home/enf/b2ar_analysis/sparse-tICA_t5_n_components2all_residues_2rh1_3sn6_under_cutoff6A_regularization_wolf_autoShrinkage_rho0pt01/docking_n_clusters25_n_samples1_random_SP/isoetharine\n",
      "/home/enf/b2ar_analysis/sparse-tICA_t5_n_components2all_residues_2rh1_3sn6_under_cutoff6A_regularization_wolf_autoShrinkage_rho0pt01/docking_n_clusters25_n_samples1_random_SP/nadolol\n",
      "/home/enf/b2ar_analysis/sparse-tICA_t5_n_components2all_residues_2rh1_3sn6_under_cutoff6A_regularization_wolf_autoShrinkage_rho0pt01/docking_n_clusters25_n_samples1_random_SP/formoterol\n",
      "/home/enf/b2ar_analysis/sparse-tICA_t5_n_components2all_residues_2rh1_3sn6_under_cutoff6A_regularization_wolf_autoShrinkage_rho0pt01/docking_n_clusters25_n_samples1_random_SP/fenoterol\n",
      "/home/enf/b2ar_analysis/sparse-tICA_t5_n_components2all_residues_2rh1_3sn6_under_cutoff6A_regularization_wolf_autoShrinkage_rho0pt01/docking_n_clusters25_n_samples1_random_SP/s-atenolol\n",
      "/home/enf/b2ar_analysis/sparse-tICA_t5_n_components2all_residues_2rh1_3sn6_under_cutoff6A_regularization_wolf_autoShrinkage_rho0pt01/docking_n_clusters25_n_samples1_random_SP/3p0g_lig\n",
      "/home/enf/b2ar_analysis/sparse-tICA_t5_n_components2all_residues_2rh1_3sn6_under_cutoff6A_regularization_wolf_autoShrinkage_rho0pt01/docking_n_clusters25_n_samples1_random_SP/acebutolol\n",
      "/home/enf/b2ar_analysis/sparse-tICA_t5_n_components2all_residues_2rh1_3sn6_under_cutoff6A_regularization_wolf_autoShrinkage_rho0pt01/docking_n_clusters25_n_samples1_random_SP/isoetharine_prep\n",
      "/home/enf/b2ar_analysis/sparse-tICA_t5_n_components2all_residues_2rh1_3sn6_under_cutoff6A_regularization_wolf_autoShrinkage_rho0pt01/docking_n_clusters25_n_samples1_random_SP/Structure2D_CID_3343\n",
      "/home/enf/b2ar_analysis/sparse-tICA_t5_n_components2all_residues_2rh1_3sn6_under_cutoff6A_regularization_wolf_autoShrinkage_rho0pt01/docking_n_clusters25_n_samples1_random_SP/ah3021\n",
      "/home/enf/b2ar_analysis/sparse-tICA_t5_n_components2all_residues_2rh1_3sn6_under_cutoff6A_regularization_wolf_autoShrinkage_rho0pt01/docking_n_clusters25_n_samples1_random_SP/Ici215001\n",
      "/home/enf/b2ar_analysis/sparse-tICA_t5_n_components2all_residues_2rh1_3sn6_under_cutoff6A_regularization_wolf_autoShrinkage_rho0pt01/docking_n_clusters25_n_samples1_random_SP/practolol\n",
      "/home/enf/b2ar_analysis/sparse-tICA_t5_n_components2all_residues_2rh1_3sn6_under_cutoff6A_regularization_wolf_autoShrinkage_rho0pt01/docking_n_clusters25_n_samples1_random_SP/s-carvedilol_prep\n",
      "/home/enf/b2ar_analysis/sparse-tICA_t5_n_components2all_residues_2rh1_3sn6_under_cutoff6A_regularization_wolf_autoShrinkage_rho0pt01/docking_n_clusters25_n_samples1_random_SP/Ici118551\n",
      "/home/enf/b2ar_analysis/sparse-tICA_t5_n_components2all_residues_2rh1_3sn6_under_cutoff6A_regularization_wolf_autoShrinkage_rho0pt01/docking_n_clusters25_n_samples1_random_SP/ritrodine\n",
      "/home/enf/b2ar_analysis/sparse-tICA_t5_n_components2all_residues_2rh1_3sn6_under_cutoff6A_regularization_wolf_autoShrinkage_rho0pt01/docking_n_clusters25_n_samples1_random_SP/isopropylnorsynephrine\n",
      "/home/enf/b2ar_analysis/sparse-tICA_t5_n_components2all_residues_2rh1_3sn6_under_cutoff6A_regularization_wolf_autoShrinkage_rho0pt01/docking_n_clusters25_n_samples1_random_SP/r_epinephrine\n",
      "/home/enf/b2ar_analysis/sparse-tICA_t5_n_components2all_residues_2rh1_3sn6_under_cutoff6A_regularization_wolf_autoShrinkage_rho0pt01/docking_n_clusters25_n_samples1_random_SP/du28663\n",
      "/home/enf/b2ar_analysis/sparse-tICA_t5_n_components2all_residues_2rh1_3sn6_under_cutoff6A_regularization_wolf_autoShrinkage_rho0pt01/docking_n_clusters25_n_samples1_random_SP/sotalol\n",
      "/home/enf/b2ar_analysis/sparse-tICA_t5_n_components2all_residues_2rh1_3sn6_under_cutoff6A_regularization_wolf_autoShrinkage_rho0pt01/docking_n_clusters25_n_samples1_random_SP/r_isopreterenol\n",
      "/home/enf/b2ar_analysis/sparse-tICA_t5_n_components2all_residues_2rh1_3sn6_under_cutoff6A_regularization_wolf_autoShrinkage_rho0pt01/docking_n_clusters25_n_samples1_random_SP/propranolol\n",
      "/home/enf/b2ar_analysis/sparse-tICA_t5_n_components2all_residues_2rh1_3sn6_under_cutoff6A_regularization_wolf_autoShrinkage_rho0pt01/docking_n_clusters25_n_samples1_random_SP/metoprolol\n",
      "/home/enf/b2ar_analysis/sparse-tICA_t5_n_components2all_residues_2rh1_3sn6_under_cutoff6A_regularization_wolf_autoShrinkage_rho0pt01/docking_n_clusters25_n_samples1_random_SP/timolol\n",
      "/home/enf/b2ar_analysis/sparse-tICA_t5_n_components2all_residues_2rh1_3sn6_under_cutoff6A_regularization_wolf_autoShrinkage_rho0pt01/docking_n_clusters25_n_samples1_random_SP/norepinephrine\n",
      "/home/enf/b2ar_analysis/sparse-tICA_t5_n_components2all_residues_2rh1_3sn6_under_cutoff6A_regularization_wolf_autoShrinkage_rho0pt01/docking_n_clusters25_n_samples1_random_SP/procaterol\n",
      "/home/enf/b2ar_analysis/sparse-tICA_t5_n_components2all_residues_2rh1_3sn6_under_cutoff6A_regularization_wolf_autoShrinkage_rho0pt01/docking_n_clusters25_n_samples1_random_SP/ZINC_results-single\n",
      "/home/enf/b2ar_analysis/sparse-tICA_t5_n_components2all_residues_2rh1_3sn6_under_cutoff6A_regularization_wolf_autoShrinkage_rho0pt01/docking_n_clusters25_n_samples1_random_SP/orciprenaline\n",
      "/home/enf/b2ar_analysis/sparse-tICA_t5_n_components2all_residues_2rh1_3sn6_under_cutoff6A_regularization_wolf_autoShrinkage_rho0pt01/docking_n_clusters25_n_samples1_random_SP/pindolol\n",
      "/home/enf/b2ar_analysis/sparse-tICA_t5_n_components2all_residues_2rh1_3sn6_under_cutoff6A_regularization_wolf_autoShrinkage_rho0pt01/docking_n_clusters25_n_samples1_random_SP/nor-metanephrine\n",
      "/home/enf/b2ar_analysis/sparse-tICA_t5_n_components2all_residues_2rh1_3sn6_under_cutoff6A_regularization_wolf_autoShrinkage_rho0pt01/docking_n_clusters25_n_samples1_random_SP/salmeterol\n",
      "/home/enf/b2ar_analysis/sparse-tICA_t5_n_components2all_residues_2rh1_3sn6_under_cutoff6A_regularization_wolf_autoShrinkage_rho0pt01/docking_n_clusters25_n_samples1_random_SP/zinterol\n",
      "/home/enf/b2ar_analysis/sparse-tICA_t5_n_components2all_residues_2rh1_3sn6_under_cutoff6A_regularization_wolf_autoShrinkage_rho0pt01/docking_n_clusters25_n_samples1_random_SP/cicloprolol\n",
      "/home/enf/b2ar_analysis/sparse-tICA_t5_n_components2all_residues_2rh1_3sn6_under_cutoff6A_regularization_wolf_autoShrinkage_rho0pt01/docking_n_clusters25_n_samples1_random_SP/pronethalol\n",
      "/home/enf/b2ar_analysis/sparse-tICA_t5_n_components2all_residues_2rh1_3sn6_under_cutoff6A_regularization_wolf_autoShrinkage_rho0pt01/docking_n_clusters25_n_samples1_random_SP/ah3474\n",
      "/home/enf/b2ar_analysis/sparse-tICA_t5_n_components2all_residues_2rh1_3sn6_under_cutoff6A_regularization_wolf_autoShrinkage_rho0pt01/docking_n_clusters25_n_samples1_random_SP/Tulobuterol\n",
      "/home/enf/b2ar_analysis/sparse-tICA_t5_n_components2all_residues_2rh1_3sn6_under_cutoff6A_regularization_wolf_autoShrinkage_rho0pt01/docking_n_clusters25_n_samples1_random_SP/alprenalol\n",
      "/home/enf/b2ar_analysis/sparse-tICA_t5_n_components2all_residues_2rh1_3sn6_under_cutoff6A_regularization_wolf_autoShrinkage_rho0pt01/docking_n_clusters25_n_samples1_random_SP/du211117\n",
      "/home/enf/b2ar_analysis/sparse-tICA_t5_n_components2all_residues_2rh1_3sn6_under_cutoff6A_regularization_wolf_autoShrinkage_rho0pt01/docking_n_clusters25_n_samples1_random_SP/cgp12177\n",
      "/home/enf/b2ar_analysis/sparse-tICA_t5_n_components2all_residues_2rh1_3sn6_under_cutoff6A_regularization_wolf_autoShrinkage_rho0pt01/docking_n_clusters25_n_samples1_random_SP/nebivolol\n",
      "/home/enf/b2ar_analysis/sparse-tICA_t5_n_components2all_residues_2rh1_3sn6_under_cutoff6A_regularization_wolf_autoShrinkage_rho0pt01/docking_n_clusters25_n_samples1_random_SP/MAPE\n",
      "/home/enf/b2ar_analysis/sparse-tICA_t5_n_components2all_residues_2rh1_3sn6_under_cutoff6A_regularization_wolf_autoShrinkage_rho0pt01/docking_n_clusters25_n_samples1_random_SP/dopamine\n",
      "/home/enf/b2ar_analysis/sparse-tICA_t5_n_components2all_residues_2rh1_3sn6_under_cutoff6A_regularization_wolf_autoShrinkage_rho0pt01/docking_n_clusters25_n_samples1_random_SP/dichloroisopreterenol\n",
      "/home/enf/b2ar_analysis/sparse-tICA_t5_n_components2all_residues_2rh1_3sn6_under_cutoff6A_regularization_wolf_autoShrinkage_rho0pt01/docking_n_clusters25_n_samples1_random_SP/N-Cyclopentylbutanephrine\n",
      "/home/enf/b2ar_analysis/sparse-tICA_t5_n_components2all_residues_2rh1_3sn6_under_cutoff6A_regularization_wolf_autoShrinkage_rho0pt01/docking_n_clusters25_n_samples1_random_SP/terbutaline\n",
      "/home/enf/b2ar_analysis/sparse-tICA_t5_n_components2all_residues_2rh1_3sn6_under_cutoff6A_regularization_wolf_autoShrinkage_rho0pt01/docking_n_clusters25_n_samples1_random_SP/hexoprenaline\n",
      "/home/enf/b2ar_analysis/sparse-tICA_t5_n_components2all_residues_2rh1_3sn6_under_cutoff6A_regularization_wolf_autoShrinkage_rho0pt01/docking_n_clusters25_n_samples1_random_SP/sulfonterol\n",
      "/home/enf/b2ar_analysis/sparse-tICA_t5_n_components2all_residues_2rh1_3sn6_under_cutoff6A_regularization_wolf_autoShrinkage_rho0pt01/docking_n_clusters25_n_samples1_random_SP/bupranolol\n",
      "/home/enf/b2ar_analysis/sparse-tICA_t5_n_components2all_residues_2rh1_3sn6_under_cutoff6A_regularization_wolf_autoShrinkage_rho0pt01/docking_n_clusters25_n_samples1_random_SP/clenproperol\n",
      "/home/enf/b2ar_analysis/sparse-tICA_t5_n_components2all_residues_2rh1_3sn6_under_cutoff6A_regularization_wolf_autoShrinkage_rho0pt01/docking_n_clusters25_n_samples1_random_SP/ethylnorepinephrine\n",
      "/home/enf/b2ar_analysis/sparse-tICA_t5_n_components2all_residues_2rh1_3sn6_under_cutoff6A_regularization_wolf_autoShrinkage_rho0pt01/docking_n_clusters25_n_samples1_random_SP/ta-2005\n",
      "/home/enf/b2ar_analysis/sparse-tICA_t5_n_components2all_residues_2rh1_3sn6_under_cutoff6A_regularization_wolf_autoShrinkage_rho0pt01/docking_n_clusters25_n_samples1_random_SP/s-carazolol\n",
      "/home/enf/b2ar_analysis/sparse-tICA_t5_n_components2all_residues_2rh1_3sn6_under_cutoff6A_regularization_wolf_autoShrinkage_rho0pt01/docking_n_clusters25_n_samples1_random_SP/salbutamol\n",
      "/home/enf/b2ar_analysis/sparse-tICA_t5_n_components2all_residues_2rh1_3sn6_under_cutoff6A_regularization_wolf_autoShrinkage_rho0pt01/docking_n_clusters25_n_samples1_random_SP/adrenalone\n",
      "/home/enf/b2ar_analysis/sparse-tICA_t5_n_components2all_residues_2rh1_3sn6_under_cutoff6A_regularization_wolf_autoShrinkage_rho0pt01/docking_n_clusters25_n_samples1_random_SP/Ici89406\n",
      "/home/enf/b2ar_analysis/sparse-tICA_t5_n_components2all_residues_2rh1_3sn6_under_cutoff6A_regularization_wolf_autoShrinkage_rho0pt01/docking_n_clusters25_n_samples1_random_SP/xamoterol\n",
      "/home/enf/b2ar_analysis/sparse-tICA_t5_n_components2all_residues_2rh1_3sn6_under_cutoff6A_regularization_wolf_autoShrinkage_rho0pt01/docking_n_clusters25_n_samples1_random_SP/skf42469\n",
      "/home/enf/b2ar_analysis/sparse-tICA_t5_n_components2all_residues_2rh1_3sn6_under_cutoff6A_regularization_wolf_autoShrinkage_rho0pt01/docking_n_clusters25_n_samples1_random_SP/bisoprolol\n",
      "/home/enf/b2ar_analysis/sparse-tICA_t5_n_components2all_residues_2rh1_3sn6_under_cutoff6A_regularization_wolf_autoShrinkage_rho0pt01/docking_n_clusters25_n_samples1_random_SP/skf56301\n",
      "/home/enf/b2ar_analysis/sparse-tICA_t5_n_components2all_residues_2rh1_3sn6_under_cutoff6A_regularization_wolf_autoShrinkage_rho0pt01/docking_n_clusters25_n_samples1_random_SP/bucindolol\n",
      "/home/enf/b2ar_analysis/sparse-tICA_t5_n_components2all_residues_2rh1_3sn6_under_cutoff6A_regularization_wolf_autoShrinkage_rho0pt01/docking_n_clusters25_n_samples1_random_SP/nipradilol\n",
      "/home/enf/b2ar_analysis/sparse-tICA_t5_n_components2all_residues_2rh1_3sn6_under_cutoff6A_regularization_wolf_autoShrinkage_rho0pt01/docking_n_clusters25_n_samples1_random_SP/TERBSN\n",
      "/home/enf/b2ar_analysis/sparse-tICA_t5_n_components2all_residues_2rh1_3sn6_under_cutoff6A_regularization_wolf_autoShrinkage_rho0pt01/docking_n_clusters25_n_samples1_random_SP/epinine\n",
      "/home/enf/b2ar_analysis/sparse-tICA_t5_n_components2all_residues_2rh1_3sn6_under_cutoff6A_regularization_wolf_autoShrinkage_rho0pt01/docking_n_clusters25_n_samples1_random_SP/s-carvedilol\n",
      "/home/enf/b2ar_analysis/sparse-tICA_t5_n_components2all_residues_2rh1_3sn6_under_cutoff6A_regularization_wolf_autoShrinkage_rho0pt01/docking_n_clusters25_n_samples1_random_SP/dobutamine\n",
      "/home/enf/b2ar_analysis/sparse-tICA_t5_n_components2all_residues_2rh1_3sn6_under_cutoff6A_regularization_wolf_autoShrinkage_rho0pt01/docking_n_clusters25_n_samples1_random_SP/broxaterol\n",
      "/home/enf/b2ar_analysis/sparse-tICA_t5_n_components2all_residues_2rh1_3sn6_under_cutoff6A_regularization_wolf_autoShrinkage_rho0pt01/docking_n_clusters25_n_samples1_random_SP/bevantolol\n",
      "['clenbuterol', 'labetalol', 'cimaterol', 'olodaterol', 't-0509', 'isoetharine', 'nadolol', 'formoterol', 'fenoterol', 's-atenolol', '3p0g_lig', 'acebutolol', 'isoetharine_prep', 'Structure2D_CID_3343', 'ah3021', 'Ici215001', 'practolol', 's-carvedilol_prep', 'Ici118551', 'ritrodine', 'isopropylnorsynephrine', 'r_epinephrine', 'du28663', 'sotalol', 'r_isopreterenol', 'propranolol', 'metoprolol', 'timolol', 'norepinephrine', 'procaterol', 'ZINC_results-single', 'orciprenaline', 'pindolol', 'nor-metanephrine', 'salmeterol', 'zinterol', 'cicloprolol', 'pronethalol', 'ah3474', 'Tulobuterol', 'alprenalol', 'du211117', 'cgp12177', 'nebivolol', 'MAPE', 'dopamine', 'dichloroisopreterenol', 'N-Cyclopentylbutanephrine', 'terbutaline', 'hexoprenaline', 'sulfonterol', 'bupranolol', 'clenproperol', 'ethylnorepinephrine', 'ta-2005', 's-carazolol', 'salbutamol', 'adrenalone', 'Ici89406', 'xamoterol', 'skf42469', 'bisoprolol', 'skf56301', 'bucindolol', 'nipradilol', 'TERBSN', 'epinine', 's-carvedilol', 'dobutamine', 'broxaterol', 'bevantolol']\n",
      "currently analyzing clenbuterol\n",
      "currently analyzing labetalol\n",
      "currently analyzing cimaterol\n",
      "currently analyzing olodaterol\n",
      "currently analyzing t-0509\n",
      "currently analyzing isoetharine\n",
      "currently analyzing nadolol\n",
      "currently analyzing formoterol\n",
      "currently analyzing fenoterol\n",
      "currently analyzing s-atenolol\n",
      "currently analyzing 3p0g_lig\n",
      "currently analyzing acebutolol\n",
      "currently analyzing isoetharine_prep\n",
      "currently analyzing Structure2D_CID_3343\n",
      "currently analyzing ah3021\n",
      "currently analyzing Ici215001\n",
      "currently analyzing practolol\n",
      "currently analyzing s-carvedilol_prep\n",
      "currently analyzing Ici118551\n",
      "currently analyzing ritrodine\n",
      "currently analyzing isopropylnorsynephrine\n",
      "currently analyzing r_epinephrine\n",
      "currently analyzing du28663\n",
      "currently analyzing sotalol\n",
      "currently analyzing r_isopreterenol\n",
      "currently analyzing propranolol\n",
      "currently analyzing metoprolol\n",
      "currently analyzing timolol\n",
      "currently analyzing norepinephrine\n",
      "currently analyzing procaterol\n",
      "currently analyzing ZINC_results-single\n",
      "currently analyzing orciprenaline\n",
      "currently analyzing pindolol\n",
      "currently analyzing nor-metanephrine\n",
      "currently analyzing salmeterol\n",
      "currently analyzing zinterol\n",
      "currently analyzing cicloprolol\n",
      "currently analyzing pronethalol\n",
      "currently analyzing ah3474\n",
      "currently analyzing Tulobuterol\n",
      "currently analyzing alprenalol\n",
      "currently analyzing du211117\n",
      "currently analyzing cgp12177\n",
      "currently analyzing nebivolol\n",
      "currently analyzing MAPE\n",
      "currently analyzing dopamine\n",
      "currently analyzing dichloroisopreterenol\n",
      "currently analyzing N-Cyclopentylbutanephrine\n",
      "currently analyzing terbutaline\n",
      "currently analyzing hexoprenaline\n",
      "currently analyzing sulfonterol\n",
      "currently analyzing bupranolol\n",
      "currently analyzing clenproperol\n",
      "currently analyzing ethylnorepinephrine\n",
      "currently analyzing ta-2005\n",
      "currently analyzing s-carazolol\n",
      "currently analyzing salbutamol\n",
      "currently analyzing adrenalone\n",
      "currently analyzing Ici89406\n",
      "currently analyzing xamoterol\n",
      "currently analyzing skf42469\n",
      "currently analyzing bisoprolol\n",
      "currently analyzing skf56301\n",
      "currently analyzing bucindolol\n",
      "currently analyzing nipradilol\n",
      "currently analyzing TERBSN\n",
      "currently analyzing epinine\n",
      "currently analyzing s-carvedilol\n",
      "currently analyzing dobutamine\n",
      "currently analyzing broxaterol\n",
      "currently analyzing bevantolol\n"
     ]
    }
   ],
   "source": [
    "all_ligands = get_ligands(\"/home/enf/b2ar_analysis/all_ligands\")\n",
    "analyze_docking_results_multiple(docking_dir, precision = \"SP\", ligands = all_ligands, summary = docking_multiple_ligands, redo = True)\n",
    "c = compute_cluster_averages(None, csv_filename=docking_multiple_ligands, save_csv=aggregate_docking)\n",
    "\n",
    "#compute_aggregate_scores(docking_multiple_ligands, inverse_agonists = inverse_ligands, summary = aggregate_docking, z_scores_csv = docking_z_scores_csv)\n",
    "#aggregate_docking_joined_map = convert_csv_to_joined_map(aggregate_docking, aggregate_docking_joined)[0]\n",
    "#aggregate_docking_means = calc_mean(aggregate_docking_joined_map)\n",
    "#write_map_to_csv(aggregate_docking_joined, aggregate_docking_means, [\"cluster\", \"mean_aggregate_docking_z_score\"])\n",
    "#r['do.analysis'](tica_dir, analysis_dir, pnas_coords_csv, tica_coords_csv, features_dir, docking_multiple_ligands)\n",
    "#tics_vs_docking_file = \"%s/tICA_vs_docking_carazolol.pdf\" % analysis_dir\n",
    "#plot_tICs_vs_docking(docking_multiple_ligands, tica_coords_csv, tics_vs_docking_file, chosen_ligand=\"s-carazolol\")\n"
   ]
  },
  {
   "cell_type": "code",
   "execution_count": 28,
   "metadata": {
    "collapsed": false
   },
   "outputs": [
    {
     "data": {
      "text/html": [
       "<div>\n",
       "<table border=\"1\" class=\"dataframe\">\n",
       "  <thead>\n",
       "    <tr style=\"text-align: right;\">\n",
       "      <th></th>\n",
       "      <th>clenbuterol</th>\n",
       "      <th>labetalol</th>\n",
       "      <th>cimaterol</th>\n",
       "      <th>olodaterol</th>\n",
       "      <th>t-0509</th>\n",
       "      <th>isoetharine</th>\n",
       "      <th>nadolol</th>\n",
       "      <th>formoterol</th>\n",
       "      <th>fenoterol</th>\n",
       "      <th>s-atenolol</th>\n",
       "      <th>...</th>\n",
       "      <th>bisoprolol</th>\n",
       "      <th>skf56301</th>\n",
       "      <th>bucindolol</th>\n",
       "      <th>nipradilol</th>\n",
       "      <th>TERBSN</th>\n",
       "      <th>epinine</th>\n",
       "      <th>s-carvedilol</th>\n",
       "      <th>dobutamine</th>\n",
       "      <th>broxaterol</th>\n",
       "      <th>bevantolol</th>\n",
       "    </tr>\n",
       "  </thead>\n",
       "  <tbody>\n",
       "    <tr>\n",
       "      <th>cluster0</th>\n",
       "      <td>8.80</td>\n",
       "      <td>10.57</td>\n",
       "      <td>8.41</td>\n",
       "      <td>11.18</td>\n",
       "      <td>9.82</td>\n",
       "      <td>7.84</td>\n",
       "      <td>8.05</td>\n",
       "      <td>9.78</td>\n",
       "      <td>10.05</td>\n",
       "      <td>6.58</td>\n",
       "      <td>...</td>\n",
       "      <td>6.82</td>\n",
       "      <td>7.69</td>\n",
       "      <td>10.15</td>\n",
       "      <td>7.79</td>\n",
       "      <td>7.77</td>\n",
       "      <td>7.44</td>\n",
       "      <td>10.91</td>\n",
       "      <td>9.03</td>\n",
       "      <td>6.81</td>\n",
       "      <td>9.88</td>\n",
       "    </tr>\n",
       "    <tr>\n",
       "      <th>cluster10</th>\n",
       "      <td>7.85</td>\n",
       "      <td>8.80</td>\n",
       "      <td>7.87</td>\n",
       "      <td>8.43</td>\n",
       "      <td>7.50</td>\n",
       "      <td>7.31</td>\n",
       "      <td>5.83</td>\n",
       "      <td>8.39</td>\n",
       "      <td>8.79</td>\n",
       "      <td>4.86</td>\n",
       "      <td>...</td>\n",
       "      <td>6.14</td>\n",
       "      <td>8.89</td>\n",
       "      <td>7.66</td>\n",
       "      <td>6.52</td>\n",
       "      <td>7.37</td>\n",
       "      <td>5.74</td>\n",
       "      <td>8.46</td>\n",
       "      <td>7.13</td>\n",
       "      <td>6.55</td>\n",
       "      <td>8.30</td>\n",
       "    </tr>\n",
       "    <tr>\n",
       "      <th>cluster11</th>\n",
       "      <td>7.96</td>\n",
       "      <td>9.14</td>\n",
       "      <td>8.48</td>\n",
       "      <td>9.52</td>\n",
       "      <td>9.38</td>\n",
       "      <td>7.24</td>\n",
       "      <td>9.02</td>\n",
       "      <td>8.05</td>\n",
       "      <td>8.31</td>\n",
       "      <td>7.36</td>\n",
       "      <td>...</td>\n",
       "      <td>6.40</td>\n",
       "      <td>8.13</td>\n",
       "      <td>9.17</td>\n",
       "      <td>6.15</td>\n",
       "      <td>8.08</td>\n",
       "      <td>5.18</td>\n",
       "      <td>10.44</td>\n",
       "      <td>7.92</td>\n",
       "      <td>7.49</td>\n",
       "      <td>7.86</td>\n",
       "    </tr>\n",
       "    <tr>\n",
       "      <th>cluster12</th>\n",
       "      <td>8.93</td>\n",
       "      <td>9.45</td>\n",
       "      <td>8.83</td>\n",
       "      <td>10.85</td>\n",
       "      <td>8.87</td>\n",
       "      <td>8.42</td>\n",
       "      <td>6.86</td>\n",
       "      <td>8.90</td>\n",
       "      <td>8.68</td>\n",
       "      <td>5.73</td>\n",
       "      <td>...</td>\n",
       "      <td>6.58</td>\n",
       "      <td>9.29</td>\n",
       "      <td>9.96</td>\n",
       "      <td>6.43</td>\n",
       "      <td>8.72</td>\n",
       "      <td>7.17</td>\n",
       "      <td>9.10</td>\n",
       "      <td>8.73</td>\n",
       "      <td>7.25</td>\n",
       "      <td>7.37</td>\n",
       "    </tr>\n",
       "    <tr>\n",
       "      <th>cluster13</th>\n",
       "      <td>8.35</td>\n",
       "      <td>10.72</td>\n",
       "      <td>8.16</td>\n",
       "      <td>9.55</td>\n",
       "      <td>9.48</td>\n",
       "      <td>7.94</td>\n",
       "      <td>7.05</td>\n",
       "      <td>8.72</td>\n",
       "      <td>9.46</td>\n",
       "      <td>6.62</td>\n",
       "      <td>...</td>\n",
       "      <td>5.94</td>\n",
       "      <td>7.25</td>\n",
       "      <td>9.58</td>\n",
       "      <td>7.13</td>\n",
       "      <td>7.63</td>\n",
       "      <td>6.95</td>\n",
       "      <td>10.30</td>\n",
       "      <td>9.45</td>\n",
       "      <td>7.33</td>\n",
       "      <td>9.12</td>\n",
       "    </tr>\n",
       "    <tr>\n",
       "      <th>cluster14</th>\n",
       "      <td>7.06</td>\n",
       "      <td>9.71</td>\n",
       "      <td>6.90</td>\n",
       "      <td>12.33</td>\n",
       "      <td>8.33</td>\n",
       "      <td>6.77</td>\n",
       "      <td>7.64</td>\n",
       "      <td>8.22</td>\n",
       "      <td>8.62</td>\n",
       "      <td>5.01</td>\n",
       "      <td>...</td>\n",
       "      <td>7.97</td>\n",
       "      <td>8.01</td>\n",
       "      <td>9.19</td>\n",
       "      <td>5.27</td>\n",
       "      <td>7.49</td>\n",
       "      <td>6.09</td>\n",
       "      <td>8.01</td>\n",
       "      <td>8.66</td>\n",
       "      <td>6.68</td>\n",
       "      <td>7.31</td>\n",
       "    </tr>\n",
       "    <tr>\n",
       "      <th>cluster15</th>\n",
       "      <td>7.51</td>\n",
       "      <td>9.99</td>\n",
       "      <td>7.77</td>\n",
       "      <td>9.58</td>\n",
       "      <td>8.57</td>\n",
       "      <td>7.49</td>\n",
       "      <td>7.33</td>\n",
       "      <td>9.13</td>\n",
       "      <td>7.90</td>\n",
       "      <td>6.60</td>\n",
       "      <td>...</td>\n",
       "      <td>6.42</td>\n",
       "      <td>7.74</td>\n",
       "      <td>8.12</td>\n",
       "      <td>7.37</td>\n",
       "      <td>7.54</td>\n",
       "      <td>6.35</td>\n",
       "      <td>9.65</td>\n",
       "      <td>8.30</td>\n",
       "      <td>7.02</td>\n",
       "      <td>7.57</td>\n",
       "    </tr>\n",
       "    <tr>\n",
       "      <th>cluster16</th>\n",
       "      <td>8.13</td>\n",
       "      <td>9.08</td>\n",
       "      <td>8.15</td>\n",
       "      <td>9.31</td>\n",
       "      <td>8.37</td>\n",
       "      <td>7.52</td>\n",
       "      <td>6.92</td>\n",
       "      <td>8.26</td>\n",
       "      <td>8.25</td>\n",
       "      <td>5.63</td>\n",
       "      <td>...</td>\n",
       "      <td>6.23</td>\n",
       "      <td>7.44</td>\n",
       "      <td>9.59</td>\n",
       "      <td>6.23</td>\n",
       "      <td>7.85</td>\n",
       "      <td>6.58</td>\n",
       "      <td>7.95</td>\n",
       "      <td>8.10</td>\n",
       "      <td>7.17</td>\n",
       "      <td>7.21</td>\n",
       "    </tr>\n",
       "    <tr>\n",
       "      <th>cluster17</th>\n",
       "      <td>7.71</td>\n",
       "      <td>9.78</td>\n",
       "      <td>7.79</td>\n",
       "      <td>8.35</td>\n",
       "      <td>8.52</td>\n",
       "      <td>6.74</td>\n",
       "      <td>6.74</td>\n",
       "      <td>7.90</td>\n",
       "      <td>7.54</td>\n",
       "      <td>6.25</td>\n",
       "      <td>...</td>\n",
       "      <td>6.69</td>\n",
       "      <td>7.62</td>\n",
       "      <td>8.92</td>\n",
       "      <td>6.58</td>\n",
       "      <td>7.21</td>\n",
       "      <td>5.80</td>\n",
       "      <td>9.66</td>\n",
       "      <td>7.69</td>\n",
       "      <td>7.06</td>\n",
       "      <td>8.73</td>\n",
       "    </tr>\n",
       "    <tr>\n",
       "      <th>cluster18</th>\n",
       "      <td>7.58</td>\n",
       "      <td>10.41</td>\n",
       "      <td>7.80</td>\n",
       "      <td>9.80</td>\n",
       "      <td>9.78</td>\n",
       "      <td>7.14</td>\n",
       "      <td>9.10</td>\n",
       "      <td>11.08</td>\n",
       "      <td>9.44</td>\n",
       "      <td>5.90</td>\n",
       "      <td>...</td>\n",
       "      <td>6.36</td>\n",
       "      <td>7.31</td>\n",
       "      <td>9.82</td>\n",
       "      <td>8.19</td>\n",
       "      <td>6.44</td>\n",
       "      <td>7.28</td>\n",
       "      <td>11.11</td>\n",
       "      <td>8.63</td>\n",
       "      <td>6.48</td>\n",
       "      <td>8.53</td>\n",
       "    </tr>\n",
       "    <tr>\n",
       "      <th>cluster19</th>\n",
       "      <td>7.60</td>\n",
       "      <td>9.31</td>\n",
       "      <td>8.26</td>\n",
       "      <td>9.50</td>\n",
       "      <td>7.35</td>\n",
       "      <td>7.10</td>\n",
       "      <td>6.84</td>\n",
       "      <td>7.78</td>\n",
       "      <td>9.07</td>\n",
       "      <td>4.53</td>\n",
       "      <td>...</td>\n",
       "      <td>5.64</td>\n",
       "      <td>7.51</td>\n",
       "      <td>7.73</td>\n",
       "      <td>6.20</td>\n",
       "      <td>8.07</td>\n",
       "      <td>6.78</td>\n",
       "      <td>7.71</td>\n",
       "      <td>8.49</td>\n",
       "      <td>7.08</td>\n",
       "      <td>7.14</td>\n",
       "    </tr>\n",
       "    <tr>\n",
       "      <th>cluster1</th>\n",
       "      <td>7.02</td>\n",
       "      <td>9.03</td>\n",
       "      <td>7.12</td>\n",
       "      <td>8.88</td>\n",
       "      <td>8.86</td>\n",
       "      <td>6.52</td>\n",
       "      <td>8.37</td>\n",
       "      <td>9.80</td>\n",
       "      <td>8.77</td>\n",
       "      <td>5.67</td>\n",
       "      <td>...</td>\n",
       "      <td>6.68</td>\n",
       "      <td>7.03</td>\n",
       "      <td>9.27</td>\n",
       "      <td>7.47</td>\n",
       "      <td>6.59</td>\n",
       "      <td>6.45</td>\n",
       "      <td>10.09</td>\n",
       "      <td>8.12</td>\n",
       "      <td>6.19</td>\n",
       "      <td>7.37</td>\n",
       "    </tr>\n",
       "    <tr>\n",
       "      <th>cluster20</th>\n",
       "      <td>5.60</td>\n",
       "      <td>9.51</td>\n",
       "      <td>6.06</td>\n",
       "      <td>7.58</td>\n",
       "      <td>8.77</td>\n",
       "      <td>7.14</td>\n",
       "      <td>5.94</td>\n",
       "      <td>7.91</td>\n",
       "      <td>7.40</td>\n",
       "      <td>4.26</td>\n",
       "      <td>...</td>\n",
       "      <td>5.91</td>\n",
       "      <td>6.24</td>\n",
       "      <td>8.58</td>\n",
       "      <td>6.16</td>\n",
       "      <td>6.56</td>\n",
       "      <td>5.45</td>\n",
       "      <td>9.07</td>\n",
       "      <td>7.25</td>\n",
       "      <td>5.89</td>\n",
       "      <td>8.19</td>\n",
       "    </tr>\n",
       "    <tr>\n",
       "      <th>cluster21</th>\n",
       "      <td>6.16</td>\n",
       "      <td>7.31</td>\n",
       "      <td>6.19</td>\n",
       "      <td>6.28</td>\n",
       "      <td>8.17</td>\n",
       "      <td>5.73</td>\n",
       "      <td>7.00</td>\n",
       "      <td>6.68</td>\n",
       "      <td>6.44</td>\n",
       "      <td>5.30</td>\n",
       "      <td>...</td>\n",
       "      <td>6.13</td>\n",
       "      <td>5.62</td>\n",
       "      <td>7.99</td>\n",
       "      <td>6.29</td>\n",
       "      <td>5.13</td>\n",
       "      <td>5.02</td>\n",
       "      <td>8.36</td>\n",
       "      <td>6.33</td>\n",
       "      <td>5.19</td>\n",
       "      <td>7.69</td>\n",
       "    </tr>\n",
       "    <tr>\n",
       "      <th>cluster22</th>\n",
       "      <td>7.62</td>\n",
       "      <td>9.10</td>\n",
       "      <td>7.33</td>\n",
       "      <td>9.72</td>\n",
       "      <td>8.54</td>\n",
       "      <td>6.86</td>\n",
       "      <td>6.11</td>\n",
       "      <td>7.23</td>\n",
       "      <td>8.13</td>\n",
       "      <td>6.68</td>\n",
       "      <td>...</td>\n",
       "      <td>5.91</td>\n",
       "      <td>7.51</td>\n",
       "      <td>9.14</td>\n",
       "      <td>5.37</td>\n",
       "      <td>6.81</td>\n",
       "      <td>6.05</td>\n",
       "      <td>8.93</td>\n",
       "      <td>7.55</td>\n",
       "      <td>6.70</td>\n",
       "      <td>7.72</td>\n",
       "    </tr>\n",
       "    <tr>\n",
       "      <th>cluster23</th>\n",
       "      <td>7.79</td>\n",
       "      <td>10.35</td>\n",
       "      <td>7.41</td>\n",
       "      <td>10.53</td>\n",
       "      <td>8.38</td>\n",
       "      <td>6.80</td>\n",
       "      <td>6.54</td>\n",
       "      <td>8.18</td>\n",
       "      <td>9.33</td>\n",
       "      <td>5.27</td>\n",
       "      <td>...</td>\n",
       "      <td>5.70</td>\n",
       "      <td>7.68</td>\n",
       "      <td>9.18</td>\n",
       "      <td>6.43</td>\n",
       "      <td>7.39</td>\n",
       "      <td>5.88</td>\n",
       "      <td>10.03</td>\n",
       "      <td>8.35</td>\n",
       "      <td>6.90</td>\n",
       "      <td>8.96</td>\n",
       "    </tr>\n",
       "    <tr>\n",
       "      <th>cluster24</th>\n",
       "      <td>6.74</td>\n",
       "      <td>8.53</td>\n",
       "      <td>7.70</td>\n",
       "      <td>9.05</td>\n",
       "      <td>8.78</td>\n",
       "      <td>6.87</td>\n",
       "      <td>7.41</td>\n",
       "      <td>6.69</td>\n",
       "      <td>8.09</td>\n",
       "      <td>4.03</td>\n",
       "      <td>...</td>\n",
       "      <td>8.50</td>\n",
       "      <td>7.65</td>\n",
       "      <td>6.95</td>\n",
       "      <td>5.13</td>\n",
       "      <td>7.24</td>\n",
       "      <td>6.51</td>\n",
       "      <td>7.30</td>\n",
       "      <td>8.66</td>\n",
       "      <td>6.45</td>\n",
       "      <td>6.80</td>\n",
       "    </tr>\n",
       "    <tr>\n",
       "      <th>cluster2</th>\n",
       "      <td>8.17</td>\n",
       "      <td>9.37</td>\n",
       "      <td>8.56</td>\n",
       "      <td>10.73</td>\n",
       "      <td>8.57</td>\n",
       "      <td>8.75</td>\n",
       "      <td>6.93</td>\n",
       "      <td>8.22</td>\n",
       "      <td>7.73</td>\n",
       "      <td>5.67</td>\n",
       "      <td>...</td>\n",
       "      <td>7.20</td>\n",
       "      <td>9.17</td>\n",
       "      <td>8.45</td>\n",
       "      <td>4.56</td>\n",
       "      <td>8.45</td>\n",
       "      <td>6.77</td>\n",
       "      <td>6.70</td>\n",
       "      <td>9.02</td>\n",
       "      <td>7.02</td>\n",
       "      <td>7.84</td>\n",
       "    </tr>\n",
       "    <tr>\n",
       "      <th>cluster3</th>\n",
       "      <td>8.06</td>\n",
       "      <td>8.75</td>\n",
       "      <td>8.83</td>\n",
       "      <td>11.87</td>\n",
       "      <td>8.84</td>\n",
       "      <td>8.44</td>\n",
       "      <td>6.95</td>\n",
       "      <td>8.00</td>\n",
       "      <td>9.58</td>\n",
       "      <td>4.84</td>\n",
       "      <td>...</td>\n",
       "      <td>5.55</td>\n",
       "      <td>8.30</td>\n",
       "      <td>8.37</td>\n",
       "      <td>6.59</td>\n",
       "      <td>8.80</td>\n",
       "      <td>7.17</td>\n",
       "      <td>10.00</td>\n",
       "      <td>9.05</td>\n",
       "      <td>6.10</td>\n",
       "      <td>7.36</td>\n",
       "    </tr>\n",
       "    <tr>\n",
       "      <th>cluster4</th>\n",
       "      <td>8.75</td>\n",
       "      <td>9.17</td>\n",
       "      <td>8.99</td>\n",
       "      <td>11.47</td>\n",
       "      <td>8.07</td>\n",
       "      <td>6.68</td>\n",
       "      <td>7.44</td>\n",
       "      <td>8.24</td>\n",
       "      <td>8.40</td>\n",
       "      <td>5.38</td>\n",
       "      <td>...</td>\n",
       "      <td>6.07</td>\n",
       "      <td>8.60</td>\n",
       "      <td>9.66</td>\n",
       "      <td>7.50</td>\n",
       "      <td>8.18</td>\n",
       "      <td>6.62</td>\n",
       "      <td>9.22</td>\n",
       "      <td>9.19</td>\n",
       "      <td>6.78</td>\n",
       "      <td>8.72</td>\n",
       "    </tr>\n",
       "    <tr>\n",
       "      <th>cluster5</th>\n",
       "      <td>7.73</td>\n",
       "      <td>8.98</td>\n",
       "      <td>8.12</td>\n",
       "      <td>8.80</td>\n",
       "      <td>7.18</td>\n",
       "      <td>6.76</td>\n",
       "      <td>7.73</td>\n",
       "      <td>7.25</td>\n",
       "      <td>8.43</td>\n",
       "      <td>6.00</td>\n",
       "      <td>...</td>\n",
       "      <td>5.15</td>\n",
       "      <td>7.44</td>\n",
       "      <td>8.45</td>\n",
       "      <td>5.69</td>\n",
       "      <td>7.18</td>\n",
       "      <td>5.79</td>\n",
       "      <td>9.12</td>\n",
       "      <td>7.52</td>\n",
       "      <td>6.95</td>\n",
       "      <td>7.30</td>\n",
       "    </tr>\n",
       "    <tr>\n",
       "      <th>cluster6</th>\n",
       "      <td>7.97</td>\n",
       "      <td>10.77</td>\n",
       "      <td>8.68</td>\n",
       "      <td>10.35</td>\n",
       "      <td>9.57</td>\n",
       "      <td>8.72</td>\n",
       "      <td>7.06</td>\n",
       "      <td>9.01</td>\n",
       "      <td>10.09</td>\n",
       "      <td>6.16</td>\n",
       "      <td>...</td>\n",
       "      <td>8.67</td>\n",
       "      <td>8.24</td>\n",
       "      <td>10.04</td>\n",
       "      <td>7.92</td>\n",
       "      <td>7.79</td>\n",
       "      <td>7.28</td>\n",
       "      <td>10.17</td>\n",
       "      <td>9.58</td>\n",
       "      <td>6.87</td>\n",
       "      <td>9.21</td>\n",
       "    </tr>\n",
       "    <tr>\n",
       "      <th>cluster7</th>\n",
       "      <td>8.84</td>\n",
       "      <td>10.02</td>\n",
       "      <td>9.32</td>\n",
       "      <td>11.21</td>\n",
       "      <td>9.89</td>\n",
       "      <td>8.64</td>\n",
       "      <td>7.87</td>\n",
       "      <td>9.05</td>\n",
       "      <td>9.18</td>\n",
       "      <td>5.47</td>\n",
       "      <td>...</td>\n",
       "      <td>7.70</td>\n",
       "      <td>9.20</td>\n",
       "      <td>10.76</td>\n",
       "      <td>8.95</td>\n",
       "      <td>8.75</td>\n",
       "      <td>6.37</td>\n",
       "      <td>10.68</td>\n",
       "      <td>8.86</td>\n",
       "      <td>8.01</td>\n",
       "      <td>8.93</td>\n",
       "    </tr>\n",
       "    <tr>\n",
       "      <th>cluster8</th>\n",
       "      <td>9.09</td>\n",
       "      <td>10.36</td>\n",
       "      <td>8.83</td>\n",
       "      <td>12.51</td>\n",
       "      <td>10.13</td>\n",
       "      <td>8.20</td>\n",
       "      <td>8.60</td>\n",
       "      <td>9.64</td>\n",
       "      <td>11.24</td>\n",
       "      <td>5.89</td>\n",
       "      <td>...</td>\n",
       "      <td>8.68</td>\n",
       "      <td>8.82</td>\n",
       "      <td>10.39</td>\n",
       "      <td>7.45</td>\n",
       "      <td>8.43</td>\n",
       "      <td>7.43</td>\n",
       "      <td>9.58</td>\n",
       "      <td>10.74</td>\n",
       "      <td>7.39</td>\n",
       "      <td>8.15</td>\n",
       "    </tr>\n",
       "    <tr>\n",
       "      <th>cluster9</th>\n",
       "      <td>8.22</td>\n",
       "      <td>9.98</td>\n",
       "      <td>8.95</td>\n",
       "      <td>11.41</td>\n",
       "      <td>8.79</td>\n",
       "      <td>7.73</td>\n",
       "      <td>6.44</td>\n",
       "      <td>8.60</td>\n",
       "      <td>9.63</td>\n",
       "      <td>4.95</td>\n",
       "      <td>...</td>\n",
       "      <td>6.22</td>\n",
       "      <td>8.26</td>\n",
       "      <td>9.06</td>\n",
       "      <td>5.54</td>\n",
       "      <td>8.05</td>\n",
       "      <td>6.79</td>\n",
       "      <td>10.18</td>\n",
       "      <td>8.04</td>\n",
       "      <td>7.37</td>\n",
       "      <td>8.11</td>\n",
       "    </tr>\n",
       "  </tbody>\n",
       "</table>\n",
       "<p>25 rows × 71 columns</p>\n",
       "</div>"
      ],
      "text/plain": [
       "           clenbuterol  labetalol  cimaterol  olodaterol  t-0509  isoetharine  \\\n",
       "cluster0          8.80      10.57       8.41       11.18    9.82         7.84   \n",
       "cluster10         7.85       8.80       7.87        8.43    7.50         7.31   \n",
       "cluster11         7.96       9.14       8.48        9.52    9.38         7.24   \n",
       "cluster12         8.93       9.45       8.83       10.85    8.87         8.42   \n",
       "cluster13         8.35      10.72       8.16        9.55    9.48         7.94   \n",
       "cluster14         7.06       9.71       6.90       12.33    8.33         6.77   \n",
       "cluster15         7.51       9.99       7.77        9.58    8.57         7.49   \n",
       "cluster16         8.13       9.08       8.15        9.31    8.37         7.52   \n",
       "cluster17         7.71       9.78       7.79        8.35    8.52         6.74   \n",
       "cluster18         7.58      10.41       7.80        9.80    9.78         7.14   \n",
       "cluster19         7.60       9.31       8.26        9.50    7.35         7.10   \n",
       "cluster1          7.02       9.03       7.12        8.88    8.86         6.52   \n",
       "cluster20         5.60       9.51       6.06        7.58    8.77         7.14   \n",
       "cluster21         6.16       7.31       6.19        6.28    8.17         5.73   \n",
       "cluster22         7.62       9.10       7.33        9.72    8.54         6.86   \n",
       "cluster23         7.79      10.35       7.41       10.53    8.38         6.80   \n",
       "cluster24         6.74       8.53       7.70        9.05    8.78         6.87   \n",
       "cluster2          8.17       9.37       8.56       10.73    8.57         8.75   \n",
       "cluster3          8.06       8.75       8.83       11.87    8.84         8.44   \n",
       "cluster4          8.75       9.17       8.99       11.47    8.07         6.68   \n",
       "cluster5          7.73       8.98       8.12        8.80    7.18         6.76   \n",
       "cluster6          7.97      10.77       8.68       10.35    9.57         8.72   \n",
       "cluster7          8.84      10.02       9.32       11.21    9.89         8.64   \n",
       "cluster8          9.09      10.36       8.83       12.51   10.13         8.20   \n",
       "cluster9          8.22       9.98       8.95       11.41    8.79         7.73   \n",
       "\n",
       "           nadolol  formoterol  fenoterol  s-atenolol     ...      bisoprolol  \\\n",
       "cluster0      8.05        9.78      10.05        6.58     ...            6.82   \n",
       "cluster10     5.83        8.39       8.79        4.86     ...            6.14   \n",
       "cluster11     9.02        8.05       8.31        7.36     ...            6.40   \n",
       "cluster12     6.86        8.90       8.68        5.73     ...            6.58   \n",
       "cluster13     7.05        8.72       9.46        6.62     ...            5.94   \n",
       "cluster14     7.64        8.22       8.62        5.01     ...            7.97   \n",
       "cluster15     7.33        9.13       7.90        6.60     ...            6.42   \n",
       "cluster16     6.92        8.26       8.25        5.63     ...            6.23   \n",
       "cluster17     6.74        7.90       7.54        6.25     ...            6.69   \n",
       "cluster18     9.10       11.08       9.44        5.90     ...            6.36   \n",
       "cluster19     6.84        7.78       9.07        4.53     ...            5.64   \n",
       "cluster1      8.37        9.80       8.77        5.67     ...            6.68   \n",
       "cluster20     5.94        7.91       7.40        4.26     ...            5.91   \n",
       "cluster21     7.00        6.68       6.44        5.30     ...            6.13   \n",
       "cluster22     6.11        7.23       8.13        6.68     ...            5.91   \n",
       "cluster23     6.54        8.18       9.33        5.27     ...            5.70   \n",
       "cluster24     7.41        6.69       8.09        4.03     ...            8.50   \n",
       "cluster2      6.93        8.22       7.73        5.67     ...            7.20   \n",
       "cluster3      6.95        8.00       9.58        4.84     ...            5.55   \n",
       "cluster4      7.44        8.24       8.40        5.38     ...            6.07   \n",
       "cluster5      7.73        7.25       8.43        6.00     ...            5.15   \n",
       "cluster6      7.06        9.01      10.09        6.16     ...            8.67   \n",
       "cluster7      7.87        9.05       9.18        5.47     ...            7.70   \n",
       "cluster8      8.60        9.64      11.24        5.89     ...            8.68   \n",
       "cluster9      6.44        8.60       9.63        4.95     ...            6.22   \n",
       "\n",
       "           skf56301  bucindolol  nipradilol  TERBSN  epinine  s-carvedilol  \\\n",
       "cluster0       7.69       10.15        7.79    7.77     7.44         10.91   \n",
       "cluster10      8.89        7.66        6.52    7.37     5.74          8.46   \n",
       "cluster11      8.13        9.17        6.15    8.08     5.18         10.44   \n",
       "cluster12      9.29        9.96        6.43    8.72     7.17          9.10   \n",
       "cluster13      7.25        9.58        7.13    7.63     6.95         10.30   \n",
       "cluster14      8.01        9.19        5.27    7.49     6.09          8.01   \n",
       "cluster15      7.74        8.12        7.37    7.54     6.35          9.65   \n",
       "cluster16      7.44        9.59        6.23    7.85     6.58          7.95   \n",
       "cluster17      7.62        8.92        6.58    7.21     5.80          9.66   \n",
       "cluster18      7.31        9.82        8.19    6.44     7.28         11.11   \n",
       "cluster19      7.51        7.73        6.20    8.07     6.78          7.71   \n",
       "cluster1       7.03        9.27        7.47    6.59     6.45         10.09   \n",
       "cluster20      6.24        8.58        6.16    6.56     5.45          9.07   \n",
       "cluster21      5.62        7.99        6.29    5.13     5.02          8.36   \n",
       "cluster22      7.51        9.14        5.37    6.81     6.05          8.93   \n",
       "cluster23      7.68        9.18        6.43    7.39     5.88         10.03   \n",
       "cluster24      7.65        6.95        5.13    7.24     6.51          7.30   \n",
       "cluster2       9.17        8.45        4.56    8.45     6.77          6.70   \n",
       "cluster3       8.30        8.37        6.59    8.80     7.17         10.00   \n",
       "cluster4       8.60        9.66        7.50    8.18     6.62          9.22   \n",
       "cluster5       7.44        8.45        5.69    7.18     5.79          9.12   \n",
       "cluster6       8.24       10.04        7.92    7.79     7.28         10.17   \n",
       "cluster7       9.20       10.76        8.95    8.75     6.37         10.68   \n",
       "cluster8       8.82       10.39        7.45    8.43     7.43          9.58   \n",
       "cluster9       8.26        9.06        5.54    8.05     6.79         10.18   \n",
       "\n",
       "           dobutamine  broxaterol  bevantolol  \n",
       "cluster0         9.03        6.81        9.88  \n",
       "cluster10        7.13        6.55        8.30  \n",
       "cluster11        7.92        7.49        7.86  \n",
       "cluster12        8.73        7.25        7.37  \n",
       "cluster13        9.45        7.33        9.12  \n",
       "cluster14        8.66        6.68        7.31  \n",
       "cluster15        8.30        7.02        7.57  \n",
       "cluster16        8.10        7.17        7.21  \n",
       "cluster17        7.69        7.06        8.73  \n",
       "cluster18        8.63        6.48        8.53  \n",
       "cluster19        8.49        7.08        7.14  \n",
       "cluster1         8.12        6.19        7.37  \n",
       "cluster20        7.25        5.89        8.19  \n",
       "cluster21        6.33        5.19        7.69  \n",
       "cluster22        7.55        6.70        7.72  \n",
       "cluster23        8.35        6.90        8.96  \n",
       "cluster24        8.66        6.45        6.80  \n",
       "cluster2         9.02        7.02        7.84  \n",
       "cluster3         9.05        6.10        7.36  \n",
       "cluster4         9.19        6.78        8.72  \n",
       "cluster5         7.52        6.95        7.30  \n",
       "cluster6         9.58        6.87        9.21  \n",
       "cluster7         8.86        8.01        8.93  \n",
       "cluster8        10.74        7.39        8.15  \n",
       "cluster9         8.04        7.37        8.11  \n",
       "\n",
       "[25 rows x 71 columns]"
      ]
     },
     "execution_count": 28,
     "metadata": {},
     "output_type": "execute_result"
    }
   ],
   "source": [
    "c"
   ]
  },
  {
   "cell_type": "code",
   "execution_count": null,
   "metadata": {
    "collapsed": false
   },
   "outputs": [],
   "source": [
    "import interpret_tICs\n",
    "reload(interpret_tICs)\n",
    "from interpret_tICs import *\n",
    "rank_tICs_by_docking_logistic(None, None, analysis_dir, docking_csv=docking_multiple_ligands, tica_coords_csv=tica_coords_csv)"
   ]
  },
  {
   "cell_type": "code",
   "execution_count": 29,
   "metadata": {
    "collapsed": false
   },
   "outputs": [
    {
     "name": "stdout",
     "output_type": "stream",
     "text": [
      "loading \"/home/enf/b2ar_analysis/sparse-tICA_t5_n_components2all_residues_2rh1_3sn6_under_cutoff6A_regularization_wolf_autoShrinkage_rho0pt01/clusterer_25clusters.h5\"...\n",
      "loading \"/home/enf/b2ar_analysis/sparse-tICA_t5_n_components2all_residues_2rh1_3sn6_under_cutoff6A_regularization_wolf_autoShrinkage_rho0pt01/phi_psi_chi2_allprot_projected.h5\"...\n",
      "loading /home/enf/b2ar_analysis/sparse-tICA_t5_n_components2all_residues_2rh1_3sn6_under_cutoff6A_regularization_wolf_autoShrinkage_rho0pt01/features_subsampled.pkl\n",
      "60556\n",
      "18142\n",
      "29602\n",
      "11692\n",
      "9005\n",
      "39876\n",
      "6361\n",
      "47042\n",
      "42043\n",
      "15117\n",
      "42889\n",
      "14554\n",
      "7263\n",
      "45472\n",
      "23113\n",
      "25186\n",
      "24422\n",
      "14847\n",
      "41130\n",
      "11930\n",
      "8705\n",
      "10899\n",
      "21655\n",
      "16763\n",
      "11754\n",
      "loading \"/home/enf/b2ar_analysis/sparse-tICA_t5_n_components2all_residues_2rh1_3sn6_under_cutoff6A_regularization_wolf_autoShrinkage_rho0pt01/phi_psi_chi2_allprot_projected.h5\"...\n",
      "Found number to sample per cluster based on equilibrium proporrtions.\n",
      "Obtained random (trajectory, frame) pairs based on equilibrium populations\n",
      "Rearranged equilibrium sampled frames based on trajectories\n",
      "Saving \"/home/enf/b2ar_analysis/sparse-tICA_t5_n_components2all_residues_2rh1_3sn6_under_cutoff6A_regularization_wolf_autoShrinkage_rho0pt01/msm_lag-time25_prior-counts0.0_clusters25_resampled_10000.h5\"... (<type 'dict'>)\n",
      "Saving \"/home/enf/b2ar_analysis/sparse-tICA_t5_n_components2all_residues_2rh1_3sn6_under_cutoff6A_regularization_wolf_autoShrinkage_rho0pt01/tica_msm_lag-time25_clusters25_resampled.h5\"... (<type 'numpy.ndarray'>)\n",
      "loading \"/home/enf/b2ar_analysis/sparse-tICA_t5_n_components2all_residues_2rh1_3sn6_under_cutoff6A_regularization_wolf_autoShrinkage_rho0pt01/tica_msm_lag-time25_clusters25_resampled.h5\"...\n",
      "Saving \"/home/enf/b2ar_analysis/sparse-tICA_t5_n_components2all_residues_2rh1_3sn6_under_cutoff6A_regularization_wolf_autoShrinkage_rho0pt01/pnas_resampled.h5\"... (<type 'numpy.ndarray'>)\n",
      "loading \"/home/enf/b2ar_analysis/sparse-tICA_t5_n_components2all_residues_2rh1_3sn6_under_cutoff6A_regularization_wolf_autoShrinkage_rho0pt01/pnas_resampled.h5\"...\n"
     ]
    }
   ],
   "source": [
    "import interpret_tICs\n",
    "reload(interpret_tICs)\n",
    "from interpret_tICs import *\n",
    "\n",
    "import pickle\n",
    "with open(feature_residues_pkl, \"rb\") as f:\n",
    "    feature_residues = pickle.load(f)\n",
    "\n",
    "clusterer = verboseload(clusterer_dir)\n",
    "\n",
    "tica_coords = verboseload(projected_features_dir)\n",
    "user_defined_coords = pnas_coords\n",
    "\n",
    "pp_n_components = n_components\n",
    "apriori_dfs = []\n",
    "for array in user_defined_coords:\n",
    "    apriori_dfs.append(pd.DataFrame(array, columns=pnas_names))\n",
    "tica_dfs = []\n",
    "for array in tica_coords:\n",
    "    tica_dfs.append(pd.DataFrame(array, columns=[\"tIC.%d\" %i for i in range(1,n_components+1)]))\n",
    "\n",
    "cluster_pnas_averages = calculate_cluster_averages_per_feature(clusterer, user_defined_coords)\n",
    "cluster_pnas_averages = pd.DataFrame(cluster_pnas_averages, columns=pnas_names)\n",
    "\n",
    "cluster_tica_averages = calculate_cluster_averages_per_feature(clusterer, tica_coords)\n",
    "cluster_tica_averages = pd.DataFrame(cluster_tica_averages, columns=[\"tIC.%d\" %i for i in range(1, n_components+1)])\n",
    "cluster_tica_pnas = pd.concat([cluster_pnas_averages, cluster_tica_averages], axis=1).dropna()\n",
    "\n",
    "top_features = load_file(tic_subsampled_features_file)\n",
    "\n",
    "import msm_resampled\n",
    "reload(msm_resampled)\n",
    "from msm_resampled import *\n",
    "clusters_map = make_clusters_map(clusterer)\n",
    "tica_resampled_file = os.path.join(tica_dir, \"tica_msm_lag-time%d_clusters%d_resampled.h5\" %(lag_time, n_clusters))\n",
    "projected_features = verboseload(projected_features_dir)\n",
    "\n",
    "num_trajs = len(get_trajectory_files(traj_dir, traj_ext))\n",
    "\n",
    "def reweight_features_by_msm(msm_object):\n",
    "    total_samples = 10000\n",
    "    resampled_traj_to_frames_file = os.path.join(tica_dir, \"msm_lag-time%d_prior-counts%s_clusters%d_resampled_%d.h5\" %(lag_time, str(prior_counts), n_clusters, total_samples))\n",
    "    resampled_traj_to_frames = resample_by_msm(total_samples, msm_object, clusters_map, num_trajs, resampled_traj_to_frames_file)\n",
    "\n",
    "    resample_features_by_msm_equilibirum_pop(projected_features, resampled_traj_to_frames, tica_resampled_file)\n",
    "    tica_resampled = verboseload(tica_resampled_file)\n",
    "    pnas_resampled_file = os.path.join(tica_dir, \"pnas_resampled.h5\")\n",
    "    resample_features_by_msm_equilibirum_pop(user_defined_coords, resampled_traj_to_frames, pnas_resampled_file)\n",
    "    pnas_resampled = verboseload(pnas_resampled_file)\n",
    "\n",
    "    resampled_traj_index_pairs = []\n",
    "    for traj in resampled_traj_to_frames.keys():\n",
    "        [resampled_traj_index_pairs.append((traj, frame)) for frame in resampled_traj_to_frames[traj]]\n",
    "\n",
    "\n",
    "    features_eq = resample_features_by_msm_trajectory(top_features, resampled_traj_index_pairs)*10.\n",
    "    tica_eq = pd.DataFrame(tica_resampled, columns=[\"tIC.%d\" %i for i in range(1,n_components+1)])\n",
    "    pnas_eq = pd.DataFrame(pnas_resampled, columns=pnas_names)\n",
    "    features_eq = pd.concat([features_eq, tica_eq, pnas_eq], axis=1)\n",
    "    features_eq.columns = [str(f) for f in features_eq.columns.values.tolist()]\n",
    "\n",
    "    str_features = list(set([str(g) for l in important_contact_features[1] for g in l]))\n",
    "    f0 = pd.concat([f*10. for f in top_features], axis=0)\n",
    "    f2 = pd.concat([f for f in tica_dfs])\n",
    "    f3 = pd.concat([f for f in apriori_dfs])\n",
    "    prot_lig_features = pd.concat([f0,f2,f3],axis=1)\n",
    "    all_traj_features = [pd.concat([top_features[i]*10., tica_dfs[i], apriori_dfs[i]], axis=1) for i in range(0, len(tica_dfs))]\n",
    "    return features_eq, all_traj_features\n",
    "\n",
    "\n",
    "n_steps = 100000\n",
    "save_file = \"%s/msm_traj_index_pairs.h5\" % (tica_dir)\n",
    "#msm_traj_index_pairs = generate_msm_traj_index_series(msm_object, random.choice(active_clusters.index.values.tolist()), n_steps, bu72_pp_clusters_map, save_file)\n",
    "#msm_traj_index_pairs = verboseload(save_file)\n",
    "features_eq, all_traj_features = reweight_features_by_msm(msm_object)"
   ]
  },
  {
   "cell_type": "code",
   "execution_count": 30,
   "metadata": {
    "collapsed": false
   },
   "outputs": [],
   "source": [
    "\n",
    "samples_indices_file = \"%s/samples_indices.h5\" %analysis_dir\n",
    "samples_dir = \"%s/clusterer_%dclusters_%dsamples\" %(tica_dir, n_clusters, n_samples)\n",
    "if not os.path.exists(samples_dir):\n",
    "    os.makedirs(samples_dir)\n",
    "#sample_from_clusterer(clusterer_dir, projected_features_dir, get_trajectory_files(traj_dir, \".h5\"), \n",
    "#                      n_samples, samples_dir, samples_indices_file, structure=None,\n",
    "#                      residue_cutoff=10000, parallel=True,\n",
    "#                      worker_pool=None)\n",
    "#clusters_map = make_clusters_map(verboseload(clusterer_dir))"
   ]
  },
  {
   "cell_type": "code",
   "execution_count": 31,
   "metadata": {
    "collapsed": false
   },
   "outputs": [
    {
     "name": "stdout",
     "output_type": "stream",
     "text": [
      "loading \"/home/enf/b2ar_analysis/sparse-tICA_t5_n_components2all_residues_2rh1_3sn6_under_cutoff6A_regularization_wolf_autoShrinkage_rho0pt01/analysis_n_clusters25_random/samples_indices.h5\"...\n",
      "loading \"/home/enf/b2ar_analysis/sparse-tICA_t5_n_components2all_residues_2rh1_3sn6_under_cutoff6A_regularization_wolf_autoShrinkage_rho0pt01/phi_psi_chi2_allprot_projected.h5\"...\n"
     ]
    }
   ],
   "source": [
    "from msmbuilder.utils import verbosedump, verboseload\n",
    "samples_indices = verboseload(samples_indices_file)\n",
    "tica_coords = verboseload(projected_features_dir)\n",
    "#features = load_file_list(get_trajectory_files(features_dir, \".dataset\"), directory = None, ext = None)\n",
    "samples_tica = []\n",
    "samples_pnas = []\n",
    "samples_features = []\n"
   ]
  },
  {
   "cell_type": "code",
   "execution_count": 32,
   "metadata": {
    "collapsed": false
   },
   "outputs": [
    {
     "name": "stdout",
     "output_type": "stream",
     "text": [
      "loading \"/home/enf/b2ar_analysis/sparse-tICA_t5_n_components2all_residues_2rh1_3sn6_under_cutoff6A_regularization_wolf_autoShrinkage_rho0pt01/clusterer_25clusters_1samples_samples_kdtree_tica.h5\"...\n",
      "loading \"/home/enf/b2ar_analysis/sparse-tICA_t5_n_components2all_residues_2rh1_3sn6_under_cutoff6A_regularization_wolf_autoShrinkage_rho0pt01/clusterer_25clusters_1samples_samples_kdtree_pnas.h5\"...\n",
      "loading \"/home/enf/b2ar_analysis/sparse-tICA_t5_n_components2all_residues_2rh1_3sn6_under_cutoff6A_regularization_wolf_autoShrinkage_rho0pt01/clusterer_25clusters_1samples_samples_kdtree_features.h5\"...\n",
      "loading \"/home/enf/b2ar_analysis/sparse-tICA_t5_n_components2all_residues_2rh1_3sn6_under_cutoff6A_regularization_wolf_autoShrinkage_rho0pt01/clusterer_25clusters_1samples_samples_kdtree_features_normalized.h5\"...\n"
     ]
    }
   ],
   "source": [
    "#samples_tica = get_sample_coords(samples_indices, tica_coords)\n",
    "samples_tica_file = \"%s/clusterer_%dclusters_%dsamples_samples_kdtree_tica.h5\" %(tica_dir, n_clusters, n_samples)\n",
    "#verbosedump(samples_tica, samples_tica_file)\n",
    "samples_tica = verboseload(samples_tica_file)\n",
    "samples_tica_avg_df = pd.DataFrame([np.mean(t, axis=0) for t in samples_tica], index=[\"cluster%d\" %i for i in range(0,n_clusters)], columns=[\"tIC.%d\" %i for i in range(1, n_components+1)])\n",
    "\n",
    "\n",
    "#samples_pnas = get_sample_coords(samples_indices, pnas_coords)\n",
    "samples_pnas_file = \"%s/clusterer_%dclusters_%dsamples_samples_kdtree_pnas.h5\" %(tica_dir, n_clusters, n_samples)\n",
    "#verbosedump(samples_pnas, samples_pnas_file)\n",
    "samples_pnas = verboseload(samples_pnas_file)\n",
    "samples_pnas_avg_df = pd.DataFrame([np.mean(t, axis=0) for t in samples_pnas], index=[\"cluster%d\" %i for i in range(0,n_clusters)], columns=[\"tm6_tm3_dist\", \"rmsd_npxxy_inactive\", \"rmsd_npxxy_active\", \"rmsd_connector_inactive\", \"rmsd_connector_active\"])\n",
    "\n",
    "\n",
    "\n",
    "#samples_features = get_sample_coords(samples_indices, features)\n",
    "samples_features_file = \"%s/clusterer_%dclusters_%dsamples_samples_kdtree_features.h5\" %(tica_dir, n_clusters, n_samples)\n",
    "#verbosedump(samples_features, samples_features_file)\n",
    "samples_features = verboseload(samples_features_file)\n",
    "samples_features_avg_df = pd.DataFrame([np.mean(t, axis=0) for t in samples_features], index=[\"cluster%d\" %i for i in range(0,n_clusters)])\n",
    "\n",
    "\n",
    "from sklearn.preprocessing import StandardScaler\n",
    "#n = StandardScaler()\n",
    "#n.fit(np.concatenate(features))\n",
    "#normalized_features = [n.transform(f) for f in features]\n",
    "\n",
    "#samples_normalized_features = get_sample_coords(samples_indices, normalized_features)\n",
    "samples_normalized_features_file = \"%s/clusterer_%dclusters_%dsamples_samples_kdtree_features_normalized.h5\" %(tica_dir, n_clusters, n_samples)\n",
    "#verbosedump(samples_normalized_features, samples_normalized_features_file)\n",
    "samples_normalized_features = verboseload(samples_normalized_features_file)\n",
    "samples_normalized_features_avg_df = pd.DataFrame([np.mean(t, axis=0) for t in samples_normalized_features], index=[\"cluster%d\" %i for i in range(0,n_clusters)], columns=[str(f) for f in feature_names])\n",
    "\n"
   ]
  },
  {
   "cell_type": "code",
   "execution_count": 33,
   "metadata": {
    "collapsed": false
   },
   "outputs": [],
   "source": [
    "import pickle\n",
    "with open(feature_residues_pkl, \"rb\") as f:\n",
    "    feature_names = pickle.load(f)\n",
    "feature_strings = [str(feature_name) for feature_name in feature_names]\n",
    "samples_normalized_features_averages = [np.mean(f, axis=0) for f in samples_normalized_features]\n",
    "samples_normalized_features_averages_df = pd.DataFrame(samples_normalized_features_averages, columns=feature_strings)\n",
    "\n",
    "samples_pnas_tica = pd.concat([samples_pnas_avg_df, samples_tica_avg_df], axis=1)"
   ]
  },
  {
   "cell_type": "code",
   "execution_count": 34,
   "metadata": {
    "collapsed": true
   },
   "outputs": [],
   "source": [
    "pd.set_option('display.max_rows', None)\n",
    "pd.set_option('display.max_columns', None)"
   ]
  },
  {
   "cell_type": "code",
   "execution_count": 35,
   "metadata": {
    "collapsed": false
   },
   "outputs": [
    {
     "data": {
      "text/html": [
       "<div>\n",
       "<table border=\"1\" class=\"dataframe\">\n",
       "  <thead>\n",
       "    <tr style=\"text-align: right;\">\n",
       "      <th></th>\n",
       "      <th>tm6_tm3_dist</th>\n",
       "      <th>rmsd_npxxy_inactive</th>\n",
       "      <th>rmsd_npxxy_active</th>\n",
       "      <th>rmsd_connector_inactive</th>\n",
       "      <th>rmsd_connector_active</th>\n",
       "    </tr>\n",
       "  </thead>\n",
       "  <tbody>\n",
       "    <tr>\n",
       "      <th>cluster2</th>\n",
       "      <td>14.403458</td>\n",
       "      <td>0.994941</td>\n",
       "      <td>0.268876</td>\n",
       "      <td>1.831260</td>\n",
       "      <td>1.361117</td>\n",
       "    </tr>\n",
       "    <tr>\n",
       "      <th>cluster10</th>\n",
       "      <td>7.171780</td>\n",
       "      <td>0.645269</td>\n",
       "      <td>0.676383</td>\n",
       "      <td>0.602726</td>\n",
       "      <td>1.272425</td>\n",
       "    </tr>\n",
       "    <tr>\n",
       "      <th>cluster19</th>\n",
       "      <td>8.595222</td>\n",
       "      <td>0.456841</td>\n",
       "      <td>0.732804</td>\n",
       "      <td>0.326674</td>\n",
       "      <td>1.298181</td>\n",
       "    </tr>\n",
       "    <tr>\n",
       "      <th>cluster23</th>\n",
       "      <td>12.866024</td>\n",
       "      <td>0.486451</td>\n",
       "      <td>0.761240</td>\n",
       "      <td>0.303495</td>\n",
       "      <td>1.378049</td>\n",
       "    </tr>\n",
       "    <tr>\n",
       "      <th>cluster17</th>\n",
       "      <td>8.218304</td>\n",
       "      <td>0.424519</td>\n",
       "      <td>0.786499</td>\n",
       "      <td>0.422930</td>\n",
       "      <td>1.508190</td>\n",
       "    </tr>\n",
       "    <tr>\n",
       "      <th>cluster3</th>\n",
       "      <td>13.353683</td>\n",
       "      <td>0.579279</td>\n",
       "      <td>0.802554</td>\n",
       "      <td>0.792276</td>\n",
       "      <td>1.433377</td>\n",
       "    </tr>\n",
       "    <tr>\n",
       "      <th>cluster8</th>\n",
       "      <td>12.638399</td>\n",
       "      <td>0.401345</td>\n",
       "      <td>0.806741</td>\n",
       "      <td>0.363658</td>\n",
       "      <td>1.483838</td>\n",
       "    </tr>\n",
       "    <tr>\n",
       "      <th>cluster22</th>\n",
       "      <td>7.380744</td>\n",
       "      <td>0.503686</td>\n",
       "      <td>0.817174</td>\n",
       "      <td>0.234265</td>\n",
       "      <td>1.483722</td>\n",
       "    </tr>\n",
       "    <tr>\n",
       "      <th>cluster14</th>\n",
       "      <td>7.668878</td>\n",
       "      <td>0.588931</td>\n",
       "      <td>0.837820</td>\n",
       "      <td>0.286814</td>\n",
       "      <td>1.498951</td>\n",
       "    </tr>\n",
       "    <tr>\n",
       "      <th>cluster12</th>\n",
       "      <td>9.520415</td>\n",
       "      <td>0.454414</td>\n",
       "      <td>0.854156</td>\n",
       "      <td>0.233577</td>\n",
       "      <td>1.390169</td>\n",
       "    </tr>\n",
       "    <tr>\n",
       "      <th>cluster15</th>\n",
       "      <td>11.239504</td>\n",
       "      <td>0.432173</td>\n",
       "      <td>0.855301</td>\n",
       "      <td>0.566711</td>\n",
       "      <td>1.394910</td>\n",
       "    </tr>\n",
       "    <tr>\n",
       "      <th>cluster9</th>\n",
       "      <td>6.671826</td>\n",
       "      <td>0.491837</td>\n",
       "      <td>0.876782</td>\n",
       "      <td>0.385258</td>\n",
       "      <td>1.433035</td>\n",
       "    </tr>\n",
       "    <tr>\n",
       "      <th>cluster1</th>\n",
       "      <td>6.945616</td>\n",
       "      <td>0.405739</td>\n",
       "      <td>0.882569</td>\n",
       "      <td>0.743239</td>\n",
       "      <td>0.888889</td>\n",
       "    </tr>\n",
       "    <tr>\n",
       "      <th>cluster11</th>\n",
       "      <td>8.382682</td>\n",
       "      <td>0.527432</td>\n",
       "      <td>0.894405</td>\n",
       "      <td>0.264545</td>\n",
       "      <td>1.554173</td>\n",
       "    </tr>\n",
       "    <tr>\n",
       "      <th>cluster7</th>\n",
       "      <td>12.480697</td>\n",
       "      <td>0.476704</td>\n",
       "      <td>0.910355</td>\n",
       "      <td>0.356323</td>\n",
       "      <td>1.305158</td>\n",
       "    </tr>\n",
       "    <tr>\n",
       "      <th>cluster24</th>\n",
       "      <td>13.562322</td>\n",
       "      <td>0.499638</td>\n",
       "      <td>0.927363</td>\n",
       "      <td>1.288363</td>\n",
       "      <td>0.709830</td>\n",
       "    </tr>\n",
       "    <tr>\n",
       "      <th>cluster13</th>\n",
       "      <td>7.342890</td>\n",
       "      <td>0.461699</td>\n",
       "      <td>0.934416</td>\n",
       "      <td>0.368553</td>\n",
       "      <td>1.725685</td>\n",
       "    </tr>\n",
       "    <tr>\n",
       "      <th>cluster5</th>\n",
       "      <td>6.570935</td>\n",
       "      <td>0.594326</td>\n",
       "      <td>0.946086</td>\n",
       "      <td>0.395553</td>\n",
       "      <td>1.252277</td>\n",
       "    </tr>\n",
       "    <tr>\n",
       "      <th>cluster6</th>\n",
       "      <td>7.591705</td>\n",
       "      <td>0.287226</td>\n",
       "      <td>0.946511</td>\n",
       "      <td>0.098042</td>\n",
       "      <td>1.416522</td>\n",
       "    </tr>\n",
       "    <tr>\n",
       "      <th>cluster4</th>\n",
       "      <td>15.713420</td>\n",
       "      <td>0.402765</td>\n",
       "      <td>0.955055</td>\n",
       "      <td>0.312347</td>\n",
       "      <td>1.285428</td>\n",
       "    </tr>\n",
       "    <tr>\n",
       "      <th>cluster21</th>\n",
       "      <td>6.808184</td>\n",
       "      <td>0.324380</td>\n",
       "      <td>0.956258</td>\n",
       "      <td>0.720624</td>\n",
       "      <td>1.351870</td>\n",
       "    </tr>\n",
       "    <tr>\n",
       "      <th>cluster18</th>\n",
       "      <td>8.783839</td>\n",
       "      <td>0.467043</td>\n",
       "      <td>0.967463</td>\n",
       "      <td>0.275472</td>\n",
       "      <td>1.519925</td>\n",
       "    </tr>\n",
       "    <tr>\n",
       "      <th>cluster16</th>\n",
       "      <td>12.191679</td>\n",
       "      <td>0.364214</td>\n",
       "      <td>0.987019</td>\n",
       "      <td>0.315764</td>\n",
       "      <td>1.346833</td>\n",
       "    </tr>\n",
       "    <tr>\n",
       "      <th>cluster0</th>\n",
       "      <td>8.878478</td>\n",
       "      <td>0.583425</td>\n",
       "      <td>1.004179</td>\n",
       "      <td>0.321858</td>\n",
       "      <td>1.660885</td>\n",
       "    </tr>\n",
       "    <tr>\n",
       "      <th>cluster20</th>\n",
       "      <td>12.615728</td>\n",
       "      <td>0.686304</td>\n",
       "      <td>1.215702</td>\n",
       "      <td>3.578016</td>\n",
       "      <td>3.491983</td>\n",
       "    </tr>\n",
       "  </tbody>\n",
       "</table>\n",
       "</div>"
      ],
      "text/plain": [
       "           tm6_tm3_dist  rmsd_npxxy_inactive  rmsd_npxxy_active  \\\n",
       "cluster2      14.403458             0.994941           0.268876   \n",
       "cluster10      7.171780             0.645269           0.676383   \n",
       "cluster19      8.595222             0.456841           0.732804   \n",
       "cluster23     12.866024             0.486451           0.761240   \n",
       "cluster17      8.218304             0.424519           0.786499   \n",
       "cluster3      13.353683             0.579279           0.802554   \n",
       "cluster8      12.638399             0.401345           0.806741   \n",
       "cluster22      7.380744             0.503686           0.817174   \n",
       "cluster14      7.668878             0.588931           0.837820   \n",
       "cluster12      9.520415             0.454414           0.854156   \n",
       "cluster15     11.239504             0.432173           0.855301   \n",
       "cluster9       6.671826             0.491837           0.876782   \n",
       "cluster1       6.945616             0.405739           0.882569   \n",
       "cluster11      8.382682             0.527432           0.894405   \n",
       "cluster7      12.480697             0.476704           0.910355   \n",
       "cluster24     13.562322             0.499638           0.927363   \n",
       "cluster13      7.342890             0.461699           0.934416   \n",
       "cluster5       6.570935             0.594326           0.946086   \n",
       "cluster6       7.591705             0.287226           0.946511   \n",
       "cluster4      15.713420             0.402765           0.955055   \n",
       "cluster21      6.808184             0.324380           0.956258   \n",
       "cluster18      8.783839             0.467043           0.967463   \n",
       "cluster16     12.191679             0.364214           0.987019   \n",
       "cluster0       8.878478             0.583425           1.004179   \n",
       "cluster20     12.615728             0.686304           1.215702   \n",
       "\n",
       "           rmsd_connector_inactive  rmsd_connector_active  \n",
       "cluster2                  1.831260               1.361117  \n",
       "cluster10                 0.602726               1.272425  \n",
       "cluster19                 0.326674               1.298181  \n",
       "cluster23                 0.303495               1.378049  \n",
       "cluster17                 0.422930               1.508190  \n",
       "cluster3                  0.792276               1.433377  \n",
       "cluster8                  0.363658               1.483838  \n",
       "cluster22                 0.234265               1.483722  \n",
       "cluster14                 0.286814               1.498951  \n",
       "cluster12                 0.233577               1.390169  \n",
       "cluster15                 0.566711               1.394910  \n",
       "cluster9                  0.385258               1.433035  \n",
       "cluster1                  0.743239               0.888889  \n",
       "cluster11                 0.264545               1.554173  \n",
       "cluster7                  0.356323               1.305158  \n",
       "cluster24                 1.288363               0.709830  \n",
       "cluster13                 0.368553               1.725685  \n",
       "cluster5                  0.395553               1.252277  \n",
       "cluster6                  0.098042               1.416522  \n",
       "cluster4                  0.312347               1.285428  \n",
       "cluster21                 0.720624               1.351870  \n",
       "cluster18                 0.275472               1.519925  \n",
       "cluster16                 0.315764               1.346833  \n",
       "cluster0                  0.321858               1.660885  \n",
       "cluster20                 3.578016               3.491983  "
      ]
     },
     "execution_count": 35,
     "metadata": {},
     "output_type": "execute_result"
    }
   ],
   "source": [
    "samples_pnas_avg_df.sort(\"rmsd_npxxy_active\", inplace=False)"
   ]
  },
  {
   "cell_type": "code",
   "execution_count": 36,
   "metadata": {
    "collapsed": false
   },
   "outputs": [
    {
     "name": "stdout",
     "output_type": "stream",
     "text": [
      "['', '', '', '', '', '', '', '', '', '', '', '', '', '', '', '', '', '', '', '', '', '', '', '', '', '', '', '', '', '', '', '', '', '', '', '', '', '', '', '', '', '', '', '', '', '', '', '', '', '', '', '', '', '', '', '', '', '', '3p0g_lig', \"4'-Methoxyfenoterol\", 'BRL 37344', 'Ici215001', 'Ici89406', 'MAPE', 'N-Cyclopentylbutanephrine', 'Structure2D_CID_3343', 'TERBSN', 'Tulobuterol', 'acebutolol', 'adrenalone', 'ah3021', 'ah3474', 'alprenalol', 'bevantolol', 'bisoprolol', 'broxaterol', 'bucindolol', 'bupranolol', 'cgp12177', 'cicloprolol', 'cimaterol', 'clenbuterol', 'clenproperol', 'dichloroisopreterenol', 'dobutamine', 'dopamine', 'du211117', 'du28663', 'epinine', 'ethylnorepinephrine', 'fenoterol', 'formoterol', 'hexoprenaline', 'isopropylnorsynephrine', 'labetalol', 'metoprolol', 'nadolol', 'nipradilol', 'nor-metanephrine', 'norepinephrine', 'olodaterol', 'orciprenaline', 'pindolol', 'practolol', 'procaterol', 'pronethalol 2', 'pronethalol', 'r_epinephrine', 'r_isopreterenol', 'ritrodine', 'salbutamol', 'salmeterol', 'skf42469', 'skf56301', 'sotalol', 'sulfonterol', 't-0509', 'ta-2005', 'terbutaline', 'timolol', 'zinterol']\n",
      "['', '', '', 'isoetharine', 'isoetharine_prepped', 'nebivolol', 's-carvedilol', 's-carvedilol_prepped', 'salmeterol', 'xamoterol']\n"
     ]
    }
   ],
   "source": [
    "agonist_ligands = get_ligands(agonist_dir)\n",
    "print(agonist_ligands)\n",
    "biased_ligands = get_ligands(biased_agonist_dir)\n",
    "print(biased_ligands)"
   ]
  },
  {
   "cell_type": "code",
   "execution_count": 37,
   "metadata": {
    "collapsed": false
   },
   "outputs": [
    {
     "name": "stdout",
     "output_type": "stream",
     "text": [
      "['', '', '', 'isoetharine', 'isoetharine_prepped', 'nebivolol', 's-carvedilol', 's-carvedilol_prepped', 'salmeterol', 'xamoterol', '', '', '', '', '', '', '', '', '', '', '', '', '', '', '', '', '', '', '', '', '', '', '', '', '', '', '', '', '', '', '', '', '', '', '', '', '', '', '', '', '', '', '', '', '', '', '', '', '', '', '', '', '', '', '', '', '', '', '3p0g_lig', \"4'-Methoxyfenoterol\", 'BRL 37344', 'Ici215001', 'Ici89406', 'MAPE', 'N-Cyclopentylbutanephrine', 'Structure2D_CID_3343', 'TERBSN', 'Tulobuterol', 'acebutolol', 'adrenalone', 'ah3021', 'ah3474', 'alprenalol', 'bevantolol', 'bisoprolol', 'broxaterol', 'bucindolol', 'bupranolol', 'cgp12177', 'cicloprolol', 'cimaterol', 'clenbuterol', 'clenproperol', 'dichloroisopreterenol', 'dobutamine', 'dopamine', 'du211117', 'du28663', 'epinine', 'ethylnorepinephrine', 'fenoterol', 'formoterol', 'hexoprenaline', 'isopropylnorsynephrine', 'labetalol', 'metoprolol', 'nadolol', 'nipradilol', 'nor-metanephrine', 'norepinephrine', 'olodaterol', 'orciprenaline', 'pindolol', 'practolol', 'procaterol', 'pronethalol 2', 'pronethalol', 'r_epinephrine', 'r_isopreterenol', 'ritrodine', 'salbutamol', 'salmeterol', 'skf42469', 'skf56301', 'sotalol', 'sulfonterol', 't-0509', 'ta-2005', 'terbutaline', 'timolol', 'zinterol']\n",
      "/home/enf/b2ar_analysis/sparse-tICA_t5_n_components2all_residues_2rh1_3sn6_under_cutoff6A_regularization_wolf_autoShrinkage_rho0pt01/docking_n_clusters25_n_samples1_random_SP/all_docking_scores.csv\n"
     ]
    }
   ],
   "source": [
    "docking_multiple_ligands = \"%s/all_docking_scores.csv\" % docking_dir\n",
    "aggregate_docking = \"%s/aggregate_docking.csv\" % docking_dir\n",
    "print(biased_ligands + agonist_ligands)\n",
    "\n",
    "print(docking_multiple_ligands)\n",
    "\n",
    "#analyze_docking_results_multiple(docking_dir, precision = \"SP\", ligands = biased_ligands + agonist_ligands + mehrdad_ligands + inverse_ligands, summary = docking_multiple_ligands, redo = True)\n",
    "#analyze_docking_results_multiple(docking_dir, precision = \"SP\", ligands = biased_ligands + agonist_ligands, summary = docking_multiple_ligands, redo = True)\n",
    "\n",
    "\n",
    "#compute_cluster_averages(None, csv_filename=docking_multiple_ligands, save_csv=aggregate_docking)\n",
    "\n"
   ]
  },
  {
   "cell_type": "code",
   "execution_count": 38,
   "metadata": {
    "collapsed": true
   },
   "outputs": [],
   "source": [
    "pd.set_option('display.max_columns', None)"
   ]
  },
  {
   "cell_type": "code",
   "execution_count": 39,
   "metadata": {
    "collapsed": false,
    "scrolled": true
   },
   "outputs": [
    {
     "name": "stdout",
     "output_type": "stream",
     "text": [
      "Index([u'clenbuterol', u'labetalol', u'cimaterol', u'olodaterol', u't-0509',\n",
      "       u'isoetharine', u'nadolol', u'formoterol', u'fenoterol', u's-atenolol',\n",
      "       u'3p0g_lig', u'acebutolol', u'isoetharine_prep',\n",
      "       u'Structure2D_CID_3343', u'ah3021', u'Ici215001', u'practolol',\n",
      "       u's-carvedilol_prep', u'Ici118551', u'ritrodine',\n",
      "       u'isopropylnorsynephrine', u'r_epinephrine', u'du28663', u'sotalol',\n",
      "       u'r_isopreterenol', u'propranolol', u'metoprolol', u'timolol',\n",
      "       u'norepinephrine', u'procaterol', u'ZINC_results-single',\n",
      "       u'orciprenaline', u'pindolol', u'nor-metanephrine', u'salmeterol',\n",
      "       u'zinterol', u'cicloprolol', u'pronethalol', u'ah3474', u'Tulobuterol',\n",
      "       u'alprenalol', u'du211117', u'cgp12177', u'nebivolol', u'MAPE',\n",
      "       u'dopamine', u'dichloroisopreterenol', u'N-Cyclopentylbutanephrine',\n",
      "       u'terbutaline', u'hexoprenaline', u'sulfonterol', u'bupranolol',\n",
      "       u'clenproperol', u'ethylnorepinephrine', u'ta-2005', u's-carazolol',\n",
      "       u'salbutamol', u'adrenalone', u'Ici89406', u'xamoterol', u'skf42469',\n",
      "       u'bisoprolol', u'skf56301', u'bucindolol', u'nipradilol', u'TERBSN',\n",
      "       u'epinine', u's-carvedilol', u'dobutamine', u'broxaterol',\n",
      "       u'bevantolol'],\n",
      "      dtype='object')\n",
      "biased antagonist states\n",
      "set([0, 18, 7])\n",
      "agonist states:\n",
      "set([0, 2, 3, 4, 5, 6, 7, 8, 9, 10, 11, 12, 13, 14, 15, 16, 18, 22, 23, 24])\n",
      "arrestin agonist states:\n",
      "set([0, 1, 2, 6, 12, 16])\n",
      "gprot agonist states:\n",
      "set([3, 4, 5, 10, 11, 13, 18])\n"
     ]
    }
   ],
   "source": [
    "df_agg = c\n",
    "#df_agg = pd.read_csv(aggregate_docking, index_col=0).dropna()\n",
    "#df_agg = pd.read_csv(docking_multiple_ligands, index_col=0).dropna()\n",
    "df_agg.index = [n.split(\"_\")[0] for n in df_agg.index.values]\n",
    "\n",
    "\n",
    "df_agg.columns = [''.join(e for e in lig if e.isalnum() or e=='-' or e=='_') for lig in df_agg.columns.values]\n",
    "msm_obj =msm_object\n",
    "\n",
    "msm_clusters = msm_obj.mapping_.keys()\n",
    "msm_cluster_names = []\n",
    "msm_cluster_eq_pops = []\n",
    "for cluster_id in msm_clusters:\n",
    "    cluster_name = \"cluster%d\" %cluster_id\n",
    "    if cluster_name in df_agg.index.values:\n",
    "        state_id = msm_obj.mapping_[cluster_id]\n",
    "        msm_cluster_eq_pops.append(msm_obj.populations_[state_id])\n",
    "        msm_cluster_names.append(cluster_name)\n",
    "msm_cluster_eq_pops = np.array(msm_cluster_eq_pops)\n",
    "msm_cluster_deltaG = -0.61 * np.log(msm_cluster_eq_pops)\n",
    "msm_cluster_eq_pops_df = pd.DataFrame(msm_cluster_eq_pops, index=msm_cluster_names)\n",
    "aggregate_docking_msm = df_agg.loc[msm_cluster_names]\n",
    "\n",
    "samples_tica_avg_df = samples_tica_avg_df.loc[msm_cluster_names]\n",
    "samples_pnas_avg_df = samples_pnas_avg_df.loc[msm_cluster_names]\n",
    "samples_top_features_avg_df = samples_normalized_features_avg_df[[str(f) for f in important_contact_features[0]]].loc[msm_cluster_names]\n",
    "print(aggregate_docking_msm.columns)\n",
    "\n",
    "ligand = \"3p0g_lig\"\n",
    "\n",
    "apo_deltaG = msm_cluster_deltaG - (-1.0 * aggregate_docking_msm[ligand].values)\n",
    "\n",
    "apo_populations = np.exp(-1.0*apo_deltaG / 0.61)\n",
    "Z_apo = np.sum(apo_populations)\n",
    "apo_populations = apo_populations / Z_apo\n",
    "apo_eq_pops_df = copy.deepcopy(msm_cluster_eq_pops_df)\n",
    "apo_eq_pops_df[apo_eq_pops_df.columns] = apo_populations.reshape((-1,1))\n",
    "apo_deltaG = -.61 * np.log(apo_populations)\n",
    "\n",
    "msm_cluster_eq_pops = apo_populations\n",
    "msm_cluster_deltaG = apo_deltaG\n",
    "msm_cluster_eq_pops_df = apo_eq_pops_df\n",
    "\n",
    "\n",
    "new_populations = copy.deepcopy(aggregate_docking_msm)\n",
    "for ligand in aggregate_docking_msm.columns.values:\n",
    "    new_populations[ligand] = np.exp(-1.0*(-1.0*aggregate_docking_msm[ligand].values+msm_cluster_deltaG)/0.61)\n",
    "\n",
    "Z = np.sum(new_populations.values, axis=0)\n",
    "for j, ligand in enumerate(aggregate_docking_msm.columns.values):\n",
    "    new_populations[ligand] = new_populations[ligand].values / Z[j]\n",
    "population_deltas = copy.deepcopy(new_populations)\n",
    "for ligand in aggregate_docking_msm.columns.values:\n",
    "    population_deltas[ligand] = population_deltas[ligand].values / msm_cluster_eq_pops\n",
    "new_energies = copy.deepcopy(new_populations)\n",
    "for ligand in aggregate_docking_msm.columns.values:\n",
    "    new_energies[ligand] = -.61 * np.log(new_populations[ligand])\n",
    "delta_delta_g = copy.deepcopy(new_energies)\n",
    "for ligand in aggregate_docking_msm.columns.values:\n",
    "    delta_delta_g[ligand] = new_energies[ligand].values - msm_cluster_deltaG\n",
    "\n",
    "\n",
    "docking_normalized = copy.deepcopy(aggregate_docking_msm)\n",
    "docking_normalized[docking_normalized.columns.values] = scale(docking_normalized.values)\n",
    "\n",
    "ddg_scaled = copy.deepcopy(delta_delta_g)\n",
    "ddg_scaled[delta_delta_g.columns.values] = scale(delta_delta_g.values)\n",
    "    \n",
    "deltas_tica = pd.concat([delta_delta_g, samples_tica_avg_df, samples_pnas_avg_df, samples_top_features_avg_df], axis=1)\n",
    "\n",
    "#print(deltas_tica.iloc[0:10])\n",
    "\n",
    "\n",
    "docking_normalized[docking_normalized.columns.values] = scale(population_deltas.values)\n",
    "\n",
    "train_biased_antagonists = [\"s-carvedilol\", \"nebivolol\"] \n",
    "train_inverse_agonists = [] #[\"s-carazolol\", \"Ici118551\"]\"\n",
    "\n",
    "train_arrestin_agonists = [\"isoetharine\", \"3p0g_lig\"]\n",
    "train_gprot_agonists = [\"procaterol\"]\n",
    "\n",
    "train_agonists = [\"r_isopreterenol\"] + train_arrestin_agonists + train_gprot_agonists\n",
    "\n",
    "indices = []\n",
    "for biased_antagonist in (train_biased_antagonists):# + train_arrestin_agonists):\n",
    "    for inverse_agonist in train_inverse_agonists:\n",
    "        bias_antagonist_minus_antagonists = delta_delta_g[biased_antagonist].values - delta_delta_g[inverse_agonist].values\n",
    "        #bias_antagonist_minus_antagonists = scale(bias_antagonist_minus_antagonists)\n",
    "        indices.append(set(np.where(bias_antagonist_minus_antagonists < -0.)[0]))\n",
    "    indices.append(set(np.where(scale(delta_delta_g[biased_antagonist].values) <-1.)[0]))\n",
    "\n",
    "#if train_gprot_agonists is not None:\n",
    "#    for biased_antagonist in train_arrestin_agonists:\n",
    "#        for inverse_agonist in (train_gprot_agonists):\n",
    "#            bias_antagonist_minus_antagonists = delta_delta_g[biased_antagonist].values - delta_delta_g[inverse_agonist].values\n",
    "#            #bias_antagonist_minus_antagonists = scale(bias_antagonist_minus_antagonists)\n",
    "#            indices.append(set(np.where(bias_antagonist_minus_antagonists < -0.)[0]))\n",
    "#        indices.append(set(np.where(delta_delta_g[biased_antagonist].values <0)[0]))\n",
    "\n",
    "\n",
    "indices = set.intersection(*indices)\n",
    "#bias_antagonist_minus_agonists = deltas_tica[[\" 3p0g_lig\"]].mean(axis=1).values - deltas_tica[train_agonists].mean(axis=1).values\n",
    "#bias_antagonist_minus_agonists = scale(bias_antagonist_minus_agonists)\n",
    "#indices = list(set(np.where(bias_antagonist_minus_antagonists < -.5)[0]))#.tolist()).intersection(set(np.where(bias_antagonist_minus_antagonists > 1.)[0].tolist())))\n",
    "biased_antagonist_states = deltas_tica.iloc[list(indices)]#.intersection(set(np.where(np.max(scale(deltas_tica[train_biased_antagonists].values),axis=1) < -.5)[0])))]\n",
    "print(\"biased antagonist states\")\n",
    "print(indices)\n",
    "\n",
    "#biased_antagonist_states = biased_antagonist_states.loc[biased_antagonist_states[\"tm6_tm3_dist\"] > 12.]\n",
    "\n",
    "indices = []\n",
    "\n",
    "for biased_antagonist in train_agonists:\n",
    "    for inverse_agonist in (train_inverse_agonists):\n",
    "        bias_antagonist_minus_antagonists = delta_delta_g[biased_antagonist].values - delta_delta_g[inverse_agonist].values\n",
    "        bias_antagonist_minus_antagonists = scale(bias_antagonist_minus_antagonists)\n",
    "        indices.append(set(np.where(bias_antagonist_minus_antagonists < -0.)[0]))\n",
    "        #indices.append(set(np.where(delta_delta_g[inverse_antagonist].values > -.5)[0]))\n",
    "    indices.append(set(np.where(delta_delta_g[biased_antagonist].values <-0.)[0]))\n",
    "indices = set.intersection(*indices)\n",
    "agonist_states = deltas_tica.iloc[list(indices)]#.intersection(set(np.where(np.max(scale(deltas_tica[train_biased_antagonists].values),axis=1) < -.5)[0])))]\n",
    "#agonist_states = agonist_states.loc[agonist_states[\"tm6_tm3_dist\"] > 12.]\n",
    "print(\"agonist states:\")\n",
    "print(indices)\n",
    "\n",
    "indices = []\n",
    "for biased_antagonist in train_arrestin_agonists:\n",
    "    for inverse_agonist in (train_gprot_agonists):\n",
    "        bias_antagonist_minus_antagonists = agonist_states[biased_antagonist].values - agonist_states[inverse_agonist].values\n",
    "        bias_antagonist_minus_antagonists = scale(bias_antagonist_minus_antagonists)\n",
    "        indices.append(set(np.where(bias_antagonist_minus_antagonists < -0.)[0]))\n",
    "        #indices.append(set(np.where(delta_delta_g[inverse_antagonist].values > -.5)[0]))\n",
    "    indices.append(set(np.where(agonist_states[biased_antagonist].values <-0.)[0]))\n",
    "indices = set.intersection(*indices)\n",
    "arrestin_agonist_states = agonist_states.iloc[list(indices)]#.intersection(set(np.where(np.max(scale(deltas_tica[train_biased_antagonists].values),axis=1) < -.5)[0])))]\n",
    "print(\"arrestin agonist states:\")\n",
    "print(indices)\n",
    "\n",
    "indices = []\n",
    "for biased_antagonist in train_gprot_agonists:\n",
    "    for inverse_agonist in (train_arrestin_agonists):\n",
    "        bias_antagonist_minus_antagonists = agonist_states[biased_antagonist].values - agonist_states[inverse_agonist].values\n",
    "        bias_antagonist_minus_antagonists = scale(bias_antagonist_minus_antagonists)\n",
    "        indices.append(set(np.where(bias_antagonist_minus_antagonists < -0.)[0]))\n",
    "        #indices.append(set(np.where(delta_delta_g[inverse_antagonist].values > -.5)[0]))\n",
    "    indices.append(set(np.where(agonist_states[biased_antagonist].values <-0.)[0]))\n",
    "indices = set.intersection(*indices)\n",
    "gprot_agonist_states = agonist_states.iloc[list(indices)]#.intersection(set(np.where(np.max(scale(deltas_tica[train_biased_antagonists].values),axis=1) < -.5)[0])))]\n",
    "print(\"gprot agonist states:\")\n",
    "print(indices)\n"
   ]
  },
  {
   "cell_type": "code",
   "execution_count": null,
   "metadata": {
    "collapsed": false
   },
   "outputs": [],
   "source": [
    "inactive_clusters = samples_pnas_tica.loc[samples_pnas_tica[\"tm6_tm3_dist\"] < 11.].index.values\n",
    "print(inactive_clusters)"
   ]
  },
  {
   "cell_type": "code",
   "execution_count": null,
   "metadata": {
    "collapsed": false
   },
   "outputs": [],
   "source": [
    "from msm_resampled import *\n",
    "total_samples = 100000\n",
    "bi_msm = verboseload(msm_model_dir)\n",
    "clusters_map = clusterer_tICs_1_2_3_map\n",
    "num_trajs = len(get_trajectory_files(traj_dir, traj_ext))\n",
    "BI_msm_resampled_file = \"%s/msm_tICs_1_2_3_BI167107_eq_resampled.h5\"\n",
    "eq_pops = bi_msm.populations_\n",
    "bi_traj_to_frames = resample_by_msm(total_samples, msm_object=bi_msm, clusters_map=clusters_map, num_trajs=num_trajs, save_file=BI_msm_resampled_file, equilibrium_populations=eq_pops)\n",
    "BI_tICA_resampled_file = \"%s/msm_tICs_1_2_3_BI167107_eq_tICA_resampled.h5\"\n",
    "resample_features_by_msm_equilibirum_pop(verboseload(projected_features_dir), bi_traj_to_frames, BI_tICA_resampled_file)"
   ]
  },
  {
   "cell_type": "code",
   "execution_count": null,
   "metadata": {
    "collapsed": false
   },
   "outputs": [],
   "source": [
    "import analysis\n",
    "reload(analysis)\n",
    "from analysis import *\n",
    "plot_columns(analysis_dir, BI_tICA_resampled_file, titles = [\"tIC%d\" %j for j in range(1,n_components+1)], main=\"BI 167107 MSM\", tICA = True, scale = 1.0, refcoords_file = ref_tica_coords, concatenate=False, reshape=False)\n"
   ]
  },
  {
   "cell_type": "code",
   "execution_count": null,
   "metadata": {
    "collapsed": false
   },
   "outputs": [],
   "source": [
    "import jointplot_d3\n",
    "reload(jointplot_d3)\n",
    "from jointplot_d3 import *\n",
    "#min_density = min(new_populations[\"3p0g_lig\"].values)\n",
    "min_density=7.0\n",
    "#jointplots(verboseload(BI_tICA_resampled_file)[::1,:], analysis_dir, titles = [\"tIC%d\" %j for j in range(1,n_components+1)], main = \"BI 167107 MSM\", refcoords_file = ref_tica_coords, axes=None, data_j=None, titles_j=None, reshape=False, max_tIC=2, min_density=min_density)"
   ]
  },
  {
   "cell_type": "code",
   "execution_count": null,
   "metadata": {
    "collapsed": false,
    "scrolled": true
   },
   "outputs": [],
   "source": [
    "from msm_resampled import *\n",
    "from jointplot_d3 import *\n",
    "total_samples = 100000\n",
    "bi_msm = verboseload(msm_model_dir)\n",
    "clusters_map = clusterer_tICs_1_2_3_map\n",
    "num_trajs = len(get_trajectory_files(traj_dir, traj_ext))\n",
    "apo_msm_resampled_file = \"%s/msm_tICs_1_2_3_apo_eq_resampled.h5\"\n",
    "eq_pops = apo_populations\n",
    "msm_apo_populations = np.zeros(len(eq_pops))\n",
    "for cluster_id in bi_msm.mapping_.keys():\n",
    "    msm_apo_populations[bi_msm.mapping_[cluster_id]] = eq_pops[cluster_id]\n",
    "apo_traj_to_frames = resample_by_msm(total_samples, msm_object=bi_msm, clusters_map=clusters_map, num_trajs=num_trajs, save_file=apo_msm_resampled_file, equilibrium_populations=msm_apo_populations)\n",
    "apo_tICA_resampled_file = \"%s/msm_tICs_1_2_3_apo_eq_tICA_resampled.h5\"\n",
    "resample_features_by_msm_equilibirum_pop(verboseload(projected_features_dir), apo_traj_to_frames, apo_tICA_resampled_file)\n",
    "jointplots(verboseload(apo_tICA_resampled_file)[::1,:], analysis_dir, titles = [\"tIC%d\" %j for j in range(1,n_components+1)], main = \"APO MSM\", refcoords_file = ref_tica_coords, axes=None, data_j=None, titles_j=None, reshape=False, max_tIC=2, min_density=min_density)"
   ]
  },
  {
   "cell_type": "code",
   "execution_count": null,
   "metadata": {
    "collapsed": false
   },
   "outputs": [],
   "source": [
    "import jointplot_d3\n",
    "reload(jointplot_d3)\n",
    "from jointplot_d3 import *\n",
    "from msm_resampled import *\n",
    "total_samples = 100000\n",
    "bi_msm = verboseload(msm_model_dir)\n",
    "clusters_map = clusterer_tICs_1_2_3_map\n",
    "num_trajs = len(get_trajectory_files(traj_dir, traj_ext))\n",
    "ligands = [\"bisoprolol\", \"nebivolol\"]\n",
    "ligands = [\"N-Cyclopentylbutanephrine\", \"3p0g_lig\", \"salmeterol\", \"salbutamol\", \"r_isopreterenol\", \"r_epinephrine\", \"isoetharine\", \"nebivolol\", \"s-carvedilol\", \"s-carazolol\", \"norepinephrine\", \"ethylnorepinephrine\"]\n",
    "#ligands = [\"Ici118551\", \"propranolol\", \"s-atenolol\", \"pindolol\", \"s-carvedilol\", \"xamoterol\", \"s-carazolol\", \"3p0g_lig\", \"r_isopreterenol\", \"norepinephrine\", \"r_epinephrine\", \"ethylnorepinephrine\", \"isoetharine\"]\n",
    "lig_features_eq = {}\n",
    "for ligand in ligands:\n",
    "    lig_msm_resampled_file = \"%s/msm_tICs_1_2_3_%s_eq_resampled.h5\" %(tica_dir, ligand)\n",
    "    eq_pops = new_populations[ligand]\n",
    "    msm_lig_populations = np.zeros(len(eq_pops))\n",
    "    for cluster_id in bi_msm.mapping_.keys():\n",
    "        msm_lig_populations[bi_msm.mapping_[cluster_id]] = eq_pops[cluster_id]\n",
    "    new_msm = copy.deepcopy(bi_msm)\n",
    "    new_msm.populations_ = msm_lig_populations\n",
    "    lig_traj_to_frames = resample_by_msm(total_samples, msm_object=bi_msm, clusters_map=clusters_map, num_trajs=num_trajs, save_file=lig_msm_resampled_file, equilibrium_populations=msm_lig_populations)\n",
    "    lig_tICA_resampled_file = \"%s/msm_tICs_1_2_3_%s_eq_tICA_resampled.h5\" %(tica_dir, ligand)\n",
    "    #resample_features_by_msm_equilibirum_pop(verboseload(projected_features_dir), lig_traj_to_frames, lig_tICA_resampled_file)\n",
    "    #jointplots(verboseload(lig_tICA_resampled_file)[::1,:], analysis_dir, titles = [\"tIC%d\" %j for j in range(1,n_components+1)], main = \"%s MSM\" %ligand, refcoords_file = ref_tica_coords, axes=None, data_j=None, titles_j=None, reshape=False, max_tIC=2,min_density=min_density, custom_xlim=[-1500, 1300], custom_ylim=[-1000,1000], max_diff=3.0)\n",
    "    lig_features_eq[ligand], _ = reweight_features_by_msm(new_msm)\n",
    "    #plt.hist(lig_features_eq[\"Asn148_Leu266\"], bins=100, range=[10,45])\n",
    "    #plt.title(\"Asn148-Leu266\")\n",
    "    #break"
   ]
  },
  {
   "cell_type": "code",
   "execution_count": 68,
   "metadata": {
    "collapsed": false
   },
   "outputs": [
    {
     "ename": "KeyError",
     "evalue": "'Asn148 To Leu266'",
     "output_type": "error",
     "traceback": [
      "\u001b[1;31m---------------------------------------------------------------------------\u001b[0m",
      "\u001b[1;31mKeyError\u001b[0m                                  Traceback (most recent call last)",
      "\u001b[1;32m<ipython-input-68-18edb4ee6a5c>\u001b[0m in \u001b[0;36m<module>\u001b[1;34m()\u001b[0m\n\u001b[1;32m----> 1\u001b[1;33m \u001b[0mplt\u001b[0m\u001b[1;33m.\u001b[0m\u001b[0mhist\u001b[0m\u001b[1;33m(\u001b[0m\u001b[0mfeatures_eq\u001b[0m\u001b[1;33m[\u001b[0m\u001b[1;34m\"Asn148 To Leu266\"\u001b[0m\u001b[1;33m]\u001b[0m\u001b[1;33m,\u001b[0m \u001b[0mbins\u001b[0m\u001b[1;33m=\u001b[0m\u001b[1;36m100\u001b[0m\u001b[1;33m,\u001b[0m \u001b[0mrange\u001b[0m\u001b[1;33m=\u001b[0m\u001b[1;33m[\u001b[0m\u001b[1;36m10\u001b[0m\u001b[1;33m,\u001b[0m\u001b[1;36m45\u001b[0m\u001b[1;33m]\u001b[0m\u001b[1;33m)\u001b[0m\u001b[1;33m\u001b[0m\u001b[0m\n\u001b[0m\u001b[0;32m      2\u001b[0m \u001b[0mplt\u001b[0m\u001b[1;33m.\u001b[0m\u001b[0mtitle\u001b[0m\u001b[1;33m(\u001b[0m\u001b[1;34m\"Asn148-Leu266\"\u001b[0m\u001b[1;33m)\u001b[0m\u001b[1;33m\u001b[0m\u001b[0m\n",
      "\u001b[1;32m/home/enf/software/anaconda/lib/python2.7/site-packages/pandas/core/frame.pyc\u001b[0m in \u001b[0;36m__getitem__\u001b[1;34m(self, key)\u001b[0m\n\u001b[0;32m   1795\u001b[0m             \u001b[1;32mreturn\u001b[0m \u001b[0mself\u001b[0m\u001b[1;33m.\u001b[0m\u001b[0m_getitem_multilevel\u001b[0m\u001b[1;33m(\u001b[0m\u001b[0mkey\u001b[0m\u001b[1;33m)\u001b[0m\u001b[1;33m\u001b[0m\u001b[0m\n\u001b[0;32m   1796\u001b[0m         \u001b[1;32melse\u001b[0m\u001b[1;33m:\u001b[0m\u001b[1;33m\u001b[0m\u001b[0m\n\u001b[1;32m-> 1797\u001b[1;33m             \u001b[1;32mreturn\u001b[0m \u001b[0mself\u001b[0m\u001b[1;33m.\u001b[0m\u001b[0m_getitem_column\u001b[0m\u001b[1;33m(\u001b[0m\u001b[0mkey\u001b[0m\u001b[1;33m)\u001b[0m\u001b[1;33m\u001b[0m\u001b[0m\n\u001b[0m\u001b[0;32m   1798\u001b[0m \u001b[1;33m\u001b[0m\u001b[0m\n\u001b[0;32m   1799\u001b[0m     \u001b[1;32mdef\u001b[0m \u001b[0m_getitem_column\u001b[0m\u001b[1;33m(\u001b[0m\u001b[0mself\u001b[0m\u001b[1;33m,\u001b[0m \u001b[0mkey\u001b[0m\u001b[1;33m)\u001b[0m\u001b[1;33m:\u001b[0m\u001b[1;33m\u001b[0m\u001b[0m\n",
      "\u001b[1;32m/home/enf/software/anaconda/lib/python2.7/site-packages/pandas/core/frame.pyc\u001b[0m in \u001b[0;36m_getitem_column\u001b[1;34m(self, key)\u001b[0m\n\u001b[0;32m   1802\u001b[0m         \u001b[1;31m# get column\u001b[0m\u001b[1;33m\u001b[0m\u001b[1;33m\u001b[0m\u001b[0m\n\u001b[0;32m   1803\u001b[0m         \u001b[1;32mif\u001b[0m \u001b[0mself\u001b[0m\u001b[1;33m.\u001b[0m\u001b[0mcolumns\u001b[0m\u001b[1;33m.\u001b[0m\u001b[0mis_unique\u001b[0m\u001b[1;33m:\u001b[0m\u001b[1;33m\u001b[0m\u001b[0m\n\u001b[1;32m-> 1804\u001b[1;33m             \u001b[1;32mreturn\u001b[0m \u001b[0mself\u001b[0m\u001b[1;33m.\u001b[0m\u001b[0m_get_item_cache\u001b[0m\u001b[1;33m(\u001b[0m\u001b[0mkey\u001b[0m\u001b[1;33m)\u001b[0m\u001b[1;33m\u001b[0m\u001b[0m\n\u001b[0m\u001b[0;32m   1805\u001b[0m \u001b[1;33m\u001b[0m\u001b[0m\n\u001b[0;32m   1806\u001b[0m         \u001b[1;31m# duplicate columns & possible reduce dimensionaility\u001b[0m\u001b[1;33m\u001b[0m\u001b[1;33m\u001b[0m\u001b[0m\n",
      "\u001b[1;32m/home/enf/software/anaconda/lib/python2.7/site-packages/pandas/core/generic.pyc\u001b[0m in \u001b[0;36m_get_item_cache\u001b[1;34m(self, item)\u001b[0m\n\u001b[0;32m   1082\u001b[0m         \u001b[0mres\u001b[0m \u001b[1;33m=\u001b[0m \u001b[0mcache\u001b[0m\u001b[1;33m.\u001b[0m\u001b[0mget\u001b[0m\u001b[1;33m(\u001b[0m\u001b[0mitem\u001b[0m\u001b[1;33m)\u001b[0m\u001b[1;33m\u001b[0m\u001b[0m\n\u001b[0;32m   1083\u001b[0m         \u001b[1;32mif\u001b[0m \u001b[0mres\u001b[0m \u001b[1;32mis\u001b[0m \u001b[0mNone\u001b[0m\u001b[1;33m:\u001b[0m\u001b[1;33m\u001b[0m\u001b[0m\n\u001b[1;32m-> 1084\u001b[1;33m             \u001b[0mvalues\u001b[0m \u001b[1;33m=\u001b[0m \u001b[0mself\u001b[0m\u001b[1;33m.\u001b[0m\u001b[0m_data\u001b[0m\u001b[1;33m.\u001b[0m\u001b[0mget\u001b[0m\u001b[1;33m(\u001b[0m\u001b[0mitem\u001b[0m\u001b[1;33m)\u001b[0m\u001b[1;33m\u001b[0m\u001b[0m\n\u001b[0m\u001b[0;32m   1085\u001b[0m             \u001b[0mres\u001b[0m \u001b[1;33m=\u001b[0m \u001b[0mself\u001b[0m\u001b[1;33m.\u001b[0m\u001b[0m_box_item_values\u001b[0m\u001b[1;33m(\u001b[0m\u001b[0mitem\u001b[0m\u001b[1;33m,\u001b[0m \u001b[0mvalues\u001b[0m\u001b[1;33m)\u001b[0m\u001b[1;33m\u001b[0m\u001b[0m\n\u001b[0;32m   1086\u001b[0m             \u001b[0mcache\u001b[0m\u001b[1;33m[\u001b[0m\u001b[0mitem\u001b[0m\u001b[1;33m]\u001b[0m \u001b[1;33m=\u001b[0m \u001b[0mres\u001b[0m\u001b[1;33m\u001b[0m\u001b[0m\n",
      "\u001b[1;32m/home/enf/software/anaconda/lib/python2.7/site-packages/pandas/core/internals.pyc\u001b[0m in \u001b[0;36mget\u001b[1;34m(self, item, fastpath)\u001b[0m\n\u001b[0;32m   2849\u001b[0m \u001b[1;33m\u001b[0m\u001b[0m\n\u001b[0;32m   2850\u001b[0m             \u001b[1;32mif\u001b[0m \u001b[1;32mnot\u001b[0m \u001b[0misnull\u001b[0m\u001b[1;33m(\u001b[0m\u001b[0mitem\u001b[0m\u001b[1;33m)\u001b[0m\u001b[1;33m:\u001b[0m\u001b[1;33m\u001b[0m\u001b[0m\n\u001b[1;32m-> 2851\u001b[1;33m                 \u001b[0mloc\u001b[0m \u001b[1;33m=\u001b[0m \u001b[0mself\u001b[0m\u001b[1;33m.\u001b[0m\u001b[0mitems\u001b[0m\u001b[1;33m.\u001b[0m\u001b[0mget_loc\u001b[0m\u001b[1;33m(\u001b[0m\u001b[0mitem\u001b[0m\u001b[1;33m)\u001b[0m\u001b[1;33m\u001b[0m\u001b[0m\n\u001b[0m\u001b[0;32m   2852\u001b[0m             \u001b[1;32melse\u001b[0m\u001b[1;33m:\u001b[0m\u001b[1;33m\u001b[0m\u001b[0m\n\u001b[0;32m   2853\u001b[0m                 \u001b[0mindexer\u001b[0m \u001b[1;33m=\u001b[0m \u001b[0mnp\u001b[0m\u001b[1;33m.\u001b[0m\u001b[0marange\u001b[0m\u001b[1;33m(\u001b[0m\u001b[0mlen\u001b[0m\u001b[1;33m(\u001b[0m\u001b[0mself\u001b[0m\u001b[1;33m.\u001b[0m\u001b[0mitems\u001b[0m\u001b[1;33m)\u001b[0m\u001b[1;33m)\u001b[0m\u001b[1;33m[\u001b[0m\u001b[0misnull\u001b[0m\u001b[1;33m(\u001b[0m\u001b[0mself\u001b[0m\u001b[1;33m.\u001b[0m\u001b[0mitems\u001b[0m\u001b[1;33m)\u001b[0m\u001b[1;33m]\u001b[0m\u001b[1;33m\u001b[0m\u001b[0m\n",
      "\u001b[1;32m/home/enf/software/anaconda/lib/python2.7/site-packages/pandas/core/index.pyc\u001b[0m in \u001b[0;36mget_loc\u001b[1;34m(self, key, method)\u001b[0m\n\u001b[0;32m   1570\u001b[0m         \"\"\"\n\u001b[0;32m   1571\u001b[0m         \u001b[1;32mif\u001b[0m \u001b[0mmethod\u001b[0m \u001b[1;32mis\u001b[0m \u001b[0mNone\u001b[0m\u001b[1;33m:\u001b[0m\u001b[1;33m\u001b[0m\u001b[0m\n\u001b[1;32m-> 1572\u001b[1;33m             \u001b[1;32mreturn\u001b[0m \u001b[0mself\u001b[0m\u001b[1;33m.\u001b[0m\u001b[0m_engine\u001b[0m\u001b[1;33m.\u001b[0m\u001b[0mget_loc\u001b[0m\u001b[1;33m(\u001b[0m\u001b[0m_values_from_object\u001b[0m\u001b[1;33m(\u001b[0m\u001b[0mkey\u001b[0m\u001b[1;33m)\u001b[0m\u001b[1;33m)\u001b[0m\u001b[1;33m\u001b[0m\u001b[0m\n\u001b[0m\u001b[0;32m   1573\u001b[0m \u001b[1;33m\u001b[0m\u001b[0m\n\u001b[0;32m   1574\u001b[0m         \u001b[0mindexer\u001b[0m \u001b[1;33m=\u001b[0m \u001b[0mself\u001b[0m\u001b[1;33m.\u001b[0m\u001b[0mget_indexer\u001b[0m\u001b[1;33m(\u001b[0m\u001b[1;33m[\u001b[0m\u001b[0mkey\u001b[0m\u001b[1;33m]\u001b[0m\u001b[1;33m,\u001b[0m \u001b[0mmethod\u001b[0m\u001b[1;33m=\u001b[0m\u001b[0mmethod\u001b[0m\u001b[1;33m)\u001b[0m\u001b[1;33m\u001b[0m\u001b[0m\n",
      "\u001b[1;32mpandas/index.pyx\u001b[0m in \u001b[0;36mpandas.index.IndexEngine.get_loc (pandas/index.c:3970)\u001b[1;34m()\u001b[0m\n",
      "\u001b[1;32mpandas/index.pyx\u001b[0m in \u001b[0;36mpandas.index.IndexEngine.get_loc (pandas/index.c:3834)\u001b[1;34m()\u001b[0m\n",
      "\u001b[1;32mpandas/hashtable.pyx\u001b[0m in \u001b[0;36mpandas.hashtable.PyObjectHashTable.get_item (pandas/hashtable.c:12571)\u001b[1;34m()\u001b[0m\n",
      "\u001b[1;32mpandas/hashtable.pyx\u001b[0m in \u001b[0;36mpandas.hashtable.PyObjectHashTable.get_item (pandas/hashtable.c:12522)\u001b[1;34m()\u001b[0m\n",
      "\u001b[1;31mKeyError\u001b[0m: 'Asn148 To Leu266'"
     ]
    }
   ],
   "source": [
    "plt.hist(features_eq[\"Asn148 To Leu266\"], bins=100, range=[10,45])\n",
    "plt.title(\"Asn148-Leu266\")"
   ]
  },
  {
   "cell_type": "code",
   "execution_count": 69,
   "metadata": {
    "collapsed": false
   },
   "outputs": [
    {
     "data": {
      "text/plain": [
       "(10000, 19)"
      ]
     },
     "execution_count": 69,
     "metadata": {},
     "output_type": "execute_result"
    }
   ],
   "source": [
    "features_eq.shape"
   ]
  },
  {
   "cell_type": "code",
   "execution_count": null,
   "metadata": {
    "collapsed": false
   },
   "outputs": [],
   "source": [
    "plt.hist(lig_features_eq[\"tm6_tm3_dist\"], bins=100, range=[5,20])"
   ]
  },
  {
   "cell_type": "code",
   "execution_count": null,
   "metadata": {
    "collapsed": false
   },
   "outputs": [],
   "source": [
    "plt.hist(features_eq[\"tm6_tm3_dist\"], bins=100, range=[5,20])"
   ]
  },
  {
   "cell_type": "code",
   "execution_count": null,
   "metadata": {
    "collapsed": false
   },
   "outputs": [],
   "source": [
    "n, bins, patches = plt.hist(lig_features_eq[\"Asn148_Leu266\"], bins=100)"
   ]
  },
  {
   "cell_type": "code",
   "execution_count": null,
   "metadata": {
    "collapsed": false
   },
   "outputs": [],
   "source": [
    "from scipy import stats\n",
    "thr_x = np.linspace(5, 50, 500)\n",
    "thr_kde1 = stats.gaussian_kde(lig_features_eq[\"norepinephrine\"][\"Thr66_Leu266\"])\n",
    "thr_kde2 = stats.gaussian_kde(lig_features_eq[\"ethylnorepinephrine\"][\"Thr66_Leu266\"])\n",
    "thr_dx1 = thr_kde1(thr_x)\n",
    "thr_dx2 = thr_kde2(thr_x)\n",
    "plt.plot(thr_x,thr_dx1-thr_dx2)"
   ]
  },
  {
   "cell_type": "code",
   "execution_count": null,
   "metadata": {
    "collapsed": false
   },
   "outputs": [],
   "source": [
    "from scipy import stats\n",
    "thr_x = np.linspace(5, 50, 500)\n",
    "thr_kde1 = stats.gaussian_kde(lig_features_eq[\"r_epinephrine\"][\"Asn148_Leu266\"])\n",
    "thr_kde2 = stats.gaussian_kde(lig_features_eq[\"r_isopreterenol\"][\"Asn148_Leu266\"])\n",
    "thr_dx1 = thr_kde1(thr_x)\n",
    "thr_dx2 = thr_kde2(thr_x)\n",
    "plt.plot(thr_x,thr_dx1-thr_dx2)"
   ]
  },
  {
   "cell_type": "code",
   "execution_count": null,
   "metadata": {
    "collapsed": false
   },
   "outputs": [],
   "source": [
    "from scipy import stats\n",
    "thr_x = np.linspace(0,3.,500)\n",
    "thr_kde1 = stats.gaussian_kde(lig_features_eq[\"r_isopreterenol\"][\"rmsd_npxxy_active\"])\n",
    "thr_kde2 = stats.gaussian_kde(lig_features_eq[\"s-carazolol\"][\"rmsd_npxxy_active\"])\n",
    "thr_dx1 = thr_kde1(thr_x)\n",
    "thr_dx2 = thr_kde2(thr_x)\n",
    "plt.plot(thr_x,thr_dx1-thr_dx2)"
   ]
  },
  {
   "cell_type": "code",
   "execution_count": null,
   "metadata": {
    "collapsed": false
   },
   "outputs": [],
   "source": [
    "from scipy import stats\n",
    "thr_x = np.linspace(5, 50, 500)\n",
    "thr_kde1 = stats.gaussian_kde(lig_features_eq[\"isoetharine\"][\"Asn148_Leu266\"])\n",
    "thr_kde2 = stats.gaussian_kde(lig_features_eq[\"r_isopreterenol\"][\"Asn148_Leu266\"])\n",
    "thr_dx1 = thr_kde1(thr_x)\n",
    "thr_dx2 = thr_kde2(thr_x)\n",
    "plt.plot(thr_x,thr_dx1-thr_dx2)"
   ]
  },
  {
   "cell_type": "code",
   "execution_count": null,
   "metadata": {
    "collapsed": false
   },
   "outputs": [],
   "source": [
    "from scipy import stats\n",
    "thr_x = np.linspace(5, 50, 500)\n",
    "thr_kde1 = stats.gaussian_kde(lig_features_eq[\"N-Cyclopentylbutanephrine\"][\"Asn148_Leu266\"])\n",
    "thr_kde2 = stats.gaussian_kde(lig_features_eq[\"r_isopreterenol\"][\"Asn148_Leu266\"])\n",
    "thr_dx1 = thr_kde1(thr_x)\n",
    "thr_dx2 = thr_kde2(thr_x)\n",
    "plt.plot(thr_x,thr_dx1-thr_dx2)"
   ]
  },
  {
   "cell_type": "code",
   "execution_count": null,
   "metadata": {
    "collapsed": false
   },
   "outputs": [],
   "source": [
    "from scipy import stats\n",
    "thr_x = np.linspace(5, 50, 500)\n",
    "thr_kde1 = stats.gaussian_kde(lig_features_eq[\"ethylnorepinephrine\"][\"Asn148_Leu266\"])\n",
    "thr_kde2 = stats.gaussian_kde(lig_features_eq[\"r_isopreterenol\"][\"Asn148_Leu266\"])\n",
    "thr_dx1 = thr_kde1(thr_x)\n",
    "thr_dx2 = thr_kde2(thr_x)\n",
    "plt.plot(thr_x,thr_dx1-thr_dx2)"
   ]
  },
  {
   "cell_type": "code",
   "execution_count": null,
   "metadata": {
    "collapsed": false
   },
   "outputs": [],
   "source": [
    "from scipy import stats\n",
    "thr_x = np.linspace(5, 50, 500)\n",
    "thr_kde1 = stats.gaussian_kde(lig_features_eq[\"salbutamol\"][\"Asn148_Leu266\"])\n",
    "thr_kde2 = stats.gaussian_kde(lig_features_eq[\"r_isopreterenol\"][\"Asn148_Leu266\"])\n",
    "thr_dx1 = thr_kde1(thr_x)\n",
    "thr_dx2 = thr_kde2(thr_x)\n",
    "plt.plot(thr_x,thr_dx1-thr_dx2)"
   ]
  },
  {
   "cell_type": "code",
   "execution_count": null,
   "metadata": {
    "collapsed": false
   },
   "outputs": [],
   "source": [
    "from scipy import stats\n",
    "thr_x = np.linspace(5, 20, 500)\n",
    "thr_kde1 = stats.gaussian_kde(lig_features_eq[\"N-Cyclopentylbutanephrine\"][\"tm6_tm3_dist\"])\n",
    "thr_kde2 = stats.gaussian_kde(lig_features_eq[\"r_isopreterenol\"][\"tm6_tm3_dist\"])\n",
    "thr_dx1 = thr_kde1(thr_x)\n",
    "thr_dx2 = thr_kde2(thr_x)\n",
    "plt.plot(thr_x,thr_dx1-thr_dx2)"
   ]
  },
  {
   "cell_type": "code",
   "execution_count": null,
   "metadata": {
    "collapsed": false
   },
   "outputs": [],
   "source": [
    "from scipy import stats\n",
    "thr_x = np.linspace(5, 50, 500)\n",
    "thr_kde1 = stats.gaussian_kde(lig_features_eq[\"3p0g_lig\"][\"Thr66_Leu266\"])\n",
    "thr_kde2 = stats.gaussian_kde(lig_features_eq[\"r_isopreterenol\"][\"Asn148_Leu266\"])\n",
    "thr_dx1 = thr_kde1(thr_x)\n",
    "thr_dx2 = thr_kde2(thr_x)\n",
    "plt.plot(thr_x,thr_dx1-thr_dx2)"
   ]
  },
  {
   "cell_type": "code",
   "execution_count": null,
   "metadata": {
    "collapsed": false
   },
   "outputs": [],
   "source": [
    "from scipy import stats\n"
   ]
  },
  {
   "cell_type": "code",
   "execution_count": null,
   "metadata": {
    "collapsed": false
   },
   "outputs": [],
   "source": [
    "for measurement in [\"Ala59_Leu266\", \"Thr66_Leu266\", \"Asn148_Leu266\"]:\n",
    "    \"\"\"\n",
    "    iso = lig_features_eq[\"r_isopreterenol\"][measurement]\n",
    "    x = np.linspace(np.min(iso.values), np.max(iso.values), 500)\n",
    "    kde2 = stats.gaussian_kde(iso)\n",
    "    dx2 = kde2(x)\n",
    "    plt.clf()\n",
    "    plt.plot(x, dx2)\n",
    "    plt.title(\"Isopreterenol Eq. Population Frequency\")\n",
    "    plt.xlabel(\"%s closest heavy atom distance\" %str(measurement))\n",
    "    plt.ylabel(\"Eq. Population\")\n",
    "    save_file = \"%s/%s_isopreterenol_kde.pdf\" %(analysis_dir, measurement)\n",
    "    plt.savefig(save_file)\n",
    "    \n",
    "    plt.clf()\n",
    "    plt.hist(iso, range=[np.min(iso.values), np.max(iso.values)], bins=100)\n",
    "    plt.title(\"Isopreterenol Eq. Population Frequency\")\n",
    "    plt.xlabel(\"%s closest heavy atom distance\" %str(measurement))\n",
    "    plt.ylabel(\"Eq. Population\")\n",
    "    save_file = \"%s/%s_isopreterenol_hist.pdf\" %(analysis_dir, measurement)\n",
    "    plt.savefig(save_file)\n",
    "    \"\"\"\n",
    "    cara = lig_features_eq[\"s-carazolol\"][measurement]\n",
    "    c = np.linspace(np.min(cara.values), np.max(cara.values), 500)\n",
    "    kde2 = stats.gaussian_kde(cara)\n",
    "    dc2 = kde2(c)\n",
    "    \n",
    "    \"\"\"\n",
    "    plt.clf()\n",
    "    plt.plot(c, dc2)\n",
    "    plt.title(\"s-carazolol Eq. Population Frequency\")\n",
    "    plt.xlabel(\"%s closest heavy atom distance\" %str(measurement))\n",
    "    plt.ylabel(\"Eq. Population\")\n",
    "    save_file = \"%s/%s_carazolol_kde.pdf\" %(analysis_dir, measurement)\n",
    "    plt.savefig(save_file)\n",
    "    \n",
    "    plt.clf()\n",
    "    plt.hist(cara, range=[np.min(iso.values), np.max(iso.values)], bins=100)\n",
    "    plt.title(\"Carazolol Eq. Population Frequency\")\n",
    "    plt.xlabel(\"%s closest heavy atom distance\" %str(measurement))\n",
    "    plt.ylabel(\"Eq. Population\")\n",
    "    save_file = \"%s/%s_carazolol_hist.pdf\" %(analysis_dir, measurement)\n",
    "    plt.savefig(save_file)\n",
    "    \"\"\"\n",
    "    \n",
    "    for ligand in [\"3p0g_lig\", \"salbutamol\", \"salmeterol\", \"s-carvedilol\", \"isoetharine\", \"norepinephrine\", \"r_epinephrine\", \"ethylnorepinephrine\", \"nebivolol\", \"N-Cyclopentylbutanephrine\"]:\n",
    "        save_file = \"%s/%s_%s_minus_carazolol_frequency.pdf\" %(analysis_dir, measurement, ligand)\n",
    "        if os.path.exists(save_file):\n",
    "            continue\n",
    "            \n",
    "        plt.clf()\n",
    "        print(ligand)\n",
    "        print(measurement)\n",
    "        \n",
    "        kde1 = stats.gaussian_kde(lig_features_eq[ligand][measurement].dropna())\n",
    "        \n",
    "        dc1 = kde1(c)\n",
    "        \n",
    "        plt.plot(c,dc1-dc2)\n",
    "        if ligand == \"3p0g_lig\":\n",
    "            lig_title = \"BI\"\n",
    "        else:\n",
    "            lig_title = ligand\n",
    "        plt.title(\"%s Frequency minus Carazolol Frequency\" %lig_title)\n",
    "        plt.xlabel(\"%s closest heavy atom distance\" %str(measurement))\n",
    "        plt.ylabel(\"Equilibrium Population Change\")\n",
    "        plt.savefig(save_file)"
   ]
  },
  {
   "cell_type": "code",
   "execution_count": null,
   "metadata": {
    "collapsed": false
   },
   "outputs": [],
   "source": [
    "import jointplot_d3\n",
    "reload(jointplot_d3)\n",
    "from jointplot_d3 import *\n",
    "\n",
    "def custom_lim_finder(values):\n",
    "    mins = np.min(values, axis=0)\n",
    "    maxs = np.max(values, axis=0)\n",
    "    stds = np.std(values, axis=0)\n",
    "    custom_lims = [[mins[i] - 0.5*stds[i], maxs[i] + 0.5*stds[i]] for i in range(0,len(mins))]\n",
    "    return custom_lims\n",
    "\n",
    "#deer_distances = [\"Ala59_Leu266\", \"Thr66_Leu266\", \"Asn148_Leu266\", \"tm6_tm3_dist\", \"rmsd_npxxy_active\"]\n",
    "ligands = [\"3p0g_lig\", \"salbutamol\", \"salmeterol\", \"s-carvedilol\", \"isoetharine\", \"norepinephrine\", \"r_epinephrine\", \"ethylnorepinephrine\", \"nebivolol\", \"N-Cyclopentylbutanephrine\"]\n",
    "deer_distances = [\"tm6_tm3_dist\", \"rmsd_npxxy_active\", \"rmsd_npxxy_inactive\", \"Ala59_Leu266\", \"Thr66_Leu266\", \"Asn148_Leu266\"]\n",
    "#deer_distances = [\"tm6_tm3_dist\", \"rmsd_npxxy_active\"]\n",
    "all_apo_data = lig_features_eq[\"s-carazolol\"][deer_distances].values\n",
    "\n",
    "for ligand in ligands:\n",
    "    jointplots(lig_features_eq[ligand][deer_distances].values, analysis_dir, titles = deer_distances, main = \"%s Minus Carazolol\" %ligand, refcoords = None, refcoords_j=None,\n",
    "            axes=None, reshape=True, data_j=None, titles_j=None, max_tIC=100, min_density=None, \n",
    "            custom_lims=custom_lim_finder(all_apo_data), max_diff=2.5, tpt_paths=None, tpt_paths_j=None,\n",
    "             n_levels=10, worker_pool=None, parallel=True, n_pts=200j, all_apo_data=all_apo_data)"
   ]
  },
  {
   "cell_type": "code",
   "execution_count": null,
   "metadata": {
    "collapsed": false
   },
   "outputs": [],
   "source": [
    "plt.hist(features_eq[\"rmsd_npxxy_active\"], bins=100)"
   ]
  },
  {
   "cell_type": "code",
   "execution_count": null,
   "metadata": {
    "collapsed": false
   },
   "outputs": [],
   "source": [
    "analysis_dir"
   ]
  },
  {
   "cell_type": "code",
   "execution_count": null,
   "metadata": {
    "collapsed": false
   },
   "outputs": [],
   "source": [
    "lig_features_eq[\"3p0g_lig\"][measurement].iloc[:10]"
   ]
  },
  {
   "cell_type": "code",
   "execution_count": null,
   "metadata": {
    "collapsed": false
   },
   "outputs": [],
   "source": [
    "from msm_resampled import *\n",
    "total_samples = 100000\n",
    "bi_msm = verboseload(msm_model_dir)\n",
    "clusters_map = clusterer_tICs_1_2_3_map\n",
    "num_trajs = len(get_trajectory_files(traj_dir, traj_ext))\n",
    "apo_msm_resampled_file = \"%s/msm_tICs_1_2_3_apo_eq_resampled.h5\"\n",
    "eq_pops = apo_populations\n",
    "msm_apo_populations = np.zeros(len(eq_pops))\n",
    "for cluster_id in bi_msm.mapping_.keys():\n",
    "    msm_apo_populations[bi_msm.mapping_[cluster_id]] = eq_pops[cluster_id]\n",
    "apo_traj_to_frames = resample_by_msm(total_samples, msm_object=bi_msm, clusters_map=clusters_map, num_trajs=num_trajs, save_file=apo_msm_resampled_file, equilibrium_populations=msm_apo_populations)\n",
    "apo_pnas_resampled_file = \"%s/msm_tICs_1_2_3_apo_eq_pnas_resampled.h5\"\n",
    "resample_features_by_msm_equilibirum_pop(pnas_coords, apo_traj_to_frames, apo_pnas_resampled_file)\n",
    "jointplots(verboseload(apo_pnas_resampled_file)[::1,:], analysis_dir, titles = pnas_titles, main = \"APO MSM: Canonical Coords\", refcoords_file = None, axes=None, data_j=None, titles_j=None, reshape=False, max_tIC=2, min_density=None)"
   ]
  },
  {
   "cell_type": "code",
   "execution_count": null,
   "metadata": {
    "collapsed": false
   },
   "outputs": [],
   "source": [
    "from msm_resampled import *\n",
    "total_samples = 100000\n",
    "bi_msm = verboseload(msm_model_dir)\n",
    "clusters_map = clusterer_tICs_1_2_3_map\n",
    "num_trajs = len(get_trajectory_files(traj_dir, traj_ext))\n",
    "ligand = \"s-carvedilol\"\n",
    "lig_msm_resampled_file = \"%s/msm_tICs_1_2_3_%s_eq_resampled.h5\" %(tica_dir, ligand)\n",
    "eq_pops = new_populations[ligand]\n",
    "msm_lig_populations = np.zeros(len(eq_pops))\n",
    "for cluster_id in bi_msm.mapping_.keys():\n",
    "    msm_lig_populations[bi_msm.mapping_[cluster_id]] = eq_pops[cluster_id]\n",
    "lig_traj_to_frames = resample_by_msm(total_samples, msm_object=bi_msm, clusters_map=clusters_map, num_trajs=num_trajs, save_file=lig_msm_resampled_file, equilibrium_populations=msm_lig_populations)\n",
    "lig_pnas_resampled_file = \"%s/msm_tICs_1_2_3_%s_eq_pnas_resampled.h5\" %(tica_dir, ligand)\n",
    "resample_features_by_msm_equilibirum_pop(pnas_coords, lig_traj_to_frames, lig_pnas_resampled_file)\n",
    "jointplots(verboseload(lig_pnas_resampled_file)[::1,:], analysis_dir, titles = pnas_titles, main = \"%s MSM Canonical Coords\" %ligand, refcoords_file = None, axes=None, data_j=None, titles_j=None, reshape=False, max_tIC=2,min_density=None)"
   ]
  },
  {
   "cell_type": "code",
   "execution_count": null,
   "metadata": {
    "collapsed": false
   },
   "outputs": [],
   "source": [
    "from msm_resampled import *\n",
    "total_samples = 100000\n",
    "bi_msm = verboseload(msm_model_dir)\n",
    "clusters_map = clusterer_tICs_1_2_3_map\n",
    "num_trajs = len(get_trajectory_files(traj_dir, traj_ext))\n",
    "ligands = [\"r_epinephrine\"]\n",
    "#ligands = [\"Ici118551\", \"propranolol\", \"s-atenolol\", \"pindolol\", \"nebivolol\", \"s-carvedilol\", \"xamoterol\", \"s-carazolol\", \"3p0g_lig\", \"r_isopreterenol\", \"norepinephrine\", \"r_epinephrine\", \"ethylnorepinephrine\", \"isoetharine\"]\n",
    "for ligand in ligands:\n",
    "    lig_msm_resampled_file = \"%s/msm_tICs_1_2_3_%s_eq_resampled.h5\" %(tica_dir, ligand)\n",
    "    eq_pops = new_populations[ligand]\n",
    "    msm_lig_populations = np.zeros(len(eq_pops))\n",
    "    for cluster_id in bi_msm.mapping_.keys():\n",
    "        msm_lig_populations[bi_msm.mapping_[cluster_id]] = eq_pops[cluster_id]\n",
    "    lig_traj_to_frames = resample_by_msm(total_samples, msm_object=bi_msm, clusters_map=clusters_map, num_trajs=num_trajs, save_file=lig_msm_resampled_file, equilibrium_populations=msm_lig_populations)\n",
    "    lig_pnas_resampled_file = \"%s/msm_tICs_1_2_3_%s_eq_pnas_resampled.h5\" %(tica_dir, ligand)\n",
    "    resample_features_by_msm_equilibirum_pop(pnas_coords, lig_traj_to_frames, lig_pnas_resampled_file)\n",
    "    jointplots(verboseload(lig_pnas_resampled_file)[::1,:], analysis_dir, titles = pnas_titles, main = \"%s MSM Canonical Coords\" %ligand, refcoords_file = None, axes=None, data_j=None, titles_j=None, reshape=False, max_tIC=2,min_density=None, custom_xlim=[3,20], custom_ylim=[0,2.])\n",
    "    "
   ]
  },
  {
   "cell_type": "code",
   "execution_count": 46,
   "metadata": {
    "collapsed": false,
    "scrolled": true
   },
   "outputs": [
    {
     "ename": "ValueError",
     "evalue": "Linkage 'Z' contains negative indices.",
     "output_type": "error",
     "traceback": [
      "\u001b[1;31m---------------------------------------------------------------------------\u001b[0m",
      "\u001b[1;31mValueError\u001b[0m                                Traceback (most recent call last)",
      "\u001b[1;32m<ipython-input-46-ab2f8f1bc072>\u001b[0m in \u001b[0;36m<module>\u001b[1;34m()\u001b[0m\n\u001b[0;32m     33\u001b[0m \u001b[1;31m#plot_clustermap(docking_normalized[[\"nebivolol\", \"terbutaline\", \"s-carvedilol\", \"Ici118551\", \"s-atenolol\", \"propranolol\", \"bisoprolol\", \"s-carazolol\", \"timolol\", \"procaterol\", \"r_isopreterenol\", \"norepinephrine\", \"r_epinephrine\", \"ethylnorepinephrine\", \"isoetharine\", \"N-Cyclopentylbutanephrine\", \"3p0g_lig\", \"fenoterol\", \"formoterol\"]].loc[[\"cluster80\", \"cluster16\", \"cluster99\", \"cluster90\", \"cluster43\", \"cluster62\", \"cluster9\", \"cluster89\", \"cluster58\", \"cluster74\", \"cluster6\"]].transpose(), save_file=\"%s/msm_n-clusters%d_lag-time%d_tICs%d.pdf\" %(tica_dir, n_clusters, msm_lag_time, n_components), method='average')\u001b[0m\u001b[1;33m\u001b[0m\u001b[1;33m\u001b[0m\u001b[0m\n\u001b[0;32m     34\u001b[0m \u001b[1;31m#plot_clustermap(ddg_scaled[[\"s-carvedilol\", \"s-carazolol\", \"alprenalol\", \"norepinephrine\", \"nebivolol\", \"clenbuterol\", \"Tulobuterol\", \"r_isopreterenol\", \"isoetharine\", \"formoterol\", \"r_epinephrine\", \"ethylnorepinephrine\", \"N-Cyclopentylbutanephrine\"]].loc[importances_df.index.values.tolist()[:10]].transpose(), save_file=\"%s/msm_n-clusters%d_lag-time%d_tICs%d.pdf\" %(tica_dir, n_clusters, msm_lag_time, n_components), method='average')\u001b[0m\u001b[1;33m\u001b[0m\u001b[1;33m\u001b[0m\u001b[0m\n\u001b[1;32m---> 35\u001b[1;33m \u001b[0mplot_clustermap\u001b[0m\u001b[1;33m(\u001b[0m\u001b[0mpd\u001b[0m\u001b[1;33m.\u001b[0m\u001b[0mconcat\u001b[0m\u001b[1;33m(\u001b[0m\u001b[1;33m[\u001b[0m\u001b[0mddg_scaled\u001b[0m\u001b[1;33m.\u001b[0m\u001b[0mtranspose\u001b[0m\u001b[1;33m(\u001b[0m\u001b[1;33m)\u001b[0m\u001b[1;33m,\u001b[0m \u001b[0mnull_features\u001b[0m\u001b[1;33m]\u001b[0m\u001b[1;33m,\u001b[0m \u001b[0maxis\u001b[0m\u001b[1;33m=\u001b[0m\u001b[1;36m1\u001b[0m\u001b[1;33m)\u001b[0m\u001b[1;33m,\u001b[0m \u001b[0msave_file\u001b[0m\u001b[1;33m=\u001b[0m\u001b[1;34m\"%s/msm_n-clusters%d_lag-time%d_tICs%d_%s.pdf\"\u001b[0m \u001b[1;33m%\u001b[0m\u001b[1;33m(\u001b[0m\u001b[0mtica_dir\u001b[0m\u001b[1;33m,\u001b[0m \u001b[0mn_clusters\u001b[0m\u001b[1;33m,\u001b[0m \u001b[0mmsm_lag_time\u001b[0m\u001b[1;33m,\u001b[0m \u001b[0mn_components\u001b[0m\u001b[1;33m,\u001b[0m \u001b[0mprecision\u001b[0m\u001b[1;33m)\u001b[0m\u001b[1;33m,\u001b[0m \u001b[0mmethod\u001b[0m\u001b[1;33m=\u001b[0m\u001b[1;34m'average'\u001b[0m\u001b[1;33m,\u001b[0m \u001b[0mz_score\u001b[0m\u001b[1;33m=\u001b[0m\u001b[1;36m1\u001b[0m\u001b[1;33m)\u001b[0m\u001b[1;33m\u001b[0m\u001b[0m\n\u001b[0m\u001b[0;32m     36\u001b[0m \u001b[1;33m\u001b[0m\u001b[0m\n\u001b[0;32m     37\u001b[0m \u001b[1;33m\u001b[0m\u001b[0m\n",
      "\u001b[1;32m/vspdata/vspcompute/home/enf/b2ar_analysis/conformation/plots.pyc\u001b[0m in \u001b[0;36mplot_clustermap\u001b[1;34m(corr_df, save_file, method, row_cluster, col_cluster, xtick_labelsize, ytick_labelsize, z_score)\u001b[0m\n\u001b[0;32m    167\u001b[0m   \u001b[1;32melse\u001b[0m\u001b[1;33m:\u001b[0m\u001b[1;33m\u001b[0m\u001b[0m\n\u001b[0;32m    168\u001b[0m     \u001b[0mfigsize\u001b[0m \u001b[1;33m=\u001b[0m \u001b[1;33m(\u001b[0m\u001b[1;36m8.\u001b[0m\u001b[1;33m,\u001b[0m \u001b[1;36m8.\u001b[0m\u001b[1;33m/\u001b[0m\u001b[0mratio\u001b[0m\u001b[1;33m)\u001b[0m\u001b[1;33m\u001b[0m\u001b[0m\n\u001b[1;32m--> 169\u001b[1;33m   \u001b[0mg\u001b[0m \u001b[1;33m=\u001b[0m \u001b[0msns\u001b[0m\u001b[1;33m.\u001b[0m\u001b[0mclustermap\u001b[0m\u001b[1;33m(\u001b[0m\u001b[0mcorr_df\u001b[0m\u001b[1;33m,\u001b[0m \u001b[0mz_score\u001b[0m\u001b[1;33m=\u001b[0m\u001b[0mz_score\u001b[0m\u001b[1;33m,\u001b[0m \u001b[0mmethod\u001b[0m\u001b[1;33m=\u001b[0m\u001b[0mmethod\u001b[0m\u001b[1;33m,\u001b[0m \u001b[0mrow_cluster\u001b[0m\u001b[1;33m=\u001b[0m\u001b[0mrow_cluster\u001b[0m\u001b[1;33m,\u001b[0m \u001b[0mcol_cluster\u001b[0m\u001b[1;33m=\u001b[0m\u001b[0mcol_cluster\u001b[0m\u001b[1;33m,\u001b[0m \u001b[0mfigsize\u001b[0m\u001b[1;33m=\u001b[0m\u001b[0mfigsize\u001b[0m\u001b[1;33m)\u001b[0m\u001b[1;33m\u001b[0m\u001b[0m\n\u001b[0m\u001b[0;32m    170\u001b[0m   \u001b[0msns\u001b[0m\u001b[1;33m.\u001b[0m\u001b[0mset\u001b[0m\u001b[1;33m(\u001b[0m\u001b[0mfont_scale\u001b[0m\u001b[1;33m=\u001b[0m\u001b[1;36m0.5\u001b[0m\u001b[1;33m)\u001b[0m\u001b[1;33m\u001b[0m\u001b[0m\n\u001b[0;32m    171\u001b[0m \u001b[1;33m\u001b[0m\u001b[0m\n",
      "\u001b[1;32m/home/enf/software/anaconda/lib/python2.7/site-packages/seaborn/matrix.pyc\u001b[0m in \u001b[0;36mclustermap\u001b[1;34m(data, pivot_kws, method, metric, z_score, standard_scale, figsize, cbar_kws, row_cluster, col_cluster, row_linkage, col_linkage, row_colors, col_colors, mask, **kwargs)\u001b[0m\n\u001b[0;32m   1167\u001b[0m                         \u001b[0mrow_cluster\u001b[0m\u001b[1;33m=\u001b[0m\u001b[0mrow_cluster\u001b[0m\u001b[1;33m,\u001b[0m \u001b[0mcol_cluster\u001b[0m\u001b[1;33m=\u001b[0m\u001b[0mcol_cluster\u001b[0m\u001b[1;33m,\u001b[0m\u001b[1;33m\u001b[0m\u001b[0m\n\u001b[0;32m   1168\u001b[0m                         \u001b[0mrow_linkage\u001b[0m\u001b[1;33m=\u001b[0m\u001b[0mrow_linkage\u001b[0m\u001b[1;33m,\u001b[0m \u001b[0mcol_linkage\u001b[0m\u001b[1;33m=\u001b[0m\u001b[0mcol_linkage\u001b[0m\u001b[1;33m,\u001b[0m\u001b[1;33m\u001b[0m\u001b[0m\n\u001b[1;32m-> 1169\u001b[1;33m                         **kwargs)\n\u001b[0m",
      "\u001b[1;32m/home/enf/software/anaconda/lib/python2.7/site-packages/seaborn/matrix.pyc\u001b[0m in \u001b[0;36mplot\u001b[1;34m(self, metric, method, colorbar_kws, row_cluster, col_cluster, row_linkage, col_linkage, **kws)\u001b[0m\n\u001b[0;32m   1006\u001b[0m         \u001b[0mcolorbar_kws\u001b[0m \u001b[1;33m=\u001b[0m \u001b[1;33m{\u001b[0m\u001b[1;33m}\u001b[0m \u001b[1;32mif\u001b[0m \u001b[0mcolorbar_kws\u001b[0m \u001b[1;32mis\u001b[0m \u001b[0mNone\u001b[0m \u001b[1;32melse\u001b[0m \u001b[0mcolorbar_kws\u001b[0m\u001b[1;33m\u001b[0m\u001b[0m\n\u001b[0;32m   1007\u001b[0m         self.plot_dendrograms(row_cluster, col_cluster, metric, method,\n\u001b[1;32m-> 1008\u001b[1;33m                               row_linkage=row_linkage, col_linkage=col_linkage)\n\u001b[0m\u001b[0;32m   1009\u001b[0m         \u001b[1;32mtry\u001b[0m\u001b[1;33m:\u001b[0m\u001b[1;33m\u001b[0m\u001b[0m\n\u001b[0;32m   1010\u001b[0m             \u001b[0mxind\u001b[0m \u001b[1;33m=\u001b[0m \u001b[0mself\u001b[0m\u001b[1;33m.\u001b[0m\u001b[0mdendrogram_col\u001b[0m\u001b[1;33m.\u001b[0m\u001b[0mreordered_ind\u001b[0m\u001b[1;33m\u001b[0m\u001b[0m\n",
      "\u001b[1;32m/home/enf/software/anaconda/lib/python2.7/site-packages/seaborn/matrix.pyc\u001b[0m in \u001b[0;36mplot_dendrograms\u001b[1;34m(self, row_cluster, col_cluster, metric, method, row_linkage, col_linkage)\u001b[0m\n\u001b[0;32m    931\u001b[0m             self.dendrogram_row = dendrogram(\n\u001b[0;32m    932\u001b[0m                 \u001b[0mself\u001b[0m\u001b[1;33m.\u001b[0m\u001b[0mdata2d\u001b[0m\u001b[1;33m,\u001b[0m \u001b[0mmetric\u001b[0m\u001b[1;33m=\u001b[0m\u001b[0mmetric\u001b[0m\u001b[1;33m,\u001b[0m \u001b[0mmethod\u001b[0m\u001b[1;33m=\u001b[0m\u001b[0mmethod\u001b[0m\u001b[1;33m,\u001b[0m \u001b[0mlabel\u001b[0m\u001b[1;33m=\u001b[0m\u001b[0mFalse\u001b[0m\u001b[1;33m,\u001b[0m \u001b[0maxis\u001b[0m\u001b[1;33m=\u001b[0m\u001b[1;36m0\u001b[0m\u001b[1;33m,\u001b[0m\u001b[1;33m\u001b[0m\u001b[0m\n\u001b[1;32m--> 933\u001b[1;33m                 ax=self.ax_row_dendrogram, rotate=True, linkage=row_linkage)\n\u001b[0m\u001b[0;32m    934\u001b[0m         \u001b[1;32melse\u001b[0m\u001b[1;33m:\u001b[0m\u001b[1;33m\u001b[0m\u001b[0m\n\u001b[0;32m    935\u001b[0m             \u001b[0mself\u001b[0m\u001b[1;33m.\u001b[0m\u001b[0max_row_dendrogram\u001b[0m\u001b[1;33m.\u001b[0m\u001b[0mset_xticks\u001b[0m\u001b[1;33m(\u001b[0m\u001b[1;33m[\u001b[0m\u001b[1;33m]\u001b[0m\u001b[1;33m)\u001b[0m\u001b[1;33m\u001b[0m\u001b[0m\n",
      "\u001b[1;32m/home/enf/software/anaconda/lib/python2.7/site-packages/seaborn/matrix.pyc\u001b[0m in \u001b[0;36mdendrogram\u001b[1;34m(data, linkage, axis, label, metric, method, rotate, ax)\u001b[0m\n\u001b[0;32m    682\u001b[0m     plotter = _DendrogramPlotter(data, linkage=linkage, axis=axis,\n\u001b[0;32m    683\u001b[0m                                  \u001b[0mmetric\u001b[0m\u001b[1;33m=\u001b[0m\u001b[0mmetric\u001b[0m\u001b[1;33m,\u001b[0m \u001b[0mmethod\u001b[0m\u001b[1;33m=\u001b[0m\u001b[0mmethod\u001b[0m\u001b[1;33m,\u001b[0m\u001b[1;33m\u001b[0m\u001b[0m\n\u001b[1;32m--> 684\u001b[1;33m                                  label=label, rotate=rotate)\n\u001b[0m\u001b[0;32m    685\u001b[0m     \u001b[1;32mif\u001b[0m \u001b[0max\u001b[0m \u001b[1;32mis\u001b[0m \u001b[0mNone\u001b[0m\u001b[1;33m:\u001b[0m\u001b[1;33m\u001b[0m\u001b[0m\n\u001b[0;32m    686\u001b[0m         \u001b[0max\u001b[0m \u001b[1;33m=\u001b[0m \u001b[0mplt\u001b[0m\u001b[1;33m.\u001b[0m\u001b[0mgca\u001b[0m\u001b[1;33m(\u001b[0m\u001b[1;33m)\u001b[0m\u001b[1;33m\u001b[0m\u001b[0m\n",
      "\u001b[1;32m/home/enf/software/anaconda/lib/python2.7/site-packages/seaborn/matrix.pyc\u001b[0m in \u001b[0;36m__init__\u001b[1;34m(self, data, linkage, metric, method, axis, label, rotate)\u001b[0m\n\u001b[0;32m    500\u001b[0m         \u001b[1;32melse\u001b[0m\u001b[1;33m:\u001b[0m\u001b[1;33m\u001b[0m\u001b[0m\n\u001b[0;32m    501\u001b[0m             \u001b[0mself\u001b[0m\u001b[1;33m.\u001b[0m\u001b[0mlinkage\u001b[0m \u001b[1;33m=\u001b[0m \u001b[0mlinkage\u001b[0m\u001b[1;33m\u001b[0m\u001b[0m\n\u001b[1;32m--> 502\u001b[1;33m         \u001b[0mself\u001b[0m\u001b[1;33m.\u001b[0m\u001b[0mdendrogram\u001b[0m \u001b[1;33m=\u001b[0m \u001b[0mself\u001b[0m\u001b[1;33m.\u001b[0m\u001b[0mcalculate_dendrogram\u001b[0m\u001b[1;33m(\u001b[0m\u001b[1;33m)\u001b[0m\u001b[1;33m\u001b[0m\u001b[0m\n\u001b[0m\u001b[0;32m    503\u001b[0m \u001b[1;33m\u001b[0m\u001b[0m\n\u001b[0;32m    504\u001b[0m         \u001b[1;31m# Dendrogram ends are always at multiples of 5, who knows why\u001b[0m\u001b[1;33m\u001b[0m\u001b[1;33m\u001b[0m\u001b[0m\n",
      "\u001b[1;32m/home/enf/software/anaconda/lib/python2.7/site-packages/seaborn/matrix.pyc\u001b[0m in \u001b[0;36mcalculate_dendrogram\u001b[1;34m(self)\u001b[0m\n\u001b[0;32m    580\u001b[0m         \"\"\"\n\u001b[0;32m    581\u001b[0m         return hierarchy.dendrogram(self.linkage, no_plot=True,\n\u001b[1;32m--> 582\u001b[1;33m                                     color_threshold=-np.inf)\n\u001b[0m\u001b[0;32m    583\u001b[0m \u001b[1;33m\u001b[0m\u001b[0m\n\u001b[0;32m    584\u001b[0m     \u001b[1;33m@\u001b[0m\u001b[0mproperty\u001b[0m\u001b[1;33m\u001b[0m\u001b[0m\n",
      "\u001b[1;32m/home/enf/software/anaconda/lib/python2.7/site-packages/scipy/cluster/hierarchy.pyc\u001b[0m in \u001b[0;36mdendrogram\u001b[1;34m(Z, p, truncate_mode, color_threshold, get_leaves, orientation, labels, count_sort, distance_sort, show_leaf_counts, no_plot, no_labels, color_list, leaf_font_size, leaf_rotation, leaf_label_func, no_leaves, show_contracted, link_color_func, ax, above_threshold_color)\u001b[0m\n\u001b[0;32m   2068\u001b[0m                          \"'bottom', or 'right'\")\n\u001b[0;32m   2069\u001b[0m \u001b[1;33m\u001b[0m\u001b[0m\n\u001b[1;32m-> 2070\u001b[1;33m     \u001b[0mis_valid_linkage\u001b[0m\u001b[1;33m(\u001b[0m\u001b[0mZ\u001b[0m\u001b[1;33m,\u001b[0m \u001b[0mthrow\u001b[0m\u001b[1;33m=\u001b[0m\u001b[0mTrue\u001b[0m\u001b[1;33m,\u001b[0m \u001b[0mname\u001b[0m\u001b[1;33m=\u001b[0m\u001b[1;34m'Z'\u001b[0m\u001b[1;33m)\u001b[0m\u001b[1;33m\u001b[0m\u001b[0m\n\u001b[0m\u001b[0;32m   2071\u001b[0m     \u001b[0mZs\u001b[0m \u001b[1;33m=\u001b[0m \u001b[0mZ\u001b[0m\u001b[1;33m.\u001b[0m\u001b[0mshape\u001b[0m\u001b[1;33m\u001b[0m\u001b[0m\n\u001b[0;32m   2072\u001b[0m     \u001b[0mn\u001b[0m \u001b[1;33m=\u001b[0m \u001b[0mZs\u001b[0m\u001b[1;33m[\u001b[0m\u001b[1;36m0\u001b[0m\u001b[1;33m]\u001b[0m \u001b[1;33m+\u001b[0m \u001b[1;36m1\u001b[0m\u001b[1;33m\u001b[0m\u001b[0m\n",
      "\u001b[1;32m/home/enf/software/anaconda/lib/python2.7/site-packages/scipy/cluster/hierarchy.pyc\u001b[0m in \u001b[0;36mis_valid_linkage\u001b[1;34m(Z, warning, throw, name)\u001b[0m\n\u001b[0;32m   1279\u001b[0m             \u001b[1;32mif\u001b[0m \u001b[1;33m(\u001b[0m\u001b[1;33m(\u001b[0m\u001b[0mZ\u001b[0m\u001b[1;33m[\u001b[0m\u001b[1;33m:\u001b[0m\u001b[1;33m,\u001b[0m \u001b[1;36m0\u001b[0m\u001b[1;33m]\u001b[0m \u001b[1;33m<\u001b[0m \u001b[1;36m0\u001b[0m\u001b[1;33m)\u001b[0m\u001b[1;33m.\u001b[0m\u001b[0many\u001b[0m\u001b[1;33m(\u001b[0m\u001b[1;33m)\u001b[0m \u001b[1;32mor\u001b[0m \u001b[1;33m(\u001b[0m\u001b[0mZ\u001b[0m\u001b[1;33m[\u001b[0m\u001b[1;33m:\u001b[0m\u001b[1;33m,\u001b[0m \u001b[1;36m1\u001b[0m\u001b[1;33m]\u001b[0m \u001b[1;33m<\u001b[0m \u001b[1;36m0\u001b[0m\u001b[1;33m)\u001b[0m\u001b[1;33m.\u001b[0m\u001b[0many\u001b[0m\u001b[1;33m(\u001b[0m\u001b[1;33m)\u001b[0m\u001b[1;33m)\u001b[0m\u001b[1;33m:\u001b[0m\u001b[1;33m\u001b[0m\u001b[0m\n\u001b[0;32m   1280\u001b[0m                 raise ValueError('Linkage %scontains negative indices.' %\n\u001b[1;32m-> 1281\u001b[1;33m                                  name_str)\n\u001b[0m\u001b[0;32m   1282\u001b[0m             \u001b[1;32mif\u001b[0m \u001b[1;33m(\u001b[0m\u001b[0mZ\u001b[0m\u001b[1;33m[\u001b[0m\u001b[1;33m:\u001b[0m\u001b[1;33m,\u001b[0m \u001b[1;36m2\u001b[0m\u001b[1;33m]\u001b[0m \u001b[1;33m<\u001b[0m \u001b[1;36m0\u001b[0m\u001b[1;33m)\u001b[0m\u001b[1;33m.\u001b[0m\u001b[0many\u001b[0m\u001b[1;33m(\u001b[0m\u001b[1;33m)\u001b[0m\u001b[1;33m:\u001b[0m\u001b[1;33m\u001b[0m\u001b[0m\n\u001b[0;32m   1283\u001b[0m                 raise ValueError('Linkage %scontains negative distances.' %\n",
      "\u001b[1;31mValueError\u001b[0m: Linkage 'Z' contains negative indices."
     ]
    }
   ],
   "source": [
    "from scipy.stats import pearsonr\n",
    "import plots\n",
    "reload(plots)\n",
    "from plots import *\n",
    "\"\"\"\n",
    "samples_tica = pd.read_csv(tica_coords_csv, index_col=0)\n",
    "samples_docking = pd.read_csv(docking_multiple_ligands, index_col=0)\n",
    "common_indices = list(set(samples_docking.index.values).intersection(samples_tica.index.values))\n",
    "samples_tica = samples_tica.loc[common_indices]\n",
    "samples_docking = samples_docking.loc[common_indices]\n",
    "\n",
    "\n",
    "pearson_matrix = np.zeros((samples_docking.shape[1], samples_tica.shape[1]))\n",
    "for i in range(0, pearson_matrix.shape[0]):\n",
    "    for j in range(0, pearson_matrix.shape[1]):\n",
    "        pearson_matrix[i][j] = pearsonr(samples_docking.values[:,i], samples_tica.values[:,j])[0]\n",
    "MI_matrix = np.abs(compute_sr_matrix(samples_docking.values, samples_tica.values))\n",
    "\"\"\"\n",
    "plt.clf()\n",
    "#first_entries = [\"nebivolol\", \"s-carvedilol\", \"s-carazolol\", \"s-atenolol\", \"xamoterol\", \"3p0g_lig\", \"isoetharine\", \"ethylnorepinephrine\", \"salbutamol\", \"norepinephrine\"]\n",
    "secret_compounds = [c for c in delta_delta_g.columns.values if \"Compound\" in c]\n",
    "#drug_order = first_entries + list(set(delta_delta_g.columns.values).difference(set(first_entries)).difference(set(secret_compounds)))\n",
    "#delta_delta_g = delta_delta_g[drug_order]\n",
    "#delta_delta_g.sort(\"nebivolol\", inplace=True)\n",
    "\n",
    "#plot_heatmap(scale(delta_delta_g.values).T, delta_delta_g.columns.values, delta_delta_g.index.values, save_file=\"%s/msm_n-clusters%d_lag-time%d_n-heatmap.pdf\" %(tica_dir, n_clusters, msm_lag_time))\n",
    "#plot_heatmap(MI_matrix, samples_docking.columns.values, samples_tica.columns.values, save_file=\"%s/msm_n-clusters%d_lag-time%d_tICs%d.pdf\" %(tica_dir, n_clusters, msm_lag_time, n_components))\n",
    "ddg_scaled = copy.deepcopy(delta_delta_g)\n",
    "ddg_scaled[delta_delta_g.columns.values] = scale(delta_delta_g.values)\n",
    "#ddg_scaled.index = [n.split(\"cluster\")[1] for n in ddg_scaled.index.values]\n",
    "\n",
    "\n",
    "#plot_clustermap(docking_normalized[[\"nebivolol\", \"terbutaline\", \"s-carvedilol\", \"Ici118551\", \"s-atenolol\", \"propranolol\", \"bisoprolol\", \"s-carazolol\", \"timolol\", \"procaterol\", \"r_isopreterenol\", \"norepinephrine\", \"r_epinephrine\", \"ethylnorepinephrine\", \"isoetharine\", \"N-Cyclopentylbutanephrine\", \"3p0g_lig\", \"fenoterol\", \"formoterol\"]].loc[[\"cluster80\", \"cluster16\", \"cluster99\", \"cluster90\", \"cluster43\", \"cluster62\", \"cluster9\", \"cluster89\", \"cluster58\", \"cluster74\", \"cluster6\"]].transpose(), save_file=\"%s/msm_n-clusters%d_lag-time%d_tICs%d.pdf\" %(tica_dir, n_clusters, msm_lag_time, n_components), method='average')\n",
    "#plot_clustermap(ddg_scaled[[\"s-carvedilol\", \"s-carazolol\", \"alprenalol\", \"norepinephrine\", \"nebivolol\", \"clenbuterol\", \"Tulobuterol\", \"r_isopreterenol\", \"isoetharine\", \"formoterol\", \"r_epinephrine\", \"ethylnorepinephrine\", \"N-Cyclopentylbutanephrine\"]].loc[importances_df.index.values.tolist()[:10]].transpose(), save_file=\"%s/msm_n-clusters%d_lag-time%d_tICs%d.pdf\" %(tica_dir, n_clusters, msm_lag_time, n_components), method='average')\n",
    "plot_clustermap(pd.concat([ddg_scaled.transpose(), null_features], axis=1), save_file=\"%s/msm_n-clusters%d_lag-time%d_tICs%d_%s.pdf\" %(tica_dir, n_clusters, msm_lag_time, n_components, precision), method='average', z_score=1)\n",
    "\n",
    "\n"
   ]
  },
  {
   "cell_type": "code",
   "execution_count": 47,
   "metadata": {
    "collapsed": false
   },
   "outputs": [
    {
     "data": {
      "text/html": [
       "<div>\n",
       "<table border=\"1\" class=\"dataframe\">\n",
       "  <thead>\n",
       "    <tr style=\"text-align: right;\">\n",
       "      <th>sample</th>\n",
       "      <th>2rh1_grid</th>\n",
       "      <th>3p0g_grid</th>\n",
       "      <th>null_scores</th>\n",
       "    </tr>\n",
       "  </thead>\n",
       "  <tbody>\n",
       "    <tr>\n",
       "      <th>clenbuterol</th>\n",
       "      <td>7.61</td>\n",
       "      <td>9.41</td>\n",
       "      <td>1.80</td>\n",
       "    </tr>\n",
       "    <tr>\n",
       "      <th>labetalol</th>\n",
       "      <td>8.73</td>\n",
       "      <td>10.24</td>\n",
       "      <td>1.51</td>\n",
       "    </tr>\n",
       "    <tr>\n",
       "      <th>cimaterol</th>\n",
       "      <td>7.57</td>\n",
       "      <td>9.18</td>\n",
       "      <td>1.61</td>\n",
       "    </tr>\n",
       "    <tr>\n",
       "      <th>olodaterol</th>\n",
       "      <td>8.61</td>\n",
       "      <td>10.55</td>\n",
       "      <td>1.94</td>\n",
       "    </tr>\n",
       "    <tr>\n",
       "      <th>t-0509</th>\n",
       "      <td>8.77</td>\n",
       "      <td>9.17</td>\n",
       "      <td>0.40</td>\n",
       "    </tr>\n",
       "    <tr>\n",
       "      <th>isoetharine</th>\n",
       "      <td>7.01</td>\n",
       "      <td>9.60</td>\n",
       "      <td>2.59</td>\n",
       "    </tr>\n",
       "    <tr>\n",
       "      <th>nadolol</th>\n",
       "      <td>8.88</td>\n",
       "      <td>6.17</td>\n",
       "      <td>-2.71</td>\n",
       "    </tr>\n",
       "    <tr>\n",
       "      <th>formoterol</th>\n",
       "      <td>8.45</td>\n",
       "      <td>9.74</td>\n",
       "      <td>1.29</td>\n",
       "    </tr>\n",
       "    <tr>\n",
       "      <th>fenoterol</th>\n",
       "      <td>7.85</td>\n",
       "      <td>10.55</td>\n",
       "      <td>2.70</td>\n",
       "    </tr>\n",
       "    <tr>\n",
       "      <th>s-atenolol</th>\n",
       "      <td>7.90</td>\n",
       "      <td>4.82</td>\n",
       "      <td>-3.08</td>\n",
       "    </tr>\n",
       "    <tr>\n",
       "      <th>3p0g_lig</th>\n",
       "      <td>8.04</td>\n",
       "      <td>11.13</td>\n",
       "      <td>3.09</td>\n",
       "    </tr>\n",
       "    <tr>\n",
       "      <th>acebutolol</th>\n",
       "      <td>5.69</td>\n",
       "      <td>5.10</td>\n",
       "      <td>-0.59</td>\n",
       "    </tr>\n",
       "    <tr>\n",
       "      <th>isoetharine_prep</th>\n",
       "      <td>7.01</td>\n",
       "      <td>9.60</td>\n",
       "      <td>2.59</td>\n",
       "    </tr>\n",
       "    <tr>\n",
       "      <th>Structure2D_CID_3343</th>\n",
       "      <td>8.39</td>\n",
       "      <td>9.77</td>\n",
       "      <td>1.38</td>\n",
       "    </tr>\n",
       "    <tr>\n",
       "      <th>ah3021</th>\n",
       "      <td>7.42</td>\n",
       "      <td>9.66</td>\n",
       "      <td>2.24</td>\n",
       "    </tr>\n",
       "    <tr>\n",
       "      <th>Ici215001</th>\n",
       "      <td>7.87</td>\n",
       "      <td>7.19</td>\n",
       "      <td>-0.68</td>\n",
       "    </tr>\n",
       "    <tr>\n",
       "      <th>practolol</th>\n",
       "      <td>5.49</td>\n",
       "      <td>3.29</td>\n",
       "      <td>-2.20</td>\n",
       "    </tr>\n",
       "    <tr>\n",
       "      <th>s-carvedilol_prep</th>\n",
       "      <td>10.43</td>\n",
       "      <td>7.24</td>\n",
       "      <td>-3.19</td>\n",
       "    </tr>\n",
       "    <tr>\n",
       "      <th>Ici118551</th>\n",
       "      <td>8.16</td>\n",
       "      <td>6.56</td>\n",
       "      <td>-1.60</td>\n",
       "    </tr>\n",
       "    <tr>\n",
       "      <th>ritrodine</th>\n",
       "      <td>6.88</td>\n",
       "      <td>8.82</td>\n",
       "      <td>1.94</td>\n",
       "    </tr>\n",
       "    <tr>\n",
       "      <th>isopropylnorsynephrine</th>\n",
       "      <td>7.08</td>\n",
       "      <td>9.28</td>\n",
       "      <td>2.20</td>\n",
       "    </tr>\n",
       "    <tr>\n",
       "      <th>r_epinephrine</th>\n",
       "      <td>6.93</td>\n",
       "      <td>8.82</td>\n",
       "      <td>1.89</td>\n",
       "    </tr>\n",
       "    <tr>\n",
       "      <th>du28663</th>\n",
       "      <td>7.57</td>\n",
       "      <td>9.10</td>\n",
       "      <td>1.53</td>\n",
       "    </tr>\n",
       "    <tr>\n",
       "      <th>sotalol</th>\n",
       "      <td>8.16</td>\n",
       "      <td>6.31</td>\n",
       "      <td>-1.85</td>\n",
       "    </tr>\n",
       "    <tr>\n",
       "      <th>r_isopreterenol</th>\n",
       "      <td>7.15</td>\n",
       "      <td>9.29</td>\n",
       "      <td>2.14</td>\n",
       "    </tr>\n",
       "    <tr>\n",
       "      <th>propranolol</th>\n",
       "      <td>9.63</td>\n",
       "      <td>7.25</td>\n",
       "      <td>-2.38</td>\n",
       "    </tr>\n",
       "    <tr>\n",
       "      <th>metoprolol</th>\n",
       "      <td>4.47</td>\n",
       "      <td>4.03</td>\n",
       "      <td>-0.44</td>\n",
       "    </tr>\n",
       "    <tr>\n",
       "      <th>timolol</th>\n",
       "      <td>7.84</td>\n",
       "      <td>7.61</td>\n",
       "      <td>-0.23</td>\n",
       "    </tr>\n",
       "    <tr>\n",
       "      <th>norepinephrine</th>\n",
       "      <td>7.20</td>\n",
       "      <td>9.31</td>\n",
       "      <td>2.11</td>\n",
       "    </tr>\n",
       "    <tr>\n",
       "      <th>procaterol</th>\n",
       "      <td>7.92</td>\n",
       "      <td>10.80</td>\n",
       "      <td>2.88</td>\n",
       "    </tr>\n",
       "    <tr>\n",
       "      <th>ZINC_results-single</th>\n",
       "      <td>NaN</td>\n",
       "      <td>NaN</td>\n",
       "      <td>NaN</td>\n",
       "    </tr>\n",
       "    <tr>\n",
       "      <th>orciprenaline</th>\n",
       "      <td>6.90</td>\n",
       "      <td>9.16</td>\n",
       "      <td>2.26</td>\n",
       "    </tr>\n",
       "    <tr>\n",
       "      <th>pindolol</th>\n",
       "      <td>8.26</td>\n",
       "      <td>6.80</td>\n",
       "      <td>-1.46</td>\n",
       "    </tr>\n",
       "    <tr>\n",
       "      <th>nor-metanephrine</th>\n",
       "      <td>7.62</td>\n",
       "      <td>7.41</td>\n",
       "      <td>-0.21</td>\n",
       "    </tr>\n",
       "    <tr>\n",
       "      <th>salmeterol</th>\n",
       "      <td>9.32</td>\n",
       "      <td>7.83</td>\n",
       "      <td>-1.49</td>\n",
       "    </tr>\n",
       "    <tr>\n",
       "      <th>zinterol</th>\n",
       "      <td>8.89</td>\n",
       "      <td>11.30</td>\n",
       "      <td>2.41</td>\n",
       "    </tr>\n",
       "    <tr>\n",
       "      <th>cicloprolol</th>\n",
       "      <td>8.40</td>\n",
       "      <td>4.37</td>\n",
       "      <td>-4.03</td>\n",
       "    </tr>\n",
       "    <tr>\n",
       "      <th>pronethalol</th>\n",
       "      <td>8.91</td>\n",
       "      <td>7.65</td>\n",
       "      <td>-1.26</td>\n",
       "    </tr>\n",
       "    <tr>\n",
       "      <th>ah3474</th>\n",
       "      <td>7.76</td>\n",
       "      <td>10.04</td>\n",
       "      <td>2.28</td>\n",
       "    </tr>\n",
       "    <tr>\n",
       "      <th>Tulobuterol</th>\n",
       "      <td>7.58</td>\n",
       "      <td>8.71</td>\n",
       "      <td>1.13</td>\n",
       "    </tr>\n",
       "    <tr>\n",
       "      <th>alprenalol</th>\n",
       "      <td>6.83</td>\n",
       "      <td>4.46</td>\n",
       "      <td>-2.37</td>\n",
       "    </tr>\n",
       "    <tr>\n",
       "      <th>du211117</th>\n",
       "      <td>7.50</td>\n",
       "      <td>9.54</td>\n",
       "      <td>2.04</td>\n",
       "    </tr>\n",
       "    <tr>\n",
       "      <th>cgp12177</th>\n",
       "      <td>8.56</td>\n",
       "      <td>6.91</td>\n",
       "      <td>-1.65</td>\n",
       "    </tr>\n",
       "    <tr>\n",
       "      <th>nebivolol</th>\n",
       "      <td>9.20</td>\n",
       "      <td>7.99</td>\n",
       "      <td>-1.21</td>\n",
       "    </tr>\n",
       "    <tr>\n",
       "      <th>MAPE</th>\n",
       "      <td>6.82</td>\n",
       "      <td>8.10</td>\n",
       "      <td>1.28</td>\n",
       "    </tr>\n",
       "    <tr>\n",
       "      <th>dopamine</th>\n",
       "      <td>6.86</td>\n",
       "      <td>8.01</td>\n",
       "      <td>1.15</td>\n",
       "    </tr>\n",
       "    <tr>\n",
       "      <th>dichloroisopreterenol</th>\n",
       "      <td>8.30</td>\n",
       "      <td>8.29</td>\n",
       "      <td>-0.01</td>\n",
       "    </tr>\n",
       "    <tr>\n",
       "      <th>N-Cyclopentylbutanephrine</th>\n",
       "      <td>7.51</td>\n",
       "      <td>9.81</td>\n",
       "      <td>2.30</td>\n",
       "    </tr>\n",
       "    <tr>\n",
       "      <th>terbutaline</th>\n",
       "      <td>7.05</td>\n",
       "      <td>9.37</td>\n",
       "      <td>2.32</td>\n",
       "    </tr>\n",
       "    <tr>\n",
       "      <th>hexoprenaline</th>\n",
       "      <td>9.25</td>\n",
       "      <td>8.64</td>\n",
       "      <td>-0.61</td>\n",
       "    </tr>\n",
       "    <tr>\n",
       "      <th>sulfonterol</th>\n",
       "      <td>8.03</td>\n",
       "      <td>9.91</td>\n",
       "      <td>1.88</td>\n",
       "    </tr>\n",
       "    <tr>\n",
       "      <th>bupranolol</th>\n",
       "      <td>8.06</td>\n",
       "      <td>5.62</td>\n",
       "      <td>-2.44</td>\n",
       "    </tr>\n",
       "    <tr>\n",
       "      <th>clenproperol</th>\n",
       "      <td>8.06</td>\n",
       "      <td>9.24</td>\n",
       "      <td>1.18</td>\n",
       "    </tr>\n",
       "    <tr>\n",
       "      <th>ethylnorepinephrine</th>\n",
       "      <td>7.25</td>\n",
       "      <td>9.47</td>\n",
       "      <td>2.22</td>\n",
       "    </tr>\n",
       "    <tr>\n",
       "      <th>ta-2005</th>\n",
       "      <td>9.46</td>\n",
       "      <td>11.14</td>\n",
       "      <td>1.68</td>\n",
       "    </tr>\n",
       "    <tr>\n",
       "      <th>s-carazolol</th>\n",
       "      <td>10.28</td>\n",
       "      <td>6.50</td>\n",
       "      <td>-3.78</td>\n",
       "    </tr>\n",
       "    <tr>\n",
       "      <th>salbutamol</th>\n",
       "      <td>6.38</td>\n",
       "      <td>9.02</td>\n",
       "      <td>2.64</td>\n",
       "    </tr>\n",
       "    <tr>\n",
       "      <th>adrenalone</th>\n",
       "      <td>6.35</td>\n",
       "      <td>8.44</td>\n",
       "      <td>2.09</td>\n",
       "    </tr>\n",
       "    <tr>\n",
       "      <th>Ici89406</th>\n",
       "      <td>8.43</td>\n",
       "      <td>7.36</td>\n",
       "      <td>-1.07</td>\n",
       "    </tr>\n",
       "    <tr>\n",
       "      <th>xamoterol</th>\n",
       "      <td>8.66</td>\n",
       "      <td>8.28</td>\n",
       "      <td>-0.38</td>\n",
       "    </tr>\n",
       "    <tr>\n",
       "      <th>skf42469</th>\n",
       "      <td>7.68</td>\n",
       "      <td>10.85</td>\n",
       "      <td>3.17</td>\n",
       "    </tr>\n",
       "    <tr>\n",
       "      <th>bisoprolol</th>\n",
       "      <td>9.50</td>\n",
       "      <td>6.06</td>\n",
       "      <td>-3.44</td>\n",
       "    </tr>\n",
       "    <tr>\n",
       "      <th>skf56301</th>\n",
       "      <td>7.41</td>\n",
       "      <td>10.04</td>\n",
       "      <td>2.63</td>\n",
       "    </tr>\n",
       "    <tr>\n",
       "      <th>bucindolol</th>\n",
       "      <td>10.26</td>\n",
       "      <td>8.20</td>\n",
       "      <td>-2.06</td>\n",
       "    </tr>\n",
       "    <tr>\n",
       "      <th>nipradilol</th>\n",
       "      <td>8.23</td>\n",
       "      <td>5.86</td>\n",
       "      <td>-2.37</td>\n",
       "    </tr>\n",
       "    <tr>\n",
       "      <th>TERBSN</th>\n",
       "      <td>7.15</td>\n",
       "      <td>9.59</td>\n",
       "      <td>2.44</td>\n",
       "    </tr>\n",
       "    <tr>\n",
       "      <th>epinine</th>\n",
       "      <td>6.67</td>\n",
       "      <td>7.72</td>\n",
       "      <td>1.05</td>\n",
       "    </tr>\n",
       "    <tr>\n",
       "      <th>s-carvedilol</th>\n",
       "      <td>10.43</td>\n",
       "      <td>7.24</td>\n",
       "      <td>-3.19</td>\n",
       "    </tr>\n",
       "    <tr>\n",
       "      <th>dobutamine</th>\n",
       "      <td>7.43</td>\n",
       "      <td>9.93</td>\n",
       "      <td>2.50</td>\n",
       "    </tr>\n",
       "    <tr>\n",
       "      <th>broxaterol</th>\n",
       "      <td>6.71</td>\n",
       "      <td>7.55</td>\n",
       "      <td>0.84</td>\n",
       "    </tr>\n",
       "    <tr>\n",
       "      <th>bevantolol</th>\n",
       "      <td>8.53</td>\n",
       "      <td>7.41</td>\n",
       "      <td>-1.12</td>\n",
       "    </tr>\n",
       "  </tbody>\n",
       "</table>\n",
       "</div>"
      ],
      "text/plain": [
       "sample                     2rh1_grid  3p0g_grid  null_scores\n",
       "clenbuterol                     7.61       9.41         1.80\n",
       "labetalol                       8.73      10.24         1.51\n",
       "cimaterol                       7.57       9.18         1.61\n",
       "olodaterol                      8.61      10.55         1.94\n",
       "t-0509                          8.77       9.17         0.40\n",
       "isoetharine                     7.01       9.60         2.59\n",
       "nadolol                         8.88       6.17        -2.71\n",
       "formoterol                      8.45       9.74         1.29\n",
       "fenoterol                       7.85      10.55         2.70\n",
       "s-atenolol                      7.90       4.82        -3.08\n",
       "3p0g_lig                        8.04      11.13         3.09\n",
       "acebutolol                      5.69       5.10        -0.59\n",
       "isoetharine_prep                7.01       9.60         2.59\n",
       "Structure2D_CID_3343            8.39       9.77         1.38\n",
       "ah3021                          7.42       9.66         2.24\n",
       "Ici215001                       7.87       7.19        -0.68\n",
       "practolol                       5.49       3.29        -2.20\n",
       "s-carvedilol_prep              10.43       7.24        -3.19\n",
       "Ici118551                       8.16       6.56        -1.60\n",
       "ritrodine                       6.88       8.82         1.94\n",
       "isopropylnorsynephrine          7.08       9.28         2.20\n",
       "r_epinephrine                   6.93       8.82         1.89\n",
       "du28663                         7.57       9.10         1.53\n",
       "sotalol                         8.16       6.31        -1.85\n",
       "r_isopreterenol                 7.15       9.29         2.14\n",
       "propranolol                     9.63       7.25        -2.38\n",
       "metoprolol                      4.47       4.03        -0.44\n",
       "timolol                         7.84       7.61        -0.23\n",
       "norepinephrine                  7.20       9.31         2.11\n",
       "procaterol                      7.92      10.80         2.88\n",
       "ZINC_results-single              NaN        NaN          NaN\n",
       "orciprenaline                   6.90       9.16         2.26\n",
       "pindolol                        8.26       6.80        -1.46\n",
       "nor-metanephrine                7.62       7.41        -0.21\n",
       "salmeterol                      9.32       7.83        -1.49\n",
       "zinterol                        8.89      11.30         2.41\n",
       "cicloprolol                     8.40       4.37        -4.03\n",
       "pronethalol                     8.91       7.65        -1.26\n",
       "ah3474                          7.76      10.04         2.28\n",
       "Tulobuterol                     7.58       8.71         1.13\n",
       "alprenalol                      6.83       4.46        -2.37\n",
       "du211117                        7.50       9.54         2.04\n",
       "cgp12177                        8.56       6.91        -1.65\n",
       "nebivolol                       9.20       7.99        -1.21\n",
       "MAPE                            6.82       8.10         1.28\n",
       "dopamine                        6.86       8.01         1.15\n",
       "dichloroisopreterenol           8.30       8.29        -0.01\n",
       "N-Cyclopentylbutanephrine       7.51       9.81         2.30\n",
       "terbutaline                     7.05       9.37         2.32\n",
       "hexoprenaline                   9.25       8.64        -0.61\n",
       "sulfonterol                     8.03       9.91         1.88\n",
       "bupranolol                      8.06       5.62        -2.44\n",
       "clenproperol                    8.06       9.24         1.18\n",
       "ethylnorepinephrine             7.25       9.47         2.22\n",
       "ta-2005                         9.46      11.14         1.68\n",
       "s-carazolol                    10.28       6.50        -3.78\n",
       "salbutamol                      6.38       9.02         2.64\n",
       "adrenalone                      6.35       8.44         2.09\n",
       "Ici89406                        8.43       7.36        -1.07\n",
       "xamoterol                       8.66       8.28        -0.38\n",
       "skf42469                        7.68      10.85         3.17\n",
       "bisoprolol                      9.50       6.06        -3.44\n",
       "skf56301                        7.41      10.04         2.63\n",
       "bucindolol                     10.26       8.20        -2.06\n",
       "nipradilol                      8.23       5.86        -2.37\n",
       "TERBSN                          7.15       9.59         2.44\n",
       "epinine                         6.67       7.72         1.05\n",
       "s-carvedilol                   10.43       7.24        -3.19\n",
       "dobutamine                      7.43       9.93         2.50\n",
       "broxaterol                      6.71       7.55         0.84\n",
       "bevantolol                      8.53       7.41        -1.12"
      ]
     },
     "execution_count": 47,
     "metadata": {},
     "output_type": "execute_result"
    }
   ],
   "source": [
    "null_features"
   ]
  },
  {
   "cell_type": "code",
   "execution_count": null,
   "metadata": {
    "collapsed": false,
    "scrolled": true
   },
   "outputs": [],
   "source": [
    "samples_pnas_tica.loc[importances_df.iloc[0:5].index.values]"
   ]
  },
  {
   "cell_type": "code",
   "execution_count": null,
   "metadata": {
    "collapsed": false
   },
   "outputs": [],
   "source": [
    "samples_normalized_features_averages_df.iloc[80].subtract(samples_normalized_features_averages_df.iloc[16]).abs().sort(inplace=False, ascending=False)"
   ]
  },
  {
   "cell_type": "code",
   "execution_count": null,
   "metadata": {
    "collapsed": false,
    "scrolled": false
   },
   "outputs": [],
   "source": [
    "from sklearn import tree\n",
    "from sklearn.tree import DecisionTreeClassifier, export_graphviz\n",
    "all_ligands = [lig for lig in delta_delta_g.columns.values if \"Carv\" not in lig and \"Xam\" not in lig and \"Compound_\" not in lig]\n",
    "X = np.vstack([delta_delta_g[all_ligands].values, ddg_scaled[all_ligands].values]).T\n",
    "y = all_ligands\n",
    "for i in range(0, len(y)):\n",
    "    if \"neb\" in y[i] or \"carv\" in y[i]:\n",
    "        y[i] = \"biased_antagonist\"\n",
    "    else:\n",
    "        y[i] = \"not_biased_antagonist\"\n",
    "y = np.array(y).reshape((-1,1))\n",
    "n_exp = 100\n",
    "importances = []\n",
    "for i in range(0, n_exp):\n",
    "    rfc = RandomForestClassifier(n_estimators=500, max_features='sqrt', n_jobs=-1)\n",
    "    rfc.fit(X,y)\n",
    "    importances.append(rfc.feature_importances_)\n",
    "importances_mu = np.mean(np.array(importances), axis=0)\n",
    "importances_df = pd.DataFrame(importances_mu, index=delta_delta_g.index.values.tolist() + [\"%s_scaled\" %n for n in ddg_scaled.index.values.tolist()], columns=[\"importance\"]).sort(\"importance\", inplace=False, ascending=False)\n",
    "importances_df.iloc[0:20]\n",
    "#X_test = delta_delta_g.loc[delta_delta_g[\"label\"] == 0][[t for t in delta_delta_g.columns.values if t != \"label\"]]\n",
    "#pd.DataFrame(dt.predict(pd.concat([X, X_test])), index=pd.concat([X, X_test]).index).sort_index()"
   ]
  },
  {
   "cell_type": "code",
   "execution_count": null,
   "metadata": {
    "collapsed": false
   },
   "outputs": [],
   "source": [
    "first_app = []\n",
    "for n in importances_df.index.values:\n",
    "    if n.split(\"_scaled\")[0] not in first_app:\n",
    "        first_app.append(n)\n",
    "importances_df.loc[first_app].iloc[0:10]\n",
    "plt.rcParams['xtick.labelsize'] = 8\n",
    "importances_df.iloc[0:25].plot(kind='barh', figsize=(4,8))\n",
    "plt.xlabel(\"Average RF Feature Importance\")\n",
    "plt.ylabel(\"MSM State\")\n",
    "plt.title(\"Distinguishing Arrestin Biased Antagonists\")"
   ]
  },
  {
   "cell_type": "code",
   "execution_count": null,
   "metadata": {
    "collapsed": false,
    "scrolled": false
   },
   "outputs": [],
   "source": [
    "import plots\n",
    "reload(plots)\n",
    "from plots import *\n",
    "names = [n.split(\"_scaled\")[0] for n in importances_df.index.values.tolist()]\n",
    "new_names = []\n",
    "for n in names:\n",
    "    if n not in new_names: new_names.append(n)\n",
    "plot_clustermap(pd.concat([samples_top_features_avg_df, samples_pnas_avg_df, ddg_scaled[[\"norepinephrine\", \"r_epinephrine\", \"ethylnorepinephrine\", \"r_isopreterenol\", \"nebivolol\", \"s-carvedilol\", \"s-carazolol\", \"s-atenolol\", \"pindolol\", \"propranolol\", 'Ici118551']]],axis=1).loc[new_names[:10]].transpose(), save_file=\"%s/msm_n-clusters%d_lag-time%d_tICs%d_arrestin_biased_antagonist_features.pdf\" %(tica_dir, n_clusters, msm_lag_time, n_components), method='single', col_cluster=True, row_cluster=True, ytick_labelsize=8, xtick_labelsize=8)"
   ]
  },
  {
   "cell_type": "code",
   "execution_count": null,
   "metadata": {
    "collapsed": true
   },
   "outputs": [],
   "source": [
    "from sklearn import tree\n",
    "from sklearn.tree import DecisionTreeClassifier, export_graphviz\n",
    "rfc = RandomForestClassifier(n_estimators=5000, max_features='sqrt', n_jobs=-1)\n",
    "X = delta_delta_g.values.T\n",
    "y = copy.deepcopy(delta_delta_g.columns.values)\n",
    "for i in range(0, len(y)):\n",
    "    if \"neb\" in y[i] or \"carv\" in y[i]:\n",
    "        y[i] = \"biased_antagonist\"\n",
    "    else:\n",
    "        y[i] = \"not_biased_antagonist\"\n",
    "y = np.array(y).reshape((-1,1))\n",
    "rfc.fit(X,y)\n",
    "importances = pd.DataFrame(rfc.feature_importances_, index=delta_delta_g.index.values, columns=[\"importance\"]).sort(\"importance\", inplace=False, ascending=False)\n",
    "importances.iloc[0:10]\n",
    "#X_test = delta_delta_g.loc[delta_delta_g[\"label\"] == 0][[t for t in delta_delta_g.columns.values if t != \"label\"]]\n",
    "#pd.DataFrame(dt.predict(pd.concat([X, X_test])), index=pd.concat([X, X_test]).index).sort_index()"
   ]
  },
  {
   "cell_type": "code",
   "execution_count": null,
   "metadata": {
    "collapsed": false
   },
   "outputs": [],
   "source": [
    "importances_df = pd.DataFrame(importances, columns=delta_delta_g.index.values.tolist()+[\"%s_scaled\" %n for n in delta_delta_g.index.values.tolist()]).mean(axis=0).transpose().sort(inplace=False, ascending=False)"
   ]
  },
  {
   "cell_type": "code",
   "execution_count": null,
   "metadata": {
    "collapsed": true
   },
   "outputs": [],
   "source": [
    "pandas.set_option('display.max_columns', None)"
   ]
  },
  {
   "cell_type": "code",
   "execution_count": null,
   "metadata": {
    "collapsed": false,
    "scrolled": true
   },
   "outputs": [],
   "source": [
    "tica_deltas = pd.concat([pnas_cluster_averages_df, tica_cluster_averages_df, delta_delta_g], axis=1)\n",
    "tica_deltas.iloc[list(biased_antagonist_indices)].sort(\"s-carvedilol\")"
   ]
  },
  {
   "cell_type": "code",
   "execution_count": 43,
   "metadata": {
    "collapsed": false,
    "scrolled": true
   },
   "outputs": [],
   "source": [
    "reference_docking_dir = \"/home/enf/b2ar_analysis/reference_docking/docking_%s\" %precision\n",
    "reference_ligand_docking = \"%s/all_docking_scores.csv\" % reference_docking_dir\n",
    "\n",
    "#analyze_docking_results_multiple(reference_docking_dir, precision = \"XP\", ligands = all_ligands, summary = reference_ligand_docking, redo = True)\n",
    "\n"
   ]
  },
  {
   "cell_type": "code",
   "execution_count": 44,
   "metadata": {
    "collapsed": false
   },
   "outputs": [],
   "source": [
    "reference_docking = pd.read_csv(reference_ligand_docking, index_col=0).dropna()\n",
    "reference_docking.columns = [''.join(e for e in lig if e.isalnum() or e=='-' or e=='_') for lig in reference_docking.columns.values]\n",
    "reference_docking.loc[\"null_scores\"] = reference_docking.iloc[1].subtract(reference_docking.iloc[0])                             "
   ]
  },
  {
   "cell_type": "code",
   "execution_count": null,
   "metadata": {
    "collapsed": false
   },
   "outputs": [],
   "source": []
  },
  {
   "cell_type": "code",
   "execution_count": 48,
   "metadata": {
    "collapsed": false
   },
   "outputs": [
    {
     "name": "stdout",
     "output_type": "stream",
     "text": [
      "skf42090\n"
     ]
    }
   ],
   "source": [
    "from sklearn.cross_validation import train_test_split\n",
    "from sklearn.preprocessing import label_binarize, scale, StandardScaler\n",
    "\n",
    "features = delta_delta_g.transpose()\n",
    "null_features = reference_docking.transpose().loc[features.index]\n",
    "\n",
    "classes = pd.read_csv(\"/home/enf/b2ar_analysis/b2ar_antagonists_agonists3.csv\", header=None)\n",
    "\n",
    "agonists = classes.iloc[1].dropna().values.tolist()\n",
    "agonists = [''.join(e for e in lig if e.isalnum() or e=='-' or e=='_') for lig in agonists]\n",
    "\n",
    "antagonists = classes.iloc[0].dropna().values.tolist()\n",
    "antagonists = [''.join(e for e in lig if e.isalnum() or e=='-' or e=='_') for lig in antagonists]\n",
    "\n",
    "\n",
    "labels = np.zeros((features.shape[0], 1), dtype=object)\n",
    "for agonist in agonists:\n",
    "    try:\n",
    "        labels[features.index.values.tolist().index(agonist), 0] = \"agonist\"\n",
    "    except:\n",
    "        print(agonist)\n",
    "        continue\n",
    "for agonist in antagonists:\n",
    "    try:\n",
    "        labels[features.index.values.tolist().index(agonist), 0] = \"antagonist\"\n",
    "    except:\n",
    "        print(agonist)\n",
    "        continue\n",
    "non_zero_inds = np.where(labels != 0)[0]\n",
    "X = features.values[non_zero_inds,:]\n",
    "N = -1.0 * null_features.values[non_zero_inds,2]\n",
    "C = N\n",
    "y = labels[non_zero_inds, :]\n",
    "y = label_binarize(y, [\"agonist\", \"antagonist\"])\n",
    "\n",
    "\n",
    "\n"
   ]
  },
  {
   "cell_type": "code",
   "execution_count": null,
   "metadata": {
    "collapsed": false
   },
   "outputs": [],
   "source": []
  },
  {
   "cell_type": "code",
   "execution_count": null,
   "metadata": {
    "collapsed": true
   },
   "outputs": [],
   "source": []
  },
  {
   "cell_type": "code",
   "execution_count": 49,
   "metadata": {
    "collapsed": false
   },
   "outputs": [
    {
     "ename": "NameError",
     "evalue": "name 'bret' is not defined",
     "output_type": "error",
     "traceback": [
      "\u001b[1;31m---------------------------------------------------------------------------\u001b[0m",
      "\u001b[1;31mNameError\u001b[0m                                 Traceback (most recent call last)",
      "\u001b[1;32m<ipython-input-49-35774c775418>\u001b[0m in \u001b[0;36m<module>\u001b[1;34m()\u001b[0m\n\u001b[1;32m----> 1\u001b[1;33m \u001b[0mplt\u001b[0m\u001b[1;33m.\u001b[0m\u001b[0mhist\u001b[0m\u001b[1;33m(\u001b[0m\u001b[0mbret\u001b[0m\u001b[1;33m[\u001b[0m\u001b[1;34m\"B2AR-Arrestin, Mean\"\u001b[0m\u001b[1;33m]\u001b[0m\u001b[1;33m.\u001b[0m\u001b[0mloc\u001b[0m\u001b[1;33m[\u001b[0m\u001b[0mcommon_ligands\u001b[0m\u001b[1;33m]\u001b[0m\u001b[1;33m.\u001b[0m\u001b[0mvalues\u001b[0m\u001b[1;33m,\u001b[0m \u001b[0mbins\u001b[0m\u001b[1;33m=\u001b[0m\u001b[1;36m25\u001b[0m\u001b[1;33m)\u001b[0m\u001b[1;33m\u001b[0m\u001b[0m\n\u001b[0m",
      "\u001b[1;31mNameError\u001b[0m: name 'bret' is not defined"
     ]
    }
   ],
   "source": [
    "plt.hist(bret[\"B2AR-Arrestin, Mean\"].loc[common_ligands].values, bins=25)"
   ]
  },
  {
   "cell_type": "code",
   "execution_count": null,
   "metadata": {
    "collapsed": false
   },
   "outputs": [],
   "source": [
    "plt.hist(bret[\"B2AR-Gprotein, Mean\"].loc[common_ligands].values, bins=25)"
   ]
  },
  {
   "cell_type": "code",
   "execution_count": null,
   "metadata": {
    "collapsed": false
   },
   "outputs": [],
   "source": [
    "print(np.median(test_r2s))\n",
    "print(np.median(C_test_r2s))\n",
    "print(np.median(test_accuracies))\n",
    "print(np.median(C_test_accuracies))"
   ]
  },
  {
   "cell_type": "code",
   "execution_count": null,
   "metadata": {
    "collapsed": false,
    "scrolled": true
   },
   "outputs": [],
   "source": [
    "importances_df = make_importances_df(coefs, delta_delta_g.index.values.tolist())\n",
    "#importances_df.loc[[\"cluster80\", \"cluster80_scaled\"]]\n",
    "importances_df"
   ]
  },
  {
   "cell_type": "code",
   "execution_count": null,
   "metadata": {
    "collapsed": false
   },
   "outputs": [],
   "source": [
    "top_features"
   ]
  },
  {
   "cell_type": "code",
   "execution_count": null,
   "metadata": {
    "collapsed": true
   },
   "outputs": [],
   "source": [
    "cluster89\t0.045510\n",
    "cluster16\t0.045213\n",
    "cluster16_scaled\t0.030536\n",
    "cluster58\t0.023098\n",
    "cluster80\t0.022688\n",
    "cluster83\t0.021890\n",
    "cluster80_scaled\t0.021453\n",
    "cluster62_scaled\t0.020681\n",
    "cluster74_scaled\t0.016951\n",
    "cluster89_scaled\t0.016909\n",
    "cluster36\t0.015715\n",
    "cluster74\t0.015292\n",
    "cluster83_scaled\t0.015117\n",
    "cluster69_scaled\t0.014170\n",
    "cluster62\t0.013974\n",
    "cluster61_scaled\t0.013855\n",
    "cluster91_scaled\t0.013455\n",
    "cluster51\t0.013423\n",
    "cluster36_scaled\t0.013396\n",
    "cluster67\t0.013267"
   ]
  },
  {
   "cell_type": "code",
   "execution_count": null,
   "metadata": {
    "collapsed": false
   },
   "outputs": [],
   "source": [
    "test_r2s"
   ]
  },
  {
   "cell_type": "code",
   "execution_count": 50,
   "metadata": {
    "collapsed": true
   },
   "outputs": [],
   "source": [
    "def b(x, y, i):\n",
    "    return y[i+1] - x[i+1] * (y[i+1] - y[i]) / (x[i+1] - x[i])\n",
    "\n",
    "def logauc(x, y, lam=0.001):\n",
    "    num = 0.\n",
    "    for i in range(0, len(x)-1):\n",
    "        if x[i] >= lam:\n",
    "            num += ((y[i+1]-y[i])/np.log(10) + b(x, y, i) * (np.log10(x[i+1]) - np.log10(x[i])))\n",
    "    return num / (np.log10(1./lam))\n",
    "\n",
    "def logauc2(x, y, lam=0.001):\n",
    "    num = 0.\n",
    "    for i in range(0, len(x)-1):\n",
    "        if x[i] >= lam:\n",
    "            num += (np.log10(x[i+1]) - np.log10(x[i])) * (y[i+1]+y[i]) /2.\n",
    "    return num / (np.log10(1./lam))"
   ]
  },
  {
   "cell_type": "code",
   "execution_count": 51,
   "metadata": {
    "collapsed": false,
    "scrolled": true
   },
   "outputs": [
    {
     "data": {
      "text/html": [
       "<div>\n",
       "<table border=\"1\" class=\"dataframe\">\n",
       "  <thead>\n",
       "    <tr style=\"text-align: right;\">\n",
       "      <th></th>\n",
       "      <th>Number</th>\n",
       "      <th>Name</th>\n",
       "      <th>Abbreviation</th>\n",
       "      <th>B2AR-Gprotein, Mean</th>\n",
       "      <th>B2AR-Gprotein, IA(from CR curves) Mean</th>\n",
       "      <th>B2AR-Arrestin, Mean</th>\n",
       "      <th>B2AR-Arrestin, IA(from CR curves) Mean</th>\n",
       "      <th>Unnamed: 8</th>\n",
       "    </tr>\n",
       "    <tr>\n",
       "      <th>EvanName</th>\n",
       "      <th></th>\n",
       "      <th></th>\n",
       "      <th></th>\n",
       "      <th></th>\n",
       "      <th></th>\n",
       "      <th></th>\n",
       "      <th></th>\n",
       "      <th></th>\n",
       "    </tr>\n",
       "  </thead>\n",
       "  <tbody>\n",
       "    <tr>\n",
       "      <th>adrenalone</th>\n",
       "      <td>1</td>\n",
       "      <td>Adrenalone</td>\n",
       "      <td>ADO</td>\n",
       "      <td>1.01</td>\n",
       "      <td>1.00</td>\n",
       "      <td>0.95</td>\n",
       "      <td>0.94</td>\n",
       "      <td>-0.06</td>\n",
       "    </tr>\n",
       "    <tr>\n",
       "      <th>salbutamol</th>\n",
       "      <td>4</td>\n",
       "      <td>Albuterol (Salbutamol)</td>\n",
       "      <td>ALB</td>\n",
       "      <td>0.81</td>\n",
       "      <td>0.64</td>\n",
       "      <td>0.29</td>\n",
       "      <td>0.31</td>\n",
       "      <td>-0.52</td>\n",
       "    </tr>\n",
       "    <tr>\n",
       "      <th>alprenalol</th>\n",
       "      <td>5</td>\n",
       "      <td>Alprenolol</td>\n",
       "      <td>ALP</td>\n",
       "      <td>0.05</td>\n",
       "      <td>-</td>\n",
       "      <td>0.00</td>\n",
       "      <td>-</td>\n",
       "      <td>-0.05</td>\n",
       "    </tr>\n",
       "    <tr>\n",
       "      <th>s-atenolol</th>\n",
       "      <td>6</td>\n",
       "      <td>Atenolol</td>\n",
       "      <td>ATE</td>\n",
       "      <td>0.03</td>\n",
       "      <td>-</td>\n",
       "      <td>0.00</td>\n",
       "      <td>-</td>\n",
       "      <td>-0.03</td>\n",
       "    </tr>\n",
       "    <tr>\n",
       "      <th>bisoprolol</th>\n",
       "      <td>7</td>\n",
       "      <td>Bisoprolol</td>\n",
       "      <td>BIS</td>\n",
       "      <td>-0.03</td>\n",
       "      <td>-</td>\n",
       "      <td>0.00</td>\n",
       "      <td>-</td>\n",
       "      <td>0.03</td>\n",
       "    </tr>\n",
       "    <tr>\n",
       "      <th>Tulobuterol</th>\n",
       "      <td>9</td>\n",
       "      <td>C78 (Tulobuterol)</td>\n",
       "      <td>C78</td>\n",
       "      <td>0.47</td>\n",
       "      <td>0.36</td>\n",
       "      <td>0.03</td>\n",
       "      <td>-</td>\n",
       "      <td>-0.44</td>\n",
       "    </tr>\n",
       "    <tr>\n",
       "      <th>Carvedilol</th>\n",
       "      <td>10</td>\n",
       "      <td>Carvedilol</td>\n",
       "      <td>CARV</td>\n",
       "      <td>-0.01</td>\n",
       "      <td>-</td>\n",
       "      <td>0.00</td>\n",
       "      <td>-</td>\n",
       "      <td>0.01</td>\n",
       "    </tr>\n",
       "    <tr>\n",
       "      <th>cgp12177</th>\n",
       "      <td>11</td>\n",
       "      <td>CGP 12177</td>\n",
       "      <td>CGP</td>\n",
       "      <td>0.00</td>\n",
       "      <td>-</td>\n",
       "      <td>0.00</td>\n",
       "      <td>-</td>\n",
       "      <td>0.00</td>\n",
       "    </tr>\n",
       "    <tr>\n",
       "      <th>cimaterol</th>\n",
       "      <td>12</td>\n",
       "      <td>Cimeterol</td>\n",
       "      <td>CIM</td>\n",
       "      <td>0.93</td>\n",
       "      <td>0.81</td>\n",
       "      <td>0.63</td>\n",
       "      <td>0.46</td>\n",
       "      <td>-0.30</td>\n",
       "    </tr>\n",
       "    <tr>\n",
       "      <th>clenbuterol</th>\n",
       "      <td>13</td>\n",
       "      <td>Clenbuterol</td>\n",
       "      <td>CLEN</td>\n",
       "      <td>0.51</td>\n",
       "      <td>0.49</td>\n",
       "      <td>0.13</td>\n",
       "      <td>0.15</td>\n",
       "      <td>-0.38</td>\n",
       "    </tr>\n",
       "    <tr>\n",
       "      <th>dichloroisopreterenol</th>\n",
       "      <td>14</td>\n",
       "      <td>Dichloroisoproterenol</td>\n",
       "      <td>DCI</td>\n",
       "      <td>0.19</td>\n",
       "      <td>0.24</td>\n",
       "      <td>0.00</td>\n",
       "      <td>-</td>\n",
       "      <td>-0.19</td>\n",
       "    </tr>\n",
       "    <tr>\n",
       "      <th>dobutamine</th>\n",
       "      <td>15</td>\n",
       "      <td>Dobutamine</td>\n",
       "      <td>DOB</td>\n",
       "      <td>0.63</td>\n",
       "      <td>0.56</td>\n",
       "      <td>0.02</td>\n",
       "      <td>-</td>\n",
       "      <td>-0.61</td>\n",
       "    </tr>\n",
       "    <tr>\n",
       "      <th>dopamine</th>\n",
       "      <td>16</td>\n",
       "      <td>Dopamine</td>\n",
       "      <td>DOP</td>\n",
       "      <td>0.66</td>\n",
       "      <td>0.72</td>\n",
       "      <td>0.04</td>\n",
       "      <td>-</td>\n",
       "      <td>-0.62</td>\n",
       "    </tr>\n",
       "    <tr>\n",
       "      <th>du211117</th>\n",
       "      <td>17</td>\n",
       "      <td>Du 21117</td>\n",
       "      <td>DU21</td>\n",
       "      <td>1.02</td>\n",
       "      <td>0.87</td>\n",
       "      <td>0.63</td>\n",
       "      <td>0.62</td>\n",
       "      <td>-0.39</td>\n",
       "    </tr>\n",
       "    <tr>\n",
       "      <th>du28663</th>\n",
       "      <td>18</td>\n",
       "      <td>Du 28663</td>\n",
       "      <td>DU28</td>\n",
       "      <td>1.09</td>\n",
       "      <td>0.79</td>\n",
       "      <td>0.63</td>\n",
       "      <td>0.57</td>\n",
       "      <td>-0.46</td>\n",
       "    </tr>\n",
       "    <tr>\n",
       "      <th>r_epinephrine</th>\n",
       "      <td>19</td>\n",
       "      <td>Epinephrine</td>\n",
       "      <td>EPI</td>\n",
       "      <td>1.00</td>\n",
       "      <td>1.00</td>\n",
       "      <td>1.00</td>\n",
       "      <td>1</td>\n",
       "      <td>0.00</td>\n",
       "    </tr>\n",
       "    <tr>\n",
       "      <th>fenoterol</th>\n",
       "      <td>20</td>\n",
       "      <td>Fenoterol</td>\n",
       "      <td>FEN</td>\n",
       "      <td>0.91</td>\n",
       "      <td>0.77</td>\n",
       "      <td>0.96</td>\n",
       "      <td>0.75</td>\n",
       "      <td>0.05</td>\n",
       "    </tr>\n",
       "    <tr>\n",
       "      <th>hexoprenaline</th>\n",
       "      <td>21</td>\n",
       "      <td>Hexoprenaline</td>\n",
       "      <td>HEX</td>\n",
       "      <td>1.22</td>\n",
       "      <td>0.81</td>\n",
       "      <td>1.16</td>\n",
       "      <td>0.89</td>\n",
       "      <td>-0.06</td>\n",
       "    </tr>\n",
       "    <tr>\n",
       "      <th>Ici118551</th>\n",
       "      <td>22</td>\n",
       "      <td>ICI 118551</td>\n",
       "      <td>ICI118</td>\n",
       "      <td>-0.06</td>\n",
       "      <td>-</td>\n",
       "      <td>0.00</td>\n",
       "      <td>-</td>\n",
       "      <td>0.06</td>\n",
       "    </tr>\n",
       "    <tr>\n",
       "      <th>Ici215001</th>\n",
       "      <td>23</td>\n",
       "      <td>ICI 215001</td>\n",
       "      <td>ICI215</td>\n",
       "      <td>-0.03</td>\n",
       "      <td>-</td>\n",
       "      <td>0.00</td>\n",
       "      <td>-</td>\n",
       "      <td>0.03</td>\n",
       "    </tr>\n",
       "    <tr>\n",
       "      <th>Ici89406</th>\n",
       "      <td>24</td>\n",
       "      <td>ICI 89406</td>\n",
       "      <td>ICI89</td>\n",
       "      <td>0.03</td>\n",
       "      <td>-</td>\n",
       "      <td>0.00</td>\n",
       "      <td>-</td>\n",
       "      <td>-0.03</td>\n",
       "    </tr>\n",
       "    <tr>\n",
       "      <th>isopropylnorsynephrine</th>\n",
       "      <td>25</td>\n",
       "      <td>Isopropylnorsynephrine</td>\n",
       "      <td>IPNS</td>\n",
       "      <td>0.57</td>\n",
       "      <td>0.52</td>\n",
       "      <td>0.02</td>\n",
       "      <td>-</td>\n",
       "      <td>-0.55</td>\n",
       "    </tr>\n",
       "    <tr>\n",
       "      <th>r_isopreterenol</th>\n",
       "      <td>26</td>\n",
       "      <td>Isoproterenol</td>\n",
       "      <td>ISO</td>\n",
       "      <td>0.96</td>\n",
       "      <td>1.00</td>\n",
       "      <td>0.96</td>\n",
       "      <td>0.94</td>\n",
       "      <td>0.00</td>\n",
       "    </tr>\n",
       "    <tr>\n",
       "      <th>labetalol</th>\n",
       "      <td>27</td>\n",
       "      <td>Labetalol</td>\n",
       "      <td>LAB</td>\n",
       "      <td>0.06</td>\n",
       "      <td>-</td>\n",
       "      <td>0.00</td>\n",
       "      <td>-</td>\n",
       "      <td>-0.06</td>\n",
       "    </tr>\n",
       "    <tr>\n",
       "      <th>MAPE</th>\n",
       "      <td>28</td>\n",
       "      <td>MAPE [2-(methylamino)-1-\\rphenylethanol]\\rhalo...</td>\n",
       "      <td>MAPE</td>\n",
       "      <td>0.56</td>\n",
       "      <td>0.59</td>\n",
       "      <td>0.02</td>\n",
       "      <td>-</td>\n",
       "      <td>-0.54</td>\n",
       "    </tr>\n",
       "    <tr>\n",
       "      <th>clenproperol</th>\n",
       "      <td>29</td>\n",
       "      <td>NAB 277 (clenproperol)</td>\n",
       "      <td>NAB27</td>\n",
       "      <td>0.64</td>\n",
       "      <td>0.54</td>\n",
       "      <td>0.10</td>\n",
       "      <td>0.14</td>\n",
       "      <td>-0.54</td>\n",
       "    </tr>\n",
       "    <tr>\n",
       "      <th>epinine</th>\n",
       "      <td>30</td>\n",
       "      <td>N-methyl-dopamine (epinine)</td>\n",
       "      <td>NMDOP</td>\n",
       "      <td>0.92</td>\n",
       "      <td>0.91</td>\n",
       "      <td>0.89</td>\n",
       "      <td>0.9</td>\n",
       "      <td>-0.03</td>\n",
       "    </tr>\n",
       "    <tr>\n",
       "      <th>norepinephrine</th>\n",
       "      <td>31</td>\n",
       "      <td>Norepinephrine</td>\n",
       "      <td>NREPI</td>\n",
       "      <td>0.99</td>\n",
       "      <td>1.01</td>\n",
       "      <td>0.87</td>\n",
       "      <td>0.84</td>\n",
       "      <td>-0.12</td>\n",
       "    </tr>\n",
       "    <tr>\n",
       "      <th>nor-metanephrine</th>\n",
       "      <td>32</td>\n",
       "      <td>Nor-metanephrine</td>\n",
       "      <td>NRMET</td>\n",
       "      <td>0.24</td>\n",
       "      <td>-</td>\n",
       "      <td>0.00</td>\n",
       "      <td>-</td>\n",
       "      <td>-0.24</td>\n",
       "    </tr>\n",
       "    <tr>\n",
       "      <th>orciprenaline</th>\n",
       "      <td>33</td>\n",
       "      <td>Orciprenaline (alupent)</td>\n",
       "      <td>ORCI</td>\n",
       "      <td>0.84</td>\n",
       "      <td>0.76</td>\n",
       "      <td>0.41</td>\n",
       "      <td>0.4</td>\n",
       "      <td>-0.43</td>\n",
       "    </tr>\n",
       "    <tr>\n",
       "      <th>pindolol</th>\n",
       "      <td>34</td>\n",
       "      <td>Pindolol</td>\n",
       "      <td>PIN</td>\n",
       "      <td>0.00</td>\n",
       "      <td>-</td>\n",
       "      <td>0.00</td>\n",
       "      <td>-</td>\n",
       "      <td>0.00</td>\n",
       "    </tr>\n",
       "    <tr>\n",
       "      <th>practolol</th>\n",
       "      <td>35</td>\n",
       "      <td>Practolol</td>\n",
       "      <td>PRAC</td>\n",
       "      <td>0.02</td>\n",
       "      <td>-</td>\n",
       "      <td>0.00</td>\n",
       "      <td>-</td>\n",
       "      <td>-0.02</td>\n",
       "    </tr>\n",
       "    <tr>\n",
       "      <th>pronethalol</th>\n",
       "      <td>36</td>\n",
       "      <td>Pronethalol</td>\n",
       "      <td>PRON</td>\n",
       "      <td>0.00</td>\n",
       "      <td>-</td>\n",
       "      <td>0.00</td>\n",
       "      <td>-</td>\n",
       "      <td>0.00</td>\n",
       "    </tr>\n",
       "    <tr>\n",
       "      <th>propranolol</th>\n",
       "      <td>37</td>\n",
       "      <td>Propranolol</td>\n",
       "      <td>PROP</td>\n",
       "      <td>-0.01</td>\n",
       "      <td>-</td>\n",
       "      <td>0.00</td>\n",
       "      <td>-</td>\n",
       "      <td>0.01</td>\n",
       "    </tr>\n",
       "    <tr>\n",
       "      <th>ritrodine</th>\n",
       "      <td>38</td>\n",
       "      <td>Ritodrine</td>\n",
       "      <td>RIT</td>\n",
       "      <td>0.77</td>\n",
       "      <td>0.53</td>\n",
       "      <td>0.04</td>\n",
       "      <td>-</td>\n",
       "      <td>-0.73</td>\n",
       "    </tr>\n",
       "    <tr>\n",
       "      <th>skf42469</th>\n",
       "      <td>39</td>\n",
       "      <td>SKF 42469</td>\n",
       "      <td>SKF42</td>\n",
       "      <td>0.97</td>\n",
       "      <td>0.83</td>\n",
       "      <td>0.88</td>\n",
       "      <td>0.77</td>\n",
       "      <td>-0.09</td>\n",
       "    </tr>\n",
       "    <tr>\n",
       "      <th>sotalol</th>\n",
       "      <td>40</td>\n",
       "      <td>Sotalol (betapace)</td>\n",
       "      <td>SOT</td>\n",
       "      <td>0.00</td>\n",
       "      <td>-</td>\n",
       "      <td>0.00</td>\n",
       "      <td>-</td>\n",
       "      <td>0.00</td>\n",
       "    </tr>\n",
       "    <tr>\n",
       "      <th>sulfonterol</th>\n",
       "      <td>41</td>\n",
       "      <td>Sulfonterol</td>\n",
       "      <td>SULF</td>\n",
       "      <td>0.40</td>\n",
       "      <td>0.33</td>\n",
       "      <td>0.01</td>\n",
       "      <td>-</td>\n",
       "      <td>-0.39</td>\n",
       "    </tr>\n",
       "    <tr>\n",
       "      <th>terbutaline</th>\n",
       "      <td>42</td>\n",
       "      <td>Terbutaline</td>\n",
       "      <td>TERB</td>\n",
       "      <td>0.80</td>\n",
       "      <td>0.79</td>\n",
       "      <td>0.47</td>\n",
       "      <td>0.41</td>\n",
       "      <td>-0.33</td>\n",
       "    </tr>\n",
       "    <tr>\n",
       "      <th>TERBSN</th>\n",
       "      <td>43</td>\n",
       "      <td>Tertbutylnorsynephrine</td>\n",
       "      <td>TERBSN</td>\n",
       "      <td>0.58</td>\n",
       "      <td>0.45</td>\n",
       "      <td>0.02</td>\n",
       "      <td>-</td>\n",
       "      <td>-0.56</td>\n",
       "    </tr>\n",
       "    <tr>\n",
       "      <th>timolol</th>\n",
       "      <td>44</td>\n",
       "      <td>Timolol</td>\n",
       "      <td>TIM</td>\n",
       "      <td>-0.03</td>\n",
       "      <td>-</td>\n",
       "      <td>0.00</td>\n",
       "      <td>-</td>\n",
       "      <td>0.03</td>\n",
       "    </tr>\n",
       "    <tr>\n",
       "      <th>xamoterol</th>\n",
       "      <td>45</td>\n",
       "      <td>Xamoterol (ICI 118587)</td>\n",
       "      <td>XAM</td>\n",
       "      <td>0.13</td>\n",
       "      <td>0.21</td>\n",
       "      <td>0.00</td>\n",
       "      <td>-</td>\n",
       "      <td>-0.13</td>\n",
       "    </tr>\n",
       "  </tbody>\n",
       "</table>\n",
       "</div>"
      ],
      "text/plain": [
       "                        Number  \\\n",
       "EvanName                         \n",
       "adrenalone                   1   \n",
       "salbutamol                   4   \n",
       "alprenalol                   5   \n",
       "s-atenolol                   6   \n",
       "bisoprolol                   7   \n",
       "Tulobuterol                  9   \n",
       "Carvedilol                  10   \n",
       "cgp12177                    11   \n",
       "cimaterol                   12   \n",
       "clenbuterol                 13   \n",
       "dichloroisopreterenol       14   \n",
       "dobutamine                  15   \n",
       "dopamine                    16   \n",
       "du211117                    17   \n",
       "du28663                     18   \n",
       "r_epinephrine               19   \n",
       "fenoterol                   20   \n",
       "hexoprenaline               21   \n",
       "Ici118551                   22   \n",
       "Ici215001                   23   \n",
       "Ici89406                    24   \n",
       "isopropylnorsynephrine      25   \n",
       "r_isopreterenol             26   \n",
       "labetalol                   27   \n",
       "MAPE                        28   \n",
       "clenproperol                29   \n",
       "epinine                     30   \n",
       "norepinephrine              31   \n",
       "nor-metanephrine            32   \n",
       "orciprenaline               33   \n",
       "pindolol                    34   \n",
       "practolol                   35   \n",
       "pronethalol                 36   \n",
       "propranolol                 37   \n",
       "ritrodine                   38   \n",
       "skf42469                    39   \n",
       "sotalol                     40   \n",
       "sulfonterol                 41   \n",
       "terbutaline                 42   \n",
       "TERBSN                      43   \n",
       "timolol                     44   \n",
       "xamoterol                   45   \n",
       "\n",
       "                                                                     Name  \\\n",
       "EvanName                                                                    \n",
       "adrenalone                                                     Adrenalone   \n",
       "salbutamol                                         Albuterol (Salbutamol)   \n",
       "alprenalol                                                     Alprenolol   \n",
       "s-atenolol                                                       Atenolol   \n",
       "bisoprolol                                                     Bisoprolol   \n",
       "Tulobuterol                                             C78 (Tulobuterol)   \n",
       "Carvedilol                                                     Carvedilol   \n",
       "cgp12177                                                        CGP 12177   \n",
       "cimaterol                                                       Cimeterol   \n",
       "clenbuterol                                                   Clenbuterol   \n",
       "dichloroisopreterenol                               Dichloroisoproterenol   \n",
       "dobutamine                                                     Dobutamine   \n",
       "dopamine                                                         Dopamine   \n",
       "du211117                                                         Du 21117   \n",
       "du28663                                                          Du 28663   \n",
       "r_epinephrine                                                 Epinephrine   \n",
       "fenoterol                                                       Fenoterol   \n",
       "hexoprenaline                                               Hexoprenaline   \n",
       "Ici118551                                                      ICI 118551   \n",
       "Ici215001                                                      ICI 215001   \n",
       "Ici89406                                                        ICI 89406   \n",
       "isopropylnorsynephrine                             Isopropylnorsynephrine   \n",
       "r_isopreterenol                                             Isoproterenol   \n",
       "labetalol                                                       Labetalol   \n",
       "MAPE                    MAPE [2-(methylamino)-1-\\rphenylethanol]\\rhalo...   \n",
       "clenproperol                                       NAB 277 (clenproperol)   \n",
       "epinine                                       N-methyl-dopamine (epinine)   \n",
       "norepinephrine                                             Norepinephrine   \n",
       "nor-metanephrine                                         Nor-metanephrine   \n",
       "orciprenaline                                     Orciprenaline (alupent)   \n",
       "pindolol                                                         Pindolol   \n",
       "practolol                                                       Practolol   \n",
       "pronethalol                                                   Pronethalol   \n",
       "propranolol                                                   Propranolol   \n",
       "ritrodine                                                       Ritodrine   \n",
       "skf42469                                                        SKF 42469   \n",
       "sotalol                                                Sotalol (betapace)   \n",
       "sulfonterol                                                   Sulfonterol   \n",
       "terbutaline                                                   Terbutaline   \n",
       "TERBSN                                             Tertbutylnorsynephrine   \n",
       "timolol                                                           Timolol   \n",
       "xamoterol                                          Xamoterol (ICI 118587)   \n",
       "\n",
       "                       Abbreviation  B2AR-Gprotein, Mean  \\\n",
       "EvanName                                                   \n",
       "adrenalone                      ADO                 1.01   \n",
       "salbutamol                      ALB                 0.81   \n",
       "alprenalol                      ALP                 0.05   \n",
       "s-atenolol                      ATE                 0.03   \n",
       "bisoprolol                      BIS                -0.03   \n",
       "Tulobuterol                     C78                 0.47   \n",
       "Carvedilol                     CARV                -0.01   \n",
       "cgp12177                        CGP                 0.00   \n",
       "cimaterol                       CIM                 0.93   \n",
       "clenbuterol                    CLEN                 0.51   \n",
       "dichloroisopreterenol           DCI                 0.19   \n",
       "dobutamine                      DOB                 0.63   \n",
       "dopamine                        DOP                 0.66   \n",
       "du211117                       DU21                 1.02   \n",
       "du28663                        DU28                 1.09   \n",
       "r_epinephrine                   EPI                 1.00   \n",
       "fenoterol                       FEN                 0.91   \n",
       "hexoprenaline                   HEX                 1.22   \n",
       "Ici118551                    ICI118                -0.06   \n",
       "Ici215001                    ICI215                -0.03   \n",
       "Ici89406                      ICI89                 0.03   \n",
       "isopropylnorsynephrine         IPNS                 0.57   \n",
       "r_isopreterenol                 ISO                 0.96   \n",
       "labetalol                       LAB                 0.06   \n",
       "MAPE                           MAPE                 0.56   \n",
       "clenproperol                  NAB27                 0.64   \n",
       "epinine                       NMDOP                 0.92   \n",
       "norepinephrine                NREPI                 0.99   \n",
       "nor-metanephrine              NRMET                 0.24   \n",
       "orciprenaline                  ORCI                 0.84   \n",
       "pindolol                        PIN                 0.00   \n",
       "practolol                      PRAC                 0.02   \n",
       "pronethalol                    PRON                 0.00   \n",
       "propranolol                    PROP                -0.01   \n",
       "ritrodine                       RIT                 0.77   \n",
       "skf42469                      SKF42                 0.97   \n",
       "sotalol                         SOT                 0.00   \n",
       "sulfonterol                    SULF                 0.40   \n",
       "terbutaline                    TERB                 0.80   \n",
       "TERBSN                       TERBSN                 0.58   \n",
       "timolol                         TIM                -0.03   \n",
       "xamoterol                       XAM                 0.13   \n",
       "\n",
       "                       B2AR-Gprotein, IA(from CR curves) Mean  \\\n",
       "EvanName                                                        \n",
       "adrenalone                                               1.00   \n",
       "salbutamol                                               0.64   \n",
       "alprenalol                                                  -   \n",
       "s-atenolol                                                  -   \n",
       "bisoprolol                                                  -   \n",
       "Tulobuterol                                              0.36   \n",
       "Carvedilol                                                  -   \n",
       "cgp12177                                                    -   \n",
       "cimaterol                                                0.81   \n",
       "clenbuterol                                              0.49   \n",
       "dichloroisopreterenol                                    0.24   \n",
       "dobutamine                                               0.56   \n",
       "dopamine                                                 0.72   \n",
       "du211117                                                 0.87   \n",
       "du28663                                                  0.79   \n",
       "r_epinephrine                                            1.00   \n",
       "fenoterol                                                0.77   \n",
       "hexoprenaline                                            0.81   \n",
       "Ici118551                                                   -   \n",
       "Ici215001                                                   -   \n",
       "Ici89406                                                    -   \n",
       "isopropylnorsynephrine                                   0.52   \n",
       "r_isopreterenol                                          1.00   \n",
       "labetalol                                                   -   \n",
       "MAPE                                                     0.59   \n",
       "clenproperol                                             0.54   \n",
       "epinine                                                  0.91   \n",
       "norepinephrine                                           1.01   \n",
       "nor-metanephrine                                            -   \n",
       "orciprenaline                                            0.76   \n",
       "pindolol                                                    -   \n",
       "practolol                                                   -   \n",
       "pronethalol                                                 -   \n",
       "propranolol                                                 -   \n",
       "ritrodine                                                0.53   \n",
       "skf42469                                                 0.83   \n",
       "sotalol                                                     -   \n",
       "sulfonterol                                              0.33   \n",
       "terbutaline                                              0.79   \n",
       "TERBSN                                                   0.45   \n",
       "timolol                                                     -   \n",
       "xamoterol                                                0.21   \n",
       "\n",
       "                        B2AR-Arrestin, Mean  \\\n",
       "EvanName                                      \n",
       "adrenalone                             0.95   \n",
       "salbutamol                             0.29   \n",
       "alprenalol                             0.00   \n",
       "s-atenolol                             0.00   \n",
       "bisoprolol                             0.00   \n",
       "Tulobuterol                            0.03   \n",
       "Carvedilol                             0.00   \n",
       "cgp12177                               0.00   \n",
       "cimaterol                              0.63   \n",
       "clenbuterol                            0.13   \n",
       "dichloroisopreterenol                  0.00   \n",
       "dobutamine                             0.02   \n",
       "dopamine                               0.04   \n",
       "du211117                               0.63   \n",
       "du28663                                0.63   \n",
       "r_epinephrine                          1.00   \n",
       "fenoterol                              0.96   \n",
       "hexoprenaline                          1.16   \n",
       "Ici118551                              0.00   \n",
       "Ici215001                              0.00   \n",
       "Ici89406                               0.00   \n",
       "isopropylnorsynephrine                 0.02   \n",
       "r_isopreterenol                        0.96   \n",
       "labetalol                              0.00   \n",
       "MAPE                                   0.02   \n",
       "clenproperol                           0.10   \n",
       "epinine                                0.89   \n",
       "norepinephrine                         0.87   \n",
       "nor-metanephrine                       0.00   \n",
       "orciprenaline                          0.41   \n",
       "pindolol                               0.00   \n",
       "practolol                              0.00   \n",
       "pronethalol                            0.00   \n",
       "propranolol                            0.00   \n",
       "ritrodine                              0.04   \n",
       "skf42469                               0.88   \n",
       "sotalol                                0.00   \n",
       "sulfonterol                            0.01   \n",
       "terbutaline                            0.47   \n",
       "TERBSN                                 0.02   \n",
       "timolol                                0.00   \n",
       "xamoterol                              0.00   \n",
       "\n",
       "                       B2AR-Arrestin, IA(from CR curves) Mean  Unnamed: 8  \n",
       "EvanName                                                                   \n",
       "adrenalone                                               0.94       -0.06  \n",
       "salbutamol                                               0.31       -0.52  \n",
       "alprenalol                                                  -       -0.05  \n",
       "s-atenolol                                                  -       -0.03  \n",
       "bisoprolol                                                  -        0.03  \n",
       "Tulobuterol                                                 -       -0.44  \n",
       "Carvedilol                                                  -        0.01  \n",
       "cgp12177                                                    -        0.00  \n",
       "cimaterol                                                0.46       -0.30  \n",
       "clenbuterol                                              0.15       -0.38  \n",
       "dichloroisopreterenol                                       -       -0.19  \n",
       "dobutamine                                                  -       -0.61  \n",
       "dopamine                                                    -       -0.62  \n",
       "du211117                                                 0.62       -0.39  \n",
       "du28663                                                  0.57       -0.46  \n",
       "r_epinephrine                                               1        0.00  \n",
       "fenoterol                                                0.75        0.05  \n",
       "hexoprenaline                                            0.89       -0.06  \n",
       "Ici118551                                                   -        0.06  \n",
       "Ici215001                                                   -        0.03  \n",
       "Ici89406                                                    -       -0.03  \n",
       "isopropylnorsynephrine                                      -       -0.55  \n",
       "r_isopreterenol                                          0.94        0.00  \n",
       "labetalol                                                   -       -0.06  \n",
       "MAPE                                                        -       -0.54  \n",
       "clenproperol                                             0.14       -0.54  \n",
       "epinine                                                   0.9       -0.03  \n",
       "norepinephrine                                           0.84       -0.12  \n",
       "nor-metanephrine                                            -       -0.24  \n",
       "orciprenaline                                             0.4       -0.43  \n",
       "pindolol                                                    -        0.00  \n",
       "practolol                                                   -       -0.02  \n",
       "pronethalol                                                 -        0.00  \n",
       "propranolol                                                 -        0.01  \n",
       "ritrodine                                                   -       -0.73  \n",
       "skf42469                                                 0.77       -0.09  \n",
       "sotalol                                                     -        0.00  \n",
       "sulfonterol                                                 -       -0.39  \n",
       "terbutaline                                              0.41       -0.33  \n",
       "TERBSN                                                      -       -0.56  \n",
       "timolol                                                     -        0.03  \n",
       "xamoterol                                                   -       -0.13  "
      ]
     },
     "execution_count": 51,
     "metadata": {},
     "output_type": "execute_result"
    }
   ],
   "source": [
    "bret = pd.read_csv(\"/home/enf/b2ar_analysis/bias_analysis/bret_bias_study.csv\", header=0).dropna().set_index(\"EvanName\")\n",
    "bret"
   ]
  },
  {
   "cell_type": "code",
   "execution_count": 52,
   "metadata": {
    "collapsed": false
   },
   "outputs": [
    {
     "data": {
      "text/plain": [
       "EvanName\n",
       "ritrodine                -0.73\n",
       "dopamine                 -0.62\n",
       "dobutamine               -0.61\n",
       "TERBSN                   -0.56\n",
       "isopropylnorsynephrine   -0.55\n",
       "clenproperol             -0.54\n",
       "MAPE                     -0.54\n",
       "salbutamol               -0.52\n",
       "du28663                  -0.46\n",
       "Tulobuterol              -0.44\n",
       "orciprenaline            -0.43\n",
       "sulfonterol              -0.39\n",
       "du211117                 -0.39\n",
       "clenbuterol              -0.38\n",
       "terbutaline              -0.33\n",
       "cimaterol                -0.30\n",
       "nor-metanephrine         -0.24\n",
       "dichloroisopreterenol    -0.19\n",
       "xamoterol                -0.13\n",
       "norepinephrine           -0.12\n",
       "skf42469                 -0.09\n",
       "adrenalone               -0.06\n",
       "hexoprenaline            -0.06\n",
       "labetalol                -0.06\n",
       "alprenalol               -0.05\n",
       "epinine                  -0.03\n",
       "Ici89406                 -0.03\n",
       "s-atenolol               -0.03\n",
       "practolol                -0.02\n",
       "r_epinephrine             0.00\n",
       "pindolol                  0.00\n",
       "pronethalol               0.00\n",
       "cgp12177                  0.00\n",
       "sotalol                   0.00\n",
       "r_isopreterenol           0.00\n",
       "propranolol               0.01\n",
       "Carvedilol                0.01\n",
       "timolol                   0.03\n",
       "bisoprolol                0.03\n",
       "Ici215001                 0.03\n",
       "fenoterol                 0.05\n",
       "Ici118551                 0.06\n",
       "dtype: float64"
      ]
     },
     "execution_count": 52,
     "metadata": {},
     "output_type": "execute_result"
    }
   ],
   "source": [
    "bret[\"B2AR-Arrestin, Mean\"].subtract(bret[\"B2AR-Gprotein, Mean\"]).sort(inplace=False)"
   ]
  },
  {
   "cell_type": "code",
   "execution_count": 53,
   "metadata": {
    "collapsed": false
   },
   "outputs": [],
   "source": [
    "common_ligands = [n for n in bret.index.values if n in delta_delta_g.columns.values]"
   ]
  },
  {
   "cell_type": "code",
   "execution_count": 54,
   "metadata": {
    "collapsed": true
   },
   "outputs": [],
   "source": [
    "from sklearn.metrics import auc as calculate_auc\n",
    "import statsmodels\n",
    "def compute_auc(y_train, y_score):\n",
    "    fpr, tpr, _ = roc_curve(y_train, y_score[:,1])\n",
    "    roc_auc = calculate_auc(fpr, tpr)\n",
    "    log_auc = logauc2(fpr, tpr)\n",
    "    return roc_auc, log_auc"
   ]
  },
  {
   "cell_type": "code",
   "execution_count": 55,
   "metadata": {
    "collapsed": true
   },
   "outputs": [],
   "source": [
    "from sklearn.cross_validation import train_test_split\n",
    "\n",
    "def do_regression_experiment(features, y, feature_names, n_trials, train_size=0.8, regularize=False):\n",
    "    test_r2s = []\n",
    "    feature_importances = []\n",
    "\n",
    "    features_y = copy.deepcopy(features)\n",
    "    features_y.append(y)\n",
    "    \n",
    "    for j in range(0,n_trials):\n",
    "        print(j)\n",
    "        r2_scores = []\n",
    "        train_test_arrays = train_test_split(*features_y, train_size=0.8) \n",
    "        y_train = train_test_arrays[2*len(features)]\n",
    "        y_test = train_test_arrays[2*len(features) + 1]\n",
    "        feature_importance = []\n",
    "\n",
    "        for i in range(0, len(features)):\n",
    "            X_train = train_test_arrays[2*i]\n",
    "            X_test = train_test_arrays[2*i+1]\n",
    "\n",
    "            sc = StandardScaler()\n",
    "            sc.fit(X_train)\n",
    "            X_train = sc.transform(X_train)\n",
    "            X_test = sc.transform(X_test)\n",
    "\n",
    "            rfr = RandomForestRegressor(n_estimators=100, max_features='sqrt', n_jobs=-1)\n",
    "            rfr.fit(X_train, y_train)\n",
    "            if not regularize:\n",
    "                feature_importance.append(rfr.feature_importances_)\n",
    "            else:\n",
    "                top_indices = np.argsort(rfr.feature_importances_*-1.)[:min(10, X.shape[1])]\n",
    "                rfr = RandomForestClassifier(n_estimators=10, max_features=None, n_jobs=-1, oob_score=True)\n",
    "                X_train = X_train[:, top_indices]\n",
    "                X_test = X_test[:, top_indices]\n",
    "                rfr.fit(X_train, y_train)\n",
    "                f = np.zeros(X.shape[1])\n",
    "                f[top_indices] = rfr.feature_importances_\n",
    "                feature_importance.append(f)\n",
    "\n",
    "\n",
    "\n",
    "            if train_size == 1.:\n",
    "                X_test = X_train\n",
    "                y_test = y_train\n",
    "            \n",
    "            r2_score = rfr.score(X_test, y_test)\n",
    "            r2_scores.append(r2_score)\n",
    "        \n",
    "        test_r2s.append(r2_scores)\n",
    "\n",
    "        feature_importances.append(feature_importance)\n",
    "    \n",
    "    return test_r2s, feature_importances\n",
    "\n"
   ]
  },
  {
   "cell_type": "code",
   "execution_count": 56,
   "metadata": {
    "collapsed": false
   },
   "outputs": [],
   "source": [
    "from sklearn.cross_validation import train_test_split\n",
    "\n",
    "def do_classification_experiment(features, y, feature_names, n_trials, train_size=0.8, regularize=False):\n",
    "    test_accuracies = []\n",
    "    test_aucs = []\n",
    "    test_log_aucs = []\n",
    "    C_test_aucs = []\n",
    "    C_test_log_aucs = []\n",
    "    feature_importances = []\n",
    "\n",
    "    features_y = copy.deepcopy(features)\n",
    "    features_y.append(y)\n",
    "    \n",
    "    for j in range(0,n_trials):\n",
    "        print(j)\n",
    "        aucs = []\n",
    "        log_aucs = []\n",
    "        train_test_arrays = train_test_split(*features_y, train_size=0.8, stratify=y) \n",
    "        y_train = train_test_arrays[2*len(features)]\n",
    "        y_test = train_test_arrays[2*len(features) + 1]\n",
    "        feature_importance = []\n",
    "\n",
    "        for i in range(0, len(features)):\n",
    "            X_train = train_test_arrays[2*i]\n",
    "            X_test = train_test_arrays[2*i+1]\n",
    "\n",
    "            sc = StandardScaler()\n",
    "            sc.fit(X_train)\n",
    "            X_train = sc.transform(X_train)\n",
    "            X_test = sc.transform(X_test)\n",
    "\n",
    "            rfr = RandomForestClassifier(n_estimators=100, max_features='sqrt', max_depth=3, n_jobs=-1, oob_score=True)\n",
    "            rfr.fit(X_train, y_train)\n",
    "            if not regularize:\n",
    "                feature_importance.append(rfr.feature_importances_)\n",
    "            else:\n",
    "                top_indices = np.argsort(rfr.feature_importances_*-1.)[:min(10, X.shape[1])]\n",
    "                rfr = RandomForestClassifier(n_estimators=10, max_features=None, n_jobs=-1, oob_score=True)\n",
    "                X_train = X_train[:, top_indices]\n",
    "                X_test = X_test[:, top_indices]\n",
    "                rfr.fit(X_train, y_train)\n",
    "                f = np.zeros(X.shape[1])\n",
    "                f[top_indices] = rfr.feature_importances_\n",
    "                feature_importance.append(f)\n",
    "\n",
    "\n",
    "\n",
    "            if train_size == 1.:\n",
    "                X_test = X_train\n",
    "                y_test = y_train\n",
    "            \n",
    "            y_pred = rfr.predict(X_test)\n",
    "            y_score = rfr.predict_proba(X_test)\n",
    "            auc, logauc = compute_auc(y_test, y_score)\n",
    "            aucs.append(auc)\n",
    "            log_aucs.append(logauc)  \n",
    "        feature_importances.append(feature_importance)\n",
    "        test_aucs.append(aucs)\n",
    "        test_log_aucs.append(log_aucs)\n",
    "    \n",
    "    return test_accuracies, test_aucs, test_log_aucs, C_test_aucs, C_test_log_aucs, feature_importances\n"
   ]
  },
  {
   "cell_type": "code",
   "execution_count": 62,
   "metadata": {
    "collapsed": false,
    "scrolled": true
   },
   "outputs": [
    {
     "name": "stdout",
     "output_type": "stream",
     "text": [
      "0\n",
      "1\n",
      "2\n",
      "3\n",
      "4\n",
      "5\n",
      "6\n",
      "7\n",
      "8\n",
      "9\n",
      "10\n",
      "11\n",
      "12\n",
      "13\n",
      "14\n",
      "15\n",
      "16\n",
      "17\n",
      "18\n",
      "19\n",
      "20\n",
      "21\n",
      "22\n",
      "23\n",
      "24\n",
      "25\n",
      "26\n",
      "27\n",
      "28\n",
      "29\n",
      "30\n",
      "31\n",
      "32\n",
      "33\n",
      "34\n",
      "35\n",
      "36\n",
      "37\n",
      "38\n",
      "39\n",
      "40\n",
      "41\n",
      "42\n",
      "43\n",
      "44\n",
      "45\n",
      "46\n",
      "47\n",
      "48\n",
      "49\n",
      "50\n",
      "51\n",
      "52\n",
      "53\n",
      "54\n",
      "55\n",
      "56\n",
      "57\n",
      "58\n",
      "59\n",
      "60\n",
      "61\n",
      "62\n",
      "63\n",
      "64\n",
      "65\n",
      "66\n",
      "67\n",
      "68\n",
      "69\n",
      "70\n",
      "71\n",
      "72\n",
      "73\n",
      "74\n",
      "75\n",
      "76\n",
      "77\n",
      "78\n",
      "79\n",
      "80\n",
      "81\n",
      "82\n",
      "83\n",
      "84\n",
      "85\n",
      "86\n",
      "87\n",
      "88\n",
      "89\n",
      "90\n",
      "91\n",
      "92\n",
      "93\n",
      "94\n",
      "95\n",
      "96\n",
      "97\n",
      "98\n",
      "99\n"
     ]
    }
   ],
   "source": [
    "from sklearn.preprocessing import binarize\n",
    "#arrestin_antagonists = [\"s-carvedilol\", \"nebivolol\"]\n",
    "#non_arrestin_antagonists = [n for n in antagonists if n not in arrestin_antagonists and n not in [\"Carvedilol\"]]\n",
    "#y = np.array([1. for i in arrestin_antagonists] + [0. for i in non_arrestin_antagonists]).reshape((-1,1))\n",
    "\n",
    "\n",
    "total_activity = bret[\"B2AR-Arrestin, Mean\"].loc[common_ligands].add(bret[\"B2AR-Gprotein, Mean\"].loc[common_ligands])\n",
    "#common_agonists = arrestin_antagonists + non_arrestin_antagonists\n",
    "#biased_ligands = [\"ethylnorepinephrine\", \"isoetharine\", \"N-Cyclopentylbutanephrine\"]\n",
    "#non_biased_ligands =  [\"r_isopreterenol\", \"r_epinephrine\", \"norepinephrine\", \"zinterol\", \"orciprenaline\", \"epinine\", \"terbutaline\", \"fenoterol\", \"procaterol\", \"formoterol\", \"salbutamol\", \"salmeterol\"]\n",
    "#y = np.array([1. for i in biased_ligands] + [0. for i in non_biased_ligands]).reshape((-1,1))\n",
    "#common_agonists = biased_ligands + non_biased_ligands\n",
    "\n",
    "common_agonists = total_activity.loc[total_activity > 0.2].index.values\n",
    "#y_ori = bret[\"B2AR-Arrestin, Mean\"].loc[common_agonists].subtract(bret[\"B2AR-Gprotein, Mean\"].loc[common_agonists]).values.reshape((-1,1))\n",
    "\n",
    "top_clusters = delta_delta_g.index.values\n",
    "#top_clusters = list(set(delta_delta_g.sort(\"nebivolol\").index.values[:10].tolist() + delta_delta_g.sort(\"3p0g_lig\").index.values[:10].tolist()))\n",
    "#top_clusters = list(set(delta_delta_g.sort(\"N-Cyclopentylbutanephrine\", inplace=False).index.values[:4].tolist() + delta_delta_g.sort(\"procaterol\", inplace=False).index.values[:4].tolist()))\n",
    "#agonists_df = [a for a in agonists if a in delta_delta_g.columns.values]\n",
    "#common_agonists = agonists_df + antagonists\n",
    "#y = np.array([1. for i in agonists_df] + [0. for i in antagonists]).reshape((-1,1))\n",
    "#common_agonists = common_ligands\n",
    "y_arr = bret[\"B2AR-Arrestin, Mean\"].loc[common_agonists].values.reshape((-1,1))\n",
    "y_gpr = bret[\"B2AR-Gprotein, Mean\"].loc[common_agonists].values.reshape((-1,1))\n",
    "y_ori = y_arr - y_gpr\n",
    "#y_ori = y_arr\n",
    "y = y_arr\n",
    "y = binarize(y_arr, threshold=0.2)\n",
    "\n",
    "C = null_features.loc[common_agonists].values\n",
    "#X = delta_delta_g.loc[top_clusters][common_agonists].values.T\n",
    "X = np.hstack([delta_delta_g.loc[top_clusters][common_agonists].values.T, C])\n",
    "#X_scaled = ddg_scaled.loc[top_clusters][common_agonists].values.T\n",
    "X_scaled = np.hstack([ddg_scaled.loc[top_clusters][common_agonists].values.T, C])\n",
    "#D_scaled = docking_normalized.loc[top_clusters][common_agonists].values.T\n",
    "D_scaled = np.hstack([docking_normalized.loc[top_clusters][common_agonists].values.T, C])\n",
    "\n",
    "\n",
    "features = [C, D_scaled, X, X_scaled]\n",
    "features_y = [C, D_scaled, X, X_scaled]\n",
    "feature_names = [\"Crystal Structures\", \"Normalized Docking\", \"Docking ddG\", \"Docking ddg Scaled\"]\n",
    "\n",
    "n_trials = 100\n",
    "test_accuracies, test_aucs, test_log_aucs, C_test_aucs, C_test_log_aucs, feature_importances = do_classification_experiment(features, y, feature_names, n_trials, 0.8, regularize=False)\n",
    "#test_r2s, rfr_feature_importances = do_regression_experiment(features, y, feature_names, n_trials, 0.8, regularize=False)"
   ]
  },
  {
   "cell_type": "code",
   "execution_count": 152,
   "metadata": {
    "collapsed": false
   },
   "outputs": [],
   "source": [
    "gprot_results = copy.deepcopy([test_accuracies, test_aucs, test_log_aucs, C_test_aucs, C_test_log_aucs, feature_importances])\n",
    "#import pickle\n",
    "gprot_file = \"%s/gprot_results_0pt2_XP_no-regularization.pkl\"\n",
    "with open(\"%s/gprot_results_0pt2_XP_no-regularization.pkl\", \"wb\") as f:\n",
    "    pickle.dump(gprot_results, f)\n",
    "with open(gprot_file) as f:\n",
    "    test_accuracies, test_aucs, test_log_aucs, C_test_aucs, C_test_log_aucs, feature_importances = pickle.load(f)"
   ]
  },
  {
   "cell_type": "code",
   "execution_count": 190,
   "metadata": {
    "collapsed": true
   },
   "outputs": [],
   "source": [
    "#arrestin_results = copy.deepcopy([test_accuracies, test_aucs, test_log_aucs, C_test_aucs, C_test_log_aucs, feature_importances])\n",
    "#import pickle\n",
    "arrestin_file = \"%s/arrestin_results_0pt2_XP_no-regularization.pkl\"\n",
    "#with open(\"%s/arrestin_results_0pt2_XP_no-regularization.pkl\", \"wb\") as f:\n",
    "#    pickle.dump(arrestin_results, f)\n",
    "with open(arrestin_file) as f:\n",
    "    test_accuracies, test_aucs, test_log_aucs, C_test_aucs, C_test_log_aucs, feature_importances = pickle.load(f)"
   ]
  },
  {
   "cell_type": "code",
   "execution_count": 194,
   "metadata": {
    "collapsed": true
   },
   "outputs": [],
   "source": [
    "#arrestin_rfr_results = copy.deepcopy([test_r2s, rfr_feature_importances])\n",
    "arrestin_rfr_file = \"%s/arrestin_results_rfr_XP_no-regularization.pkl\"\n",
    "#with open(\"%s/arrestin_results_rfr_XP_no-regularization.pkl\", \"wb\") as f:\n",
    "#    pickle.dump(arrestin_rfr_results, f)\n",
    "with open(arrestin_rfr_file) as f:\n",
    "    test_r2s, rfr_feature_importances = pickle.load(f)"
   ]
  },
  {
   "cell_type": "code",
   "execution_count": 156,
   "metadata": {
    "collapsed": true
   },
   "outputs": [],
   "source": [
    "#gprot_rfr_results = copy.deepcopy([test_r2s, rfr_feature_importances])\n",
    "gprot_rfr_file = \"%s/gprot_results_rfr_XP_no-regularization.pkl\"\n",
    "#with open(\"%s/gprot_results_rfr_XP_no-regularization.pkl\", \"wb\") as f:\n",
    "#    pickle.dump(gprot_rfr_results, f)\n",
    "with open(gprot_rfr_file) as f:\n",
    "    test_r2s, rfr_feature_importances = pickle.load(f)"
   ]
  },
  {
   "cell_type": "code",
   "execution_count": 64,
   "metadata": {
    "collapsed": false
   },
   "outputs": [
    {
     "data": {
      "image/png": "[encoded data removed]",
      "text/plain": [
       "<matplotlib.figure.Figure at 0x7f8f180f8190>"
      ]
     },
     "metadata": {},
     "output_type": "display_data"
    }
   ],
   "source": [
    "test_aucs = np.array(test_aucs)\n",
    "plt.clf()\n",
    "plt.boxplot(test_aucs[:,2]-test_aucs[:,0])\n",
    "plt.show()"
   ]
  },
  {
   "cell_type": "code",
   "execution_count": 71,
   "metadata": {
    "collapsed": false
   },
   "outputs": [
    {
     "data": {
      "text/plain": [
       "0.12500000000000006"
      ]
     },
     "execution_count": 71,
     "metadata": {},
     "output_type": "execute_result"
    }
   ],
   "source": [
    "test_log_aucs = np.array(test_log_aucs)\n",
    "np.percentile(test_aucs[:,2]-test_aucs[:,0], 50)"
   ]
  },
  {
   "cell_type": "code",
   "execution_count": 106,
   "metadata": {
    "collapsed": false
   },
   "outputs": [
    {
     "data": {
      "text/plain": [
       "0.7407407407407407"
      ]
     },
     "execution_count": 106,
     "metadata": {},
     "output_type": "execute_result"
    }
   ],
   "source": [
    "import sklearn\n",
    "null_preds = binarize(C[:,2])\n",
    "sklearn.metrics.roc_auc_score(binarize(y, 0.2).ravel(), null_preds.ravel())"
   ]
  },
  {
   "cell_type": "code",
   "execution_count": 111,
   "metadata": {
    "collapsed": false
   },
   "outputs": [
    {
     "name": "stdout",
     "output_type": "stream",
     "text": [
      "[ 0.72222222  0.83333333  0.88888889  0.88888889]\n",
      "0.125\n"
     ]
    }
   ],
   "source": [
    "test_aucs = np.array(test_aucs)\n",
    "print(np.median(test_aucs, axis=0))\n",
    "print(np.median(test_aucs[:,2] - test_aucs[:,0]))"
   ]
  },
  {
   "cell_type": "code",
   "execution_count": 84,
   "metadata": {
    "collapsed": false
   },
   "outputs": [
    {
     "data": {
      "text/plain": [
       "(0.6798264673845551, 0.88284111998595116)"
      ]
     },
     "execution_count": 84,
     "metadata": {},
     "output_type": "execute_result"
    }
   ],
   "source": [
    "n_successes = len(np.where(test_aucs[:,2]-test_aucs[:,0] > 0.)[0])\n",
    "nobs = test_aucs.shape[0]\n",
    "statsmodels.stats.proportion.proportion_confint(count=n_successes, nobs=nobs, alpha=0.01, method='wilson')\n"
   ]
  },
  {
   "cell_type": "code",
   "execution_count": 130,
   "metadata": {
    "collapsed": false
   },
   "outputs": [
    {
     "data": {
      "text/plain": [
       "array([ 0.34512404,  0.45269463,  0.51711106,  0.42051639])"
      ]
     },
     "execution_count": 130,
     "metadata": {},
     "output_type": "execute_result"
    }
   ],
   "source": [
    "np.median(np.array(test_r2s),axis=0)"
   ]
  },
  {
   "cell_type": "code",
   "execution_count": 81,
   "metadata": {
    "collapsed": true
   },
   "outputs": [],
   "source": [
    "arrestin_vs_gprot_results = copy.deepcopy([test_accuracies, test_aucs, test_log_aucs, C_test_aucs, C_test_log_aucs, feature_importances])\n",
    "import pickle\n",
    "with open(\"%s/arrestin_vs_gprot_results_-0pt2_XP.pkl\", \"wb\") as f:\n",
    "    pickle.dump(arrestin_vs_gprot_results, f)"
   ]
  },
  {
   "cell_type": "code",
   "execution_count": null,
   "metadata": {
    "collapsed": true
   },
   "outputs": [],
   "source": []
  },
  {
   "cell_type": "code",
   "execution_count": 168,
   "metadata": {
    "collapsed": true
   },
   "outputs": [],
   "source": [
    "arrestin_vs_gprot_rfr_results = copy.deepcopy([test_r2s, rfr_feature_importances])\n",
    "import pickle\n",
    "with open(\"%s/arrestin_vs_gprot_rfr_results_XP.pkl\", \"wb\") as f:\n",
    "    pickle.dump(arrestin_vs_gprot_rfr_results, f)"
   ]
  },
  {
   "cell_type": "code",
   "execution_count": null,
   "metadata": {
    "collapsed": true
   },
   "outputs": [],
   "source": [
    "test_accuracies, test_aucs, test_log_aucs, C_test_aucs, C_test_log_aucs, feature_importances = arrestin_vs_gprot_results"
   ]
  },
  {
   "cell_type": "code",
   "execution_count": null,
   "metadata": {
    "collapsed": true
   },
   "outputs": [],
   "source": [
    "#gprotein_results = copy.deepcopy([test_accuracies, test_aucs, test_log_aucs, C_test_aucs, C_test_log_aucs, feature_importances])"
   ]
  },
  {
   "cell_type": "code",
   "execution_count": 58,
   "metadata": {
    "collapsed": false
   },
   "outputs": [],
   "source": [
    "import plots\n",
    "reload(plots)\n",
    "from plots import *\n",
    "from sklearn import linear_model\n",
    "\n",
    "def analyze_regression_experiment(test_r2s, feature_importances, feature_names,\n",
    "                        X, y, X_df, top_clusters, common_agonists, experiment_name, save_dir):\n",
    "    \n",
    "    auc_df = pd.DataFrame(np.array(test_r2s), columns=feature_names)    \n",
    "    plt.style.use('ggplot')\n",
    "    plt.figure(figsize=(5, 5))\n",
    "    sns.set_style(\"darkgrid\")\n",
    "    #g = (auc_df\n",
    "    #    .pipe((sns.violinplot, 'data'), orient='v', cut=0.))\n",
    "    g = (auc_df\n",
    "        .pipe((sns.boxplot, 'data'), orient='v', showfliers=False))\n",
    "    g.set_xticklabels(auc_df.columns.values, rotation=90)\n",
    "    sns.despine()\n",
    "    plt.title(experiment_name)\n",
    "    plt.ylabel(\"Frequency of R^2 over Random Splits\")\n",
    "    plt.xlabel(\"Featurization\")\n",
    "    plt.tight_layout()\n",
    "\n",
    "    plt.savefig(\"%s/%s_r2s.pdf\" %(save_dir, experiment_name))\n",
    "    plt.show()\n",
    "    plt.clf()\n",
    "    \n",
    "    docking_importances = [f[2] for f in feature_importances]\n",
    "    importances_df = make_importances_df(docking_importances, top_clusters)\n",
    "    importances_df.iloc[0:25].plot(kind='barh')\n",
    "    print(importances_df)\n",
    "    plt.xlabel(\"Feature Importance\")\n",
    "    plt.ylabel(\"MSM State\")\n",
    "    plt.title(experiment_name)\n",
    "    plt.tight_layout()\n",
    "\n",
    "\n",
    "    plt.savefig(\"%s/%s_feature_importances.pdf\" %(save_dir, experiment_name))\n",
    "    plt.clf()\n",
    "\n",
    "    cs = np.logspace(-3., 20.)\n",
    "    print(\"Computing regularization path ...\")\n",
    "    clf = linear_model.LogisticRegression(C=1.0, penalty='l2', tol=1e-6)\n",
    "    coefs_ = []\n",
    "    for c in cs:\n",
    "        clf.set_params(C=c)\n",
    "        clf.fit(X, binarize(y, 0.2))\n",
    "        coefs_.append(clf.coef_.ravel().copy())\n",
    "    \n",
    "    max_features = 5\n",
    "    coefs_ = pd.DataFrame(np.array(coefs_), columns=top_clusters, index=np.log10(cs))\n",
    "    coefs_[importances_df.iloc[:max_features].index].plot(colormap='RdYlBu')\n",
    "    plt.xlabel(\"Lasso Parameter\")\n",
    "    plt.ylabel(\"Coefficient\")\n",
    "    plt.title(experiment_name)\n",
    "    plt.tight_layout()\n",
    "\n",
    "\n",
    "    plt.savefig(\"%s/%s_lasso.pdf\" %(save_dir, experiment_name))\n",
    "    plt.clf()\n",
    "    \n",
    "    plot_clustermap(X_df[common_agonists].loc[importances_df.index.values.tolist()[:max_features]].transpose(), save_file=\"%s/%s_ligands_vs_msm_states_ddg.pdf\" %(save_dir, experiment_name), method='average', z_score=1)\n",
    "    \n",
    "    test_r2s = np.array(test_r2s)\n",
    "    delta_r2s = np.zeros((test_r2s.shape[0], len(feature_names)-1))\n",
    "    results_rows = [[np.median(test_r2s[:,0]), 0., (0, 0.)]]\n",
    "    for i, name in enumerate(feature_names):\n",
    "        if i == 0: continue\n",
    "        delta_r2s[:,i-1] = test_r2s[:,i] - test_r2s[:,0]    \n",
    "        n_successes = len(np.where(delta_r2s[:,i-1] > 0.)[0])\n",
    "        nobs = delta_r2s.shape[0]\n",
    "        confint = statsmodels.stats.proportion.proportion_confint(count=n_successes, nobs=nobs, alpha=0.01, method='wilson')\n",
    "        results_rows.append([np.median(test_r2s[:,i]), np.median(delta_r2s[:,i-1]), confint])\n",
    "    results_df = pd.DataFrame(results_rows, columns=[\"Median R^2\", \"Median delta R^2\", \"Sign Test 99% CI\"], index=feature_names)\n",
    "    \n",
    "    return importances_df, results_df\n",
    "\n",
    "    \n",
    "\n",
    "\n"
   ]
  },
  {
   "cell_type": "code",
   "execution_count": 59,
   "metadata": {
    "collapsed": false
   },
   "outputs": [],
   "source": [
    "import plots\n",
    "reload(plots)\n",
    "from plots import *\n",
    "from sklearn import linear_model\n",
    "\n",
    "def analyze_experiment(test_aucs, test_log_aucs, feature_importances, feature_names,\n",
    "                        X, y, X_df, top_clusters, common_agonists, experiment_name, save_dir):\n",
    "    \n",
    "    auc_df = pd.DataFrame(np.array(test_aucs), columns=feature_names)    \n",
    "    plt.style.use('ggplot')\n",
    "    plt.figure(figsize=(5, 5))\n",
    "    sns.set_style(\"darkgrid\")\n",
    "    g = (auc_df\n",
    "        .pipe((sns.violinplot, 'data'), orient='v', cut=0.))\n",
    "    #g = (auc_df\n",
    "    #    .pipe((sns.boxplot, 'data'), orient='v', showfliers=True))\n",
    "    g.set_xticklabels(auc_df.columns.values, rotation=90)\n",
    "    sns.despine()\n",
    "    plt.title(experiment_name)\n",
    "    plt.ylabel(\"Frequency AUCs over Random Splits\")\n",
    "    plt.xlabel(\"Featurization\")\n",
    "    plt.tight_layout()\n",
    "\n",
    "    plt.savefig(\"%s/%s_aucs.pdf\" %(save_dir, experiment_name))\n",
    "    plt.show()\n",
    "    plt.clf()\n",
    "    \n",
    "    docking_importances = [f[1] for f in feature_importances]\n",
    "    importances_df = make_importances_df(docking_importances, top_clusters)\n",
    "    importances_df.iloc[0:25].plot(kind='barh')\n",
    "    print(importances_df)\n",
    "    plt.xlabel(\"Feature Importance\")\n",
    "    plt.ylabel(\"MSM State\")\n",
    "    plt.title(experiment_name)\n",
    "    plt.tight_layout()\n",
    "\n",
    "\n",
    "    plt.savefig(\"%s/%s_feature_importances.pdf\" %(save_dir, experiment_name))\n",
    "    plt.clf()\n",
    "\n",
    "    cs = np.logspace(-3., 20.)\n",
    "    print(\"Computing regularization path ...\")\n",
    "    clf = linear_model.LogisticRegression(C=1.0, penalty='l2', tol=1e-6)\n",
    "    coefs_ = []\n",
    "    for c in cs:\n",
    "        clf.set_params(C=c)\n",
    "        clf.fit(X, y)\n",
    "        coefs_.append(clf.coef_.ravel().copy())\n",
    "    \n",
    "    max_features = 5\n",
    "    coefs_ = pd.DataFrame(np.array(coefs_), columns=top_clusters, index=np.log10(cs))\n",
    "    coefs_[importances_df.iloc[:max_features].index].plot(colormap='RdYlBu')\n",
    "    plt.xlabel(\"Lasso Parameter\")\n",
    "    plt.ylabel(\"Coefficient\")\n",
    "    plt.title(experiment_name)\n",
    "    plt.tight_layout()\n",
    "\n",
    "\n",
    "    plt.savefig(\"%s/%s_lasso.pdf\" %(save_dir, experiment_name))\n",
    "    plt.clf()\n",
    "    \n",
    "    plot_clustermap(X_df[common_agonists].loc[importances_df.index.values.tolist()[:max_features]].transpose(), save_file=\"%s/%s_ligands_vs_msm_states_ddg.pdf\" %(save_dir, experiment_name), method='average', z_score=1)\n",
    "    \n",
    "    test_aucs = np.array(test_aucs)\n",
    "    delta_aucs = np.zeros((test_aucs.shape[0], len(feature_names)-1))\n",
    "    results_rows = [[np.median(test_aucs[:,0]), 0., (0, 0.)]]\n",
    "    for i, name in enumerate(feature_names):\n",
    "        if i == 0: continue\n",
    "        delta_aucs[:,i-1] = test_aucs[:,i] - test_aucs[:,0]    \n",
    "        n_successes = len(np.where(delta_aucs[:,i-1] > 0.)[0])\n",
    "        nobs = delta_aucs.shape[0]\n",
    "        confint = statsmodels.stats.proportion.proportion_confint(count=n_successes, nobs=nobs, alpha=0.01, method='wilson')\n",
    "        results_rows.append([np.median(test_aucs[:,i]), np.median(delta_aucs[:,i-1]), confint])\n",
    "    results_df = pd.DataFrame(results_rows, columns=[\"Median AUC\", \"Median delta AUC\", \"Sign Test 99% CI\"], index=feature_names)\n",
    "    \n",
    "    \n",
    "    return importances_df, results_df\n",
    "\n",
    "    \n",
    "\n"
   ]
  },
  {
   "cell_type": "code",
   "execution_count": 63,
   "metadata": {
    "collapsed": false,
    "scrolled": true
   },
   "outputs": [
    {
     "data": {
      "text/plain": [
       "<matplotlib.figure.Figure at 0x7f69ef7acf50>"
      ]
     },
     "metadata": {},
     "output_type": "display_data"
    },
    {
     "data": {
      "text/plain": [
       "<matplotlib.figure.Figure at 0x7f69f1897a50>"
      ]
     },
     "metadata": {},
     "output_type": "display_data"
    },
    {
     "data": {
      "text/plain": [
       "<matplotlib.figure.Figure at 0x7f69fbca6310>"
      ]
     },
     "metadata": {},
     "output_type": "display_data"
    },
    {
     "data": {
      "image/png": "[encoded data removed]",
      "text/plain": [
       "<matplotlib.figure.Figure at 0x7f69ef71e590>"
      ]
     },
     "metadata": {},
     "output_type": "display_data"
    },
    {
     "data": {
      "image/png": "[encoded data removed]",
      "text/plain": [
       "<matplotlib.figure.Figure at 0x7f69ef78c610>"
      ]
     },
     "metadata": {},
     "output_type": "display_data"
    },
    {
     "name": "stdout",
     "output_type": "stream",
     "text": [
      "             importance\n",
      "cluster4       0.099854\n",
      "cluster11      0.098264\n",
      "cluster6       0.066919\n",
      "cluster16      0.044287\n",
      "cluster15      0.042132\n",
      "null_scores    0.038939\n",
      "cluster12      0.038913\n",
      "cluster24      0.038046\n",
      "cluster1       0.037336\n",
      "cluster7       0.031854\n",
      "cluster2       0.031824\n",
      "cluster3       0.030199\n",
      "cluster22      0.029580\n",
      "cluster19      0.028812\n",
      "cluster20      0.028725\n",
      "cluster8       0.028654\n",
      "cluster17      0.028647\n",
      "cluster14      0.027815\n",
      "cluster18      0.024724\n",
      "cluster23      0.024709\n",
      "cluster9       0.024438\n",
      "3p0g_grid      0.023743\n",
      "cluster21      0.023700\n",
      "cluster5       0.023506\n",
      "cluster13      0.023233\n",
      "2rh1_grid      0.021719\n",
      "cluster10      0.021027\n",
      "cluster0       0.018402\n",
      "Computing regularization path ...\n"
     ]
    }
   ],
   "source": [
    "importances_df, results_df = analyze_experiment(test_aucs, test_log_aucs, feature_importances, feature_names,\n",
    "                        X_scaled, y, pd.concat([ddg_scaled, null_features.transpose()], axis=0) , top_clusters.tolist() + null_features.columns.values.tolist(), common_agonists, \"Predicting Arrestin, w Crystal Features, 0.2, SP\", analysis_dir)"
   ]
  },
  {
   "cell_type": "code",
   "execution_count": 60,
   "metadata": {
    "collapsed": false
   },
   "outputs": [
    {
     "data": {
      "text/plain": [
       "<matplotlib.figure.Figure at 0x7f69fbed3950>"
      ]
     },
     "metadata": {},
     "output_type": "display_data"
    },
    {
     "data": {
      "image/png": "[encoded data removed]",
      "text/plain": [
       "<matplotlib.figure.Figure at 0x7f69fbd5c110>"
      ]
     },
     "metadata": {},
     "output_type": "display_data"
    },
    {
     "data": {
      "image/png": "[encoded data removed]",
      "text/plain": [
       "<matplotlib.figure.Figure at 0x7f69f1898a10>"
      ]
     },
     "metadata": {},
     "output_type": "display_data"
    },
    {
     "name": "stdout",
     "output_type": "stream",
     "text": [
      "             importance\n",
      "cluster4       0.076637\n",
      "cluster11      0.072685\n",
      "cluster7       0.058601\n",
      "cluster9       0.057130\n",
      "cluster6       0.047323\n",
      "cluster5       0.045866\n",
      "cluster10      0.039627\n",
      "cluster15      0.037434\n",
      "cluster17      0.035077\n",
      "cluster0       0.033278\n",
      "cluster22      0.032433\n",
      "cluster18      0.031664\n",
      "cluster13      0.031302\n",
      "cluster23      0.030898\n",
      "cluster12      0.029750\n",
      "null_scores    0.029748\n",
      "cluster24      0.029574\n",
      "cluster21      0.028155\n",
      "cluster8       0.027508\n",
      "cluster16      0.027266\n",
      "cluster19      0.026293\n",
      "cluster14      0.026241\n",
      "cluster1       0.025930\n",
      "2rh1_grid      0.025526\n",
      "cluster2       0.025201\n",
      "cluster20      0.025132\n",
      "3p0g_grid      0.023314\n",
      "cluster3       0.020409\n",
      "Computing regularization path ...\n"
     ]
    }
   ],
   "source": [
    "importances_df, results_df = analyze_regression_experiment(test_r2s, rfr_feature_importances, feature_names,\n",
    "                        X, y, pd.concat([delta_delta_g, null_features.transpose()], axis=0) , top_clusters.tolist() + null_features.columns.values.tolist(), common_agonists, \"Predicting Arrestin, RFR, w Crystal Features, SP\", analysis_dir)"
   ]
  },
  {
   "cell_type": "code",
   "execution_count": 131,
   "metadata": {
    "collapsed": false
   },
   "outputs": [
    {
     "data": {
      "text/plain": [
       "(25, 1)"
      ]
     },
     "execution_count": 131,
     "metadata": {},
     "output_type": "execute_result"
    }
   ],
   "source": [
    "np."
   ]
  },
  {
   "cell_type": "code",
   "execution_count": 61,
   "metadata": {
    "collapsed": false,
    "scrolled": true
   },
   "outputs": [
    {
     "data": {
      "text/html": [
       "<div>\n",
       "<table border=\"1\" class=\"dataframe\">\n",
       "  <thead>\n",
       "    <tr style=\"text-align: right;\">\n",
       "      <th></th>\n",
       "      <th>Median R^2</th>\n",
       "      <th>Median delta R^2</th>\n",
       "      <th>Sign Test 99% CI</th>\n",
       "    </tr>\n",
       "  </thead>\n",
       "  <tbody>\n",
       "    <tr>\n",
       "      <th>Crystal Structures</th>\n",
       "      <td>-0.623273</td>\n",
       "      <td>0.000000</td>\n",
       "      <td>(0, 0.0)</td>\n",
       "    </tr>\n",
       "    <tr>\n",
       "      <th>Normalized Docking</th>\n",
       "      <td>-0.580824</td>\n",
       "      <td>0.076842</td>\n",
       "      <td>(0.422754769098, 0.67102316213)</td>\n",
       "    </tr>\n",
       "    <tr>\n",
       "      <th>Docking ddG</th>\n",
       "      <td>-0.438054</td>\n",
       "      <td>0.178787</td>\n",
       "      <td>(0.501208911272, 0.742613709922)</td>\n",
       "    </tr>\n",
       "    <tr>\n",
       "      <th>Docking ddg Scaled</th>\n",
       "      <td>-0.378586</td>\n",
       "      <td>0.264237</td>\n",
       "      <td>(0.604026824924, 0.827351658727)</td>\n",
       "    </tr>\n",
       "  </tbody>\n",
       "</table>\n",
       "</div>"
      ],
      "text/plain": [
       "                    Median R^2  Median delta R^2  \\\n",
       "Crystal Structures   -0.623273          0.000000   \n",
       "Normalized Docking   -0.580824          0.076842   \n",
       "Docking ddG          -0.438054          0.178787   \n",
       "Docking ddg Scaled   -0.378586          0.264237   \n",
       "\n",
       "                                    Sign Test 99% CI  \n",
       "Crystal Structures                          (0, 0.0)  \n",
       "Normalized Docking   (0.422754769098, 0.67102316213)  \n",
       "Docking ddG         (0.501208911272, 0.742613709922)  \n",
       "Docking ddg Scaled  (0.604026824924, 0.827351658727)  "
      ]
     },
     "execution_count": 61,
     "metadata": {},
     "output_type": "execute_result"
    }
   ],
   "source": [
    "results_df"
   ]
  },
  {
   "cell_type": "code",
   "execution_count": 144,
   "metadata": {
    "collapsed": false
   },
   "outputs": [
    {
     "data": {
      "text/plain": [
       "(100, 4)"
      ]
     },
     "execution_count": 144,
     "metadata": {},
     "output_type": "execute_result"
    }
   ],
   "source": [
    "np.array(test_r2s).shape"
   ]
  },
  {
   "cell_type": "code",
   "execution_count": 242,
   "metadata": {
    "collapsed": false
   },
   "outputs": [
    {
     "data": {
      "text/plain": [
       "<matplotlib.figure.Figure at 0x7f98681ee9d0>"
      ]
     },
     "metadata": {},
     "output_type": "display_data"
    },
    {
     "data": {
      "text/plain": [
       "<matplotlib.figure.Figure at 0x7f98681ee590>"
      ]
     },
     "metadata": {},
     "output_type": "display_data"
    },
    {
     "data": {
      "image/png": "[encoded data removed]",
      "text/plain": [
       "<matplotlib.figure.Figure at 0x7f98700b9e10>"
      ]
     },
     "metadata": {},
     "output_type": "display_data"
    }
   ],
   "source": [
    "state = \"cluster16\"\n",
    "plt.scatter(delta_delta_g[common_agonists].loc[state], y_gpr)\n",
    "plt.xlabel(\"ddG of Docking\")\n",
    "plt.ylabel(\"GProtein Coupling, Fraction of ISO\")\n",
    "plt.title(\"ddG of Docking vs. G Protein Coupling, %s\" %state)\n",
    "plt.show()"
   ]
  },
  {
   "cell_type": "code",
   "execution_count": 229,
   "metadata": {
    "collapsed": false
   },
   "outputs": [
    {
     "data": {
      "image/png": "[encoded data removed]",
      "text/plain": [
       "<matplotlib.figure.Figure at 0x7f9867260ad0>"
      ]
     },
     "metadata": {},
     "output_type": "display_data"
    }
   ],
   "source": [
    "state = \"cluster16\"\n",
    "plt.scatter(delta_delta_g[common_agonists].loc[state], y_arr)\n",
    "plt.xlabel(\"ddG of Docking\")\n",
    "plt.ylabel(\"GProtein Coupling, Fraction of ISO\")\n",
    "plt.title(\"ddG of Docking vs. Arrestin Coupling, %s\" %state)\n",
    "plt.show()"
   ]
  },
  {
   "cell_type": "code",
   "execution_count": 250,
   "metadata": {
    "collapsed": false
   },
   "outputs": [
    {
     "data": {
      "image/png": "[encoded data removed]",
      "text/plain": [
       "<matplotlib.figure.Figure at 0x7f9867deb2d0>"
      ]
     },
     "metadata": {},
     "output_type": "display_data"
    }
   ],
   "source": [
    "state = \"cluster6\"\n",
    "plt.scatter(docking_normalized[common_agonists].loc[state], y_ori)\n",
    "plt.xlabel(\"ddG of Docking\")\n",
    "plt.ylabel(\"GProtein Coupling, Fraction of ISO\")\n",
    "plt.title(\"ddG of Docking vs. Arrestin - Gprotein Coupling, %s\" %state)\n",
    "plt.show()"
   ]
  },
  {
   "cell_type": "code",
   "execution_count": 167,
   "metadata": {
    "collapsed": false
   },
   "outputs": [
    {
     "data": {
      "text/html": [
       "<div>\n",
       "<table border=\"1\" class=\"dataframe\">\n",
       "  <thead>\n",
       "    <tr style=\"text-align: right;\">\n",
       "      <th></th>\n",
       "      <th>tm6_tm3_dist</th>\n",
       "      <th>rmsd_npxxy_inactive</th>\n",
       "      <th>rmsd_npxxy_active</th>\n",
       "      <th>rmsd_connector_inactive</th>\n",
       "      <th>rmsd_connector_active</th>\n",
       "      <th>tIC.1</th>\n",
       "      <th>tIC.2</th>\n",
       "    </tr>\n",
       "  </thead>\n",
       "  <tbody>\n",
       "    <tr>\n",
       "      <th>cluster9</th>\n",
       "      <td>6.671826</td>\n",
       "      <td>0.491837</td>\n",
       "      <td>0.876782</td>\n",
       "      <td>0.385258</td>\n",
       "      <td>1.433035</td>\n",
       "      <td>-0.646973</td>\n",
       "      <td>-1.624931</td>\n",
       "    </tr>\n",
       "    <tr>\n",
       "      <th>cluster3</th>\n",
       "      <td>13.353683</td>\n",
       "      <td>0.579279</td>\n",
       "      <td>0.802554</td>\n",
       "      <td>0.792276</td>\n",
       "      <td>1.433377</td>\n",
       "      <td>0.272626</td>\n",
       "      <td>1.953814</td>\n",
       "    </tr>\n",
       "    <tr>\n",
       "      <th>cluster2</th>\n",
       "      <td>14.403458</td>\n",
       "      <td>0.994941</td>\n",
       "      <td>0.268876</td>\n",
       "      <td>1.831260</td>\n",
       "      <td>1.361117</td>\n",
       "      <td>-0.844212</td>\n",
       "      <td>0.639414</td>\n",
       "    </tr>\n",
       "    <tr>\n",
       "      <th>cluster16</th>\n",
       "      <td>12.191679</td>\n",
       "      <td>0.364214</td>\n",
       "      <td>0.987019</td>\n",
       "      <td>0.315764</td>\n",
       "      <td>1.346833</td>\n",
       "      <td>-0.490035</td>\n",
       "      <td>1.479030</td>\n",
       "    </tr>\n",
       "  </tbody>\n",
       "</table>\n",
       "</div>"
      ],
      "text/plain": [
       "           tm6_tm3_dist  rmsd_npxxy_inactive  rmsd_npxxy_active  \\\n",
       "cluster9       6.671826             0.491837           0.876782   \n",
       "cluster3      13.353683             0.579279           0.802554   \n",
       "cluster2      14.403458             0.994941           0.268876   \n",
       "cluster16     12.191679             0.364214           0.987019   \n",
       "\n",
       "           rmsd_connector_inactive  rmsd_connector_active     tIC.1     tIC.2  \n",
       "cluster9                  0.385258               1.433035 -0.646973 -1.624931  \n",
       "cluster3                  0.792276               1.433377  0.272626  1.953814  \n",
       "cluster2                  1.831260               1.361117 -0.844212  0.639414  \n",
       "cluster16                 0.315764               1.346833 -0.490035  1.479030  "
      ]
     },
     "execution_count": 167,
     "metadata": {},
     "output_type": "execute_result"
    }
   ],
   "source": [
    "samples_pnas_tica.loc[importances_df.index.values[0:5]].dropna()"
   ]
  },
  {
   "cell_type": "code",
   "execution_count": 113,
   "metadata": {
    "collapsed": false
   },
   "outputs": [],
   "source": [
    "def get_top_measurable_features(samples_normalized_features_avg_df, cluster_name):\n",
    "    import re\n",
    "    top_features_cluster = []\n",
    "    #top_features_cluster = samples_normalized_features_avg_df.loc[\"cluster_name\"].loc[samples_normalized_features_avg_df.loc[\"cluster_name\"].abs() > .75].index.values\n",
    "    #print(top_features_cluster)\n",
    "    #print(len(top_features_cluster))\n",
    "    [top_features_cluster.append(pair) for pair in samples_normalized_features_avg_df.loc[cluster_name].abs().sort(inplace=False, ascending=False).index.values[:10]]\n",
    "    all_features = []\n",
    "    features = []\n",
    "    for f in top_features_cluster:\n",
    "        fs = f.split(\",\")\n",
    "        for i in range(0, len(fs)):\n",
    "            res = int(re.findall(r'\\d+', fs[i])[0])\n",
    "            all_features.append(res)\n",
    "            if \"TRP\" in fs[i] or \"CYS\" in fs[i] or \"TYR\" in fs[i] or \"LYS\" in fs[i]:\n",
    "                features.append(res)\n",
    "            \n",
    "    top_features_cluster = sorted(list(set(features)))\n",
    "    #print(sorted(list(set([int(re.findall(r'\\d+', r)[0]) for r in all_features]))))\n",
    "    #print(top_features_cluster)\n",
    "    return top_features_cluster, all_features\n",
    "a, b = get_top_measurable_features(samples_normalized_features_averages_df, 6)"
   ]
  },
  {
   "cell_type": "code",
   "execution_count": 114,
   "metadata": {
    "collapsed": false
   },
   "outputs": [
    {
     "name": "stdout",
     "output_type": "stream",
     "text": [
      "[168, 184, 86, 184, 31, 58, 267, 57, 289, 98]\n"
     ]
    }
   ],
   "source": [
    "print(b)"
   ]
  },
  {
   "cell_type": "code",
   "execution_count": 115,
   "metadata": {
    "collapsed": false
   },
   "outputs": [
    {
     "data": {
      "text/html": [
       "<div>\n",
       "<table border=\"1\" class=\"dataframe\">\n",
       "  <thead>\n",
       "    <tr style=\"text-align: right;\">\n",
       "      <th></th>\n",
       "      <th>norepinephrine</th>\n",
       "      <th>r_epinephrine</th>\n",
       "      <th>ethylnorepinephrine</th>\n",
       "      <th>nebivolol</th>\n",
       "      <th>s-carvedilol</th>\n",
       "      <th>s-carazolol</th>\n",
       "    </tr>\n",
       "  </thead>\n",
       "  <tbody>\n",
       "    <tr>\n",
       "      <th>cluster0</th>\n",
       "      <td>-0.659121</td>\n",
       "      <td>-1.264705</td>\n",
       "      <td>-0.241250</td>\n",
       "      <td>-1.908652</td>\n",
       "      <td>-1.102187</td>\n",
       "      <td>-1.661670</td>\n",
       "    </tr>\n",
       "    <tr>\n",
       "      <th>cluster1</th>\n",
       "      <td>1.561117</td>\n",
       "      <td>1.534362</td>\n",
       "      <td>0.875280</td>\n",
       "      <td>-0.625821</td>\n",
       "      <td>0.085957</td>\n",
       "      <td>-0.057642</td>\n",
       "    </tr>\n",
       "    <tr>\n",
       "      <th>cluster2</th>\n",
       "      <td>-1.054903</td>\n",
       "      <td>-1.215426</td>\n",
       "      <td>-1.058710</td>\n",
       "      <td>1.663154</td>\n",
       "      <td>1.897511</td>\n",
       "      <td>0.954526</td>\n",
       "    </tr>\n",
       "    <tr>\n",
       "      <th>cluster3</th>\n",
       "      <td>-0.427444</td>\n",
       "      <td>-0.515659</td>\n",
       "      <td>-0.460569</td>\n",
       "      <td>0.011403</td>\n",
       "      <td>0.276647</td>\n",
       "      <td>0.748661</td>\n",
       "    </tr>\n",
       "    <tr>\n",
       "      <th>cluster4</th>\n",
       "      <td>-0.495017</td>\n",
       "      <td>-0.535371</td>\n",
       "      <td>-0.640011</td>\n",
       "      <td>-1.263044</td>\n",
       "      <td>-0.295423</td>\n",
       "      <td>-0.160574</td>\n",
       "    </tr>\n",
       "    <tr>\n",
       "      <th>cluster5</th>\n",
       "      <td>2.140310</td>\n",
       "      <td>0.243243</td>\n",
       "      <td>0.356891</td>\n",
       "      <td>1.428387</td>\n",
       "      <td>1.076077</td>\n",
       "      <td>0.345509</td>\n",
       "    </tr>\n",
       "    <tr>\n",
       "      <th>cluster6</th>\n",
       "      <td>-0.987330</td>\n",
       "      <td>-1.126723</td>\n",
       "      <td>-1.278029</td>\n",
       "      <td>-0.994740</td>\n",
       "      <td>-2.349005</td>\n",
       "      <td>-1.455806</td>\n",
       "    </tr>\n",
       "    <tr>\n",
       "      <th>cluster7</th>\n",
       "      <td>-0.697734</td>\n",
       "      <td>-1.107011</td>\n",
       "      <td>-0.390786</td>\n",
       "      <td>0.522859</td>\n",
       "      <td>-1.153527</td>\n",
       "      <td>-0.975455</td>\n",
       "    </tr>\n",
       "    <tr>\n",
       "      <th>cluster8</th>\n",
       "      <td>-0.002703</td>\n",
       "      <td>-0.279118</td>\n",
       "      <td>-0.171467</td>\n",
       "      <td>-1.363659</td>\n",
       "      <td>-0.449441</td>\n",
       "      <td>-1.404340</td>\n",
       "    </tr>\n",
       "    <tr>\n",
       "      <th>cluster9</th>\n",
       "      <td>-1.547217</td>\n",
       "      <td>0.006702</td>\n",
       "      <td>-1.587069</td>\n",
       "      <td>0.321630</td>\n",
       "      <td>0.210639</td>\n",
       "      <td>0.328354</td>\n",
       "    </tr>\n",
       "    <tr>\n",
       "      <th>cluster10</th>\n",
       "      <td>-0.466057</td>\n",
       "      <td>-0.781767</td>\n",
       "      <td>-0.061808</td>\n",
       "      <td>1.570924</td>\n",
       "      <td>0.188636</td>\n",
       "      <td>1.615008</td>\n",
       "    </tr>\n",
       "    <tr>\n",
       "      <th>cluster11</th>\n",
       "      <td>0.566837</td>\n",
       "      <td>0.982433</td>\n",
       "      <td>-0.171467</td>\n",
       "      <td>-0.432977</td>\n",
       "      <td>0.320652</td>\n",
       "      <td>0.053868</td>\n",
       "    </tr>\n",
       "    <tr>\n",
       "      <th>cluster12</th>\n",
       "      <td>-0.388831</td>\n",
       "      <td>-0.515659</td>\n",
       "      <td>-0.640011</td>\n",
       "      <td>-0.223364</td>\n",
       "      <td>0.063954</td>\n",
       "      <td>0.611418</td>\n",
       "    </tr>\n",
       "    <tr>\n",
       "      <th>cluster13</th>\n",
       "      <td>-0.958371</td>\n",
       "      <td>-0.476236</td>\n",
       "      <td>-0.689856</td>\n",
       "      <td>-0.265286</td>\n",
       "      <td>-1.410225</td>\n",
       "      <td>-1.095543</td>\n",
       "    </tr>\n",
       "    <tr>\n",
       "      <th>cluster14</th>\n",
       "      <td>-0.610855</td>\n",
       "      <td>-0.298830</td>\n",
       "      <td>-0.001994</td>\n",
       "      <td>0.573166</td>\n",
       "      <td>0.834048</td>\n",
       "      <td>0.096756</td>\n",
       "    </tr>\n",
       "    <tr>\n",
       "      <th>cluster15</th>\n",
       "      <td>-0.089582</td>\n",
       "      <td>-0.091857</td>\n",
       "      <td>-0.340941</td>\n",
       "      <td>-0.659359</td>\n",
       "      <td>-0.618128</td>\n",
       "      <td>-0.803901</td>\n",
       "    </tr>\n",
       "    <tr>\n",
       "      <th>cluster16</th>\n",
       "      <td>-1.460338</td>\n",
       "      <td>-1.353408</td>\n",
       "      <td>-1.607007</td>\n",
       "      <td>0.363553</td>\n",
       "      <td>0.548013</td>\n",
       "      <td>0.088179</td>\n",
       "    </tr>\n",
       "    <tr>\n",
       "      <th>cluster17</th>\n",
       "      <td>-0.137848</td>\n",
       "      <td>-0.367821</td>\n",
       "      <td>2.131377</td>\n",
       "      <td>1.076237</td>\n",
       "      <td>-0.808818</td>\n",
       "      <td>-0.263507</td>\n",
       "    </tr>\n",
       "    <tr>\n",
       "      <th>cluster18</th>\n",
       "      <td>-0.070275</td>\n",
       "      <td>0.519207</td>\n",
       "      <td>0.496457</td>\n",
       "      <td>-0.885741</td>\n",
       "      <td>-1.622917</td>\n",
       "      <td>-1.061232</td>\n",
       "    </tr>\n",
       "    <tr>\n",
       "      <th>cluster19</th>\n",
       "      <td>0.422038</td>\n",
       "      <td>0.085549</td>\n",
       "      <td>0.336953</td>\n",
       "      <td>0.698934</td>\n",
       "      <td>1.134751</td>\n",
       "      <td>0.474175</td>\n",
       "    </tr>\n",
       "    <tr>\n",
       "      <th>cluster20</th>\n",
       "      <td>0.296547</td>\n",
       "      <td>0.795171</td>\n",
       "      <td>1.632926</td>\n",
       "      <td>-1.011509</td>\n",
       "      <td>1.486794</td>\n",
       "      <td>1.966693</td>\n",
       "    </tr>\n",
       "    <tr>\n",
       "      <th>cluster21</th>\n",
       "      <td>1.310134</td>\n",
       "      <td>2.815624</td>\n",
       "      <td>1.523267</td>\n",
       "      <td>1.302619</td>\n",
       "      <td>1.002735</td>\n",
       "      <td>1.992426</td>\n",
       "    </tr>\n",
       "    <tr>\n",
       "      <th>cluster22</th>\n",
       "      <td>0.315853</td>\n",
       "      <td>0.410793</td>\n",
       "      <td>0.087727</td>\n",
       "      <td>-0.600667</td>\n",
       "      <td>-0.082730</td>\n",
       "      <td>-0.992610</td>\n",
       "    </tr>\n",
       "    <tr>\n",
       "      <th>cluster23</th>\n",
       "      <td>1.676956</td>\n",
       "      <td>1.149983</td>\n",
       "      <td>2.101470</td>\n",
       "      <td>-0.625821</td>\n",
       "      <td>0.100626</td>\n",
       "      <td>0.045290</td>\n",
       "    </tr>\n",
       "    <tr>\n",
       "      <th>cluster24</th>\n",
       "      <td>1.763835</td>\n",
       "      <td>1.386524</td>\n",
       "      <td>-0.201374</td>\n",
       "      <td>1.327773</td>\n",
       "      <td>0.665361</td>\n",
       "      <td>0.611418</td>\n",
       "    </tr>\n",
       "  </tbody>\n",
       "</table>\n",
       "</div>"
      ],
      "text/plain": [
       "           norepinephrine  r_epinephrine  ethylnorepinephrine  nebivolol  \\\n",
       "cluster0        -0.659121      -1.264705            -0.241250  -1.908652   \n",
       "cluster1         1.561117       1.534362             0.875280  -0.625821   \n",
       "cluster2        -1.054903      -1.215426            -1.058710   1.663154   \n",
       "cluster3        -0.427444      -0.515659            -0.460569   0.011403   \n",
       "cluster4        -0.495017      -0.535371            -0.640011  -1.263044   \n",
       "cluster5         2.140310       0.243243             0.356891   1.428387   \n",
       "cluster6        -0.987330      -1.126723            -1.278029  -0.994740   \n",
       "cluster7        -0.697734      -1.107011            -0.390786   0.522859   \n",
       "cluster8        -0.002703      -0.279118            -0.171467  -1.363659   \n",
       "cluster9        -1.547217       0.006702            -1.587069   0.321630   \n",
       "cluster10       -0.466057      -0.781767            -0.061808   1.570924   \n",
       "cluster11        0.566837       0.982433            -0.171467  -0.432977   \n",
       "cluster12       -0.388831      -0.515659            -0.640011  -0.223364   \n",
       "cluster13       -0.958371      -0.476236            -0.689856  -0.265286   \n",
       "cluster14       -0.610855      -0.298830            -0.001994   0.573166   \n",
       "cluster15       -0.089582      -0.091857            -0.340941  -0.659359   \n",
       "cluster16       -1.460338      -1.353408            -1.607007   0.363553   \n",
       "cluster17       -0.137848      -0.367821             2.131377   1.076237   \n",
       "cluster18       -0.070275       0.519207             0.496457  -0.885741   \n",
       "cluster19        0.422038       0.085549             0.336953   0.698934   \n",
       "cluster20        0.296547       0.795171             1.632926  -1.011509   \n",
       "cluster21        1.310134       2.815624             1.523267   1.302619   \n",
       "cluster22        0.315853       0.410793             0.087727  -0.600667   \n",
       "cluster23        1.676956       1.149983             2.101470  -0.625821   \n",
       "cluster24        1.763835       1.386524            -0.201374   1.327773   \n",
       "\n",
       "           s-carvedilol  s-carazolol  \n",
       "cluster0      -1.102187    -1.661670  \n",
       "cluster1       0.085957    -0.057642  \n",
       "cluster2       1.897511     0.954526  \n",
       "cluster3       0.276647     0.748661  \n",
       "cluster4      -0.295423    -0.160574  \n",
       "cluster5       1.076077     0.345509  \n",
       "cluster6      -2.349005    -1.455806  \n",
       "cluster7      -1.153527    -0.975455  \n",
       "cluster8      -0.449441    -1.404340  \n",
       "cluster9       0.210639     0.328354  \n",
       "cluster10      0.188636     1.615008  \n",
       "cluster11      0.320652     0.053868  \n",
       "cluster12      0.063954     0.611418  \n",
       "cluster13     -1.410225    -1.095543  \n",
       "cluster14      0.834048     0.096756  \n",
       "cluster15     -0.618128    -0.803901  \n",
       "cluster16      0.548013     0.088179  \n",
       "cluster17     -0.808818    -0.263507  \n",
       "cluster18     -1.622917    -1.061232  \n",
       "cluster19      1.134751     0.474175  \n",
       "cluster20      1.486794     1.966693  \n",
       "cluster21      1.002735     1.992426  \n",
       "cluster22     -0.082730    -0.992610  \n",
       "cluster23      0.100626     0.045290  \n",
       "cluster24      0.665361     0.611418  "
      ]
     },
     "execution_count": 115,
     "metadata": {},
     "output_type": "execute_result"
    }
   ],
   "source": [
    "ddg_scaled[[\"norepinephrine\", \"r_epinephrine\", \"ethylnorepinephrine\", \"nebivolol\", \"s-carvedilol\", \"s-carazolol\"]]"
   ]
  },
  {
   "cell_type": "code",
   "execution_count": 298,
   "metadata": {
    "collapsed": false
   },
   "outputs": [
    {
     "name": "stdout",
     "output_type": "stream",
     "text": [
      "[ 0.63541667  0.81783333  0.71433333  0.84783333]\n",
      "[ 0.66666667  0.83333333  0.66666667  0.83333333]\n",
      "[ 0.08048928  0.06490279  0.09441961  0.07177121]\n",
      "[ 0.05869709  0.05869709  0.10886875  0.05869709]\n"
     ]
    }
   ],
   "source": [
    "print(np.mean(test_aucs, axis=0))\n",
    "print(np.median(test_aucs, axis=0))\n",
    "print(np.mean(test_log_aucs, axis=0))\n",
    "print(np.median(test_log_aucs, axis=0))\n",
    "\n"
   ]
  },
  {
   "cell_type": "code",
   "execution_count": 297,
   "metadata": {
    "collapsed": false
   },
   "outputs": [
    {
     "data": {
      "text/plain": [
       "<matplotlib.collections.PathCollection at 0x7f66c5e1c6d0>"
      ]
     },
     "execution_count": 297,
     "metadata": {},
     "output_type": "execute_result"
    },
    {
     "data": {
      "image/png": "[encoded data removed]",
      "text/plain": [
       "<matplotlib.figure.Figure at 0x7f66c5e9eb90>"
      ]
     },
     "metadata": {},
     "output_type": "display_data"
    }
   ],
   "source": [
    "plt.scatter(ddg_scaled.loc[\"cluster2\"][common_agonists], y)"
   ]
  },
  {
   "cell_type": "code",
   "execution_count": null,
   "metadata": {
    "collapsed": true
   },
   "outputs": [],
   "source": []
  },
  {
   "cell_type": "code",
   "execution_count": null,
   "metadata": {
    "collapsed": false
   },
   "outputs": [],
   "source": [
    "y_ori = bret[\"B2AR-Gprotein, Mean\"].loc[common_agonists].values.reshape((-1,1))\n",
    "y = binarize(y_ori, threshold=0.05)\n",
    "\n",
    "X = delta_delta_g.loc[top_clusters][common_agonists].values.T\n",
    "X_scaled = ddg_scaled.loc[top_clusters][common_agonists].values.T\n",
    "C = null_features.loc[common_agonists].values\n",
    "D_scaled = docking_normalized.loc[top_clusters][common_agonists].values.T\n",
    "\n",
    "X_train = D_scaled\n",
    "y_train = y\n",
    "f = np.zeros(X_train.shape[1])\n",
    "\n",
    "rfr = RandomForestClassifier(n_estimators=1000, max_features='sqrt', n_jobs=-1, oob_score=True)\n",
    "rfr.fit(X_train, y_train)\n",
    "\n",
    "#top_indices = np.argsort(rfr.feature_importances_*-1.)[:min(20, X_train.shape[1])]\n",
    "#rfr = RandomForestClassifier(n_estimators=100, max_features='sqrt', n_jobs=-1, oob_score=True)\n",
    "#X_train = X_train[:, top_indices]\n",
    "#rfr.fit(X_train, y_train)\n",
    "#f[top_indices] = rfr.feature_importances_\n",
    "#y_pred = rfr.predict(X_train)\n",
    "#y_score = rfr.predict_proba(X_train)\n",
    "top_indices=range(0,100)"
   ]
  },
  {
   "cell_type": "code",
   "execution_count": null,
   "metadata": {
    "collapsed": false
   },
   "outputs": [],
   "source": [
    "top_indices"
   ]
  },
  {
   "cell_type": "code",
   "execution_count": null,
   "metadata": {
    "collapsed": false
   },
   "outputs": [],
   "source": [
    "X_scaled.shape"
   ]
  },
  {
   "cell_type": "code",
   "execution_count": null,
   "metadata": {
    "collapsed": false
   },
   "outputs": [],
   "source": [
    "#G Protein, Agonist Results\n",
    "test_drugs = secret_compounds + [\"nebivolol\", \"s-carvedilol\", \"xamoterol\", \"3p0g_lig\", \"isoetharine\", \"ethylnorepinephrine\", \"N-Cyclopentylbutanephrine\", \"ta-2005\", \"procaterol\"]\n",
    "X_test = docking_normalized.transpose().loc[test_drugs].values[:, top_indices]\n",
    "print(X_test)\n",
    "pd.DataFrame(rfr.predict_proba(X_test), index=test_drugs, columns=[\"P(Antagonist\", \"P(Agonist)\"])"
   ]
  },
  {
   "cell_type": "code",
   "execution_count": null,
   "metadata": {
    "collapsed": false
   },
   "outputs": [],
   "source": [
    "#ARRESTIN, Agonist Results\n",
    "X_test = docking_normalized.transpose().loc[test_drugs].values[:, top_indices]\n",
    "X_test.shape\n",
    "pd.DataFrame(rfr.predict_proba(X_test), index=test_drugs, columns=[\"P(Antagonist\", \"P(Agonist)\"])"
   ]
  },
  {
   "cell_type": "code",
   "execution_count": null,
   "metadata": {
    "collapsed": false
   },
   "outputs": [],
   "source": [
    "#G Protein, Full Agonist Results\n",
    "test_drugs = secret_compounds + [\"nebivolol\", \"s-carvedilol\", \"xamoterol\", \"3p0g_lig\", \"isoetharine\", \"ethylnorepinephrine\", \"N-Cyclopentylbutanephrine\"]\n",
    "X_test = docking_normalized.transpose().loc[test_drugs].values[:, top_indices]\n",
    "pd.DataFrame(rfr.predict_proba(X_test), index=test_drugs, columns=[\"P(Antagonist\", \"P(Agonist)\"])"
   ]
  },
  {
   "cell_type": "code",
   "execution_count": null,
   "metadata": {
    "collapsed": false
   },
   "outputs": [],
   "source": [
    "#ARRESTIN, Agonist Results\n",
    "X_test = docking_normalized.transpose().loc[test_drugs].values[:, top_indices]\n",
    "X_test.shape\n",
    "pd.DataFrame(rfr.predict_proba(X_test), index=test_drugs, columns=[\"P(Antagonist\", \"P(Agonist)\"])"
   ]
  },
  {
   "cell_type": "code",
   "execution_count": null,
   "metadata": {
    "collapsed": false
   },
   "outputs": [],
   "source": [
    "common_agonists = total_activity.loc[total_activity > 0.2].index.values\n",
    "plt.scatter(docking_normalized.loc[\"cluster21\"][common_agonists], bret[\"B2AR-Gprotein, Mean\"].subtract(bret[\"B2AR-Arrestin, Mean\"])[common_agonists])"
   ]
  },
  {
   "cell_type": "code",
   "execution_count": null,
   "metadata": {
    "collapsed": false
   },
   "outputs": [],
   "source": [
    "len(common_ligands)"
   ]
  },
  {
   "cell_type": "code",
   "execution_count": null,
   "metadata": {
    "collapsed": false
   },
   "outputs": [],
   "source": [
    "#ARRESTIN, Partial Agonist Results\n",
    "X_test = docking_normalized.transpose().loc[test_drugs].values[:, top_indices]\n",
    "X_test.shape\n",
    "pd.DataFrame(rfr.predict_proba(X_test), index=test_drugs, columns=[\"P(Antagonist\", \"P(Agonist)\"])"
   ]
  },
  {
   "cell_type": "code",
   "execution_count": null,
   "metadata": {
    "collapsed": false
   },
   "outputs": [],
   "source": [
    "#ARRESTIN, Full Agonist Results\n",
    "X_test = docking_normalized.transpose().loc[test_drugs].values[:, top_indices]\n",
    "X_test.shape\n",
    "pd.DataFrame(rfr.predict_proba(X_test), index=test_drugs, columns=[\"P(Antagonist\", \"P(Agonist)\"])"
   ]
  },
  {
   "cell_type": "code",
   "execution_count": null,
   "metadata": {
    "collapsed": false
   },
   "outputs": [],
   "source": [
    "top_indices"
   ]
  },
  {
   "cell_type": "code",
   "execution_count": null,
   "metadata": {
    "collapsed": false
   },
   "outputs": [],
   "source": [
    "ddg_scaled.transpose().loc[secret_compounds]"
   ]
  },
  {
   "cell_type": "code",
   "execution_count": null,
   "metadata": {
    "collapsed": false
   },
   "outputs": [],
   "source": [
    "plot_clustermap(docking_normalized[secret_compounds].iloc[top_indices].transpose(), save_file=\"%s/mehrdad_clustermap.pdf\" %(save_dir), method='average', z_score=None)\n",
    "\n"
   ]
  },
  {
   "cell_type": "code",
   "execution_count": null,
   "metadata": {
    "collapsed": false
   },
   "outputs": [],
   "source": [
    "np.median(test_aucs, axis=0)"
   ]
  },
  {
   "cell_type": "code",
   "execution_count": null,
   "metadata": {
    "collapsed": false
   },
   "outputs": [],
   "source": [
    "plt.scatter(ddg_scaled.loc[\"cluster11\"][common_agonists], y)\n",
    "\n"
   ]
  },
  {
   "cell_type": "code",
   "execution_count": null,
   "metadata": {
    "collapsed": false
   },
   "outputs": [],
   "source": [
    "arrestin_top = [16, 80, 43, 21, 84, 38, 44, 6, 13, 99]\n",
    "gprot_top = [44, 6, 83, 4, 76, 99, 62, 92, 39, 80]\n",
    "\n",
    "arrestin_only = sorted(list(set(arrestin_top).difference(set(gprot_top))))\n",
    "print(arrestin_only)\n",
    "gprot_only = sorted(list(set(gprot_top).difference(set(arrestin_top))))\n",
    "print(gprot_only)\n",
    "both = sorted(list(set(arrestin_top).intersection(set(gprot_top))))\n",
    "print(both)\n"
   ]
  },
  {
   "cell_type": "code",
   "execution_count": null,
   "metadata": {
    "collapsed": false
   },
   "outputs": [],
   "source": [
    "samples_pnas_tica.loc[importances_df.index.values.tolist()[:5]]"
   ]
  },
  {
   "cell_type": "code",
   "execution_count": null,
   "metadata": {
    "collapsed": false
   },
   "outputs": [],
   "source": [
    "importances_df"
   ]
  },
  {
   "cell_type": "code",
   "execution_count": null,
   "metadata": {
    "collapsed": false
   },
   "outputs": [],
   "source": [
    "import sklearn\n",
    "reload(sklearn)\n",
    "from sklearn.metrics import r2_score\n",
    "from sklearn.ensemble import GradientBoostingRegressor\n",
    "from sklearn.preprocessing import binarize\n",
    "from sklearn import cross_validation\n",
    "\n",
    "test_accuracies = []\n",
    "test_aucs = []\n",
    "test_log_aucs = []\n",
    "C_test_aucs = []\n",
    "C_test_log_aucs = []\n",
    "n_trials = 10\n",
    "feature_importances = []\n",
    "total_activity = bret[\"B2AR-Arrestin, Mean\"].loc[common_ligands].add(bret[\"B2AR-Gprotein, Mean\"].loc[common_ligands])\n",
    "common_agonists = total_activity.loc[total_activity > 0.1].index.values\n",
    "\n",
    "#biased_ligands = [\"ethylnorepinephrine\", \"isoetharine\", \"N-Cyclopentylbutanephrine\"]\n",
    "#biased_ligands += [\"nebivolol\", \"s-carvedilol\"]\n",
    "#non_biased_ligands =  [\"r_isopreterenol\", \"r_epinephrine\", \"norepinephrine\", \"zinterol\", \"orciprenaline\", \"epinine\", \"terbutaline\", \"fenoterol\", \"procaterol\", \"formoterol\", \"salbutamol\", \"salmeterol\"]\n",
    "#non_biased_ligands += [\"s-carazolol\", \"Ici215001\", \"bisoprolol\", \"timolol\", \"s-atenolol\"]\n",
    "#non_biased_ligands = [n for n in df.columns.values.tolist() if n not in biased_ligands and \"Carvedilol\" not in n]\n",
    "#common_agonists = biased_ligands + non_biased_ligands\n",
    "#common_agonists = common_ligands\n",
    "#top_clusters = [\"cluster80\", \"cluster62\", \"cluster11\", \"cluster21\", \"cluster16\", \"cluster43\", \"cluster38\"]\n",
    "#differences = np.zeros((len(top_clusters), len(top_clusters)))\n",
    "#for i, cluster in enumerate(top_clusters):\n",
    "#    for j in range(i, len(top_clusters)):\n",
    "#        differences[i][j] = \n",
    "\n",
    "#top_clusters = importances_df.index.values\n",
    "top_clusters = delta_delta_g.index.values\n",
    "\n",
    "y_ori = bret[\"B2AR-Arrestin, Mean\"].loc[common_agonists].subtract(bret[\"B2AR-Gprotein, Mean\"].loc[common_agonists]).values.reshape((-1,1))\n",
    "#y_ori = np.vstack([y_ori, np.ones(3).reshape((-1,1))])\n",
    "#common_agonists = common_agonists.tolist() + biased_ligands\n",
    "\n",
    "X = delta_delta_g.loc[top_clusters][common_agonists].values.T\n",
    "X_scaled = ddg_scaled.loc[top_clusters][common_agonists].values.T\n",
    "C = null_features.loc[common_agonists].values\n",
    "D_scaled = docking_normalized.loc[top_clusters][common_agonists].values.T\n",
    "\n",
    "#y = np.array([1. for n in biased_ligands] + [0. for n in non_biased_ligands]).reshape((-1,1))\n",
    "#print(y_ori)\n",
    "#y_ori = bret[\"B2AR-Arrestin, Mean\"].loc[common_agonists].values.reshape((-1,1))\n",
    "#plt.hist(y_ori, bins=25)\n",
    "y = binarize(y_ori, threshold=-0.2)\n",
    "\n",
    "features = [C, X_scaled, D_scaled]\n",
    "features_y = [C, X_scaled, D_scaled, y]\n",
    "feature_names = [\"Crystal Structures\", \"MSM ddG\", \"Docking\"]"
   ]
  },
  {
   "cell_type": "code",
   "execution_count": null,
   "metadata": {
    "collapsed": false,
    "scrolled": true
   },
   "outputs": [],
   "source": [
    "xt = ddg_scaled[biased_ligands].values.T\n",
    "xt_preds = []\n",
    "\n",
    "\n",
    "for j in range(0,n_trials):\n",
    "    print(j)\n",
    "    aucs = []\n",
    "    log_aucs = []\n",
    "    train_test_arrays = sklearn.cross_validation.train_test_split(*features_y, train_size=0.8, stratify=y) \n",
    "    y_train = train_test_arrays[2*len(features)]\n",
    "    y_test = train_test_arrays[2*len(features) + 1]\n",
    "    feature_importance = []\n",
    "    \n",
    "    for i in range(0, len(features)):\n",
    "        X_train = train_test_arrays[2*i]\n",
    "        X_test = train_test_arrays[2*i+1]\n",
    "\n",
    "        sc = StandardScaler()\n",
    "        sc.fit(X_train)\n",
    "        X_train = sc.transform(X_train)\n",
    "        X_test = sc.transform(X_test)\n",
    "\n",
    "        rfr = RandomForestClassifier(n_estimators=100, max_features='sqrt', max_depth=3, n_jobs=-1, oob_score=True)\n",
    "        rfr.fit(X_train, y_train)\n",
    "        #top_indices = np.argsort(rfr.feature_importances_*-1.)[:min(10, X.shape[1])]\n",
    "        feature_importance.append(rfr.feature_importances_)\n",
    "        #rfr = RandomForestClassifier(n_estimators=10, max_features=None, n_jobs=-1, oob_score=True)\n",
    "        #X_train = X_train[:, top_indices]\n",
    "        #X_test = X_test[:, top_indices]\n",
    "        #rfr.fit(X_train, y_train)\n",
    "        #f = np.zeros(X.shape[1])\n",
    "        #f[top_indices] = rfr.feature_importances_\n",
    "        #feature_importance.append(f)\n",
    "        \n",
    "        if i == 1:\n",
    "            xt_preds.append(rfr.predict(xt))\n",
    "        \n",
    "        y_pred = rfr.predict(X_test)\n",
    "        y_score = rfr.predict_proba(X_test)\n",
    "        auc, logauc = compute_auc(y_test, y_score)\n",
    "        aucs.append(auc)\n",
    "        log_aucs.append(logauc)  \n",
    "    feature_importances.append(feature_importance)\n",
    "    test_aucs.append(aucs)\n",
    "    test_log_aucs.append(log_aucs)"
   ]
  },
  {
   "cell_type": "code",
   "execution_count": null,
   "metadata": {
    "collapsed": false
   },
   "outputs": [],
   "source": [
    "biased_ligands = [\"ethylnorepinephrine\", \"isoetharine\", \"N-Cyclopentylbutanephrine\"]\n",
    "\n",
    "non_biased_ligands =  [\"r_isopreterenol\", \"r_epinephrine\", \"norepinephrine\", \"zinterol\", \"orciprenaline\", \"epinine\", \"terbutaline\", \"fenoterol\", \"procaterol\", \"formoterol\", \"salbutamol\", \"salmeterol\"]\n",
    "\n",
    "ddg_scaled.loc[importances_df.index.values[:5]][biased_ligands + non_biased_ligands]"
   ]
  },
  {
   "cell_type": "code",
   "execution_count": null,
   "metadata": {
    "collapsed": false
   },
   "outputs": [],
   "source": [
    "ddg_scaled.sort(\"procaterol\", inplace=False).iloc[:10]"
   ]
  },
  {
   "cell_type": "code",
   "execution_count": null,
   "metadata": {
    "collapsed": false
   },
   "outputs": [],
   "source": [
    "plt.scatter(ddg_scaled.loc[\"cluster36\"][common_agonists], y)"
   ]
  },
  {
   "cell_type": "code",
   "execution_count": null,
   "metadata": {
    "collapsed": false
   },
   "outputs": [],
   "source": [
    "y"
   ]
  },
  {
   "cell_type": "code",
   "execution_count": null,
   "metadata": {
    "collapsed": false,
    "scrolled": true
   },
   "outputs": [],
   "source": [
    "import sklearn\n",
    "reload(sklearn)\n",
    "from sklearn.metrics import r2_score\n",
    "from sklearn.ensemble import GradientBoostingRegressor\n",
    "from sklearn.preprocessing import binarize\n",
    "from sklearn import cross_validation\n",
    "\n",
    "test_accuracies = []\n",
    "test_aucs = []\n",
    "test_log_aucs = []\n",
    "C_test_aucs = []\n",
    "C_test_log_aucs = []\n",
    "n_trials = 1000\n",
    "feature_importances = []\n",
    "reg = []\n",
    "total_activity = bret[\"B2AR-Arrestin, Mean\"].loc[common_ligands].add(bret[\"B2AR-Gprotein, Mean\"].loc[common_ligands])\n",
    "common_agonists = total_activity.loc[total_activity > 0.3].index.values\n",
    "\n",
    "#biased_ligands = [\"ethylnorepinephrine\", \"isoetharine\", \"N-Cyclopentylbutanephrine\", \"3p0g_lig\"]\n",
    "#biased_ligands = [\"nebivolol\", \"s-carvedilol\"]\n",
    "#non_biased_ligands =  [\"r_isopreterenol\", \"r_epinephrine\", \"norepinephrine\", \"zinterol\", \"orciprenaline\", \"epinine\", \"terbutaline\", \"fenoterol\", \"procaterol\", \"formoterol\", \"salbutamol\", \"salmeterol\"]\n",
    "#non_biased_ligands = [\"s-carazolol\", \"Ici215001\", \"bisoprolol\", \"timolol\", \"s-atenolol\"]\n",
    "#non_biased_ligands = [n for n in df.columns.values.tolist() if n not in biased_ligands and \"Carvedilol\" not in n]\n",
    "#common_agonists = biased_ligands + non_biased_ligands\n",
    "\n",
    "X = delta_delta_g[common_agonists].values.T\n",
    "X_scaled = ddg_scaled[common_agonists].values.T\n",
    "C = null_features.loc[common_agonists].values\n",
    "\n",
    "#y = np.array([1. for n in biased_ligands] + [0. for n in non_biased_ligands]).reshape((-1,1))\n",
    "#y_ori = bret[\"B2AR-Arrestin, Mean\"].loc[common_ligands].divide(bret[\"B2AR-Arrestin, Mean\"].loc[common_agonists].add(bret[\"B2AR-Gprotein, Mean\"].loc[common_agonists])).values.reshape((-1,1))\n",
    "y_ori = bret[\"B2AR-Arrestin, Mean\"].loc[common_agonists].values.reshape((-1,1))\n",
    "plt.hist(y_ori, bins=25)\n",
    "y = binarize(y_ori, threshold=0.2) \n",
    "\n",
    "features = [C, X, X_scaled, docking_normalized[common_agonists].values.T]\n",
    "features_y = [C, X, X_scaled, docking_normalized[common_agonists].values.T, y]\n",
    "feature_names = [\"Crystal Structures\", \"MSM States\", \"Normalized MSM States\", \"Normalized Docking\"]\n",
    "  \n",
    "\n",
    "for j in range(0,n_trials):\n",
    "    print(j)\n",
    "    aucs = []\n",
    "    log_aucs = []\n",
    "    train_test_arrays = sklearn.cross_validation.train_test_split(*features_y, train_size=0.8, stratify=y) \n",
    "    y_train = train_test_arrays[2*len(features)]\n",
    "    y_test = train_test_arrays[2*len(features) + 1]\n",
    "    feature_importance = []\n",
    "    r = []\n",
    "    \n",
    "    for i in range(0, len(features)):\n",
    "        X_train = train_test_arrays[2*i]\n",
    "        X_test = train_test_arrays[2*i+1]\n",
    "\n",
    "        sc = StandardScaler()\n",
    "        sc.fit(X_train)\n",
    "        X_train = sc.transform(X_train)\n",
    "        X_test = sc.transform(X_test)\n",
    "        \n",
    "        cs = np.logspace(-3., 20.)\n",
    "        rfr = LogisticRegressionCV(Cs=cs, penalty='l2')\n",
    "        rfr.fit(X_train, y_train)\n",
    "        feature_importance.append(rfr.coef_)\n",
    "        y_pred = rfr.predict(X_test)\n",
    "        y_score = rfr.predict_proba(X_test)\n",
    "        auc, logauc = compute_auc(y_test, y_score)\n",
    "        aucs.append(auc)\n",
    "        log_aucs.append(logauc)  \n",
    "        r.append(rfr.C_)\n",
    "    reg.append(r)\n",
    "    feature_importances.append(feature_importance)\n",
    "    test_aucs.append(aucs)\n",
    "    test_log_aucs.append(log_aucs)"
   ]
  },
  {
   "cell_type": "code",
   "execution_count": null,
   "metadata": {
    "collapsed": false
   },
   "outputs": [],
   "source": [
    "plt.scatter(docking_normalized.loc[\"cluster80\"][common_ligands], -1.0*bret.loc[common_ligands][\"B2AR-Gprotein, Mean\"].subtract(bret.loc[common_ligands][\"B2AR-Arrestin, Mean\"]))"
   ]
  },
  {
   "cell_type": "code",
   "execution_count": null,
   "metadata": {
    "collapsed": false,
    "scrolled": true
   },
   "outputs": [],
   "source": [
    "auc_df = pd.DataFrame(np.array(test_aucs), columns=feature_names)\n",
    "auc_df.plot(kind='box')"
   ]
  },
  {
   "cell_type": "code",
   "execution_count": null,
   "metadata": {
    "collapsed": false
   },
   "outputs": [],
   "source": [
    "auc_df.median(axis=0)"
   ]
  },
  {
   "cell_type": "code",
   "execution_count": null,
   "metadata": {
    "collapsed": false
   },
   "outputs": [],
   "source": [
    "normalized_docking_importances = [f[1] for f in feature_importances]"
   ]
  },
  {
   "cell_type": "code",
   "execution_count": null,
   "metadata": {
    "collapsed": false,
    "scrolled": true
   },
   "outputs": [],
   "source": [
    "importances_df = make_importances_df(normalized_docking_importances, top_clusters)\n",
    "importances_df\n"
   ]
  },
  {
   "cell_type": "code",
   "execution_count": null,
   "metadata": {
    "collapsed": false
   },
   "outputs": [],
   "source": [
    "from sklearn.preprocessing import binarize\n",
    "X = ddg_scaled[common_ligands].values.T\n",
    "y = bret[\"B2AR-Gprotein, Mean\"].loc[common_ligands].values.reshape((-1,1))\n",
    "y = binarize(y, threshold=0.5)\n",
    "print(np.shape(y))\n",
    "from sklearn.svm import l1_min_c\n",
    "from sklearn import linear_model\n",
    "\n",
    "#cs = l1_min_c(X, y, loss='log') * np.logspace(0, 3)\n",
    "cs = np.logspace(-3., 20.)\n",
    "print(\"Computing regularization path ...\")\n",
    "clf = linear_model.LogisticRegression(C=1.0, penalty='l2', tol=1e-6)\n",
    "coefs_ = []\n",
    "for c in cs:\n",
    "    clf.set_params(C=c)\n",
    "    clf.fit(X, y)\n",
    "    coefs_.append(clf.coef_.ravel().copy())\n",
    "\n",
    "coefs_ = pd.DataFrame(np.array(coefs_), columns=ddg_scaled.index.values, index=np.log10(cs))\n",
    "#coefs_[list(set(inactive_clusters.tolist()).intersection(set(importances_df.iloc[10:20].index.values.tolist())))].plot()\n",
    "coefs_[importances_df.index.values[:5]].plot()\n",
    "#plt.plot(np.log10(cs), coefs_)\n",
    "#ymin, ymax = plt.ylim()\n",
    "###plt.xlabel('log(C)')\n",
    "#plt.ylabel('Coefficients')\n",
    "##plt.title('Logistic Regression Path')\n",
    "#plt.axis('tight')\n",
    "#plt.show()"
   ]
  },
  {
   "cell_type": "code",
   "execution_count": null,
   "metadata": {
    "collapsed": false
   },
   "outputs": [],
   "source": [
    "samples_pnas_tica.loc[importances_df.index.values[:10]]"
   ]
  },
  {
   "cell_type": "code",
   "execution_count": null,
   "metadata": {
    "collapsed": false
   },
   "outputs": [],
   "source": [
    "plt.scatter(deltas_tica.loc[importances_df.index.values[:10]][\"tIC.6\"], coefs_[importances_df.index.values[:10]].values[49])"
   ]
  },
  {
   "cell_type": "code",
   "execution_count": null,
   "metadata": {
    "collapsed": false,
    "scrolled": true
   },
   "outputs": [],
   "source": [
    "plot_clustermap(ddg_scaled[common_agonists.tolist()].loc[importances_df.index.values.tolist()[:5]].transpose(), save_file=\"%s/msm_n-clusters%d_lag-time%d_tICs%d.pdf\" %(tica_dir, n_clusters, msm_lag_time, n_components), method='average')\n",
    "\n"
   ]
  },
  {
   "cell_type": "code",
   "execution_count": null,
   "metadata": {
    "collapsed": false
   },
   "outputs": [],
   "source": [
    "samples_pnas_tica.loc[samples_pnas_tica[\"tm6_tm3_dist\"] < 18.0].loc[importances_df.iloc[0:5].index].dropna()"
   ]
  },
  {
   "cell_type": "code",
   "execution_count": null,
   "metadata": {
    "collapsed": false
   },
   "outputs": [],
   "source": [
    "ddg_scaled[\"nebivolol\"].subtract(ddg_scaled[\"s-carazolol\"]).sort(inplace=False).iloc[:10]"
   ]
  },
  {
   "cell_type": "code",
   "execution_count": null,
   "metadata": {
    "collapsed": false
   },
   "outputs": [],
   "source": [
    "ddg_scaled[\"s-carvedilol\"].subtract(ddg_scaled[\"s-carazolol\"]).sort(inplace=False).iloc[:10]"
   ]
  },
  {
   "cell_type": "code",
   "execution_count": null,
   "metadata": {
    "collapsed": false
   },
   "outputs": [],
   "source": [
    "samples_pnas_tica.loc[[\"cluster74\", \"cluster69\", \"cluster13\", \"cluster12\", \"cluster66\"]]"
   ]
  },
  {
   "cell_type": "code",
   "execution_count": null,
   "metadata": {
    "collapsed": false,
    "scrolled": true
   },
   "outputs": [],
   "source": [
    "import plots\n",
    "reload(plots)\n",
    "from plots import *\n",
    "#plot_importances_barh(importances_df.values, importances_df.index.values, \"MSM State Importance in Arrestin Prediction\", \"Feature Importance\", \"MSM State\", \"%s/arrestin_0pt5_classification_rfr.pdf\" %(tica_dir), n_features=50)\n",
    "importances_df.iloc[0:25].plot(kind='barh')\n",
    "plt.xlabel(\"Feature Importance\")\n",
    "plt.ylabel(\"MSM State\")\n",
    "plt.title(\"Importance of MSM States in Predicting Arrestin Activity\")\n",
    "plt.savefig(\"%s/msm_%dstates_arrestin_0pt2_agonists_only_classification_rfr.pdf\" %(tica_dir, n_clusters))\n",
    "#plt.clf()\n"
   ]
  },
  {
   "cell_type": "code",
   "execution_count": null,
   "metadata": {
    "collapsed": true
   },
   "outputs": [],
   "source": []
  },
  {
   "cell_type": "code",
   "execution_count": null,
   "metadata": {
    "collapsed": false
   },
   "outputs": [],
   "source": [
    "X = docking_normalized[common_agonists].values.T\n",
    "y = bret[\"B2AR-Arrestin, Mean\"].subtract(bret[\"B2AR-Gprotein, Mean\"]).loc[common_agonists].values.reshape((-1,1))\n",
    "y = binarize(y, threshold=-0.2)\n",
    "print(y)\n",
    "from sklearn import linear_model\n",
    "\n",
    "cs = np.logspace(-3., 200.)\n",
    "clf = linear_model.LogisticRegression(C=1.0, penalty='l2', tol=1e-6)\n",
    "coefs_ = []\n",
    "for c in cs:\n",
    "    clf.set_params(C=c)\n",
    "    clf.fit(X, y)\n",
    "    coefs_.append(clf.coef_.ravel().copy())\n",
    "\n",
    "coefs_ = pd.DataFrame(np.array(coefs_), columns=ddg_scaled.index.values, index=np.log10(cs))\n",
    "coefs_[importances_df.iloc[0:10].loc[samples_pnas_tica[\"tm6_tm3_dist\"] < 9.].index].plot()\n",
    "plt.xlabel(\"Log Regularization Parameter\")\n",
    "plt.ylabel(\"Coefficient for Arrestin Activity\")\n",
    "plt.title(\"Logistic Regression Coefficient in Predicting Arrestin Activity\")\n",
    "plt.savefig(\"%s/msm_%dstates_arrestin_0pt2_agonists_only_classification_logistic.pdf\" %(tica_dir, n_clusters))\n",
    "#plt.clf()"
   ]
  },
  {
   "cell_type": "code",
   "execution_count": null,
   "metadata": {
    "collapsed": false
   },
   "outputs": [],
   "source": [
    "np.shape(coefs_)"
   ]
  },
  {
   "cell_type": "code",
   "execution_count": null,
   "metadata": {
    "collapsed": false
   },
   "outputs": [],
   "source": [
    "print(np.median(np.nan_to_num(test_aucs)))\n",
    "print(np.median(np.nan_to_num(C_test_aucs)))\n",
    "print(np.median(np.nan_to_num(test_log_aucs)))\n",
    "print(np.median(np.nan_to_num(C_test_log_aucs)))"
   ]
  },
  {
   "cell_type": "code",
   "execution_count": null,
   "metadata": {
    "collapsed": false
   },
   "outputs": [],
   "source": [
    "lr = LinearRegression()\n",
    "states = importances_df.index.values.tolist()\n",
    "model = lr.fit(X, y_ori)\n",
    "pd.DataFrame(model.coef_.T, index=delta_delta_g.index, columns=[\"importance\"]).loc[states]#.sort(\"importance\", inplace=False)"
   ]
  },
  {
   "cell_type": "code",
   "execution_count": null,
   "metadata": {
    "collapsed": false
   },
   "outputs": [],
   "source": [
    "model.coef_.shape"
   ]
  },
  {
   "cell_type": "code",
   "execution_count": null,
   "metadata": {
    "collapsed": false
   },
   "outputs": [],
   "source": []
  },
  {
   "cell_type": "code",
   "execution_count": null,
   "metadata": {
    "collapsed": false
   },
   "outputs": [],
   "source": [
    "import seaborn\n",
    "reload(seaborn)\n",
    "import seaborn as sns\n",
    "plt.style.use('ggplot')\n",
    "plt.figure(figsize=(5, 5))\n",
    "sns.set_style(\"darkgrid\")\n",
    "g = (auc_df\n",
    "    .pipe((sns.boxplot, 'data'), orient='v', showfliers=True))\n",
    "g.set_xticklabels(auc_df.columns.values, rotation=90)\n",
    "sns.despine()\n",
    "plt.title(\"AUC for Arrestin Prediction\")\n",
    "plt.ylabel(\"Frequency AUCs over Random Splits\")\n",
    "plt.xlabel(\"Featurization\")\n",
    "plt.show()\n",
    "plt.savefig(\"%s/auc_arrestin_prediction_all_ligands_0pt2_cutoff.pdf\" %tica_dir)"
   ]
  },
  {
   "cell_type": "code",
   "execution_count": null,
   "metadata": {
    "collapsed": false
   },
   "outputs": [],
   "source": [
    "corr_matrix = compute_pearson_matrix(delta_delta_g[common_agonists].values.T, y)\n",
    "corr_df = pd.DataFrame(model.coef_.T, index=delta_delta_g.index.values, columns=[\"Correlation\"]).sort(\"Correlation\",inplace=False)\n",
    "#corr_df.loc[[\"cluster80\", \"cluster16\", \"cluster43\", \"cluster44\"]].plot(kind='barh')\n",
    "corr_df.loc[importances_df.index.values[:20]].sort(\"Correlation\", inplace=False).plot(kind='barh')#, figsize=(5,20))\n",
    "plt.xlabel(\"Pearsson Correlation with Arrestin Activity\")\n",
    "plt.ylabel(\"MSM State\")\n",
    "plt.title(\"Correlation of MSM States with Arrestin Activity\")\n"
   ]
  },
  {
   "cell_type": "code",
   "execution_count": null,
   "metadata": {
    "collapsed": true
   },
   "outputs": [],
   "source": []
  },
  {
   "cell_type": "code",
   "execution_count": null,
   "metadata": {
    "collapsed": false
   },
   "outputs": [],
   "source": [
    "samples_pnas_tica.loc[corr_df.loc[importances_df.index.values[:20]].sort(\"Correlation\", inplace=False).index.values]"
   ]
  },
  {
   "cell_type": "code",
   "execution_count": null,
   "metadata": {
    "collapsed": true
   },
   "outputs": [],
   "source": []
  },
  {
   "cell_type": "code",
   "execution_count": null,
   "metadata": {
    "collapsed": false
   },
   "outputs": [],
   "source": [
    "df = copy.deepcopy(aggregate_docking_msm)\n",
    "df[df.columns.values] = scale(df.values)\n",
    "plt.scatter(df[common_ligands].loc[\"cluster13\"].values, bret[\"B2AR-Arrestin, Mean\"].loc[common_ligands].values.T)"
   ]
  },
  {
   "cell_type": "code",
   "execution_count": null,
   "metadata": {
    "collapsed": false
   },
   "outputs": [],
   "source": [
    "bret"
   ]
  },
  {
   "cell_type": "code",
   "execution_count": null,
   "metadata": {
    "collapsed": false,
    "scrolled": true
   },
   "outputs": [],
   "source": [
    "import sklearn\n",
    "reload(sklearn)\n",
    "from sklearn.metrics import r2_score\n",
    "from sklearn.ensemble import GradientBoostingRegressor\n",
    "from sklearn.preprocessing import binarize\n",
    "from sklearn import cross_validation\n",
    "\n",
    "test_accuracies = []\n",
    "test_aucs = []\n",
    "test_log_aucs = []\n",
    "C_test_aucs = []\n",
    "C_test_log_aucs = []\n",
    "n_trials = 100\n",
    "feature_importances = []\n",
    "\n",
    "for j in range(0,n_trials):\n",
    "    print(j)\n",
    "\n",
    "    X = delta_delta_g[common_ligands].values.T\n",
    "    C = null_features.loc[common_ligands].values\n",
    "    y = bret[\"B2AR-Arrestin, Mean\"].loc[common_ligands].values.reshape((-1,1))\n",
    "    y = binarize(y, threshold=0.5)\n",
    "\n",
    "    X_train, X_test, y_train, y_test, C_train, C_test = sklearn.cross_validation.train_test_split(X, y, C, train_size=0.8, stratify=y)\n",
    "    \n",
    "    sc = StandardScaler()\n",
    "    sc.fit(X_train)\n",
    "    X_train = sc.transform(X_train)\n",
    "    X_test = sc.transform(X_test)\n",
    "\n",
    "    sc = StandardScaler()\n",
    "    sc.fit(C_train)\n",
    "    C_train = sc.transform(C_train)\n",
    "    C_test = sc.transform(C_test)\n",
    " \n",
    "    rfr = RandomForestClassifier(n_estimators=100, max_features='sqrt', max_depth=2, n_jobs=-1, oob_score=True)\n",
    "    rfr.fit(X_train, y_train)\n",
    "    feature_importances.append(rfr.feature_importances_)\n",
    "    y_pred = rfr.predict(X_test)\n",
    "    test_accuracies.append(np.sqrt(np.mean(np.square(y_test-y_pred.reshape((-1,1))))))\n",
    "    y_score = rfr.predict_proba(X_test)\n",
    "    auc, logauc = compute_auc(y_test, y_score)\n",
    "    test_aucs.append(auc)\n",
    "    test_log_aucs.append(logauc)\n",
    "    \n",
    "    rfr = RandomForestClassifier(n_estimators=100, max_features='sqrt', max_depth=2, n_jobs=-1, oob_score=True)\n",
    "    rfr.fit(C_train, y_train)\n",
    "    C_y_pred = rfr.predict(C_test)\n",
    "    y_score = rfr.predict_proba(C_test)\n",
    "    auc, logauc = compute_auc(y_test, y_score)\n",
    "    C_test_aucs.append(auc)\n",
    "    C_test_log_aucs.append(logauc)\n",
    "\n",
    "    \n",
    "    \n",
    "\n",
    "    "
   ]
  },
  {
   "cell_type": "code",
   "execution_count": null,
   "metadata": {
    "collapsed": false
   },
   "outputs": [],
   "source": [
    "import seaborn\n",
    "reload(seaborn)\n",
    "import seaborn as sns\n",
    "auc_df = pd.DataFrame(np.vstack([test_aucs, C_test_aucs]).T, columns=[\"MSM States\", \"Crystal Structures\"])\n",
    "\n",
    "plt.style.use('ggplot')\n",
    "plt.figure(figsize=(5, 5))\n",
    "sns.set_style(\"darkgrid\")\n",
    "g = (auc_df\n",
    "    .pipe((sns.boxplot, 'data'), orient='v', showfliers=True))\n",
    "#g.set_xticklabels(experiments.columns.values, rotation=90)\n",
    "sns.despine()\n",
    "plt.title(\"AUC for G Protein Prediction\")\n",
    "plt.ylabel(\"Frequency AUCs over Random Splits\")\n",
    "plt.xlabel(\"Featurization\")\n",
    "plt.show()\n",
    "plt.savefig(\"%s/msm_n-states%d_auc_gprot_prediction_cutoff0pt5.pdf\" %(tica_dir, n_clusters))"
   ]
  },
  {
   "cell_type": "code",
   "execution_count": null,
   "metadata": {
    "collapsed": false
   },
   "outputs": [],
   "source": [
    "importances_df = make_importances_df(feature_importances, delta_delta_g.index.values.tolist())\n",
    "importances_df\n",
    "\n"
   ]
  },
  {
   "cell_type": "code",
   "execution_count": null,
   "metadata": {
    "collapsed": false
   },
   "outputs": [],
   "source": [
    "import sklearn\n",
    "from sklearn.linear_model import LinearRegression, Lasso\n",
    "model = Lasso(alpha=0.0001)                                \n",
    "model.fit(ddg_scaled[common_agonists].values.T, bret.loc[common_agonists][\"B2AR-Arrestin, Mean\"].subtract(bret.loc[common_agonists][\"B2AR-Gprotein, Mean\"].values))\n",
    "pd.DataFrame(model.coef_, index=ddg_scaled.index, columns=[\"importance\"]).sort(\"importance\", inplace=False)"
   ]
  },
  {
   "cell_type": "code",
   "execution_count": null,
   "metadata": {
    "collapsed": false
   },
   "outputs": [],
   "source": [
    "print(np.median(np.nan_to_num(test_aucs)))\n",
    "print(np.median(np.nan_to_num(C_test_aucs)))\n",
    "print(np.median(np.nan_to_num(test_log_aucs)))\n",
    "print(np.median(np.nan_to_num(C_test_log_aucs)))"
   ]
  },
  {
   "cell_type": "code",
   "execution_count": null,
   "metadata": {
    "collapsed": false
   },
   "outputs": [],
   "source": [
    "import plots\n",
    "reload(plots)\n",
    "from plots import *\n",
    "#plot_importances_barh(importances_df.values, importances_df.index.values, \"MSM State Importance in Arrestin Prediction\", \"Feature Importance\", \"MSM State\", \"%s/arrestin_0pt5_classification_rfr.pdf\" %(tica_dir), n_features=50)\n",
    "importances_df.iloc[0:25].plot(kind='barh')\n",
    "plt.xlabel(\"Feature Importance\")\n",
    "plt.ylabel(\"MSM State\")\n",
    "plt.title(\"Importance of MSM States in Predicting G Protein Activity\")\n",
    "#plt.savefig(\"%s/msm_%dstates_gprot_0pt5_classification_rfr.pdf\" %(tica_dir, n_clusters))\n",
    "#plt.clf()\n",
    "\n"
   ]
  },
  {
   "cell_type": "code",
   "execution_count": null,
   "metadata": {
    "collapsed": false
   },
   "outputs": [],
   "source": [
    "corr_matrix = compute_pearson_matrix(ddg_scaled[common_ligands].values.T, y)\n",
    "corr_df = pd.DataFrame(model.coef_, index=ddg_scaled.index.values, columns=[\"Correlation\"])\n",
    "corr_df.loc[importances_df.index.values[:10]].sort(\"Correlation\", inplace=False).plot(kind='barh')\n",
    "plt.xlabel(\"Pearsson Correlation with G Protein Activity\")\n",
    "plt.ylabel(\"MSM State\")\n",
    "plt.title(\"Correlation of MSM States with G Protein Activity\")\n",
    "#plt.savefig(\"%s/msm_%dstates_gprot_0pt5_classification_correlations.pdf\" %(tica_dir, n_clusters))\n",
    "#plt.clf()\n",
    "\n",
    "\n"
   ]
  },
  {
   "cell_type": "code",
   "execution_count": null,
   "metadata": {
    "collapsed": false
   },
   "outputs": [],
   "source": [
    "pd.set_option('display.max_rows', 500)\n",
    "pd.set_option('display.max_columns', 500)"
   ]
  }
 ],
 "metadata": {
  "kernelspec": {
   "display_name": "Python 2",
   "language": "python",
   "name": "python2"
  },
  "language_info": {
   "codemirror_mode": {
    "name": "ipython",
    "version": 2
   },
   "file_extension": ".py",
   "mimetype": "text/x-python",
   "name": "python",
   "nbconvert_exporter": "python",
   "pygments_lexer": "ipython2",
   "version": "2.7.11"
  }
 },
 "nbformat": 4,
 "nbformat_minor": 0
}
