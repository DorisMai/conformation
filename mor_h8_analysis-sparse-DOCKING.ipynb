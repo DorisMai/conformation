{
 "cells": [
  {
   "cell_type": "code",
   "execution_count": 1,
   "metadata": {
    "collapsed": false
   },
   "outputs": [
    {
     "name": "stdout",
     "output_type": "stream",
     "text": [
      "Couldn't import dot_parser, loading of dot files will not be possible.\n"
     ]
    },
    {
     "name": "stderr",
     "output_type": "stream",
     "text": [
      "/home/enf/software/anaconda/lib/python2.7/site-packages/matplotlib/__init__.py:1318: UserWarning:  This call to matplotlib.use() has no effect\n",
      "because the backend has already been chosen;\n",
      "matplotlib.use() must be called *before* pylab, matplotlib.pyplot,\n",
      "or matplotlib.backends is imported for the first time.\n",
      "\n",
      "  warnings.warn(_use_error_msg)\n"
     ]
    }
   ],
   "source": [
    "import pandas as pd\n",
    "import matplotlib\n",
    "import matplotlib.pyplot as plt\n",
    "\n",
    "# changing matplotlib the default style\n",
    "matplotlib.style.use('ggplot')\n",
    "\n",
    "from PDB_Order_Fixer import PDB_Order_Fixer\n",
    "import mdtraj as md\n",
    "import os\n",
    "import numpy as np\n",
    "import h5py\n",
    "\n",
    "import datetime\n",
    "import glob\n",
    "import copy\n",
    "from functools import partial \n",
    "import operator\n",
    "import time\n",
    "\n",
    "import random \n",
    "import subprocess\n",
    "from subprocess import Popen\n",
    "import sys\n",
    "from io_functions import *\n",
    "from custom_clusterer import *\n",
    "from custom_tica import *\n",
    "from custom_featurizer import *\n",
    "from pdb_editing import *\n",
    "from analysis import *\n",
    "from io_functions import *\n",
    "#from topology_fixing import *\n",
    "from subsampling import *\n",
    "from conversions import *\n",
    "from custom_msm import *\n",
    "from grids import *\n",
    "from docking_analysis import *"
   ]
  },
  {
   "cell_type": "code",
   "execution_count": null,
   "metadata": {
    "collapsed": true
   },
   "outputs": [],
   "source": []
  },
  {
   "cell_type": "code",
   "execution_count": 2,
   "metadata": {
    "collapsed": false
   },
   "outputs": [],
   "source": [
    "\n",
    "from operator import itemgetter"
   ]
  },
  {
   "cell_type": "code",
   "execution_count": 3,
   "metadata": {
    "collapsed": false
   },
   "outputs": [],
   "source": [
    "import warnings\n",
    "warnings.filterwarnings('ignore')\n",
    "%matplotlib inline"
   ]
  },
  {
   "cell_type": "markdown",
   "metadata": {
    "collapsed": false
   },
   "source": [
    "In this iPython notebook, we will featurize MOR ligand binding simulation by pairwise distances between the ligand and different receptor residues. We will then perform tICA and prospectively build an MSM. "
   ]
  },
  {
   "cell_type": "code",
   "execution_count": 4,
   "metadata": {
    "collapsed": false
   },
   "outputs": [
    {
     "name": "stdout",
     "output_type": "stream",
     "text": [
      "we are operating on biox3\n"
     ]
    }
   ],
   "source": [
    "from detect_intermediates import *\n",
    "from interpret_tICs import *"
   ]
  },
  {
   "cell_type": "code",
   "execution_count": 5,
   "metadata": {
    "collapsed": false
   },
   "outputs": [
    {
     "name": "stdout",
     "output_type": "stream",
     "text": [
      "tm6_tm3_residues\n",
      "[R279, R165]\n",
      "[65, 66, 67, 68, 69, 70, 71, 72, 73, 74, 75, 76, 77, 78, 79, 80, 81, 82, 83, 84, 85, 86, 87, 88, 89, 90, 91, 92, 93, 94, 95, 96, 97, 98, 99, 100, 101, 102, 103, 104, 105, 106, 107, 108, 109, 110, 111, 112, 113, 114, 115, 116, 117, 118, 119, 120, 121, 122, 123, 124, 125, 126, 127, 128, 129, 130, 131, 132, 133, 134, 135, 136, 137, 138, 139, 140, 141, 142, 143, 144, 145, 146, 147, 148, 149, 150, 151, 152, 153, 154, 155, 156, 157, 158, 159, 160, 161, 162, 163, 164, 165, 166, 167, 168, 169, 170, 171, 172, 173, 174, 175, 176, 177, 178, 179, 180, 181, 182, 183, 184, 185, 186, 187, 188, 189, 190, 191, 192, 193, 194, 195, 196, 197, 198, 199, 200, 201, 202, 203, 204, 205, 206, 207, 208, 209, 210, 211, 212, 213, 214, 215, 216, 217, 218, 219, 220, 221, 222, 223, 224, 225, 226, 227, 228, 229, 230, 231, 232, 233, 234, 235, 236, 237, 238, 239, 240, 241, 242, 243, 244, 245, 246, 247, 248, 249, 250, 251, 252, 253, 254, 255, 256, 257, 258, 259, 273, 274, 275, 276, 277, 278, 279, 280, 281, 282, 283, 284, 285, 286, 287, 288, 289, 290, 291, 292, 293, 294, 295, 296, 297, 298, 299, 300, 301, 302, 303, 304, 305, 306, 307, 308, 309, 310, 311, 312, 313, 314, 315, 316, 317, 318, 319, 320, 321, 322, 323, 324, 325, 326, 327, 328, 329, 330, 331, 332, 333, 334, 335, 336, 337, 338, 339, 340, 341, 342, 343, 344, 345, 346, 347]\n",
      "There are 270 common residues between input structures\n"
     ]
    }
   ],
   "source": [
    "from mor_h8_feature_types import *\n",
    "from get_variable_names import *\n",
    "from mor_h8_tica_config import *\n",
    "from residue import Residue, Atom\n",
    "ori_feature_name = copy.deepcopy(feature_name)"
   ]
  },
  {
   "cell_type": "code",
   "execution_count": 6,
   "metadata": {
    "collapsed": false
   },
   "outputs": [],
   "source": [
    "rho = 0.1\n",
    "rho_string = \"0pt1\"\n",
    "lag_time = 5\n",
    "n_components = 10\n",
    "n_clusters = 250\n",
    "\n",
    "rho = 0.01\n",
    "rho_string = \"0pt01\"\n",
    "lag_time=50"
   ]
  },
  {
   "cell_type": "code",
   "execution_count": 7,
   "metadata": {
    "collapsed": false,
    "scrolled": true
   },
   "outputs": [
    {
     "name": "stdout",
     "output_type": "stream",
     "text": [
      "/home/enf/md_simulations/MOR/h8_reimaged/featuresall_residues_4dkl_5c1m_under_cutoff6A-CA\n",
      "/home/enf/md_simulations/MOR/h8_reimaged/featuresall_residues_4dkl_5c1m_under_cutoff6A-CA\n"
     ]
    }
   ],
   "source": [
    "schemes = [\"closest-heavy\", \"CA\"]\n",
    "feature_name = \"%s-CA\" %ori_feature_name\n",
    "#feature_name = \"%s_phi_psi_chi2\" %feature_name\n",
    "(active_ref_dir, inactive_ref_dir, simulation_ref_dir, scripts_dir,\n",
    "          ligand_dir, agonist_dir, inverse_agonist_dir, biased_agonist_dir, ref_receptors_dir, whole_trajectory_pnas,\n",
    "          sasa_file) = get_base_files(base)\n",
    "\n",
    "tica_dir = get_tica_dir(base, is_sparse, lag_time, n_components, feature_name, \n",
    "                                 wolf_string, shrinkage_string, rho_string)\n",
    "tica_dir = \"%s-with-inactive\" %tica_dir\n",
    "ori_tica_dir = copy.deepcopy(tica_dir)\n",
    "#tica_dir = \"%s-normalized\" % ori_tica_dir\n",
    "features_dir = get_features_dir(base, feature_name)\n",
    "\n",
    "landmarks_dir = get_landmarks_dir(tica_dir)\n",
    "analysis_dir = get_analysis_dir(tica_dir, n_clusters, sampling_method)\n",
    "gmm_dir = get_gmm_dir(tica_dir)\n",
    "rf_dir = get_rf_dir(tica_dir)\n",
    "\n",
    "\n",
    "ref_tica_dir, ref_tica_coords = get_ref_tica_dirs(tica_dir)\n",
    "\n",
    "graph_file = get_graph_file(tica_dir, msm_lag_time, n_clusters)\n",
    "\n",
    "pnas_titles =  [\"tm6_tm3_dist\", \"rmsd_npxxy_inactive\", \"rmsd_npxxy_active\", \"rmsd_connector_inactive\", \"rmsd_connector_active\"]\n",
    "pnas_features_dir = analysis_dir\n",
    "\n",
    "\n",
    "(clusterer_dir, msm_model_dir, macrostate_dir, features_known, model_dir, projected_features_dir,\n",
    "         projection_operator_dir, ktica_fit_model_filename, ktica_projected_data_filename, nystroem_data_filename,\n",
    "         mutual_information_csv, pearson_csv) = get_tica_files(base, tica_dir, n_clusters, msm_lag_time, n_macrostates)\n",
    "\n",
    "(standardized_features_dir, feature_residues_csv, feature_residues_pkl,\n",
    "          contact_csv, ref_features_dir) = get_feature_files(features_dir)\n",
    "\n",
    "(kmeans_csv, tica_coords_csv, features_csv, active_rmsd_dir, inactive_rmsd_dir, active_pnas_dir, inactive_pnas_joined, active_pnas_joined,\n",
    "        clusters_map_file, ktica_clusters_map_file, analysis_file, combined_file, docking_summary, docking_joined, docking_z_scores_csv,\n",
    "        aggregate_docking, aggregate_docking_joined, docking_pnas_joined, aggregate_docking_pnas, aggregate_docking_pnas_joined, docking_multiple_ligands,\n",
    "        docking_distances_file, docking_pdf, mmgbsa_docking_distances, pnas_coords, mmgbsa_dir, mmgbsa_csv, mmgbsa_pdf, aggregate_mmgbsa,\n",
    "        aggregate_mmgbsa_joined, aggregate_mmgbsa_pnas_joined, mmgbsa_z_scores_csv, active_clusters_csv, intermediate_clusters_csv,\n",
    "        inactive_clusters_csv, pnas_clusters_averages, tica_clusters_averages, tica_classes_csv, tica_samples_csv, subgraph_save_base,\n",
    "        degree_save_base, degree_map_csv, degree_z_map_csv, aggregate_docking_pnas_degree_z_joined, tic_residue_csv, feature_coefs_csv,\n",
    "        duplicated_feature_coefs_csv) = get_analysis_files(analysis_dir, n_clusters, tica_dir, tica_dir, sampling_method, n_samples, precision,\n",
    "                                                           msm_lag_time)\n",
    "\n",
    "(inactive_pnas_distances_dir, active_pnas_distances_dir, active_pnas_all_distances_dir,\n",
    "          inactive_pnas_distances_new_csv, active_pnas_distances_new_csv, active_pnas_joined, active_pnas_means, pnas_coords_dir,\n",
    "          pnas_coords_csv, pnas_all_coords_csv, pnas_coords_hexbin_dir, pnas_coords_co_crystallized_docking_dir,\n",
    "          pnas_coords_active_colors_dir, user_defined_features_file, reaction_coordinates_trajs_file) = get_pnas_files(whole_trajectory_pnas, pnas_features_dir)\n",
    "\n",
    "features_dir = get_features_dir(base, feature_name)\n",
    "\n",
    "\n",
    "\n",
    "graph_file = get_graph_file(tica_dir, msm_lag_time, n_clusters)\n",
    "(scripts_dir, pymol_fixpdb_dir) = get_script_dir(scripts_dir)\n",
    "(save_dir, reimaged_dir, mae_dir, combined_reimaged_dir, grid_dir, docking_dir) = get_docking_dirs(tica_dir, n_clusters, n_components, n_samples, sampling_method, precision)\n"
   ]
  },
  {
   "cell_type": "code",
   "execution_count": 22,
   "metadata": {
    "collapsed": false
   },
   "outputs": [
    {
     "name": "stdout",
     "output_type": "stream",
     "text": [
      "147\n"
     ]
    },
    {
     "data": {
      "text/plain": [
       "<AsyncMapResult: chdir>"
      ]
     },
     "execution_count": 22,
     "metadata": {},
     "output_type": "execute_result"
    }
   ],
   "source": [
    "from ipyparallel import Client\n",
    "rc = Client()\n",
    "print(len(rc.ids))\n",
    "dview = rc[:]\n",
    "dview.map(os.chdir, ['/home/enf/b2ar_analysis/conformation']*len(rc.ids))"
   ]
  },
  {
   "cell_type": "code",
   "execution_count": null,
   "metadata": {
    "collapsed": false
   },
   "outputs": [],
   "source": [
    "import grids\n",
    "reload(grids)\n",
    "from grids import *\n",
    "\n",
    "import os\n",
    "reload(os)\n",
    "ref_receptors_dir = \"/home/enf/md_simulations/MOR/bu72_ref_receptors/conformation\"\n",
    "active_ref_dir = \"%s/bu72_ionized_pymol_RL_conformation.pdb\" %ref_receptors_dir\n",
    "inactive_ref_dir = \"%s/bu72_aligned_4DKL_R_L_conformation.pdb\" %ref_receptors_dir\n",
    "\n",
    "grid_center = \"0.33, 1.64, 9.\"\n",
    "\n",
    "grid_dir = \"%s/grids\" %ref_receptors_dir\n",
    "if not os.path.exists(grid_dir):\n",
    "    os.makedirs(grid_dir)\n",
    "precision = \"XP\"\n",
    "docking_dir = \"%s/docking_%s\" %(ref_receptors_dir, precision)\n",
    "if not os.path.exists(docking_dir):\n",
    "    os.makedirs(docking_dir)\n",
    "\n",
    "all_ligands_dir = \"/home/enf/md_simulations/MOR/opiates\"\n",
    "prepare_ligands(all_ligands_dir, [\".mol2\", \".sdf\"], n_ring_conf=10, n_stereoisomers=10, worker_pool=dview)\n",
    "ligands = get_ligands(all_ligands_dir)\n",
    "\n",
    "#mae_dir = ref_receptors_dir\n",
    "#pprep(mae_dir, ref = active_ref_dir, chosen_receptors = None, worker_pool=None, parallel=True)\n",
    "#generate_grids(mae_dir, grid_center, grid_dir, remove_lig = \"NON\", chosen_receptors = None, worker_pool=None, outer_box=35.)\n",
    "\n",
    "\n",
    "dock_ligands_and_receptors(grid_dir, docking_dir, all_ligands_dir, precision = precision, ext = \"-out.maegz\", chosen_ligands = False, chosen_receptors = False, parallel = None, grid_ext = \".zip\", worker_pool=dview)\n",
    "\n",
    "\n"
   ]
  },
  {
   "cell_type": "code",
   "execution_count": 17,
   "metadata": {
    "collapsed": false
   },
   "outputs": [
    {
     "name": "stdout",
     "output_type": "stream",
     "text": [
      "['/home/enf/md_simulations/MOR/opiates/bu72_cation.mol2', '/home/enf/md_simulations/MOR/opiates/fentanyl.mol2', '/home/enf/md_simulations/MOR/opiates/ibntxa_cation.mol2', '/home/enf/md_simulations/MOR/opiates/naloxone_cation.mol2', '/home/enf/md_simulations/MOR/opiates/oxymorphone_cation.mol2', '/home/enf/md_simulations/MOR/opiates/sufentanil.mol2', '/home/enf/md_simulations/MOR/opiates/._18f_fdpn.sdf', '/home/enf/md_simulations/MOR/opiates/._buprenorphine_deriv1.sdf', '/home/enf/md_simulations/MOR/opiates/._buprenorphine_deriv2.sdf', '/home/enf/md_simulations/MOR/opiates/._buprenorphine_deriv3.sdf', '/home/enf/md_simulations/MOR/opiates/._buprenorphine_deriv4.sdf', '/home/enf/md_simulations/MOR/opiates/._etorphine.sdf', '/home/enf/md_simulations/MOR/opiates/._ohmefentanyl.sdf', '/home/enf/md_simulations/MOR/opiates/18f_fdpn.sdf', '/home/enf/md_simulations/MOR/opiates/buprenorphine_deriv1.sdf', '/home/enf/md_simulations/MOR/opiates/buprenorphine_deriv2.sdf', '/home/enf/md_simulations/MOR/opiates/buprenorphine_deriv3.sdf', '/home/enf/md_simulations/MOR/opiates/buprenorphine_deriv4.sdf', '/home/enf/md_simulations/MOR/opiates/etorphine.sdf', '/home/enf/md_simulations/MOR/opiates/ohmefentanyl.sdf']\n",
      "finished preparing ligands\n",
      "ligands\n",
      "['/home/enf/md_simulations/MOR/opiates/18f_fdpn-out.maegz', '/home/enf/md_simulations/MOR/opiates/bu72_cation-out.maegz', '/home/enf/md_simulations/MOR/opiates/buprenorphine_deriv1-out.maegz', '/home/enf/md_simulations/MOR/opiates/buprenorphine_deriv2-out.maegz', '/home/enf/md_simulations/MOR/opiates/buprenorphine_deriv4-out.maegz', '/home/enf/md_simulations/MOR/opiates/etorphine-out.maegz', '/home/enf/md_simulations/MOR/opiates/fentanyl-out.maegz', '/home/enf/md_simulations/MOR/opiates/ibntxa_cation-out.maegz', '/home/enf/md_simulations/MOR/opiates/naloxone_cation-out.maegz', '/home/enf/md_simulations/MOR/opiates/ohmefentanyl-out.maegz', '/home/enf/md_simulations/MOR/opiates/oxymorphone_cation-out.maegz', '/home/enf/md_simulations/MOR/opiates/sufentanil-out.maegz']\n",
      "Written all docking job input files\n",
      "already docked bu72_aligned_4DKL_R_L_conformation\n",
      "already docked bu72_ionized_pymol_RL_conformation\n",
      "Written all docking job input files\n",
      "Written all docking job input files\n",
      "Written all docking job input files\n",
      "Written all docking job input files\n",
      "Written all docking job input files\n",
      "already docked bu72_aligned_4DKL_R_L_conformation\n",
      "already docked bu72_ionized_pymol_RL_conformation\n",
      "Written all docking job input files\n",
      "already docked bu72_aligned_4DKL_R_L_conformation\n",
      "already docked bu72_ionized_pymol_RL_conformation\n",
      "Written all docking job input files\n",
      "already docked bu72_aligned_4DKL_R_L_conformation\n",
      "already docked bu72_ionized_pymol_RL_conformation\n",
      "Written all docking job input files\n",
      "already docked bu72_aligned_4DKL_R_L_conformation\n",
      "already docked bu72_ionized_pymol_RL_conformation\n",
      "Written all docking job input files\n",
      "already docked bu72_aligned_4DKL_R_L_conformation\n",
      "already docked bu72_ionized_pymol_RL_conformation\n",
      "Written all docking job input files\n",
      "already docked bu72_aligned_4DKL_R_L_conformation\n",
      "already docked bu72_ionized_pymol_RL_conformation\n",
      "Written all docking job input files\n",
      "['/home/enf/md_simulations/MOR/bu72_ref_receptors/conformation/docking_XP/18f_fdpn/bu72_aligned_4DKL_R_L_conformation.in', '/home/enf/md_simulations/MOR/bu72_ref_receptors/conformation/docking_XP/18f_fdpn/bu72_ionized_pymol_RL_conformation.in', '/home/enf/md_simulations/MOR/bu72_ref_receptors/conformation/docking_XP/buprenorphine_deriv1/bu72_aligned_4DKL_R_L_conformation.in', '/home/enf/md_simulations/MOR/bu72_ref_receptors/conformation/docking_XP/buprenorphine_deriv1/bu72_ionized_pymol_RL_conformation.in', '/home/enf/md_simulations/MOR/bu72_ref_receptors/conformation/docking_XP/buprenorphine_deriv2/bu72_aligned_4DKL_R_L_conformation.in', '/home/enf/md_simulations/MOR/bu72_ref_receptors/conformation/docking_XP/buprenorphine_deriv2/bu72_ionized_pymol_RL_conformation.in', '/home/enf/md_simulations/MOR/bu72_ref_receptors/conformation/docking_XP/buprenorphine_deriv4/bu72_aligned_4DKL_R_L_conformation.in', '/home/enf/md_simulations/MOR/bu72_ref_receptors/conformation/docking_XP/buprenorphine_deriv4/bu72_ionized_pymol_RL_conformation.in', '/home/enf/md_simulations/MOR/bu72_ref_receptors/conformation/docking_XP/etorphine/bu72_aligned_4DKL_R_L_conformation.in', '/home/enf/md_simulations/MOR/bu72_ref_receptors/conformation/docking_XP/etorphine/bu72_ionized_pymol_RL_conformation.in']\n"
     ]
    }
   ],
   "source": [
    "all_ligands_dir = \"/home/enf/md_simulations/MOR/opiates\"\n",
    "prepare_ligands(all_ligands_dir, [\".mol2\", \".sdf\"], n_ring_conf=10, n_stereoisomers=10, worker_pool=dview)\n",
    "ligands = get_ligands(all_ligands_dir)\n",
    "\n",
    "#mae_dir = ref_receptors_dir\n",
    "#pprep(mae_dir, ref = active_ref_dir, chosen_receptors = None, worker_pool=None, parallel=True)\n",
    "#generate_grids(mae_dir, grid_center, grid_dir, remove_lig = \"NON\", chosen_receptors = None, worker_pool=None, outer_box=35.)\n",
    "\n",
    "\n",
    "dock_ligands_and_receptors(grid_dir, docking_dir, all_ligands_dir, precision = precision, ext = \"-out.maegz\", chosen_ligands = False, chosen_receptors = False, parallel = None, grid_ext = \".zip\", worker_pool=dview)\n",
    "\n",
    "\n",
    "\n"
   ]
  },
  {
   "cell_type": "code",
   "execution_count": 14,
   "metadata": {
    "collapsed": false
   },
   "outputs": [
    {
     "name": "stdout",
     "output_type": "stream",
     "text": [
      "Analyzing docking results\n",
      "/home/enf/md_simulations/MOR/bu72_ref_receptors/conformation/docking_XP\n",
      "['', '', '', '', '', '', '', '18f_fdpn', 'buprenorphine_deriv1', 'buprenorphine_deriv2', 'buprenorphine_deriv3', 'buprenorphine_deriv4', 'etorphine', 'ohmefentanyl']\n",
      "/home/enf/md_simulations/MOR/bu72_ref_receptors/conformation/docking_XP/buprenorphine_deriv2\n",
      "/home/enf/md_simulations/MOR/bu72_ref_receptors/conformation/docking_XP/bu72_deriv1_3C_OH\n",
      "/home/enf/md_simulations/MOR/bu72_ref_receptors/conformation/docking_XP/bu72_cation\n",
      "/home/enf/md_simulations/MOR/bu72_ref_receptors/conformation/docking_XP/sufentanil\n",
      "/home/enf/md_simulations/MOR/bu72_ref_receptors/conformation/docking_XP/bu72_deriv3_3C_OH-2\n",
      "/home/enf/md_simulations/MOR/bu72_ref_receptors/conformation/docking_XP/bup_deriv1_revised\n",
      "/home/enf/md_simulations/MOR/bu72_ref_receptors/conformation/docking_XP/buprenorphine_deriv1\n",
      "/home/enf/md_simulations/MOR/bu72_ref_receptors/conformation/docking_XP/fentanyl\n",
      "/home/enf/md_simulations/MOR/bu72_ref_receptors/conformation/docking_XP/naloxone_cation\n",
      "/home/enf/md_simulations/MOR/bu72_ref_receptors/conformation/docking_XP/buprenorphine_deriv4\n",
      "/home/enf/md_simulations/MOR/bu72_ref_receptors/conformation/docking_XP/bup_deriv2_revised\n",
      "/home/enf/md_simulations/MOR/bu72_ref_receptors/conformation/docking_XP/18f_fdpn\n",
      "/home/enf/md_simulations/MOR/bu72_ref_receptors/conformation/docking_XP/etorphine\n",
      "/home/enf/md_simulations/MOR/bu72_ref_receptors/conformation/docking_XP/bu72_deriv3_3C_OH-3\n",
      "/home/enf/md_simulations/MOR/bu72_ref_receptors/conformation/docking_XP/ibntxa_cation\n",
      "/home/enf/md_simulations/MOR/bu72_ref_receptors/conformation/docking_XP/buprenorphine_deriv3\n",
      "/home/enf/md_simulations/MOR/bu72_ref_receptors/conformation/docking_XP/bu72_deriv4_3C_1F-2\n",
      "/home/enf/md_simulations/MOR/bu72_ref_receptors/conformation/docking_XP/oxymorphone_cation\n",
      "/home/enf/md_simulations/MOR/bu72_ref_receptors/conformation/docking_XP/bu72_deriv1_3C_1F\n",
      "/home/enf/md_simulations/MOR/bu72_ref_receptors/conformation/docking_XP/ohmefentanyl\n",
      "/home/enf/md_simulations/MOR/bu72_ref_receptors/conformation/docking_XP/bup_deriv3_revised\n",
      "['buprenorphine_deriv2', 'bu72_deriv1_3C_OH', 'bu72_cation', 'sufentanil', 'bu72_deriv3_3C_OH-2', 'bup_deriv1_revised', 'buprenorphine_deriv1', 'fentanyl', 'naloxone_cation', 'buprenorphine_deriv4', 'bup_deriv2_revised', '18f_fdpn', 'etorphine', 'bu72_deriv3_3C_OH-3', 'ibntxa_cation', 'buprenorphine_deriv3', 'bu72_deriv4_3C_1F-2', 'oxymorphone_cation', 'bu72_deriv1_3C_1F', 'ohmefentanyl', 'bup_deriv3_revised']\n",
      "currently analyzing buprenorphine_deriv2\n",
      "currently analyzing bu72_deriv1_3C_OH\n",
      "currently analyzing bu72_cation\n",
      "currently analyzing sufentanil\n",
      "currently analyzing bu72_deriv3_3C_OH-2\n",
      "currently analyzing bup_deriv1_revised\n",
      "currently analyzing buprenorphine_deriv1\n",
      "currently analyzing fentanyl\n",
      "currently analyzing naloxone_cation\n",
      "currently analyzing buprenorphine_deriv4\n",
      "currently analyzing bup_deriv2_revised\n",
      "currently analyzing 18f_fdpn\n",
      "currently analyzing etorphine\n",
      "currently analyzing bu72_deriv3_3C_OH-3\n",
      "currently analyzing ibntxa_cation\n",
      "currently analyzing buprenorphine_deriv3\n",
      "currently analyzing bu72_deriv4_3C_1F-2\n",
      "currently analyzing oxymorphone_cation\n",
      "currently analyzing bu72_deriv1_3C_1F\n",
      "currently analyzing ohmefentanyl\n",
      "currently analyzing bup_deriv3_revised\n"
     ]
    },
    {
     "data": {
      "text/html": [
       "<div>\n",
       "<table border=\"1\" class=\"dataframe\">\n",
       "  <thead>\n",
       "    <tr style=\"text-align: right;\">\n",
       "      <th></th>\n",
       "      <th>buprenorphine_deriv2</th>\n",
       "      <th>bu72_deriv1_3C_OH</th>\n",
       "      <th>bu72_cation</th>\n",
       "      <th>sufentanil</th>\n",
       "      <th>bu72_deriv3_3C_OH-2</th>\n",
       "      <th>bup_deriv1_revised</th>\n",
       "      <th>buprenorphine_deriv1</th>\n",
       "      <th>fentanyl</th>\n",
       "      <th>naloxone_cation</th>\n",
       "      <th>buprenorphine_deriv4</th>\n",
       "      <th>...</th>\n",
       "      <th>18f_fdpn</th>\n",
       "      <th>etorphine</th>\n",
       "      <th>bu72_deriv3_3C_OH-3</th>\n",
       "      <th>ibntxa_cation</th>\n",
       "      <th>buprenorphine_deriv3</th>\n",
       "      <th>bu72_deriv4_3C_1F-2</th>\n",
       "      <th>oxymorphone_cation</th>\n",
       "      <th>bu72_deriv1_3C_1F</th>\n",
       "      <th>ohmefentanyl</th>\n",
       "      <th>bup_deriv3_revised</th>\n",
       "    </tr>\n",
       "  </thead>\n",
       "  <tbody>\n",
       "    <tr>\n",
       "      <th>bu72_aligned_4DKL_R_L_conformation</th>\n",
       "      <td>4.29</td>\n",
       "      <td>7.14</td>\n",
       "      <td>6.56</td>\n",
       "      <td>5.64</td>\n",
       "      <td>7.89</td>\n",
       "      <td>8.69</td>\n",
       "      <td>3.84</td>\n",
       "      <td>6.81</td>\n",
       "      <td>7.52</td>\n",
       "      <td>3.11</td>\n",
       "      <td>...</td>\n",
       "      <td>7.76</td>\n",
       "      <td>6.21</td>\n",
       "      <td>NaN</td>\n",
       "      <td>8.69</td>\n",
       "      <td>5.95</td>\n",
       "      <td>7.23</td>\n",
       "      <td>7.01</td>\n",
       "      <td>7.80</td>\n",
       "      <td>6.10</td>\n",
       "      <td>7.76</td>\n",
       "    </tr>\n",
       "    <tr>\n",
       "      <th>bu72_ionized_pymol_RL_conformation</th>\n",
       "      <td>4.20</td>\n",
       "      <td>7.42</td>\n",
       "      <td>6.66</td>\n",
       "      <td>5.25</td>\n",
       "      <td>7.98</td>\n",
       "      <td>7.39</td>\n",
       "      <td>4.36</td>\n",
       "      <td>5.30</td>\n",
       "      <td>7.14</td>\n",
       "      <td>5.01</td>\n",
       "      <td>...</td>\n",
       "      <td>6.43</td>\n",
       "      <td>6.49</td>\n",
       "      <td>8.37</td>\n",
       "      <td>7.29</td>\n",
       "      <td>4.66</td>\n",
       "      <td>7.46</td>\n",
       "      <td>7.08</td>\n",
       "      <td>7.63</td>\n",
       "      <td>5.74</td>\n",
       "      <td>6.59</td>\n",
       "    </tr>\n",
       "  </tbody>\n",
       "</table>\n",
       "<p>2 rows × 21 columns</p>\n",
       "</div>"
      ],
      "text/plain": [
       "                                    buprenorphine_deriv2  bu72_deriv1_3C_OH  \\\n",
       "bu72_aligned_4DKL_R_L_conformation                  4.29               7.14   \n",
       "bu72_ionized_pymol_RL_conformation                  4.20               7.42   \n",
       "\n",
       "                                    bu72_cation  sufentanil  \\\n",
       "bu72_aligned_4DKL_R_L_conformation         6.56        5.64   \n",
       "bu72_ionized_pymol_RL_conformation         6.66        5.25   \n",
       "\n",
       "                                    bu72_deriv3_3C_OH-2  bup_deriv1_revised  \\\n",
       "bu72_aligned_4DKL_R_L_conformation                 7.89                8.69   \n",
       "bu72_ionized_pymol_RL_conformation                 7.98                7.39   \n",
       "\n",
       "                                    buprenorphine_deriv1  fentanyl  \\\n",
       "bu72_aligned_4DKL_R_L_conformation                  3.84      6.81   \n",
       "bu72_ionized_pymol_RL_conformation                  4.36      5.30   \n",
       "\n",
       "                                    naloxone_cation  buprenorphine_deriv4  \\\n",
       "bu72_aligned_4DKL_R_L_conformation             7.52                  3.11   \n",
       "bu72_ionized_pymol_RL_conformation             7.14                  5.01   \n",
       "\n",
       "                                           ...          18f_fdpn  etorphine  \\\n",
       "bu72_aligned_4DKL_R_L_conformation         ...              7.76       6.21   \n",
       "bu72_ionized_pymol_RL_conformation         ...              6.43       6.49   \n",
       "\n",
       "                                    bu72_deriv3_3C_OH-3  ibntxa_cation  \\\n",
       "bu72_aligned_4DKL_R_L_conformation                  NaN           8.69   \n",
       "bu72_ionized_pymol_RL_conformation                 8.37           7.29   \n",
       "\n",
       "                                    buprenorphine_deriv3  bu72_deriv4_3C_1F-2  \\\n",
       "bu72_aligned_4DKL_R_L_conformation                  5.95                 7.23   \n",
       "bu72_ionized_pymol_RL_conformation                  4.66                 7.46   \n",
       "\n",
       "                                    oxymorphone_cation  bu72_deriv1_3C_1F  \\\n",
       "bu72_aligned_4DKL_R_L_conformation                7.01               7.80   \n",
       "bu72_ionized_pymol_RL_conformation                7.08               7.63   \n",
       "\n",
       "                                    ohmefentanyl  bup_deriv3_revised  \n",
       "bu72_aligned_4DKL_R_L_conformation          6.10                7.76  \n",
       "bu72_ionized_pymol_RL_conformation          5.74                6.59  \n",
       "\n",
       "[2 rows x 21 columns]"
      ]
     },
     "execution_count": 14,
     "metadata": {},
     "output_type": "execute_result"
    }
   ],
   "source": [
    "import analysis\n",
    "reload(analysis)\n",
    "from analysis import *\n",
    "reference_docking_dir = docking_dir\n",
    "reference_ligand_docking = \"%s/all_docking_scores.csv\" % reference_docking_dir\n",
    "poses_summary = \"%s/all_docking_poses.csv\" % reference_docking_dir\n",
    "\n",
    "analyze_docking_results_multiple(reference_docking_dir, precision = \"XP\", ligands = get_ligands(all_ligands_dir), summary = reference_ligand_docking, poses_summary=poses_summary, redo = True)\n",
    "\n",
    "\n"
   ]
  },
  {
   "cell_type": "code",
   "execution_count": null,
   "metadata": {
    "collapsed": true
   },
   "outputs": [],
   "source": [
    "pd.set_option('display.max_rows', 500)\n",
    "pd.set_option('display.max_columns', 500)"
   ]
  },
  {
   "cell_type": "code",
   "execution_count": 19,
   "metadata": {
    "collapsed": false
   },
   "outputs": [
    {
     "data": {
      "text/html": [
       "<div>\n",
       "<table border=\"1\" class=\"dataframe\">\n",
       "  <thead>\n",
       "    <tr style=\"text-align: right;\">\n",
       "      <th></th>\n",
       "      <th>0</th>\n",
       "      <th>1</th>\n",
       "    </tr>\n",
       "  </thead>\n",
       "  <tbody>\n",
       "    <tr>\n",
       "      <th>Unnamed: 0</th>\n",
       "      <td>bu72_aligned_4DKL_R_L_conformation</td>\n",
       "      <td>bu72_ionized_pymol_RL_conformation</td>\n",
       "    </tr>\n",
       "    <tr>\n",
       "      <th>buprenorphine_deriv2</th>\n",
       "      <td>4.29</td>\n",
       "      <td>4.2</td>\n",
       "    </tr>\n",
       "    <tr>\n",
       "      <th>bu72_deriv1_3C_OH</th>\n",
       "      <td>7.14</td>\n",
       "      <td>7.42</td>\n",
       "    </tr>\n",
       "    <tr>\n",
       "      <th>bu72_cation</th>\n",
       "      <td>6.56</td>\n",
       "      <td>6.66</td>\n",
       "    </tr>\n",
       "    <tr>\n",
       "      <th>sufentanil</th>\n",
       "      <td>5.64</td>\n",
       "      <td>5.25</td>\n",
       "    </tr>\n",
       "    <tr>\n",
       "      <th>bu72_deriv3_3C_OH-2</th>\n",
       "      <td>7.89</td>\n",
       "      <td>7.98</td>\n",
       "    </tr>\n",
       "    <tr>\n",
       "      <th>bup_deriv1_revised</th>\n",
       "      <td>8.69</td>\n",
       "      <td>7.39</td>\n",
       "    </tr>\n",
       "    <tr>\n",
       "      <th>buprenorphine_deriv1</th>\n",
       "      <td>3.84</td>\n",
       "      <td>4.36</td>\n",
       "    </tr>\n",
       "    <tr>\n",
       "      <th>fentanyl</th>\n",
       "      <td>6.81</td>\n",
       "      <td>5.3</td>\n",
       "    </tr>\n",
       "    <tr>\n",
       "      <th>naloxone_cation</th>\n",
       "      <td>7.52</td>\n",
       "      <td>7.14</td>\n",
       "    </tr>\n",
       "    <tr>\n",
       "      <th>buprenorphine_deriv4</th>\n",
       "      <td>3.11</td>\n",
       "      <td>5.01</td>\n",
       "    </tr>\n",
       "    <tr>\n",
       "      <th>bup_deriv2_revised</th>\n",
       "      <td>8.69</td>\n",
       "      <td>7.39</td>\n",
       "    </tr>\n",
       "    <tr>\n",
       "      <th>18f_fdpn</th>\n",
       "      <td>7.76</td>\n",
       "      <td>6.43</td>\n",
       "    </tr>\n",
       "    <tr>\n",
       "      <th>etorphine</th>\n",
       "      <td>6.21</td>\n",
       "      <td>6.49</td>\n",
       "    </tr>\n",
       "    <tr>\n",
       "      <th>bu72_deriv3_3C_OH-3</th>\n",
       "      <td>NaN</td>\n",
       "      <td>8.37</td>\n",
       "    </tr>\n",
       "    <tr>\n",
       "      <th>ibntxa_cation</th>\n",
       "      <td>8.69</td>\n",
       "      <td>7.29</td>\n",
       "    </tr>\n",
       "    <tr>\n",
       "      <th>buprenorphine_deriv3</th>\n",
       "      <td>5.95</td>\n",
       "      <td>4.66</td>\n",
       "    </tr>\n",
       "    <tr>\n",
       "      <th>bu72_deriv4_3C_1F-2</th>\n",
       "      <td>7.23</td>\n",
       "      <td>7.46</td>\n",
       "    </tr>\n",
       "    <tr>\n",
       "      <th>oxymorphone_cation</th>\n",
       "      <td>7.01</td>\n",
       "      <td>7.08</td>\n",
       "    </tr>\n",
       "    <tr>\n",
       "      <th>bu72_deriv1_3C_1F</th>\n",
       "      <td>7.8</td>\n",
       "      <td>7.63</td>\n",
       "    </tr>\n",
       "    <tr>\n",
       "      <th>ohmefentanyl</th>\n",
       "      <td>6.1</td>\n",
       "      <td>5.74</td>\n",
       "    </tr>\n",
       "    <tr>\n",
       "      <th>bup_deriv3_revised</th>\n",
       "      <td>7.76</td>\n",
       "      <td>6.59</td>\n",
       "    </tr>\n",
       "  </tbody>\n",
       "</table>\n",
       "</div>"
      ],
      "text/plain": [
       "                                                       0  \\\n",
       "Unnamed: 0            bu72_aligned_4DKL_R_L_conformation   \n",
       "buprenorphine_deriv2                                4.29   \n",
       "bu72_deriv1_3C_OH                                   7.14   \n",
       "bu72_cation                                         6.56   \n",
       "sufentanil                                          5.64   \n",
       "bu72_deriv3_3C_OH-2                                 7.89   \n",
       "bup_deriv1_revised                                  8.69   \n",
       "buprenorphine_deriv1                                3.84   \n",
       "fentanyl                                            6.81   \n",
       "naloxone_cation                                     7.52   \n",
       "buprenorphine_deriv4                                3.11   \n",
       "bup_deriv2_revised                                  8.69   \n",
       "18f_fdpn                                            7.76   \n",
       "etorphine                                           6.21   \n",
       "bu72_deriv3_3C_OH-3                                  NaN   \n",
       "ibntxa_cation                                       8.69   \n",
       "buprenorphine_deriv3                                5.95   \n",
       "bu72_deriv4_3C_1F-2                                 7.23   \n",
       "oxymorphone_cation                                  7.01   \n",
       "bu72_deriv1_3C_1F                                    7.8   \n",
       "ohmefentanyl                                         6.1   \n",
       "bup_deriv3_revised                                  7.76   \n",
       "\n",
       "                                                       1  \n",
       "Unnamed: 0            bu72_ionized_pymol_RL_conformation  \n",
       "buprenorphine_deriv2                                 4.2  \n",
       "bu72_deriv1_3C_OH                                   7.42  \n",
       "bu72_cation                                         6.66  \n",
       "sufentanil                                          5.25  \n",
       "bu72_deriv3_3C_OH-2                                 7.98  \n",
       "bup_deriv1_revised                                  7.39  \n",
       "buprenorphine_deriv1                                4.36  \n",
       "fentanyl                                             5.3  \n",
       "naloxone_cation                                     7.14  \n",
       "buprenorphine_deriv4                                5.01  \n",
       "bup_deriv2_revised                                  7.39  \n",
       "18f_fdpn                                            6.43  \n",
       "etorphine                                           6.49  \n",
       "bu72_deriv3_3C_OH-3                                 8.37  \n",
       "ibntxa_cation                                       7.29  \n",
       "buprenorphine_deriv3                                4.66  \n",
       "bu72_deriv4_3C_1F-2                                 7.46  \n",
       "oxymorphone_cation                                  7.08  \n",
       "bu72_deriv1_3C_1F                                   7.63  \n",
       "ohmefentanyl                                        5.74  \n",
       "bup_deriv3_revised                                  6.59  "
      ]
     },
     "execution_count": 19,
     "metadata": {},
     "output_type": "execute_result"
    }
   ],
   "source": [
    "pd.read_csv(reference_ligand_docking).transpose()"
   ]
  },
  {
   "cell_type": "code",
   "execution_count": 20,
   "metadata": {
    "collapsed": false
   },
   "outputs": [
    {
     "data": {
      "text/html": [
       "<div>\n",
       "<table border=\"1\" class=\"dataframe\">\n",
       "  <thead>\n",
       "    <tr style=\"text-align: right;\">\n",
       "      <th></th>\n",
       "      <th>0</th>\n",
       "      <th>1</th>\n",
       "    </tr>\n",
       "  </thead>\n",
       "  <tbody>\n",
       "    <tr>\n",
       "      <th>Unnamed: 0</th>\n",
       "      <td>bu72_aligned_4DKL_R_L_conformation</td>\n",
       "      <td>bu72_ionized_pymol_RL_conformation</td>\n",
       "    </tr>\n",
       "    <tr>\n",
       "      <th>buprenorphine_deriv2</th>\n",
       "      <td>1</td>\n",
       "      <td>1</td>\n",
       "    </tr>\n",
       "    <tr>\n",
       "      <th>bu72_deriv1_3C_OH</th>\n",
       "      <td>17</td>\n",
       "      <td>19</td>\n",
       "    </tr>\n",
       "    <tr>\n",
       "      <th>bu72_cation</th>\n",
       "      <td>3</td>\n",
       "      <td>2</td>\n",
       "    </tr>\n",
       "    <tr>\n",
       "      <th>sufentanil</th>\n",
       "      <td>1</td>\n",
       "      <td>2</td>\n",
       "    </tr>\n",
       "    <tr>\n",
       "      <th>bu72_deriv3_3C_OH-2</th>\n",
       "      <td>19</td>\n",
       "      <td>1</td>\n",
       "    </tr>\n",
       "    <tr>\n",
       "      <th>bup_deriv1_revised</th>\n",
       "      <td>5</td>\n",
       "      <td>25</td>\n",
       "    </tr>\n",
       "    <tr>\n",
       "      <th>buprenorphine_deriv1</th>\n",
       "      <td>2</td>\n",
       "      <td>1</td>\n",
       "    </tr>\n",
       "    <tr>\n",
       "      <th>fentanyl</th>\n",
       "      <td>1</td>\n",
       "      <td>2</td>\n",
       "    </tr>\n",
       "    <tr>\n",
       "      <th>naloxone_cation</th>\n",
       "      <td>1</td>\n",
       "      <td>1</td>\n",
       "    </tr>\n",
       "    <tr>\n",
       "      <th>buprenorphine_deriv4</th>\n",
       "      <td>1</td>\n",
       "      <td>1</td>\n",
       "    </tr>\n",
       "    <tr>\n",
       "      <th>bup_deriv2_revised</th>\n",
       "      <td>5</td>\n",
       "      <td>25</td>\n",
       "    </tr>\n",
       "    <tr>\n",
       "      <th>18f_fdpn</th>\n",
       "      <td>1</td>\n",
       "      <td>5</td>\n",
       "    </tr>\n",
       "    <tr>\n",
       "      <th>etorphine</th>\n",
       "      <td>1</td>\n",
       "      <td>1</td>\n",
       "    </tr>\n",
       "    <tr>\n",
       "      <th>bu72_deriv3_3C_OH-3</th>\n",
       "      <td>NaN</td>\n",
       "      <td>3</td>\n",
       "    </tr>\n",
       "    <tr>\n",
       "      <th>ibntxa_cation</th>\n",
       "      <td>1</td>\n",
       "      <td>1</td>\n",
       "    </tr>\n",
       "    <tr>\n",
       "      <th>buprenorphine_deriv3</th>\n",
       "      <td>1</td>\n",
       "      <td>1</td>\n",
       "    </tr>\n",
       "    <tr>\n",
       "      <th>bu72_deriv4_3C_1F-2</th>\n",
       "      <td>7</td>\n",
       "      <td>13</td>\n",
       "    </tr>\n",
       "    <tr>\n",
       "      <th>oxymorphone_cation</th>\n",
       "      <td>1</td>\n",
       "      <td>1</td>\n",
       "    </tr>\n",
       "    <tr>\n",
       "      <th>bu72_deriv1_3C_1F</th>\n",
       "      <td>7</td>\n",
       "      <td>3</td>\n",
       "    </tr>\n",
       "    <tr>\n",
       "      <th>ohmefentanyl</th>\n",
       "      <td>1</td>\n",
       "      <td>1</td>\n",
       "    </tr>\n",
       "    <tr>\n",
       "      <th>bup_deriv3_revised</th>\n",
       "      <td>9</td>\n",
       "      <td>7</td>\n",
       "    </tr>\n",
       "  </tbody>\n",
       "</table>\n",
       "</div>"
      ],
      "text/plain": [
       "                                                       0  \\\n",
       "Unnamed: 0            bu72_aligned_4DKL_R_L_conformation   \n",
       "buprenorphine_deriv2                                   1   \n",
       "bu72_deriv1_3C_OH                                     17   \n",
       "bu72_cation                                            3   \n",
       "sufentanil                                             1   \n",
       "bu72_deriv3_3C_OH-2                                   19   \n",
       "bup_deriv1_revised                                     5   \n",
       "buprenorphine_deriv1                                   2   \n",
       "fentanyl                                               1   \n",
       "naloxone_cation                                        1   \n",
       "buprenorphine_deriv4                                   1   \n",
       "bup_deriv2_revised                                     5   \n",
       "18f_fdpn                                               1   \n",
       "etorphine                                              1   \n",
       "bu72_deriv3_3C_OH-3                                  NaN   \n",
       "ibntxa_cation                                          1   \n",
       "buprenorphine_deriv3                                   1   \n",
       "bu72_deriv4_3C_1F-2                                    7   \n",
       "oxymorphone_cation                                     1   \n",
       "bu72_deriv1_3C_1F                                      7   \n",
       "ohmefentanyl                                           1   \n",
       "bup_deriv3_revised                                     9   \n",
       "\n",
       "                                                       1  \n",
       "Unnamed: 0            bu72_ionized_pymol_RL_conformation  \n",
       "buprenorphine_deriv2                                   1  \n",
       "bu72_deriv1_3C_OH                                     19  \n",
       "bu72_cation                                            2  \n",
       "sufentanil                                             2  \n",
       "bu72_deriv3_3C_OH-2                                    1  \n",
       "bup_deriv1_revised                                    25  \n",
       "buprenorphine_deriv1                                   1  \n",
       "fentanyl                                               2  \n",
       "naloxone_cation                                        1  \n",
       "buprenorphine_deriv4                                   1  \n",
       "bup_deriv2_revised                                    25  \n",
       "18f_fdpn                                               5  \n",
       "etorphine                                              1  \n",
       "bu72_deriv3_3C_OH-3                                    3  \n",
       "ibntxa_cation                                          1  \n",
       "buprenorphine_deriv3                                   1  \n",
       "bu72_deriv4_3C_1F-2                                   13  \n",
       "oxymorphone_cation                                     1  \n",
       "bu72_deriv1_3C_1F                                      3  \n",
       "ohmefentanyl                                           1  \n",
       "bup_deriv3_revised                                     7  "
      ]
     },
     "execution_count": 20,
     "metadata": {},
     "output_type": "execute_result"
    }
   ],
   "source": [
    "pd.read_csv(poses_summary).transpose()"
   ]
  },
  {
   "cell_type": "raw",
   "metadata": {
    "collapsed": false
   },
   "source": [
    "import glob\n",
    "glob.glob(\"%s/*\" %all_ligands_dir)"
   ]
  },
  {
   "cell_type": "code",
   "execution_count": null,
   "metadata": {
    "collapsed": false,
    "scrolled": true
   },
   "outputs": [],
   "source": [
    "import custom_featurizer\n",
    "reload (custom_featurizer)\n",
    "from custom_featurizer import *\n",
    "suf_trajectories = [t for t in get_trajectory_files(traj_dir, \".h5\") if \"suf\" in t and \"re\" in t]\n",
    "fix_chain_names(suf_trajectories, dview)\n",
    "#featurize_contacts_custom(traj_dir, features_dir = features_dir, traj_ext = traj_ext, contact_residue_pairs_file = feature_residues_pkl, structures=[inactive_dir, active_dir], contact_residues=contact_residues,\n",
    "#                          residues_map = None, contact_cutoff = cutoff, parallel = False, exacycle = exacycle, traj_top_structure = None, iterative=False,\n",
    "#                          user_specified_atom_residue_pairs = [], load_from_file=False, worker_pool=None, schemes=schemes)"
   ]
  },
  {
   "cell_type": "code",
   "execution_count": null,
   "metadata": {
    "collapsed": false
   },
   "outputs": [],
   "source": [
    "import custom_featurizer\n",
    "reload(custom_featurizer)\n",
    "from custom_featurizer import *\n",
    "user_defined_features_dir = \"%s/user_defined_features\" %traj_dir\n",
    "if not os.path.exists(user_defined_features_dir):\n",
    "    os.makedirs(user_defined_features_dir)\n",
    "compute_user_defined_features_wrapper(traj_dir, traj_ext, inactive_dir, active_dir, None,\n",
    "                                        feature_name_residues_dict, user_defined_features_file, worker_pool=dview, \n",
    "                                        save_dir=user_defined_features_dir, parallel=False)"
   ]
  },
  {
   "cell_type": "code",
   "execution_count": null,
   "metadata": {
    "collapsed": false
   },
   "outputs": [],
   "source": [
    "traj_dir = \"/home/enf/md_simulations/MOR/h8_reimaged/trajectories\""
   ]
  },
  {
   "cell_type": "code",
   "execution_count": null,
   "metadata": {
    "collapsed": false
   },
   "outputs": [],
   "source": [
    "import custom_featurizer\n",
    "reload(custom_featurizer)\n",
    "from custom_featurizer import *\n",
    "featurize_contacts_custom(traj_dir, features_dir = features_dir, traj_ext = traj_ext, contact_residue_pairs_file = feature_residues_pkl, structures=[inactive_dir, active_dir], contact_residues=contact_residues,\n",
    "                          residues_map = None, contact_cutoff = cutoff, parallel = False, exacycle = exacycle, traj_top_structure = None, iterative=False,\n",
    "                          user_specified_atom_residue_pairs = [], load_from_file=False, worker_pool=dview, schemes=schemes)"
   ]
  },
  {
   "cell_type": "code",
   "execution_count": null,
   "metadata": {
    "collapsed": false,
    "scrolled": false
   },
   "outputs": [],
   "source": [
    "fit_normalizer(features_dir)"
   ]
  },
  {
   "cell_type": "code",
   "execution_count": null,
   "metadata": {
    "collapsed": false
   },
   "outputs": [],
   "source": [
    "import pickle\n",
    "with open(feature_residues_pkl, \"rb\") as f:\n",
    "    feature_residues = pickle.load(f)"
   ]
  },
  {
   "cell_type": "code",
   "execution_count": null,
   "metadata": {
    "collapsed": false,
    "scrolled": true
   },
   "outputs": [],
   "source": [
    "feature_residues"
   ]
  },
  {
   "cell_type": "code",
   "execution_count": null,
   "metadata": {
    "collapsed": false,
    "scrolled": true
   },
   "outputs": [],
   "source": [
    "import custom_tica\n",
    "reload(custom_tica)\n",
    "from custom_tica import *\n",
    "fit_and_transform(features_directory = features_dir, model_dir = tica_dir, stride=5, lag_time = lag_time, n_components = n_components, sparse = sparse, wolf = wolf, rho = rho, shrinkage = shrinkage, parallel=True, traj_ext = traj_ext, normalize=True, partial_fit=True)"
   ]
  },
  {
   "cell_type": "code",
   "execution_count": null,
   "metadata": {
    "collapsed": false
   },
   "outputs": [],
   "source": [
    "import custom_featurizer\n",
    "reload(custom_featurizer)\n",
    "from custom_featurizer import *\n",
    "\n",
    "featurize_contacts_custom(ref_receptors_dir, features_dir = ref_features_dir, traj_ext = \".pdb\", contact_residue_pairs_file = feature_residues_pkl, structures=[inactive_dir, active_dir], contact_residues=contact_residues,\n",
    "                          residues_map = None, contact_cutoff = cutoff, parallel = False, exacycle = exacycle, traj_top_structure = None, iterative=False,\n",
    "                          user_specified_atom_residue_pairs = [], load_from_file=False, worker_pool=None, schemes=schemes)"
   ]
  },
  {
   "cell_type": "code",
   "execution_count": null,
   "metadata": {
    "collapsed": false
   },
   "outputs": [],
   "source": [
    "transform(existing_model = projection_operator_dir, features_directory = ref_features_dir, tica_dir = ref_tica_dir, normalizer=verboseload(\"%s/normalizer.h5\" %features_dir))\n"
   ]
  },
  {
   "cell_type": "code",
   "execution_count": 8,
   "metadata": {
    "collapsed": false
   },
   "outputs": [
    {
     "name": "stdout",
     "output_type": "stream",
     "text": [
      "loading \"/home/enf/md_simulations/MOR/h8_reimaged/featuresall_residues_4dkl_5c1m_under_cutoff6A-CA/normalizer.h5\"...\n",
      "loading \"/home/enf/md_simulations/MOR/h8_reimaged/sparse-tICA_t50_n_components10all_residues_4dkl_5c1m_under_cutoff6A-CA_regularization_wolf_autoShrinkage0pt01-with-inactive/phi_psi_chi2_allprot_tica_coords.h5\"...\n",
      "Saving \"/home/enf/md_simulations/MOR/h8_reimaged/sparse-tICA_t50_n_components10all_residues_4dkl_5c1m_under_cutoff6A-CA_regularization_wolf_autoShrinkage0pt01-with-inactive/phi_psi_chi2_allprot_projected.h5\"... (<type 'list'>)\n",
      "loading /home/enf/md_simulations/MOR/h8_reimaged/featuresall_residues_4dkl_5c1m_under_cutoff6A-CA/Rep_Co_BU0-0.dataset\n",
      "loading /home/enf/md_simulations/MOR/h8_reimaged/featuresall_residues_4dkl_5c1m_under_cutoff6A-CA/apo_rep_203.dataset\n",
      "loading /home/enf/md_simulations/MOR/h8_reimaged/featuresall_residues_4dkl_5c1m_under_cutoff6A-CA/apo_reseeded_rep_11.dataset\n",
      "loading /home/enf/md_simulations/MOR/h8_reimaged/featuresall_residues_4dkl_5c1m_under_cutoff6A-CA/Rep_Co_BU0-1.datasetloading /home/enf/md_simulations/MOR/h8_reimaged/featuresall_residues_4dkl_5c1m_under_cutoff6A-CA/apo_rep_204.datasetloading /home/enf/md_simulations/MOR/h8_reimaged/featuresall_residues_4dkl_5c1m_under_cutoff6A-CA/apo_reseeded_rep_110.dataset\n",
      "\n",
      "\n",
      "loading /home/enf/md_simulations/MOR/h8_reimaged/featuresall_residues_4dkl_5c1m_under_cutoff6A-CA/Rep_Co_BU0-2.datasetloading /home/enf/md_simulations/MOR/h8_reimaged/featuresall_residues_4dkl_5c1m_under_cutoff6A-CA/apo_rep_205.datasetloading /home/enf/md_simulations/MOR/h8_reimaged/featuresall_residues_4dkl_5c1m_under_cutoff6A-CA/apo_reseeded_rep_111.dataset\n",
      "\n",
      "\n",
      "loading /home/enf/md_simulations/MOR/h8_reimaged/featuresall_residues_4dkl_5c1m_under_cutoff6A-CA/Rep_Co_BU0-3.datasetloading /home/enf/md_simulations/MOR/h8_reimaged/featuresall_residues_4dkl_5c1m_under_cutoff6A-CA/apo_rep_206.datasetloading /home/enf/md_simulations/MOR/h8_reimaged/featuresall_residues_4dkl_5c1m_under_cutoff6A-CA/apo_reseeded_rep_112.dataset\n",
      "\n",
      "\n",
      "loading /home/enf/md_simulations/MOR/h8_reimaged/featuresall_residues_4dkl_5c1m_under_cutoff6A-CA/Rep_Co_BU0-4.datasetloading /home/enf/md_simulations/MOR/h8_reimaged/featuresall_residues_4dkl_5c1m_under_cutoff6A-CA/apo_rep_207.datasetloading /home/enf/md_simulations/MOR/h8_reimaged/featuresall_residues_4dkl_5c1m_under_cutoff6A-CA/apo_reseeded_rep_113.dataset\n",
      "\n",
      "\n",
      "loading /home/enf/md_simulations/MOR/h8_reimaged/featuresall_residues_4dkl_5c1m_under_cutoff6A-CA/Rep_Co_BU0-5.datasetloading /home/enf/md_simulations/MOR/h8_reimaged/featuresall_residues_4dkl_5c1m_under_cutoff6A-CA/apo_rep_208.datasetloading /home/enf/md_simulations/MOR/h8_reimaged/featuresall_residues_4dkl_5c1m_under_cutoff6A-CA/apo_reseeded_rep_114.dataset\n",
      "\n",
      "\n",
      "loading /home/enf/md_simulations/MOR/h8_reimaged/featuresall_residues_4dkl_5c1m_under_cutoff6A-CA/Rep_Co_BU1-0.datasetloading /home/enf/md_simulations/MOR/h8_reimaged/featuresall_residues_4dkl_5c1m_under_cutoff6A-CA/apo_rep_209.datasetloading /home/enf/md_simulations/MOR/h8_reimaged/featuresall_residues_4dkl_5c1m_under_cutoff6A-CA/apo_reseeded_rep_115.dataset\n",
      "\n",
      "\n",
      "loading /home/enf/md_simulations/MOR/h8_reimaged/featuresall_residues_4dkl_5c1m_under_cutoff6A-CA/Rep_Co_BU1-1.datasetloading /home/enf/md_simulations/MOR/h8_reimaged/featuresall_residues_4dkl_5c1m_under_cutoff6A-CA/apo_rep_21.datasetloading /home/enf/md_simulations/MOR/h8_reimaged/featuresall_residues_4dkl_5c1m_under_cutoff6A-CA/apo_reseeded_rep_116.dataset\n",
      "\n",
      "\n",
      "loading /home/enf/md_simulations/MOR/h8_reimaged/featuresall_residues_4dkl_5c1m_under_cutoff6A-CA/Rep_Co_BU1-2.datasetloading /home/enf/md_simulations/MOR/h8_reimaged/featuresall_residues_4dkl_5c1m_under_cutoff6A-CA/apo_rep_210.datasetloading /home/enf/md_simulations/MOR/h8_reimaged/featuresall_residues_4dkl_5c1m_under_cutoff6A-CA/apo_reseeded_rep_117.dataset\n",
      "\n",
      "\n",
      "loading /home/enf/md_simulations/MOR/h8_reimaged/featuresall_residues_4dkl_5c1m_under_cutoff6A-CA/Rep_Co_BU1-3.datasetloading /home/enf/md_simulations/MOR/h8_reimaged/featuresall_residues_4dkl_5c1m_under_cutoff6A-CA/apo_rep_211.datasetloading /home/enf/md_simulations/MOR/h8_reimaged/featuresall_residues_4dkl_5c1m_under_cutoff6A-CA/apo_reseeded_rep_118.dataset\n",
      "\n",
      "\n",
      "loading /home/enf/md_simulations/MOR/h8_reimaged/featuresall_residues_4dkl_5c1m_under_cutoff6A-CA/Rep_Co_BU1-4.datasetloading /home/enf/md_simulations/MOR/h8_reimaged/featuresall_residues_4dkl_5c1m_under_cutoff6A-CA/apo_rep_212.datasetloading /home/enf/md_simulations/MOR/h8_reimaged/featuresall_residues_4dkl_5c1m_under_cutoff6A-CA/apo_reseeded_rep_119.dataset\n",
      "\n",
      "\n",
      "loading /home/enf/md_simulations/MOR/h8_reimaged/featuresall_residues_4dkl_5c1m_under_cutoff6A-CA/Rep_Co_BU1-5.datasetloading /home/enf/md_simulations/MOR/h8_reimaged/featuresall_residues_4dkl_5c1m_under_cutoff6A-CA/apo_rep_213.datasetloading /home/enf/md_simulations/MOR/h8_reimaged/featuresall_residues_4dkl_5c1m_under_cutoff6A-CA/apo_reseeded_rep_12.dataset\n",
      "\n",
      "\n",
      "loading /home/enf/md_simulations/MOR/h8_reimaged/featuresall_residues_4dkl_5c1m_under_cutoff6A-CA/Rep_Co_BU2-0.datasetloading /home/enf/md_simulations/MOR/h8_reimaged/featuresall_residues_4dkl_5c1m_under_cutoff6A-CA/apo_rep_214.datasetloading /home/enf/md_simulations/MOR/h8_reimaged/featuresall_residues_4dkl_5c1m_under_cutoff6A-CA/apo_reseeded_rep_120.dataset\n",
      "\n",
      "\n",
      "loading /home/enf/md_simulations/MOR/h8_reimaged/featuresall_residues_4dkl_5c1m_under_cutoff6A-CA/Rep_Co_BU2-1.datasetloading /home/enf/md_simulations/MOR/h8_reimaged/featuresall_residues_4dkl_5c1m_under_cutoff6A-CA/apo_rep_215.datasetloading /home/enf/md_simulations/MOR/h8_reimaged/featuresall_residues_4dkl_5c1m_under_cutoff6A-CA/apo_reseeded_rep_121.dataset\n",
      "\n",
      "\n",
      "loading /home/enf/md_simulations/MOR/h8_reimaged/featuresall_residues_4dkl_5c1m_under_cutoff6A-CA/Rep_Co_BU2-2.datasetloading /home/enf/md_simulations/MOR/h8_reimaged/featuresall_residues_4dkl_5c1m_under_cutoff6A-CA/apo_rep_216.datasetloading /home/enf/md_simulations/MOR/h8_reimaged/featuresall_residues_4dkl_5c1m_under_cutoff6A-CA/apo_reseeded_rep_122.dataset\n",
      "\n",
      "\n",
      "loading /home/enf/md_simulations/MOR/h8_reimaged/featuresall_residues_4dkl_5c1m_under_cutoff6A-CA/Rep_Co_BU2-3.datasetloading /home/enf/md_simulations/MOR/h8_reimaged/featuresall_residues_4dkl_5c1m_under_cutoff6A-CA/apo_rep_217.datasetloading /home/enf/md_simulations/MOR/h8_reimaged/featuresall_residues_4dkl_5c1m_under_cutoff6A-CA/apo_reseeded_rep_123.dataset\n",
      "\n",
      "\n",
      "loading /home/enf/md_simulations/MOR/h8_reimaged/featuresall_residues_4dkl_5c1m_under_cutoff6A-CA/Rep_Co_BU2-4.datasetloading /home/enf/md_simulations/MOR/h8_reimaged/featuresall_residues_4dkl_5c1m_under_cutoff6A-CA/apo_rep_218.datasetloading /home/enf/md_simulations/MOR/h8_reimaged/featuresall_residues_4dkl_5c1m_under_cutoff6A-CA/apo_reseeded_rep_124.dataset\n",
      "\n",
      "\n",
      "loading /home/enf/md_simulations/MOR/h8_reimaged/featuresall_residues_4dkl_5c1m_under_cutoff6A-CA/Rep_Co_BU2-5.datasetloading /home/enf/md_simulations/MOR/h8_reimaged/featuresall_residues_4dkl_5c1m_under_cutoff6A-CA/apo_rep_219.datasetloading /home/enf/md_simulations/MOR/h8_reimaged/featuresall_residues_4dkl_5c1m_under_cutoff6A-CA/apo_reseeded_rep_125.dataset\n",
      "\n",
      "\n",
      "loading /home/enf/md_simulations/MOR/h8_reimaged/featuresall_residues_4dkl_5c1m_under_cutoff6A-CA/Rep_Co_BU3-0.datasetloading /home/enf/md_simulations/MOR/h8_reimaged/featuresall_residues_4dkl_5c1m_under_cutoff6A-CA/apo_rep_22.datasetloading /home/enf/md_simulations/MOR/h8_reimaged/featuresall_residues_4dkl_5c1m_under_cutoff6A-CA/apo_reseeded_rep_126.dataset\n",
      "\n",
      "\n",
      "loading /home/enf/md_simulations/MOR/h8_reimaged/featuresall_residues_4dkl_5c1m_under_cutoff6A-CA/Rep_Co_BU3-1.datasetloading /home/enf/md_simulations/MOR/h8_reimaged/featuresall_residues_4dkl_5c1m_under_cutoff6A-CA/apo_rep_220.datasetloading /home/enf/md_simulations/MOR/h8_reimaged/featuresall_residues_4dkl_5c1m_under_cutoff6A-CA/apo_reseeded_rep_127.dataset\n",
      "\n",
      "\n",
      "loading /home/enf/md_simulations/MOR/h8_reimaged/featuresall_residues_4dkl_5c1m_under_cutoff6A-CA/Rep_Co_BU3-2.datasetloading /home/enf/md_simulations/MOR/h8_reimaged/featuresall_residues_4dkl_5c1m_under_cutoff6A-CA/apo_rep_221.datasetloading /home/enf/md_simulations/MOR/h8_reimaged/featuresall_residues_4dkl_5c1m_under_cutoff6A-CA/apo_reseeded_rep_128.dataset\n",
      "\n",
      "\n",
      "loading /home/enf/md_simulations/MOR/h8_reimaged/featuresall_residues_4dkl_5c1m_under_cutoff6A-CA/Rep_Co_BU3-3.datasetloading /home/enf/md_simulations/MOR/h8_reimaged/featuresall_residues_4dkl_5c1m_under_cutoff6A-CA/apo_rep_222.datasetloading /home/enf/md_simulations/MOR/h8_reimaged/featuresall_residues_4dkl_5c1m_under_cutoff6A-CA/apo_reseeded_rep_129.dataset\n",
      "\n",
      "\n",
      "loading /home/enf/md_simulations/MOR/h8_reimaged/featuresall_residues_4dkl_5c1m_under_cutoff6A-CA/Rep_Co_BU3-4.datasetloading /home/enf/md_simulations/MOR/h8_reimaged/featuresall_residues_4dkl_5c1m_under_cutoff6A-CA/apo_rep_223.datasetloading /home/enf/md_simulations/MOR/h8_reimaged/featuresall_residues_4dkl_5c1m_under_cutoff6A-CA/apo_reseeded_rep_13.dataset\n",
      "\n",
      "\n",
      "loading /home/enf/md_simulations/MOR/h8_reimaged/featuresall_residues_4dkl_5c1m_under_cutoff6A-CA/Rep_Co_BU3-5.datasetloading /home/enf/md_simulations/MOR/h8_reimaged/featuresall_residues_4dkl_5c1m_under_cutoff6A-CA/apo_rep_224.datasetloading /home/enf/md_simulations/MOR/h8_reimaged/featuresall_residues_4dkl_5c1m_under_cutoff6A-CA/apo_reseeded_rep_130.dataset\n",
      "\n",
      "\n",
      "loading /home/enf/md_simulations/MOR/h8_reimaged/featuresall_residues_4dkl_5c1m_under_cutoff6A-CA/Rep_Co_BU4-0.datasetloading /home/enf/md_simulations/MOR/h8_reimaged/featuresall_residues_4dkl_5c1m_under_cutoff6A-CA/apo_rep_225.datasetloading /home/enf/md_simulations/MOR/h8_reimaged/featuresall_residues_4dkl_5c1m_under_cutoff6A-CA/apo_reseeded_rep_131.dataset\n",
      "\n",
      "\n",
      "loading /home/enf/md_simulations/MOR/h8_reimaged/featuresall_residues_4dkl_5c1m_under_cutoff6A-CA/Rep_Co_BU4-1.datasetloading /home/enf/md_simulations/MOR/h8_reimaged/featuresall_residues_4dkl_5c1m_under_cutoff6A-CA/apo_rep_226.datasetloading /home/enf/md_simulations/MOR/h8_reimaged/featuresall_residues_4dkl_5c1m_under_cutoff6A-CA/apo_reseeded_rep_132.dataset\n",
      "\n",
      "\n",
      "loading /home/enf/md_simulations/MOR/h8_reimaged/featuresall_residues_4dkl_5c1m_under_cutoff6A-CA/Rep_Co_BU4-2.datasetloading /home/enf/md_simulations/MOR/h8_reimaged/featuresall_residues_4dkl_5c1m_under_cutoff6A-CA/apo_rep_227.datasetloading /home/enf/md_simulations/MOR/h8_reimaged/featuresall_residues_4dkl_5c1m_under_cutoff6A-CA/apo_reseeded_rep_133.dataset\n",
      "\n",
      "\n",
      "loading /home/enf/md_simulations/MOR/h8_reimaged/featuresall_residues_4dkl_5c1m_under_cutoff6A-CA/Rep_Co_BU4-3.datasetloading /home/enf/md_simulations/MOR/h8_reimaged/featuresall_residues_4dkl_5c1m_under_cutoff6A-CA/apo_rep_228.datasetloading /home/enf/md_simulations/MOR/h8_reimaged/featuresall_residues_4dkl_5c1m_under_cutoff6A-CA/apo_reseeded_rep_134.dataset\n",
      "\n",
      "\n",
      "loading /home/enf/md_simulations/MOR/h8_reimaged/featuresall_residues_4dkl_5c1m_under_cutoff6A-CA/Rep_Co_BU4-4.datasetloading /home/enf/md_simulations/MOR/h8_reimaged/featuresall_residues_4dkl_5c1m_under_cutoff6A-CA/apo_rep_229.datasetloading /home/enf/md_simulations/MOR/h8_reimaged/featuresall_residues_4dkl_5c1m_under_cutoff6A-CA/apo_reseeded_rep_135.dataset\n",
      "\n",
      "\n",
      "loading /home/enf/md_simulations/MOR/h8_reimaged/featuresall_residues_4dkl_5c1m_under_cutoff6A-CA/Rep_Co_BU4-5.datasetloading /home/enf/md_simulations/MOR/h8_reimaged/featuresall_residues_4dkl_5c1m_under_cutoff6A-CA/apo_rep_23.datasetloading /home/enf/md_simulations/MOR/h8_reimaged/featuresall_residues_4dkl_5c1m_under_cutoff6A-CA/apo_reseeded_rep_136.dataset\n",
      "\n",
      "\n",
      "loading /home/enf/md_simulations/MOR/h8_reimaged/featuresall_residues_4dkl_5c1m_under_cutoff6A-CA/Rep_Co_BU5-0.datasetloading /home/enf/md_simulations/MOR/h8_reimaged/featuresall_residues_4dkl_5c1m_under_cutoff6A-CA/apo_rep_230.datasetloading /home/enf/md_simulations/MOR/h8_reimaged/featuresall_residues_4dkl_5c1m_under_cutoff6A-CA/apo_reseeded_rep_137.dataset\n",
      "\n",
      "\n",
      "loading /home/enf/md_simulations/MOR/h8_reimaged/featuresall_residues_4dkl_5c1m_under_cutoff6A-CA/Rep_Co_BU5-1.datasetloading /home/enf/md_simulations/MOR/h8_reimaged/featuresall_residues_4dkl_5c1m_under_cutoff6A-CA/apo_rep_231.datasetloading /home/enf/md_simulations/MOR/h8_reimaged/featuresall_residues_4dkl_5c1m_under_cutoff6A-CA/apo_reseeded_rep_138.dataset\n",
      "\n",
      "\n",
      "loading /home/enf/md_simulations/MOR/h8_reimaged/featuresall_residues_4dkl_5c1m_under_cutoff6A-CA/Rep_Co_BU5-2.datasetloading /home/enf/md_simulations/MOR/h8_reimaged/featuresall_residues_4dkl_5c1m_under_cutoff6A-CA/apo_rep_232.datasetloading /home/enf/md_simulations/MOR/h8_reimaged/featuresall_residues_4dkl_5c1m_under_cutoff6A-CA/apo_reseeded_rep_139.dataset\n",
      "\n",
      "\n",
      "loading /home/enf/md_simulations/MOR/h8_reimaged/featuresall_residues_4dkl_5c1m_under_cutoff6A-CA/Rep_Co_BU5-3.datasetloading /home/enf/md_simulations/MOR/h8_reimaged/featuresall_residues_4dkl_5c1m_under_cutoff6A-CA/apo_rep_233.datasetloading /home/enf/md_simulations/MOR/h8_reimaged/featuresall_residues_4dkl_5c1m_under_cutoff6A-CA/apo_reseeded_rep_14.dataset\n",
      "\n",
      "\n",
      "loading /home/enf/md_simulations/MOR/h8_reimaged/featuresall_residues_4dkl_5c1m_under_cutoff6A-CA/Rep_Co_BU5-4.datasetloading /home/enf/md_simulations/MOR/h8_reimaged/featuresall_residues_4dkl_5c1m_under_cutoff6A-CA/apo_rep_234.datasetloading /home/enf/md_simulations/MOR/h8_reimaged/featuresall_residues_4dkl_5c1m_under_cutoff6A-CA/apo_reseeded_rep_140.dataset\n",
      "\n",
      "\n",
      "loading /home/enf/md_simulations/MOR/h8_reimaged/featuresall_residues_4dkl_5c1m_under_cutoff6A-CA/Rep_Co_BU5-5.datasetloading /home/enf/md_simulations/MOR/h8_reimaged/featuresall_residues_4dkl_5c1m_under_cutoff6A-CA/apo_rep_235.datasetloading /home/enf/md_simulations/MOR/h8_reimaged/featuresall_residues_4dkl_5c1m_under_cutoff6A-CA/apo_reseeded_rep_141.dataset\n",
      "\n",
      "\n",
      "loading /home/enf/md_simulations/MOR/h8_reimaged/featuresall_residues_4dkl_5c1m_under_cutoff6A-CA/apo_rep_1.datasetloading /home/enf/md_simulations/MOR/h8_reimaged/featuresall_residues_4dkl_5c1m_under_cutoff6A-CA/apo_rep_236.datasetloading /home/enf/md_simulations/MOR/h8_reimaged/featuresall_residues_4dkl_5c1m_under_cutoff6A-CA/apo_reseeded_rep_142.dataset\n",
      "\n",
      "\n",
      "loading /home/enf/md_simulations/MOR/h8_reimaged/featuresall_residues_4dkl_5c1m_under_cutoff6A-CA/apo_rep_10.datasetloading /home/enf/md_simulations/MOR/h8_reimaged/featuresall_residues_4dkl_5c1m_under_cutoff6A-CA/apo_rep_237.datasetloading /home/enf/md_simulations/MOR/h8_reimaged/featuresall_residues_4dkl_5c1m_under_cutoff6A-CA/apo_reseeded_rep_143.dataset\n",
      "\n",
      "\n",
      "loading /home/enf/md_simulations/MOR/h8_reimaged/featuresall_residues_4dkl_5c1m_under_cutoff6A-CA/apo_rep_100.datasetloading /home/enf/md_simulations/MOR/h8_reimaged/featuresall_residues_4dkl_5c1m_under_cutoff6A-CA/apo_rep_238.datasetloading /home/enf/md_simulations/MOR/h8_reimaged/featuresall_residues_4dkl_5c1m_under_cutoff6A-CA/apo_reseeded_rep_144.dataset\n",
      "\n",
      "\n",
      "loading /home/enf/md_simulations/MOR/h8_reimaged/featuresall_residues_4dkl_5c1m_under_cutoff6A-CA/apo_rep_101.datasetloading /home/enf/md_simulations/MOR/h8_reimaged/featuresall_residues_4dkl_5c1m_under_cutoff6A-CA/apo_rep_239.datasetloading /home/enf/md_simulations/MOR/h8_reimaged/featuresall_residues_4dkl_5c1m_under_cutoff6A-CA/apo_reseeded_rep_145.dataset\n",
      "\n",
      "\n",
      "loading /home/enf/md_simulations/MOR/h8_reimaged/featuresall_residues_4dkl_5c1m_under_cutoff6A-CA/apo_rep_102.datasetloading /home/enf/md_simulations/MOR/h8_reimaged/featuresall_residues_4dkl_5c1m_under_cutoff6A-CA/apo_rep_24.datasetloading /home/enf/md_simulations/MOR/h8_reimaged/featuresall_residues_4dkl_5c1m_under_cutoff6A-CA/apo_reseeded_rep_146.dataset\n",
      "\n",
      "\n",
      "loading /home/enf/md_simulations/MOR/h8_reimaged/featuresall_residues_4dkl_5c1m_under_cutoff6A-CA/apo_rep_103.datasetloading /home/enf/md_simulations/MOR/h8_reimaged/featuresall_residues_4dkl_5c1m_under_cutoff6A-CA/apo_rep_240.datasetloading /home/enf/md_simulations/MOR/h8_reimaged/featuresall_residues_4dkl_5c1m_under_cutoff6A-CA/apo_reseeded_rep_147.dataset\n",
      "\n",
      "\n",
      "loading /home/enf/md_simulations/MOR/h8_reimaged/featuresall_residues_4dkl_5c1m_under_cutoff6A-CA/apo_rep_104.datasetloading /home/enf/md_simulations/MOR/h8_reimaged/featuresall_residues_4dkl_5c1m_under_cutoff6A-CA/apo_rep_241.datasetloading /home/enf/md_simulations/MOR/h8_reimaged/featuresall_residues_4dkl_5c1m_under_cutoff6A-CA/apo_reseeded_rep_148.dataset\n",
      "\n",
      "\n",
      "loading /home/enf/md_simulations/MOR/h8_reimaged/featuresall_residues_4dkl_5c1m_under_cutoff6A-CA/apo_rep_105.datasetloading /home/enf/md_simulations/MOR/h8_reimaged/featuresall_residues_4dkl_5c1m_under_cutoff6A-CA/apo_rep_242.datasetloading /home/enf/md_simulations/MOR/h8_reimaged/featuresall_residues_4dkl_5c1m_under_cutoff6A-CA/apo_reseeded_rep_149.dataset\n",
      "\n",
      "\n",
      "loading /home/enf/md_simulations/MOR/h8_reimaged/featuresall_residues_4dkl_5c1m_under_cutoff6A-CA/apo_rep_106.datasetloading /home/enf/md_simulations/MOR/h8_reimaged/featuresall_residues_4dkl_5c1m_under_cutoff6A-CA/apo_rep_243.datasetloading /home/enf/md_simulations/MOR/h8_reimaged/featuresall_residues_4dkl_5c1m_under_cutoff6A-CA/apo_reseeded_rep_15.dataset\n",
      "\n",
      "\n",
      "loading /home/enf/md_simulations/MOR/h8_reimaged/featuresall_residues_4dkl_5c1m_under_cutoff6A-CA/apo_rep_107.datasetloading /home/enf/md_simulations/MOR/h8_reimaged/featuresall_residues_4dkl_5c1m_under_cutoff6A-CA/apo_rep_244.datasetloading /home/enf/md_simulations/MOR/h8_reimaged/featuresall_residues_4dkl_5c1m_under_cutoff6A-CA/apo_reseeded_rep_150.dataset\n",
      "\n",
      "\n",
      "loading /home/enf/md_simulations/MOR/h8_reimaged/featuresall_residues_4dkl_5c1m_under_cutoff6A-CA/apo_rep_108.datasetloading /home/enf/md_simulations/MOR/h8_reimaged/featuresall_residues_4dkl_5c1m_under_cutoff6A-CA/apo_rep_245.datasetloading /home/enf/md_simulations/MOR/h8_reimaged/featuresall_residues_4dkl_5c1m_under_cutoff6A-CA/apo_reseeded_rep_151.dataset\n",
      "\n",
      "\n",
      "loading /home/enf/md_simulations/MOR/h8_reimaged/featuresall_residues_4dkl_5c1m_under_cutoff6A-CA/apo_rep_109.datasetloading /home/enf/md_simulations/MOR/h8_reimaged/featuresall_residues_4dkl_5c1m_under_cutoff6A-CA/apo_rep_246.datasetloading /home/enf/md_simulations/MOR/h8_reimaged/featuresall_residues_4dkl_5c1m_under_cutoff6A-CA/apo_reseeded_rep_152.dataset\n",
      "\n",
      "\n",
      "loading /home/enf/md_simulations/MOR/h8_reimaged/featuresall_residues_4dkl_5c1m_under_cutoff6A-CA/apo_rep_11.datasetloading /home/enf/md_simulations/MOR/h8_reimaged/featuresall_residues_4dkl_5c1m_under_cutoff6A-CA/apo_rep_247.datasetloading /home/enf/md_simulations/MOR/h8_reimaged/featuresall_residues_4dkl_5c1m_under_cutoff6A-CA/apo_reseeded_rep_153.dataset\n",
      "\n",
      "\n",
      "loading /home/enf/md_simulations/MOR/h8_reimaged/featuresall_residues_4dkl_5c1m_under_cutoff6A-CA/apo_rep_110.datasetloading /home/enf/md_simulations/MOR/h8_reimaged/featuresall_residues_4dkl_5c1m_under_cutoff6A-CA/apo_rep_248.datasetloading /home/enf/md_simulations/MOR/h8_reimaged/featuresall_residues_4dkl_5c1m_under_cutoff6A-CA/apo_reseeded_rep_154.dataset\n",
      "\n",
      "\n",
      "loading /home/enf/md_simulations/MOR/h8_reimaged/featuresall_residues_4dkl_5c1m_under_cutoff6A-CA/apo_rep_111.datasetloading /home/enf/md_simulations/MOR/h8_reimaged/featuresall_residues_4dkl_5c1m_under_cutoff6A-CA/apo_rep_249.datasetloading /home/enf/md_simulations/MOR/h8_reimaged/featuresall_residues_4dkl_5c1m_under_cutoff6A-CA/apo_reseeded_rep_155.dataset\n",
      "\n",
      "\n",
      "loading /home/enf/md_simulations/MOR/h8_reimaged/featuresall_residues_4dkl_5c1m_under_cutoff6A-CA/apo_rep_112.datasetloading /home/enf/md_simulations/MOR/h8_reimaged/featuresall_residues_4dkl_5c1m_under_cutoff6A-CA/apo_rep_25.datasetloading /home/enf/md_simulations/MOR/h8_reimaged/featuresall_residues_4dkl_5c1m_under_cutoff6A-CA/apo_reseeded_rep_156.dataset\n",
      "\n",
      "\n",
      "loading /home/enf/md_simulations/MOR/h8_reimaged/featuresall_residues_4dkl_5c1m_under_cutoff6A-CA/apo_rep_113.datasetloading /home/enf/md_simulations/MOR/h8_reimaged/featuresall_residues_4dkl_5c1m_under_cutoff6A-CA/apo_rep_250.datasetloading /home/enf/md_simulations/MOR/h8_reimaged/featuresall_residues_4dkl_5c1m_under_cutoff6A-CA/apo_reseeded_rep_157.dataset\n",
      "\n",
      "\n",
      "loading /home/enf/md_simulations/MOR/h8_reimaged/featuresall_residues_4dkl_5c1m_under_cutoff6A-CA/apo_rep_114.datasetloading /home/enf/md_simulations/MOR/h8_reimaged/featuresall_residues_4dkl_5c1m_under_cutoff6A-CA/apo_rep_251.datasetloading /home/enf/md_simulations/MOR/h8_reimaged/featuresall_residues_4dkl_5c1m_under_cutoff6A-CA/apo_reseeded_rep_158.dataset\n",
      "\n",
      "\n",
      "loading /home/enf/md_simulations/MOR/h8_reimaged/featuresall_residues_4dkl_5c1m_under_cutoff6A-CA/apo_rep_115.datasetloading /home/enf/md_simulations/MOR/h8_reimaged/featuresall_residues_4dkl_5c1m_under_cutoff6A-CA/apo_rep_252.datasetloading /home/enf/md_simulations/MOR/h8_reimaged/featuresall_residues_4dkl_5c1m_under_cutoff6A-CA/apo_reseeded_rep_159.dataset\n",
      "\n",
      "\n",
      "loading /home/enf/md_simulations/MOR/h8_reimaged/featuresall_residues_4dkl_5c1m_under_cutoff6A-CA/apo_rep_116.datasetloading /home/enf/md_simulations/MOR/h8_reimaged/featuresall_residues_4dkl_5c1m_under_cutoff6A-CA/apo_rep_253.datasetloading /home/enf/md_simulations/MOR/h8_reimaged/featuresall_residues_4dkl_5c1m_under_cutoff6A-CA/apo_reseeded_rep_16.dataset\n",
      "\n",
      "\n",
      "loading /home/enf/md_simulations/MOR/h8_reimaged/featuresall_residues_4dkl_5c1m_under_cutoff6A-CA/apo_rep_117.datasetloading /home/enf/md_simulations/MOR/h8_reimaged/featuresall_residues_4dkl_5c1m_under_cutoff6A-CA/apo_rep_254.datasetloading /home/enf/md_simulations/MOR/h8_reimaged/featuresall_residues_4dkl_5c1m_under_cutoff6A-CA/apo_reseeded_rep_160.dataset\n",
      "\n",
      "\n",
      "loading /home/enf/md_simulations/MOR/h8_reimaged/featuresall_residues_4dkl_5c1m_under_cutoff6A-CA/apo_rep_118.datasetloading /home/enf/md_simulations/MOR/h8_reimaged/featuresall_residues_4dkl_5c1m_under_cutoff6A-CA/apo_rep_255.datasetloading /home/enf/md_simulations/MOR/h8_reimaged/featuresall_residues_4dkl_5c1m_under_cutoff6A-CA/apo_reseeded_rep_161.dataset\n",
      "\n",
      "\n",
      "loading /home/enf/md_simulations/MOR/h8_reimaged/featuresall_residues_4dkl_5c1m_under_cutoff6A-CA/apo_rep_119.datasetloading /home/enf/md_simulations/MOR/h8_reimaged/featuresall_residues_4dkl_5c1m_under_cutoff6A-CA/apo_rep_256.datasetloading /home/enf/md_simulations/MOR/h8_reimaged/featuresall_residues_4dkl_5c1m_under_cutoff6A-CA/apo_reseeded_rep_162.dataset\n",
      "\n",
      "\n",
      "loading /home/enf/md_simulations/MOR/h8_reimaged/featuresall_residues_4dkl_5c1m_under_cutoff6A-CA/apo_rep_12.datasetloading /home/enf/md_simulations/MOR/h8_reimaged/featuresall_residues_4dkl_5c1m_under_cutoff6A-CA/apo_rep_26.datasetloading /home/enf/md_simulations/MOR/h8_reimaged/featuresall_residues_4dkl_5c1m_under_cutoff6A-CA/apo_reseeded_rep_163.dataset\n",
      "\n",
      "\n",
      "loading /home/enf/md_simulations/MOR/h8_reimaged/featuresall_residues_4dkl_5c1m_under_cutoff6A-CA/apo_rep_120.datasetloading /home/enf/md_simulations/MOR/h8_reimaged/featuresall_residues_4dkl_5c1m_under_cutoff6A-CA/apo_rep_27.datasetloading /home/enf/md_simulations/MOR/h8_reimaged/featuresall_residues_4dkl_5c1m_under_cutoff6A-CA/apo_reseeded_rep_164.dataset\n",
      "\n",
      "\n",
      "loading /home/enf/md_simulations/MOR/h8_reimaged/featuresall_residues_4dkl_5c1m_under_cutoff6A-CA/apo_rep_121.datasetloading /home/enf/md_simulations/MOR/h8_reimaged/featuresall_residues_4dkl_5c1m_under_cutoff6A-CA/apo_rep_28.datasetloading /home/enf/md_simulations/MOR/h8_reimaged/featuresall_residues_4dkl_5c1m_under_cutoff6A-CA/apo_reseeded_rep_165.dataset\n",
      "\n",
      "\n",
      "loading /home/enf/md_simulations/MOR/h8_reimaged/featuresall_residues_4dkl_5c1m_under_cutoff6A-CA/apo_rep_122.datasetloading /home/enf/md_simulations/MOR/h8_reimaged/featuresall_residues_4dkl_5c1m_under_cutoff6A-CA/apo_rep_29.datasetloading /home/enf/md_simulations/MOR/h8_reimaged/featuresall_residues_4dkl_5c1m_under_cutoff6A-CA/apo_reseeded_rep_166.dataset\n",
      "\n",
      "\n",
      "loading /home/enf/md_simulations/MOR/h8_reimaged/featuresall_residues_4dkl_5c1m_under_cutoff6A-CA/apo_rep_123.datasetloading /home/enf/md_simulations/MOR/h8_reimaged/featuresall_residues_4dkl_5c1m_under_cutoff6A-CA/apo_rep_3.datasetloading /home/enf/md_simulations/MOR/h8_reimaged/featuresall_residues_4dkl_5c1m_under_cutoff6A-CA/apo_reseeded_rep_167.dataset\n",
      "\n",
      "\n",
      "loading /home/enf/md_simulations/MOR/h8_reimaged/featuresall_residues_4dkl_5c1m_under_cutoff6A-CA/apo_rep_124.datasetloading /home/enf/md_simulations/MOR/h8_reimaged/featuresall_residues_4dkl_5c1m_under_cutoff6A-CA/apo_rep_30.datasetloading /home/enf/md_simulations/MOR/h8_reimaged/featuresall_residues_4dkl_5c1m_under_cutoff6A-CA/apo_reseeded_rep_168.dataset\n",
      "\n",
      "\n",
      "loading /home/enf/md_simulations/MOR/h8_reimaged/featuresall_residues_4dkl_5c1m_under_cutoff6A-CA/apo_rep_125.datasetloading /home/enf/md_simulations/MOR/h8_reimaged/featuresall_residues_4dkl_5c1m_under_cutoff6A-CA/apo_rep_31.datasetloading /home/enf/md_simulations/MOR/h8_reimaged/featuresall_residues_4dkl_5c1m_under_cutoff6A-CA/apo_reseeded_rep_169.dataset\n",
      "\n",
      "\n",
      "loading /home/enf/md_simulations/MOR/h8_reimaged/featuresall_residues_4dkl_5c1m_under_cutoff6A-CA/apo_rep_126.datasetloading /home/enf/md_simulations/MOR/h8_reimaged/featuresall_residues_4dkl_5c1m_under_cutoff6A-CA/apo_rep_32.datasetloading /home/enf/md_simulations/MOR/h8_reimaged/featuresall_residues_4dkl_5c1m_under_cutoff6A-CA/apo_reseeded_rep_17.dataset\n",
      "\n",
      "\n",
      "loading /home/enf/md_simulations/MOR/h8_reimaged/featuresall_residues_4dkl_5c1m_under_cutoff6A-CA/apo_rep_127.datasetloading /home/enf/md_simulations/MOR/h8_reimaged/featuresall_residues_4dkl_5c1m_under_cutoff6A-CA/apo_rep_33.datasetloading /home/enf/md_simulations/MOR/h8_reimaged/featuresall_residues_4dkl_5c1m_under_cutoff6A-CA/apo_reseeded_rep_170.dataset\n",
      "\n",
      "\n",
      "loading /home/enf/md_simulations/MOR/h8_reimaged/featuresall_residues_4dkl_5c1m_under_cutoff6A-CA/apo_rep_128.datasetloading /home/enf/md_simulations/MOR/h8_reimaged/featuresall_residues_4dkl_5c1m_under_cutoff6A-CA/apo_rep_34.datasetloading /home/enf/md_simulations/MOR/h8_reimaged/featuresall_residues_4dkl_5c1m_under_cutoff6A-CA/apo_reseeded_rep_171.dataset\n",
      "\n",
      "\n",
      "loading /home/enf/md_simulations/MOR/h8_reimaged/featuresall_residues_4dkl_5c1m_under_cutoff6A-CA/apo_rep_129.datasetloading /home/enf/md_simulations/MOR/h8_reimaged/featuresall_residues_4dkl_5c1m_under_cutoff6A-CA/apo_rep_35.datasetloading /home/enf/md_simulations/MOR/h8_reimaged/featuresall_residues_4dkl_5c1m_under_cutoff6A-CA/apo_reseeded_rep_172.dataset\n",
      "\n",
      "\n",
      "loading /home/enf/md_simulations/MOR/h8_reimaged/featuresall_residues_4dkl_5c1m_under_cutoff6A-CA/apo_rep_13.datasetloading /home/enf/md_simulations/MOR/h8_reimaged/featuresall_residues_4dkl_5c1m_under_cutoff6A-CA/apo_rep_36.datasetloading /home/enf/md_simulations/MOR/h8_reimaged/featuresall_residues_4dkl_5c1m_under_cutoff6A-CA/apo_reseeded_rep_173.dataset\n",
      "\n",
      "\n",
      "loading /home/enf/md_simulations/MOR/h8_reimaged/featuresall_residues_4dkl_5c1m_under_cutoff6A-CA/apo_rep_130.datasetloading /home/enf/md_simulations/MOR/h8_reimaged/featuresall_residues_4dkl_5c1m_under_cutoff6A-CA/apo_rep_37.datasetloading /home/enf/md_simulations/MOR/h8_reimaged/featuresall_residues_4dkl_5c1m_under_cutoff6A-CA/apo_reseeded_rep_174.dataset\n",
      "\n",
      "\n",
      "loading /home/enf/md_simulations/MOR/h8_reimaged/featuresall_residues_4dkl_5c1m_under_cutoff6A-CA/apo_rep_131.datasetloading /home/enf/md_simulations/MOR/h8_reimaged/featuresall_residues_4dkl_5c1m_under_cutoff6A-CA/apo_rep_38.datasetloading /home/enf/md_simulations/MOR/h8_reimaged/featuresall_residues_4dkl_5c1m_under_cutoff6A-CA/apo_reseeded_rep_175.dataset\n",
      "\n",
      "\n",
      "loading /home/enf/md_simulations/MOR/h8_reimaged/featuresall_residues_4dkl_5c1m_under_cutoff6A-CA/apo_rep_132.datasetloading /home/enf/md_simulations/MOR/h8_reimaged/featuresall_residues_4dkl_5c1m_under_cutoff6A-CA/apo_rep_39.datasetloading /home/enf/md_simulations/MOR/h8_reimaged/featuresall_residues_4dkl_5c1m_under_cutoff6A-CA/apo_reseeded_rep_176.dataset\n",
      "\n",
      "\n",
      "loading /home/enf/md_simulations/MOR/h8_reimaged/featuresall_residues_4dkl_5c1m_under_cutoff6A-CA/apo_rep_133.datasetloading /home/enf/md_simulations/MOR/h8_reimaged/featuresall_residues_4dkl_5c1m_under_cutoff6A-CA/apo_rep_4.datasetloading /home/enf/md_simulations/MOR/h8_reimaged/featuresall_residues_4dkl_5c1m_under_cutoff6A-CA/apo_reseeded_rep_177.dataset\n",
      "\n",
      "\n",
      "loading /home/enf/md_simulations/MOR/h8_reimaged/featuresall_residues_4dkl_5c1m_under_cutoff6A-CA/apo_rep_134.datasetloading /home/enf/md_simulations/MOR/h8_reimaged/featuresall_residues_4dkl_5c1m_under_cutoff6A-CA/apo_rep_40.datasetloading /home/enf/md_simulations/MOR/h8_reimaged/featuresall_residues_4dkl_5c1m_under_cutoff6A-CA/apo_reseeded_rep_178.dataset\n",
      "\n",
      "\n",
      "loading /home/enf/md_simulations/MOR/h8_reimaged/featuresall_residues_4dkl_5c1m_under_cutoff6A-CA/apo_rep_135.datasetloading /home/enf/md_simulations/MOR/h8_reimaged/featuresall_residues_4dkl_5c1m_under_cutoff6A-CA/apo_rep_41.datasetloading /home/enf/md_simulations/MOR/h8_reimaged/featuresall_residues_4dkl_5c1m_under_cutoff6A-CA/apo_reseeded_rep_179.dataset\n",
      "\n",
      "\n",
      "loading /home/enf/md_simulations/MOR/h8_reimaged/featuresall_residues_4dkl_5c1m_under_cutoff6A-CA/apo_rep_136.datasetloading /home/enf/md_simulations/MOR/h8_reimaged/featuresall_residues_4dkl_5c1m_under_cutoff6A-CA/apo_rep_42.datasetloading /home/enf/md_simulations/MOR/h8_reimaged/featuresall_residues_4dkl_5c1m_under_cutoff6A-CA/apo_reseeded_rep_18.dataset\n",
      "\n",
      "\n",
      "loading /home/enf/md_simulations/MOR/h8_reimaged/featuresall_residues_4dkl_5c1m_under_cutoff6A-CA/apo_rep_137.datasetloading /home/enf/md_simulations/MOR/h8_reimaged/featuresall_residues_4dkl_5c1m_under_cutoff6A-CA/apo_rep_43.datasetloading /home/enf/md_simulations/MOR/h8_reimaged/featuresall_residues_4dkl_5c1m_under_cutoff6A-CA/apo_reseeded_rep_180.dataset\n",
      "\n",
      "\n",
      "loading /home/enf/md_simulations/MOR/h8_reimaged/featuresall_residues_4dkl_5c1m_under_cutoff6A-CA/apo_rep_138.datasetloading /home/enf/md_simulations/MOR/h8_reimaged/featuresall_residues_4dkl_5c1m_under_cutoff6A-CA/apo_rep_44.datasetloading /home/enf/md_simulations/MOR/h8_reimaged/featuresall_residues_4dkl_5c1m_under_cutoff6A-CA/apo_reseeded_rep_181.dataset\n",
      "\n",
      "\n",
      "loading /home/enf/md_simulations/MOR/h8_reimaged/featuresall_residues_4dkl_5c1m_under_cutoff6A-CA/apo_rep_139.datasetloading /home/enf/md_simulations/MOR/h8_reimaged/featuresall_residues_4dkl_5c1m_under_cutoff6A-CA/apo_rep_45.datasetloading /home/enf/md_simulations/MOR/h8_reimaged/featuresall_residues_4dkl_5c1m_under_cutoff6A-CA/apo_reseeded_rep_182.dataset\n",
      "\n",
      "\n",
      "loading /home/enf/md_simulations/MOR/h8_reimaged/featuresall_residues_4dkl_5c1m_under_cutoff6A-CA/apo_rep_14.datasetloading /home/enf/md_simulations/MOR/h8_reimaged/featuresall_residues_4dkl_5c1m_under_cutoff6A-CA/apo_rep_46.datasetloading /home/enf/md_simulations/MOR/h8_reimaged/featuresall_residues_4dkl_5c1m_under_cutoff6A-CA/apo_reseeded_rep_183.dataset\n",
      "\n",
      "\n",
      "loading /home/enf/md_simulations/MOR/h8_reimaged/featuresall_residues_4dkl_5c1m_under_cutoff6A-CA/apo_rep_140.datasetloading /home/enf/md_simulations/MOR/h8_reimaged/featuresall_residues_4dkl_5c1m_under_cutoff6A-CA/apo_rep_47.datasetloading /home/enf/md_simulations/MOR/h8_reimaged/featuresall_residues_4dkl_5c1m_under_cutoff6A-CA/apo_reseeded_rep_184.dataset\n",
      "\n",
      "\n",
      "loading /home/enf/md_simulations/MOR/h8_reimaged/featuresall_residues_4dkl_5c1m_under_cutoff6A-CA/apo_rep_141.datasetloading /home/enf/md_simulations/MOR/h8_reimaged/featuresall_residues_4dkl_5c1m_under_cutoff6A-CA/apo_rep_48.datasetloading /home/enf/md_simulations/MOR/h8_reimaged/featuresall_residues_4dkl_5c1m_under_cutoff6A-CA/apo_reseeded_rep_185.dataset\n",
      "\n",
      "\n",
      "loading /home/enf/md_simulations/MOR/h8_reimaged/featuresall_residues_4dkl_5c1m_under_cutoff6A-CA/apo_rep_142.datasetloading /home/enf/md_simulations/MOR/h8_reimaged/featuresall_residues_4dkl_5c1m_under_cutoff6A-CA/apo_rep_49.datasetloading /home/enf/md_simulations/MOR/h8_reimaged/featuresall_residues_4dkl_5c1m_under_cutoff6A-CA/apo_reseeded_rep_186.dataset\n",
      "\n",
      "\n",
      "loading /home/enf/md_simulations/MOR/h8_reimaged/featuresall_residues_4dkl_5c1m_under_cutoff6A-CA/apo_rep_143.datasetloading /home/enf/md_simulations/MOR/h8_reimaged/featuresall_residues_4dkl_5c1m_under_cutoff6A-CA/apo_rep_5.datasetloading /home/enf/md_simulations/MOR/h8_reimaged/featuresall_residues_4dkl_5c1m_under_cutoff6A-CA/apo_reseeded_rep_187.dataset\n",
      "\n"
     ]
    }
   ],
   "source": [
    "import custom_tica\n",
    "reload(custom_tica)\n",
    "from custom_tica import *\n",
    "transform_to_h5(projection_operator_dir, features_dir, projected_features_dir, worker_pool=None, parallel=True, normalizer=verboseload(\"%s/normalizer.h5\" %features_dir))"
   ]
  },
  {
   "cell_type": "code",
   "execution_count": 9,
   "metadata": {
    "collapsed": false
   },
   "outputs": [
    {
     "name": "stdout",
     "output_type": "stream",
     "text": [
      "loading \"/home/enf/md_simulations/MOR/h8_reimaged/sparse-tICA_t50_n_components10all_residues_4dkl_5c1m_under_cutoff6A-CA_regularization_wolf_autoShrinkage0pt01-with-inactive/phi_psi_chi2_allprot_tica_coords.h5\"...\n",
      "\n",
      "loading /home/enf/md_simulations/MOR/h8_reimaged/featuresall_residues_4dkl_5c1m_under_cutoff6A-CA/apo_rep_144.datasetloading /home/enf/md_simulations/MOR/h8_reimaged/featuresall_residues_4dkl_5c1m_under_cutoff6A-CA/apo_rep_50.datasetloading /home/enf/md_simulations/MOR/h8_reimaged/featuresall_residues_4dkl_5c1m_under_cutoff6A-CA/apo_reseeded_rep_188.dataset\n",
      "\n",
      "\n",
      "loading /home/enf/md_simulations/MOR/h8_reimaged/featuresall_residues_4dkl_5c1m_under_cutoff6A-CA/apo_rep_145.datasetloading /home/enf/md_simulations/MOR/h8_reimaged/featuresall_residues_4dkl_5c1m_under_cutoff6A-CA/apo_rep_51.datasetloading /home/enf/md_simulations/MOR/h8_reimaged/featuresall_residues_4dkl_5c1m_under_cutoff6A-CA/apo_reseeded_rep_189.dataset\n",
      "\n",
      "\n",
      "loading /home/enf/md_simulations/MOR/h8_reimaged/featuresall_residues_4dkl_5c1m_under_cutoff6A-CA/apo_rep_146.datasetloading /home/enf/md_simulations/MOR/h8_reimaged/featuresall_residues_4dkl_5c1m_under_cutoff6A-CA/apo_rep_52.datasetloading /home/enf/md_simulations/MOR/h8_reimaged/featuresall_residues_4dkl_5c1m_under_cutoff6A-CA/apo_reseeded_rep_19.dataset\n",
      "\n",
      "\n",
      "loading /home/enf/md_simulations/MOR/h8_reimaged/featuresall_residues_4dkl_5c1m_under_cutoff6A-CA/apo_rep_147.datasetloading /home/enf/md_simulations/MOR/h8_reimaged/featuresall_residues_4dkl_5c1m_under_cutoff6A-CA/apo_rep_53.datasetloading /home/enf/md_simulations/MOR/h8_reimaged/featuresall_residues_4dkl_5c1m_under_cutoff6A-CA/apo_reseeded_rep_190.dataset\n",
      "\n",
      "\n",
      "loading /home/enf/md_simulations/MOR/h8_reimaged/featuresall_residues_4dkl_5c1m_under_cutoff6A-CA/apo_rep_148.datasetloading /home/enf/md_simulations/MOR/h8_reimaged/featuresall_residues_4dkl_5c1m_under_cutoff6A-CA/apo_rep_54.datasetloading /home/enf/md_simulations/MOR/h8_reimaged/featuresall_residues_4dkl_5c1m_under_cutoff6A-CA/apo_reseeded_rep_191.dataset\n",
      "\n",
      "\n",
      "loading /home/enf/md_simulations/MOR/h8_reimaged/featuresall_residues_4dkl_5c1m_under_cutoff6A-CA/apo_rep_149.datasetloading /home/enf/md_simulations/MOR/h8_reimaged/featuresall_residues_4dkl_5c1m_under_cutoff6A-CA/apo_rep_55.datasetloading /home/enf/md_simulations/MOR/h8_reimaged/featuresall_residues_4dkl_5c1m_under_cutoff6A-CA/apo_reseeded_rep_192.dataset\n",
      "\n",
      "\n",
      "loading /home/enf/md_simulations/MOR/h8_reimaged/featuresall_residues_4dkl_5c1m_under_cutoff6A-CA/apo_rep_15.datasetloading /home/enf/md_simulations/MOR/h8_reimaged/featuresall_residues_4dkl_5c1m_under_cutoff6A-CA/apo_rep_56.datasetloading /home/enf/md_simulations/MOR/h8_reimaged/featuresall_residues_4dkl_5c1m_under_cutoff6A-CA/apo_reseeded_rep_193.dataset\n",
      "\n",
      "\n",
      "loading /home/enf/md_simulations/MOR/h8_reimaged/featuresall_residues_4dkl_5c1m_under_cutoff6A-CA/apo_rep_150.datasetloading /home/enf/md_simulations/MOR/h8_reimaged/featuresall_residues_4dkl_5c1m_under_cutoff6A-CA/apo_rep_57.datasetloading /home/enf/md_simulations/MOR/h8_reimaged/featuresall_residues_4dkl_5c1m_under_cutoff6A-CA/apo_reseeded_rep_194.dataset\n",
      "\n",
      "\n",
      "loading /home/enf/md_simulations/MOR/h8_reimaged/featuresall_residues_4dkl_5c1m_under_cutoff6A-CA/apo_rep_151.datasetloading /home/enf/md_simulations/MOR/h8_reimaged/featuresall_residues_4dkl_5c1m_under_cutoff6A-CA/apo_rep_58.datasetloading /home/enf/md_simulations/MOR/h8_reimaged/featuresall_residues_4dkl_5c1m_under_cutoff6A-CA/apo_reseeded_rep_195.dataset\n",
      "\n",
      "\n",
      "loading /home/enf/md_simulations/MOR/h8_reimaged/featuresall_residues_4dkl_5c1m_under_cutoff6A-CA/apo_rep_152.datasetloading /home/enf/md_simulations/MOR/h8_reimaged/featuresall_residues_4dkl_5c1m_under_cutoff6A-CA/apo_rep_59.datasetloading /home/enf/md_simulations/MOR/h8_reimaged/featuresall_residues_4dkl_5c1m_under_cutoff6A-CA/apo_reseeded_rep_196.dataset\n",
      "\n",
      "\n",
      "loading /home/enf/md_simulations/MOR/h8_reimaged/featuresall_residues_4dkl_5c1m_under_cutoff6A-CA/apo_rep_153.datasetloading /home/enf/md_simulations/MOR/h8_reimaged/featuresall_residues_4dkl_5c1m_under_cutoff6A-CA/apo_rep_6.datasetloading /home/enf/md_simulations/MOR/h8_reimaged/featuresall_residues_4dkl_5c1m_under_cutoff6A-CA/apo_reseeded_rep_197.dataset\n",
      "\n",
      "\n",
      "loading /home/enf/md_simulations/MOR/h8_reimaged/featuresall_residues_4dkl_5c1m_under_cutoff6A-CA/apo_rep_154.datasetloading /home/enf/md_simulations/MOR/h8_reimaged/featuresall_residues_4dkl_5c1m_under_cutoff6A-CA/apo_rep_60.datasetloading /home/enf/md_simulations/MOR/h8_reimaged/featuresall_residues_4dkl_5c1m_under_cutoff6A-CA/apo_reseeded_rep_198.dataset\n",
      "\n",
      "\n",
      "loading /home/enf/md_simulations/MOR/h8_reimaged/featuresall_residues_4dkl_5c1m_under_cutoff6A-CA/apo_rep_155.datasetloading /home/enf/md_simulations/MOR/h8_reimaged/featuresall_residues_4dkl_5c1m_under_cutoff6A-CA/apo_rep_61.datasetloading /home/enf/md_simulations/MOR/h8_reimaged/featuresall_residues_4dkl_5c1m_under_cutoff6A-CA/apo_reseeded_rep_199.dataset\n",
      "\n",
      "\n",
      "loading /home/enf/md_simulations/MOR/h8_reimaged/featuresall_residues_4dkl_5c1m_under_cutoff6A-CA/apo_rep_156.datasetloading /home/enf/md_simulations/MOR/h8_reimaged/featuresall_residues_4dkl_5c1m_under_cutoff6A-CA/apo_rep_62.datasetloading /home/enf/md_simulations/MOR/h8_reimaged/featuresall_residues_4dkl_5c1m_under_cutoff6A-CA/apo_reseeded_rep_2.dataset\n",
      "\n",
      "\n",
      "loading /home/enf/md_simulations/MOR/h8_reimaged/featuresall_residues_4dkl_5c1m_under_cutoff6A-CA/apo_rep_157.datasetloading /home/enf/md_simulations/MOR/h8_reimaged/featuresall_residues_4dkl_5c1m_under_cutoff6A-CA/apo_rep_63.datasetloading /home/enf/md_simulations/MOR/h8_reimaged/featuresall_residues_4dkl_5c1m_under_cutoff6A-CA/apo_reseeded_rep_20.dataset\n",
      "\n",
      "\n",
      "loading /home/enf/md_simulations/MOR/h8_reimaged/featuresall_residues_4dkl_5c1m_under_cutoff6A-CA/apo_rep_158.datasetloading /home/enf/md_simulations/MOR/h8_reimaged/featuresall_residues_4dkl_5c1m_under_cutoff6A-CA/apo_rep_64.datasetloading /home/enf/md_simulations/MOR/h8_reimaged/featuresall_residues_4dkl_5c1m_under_cutoff6A-CA/apo_reseeded_rep_200.dataset\n",
      "\n",
      "\n",
      "loading /home/enf/md_simulations/MOR/h8_reimaged/featuresall_residues_4dkl_5c1m_under_cutoff6A-CA/apo_rep_159.datasetloading /home/enf/md_simulations/MOR/h8_reimaged/featuresall_residues_4dkl_5c1m_under_cutoff6A-CA/apo_rep_65.datasetloading /home/enf/md_simulations/MOR/h8_reimaged/featuresall_residues_4dkl_5c1m_under_cutoff6A-CA/apo_reseeded_rep_201.dataset\n",
      "\n",
      "\n",
      "loading /home/enf/md_simulations/MOR/h8_reimaged/featuresall_residues_4dkl_5c1m_under_cutoff6A-CA/apo_rep_16.datasetloading /home/enf/md_simulations/MOR/h8_reimaged/featuresall_residues_4dkl_5c1m_under_cutoff6A-CA/apo_rep_66.datasetloading /home/enf/md_simulations/MOR/h8_reimaged/featuresall_residues_4dkl_5c1m_under_cutoff6A-CA/apo_reseeded_rep_202.dataset\n",
      "\n",
      "\n",
      "loading /home/enf/md_simulations/MOR/h8_reimaged/featuresall_residues_4dkl_5c1m_under_cutoff6A-CA/apo_rep_160.datasetloading /home/enf/md_simulations/MOR/h8_reimaged/featuresall_residues_4dkl_5c1m_under_cutoff6A-CA/apo_rep_67.datasetloading /home/enf/md_simulations/MOR/h8_reimaged/featuresall_residues_4dkl_5c1m_under_cutoff6A-CA/apo_reseeded_rep_203.dataset\n",
      "\n",
      "\n",
      "loading /home/enf/md_simulations/MOR/h8_reimaged/featuresall_residues_4dkl_5c1m_under_cutoff6A-CA/apo_rep_161.datasetloading /home/enf/md_simulations/MOR/h8_reimaged/featuresall_residues_4dkl_5c1m_under_cutoff6A-CA/apo_rep_68.datasetloading /home/enf/md_simulations/MOR/h8_reimaged/featuresall_residues_4dkl_5c1m_under_cutoff6A-CA/apo_reseeded_rep_204.dataset\n",
      "\n",
      "\n",
      "loading /home/enf/md_simulations/MOR/h8_reimaged/featuresall_residues_4dkl_5c1m_under_cutoff6A-CA/apo_rep_162.datasetloading /home/enf/md_simulations/MOR/h8_reimaged/featuresall_residues_4dkl_5c1m_under_cutoff6A-CA/apo_rep_69.datasetloading /home/enf/md_simulations/MOR/h8_reimaged/featuresall_residues_4dkl_5c1m_under_cutoff6A-CA/apo_reseeded_rep_205.dataset\n",
      "\n",
      "\n",
      "loading /home/enf/md_simulations/MOR/h8_reimaged/featuresall_residues_4dkl_5c1m_under_cutoff6A-CA/apo_rep_163.datasetloading /home/enf/md_simulations/MOR/h8_reimaged/featuresall_residues_4dkl_5c1m_under_cutoff6A-CA/apo_rep_7.datasetloading /home/enf/md_simulations/MOR/h8_reimaged/featuresall_residues_4dkl_5c1m_under_cutoff6A-CA/apo_reseeded_rep_206.dataset\n",
      "\n",
      "\n",
      "loading /home/enf/md_simulations/MOR/h8_reimaged/featuresall_residues_4dkl_5c1m_under_cutoff6A-CA/apo_rep_164.datasetloading /home/enf/md_simulations/MOR/h8_reimaged/featuresall_residues_4dkl_5c1m_under_cutoff6A-CA/apo_rep_70.datasetloading /home/enf/md_simulations/MOR/h8_reimaged/featuresall_residues_4dkl_5c1m_under_cutoff6A-CA/apo_reseeded_rep_207.dataset\n",
      "\n",
      "\n",
      "loading /home/enf/md_simulations/MOR/h8_reimaged/featuresall_residues_4dkl_5c1m_under_cutoff6A-CA/apo_rep_165.datasetloading /home/enf/md_simulations/MOR/h8_reimaged/featuresall_residues_4dkl_5c1m_under_cutoff6A-CA/apo_rep_71.datasetloading /home/enf/md_simulations/MOR/h8_reimaged/featuresall_residues_4dkl_5c1m_under_cutoff6A-CA/apo_reseeded_rep_208.dataset\n",
      "\n",
      "\n",
      "loading /home/enf/md_simulations/MOR/h8_reimaged/featuresall_residues_4dkl_5c1m_under_cutoff6A-CA/apo_rep_166.datasetloading /home/enf/md_simulations/MOR/h8_reimaged/featuresall_residues_4dkl_5c1m_under_cutoff6A-CA/apo_rep_72.datasetloading /home/enf/md_simulations/MOR/h8_reimaged/featuresall_residues_4dkl_5c1m_under_cutoff6A-CA/apo_reseeded_rep_209.dataset\n",
      "\n",
      "\n",
      "loading /home/enf/md_simulations/MOR/h8_reimaged/featuresall_residues_4dkl_5c1m_under_cutoff6A-CA/apo_rep_167.datasetloading /home/enf/md_simulations/MOR/h8_reimaged/featuresall_residues_4dkl_5c1m_under_cutoff6A-CA/apo_rep_73.datasetloading /home/enf/md_simulations/MOR/h8_reimaged/featuresall_residues_4dkl_5c1m_under_cutoff6A-CA/apo_reseeded_rep_21.dataset\n",
      "\n",
      "\n",
      "loading /home/enf/md_simulations/MOR/h8_reimaged/featuresall_residues_4dkl_5c1m_under_cutoff6A-CA/apo_rep_168.datasetloading /home/enf/md_simulations/MOR/h8_reimaged/featuresall_residues_4dkl_5c1m_under_cutoff6A-CA/apo_rep_74.datasetloading /home/enf/md_simulations/MOR/h8_reimaged/featuresall_residues_4dkl_5c1m_under_cutoff6A-CA/apo_reseeded_rep_210.dataset\n",
      "\n",
      "\n",
      "loading /home/enf/md_simulations/MOR/h8_reimaged/featuresall_residues_4dkl_5c1m_under_cutoff6A-CA/apo_rep_169.datasetloading /home/enf/md_simulations/MOR/h8_reimaged/featuresall_residues_4dkl_5c1m_under_cutoff6A-CA/apo_rep_75.datasetloading /home/enf/md_simulations/MOR/h8_reimaged/featuresall_residues_4dkl_5c1m_under_cutoff6A-CA/apo_reseeded_rep_211.dataset\n",
      "\n",
      "\n",
      "loading /home/enf/md_simulations/MOR/h8_reimaged/featuresall_residues_4dkl_5c1m_under_cutoff6A-CA/apo_rep_17.datasetloading /home/enf/md_simulations/MOR/h8_reimaged/featuresall_residues_4dkl_5c1m_under_cutoff6A-CA/apo_rep_76.datasetloading /home/enf/md_simulations/MOR/h8_reimaged/featuresall_residues_4dkl_5c1m_under_cutoff6A-CA/apo_reseeded_rep_212.dataset\n",
      "\n",
      "\n",
      "loading /home/enf/md_simulations/MOR/h8_reimaged/featuresall_residues_4dkl_5c1m_under_cutoff6A-CA/apo_rep_170.datasetloading /home/enf/md_simulations/MOR/h8_reimaged/featuresall_residues_4dkl_5c1m_under_cutoff6A-CA/apo_rep_77.datasetloading /home/enf/md_simulations/MOR/h8_reimaged/featuresall_residues_4dkl_5c1m_under_cutoff6A-CA/apo_reseeded_rep_213.dataset\n",
      "\n",
      "\n",
      "loading /home/enf/md_simulations/MOR/h8_reimaged/featuresall_residues_4dkl_5c1m_under_cutoff6A-CA/apo_rep_171.datasetloading /home/enf/md_simulations/MOR/h8_reimaged/featuresall_residues_4dkl_5c1m_under_cutoff6A-CA/apo_rep_78.datasetloading /home/enf/md_simulations/MOR/h8_reimaged/featuresall_residues_4dkl_5c1m_under_cutoff6A-CA/apo_reseeded_rep_214.dataset\n",
      "\n",
      "\n",
      "loading /home/enf/md_simulations/MOR/h8_reimaged/featuresall_residues_4dkl_5c1m_under_cutoff6A-CA/apo_rep_172.datasetloading /home/enf/md_simulations/MOR/h8_reimaged/featuresall_residues_4dkl_5c1m_under_cutoff6A-CA/apo_rep_79.datasetloading /home/enf/md_simulations/MOR/h8_reimaged/featuresall_residues_4dkl_5c1m_under_cutoff6A-CA/apo_reseeded_rep_215.dataset\n",
      "\n",
      "\n",
      "loading /home/enf/md_simulations/MOR/h8_reimaged/featuresall_residues_4dkl_5c1m_under_cutoff6A-CA/apo_rep_173.datasetloading /home/enf/md_simulations/MOR/h8_reimaged/featuresall_residues_4dkl_5c1m_under_cutoff6A-CA/apo_rep_8.datasetloading /home/enf/md_simulations/MOR/h8_reimaged/featuresall_residues_4dkl_5c1m_under_cutoff6A-CA/apo_reseeded_rep_216.dataset\n",
      "\n",
      "\n",
      "loading /home/enf/md_simulations/MOR/h8_reimaged/featuresall_residues_4dkl_5c1m_under_cutoff6A-CA/apo_rep_174.datasetloading /home/enf/md_simulations/MOR/h8_reimaged/featuresall_residues_4dkl_5c1m_under_cutoff6A-CA/apo_rep_80.datasetloading /home/enf/md_simulations/MOR/h8_reimaged/featuresall_residues_4dkl_5c1m_under_cutoff6A-CA/apo_reseeded_rep_217.dataset\n",
      "\n",
      "\n",
      "loading /home/enf/md_simulations/MOR/h8_reimaged/featuresall_residues_4dkl_5c1m_under_cutoff6A-CA/apo_rep_175.datasetloading /home/enf/md_simulations/MOR/h8_reimaged/featuresall_residues_4dkl_5c1m_under_cutoff6A-CA/apo_rep_81.datasetloading /home/enf/md_simulations/MOR/h8_reimaged/featuresall_residues_4dkl_5c1m_under_cutoff6A-CA/apo_reseeded_rep_218.dataset\n",
      "\n",
      "\n",
      "loading /home/enf/md_simulations/MOR/h8_reimaged/featuresall_residues_4dkl_5c1m_under_cutoff6A-CA/apo_rep_176.datasetloading /home/enf/md_simulations/MOR/h8_reimaged/featuresall_residues_4dkl_5c1m_under_cutoff6A-CA/apo_rep_82.datasetloading /home/enf/md_simulations/MOR/h8_reimaged/featuresall_residues_4dkl_5c1m_under_cutoff6A-CA/apo_reseeded_rep_219.dataset\n",
      "\n",
      "\n",
      "loading /home/enf/md_simulations/MOR/h8_reimaged/featuresall_residues_4dkl_5c1m_under_cutoff6A-CA/apo_rep_177.datasetloading /home/enf/md_simulations/MOR/h8_reimaged/featuresall_residues_4dkl_5c1m_under_cutoff6A-CA/apo_rep_83.datasetloading /home/enf/md_simulations/MOR/h8_reimaged/featuresall_residues_4dkl_5c1m_under_cutoff6A-CA/apo_reseeded_rep_22.dataset\n",
      "\n",
      "\n",
      "loading /home/enf/md_simulations/MOR/h8_reimaged/featuresall_residues_4dkl_5c1m_under_cutoff6A-CA/apo_rep_178.datasetloading /home/enf/md_simulations/MOR/h8_reimaged/featuresall_residues_4dkl_5c1m_under_cutoff6A-CA/apo_rep_84.datasetloading /home/enf/md_simulations/MOR/h8_reimaged/featuresall_residues_4dkl_5c1m_under_cutoff6A-CA/apo_reseeded_rep_220.dataset\n",
      "\n",
      "\n",
      "loading /home/enf/md_simulations/MOR/h8_reimaged/featuresall_residues_4dkl_5c1m_under_cutoff6A-CA/apo_rep_179.datasetloading /home/enf/md_simulations/MOR/h8_reimaged/featuresall_residues_4dkl_5c1m_under_cutoff6A-CA/apo_rep_85.datasetloading /home/enf/md_simulations/MOR/h8_reimaged/featuresall_residues_4dkl_5c1m_under_cutoff6A-CA/apo_reseeded_rep_221.dataset\n",
      "\n",
      "\n",
      "loading /home/enf/md_simulations/MOR/h8_reimaged/featuresall_residues_4dkl_5c1m_under_cutoff6A-CA/apo_rep_18.datasetloading /home/enf/md_simulations/MOR/h8_reimaged/featuresall_residues_4dkl_5c1m_under_cutoff6A-CA/apo_rep_86.datasetloading /home/enf/md_simulations/MOR/h8_reimaged/featuresall_residues_4dkl_5c1m_under_cutoff6A-CA/apo_reseeded_rep_222.dataset\n",
      "\n",
      "\n",
      "loading /home/enf/md_simulations/MOR/h8_reimaged/featuresall_residues_4dkl_5c1m_under_cutoff6A-CA/apo_rep_180.datasetloading /home/enf/md_simulations/MOR/h8_reimaged/featuresall_residues_4dkl_5c1m_under_cutoff6A-CA/apo_rep_87.datasetloading /home/enf/md_simulations/MOR/h8_reimaged/featuresall_residues_4dkl_5c1m_under_cutoff6A-CA/apo_reseeded_rep_223.dataset\n",
      "\n",
      "\n",
      "loading /home/enf/md_simulations/MOR/h8_reimaged/featuresall_residues_4dkl_5c1m_under_cutoff6A-CA/apo_rep_181.datasetloading /home/enf/md_simulations/MOR/h8_reimaged/featuresall_residues_4dkl_5c1m_under_cutoff6A-CA/apo_rep_88.datasetloading /home/enf/md_simulations/MOR/h8_reimaged/featuresall_residues_4dkl_5c1m_under_cutoff6A-CA/apo_reseeded_rep_224.dataset\n",
      "\n",
      "\n",
      "loading /home/enf/md_simulations/MOR/h8_reimaged/featuresall_residues_4dkl_5c1m_under_cutoff6A-CA/apo_rep_182.datasetloading /home/enf/md_simulations/MOR/h8_reimaged/featuresall_residues_4dkl_5c1m_under_cutoff6A-CA/apo_rep_89.datasetloading /home/enf/md_simulations/MOR/h8_reimaged/featuresall_residues_4dkl_5c1m_under_cutoff6A-CA/apo_reseeded_rep_225.dataset\n",
      "\n",
      "\n",
      "loading /home/enf/md_simulations/MOR/h8_reimaged/featuresall_residues_4dkl_5c1m_under_cutoff6A-CA/apo_rep_183.datasetloading /home/enf/md_simulations/MOR/h8_reimaged/featuresall_residues_4dkl_5c1m_under_cutoff6A-CA/apo_rep_9.datasetloading /home/enf/md_simulations/MOR/h8_reimaged/featuresall_residues_4dkl_5c1m_under_cutoff6A-CA/apo_reseeded_rep_226.dataset\n",
      "\n",
      "\n",
      "loading /home/enf/md_simulations/MOR/h8_reimaged/featuresall_residues_4dkl_5c1m_under_cutoff6A-CA/apo_rep_184.datasetloading /home/enf/md_simulations/MOR/h8_reimaged/featuresall_residues_4dkl_5c1m_under_cutoff6A-CA/apo_rep_90.datasetloading /home/enf/md_simulations/MOR/h8_reimaged/featuresall_residues_4dkl_5c1m_under_cutoff6A-CA/apo_reseeded_rep_227.dataset\n",
      "\n",
      "\n",
      "loading /home/enf/md_simulations/MOR/h8_reimaged/featuresall_residues_4dkl_5c1m_under_cutoff6A-CA/apo_rep_185.datasetloading /home/enf/md_simulations/MOR/h8_reimaged/featuresall_residues_4dkl_5c1m_under_cutoff6A-CA/apo_rep_91.datasetloading /home/enf/md_simulations/MOR/h8_reimaged/featuresall_residues_4dkl_5c1m_under_cutoff6A-CA/apo_reseeded_rep_228.dataset\n",
      "\n",
      "\n",
      "loading /home/enf/md_simulations/MOR/h8_reimaged/featuresall_residues_4dkl_5c1m_under_cutoff6A-CA/apo_rep_186.datasetloading /home/enf/md_simulations/MOR/h8_reimaged/featuresall_residues_4dkl_5c1m_under_cutoff6A-CA/apo_rep_92.datasetloading /home/enf/md_simulations/MOR/h8_reimaged/featuresall_residues_4dkl_5c1m_under_cutoff6A-CA/apo_reseeded_rep_229.dataset\n",
      "\n",
      "\n",
      "loading /home/enf/md_simulations/MOR/h8_reimaged/featuresall_residues_4dkl_5c1m_under_cutoff6A-CA/apo_rep_187.datasetloading /home/enf/md_simulations/MOR/h8_reimaged/featuresall_residues_4dkl_5c1m_under_cutoff6A-CA/apo_rep_93.datasetloading /home/enf/md_simulations/MOR/h8_reimaged/featuresall_residues_4dkl_5c1m_under_cutoff6A-CA/apo_reseeded_rep_23.dataset\n",
      "\n",
      "\n",
      "loading /home/enf/md_simulations/MOR/h8_reimaged/featuresall_residues_4dkl_5c1m_under_cutoff6A-CA/apo_rep_188.datasetloading /home/enf/md_simulations/MOR/h8_reimaged/featuresall_residues_4dkl_5c1m_under_cutoff6A-CA/apo_rep_94.datasetloading /home/enf/md_simulations/MOR/h8_reimaged/featuresall_residues_4dkl_5c1m_under_cutoff6A-CA/apo_reseeded_rep_230.dataset\n",
      "\n",
      "\n",
      "loading /home/enf/md_simulations/MOR/h8_reimaged/featuresall_residues_4dkl_5c1m_under_cutoff6A-CA/apo_rep_189.datasetloading /home/enf/md_simulations/MOR/h8_reimaged/featuresall_residues_4dkl_5c1m_under_cutoff6A-CA/apo_rep_95.datasetloading /home/enf/md_simulations/MOR/h8_reimaged/featuresall_residues_4dkl_5c1m_under_cutoff6A-CA/apo_reseeded_rep_231.dataset\n",
      "\n",
      "\n",
      "loading /home/enf/md_simulations/MOR/h8_reimaged/featuresall_residues_4dkl_5c1m_under_cutoff6A-CA/apo_rep_19.datasetloading /home/enf/md_simulations/MOR/h8_reimaged/featuresall_residues_4dkl_5c1m_under_cutoff6A-CA/apo_rep_96.datasetloading /home/enf/md_simulations/MOR/h8_reimaged/featuresall_residues_4dkl_5c1m_under_cutoff6A-CA/apo_reseeded_rep_232.dataset\n",
      "\n",
      "\n",
      "loading /home/enf/md_simulations/MOR/h8_reimaged/featuresall_residues_4dkl_5c1m_under_cutoff6A-CA/apo_rep_190.datasetloading /home/enf/md_simulations/MOR/h8_reimaged/featuresall_residues_4dkl_5c1m_under_cutoff6A-CA/apo_rep_97.datasetloading /home/enf/md_simulations/MOR/h8_reimaged/featuresall_residues_4dkl_5c1m_under_cutoff6A-CA/apo_reseeded_rep_233.dataset\n",
      "\n",
      "\n",
      "loading /home/enf/md_simulations/MOR/h8_reimaged/featuresall_residues_4dkl_5c1m_under_cutoff6A-CA/apo_rep_191.datasetloading /home/enf/md_simulations/MOR/h8_reimaged/featuresall_residues_4dkl_5c1m_under_cutoff6A-CA/apo_rep_98.datasetloading /home/enf/md_simulations/MOR/h8_reimaged/featuresall_residues_4dkl_5c1m_under_cutoff6A-CA/apo_reseeded_rep_234.dataset\n",
      "\n",
      "\n",
      "loading /home/enf/md_simulations/MOR/h8_reimaged/featuresall_residues_4dkl_5c1m_under_cutoff6A-CA/apo_rep_192.datasetloading /home/enf/md_simulations/MOR/h8_reimaged/featuresall_residues_4dkl_5c1m_under_cutoff6A-CA/apo_rep_99.datasetloading /home/enf/md_simulations/MOR/h8_reimaged/featuresall_residues_4dkl_5c1m_under_cutoff6A-CA/apo_reseeded_rep_235.dataset\n",
      "\n",
      "\n",
      "loading /home/enf/md_simulations/MOR/h8_reimaged/featuresall_residues_4dkl_5c1m_under_cutoff6A-CA/apo_rep_193.datasetloading /home/enf/md_simulations/MOR/h8_reimaged/featuresall_residues_4dkl_5c1m_under_cutoff6A-CA/apo_reseeded_rep_1.datasetloading /home/enf/md_simulations/MOR/h8_reimaged/featuresall_residues_4dkl_5c1m_under_cutoff6A-CA/apo_reseeded_rep_236.dataset\n",
      "\n",
      "\n",
      "loading /home/enf/md_simulations/MOR/h8_reimaged/featuresall_residues_4dkl_5c1m_under_cutoff6A-CA/apo_rep_194.datasetloading /home/enf/md_simulations/MOR/h8_reimaged/featuresall_residues_4dkl_5c1m_under_cutoff6A-CA/apo_reseeded_rep_10.datasetloading /home/enf/md_simulations/MOR/h8_reimaged/featuresall_residues_4dkl_5c1m_under_cutoff6A-CA/apo_reseeded_rep_237.dataset\n",
      "\n",
      "\n",
      "loading /home/enf/md_simulations/MOR/h8_reimaged/featuresall_residues_4dkl_5c1m_under_cutoff6A-CA/apo_rep_195.datasetloading /home/enf/md_simulations/MOR/h8_reimaged/featuresall_residues_4dkl_5c1m_under_cutoff6A-CA/apo_reseeded_rep_100.datasetloading /home/enf/md_simulations/MOR/h8_reimaged/featuresall_residues_4dkl_5c1m_under_cutoff6A-CA/apo_reseeded_rep_238.dataset\n",
      "\n",
      "\n",
      "loading /home/enf/md_simulations/MOR/h8_reimaged/featuresall_residues_4dkl_5c1m_under_cutoff6A-CA/apo_rep_196.datasetloading /home/enf/md_simulations/MOR/h8_reimaged/featuresall_residues_4dkl_5c1m_under_cutoff6A-CA/apo_reseeded_rep_101.datasetloading /home/enf/md_simulations/MOR/h8_reimaged/featuresall_residues_4dkl_5c1m_under_cutoff6A-CA/apo_reseeded_rep_239.dataset\n",
      "\n",
      "\n",
      "loading /home/enf/md_simulations/MOR/h8_reimaged/featuresall_residues_4dkl_5c1m_under_cutoff6A-CA/apo_rep_197.datasetloading /home/enf/md_simulations/MOR/h8_reimaged/featuresall_residues_4dkl_5c1m_under_cutoff6A-CA/apo_reseeded_rep_102.datasetloading /home/enf/md_simulations/MOR/h8_reimaged/featuresall_residues_4dkl_5c1m_under_cutoff6A-CA/apo_reseeded_rep_24.dataset\n",
      "\n",
      "\n",
      "loading /home/enf/md_simulations/MOR/h8_reimaged/featuresall_residues_4dkl_5c1m_under_cutoff6A-CA/apo_rep_198.datasetloading /home/enf/md_simulations/MOR/h8_reimaged/featuresall_residues_4dkl_5c1m_under_cutoff6A-CA/apo_reseeded_rep_103.datasetloading /home/enf/md_simulations/MOR/h8_reimaged/featuresall_residues_4dkl_5c1m_under_cutoff6A-CA/apo_reseeded_rep_240.dataset\n",
      "\n",
      "\n",
      "loading /home/enf/md_simulations/MOR/h8_reimaged/featuresall_residues_4dkl_5c1m_under_cutoff6A-CA/apo_rep_199.datasetloading /home/enf/md_simulations/MOR/h8_reimaged/featuresall_residues_4dkl_5c1m_under_cutoff6A-CA/apo_reseeded_rep_104.datasetloading /home/enf/md_simulations/MOR/h8_reimaged/featuresall_residues_4dkl_5c1m_under_cutoff6A-CA/apo_reseeded_rep_241.dataset\n",
      "\n",
      "\n",
      "loading /home/enf/md_simulations/MOR/h8_reimaged/featuresall_residues_4dkl_5c1m_under_cutoff6A-CA/apo_rep_2.datasetloading /home/enf/md_simulations/MOR/h8_reimaged/featuresall_residues_4dkl_5c1m_under_cutoff6A-CA/apo_reseeded_rep_105.datasetloading /home/enf/md_simulations/MOR/h8_reimaged/featuresall_residues_4dkl_5c1m_under_cutoff6A-CA/apo_reseeded_rep_242.dataset\n",
      "\n",
      "\n",
      "loading /home/enf/md_simulations/MOR/h8_reimaged/featuresall_residues_4dkl_5c1m_under_cutoff6A-CA/apo_rep_20.datasetloading /home/enf/md_simulations/MOR/h8_reimaged/featuresall_residues_4dkl_5c1m_under_cutoff6A-CA/apo_reseeded_rep_106.datasetloading /home/enf/md_simulations/MOR/h8_reimaged/featuresall_residues_4dkl_5c1m_under_cutoff6A-CA/apo_reseeded_rep_243.dataset\n",
      "\n",
      "\n",
      "loading /home/enf/md_simulations/MOR/h8_reimaged/featuresall_residues_4dkl_5c1m_under_cutoff6A-CA/apo_rep_200.datasetloading /home/enf/md_simulations/MOR/h8_reimaged/featuresall_residues_4dkl_5c1m_under_cutoff6A-CA/apo_reseeded_rep_107.datasetloading /home/enf/md_simulations/MOR/h8_reimaged/featuresall_residues_4dkl_5c1m_under_cutoff6A-CA/apo_reseeded_rep_244.dataset\n",
      "\n",
      "\n",
      "loading /home/enf/md_simulations/MOR/h8_reimaged/featuresall_residues_4dkl_5c1m_under_cutoff6A-CA/apo_rep_201.datasetloading /home/enf/md_simulations/MOR/h8_reimaged/featuresall_residues_4dkl_5c1m_under_cutoff6A-CA/apo_reseeded_rep_108.datasetloading /home/enf/md_simulations/MOR/h8_reimaged/featuresall_residues_4dkl_5c1m_under_cutoff6A-CA/apo_reseeded_rep_245.dataset\n",
      "\n",
      "\n",
      "loading /home/enf/md_simulations/MOR/h8_reimaged/featuresall_residues_4dkl_5c1m_under_cutoff6A-CA/apo_rep_202.datasetloading /home/enf/md_simulations/MOR/h8_reimaged/featuresall_residues_4dkl_5c1m_under_cutoff6A-CA/apo_reseeded_rep_109.datasetloading /home/enf/md_simulations/MOR/h8_reimaged/featuresall_residues_4dkl_5c1m_under_cutoff6A-CA/apo_reseeded_rep_246.dataset\n",
      "\n",
      "\n",
      "loading /home/enf/md_simulations/MOR/h8_reimaged/featuresall_residues_4dkl_5c1m_under_cutoff6A-CA/bu72_rep_153.datasetloading /home/enf/md_simulations/MOR/h8_reimaged/featuresall_residues_4dkl_5c1m_under_cutoff6A-CA/bu72_rep_6.datasetloading /home/enf/md_simulations/MOR/h8_reimaged/featuresall_residues_4dkl_5c1m_under_cutoff6A-CA/apo_reseeded_rep_247.dataset\n",
      "\n",
      "\n",
      "loading /home/enf/md_simulations/MOR/h8_reimaged/featuresall_residues_4dkl_5c1m_under_cutoff6A-CA/bu72_rep_154.datasetloading /home/enf/md_simulations/MOR/h8_reimaged/featuresall_residues_4dkl_5c1m_under_cutoff6A-CA/bu72_rep_60.datasetloading /home/enf/md_simulations/MOR/h8_reimaged/featuresall_residues_4dkl_5c1m_under_cutoff6A-CA/apo_reseeded_rep_248.dataset\n",
      "\n",
      "\n",
      "loading /home/enf/md_simulations/MOR/h8_reimaged/featuresall_residues_4dkl_5c1m_under_cutoff6A-CA/bu72_rep_155.datasetloading /home/enf/md_simulations/MOR/h8_reimaged/featuresall_residues_4dkl_5c1m_under_cutoff6A-CA/bu72_rep_61.datasetloading /home/enf/md_simulations/MOR/h8_reimaged/featuresall_residues_4dkl_5c1m_under_cutoff6A-CA/apo_reseeded_rep_249.dataset\n",
      "\n",
      "\n",
      "loading /home/enf/md_simulations/MOR/h8_reimaged/featuresall_residues_4dkl_5c1m_under_cutoff6A-CA/bu72_rep_156.datasetloading /home/enf/md_simulations/MOR/h8_reimaged/featuresall_residues_4dkl_5c1m_under_cutoff6A-CA/bu72_rep_62.datasetloading /home/enf/md_simulations/MOR/h8_reimaged/featuresall_residues_4dkl_5c1m_under_cutoff6A-CA/apo_reseeded_rep_25.dataset\n",
      "\n",
      "\n",
      "loading /home/enf/md_simulations/MOR/h8_reimaged/featuresall_residues_4dkl_5c1m_under_cutoff6A-CA/bu72_rep_157.datasetloading /home/enf/md_simulations/MOR/h8_reimaged/featuresall_residues_4dkl_5c1m_under_cutoff6A-CA/bu72_rep_63.datasetloading /home/enf/md_simulations/MOR/h8_reimaged/featuresall_residues_4dkl_5c1m_under_cutoff6A-CA/apo_reseeded_rep_250.dataset\n",
      "\n",
      "\n",
      "loading /home/enf/md_simulations/MOR/h8_reimaged/featuresall_residues_4dkl_5c1m_under_cutoff6A-CA/bu72_rep_158.datasetloading /home/enf/md_simulations/MOR/h8_reimaged/featuresall_residues_4dkl_5c1m_under_cutoff6A-CA/bu72_rep_64.datasetloading /home/enf/md_simulations/MOR/h8_reimaged/featuresall_residues_4dkl_5c1m_under_cutoff6A-CA/apo_reseeded_rep_251.dataset\n",
      "\n",
      "\n",
      "loading /home/enf/md_simulations/MOR/h8_reimaged/featuresall_residues_4dkl_5c1m_under_cutoff6A-CA/bu72_rep_159.datasetloading /home/enf/md_simulations/MOR/h8_reimaged/featuresall_residues_4dkl_5c1m_under_cutoff6A-CA/bu72_rep_65.datasetloading /home/enf/md_simulations/MOR/h8_reimaged/featuresall_residues_4dkl_5c1m_under_cutoff6A-CA/apo_reseeded_rep_252.dataset\n",
      "\n",
      "\n",
      "loading /home/enf/md_simulations/MOR/h8_reimaged/featuresall_residues_4dkl_5c1m_under_cutoff6A-CA/bu72_rep_16.datasetloading /home/enf/md_simulations/MOR/h8_reimaged/featuresall_residues_4dkl_5c1m_under_cutoff6A-CA/bu72_rep_66.datasetloading /home/enf/md_simulations/MOR/h8_reimaged/featuresall_residues_4dkl_5c1m_under_cutoff6A-CA/apo_reseeded_rep_253.dataset\n",
      "\n",
      "\n",
      "loading /home/enf/md_simulations/MOR/h8_reimaged/featuresall_residues_4dkl_5c1m_under_cutoff6A-CA/bu72_rep_160.datasetloading /home/enf/md_simulations/MOR/h8_reimaged/featuresall_residues_4dkl_5c1m_under_cutoff6A-CA/bu72_rep_67.datasetloading /home/enf/md_simulations/MOR/h8_reimaged/featuresall_residues_4dkl_5c1m_under_cutoff6A-CA/apo_reseeded_rep_254.dataset\n",
      "\n",
      "\n",
      "loading /home/enf/md_simulations/MOR/h8_reimaged/featuresall_residues_4dkl_5c1m_under_cutoff6A-CA/bu72_rep_161.datasetloading /home/enf/md_simulations/MOR/h8_reimaged/featuresall_residues_4dkl_5c1m_under_cutoff6A-CA/bu72_rep_68.datasetloading /home/enf/md_simulations/MOR/h8_reimaged/featuresall_residues_4dkl_5c1m_under_cutoff6A-CA/apo_reseeded_rep_255.dataset\n",
      "\n",
      "\n",
      "loading /home/enf/md_simulations/MOR/h8_reimaged/featuresall_residues_4dkl_5c1m_under_cutoff6A-CA/bu72_rep_162.datasetloading /home/enf/md_simulations/MOR/h8_reimaged/featuresall_residues_4dkl_5c1m_under_cutoff6A-CA/bu72_rep_69.datasetloading /home/enf/md_simulations/MOR/h8_reimaged/featuresall_residues_4dkl_5c1m_under_cutoff6A-CA/apo_reseeded_rep_256.dataset\n",
      "\n",
      "\n",
      "loading /home/enf/md_simulations/MOR/h8_reimaged/featuresall_residues_4dkl_5c1m_under_cutoff6A-CA/bu72_rep_163.datasetloading /home/enf/md_simulations/MOR/h8_reimaged/featuresall_residues_4dkl_5c1m_under_cutoff6A-CA/bu72_rep_7.datasetloading /home/enf/md_simulations/MOR/h8_reimaged/featuresall_residues_4dkl_5c1m_under_cutoff6A-CA/apo_reseeded_rep_26.dataset\n",
      "\n",
      "\n",
      "loading /home/enf/md_simulations/MOR/h8_reimaged/featuresall_residues_4dkl_5c1m_under_cutoff6A-CA/bu72_rep_164.datasetloading /home/enf/md_simulations/MOR/h8_reimaged/featuresall_residues_4dkl_5c1m_under_cutoff6A-CA/bu72_rep_70.datasetloading /home/enf/md_simulations/MOR/h8_reimaged/featuresall_residues_4dkl_5c1m_under_cutoff6A-CA/apo_reseeded_rep_27.dataset\n",
      "\n",
      "\n",
      "loading /home/enf/md_simulations/MOR/h8_reimaged/featuresall_residues_4dkl_5c1m_under_cutoff6A-CA/bu72_rep_165.datasetloading /home/enf/md_simulations/MOR/h8_reimaged/featuresall_residues_4dkl_5c1m_under_cutoff6A-CA/bu72_rep_71.datasetloading /home/enf/md_simulations/MOR/h8_reimaged/featuresall_residues_4dkl_5c1m_under_cutoff6A-CA/apo_reseeded_rep_28.dataset\n",
      "\n",
      "\n",
      "loading /home/enf/md_simulations/MOR/h8_reimaged/featuresall_residues_4dkl_5c1m_under_cutoff6A-CA/bu72_rep_166.datasetloading /home/enf/md_simulations/MOR/h8_reimaged/featuresall_residues_4dkl_5c1m_under_cutoff6A-CA/bu72_rep_72.datasetloading /home/enf/md_simulations/MOR/h8_reimaged/featuresall_residues_4dkl_5c1m_under_cutoff6A-CA/apo_reseeded_rep_29.dataset\n",
      "\n",
      "\n",
      "loading /home/enf/md_simulations/MOR/h8_reimaged/featuresall_residues_4dkl_5c1m_under_cutoff6A-CA/bu72_rep_167.datasetloading /home/enf/md_simulations/MOR/h8_reimaged/featuresall_residues_4dkl_5c1m_under_cutoff6A-CA/bu72_rep_73.datasetloading /home/enf/md_simulations/MOR/h8_reimaged/featuresall_residues_4dkl_5c1m_under_cutoff6A-CA/apo_reseeded_rep_3.dataset\n",
      "\n",
      "\n",
      "loading /home/enf/md_simulations/MOR/h8_reimaged/featuresall_residues_4dkl_5c1m_under_cutoff6A-CA/bu72_rep_168.datasetloading /home/enf/md_simulations/MOR/h8_reimaged/featuresall_residues_4dkl_5c1m_under_cutoff6A-CA/bu72_rep_74.datasetloading /home/enf/md_simulations/MOR/h8_reimaged/featuresall_residues_4dkl_5c1m_under_cutoff6A-CA/apo_reseeded_rep_30.dataset\n",
      "\n",
      "\n",
      "loading /home/enf/md_simulations/MOR/h8_reimaged/featuresall_residues_4dkl_5c1m_under_cutoff6A-CA/bu72_rep_169.datasetloading /home/enf/md_simulations/MOR/h8_reimaged/featuresall_residues_4dkl_5c1m_under_cutoff6A-CA/bu72_rep_75.datasetloading /home/enf/md_simulations/MOR/h8_reimaged/featuresall_residues_4dkl_5c1m_under_cutoff6A-CA/apo_reseeded_rep_31.dataset\n",
      "\n",
      "\n",
      "loading /home/enf/md_simulations/MOR/h8_reimaged/featuresall_residues_4dkl_5c1m_under_cutoff6A-CA/bu72_rep_17.datasetloading /home/enf/md_simulations/MOR/h8_reimaged/featuresall_residues_4dkl_5c1m_under_cutoff6A-CA/bu72_rep_76.datasetloading /home/enf/md_simulations/MOR/h8_reimaged/featuresall_residues_4dkl_5c1m_under_cutoff6A-CA/apo_reseeded_rep_32.dataset\n",
      "\n",
      "\n",
      "loading /home/enf/md_simulations/MOR/h8_reimaged/featuresall_residues_4dkl_5c1m_under_cutoff6A-CA/bu72_rep_170.dataset"
     ]
    }
   ],
   "source": [
    "tica_object = verboseload(projection_operator_dir)"
   ]
  },
  {
   "cell_type": "code",
   "execution_count": 10,
   "metadata": {
    "collapsed": false
   },
   "outputs": [
    {
     "name": "stdout",
     "output_type": "stream",
     "text": [
      "loading /home/enf/md_simulations/MOR/h8_reimaged/featuresall_residues_4dkl_5c1m_under_cutoff6A-CA/bu72_rep_77.datasetloading /home/enf/md_simulations/MOR/h8_reimaged/featuresall_residues_4dkl_5c1m_under_cutoff6A-CA/apo_reseeded_rep_33.dataset\n",
      "\n",
      "\n",
      "loading /home/enf/md_simulations/MOR/h8_reimaged/featuresall_residues_4dkl_5c1m_under_cutoff6A-CA/bu72_rep_171.datasetloading /home/enf/md_simulations/MOR/h8_reimaged/featuresall_residues_4dkl_5c1m_under_cutoff6A-CA/bu72_rep_78.datasetloading /home/enf/md_simulations/MOR/h8_reimaged/featuresall_residues_4dkl_5c1m_under_cutoff6A-CA/apo_reseeded_rep_34.dataset\n",
      "\n",
      "\n",
      "loading /home/enf/md_simulations/MOR/h8_reimaged/featuresall_residues_4dkl_5c1m_under_cutoff6A-CA/bu72_rep_172.datasetloading /home/enf/md_simulations/MOR/h8_reimaged/featuresall_residues_4dkl_5c1m_under_cutoff6A-CA/bu72_rep_79.datasetloading /home/enf/md_simulations/MOR/h8_reimaged/featuresall_residues_4dkl_5c1m_under_cutoff6A-CA/apo_reseeded_rep_35.dataset\n",
      "\n",
      "\n",
      "loading /home/enf/md_simulations/MOR/h8_reimaged/featuresall_residues_4dkl_5c1m_under_cutoff6A-CA/bu72_rep_173.datasetloading /home/enf/md_simulations/MOR/h8_reimaged/featuresall_residues_4dkl_5c1m_under_cutoff6A-CA/bu72_rep_8.datasetloading /home/enf/md_simulations/MOR/h8_reimaged/featuresall_residues_4dkl_5c1m_under_cutoff6A-CA/apo_reseeded_rep_36.dataset\n",
      "\n",
      "\n",
      "loading /home/enf/md_simulations/MOR/h8_reimaged/featuresall_residues_4dkl_5c1m_under_cutoff6A-CA/bu72_rep_174.datasetloading /home/enf/md_simulations/MOR/h8_reimaged/featuresall_residues_4dkl_5c1m_under_cutoff6A-CA/bu72_rep_80.datasetloading /home/enf/md_simulations/MOR/h8_reimaged/featuresall_residues_4dkl_5c1m_under_cutoff6A-CA/apo_reseeded_rep_37.dataset\n",
      "\n",
      "\n",
      "loading /home/enf/md_simulations/MOR/h8_reimaged/featuresall_residues_4dkl_5c1m_under_cutoff6A-CA/bu72_rep_175.datasetloading /home/enf/md_simulations/MOR/h8_reimaged/featuresall_residues_4dkl_5c1m_under_cutoff6A-CA/bu72_rep_81.datasetloading /home/enf/md_simulations/MOR/h8_reimaged/featuresall_residues_4dkl_5c1m_under_cutoff6A-CA/apo_reseeded_rep_38.dataset\n",
      "\n",
      "\n",
      "loading /home/enf/md_simulations/MOR/h8_reimaged/featuresall_residues_4dkl_5c1m_under_cutoff6A-CA/bu72_rep_176.datasetloading /home/enf/md_simulations/MOR/h8_reimaged/featuresall_residues_4dkl_5c1m_under_cutoff6A-CA/bu72_rep_82.datasetloading /home/enf/md_simulations/MOR/h8_reimaged/featuresall_residues_4dkl_5c1m_under_cutoff6A-CA/apo_reseeded_rep_39.dataset\n",
      "\n",
      "\n",
      "loading /home/enf/md_simulations/MOR/h8_reimaged/featuresall_residues_4dkl_5c1m_under_cutoff6A-CA/bu72_rep_177.datasetloading /home/enf/md_simulations/MOR/h8_reimaged/featuresall_residues_4dkl_5c1m_under_cutoff6A-CA/bu72_rep_83.datasetloading /home/enf/md_simulations/MOR/h8_reimaged/featuresall_residues_4dkl_5c1m_under_cutoff6A-CA/apo_reseeded_rep_4.dataset\n",
      "\n",
      "\n",
      "loading /home/enf/md_simulations/MOR/h8_reimaged/featuresall_residues_4dkl_5c1m_under_cutoff6A-CA/bu72_rep_178.datasetloading /home/enf/md_simulations/MOR/h8_reimaged/featuresall_residues_4dkl_5c1m_under_cutoff6A-CA/bu72_rep_84.datasetloading /home/enf/md_simulations/MOR/h8_reimaged/featuresall_residues_4dkl_5c1m_under_cutoff6A-CA/apo_reseeded_rep_40.dataset\n",
      "\n",
      "\n",
      "loading /home/enf/md_simulations/MOR/h8_reimaged/featuresall_residues_4dkl_5c1m_under_cutoff6A-CA/bu72_rep_179.datasetloading /home/enf/md_simulations/MOR/h8_reimaged/featuresall_residues_4dkl_5c1m_under_cutoff6A-CA/bu72_rep_85.datasetloading /home/enf/md_simulations/MOR/h8_reimaged/featuresall_residues_4dkl_5c1m_under_cutoff6A-CA/apo_reseeded_rep_41.dataset\n",
      "\n",
      "\n",
      "loading /home/enf/md_simulations/MOR/h8_reimaged/featuresall_residues_4dkl_5c1m_under_cutoff6A-CA/bu72_rep_18.datasetloading /home/enf/md_simulations/MOR/h8_reimaged/featuresall_residues_4dkl_5c1m_under_cutoff6A-CA/bu72_rep_86.datasetloading /home/enf/md_simulations/MOR/h8_reimaged/featuresall_residues_4dkl_5c1m_under_cutoff6A-CA/apo_reseeded_rep_42.dataset\n",
      "\n",
      "\n",
      "loading /home/enf/md_simulations/MOR/h8_reimaged/featuresall_residues_4dkl_5c1m_under_cutoff6A-CA/bu72_rep_180.datasetloading /home/enf/md_simulations/MOR/h8_reimaged/featuresall_residues_4dkl_5c1m_under_cutoff6A-CA/bu72_rep_87.datasetloading /home/enf/md_simulations/MOR/h8_reimaged/featuresall_residues_4dkl_5c1m_under_cutoff6A-CA/apo_reseeded_rep_43.dataset\n",
      "\n",
      "\n",
      "loading /home/enf/md_simulations/MOR/h8_reimaged/featuresall_residues_4dkl_5c1m_under_cutoff6A-CA/bu72_rep_181.datasetloading /home/enf/md_simulations/MOR/h8_reimaged/featuresall_residues_4dkl_5c1m_under_cutoff6A-CA/bu72_rep_88.datasetloading /home/enf/md_simulations/MOR/h8_reimaged/featuresall_residues_4dkl_5c1m_under_cutoff6A-CA/apo_reseeded_rep_44.dataset\n",
      "\n",
      "\n",
      "loading /home/enf/md_simulations/MOR/h8_reimaged/featuresall_residues_4dkl_5c1m_under_cutoff6A-CA/bu72_rep_182.datasetloading /home/enf/md_simulations/MOR/h8_reimaged/featuresall_residues_4dkl_5c1m_under_cutoff6A-CA/bu72_rep_89.datasetloading /home/enf/md_simulations/MOR/h8_reimaged/featuresall_residues_4dkl_5c1m_under_cutoff6A-CA/apo_reseeded_rep_45.dataset\n",
      "\n",
      "\n",
      "loading /home/enf/md_simulations/MOR/h8_reimaged/featuresall_residues_4dkl_5c1m_under_cutoff6A-CA/bu72_rep_183.datasetloading /home/enf/md_simulations/MOR/h8_reimaged/featuresall_residues_4dkl_5c1m_under_cutoff6A-CA/bu72_rep_9.datasetloading /home/enf/md_simulations/MOR/h8_reimaged/featuresall_residues_4dkl_5c1m_under_cutoff6A-CA/apo_reseeded_rep_46.dataset\n",
      "\n",
      "\n",
      "loading /home/enf/md_simulations/MOR/h8_reimaged/featuresall_residues_4dkl_5c1m_under_cutoff6A-CA/bu72_rep_184.datasetloading /home/enf/md_simulations/MOR/h8_reimaged/featuresall_residues_4dkl_5c1m_under_cutoff6A-CA/bu72_rep_90.datasetloading /home/enf/md_simulations/MOR/h8_reimaged/featuresall_residues_4dkl_5c1m_under_cutoff6A-CA/apo_reseeded_rep_47.dataset\n",
      "\n",
      "\n",
      "loading /home/enf/md_simulations/MOR/h8_reimaged/featuresall_residues_4dkl_5c1m_under_cutoff6A-CA/bu72_rep_185.datasetloading /home/enf/md_simulations/MOR/h8_reimaged/featuresall_residues_4dkl_5c1m_under_cutoff6A-CA/bu72_rep_91.datasetloading /home/enf/md_simulations/MOR/h8_reimaged/featuresall_residues_4dkl_5c1m_under_cutoff6A-CA/apo_reseeded_rep_48.dataset\n",
      "\n",
      "\n",
      "loading /home/enf/md_simulations/MOR/h8_reimaged/featuresall_residues_4dkl_5c1m_under_cutoff6A-CA/bu72_rep_186.datasetloading /home/enf/md_simulations/MOR/h8_reimaged/featuresall_residues_4dkl_5c1m_under_cutoff6A-CA/bu72_rep_92.datasetloading /home/enf/md_simulations/MOR/h8_reimaged/featuresall_residues_4dkl_5c1m_under_cutoff6A-CA/apo_reseeded_rep_49.dataset\n",
      "\n",
      "\n",
      "loading /home/enf/md_simulations/MOR/h8_reimaged/featuresall_residues_4dkl_5c1m_under_cutoff6A-CA/bu72_rep_187.datasetloading /home/enf/md_simulations/MOR/h8_reimaged/featuresall_residues_4dkl_5c1m_under_cutoff6A-CA/bu72_rep_93.datasetloading /home/enf/md_simulations/MOR/h8_reimaged/featuresall_residues_4dkl_5c1m_under_cutoff6A-CA/apo_reseeded_rep_5.dataset\n",
      "\n",
      "\n",
      "loading /home/enf/md_simulations/MOR/h8_reimaged/featuresall_residues_4dkl_5c1m_under_cutoff6A-CA/bu72_rep_188.datasetloading /home/enf/md_simulations/MOR/h8_reimaged/featuresall_residues_4dkl_5c1m_under_cutoff6A-CA/bu72_rep_94.datasetloading /home/enf/md_simulations/MOR/h8_reimaged/featuresall_residues_4dkl_5c1m_under_cutoff6A-CA/apo_reseeded_rep_50.dataset\n",
      "\n",
      "\n",
      "loading /home/enf/md_simulations/MOR/h8_reimaged/featuresall_residues_4dkl_5c1m_under_cutoff6A-CA/bu72_rep_189.datasetloading /home/enf/md_simulations/MOR/h8_reimaged/featuresall_residues_4dkl_5c1m_under_cutoff6A-CA/bu72_rep_95.datasetloading /home/enf/md_simulations/MOR/h8_reimaged/featuresall_residues_4dkl_5c1m_under_cutoff6A-CA/apo_reseeded_rep_51.dataset\n",
      "\n",
      "\n",
      "loading /home/enf/md_simulations/MOR/h8_reimaged/featuresall_residues_4dkl_5c1m_under_cutoff6A-CA/bu72_rep_19.datasetloading /home/enf/md_simulations/MOR/h8_reimaged/featuresall_residues_4dkl_5c1m_under_cutoff6A-CA/bu72_rep_96.datasetloading /home/enf/md_simulations/MOR/h8_reimaged/featuresall_residues_4dkl_5c1m_under_cutoff6A-CA/apo_reseeded_rep_52.dataset\n",
      "\n",
      "\n",
      "loading /home/enf/md_simulations/MOR/h8_reimaged/featuresall_residues_4dkl_5c1m_under_cutoff6A-CA/bu72_rep_190.datasetloading /home/enf/md_simulations/MOR/h8_reimaged/featuresall_residues_4dkl_5c1m_under_cutoff6A-CA/bu72_rep_97.datasetloading /home/enf/md_simulations/MOR/h8_reimaged/featuresall_residues_4dkl_5c1m_under_cutoff6A-CA/apo_reseeded_rep_53.dataset\n",
      "\n",
      "\n",
      "loading /home/enf/md_simulations/MOR/h8_reimaged/featuresall_residues_4dkl_5c1m_under_cutoff6A-CA/bu72_rep_191.datasetloading /home/enf/md_simulations/MOR/h8_reimaged/featuresall_residues_4dkl_5c1m_under_cutoff6A-CA/bu72_rep_98.datasetloading /home/enf/md_simulations/MOR/h8_reimaged/featuresall_residues_4dkl_5c1m_under_cutoff6A-CA/apo_reseeded_rep_54.dataset\n",
      "\n",
      "\n",
      "loading /home/enf/md_simulations/MOR/h8_reimaged/featuresall_residues_4dkl_5c1m_under_cutoff6A-CA/bu72_rep_192.datasetloading /home/enf/md_simulations/MOR/h8_reimaged/featuresall_residues_4dkl_5c1m_under_cutoff6A-CA/bu72_rep_99.datasetloading /home/enf/md_simulations/MOR/h8_reimaged/featuresall_residues_4dkl_5c1m_under_cutoff6A-CA/apo_reseeded_rep_55.dataset\n",
      "\n",
      "\n",
      "loading /home/enf/md_simulations/MOR/h8_reimaged/featuresall_residues_4dkl_5c1m_under_cutoff6A-CA/bu72_rep_193.datasetloading /home/enf/md_simulations/MOR/h8_reimaged/featuresall_residues_4dkl_5c1m_under_cutoff6A-CA/bu72_reseeded_rep_1.datasetloading /home/enf/md_simulations/MOR/h8_reimaged/featuresall_residues_4dkl_5c1m_under_cutoff6A-CA/apo_reseeded_rep_56.dataset\n",
      "\n",
      "\n",
      "loading /home/enf/md_simulations/MOR/h8_reimaged/featuresall_residues_4dkl_5c1m_under_cutoff6A-CA/bu72_rep_194.datasetloading /home/enf/md_simulations/MOR/h8_reimaged/featuresall_residues_4dkl_5c1m_under_cutoff6A-CA/bu72_reseeded_rep_10.datasetloading /home/enf/md_simulations/MOR/h8_reimaged/featuresall_residues_4dkl_5c1m_under_cutoff6A-CA/apo_reseeded_rep_57.dataset\n",
      "\n",
      "\n",
      "loading /home/enf/md_simulations/MOR/h8_reimaged/featuresall_residues_4dkl_5c1m_under_cutoff6A-CA/bu72_rep_195.datasetloading /home/enf/md_simulations/MOR/h8_reimaged/featuresall_residues_4dkl_5c1m_under_cutoff6A-CA/bu72_reseeded_rep_100.datasetloading /home/enf/md_simulations/MOR/h8_reimaged/featuresall_residues_4dkl_5c1m_under_cutoff6A-CA/apo_reseeded_rep_58.dataset\n",
      "\n",
      "\n",
      "loading /home/enf/md_simulations/MOR/h8_reimaged/featuresall_residues_4dkl_5c1m_under_cutoff6A-CA/bu72_rep_196.datasetloading /home/enf/md_simulations/MOR/h8_reimaged/featuresall_residues_4dkl_5c1m_under_cutoff6A-CA/bu72_reseeded_rep_101.datasetloading /home/enf/md_simulations/MOR/h8_reimaged/featuresall_residues_4dkl_5c1m_under_cutoff6A-CA/apo_reseeded_rep_59.dataset\n",
      "\n",
      "\n",
      "loading /home/enf/md_simulations/MOR/h8_reimaged/featuresall_residues_4dkl_5c1m_under_cutoff6A-CA/bu72_rep_197.datasetloading /home/enf/md_simulations/MOR/h8_reimaged/featuresall_residues_4dkl_5c1m_under_cutoff6A-CA/bu72_reseeded_rep_102.datasetloading /home/enf/md_simulations/MOR/h8_reimaged/featuresall_residues_4dkl_5c1m_under_cutoff6A-CA/apo_reseeded_rep_6.dataset\n",
      "\n",
      "\n",
      "loading /home/enf/md_simulations/MOR/h8_reimaged/featuresall_residues_4dkl_5c1m_under_cutoff6A-CA/bu72_rep_198.datasetloading /home/enf/md_simulations/MOR/h8_reimaged/featuresall_residues_4dkl_5c1m_under_cutoff6A-CA/bu72_reseeded_rep_103.datasetloading /home/enf/md_simulations/MOR/h8_reimaged/featuresall_residues_4dkl_5c1m_under_cutoff6A-CA/apo_reseeded_rep_60.dataset\n",
      "\n",
      "\n",
      "loading /home/enf/md_simulations/MOR/h8_reimaged/featuresall_residues_4dkl_5c1m_under_cutoff6A-CA/bu72_rep_199.datasetloading /home/enf/md_simulations/MOR/h8_reimaged/featuresall_residues_4dkl_5c1m_under_cutoff6A-CA/bu72_reseeded_rep_104.datasetloading /home/enf/md_simulations/MOR/h8_reimaged/featuresall_residues_4dkl_5c1m_under_cutoff6A-CA/apo_reseeded_rep_61.dataset\n",
      "\n",
      "\n",
      "loading /home/enf/md_simulations/MOR/h8_reimaged/featuresall_residues_4dkl_5c1m_under_cutoff6A-CA/bu72_rep_2.datasetloading /home/enf/md_simulations/MOR/h8_reimaged/featuresall_residues_4dkl_5c1m_under_cutoff6A-CA/bu72_reseeded_rep_105.datasetloading /home/enf/md_simulations/MOR/h8_reimaged/featuresall_residues_4dkl_5c1m_under_cutoff6A-CA/apo_reseeded_rep_62.dataset\n",
      "\n",
      "\n",
      "loading /home/enf/md_simulations/MOR/h8_reimaged/featuresall_residues_4dkl_5c1m_under_cutoff6A-CA/bu72_rep_20.datasetloading /home/enf/md_simulations/MOR/h8_reimaged/featuresall_residues_4dkl_5c1m_under_cutoff6A-CA/bu72_reseeded_rep_106.datasetloading /home/enf/md_simulations/MOR/h8_reimaged/featuresall_residues_4dkl_5c1m_under_cutoff6A-CA/apo_reseeded_rep_63.dataset\n",
      "\n",
      "\n",
      "loading /home/enf/md_simulations/MOR/h8_reimaged/featuresall_residues_4dkl_5c1m_under_cutoff6A-CA/bu72_rep_200.datasetloading /home/enf/md_simulations/MOR/h8_reimaged/featuresall_residues_4dkl_5c1m_under_cutoff6A-CA/bu72_reseeded_rep_107.datasetloading /home/enf/md_simulations/MOR/h8_reimaged/featuresall_residues_4dkl_5c1m_under_cutoff6A-CA/apo_reseeded_rep_64.dataset\n",
      "\n",
      "\n",
      "loading /home/enf/md_simulations/MOR/h8_reimaged/featuresall_residues_4dkl_5c1m_under_cutoff6A-CA/bu72_rep_201.datasetloading /home/enf/md_simulations/MOR/h8_reimaged/featuresall_residues_4dkl_5c1m_under_cutoff6A-CA/bu72_reseeded_rep_108.datasetloading /home/enf/md_simulations/MOR/h8_reimaged/featuresall_residues_4dkl_5c1m_under_cutoff6A-CA/apo_reseeded_rep_65.dataset\n",
      "\n",
      "\n",
      "loading /home/enf/md_simulations/MOR/h8_reimaged/featuresall_residues_4dkl_5c1m_under_cutoff6A-CA/bu72_rep_202.datasetloading /home/enf/md_simulations/MOR/h8_reimaged/featuresall_residues_4dkl_5c1m_under_cutoff6A-CA/bu72_reseeded_rep_109.datasetloading /home/enf/md_simulations/MOR/h8_reimaged/featuresall_residues_4dkl_5c1m_under_cutoff6A-CA/apo_reseeded_rep_66.dataset\n",
      "\n",
      "\n",
      "loading /home/enf/md_simulations/MOR/h8_reimaged/featuresall_residues_4dkl_5c1m_under_cutoff6A-CA/bu72_rep_203.datasetloading /home/enf/md_simulations/MOR/h8_reimaged/featuresall_residues_4dkl_5c1m_under_cutoff6A-CA/bu72_reseeded_rep_11.datasetloading /home/enf/md_simulations/MOR/h8_reimaged/featuresall_residues_4dkl_5c1m_under_cutoff6A-CA/apo_reseeded_rep_67.dataset\n",
      "\n",
      "\n",
      "loading /home/enf/md_simulations/MOR/h8_reimaged/featuresall_residues_4dkl_5c1m_under_cutoff6A-CA/bu72_rep_204.datasetloading /home/enf/md_simulations/MOR/h8_reimaged/featuresall_residues_4dkl_5c1m_under_cutoff6A-CA/bu72_reseeded_rep_110.datasetloading /home/enf/md_simulations/MOR/h8_reimaged/featuresall_residues_4dkl_5c1m_under_cutoff6A-CA/apo_reseeded_rep_68.dataset\n",
      "\n",
      "\n",
      "loading /home/enf/md_simulations/MOR/h8_reimaged/featuresall_residues_4dkl_5c1m_under_cutoff6A-CA/bu72_rep_205.datasetloading /home/enf/md_simulations/MOR/h8_reimaged/featuresall_residues_4dkl_5c1m_under_cutoff6A-CA/bu72_reseeded_rep_111.datasetloading /home/enf/md_simulations/MOR/h8_reimaged/featuresall_residues_4dkl_5c1m_under_cutoff6A-CA/apo_reseeded_rep_69.dataset\n",
      "\n",
      "\n",
      "loading /home/enf/md_simulations/MOR/h8_reimaged/featuresall_residues_4dkl_5c1m_under_cutoff6A-CA/bu72_rep_206.datasetloading /home/enf/md_simulations/MOR/h8_reimaged/featuresall_residues_4dkl_5c1m_under_cutoff6A-CA/bu72_reseeded_rep_112.datasetloading /home/enf/md_simulations/MOR/h8_reimaged/featuresall_residues_4dkl_5c1m_under_cutoff6A-CA/apo_reseeded_rep_7.dataset\n",
      "\n",
      "\n",
      "loading /home/enf/md_simulations/MOR/h8_reimaged/featuresall_residues_4dkl_5c1m_under_cutoff6A-CA/bu72_rep_207.datasetloading /home/enf/md_simulations/MOR/h8_reimaged/featuresall_residues_4dkl_5c1m_under_cutoff6A-CA/bu72_reseeded_rep_113.datasetloading /home/enf/md_simulations/MOR/h8_reimaged/featuresall_residues_4dkl_5c1m_under_cutoff6A-CA/apo_reseeded_rep_70.dataset\n",
      "\n",
      "\n",
      "loading /home/enf/md_simulations/MOR/h8_reimaged/featuresall_residues_4dkl_5c1m_under_cutoff6A-CA/bu72_rep_208.datasetloading /home/enf/md_simulations/MOR/h8_reimaged/featuresall_residues_4dkl_5c1m_under_cutoff6A-CA/bu72_reseeded_rep_114.datasetloading /home/enf/md_simulations/MOR/h8_reimaged/featuresall_residues_4dkl_5c1m_under_cutoff6A-CA/apo_reseeded_rep_71.dataset\n",
      "\n",
      "\n",
      "loading /home/enf/md_simulations/MOR/h8_reimaged/featuresall_residues_4dkl_5c1m_under_cutoff6A-CA/bu72_rep_209.datasetloading /home/enf/md_simulations/MOR/h8_reimaged/featuresall_residues_4dkl_5c1m_under_cutoff6A-CA/bu72_reseeded_rep_115.datasetloading /home/enf/md_simulations/MOR/h8_reimaged/featuresall_residues_4dkl_5c1m_under_cutoff6A-CA/apo_reseeded_rep_72.dataset\n",
      "\n",
      "\n",
      "loading /home/enf/md_simulations/MOR/h8_reimaged/featuresall_residues_4dkl_5c1m_under_cutoff6A-CA/bu72_rep_21.datasetloading /home/enf/md_simulations/MOR/h8_reimaged/featuresall_residues_4dkl_5c1m_under_cutoff6A-CA/bu72_reseeded_rep_116.datasetloading /home/enf/md_simulations/MOR/h8_reimaged/featuresall_residues_4dkl_5c1m_under_cutoff6A-CA/apo_reseeded_rep_73.dataset\n",
      "\n",
      "\n",
      "loading /home/enf/md_simulations/MOR/h8_reimaged/featuresall_residues_4dkl_5c1m_under_cutoff6A-CA/bu72_rep_210.datasetloading /home/enf/md_simulations/MOR/h8_reimaged/featuresall_residues_4dkl_5c1m_under_cutoff6A-CA/bu72_reseeded_rep_117.datasetloading /home/enf/md_simulations/MOR/h8_reimaged/featuresall_residues_4dkl_5c1m_under_cutoff6A-CA/apo_reseeded_rep_74.dataset\n",
      "\n",
      "\n",
      "loading /home/enf/md_simulations/MOR/h8_reimaged/featuresall_residues_4dkl_5c1m_under_cutoff6A-CA/bu72_rep_211.datasetloading /home/enf/md_simulations/MOR/h8_reimaged/featuresall_residues_4dkl_5c1m_under_cutoff6A-CA/bu72_reseeded_rep_118.datasetloading /home/enf/md_simulations/MOR/h8_reimaged/featuresall_residues_4dkl_5c1m_under_cutoff6A-CA/apo_reseeded_rep_75.dataset\n",
      "\n",
      "\n",
      "loading /home/enf/md_simulations/MOR/h8_reimaged/featuresall_residues_4dkl_5c1m_under_cutoff6A-CA/bu72_rep_212.datasetloading /home/enf/md_simulations/MOR/h8_reimaged/featuresall_residues_4dkl_5c1m_under_cutoff6A-CA/bu72_reseeded_rep_119.datasetloading /home/enf/md_simulations/MOR/h8_reimaged/featuresall_residues_4dkl_5c1m_under_cutoff6A-CA/apo_reseeded_rep_76.dataset\n",
      "\n",
      "\n",
      "loading /home/enf/md_simulations/MOR/h8_reimaged/featuresall_residues_4dkl_5c1m_under_cutoff6A-CA/bu72_rep_213.datasetloading /home/enf/md_simulations/MOR/h8_reimaged/featuresall_residues_4dkl_5c1m_under_cutoff6A-CA/bu72_reseeded_rep_12.datasetloading /home/enf/md_simulations/MOR/h8_reimaged/featuresall_residues_4dkl_5c1m_under_cutoff6A-CA/apo_reseeded_rep_77.dataset\n",
      "\n",
      "\n",
      "loading /home/enf/md_simulations/MOR/h8_reimaged/featuresall_residues_4dkl_5c1m_under_cutoff6A-CA/bu72_rep_214.datasetloading /home/enf/md_simulations/MOR/h8_reimaged/featuresall_residues_4dkl_5c1m_under_cutoff6A-CA/bu72_reseeded_rep_120.datasetloading /home/enf/md_simulations/MOR/h8_reimaged/featuresall_residues_4dkl_5c1m_under_cutoff6A-CA/apo_reseeded_rep_78.dataset\n",
      "\n",
      "\n",
      "loading /home/enf/md_simulations/MOR/h8_reimaged/featuresall_residues_4dkl_5c1m_under_cutoff6A-CA/bu72_rep_215.datasetloading /home/enf/md_simulations/MOR/h8_reimaged/featuresall_residues_4dkl_5c1m_under_cutoff6A-CA/bu72_reseeded_rep_121.datasetloading /home/enf/md_simulations/MOR/h8_reimaged/featuresall_residues_4dkl_5c1m_under_cutoff6A-CA/apo_reseeded_rep_79.dataset\n",
      "\n",
      "\n",
      "loading /home/enf/md_simulations/MOR/h8_reimaged/featuresall_residues_4dkl_5c1m_under_cutoff6A-CA/bu72_rep_216.datasetloading /home/enf/md_simulations/MOR/h8_reimaged/featuresall_residues_4dkl_5c1m_under_cutoff6A-CA/bu72_reseeded_rep_122.datasetloading /home/enf/md_simulations/MOR/h8_reimaged/featuresall_residues_4dkl_5c1m_under_cutoff6A-CA/apo_reseeded_rep_8.dataset\n",
      "\n",
      "\n",
      "loading /home/enf/md_simulations/MOR/h8_reimaged/featuresall_residues_4dkl_5c1m_under_cutoff6A-CA/bu72_rep_217.datasetloading /home/enf/md_simulations/MOR/h8_reimaged/featuresall_residues_4dkl_5c1m_under_cutoff6A-CA/bu72_reseeded_rep_123.datasetloading /home/enf/md_simulations/MOR/h8_reimaged/featuresall_residues_4dkl_5c1m_under_cutoff6A-CA/apo_reseeded_rep_80.dataset\n",
      "\n",
      "\n",
      "loading /home/enf/md_simulations/MOR/h8_reimaged/featuresall_residues_4dkl_5c1m_under_cutoff6A-CA/bu72_rep_218.datasetloading /home/enf/md_simulations/MOR/h8_reimaged/featuresall_residues_4dkl_5c1m_under_cutoff6A-CA/bu72_reseeded_rep_124.datasetloading /home/enf/md_simulations/MOR/h8_reimaged/featuresall_residues_4dkl_5c1m_under_cutoff6A-CA/apo_reseeded_rep_81.dataset\n",
      "\n",
      "\n",
      "loading /home/enf/md_simulations/MOR/h8_reimaged/featuresall_residues_4dkl_5c1m_under_cutoff6A-CA/bu72_rep_219.datasetloading /home/enf/md_simulations/MOR/h8_reimaged/featuresall_residues_4dkl_5c1m_under_cutoff6A-CA/bu72_reseeded_rep_125.datasetloading /home/enf/md_simulations/MOR/h8_reimaged/featuresall_residues_4dkl_5c1m_under_cutoff6A-CA/apo_reseeded_rep_82.dataset\n",
      "\n",
      "\n",
      "loading /home/enf/md_simulations/MOR/h8_reimaged/featuresall_residues_4dkl_5c1m_under_cutoff6A-CA/bu72_rep_22.datasetloading /home/enf/md_simulations/MOR/h8_reimaged/featuresall_residues_4dkl_5c1m_under_cutoff6A-CA/bu72_reseeded_rep_126.datasetloading /home/enf/md_simulations/MOR/h8_reimaged/featuresall_residues_4dkl_5c1m_under_cutoff6A-CA/apo_reseeded_rep_83.dataset\n",
      "\n",
      "\n",
      "loading /home/enf/md_simulations/MOR/h8_reimaged/featuresall_residues_4dkl_5c1m_under_cutoff6A-CA/bu72_rep_220.datasetloading /home/enf/md_simulations/MOR/h8_reimaged/featuresall_residues_4dkl_5c1m_under_cutoff6A-CA/bu72_reseeded_rep_127.datasetloading /home/enf/md_simulations/MOR/h8_reimaged/featuresall_residues_4dkl_5c1m_under_cutoff6A-CA/apo_reseeded_rep_84.dataset\n",
      "\n",
      "\n",
      "loading /home/enf/md_simulations/MOR/h8_reimaged/featuresall_residues_4dkl_5c1m_under_cutoff6A-CA/bu72_rep_221.datasetloading /home/enf/md_simulations/MOR/h8_reimaged/featuresall_residues_4dkl_5c1m_under_cutoff6A-CA/bu72_reseeded_rep_128.datasetloading /home/enf/md_simulations/MOR/h8_reimaged/featuresall_residues_4dkl_5c1m_under_cutoff6A-CA/apo_reseeded_rep_85.dataset\n",
      "\n",
      "\n",
      "loading /home/enf/md_simulations/MOR/h8_reimaged/featuresall_residues_4dkl_5c1m_under_cutoff6A-CA/bu72_rep_222.datasetloading /home/enf/md_simulations/MOR/h8_reimaged/featuresall_residues_4dkl_5c1m_under_cutoff6A-CA/bu72_reseeded_rep_129.datasetloading /home/enf/md_simulations/MOR/h8_reimaged/featuresall_residues_4dkl_5c1m_under_cutoff6A-CA/apo_reseeded_rep_86.dataset\n",
      "\n",
      "\n",
      "loading /home/enf/md_simulations/MOR/h8_reimaged/featuresall_residues_4dkl_5c1m_under_cutoff6A-CA/bu72_rep_223.datasetloading /home/enf/md_simulations/MOR/h8_reimaged/featuresall_residues_4dkl_5c1m_under_cutoff6A-CA/bu72_reseeded_rep_13.datasetloading /home/enf/md_simulations/MOR/h8_reimaged/featuresall_residues_4dkl_5c1m_under_cutoff6A-CA/apo_reseeded_rep_87.dataset\n",
      "\n",
      "\n",
      "loading /home/enf/md_simulations/MOR/h8_reimaged/featuresall_residues_4dkl_5c1m_under_cutoff6A-CA/bu72_rep_224.datasetloading /home/enf/md_simulations/MOR/h8_reimaged/featuresall_residues_4dkl_5c1m_under_cutoff6A-CA/bu72_reseeded_rep_130.datasetloading /home/enf/md_simulations/MOR/h8_reimaged/featuresall_residues_4dkl_5c1m_under_cutoff6A-CA/apo_reseeded_rep_88.dataset\n",
      "\n",
      "\n",
      "loading /home/enf/md_simulations/MOR/h8_reimaged/featuresall_residues_4dkl_5c1m_under_cutoff6A-CA/bu72_rep_225.datasetloading /home/enf/md_simulations/MOR/h8_reimaged/featuresall_residues_4dkl_5c1m_under_cutoff6A-CA/bu72_reseeded_rep_131.datasetloading /home/enf/md_simulations/MOR/h8_reimaged/featuresall_residues_4dkl_5c1m_under_cutoff6A-CA/apo_reseeded_rep_89.dataset\n",
      "\n",
      "\n",
      "loading /home/enf/md_simulations/MOR/h8_reimaged/featuresall_residues_4dkl_5c1m_under_cutoff6A-CA/bu72_rep_226.datasetloading /home/enf/md_simulations/MOR/h8_reimaged/featuresall_residues_4dkl_5c1m_under_cutoff6A-CA/bu72_reseeded_rep_132.datasetloading /home/enf/md_simulations/MOR/h8_reimaged/featuresall_residues_4dkl_5c1m_under_cutoff6A-CA/apo_reseeded_rep_9.dataset\n",
      "\n",
      "\n",
      "loading /home/enf/md_simulations/MOR/h8_reimaged/featuresall_residues_4dkl_5c1m_under_cutoff6A-CA/bu72_rep_227.datasetloading /home/enf/md_simulations/MOR/h8_reimaged/featuresall_residues_4dkl_5c1m_under_cutoff6A-CA/bu72_reseeded_rep_133.datasetloading /home/enf/md_simulations/MOR/h8_reimaged/featuresall_residues_4dkl_5c1m_under_cutoff6A-CA/apo_reseeded_rep_90.dataset\n",
      "\n",
      "\n",
      "loading /home/enf/md_simulations/MOR/h8_reimaged/featuresall_residues_4dkl_5c1m_under_cutoff6A-CA/bu72_rep_228.datasetloading /home/enf/md_simulations/MOR/h8_reimaged/featuresall_residues_4dkl_5c1m_under_cutoff6A-CA/bu72_reseeded_rep_134.datasetloading /home/enf/md_simulations/MOR/h8_reimaged/featuresall_residues_4dkl_5c1m_under_cutoff6A-CA/apo_reseeded_rep_91.dataset\n",
      "\n",
      "\n",
      "loading /home/enf/md_simulations/MOR/h8_reimaged/featuresall_residues_4dkl_5c1m_under_cutoff6A-CA/bu72_rep_229.datasetloading /home/enf/md_simulations/MOR/h8_reimaged/featuresall_residues_4dkl_5c1m_under_cutoff6A-CA/bu72_reseeded_rep_135.datasetloading /home/enf/md_simulations/MOR/h8_reimaged/featuresall_residues_4dkl_5c1m_under_cutoff6A-CA/apo_reseeded_rep_92.dataset\n",
      "\n",
      "\n",
      "loading /home/enf/md_simulations/MOR/h8_reimaged/featuresall_residues_4dkl_5c1m_under_cutoff6A-CA/bu72_rep_23.datasetloading /home/enf/md_simulations/MOR/h8_reimaged/featuresall_residues_4dkl_5c1m_under_cutoff6A-CA/bu72_reseeded_rep_136.datasetloading /home/enf/md_simulations/MOR/h8_reimaged/featuresall_residues_4dkl_5c1m_under_cutoff6A-CA/apo_reseeded_rep_93.dataset\n",
      "\n",
      "\n",
      "loading /home/enf/md_simulations/MOR/h8_reimaged/featuresall_residues_4dkl_5c1m_under_cutoff6A-CA/bu72_rep_230.datasetloading /home/enf/md_simulations/MOR/h8_reimaged/featuresall_residues_4dkl_5c1m_under_cutoff6A-CA/bu72_reseeded_rep_137.datasetloading /home/enf/md_simulations/MOR/h8_reimaged/featuresall_residues_4dkl_5c1m_under_cutoff6A-CA/apo_reseeded_rep_94.dataset\n",
      "\n",
      "\n",
      "loading /home/enf/md_simulations/MOR/h8_reimaged/featuresall_residues_4dkl_5c1m_under_cutoff6A-CA/bu72_rep_231.datasetloading /home/enf/md_simulations/MOR/h8_reimaged/featuresall_residues_4dkl_5c1m_under_cutoff6A-CA/bu72_reseeded_rep_138.datasetloading /home/enf/md_simulations/MOR/h8_reimaged/featuresall_residues_4dkl_5c1m_under_cutoff6A-CA/apo_reseeded_rep_95.dataset\n",
      "\n",
      "\n",
      "loading /home/enf/md_simulations/MOR/h8_reimaged/featuresall_residues_4dkl_5c1m_under_cutoff6A-CA/bu72_rep_232.datasetloading /home/enf/md_simulations/MOR/h8_reimaged/featuresall_residues_4dkl_5c1m_under_cutoff6A-CA/bu72_reseeded_rep_139.datasetloading /home/enf/md_simulations/MOR/h8_reimaged/featuresall_residues_4dkl_5c1m_under_cutoff6A-CA/apo_reseeded_rep_96.dataset\n",
      "\n",
      "\n",
      "loading /home/enf/md_simulations/MOR/h8_reimaged/featuresall_residues_4dkl_5c1m_under_cutoff6A-CA/bu72_rep_233.datasetloading /home/enf/md_simulations/MOR/h8_reimaged/featuresall_residues_4dkl_5c1m_under_cutoff6A-CA/bu72_reseeded_rep_14.datasetloading /home/enf/md_simulations/MOR/h8_reimaged/featuresall_residues_4dkl_5c1m_under_cutoff6A-CA/apo_reseeded_rep_97.dataset\n",
      "\n",
      "\n",
      "loading /home/enf/md_simulations/MOR/h8_reimaged/featuresall_residues_4dkl_5c1m_under_cutoff6A-CA/bu72_rep_234.datasetloading /home/enf/md_simulations/MOR/h8_reimaged/featuresall_residues_4dkl_5c1m_under_cutoff6A-CA/bu72_reseeded_rep_140.datasetloading /home/enf/md_simulations/MOR/h8_reimaged/featuresall_residues_4dkl_5c1m_under_cutoff6A-CA/apo_reseeded_rep_98.dataset\n",
      "\n",
      "\n",
      "loading /home/enf/md_simulations/MOR/h8_reimaged/featuresall_residues_4dkl_5c1m_under_cutoff6A-CA/bu72_rep_235.datasetloading /home/enf/md_simulations/MOR/h8_reimaged/featuresall_residues_4dkl_5c1m_under_cutoff6A-CA/bu72_reseeded_rep_141.datasetloading /home/enf/md_simulations/MOR/h8_reimaged/featuresall_residues_4dkl_5c1m_under_cutoff6A-CA/apo_reseeded_rep_99.dataset\n",
      "\n",
      "\n",
      "loading /home/enf/md_simulations/MOR/h8_reimaged/featuresall_residues_4dkl_5c1m_under_cutoff6A-CA/bu72_rep_236.datasetloading /home/enf/md_simulations/MOR/h8_reimaged/featuresall_residues_4dkl_5c1m_under_cutoff6A-CA/bu72_reseeded_rep_142.datasetloading /home/enf/md_simulations/MOR/h8_reimaged/featuresall_residues_4dkl_5c1m_under_cutoff6A-CA/bu72_rep_1.dataset\n",
      "\n",
      "\n",
      "loading /home/enf/md_simulations/MOR/h8_reimaged/featuresall_residues_4dkl_5c1m_under_cutoff6A-CA/bu72_rep_237.datasetloading /home/enf/md_simulations/MOR/h8_reimaged/featuresall_residues_4dkl_5c1m_under_cutoff6A-CA/bu72_reseeded_rep_143.datasetloading /home/enf/md_simulations/MOR/h8_reimaged/featuresall_residues_4dkl_5c1m_under_cutoff6A-CA/bu72_rep_10.dataset\n",
      "\n",
      "\n",
      "loading /home/enf/md_simulations/MOR/h8_reimaged/featuresall_residues_4dkl_5c1m_under_cutoff6A-CA/bu72_rep_238.datasetloading /home/enf/md_simulations/MOR/h8_reimaged/featuresall_residues_4dkl_5c1m_under_cutoff6A-CA/bu72_reseeded_rep_144.datasetloading /home/enf/md_simulations/MOR/h8_reimaged/featuresall_residues_4dkl_5c1m_under_cutoff6A-CA/bu72_rep_100.dataset\n",
      "\n",
      "\n",
      "loading /home/enf/md_simulations/MOR/h8_reimaged/featuresall_residues_4dkl_5c1m_under_cutoff6A-CA/bu72_rep_239.datasetloading /home/enf/md_simulations/MOR/h8_reimaged/featuresall_residues_4dkl_5c1m_under_cutoff6A-CA/bu72_reseeded_rep_145.datasetloading /home/enf/md_simulations/MOR/h8_reimaged/featuresall_residues_4dkl_5c1m_under_cutoff6A-CA/bu72_rep_101.dataset\n",
      "\n",
      "\n",
      "loading /home/enf/md_simulations/MOR/h8_reimaged/featuresall_residues_4dkl_5c1m_under_cutoff6A-CA/bu72_rep_24.datasetloading /home/enf/md_simulations/MOR/h8_reimaged/featuresall_residues_4dkl_5c1m_under_cutoff6A-CA/bu72_reseeded_rep_146.datasetloading /home/enf/md_simulations/MOR/h8_reimaged/featuresall_residues_4dkl_5c1m_under_cutoff6A-CA/bu72_rep_102.dataset\n",
      "\n",
      "\n",
      "loading /home/enf/md_simulations/MOR/h8_reimaged/featuresall_residues_4dkl_5c1m_under_cutoff6A-CA/bu72_rep_240.datasetloading /home/enf/md_simulations/MOR/h8_reimaged/featuresall_residues_4dkl_5c1m_under_cutoff6A-CA/bu72_reseeded_rep_147.datasetloading /home/enf/md_simulations/MOR/h8_reimaged/featuresall_residues_4dkl_5c1m_under_cutoff6A-CA/bu72_rep_103.dataset\n",
      "\n",
      "\n",
      "loading /home/enf/md_simulations/MOR/h8_reimaged/featuresall_residues_4dkl_5c1m_under_cutoff6A-CA/bu72_rep_241.datasetloading /home/enf/md_simulations/MOR/h8_reimaged/featuresall_residues_4dkl_5c1m_under_cutoff6A-CA/bu72_reseeded_rep_148.datasetloading /home/enf/md_simulations/MOR/h8_reimaged/featuresall_residues_4dkl_5c1m_under_cutoff6A-CA/bu72_rep_104.dataset\n",
      "\n",
      "\n",
      "loading /home/enf/md_simulations/MOR/h8_reimaged/featuresall_residues_4dkl_5c1m_under_cutoff6A-CA/bu72_rep_242.datasetloading /home/enf/md_simulations/MOR/h8_reimaged/featuresall_residues_4dkl_5c1m_under_cutoff6A-CA/bu72_reseeded_rep_149.datasetloading /home/enf/md_simulations/MOR/h8_reimaged/featuresall_residues_4dkl_5c1m_under_cutoff6A-CA/bu72_rep_105.dataset\n",
      "\n",
      "\n",
      "loading /home/enf/md_simulations/MOR/h8_reimaged/featuresall_residues_4dkl_5c1m_under_cutoff6A-CA/bu72_rep_243.datasetloading /home/enf/md_simulations/MOR/h8_reimaged/featuresall_residues_4dkl_5c1m_under_cutoff6A-CA/bu72_reseeded_rep_15.datasetloading /home/enf/md_simulations/MOR/h8_reimaged/featuresall_residues_4dkl_5c1m_under_cutoff6A-CA/bu72_rep_106.dataset\n",
      "\n",
      "\n",
      "loading /home/enf/md_simulations/MOR/h8_reimaged/featuresall_residues_4dkl_5c1m_under_cutoff6A-CA/bu72_rep_244.datasetloading /home/enf/md_simulations/MOR/h8_reimaged/featuresall_residues_4dkl_5c1m_under_cutoff6A-CA/bu72_reseeded_rep_150.datasetloading /home/enf/md_simulations/MOR/h8_reimaged/featuresall_residues_4dkl_5c1m_under_cutoff6A-CA/bu72_rep_107.dataset\n",
      "\n",
      "\n",
      "loading /home/enf/md_simulations/MOR/h8_reimaged/featuresall_residues_4dkl_5c1m_under_cutoff6A-CA/bu72_rep_245.datasetloading /home/enf/md_simulations/MOR/h8_reimaged/featuresall_residues_4dkl_5c1m_under_cutoff6A-CA/bu72_reseeded_rep_151.datasetloading /home/enf/md_simulations/MOR/h8_reimaged/featuresall_residues_4dkl_5c1m_under_cutoff6A-CA/bu72_rep_108.dataset\n",
      "\n",
      "\n",
      "loading /home/enf/md_simulations/MOR/h8_reimaged/featuresall_residues_4dkl_5c1m_under_cutoff6A-CA/bu72_rep_246.datasetloading /home/enf/md_simulations/MOR/h8_reimaged/featuresall_residues_4dkl_5c1m_under_cutoff6A-CA/bu72_reseeded_rep_152.datasetloading /home/enf/md_simulations/MOR/h8_reimaged/featuresall_residues_4dkl_5c1m_under_cutoff6A-CA/bu72_rep_109.dataset\n",
      "\n",
      "\n",
      "loading /home/enf/md_simulations/MOR/h8_reimaged/featuresall_residues_4dkl_5c1m_under_cutoff6A-CA/bu72_rep_247.datasetloading /home/enf/md_simulations/MOR/h8_reimaged/featuresall_residues_4dkl_5c1m_under_cutoff6A-CA/bu72_reseeded_rep_153.datasetloading /home/enf/md_simulations/MOR/h8_reimaged/featuresall_residues_4dkl_5c1m_under_cutoff6A-CA/bu72_rep_11.dataset"
     ]
    }
   ],
   "source": [
    "#all_tica = verboseload(projected_features_dir)\n",
    "#all_tica = [x[:,range(1,10)] for x in all_tica]\n",
    "#print(all_tica[0].shape)\n",
    "#print(len(all_tica))\n",
    "#verbosedump(all_tica, projected_features_dir)\n"
   ]
  },
  {
   "cell_type": "code",
   "execution_count": 11,
   "metadata": {
    "collapsed": false
   },
   "outputs": [
    {
     "name": "stdout",
     "output_type": "stream",
     "text": [
      "\n",
      "\n",
      "\n",
      "loading /home/enf/md_simulations/MOR/h8_reimaged/featuresall_residues_4dkl_5c1m_under_cutoff6A-CA/bu72_rep_248.datasetloading /home/enf/md_simulations/MOR/h8_reimaged/featuresall_residues_4dkl_5c1m_under_cutoff6A-CA/bu72_reseeded_rep_154.datasetloading /home/enf/md_simulations/MOR/h8_reimaged/featuresall_residues_4dkl_5c1m_under_cutoff6A-CA/bu72_rep_110.dataset\n",
      "\n",
      "\n",
      "loading /home/enf/md_simulations/MOR/h8_reimaged/featuresall_residues_4dkl_5c1m_under_cutoff6A-CA/bu72_rep_249.datasetloading /home/enf/md_simulations/MOR/h8_reimaged/featuresall_residues_4dkl_5c1m_under_cutoff6A-CA/bu72_reseeded_rep_155.datasetloading /home/enf/md_simulations/MOR/h8_reimaged/featuresall_residues_4dkl_5c1m_under_cutoff6A-CA/bu72_rep_111.dataset\n",
      "\n",
      "\n",
      "loading /home/enf/md_simulations/MOR/h8_reimaged/featuresall_residues_4dkl_5c1m_under_cutoff6A-CA/bu72_rep_25.datasetloading /home/enf/md_simulations/MOR/h8_reimaged/featuresall_residues_4dkl_5c1m_under_cutoff6A-CA/bu72_reseeded_rep_156.datasetloading /home/enf/md_simulations/MOR/h8_reimaged/featuresall_residues_4dkl_5c1m_under_cutoff6A-CA/bu72_rep_112.dataset\n",
      "\n",
      "\n",
      "loading /home/enf/md_simulations/MOR/h8_reimaged/featuresall_residues_4dkl_5c1m_under_cutoff6A-CA/bu72_rep_250.datasetloading /home/enf/md_simulations/MOR/h8_reimaged/featuresall_residues_4dkl_5c1m_under_cutoff6A-CA/bu72_reseeded_rep_157.datasetloading /home/enf/md_simulations/MOR/h8_reimaged/featuresall_residues_4dkl_5c1m_under_cutoff6A-CA/bu72_rep_113.dataset\n",
      "\n",
      "\n",
      "loading /home/enf/md_simulations/MOR/h8_reimaged/featuresall_residues_4dkl_5c1m_under_cutoff6A-CA/bu72_rep_251.datasetloading /home/enf/md_simulations/MOR/h8_reimaged/featuresall_residues_4dkl_5c1m_under_cutoff6A-CA/bu72_reseeded_rep_158.datasetloading /home/enf/md_simulations/MOR/h8_reimaged/featuresall_residues_4dkl_5c1m_under_cutoff6A-CA/bu72_rep_114.dataset\n",
      "\n",
      "\n",
      "loading /home/enf/md_simulations/MOR/h8_reimaged/featuresall_residues_4dkl_5c1m_under_cutoff6A-CA/bu72_rep_252.datasetloading /home/enf/md_simulations/MOR/h8_reimaged/featuresall_residues_4dkl_5c1m_under_cutoff6A-CA/bu72_reseeded_rep_159.datasetloading /home/enf/md_simulations/MOR/h8_reimaged/featuresall_residues_4dkl_5c1m_under_cutoff6A-CA/bu72_rep_115.dataset\n",
      "\n",
      "\n",
      "loading /home/enf/md_simulations/MOR/h8_reimaged/featuresall_residues_4dkl_5c1m_under_cutoff6A-CA/bu72_rep_253.datasetloading /home/enf/md_simulations/MOR/h8_reimaged/featuresall_residues_4dkl_5c1m_under_cutoff6A-CA/bu72_reseeded_rep_16.datasetloading /home/enf/md_simulations/MOR/h8_reimaged/featuresall_residues_4dkl_5c1m_under_cutoff6A-CA/bu72_rep_116.dataset\n",
      "\n",
      "\n",
      "loading /home/enf/md_simulations/MOR/h8_reimaged/featuresall_residues_4dkl_5c1m_under_cutoff6A-CA/bu72_rep_254.datasetloading /home/enf/md_simulations/MOR/h8_reimaged/featuresall_residues_4dkl_5c1m_under_cutoff6A-CA/bu72_reseeded_rep_160.datasetloading /home/enf/md_simulations/MOR/h8_reimaged/featuresall_residues_4dkl_5c1m_under_cutoff6A-CA/bu72_rep_117.dataset\n",
      "\n",
      "\n",
      "loading /home/enf/md_simulations/MOR/h8_reimaged/featuresall_residues_4dkl_5c1m_under_cutoff6A-CA/bu72_rep_255.datasetloading /home/enf/md_simulations/MOR/h8_reimaged/featuresall_residues_4dkl_5c1m_under_cutoff6A-CA/bu72_reseeded_rep_161.datasetloading /home/enf/md_simulations/MOR/h8_reimaged/featuresall_residues_4dkl_5c1m_under_cutoff6A-CA/bu72_rep_118.dataset\n",
      "\n",
      "\n",
      "loading /home/enf/md_simulations/MOR/h8_reimaged/featuresall_residues_4dkl_5c1m_under_cutoff6A-CA/bu72_rep_256.datasetloading /home/enf/md_simulations/MOR/h8_reimaged/featuresall_residues_4dkl_5c1m_under_cutoff6A-CA/bu72_reseeded_rep_162.datasetloading /home/enf/md_simulations/MOR/h8_reimaged/featuresall_residues_4dkl_5c1m_under_cutoff6A-CA/bu72_rep_119.dataset\n",
      "\n",
      "\n",
      "loading /home/enf/md_simulations/MOR/h8_reimaged/featuresall_residues_4dkl_5c1m_under_cutoff6A-CA/bu72_rep_26.datasetloading /home/enf/md_simulations/MOR/h8_reimaged/featuresall_residues_4dkl_5c1m_under_cutoff6A-CA/bu72_reseeded_rep_163.datasetloading /home/enf/md_simulations/MOR/h8_reimaged/featuresall_residues_4dkl_5c1m_under_cutoff6A-CA/bu72_rep_12.dataset\n",
      "\n",
      "\n",
      "loading /home/enf/md_simulations/MOR/h8_reimaged/featuresall_residues_4dkl_5c1m_under_cutoff6A-CA/bu72_rep_27.datasetloading /home/enf/md_simulations/MOR/h8_reimaged/featuresall_residues_4dkl_5c1m_under_cutoff6A-CA/bu72_reseeded_rep_164.datasetloading /home/enf/md_simulations/MOR/h8_reimaged/featuresall_residues_4dkl_5c1m_under_cutoff6A-CA/bu72_rep_120.dataset\n",
      "\n",
      "\n",
      "loading /home/enf/md_simulations/MOR/h8_reimaged/featuresall_residues_4dkl_5c1m_under_cutoff6A-CA/bu72_rep_28.datasetloading /home/enf/md_simulations/MOR/h8_reimaged/featuresall_residues_4dkl_5c1m_under_cutoff6A-CA/bu72_reseeded_rep_165.datasetloading /home/enf/md_simulations/MOR/h8_reimaged/featuresall_residues_4dkl_5c1m_under_cutoff6A-CA/bu72_rep_121.dataset\n",
      "\n",
      "\n",
      "loading /home/enf/md_simulations/MOR/h8_reimaged/featuresall_residues_4dkl_5c1m_under_cutoff6A-CA/bu72_rep_29.datasetloading /home/enf/md_simulations/MOR/h8_reimaged/featuresall_residues_4dkl_5c1m_under_cutoff6A-CA/bu72_reseeded_rep_166.datasetloading /home/enf/md_simulations/MOR/h8_reimaged/featuresall_residues_4dkl_5c1m_under_cutoff6A-CA/bu72_rep_122.dataset\n",
      "\n",
      "\n",
      "loading /home/enf/md_simulations/MOR/h8_reimaged/featuresall_residues_4dkl_5c1m_under_cutoff6A-CA/bu72_rep_3.datasetloading /home/enf/md_simulations/MOR/h8_reimaged/featuresall_residues_4dkl_5c1m_under_cutoff6A-CA/bu72_reseeded_rep_167.datasetloading /home/enf/md_simulations/MOR/h8_reimaged/featuresall_residues_4dkl_5c1m_under_cutoff6A-CA/bu72_rep_123.dataset\n",
      "\n",
      "\n",
      "loading /home/enf/md_simulations/MOR/h8_reimaged/featuresall_residues_4dkl_5c1m_under_cutoff6A-CA/bu72_rep_30.datasetloading /home/enf/md_simulations/MOR/h8_reimaged/featuresall_residues_4dkl_5c1m_under_cutoff6A-CA/bu72_reseeded_rep_168.datasetloading /home/enf/md_simulations/MOR/h8_reimaged/featuresall_residues_4dkl_5c1m_under_cutoff6A-CA/bu72_rep_124.dataset\n",
      "\n",
      "\n",
      "loading /home/enf/md_simulations/MOR/h8_reimaged/featuresall_residues_4dkl_5c1m_under_cutoff6A-CA/bu72_rep_31.datasetloading /home/enf/md_simulations/MOR/h8_reimaged/featuresall_residues_4dkl_5c1m_under_cutoff6A-CA/bu72_reseeded_rep_169.datasetloading /home/enf/md_simulations/MOR/h8_reimaged/featuresall_residues_4dkl_5c1m_under_cutoff6A-CA/bu72_rep_125.dataset\n",
      "\n",
      "\n",
      "loading /home/enf/md_simulations/MOR/h8_reimaged/featuresall_residues_4dkl_5c1m_under_cutoff6A-CA/bu72_rep_32.datasetloading /home/enf/md_simulations/MOR/h8_reimaged/featuresall_residues_4dkl_5c1m_under_cutoff6A-CA/bu72_reseeded_rep_17.datasetloading /home/enf/md_simulations/MOR/h8_reimaged/featuresall_residues_4dkl_5c1m_under_cutoff6A-CA/bu72_rep_126.dataset\n",
      "\n",
      "\n",
      "loading /home/enf/md_simulations/MOR/h8_reimaged/featuresall_residues_4dkl_5c1m_under_cutoff6A-CA/bu72_rep_33.datasetloading /home/enf/md_simulations/MOR/h8_reimaged/featuresall_residues_4dkl_5c1m_under_cutoff6A-CA/bu72_reseeded_rep_170.datasetloading /home/enf/md_simulations/MOR/h8_reimaged/featuresall_residues_4dkl_5c1m_under_cutoff6A-CA/bu72_rep_127.dataset\n",
      "\n",
      "\n",
      "loading /home/enf/md_simulations/MOR/h8_reimaged/featuresall_residues_4dkl_5c1m_under_cutoff6A-CA/bu72_rep_34.datasetloading /home/enf/md_simulations/MOR/h8_reimaged/featuresall_residues_4dkl_5c1m_under_cutoff6A-CA/bu72_reseeded_rep_171.datasetloading /home/enf/md_simulations/MOR/h8_reimaged/featuresall_residues_4dkl_5c1m_under_cutoff6A-CA/bu72_rep_128.dataset\n",
      "\n",
      "\n",
      "loading /home/enf/md_simulations/MOR/h8_reimaged/featuresall_residues_4dkl_5c1m_under_cutoff6A-CA/bu72_rep_35.datasetloading /home/enf/md_simulations/MOR/h8_reimaged/featuresall_residues_4dkl_5c1m_under_cutoff6A-CA/bu72_reseeded_rep_172.datasetloading /home/enf/md_simulations/MOR/h8_reimaged/featuresall_residues_4dkl_5c1m_under_cutoff6A-CA/bu72_rep_129.dataset\n",
      "\n",
      "\n",
      "loading /home/enf/md_simulations/MOR/h8_reimaged/featuresall_residues_4dkl_5c1m_under_cutoff6A-CA/bu72_rep_36.datasetloading /home/enf/md_simulations/MOR/h8_reimaged/featuresall_residues_4dkl_5c1m_under_cutoff6A-CA/bu72_reseeded_rep_173.datasetloading /home/enf/md_simulations/MOR/h8_reimaged/featuresall_residues_4dkl_5c1m_under_cutoff6A-CA/bu72_rep_13.dataset\n",
      "\n",
      "\n",
      "loading /home/enf/md_simulations/MOR/h8_reimaged/featuresall_residues_4dkl_5c1m_under_cutoff6A-CA/bu72_rep_37.datasetloading /home/enf/md_simulations/MOR/h8_reimaged/featuresall_residues_4dkl_5c1m_under_cutoff6A-CA/bu72_reseeded_rep_174.datasetloading /home/enf/md_simulations/MOR/h8_reimaged/featuresall_residues_4dkl_5c1m_under_cutoff6A-CA/bu72_rep_130.dataset\n",
      "\n",
      "\n",
      "loading /home/enf/md_simulations/MOR/h8_reimaged/featuresall_residues_4dkl_5c1m_under_cutoff6A-CA/bu72_rep_38.datasetloading /home/enf/md_simulations/MOR/h8_reimaged/featuresall_residues_4dkl_5c1m_under_cutoff6A-CA/bu72_reseeded_rep_175.datasetloading /home/enf/md_simulations/MOR/h8_reimaged/featuresall_residues_4dkl_5c1m_under_cutoff6A-CA/bu72_rep_131.dataset\n",
      "\n",
      "\n",
      "loading /home/enf/md_simulations/MOR/h8_reimaged/featuresall_residues_4dkl_5c1m_under_cutoff6A-CA/bu72_rep_39.datasetloading /home/enf/md_simulations/MOR/h8_reimaged/featuresall_residues_4dkl_5c1m_under_cutoff6A-CA/bu72_reseeded_rep_176.datasetloading /home/enf/md_simulations/MOR/h8_reimaged/featuresall_residues_4dkl_5c1m_under_cutoff6A-CA/bu72_rep_132.dataset\n",
      "\n",
      "\n",
      "loading /home/enf/md_simulations/MOR/h8_reimaged/featuresall_residues_4dkl_5c1m_under_cutoff6A-CA/bu72_rep_4.datasetloading /home/enf/md_simulations/MOR/h8_reimaged/featuresall_residues_4dkl_5c1m_under_cutoff6A-CA/bu72_reseeded_rep_177.datasetloading /home/enf/md_simulations/MOR/h8_reimaged/featuresall_residues_4dkl_5c1m_under_cutoff6A-CA/bu72_rep_133.dataset\n",
      "\n",
      "\n",
      "loading /home/enf/md_simulations/MOR/h8_reimaged/featuresall_residues_4dkl_5c1m_under_cutoff6A-CA/bu72_rep_40.datasetloading /home/enf/md_simulations/MOR/h8_reimaged/featuresall_residues_4dkl_5c1m_under_cutoff6A-CA/bu72_reseeded_rep_178.datasetloading /home/enf/md_simulations/MOR/h8_reimaged/featuresall_residues_4dkl_5c1m_under_cutoff6A-CA/bu72_rep_134.dataset\n",
      "\n",
      "\n",
      "loading /home/enf/md_simulations/MOR/h8_reimaged/featuresall_residues_4dkl_5c1m_under_cutoff6A-CA/bu72_rep_41.datasetloading /home/enf/md_simulations/MOR/h8_reimaged/featuresall_residues_4dkl_5c1m_under_cutoff6A-CA/bu72_reseeded_rep_179.datasetloading /home/enf/md_simulations/MOR/h8_reimaged/featuresall_residues_4dkl_5c1m_under_cutoff6A-CA/bu72_rep_135.dataset\n",
      "\n",
      "\n",
      "loading /home/enf/md_simulations/MOR/h8_reimaged/featuresall_residues_4dkl_5c1m_under_cutoff6A-CA/bu72_rep_42.datasetloading /home/enf/md_simulations/MOR/h8_reimaged/featuresall_residues_4dkl_5c1m_under_cutoff6A-CA/bu72_reseeded_rep_18.datasetloading /home/enf/md_simulations/MOR/h8_reimaged/featuresall_residues_4dkl_5c1m_under_cutoff6A-CA/bu72_rep_136.dataset\n",
      "\n",
      "\n",
      "loading /home/enf/md_simulations/MOR/h8_reimaged/featuresall_residues_4dkl_5c1m_under_cutoff6A-CA/bu72_rep_43.datasetloading /home/enf/md_simulations/MOR/h8_reimaged/featuresall_residues_4dkl_5c1m_under_cutoff6A-CA/bu72_reseeded_rep_180.datasetloading /home/enf/md_simulations/MOR/h8_reimaged/featuresall_residues_4dkl_5c1m_under_cutoff6A-CA/bu72_rep_137.dataset\n",
      "\n",
      "\n",
      "loading /home/enf/md_simulations/MOR/h8_reimaged/featuresall_residues_4dkl_5c1m_under_cutoff6A-CA/bu72_rep_44.datasetloading /home/enf/md_simulations/MOR/h8_reimaged/featuresall_residues_4dkl_5c1m_under_cutoff6A-CA/bu72_reseeded_rep_181.datasetloading /home/enf/md_simulations/MOR/h8_reimaged/featuresall_residues_4dkl_5c1m_under_cutoff6A-CA/bu72_rep_138.dataset\n",
      "\n",
      "\n",
      "loading /home/enf/md_simulations/MOR/h8_reimaged/featuresall_residues_4dkl_5c1m_under_cutoff6A-CA/bu72_rep_45.datasetloading /home/enf/md_simulations/MOR/h8_reimaged/featuresall_residues_4dkl_5c1m_under_cutoff6A-CA/bu72_reseeded_rep_182.datasetloading /home/enf/md_simulations/MOR/h8_reimaged/featuresall_residues_4dkl_5c1m_under_cutoff6A-CA/bu72_rep_139.dataset\n",
      "\n",
      "\n",
      "loading /home/enf/md_simulations/MOR/h8_reimaged/featuresall_residues_4dkl_5c1m_under_cutoff6A-CA/bu72_rep_46.datasetloading /home/enf/md_simulations/MOR/h8_reimaged/featuresall_residues_4dkl_5c1m_under_cutoff6A-CA/bu72_reseeded_rep_183.datasetloading /home/enf/md_simulations/MOR/h8_reimaged/featuresall_residues_4dkl_5c1m_under_cutoff6A-CA/bu72_rep_14.dataset\n",
      "\n",
      "\n",
      "loading /home/enf/md_simulations/MOR/h8_reimaged/featuresall_residues_4dkl_5c1m_under_cutoff6A-CA/bu72_rep_47.datasetloading /home/enf/md_simulations/MOR/h8_reimaged/featuresall_residues_4dkl_5c1m_under_cutoff6A-CA/bu72_reseeded_rep_184.datasetloading /home/enf/md_simulations/MOR/h8_reimaged/featuresall_residues_4dkl_5c1m_under_cutoff6A-CA/bu72_rep_140.dataset\n",
      "\n",
      "\n",
      "loading /home/enf/md_simulations/MOR/h8_reimaged/featuresall_residues_4dkl_5c1m_under_cutoff6A-CA/bu72_rep_48.datasetloading /home/enf/md_simulations/MOR/h8_reimaged/featuresall_residues_4dkl_5c1m_under_cutoff6A-CA/bu72_reseeded_rep_185.datasetloading /home/enf/md_simulations/MOR/h8_reimaged/featuresall_residues_4dkl_5c1m_under_cutoff6A-CA/bu72_rep_141.dataset\n",
      "\n",
      "\n",
      "loading /home/enf/md_simulations/MOR/h8_reimaged/featuresall_residues_4dkl_5c1m_under_cutoff6A-CA/bu72_rep_49.datasetloading /home/enf/md_simulations/MOR/h8_reimaged/featuresall_residues_4dkl_5c1m_under_cutoff6A-CA/bu72_reseeded_rep_186.datasetloading /home/enf/md_simulations/MOR/h8_reimaged/featuresall_residues_4dkl_5c1m_under_cutoff6A-CA/bu72_rep_142.dataset\n",
      "\n",
      "\n",
      "loading /home/enf/md_simulations/MOR/h8_reimaged/featuresall_residues_4dkl_5c1m_under_cutoff6A-CA/bu72_rep_5.datasetloading /home/enf/md_simulations/MOR/h8_reimaged/featuresall_residues_4dkl_5c1m_under_cutoff6A-CA/bu72_reseeded_rep_187.datasetloading /home/enf/md_simulations/MOR/h8_reimaged/featuresall_residues_4dkl_5c1m_under_cutoff6A-CA/bu72_rep_143.dataset\n",
      "\n",
      "\n",
      "loading /home/enf/md_simulations/MOR/h8_reimaged/featuresall_residues_4dkl_5c1m_under_cutoff6A-CA/bu72_rep_50.datasetloading /home/enf/md_simulations/MOR/h8_reimaged/featuresall_residues_4dkl_5c1m_under_cutoff6A-CA/bu72_reseeded_rep_188.datasetloading /home/enf/md_simulations/MOR/h8_reimaged/featuresall_residues_4dkl_5c1m_under_cutoff6A-CA/bu72_rep_144.dataset\n",
      "\n",
      "\n",
      "loading /home/enf/md_simulations/MOR/h8_reimaged/featuresall_residues_4dkl_5c1m_under_cutoff6A-CA/bu72_rep_51.datasetloading /home/enf/md_simulations/MOR/h8_reimaged/featuresall_residues_4dkl_5c1m_under_cutoff6A-CA/bu72_reseeded_rep_189.datasetloading /home/enf/md_simulations/MOR/h8_reimaged/featuresall_residues_4dkl_5c1m_under_cutoff6A-CA/bu72_rep_145.dataset\n",
      "\n",
      "\n",
      "loading /home/enf/md_simulations/MOR/h8_reimaged/featuresall_residues_4dkl_5c1m_under_cutoff6A-CA/bu72_rep_52.datasetloading /home/enf/md_simulations/MOR/h8_reimaged/featuresall_residues_4dkl_5c1m_under_cutoff6A-CA/bu72_reseeded_rep_19.datasetloading /home/enf/md_simulations/MOR/h8_reimaged/featuresall_residues_4dkl_5c1m_under_cutoff6A-CA/bu72_rep_146.dataset\n",
      "\n",
      "\n",
      "loading /home/enf/md_simulations/MOR/h8_reimaged/featuresall_residues_4dkl_5c1m_under_cutoff6A-CA/bu72_rep_53.datasetloading /home/enf/md_simulations/MOR/h8_reimaged/featuresall_residues_4dkl_5c1m_under_cutoff6A-CA/bu72_reseeded_rep_190.datasetloading /home/enf/md_simulations/MOR/h8_reimaged/featuresall_residues_4dkl_5c1m_under_cutoff6A-CA/bu72_rep_147.dataset\n",
      "\n",
      "\n",
      "loading /home/enf/md_simulations/MOR/h8_reimaged/featuresall_residues_4dkl_5c1m_under_cutoff6A-CA/bu72_rep_54.datasetloading /home/enf/md_simulations/MOR/h8_reimaged/featuresall_residues_4dkl_5c1m_under_cutoff6A-CA/bu72_reseeded_rep_191.datasetloading /home/enf/md_simulations/MOR/h8_reimaged/featuresall_residues_4dkl_5c1m_under_cutoff6A-CA/bu72_rep_148.dataset\n",
      "\n",
      "\n",
      "loading /home/enf/md_simulations/MOR/h8_reimaged/featuresall_residues_4dkl_5c1m_under_cutoff6A-CA/bu72_rep_55.datasetloading /home/enf/md_simulations/MOR/h8_reimaged/featuresall_residues_4dkl_5c1m_under_cutoff6A-CA/bu72_reseeded_rep_192.datasetloading /home/enf/md_simulations/MOR/h8_reimaged/featuresall_residues_4dkl_5c1m_under_cutoff6A-CA/bu72_rep_149.dataset\n",
      "\n",
      "\n",
      "loading /home/enf/md_simulations/MOR/h8_reimaged/featuresall_residues_4dkl_5c1m_under_cutoff6A-CA/bu72_rep_56.datasetloading /home/enf/md_simulations/MOR/h8_reimaged/featuresall_residues_4dkl_5c1m_under_cutoff6A-CA/bu72_reseeded_rep_193.datasetloading /home/enf/md_simulations/MOR/h8_reimaged/featuresall_residues_4dkl_5c1m_under_cutoff6A-CA/bu72_rep_15.dataset\n",
      "\n",
      "\n",
      "loading /home/enf/md_simulations/MOR/h8_reimaged/featuresall_residues_4dkl_5c1m_under_cutoff6A-CA/bu72_rep_57.datasetloading /home/enf/md_simulations/MOR/h8_reimaged/featuresall_residues_4dkl_5c1m_under_cutoff6A-CA/bu72_reseeded_rep_194.datasetloading /home/enf/md_simulations/MOR/h8_reimaged/featuresall_residues_4dkl_5c1m_under_cutoff6A-CA/bu72_rep_150.dataset\n",
      "\n",
      "\n",
      "loading /home/enf/md_simulations/MOR/h8_reimaged/featuresall_residues_4dkl_5c1m_under_cutoff6A-CA/bu72_rep_58.datasetloading /home/enf/md_simulations/MOR/h8_reimaged/featuresall_residues_4dkl_5c1m_under_cutoff6A-CA/bu72_reseeded_rep_195.datasetloading /home/enf/md_simulations/MOR/h8_reimaged/featuresall_residues_4dkl_5c1m_under_cutoff6A-CA/bu72_rep_151.dataset\n",
      "\n",
      "\n",
      "loading /home/enf/md_simulations/MOR/h8_reimaged/featuresall_residues_4dkl_5c1m_under_cutoff6A-CA/bu72_rep_59.datasetloading /home/enf/md_simulations/MOR/h8_reimaged/featuresall_residues_4dkl_5c1m_under_cutoff6A-CA/bu72_reseeded_rep_196.datasetloading /home/enf/md_simulations/MOR/h8_reimaged/featuresall_residues_4dkl_5c1m_under_cutoff6A-CA/bu72_rep_152.dataset\n",
      "\n",
      "\n",
      "loading /home/enf/md_simulations/MOR/h8_reimaged/featuresall_residues_4dkl_5c1m_under_cutoff6A-CA/bu72_reseeded_rep_197.datasetloading /home/enf/md_simulations/MOR/h8_reimaged/featuresall_residues_4dkl_5c1m_under_cutoff6A-CA/suf__rep_245.datasetloading /home/enf/md_simulations/MOR/h8_reimaged/featuresall_residues_4dkl_5c1m_under_cutoff6A-CA/suf__rep_103.dataset\n",
      "\n",
      "\n",
      "loading /home/enf/md_simulations/MOR/h8_reimaged/featuresall_residues_4dkl_5c1m_under_cutoff6A-CA/bu72_reseeded_rep_198.datasetloading /home/enf/md_simulations/MOR/h8_reimaged/featuresall_residues_4dkl_5c1m_under_cutoff6A-CA/suf__rep_246.datasetloading /home/enf/md_simulations/MOR/h8_reimaged/featuresall_residues_4dkl_5c1m_under_cutoff6A-CA/suf__rep_104.dataset\n",
      "\n",
      "\n",
      "loading /home/enf/md_simulations/MOR/h8_reimaged/featuresall_residues_4dkl_5c1m_under_cutoff6A-CA/bu72_reseeded_rep_199.datasetloading /home/enf/md_simulations/MOR/h8_reimaged/featuresall_residues_4dkl_5c1m_under_cutoff6A-CA/suf__rep_247.datasetloading /home/enf/md_simulations/MOR/h8_reimaged/featuresall_residues_4dkl_5c1m_under_cutoff6A-CA/suf__rep_105.dataset\n",
      "\n",
      "\n",
      "loading /home/enf/md_simulations/MOR/h8_reimaged/featuresall_residues_4dkl_5c1m_under_cutoff6A-CA/bu72_reseeded_rep_2.datasetloading /home/enf/md_simulations/MOR/h8_reimaged/featuresall_residues_4dkl_5c1m_under_cutoff6A-CA/suf__rep_248.datasetloading /home/enf/md_simulations/MOR/h8_reimaged/featuresall_residues_4dkl_5c1m_under_cutoff6A-CA/suf__rep_106.dataset\n",
      "\n",
      "\n",
      "loading /home/enf/md_simulations/MOR/h8_reimaged/featuresall_residues_4dkl_5c1m_under_cutoff6A-CA/bu72_reseeded_rep_20.datasetloading /home/enf/md_simulations/MOR/h8_reimaged/featuresall_residues_4dkl_5c1m_under_cutoff6A-CA/suf__rep_249.datasetloading /home/enf/md_simulations/MOR/h8_reimaged/featuresall_residues_4dkl_5c1m_under_cutoff6A-CA/suf__rep_107.dataset\n",
      "\n",
      "\n",
      "loading /home/enf/md_simulations/MOR/h8_reimaged/featuresall_residues_4dkl_5c1m_under_cutoff6A-CA/bu72_reseeded_rep_200.datasetloading /home/enf/md_simulations/MOR/h8_reimaged/featuresall_residues_4dkl_5c1m_under_cutoff6A-CA/suf__rep_25.datasetloading /home/enf/md_simulations/MOR/h8_reimaged/featuresall_residues_4dkl_5c1m_under_cutoff6A-CA/suf__rep_108.dataset\n",
      "\n",
      "\n",
      "loading /home/enf/md_simulations/MOR/h8_reimaged/featuresall_residues_4dkl_5c1m_under_cutoff6A-CA/bu72_reseeded_rep_201.datasetloading /home/enf/md_simulations/MOR/h8_reimaged/featuresall_residues_4dkl_5c1m_under_cutoff6A-CA/suf__rep_250.datasetloading /home/enf/md_simulations/MOR/h8_reimaged/featuresall_residues_4dkl_5c1m_under_cutoff6A-CA/suf__rep_109.dataset\n",
      "\n",
      "\n",
      "loading /home/enf/md_simulations/MOR/h8_reimaged/featuresall_residues_4dkl_5c1m_under_cutoff6A-CA/bu72_reseeded_rep_202.datasetloading /home/enf/md_simulations/MOR/h8_reimaged/featuresall_residues_4dkl_5c1m_under_cutoff6A-CA/suf__rep_251.datasetloading /home/enf/md_simulations/MOR/h8_reimaged/featuresall_residues_4dkl_5c1m_under_cutoff6A-CA/suf__rep_11.dataset\n",
      "\n",
      "\n",
      "loading /home/enf/md_simulations/MOR/h8_reimaged/featuresall_residues_4dkl_5c1m_under_cutoff6A-CA/bu72_reseeded_rep_203.datasetloading /home/enf/md_simulations/MOR/h8_reimaged/featuresall_residues_4dkl_5c1m_under_cutoff6A-CA/suf__rep_252.datasetloading /home/enf/md_simulations/MOR/h8_reimaged/featuresall_residues_4dkl_5c1m_under_cutoff6A-CA/suf__rep_110.dataset\n",
      "\n",
      "\n",
      "loading /home/enf/md_simulations/MOR/h8_reimaged/featuresall_residues_4dkl_5c1m_under_cutoff6A-CA/bu72_reseeded_rep_204.datasetloading /home/enf/md_simulations/MOR/h8_reimaged/featuresall_residues_4dkl_5c1m_under_cutoff6A-CA/suf__rep_253.datasetloading /home/enf/md_simulations/MOR/h8_reimaged/featuresall_residues_4dkl_5c1m_under_cutoff6A-CA/suf__rep_111.dataset\n",
      "\n",
      "\n",
      "loading /home/enf/md_simulations/MOR/h8_reimaged/featuresall_residues_4dkl_5c1m_under_cutoff6A-CA/bu72_reseeded_rep_205.datasetloading /home/enf/md_simulations/MOR/h8_reimaged/featuresall_residues_4dkl_5c1m_under_cutoff6A-CA/suf__rep_254.datasetloading /home/enf/md_simulations/MOR/h8_reimaged/featuresall_residues_4dkl_5c1m_under_cutoff6A-CA/suf__rep_112.dataset\n",
      "\n",
      "\n",
      "loading /home/enf/md_simulations/MOR/h8_reimaged/featuresall_residues_4dkl_5c1m_under_cutoff6A-CA/bu72_reseeded_rep_206.datasetloading /home/enf/md_simulations/MOR/h8_reimaged/featuresall_residues_4dkl_5c1m_under_cutoff6A-CA/suf__rep_255.datasetloading /home/enf/md_simulations/MOR/h8_reimaged/featuresall_residues_4dkl_5c1m_under_cutoff6A-CA/suf__rep_113.dataset\n",
      "\n",
      "\n",
      "loading /home/enf/md_simulations/MOR/h8_reimaged/featuresall_residues_4dkl_5c1m_under_cutoff6A-CA/bu72_reseeded_rep_207.datasetloading /home/enf/md_simulations/MOR/h8_reimaged/featuresall_residues_4dkl_5c1m_under_cutoff6A-CA/suf__rep_256.datasetloading /home/enf/md_simulations/MOR/h8_reimaged/featuresall_residues_4dkl_5c1m_under_cutoff6A-CA/suf__rep_114.dataset\n",
      "\n",
      "\n",
      "loading /home/enf/md_simulations/MOR/h8_reimaged/featuresall_residues_4dkl_5c1m_under_cutoff6A-CA/bu72_reseeded_rep_208.datasetloading /home/enf/md_simulations/MOR/h8_reimaged/featuresall_residues_4dkl_5c1m_under_cutoff6A-CA/suf__rep_26.datasetloading /home/enf/md_simulations/MOR/h8_reimaged/featuresall_residues_4dkl_5c1m_under_cutoff6A-CA/suf__rep_115.dataset\n",
      "\n",
      "\n",
      "loading /home/enf/md_simulations/MOR/h8_reimaged/featuresall_residues_4dkl_5c1m_under_cutoff6A-CA/bu72_reseeded_rep_209.datasetloading /home/enf/md_simulations/MOR/h8_reimaged/featuresall_residues_4dkl_5c1m_under_cutoff6A-CA/suf__rep_27.datasetloading /home/enf/md_simulations/MOR/h8_reimaged/featuresall_residues_4dkl_5c1m_under_cutoff6A-CA/suf__rep_116.dataset\n",
      "\n",
      "\n",
      "loading /home/enf/md_simulations/MOR/h8_reimaged/featuresall_residues_4dkl_5c1m_under_cutoff6A-CA/bu72_reseeded_rep_21.datasetloading /home/enf/md_simulations/MOR/h8_reimaged/featuresall_residues_4dkl_5c1m_under_cutoff6A-CA/suf__rep_28.datasetloading /home/enf/md_simulations/MOR/h8_reimaged/featuresall_residues_4dkl_5c1m_under_cutoff6A-CA/suf__rep_117.dataset\n",
      "\n",
      "\n",
      "loading /home/enf/md_simulations/MOR/h8_reimaged/featuresall_residues_4dkl_5c1m_under_cutoff6A-CA/bu72_reseeded_rep_210.datasetloading /home/enf/md_simulations/MOR/h8_reimaged/featuresall_residues_4dkl_5c1m_under_cutoff6A-CA/suf__rep_29.datasetloading /home/enf/md_simulations/MOR/h8_reimaged/featuresall_residues_4dkl_5c1m_under_cutoff6A-CA/suf__rep_118.dataset\n",
      "\n",
      "\n",
      "loading /home/enf/md_simulations/MOR/h8_reimaged/featuresall_residues_4dkl_5c1m_under_cutoff6A-CA/bu72_reseeded_rep_211.datasetloading /home/enf/md_simulations/MOR/h8_reimaged/featuresall_residues_4dkl_5c1m_under_cutoff6A-CA/suf__rep_3.datasetloading /home/enf/md_simulations/MOR/h8_reimaged/featuresall_residues_4dkl_5c1m_under_cutoff6A-CA/suf__rep_119.dataset\n",
      "\n",
      "\n",
      "loading /home/enf/md_simulations/MOR/h8_reimaged/featuresall_residues_4dkl_5c1m_under_cutoff6A-CA/bu72_reseeded_rep_212.datasetloading /home/enf/md_simulations/MOR/h8_reimaged/featuresall_residues_4dkl_5c1m_under_cutoff6A-CA/suf__rep_30.datasetloading /home/enf/md_simulations/MOR/h8_reimaged/featuresall_residues_4dkl_5c1m_under_cutoff6A-CA/suf__rep_12.dataset\n",
      "\n",
      "\n",
      "loading /home/enf/md_simulations/MOR/h8_reimaged/featuresall_residues_4dkl_5c1m_under_cutoff6A-CA/bu72_reseeded_rep_213.datasetloading /home/enf/md_simulations/MOR/h8_reimaged/featuresall_residues_4dkl_5c1m_under_cutoff6A-CA/suf__rep_31.datasetloading /home/enf/md_simulations/MOR/h8_reimaged/featuresall_residues_4dkl_5c1m_under_cutoff6A-CA/suf__rep_120.dataset\n",
      "\n",
      "\n",
      "loading /home/enf/md_simulations/MOR/h8_reimaged/featuresall_residues_4dkl_5c1m_under_cutoff6A-CA/bu72_reseeded_rep_214.datasetloading /home/enf/md_simulations/MOR/h8_reimaged/featuresall_residues_4dkl_5c1m_under_cutoff6A-CA/suf__rep_32.datasetloading /home/enf/md_simulations/MOR/h8_reimaged/featuresall_residues_4dkl_5c1m_under_cutoff6A-CA/suf__rep_121.dataset\n",
      "\n",
      "\n",
      "loading /home/enf/md_simulations/MOR/h8_reimaged/featuresall_residues_4dkl_5c1m_under_cutoff6A-CA/bu72_reseeded_rep_215.datasetloading /home/enf/md_simulations/MOR/h8_reimaged/featuresall_residues_4dkl_5c1m_under_cutoff6A-CA/suf__rep_33.datasetloading /home/enf/md_simulations/MOR/h8_reimaged/featuresall_residues_4dkl_5c1m_under_cutoff6A-CA/suf__rep_122.dataset\n",
      "\n",
      "\n",
      "loading /home/enf/md_simulations/MOR/h8_reimaged/featuresall_residues_4dkl_5c1m_under_cutoff6A-CA/bu72_reseeded_rep_216.datasetloading /home/enf/md_simulations/MOR/h8_reimaged/featuresall_residues_4dkl_5c1m_under_cutoff6A-CA/suf__rep_37.datasetloading /home/enf/md_simulations/MOR/h8_reimaged/featuresall_residues_4dkl_5c1m_under_cutoff6A-CA/suf__rep_123.dataset\n",
      "\n",
      "\n",
      "loading /home/enf/md_simulations/MOR/h8_reimaged/featuresall_residues_4dkl_5c1m_under_cutoff6A-CA/bu72_reseeded_rep_217.datasetloading /home/enf/md_simulations/MOR/h8_reimaged/featuresall_residues_4dkl_5c1m_under_cutoff6A-CA/suf__rep_38.datasetloading /home/enf/md_simulations/MOR/h8_reimaged/featuresall_residues_4dkl_5c1m_under_cutoff6A-CA/suf__rep_124.dataset\n",
      "\n",
      "\n",
      "loading /home/enf/md_simulations/MOR/h8_reimaged/featuresall_residues_4dkl_5c1m_under_cutoff6A-CA/bu72_reseeded_rep_218.datasetloading /home/enf/md_simulations/MOR/h8_reimaged/featuresall_residues_4dkl_5c1m_under_cutoff6A-CA/suf__rep_39.datasetloading /home/enf/md_simulations/MOR/h8_reimaged/featuresall_residues_4dkl_5c1m_under_cutoff6A-CA/suf__rep_125.dataset\n",
      "\n",
      "\n",
      "loading /home/enf/md_simulations/MOR/h8_reimaged/featuresall_residues_4dkl_5c1m_under_cutoff6A-CA/bu72_reseeded_rep_219.datasetloading /home/enf/md_simulations/MOR/h8_reimaged/featuresall_residues_4dkl_5c1m_under_cutoff6A-CA/suf__rep_4.datasetloading /home/enf/md_simulations/MOR/h8_reimaged/featuresall_residues_4dkl_5c1m_under_cutoff6A-CA/suf__rep_126.dataset\n",
      "\n",
      "\n",
      "loading /home/enf/md_simulations/MOR/h8_reimaged/featuresall_residues_4dkl_5c1m_under_cutoff6A-CA/bu72_reseeded_rep_22.datasetloading /home/enf/md_simulations/MOR/h8_reimaged/featuresall_residues_4dkl_5c1m_under_cutoff6A-CA/suf__rep_41.datasetloading /home/enf/md_simulations/MOR/h8_reimaged/featuresall_residues_4dkl_5c1m_under_cutoff6A-CA/suf__rep_127.dataset\n",
      "\n",
      "\n",
      "loading /home/enf/md_simulations/MOR/h8_reimaged/featuresall_residues_4dkl_5c1m_under_cutoff6A-CA/bu72_reseeded_rep_220.datasetloading /home/enf/md_simulations/MOR/h8_reimaged/featuresall_residues_4dkl_5c1m_under_cutoff6A-CA/suf__rep_42.datasetloading /home/enf/md_simulations/MOR/h8_reimaged/featuresall_residues_4dkl_5c1m_under_cutoff6A-CA/suf__rep_128.dataset\n",
      "\n",
      "\n",
      "loading /home/enf/md_simulations/MOR/h8_reimaged/featuresall_residues_4dkl_5c1m_under_cutoff6A-CA/bu72_reseeded_rep_221.datasetloading /home/enf/md_simulations/MOR/h8_reimaged/featuresall_residues_4dkl_5c1m_under_cutoff6A-CA/suf__rep_43.datasetloading /home/enf/md_simulations/MOR/h8_reimaged/featuresall_residues_4dkl_5c1m_under_cutoff6A-CA/suf__rep_129.dataset\n",
      "\n",
      "\n",
      "loading /home/enf/md_simulations/MOR/h8_reimaged/featuresall_residues_4dkl_5c1m_under_cutoff6A-CA/bu72_reseeded_rep_222.datasetloading /home/enf/md_simulations/MOR/h8_reimaged/featuresall_residues_4dkl_5c1m_under_cutoff6A-CA/suf__rep_45.datasetloading /home/enf/md_simulations/MOR/h8_reimaged/featuresall_residues_4dkl_5c1m_under_cutoff6A-CA/suf__rep_13.dataset\n",
      "\n",
      "\n",
      "loading /home/enf/md_simulations/MOR/h8_reimaged/featuresall_residues_4dkl_5c1m_under_cutoff6A-CA/bu72_reseeded_rep_223.datasetloading /home/enf/md_simulations/MOR/h8_reimaged/featuresall_residues_4dkl_5c1m_under_cutoff6A-CA/suf__rep_47.datasetloading /home/enf/md_simulations/MOR/h8_reimaged/featuresall_residues_4dkl_5c1m_under_cutoff6A-CA/suf__rep_130.dataset\n",
      "\n",
      "\n",
      "loading /home/enf/md_simulations/MOR/h8_reimaged/featuresall_residues_4dkl_5c1m_under_cutoff6A-CA/bu72_reseeded_rep_224.datasetloading /home/enf/md_simulations/MOR/h8_reimaged/featuresall_residues_4dkl_5c1m_under_cutoff6A-CA/suf__rep_49.datasetloading /home/enf/md_simulations/MOR/h8_reimaged/featuresall_residues_4dkl_5c1m_under_cutoff6A-CA/suf__rep_131.dataset\n",
      "\n",
      "\n",
      "loading /home/enf/md_simulations/MOR/h8_reimaged/featuresall_residues_4dkl_5c1m_under_cutoff6A-CA/bu72_reseeded_rep_225.datasetloading /home/enf/md_simulations/MOR/h8_reimaged/featuresall_residues_4dkl_5c1m_under_cutoff6A-CA/suf__rep_5.datasetloading /home/enf/md_simulations/MOR/h8_reimaged/featuresall_residues_4dkl_5c1m_under_cutoff6A-CA/suf__rep_133.dataset\n",
      "\n",
      "\n",
      "loading /home/enf/md_simulations/MOR/h8_reimaged/featuresall_residues_4dkl_5c1m_under_cutoff6A-CA/bu72_reseeded_rep_226.datasetloading /home/enf/md_simulations/MOR/h8_reimaged/featuresall_residues_4dkl_5c1m_under_cutoff6A-CA/suf__rep_50.datasetloading /home/enf/md_simulations/MOR/h8_reimaged/featuresall_residues_4dkl_5c1m_under_cutoff6A-CA/suf__rep_134.dataset\n",
      "\n",
      "\n",
      "loading /home/enf/md_simulations/MOR/h8_reimaged/featuresall_residues_4dkl_5c1m_under_cutoff6A-CA/bu72_reseeded_rep_227.datasetloading /home/enf/md_simulations/MOR/h8_reimaged/featuresall_residues_4dkl_5c1m_under_cutoff6A-CA/suf__rep_51.datasetloading /home/enf/md_simulations/MOR/h8_reimaged/featuresall_residues_4dkl_5c1m_under_cutoff6A-CA/suf__rep_136.dataset\n",
      "\n",
      "\n",
      "loading /home/enf/md_simulations/MOR/h8_reimaged/featuresall_residues_4dkl_5c1m_under_cutoff6A-CA/bu72_reseeded_rep_228.datasetloading /home/enf/md_simulations/MOR/h8_reimaged/featuresall_residues_4dkl_5c1m_under_cutoff6A-CA/suf__rep_52.datasetloading /home/enf/md_simulations/MOR/h8_reimaged/featuresall_residues_4dkl_5c1m_under_cutoff6A-CA/suf__rep_137.dataset\n",
      "\n",
      "\n",
      "loading /home/enf/md_simulations/MOR/h8_reimaged/featuresall_residues_4dkl_5c1m_under_cutoff6A-CA/bu72_reseeded_rep_229.datasetloading /home/enf/md_simulations/MOR/h8_reimaged/featuresall_residues_4dkl_5c1m_under_cutoff6A-CA/suf__rep_53.datasetloading /home/enf/md_simulations/MOR/h8_reimaged/featuresall_residues_4dkl_5c1m_under_cutoff6A-CA/suf__rep_138.dataset\n",
      "\n",
      "\n",
      "loading /home/enf/md_simulations/MOR/h8_reimaged/featuresall_residues_4dkl_5c1m_under_cutoff6A-CA/bu72_reseeded_rep_23.datasetloading /home/enf/md_simulations/MOR/h8_reimaged/featuresall_residues_4dkl_5c1m_under_cutoff6A-CA/suf__rep_54.datasetloading /home/enf/md_simulations/MOR/h8_reimaged/featuresall_residues_4dkl_5c1m_under_cutoff6A-CA/suf__rep_139.dataset\n",
      "\n"
     ]
    }
   ],
   "source": [
    "#n_components=9"
   ]
  },
  {
   "cell_type": "code",
   "execution_count": 12,
   "metadata": {
    "collapsed": false,
    "scrolled": true
   },
   "outputs": [
    {
     "name": "stdout",
     "output_type": "stream",
     "text": [
      "\n",
      "loading /home/enf/md_simulations/MOR/h8_reimaged/featuresall_residues_4dkl_5c1m_under_cutoff6A-CA/bu72_reseeded_rep_230.datasetloading /home/enf/md_simulations/MOR/h8_reimaged/featuresall_residues_4dkl_5c1m_under_cutoff6A-CA/suf__rep_55.datasetloading /home/enf/md_simulations/MOR/h8_reimaged/featuresall_residues_4dkl_5c1m_under_cutoff6A-CA/suf__rep_14.dataset\n",
      "\n",
      "\n",
      "loading /home/enf/md_simulations/MOR/h8_reimaged/featuresall_residues_4dkl_5c1m_under_cutoff6A-CA/bu72_reseeded_rep_231.datasetloading /home/enf/md_simulations/MOR/h8_reimaged/featuresall_residues_4dkl_5c1m_under_cutoff6A-CA/suf__rep_56.datasetloading /home/enf/md_simulations/MOR/h8_reimaged/featuresall_residues_4dkl_5c1m_under_cutoff6A-CA/suf__rep_140.dataset\n",
      "\n",
      "\n",
      "loading /home/enf/md_simulations/MOR/h8_reimaged/featuresall_residues_4dkl_5c1m_under_cutoff6A-CA/bu72_reseeded_rep_232.datasetloading /home/enf/md_simulations/MOR/h8_reimaged/featuresall_residues_4dkl_5c1m_under_cutoff6A-CA/suf__rep_57.datasetloading /home/enf/md_simulations/MOR/h8_reimaged/featuresall_residues_4dkl_5c1m_under_cutoff6A-CA/suf__rep_141.dataset\n",
      "\n",
      "\n",
      "loading /home/enf/md_simulations/MOR/h8_reimaged/featuresall_residues_4dkl_5c1m_under_cutoff6A-CA/bu72_reseeded_rep_233.datasetloading /home/enf/md_simulations/MOR/h8_reimaged/featuresall_residues_4dkl_5c1m_under_cutoff6A-CA/suf__rep_58.datasetloading /home/enf/md_simulations/MOR/h8_reimaged/featuresall_residues_4dkl_5c1m_under_cutoff6A-CA/suf__rep_145.dataset\n",
      "\n",
      "\n",
      "loading /home/enf/md_simulations/MOR/h8_reimaged/featuresall_residues_4dkl_5c1m_under_cutoff6A-CA/bu72_reseeded_rep_234.datasetloading /home/enf/md_simulations/MOR/h8_reimaged/featuresall_residues_4dkl_5c1m_under_cutoff6A-CA/suf__rep_59.datasetloading /home/enf/md_simulations/MOR/h8_reimaged/featuresall_residues_4dkl_5c1m_under_cutoff6A-CA/suf__rep_146.dataset\n",
      "\n",
      "\n",
      "loading /home/enf/md_simulations/MOR/h8_reimaged/featuresall_residues_4dkl_5c1m_under_cutoff6A-CA/bu72_reseeded_rep_235.datasetloading /home/enf/md_simulations/MOR/h8_reimaged/featuresall_residues_4dkl_5c1m_under_cutoff6A-CA/suf__rep_60.datasetloading /home/enf/md_simulations/MOR/h8_reimaged/featuresall_residues_4dkl_5c1m_under_cutoff6A-CA/suf__rep_147.dataset\n",
      "\n",
      "\n",
      "loading /home/enf/md_simulations/MOR/h8_reimaged/featuresall_residues_4dkl_5c1m_under_cutoff6A-CA/bu72_reseeded_rep_236.datasetloading /home/enf/md_simulations/MOR/h8_reimaged/featuresall_residues_4dkl_5c1m_under_cutoff6A-CA/suf__rep_61.datasetloading /home/enf/md_simulations/MOR/h8_reimaged/featuresall_residues_4dkl_5c1m_under_cutoff6A-CA/suf__rep_148.dataset\n",
      "\n",
      "\n",
      "loading /home/enf/md_simulations/MOR/h8_reimaged/featuresall_residues_4dkl_5c1m_under_cutoff6A-CA/bu72_reseeded_rep_237.datasetloading /home/enf/md_simulations/MOR/h8_reimaged/featuresall_residues_4dkl_5c1m_under_cutoff6A-CA/suf__rep_62.datasetloading /home/enf/md_simulations/MOR/h8_reimaged/featuresall_residues_4dkl_5c1m_under_cutoff6A-CA/suf__rep_149.dataset\n",
      "\n",
      "\n",
      "loading /home/enf/md_simulations/MOR/h8_reimaged/featuresall_residues_4dkl_5c1m_under_cutoff6A-CA/bu72_reseeded_rep_238.datasetloading /home/enf/md_simulations/MOR/h8_reimaged/featuresall_residues_4dkl_5c1m_under_cutoff6A-CA/suf__rep_63.datasetloading /home/enf/md_simulations/MOR/h8_reimaged/featuresall_residues_4dkl_5c1m_under_cutoff6A-CA/suf__rep_15.dataset\n",
      "\n",
      "\n",
      "loading /home/enf/md_simulations/MOR/h8_reimaged/featuresall_residues_4dkl_5c1m_under_cutoff6A-CA/bu72_reseeded_rep_239.datasetloading /home/enf/md_simulations/MOR/h8_reimaged/featuresall_residues_4dkl_5c1m_under_cutoff6A-CA/suf__rep_64.datasetloading /home/enf/md_simulations/MOR/h8_reimaged/featuresall_residues_4dkl_5c1m_under_cutoff6A-CA/suf__rep_150.dataset\n",
      "\n",
      "\n",
      "loading /home/enf/md_simulations/MOR/h8_reimaged/featuresall_residues_4dkl_5c1m_under_cutoff6A-CA/bu72_reseeded_rep_24.datasetloading /home/enf/md_simulations/MOR/h8_reimaged/featuresall_residues_4dkl_5c1m_under_cutoff6A-CA/suf__rep_65.datasetloading /home/enf/md_simulations/MOR/h8_reimaged/featuresall_residues_4dkl_5c1m_under_cutoff6A-CA/suf__rep_151.dataset\n",
      "\n",
      "\n",
      "loading /home/enf/md_simulations/MOR/h8_reimaged/featuresall_residues_4dkl_5c1m_under_cutoff6A-CA/bu72_reseeded_rep_240.datasetloading /home/enf/md_simulations/MOR/h8_reimaged/featuresall_residues_4dkl_5c1m_under_cutoff6A-CA/suf__rep_66.datasetloading /home/enf/md_simulations/MOR/h8_reimaged/featuresall_residues_4dkl_5c1m_under_cutoff6A-CA/suf__rep_152.dataset\n",
      "\n",
      "\n",
      "loading /home/enf/md_simulations/MOR/h8_reimaged/featuresall_residues_4dkl_5c1m_under_cutoff6A-CA/bu72_reseeded_rep_241.datasetloading /home/enf/md_simulations/MOR/h8_reimaged/featuresall_residues_4dkl_5c1m_under_cutoff6A-CA/suf__rep_67.datasetloading /home/enf/md_simulations/MOR/h8_reimaged/featuresall_residues_4dkl_5c1m_under_cutoff6A-CA/suf__rep_153.dataset\n",
      "\n",
      "\n",
      "loading /home/enf/md_simulations/MOR/h8_reimaged/featuresall_residues_4dkl_5c1m_under_cutoff6A-CA/bu72_reseeded_rep_242.datasetloading /home/enf/md_simulations/MOR/h8_reimaged/featuresall_residues_4dkl_5c1m_under_cutoff6A-CA/suf__rep_68.datasetloading /home/enf/md_simulations/MOR/h8_reimaged/featuresall_residues_4dkl_5c1m_under_cutoff6A-CA/suf__rep_154.dataset\n",
      "\n",
      "\n",
      "loading /home/enf/md_simulations/MOR/h8_reimaged/featuresall_residues_4dkl_5c1m_under_cutoff6A-CA/bu72_reseeded_rep_243.datasetloading /home/enf/md_simulations/MOR/h8_reimaged/featuresall_residues_4dkl_5c1m_under_cutoff6A-CA/suf__rep_69.datasetloading /home/enf/md_simulations/MOR/h8_reimaged/featuresall_residues_4dkl_5c1m_under_cutoff6A-CA/suf__rep_155.dataset\n",
      "\n",
      "\n",
      "loading /home/enf/md_simulations/MOR/h8_reimaged/featuresall_residues_4dkl_5c1m_under_cutoff6A-CA/bu72_reseeded_rep_244.datasetloading /home/enf/md_simulations/MOR/h8_reimaged/featuresall_residues_4dkl_5c1m_under_cutoff6A-CA/suf__rep_7.datasetloading /home/enf/md_simulations/MOR/h8_reimaged/featuresall_residues_4dkl_5c1m_under_cutoff6A-CA/suf__rep_156.dataset\n",
      "\n",
      "\n",
      "loading /home/enf/md_simulations/MOR/h8_reimaged/featuresall_residues_4dkl_5c1m_under_cutoff6A-CA/bu72_reseeded_rep_245.datasetloading /home/enf/md_simulations/MOR/h8_reimaged/featuresall_residues_4dkl_5c1m_under_cutoff6A-CA/suf__rep_70.datasetloading /home/enf/md_simulations/MOR/h8_reimaged/featuresall_residues_4dkl_5c1m_under_cutoff6A-CA/suf__rep_157.dataset\n",
      "\n",
      "\n",
      "loading /home/enf/md_simulations/MOR/h8_reimaged/featuresall_residues_4dkl_5c1m_under_cutoff6A-CA/bu72_reseeded_rep_246.datasetloading /home/enf/md_simulations/MOR/h8_reimaged/featuresall_residues_4dkl_5c1m_under_cutoff6A-CA/suf__rep_71.datasetloading /home/enf/md_simulations/MOR/h8_reimaged/featuresall_residues_4dkl_5c1m_under_cutoff6A-CA/suf__rep_158.dataset\n",
      "\n",
      "\n",
      "loading /home/enf/md_simulations/MOR/h8_reimaged/featuresall_residues_4dkl_5c1m_under_cutoff6A-CA/bu72_reseeded_rep_247.datasetloading /home/enf/md_simulations/MOR/h8_reimaged/featuresall_residues_4dkl_5c1m_under_cutoff6A-CA/suf__rep_72.datasetloading /home/enf/md_simulations/MOR/h8_reimaged/featuresall_residues_4dkl_5c1m_under_cutoff6A-CA/suf__rep_159.dataset\n",
      "\n",
      "\n",
      "loading /home/enf/md_simulations/MOR/h8_reimaged/featuresall_residues_4dkl_5c1m_under_cutoff6A-CA/bu72_reseeded_rep_248.datasetloading /home/enf/md_simulations/MOR/h8_reimaged/featuresall_residues_4dkl_5c1m_under_cutoff6A-CA/suf__rep_73.datasetloading /home/enf/md_simulations/MOR/h8_reimaged/featuresall_residues_4dkl_5c1m_under_cutoff6A-CA/suf__rep_16.dataset\n",
      "\n",
      "\n",
      "loading /home/enf/md_simulations/MOR/h8_reimaged/featuresall_residues_4dkl_5c1m_under_cutoff6A-CA/bu72_reseeded_rep_249.datasetloading /home/enf/md_simulations/MOR/h8_reimaged/featuresall_residues_4dkl_5c1m_under_cutoff6A-CA/suf__rep_74.datasetloading /home/enf/md_simulations/MOR/h8_reimaged/featuresall_residues_4dkl_5c1m_under_cutoff6A-CA/suf__rep_160.dataset\n",
      "\n",
      "\n",
      "loading /home/enf/md_simulations/MOR/h8_reimaged/featuresall_residues_4dkl_5c1m_under_cutoff6A-CA/bu72_reseeded_rep_25.datasetloading /home/enf/md_simulations/MOR/h8_reimaged/featuresall_residues_4dkl_5c1m_under_cutoff6A-CA/suf__rep_75.datasetloading /home/enf/md_simulations/MOR/h8_reimaged/featuresall_residues_4dkl_5c1m_under_cutoff6A-CA/suf__rep_161.dataset\n",
      "\n",
      "\n",
      "loading /home/enf/md_simulations/MOR/h8_reimaged/featuresall_residues_4dkl_5c1m_under_cutoff6A-CA/bu72_reseeded_rep_250.datasetloading /home/enf/md_simulations/MOR/h8_reimaged/featuresall_residues_4dkl_5c1m_under_cutoff6A-CA/suf__rep_76.datasetloading /home/enf/md_simulations/MOR/h8_reimaged/featuresall_residues_4dkl_5c1m_under_cutoff6A-CA/suf__rep_162.dataset\n",
      "\n",
      "\n",
      "loading /home/enf/md_simulations/MOR/h8_reimaged/featuresall_residues_4dkl_5c1m_under_cutoff6A-CA/bu72_reseeded_rep_251.datasetloading /home/enf/md_simulations/MOR/h8_reimaged/featuresall_residues_4dkl_5c1m_under_cutoff6A-CA/suf__rep_77.datasetloading /home/enf/md_simulations/MOR/h8_reimaged/featuresall_residues_4dkl_5c1m_under_cutoff6A-CA/suf__rep_163.dataset\n",
      "\n",
      "\n",
      "loading /home/enf/md_simulations/MOR/h8_reimaged/featuresall_residues_4dkl_5c1m_under_cutoff6A-CA/bu72_reseeded_rep_252.datasetloading /home/enf/md_simulations/MOR/h8_reimaged/featuresall_residues_4dkl_5c1m_under_cutoff6A-CA/suf__rep_78.datasetloading /home/enf/md_simulations/MOR/h8_reimaged/featuresall_residues_4dkl_5c1m_under_cutoff6A-CA/suf__rep_164.dataset\n",
      "\n",
      "\n",
      "loading /home/enf/md_simulations/MOR/h8_reimaged/featuresall_residues_4dkl_5c1m_under_cutoff6A-CA/bu72_reseeded_rep_253.datasetloading /home/enf/md_simulations/MOR/h8_reimaged/featuresall_residues_4dkl_5c1m_under_cutoff6A-CA/suf__rep_79.datasetloading /home/enf/md_simulations/MOR/h8_reimaged/featuresall_residues_4dkl_5c1m_under_cutoff6A-CA/suf__rep_165.dataset\n",
      "\n",
      "\n",
      "loading /home/enf/md_simulations/MOR/h8_reimaged/featuresall_residues_4dkl_5c1m_under_cutoff6A-CA/bu72_reseeded_rep_254.datasetloading /home/enf/md_simulations/MOR/h8_reimaged/featuresall_residues_4dkl_5c1m_under_cutoff6A-CA/suf__rep_8.datasetloading /home/enf/md_simulations/MOR/h8_reimaged/featuresall_residues_4dkl_5c1m_under_cutoff6A-CA/suf__rep_166.dataset\n",
      "\n",
      "\n",
      "loading /home/enf/md_simulations/MOR/h8_reimaged/featuresall_residues_4dkl_5c1m_under_cutoff6A-CA/bu72_reseeded_rep_255.datasetloading /home/enf/md_simulations/MOR/h8_reimaged/featuresall_residues_4dkl_5c1m_under_cutoff6A-CA/suf__rep_80.datasetloading /home/enf/md_simulations/MOR/h8_reimaged/featuresall_residues_4dkl_5c1m_under_cutoff6A-CA/suf__rep_167.dataset\n",
      "\n",
      "\n",
      "loading /home/enf/md_simulations/MOR/h8_reimaged/featuresall_residues_4dkl_5c1m_under_cutoff6A-CA/bu72_reseeded_rep_256.datasetloading /home/enf/md_simulations/MOR/h8_reimaged/featuresall_residues_4dkl_5c1m_under_cutoff6A-CA/suf__rep_81.datasetloading /home/enf/md_simulations/MOR/h8_reimaged/featuresall_residues_4dkl_5c1m_under_cutoff6A-CA/suf__rep_168.dataset\n",
      "\n",
      "\n",
      "loading /home/enf/md_simulations/MOR/h8_reimaged/featuresall_residues_4dkl_5c1m_under_cutoff6A-CA/bu72_reseeded_rep_26.datasetloading /home/enf/md_simulations/MOR/h8_reimaged/featuresall_residues_4dkl_5c1m_under_cutoff6A-CA/suf__rep_82.datasetloading /home/enf/md_simulations/MOR/h8_reimaged/featuresall_residues_4dkl_5c1m_under_cutoff6A-CA/suf__rep_169.dataset\n",
      "\n",
      "\n",
      "loading /home/enf/md_simulations/MOR/h8_reimaged/featuresall_residues_4dkl_5c1m_under_cutoff6A-CA/bu72_reseeded_rep_27.datasetloading /home/enf/md_simulations/MOR/h8_reimaged/featuresall_residues_4dkl_5c1m_under_cutoff6A-CA/suf__rep_83.datasetloading /home/enf/md_simulations/MOR/h8_reimaged/featuresall_residues_4dkl_5c1m_under_cutoff6A-CA/suf__rep_17.dataset\n",
      "\n",
      "\n",
      "loading /home/enf/md_simulations/MOR/h8_reimaged/featuresall_residues_4dkl_5c1m_under_cutoff6A-CA/bu72_reseeded_rep_28.datasetloading /home/enf/md_simulations/MOR/h8_reimaged/featuresall_residues_4dkl_5c1m_under_cutoff6A-CA/suf__rep_84.datasetloading /home/enf/md_simulations/MOR/h8_reimaged/featuresall_residues_4dkl_5c1m_under_cutoff6A-CA/suf__rep_170.dataset\n",
      "\n",
      "\n",
      "loading /home/enf/md_simulations/MOR/h8_reimaged/featuresall_residues_4dkl_5c1m_under_cutoff6A-CA/bu72_reseeded_rep_29.datasetloading /home/enf/md_simulations/MOR/h8_reimaged/featuresall_residues_4dkl_5c1m_under_cutoff6A-CA/suf__rep_85.datasetloading /home/enf/md_simulations/MOR/h8_reimaged/featuresall_residues_4dkl_5c1m_under_cutoff6A-CA/suf__rep_171.dataset\n",
      "\n",
      "\n",
      "loading /home/enf/md_simulations/MOR/h8_reimaged/featuresall_residues_4dkl_5c1m_under_cutoff6A-CA/bu72_reseeded_rep_3.datasetloading /home/enf/md_simulations/MOR/h8_reimaged/featuresall_residues_4dkl_5c1m_under_cutoff6A-CA/suf__rep_86.datasetloading /home/enf/md_simulations/MOR/h8_reimaged/featuresall_residues_4dkl_5c1m_under_cutoff6A-CA/suf__rep_172.dataset\n",
      "\n",
      "\n",
      "loading /home/enf/md_simulations/MOR/h8_reimaged/featuresall_residues_4dkl_5c1m_under_cutoff6A-CA/bu72_reseeded_rep_30.datasetloading /home/enf/md_simulations/MOR/h8_reimaged/featuresall_residues_4dkl_5c1m_under_cutoff6A-CA/suf__rep_87.datasetloading /home/enf/md_simulations/MOR/h8_reimaged/featuresall_residues_4dkl_5c1m_under_cutoff6A-CA/suf__rep_173.dataset\n",
      "\n",
      "\n",
      "loading /home/enf/md_simulations/MOR/h8_reimaged/featuresall_residues_4dkl_5c1m_under_cutoff6A-CA/bu72_reseeded_rep_31.datasetloading /home/enf/md_simulations/MOR/h8_reimaged/featuresall_residues_4dkl_5c1m_under_cutoff6A-CA/suf__rep_88.datasetloading /home/enf/md_simulations/MOR/h8_reimaged/featuresall_residues_4dkl_5c1m_under_cutoff6A-CA/suf__rep_174.dataset\n",
      "\n",
      "\n",
      "loading /home/enf/md_simulations/MOR/h8_reimaged/featuresall_residues_4dkl_5c1m_under_cutoff6A-CA/bu72_reseeded_rep_32.datasetloading /home/enf/md_simulations/MOR/h8_reimaged/featuresall_residues_4dkl_5c1m_under_cutoff6A-CA/suf__rep_89.datasetloading /home/enf/md_simulations/MOR/h8_reimaged/featuresall_residues_4dkl_5c1m_under_cutoff6A-CA/suf__rep_175.dataset\n",
      "\n",
      "\n",
      "loading /home/enf/md_simulations/MOR/h8_reimaged/featuresall_residues_4dkl_5c1m_under_cutoff6A-CA/bu72_reseeded_rep_33.datasetloading /home/enf/md_simulations/MOR/h8_reimaged/featuresall_residues_4dkl_5c1m_under_cutoff6A-CA/suf__rep_9.datasetloading /home/enf/md_simulations/MOR/h8_reimaged/featuresall_residues_4dkl_5c1m_under_cutoff6A-CA/suf__rep_176.dataset\n",
      "\n",
      "\n",
      "loading /home/enf/md_simulations/MOR/h8_reimaged/featuresall_residues_4dkl_5c1m_under_cutoff6A-CA/bu72_reseeded_rep_34.datasetloading /home/enf/md_simulations/MOR/h8_reimaged/featuresall_residues_4dkl_5c1m_under_cutoff6A-CA/suf__rep_90.datasetloading /home/enf/md_simulations/MOR/h8_reimaged/featuresall_residues_4dkl_5c1m_under_cutoff6A-CA/suf__rep_177.dataset\n",
      "\n",
      "\n",
      "loading /home/enf/md_simulations/MOR/h8_reimaged/featuresall_residues_4dkl_5c1m_under_cutoff6A-CA/bu72_reseeded_rep_35.datasetloading /home/enf/md_simulations/MOR/h8_reimaged/featuresall_residues_4dkl_5c1m_under_cutoff6A-CA/suf__rep_91.datasetloading /home/enf/md_simulations/MOR/h8_reimaged/featuresall_residues_4dkl_5c1m_under_cutoff6A-CA/suf__rep_178.dataset\n",
      "\n",
      "\n",
      "loading /home/enf/md_simulations/MOR/h8_reimaged/featuresall_residues_4dkl_5c1m_under_cutoff6A-CA/bu72_reseeded_rep_36.datasetloading /home/enf/md_simulations/MOR/h8_reimaged/featuresall_residues_4dkl_5c1m_under_cutoff6A-CA/suf__rep_92.datasetloading /home/enf/md_simulations/MOR/h8_reimaged/featuresall_residues_4dkl_5c1m_under_cutoff6A-CA/suf__rep_179.dataset\n",
      "\n",
      "\n",
      "loading /home/enf/md_simulations/MOR/h8_reimaged/featuresall_residues_4dkl_5c1m_under_cutoff6A-CA/bu72_reseeded_rep_37.datasetloading /home/enf/md_simulations/MOR/h8_reimaged/featuresall_residues_4dkl_5c1m_under_cutoff6A-CA/suf__rep_93.datasetloading /home/enf/md_simulations/MOR/h8_reimaged/featuresall_residues_4dkl_5c1m_under_cutoff6A-CA/suf__rep_18.dataset\n",
      "\n",
      "\n",
      "loading /home/enf/md_simulations/MOR/h8_reimaged/featuresall_residues_4dkl_5c1m_under_cutoff6A-CA/bu72_reseeded_rep_38.datasetloading /home/enf/md_simulations/MOR/h8_reimaged/featuresall_residues_4dkl_5c1m_under_cutoff6A-CA/suf__rep_94.datasetloading /home/enf/md_simulations/MOR/h8_reimaged/featuresall_residues_4dkl_5c1m_under_cutoff6A-CA/suf__rep_180.dataset"
     ]
    },
    {
     "data": {
      "text/plain": [
       "array([ 4116.81531152,  3111.11182874,  1140.79128629,   927.18463339,\n",
       "         885.74137295,   640.02752281,   488.12641375,   442.93681916,\n",
       "         435.55730434,   357.57277627])"
      ]
     },
     "execution_count": 12,
     "metadata": {},
     "output_type": "execute_result"
    },
    {
     "name": "stdout",
     "output_type": "stream",
     "text": [
      "\n",
      "\n",
      "\n",
      "loading /home/enf/md_simulations/MOR/h8_reimaged/featuresall_residues_4dkl_5c1m_under_cutoff6A-CA/bu72_reseeded_rep_39.datasetloading /home/enf/md_simulations/MOR/h8_reimaged/featuresall_residues_4dkl_5c1m_under_cutoff6A-CA/suf__rep_95.datasetloading /home/enf/md_simulations/MOR/h8_reimaged/featuresall_residues_4dkl_5c1m_under_cutoff6A-CA/suf__rep_181.dataset\n",
      "\n",
      "\n",
      "loading /home/enf/md_simulations/MOR/h8_reimaged/featuresall_residues_4dkl_5c1m_under_cutoff6A-CA/bu72_reseeded_rep_4.datasetloading /home/enf/md_simulations/MOR/h8_reimaged/featuresall_residues_4dkl_5c1m_under_cutoff6A-CA/suf__rep_96.datasetloading /home/enf/md_simulations/MOR/h8_reimaged/featuresall_residues_4dkl_5c1m_under_cutoff6A-CA/suf__rep_182.dataset\n",
      "\n",
      "\n",
      "loading /home/enf/md_simulations/MOR/h8_reimaged/featuresall_residues_4dkl_5c1m_under_cutoff6A-CA/bu72_reseeded_rep_40.datasetloading /home/enf/md_simulations/MOR/h8_reimaged/featuresall_residues_4dkl_5c1m_under_cutoff6A-CA/suf__rep_97.datasetloading /home/enf/md_simulations/MOR/h8_reimaged/featuresall_residues_4dkl_5c1m_under_cutoff6A-CA/suf__rep_183.dataset\n",
      "\n",
      "\n",
      "loading /home/enf/md_simulations/MOR/h8_reimaged/featuresall_residues_4dkl_5c1m_under_cutoff6A-CA/bu72_reseeded_rep_41.datasetloading /home/enf/md_simulations/MOR/h8_reimaged/featuresall_residues_4dkl_5c1m_under_cutoff6A-CA/suf__rep_98.datasetloading /home/enf/md_simulations/MOR/h8_reimaged/featuresall_residues_4dkl_5c1m_under_cutoff6A-CA/suf__rep_184.dataset\n",
      "\n",
      "\n",
      "loading /home/enf/md_simulations/MOR/h8_reimaged/featuresall_residues_4dkl_5c1m_under_cutoff6A-CA/bu72_reseeded_rep_42.datasetloading /home/enf/md_simulations/MOR/h8_reimaged/featuresall_residues_4dkl_5c1m_under_cutoff6A-CA/suf__rep_99.datasetloading /home/enf/md_simulations/MOR/h8_reimaged/featuresall_residues_4dkl_5c1m_under_cutoff6A-CA/suf__rep_185.dataset\n",
      "\n",
      "\n",
      "loading /home/enf/md_simulations/MOR/h8_reimaged/featuresall_residues_4dkl_5c1m_under_cutoff6A-CA/bu72_reseeded_rep_43.datasetloading /home/enf/md_simulations/MOR/h8_reimaged/featuresall_residues_4dkl_5c1m_under_cutoff6A-CA/suf_reseeded_p_rep_257.datasetloading /home/enf/md_simulations/MOR/h8_reimaged/featuresall_residues_4dkl_5c1m_under_cutoff6A-CA/suf__rep_186.dataset\n",
      "\n",
      "\n",
      "loading /home/enf/md_simulations/MOR/h8_reimaged/featuresall_residues_4dkl_5c1m_under_cutoff6A-CA/bu72_reseeded_rep_44.datasetloading /home/enf/md_simulations/MOR/h8_reimaged/featuresall_residues_4dkl_5c1m_under_cutoff6A-CA/suf_reseeded_p_rep_258.datasetloading /home/enf/md_simulations/MOR/h8_reimaged/featuresall_residues_4dkl_5c1m_under_cutoff6A-CA/suf__rep_187.dataset\n",
      "\n",
      "\n",
      "loading /home/enf/md_simulations/MOR/h8_reimaged/featuresall_residues_4dkl_5c1m_under_cutoff6A-CA/bu72_reseeded_rep_45.datasetloading /home/enf/md_simulations/MOR/h8_reimaged/featuresall_residues_4dkl_5c1m_under_cutoff6A-CA/suf_reseeded_p_rep_259.datasetloading /home/enf/md_simulations/MOR/h8_reimaged/featuresall_residues_4dkl_5c1m_under_cutoff6A-CA/suf__rep_188.dataset\n",
      "\n",
      "\n",
      "loading /home/enf/md_simulations/MOR/h8_reimaged/featuresall_residues_4dkl_5c1m_under_cutoff6A-CA/bu72_reseeded_rep_46.datasetloading /home/enf/md_simulations/MOR/h8_reimaged/featuresall_residues_4dkl_5c1m_under_cutoff6A-CA/suf_reseeded_p_rep_260.datasetloading /home/enf/md_simulations/MOR/h8_reimaged/featuresall_residues_4dkl_5c1m_under_cutoff6A-CA/suf__rep_189.dataset\n",
      "\n",
      "\n",
      "loading /home/enf/md_simulations/MOR/h8_reimaged/featuresall_residues_4dkl_5c1m_under_cutoff6A-CA/bu72_reseeded_rep_47.datasetloading /home/enf/md_simulations/MOR/h8_reimaged/featuresall_residues_4dkl_5c1m_under_cutoff6A-CA/suf_reseeded_p_rep_261.datasetloading /home/enf/md_simulations/MOR/h8_reimaged/featuresall_residues_4dkl_5c1m_under_cutoff6A-CA/suf__rep_19.dataset\n",
      "\n",
      "\n",
      "loading /home/enf/md_simulations/MOR/h8_reimaged/featuresall_residues_4dkl_5c1m_under_cutoff6A-CA/bu72_reseeded_rep_48.datasetloading /home/enf/md_simulations/MOR/h8_reimaged/featuresall_residues_4dkl_5c1m_under_cutoff6A-CA/suf_reseeded_p_rep_262.datasetloading /home/enf/md_simulations/MOR/h8_reimaged/featuresall_residues_4dkl_5c1m_under_cutoff6A-CA/suf__rep_190.dataset\n",
      "\n",
      "\n",
      "loading /home/enf/md_simulations/MOR/h8_reimaged/featuresall_residues_4dkl_5c1m_under_cutoff6A-CA/bu72_reseeded_rep_49.datasetloading /home/enf/md_simulations/MOR/h8_reimaged/featuresall_residues_4dkl_5c1m_under_cutoff6A-CA/suf_reseeded_p_rep_263.datasetloading /home/enf/md_simulations/MOR/h8_reimaged/featuresall_residues_4dkl_5c1m_under_cutoff6A-CA/suf__rep_191.dataset\n",
      "\n",
      "\n",
      "loading /home/enf/md_simulations/MOR/h8_reimaged/featuresall_residues_4dkl_5c1m_under_cutoff6A-CA/bu72_reseeded_rep_5.datasetloading /home/enf/md_simulations/MOR/h8_reimaged/featuresall_residues_4dkl_5c1m_under_cutoff6A-CA/suf_reseeded_p_rep_264.datasetloading /home/enf/md_simulations/MOR/h8_reimaged/featuresall_residues_4dkl_5c1m_under_cutoff6A-CA/suf__rep_192.dataset\n",
      "\n",
      "\n",
      "loading /home/enf/md_simulations/MOR/h8_reimaged/featuresall_residues_4dkl_5c1m_under_cutoff6A-CA/bu72_reseeded_rep_50.datasetloading /home/enf/md_simulations/MOR/h8_reimaged/featuresall_residues_4dkl_5c1m_under_cutoff6A-CA/suf_reseeded_p_rep_265.datasetloading /home/enf/md_simulations/MOR/h8_reimaged/featuresall_residues_4dkl_5c1m_under_cutoff6A-CA/suf__rep_193.dataset\n",
      "\n",
      "\n",
      "loading /home/enf/md_simulations/MOR/h8_reimaged/featuresall_residues_4dkl_5c1m_under_cutoff6A-CA/bu72_reseeded_rep_51.datasetloading /home/enf/md_simulations/MOR/h8_reimaged/featuresall_residues_4dkl_5c1m_under_cutoff6A-CA/suf_reseeded_p_rep_266.datasetloading /home/enf/md_simulations/MOR/h8_reimaged/featuresall_residues_4dkl_5c1m_under_cutoff6A-CA/suf__rep_194.dataset\n",
      "\n",
      "\n",
      "loading /home/enf/md_simulations/MOR/h8_reimaged/featuresall_residues_4dkl_5c1m_under_cutoff6A-CA/bu72_reseeded_rep_52.datasetloading /home/enf/md_simulations/MOR/h8_reimaged/featuresall_residues_4dkl_5c1m_under_cutoff6A-CA/suf_reseeded_p_rep_267.datasetloading /home/enf/md_simulations/MOR/h8_reimaged/featuresall_residues_4dkl_5c1m_under_cutoff6A-CA/suf__rep_195.dataset\n",
      "\n",
      "\n",
      "loading /home/enf/md_simulations/MOR/h8_reimaged/featuresall_residues_4dkl_5c1m_under_cutoff6A-CA/bu72_reseeded_rep_53.datasetloading /home/enf/md_simulations/MOR/h8_reimaged/featuresall_residues_4dkl_5c1m_under_cutoff6A-CA/suf_reseeded_p_rep_268.datasetloading /home/enf/md_simulations/MOR/h8_reimaged/featuresall_residues_4dkl_5c1m_under_cutoff6A-CA/suf__rep_196.dataset\n",
      "\n",
      "\n",
      "loading /home/enf/md_simulations/MOR/h8_reimaged/featuresall_residues_4dkl_5c1m_under_cutoff6A-CA/bu72_reseeded_rep_54.datasetloading /home/enf/md_simulations/MOR/h8_reimaged/featuresall_residues_4dkl_5c1m_under_cutoff6A-CA/suf_reseeded_p_rep_269.datasetloading /home/enf/md_simulations/MOR/h8_reimaged/featuresall_residues_4dkl_5c1m_under_cutoff6A-CA/suf__rep_197.dataset\n",
      "\n",
      "\n",
      "loading /home/enf/md_simulations/MOR/h8_reimaged/featuresall_residues_4dkl_5c1m_under_cutoff6A-CA/bu72_reseeded_rep_55.datasetloading /home/enf/md_simulations/MOR/h8_reimaged/featuresall_residues_4dkl_5c1m_under_cutoff6A-CA/suf_reseeded_p_rep_270.datasetloading /home/enf/md_simulations/MOR/h8_reimaged/featuresall_residues_4dkl_5c1m_under_cutoff6A-CA/suf__rep_198.dataset\n",
      "\n",
      "\n",
      "loading /home/enf/md_simulations/MOR/h8_reimaged/featuresall_residues_4dkl_5c1m_under_cutoff6A-CA/bu72_reseeded_rep_56.datasetloading /home/enf/md_simulations/MOR/h8_reimaged/featuresall_residues_4dkl_5c1m_under_cutoff6A-CA/suf_reseeded_p_rep_271.datasetloading /home/enf/md_simulations/MOR/h8_reimaged/featuresall_residues_4dkl_5c1m_under_cutoff6A-CA/suf__rep_199.dataset\n",
      "\n",
      "\n",
      "loading /home/enf/md_simulations/MOR/h8_reimaged/featuresall_residues_4dkl_5c1m_under_cutoff6A-CA/bu72_reseeded_rep_57.datasetloading /home/enf/md_simulations/MOR/h8_reimaged/featuresall_residues_4dkl_5c1m_under_cutoff6A-CA/suf_reseeded_p_rep_272.datasetloading /home/enf/md_simulations/MOR/h8_reimaged/featuresall_residues_4dkl_5c1m_under_cutoff6A-CA/suf__rep_2.dataset\n",
      "\n",
      "\n",
      "loading /home/enf/md_simulations/MOR/h8_reimaged/featuresall_residues_4dkl_5c1m_under_cutoff6A-CA/bu72_reseeded_rep_58.datasetloading /home/enf/md_simulations/MOR/h8_reimaged/featuresall_residues_4dkl_5c1m_under_cutoff6A-CA/suf_reseeded_p_rep_273.datasetloading /home/enf/md_simulations/MOR/h8_reimaged/featuresall_residues_4dkl_5c1m_under_cutoff6A-CA/suf__rep_20.dataset\n",
      "\n",
      "\n",
      "loading /home/enf/md_simulations/MOR/h8_reimaged/featuresall_residues_4dkl_5c1m_under_cutoff6A-CA/bu72_reseeded_rep_59.datasetloading /home/enf/md_simulations/MOR/h8_reimaged/featuresall_residues_4dkl_5c1m_under_cutoff6A-CA/suf_reseeded_p_rep_274.datasetloading /home/enf/md_simulations/MOR/h8_reimaged/featuresall_residues_4dkl_5c1m_under_cutoff6A-CA/suf__rep_200.dataset\n",
      "\n",
      "\n",
      "loading /home/enf/md_simulations/MOR/h8_reimaged/featuresall_residues_4dkl_5c1m_under_cutoff6A-CA/bu72_reseeded_rep_6.datasetloading /home/enf/md_simulations/MOR/h8_reimaged/featuresall_residues_4dkl_5c1m_under_cutoff6A-CA/suf_reseeded_p_rep_275.datasetloading /home/enf/md_simulations/MOR/h8_reimaged/featuresall_residues_4dkl_5c1m_under_cutoff6A-CA/suf__rep_201.dataset\n",
      "\n",
      "\n",
      "loading /home/enf/md_simulations/MOR/h8_reimaged/featuresall_residues_4dkl_5c1m_under_cutoff6A-CA/bu72_reseeded_rep_60.datasetloading /home/enf/md_simulations/MOR/h8_reimaged/featuresall_residues_4dkl_5c1m_under_cutoff6A-CA/suf_reseeded_p_rep_276.datasetloading /home/enf/md_simulations/MOR/h8_reimaged/featuresall_residues_4dkl_5c1m_under_cutoff6A-CA/suf__rep_202.dataset\n",
      "\n",
      "\n",
      "loading /home/enf/md_simulations/MOR/h8_reimaged/featuresall_residues_4dkl_5c1m_under_cutoff6A-CA/bu72_reseeded_rep_61.datasetloading /home/enf/md_simulations/MOR/h8_reimaged/featuresall_residues_4dkl_5c1m_under_cutoff6A-CA/suf_reseeded_p_rep_277.datasetloading /home/enf/md_simulations/MOR/h8_reimaged/featuresall_residues_4dkl_5c1m_under_cutoff6A-CA/suf__rep_203.dataset\n",
      "\n",
      "\n",
      "loading /home/enf/md_simulations/MOR/h8_reimaged/featuresall_residues_4dkl_5c1m_under_cutoff6A-CA/bu72_reseeded_rep_62.datasetloading /home/enf/md_simulations/MOR/h8_reimaged/featuresall_residues_4dkl_5c1m_under_cutoff6A-CA/suf_reseeded_p_rep_278.datasetloading /home/enf/md_simulations/MOR/h8_reimaged/featuresall_residues_4dkl_5c1m_under_cutoff6A-CA/suf__rep_204.dataset\n",
      "\n",
      "\n",
      "loading /home/enf/md_simulations/MOR/h8_reimaged/featuresall_residues_4dkl_5c1m_under_cutoff6A-CA/bu72_reseeded_rep_63.datasetloading /home/enf/md_simulations/MOR/h8_reimaged/featuresall_residues_4dkl_5c1m_under_cutoff6A-CA/suf_reseeded_p_rep_279.datasetloading /home/enf/md_simulations/MOR/h8_reimaged/featuresall_residues_4dkl_5c1m_under_cutoff6A-CA/suf__rep_205.dataset\n",
      "\n",
      "\n",
      "loading /home/enf/md_simulations/MOR/h8_reimaged/featuresall_residues_4dkl_5c1m_under_cutoff6A-CA/bu72_reseeded_rep_64.datasetloading /home/enf/md_simulations/MOR/h8_reimaged/featuresall_residues_4dkl_5c1m_under_cutoff6A-CA/suf_reseeded_p_rep_280.datasetloading /home/enf/md_simulations/MOR/h8_reimaged/featuresall_residues_4dkl_5c1m_under_cutoff6A-CA/suf__rep_206.dataset\n",
      "\n",
      "\n",
      "loading /home/enf/md_simulations/MOR/h8_reimaged/featuresall_residues_4dkl_5c1m_under_cutoff6A-CA/bu72_reseeded_rep_65.datasetloading /home/enf/md_simulations/MOR/h8_reimaged/featuresall_residues_4dkl_5c1m_under_cutoff6A-CA/suf_reseeded_p_rep_281.datasetloading /home/enf/md_simulations/MOR/h8_reimaged/featuresall_residues_4dkl_5c1m_under_cutoff6A-CA/suf__rep_207.dataset\n",
      "\n",
      "\n",
      "loading /home/enf/md_simulations/MOR/h8_reimaged/featuresall_residues_4dkl_5c1m_under_cutoff6A-CA/bu72_reseeded_rep_66.datasetloading /home/enf/md_simulations/MOR/h8_reimaged/featuresall_residues_4dkl_5c1m_under_cutoff6A-CA/suf_reseeded_p_rep_282.datasetloading /home/enf/md_simulations/MOR/h8_reimaged/featuresall_residues_4dkl_5c1m_under_cutoff6A-CA/suf__rep_208.dataset\n",
      "\n",
      "\n",
      "loading /home/enf/md_simulations/MOR/h8_reimaged/featuresall_residues_4dkl_5c1m_under_cutoff6A-CA/bu72_reseeded_rep_67.datasetloading /home/enf/md_simulations/MOR/h8_reimaged/featuresall_residues_4dkl_5c1m_under_cutoff6A-CA/suf_reseeded_p_rep_283.datasetloading /home/enf/md_simulations/MOR/h8_reimaged/featuresall_residues_4dkl_5c1m_under_cutoff6A-CA/suf__rep_209.dataset\n",
      "\n",
      "\n",
      "loading /home/enf/md_simulations/MOR/h8_reimaged/featuresall_residues_4dkl_5c1m_under_cutoff6A-CA/bu72_reseeded_rep_68.datasetloading /home/enf/md_simulations/MOR/h8_reimaged/featuresall_residues_4dkl_5c1m_under_cutoff6A-CA/suf_reseeded_p_rep_284.datasetloading /home/enf/md_simulations/MOR/h8_reimaged/featuresall_residues_4dkl_5c1m_under_cutoff6A-CA/suf__rep_21.dataset\n",
      "\n",
      "\n",
      "loading /home/enf/md_simulations/MOR/h8_reimaged/featuresall_residues_4dkl_5c1m_under_cutoff6A-CA/bu72_reseeded_rep_69.datasetloading /home/enf/md_simulations/MOR/h8_reimaged/featuresall_residues_4dkl_5c1m_under_cutoff6A-CA/suf_reseeded_p_rep_285.datasetloading /home/enf/md_simulations/MOR/h8_reimaged/featuresall_residues_4dkl_5c1m_under_cutoff6A-CA/suf__rep_210.dataset\n",
      "\n",
      "\n",
      "loading /home/enf/md_simulations/MOR/h8_reimaged/featuresall_residues_4dkl_5c1m_under_cutoff6A-CA/bu72_reseeded_rep_7.datasetloading /home/enf/md_simulations/MOR/h8_reimaged/featuresall_residues_4dkl_5c1m_under_cutoff6A-CA/suf_reseeded_p_rep_286.datasetloading /home/enf/md_simulations/MOR/h8_reimaged/featuresall_residues_4dkl_5c1m_under_cutoff6A-CA/suf__rep_211.dataset\n",
      "\n",
      "\n",
      "loading /home/enf/md_simulations/MOR/h8_reimaged/featuresall_residues_4dkl_5c1m_under_cutoff6A-CA/bu72_reseeded_rep_70.datasetloading /home/enf/md_simulations/MOR/h8_reimaged/featuresall_residues_4dkl_5c1m_under_cutoff6A-CA/suf_reseeded_p_rep_287.datasetloading /home/enf/md_simulations/MOR/h8_reimaged/featuresall_residues_4dkl_5c1m_under_cutoff6A-CA/suf__rep_212.dataset\n",
      "\n",
      "\n",
      "loading /home/enf/md_simulations/MOR/h8_reimaged/featuresall_residues_4dkl_5c1m_under_cutoff6A-CA/bu72_reseeded_rep_71.datasetloading /home/enf/md_simulations/MOR/h8_reimaged/featuresall_residues_4dkl_5c1m_under_cutoff6A-CA/suf_reseeded_p_rep_288.datasetloading /home/enf/md_simulations/MOR/h8_reimaged/featuresall_residues_4dkl_5c1m_under_cutoff6A-CA/suf__rep_213.dataset\n",
      "\n",
      "\n",
      "loading /home/enf/md_simulations/MOR/h8_reimaged/featuresall_residues_4dkl_5c1m_under_cutoff6A-CA/bu72_reseeded_rep_72.datasetloading /home/enf/md_simulations/MOR/h8_reimaged/featuresall_residues_4dkl_5c1m_under_cutoff6A-CA/suf_reseeded_p_rep_289.datasetloading /home/enf/md_simulations/MOR/h8_reimaged/featuresall_residues_4dkl_5c1m_under_cutoff6A-CA/suf__rep_214.dataset\n",
      "\n",
      "\n",
      "loading /home/enf/md_simulations/MOR/h8_reimaged/featuresall_residues_4dkl_5c1m_under_cutoff6A-CA/bu72_reseeded_rep_73.datasetloading /home/enf/md_simulations/MOR/h8_reimaged/featuresall_residues_4dkl_5c1m_under_cutoff6A-CA/suf_reseeded_p_rep_290.datasetloading /home/enf/md_simulations/MOR/h8_reimaged/featuresall_residues_4dkl_5c1m_under_cutoff6A-CA/suf__rep_215.dataset\n",
      "\n",
      "\n",
      "loading /home/enf/md_simulations/MOR/h8_reimaged/featuresall_residues_4dkl_5c1m_under_cutoff6A-CA/bu72_reseeded_rep_74.datasetloading /home/enf/md_simulations/MOR/h8_reimaged/featuresall_residues_4dkl_5c1m_under_cutoff6A-CA/suf_reseeded_p_rep_291.datasetloading /home/enf/md_simulations/MOR/h8_reimaged/featuresall_residues_4dkl_5c1m_under_cutoff6A-CA/suf__rep_216.dataset\n",
      "\n",
      "\n",
      "loading /home/enf/md_simulations/MOR/h8_reimaged/featuresall_residues_4dkl_5c1m_under_cutoff6A-CA/bu72_reseeded_rep_75.datasetloading /home/enf/md_simulations/MOR/h8_reimaged/featuresall_residues_4dkl_5c1m_under_cutoff6A-CA/suf_reseeded_p_rep_292.datasetloading /home/enf/md_simulations/MOR/h8_reimaged/featuresall_residues_4dkl_5c1m_under_cutoff6A-CA/suf__rep_217.dataset\n",
      "\n",
      "\n",
      "loading /home/enf/md_simulations/MOR/h8_reimaged/featuresall_residues_4dkl_5c1m_under_cutoff6A-CA/bu72_reseeded_rep_76.datasetloading /home/enf/md_simulations/MOR/h8_reimaged/featuresall_residues_4dkl_5c1m_under_cutoff6A-CA/suf_reseeded_p_rep_293.datasetloading /home/enf/md_simulations/MOR/h8_reimaged/featuresall_residues_4dkl_5c1m_under_cutoff6A-CA/suf__rep_218.dataset\n",
      "\n",
      "\n",
      "loading /home/enf/md_simulations/MOR/h8_reimaged/featuresall_residues_4dkl_5c1m_under_cutoff6A-CA/bu72_reseeded_rep_77.datasetloading /home/enf/md_simulations/MOR/h8_reimaged/featuresall_residues_4dkl_5c1m_under_cutoff6A-CA/suf_reseeded_p_rep_294.datasetloading /home/enf/md_simulations/MOR/h8_reimaged/featuresall_residues_4dkl_5c1m_under_cutoff6A-CA/suf__rep_219.dataset\n",
      "\n",
      "\n",
      "loading /home/enf/md_simulations/MOR/h8_reimaged/featuresall_residues_4dkl_5c1m_under_cutoff6A-CA/bu72_reseeded_rep_78.datasetloading /home/enf/md_simulations/MOR/h8_reimaged/featuresall_residues_4dkl_5c1m_under_cutoff6A-CA/suf_reseeded_p_rep_295.datasetloading /home/enf/md_simulations/MOR/h8_reimaged/featuresall_residues_4dkl_5c1m_under_cutoff6A-CA/suf__rep_22.dataset\n",
      "\n",
      "\n",
      "loading /home/enf/md_simulations/MOR/h8_reimaged/featuresall_residues_4dkl_5c1m_under_cutoff6A-CA/bu72_reseeded_rep_79.datasetloading /home/enf/md_simulations/MOR/h8_reimaged/featuresall_residues_4dkl_5c1m_under_cutoff6A-CA/suf_reseeded_p_rep_296.datasetloading /home/enf/md_simulations/MOR/h8_reimaged/featuresall_residues_4dkl_5c1m_under_cutoff6A-CA/suf__rep_220.dataset\n",
      "\n",
      "\n",
      "loading /home/enf/md_simulations/MOR/h8_reimaged/featuresall_residues_4dkl_5c1m_under_cutoff6A-CA/bu72_reseeded_rep_8.datasetloading /home/enf/md_simulations/MOR/h8_reimaged/featuresall_residues_4dkl_5c1m_under_cutoff6A-CA/suf_reseeded_p_rep_297.datasetloading /home/enf/md_simulations/MOR/h8_reimaged/featuresall_residues_4dkl_5c1m_under_cutoff6A-CA/suf__rep_221.dataset\n",
      "\n",
      "\n",
      "loading /home/enf/md_simulations/MOR/h8_reimaged/featuresall_residues_4dkl_5c1m_under_cutoff6A-CA/bu72_reseeded_rep_80.datasetloading /home/enf/md_simulations/MOR/h8_reimaged/featuresall_residues_4dkl_5c1m_under_cutoff6A-CA/suf_reseeded_p_rep_298.datasetloading /home/enf/md_simulations/MOR/h8_reimaged/featuresall_residues_4dkl_5c1m_under_cutoff6A-CA/suf__rep_222.dataset\n",
      "\n",
      "\n",
      "loading /home/enf/md_simulations/MOR/h8_reimaged/featuresall_residues_4dkl_5c1m_under_cutoff6A-CA/bu72_reseeded_rep_81.datasetloading /home/enf/md_simulations/MOR/h8_reimaged/featuresall_residues_4dkl_5c1m_under_cutoff6A-CA/suf_reseeded_p_rep_299.datasetloading /home/enf/md_simulations/MOR/h8_reimaged/featuresall_residues_4dkl_5c1m_under_cutoff6A-CA/suf__rep_223.dataset\n",
      "\n",
      "\n",
      "loading /home/enf/md_simulations/MOR/h8_reimaged/featuresall_residues_4dkl_5c1m_under_cutoff6A-CA/bu72_reseeded_rep_82.datasetloading /home/enf/md_simulations/MOR/h8_reimaged/featuresall_residues_4dkl_5c1m_under_cutoff6A-CA/suf_reseeded_p_rep_300.datasetloading /home/enf/md_simulations/MOR/h8_reimaged/featuresall_residues_4dkl_5c1m_under_cutoff6A-CA/suf__rep_224.dataset\n",
      "\n",
      "\n",
      "loading /home/enf/md_simulations/MOR/h8_reimaged/featuresall_residues_4dkl_5c1m_under_cutoff6A-CA/bu72_reseeded_rep_83.datasetloading /home/enf/md_simulations/MOR/h8_reimaged/featuresall_residues_4dkl_5c1m_under_cutoff6A-CA/suf_reseeded_p_rep_301.datasetloading /home/enf/md_simulations/MOR/h8_reimaged/featuresall_residues_4dkl_5c1m_under_cutoff6A-CA/suf__rep_225.dataset\n",
      "\n",
      "\n",
      "loading /home/enf/md_simulations/MOR/h8_reimaged/featuresall_residues_4dkl_5c1m_under_cutoff6A-CA/bu72_reseeded_rep_84.datasetloading /home/enf/md_simulations/MOR/h8_reimaged/featuresall_residues_4dkl_5c1m_under_cutoff6A-CA/suf_reseeded_p_rep_302.datasetloading /home/enf/md_simulations/MOR/h8_reimaged/featuresall_residues_4dkl_5c1m_under_cutoff6A-CA/suf__rep_226.dataset\n",
      "\n",
      "\n",
      "loading /home/enf/md_simulations/MOR/h8_reimaged/featuresall_residues_4dkl_5c1m_under_cutoff6A-CA/bu72_reseeded_rep_85.datasetloading /home/enf/md_simulations/MOR/h8_reimaged/featuresall_residues_4dkl_5c1m_under_cutoff6A-CA/suf_reseeded_p_rep_303.datasetloading /home/enf/md_simulations/MOR/h8_reimaged/featuresall_residues_4dkl_5c1m_under_cutoff6A-CA/suf__rep_227.dataset\n",
      "\n",
      "\n",
      "loading /home/enf/md_simulations/MOR/h8_reimaged/featuresall_residues_4dkl_5c1m_under_cutoff6A-CA/bu72_reseeded_rep_86.datasetloading /home/enf/md_simulations/MOR/h8_reimaged/featuresall_residues_4dkl_5c1m_under_cutoff6A-CA/suf_reseeded_p_rep_304.datasetloading /home/enf/md_simulations/MOR/h8_reimaged/featuresall_residues_4dkl_5c1m_under_cutoff6A-CA/suf__rep_228.dataset\n",
      "\n",
      "\n",
      "loading /home/enf/md_simulations/MOR/h8_reimaged/featuresall_residues_4dkl_5c1m_under_cutoff6A-CA/bu72_reseeded_rep_87.datasetloading /home/enf/md_simulations/MOR/h8_reimaged/featuresall_residues_4dkl_5c1m_under_cutoff6A-CA/suf_reseeded_p_rep_305.datasetloading /home/enf/md_simulations/MOR/h8_reimaged/featuresall_residues_4dkl_5c1m_under_cutoff6A-CA/suf__rep_229.dataset\n",
      "\n",
      "\n",
      "loading /home/enf/md_simulations/MOR/h8_reimaged/featuresall_residues_4dkl_5c1m_under_cutoff6A-CA/bu72_reseeded_rep_88.datasetloading /home/enf/md_simulations/MOR/h8_reimaged/featuresall_residues_4dkl_5c1m_under_cutoff6A-CA/suf_reseeded_p_rep_306.datasetloading /home/enf/md_simulations/MOR/h8_reimaged/featuresall_residues_4dkl_5c1m_under_cutoff6A-CA/suf__rep_23.dataset\n",
      "\n",
      "\n",
      "loading /home/enf/md_simulations/MOR/h8_reimaged/featuresall_residues_4dkl_5c1m_under_cutoff6A-CA/bu72_reseeded_rep_89.datasetloading /home/enf/md_simulations/MOR/h8_reimaged/featuresall_residues_4dkl_5c1m_under_cutoff6A-CA/suf_reseeded_p_rep_307.datasetloading /home/enf/md_simulations/MOR/h8_reimaged/featuresall_residues_4dkl_5c1m_under_cutoff6A-CA/suf__rep_230.dataset\n",
      "\n",
      "\n",
      "loading /home/enf/md_simulations/MOR/h8_reimaged/featuresall_residues_4dkl_5c1m_under_cutoff6A-CA/bu72_reseeded_rep_9.datasetloading /home/enf/md_simulations/MOR/h8_reimaged/featuresall_residues_4dkl_5c1m_under_cutoff6A-CA/suf_reseeded_p_rep_308.datasetloading /home/enf/md_simulations/MOR/h8_reimaged/featuresall_residues_4dkl_5c1m_under_cutoff6A-CA/suf__rep_231.dataset\n",
      "\n",
      "\n",
      "loading /home/enf/md_simulations/MOR/h8_reimaged/featuresall_residues_4dkl_5c1m_under_cutoff6A-CA/bu72_reseeded_rep_90.datasetloading /home/enf/md_simulations/MOR/h8_reimaged/featuresall_residues_4dkl_5c1m_under_cutoff6A-CA/suf_reseeded_p_rep_309.datasetloading /home/enf/md_simulations/MOR/h8_reimaged/featuresall_residues_4dkl_5c1m_under_cutoff6A-CA/suf__rep_232.dataset\n",
      "\n",
      "\n",
      "loading /home/enf/md_simulations/MOR/h8_reimaged/featuresall_residues_4dkl_5c1m_under_cutoff6A-CA/bu72_reseeded_rep_91.datasetloading /home/enf/md_simulations/MOR/h8_reimaged/featuresall_residues_4dkl_5c1m_under_cutoff6A-CA/suf_reseeded_p_rep_310.datasetloading /home/enf/md_simulations/MOR/h8_reimaged/featuresall_residues_4dkl_5c1m_under_cutoff6A-CA/suf__rep_233.dataset\n",
      "\n",
      "\n",
      "loading /home/enf/md_simulations/MOR/h8_reimaged/featuresall_residues_4dkl_5c1m_under_cutoff6A-CA/bu72_reseeded_rep_92.datasetloading /home/enf/md_simulations/MOR/h8_reimaged/featuresall_residues_4dkl_5c1m_under_cutoff6A-CA/suf_reseeded_p_rep_311.datasetloading /home/enf/md_simulations/MOR/h8_reimaged/featuresall_residues_4dkl_5c1m_under_cutoff6A-CA/suf__rep_234.dataset\n",
      "\n",
      "\n",
      "loading /home/enf/md_simulations/MOR/h8_reimaged/featuresall_residues_4dkl_5c1m_under_cutoff6A-CA/bu72_reseeded_rep_93.datasetloading /home/enf/md_simulations/MOR/h8_reimaged/featuresall_residues_4dkl_5c1m_under_cutoff6A-CA/suf_reseeded_p_rep_312.datasetloading /home/enf/md_simulations/MOR/h8_reimaged/featuresall_residues_4dkl_5c1m_under_cutoff6A-CA/suf__rep_235.dataset\n",
      "\n",
      "\n",
      "loading /home/enf/md_simulations/MOR/h8_reimaged/featuresall_residues_4dkl_5c1m_under_cutoff6A-CA/bu72_reseeded_rep_94.datasetloading /home/enf/md_simulations/MOR/h8_reimaged/featuresall_residues_4dkl_5c1m_under_cutoff6A-CA/suf_reseeded_p_rep_313.datasetloading /home/enf/md_simulations/MOR/h8_reimaged/featuresall_residues_4dkl_5c1m_under_cutoff6A-CA/suf__rep_236.dataset\n",
      "\n",
      "\n",
      "loading /home/enf/md_simulations/MOR/h8_reimaged/featuresall_residues_4dkl_5c1m_under_cutoff6A-CA/bu72_reseeded_rep_95.datasetloading /home/enf/md_simulations/MOR/h8_reimaged/featuresall_residues_4dkl_5c1m_under_cutoff6A-CA/suf_reseeded_p_rep_314.datasetloading /home/enf/md_simulations/MOR/h8_reimaged/featuresall_residues_4dkl_5c1m_under_cutoff6A-CA/suf__rep_237.dataset\n",
      "\n",
      "\n",
      "loading /home/enf/md_simulations/MOR/h8_reimaged/featuresall_residues_4dkl_5c1m_under_cutoff6A-CA/bu72_reseeded_rep_96.datasetloading /home/enf/md_simulations/MOR/h8_reimaged/featuresall_residues_4dkl_5c1m_under_cutoff6A-CA/suf_reseeded_p_rep_315.datasetloading /home/enf/md_simulations/MOR/h8_reimaged/featuresall_residues_4dkl_5c1m_under_cutoff6A-CA/suf__rep_238.dataset\n",
      "\n",
      "\n",
      "loading /home/enf/md_simulations/MOR/h8_reimaged/featuresall_residues_4dkl_5c1m_under_cutoff6A-CA/bu72_reseeded_rep_97.datasetloading /home/enf/md_simulations/MOR/h8_reimaged/featuresall_residues_4dkl_5c1m_under_cutoff6A-CA/suf_reseeded_p_rep_316.datasetloading /home/enf/md_simulations/MOR/h8_reimaged/featuresall_residues_4dkl_5c1m_under_cutoff6A-CA/suf__rep_239.dataset\n",
      "\n",
      "\n",
      "loading /home/enf/md_simulations/MOR/h8_reimaged/featuresall_residues_4dkl_5c1m_under_cutoff6A-CA/bu72_reseeded_rep_98.datasetloading /home/enf/md_simulations/MOR/h8_reimaged/featuresall_residues_4dkl_5c1m_under_cutoff6A-CA/suf_reseeded_p_rep_317.datasetloading /home/enf/md_simulations/MOR/h8_reimaged/featuresall_residues_4dkl_5c1m_under_cutoff6A-CA/suf__rep_24.dataset\n",
      "\n",
      "\n",
      "loading /home/enf/md_simulations/MOR/h8_reimaged/featuresall_residues_4dkl_5c1m_under_cutoff6A-CA/bu72_reseeded_rep_99.datasetloading /home/enf/md_simulations/MOR/h8_reimaged/featuresall_residues_4dkl_5c1m_under_cutoff6A-CA/suf_reseeded_p_rep_318.datasetloading /home/enf/md_simulations/MOR/h8_reimaged/featuresall_residues_4dkl_5c1m_under_cutoff6A-CA/suf__rep_240.dataset\n",
      "\n",
      "\n",
      "loading /home/enf/md_simulations/MOR/h8_reimaged/featuresall_residues_4dkl_5c1m_under_cutoff6A-CA/suf__rep_1.datasetloading /home/enf/md_simulations/MOR/h8_reimaged/featuresall_residues_4dkl_5c1m_under_cutoff6A-CA/suf_reseeded_p_rep_319.datasetloading /home/enf/md_simulations/MOR/h8_reimaged/featuresall_residues_4dkl_5c1m_under_cutoff6A-CA/suf__rep_241.dataset\n",
      "\n",
      "\n",
      "loading /home/enf/md_simulations/MOR/h8_reimaged/featuresall_residues_4dkl_5c1m_under_cutoff6A-CA/suf__rep_100.datasetloading /home/enf/md_simulations/MOR/h8_reimaged/featuresall_residues_4dkl_5c1m_under_cutoff6A-CA/suf_reseeded_p_rep_320.datasetloading /home/enf/md_simulations/MOR/h8_reimaged/featuresall_residues_4dkl_5c1m_under_cutoff6A-CA/suf__rep_242.dataset\n",
      "\n",
      "\n",
      "loading /home/enf/md_simulations/MOR/h8_reimaged/featuresall_residues_4dkl_5c1m_under_cutoff6A-CA/suf__rep_101.datasetloading /home/enf/md_simulations/MOR/h8_reimaged/featuresall_residues_4dkl_5c1m_under_cutoff6A-CA/suf_reseeded_p_rep_321.datasetloading /home/enf/md_simulations/MOR/h8_reimaged/featuresall_residues_4dkl_5c1m_under_cutoff6A-CA/suf__rep_243.dataset\n",
      "\n",
      "\n",
      "loading /home/enf/md_simulations/MOR/h8_reimaged/featuresall_residues_4dkl_5c1m_under_cutoff6A-CA/suf__rep_102.datasetloading /home/enf/md_simulations/MOR/h8_reimaged/featuresall_residues_4dkl_5c1m_under_cutoff6A-CA/suf_reseeded_p_rep_322.datasetloading /home/enf/md_simulations/MOR/h8_reimaged/featuresall_residues_4dkl_5c1m_under_cutoff6A-CA/suf__rep_244.dataset\n",
      "\n",
      "\n",
      "loading /home/enf/md_simulations/MOR/h8_reimaged/featuresall_residues_4dkl_5c1m_under_cutoff6A-CA/suf_reseeded_p_rep_475.datasetloading /home/enf/md_simulations/MOR/h8_reimaged/featuresall_residues_4dkl_5c1m_under_cutoff6A-CA/suf_reseeded_p_rep_323.dataset\n",
      "\n",
      "loading /home/enf/md_simulations/MOR/h8_reimaged/featuresall_residues_4dkl_5c1m_under_cutoff6A-CA/suf_reseeded_p_rep_476.datasetloading /home/enf/md_simulations/MOR/h8_reimaged/featuresall_residues_4dkl_5c1m_under_cutoff6A-CA/suf_reseeded_p_rep_324.dataset\n",
      "\n",
      "loading /home/enf/md_simulations/MOR/h8_reimaged/featuresall_residues_4dkl_5c1m_under_cutoff6A-CA/suf_reseeded_p_rep_477.datasetloading /home/enf/md_simulations/MOR/h8_reimaged/featuresall_residues_4dkl_5c1m_under_cutoff6A-CA/suf_reseeded_p_rep_325.dataset\n",
      "\n",
      "loading /home/enf/md_simulations/MOR/h8_reimaged/featuresall_residues_4dkl_5c1m_under_cutoff6A-CA/suf_reseeded_p_rep_478.datasetloading /home/enf/md_simulations/MOR/h8_reimaged/featuresall_residues_4dkl_5c1m_under_cutoff6A-CA/suf_reseeded_p_rep_326.dataset\n",
      "\n",
      "loading /home/enf/md_simulations/MOR/h8_reimaged/featuresall_residues_4dkl_5c1m_under_cutoff6A-CA/suf_reseeded_p_rep_479.datasetloading /home/enf/md_simulations/MOR/h8_reimaged/featuresall_residues_4dkl_5c1m_under_cutoff6A-CA/suf_reseeded_p_rep_327.dataset\n",
      "\n",
      "loading /home/enf/md_simulations/MOR/h8_reimaged/featuresall_residues_4dkl_5c1m_under_cutoff6A-CA/suf_reseeded_p_rep_480.datasetloading /home/enf/md_simulations/MOR/h8_reimaged/featuresall_residues_4dkl_5c1m_under_cutoff6A-CA/suf_reseeded_p_rep_328.dataset\n",
      "\n",
      "loading /home/enf/md_simulations/MOR/h8_reimaged/featuresall_residues_4dkl_5c1m_under_cutoff6A-CA/suf_reseeded_p_rep_481.datasetloading /home/enf/md_simulations/MOR/h8_reimaged/featuresall_residues_4dkl_5c1m_under_cutoff6A-CA/suf_reseeded_p_rep_329.dataset\n",
      "\n",
      "loading /home/enf/md_simulations/MOR/h8_reimaged/featuresall_residues_4dkl_5c1m_under_cutoff6A-CA/suf_reseeded_p_rep_482.datasetloading /home/enf/md_simulations/MOR/h8_reimaged/featuresall_residues_4dkl_5c1m_under_cutoff6A-CA/suf_reseeded_p_rep_330.dataset\n",
      "\n",
      "loading /home/enf/md_simulations/MOR/h8_reimaged/featuresall_residues_4dkl_5c1m_under_cutoff6A-CA/suf_reseeded_p_rep_483.datasetloading /home/enf/md_simulations/MOR/h8_reimaged/featuresall_residues_4dkl_5c1m_under_cutoff6A-CA/suf_reseeded_p_rep_331.dataset\n",
      "\n",
      "loading /home/enf/md_simulations/MOR/h8_reimaged/featuresall_residues_4dkl_5c1m_under_cutoff6A-CA/suf_reseeded_p_rep_484.datasetloading /home/enf/md_simulations/MOR/h8_reimaged/featuresall_residues_4dkl_5c1m_under_cutoff6A-CA/suf_reseeded_p_rep_332.dataset\n",
      "\n",
      "loading /home/enf/md_simulations/MOR/h8_reimaged/featuresall_residues_4dkl_5c1m_under_cutoff6A-CA/suf_reseeded_p_rep_485.datasetloading /home/enf/md_simulations/MOR/h8_reimaged/featuresall_residues_4dkl_5c1m_under_cutoff6A-CA/suf_reseeded_p_rep_333.dataset\n",
      "\n",
      "loading /home/enf/md_simulations/MOR/h8_reimaged/featuresall_residues_4dkl_5c1m_under_cutoff6A-CA/suf_reseeded_p_rep_486.datasetloading /home/enf/md_simulations/MOR/h8_reimaged/featuresall_residues_4dkl_5c1m_under_cutoff6A-CA/suf_reseeded_p_rep_334.dataset\n",
      "\n",
      "loading /home/enf/md_simulations/MOR/h8_reimaged/featuresall_residues_4dkl_5c1m_under_cutoff6A-CA/suf_reseeded_p_rep_487.datasetloading /home/enf/md_simulations/MOR/h8_reimaged/featuresall_residues_4dkl_5c1m_under_cutoff6A-CA/suf_reseeded_p_rep_335.dataset\n",
      "\n",
      "loading /home/enf/md_simulations/MOR/h8_reimaged/featuresall_residues_4dkl_5c1m_under_cutoff6A-CA/suf_reseeded_p_rep_488.datasetloading /home/enf/md_simulations/MOR/h8_reimaged/featuresall_residues_4dkl_5c1m_under_cutoff6A-CA/suf_reseeded_p_rep_336.dataset\n",
      "\n",
      "loading /home/enf/md_simulations/MOR/h8_reimaged/featuresall_residues_4dkl_5c1m_under_cutoff6A-CA/suf_reseeded_p_rep_489.datasetloading /home/enf/md_simulations/MOR/h8_reimaged/featuresall_residues_4dkl_5c1m_under_cutoff6A-CA/suf_reseeded_p_rep_337.dataset\n",
      "\n",
      "loading /home/enf/md_simulations/MOR/h8_reimaged/featuresall_residues_4dkl_5c1m_under_cutoff6A-CA/suf_reseeded_p_rep_490.datasetloading /home/enf/md_simulations/MOR/h8_reimaged/featuresall_residues_4dkl_5c1m_under_cutoff6A-CA/suf_reseeded_p_rep_338.dataset\n",
      "\n",
      "loading /home/enf/md_simulations/MOR/h8_reimaged/featuresall_residues_4dkl_5c1m_under_cutoff6A-CA/suf_reseeded_p_rep_491.datasetloading /home/enf/md_simulations/MOR/h8_reimaged/featuresall_residues_4dkl_5c1m_under_cutoff6A-CA/suf_reseeded_p_rep_339.dataset\n",
      "\n",
      "loading /home/enf/md_simulations/MOR/h8_reimaged/featuresall_residues_4dkl_5c1m_under_cutoff6A-CA/suf_reseeded_p_rep_492.datasetloading /home/enf/md_simulations/MOR/h8_reimaged/featuresall_residues_4dkl_5c1m_under_cutoff6A-CA/suf_reseeded_p_rep_340.dataset\n",
      "\n",
      "loading /home/enf/md_simulations/MOR/h8_reimaged/featuresall_residues_4dkl_5c1m_under_cutoff6A-CA/suf_reseeded_p_rep_493.datasetloading /home/enf/md_simulations/MOR/h8_reimaged/featuresall_residues_4dkl_5c1m_under_cutoff6A-CA/suf_reseeded_p_rep_341.dataset\n",
      "\n",
      "loading /home/enf/md_simulations/MOR/h8_reimaged/featuresall_residues_4dkl_5c1m_under_cutoff6A-CA/suf_reseeded_p_rep_494.datasetloading /home/enf/md_simulations/MOR/h8_reimaged/featuresall_residues_4dkl_5c1m_under_cutoff6A-CA/suf_reseeded_p_rep_342.dataset\n",
      "\n",
      "loading /home/enf/md_simulations/MOR/h8_reimaged/featuresall_residues_4dkl_5c1m_under_cutoff6A-CA/suf_reseeded_p_rep_495.datasetloading /home/enf/md_simulations/MOR/h8_reimaged/featuresall_residues_4dkl_5c1m_under_cutoff6A-CA/suf_reseeded_p_rep_343.dataset\n"
     ]
    }
   ],
   "source": [
    "tica_object.timescales_"
   ]
  },
  {
   "cell_type": "code",
   "execution_count": null,
   "metadata": {
    "collapsed": false
   },
   "outputs": [],
   "source": [
    "plot_columns(tica_dir, projected_features_dir, titles = [\"tIC%d\" %j for j in range(1,11)], tICA = True, scale = 1.0, refcoords_file = None)"
   ]
  },
  {
   "cell_type": "code",
   "execution_count": 13,
   "metadata": {
    "collapsed": false
   },
   "outputs": [
    {
     "name": "stdout",
     "output_type": "stream",
     "text": [
      "\n",
      "loading /home/enf/md_simulations/MOR/h8_reimaged/featuresall_residues_4dkl_5c1m_under_cutoff6A-CA/suf_reseeded_p_rep_496.datasetloading /home/enf/md_simulations/MOR/h8_reimaged/featuresall_residues_4dkl_5c1m_under_cutoff6A-CA/suf_reseeded_p_rep_344.dataset\n",
      "\n",
      "loading /home/enf/md_simulations/MOR/h8_reimaged/featuresall_residues_4dkl_5c1m_under_cutoff6A-CA/suf_reseeded_p_rep_497.datasetloading /home/enf/md_simulations/MOR/h8_reimaged/featuresall_residues_4dkl_5c1m_under_cutoff6A-CA/suf_reseeded_p_rep_345.dataset\n",
      "\n",
      "loading /home/enf/md_simulations/MOR/h8_reimaged/featuresall_residues_4dkl_5c1m_under_cutoff6A-CA/suf_reseeded_p_rep_498.datasetloading /home/enf/md_simulations/MOR/h8_reimaged/featuresall_residues_4dkl_5c1m_under_cutoff6A-CA/suf_reseeded_p_rep_346.dataset\n",
      "\n",
      "loading /home/enf/md_simulations/MOR/h8_reimaged/featuresall_residues_4dkl_5c1m_under_cutoff6A-CA/suf_reseeded_p_rep_499.datasetloading /home/enf/md_simulations/MOR/h8_reimaged/featuresall_residues_4dkl_5c1m_under_cutoff6A-CA/suf_reseeded_p_rep_347.dataset\n",
      "\n",
      "loading /home/enf/md_simulations/MOR/h8_reimaged/featuresall_residues_4dkl_5c1m_under_cutoff6A-CA/suf_reseeded_p_rep_500.datasetloading /home/enf/md_simulations/MOR/h8_reimaged/featuresall_residues_4dkl_5c1m_under_cutoff6A-CA/suf_reseeded_p_rep_348.dataset\n",
      "\n",
      "loading /home/enf/md_simulations/MOR/h8_reimaged/featuresall_residues_4dkl_5c1m_under_cutoff6A-CA/suf_reseeded_p_rep_501.datasetloading /home/enf/md_simulations/MOR/h8_reimaged/featuresall_residues_4dkl_5c1m_under_cutoff6A-CA/suf_reseeded_p_rep_349.dataset\n",
      "\n",
      "loading /home/enf/md_simulations/MOR/h8_reimaged/featuresall_residues_4dkl_5c1m_under_cutoff6A-CA/suf_reseeded_p_rep_502.datasetloading /home/enf/md_simulations/MOR/h8_reimaged/featuresall_residues_4dkl_5c1m_under_cutoff6A-CA/suf_reseeded_p_rep_350.dataset\n",
      "\n",
      "loading /home/enf/md_simulations/MOR/h8_reimaged/featuresall_residues_4dkl_5c1m_under_cutoff6A-CA/suf_reseeded_p_rep_503.datasetloading /home/enf/md_simulations/MOR/h8_reimaged/featuresall_residues_4dkl_5c1m_under_cutoff6A-CA/suf_reseeded_p_rep_351.dataset\n",
      "\n",
      "loading /home/enf/md_simulations/MOR/h8_reimaged/featuresall_residues_4dkl_5c1m_under_cutoff6A-CA/suf_reseeded_p_rep_504.datasetloading /home/enf/md_simulations/MOR/h8_reimaged/featuresall_residues_4dkl_5c1m_under_cutoff6A-CA/suf_reseeded_p_rep_352.dataset\n",
      "\n",
      "loading /home/enf/md_simulations/MOR/h8_reimaged/featuresall_residues_4dkl_5c1m_under_cutoff6A-CA/suf_reseeded_p_rep_505.datasetloading /home/enf/md_simulations/MOR/h8_reimaged/featuresall_residues_4dkl_5c1m_under_cutoff6A-CA/suf_reseeded_p_rep_353.dataset\n",
      "\n",
      "loading /home/enf/md_simulations/MOR/h8_reimaged/featuresall_residues_4dkl_5c1m_under_cutoff6A-CA/suf_reseeded_p_rep_506.datasetloading /home/enf/md_simulations/MOR/h8_reimaged/featuresall_residues_4dkl_5c1m_under_cutoff6A-CA/suf_reseeded_p_rep_354.dataset\n",
      "\n",
      "loading /home/enf/md_simulations/MOR/h8_reimaged/featuresall_residues_4dkl_5c1m_under_cutoff6A-CA/suf_reseeded_p_rep_507.datasetloading /home/enf/md_simulations/MOR/h8_reimaged/featuresall_residues_4dkl_5c1m_under_cutoff6A-CA/suf_reseeded_p_rep_355.dataset\n",
      "\n",
      "loading /home/enf/md_simulations/MOR/h8_reimaged/featuresall_residues_4dkl_5c1m_under_cutoff6A-CA/suf_reseeded_p_rep_508.datasetloading /home/enf/md_simulations/MOR/h8_reimaged/featuresall_residues_4dkl_5c1m_under_cutoff6A-CA/suf_reseeded_p_rep_356.dataset\n",
      "\n",
      "loading /home/enf/md_simulations/MOR/h8_reimaged/featuresall_residues_4dkl_5c1m_under_cutoff6A-CA/suf_reseeded_p_rep_509.datasetloading /home/enf/md_simulations/MOR/h8_reimaged/featuresall_residues_4dkl_5c1m_under_cutoff6A-CA/suf_reseeded_p_rep_357.dataset\n",
      "\n",
      "loading /home/enf/md_simulations/MOR/h8_reimaged/featuresall_residues_4dkl_5c1m_under_cutoff6A-CA/suf_reseeded_p_rep_510.datasetloading /home/enf/md_simulations/MOR/h8_reimaged/featuresall_residues_4dkl_5c1m_under_cutoff6A-CA/suf_reseeded_p_rep_358.dataset\n",
      "\n",
      "loading /home/enf/md_simulations/MOR/h8_reimaged/featuresall_residues_4dkl_5c1m_under_cutoff6A-CA/suf_reseeded_p_rep_511.datasetloading /home/enf/md_simulations/MOR/h8_reimaged/featuresall_residues_4dkl_5c1m_under_cutoff6A-CA/suf_reseeded_p_rep_359.dataset\n",
      "\n",
      "loading /home/enf/md_simulations/MOR/h8_reimaged/featuresall_residues_4dkl_5c1m_under_cutoff6A-CA/suf_reseeded_p_rep_512.datasetloading /home/enf/md_simulations/MOR/h8_reimaged/featuresall_residues_4dkl_5c1m_under_cutoff6A-CA/suf_reseeded_p_rep_360.dataset\n",
      "\n",
      "loading /home/enf/md_simulations/MOR/h8_reimaged/featuresall_residues_4dkl_5c1m_under_cutoff6A-CA/suf_reseeded_r_rep_1.datasetloading /home/enf/md_simulations/MOR/h8_reimaged/featuresall_residues_4dkl_5c1m_under_cutoff6A-CA/suf_reseeded_p_rep_361.dataset\n",
      "\n",
      "loading /home/enf/md_simulations/MOR/h8_reimaged/featuresall_residues_4dkl_5c1m_under_cutoff6A-CA/suf_reseeded_r_rep_10.datasetloading /home/enf/md_simulations/MOR/h8_reimaged/featuresall_residues_4dkl_5c1m_under_cutoff6A-CA/suf_reseeded_p_rep_362.dataset\n",
      "\n",
      "loading /home/enf/md_simulations/MOR/h8_reimaged/featuresall_residues_4dkl_5c1m_under_cutoff6A-CA/suf_reseeded_r_rep_100.datasetloading /home/enf/md_simulations/MOR/h8_reimaged/featuresall_residues_4dkl_5c1m_under_cutoff6A-CA/suf_reseeded_p_rep_363.dataset\n",
      "\n",
      "loading /home/enf/md_simulations/MOR/h8_reimaged/featuresall_residues_4dkl_5c1m_under_cutoff6A-CA/suf_reseeded_r_rep_101.datasetloading /home/enf/md_simulations/MOR/h8_reimaged/featuresall_residues_4dkl_5c1m_under_cutoff6A-CA/suf_reseeded_p_rep_364.dataset\n",
      "\n",
      "loading /home/enf/md_simulations/MOR/h8_reimaged/featuresall_residues_4dkl_5c1m_under_cutoff6A-CA/suf_reseeded_r_rep_102.datasetloading /home/enf/md_simulations/MOR/h8_reimaged/featuresall_residues_4dkl_5c1m_under_cutoff6A-CA/suf_reseeded_p_rep_365.dataset\n",
      "\n",
      "loading /home/enf/md_simulations/MOR/h8_reimaged/featuresall_residues_4dkl_5c1m_under_cutoff6A-CA/suf_reseeded_r_rep_103.datasetloading /home/enf/md_simulations/MOR/h8_reimaged/featuresall_residues_4dkl_5c1m_under_cutoff6A-CA/suf_reseeded_p_rep_366.dataset\n",
      "\n",
      "loading /home/enf/md_simulations/MOR/h8_reimaged/featuresall_residues_4dkl_5c1m_under_cutoff6A-CA/suf_reseeded_r_rep_104.datasetloading /home/enf/md_simulations/MOR/h8_reimaged/featuresall_residues_4dkl_5c1m_under_cutoff6A-CA/suf_reseeded_p_rep_367.dataset\n",
      "\n",
      "loading /home/enf/md_simulations/MOR/h8_reimaged/featuresall_residues_4dkl_5c1m_under_cutoff6A-CA/suf_reseeded_r_rep_105.datasetloading /home/enf/md_simulations/MOR/h8_reimaged/featuresall_residues_4dkl_5c1m_under_cutoff6A-CA/suf_reseeded_p_rep_368.dataset\n",
      "\n",
      "loading /home/enf/md_simulations/MOR/h8_reimaged/featuresall_residues_4dkl_5c1m_under_cutoff6A-CA/suf_reseeded_r_rep_106.datasetloading /home/enf/md_simulations/MOR/h8_reimaged/featuresall_residues_4dkl_5c1m_under_cutoff6A-CA/suf_reseeded_p_rep_369.dataset\n",
      "\n",
      "loading /home/enf/md_simulations/MOR/h8_reimaged/featuresall_residues_4dkl_5c1m_under_cutoff6A-CA/suf_reseeded_r_rep_107.datasetloading /home/enf/md_simulations/MOR/h8_reimaged/featuresall_residues_4dkl_5c1m_under_cutoff6A-CA/suf_reseeded_p_rep_370.dataset\n",
      "\n",
      "loading /home/enf/md_simulations/MOR/h8_reimaged/featuresall_residues_4dkl_5c1m_under_cutoff6A-CA/suf_reseeded_r_rep_108.datasetloading /home/enf/md_simulations/MOR/h8_reimaged/featuresall_residues_4dkl_5c1m_under_cutoff6A-CA/suf_reseeded_p_rep_371.dataset\n",
      "\n",
      "loading /home/enf/md_simulations/MOR/h8_reimaged/featuresall_residues_4dkl_5c1m_under_cutoff6A-CA/suf_reseeded_r_rep_109.datasetloading /home/enf/md_simulations/MOR/h8_reimaged/featuresall_residues_4dkl_5c1m_under_cutoff6A-CA/suf_reseeded_p_rep_372.dataset\n",
      "\n",
      "loading /home/enf/md_simulations/MOR/h8_reimaged/featuresall_residues_4dkl_5c1m_under_cutoff6A-CA/suf_reseeded_r_rep_11.datasetloading /home/enf/md_simulations/MOR/h8_reimaged/featuresall_residues_4dkl_5c1m_under_cutoff6A-CA/suf_reseeded_p_rep_373.dataset\n",
      "\n",
      "loading /home/enf/md_simulations/MOR/h8_reimaged/featuresall_residues_4dkl_5c1m_under_cutoff6A-CA/suf_reseeded_r_rep_110.datasetloading /home/enf/md_simulations/MOR/h8_reimaged/featuresall_residues_4dkl_5c1m_under_cutoff6A-CA/suf_reseeded_p_rep_374.dataset\n",
      "\n",
      "loading /home/enf/md_simulations/MOR/h8_reimaged/featuresall_residues_4dkl_5c1m_under_cutoff6A-CA/suf_reseeded_r_rep_111.datasetloading /home/enf/md_simulations/MOR/h8_reimaged/featuresall_residues_4dkl_5c1m_under_cutoff6A-CA/suf_reseeded_p_rep_375.dataset\n",
      "\n",
      "loading /home/enf/md_simulations/MOR/h8_reimaged/featuresall_residues_4dkl_5c1m_under_cutoff6A-CA/suf_reseeded_r_rep_112.datasetloading /home/enf/md_simulations/MOR/h8_reimaged/featuresall_residues_4dkl_5c1m_under_cutoff6A-CA/suf_reseeded_p_rep_376.dataset\n",
      "\n",
      "loading /home/enf/md_simulations/MOR/h8_reimaged/featuresall_residues_4dkl_5c1m_under_cutoff6A-CA/suf_reseeded_r_rep_113.datasetloading /home/enf/md_simulations/MOR/h8_reimaged/featuresall_residues_4dkl_5c1m_under_cutoff6A-CA/suf_reseeded_p_rep_377.dataset\n",
      "\n",
      "loading /home/enf/md_simulations/MOR/h8_reimaged/featuresall_residues_4dkl_5c1m_under_cutoff6A-CA/suf_reseeded_r_rep_114.datasetloading /home/enf/md_simulations/MOR/h8_reimaged/featuresall_residues_4dkl_5c1m_under_cutoff6A-CA/suf_reseeded_p_rep_378.dataset\n",
      "\n",
      "loading /home/enf/md_simulations/MOR/h8_reimaged/featuresall_residues_4dkl_5c1m_under_cutoff6A-CA/suf_reseeded_r_rep_115.datasetloading /home/enf/md_simulations/MOR/h8_reimaged/featuresall_residues_4dkl_5c1m_under_cutoff6A-CA/suf_reseeded_p_rep_379.dataset\n",
      "\n",
      "loading /home/enf/md_simulations/MOR/h8_reimaged/featuresall_residues_4dkl_5c1m_under_cutoff6A-CA/suf_reseeded_r_rep_116.datasetloading /home/enf/md_simulations/MOR/h8_reimaged/featuresall_residues_4dkl_5c1m_under_cutoff6A-CA/suf_reseeded_p_rep_380.dataset\n",
      "\n",
      "loading /home/enf/md_simulations/MOR/h8_reimaged/featuresall_residues_4dkl_5c1m_under_cutoff6A-CA/suf_reseeded_r_rep_117.datasetloading /home/enf/md_simulations/MOR/h8_reimaged/featuresall_residues_4dkl_5c1m_under_cutoff6A-CA/suf_reseeded_p_rep_381.dataset\n",
      "\n",
      "loading /home/enf/md_simulations/MOR/h8_reimaged/featuresall_residues_4dkl_5c1m_under_cutoff6A-CA/suf_reseeded_r_rep_118.datasetloading /home/enf/md_simulations/MOR/h8_reimaged/featuresall_residues_4dkl_5c1m_under_cutoff6A-CA/suf_reseeded_p_rep_382.dataset\n",
      "\n",
      "loading /home/enf/md_simulations/MOR/h8_reimaged/featuresall_residues_4dkl_5c1m_under_cutoff6A-CA/suf_reseeded_r_rep_119.datasetloading /home/enf/md_simulations/MOR/h8_reimaged/featuresall_residues_4dkl_5c1m_under_cutoff6A-CA/suf_reseeded_p_rep_383.dataset\n",
      "\n",
      "loading /home/enf/md_simulations/MOR/h8_reimaged/featuresall_residues_4dkl_5c1m_under_cutoff6A-CA/suf_reseeded_r_rep_12.datasetloading /home/enf/md_simulations/MOR/h8_reimaged/featuresall_residues_4dkl_5c1m_under_cutoff6A-CA/suf_reseeded_p_rep_384.dataset\n",
      "\n",
      "loading /home/enf/md_simulations/MOR/h8_reimaged/featuresall_residues_4dkl_5c1m_under_cutoff6A-CA/suf_reseeded_r_rep_120.datasetloading /home/enf/md_simulations/MOR/h8_reimaged/featuresall_residues_4dkl_5c1m_under_cutoff6A-CA/suf_reseeded_p_rep_385.dataset\n",
      "\n",
      "loading /home/enf/md_simulations/MOR/h8_reimaged/featuresall_residues_4dkl_5c1m_under_cutoff6A-CA/suf_reseeded_r_rep_121.datasetloading /home/enf/md_simulations/MOR/h8_reimaged/featuresall_residues_4dkl_5c1m_under_cutoff6A-CA/suf_reseeded_p_rep_386.dataset\n",
      "\n",
      "loading /home/enf/md_simulations/MOR/h8_reimaged/featuresall_residues_4dkl_5c1m_under_cutoff6A-CA/suf_reseeded_r_rep_122.datasetloading /home/enf/md_simulations/MOR/h8_reimaged/featuresall_residues_4dkl_5c1m_under_cutoff6A-CA/suf_reseeded_p_rep_387.dataset\n",
      "\n",
      "loading /home/enf/md_simulations/MOR/h8_reimaged/featuresall_residues_4dkl_5c1m_under_cutoff6A-CA/suf_reseeded_r_rep_123.datasetloading /home/enf/md_simulations/MOR/h8_reimaged/featuresall_residues_4dkl_5c1m_under_cutoff6A-CA/suf_reseeded_p_rep_388.dataset\n",
      "\n",
      "loading /home/enf/md_simulations/MOR/h8_reimaged/featuresall_residues_4dkl_5c1m_under_cutoff6A-CA/suf_reseeded_r_rep_124.datasetloading /home/enf/md_simulations/MOR/h8_reimaged/featuresall_residues_4dkl_5c1m_under_cutoff6A-CA/suf_reseeded_p_rep_389.dataset\n",
      "\n",
      "loading /home/enf/md_simulations/MOR/h8_reimaged/featuresall_residues_4dkl_5c1m_under_cutoff6A-CA/suf_reseeded_r_rep_125.datasetloading /home/enf/md_simulations/MOR/h8_reimaged/featuresall_residues_4dkl_5c1m_under_cutoff6A-CA/suf_reseeded_p_rep_390.dataset\n",
      "\n",
      "loading /home/enf/md_simulations/MOR/h8_reimaged/featuresall_residues_4dkl_5c1m_under_cutoff6A-CA/suf_reseeded_r_rep_126.datasetloading /home/enf/md_simulations/MOR/h8_reimaged/featuresall_residues_4dkl_5c1m_under_cutoff6A-CA/suf_reseeded_p_rep_391.dataset\n",
      "\n",
      "loading /home/enf/md_simulations/MOR/h8_reimaged/featuresall_residues_4dkl_5c1m_under_cutoff6A-CA/suf_reseeded_r_rep_127.datasetloading /home/enf/md_simulations/MOR/h8_reimaged/featuresall_residues_4dkl_5c1m_under_cutoff6A-CA/suf_reseeded_p_rep_392.dataset\n",
      "\n",
      "loading /home/enf/md_simulations/MOR/h8_reimaged/featuresall_residues_4dkl_5c1m_under_cutoff6A-CA/suf_reseeded_r_rep_128.datasetloading /home/enf/md_simulations/MOR/h8_reimaged/featuresall_residues_4dkl_5c1m_under_cutoff6A-CA/suf_reseeded_p_rep_393.dataset\n",
      "\n",
      "loading /home/enf/md_simulations/MOR/h8_reimaged/featuresall_residues_4dkl_5c1m_under_cutoff6A-CA/suf_reseeded_r_rep_129.datasetloading /home/enf/md_simulations/MOR/h8_reimaged/featuresall_residues_4dkl_5c1m_under_cutoff6A-CA/suf_reseeded_p_rep_394.dataset\n",
      "\n",
      "loading /home/enf/md_simulations/MOR/h8_reimaged/featuresall_residues_4dkl_5c1m_under_cutoff6A-CA/suf_reseeded_r_rep_13.datasetloading /home/enf/md_simulations/MOR/h8_reimaged/featuresall_residues_4dkl_5c1m_under_cutoff6A-CA/suf_reseeded_p_rep_395.dataset\n",
      "\n",
      "loading /home/enf/md_simulations/MOR/h8_reimaged/featuresall_residues_4dkl_5c1m_under_cutoff6A-CA/suf_reseeded_r_rep_130.datasetloading /home/enf/md_simulations/MOR/h8_reimaged/featuresall_residues_4dkl_5c1m_under_cutoff6A-CA/suf_reseeded_p_rep_396.dataset\n",
      "\n",
      "loading /home/enf/md_simulations/MOR/h8_reimaged/featuresall_residues_4dkl_5c1m_under_cutoff6A-CA/suf_reseeded_r_rep_131.datasetloading /home/enf/md_simulations/MOR/h8_reimaged/featuresall_residues_4dkl_5c1m_under_cutoff6A-CA/suf_reseeded_p_rep_397.dataset\n",
      "\n",
      "loading /home/enf/md_simulations/MOR/h8_reimaged/featuresall_residues_4dkl_5c1m_under_cutoff6A-CA/suf_reseeded_r_rep_132.datasetloading /home/enf/md_simulations/MOR/h8_reimaged/featuresall_residues_4dkl_5c1m_under_cutoff6A-CA/suf_reseeded_p_rep_398.dataset\n",
      "\n",
      "loading /home/enf/md_simulations/MOR/h8_reimaged/featuresall_residues_4dkl_5c1m_under_cutoff6A-CA/suf_reseeded_r_rep_133.datasetloading /home/enf/md_simulations/MOR/h8_reimaged/featuresall_residues_4dkl_5c1m_under_cutoff6A-CA/suf_reseeded_p_rep_399.dataset\n",
      "\n",
      "loading /home/enf/md_simulations/MOR/h8_reimaged/featuresall_residues_4dkl_5c1m_under_cutoff6A-CA/suf_reseeded_r_rep_134.datasetloading /home/enf/md_simulations/MOR/h8_reimaged/featuresall_residues_4dkl_5c1m_under_cutoff6A-CA/suf_reseeded_p_rep_400.dataset\n",
      "\n",
      "loading /home/enf/md_simulations/MOR/h8_reimaged/featuresall_residues_4dkl_5c1m_under_cutoff6A-CA/suf_reseeded_r_rep_135.datasetloading /home/enf/md_simulations/MOR/h8_reimaged/featuresall_residues_4dkl_5c1m_under_cutoff6A-CA/suf_reseeded_p_rep_401.dataset\n",
      "\n",
      "loading /home/enf/md_simulations/MOR/h8_reimaged/featuresall_residues_4dkl_5c1m_under_cutoff6A-CA/suf_reseeded_r_rep_136.datasetloading /home/enf/md_simulations/MOR/h8_reimaged/featuresall_residues_4dkl_5c1m_under_cutoff6A-CA/suf_reseeded_p_rep_402.dataset\n",
      "\n",
      "loading /home/enf/md_simulations/MOR/h8_reimaged/featuresall_residues_4dkl_5c1m_under_cutoff6A-CA/suf_reseeded_r_rep_137.datasetloading /home/enf/md_simulations/MOR/h8_reimaged/featuresall_residues_4dkl_5c1m_under_cutoff6A-CA/suf_reseeded_p_rep_403.dataset\n",
      "\n",
      "loading /home/enf/md_simulations/MOR/h8_reimaged/featuresall_residues_4dkl_5c1m_under_cutoff6A-CA/suf_reseeded_r_rep_138.datasetloading /home/enf/md_simulations/MOR/h8_reimaged/featuresall_residues_4dkl_5c1m_under_cutoff6A-CA/suf_reseeded_p_rep_404.dataset\n",
      "\n",
      "loading /home/enf/md_simulations/MOR/h8_reimaged/featuresall_residues_4dkl_5c1m_under_cutoff6A-CA/suf_reseeded_r_rep_139.datasetloading /home/enf/md_simulations/MOR/h8_reimaged/featuresall_residues_4dkl_5c1m_under_cutoff6A-CA/suf_reseeded_p_rep_405.dataset\n",
      "\n",
      "loading /home/enf/md_simulations/MOR/h8_reimaged/featuresall_residues_4dkl_5c1m_under_cutoff6A-CA/suf_reseeded_r_rep_14.datasetloading /home/enf/md_simulations/MOR/h8_reimaged/featuresall_residues_4dkl_5c1m_under_cutoff6A-CA/suf_reseeded_p_rep_406.dataset\n",
      "\n",
      "loading /home/enf/md_simulations/MOR/h8_reimaged/featuresall_residues_4dkl_5c1m_under_cutoff6A-CA/suf_reseeded_r_rep_140.datasetloading /home/enf/md_simulations/MOR/h8_reimaged/featuresall_residues_4dkl_5c1m_under_cutoff6A-CA/suf_reseeded_p_rep_407.dataset\n",
      "\n",
      "loading /home/enf/md_simulations/MOR/h8_reimaged/featuresall_residues_4dkl_5c1m_under_cutoff6A-CA/suf_reseeded_r_rep_141.datasetloading /home/enf/md_simulations/MOR/h8_reimaged/featuresall_residues_4dkl_5c1m_under_cutoff6A-CA/suf_reseeded_p_rep_408.dataset\n",
      "\n",
      "loading /home/enf/md_simulations/MOR/h8_reimaged/featuresall_residues_4dkl_5c1m_under_cutoff6A-CA/suf_reseeded_r_rep_142.datasetloading /home/enf/md_simulations/MOR/h8_reimaged/featuresall_residues_4dkl_5c1m_under_cutoff6A-CA/suf_reseeded_p_rep_409.dataset\n",
      "\n",
      "loading /home/enf/md_simulations/MOR/h8_reimaged/featuresall_residues_4dkl_5c1m_under_cutoff6A-CA/suf_reseeded_r_rep_143.datasetloading /home/enf/md_simulations/MOR/h8_reimaged/featuresall_residues_4dkl_5c1m_under_cutoff6A-CA/suf_reseeded_p_rep_410.dataset\n",
      "\n",
      "loading /home/enf/md_simulations/MOR/h8_reimaged/featuresall_residues_4dkl_5c1m_under_cutoff6A-CA/suf_reseeded_r_rep_144.datasetloading /home/enf/md_simulations/MOR/h8_reimaged/featuresall_residues_4dkl_5c1m_under_cutoff6A-CA/suf_reseeded_p_rep_411.dataset\n",
      "\n",
      "loading /home/enf/md_simulations/MOR/h8_reimaged/featuresall_residues_4dkl_5c1m_under_cutoff6A-CA/suf_reseeded_r_rep_145.datasetloading /home/enf/md_simulations/MOR/h8_reimaged/featuresall_residues_4dkl_5c1m_under_cutoff6A-CA/suf_reseeded_p_rep_412.dataset\n",
      "\n",
      "loading /home/enf/md_simulations/MOR/h8_reimaged/featuresall_residues_4dkl_5c1m_under_cutoff6A-CA/suf_reseeded_r_rep_146.datasetloading /home/enf/md_simulations/MOR/h8_reimaged/featuresall_residues_4dkl_5c1m_under_cutoff6A-CA/suf_reseeded_p_rep_413.dataset\n",
      "\n",
      "loading /home/enf/md_simulations/MOR/h8_reimaged/featuresall_residues_4dkl_5c1m_under_cutoff6A-CA/suf_reseeded_r_rep_147.datasetloading /home/enf/md_simulations/MOR/h8_reimaged/featuresall_residues_4dkl_5c1m_under_cutoff6A-CA/suf_reseeded_p_rep_414.dataset\n",
      "\n",
      "loading /home/enf/md_simulations/MOR/h8_reimaged/featuresall_residues_4dkl_5c1m_under_cutoff6A-CA/suf_reseeded_r_rep_148.datasetloading /home/enf/md_simulations/MOR/h8_reimaged/featuresall_residues_4dkl_5c1m_under_cutoff6A-CA/suf_reseeded_p_rep_415.dataset\n",
      "\n",
      "loading /home/enf/md_simulations/MOR/h8_reimaged/featuresall_residues_4dkl_5c1m_under_cutoff6A-CA/suf_reseeded_r_rep_149.datasetloading /home/enf/md_simulations/MOR/h8_reimaged/featuresall_residues_4dkl_5c1m_under_cutoff6A-CA/suf_reseeded_p_rep_416.dataset\n",
      "\n",
      "loading /home/enf/md_simulations/MOR/h8_reimaged/featuresall_residues_4dkl_5c1m_under_cutoff6A-CA/suf_reseeded_r_rep_15.datasetloading /home/enf/md_simulations/MOR/h8_reimaged/featuresall_residues_4dkl_5c1m_under_cutoff6A-CA/suf_reseeded_p_rep_417.dataset\n",
      "\n",
      "loading /home/enf/md_simulations/MOR/h8_reimaged/featuresall_residues_4dkl_5c1m_under_cutoff6A-CA/suf_reseeded_r_rep_150.datasetloading /home/enf/md_simulations/MOR/h8_reimaged/featuresall_residues_4dkl_5c1m_under_cutoff6A-CA/suf_reseeded_p_rep_418.dataset\n",
      "\n",
      "loading /home/enf/md_simulations/MOR/h8_reimaged/featuresall_residues_4dkl_5c1m_under_cutoff6A-CA/suf_reseeded_r_rep_151.datasetloading /home/enf/md_simulations/MOR/h8_reimaged/featuresall_residues_4dkl_5c1m_under_cutoff6A-CA/suf_reseeded_p_rep_419.dataset\n",
      "\n",
      "loading /home/enf/md_simulations/MOR/h8_reimaged/featuresall_residues_4dkl_5c1m_under_cutoff6A-CA/suf_reseeded_r_rep_152.datasetloading /home/enf/md_simulations/MOR/h8_reimaged/featuresall_residues_4dkl_5c1m_under_cutoff6A-CA/suf_reseeded_p_rep_420.dataset\n",
      "\n",
      "loading /home/enf/md_simulations/MOR/h8_reimaged/featuresall_residues_4dkl_5c1m_under_cutoff6A-CA/suf_reseeded_r_rep_153.datasetloading /home/enf/md_simulations/MOR/h8_reimaged/featuresall_residues_4dkl_5c1m_under_cutoff6A-CA/suf_reseeded_p_rep_421.dataset\n",
      "\n",
      "loading /home/enf/md_simulations/MOR/h8_reimaged/featuresall_residues_4dkl_5c1m_under_cutoff6A-CA/suf_reseeded_r_rep_154.datasetloading /home/enf/md_simulations/MOR/h8_reimaged/featuresall_residues_4dkl_5c1m_under_cutoff6A-CA/suf_reseeded_p_rep_422.dataset\n",
      "\n",
      "loading /home/enf/md_simulations/MOR/h8_reimaged/featuresall_residues_4dkl_5c1m_under_cutoff6A-CA/suf_reseeded_r_rep_155.datasetloading /home/enf/md_simulations/MOR/h8_reimaged/featuresall_residues_4dkl_5c1m_under_cutoff6A-CA/suf_reseeded_p_rep_423.dataset\n",
      "\n",
      "loading /home/enf/md_simulations/MOR/h8_reimaged/featuresall_residues_4dkl_5c1m_under_cutoff6A-CA/suf_reseeded_r_rep_156.datasetloading /home/enf/md_simulations/MOR/h8_reimaged/featuresall_residues_4dkl_5c1m_under_cutoff6A-CA/suf_reseeded_p_rep_424.dataset\n",
      "\n",
      "loading /home/enf/md_simulations/MOR/h8_reimaged/featuresall_residues_4dkl_5c1m_under_cutoff6A-CA/suf_reseeded_r_rep_157.datasetloading /home/enf/md_simulations/MOR/h8_reimaged/featuresall_residues_4dkl_5c1m_under_cutoff6A-CA/suf_reseeded_p_rep_425.dataset\n",
      "\n",
      "loading /home/enf/md_simulations/MOR/h8_reimaged/featuresall_residues_4dkl_5c1m_under_cutoff6A-CA/suf_reseeded_r_rep_158.datasetloading /home/enf/md_simulations/MOR/h8_reimaged/featuresall_residues_4dkl_5c1m_under_cutoff6A-CA/suf_reseeded_p_rep_426.dataset\n",
      "\n",
      "loading /home/enf/md_simulations/MOR/h8_reimaged/featuresall_residues_4dkl_5c1m_under_cutoff6A-CA/suf_reseeded_r_rep_159.datasetloading /home/enf/md_simulations/MOR/h8_reimaged/featuresall_residues_4dkl_5c1m_under_cutoff6A-CA/suf_reseeded_p_rep_427.dataset\n",
      "\n",
      "loading /home/enf/md_simulations/MOR/h8_reimaged/featuresall_residues_4dkl_5c1m_under_cutoff6A-CA/suf_reseeded_r_rep_16.datasetloading /home/enf/md_simulations/MOR/h8_reimaged/featuresall_residues_4dkl_5c1m_under_cutoff6A-CA/suf_reseeded_p_rep_428.dataset\n",
      "\n",
      "loading /home/enf/md_simulations/MOR/h8_reimaged/featuresall_residues_4dkl_5c1m_under_cutoff6A-CA/suf_reseeded_r_rep_160.datasetloading /home/enf/md_simulations/MOR/h8_reimaged/featuresall_residues_4dkl_5c1m_under_cutoff6A-CA/suf_reseeded_p_rep_429.dataset\n",
      "\n",
      "loading /home/enf/md_simulations/MOR/h8_reimaged/featuresall_residues_4dkl_5c1m_under_cutoff6A-CA/suf_reseeded_r_rep_161.datasetloading /home/enf/md_simulations/MOR/h8_reimaged/featuresall_residues_4dkl_5c1m_under_cutoff6A-CA/suf_reseeded_p_rep_430.dataset\n",
      "\n",
      "loading /home/enf/md_simulations/MOR/h8_reimaged/featuresall_residues_4dkl_5c1m_under_cutoff6A-CA/suf_reseeded_r_rep_162.datasetloading /home/enf/md_simulations/MOR/h8_reimaged/featuresall_residues_4dkl_5c1m_under_cutoff6A-CA/suf_reseeded_p_rep_431.dataset\n",
      "\n",
      "loading /home/enf/md_simulations/MOR/h8_reimaged/featuresall_residues_4dkl_5c1m_under_cutoff6A-CA/suf_reseeded_r_rep_163.datasetloading /home/enf/md_simulations/MOR/h8_reimaged/featuresall_residues_4dkl_5c1m_under_cutoff6A-CA/suf_reseeded_p_rep_432.dataset\n",
      "\n",
      "loading /home/enf/md_simulations/MOR/h8_reimaged/featuresall_residues_4dkl_5c1m_under_cutoff6A-CA/suf_reseeded_r_rep_164.datasetloading /home/enf/md_simulations/MOR/h8_reimaged/featuresall_residues_4dkl_5c1m_under_cutoff6A-CA/suf_reseeded_p_rep_433.dataset\n",
      "\n",
      "loading /home/enf/md_simulations/MOR/h8_reimaged/featuresall_residues_4dkl_5c1m_under_cutoff6A-CA/suf_reseeded_r_rep_165.datasetloading /home/enf/md_simulations/MOR/h8_reimaged/featuresall_residues_4dkl_5c1m_under_cutoff6A-CA/suf_reseeded_p_rep_434.dataset\n",
      "\n",
      "loading /home/enf/md_simulations/MOR/h8_reimaged/featuresall_residues_4dkl_5c1m_under_cutoff6A-CA/suf_reseeded_r_rep_166.datasetloading /home/enf/md_simulations/MOR/h8_reimaged/featuresall_residues_4dkl_5c1m_under_cutoff6A-CA/suf_reseeded_p_rep_435.dataset\n",
      "\n",
      "loading /home/enf/md_simulations/MOR/h8_reimaged/featuresall_residues_4dkl_5c1m_under_cutoff6A-CA/suf_reseeded_r_rep_167.datasetloading /home/enf/md_simulations/MOR/h8_reimaged/featuresall_residues_4dkl_5c1m_under_cutoff6A-CA/suf_reseeded_p_rep_436.dataset\n",
      "\n",
      "loading /home/enf/md_simulations/MOR/h8_reimaged/featuresall_residues_4dkl_5c1m_under_cutoff6A-CA/suf_reseeded_r_rep_168.datasetloading /home/enf/md_simulations/MOR/h8_reimaged/featuresall_residues_4dkl_5c1m_under_cutoff6A-CA/suf_reseeded_p_rep_437.dataset\n",
      "\n",
      "loading /home/enf/md_simulations/MOR/h8_reimaged/featuresall_residues_4dkl_5c1m_under_cutoff6A-CA/suf_reseeded_r_rep_169.datasetloading /home/enf/md_simulations/MOR/h8_reimaged/featuresall_residues_4dkl_5c1m_under_cutoff6A-CA/suf_reseeded_p_rep_438.dataset\n",
      "\n",
      "loading /home/enf/md_simulations/MOR/h8_reimaged/featuresall_residues_4dkl_5c1m_under_cutoff6A-CA/suf_reseeded_r_rep_17.datasetloading /home/enf/md_simulations/MOR/h8_reimaged/featuresall_residues_4dkl_5c1m_under_cutoff6A-CA/suf_reseeded_p_rep_439.dataset\n",
      "\n",
      "loading /home/enf/md_simulations/MOR/h8_reimaged/featuresall_residues_4dkl_5c1m_under_cutoff6A-CA/suf_reseeded_r_rep_170.datasetloading /home/enf/md_simulations/MOR/h8_reimaged/featuresall_residues_4dkl_5c1m_under_cutoff6A-CA/suf_reseeded_p_rep_440.dataset\n",
      "\n",
      "loading /home/enf/md_simulations/MOR/h8_reimaged/featuresall_residues_4dkl_5c1m_under_cutoff6A-CA/suf_reseeded_r_rep_171.datasetloading /home/enf/md_simulations/MOR/h8_reimaged/featuresall_residues_4dkl_5c1m_under_cutoff6A-CA/suf_reseeded_p_rep_441.dataset\n",
      "\n",
      "loading /home/enf/md_simulations/MOR/h8_reimaged/featuresall_residues_4dkl_5c1m_under_cutoff6A-CA/suf_reseeded_r_rep_172.datasetloading /home/enf/md_simulations/MOR/h8_reimaged/featuresall_residues_4dkl_5c1m_under_cutoff6A-CA/suf_reseeded_p_rep_442.dataset\n",
      "\n",
      "loading /home/enf/md_simulations/MOR/h8_reimaged/featuresall_residues_4dkl_5c1m_under_cutoff6A-CA/suf_reseeded_r_rep_173.datasetloading /home/enf/md_simulations/MOR/h8_reimaged/featuresall_residues_4dkl_5c1m_under_cutoff6A-CA/suf_reseeded_p_rep_443.dataset\n",
      "\n",
      "loading /home/enf/md_simulations/MOR/h8_reimaged/featuresall_residues_4dkl_5c1m_under_cutoff6A-CA/suf_reseeded_r_rep_174.datasetloading /home/enf/md_simulations/MOR/h8_reimaged/featuresall_residues_4dkl_5c1m_under_cutoff6A-CA/suf_reseeded_p_rep_444.dataset\n",
      "\n",
      "loading /home/enf/md_simulations/MOR/h8_reimaged/featuresall_residues_4dkl_5c1m_under_cutoff6A-CA/suf_reseeded_r_rep_175.datasetloading /home/enf/md_simulations/MOR/h8_reimaged/featuresall_residues_4dkl_5c1m_under_cutoff6A-CA/suf_reseeded_p_rep_445.dataset\n",
      "\n",
      "loading /home/enf/md_simulations/MOR/h8_reimaged/featuresall_residues_4dkl_5c1m_under_cutoff6A-CA/suf_reseeded_r_rep_176.datasetloading /home/enf/md_simulations/MOR/h8_reimaged/featuresall_residues_4dkl_5c1m_under_cutoff6A-CA/suf_reseeded_p_rep_446.dataset\n",
      "\n",
      "loading /home/enf/md_simulations/MOR/h8_reimaged/featuresall_residues_4dkl_5c1m_under_cutoff6A-CA/suf_reseeded_r_rep_177.datasetloading /home/enf/md_simulations/MOR/h8_reimaged/featuresall_residues_4dkl_5c1m_under_cutoff6A-CA/suf_reseeded_p_rep_447.dataset\n",
      "\n",
      "loading /home/enf/md_simulations/MOR/h8_reimaged/featuresall_residues_4dkl_5c1m_under_cutoff6A-CA/suf_reseeded_r_rep_178.datasetloading /home/enf/md_simulations/MOR/h8_reimaged/featuresall_residues_4dkl_5c1m_under_cutoff6A-CA/suf_reseeded_p_rep_448.dataset\n",
      "\n",
      "loading /home/enf/md_simulations/MOR/h8_reimaged/featuresall_residues_4dkl_5c1m_under_cutoff6A-CA/suf_reseeded_r_rep_179.datasetloading /home/enf/md_simulations/MOR/h8_reimaged/featuresall_residues_4dkl_5c1m_under_cutoff6A-CA/suf_reseeded_p_rep_449.dataset\n",
      "\n",
      "loading /home/enf/md_simulations/MOR/h8_reimaged/featuresall_residues_4dkl_5c1m_under_cutoff6A-CA/suf_reseeded_r_rep_18.datasetloading /home/enf/md_simulations/MOR/h8_reimaged/featuresall_residues_4dkl_5c1m_under_cutoff6A-CA/suf_reseeded_p_rep_450.dataset\n",
      "\n",
      "loading /home/enf/md_simulations/MOR/h8_reimaged/featuresall_residues_4dkl_5c1m_under_cutoff6A-CA/suf_reseeded_r_rep_180.datasetloading /home/enf/md_simulations/MOR/h8_reimaged/featuresall_residues_4dkl_5c1m_under_cutoff6A-CA/suf_reseeded_p_rep_451.dataset\n",
      "\n",
      "loading /home/enf/md_simulations/MOR/h8_reimaged/featuresall_residues_4dkl_5c1m_under_cutoff6A-CA/suf_reseeded_r_rep_181.datasetloading /home/enf/md_simulations/MOR/h8_reimaged/featuresall_residues_4dkl_5c1m_under_cutoff6A-CA/suf_reseeded_p_rep_452.dataset\n",
      "\n",
      "loading /home/enf/md_simulations/MOR/h8_reimaged/featuresall_residues_4dkl_5c1m_under_cutoff6A-CA/suf_reseeded_r_rep_182.datasetloading /home/enf/md_simulations/MOR/h8_reimaged/featuresall_residues_4dkl_5c1m_under_cutoff6A-CA/suf_reseeded_p_rep_453.dataset\n",
      "\n",
      "loading /home/enf/md_simulations/MOR/h8_reimaged/featuresall_residues_4dkl_5c1m_under_cutoff6A-CA/suf_reseeded_r_rep_183.datasetloading /home/enf/md_simulations/MOR/h8_reimaged/featuresall_residues_4dkl_5c1m_under_cutoff6A-CA/suf_reseeded_p_rep_454.dataset\n",
      "\n",
      "loading /home/enf/md_simulations/MOR/h8_reimaged/featuresall_residues_4dkl_5c1m_under_cutoff6A-CA/suf_reseeded_r_rep_184.datasetloading /home/enf/md_simulations/MOR/h8_reimaged/featuresall_residues_4dkl_5c1m_under_cutoff6A-CA/suf_reseeded_p_rep_455.dataset\n",
      "\n",
      "loading /home/enf/md_simulations/MOR/h8_reimaged/featuresall_residues_4dkl_5c1m_under_cutoff6A-CA/suf_reseeded_r_rep_185.datasetloading /home/enf/md_simulations/MOR/h8_reimaged/featuresall_residues_4dkl_5c1m_under_cutoff6A-CA/suf_reseeded_p_rep_456.dataset\n",
      "\n",
      "loading /home/enf/md_simulations/MOR/h8_reimaged/featuresall_residues_4dkl_5c1m_under_cutoff6A-CA/suf_reseeded_r_rep_186.datasetloading /home/enf/md_simulations/MOR/h8_reimaged/featuresall_residues_4dkl_5c1m_under_cutoff6A-CA/suf_reseeded_p_rep_457.dataset\n",
      "\n",
      "loading /home/enf/md_simulations/MOR/h8_reimaged/featuresall_residues_4dkl_5c1m_under_cutoff6A-CA/suf_reseeded_r_rep_187.datasetloading /home/enf/md_simulations/MOR/h8_reimaged/featuresall_residues_4dkl_5c1m_under_cutoff6A-CA/suf_reseeded_p_rep_458.dataset\n",
      "\n",
      "loading /home/enf/md_simulations/MOR/h8_reimaged/featuresall_residues_4dkl_5c1m_under_cutoff6A-CA/suf_reseeded_r_rep_188.datasetloading /home/enf/md_simulations/MOR/h8_reimaged/featuresall_residues_4dkl_5c1m_under_cutoff6A-CA/suf_reseeded_p_rep_459.dataset\n",
      "\n",
      "loading /home/enf/md_simulations/MOR/h8_reimaged/featuresall_residues_4dkl_5c1m_under_cutoff6A-CA/suf_reseeded_r_rep_189.datasetloading /home/enf/md_simulations/MOR/h8_reimaged/featuresall_residues_4dkl_5c1m_under_cutoff6A-CA/suf_reseeded_p_rep_460.dataset\n",
      "\n",
      "loading /home/enf/md_simulations/MOR/h8_reimaged/featuresall_residues_4dkl_5c1m_under_cutoff6A-CA/suf_reseeded_r_rep_19.datasetloading /home/enf/md_simulations/MOR/h8_reimaged/featuresall_residues_4dkl_5c1m_under_cutoff6A-CA/suf_reseeded_p_rep_461.dataset\n",
      "\n",
      "loading /home/enf/md_simulations/MOR/h8_reimaged/featuresall_residues_4dkl_5c1m_under_cutoff6A-CA/suf_reseeded_r_rep_190.datasetloading /home/enf/md_simulations/MOR/h8_reimaged/featuresall_residues_4dkl_5c1m_under_cutoff6A-CA/suf_reseeded_p_rep_462.dataset\n",
      "\n",
      "loading /home/enf/md_simulations/MOR/h8_reimaged/featuresall_residues_4dkl_5c1m_under_cutoff6A-CA/suf_reseeded_r_rep_191.datasetloading /home/enf/md_simulations/MOR/h8_reimaged/featuresall_residues_4dkl_5c1m_under_cutoff6A-CA/suf_reseeded_p_rep_463.dataset\n",
      "\n",
      "loading /home/enf/md_simulations/MOR/h8_reimaged/featuresall_residues_4dkl_5c1m_under_cutoff6A-CA/suf_reseeded_r_rep_192.datasetloading /home/enf/md_simulations/MOR/h8_reimaged/featuresall_residues_4dkl_5c1m_under_cutoff6A-CA/suf_reseeded_p_rep_464.dataset\n",
      "\n",
      "loading /home/enf/md_simulations/MOR/h8_reimaged/featuresall_residues_4dkl_5c1m_under_cutoff6A-CA/suf_reseeded_r_rep_193.datasetloading /home/enf/md_simulations/MOR/h8_reimaged/featuresall_residues_4dkl_5c1m_under_cutoff6A-CA/suf_reseeded_p_rep_465.dataset\n",
      "\n",
      "loading /home/enf/md_simulations/MOR/h8_reimaged/featuresall_residues_4dkl_5c1m_under_cutoff6A-CA/suf_reseeded_r_rep_194.datasetloading /home/enf/md_simulations/MOR/h8_reimaged/featuresall_residues_4dkl_5c1m_under_cutoff6A-CA/suf_reseeded_p_rep_466.dataset\n",
      "\n",
      "loading /home/enf/md_simulations/MOR/h8_reimaged/featuresall_residues_4dkl_5c1m_under_cutoff6A-CA/suf_reseeded_r_rep_195.datasetloading /home/enf/md_simulations/MOR/h8_reimaged/featuresall_residues_4dkl_5c1m_under_cutoff6A-CA/suf_reseeded_p_rep_467.dataset\n",
      "\n",
      "loading /home/enf/md_simulations/MOR/h8_reimaged/featuresall_residues_4dkl_5c1m_under_cutoff6A-CA/suf_reseeded_r_rep_196.datasetloading /home/enf/md_simulations/MOR/h8_reimaged/featuresall_residues_4dkl_5c1m_under_cutoff6A-CA/suf_reseeded_p_rep_468.dataset\n",
      "\n",
      "loading /home/enf/md_simulations/MOR/h8_reimaged/featuresall_residues_4dkl_5c1m_under_cutoff6A-CA/suf_reseeded_r_rep_197.datasetloading /home/enf/md_simulations/MOR/h8_reimaged/featuresall_residues_4dkl_5c1m_under_cutoff6A-CA/suf_reseeded_p_rep_469.dataset\n",
      "\n",
      "loading /home/enf/md_simulations/MOR/h8_reimaged/featuresall_residues_4dkl_5c1m_under_cutoff6A-CA/suf_reseeded_r_rep_198.datasetloading /home/enf/md_simulations/MOR/h8_reimaged/featuresall_residues_4dkl_5c1m_under_cutoff6A-CA/suf_reseeded_p_rep_470.dataset\n",
      "\n",
      "loading /home/enf/md_simulations/MOR/h8_reimaged/featuresall_residues_4dkl_5c1m_under_cutoff6A-CA/suf_reseeded_r_rep_199.datasetloading /home/enf/md_simulations/MOR/h8_reimaged/featuresall_residues_4dkl_5c1m_under_cutoff6A-CA/suf_reseeded_p_rep_471.dataset\n"
     ]
    }
   ],
   "source": [
    "feature_indices = []\n",
    "traj_basenames = get_trajectory_files(traj_dir, \".h5\")\n",
    "traj_basenames = [os.path.splitext(os.path.basename(t))[0] for t in traj_basenames]\n",
    "feature_basenames = get_trajectory_files(features_dir, \".dataset\")\n",
    "feature_basenames = [os.path.splitext(os.path.basename(t))[0] for t in feature_basenames]\n",
    "for i, traj_basename in enumerate(traj_basenames):\n",
    "    if traj_basename in feature_basenames:\n",
    "        feature_indices.append(int(i))"
   ]
  },
  {
   "cell_type": "code",
   "execution_count": 15,
   "metadata": {
    "collapsed": false
   },
   "outputs": [
    {
     "name": "stdout",
     "output_type": "stream",
     "text": [
      "loading \"/home/enf/md_simulations/MOR/h8_reimaged/sparse-tICA_t50_n_components10all_residues_4dkl_5c1m_under_cutoff6A-CA_regularization_wolf_autoShrinkage0pt01-with-inactive/phi_psi_chi2_allprot_projected.h5\"...\n",
      "loading \"/home/enf/md_simulations/MOR/h8_reimaged/all_pnas_features/user_defined_features.h5\"...\n"
     ]
    }
   ],
   "source": [
    "tica_coords = verboseload(projected_features_dir)\n",
    "pnas_coords = verboseload(user_defined_features_file)\n",
    "pnas_coords = [pnas_coords[i] for i in feature_indices]\n",
    "tica_names = [\"tIC.%d\" %i for i in range(1,n_components+1)]\n",
    "pnas_names = sorted(feature_name_residues_dict.keys())"
   ]
  },
  {
   "cell_type": "code",
   "execution_count": null,
   "metadata": {
    "collapsed": false
   },
   "outputs": [],
   "source": [
    "print(np.concatenate(tica_coords).shape)\n",
    "print(np.concatenate(pnas_coords).shape)"
   ]
  },
  {
   "cell_type": "code",
   "execution_count": null,
   "metadata": {
    "collapsed": false
   },
   "outputs": [],
   "source": [
    "from plots import *"
   ]
  },
  {
   "cell_type": "code",
   "execution_count": null,
   "metadata": {
    "collapsed": false
   },
   "outputs": [],
   "source": [
    "plot_data_vs_data(np.concatenate(tica_coords), np.concatenate(pnas_coords), tica_names, pnas_names, analysis_dir)"
   ]
  },
  {
   "cell_type": "code",
   "execution_count": null,
   "metadata": {
    "collapsed": true
   },
   "outputs": [],
   "source": [
    "subsampled_features_dir = os.path.join(tica_dir, \"subsampled_features\")\n",
    "if not os.path.exists(subsampled_features_dir): os.makedirs(subsampled_features_dir)"
   ]
  },
  {
   "cell_type": "code",
   "execution_count": null,
   "metadata": {
    "collapsed": false
   },
   "outputs": [],
   "source": [
    "with open(feature_residues_pkl) as f:\n",
    "    feature_names = pickle.load(f)\n",
    "print(feature_names[0].__repr__())"
   ]
  },
  {
   "cell_type": "code",
   "execution_count": null,
   "metadata": {
    "collapsed": false
   },
   "outputs": [],
   "source": [
    "ref_features = [load_file(f) for f in get_trajectory_files(ref_features_dir, \".dataset\")]\n",
    "print(len(ref_features))\n",
    "print(ref_features[0].shape)\n",
    "print(ref_features[1].shape)\n",
    "print(len(feature_names))\n",
    "ref_features = pd.DataFrame(ref_features[0], columns=[str(f) for f in feature_names])"
   ]
  },
  {
   "cell_type": "code",
   "execution_count": null,
   "metadata": {
    "collapsed": false,
    "scrolled": true
   },
   "outputs": [],
   "source": [
    "import interpret_tICs\n",
    "reload(interpret_tICs)\n",
    "from interpret_tICs import *\n",
    "tic_components_dir = tica_dir\n",
    "important_contact_features = interpret_tIC_components(projection_operator_dir, tic_components_dir, feature_residues_pkl, n_tica_components=n_components, percentile=95)\n"
   ]
  },
  {
   "cell_type": "code",
   "execution_count": null,
   "metadata": {
    "collapsed": false
   },
   "outputs": [],
   "source": [
    "import interpret_tICs\n",
    "reload(interpret_tICs)\n",
    "from interpret_tICs import *\n",
    "tic_subsampled_features_file = \"%s/features_subsampled.pkl\" % tica_dir\n",
    "subsampled_features_dir = os.path.join(tica_dir, \"subsampled_features\")\n",
    "if not os.path.exists(subsampled_features_dir): os.makedirs(subsampled_features_dir)\n",
    "important_contact_features_pruned, important_contact_features_indices = find_non_zero_features(important_contact_features[0], feature_names)\n",
    "#subsample_features(features_dir, important_contact_features_indices, important_contact_features_pruned, tic_subsampled_features_file)"
   ]
  },
  {
   "cell_type": "code",
   "execution_count": null,
   "metadata": {
    "collapsed": false
   },
   "outputs": [],
   "source": [
    "protein_top_features = load_file(tic_subsampled_features_file)"
   ]
  },
  {
   "cell_type": "code",
   "execution_count": null,
   "metadata": {
    "collapsed": false
   },
   "outputs": [],
   "source": [
    "from ipyparallel import Client\n",
    "rc = Client()\n",
    "dview = rc[:]\n",
    "dview.map(os.chdir, ['/home/enf/b2ar_analysis/conformation']*len(rc.ids))\n",
    "\n",
    "print(len(rc.ids))\n"
   ]
  },
  {
   "cell_type": "code",
   "execution_count": null,
   "metadata": {
    "collapsed": false
   },
   "outputs": [],
   "source": [
    "bu72_trajs = []\n",
    "apo_trajs = []\n",
    "oxy_trajs = []\n",
    "suf_trajs = []\n",
    "trv_trajs = []\n",
    "trajs = get_trajectory_files(features_dir, \".dataset\")\n",
    "#trajs = [t for t in get_trajectory_files(traj_dir, traj_ext) if \"apo_reimaged\" not in t and \"oxy\" not in t]\n",
    "for i, traj in enumerate(trajs):\n",
    "    if \"bu72\" in traj or \"CO\" in traj or \"Co\" in traj:\n",
    "        bu72_trajs.append(i)\n",
    "    elif \"apo\" in traj:\n",
    "        apo_trajs.append(i)\n",
    "    elif \"oxy\" in traj:\n",
    "        oxy_trajs.append(i)\n",
    "    elif \"suf\" in traj:\n",
    "        suf_trajs.append(i)\n",
    "    elif \"trv\" in traj:\n",
    "        trv_trajs.append(i)\n",
    "\n",
    "user_defined_coords = load_file(user_defined_features_file)\n",
    "\n",
    "            "
   ]
  },
  {
   "cell_type": "code",
   "execution_count": null,
   "metadata": {
    "collapsed": false
   },
   "outputs": [],
   "source": [
    "len(bu72_trajs)"
   ]
  },
  {
   "cell_type": "code",
   "execution_count": null,
   "metadata": {
    "collapsed": false,
    "scrolled": true
   },
   "outputs": [],
   "source": [
    "bu72_pnas = [user_defined_coords[i] for i in bu72_trajs]\n",
    "apo_pnas = [user_defined_coords[i] for i in apo_trajs]\n",
    "oxy_pnas = [user_defined_coords[i] for i in oxy_trajs]\n",
    "suf_pnas = [user_defined_coords[i] for i in suf_trajs]"
   ]
  },
  {
   "cell_type": "code",
   "execution_count": null,
   "metadata": {
    "collapsed": false
   },
   "outputs": [],
   "source": [
    "bu72_pnas_file = \"%s/bu72.h5\" % whole_trajectory_pnas\n",
    "apo_pnas_file = \"%s/apo.h5\" % whole_trajectory_pnas\n",
    "#oxy_pnas_file = \"%s/oxy.h5\" % whole_trajectory_pnas\n",
    "suf_pnas_file = \"%s/suf.h5\" % whole_trajectory_pnas"
   ]
  },
  {
   "cell_type": "code",
   "execution_count": null,
   "metadata": {
    "collapsed": false
   },
   "outputs": [],
   "source": [
    "from imp import reload\n",
    "import analysis\n",
    "reload(analysis)\n",
    "from analysis import *\n",
    "import seaborn as sns\n",
    "bu72_pnas_concatenated = np.concatenate(bu72_pnas)\n",
    "print(np.shape(bu72_pnas_concatenated))\n",
    "apo_pnas_concatenated = np.concatenate(apo_pnas)\n",
    "#oxy_pnas_concatenated = np.concatenate(oxy_pnas)\n",
    "suf_pnas_concatenated = np.concatenate(suf_pnas)\n",
    "\n",
    "\n",
    "\n",
    "\n",
    "verbosedump(bu72_pnas, bu72_pnas_file)\n",
    "verbosedump(apo_pnas, apo_pnas_file)\n",
    "#verbosedump(oxy_pnas, oxy_pnas_file)\n",
    "verbosedump(suf_pnas, suf_pnas_file)\n",
    "\n",
    "\n",
    "\n",
    "\n",
    "\n",
    "columns=sorted(feature_name_residues_dict.keys())\n",
    "#plot_columns(whole_trajectory_pnas, bu72_pnas_file, titles=columns, main = \"BU72\", tICA = False, scale = 1.0, refcoords_file = None)\n",
    "#plot_columns(whole_trajectory_pnas, apo_pnas_file, titles=columns, main = \"Apo\", tICA = False, scale = 1.0, refcoords_file = None)\n",
    "\n",
    "#df = pd.DataFrame(bu72_pnas_concatenated, columns=sorted(feature_name_residues_dict.keys()))\n",
    "#sns.jointplot(x=\"tm6_tm3_dist\", y=\"rmsd_npxxy_inactive\", data=df, kind=\"kde\")\n",
    "#plt.hexbin(bu72_pnas_concatenated[:,0], bu72_pnas_concatenated[:,2], cmap=plt.cm.YlOrRd_r)"
   ]
  },
  {
   "cell_type": "code",
   "execution_count": null,
   "metadata": {
    "collapsed": false
   },
   "outputs": [],
   "source": [
    "#oxy_tica_file = \"%s/oxy_tica.h5\" % tica_dir\n",
    "bu72_tica_file = \"%s/bu72_tica.h5\" % tica_dir\n",
    "apo_tica_file = \"%s/apo_tica.h5\" % tica_dir\n",
    "suf_tica_file = \"%s/suf_tica.h5\" % tica_dir"
   ]
  },
  {
   "cell_type": "code",
   "execution_count": null,
   "metadata": {
    "collapsed": false
   },
   "outputs": [],
   "source": [
    "tica_coords = verboseload(projected_features_dir)\n",
    "#oxy_tica = [tica_coords[i] for i in oxy_trajs]\n",
    "bu72_tica = [tica_coords[i] for i in bu72_trajs]\n",
    "apo_tica = [tica_coords[i] for i in apo_trajs]\n",
    "suf_tica = [tica_coords[i] for i in suf_trajs]\n",
    "\n",
    "\n",
    "#verbosedump(oxy_tica, oxy_tica_file)\n",
    "verbosedump(bu72_tica, bu72_tica_file)\n",
    "verbosedump(apo_tica, apo_tica_file)\n",
    "verbosedump(suf_tica, suf_tica_file)\n",
    "\n",
    "\n",
    "\n",
    "columns = [\"tIC%d\" %i for i in range(1,n_components+1)]\n",
    "#plot_columns(tica_dir, bu72_tica_file, titles=columns, main = \"BU72\", tICA = False, scale = 1.0, refcoords_file = None)\n",
    "#plot_columns(tica_dir, apo_tica_file, titles=columns, main = \"Apo\", tICA = False, scale = 1.0, refcoords_file = None)\n",
    "\n",
    "\n"
   ]
  },
  {
   "cell_type": "code",
   "execution_count": null,
   "metadata": {
    "collapsed": false
   },
   "outputs": [],
   "source": [
    "#print(np.concatenate(oxy_tica).shape)\n",
    "print(np.concatenate(apo_tica).shape)\n",
    "print(np.concatenate(bu72_tica).shape)\n",
    "print(np.concatenate(suf_tica).shape)\n",
    "\n"
   ]
  },
  {
   "cell_type": "code",
   "execution_count": null,
   "metadata": {
    "collapsed": false
   },
   "outputs": [],
   "source": [
    "import custom_clusterer\n",
    "reload(custom_clusterer)\n",
    "from custom_clusterer import *\n",
    "n_clusters = 250\n",
    "clusterer_dir = \"%s/clusterer_%dclusters.h5\" %(tica_dir, n_clusters)\n",
    "if not os.path.exists(clusterer_dir):\n",
    "    cluster_minikmeans(tica_dir, projected_features_dir, traj_dir, n_clusters=n_clusters, clusterer_dir=clusterer_dir)"
   ]
  },
  {
   "cell_type": "code",
   "execution_count": null,
   "metadata": {
    "collapsed": false
   },
   "outputs": [],
   "source": [
    "print(clusterer_dir)"
   ]
  },
  {
   "cell_type": "code",
   "execution_count": null,
   "metadata": {
    "collapsed": false
   },
   "outputs": [],
   "source": [
    "oxy_clusterer_file = \"%s/oxy_clusterer%d.h5\" %(tica_dir, n_clusters)\n",
    "bu72_clusterer_file = \"%s/bu72_clusterer%d.h5\" %(tica_dir, n_clusters)\n",
    "apo_clusterer_file = \"%s/apo_clusterer%d.h5\" %(tica_dir, n_clusters)\n",
    "suf_clusterer_file = \"%s/suf_clusterer%d.h5\" %(tica_dir, n_clusters)\n",
    "\n"
   ]
  },
  {
   "cell_type": "code",
   "execution_count": null,
   "metadata": {
    "collapsed": false
   },
   "outputs": [],
   "source": [
    "clusterer = verboseload(clusterer_dir)\n",
    "cluster_labels = clusterer.labels_\n",
    "#oxy_clusters = [cluster_labels[i] for i in oxy_trajs]\n",
    "bu72_clusters = [cluster_labels[i] for i in bu72_trajs]\n",
    "apo_clusters = [cluster_labels[i] for i in apo_trajs]\n",
    "suf_clusters = [cluster_labels[i] for i in suf_trajs]\n",
    "\n",
    "\n",
    "\n",
    "bu72_clusterer = copy.deepcopy(clusterer)\n",
    "bu72_clusterer.labels_ = bu72_clusters\n",
    "#if not os.path.exists(bu72_clusterer_file):\n",
    "verbosedump(bu72_clusterer, bu72_clusterer_file)\n",
    "\n",
    "apo_clusterer = copy.deepcopy(clusterer)\n",
    "apo_clusterer.labels_ = apo_clusters\n",
    "    \n",
    "#if not os.path.exists(apo_clusterer_file):\n",
    "verbosedump(apo_clusterer, apo_clusterer_file)\n",
    "\n",
    "#oxy_clusterer = copy.deepcopy(clusterer)\n",
    "#oxy_clusterer.labels_ = oxy_clusters\n",
    "    \n",
    "#if not os.path.exists(oxy_clusterer_file):\n",
    "#verbosedump(oxy_clusterer, oxy_clusterer_file)\n",
    "\n",
    "suf_clusterer = copy.deepcopy(clusterer)\n",
    "suf_clusterer.labels_ = suf_clusters\n",
    "    \n",
    "#if not os.path.exists(oxy_clusterer_file):\n",
    "verbosedump(suf_clusterer, suf_clusterer_file)"
   ]
  },
  {
   "cell_type": "code",
   "execution_count": null,
   "metadata": {
    "collapsed": true
   },
   "outputs": [],
   "source": [
    "cluster_tica_averages = calculate_cluster_averages_per_feature(bu72_clusterer, bu72_tica)\n",
    "cluster_tica_averages = pd.DataFrame(cluster_tica_averages, columns=[\"tIC.%d\" %i for i in range(1, n_components+1)])\n",
    "\n"
   ]
  },
  {
   "cell_type": "code",
   "execution_count": null,
   "metadata": {
    "collapsed": false
   },
   "outputs": [],
   "source": [
    "intermediate_actives = cluster_tica_averages.loc[(cluster_tica_averages[\"tIC.2\"] > 0.7) & (cluster_tica_averages[\"tIC.2\"] < 1.2) & (cluster_tica_averages[\"tIC.5\"] > 0.) & (cluster_tica_averages[\"tIC.2\"] < 0.8)]\n",
    "intermediate_actives"
   ]
  },
  {
   "cell_type": "code",
   "execution_count": null,
   "metadata": {
    "collapsed": true
   },
   "outputs": [],
   "source": [
    "import custom_msm\n",
    "reload(custom_msm)\n",
    "from custom_msm import *\n",
    "from msm_resampled import *"
   ]
  },
  {
   "cell_type": "code",
   "execution_count": null,
   "metadata": {
    "collapsed": false,
    "scrolled": true
   },
   "outputs": [],
   "source": [
    "apo_clusters_map = make_clusters_map(apo_clusterer)\n",
    "bu72_clusters_map = make_clusters_map(bu72_clusterer)\n",
    "#oxy_clusters_map = make_clusters_map(oxy_clusterer)\n",
    "suf_clusters_map = make_clusters_map(suf_clusterer)"
   ]
  },
  {
   "cell_type": "code",
   "execution_count": null,
   "metadata": {
    "collapsed": false,
    "scrolled": true
   },
   "outputs": [],
   "source": [
    "\n",
    "plt.clf()\n",
    "plot_timescales(apo_clusterer_file, n_clusters, tica_dir, main=\"Apo MSM Timescales\", lag_times=list(range(1,101,20)))"
   ]
  },
  {
   "cell_type": "code",
   "execution_count": null,
   "metadata": {
    "collapsed": false
   },
   "outputs": [],
   "source": [
    "plt.clf()\n",
    "plot_timescales(bu72_clusterer_file, n_clusters, tica_dir, main=\"BU72 MSM Timescales\", lag_times=list(range(1,101,20)))"
   ]
  },
  {
   "cell_type": "code",
   "execution_count": null,
   "metadata": {
    "collapsed": false
   },
   "outputs": [],
   "source": [
    "plt.clf()\n",
    "plot_timescales(suf_clusterer_file, n_clusters, tica_dir, main=\"SUF MSM Timescales\", lag_times=list(range(1,101,20)))"
   ]
  },
  {
   "cell_type": "code",
   "execution_count": null,
   "metadata": {
    "collapsed": false,
    "scrolled": true
   },
   "outputs": [],
   "source": [
    "apo_lag_time=25\n",
    "prior_counts = 0.0\n",
    "apo_msm_dir = os.path.join(tica_dir, \"apo_msm_lag-time%d_prior-counts%s_clusters%d.h5\" %(apo_lag_time, str(prior_counts), n_clusters))\n",
    "if not os.path.exists(apo_msm_dir):\n",
    "    apo_msm = build_msm(apo_clusterer_file, apo_lag_time, apo_msm_dir, prior_counts)\n",
    "else:\n",
    "    apo_msm = verboseload(apo_msm_dir)\n",
    "\n",
    "import msm_resampled\n",
    "reload(msm_resampled)\n",
    "from msm_resampled import *\n",
    "total_samples = 20000\n",
    "num_trajs = len(apo_trajs)\n",
    "prior_counts = 0.\n",
    "apo_resampled_traj_to_frames_file = os.path.join(tica_dir, \"apo_msm_lag-time%d_prior-counts%s_clusters%d_resampled_%d.h5\" %(apo_lag_time, str(prior_counts), n_clusters, total_samples))\n",
    "#if not os.path.exists(apo_resampled_traj_to_frames_file):\n",
    "apo_resampled_traj_to_frames = resample_by_msm(total_samples, apo_msm, apo_clusters_map, num_trajs, apo_resampled_traj_to_frames_file)\n",
    "#else:\n",
    "apo_resampled_traj_to_frames = verboseload(apo_resampled_traj_to_frames_file)\n",
    "\n",
    "apo_pnas = verboseload(apo_pnas_file)\n",
    "apo_pnas_resampled_file = os.path.join(tica_dir, \"apo_pnas_msm_lag-time%d_prior-counts%s_clusters%d_resampled_%d.h5\" %(apo_lag_time, str(prior_counts), n_clusters, total_samples))\n",
    "resample_features_by_msm_equilibirum_pop(apo_pnas, apo_resampled_traj_to_frames, apo_pnas_resampled_file)\n",
    "apo_pnas_resampled = verboseload(apo_pnas_resampled_file)\n",
    "\n",
    "tica_concatenated = np.concatenate(verboseload(projected_features_dir))\n",
    "tica_axes = [(np.min(tica_concatenated[:,i]), np.max(tica_concatenated[:,i])) for i in range(0, np.shape(tica_concatenated)[1])]\n",
    "\n",
    "apo_tica = verboseload(apo_tica_file)\n",
    "apo_tica_resampled_file = os.path.join(tica_dir, \"apo_tica_msm_lag-time%d_prior-counts%s_clusters%d_resampled_%d.h5\" %(apo_lag_time, str(prior_counts), n_clusters, total_samples))\n",
    "resample_features_by_msm_equilibirum_pop(apo_tica, apo_resampled_traj_to_frames, apo_tica_resampled_file)\n",
    "apo_tica_resampled = verboseload(apo_tica_resampled_file)\n",
    "\n",
    "apo_clusterer = verboseload(apo_clusterer_file)\n",
    "apo_msm = verboseload(apo_msm_dir)\n",
    "\n",
    "cluster_id_proportion_tuples = []\n",
    "\n",
    "equilibrium_populations = apo_msm.populations_\n",
    "\n",
    "for cluster_id in apo_msm.mapping_.keys():\n",
    "    state_id = apo_msm.mapping_[cluster_id]\n",
    "    cluster_id_proportion_tuples.append((cluster_id,equilibrium_populations[state_id]))\n",
    "cluster_id_proportion_tuples = sorted(cluster_id_proportion_tuples, key=itemgetter(1), reverse=True)\n",
    "\n",
    "#plot_all_tics_and_clusters(tica_dir, apo_tica_resampled_file, apo_clusterer_file, lag_time, tic_range=range(0,n_components), main = \"Apo_MSM_Reweighted\", label = \"cluster_id\", active_cluster_ids = [c[0] for c in cluster_id_proportion_tuples[0:100]], intermediate_cluster_ids = [], inactive_cluster_ids = [], concatenate=False, axes=tica_axes)\n",
    "\n",
    "#plot_columns(tica_dir, apo_tica_resampled_file, titles = [\"tIC.%d\" %i for i in range(1,n_components+1)], main = \"mOR_Apo_MSM_\", tICA = False, scale = 1.0, refcoords_file = ref_tica_coords, axes=tica_axes, concatenate=False, reshape=False)"
   ]
  },
  {
   "cell_type": "code",
   "execution_count": null,
   "metadata": {
    "collapsed": false
   },
   "outputs": [],
   "source": [
    "plt.hexbin(apo_tica_resampled[:,2], apo_tica_resampled[:,9])\n",
    "plt.show()"
   ]
  },
  {
   "cell_type": "code",
   "execution_count": null,
   "metadata": {
    "collapsed": false
   },
   "outputs": [],
   "source": [
    "apo_tica_resampled.shape"
   ]
  },
  {
   "cell_type": "code",
   "execution_count": null,
   "metadata": {
    "collapsed": false
   },
   "outputs": [],
   "source": [
    "plt.scatter(bu72_tica_resampled[:,2], bu72_tica_resampled[:,9])\n",
    "plt.show()"
   ]
  },
  {
   "cell_type": "code",
   "execution_count": null,
   "metadata": {
    "collapsed": false
   },
   "outputs": [],
   "source": [
    "sorted(feature_name_residues_dict.keys())"
   ]
  },
  {
   "cell_type": "code",
   "execution_count": null,
   "metadata": {
    "collapsed": false
   },
   "outputs": [],
   "source": [
    "plt.clf()\n",
    "plt.hist(apo_pnas_resampled[:,8],bins=50)\n",
    "plt.show()"
   ]
  },
  {
   "cell_type": "code",
   "execution_count": null,
   "metadata": {
    "collapsed": false
   },
   "outputs": [],
   "source": [
    "plt.clf()\n",
    "plt.hist(bu72_pnas_resampled[:,8],bins=50)\n",
    "plt.show()"
   ]
  },
  {
   "cell_type": "code",
   "execution_count": null,
   "metadata": {
    "collapsed": false
   },
   "outputs": [],
   "source": [
    "\n",
    "bu72_lag_time=25\n",
    "prior_counts = 0.0\n",
    "bu72_msm_dir = os.path.join(tica_dir, \"bu72_msm_lag-time%d_prior-counts%s_clusters%d.h5\" %(bu72_lag_time, str(prior_counts), n_clusters))\n",
    "#if not os.path.exists(bu72_msm_dir):\n",
    "bu72_msm = build_msm(bu72_clusterer_file, bu72_lag_time, bu72_msm_dir, prior_counts)\n",
    "#else:\n",
    "bu72_msm = verboseload(bu72_msm_dir)\n",
    "\n",
    "import msm_resampled\n",
    "reload(msm_resampled)\n",
    "from msm_resampled import *\n",
    "total_samples = 20000\n",
    "num_trajs = len(bu72_trajs)\n",
    "prior_counts = 0.\n",
    "bu72_resampled_traj_to_frames_file = os.path.join(tica_dir, \"bu72_msm_lag-time%d_prior-counts%s_clusters%d_resampled_%d.h5\" %(bu72_lag_time, str(prior_counts), n_clusters, total_samples))\n",
    "#if not os.path.exists(bu72_resampled_traj_to_frames_file):\n",
    "bu72_resampled_traj_to_frames = resample_by_msm(total_samples, bu72_msm, bu72_clusters_map, num_trajs, bu72_resampled_traj_to_frames_file)\n",
    "#else:\n",
    "bu72_resampled_traj_to_frames = verboseload(bu72_resampled_traj_to_frames_file)\n",
    "\n",
    "bu72_pnas = verboseload(bu72_pnas_file)\n",
    "bu72_pnas_resampled_file = os.path.join(tica_dir, \"bu72_pnas_msm_lag-time%d_prior-counts%s_clusters%d_resampled_%d.h5\" %(bu72_lag_time, str(prior_counts), n_clusters, total_samples))\n",
    "resample_features_by_msm_equilibirum_pop(bu72_pnas, bu72_resampled_traj_to_frames, bu72_pnas_resampled_file)\n",
    "bu72_pnas_resampled = verboseload(bu72_pnas_resampled_file)\n",
    "\n",
    "tica_concatenated = np.concatenate(verboseload(projected_features_dir))\n",
    "tica_axes = [(np.min(tica_concatenated[:,i]), np.max(tica_concatenated[:,i])) for i in range(0, np.shape(tica_concatenated)[1])]\n",
    "\n",
    "bu72_tica = verboseload(bu72_tica_file)\n",
    "bu72_tica_resampled_file = os.path.join(tica_dir, \"bu72_tica_msm_lag-time%d_prior-counts%s_clusters%d_resampled_%d.h5\" %(bu72_lag_time, str(prior_counts), n_clusters, total_samples))\n",
    "resample_features_by_msm_equilibirum_pop(bu72_tica, bu72_resampled_traj_to_frames, bu72_tica_resampled_file)\n",
    "bu72_tica_resampled = verboseload(bu72_tica_resampled_file)\n",
    "\n",
    "bu72_clusterer = verboseload(bu72_clusterer_file)\n",
    "bu72_msm = verboseload(bu72_msm_dir)\n",
    "\n",
    "cluster_id_proportion_tuples = []\n",
    "\n",
    "equilibrium_populations = bu72_msm.populations_\n",
    "\n",
    "for cluster_id in bu72_msm.mapping_.keys():\n",
    "    state_id = bu72_msm.mapping_[cluster_id]\n",
    "    cluster_id_proportion_tuples.append((cluster_id,equilibrium_populations[state_id]))\n",
    "cluster_id_proportion_tuples = sorted(cluster_id_proportion_tuples, key=itemgetter(1), reverse=True)\n",
    "    \n",
    "#plot_all_tics_and_clusters(tica_dir, bu72_tica_resampled_file, bu72_clusterer_file, lag_time, tic_range=range(0,n_components), main = \"bu72_MSM_Reweighted\", label = \"cluster_id\", active_cluster_ids = [c[0] for c in cluster_id_proportion_tuples[0:100]], intermediate_cluster_ids = [], inactive_cluster_ids = [], concatenate=False, axes=tica_axes)\n",
    "\n",
    "#plot_columns(tica_dir, bu72_tica_resampled_file, titles = [\"tIC.%d\" %i for i in range(1,n_components+1)], main = \"mOR_bu72_MSM_\", tICA = False, scale = 1.0, refcoords_file = ref_tica_coords, axes=tica_axes, concatenate=False, reshape=False)"
   ]
  },
  {
   "cell_type": "code",
   "execution_count": null,
   "metadata": {
    "collapsed": false
   },
   "outputs": [],
   "source": [
    "plt.clf()\n",
    "plt.hist(np.concatenate(bu72_pnas)[:,8], bins=50)\n",
    "plt.show()"
   ]
  },
  {
   "cell_type": "code",
   "execution_count": null,
   "metadata": {
    "collapsed": false
   },
   "outputs": [],
   "source": [
    "bu72_pnas_averages = calculate_cluster_averages_per_feature(bu72_clusterer, bu72_pnas)\n",
    "len(sorted(list(set(np.concatenate(bu72_clusterer.labels_)))))\n",
    "print(np.sum(bu72_msm.populations_[np.concatenate(bu72_msm.transform(np.where(bu72_pnas_averages[:,8] > 12.)[0]))]))\n",
    "print(np.sum(bu72_msm.populations_[np.concatenate(bu72_msm.transform(np.where(bu72_pnas_averages[:,8] < 12.)[0]))]))"
   ]
  },
  {
   "cell_type": "code",
   "execution_count": null,
   "metadata": {
    "collapsed": false
   },
   "outputs": [],
   "source": [
    "apo_pnas_averages = calculate_cluster_averages_per_feature(apo_clusterer, apo_pnas)\n",
    "len(sorted(list(set(np.concatenate(apo_clusterer.labels_)))))\n",
    "print(np.sum(apo_msm.populations_[np.concatenate(apo_msm.transform(np.where(apo_pnas_averages[:,8] > 12.)[0]))]))\n",
    "print(np.sum(apo_msm.populations_[np.concatenate(apo_msm.transform(np.where(apo_pnas_averages[:,8] < 12.)[0]))]))"
   ]
  },
  {
   "cell_type": "code",
   "execution_count": null,
   "metadata": {
    "collapsed": false
   },
   "outputs": [],
   "source": [
    "apo_pnas_averages = calculate_cluster_averages_per_feature(apo_clusterer, apo_pnas)\n",
    "sorted(list(set(np.concatenate(apo_clusterer.labels_))))"
   ]
  },
  {
   "cell_type": "code",
   "execution_count": null,
   "metadata": {
    "collapsed": false
   },
   "outputs": [],
   "source": [
    "np.sum(apo_msm.populations_[np.concatenate(apo_msm.partial_transform(list(set(np.concatenate(apo_clusterer.labels_)))))])"
   ]
  },
  {
   "cell_type": "code",
   "execution_count": null,
   "metadata": {
    "collapsed": false
   },
   "outputs": [],
   "source": [
    "apo_msm.partial_transform(list(set(np.concatenate(apo_clusterer.labels_))))"
   ]
  },
  {
   "cell_type": "code",
   "execution_count": null,
   "metadata": {
    "collapsed": false
   },
   "outputs": [],
   "source": [
    "apo_msm.partial_transform(np.array(list(set(np.concatenate(apo_clusterer.labels_)))))"
   ]
  },
  {
   "cell_type": "code",
   "execution_count": null,
   "metadata": {
    "collapsed": false
   },
   "outputs": [],
   "source": [
    "plt.clf()\n",
    "plt.hist(np.concatenate(apo_pnas)[:,8], bins=50, range=[6,18.])\n",
    "plt.show()"
   ]
  },
  {
   "cell_type": "code",
   "execution_count": null,
   "metadata": {
    "collapsed": false
   },
   "outputs": [],
   "source": [
    "graph_file = \"%s/bu72_msm_lag_time%d_graph.graphml\" % (tica_dir, bu72_lag_time)\n",
    "bu72_tica_averages = calculate_cluster_averages_per_feature(bu72_clusterer, bu72_tica)\n",
    "bu72_cluster_attributes = {}\n",
    "for i, title in enumerate([\"tIC.%d\" %i for i in range(1,n_components+1)]):\n",
    "    bu72_cluster_attributes[title] = bu72_tica_averages[:,i]\n",
    "construct_graph(bu72_msm_dir, bu72_clusterer_file, n_clusters, 5, 5, graph_file, inactive = None, active = None, pnas_clusters_averages = None, tica_clusters_averages = None, docking=None, macrostate = None, cluster_attributes=bu72_cluster_attributes)"
   ]
  },
  {
   "cell_type": "code",
   "execution_count": null,
   "metadata": {
    "collapsed": false
   },
   "outputs": [],
   "source": [
    "suf_lag_time=25\n",
    "prior_counts = 0.0\n",
    "suf_msm_dir = os.path.join(tica_dir, \"suf_msm_lag-time%d_prior-counts%s_clusters%d.h5\" %(suf_lag_time, str(prior_counts), n_clusters))\n",
    "#if not os.path.exists(suf_msm_dir):\n",
    "suf_msm = build_msm(suf_clusterer_file, suf_lag_time, suf_msm_dir, prior_counts)\n",
    "#else:\n",
    "#suf_msm = verboseload(suf_msm_dir)\n",
    "\n",
    "import msm_resampled\n",
    "reload(msm_resampled)\n",
    "from msm_resampled import *\n",
    "total_samples = 20000\n",
    "num_trajs = len(suf_trajs)\n",
    "prior_counts = 0.\n",
    "suf_resampled_traj_to_frames_file = os.path.join(tica_dir, \"suf_msm_lag-time%d_prior-counts%s_clusters%d_resampled_%d.h5\" %(suf_lag_time, str(prior_counts), n_clusters, total_samples))\n",
    "#if not os.path.exists(suf_resampled_traj_to_frames_file):\n",
    "suf_resampled_traj_to_frames = resample_by_msm(total_samples, suf_msm, suf_clusters_map, num_trajs, suf_resampled_traj_to_frames_file)\n",
    "#else:\n",
    "suf_resampled_traj_to_frames = verboseload(suf_resampled_traj_to_frames_file)\n",
    "\n",
    "suf_pnas = verboseload(suf_pnas_file)\n",
    "suf_pnas_resampled_file = os.path.join(tica_dir, \"suf_pnas_msm_lag-time%d_prior-counts%s_clusters%d_resampled_%d.h5\" %(suf_lag_time, str(prior_counts), n_clusters, total_samples))\n",
    "resample_features_by_msm_equilibirum_pop(suf_pnas, suf_resampled_traj_to_frames, suf_pnas_resampled_file)\n",
    "suf_pnas_resampled = verboseload(suf_pnas_resampled_file)\n",
    "\n",
    "tica_concatenated = np.concatenate(verboseload(projected_features_dir))\n",
    "tica_axes = [(np.min(tica_concatenated[:,i]), np.max(tica_concatenated[:,i])) for i in range(0, np.shape(tica_concatenated)[1])]\n",
    "\n",
    "suf_tica = verboseload(suf_tica_file)\n",
    "suf_tica_resampled_file = os.path.join(tica_dir, \"suf_tica_msm_lag-time%d_prior-counts%s_clusters%d_resampled_%d.h5\" %(suf_lag_time, str(prior_counts), n_clusters, total_samples))\n",
    "resample_features_by_msm_equilibirum_pop(suf_tica, suf_resampled_traj_to_frames, suf_tica_resampled_file)\n",
    "suf_tica_resampled = verboseload(suf_tica_resampled_file)\n",
    "\n",
    "suf_clusterer = verboseload(suf_clusterer_file)\n",
    "suf_msm = verboseload(suf_msm_dir)\n",
    "\n",
    "cluster_id_proportion_tuples = []\n",
    "\n",
    "equilibrium_populations = suf_msm.populations_\n",
    "\n",
    "for cluster_id in suf_msm.mapping_.keys():\n",
    "    state_id = suf_msm.mapping_[cluster_id]\n",
    "    cluster_id_proportion_tuples.append((cluster_id,equilibrium_populations[state_id]))\n",
    "cluster_id_proportion_tuples = sorted(cluster_id_proportion_tuples, key=itemgetter(1), reverse=True)\n",
    "    \n",
    "plot_all_tics_and_clusters(tica_dir, suf_tica_resampled_file, suf_clusterer_file, lag_time, tic_range=range(0,n_components), main = \"suf_MSM_Reweighted\", label = \"cluster_id\", active_cluster_ids = [c[0] for c in cluster_id_proportion_tuples[0:100]], intermediate_cluster_ids = [], inactive_cluster_ids = [], concatenate=False, axes=tica_axes)\n",
    "\n",
    "#plot_columns(tica_dir, suf_tica_resampled_file, titles = [\"tIC.%d\" %i for i in range(1,n_components+1)], main = \"mOR_suf_MSM_\", tICA = False, scale = 1.0, refcoords_file = ref_tica_coords, axes=tica_axes, concatenate=False, reshape=False)"
   ]
  },
  {
   "cell_type": "code",
   "execution_count": null,
   "metadata": {
    "collapsed": true
   },
   "outputs": [],
   "source": []
  },
  {
   "cell_type": "code",
   "execution_count": null,
   "metadata": {
    "collapsed": false
   },
   "outputs": [],
   "source": [
    "plot_columns(tica_dir, apo_pnas_resampled_file, titles = sorted(feature_name_residues_dict.keys()), main = \"mOR_Apo_MSM_\", tICA = False, scale = 1.0, refcoords_file = None, axes=None, concatenate=False, reshape=True)"
   ]
  },
  {
   "cell_type": "code",
   "execution_count": null,
   "metadata": {
    "collapsed": false,
    "scrolled": true
   },
   "outputs": [],
   "source": [
    "bu72_lag_time=25\n",
    "prior_counts = 0.0\n",
    "bu72_msm_dir = os.path.join(tica_dir, \"bu72_msm_lag-time%d_prior-counts%s_clusters%d.h5\" %(bu72_lag_time, str(prior_counts), n_clusters))\n",
    "if not os.path.exists(bu72_msm_dir):\n",
    "    bu72_msm = build_msm(bu72_clusterer_file, bu72_lag_time, bu72_msm_dir, prior_counts)\n",
    "else:\n",
    "    bu72_msm = verboseload(bu72_msm_dir)\n",
    "bu72_msm.timescales_"
   ]
  },
  {
   "cell_type": "code",
   "execution_count": null,
   "metadata": {
    "collapsed": true
   },
   "outputs": [],
   "source": [
    "fixed_assignments = dict()\n",
    "for i, traj in enumerate(bu72_clusterer.labels_):\n",
    "    fixed_assignments[i] = bu72_msm.transform(traj)"
   ]
  },
  {
   "cell_type": "code",
   "execution_count": null,
   "metadata": {
    "collapsed": true
   },
   "outputs": [],
   "source": [
    "fixed_assignments[0]"
   ]
  },
  {
   "cell_type": "code",
   "execution_count": null,
   "metadata": {
    "collapsed": true
   },
   "outputs": [],
   "source": [
    "print(\"hello\")"
   ]
  },
  {
   "cell_type": "code",
   "execution_count": null,
   "metadata": {
    "collapsed": true
   },
   "outputs": [],
   "source": [
    "def pop_vs_counts(msm_obj, fixed_assignments, ax,**kwargs):\n",
    "\n",
    "    pop_count_vect=[]\n",
    "    for i in range(msm_obj.n_states_):\n",
    "        pop_count_vect.append(np.sum([np.count_nonzero(fixed_assignments[j]==i)\n",
    "                                      for j in fixed_assignments.keys()]))\n",
    "    pop_count_vect = pop_count_vect/np.sum(pop_count_vect)\n",
    "    ax.errorbar(np.log10(msm_object.populations_),np.log10(pop_count_vect),**kwargs)\n",
    "    ax.plot([0,-6],[0,-6])\n",
    "    ax.set_ylim([-6,0])\n",
    "    ax.set_xlim([-6,0])\n",
    "    ax.set_xlabel(\" MSM Population\",size=16)\n",
    "    ax.set_ylabel(\"Counts Population\",size=16)\n",
    "    return pop_count_vect\n",
    "f=figure()\n",
    "ax=f.add_subplot(1,1,1)\n",
    "pop_count_vect = pop_vs_counts(bu72_msm, fixed_assignments, ax fmt='o', color='r',label=\"RCSB-ASP\")\n",
    "ax.legend(loc='best',prop={'size':12})"
   ]
  },
  {
   "cell_type": "code",
   "execution_count": null,
   "metadata": {
    "collapsed": false
   },
   "outputs": [],
   "source": [
    "total_samples = 20000\n",
    "num_trajs = len(bu72_trajs)\n",
    "bu72_resampled_traj_to_frames_file = os.path.join(tica_dir, \"bu72_msm_lag-time%d_prior-counts%s_clusters%d_resampled_%d.h5\" %(bu72_lag_time, str(prior_counts), n_clusters, total_samples))\n",
    "if not os.path.exists(bu72_resampled_traj_to_frames_file):\n",
    "    bu72_resampled_traj_to_frames = resample_by_msm(total_samples, bu72_msm, bu72_clusters_map, num_trajs, bu72_resampled_traj_to_frames_file)\n",
    "else:\n",
    "    bu72_resampled_traj_to_frames = verboseload(bu72_resampled_traj_to_frames_file)"
   ]
  },
  {
   "cell_type": "code",
   "execution_count": null,
   "metadata": {
    "collapsed": false
   },
   "outputs": [],
   "source": [
    "bu72_resampled_traj_to_frames_file"
   ]
  },
  {
   "cell_type": "code",
   "execution_count": null,
   "metadata": {
    "collapsed": false
   },
   "outputs": [],
   "source": [
    "bu72_pnas = verboseload(bu72_pnas_file)\n",
    "bu72_pnas_resampled_file = os.path.join(tica_dir, \"bu72_pnas_msm_lag-time%d_prior-counts%s_clusters%d_resampled_%d.h5\" %(bu72_lag_time, str(prior_counts), n_clusters, total_samples))\n",
    "resample_features_by_msm_equilibirum_pop(bu72_pnas, bu72_resampled_traj_to_frames, bu72_pnas_resampled_file)\n",
    "bu72_pnas_resampled = verboseload(bu72_pnas_resampled_file)"
   ]
  },
  {
   "cell_type": "code",
   "execution_count": null,
   "metadata": {
    "collapsed": false
   },
   "outputs": [],
   "source": [
    "bu72_tica = verboseload(bu72_tica_file)\n",
    "bu72_tica_resampled_file = os.path.join(tica_dir, \"bu72_tica_msm_lag-time%d_prior-counts%s_clusters%d_resampled_%d.h5\" %(bu72_lag_time, str(prior_counts), n_clusters, total_samples))\n",
    "resample_features_by_msm_equilibirum_pop(bu72_tica, bu72_resampled_traj_to_frames, bu72_tica_resampled_file)\n",
    "bu72_tica_resampled = verboseload(bu72_tica_resampled_file)"
   ]
  },
  {
   "cell_type": "code",
   "execution_count": null,
   "metadata": {
    "collapsed": false,
    "scrolled": true
   },
   "outputs": [],
   "source": [
    "bu72_clusterer = verboseload(bu72_clusterer_file)\n",
    "bu72_msm = verboseload(bu72_msm_dir)\n",
    "\n",
    "cluster_id_proportion_tuples = []\n",
    "\n",
    "equilibrium_populations = bu72_msm.populations_\n",
    "\n",
    "for cluster_id in bu72_msm.mapping_.keys():\n",
    "    state_id = bu72_msm.mapping_[cluster_id]\n",
    "    cluster_id_proportion_tuples.append((cluster_id,equilibrium_populations[state_id]))\n",
    "cluster_id_proportion_tuples = sorted(cluster_id_proportion_tuples, key=itemgetter(1), reverse=True)\n",
    "    \n",
    "plot_all_tics_and_clusters(tica_dir, bu72_tica_resampled_file, bu72_clusterer_file, lag_time, tic_range=range(0,10), main = \"bu72_MSM_Reweighted\", label = \"cluster_id\", active_cluster_ids = [c[0] for c in cluster_id_proportion_tuples[0:100]], intermediate_cluster_ids = [], inactive_cluster_ids = [], concatenate=False, axes=tica_axes)"
   ]
  },
  {
   "cell_type": "code",
   "execution_count": null,
   "metadata": {
    "collapsed": false
   },
   "outputs": [],
   "source": [
    "bu72_pnas_file"
   ]
  },
  {
   "cell_type": "code",
   "execution_count": null,
   "metadata": {
    "collapsed": false
   },
   "outputs": [],
   "source": [
    "analysis_dir"
   ]
  },
  {
   "cell_type": "code",
   "execution_count": null,
   "metadata": {
    "collapsed": false
   },
   "outputs": [],
   "source": [
    "tica_resampled = np.vstack([verboseload(bu72_pnas_resampled_file)[::1,], verboseload(apo_pnas_resampled_file)[::1,], verboseload(suf_pnas_resampled_file)[::1,]])\n",
    "mins = np.min(tica_resampled, axis=0)\n",
    "maxs = np.max(tica_resampled, axis=0)\n",
    "stds = np.std(tica_resampled, axis=0)\n",
    "custom_lims = [[mins[i] - .5*stds[i], maxs[i] + .5*stds[i]] for i in range(0,len(mins))]"
   ]
  },
  {
   "cell_type": "code",
   "execution_count": null,
   "metadata": {
    "collapsed": false
   },
   "outputs": [],
   "source": [
    "ref_pnas = load_file(\"/home/enf/md_simulations/MOR/h8_reimaged/all_pnas_features/ref_coords.h5\")\n",
    "ref_pnas = np.hstack([np.array(x).T for x in ref_pnas])"
   ]
  },
  {
   "cell_type": "code",
   "execution_count": null,
   "metadata": {
    "collapsed": false
   },
   "outputs": [],
   "source": [
    "def get_features(features_dir):\n",
    "    feature_files = get_trajectory_files(features_dir, \".dataset\")\n",
    "    features = np.vstack([load_file(f) for f in feature_files])\n",
    "    print(features.shape)\n",
    "    return features\n",
    "\n",
    "ref_pp_features = pd.DataFrame(get_features(ref_features_dir), columns=feature_names)\n",
    "\n",
    "ref_pp_tica = pd.read_csv(ref_tica_coords, header=None).values\n",
    "#ref_pp_tica.columns = [\"mOR tIC.%d\" %i for i in range(1,ref_pp_tica.shape[1])]\n",
    "\n",
    "ref_pnas = load_file(\"/home/enf/md_simulations/MOR/h8_reimaged/all_pnas_features/ref_coords.h5\")\n",
    "ref_pnas = np.hstack([np.array(x).T for x in ref_pnas])\n",
    "\n",
    "#ref_pnas = pd.DataFrame(ref_pnas, columns=sorted(feature_name_residues_dict.keys()))\n",
    "\n",
    "#ref_features = pd.concat([ref_pp_features*10., ref_lp_features*10., ref_pp_tica, ref_lp_tica, ref_pnas], axis=1)"
   ]
  },
  {
   "cell_type": "code",
   "execution_count": null,
   "metadata": {
    "collapsed": false
   },
   "outputs": [],
   "source": [
    "ref_pp_tica"
   ]
  },
  {
   "cell_type": "code",
   "execution_count": null,
   "metadata": {
    "collapsed": false
   },
   "outputs": [],
   "source": [
    "import jointplot_d3\n",
    "reload(jointplot_d3)\n",
    "from jointplot_d3 import *\n",
    "jointplots(bu72_pnas_resampled[::1,:], analysis_dir, titles = sorted(feature_name_residues_dict.keys()), main = \"mOR_BU72_MSM_%d_Clusters\" %n_clusters, refcoords = ref_pnas, axes=None, data_j=None, titles_j=None, reshape=False, max_tIC=20, min_density=None, max_diff=3., custom_lims=custom_lims, n_levels=15, n_pts=200j, parallel=True, remake=True)"
   ]
  },
  {
   "cell_type": "code",
   "execution_count": null,
   "metadata": {
    "collapsed": false
   },
   "outputs": [],
   "source": [
    "ref_pnas"
   ]
  },
  {
   "cell_type": "code",
   "execution_count": null,
   "metadata": {
    "collapsed": false
   },
   "outputs": [],
   "source": [
    "jointplots(apo_pnas_resampled[::1,:], analysis_dir, titles = sorted(feature_name_residues_dict.keys()), main = \"mOR_APO_MSM_%d_Clusters\" %n_clusters, refcoords=ref_pnas, axes=None, data_j=None, titles_j=None, reshape=False, max_tIC=20, min_density=None, max_diff=3., custom_lims=custom_lims, n_levels=10, remake=True)"
   ]
  },
  {
   "cell_type": "code",
   "execution_count": null,
   "metadata": {
    "collapsed": false
   },
   "outputs": [],
   "source": [
    "jointplots(suf_pnas_resampled[::1,:], analysis_dir, titles = sorted(feature_name_residues_dict.keys()), main = \"mOR_SUF_MSM_%d_Clusters\" %n_clusters, refcoords=ref_pnas, axes=None, data_j=None, titles_j=None, reshape=False, max_tIC=20, min_density=None, max_diff=3., custom_lims=custom_lims, n_levels=10, remake=True)"
   ]
  },
  {
   "cell_type": "code",
   "execution_count": null,
   "metadata": {
    "collapsed": false
   },
   "outputs": [],
   "source": [
    "tica_resampled = np.vstack([verboseload(bu72_tica_resampled_file)[::1,], verboseload(apo_tica_resampled_file)[::1,]])\n",
    "mins = np.min(tica_resampled, axis=0)\n",
    "maxs = np.max(tica_resampled, axis=0)\n",
    "stds = np.std(tica_resampled, axis=0)\n",
    "custom_lims = [[mins[i] - .5*stds[i], maxs[i] + .5*stds[i]] for i in range(0,len(mins))]\n"
   ]
  },
  {
   "cell_type": "code",
   "execution_count": null,
   "metadata": {
    "collapsed": false
   },
   "outputs": [],
   "source": [
    "print(custom_lims)\n",
    "print(custom_lims[3][1])"
   ]
  },
  {
   "cell_type": "code",
   "execution_count": null,
   "metadata": {
    "collapsed": false,
    "scrolled": true
   },
   "outputs": [],
   "source": [
    "import jointplot_d3\n",
    "reload(jointplot_d3)\n",
    "from jointplot_d3 import *\n",
    "refcoords_jointplots_dir = \"%s/refcoords_jointplots\" %analysis_dir\n",
    "if not os.path.exists(refcoords_jointplots_dir):\n",
    "    os.makedirs(refcoords_jointplots_dir)\n",
    "jointplots(verboseload(bu72_tica_resampled_file)[::1,:], refcoords_jointplots_dir, titles = [\"tIC%d\" %j for j in range(1,n_components+1)], main = \"BU72 MSM\", refcoords=ref_pp_tica, axes=None, data_j=None, titles_j=None, reshape=False, max_tIC=10, min_density=None, max_diff=5., custom_lims=custom_lims, n_pts=200j, n_levels=15, remake=True)\n",
    "jointplots(verboseload(apo_tica_resampled_file)[::1,:], refcoords_jointplots_dir, titles = [\"tIC%d\" %j for j in range(1,n_components+1)], main = \"Apo MSM\", refcoords=ref_pp_tica, axes=None, data_j=None, titles_j=None, reshape=False, max_tIC=10, min_density=None, max_diff=5., custom_lims=custom_lims, n_pts=200j, n_levels=15, remake=True)\n",
    "\n",
    "\n",
    "jointplots(verboseload(suf_tica_resampled_file)[::1,:], refcoords_jointplots_dir, titles = [\"tIC%d\" %j for j in range(1,n_components+1)], main = \"Sufentanil MSM\", refcoords=ref_pp_tica, axes=None, data_j=None, titles_j=None, reshape=False, max_tIC=10, min_density=None, max_diff=5., custom_lims=custom_lims, n_pts=200j, n_levels=15, remake=True)"
   ]
  },
  {
   "cell_type": "code",
   "execution_count": null,
   "metadata": {
    "collapsed": false
   },
   "outputs": [],
   "source": [
    "np.concatenate(bu72_tica).shape"
   ]
  },
  {
   "cell_type": "code",
   "execution_count": null,
   "metadata": {
    "collapsed": false
   },
   "outputs": [],
   "source": [
    "np.concatenate(apo_tica).shape"
   ]
  },
  {
   "cell_type": "code",
   "execution_count": null,
   "metadata": {
    "collapsed": false
   },
   "outputs": [],
   "source": [
    "import jointplot_d3\n",
    "reload(jointplot_d3)\n",
    "from jointplot_d3 import *\n",
    "jointplots(verboseload(bu72_tica_resampled_file)[::1,:], analysis_dir, titles = [\"tIC%d\" %j for j in range(1,n_components+1)], main = \"BU72 MSM\", refcoords=None, axes=None, data_j=bu72_pnas_resampled, titles_j=sorted(feature_name_residues_dict.keys()), reshape=False, max_tIC=10, min_density=None, max_diff=5., custom_lims=None)\n",
    "jointplots(verboseload(apo_tica_resampled_file)[::1,:], analysis_dir, titles = [\"tIC%d\" %j for j in range(1,n_components+1)], main = \"Apo MSM\", refcoords=None, axes=None, data_j=apo_pnas_resampled, titles_j=sorted(feature_name_residues_dict.keys()), reshape=False, max_tIC=10, min_density=None, max_diff=5., custom_lims=None)\n",
    "\n",
    "\n",
    "#jointplots(verboseload(suf_tica_resampled_file)[::1,:], analysis_dir, titles = [\"tIC%d\" %j for j in range(1,n_components+1)], main = \"Sufentanil MSM\", refcoords=None, axes=None, data_j=bu72_pnas_resampled, titles_j=sorted(feature_name_residues_dict.keys()), reshape=False, max_tIC=10, min_density=None, max_diff=5., custom_lims=None)"
   ]
  },
  {
   "cell_type": "code",
   "execution_count": null,
   "metadata": {
    "collapsed": false,
    "scrolled": true
   },
   "outputs": [],
   "source": [
    "import detect_intermediates\n",
    "reload(detect_intermediates)\n",
    "from detect_intermediates import *\n"
   ]
  },
  {
   "cell_type": "code",
   "execution_count": null,
   "metadata": {
    "collapsed": false
   },
   "outputs": [],
   "source": [
    "#sample_tIC_regions_silverman(np.concatenate(verboseload(projected_features_dir))[::100,:], analysis_dir)\n",
    "#get_kde_mins_and_maxes(np.concatenate(verboseload(projected_features_dir))[::100,:], analysis_dir)\n",
    "sample_kde_maxima(verboseload(projected_features_dir), analysis_dir, trajs)"
   ]
  },
  {
   "cell_type": "code",
   "execution_count": null,
   "metadata": {
    "collapsed": false
   },
   "outputs": [],
   "source": [
    "jointplots(verboseload(apo_tica_resampled_file)[::1,:], analysis_dir, titles = [\"tIC%d\" %j for j in range(1,n_components+1)], main = \"Apo MSM\", refcoords_file = None, axes=None, data_j=None, titles_j=None, reshape=False, max_tIC=5, min_density=None, max_diff=5., custom_lims=custom_lims)"
   ]
  },
  {
   "cell_type": "code",
   "execution_count": null,
   "metadata": {
    "collapsed": false
   },
   "outputs": [],
   "source": [
    "plot_columns(tica_dir, bu72_pnas_resampled_file, titles = sorted(feature_name_residues_dict.keys()), main = \"mOR_BU72_MSM_\", tICA = False, scale = 1.0, refcoords_file = None, axes=None, concatenate=False, reshape=True)"
   ]
  },
  {
   "cell_type": "code",
   "execution_count": null,
   "metadata": {
    "collapsed": false
   },
   "outputs": [],
   "source": [
    "#bu72_tica = verboseload(bu72_tica_file)\n",
    "#bu72_tica_resampled_file = os.path.join(tica_dir, \"bu72_tica_msm_lag-time%d_prior-counts%s_clusters%d_resampled.h5\" %(lag_time, str(prior_counts), n_clusters))\n",
    "#resample_features_by_msm_equilibirum_pop(bu72_tica, bu72_resampled_traj_to_frames, bu72_tica_resampled_file)\n",
    "#bu72_tica_resampled = verboseload(bu72_tica_resampled_file)\n",
    "plot_columns(tica_dir, bu72_tica_resampled_file, titles = [\"tIC.%d\" %i for i in range(1,n_components+1)], main = \"mOR_BU72_MSM_\", tICA = False, scale = 1.0, refcoords_file = ref_tica_coords, axes=tica_axes, concatenate=False, reshape=True)"
   ]
  },
  {
   "cell_type": "code",
   "execution_count": null,
   "metadata": {
    "collapsed": false
   },
   "outputs": [],
   "source": [
    "bu72_clusterer = verboseload(bu72_clusterer_file)\n",
    "bu72_msm = verboseload(bu72_msm_dir)\n",
    "\n",
    "cluster_id_proportion_tuples = []\n",
    "\n",
    "equilibrium_populations = bu72_msm.populations_\n",
    "\n",
    "for cluster_id in bu72_msm.mapping_.keys():\n",
    "    state_id = bu72_msm.mapping_[cluster_id]\n",
    "    cluster_id_proportion_tuples.append((cluster_id,equilibrium_populations[state_id]))\n",
    "cluster_id_proportion_tuples = sorted(cluster_id_proportion_tuples, key=itemgetter(1), reverse=True)\n",
    "\n",
    "#plot_all_tics_and_clusters(tica_dir, bu72_tica_resampled_file, bu72_clusterer_file, lag_time, tic_range=[0,3], main = \"BU72_MSM_Reweighted\", label = \"cluster_id\", active_cluster_ids = [c[0] for c in cluster_id_proportion_tuples[0:100]], intermediate_cluster_ids = [], inactive_cluster_ids = [], concatenate=False, axes=tica_axes)\n"
   ]
  },
  {
   "cell_type": "code",
   "execution_count": null,
   "metadata": {
    "collapsed": false
   },
   "outputs": [],
   "source": [
    "len(dview)"
   ]
  },
  {
   "cell_type": "code",
   "execution_count": null,
   "metadata": {
    "collapsed": false,
    "scrolled": true
   },
   "outputs": [],
   "source": [
    "import custom_clusterer\n",
    "reload(custom_clusterer)\n",
    "from custom_clusterer import *\n",
    "\n",
    "n_samples = 1\n",
    "n_clusters=\n",
    "samples_dir = \"%s/bu72_clusterer_%dclusters_%dsamples_samples_kdtree\" %(tica_dir, n_clusters, n_samples)\n",
    "samples_indices_file = \"%s/bu72_clusterer_%dclusters_%dsamples_samples_kdtree_indices.h5\" %(tica_dir, n_clusters, n_samples)\n",
    "if not os.path.exists(samples_dir): os.makedirs(samples_dir)\n",
    "print(samples_dir)\n",
    "traj_files = get_trajectory_files(traj_dir, traj_ext)    \n",
    "sample_from_clusterer(bu72_clusterer_file, bu72_tica_file, [traj_files[i] for i in bu72_trajs], \n",
    "                      n_samples, samples_dir, samples_indices_file,\n",
    "                      worker_pool=dview, parallel=False, lig_name=\"LIG\")"
   ]
  },
  {
   "cell_type": "code",
   "execution_count": null,
   "metadata": {
    "collapsed": false
   },
   "outputs": [],
   "source": [
    "get_trajectory_files(traj_dir, traj_ext)"
   ]
  },
  {
   "cell_type": "code",
   "execution_count": null,
   "metadata": {
    "collapsed": false
   },
   "outputs": [],
   "source": [
    "import custom_clusterer\n",
    "reload(custom_clusterer)\n",
    "from custom_clusterer import *\n",
    "\n",
    "n_samples = 5\n",
    "n_clusters=1000\n",
    "samples_dir = \"%s/apo_clusterer_%dclusters_%dsamples_samples_kdtree\" %(tica_dir, n_clusters, n_samples)\n",
    "samples_indices_file = \"%s/apo_clusterer_%dclusters_%dsamples_samples_kdtree_indices.h5\" %(tica_dir, n_clusters, n_samples)\n",
    "if not os.path.exists(samples_dir): os.makedirs(samples_dir)\n",
    "\n",
    "sample_from_clusterer(apo_clusterer_file, apo_tica_file, [traj_files[i] for i in apo_trajs],\n",
    "                      n_samples, samples_dir, samples_indices_file,\n",
    "                      worker_pool=dview, parallel=False, lig_name=\"LIG\")"
   ]
  },
  {
   "cell_type": "code",
   "execution_count": null,
   "metadata": {
    "collapsed": false
   },
   "outputs": [],
   "source": [
    "traj_files"
   ]
  },
  {
   "cell_type": "code",
   "execution_count": null,
   "metadata": {
    "collapsed": false
   },
   "outputs": [],
   "source": [
    "feature_name_residues_dict.keys()"
   ]
  },
  {
   "cell_type": "code",
   "execution_count": null,
   "metadata": {
    "collapsed": false,
    "scrolled": true
   },
   "outputs": [],
   "source": [
    "\n",
    "np.shape(apo_pnas_resampled)\n",
    "msm_dir = os.path.join(tica_dir, \"msm_lag-time%d_prior-counts%s_clusters%d_analysis\" %(lag_time, str(prior_counts), n_clusters))\n",
    "if not os.path.exists(msm_dir): os.makedirs(msm_dir)\n",
    "\n",
    "#plot_columns(msm_dir, apo_pnas_resampled_file, titles = feature_name_residues_dict.keys(), main = \"Apo-mOR\", tICA = False, scale = 1.0, refcoords_file = None, axes=None, concatenate=False)"
   ]
  },
  {
   "cell_type": "code",
   "execution_count": 6,
   "metadata": {
    "collapsed": false
   },
   "outputs": [
    {
     "name": "stdout",
     "output_type": "stream",
     "text": [
      "Collecting PyQt\n"
     ]
    },
    {
     "name": "stderr",
     "output_type": "stream",
     "text": [
      "  Could not find a version that satisfies the requirement PyQt (from versions: )\n",
      "No matching distribution found for PyQt\n",
      "You are using pip version 8.0.3, however version 8.1.2 is available.\n",
      "You should consider upgrading via the 'pip install --upgrade pip' command.\n"
     ]
    }
   ],
   "source": [
    "import pip\n",
    "\n",
    "def install(package):\n",
    "    pip.main(['install', package])\n",
    "    \n",
    "install(\"PyQt\")"
   ]
  },
  {
   "cell_type": "code",
   "execution_count": null,
   "metadata": {
    "collapsed": false
   },
   "outputs": [],
   "source": [
    "import jointplot_d3\n",
    "reload(jointplot_d3)\n",
    "from jointplot_d3 import *\n",
    "\n",
    "for i, traj in enumerate(get_trajectory_files(traj_dir, traj_ext)):\n",
    "    if \"apo_rep_68.\" in traj:\n",
    "        index=i\n",
    "        break\n",
    "\n",
    "jointplot(apo_pnas_resampled[::10,[6,3]], \"%s/test.pdf\" %msm_dir, trajectory=apo_pnas[index][::1,[6,3]], \n",
    "          titles=[\"TM6 to TM3 distance\", \"RMSD of NPxxY to Inactive\"], main = \"mOR Activation Pathway\", \n",
    "          video_file = \"%s/apo_68.mp4\" %msm_dir, custom_xlim=[4.0, 16.0], custom_ylim= [0.0, 1.0])\n",
    "#test(\"%s/test2.mp4\" %msm_dir)"
   ]
  },
  {
   "cell_type": "code",
   "execution_count": null,
   "metadata": {
    "collapsed": true
   },
   "outputs": [],
   "source": [
    "build_msm(bu72_clusterer_file, lag_time, msm_model_dir)\n",
    "build_msm(apo_clusterer_file, lag_time, msm_model_dir)"
   ]
  },
  {
   "cell_type": "code",
   "execution_count": null,
   "metadata": {
    "collapsed": false
   },
   "outputs": [],
   "source": [
    "tics_1_5_file = os.path.join(tica_dir, \"tICs_1_5.h5\")\n",
    "tics = load_file(projected_features_dir)\n",
    "tics_1_5 = [x[:,range(1,5)] for x in tics]\n",
    "verbosedump(tics_1_5, tics_1_5_file)\n",
    "\n",
    "clusterer300_clusters = os.path.join(tica_dir, \"clusterer300_clusters_tICs1_5.h5\")\n",
    "cluster_minikmeans(tica_dir, tics_1_5_file, traj_dir, n_clusters=300, clusterer_dir=clusterer300_clusters)"
   ]
  },
  {
   "cell_type": "code",
   "execution_count": null,
   "metadata": {
    "collapsed": false
   },
   "outputs": [],
   "source": [
    "len(dview)"
   ]
  },
  {
   "cell_type": "code",
   "execution_count": null,
   "metadata": {
    "collapsed": false
   },
   "outputs": [],
   "source": [
    "import custom_clusterer\n",
    "reload(custom_clusterer)\n",
    "from custom_clusterer import *\n",
    "\n",
    "n_samples = 1\n",
    "n_clusters = 300\n",
    "\n",
    "traj_files = get_trajectory_files(traj_dir, traj_ext)\n",
    "featurized_trajectories = [traj_files[i] for i in feature_indices]\n",
    "suf_traj_files = [t for t in featurized_trajectories if \"suf\" in t]\n",
    "reduced_clusterer = verboseload(clusterer300_clusters)\n",
    "suf_reduced_clusterer_file = \"%s/suf_reduced_clusterer.h5\" %tica_dir\n",
    "\n",
    "suf_reduced_tica_file = \"%s/suf_reduced_tica.h5\" %tica_dir\n",
    "suf_reduced_tica = [x[:,range(1,5)] for x in suf_tica]\n",
    "suf_reseeded_dir = \"%s/suf_reseeded_samples\" %tica_dir\n",
    "if not os.path.exists(suf_reseeded_dir):\n",
    "    os.makedirs(suf_reseeded_dir)\n",
    "verbosedump(suf_reduced_tica, suf_reduced_tica_file)\n",
    "\n",
    "suf_reduced_clusters = [reduced_clusterer.labels_[i] for i in suf_trajs]\n",
    "suf_reduced_clusterer = copy.deepcopy(reduced_clusterer)\n",
    "suf_reduced_clusterer.labels_ = suf_reduced_clusters\n",
    "verbosedump(suf_reduced_clusterer, suf_reduced_clusterer_file)\n",
    "#reseed_from_clusterer(suf_reduced_clusterer_file, \"suf\", suf_reseeded_dir, suf_reduced_tica_file, suf_traj_files)\n",
    "\n",
    "\n",
    "samples_dir = \"%s/suf_clusterer_%dclusters_%dsamples_samples_kdtree\" %(tica_dir, n_clusters, n_samples)\n",
    "reseed_dir = \"%s/suf_clusterer_%dclusters_%dsamples_samples_kdtree_reseed\" %(tica_dir, n_clusters, n_samples)\n",
    "samples_indices_file = \"%s/suf_clusterer_%dclusters_%dsamples_samples_kdtree_indices.h5\" %(tica_dir, n_clusters, n_samples)\n",
    "if not os.path.exists(samples_dir): os.makedirs(samples_dir)\n",
    "if not os.path.exists(reseed_dir): os.makedirs(reseed_dir)\n",
    "print(samples_dir)\n",
    "traj_files = get_trajectory_files(traj_dir, traj_ext)    \n",
    "sample_from_clusterer(suf_reduced_clusterer_file, suf_reduced_tica_file, [traj_files[i] for i in suf_trajs], \n",
    "                      n_samples, samples_dir, samples_indices_file,\n",
    "                      worker_pool=dview, parallel=False, lig_name=\"LIG\", reseed_dir = reseed_dir)"
   ]
  },
  {
   "cell_type": "code",
   "execution_count": null,
   "metadata": {
    "collapsed": false
   },
   "outputs": [],
   "source": [
    "import custom_clusterer\n",
    "reload(custom_clusterer)\n",
    "from custom_clusterer import *\n",
    "\n",
    "n_samples = 1\n",
    "n_clusters = 300\n",
    "\n",
    "traj_files = get_trajectory_files(traj_dir, traj_ext)\n",
    "featurized_trajectories = [traj_files[i] for i in feature_indices]\n",
    "bu72_traj_files = [t for t in featurized_trajectories if \"bu72\" in t]\n",
    "reduced_clusterer = verboseload(clusterer300_clusters)\n",
    "bu72_reduced_clusterer_file = \"%s/bu72_reduced_clusterer.h5\" %tica_dir\n",
    "\n",
    "bu72_reduced_tica_file = \"%s/bu72_reduced_tica.h5\" %tica_dir\n",
    "bu72_reduced_tica = [x[:,range(1,5)] for x in bu72_tica]\n",
    "bu72_reseeded_dir = \"%s/bu72_reseeded_samples\" %tica_dir\n",
    "if not os.path.exists(bu72_reseeded_dir):\n",
    "    os.makedirs(bu72_reseeded_dir)\n",
    "verbosedump(bu72_reduced_tica, bu72_reduced_tica_file)\n",
    "\n",
    "bu72_reduced_clusters = [reduced_clusterer.labels_[i] for i in bu72_trajs]\n",
    "bu72_reduced_clusterer = copy.deepcopy(reduced_clusterer)\n",
    "bu72_reduced_clusterer.labels_ = bu72_reduced_clusters\n",
    "verbosedump(bu72_reduced_clusterer, bu72_reduced_clusterer_file)\n",
    "#reseed_from_clusterer(bu72_reduced_clusterer_file, \"bu72\", bu72_reseeded_dir, bu72_reduced_tica_file, bu72_traj_files)\n",
    "\n",
    "\n",
    "samples_dir = \"%s/bu72_clusterer_%dclusters_%dsamples_samples_kdtree\" %(tica_dir, n_clusters, n_samples)\n",
    "reseed_dir = \"%s/bu72_clusterer_%dclusters_%dsamples_samples_kdtree_reseed\" %(tica_dir, n_clusters, n_samples)\n",
    "samples_indices_file = \"%s/bu72_clusterer_%dclusters_%dsamples_samples_kdtree_indices.h5\" %(tica_dir, n_clusters, n_samples)\n",
    "if not os.path.exists(samples_dir): os.makedirs(samples_dir)\n",
    "if not os.path.exists(reseed_dir): os.makedirs(reseed_dir)\n",
    "print(samples_dir)\n",
    "traj_files = get_trajectory_files(traj_dir, traj_ext)    \n",
    "sample_from_clusterer(bu72_reduced_clusterer_file, bu72_reduced_tica_file, [traj_files[i] for i in bu72_trajs], \n",
    "                      n_samples, samples_dir, samples_indices_file,\n",
    "                      worker_pool=dview, parallel=False, lig_name=\"LIG\", reseed_dir = reseed_dir)"
   ]
  },
  {
   "cell_type": "code",
   "execution_count": null,
   "metadata": {
    "collapsed": false
   },
   "outputs": [],
   "source": [
    "import custom_clusterer\n",
    "reload(custom_clusterer)\n",
    "from custom_clusterer import *\n",
    "\n",
    "n_samples = 1\n",
    "n_clusters = 300\n",
    "\n",
    "traj_files = get_trajectory_files(traj_dir, traj_ext)\n",
    "featurized_trajectories = [traj_files[i] for i in feature_indices]\n",
    "apo_traj_files = [t for t in featurized_trajectories if \"apo\" in t]\n",
    "reduced_clusterer = verboseload(clusterer300_clusters)\n",
    "apo_reduced_clusterer_file = \"%s/apo_reduced_clusterer.h5\" %tica_dir\n",
    "\n",
    "apo_reduced_tica_file = \"%s/apo_reduced_tica.h5\" %tica_dir\n",
    "apo_reduced_tica = [x[:,range(1,5)] for x in apo_tica]\n",
    "apo_reseeded_dir = \"%s/apo_reseeded_samples\" %tica_dir\n",
    "if not os.path.exists(apo_reseeded_dir):\n",
    "    os.makedirs(apo_reseeded_dir)\n",
    "verbosedump(apo_reduced_tica, apo_reduced_tica_file)\n",
    "\n",
    "apo_reduced_clusters = [reduced_clusterer.labels_[i] for i in apo_trajs]\n",
    "apo_reduced_clusterer = copy.deepcopy(reduced_clusterer)\n",
    "apo_reduced_clusterer.labels_ = apo_reduced_clusters\n",
    "verbosedump(apo_reduced_clusterer, apo_reduced_clusterer_file)\n",
    "#reseed_from_clusterer(apo_reduced_clusterer_file, \"apo\", apo_reseeded_dir, apo_reduced_tica_file, apo_traj_files)\n",
    "\n",
    "\n",
    "samples_dir = \"%s/apo_clusterer_%dclusters_%dsamples_samples_kdtree\" %(tica_dir, n_clusters, n_samples)\n",
    "reseed_dir = \"%s/apo_clusterer_%dclusters_%dsamples_samples_kdtree_reseed\" %(tica_dir, n_clusters, n_samples)\n",
    "samples_indices_file = \"%s/apo_clusterer_%dclusters_%dsamples_samples_kdtree_indices.h5\" %(tica_dir, n_clusters, n_samples)\n",
    "if not os.path.exists(samples_dir): os.makedirs(samples_dir)\n",
    "if not os.path.exists(reseed_dir): os.makedirs(reseed_dir)\n",
    "print(samples_dir)\n",
    "traj_files = get_trajectory_files(traj_dir, traj_ext)    \n",
    "sample_from_clusterer(apo_reduced_clusterer_file, apo_reduced_tica_file, [traj_files[i] for i in apo_trajs], \n",
    "                      n_samples, samples_dir, samples_indices_file,\n",
    "                      worker_pool=dview, parallel=False, lig_name=\"LIG\", reseed_dir = reseed_dir)"
   ]
  },
  {
   "cell_type": "code",
   "execution_count": null,
   "metadata": {
    "collapsed": false
   },
   "outputs": [],
   "source": [
    "import custom_clusterer\n",
    "reload(custom_clusterer)\n",
    "from custom_clusterer import *\n",
    "traj_files = get_trajectory_files(traj_dir, traj_ext)\n",
    "featurized_trajectories = [traj_files[i] for i in feature_indices]\n",
    "oxy_traj_files = [t for t in featurized_trajectories if \"oxy\" in t]\n",
    "reduced_clusterer = verboseload(clusterer300_clusters)\n",
    "oxy_reduced_clusterer_file = \"%s/oxy_reduced_clusterer.h5\" %tica_dir\n",
    "\n",
    "oxy_reduced_tica_file = \"%s/oxy_reduced_tica.h5\" %tica_dir\n",
    "oxy_reduced_tica = [x[:,range(1,10)] for x in oxy_tica]\n",
    "verbosedump(oxy_reduced_tica, oxy_reduced_tica_file)\n",
    "\n",
    "oxy_reduced_clusters = [reduced_clusterer.labels_[i] for i in oxy_trajs]\n",
    "oxy_reduced_clusterer = copy.deepcopy(reduced_clusterer)\n",
    "oxy_reduced_clusterer.labels_ = oxy_reduced_clusters\n",
    "verbosedump(oxy_reduced_clusterer, oxy_reduced_clusterer_file)\n",
    "reseed_from_clusterer(oxy_reduced_clusterer_file, \"oxy\", tica_dir, oxy_reduced_tica_file, oxy_traj_files)"
   ]
  },
  {
   "cell_type": "code",
   "execution_count": null,
   "metadata": {
    "collapsed": false
   },
   "outputs": [],
   "source": [
    "closest_indices = find_closest_indices_to_cluster_center(tics_1_3_file, clusterer16_clusters)"
   ]
  },
  {
   "cell_type": "code",
   "execution_count": null,
   "metadata": {
    "collapsed": false
   },
   "outputs": [],
   "source": [
    "closest_indices"
   ]
  },
  {
   "cell_type": "code",
   "execution_count": null,
   "metadata": {
    "collapsed": false
   },
   "outputs": [],
   "source": [
    "from scipy.stats import gamma \n",
    "x = np.linspace(0.,16.0, 100)\n",
    "y = gamma.pdf(x, 5.0, loc=8.0, scale=1)\n",
    "plt.plot(x,y)"
   ]
  },
  {
   "cell_type": "code",
   "execution_count": null,
   "metadata": {
    "collapsed": false
   },
   "outputs": [],
   "source": [
    "from scipy.stats import gamma \n",
    "x = np.linspace(0.,16.0, 100)\n",
    "y = gamma.pdf(x, 3.0, loc=8.0, scale=0.4)\n",
    "plt.plot(x,y)\n",
    "plt.show()"
   ]
  },
  {
   "cell_type": "code",
   "execution_count": null,
   "metadata": {
    "collapsed": false
   },
   "outputs": [],
   "source": [
    "reseed_from_clusterer(oxy_clusterer_file, \"oxy\", tica_dir, oxy_tica_file, [trajs[i] for i in oxy_trajs])"
   ]
  },
  {
   "cell_type": "code",
   "execution_count": null,
   "metadata": {
    "collapsed": true
   },
   "outputs": [],
   "source": [
    "min_pop = [3, 4, 6, 8, 9, 26, 29, 30, 31, 32, 33, 39, 41, 43, 52, 55]\n"
   ]
  },
  {
   "cell_type": "code",
   "execution_count": null,
   "metadata": {
    "collapsed": false
   },
   "outputs": [],
   "source": [
    "plot_all_tics_and_clusters(tica_dir, oxy_tica_file, oxy_clusterer_file, lag_time, tic_range=range(0,5), main = \"Oxy_Reseeds\", label = \"cluster_id\", active_cluster_ids = min_pop, intermediate_cluster_ids = [], inactive_cluster_ids = [], concatenate=True, axes=tica_axes)"
   ]
  },
  {
   "cell_type": "code",
   "execution_count": null,
   "metadata": {
    "collapsed": true
   },
   "outputs": [],
   "source": []
  }
 ],
 "metadata": {
  "kernelspec": {
   "display_name": "Python 2",
   "language": "python",
   "name": "python2"
  },
  "language_info": {
   "codemirror_mode": {
    "name": "ipython",
    "version": 2
   },
   "file_extension": ".py",
   "mimetype": "text/x-python",
   "name": "python",
   "nbconvert_exporter": "python",
   "pygments_lexer": "ipython2",
   "version": "2.7.12"
  }
 },
 "nbformat": 4,
 "nbformat_minor": 0
}
