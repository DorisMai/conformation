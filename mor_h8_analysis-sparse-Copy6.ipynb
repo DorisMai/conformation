{
 "cells": [
  {
   "cell_type": "code",
   "execution_count": null,
   "metadata": {
    "collapsed": false
   },
   "outputs": [],
   "source": [
    "import pandas as pd\n",
    "import matplotlib\n",
    "import matplotlib.pyplot as plt\n",
    "\n",
    "# changing matplotlib the default style\n",
    "matplotlib.style.use('ggplot')\n",
    "\n",
    "from PDB_Order_Fixer import PDB_Order_Fixer\n",
    "import mdtraj as md\n",
    "import os\n",
    "import numpy as np\n",
    "import h5py\n",
    "\n",
    "import datetime\n",
    "import glob\n",
    "import copy\n",
    "from functools import partial \n",
    "import operator\n",
    "import time\n",
    "\n",
    "import random \n",
    "import subprocess\n",
    "from subprocess import Popen\n",
    "import sys\n",
    "from io_functions import *\n",
    "from custom_clusterer import *\n",
    "from custom_tica import *\n",
    "from custom_featurizer import *\n",
    "from pdb_editing import *\n",
    "from analysis import *\n",
    "from io_functions import *\n",
    "#from topology_fixing import *\n",
    "from subsampling import *\n",
    "from conversions import *\n",
    "from custom_msm import *\n",
    "from grids import *\n",
    "from docking_analysis import *"
   ]
  },
  {
   "cell_type": "code",
   "execution_count": null,
   "metadata": {
    "collapsed": true
   },
   "outputs": [],
   "source": [
    "from operator import itemgetter"
   ]
  },
  {
   "cell_type": "code",
   "execution_count": null,
   "metadata": {
    "collapsed": true
   },
   "outputs": [],
   "source": [
    "import warnings\n",
    "warnings.filterwarnings('ignore')\n",
    "%matplotlib inline"
   ]
  },
  {
   "cell_type": "markdown",
   "metadata": {
    "collapsed": false
   },
   "source": [
    "In this iPython notebook, we will featurize MOR ligand binding simulation by pairwise distances between the ligand and different receptor residues. We will then perform tICA and prospectively build an MSM. "
   ]
  },
  {
   "cell_type": "code",
   "execution_count": null,
   "metadata": {
    "collapsed": false
   },
   "outputs": [],
   "source": [
    "from detect_intermediates import *\n",
    "from interpret_tICs import *"
   ]
  },
  {
   "cell_type": "code",
   "execution_count": null,
   "metadata": {
    "collapsed": false
   },
   "outputs": [],
   "source": [
    "from mor_h8_feature_types import *\n",
    "from get_variable_names import *\n",
    "from mor_h8_tica_config import *\n",
    "from residue import Residue, Atom\n",
    "ori_feature_name = copy.deepcopy(feature_name)"
   ]
  },
  {
   "cell_type": "code",
   "execution_count": null,
   "metadata": {
    "collapsed": false
   },
   "outputs": [],
   "source": [
    "rho = 0.1\n",
    "rho_string = \"0pt1\"\n",
    "lag_time = 5\n",
    "n_components = 10\n",
    "n_clusters = 1000\n",
    "\n",
    "rho = 0.01\n",
    "rho_string = \"0pt01\"\n",
    "lag_time=50"
   ]
  },
  {
   "cell_type": "code",
   "execution_count": null,
   "metadata": {
    "collapsed": false,
    "scrolled": true
   },
   "outputs": [],
   "source": [
    "schemes = [\"closest-heavy\", \"CA\"]\n",
    "feature_name = \"%s-CA\" %ori_feature_name\n",
    "#feature_name = \"%s_phi_psi_chi2\" %feature_name\n",
    "(active_ref_dir, inactive_ref_dir, simulation_ref_dir, scripts_dir,\n",
    "          ligand_dir, agonist_dir, inverse_agonist_dir, biased_agonist_dir, ref_receptors_dir, whole_trajectory_pnas,\n",
    "          sasa_file) = get_base_files(base)\n",
    "\n",
    "tica_dir = get_tica_dir(base, is_sparse, lag_time, n_components, feature_name, \n",
    "                                 wolf_string, shrinkage_string, rho_string)\n",
    "tica_dir = \"%s-with-inactive\" %tica_dir\n",
    "ori_tica_dir = copy.deepcopy(tica_dir)\n",
    "#tica_dir = \"%s-normalized\" % ori_tica_dir\n",
    "features_dir = get_features_dir(base, feature_name)\n",
    "\n",
    "landmarks_dir = get_landmarks_dir(tica_dir)\n",
    "analysis_dir = get_analysis_dir(tica_dir, n_clusters, sampling_method)\n",
    "gmm_dir = get_gmm_dir(tica_dir)\n",
    "rf_dir = get_rf_dir(tica_dir)\n",
    "\n",
    "\n",
    "ref_tica_dir, ref_tica_coords = get_ref_tica_dirs(tica_dir)\n",
    "\n",
    "graph_file = get_graph_file(tica_dir, msm_lag_time, n_clusters)\n",
    "\n",
    "pnas_titles =  [\"tm6_tm3_dist\", \"rmsd_npxxy_inactive\", \"rmsd_npxxy_active\", \"rmsd_connector_inactive\", \"rmsd_connector_active\"]\n",
    "pnas_features_dir = analysis_dir\n",
    "\n",
    "\n",
    "(clusterer_dir, msm_model_dir, macrostate_dir, features_known, model_dir, projected_features_dir,\n",
    "         projection_operator_dir, ktica_fit_model_filename, ktica_projected_data_filename, nystroem_data_filename,\n",
    "         mutual_information_csv, pearson_csv) = get_tica_files(base, tica_dir, n_clusters, msm_lag_time, n_macrostates)\n",
    "\n",
    "(standardized_features_dir, feature_residues_csv, feature_residues_pkl,\n",
    "          contact_csv, ref_features_dir) = get_feature_files(features_dir)\n",
    "\n",
    "(kmeans_csv, tica_coords_csv, features_csv, active_rmsd_dir, inactive_rmsd_dir, active_pnas_dir, inactive_pnas_joined, active_pnas_joined,\n",
    "        clusters_map_file, ktica_clusters_map_file, analysis_file, combined_file, docking_summary, docking_joined, docking_z_scores_csv,\n",
    "        aggregate_docking, aggregate_docking_joined, docking_pnas_joined, aggregate_docking_pnas, aggregate_docking_pnas_joined, docking_multiple_ligands,\n",
    "        docking_distances_file, docking_pdf, mmgbsa_docking_distances, pnas_coords, mmgbsa_dir, mmgbsa_csv, mmgbsa_pdf, aggregate_mmgbsa,\n",
    "        aggregate_mmgbsa_joined, aggregate_mmgbsa_pnas_joined, mmgbsa_z_scores_csv, active_clusters_csv, intermediate_clusters_csv,\n",
    "        inactive_clusters_csv, pnas_clusters_averages, tica_clusters_averages, tica_classes_csv, tica_samples_csv, subgraph_save_base,\n",
    "        degree_save_base, degree_map_csv, degree_z_map_csv, aggregate_docking_pnas_degree_z_joined, tic_residue_csv, feature_coefs_csv,\n",
    "        duplicated_feature_coefs_csv) = get_analysis_files(analysis_dir, n_clusters, tica_dir, tica_dir, sampling_method, n_samples, precision,\n",
    "                                                           msm_lag_time)\n",
    "\n",
    "(inactive_pnas_distances_dir, active_pnas_distances_dir, active_pnas_all_distances_dir,\n",
    "          inactive_pnas_distances_new_csv, active_pnas_distances_new_csv, active_pnas_joined, active_pnas_means, pnas_coords_dir,\n",
    "          pnas_coords_csv, pnas_all_coords_csv, pnas_coords_hexbin_dir, pnas_coords_co_crystallized_docking_dir,\n",
    "          pnas_coords_active_colors_dir, user_defined_features_file, reaction_coordinates_trajs_file) = get_pnas_files(whole_trajectory_pnas, pnas_features_dir)\n",
    "\n",
    "features_dir = get_features_dir(base, feature_name)\n",
    "\n",
    "\n",
    "\n",
    "graph_file = get_graph_file(tica_dir, msm_lag_time, n_clusters)\n",
    "(scripts_dir, pymol_fixpdb_dir) = get_script_dir(scripts_dir)\n",
    "(save_dir, reimaged_dir, mae_dir, combined_reimaged_dir, grid_dir, docking_dir) = get_docking_dirs(tica_dir, n_clusters, n_components, n_samples, sampling_method, precision)\n"
   ]
  },
  {
   "cell_type": "code",
   "execution_count": null,
   "metadata": {
    "collapsed": false
   },
   "outputs": [],
   "source": [
    "from ipyparallel import Client\n",
    "rc = Client()\n",
    "print(len(rc.ids))\n",
    "dview = rc[:]\n",
    "dview.map(os.chdir, ['/home/enf/b2ar_analysis/conformation']*len(rc.ids))"
   ]
  },
  {
   "cell_type": "code",
   "execution_count": null,
   "metadata": {
    "collapsed": false
   },
   "outputs": [],
   "source": [
    "tica_dir"
   ]
  },
  {
   "cell_type": "code",
   "execution_count": null,
   "metadata": {
    "collapsed": false
   },
   "outputs": [],
   "source": [
    "feature_name_residues_dict.keys()"
   ]
  },
  {
   "cell_type": "code",
   "execution_count": null,
   "metadata": {
    "collapsed": false
   },
   "outputs": [],
   "source": [
    "contact_residues"
   ]
  },
  {
   "cell_type": "code",
   "execution_count": null,
   "metadata": {
    "collapsed": false,
    "scrolled": true
   },
   "outputs": [],
   "source": [
    "import custom_featurizer\n",
    "reload (custom_featurizer)\n",
    "from custom_featurizer import *\n",
    "suf_trajectories = [t for t in get_trajectory_files(traj_dir, \".h5\") if \"suf\" in t and \"re\" in t]\n",
    "fix_chain_names(suf_trajectories, dview)\n",
    "#featurize_contacts_custom(traj_dir, features_dir = features_dir, traj_ext = traj_ext, contact_residue_pairs_file = feature_residues_pkl, structures=[inactive_dir, active_dir], contact_residues=contact_residues,\n",
    "#                          residues_map = None, contact_cutoff = cutoff, parallel = False, exacycle = exacycle, traj_top_structure = None, iterative=False,\n",
    "#                          user_specified_atom_residue_pairs = [], load_from_file=False, worker_pool=None, schemes=schemes)"
   ]
  },
  {
   "cell_type": "code",
   "execution_count": null,
   "metadata": {
    "collapsed": false
   },
   "outputs": [],
   "source": [
    "import custom_featurizer\n",
    "reload(custom_featurizer)\n",
    "from custom_featurizer import *\n",
    "user_defined_features_dir = \"%s/user_defined_features\" %traj_dir\n",
    "if not os.path.exists(user_defined_features_dir):\n",
    "    os.makedirs(user_defined_features_dir)\n",
    "compute_user_defined_features_wrapper(traj_dir, traj_ext, inactive_dir, active_dir, None,\n",
    "                                        feature_name_residues_dict, user_defined_features_file, worker_pool=dview, \n",
    "                                        save_dir=user_defined_features_dir, parallel=False)"
   ]
  },
  {
   "cell_type": "code",
   "execution_count": null,
   "metadata": {
    "collapsed": false
   },
   "outputs": [],
   "source": [
    "type(contact_residues[0])"
   ]
  },
  {
   "cell_type": "code",
   "execution_count": null,
   "metadata": {
    "collapsed": false
   },
   "outputs": [],
   "source": [
    "traj_dir = \"/home/enf/md_simulations/MOR/h8_reimaged/trajectories\""
   ]
  },
  {
   "cell_type": "code",
   "execution_count": null,
   "metadata": {
    "collapsed": false
   },
   "outputs": [],
   "source": [
    "import custom_featurizer\n",
    "reload(custom_featurizer)\n",
    "from custom_featurizer import *\n",
    "featurize_contacts_custom(traj_dir, features_dir = features_dir, traj_ext = traj_ext, contact_residue_pairs_file = feature_residues_pkl, structures=[inactive_dir, active_dir], contact_residues=contact_residues,\n",
    "                          residues_map = None, contact_cutoff = cutoff, parallel = False, exacycle = exacycle, traj_top_structure = None, iterative=False,\n",
    "                          user_specified_atom_residue_pairs = [], load_from_file=False, worker_pool=dview, schemes=schemes)"
   ]
  },
  {
   "cell_type": "code",
   "execution_count": null,
   "metadata": {
    "collapsed": false,
    "scrolled": false
   },
   "outputs": [],
   "source": [
    "fit_normalizer(features_dir)"
   ]
  },
  {
   "cell_type": "code",
   "execution_count": null,
   "metadata": {
    "collapsed": false
   },
   "outputs": [],
   "source": [
    "import pickle\n",
    "with open(feature_residues_pkl, \"rb\") as f:\n",
    "    feature_residues = pickle.load(f)"
   ]
  },
  {
   "cell_type": "code",
   "execution_count": null,
   "metadata": {
    "collapsed": false,
    "scrolled": false
   },
   "outputs": [],
   "source": [
    "feature_residues"
   ]
  },
  {
   "cell_type": "code",
   "execution_count": null,
   "metadata": {
    "collapsed": false,
    "scrolled": true
   },
   "outputs": [],
   "source": [
    "import custom_tica\n",
    "reload(custom_tica)\n",
    "from custom_tica import *\n",
    "fit_and_transform(features_directory = features_dir, model_dir = tica_dir, stride=5, lag_time = lag_time, n_components = n_components, sparse = sparse, wolf = wolf, rho = rho, shrinkage = shrinkage, parallel=True, traj_ext = traj_ext, normalize=True, partial_fit=True)"
   ]
  },
  {
   "cell_type": "code",
   "execution_count": null,
   "metadata": {
    "collapsed": false
   },
   "outputs": [],
   "source": [
    "import custom_featurizer\n",
    "reload(custom_featurizer)\n",
    "from custom_featurizer import *\n",
    "\n",
    "featurize_contacts_custom(ref_receptors_dir, features_dir = ref_features_dir, traj_ext = \".pdb\", contact_residue_pairs_file = feature_residues_pkl, structures=[inactive_dir, active_dir], contact_residues=contact_residues,\n",
    "                          residues_map = None, contact_cutoff = cutoff, parallel = False, exacycle = exacycle, traj_top_structure = None, iterative=False,\n",
    "                          user_specified_atom_residue_pairs = [], load_from_file=False, worker_pool=dview, schemes=schemes)"
   ]
  },
  {
   "cell_type": "code",
   "execution_count": null,
   "metadata": {
    "collapsed": false
   },
   "outputs": [],
   "source": [
    "ref_features = [load_file(f) for f in get_trajectory_files(ref_features_dir, \".dataset\")]\n",
    "print(len(ref_features))\n",
    "print(ref_features[0].shape)\n",
    "print(ref_features[1].shape)\n",
    "print(len(feature_names))\n",
    "ref_features = pd.DataFrame(ref_features[0], columns=[str(f) for f in feature_names])"
   ]
  },
  {
   "cell_type": "code",
   "execution_count": null,
   "metadata": {
    "collapsed": false
   },
   "outputs": [],
   "source": [
    "transform(existing_model = projection_operator_dir, features_directory = ref_features_dir, tica_dir = ref_tica_dir, normalizer=verboseload(\"%s/normalizer.h5\" %features_dir))\n"
   ]
  },
  {
   "cell_type": "code",
   "execution_count": null,
   "metadata": {
    "collapsed": false
   },
   "outputs": [],
   "source": [
    "import custom_tica\n",
    "reload(custom_tica)\n",
    "from custom_tica import *\n",
    "transform_to_h5(projection_operator_dir, features_dir, projected_features_dir, worker_pool=None, parallel=True, normalizer=verboseload(\"%s/normalizer.h5\" %features_dir))"
   ]
  },
  {
   "cell_type": "code",
   "execution_count": null,
   "metadata": {
    "collapsed": false
   },
   "outputs": [],
   "source": [
    "tica_object = verboseload(projection_operator_dir)"
   ]
  },
  {
   "cell_type": "code",
   "execution_count": null,
   "metadata": {
    "collapsed": false
   },
   "outputs": [],
   "source": [
    "#all_tica = verboseload(projected_features_dir)\n",
    "#all_tica = [x[:,range(1,10)] for x in all_tica]\n",
    "#print(all_tica[0].shape)\n",
    "#print(len(all_tica))\n",
    "#verbosedump(all_tica, projected_features_dir)\n"
   ]
  },
  {
   "cell_type": "code",
   "execution_count": null,
   "metadata": {
    "collapsed": true
   },
   "outputs": [],
   "source": [
    "#n_components=9"
   ]
  },
  {
   "cell_type": "code",
   "execution_count": null,
   "metadata": {
    "collapsed": false,
    "scrolled": true
   },
   "outputs": [],
   "source": [
    "tica_object.timescales_"
   ]
  },
  {
   "cell_type": "code",
   "execution_count": null,
   "metadata": {
    "collapsed": false
   },
   "outputs": [],
   "source": [
    "plot_columns(tica_dir, projected_features_dir, titles = [\"tIC%d\" %j for j in range(1,11)], tICA = True, scale = 1.0, refcoords_file = None)"
   ]
  },
  {
   "cell_type": "code",
   "execution_count": 10,
   "metadata": {
    "collapsed": false
   },
   "outputs": [],
   "source": [
    "feature_indices = []\n",
    "traj_basenames = get_trajectory_files(traj_dir, \".h5\")\n",
    "traj_basenames = [os.path.splitext(os.path.basename(t))[0] for t in traj_basenames]\n",
    "feature_basenames = get_trajectory_files(features_dir, \".dataset\")\n",
    "feature_basenames = [os.path.splitext(os.path.basename(t))[0] for t in feature_basenames]\n",
    "for i, traj_basename in enumerate(traj_basenames):\n",
    "    if traj_basename in feature_basenames:\n",
    "        feature_indices.append(int(i))"
   ]
  },
  {
   "cell_type": "code",
   "execution_count": 11,
   "metadata": {
    "collapsed": false
   },
   "outputs": [
    {
     "name": "stdout",
     "output_type": "stream",
     "text": [
      "loading \"/home/enf/md_simulations/MOR/h8_reimaged/all_pnas_features/user_defined_features.h5\"...\n"
     ]
    }
   ],
   "source": [
    "#tica_coords = verboseload(projected_features_dir)\n",
    "pnas_coords = verboseload(user_defined_features_file)\n",
    "pnas_coords = [pnas_coords[i] for i in feature_indices]\n",
    "#tica_names = [\"tIC.%d\" %i for i in range(1,n_components+1)]\n",
    "pnas_names = sorted(feature_name_residues_dict.keys())"
   ]
  },
  {
   "cell_type": "code",
   "execution_count": 12,
   "metadata": {
    "collapsed": false
   },
   "outputs": [
    {
     "name": "stdout",
     "output_type": "stream",
     "text": [
      "(803693, 11)\n"
     ]
    }
   ],
   "source": [
    "#print(np.concatenate(tica_coords).shape)\n",
    "print(np.concatenate(pnas_coords).shape)"
   ]
  },
  {
   "cell_type": "code",
   "execution_count": null,
   "metadata": {
    "collapsed": false
   },
   "outputs": [],
   "source": [
    "from plots import *"
   ]
  },
  {
   "cell_type": "code",
   "execution_count": null,
   "metadata": {
    "collapsed": false
   },
   "outputs": [],
   "source": [
    "plot_data_vs_data(np.concatenate(tica_coords), np.concatenate(pnas_coords), tica_names, pnas_names, analysis_dir)"
   ]
  },
  {
   "cell_type": "code",
   "execution_count": null,
   "metadata": {
    "collapsed": false
   },
   "outputs": [],
   "source": [
    "tica_coords = verboseload(projected_features_dir)\n",
    "np.shape(np.concatenate(tica_coords))"
   ]
  },
  {
   "cell_type": "code",
   "execution_count": null,
   "metadata": {
    "collapsed": false
   },
   "outputs": [],
   "source": [
    "f = load_file(\"/home/enf/md_simulations/MOR/h8_reimaged/featuresall_residues_4dkl_5c1m_under_cutoff6A-CA/apo_rep_167.dataset\")"
   ]
  },
  {
   "cell_type": "code",
   "execution_count": null,
   "metadata": {
    "collapsed": false
   },
   "outputs": [],
   "source": [
    "np.shape(f)"
   ]
  },
  {
   "cell_type": "code",
   "execution_count": null,
   "metadata": {
    "collapsed": true
   },
   "outputs": [],
   "source": [
    "subsampled_features_dir = os.path.join(tica_dir, \"subsampled_features\")\n",
    "if not os.path.exists(subsampled_features_dir): os.makedirs(subsampled_features_dir)"
   ]
  },
  {
   "cell_type": "code",
   "execution_count": 13,
   "metadata": {
    "collapsed": false
   },
   "outputs": [
    {
     "name": "stdout",
     "output_type": "stream",
     "text": [
      "ILE193 to ILE198\n"
     ]
    }
   ],
   "source": [
    "with open(feature_residues_pkl) as f:\n",
    "    feature_names = pickle.load(f)\n",
    "print(feature_names[0].__repr__())"
   ]
  },
  {
   "cell_type": "code",
   "execution_count": null,
   "metadata": {
    "collapsed": false
   },
   "outputs": [],
   "source": [
    "from residue import *\n",
    "print(type(feature_names[0]))\n",
    "print(type(feature_names[0] == DihedralFeature))\n"
   ]
  },
  {
   "cell_type": "code",
   "execution_count": null,
   "metadata": {
    "collapsed": false
   },
   "outputs": [],
   "source": [
    "np.concatenate(suf_tica).shape"
   ]
  },
  {
   "cell_type": "markdown",
   "metadata": {},
   "source": [
    "## "
   ]
  },
  {
   "cell_type": "code",
   "execution_count": null,
   "metadata": {
    "collapsed": false,
    "scrolled": true
   },
   "outputs": [],
   "source": [
    "import interpret_tICs\n",
    "reload(interpret_tICs)\n",
    "from interpret_tICs import *\n",
    "tic_components_dir = tica_dir\n",
    "important_contact_features = interpret_tIC_components(projection_operator_dir, tic_components_dir, feature_residues_pkl, n_tica_components=n_components, percentile=95)\n"
   ]
  },
  {
   "cell_type": "code",
   "execution_count": null,
   "metadata": {
    "collapsed": false
   },
   "outputs": [],
   "source": [
    "tic_components_dir = tica_dir\n",
    "important_contact_features = interpret_tIC_components(projection_operator_dir, tic_components_dir, feature_residues_pkl, n_tica_components=n_components, percentile=95)\n",
    "\n"
   ]
  },
  {
   "cell_type": "code",
   "execution_count": null,
   "metadata": {
    "collapsed": false
   },
   "outputs": [],
   "source": [
    "important_contact_features[0]"
   ]
  },
  {
   "cell_type": "code",
   "execution_count": null,
   "metadata": {
    "collapsed": false
   },
   "outputs": [],
   "source": [
    "import interpret_tICs\n",
    "reload(interpret_tICs)\n",
    "from interpret_tICs import *\n",
    "tic_subsampled_features_file = \"%s/features_subsampled.pkl\" % tica_dir\n",
    "subsampled_features_dir = os.path.join(tica_dir, \"subsampled_features\")\n",
    "if not os.path.exists(subsampled_features_dir): os.makedirs(subsampled_features_dir)\n",
    "important_contact_features_pruned, important_contact_features_indices = find_non_zero_features(important_contact_features[0], feature_names)\n",
    "#subsample_features(features_dir, important_contact_features_indices, important_contact_features_pruned, tic_subsampled_features_file)"
   ]
  },
  {
   "cell_type": "code",
   "execution_count": null,
   "metadata": {
    "collapsed": false
   },
   "outputs": [],
   "source": [
    "important_contact_features_pruned"
   ]
  },
  {
   "cell_type": "code",
   "execution_count": null,
   "metadata": {
    "collapsed": false
   },
   "outputs": [],
   "source": [
    "protein_top_features = load_file(tic_subsampled_features_file)\n",
    "\n"
   ]
  },
  {
   "cell_type": "code",
   "execution_count": null,
   "metadata": {
    "collapsed": false
   },
   "outputs": [],
   "source": [
    "protein_top_features[0].iloc[0]"
   ]
  },
  {
   "cell_type": "code",
   "execution_count": null,
   "metadata": {
    "collapsed": false
   },
   "outputs": [],
   "source": [
    "f = load_file(\"/home/enf/md_simulations/MOR/h8_reimaged/featuresall_residues_4dkl_5c1m_under_cutoff6A-CA/apo_rep_1.dataset\")\n",
    "np.shape(f)"
   ]
  },
  {
   "cell_type": "code",
   "execution_count": null,
   "metadata": {
    "collapsed": false
   },
   "outputs": [],
   "source": []
  },
  {
   "cell_type": "code",
   "execution_count": null,
   "metadata": {
    "collapsed": true
   },
   "outputs": [],
   "source": []
  },
  {
   "cell_type": "code",
   "execution_count": null,
   "metadata": {
    "collapsed": false
   },
   "outputs": [],
   "source": [
    "from ipyparallel import Client\n",
    "rc = Client()\n",
    "dview = rc[:]\n",
    "dview.map(os.chdir, ['/home/enf/b2ar_analysis/conformation']*len(rc.ids))\n",
    "\n",
    "print(len(rc.ids))\n"
   ]
  },
  {
   "cell_type": "code",
   "execution_count": 14,
   "metadata": {
    "collapsed": false
   },
   "outputs": [
    {
     "name": "stdout",
     "output_type": "stream",
     "text": [
      "loading /home/enf/md_simulations/MOR/h8_reimaged/all_pnas_features/user_defined_features.h5\n",
      "loading \"/home/enf/md_simulations/MOR/h8_reimaged/all_pnas_features/user_defined_features.h5\"...\n"
     ]
    }
   ],
   "source": [
    "bu72_trajs = []\n",
    "apo_trajs = []\n",
    "oxy_trajs = []\n",
    "suf_trajs = []\n",
    "trv_trajs = []\n",
    "trajs = get_trajectory_files(features_dir, \".dataset\")\n",
    "#trajs = [t for t in get_trajectory_files(traj_dir, traj_ext) if \"apo_reimaged\" not in t and \"oxy\" not in t]\n",
    "for i, traj in enumerate(trajs):\n",
    "    if \"bu72\" in traj or \"Rep\" in traj:\n",
    "        bu72_trajs.append(i)\n",
    "    elif \"apo\" in traj:\n",
    "        apo_trajs.append(i)\n",
    "    elif \"oxy\" in traj:\n",
    "        oxy_trajs.append(i)\n",
    "    elif \"suf\" in traj:\n",
    "        suf_trajs.append(i)\n",
    "    elif \"trv\" in traj:\n",
    "        trv_trajs.append(i)\n",
    "\n",
    "user_defined_coords = load_file(user_defined_features_file)\n",
    "\n",
    "            "
   ]
  },
  {
   "cell_type": "code",
   "execution_count": null,
   "metadata": {
    "collapsed": true
   },
   "outputs": [],
   "source": []
  },
  {
   "cell_type": "code",
   "execution_count": 15,
   "metadata": {
    "collapsed": false
   },
   "outputs": [],
   "source": [
    "bu72_pnas = [user_defined_coords[i] for i in bu72_trajs]\n",
    "apo_pnas = [user_defined_coords[i] for i in apo_trajs]\n",
    "oxy_pnas = [user_defined_coords[i] for i in oxy_trajs]\n",
    "suf_pnas = [user_defined_coords[i] for i in suf_trajs]"
   ]
  },
  {
   "cell_type": "code",
   "execution_count": 35,
   "metadata": {
    "collapsed": false
   },
   "outputs": [
    {
     "data": {
      "image/png": "[encoded data removed]",
      "text/plain": [
       "<matplotlib.figure.Figure at 0x7f330b7c4b10>"
      ]
     },
     "metadata": {},
     "output_type": "display_data"
    }
   ],
   "source": [
    "plt.clf()\n",
    "plt.hist(np.concatenate(apo_pnas)[:,2], bins=200, range=[0,5])\n",
    "plt.show()"
   ]
  },
  {
   "cell_type": "code",
   "execution_count": 36,
   "metadata": {
    "collapsed": false
   },
   "outputs": [
    {
     "data": {
      "image/png": "[encoded data removed]",
      "text/plain": [
       "<matplotlib.figure.Figure at 0x7f3311860610>"
      ]
     },
     "metadata": {},
     "output_type": "display_data"
    }
   ],
   "source": [
    "plt.clf()\n",
    "plt.hist(np.concatenate(suf_pnas)[:,2], bins=200, range=[0,5])\n",
    "plt.show()"
   ]
  },
  {
   "cell_type": "code",
   "execution_count": 24,
   "metadata": {
    "collapsed": false
   },
   "outputs": [
    {
     "data": {
      "text/plain": [
       "(272021, 11)"
      ]
     },
     "execution_count": 24,
     "metadata": {},
     "output_type": "execute_result"
    }
   ],
   "source": [
    "np.concatenate(suf_pnas).shape"
   ]
  },
  {
   "cell_type": "code",
   "execution_count": 18,
   "metadata": {
    "collapsed": false
   },
   "outputs": [
    {
     "data": {
      "text/plain": [
       "['res_277_res_339_ca_dist',\n",
       " 'rmsd_DRY_active',\n",
       " 'rmsd_DRY_inactive',\n",
       " 'rmsd_npxxy_active',\n",
       " 'rmsd_npxxy_inactive',\n",
       " 'rmsd_triad_active',\n",
       " 'rmsd_triad_inactive',\n",
       " 'tm6_tm3_dist',\n",
       " 'tm6_tm3_packing',\n",
       " 'tm6_tm5_packing',\n",
       " 'tm6_tm7_packing']"
      ]
     },
     "execution_count": 18,
     "metadata": {},
     "output_type": "execute_result"
    }
   ],
   "source": [
    "sorted(feature_name_residues_dict.keys())"
   ]
  },
  {
   "cell_type": "code",
   "execution_count": null,
   "metadata": {
    "collapsed": false
   },
   "outputs": [],
   "source": [
    "bu72_pnas_file = \"%s/bu72.h5\" % whole_trajectory_pnas\n",
    "apo_pnas_file = \"%s/apo.h5\" % whole_trajectory_pnas\n",
    "#oxy_pnas_file = \"%s/oxy.h5\" % whole_trajectory_pnas\n",
    "suf_pnas_file = \"%s/suf.h5\" % whole_trajectory_pnas"
   ]
  },
  {
   "cell_type": "code",
   "execution_count": null,
   "metadata": {
    "collapsed": false
   },
   "outputs": [],
   "source": [
    "from imp import reload\n",
    "import analysis\n",
    "reload(analysis)\n",
    "from analysis import *\n",
    "import seaborn as sns\n",
    "bu72_pnas_concatenated = np.concatenate(bu72_pnas)\n",
    "print(np.shape(bu72_pnas_concatenated))\n",
    "apo_pnas_concatenated = np.concatenate(apo_pnas)\n",
    "#oxy_pnas_concatenated = np.concatenate(oxy_pnas)\n",
    "suf_pnas_concatenated = np.concatenate(suf_pnas)\n",
    "\n",
    "\n",
    "\n",
    "\n",
    "verbosedump(bu72_pnas, bu72_pnas_file)\n",
    "verbosedump(apo_pnas, apo_pnas_file)\n",
    "#verbosedump(oxy_pnas, oxy_pnas_file)\n",
    "verbosedump(suf_pnas, suf_pnas_file)\n",
    "\n",
    "\n",
    "\n",
    "\n",
    "\n",
    "columns=sorted(feature_name_residues_dict.keys())\n",
    "#plot_columns(whole_trajectory_pnas, bu72_pnas_file, titles=columns, main = \"BU72\", tICA = False, scale = 1.0, refcoords_file = None)\n",
    "#plot_columns(whole_trajectory_pnas, apo_pnas_file, titles=columns, main = \"Apo\", tICA = False, scale = 1.0, refcoords_file = None)\n",
    "\n",
    "#df = pd.DataFrame(bu72_pnas_concatenated, columns=sorted(feature_name_residues_dict.keys()))\n",
    "#sns.jointplot(x=\"tm6_tm3_dist\", y=\"rmsd_npxxy_inactive\", data=df, kind=\"kde\")\n",
    "#plt.hexbin(bu72_pnas_concatenated[:,0], bu72_pnas_concatenated[:,2], cmap=plt.cm.YlOrRd_r)"
   ]
  },
  {
   "cell_type": "code",
   "execution_count": null,
   "metadata": {
    "collapsed": false
   },
   "outputs": [],
   "source": [
    "#oxy_tica_file = \"%s/oxy_tica.h5\" % tica_dir\n",
    "bu72_tica_file = \"%s/bu72_tica.h5\" % tica_dir\n",
    "apo_tica_file = \"%s/apo_tica.h5\" % tica_dir\n",
    "suf_tica_file = \"%s/suf_tica.h5\" % tica_dir"
   ]
  },
  {
   "cell_type": "code",
   "execution_count": null,
   "metadata": {
    "collapsed": false
   },
   "outputs": [],
   "source": [
    "tica_coords = verboseload(projected_features_dir)\n",
    "#oxy_tica = [tica_coords[i] for i in oxy_trajs]\n",
    "bu72_tica = [tica_coords[i] for i in bu72_trajs]\n",
    "apo_tica = [tica_coords[i] for i in apo_trajs]\n",
    "suf_tica = [tica_coords[i] for i in suf_trajs]\n",
    "\n",
    "\n",
    "#verbosedump(oxy_tica, oxy_tica_file)\n",
    "verbosedump(bu72_tica, bu72_tica_file)\n",
    "verbosedump(apo_tica, apo_tica_file)\n",
    "verbosedump(suf_tica, suf_tica_file)\n",
    "\n",
    "\n",
    "\n",
    "columns = [\"tIC%d\" %i for i in range(1,n_components+1)]\n",
    "#plot_columns(tica_dir, bu72_tica_file, titles=columns, main = \"BU72\", tICA = False, scale = 1.0, refcoords_file = None)\n",
    "#plot_columns(tica_dir, apo_tica_file, titles=columns, main = \"Apo\", tICA = False, scale = 1.0, refcoords_file = None)\n",
    "\n",
    "\n"
   ]
  },
  {
   "cell_type": "code",
   "execution_count": null,
   "metadata": {
    "collapsed": false
   },
   "outputs": [],
   "source": [
    "#print(np.concatenate(oxy_tica).shape)\n",
    "print(np.concatenate(apo_tica).shape)\n",
    "print(np.concatenate(bu72_tica).shape)\n",
    "print(np.concatenate(suf_tica).shape)\n",
    "\n"
   ]
  },
  {
   "cell_type": "code",
   "execution_count": null,
   "metadata": {
    "collapsed": false
   },
   "outputs": [],
   "source": []
  },
  {
   "cell_type": "code",
   "execution_count": null,
   "metadata": {
    "collapsed": false
   },
   "outputs": [],
   "source": [
    "import custom_clusterer\n",
    "reload(custom_clusterer)\n",
    "from custom_clusterer import *\n",
    "n_clusters = 1000\n",
    "clusterer_dir = \"%s/clusterer_%dclusters.h5\" %(tica_dir, n_clusters)\n",
    "if not os.path.exists(clusterer_dir):\n",
    "    cluster_minikmeans(tica_dir, projected_features_dir, traj_dir, n_clusters=n_clusters, clusterer_dir=clusterer_dir)"
   ]
  },
  {
   "cell_type": "code",
   "execution_count": null,
   "metadata": {
    "collapsed": false
   },
   "outputs": [],
   "source": [
    "print(clusterer_dir)"
   ]
  },
  {
   "cell_type": "code",
   "execution_count": null,
   "metadata": {
    "collapsed": false
   },
   "outputs": [],
   "source": [
    "oxy_clusterer_file = \"%s/oxy_clusterer%d.h5\" %(tica_dir, n_clusters)\n",
    "bu72_clusterer_file = \"%s/bu72_clusterer%d.h5\" %(tica_dir, n_clusters)\n",
    "apo_clusterer_file = \"%s/apo_clusterer%d.h5\" %(tica_dir, n_clusters)\n",
    "suf_clusterer_file = \"%s/suf_clusterer%d.h5\" %(tica_dir, n_clusters)\n",
    "\n"
   ]
  },
  {
   "cell_type": "code",
   "execution_count": null,
   "metadata": {
    "collapsed": false
   },
   "outputs": [],
   "source": [
    "clusterer = verboseload(clusterer_dir)\n",
    "cluster_labels = clusterer.labels_\n",
    "#oxy_clusters = [cluster_labels[i] for i in oxy_trajs]\n",
    "bu72_clusters = [cluster_labels[i] for i in bu72_trajs]\n",
    "apo_clusters = [cluster_labels[i] for i in apo_trajs]\n",
    "suf_clusters = [cluster_labels[i] for i in suf_trajs]\n",
    "\n",
    "\n",
    "\n",
    "bu72_clusterer = copy.deepcopy(clusterer)\n",
    "bu72_clusterer.labels_ = bu72_clusters\n",
    "#if not os.path.exists(bu72_clusterer_file):\n",
    "verbosedump(bu72_clusterer, bu72_clusterer_file)\n",
    "\n",
    "apo_clusterer = copy.deepcopy(clusterer)\n",
    "apo_clusterer.labels_ = apo_clusters\n",
    "    \n",
    "#if not os.path.exists(apo_clusterer_file):\n",
    "verbosedump(apo_clusterer, apo_clusterer_file)\n",
    "\n",
    "#oxy_clusterer = copy.deepcopy(clusterer)\n",
    "#oxy_clusterer.labels_ = oxy_clusters\n",
    "    \n",
    "#if not os.path.exists(oxy_clusterer_file):\n",
    "#verbosedump(oxy_clusterer, oxy_clusterer_file)\n",
    "\n",
    "suf_clusterer = copy.deepcopy(clusterer)\n",
    "suf_clusterer.labels_ = suf_clusters\n",
    "    \n",
    "#if not os.path.exists(oxy_clusterer_file):\n",
    "verbosedump(suf_clusterer, suf_clusterer_file)"
   ]
  },
  {
   "cell_type": "code",
   "execution_count": null,
   "metadata": {
    "collapsed": true
   },
   "outputs": [],
   "source": [
    "cluster_tica_averages = calculate_cluster_averages_per_feature(bu72_clusterer, bu72_tica)\n",
    "cluster_tica_averages = pd.DataFrame(cluster_tica_averages, columns=[\"tIC.%d\" %i for i in range(1, n_components+1)])\n",
    "\n"
   ]
  },
  {
   "cell_type": "code",
   "execution_count": null,
   "metadata": {
    "collapsed": false
   },
   "outputs": [],
   "source": [
    "intermediate_actives = cluster_tica_averages.loc[(cluster_tica_averages[\"tIC.2\"] > 0.7) & (cluster_tica_averages[\"tIC.2\"] < 1.2) & (cluster_tica_averages[\"tIC.5\"] > 0.) & (cluster_tica_averages[\"tIC.2\"] < 0.8)]\n",
    "intermediate_actives"
   ]
  },
  {
   "cell_type": "code",
   "execution_count": null,
   "metadata": {
    "collapsed": true
   },
   "outputs": [],
   "source": [
    "import custom_msm\n",
    "reload(custom_msm)\n",
    "from custom_msm import *\n",
    "from msm_resampled import *"
   ]
  },
  {
   "cell_type": "code",
   "execution_count": null,
   "metadata": {
    "collapsed": false,
    "scrolled": true
   },
   "outputs": [],
   "source": [
    "apo_clusters_map = make_clusters_map(apo_clusterer)\n",
    "bu72_clusters_map = make_clusters_map(bu72_clusterer)\n",
    "#oxy_clusters_map = make_clusters_map(oxy_clusterer)\n",
    "suf_clusters_map = make_clusters_map(suf_clusterer)"
   ]
  },
  {
   "cell_type": "code",
   "execution_count": null,
   "metadata": {
    "collapsed": false,
    "scrolled": true
   },
   "outputs": [],
   "source": [
    "\n",
    "plt.clf()\n",
    "plot_timescales(apo_clusterer_file, n_clusters, tica_dir, main=\"Apo MSM Timescales\", lag_times=list(range(1,101,10)))"
   ]
  },
  {
   "cell_type": "code",
   "execution_count": null,
   "metadata": {
    "collapsed": false
   },
   "outputs": [],
   "source": [
    "plt.clf()\n",
    "plot_timescales(bu72_clusterer_file, n_clusters, tica_dir, main=\"BU72 MSM Timescales\", lag_times=list(range(1,101,10)))"
   ]
  },
  {
   "cell_type": "code",
   "execution_count": null,
   "metadata": {
    "collapsed": false,
    "scrolled": true
   },
   "outputs": [],
   "source": [
    "apo_lag_time=50\n",
    "prior_counts = 0.0\n",
    "apo_msm_dir = os.path.join(tica_dir, \"apo_msm_lag-time%d_prior-counts%s_clusters%d.h5\" %(apo_lag_time, str(prior_counts), n_clusters))\n",
    "if not os.path.exists(apo_msm_dir):\n",
    "    apo_msm = build_msm(apo_clusterer_file, apo_lag_time, apo_msm_dir, prior_counts)\n",
    "else:\n",
    "    apo_msm = verboseload(apo_msm_dir)\n",
    "\n",
    "import msm_resampled\n",
    "reload(msm_resampled)\n",
    "from msm_resampled import *\n",
    "total_samples = 10000\n",
    "num_trajs = len(apo_trajs)\n",
    "prior_counts = 0.\n",
    "apo_resampled_traj_to_frames_file = os.path.join(tica_dir, \"apo_msm_lag-time%d_prior-counts%s_clusters%d_resampled_%d.h5\" %(apo_lag_time, str(prior_counts), n_clusters, total_samples))\n",
    "#if not os.path.exists(apo_resampled_traj_to_frames_file):\n",
    "apo_resampled_traj_to_frames = resample_by_msm(total_samples, apo_msm, apo_clusters_map, num_trajs, apo_resampled_traj_to_frames_file)\n",
    "#else:\n",
    "apo_resampled_traj_to_frames = verboseload(apo_resampled_traj_to_frames_file)\n",
    "\n",
    "apo_pnas = verboseload(apo_pnas_file)\n",
    "apo_pnas_resampled_file = os.path.join(tica_dir, \"apo_pnas_msm_lag-time%d_prior-counts%s_clusters%d_resampled_%d.h5\" %(apo_lag_time, str(prior_counts), n_clusters, total_samples))\n",
    "resample_features_by_msm_equilibirum_pop(apo_pnas, apo_resampled_traj_to_frames, apo_pnas_resampled_file)\n",
    "apo_pnas_resampled = verboseload(apo_pnas_resampled_file)\n",
    "\n",
    "tica_concatenated = np.concatenate(verboseload(projected_features_dir))\n",
    "tica_axes = [(np.min(tica_concatenated[:,i]), np.max(tica_concatenated[:,i])) for i in range(0, np.shape(tica_concatenated)[1])]\n",
    "\n",
    "apo_tica = verboseload(apo_tica_file)\n",
    "apo_tica_resampled_file = os.path.join(tica_dir, \"apo_tica_msm_lag-time%d_prior-counts%s_clusters%d_resampled_%d.h5\" %(apo_lag_time, str(prior_counts), n_clusters, total_samples))\n",
    "resample_features_by_msm_equilibirum_pop(apo_tica, apo_resampled_traj_to_frames, apo_tica_resampled_file)\n",
    "apo_tica_resampled = verboseload(apo_tica_resampled_file)\n",
    "\n",
    "apo_clusterer = verboseload(apo_clusterer_file)\n",
    "apo_msm = verboseload(apo_msm_dir)\n",
    "\n",
    "cluster_id_proportion_tuples = []\n",
    "\n",
    "equilibrium_populations = apo_msm.populations_\n",
    "\n",
    "for cluster_id in apo_msm.mapping_.keys():\n",
    "    state_id = apo_msm.mapping_[cluster_id]\n",
    "    cluster_id_proportion_tuples.append((cluster_id,equilibrium_populations[state_id]))\n",
    "cluster_id_proportion_tuples = sorted(cluster_id_proportion_tuples, key=itemgetter(1), reverse=True)\n",
    "\n",
    "#plot_all_tics_and_clusters(tica_dir, apo_tica_resampled_file, apo_clusterer_file, lag_time, tic_range=range(0,n_components), main = \"Apo_MSM_Reweighted\", label = \"cluster_id\", active_cluster_ids = [c[0] for c in cluster_id_proportion_tuples[0:100]], intermediate_cluster_ids = [], inactive_cluster_ids = [], concatenate=False, axes=tica_axes)\n",
    "\n",
    "#plot_columns(tica_dir, apo_tica_resampled_file, titles = [\"tIC.%d\" %i for i in range(1,n_components+1)], main = \"mOR_Apo_MSM_\", tICA = False, scale = 1.0, refcoords_file = ref_tica_coords, axes=tica_axes, concatenate=False, reshape=False)"
   ]
  },
  {
   "cell_type": "code",
   "execution_count": null,
   "metadata": {
    "collapsed": false
   },
   "outputs": [],
   "source": [
    "sorted(feature_name_residues_dict.keys())"
   ]
  },
  {
   "cell_type": "code",
   "execution_count": null,
   "metadata": {
    "collapsed": false
   },
   "outputs": [],
   "source": [
    "plt.clf()\n",
    "plt.hist(apo_pnas_resampled[:,8],bins=50)\n",
    "plt.show()"
   ]
  },
  {
   "cell_type": "code",
   "execution_count": null,
   "metadata": {
    "collapsed": false
   },
   "outputs": [],
   "source": [
    "plt.clf()\n",
    "plt.hist(bu72_pnas_resampled[:,8],bins=50)\n",
    "plt.show()"
   ]
  },
  {
   "cell_type": "code",
   "execution_count": null,
   "metadata": {
    "collapsed": false
   },
   "outputs": [],
   "source": [
    "\n",
    "bu72_lag_time=50\n",
    "prior_counts = 0.0\n",
    "bu72_msm_dir = os.path.join(tica_dir, \"bu72_msm_lag-time%d_prior-counts%s_clusters%d.h5\" %(bu72_lag_time, str(prior_counts), n_clusters))\n",
    "if not os.path.exists(bu72_msm_dir):\n",
    "    bu72_msm = build_msm(bu72_clusterer_file, bu72_lag_time, bu72_msm_dir, prior_counts)\n",
    "else:\n",
    "    bu72_msm = verboseload(bu72_msm_dir)\n",
    "\n",
    "import msm_resampled\n",
    "reload(msm_resampled)\n",
    "from msm_resampled import *\n",
    "total_samples = 10000\n",
    "num_trajs = len(bu72_trajs)\n",
    "prior_counts = 0.\n",
    "bu72_resampled_traj_to_frames_file = os.path.join(tica_dir, \"bu72_msm_lag-time%d_prior-counts%s_clusters%d_resampled_%d.h5\" %(bu72_lag_time, str(prior_counts), n_clusters, total_samples))\n",
    "if not os.path.exists(bu72_resampled_traj_to_frames_file):\n",
    "    bu72_resampled_traj_to_frames = resample_by_msm(total_samples, bu72_msm, bu72_clusters_map, num_trajs, bu72_resampled_traj_to_frames_file)\n",
    "else:\n",
    "    bu72_resampled_traj_to_frames = verboseload(bu72_resampled_traj_to_frames_file)\n",
    "\n",
    "bu72_pnas = verboseload(bu72_pnas_file)\n",
    "bu72_pnas_resampled_file = os.path.join(tica_dir, \"bu72_pnas_msm_lag-time%d_prior-counts%s_clusters%d_resampled_%d.h5\" %(bu72_lag_time, str(prior_counts), n_clusters, total_samples))\n",
    "resample_features_by_msm_equilibirum_pop(bu72_pnas, bu72_resampled_traj_to_frames, bu72_pnas_resampled_file)\n",
    "bu72_pnas_resampled = verboseload(bu72_pnas_resampled_file)\n",
    "\n",
    "tica_concatenated = np.concatenate(verboseload(projected_features_dir))\n",
    "tica_axes = [(np.min(tica_concatenated[:,i]), np.max(tica_concatenated[:,i])) for i in range(0, np.shape(tica_concatenated)[1])]\n",
    "\n",
    "bu72_tica = verboseload(bu72_tica_file)\n",
    "bu72_tica_resampled_file = os.path.join(tica_dir, \"bu72_tica_msm_lag-time%d_prior-counts%s_clusters%d_resampled_%d.h5\" %(bu72_lag_time, str(prior_counts), n_clusters, total_samples))\n",
    "resample_features_by_msm_equilibirum_pop(bu72_tica, bu72_resampled_traj_to_frames, bu72_tica_resampled_file)\n",
    "bu72_tica_resampled = verboseload(bu72_tica_resampled_file)\n",
    "\n",
    "bu72_clusterer = verboseload(bu72_clusterer_file)\n",
    "bu72_msm = verboseload(bu72_msm_dir)\n",
    "\n",
    "cluster_id_proportion_tuples = []\n",
    "\n",
    "equilibrium_populations = bu72_msm.populations_\n",
    "\n",
    "for cluster_id in bu72_msm.mapping_.keys():\n",
    "    state_id = bu72_msm.mapping_[cluster_id]\n",
    "    cluster_id_proportion_tuples.append((cluster_id,equilibrium_populations[state_id]))\n",
    "cluster_id_proportion_tuples = sorted(cluster_id_proportion_tuples, key=itemgetter(1), reverse=True)\n",
    "    \n",
    "#plot_all_tics_and_clusters(tica_dir, bu72_tica_resampled_file, bu72_clusterer_file, lag_time, tic_range=range(0,n_components), main = \"bu72_MSM_Reweighted\", label = \"cluster_id\", active_cluster_ids = [c[0] for c in cluster_id_proportion_tuples[0:100]], intermediate_cluster_ids = [], inactive_cluster_ids = [], concatenate=False, axes=tica_axes)\n",
    "\n",
    "#plot_columns(tica_dir, bu72_tica_resampled_file, titles = [\"tIC.%d\" %i for i in range(1,n_components+1)], main = \"mOR_bu72_MSM_\", tICA = False, scale = 1.0, refcoords_file = ref_tica_coords, axes=tica_axes, concatenate=False, reshape=False)"
   ]
  },
  {
   "cell_type": "code",
   "execution_count": null,
   "metadata": {
    "collapsed": false
   },
   "outputs": [],
   "source": [
    "plt.clf()\n",
    "plt.hist(np.concatenate(bu72_pnas)[:,8], bins=50)\n",
    "plt.show()"
   ]
  },
  {
   "cell_type": "code",
   "execution_count": null,
   "metadata": {
    "collapsed": false
   },
   "outputs": [],
   "source": [
    "bu72_pnas_averages = calculate_cluster_averages_per_feature(bu72_clusterer, bu72_pnas)\n",
    "len(sorted(list(set(np.concatenate(bu72_clusterer.labels_)))))\n",
    "print(np.sum(bu72_msm.populations_[np.concatenate(bu72_msm.transform(np.where(bu72_pnas_averages[:,8] > 12.)[0]))]))\n",
    "print(np.sum(bu72_msm.populations_[np.concatenate(bu72_msm.transform(np.where(bu72_pnas_averages[:,8] < 12.)[0]))]))"
   ]
  },
  {
   "cell_type": "code",
   "execution_count": null,
   "metadata": {
    "collapsed": false
   },
   "outputs": [],
   "source": [
    "apo_pnas_averages = calculate_cluster_averages_per_feature(apo_clusterer, apo_pnas)\n",
    "len(sorted(list(set(np.concatenate(apo_clusterer.labels_)))))\n",
    "print(np.sum(apo_msm.populations_[np.concatenate(apo_msm.transform(np.where(apo_pnas_averages[:,8] > 12.)[0]))]))\n",
    "print(np.sum(apo_msm.populations_[np.concatenate(apo_msm.transform(np.where(apo_pnas_averages[:,8] < 12.)[0]))]))"
   ]
  },
  {
   "cell_type": "code",
   "execution_count": null,
   "metadata": {
    "collapsed": false
   },
   "outputs": [],
   "source": [
    "apo_pnas_averages = calculate_cluster_averages_per_feature(apo_clusterer, apo_pnas)\n",
    "sorted(list(set(np.concatenate(apo_clusterer.labels_))))"
   ]
  },
  {
   "cell_type": "code",
   "execution_count": null,
   "metadata": {
    "collapsed": false
   },
   "outputs": [],
   "source": [
    "np.sum(apo_msm.populations_[np.concatenate(apo_msm.partial_transform(list(set(np.concatenate(apo_clusterer.labels_)))))])"
   ]
  },
  {
   "cell_type": "code",
   "execution_count": null,
   "metadata": {
    "collapsed": false
   },
   "outputs": [],
   "source": [
    "apo_msm.partial_transform(list(set(np.concatenate(apo_clusterer.labels_))))"
   ]
  },
  {
   "cell_type": "code",
   "execution_count": null,
   "metadata": {
    "collapsed": false
   },
   "outputs": [],
   "source": [
    "apo_msm.partial_transform(np.array(list(set(np.concatenate(apo_clusterer.labels_)))))"
   ]
  },
  {
   "cell_type": "code",
   "execution_count": null,
   "metadata": {
    "collapsed": false
   },
   "outputs": [],
   "source": [
    "plt.clf()\n",
    "plt.hist(np.concatenate(apo_pnas)[:,8], bins=50, range=[6,18.])\n",
    "plt.show()"
   ]
  },
  {
   "cell_type": "code",
   "execution_count": null,
   "metadata": {
    "collapsed": false
   },
   "outputs": [],
   "source": [
    "graph_file = \"%s/bu72_msm_lag_time%d_graph.graphml\" % (tica_dir, bu72_lag_time)\n",
    "bu72_tica_averages = calculate_cluster_averages_per_feature(bu72_clusterer, bu72_tica)\n",
    "bu72_cluster_attributes = {}\n",
    "for i, title in enumerate([\"tIC.%d\" %i for i in range(1,n_components+1)]):\n",
    "    bu72_cluster_attributes[title] = bu72_tica_averages[:,i]\n",
    "construct_graph(bu72_msm_dir, bu72_clusterer_file, n_clusters, 5, 5, graph_file, inactive = None, active = None, pnas_clusters_averages = None, tica_clusters_averages = None, docking=None, macrostate = None, cluster_attributes=bu72_cluster_attributes)"
   ]
  },
  {
   "cell_type": "code",
   "execution_count": null,
   "metadata": {
    "collapsed": false
   },
   "outputs": [],
   "source": [
    "suf_lag_time=25\n",
    "prior_counts = 0.0\n",
    "suf_msm_dir = os.path.join(tica_dir, \"suf_msm_lag-time%d_prior-counts%s_clusters%d.h5\" %(suf_lag_time, str(prior_counts), n_clusters))\n",
    "#if not os.path.exists(suf_msm_dir):\n",
    "suf_msm = build_msm(suf_clusterer_file, suf_lag_time, suf_msm_dir, prior_counts)\n",
    "#else:\n",
    "#suf_msm = verboseload(suf_msm_dir)\n",
    "\n",
    "import msm_resampled\n",
    "reload(msm_resampled)\n",
    "from msm_resampled import *\n",
    "total_samples = 10000\n",
    "num_trajs = len(suf_trajs)\n",
    "prior_counts = 0.\n",
    "suf_resampled_traj_to_frames_file = os.path.join(tica_dir, \"suf_msm_lag-time%d_prior-counts%s_clusters%d_resampled_%d.h5\" %(suf_lag_time, str(prior_counts), n_clusters, total_samples))\n",
    "#if not os.path.exists(suf_resampled_traj_to_frames_file):\n",
    "suf_resampled_traj_to_frames = resample_by_msm(total_samples, suf_msm, suf_clusters_map, num_trajs, suf_resampled_traj_to_frames_file)\n",
    "#else:\n",
    "suf_resampled_traj_to_frames = verboseload(suf_resampled_traj_to_frames_file)\n",
    "\n",
    "#suf_pnas = verboseload(suf_pnas_file)\n",
    "#suf_pnas_resampled_file = os.path.join(tica_dir, \"suf_pnas_msm_lag-time%d_prior-counts%s_clusters%d_resampled_%d.h5\" %(suf_lag_time, str(prior_counts), n_clusters, total_samples))\n",
    "#resample_features_by_msm_equilibirum_pop(suf_pnas, suf_resampled_traj_to_frames, suf_pnas_resampled_file)\n",
    "#suf_pnas_resampled = verboseload(suf_pnas_resampled_file)\n",
    "\n",
    "tica_concatenated = np.concatenate(verboseload(projected_features_dir))\n",
    "tica_axes = [(np.min(tica_concatenated[:,i]), np.max(tica_concatenated[:,i])) for i in range(0, np.shape(tica_concatenated)[1])]\n",
    "\n",
    "suf_tica = verboseload(suf_tica_file)\n",
    "suf_tica_resampled_file = os.path.join(tica_dir, \"suf_tica_msm_lag-time%d_prior-counts%s_clusters%d_resampled_%d.h5\" %(suf_lag_time, str(prior_counts), n_clusters, total_samples))\n",
    "resample_features_by_msm_equilibirum_pop(suf_tica, suf_resampled_traj_to_frames, suf_tica_resampled_file)\n",
    "suf_tica_resampled = verboseload(suf_tica_resampled_file)\n",
    "\n",
    "suf_clusterer = verboseload(suf_clusterer_file)\n",
    "suf_msm = verboseload(suf_msm_dir)\n",
    "\n",
    "cluster_id_proportion_tuples = []\n",
    "\n",
    "equilibrium_populations = suf_msm.populations_\n",
    "\n",
    "for cluster_id in suf_msm.mapping_.keys():\n",
    "    state_id = suf_msm.mapping_[cluster_id]\n",
    "    cluster_id_proportion_tuples.append((cluster_id,equilibrium_populations[state_id]))\n",
    "cluster_id_proportion_tuples = sorted(cluster_id_proportion_tuples, key=itemgetter(1), reverse=True)\n",
    "    \n",
    "plot_all_tics_and_clusters(tica_dir, suf_tica_resampled_file, suf_clusterer_file, lag_time, tic_range=range(0,n_components), main = \"suf_MSM_Reweighted\", label = \"cluster_id\", active_cluster_ids = [c[0] for c in cluster_id_proportion_tuples[0:100]], intermediate_cluster_ids = [], inactive_cluster_ids = [], concatenate=False, axes=tica_axes)\n",
    "\n",
    "#plot_columns(tica_dir, suf_tica_resampled_file, titles = [\"tIC.%d\" %i for i in range(1,n_components+1)], main = \"mOR_suf_MSM_\", tICA = False, scale = 1.0, refcoords_file = ref_tica_coords, axes=tica_axes, concatenate=False, reshape=False)"
   ]
  },
  {
   "cell_type": "code",
   "execution_count": null,
   "metadata": {
    "collapsed": true
   },
   "outputs": [],
   "source": []
  },
  {
   "cell_type": "code",
   "execution_count": null,
   "metadata": {
    "collapsed": false
   },
   "outputs": [],
   "source": [
    "plot_columns(tica_dir, apo_pnas_resampled_file, titles = sorted(feature_name_residues_dict.keys()), main = \"mOR_Apo_MSM_\", tICA = False, scale = 1.0, refcoords_file = None, axes=None, concatenate=False, reshape=True)"
   ]
  },
  {
   "cell_type": "code",
   "execution_count": null,
   "metadata": {
    "collapsed": false,
    "scrolled": true
   },
   "outputs": [],
   "source": [
    "bu72_lag_time=25\n",
    "prior_counts = 0.0\n",
    "bu72_msm_dir = os.path.join(tica_dir, \"bu72_msm_lag-time%d_prior-counts%s_clusters%d.h5\" %(bu72_lag_time, str(prior_counts), n_clusters))\n",
    "if not os.path.exists(bu72_msm_dir):\n",
    "    bu72_msm = build_msm(bu72_clusterer_file, bu72_lag_time, bu72_msm_dir, prior_counts)\n",
    "else:\n",
    "    bu72_msm = verboseload(bu72_msm_dir)\n",
    "bu72_msm.timescales_"
   ]
  },
  {
   "cell_type": "code",
   "execution_count": null,
   "metadata": {
    "collapsed": true
   },
   "outputs": [],
   "source": [
    "fixed_assignments = dict()\n",
    "for i, traj in enumerate(bu72_clusterer.labels_):\n",
    "    fixed_assignments[i] = bu72_msm.transform(traj)"
   ]
  },
  {
   "cell_type": "code",
   "execution_count": null,
   "metadata": {
    "collapsed": true
   },
   "outputs": [],
   "source": [
    "fixed_assignments[0]"
   ]
  },
  {
   "cell_type": "code",
   "execution_count": null,
   "metadata": {
    "collapsed": true
   },
   "outputs": [],
   "source": [
    "print(\"hello\")"
   ]
  },
  {
   "cell_type": "code",
   "execution_count": null,
   "metadata": {
    "collapsed": true
   },
   "outputs": [],
   "source": [
    "def pop_vs_counts(msm_obj, fixed_assignments, ax,**kwargs):\n",
    "\n",
    "    pop_count_vect=[]\n",
    "    for i in range(msm_obj.n_states_):\n",
    "        pop_count_vect.append(np.sum([np.count_nonzero(fixed_assignments[j]==i)\n",
    "                                      for j in fixed_assignments.keys()]))\n",
    "    pop_count_vect = pop_count_vect/np.sum(pop_count_vect)\n",
    "    ax.errorbar(np.log10(msm_object.populations_),np.log10(pop_count_vect),**kwargs)\n",
    "    ax.plot([0,-6],[0,-6])\n",
    "    ax.set_ylim([-6,0])\n",
    "    ax.set_xlim([-6,0])\n",
    "    ax.set_xlabel(\" MSM Population\",size=16)\n",
    "    ax.set_ylabel(\"Counts Population\",size=16)\n",
    "    return pop_count_vect\n",
    "f=figure()\n",
    "ax=f.add_subplot(1,1,1)\n",
    "pop_count_vect = pop_vs_counts(bu72_msm, fixed_assignments, ax fmt='o', color='r',label=\"RCSB-ASP\")\n",
    "ax.legend(loc='best',prop={'size':12})"
   ]
  },
  {
   "cell_type": "code",
   "execution_count": null,
   "metadata": {
    "collapsed": false
   },
   "outputs": [],
   "source": [
    "total_samples = 10000\n",
    "num_trajs = len(bu72_trajs)\n",
    "bu72_resampled_traj_to_frames_file = os.path.join(tica_dir, \"bu72_msm_lag-time%d_prior-counts%s_clusters%d_resampled_%d.h5\" %(bu72_lag_time, str(prior_counts), n_clusters, total_samples))\n",
    "if not os.path.exists(bu72_resampled_traj_to_frames_file):\n",
    "    bu72_resampled_traj_to_frames = resample_by_msm(total_samples, bu72_msm, bu72_clusters_map, num_trajs, bu72_resampled_traj_to_frames_file)\n",
    "else:\n",
    "    bu72_resampled_traj_to_frames = verboseload(bu72_resampled_traj_to_frames_file)"
   ]
  },
  {
   "cell_type": "code",
   "execution_count": null,
   "metadata": {
    "collapsed": false
   },
   "outputs": [],
   "source": [
    "bu72_resampled_traj_to_frames_file"
   ]
  },
  {
   "cell_type": "code",
   "execution_count": null,
   "metadata": {
    "collapsed": false
   },
   "outputs": [],
   "source": [
    "bu72_pnas = verboseload(bu72_pnas_file)\n",
    "bu72_pnas_resampled_file = os.path.join(tica_dir, \"bu72_pnas_msm_lag-time%d_prior-counts%s_clusters%d_resampled_%d.h5\" %(bu72_lag_time, str(prior_counts), n_clusters, total_samples))\n",
    "resample_features_by_msm_equilibirum_pop(bu72_pnas, bu72_resampled_traj_to_frames, bu72_pnas_resampled_file)\n",
    "bu72_pnas_resampled = verboseload(bu72_pnas_resampled_file)"
   ]
  },
  {
   "cell_type": "code",
   "execution_count": null,
   "metadata": {
    "collapsed": false
   },
   "outputs": [],
   "source": [
    "bu72_tica = verboseload(bu72_tica_file)\n",
    "bu72_tica_resampled_file = os.path.join(tica_dir, \"bu72_tica_msm_lag-time%d_prior-counts%s_clusters%d_resampled_%d.h5\" %(bu72_lag_time, str(prior_counts), n_clusters, total_samples))\n",
    "resample_features_by_msm_equilibirum_pop(bu72_tica, bu72_resampled_traj_to_frames, bu72_tica_resampled_file)\n",
    "bu72_tica_resampled = verboseload(bu72_tica_resampled_file)"
   ]
  },
  {
   "cell_type": "code",
   "execution_count": null,
   "metadata": {
    "collapsed": false,
    "scrolled": true
   },
   "outputs": [],
   "source": [
    "bu72_clusterer = verboseload(bu72_clusterer_file)\n",
    "bu72_msm = verboseload(bu72_msm_dir)\n",
    "\n",
    "cluster_id_proportion_tuples = []\n",
    "\n",
    "equilibrium_populations = bu72_msm.populations_\n",
    "\n",
    "for cluster_id in bu72_msm.mapping_.keys():\n",
    "    state_id = bu72_msm.mapping_[cluster_id]\n",
    "    cluster_id_proportion_tuples.append((cluster_id,equilibrium_populations[state_id]))\n",
    "cluster_id_proportion_tuples = sorted(cluster_id_proportion_tuples, key=itemgetter(1), reverse=True)\n",
    "    \n",
    "plot_all_tics_and_clusters(tica_dir, bu72_tica_resampled_file, bu72_clusterer_file, lag_time, tic_range=range(0,10), main = \"bu72_MSM_Reweighted\", label = \"cluster_id\", active_cluster_ids = [c[0] for c in cluster_id_proportion_tuples[0:100]], intermediate_cluster_ids = [], inactive_cluster_ids = [], concatenate=False, axes=tica_axes)"
   ]
  },
  {
   "cell_type": "code",
   "execution_count": null,
   "metadata": {
    "collapsed": false
   },
   "outputs": [],
   "source": [
    "bu72_pnas_file"
   ]
  },
  {
   "cell_type": "code",
   "execution_count": null,
   "metadata": {
    "collapsed": false
   },
   "outputs": [],
   "source": [
    "analysis_dir"
   ]
  },
  {
   "cell_type": "code",
   "execution_count": null,
   "metadata": {
    "collapsed": false
   },
   "outputs": [],
   "source": [
    "tica_resampled = np.vstack([verboseload(bu72_pnas_resampled_file)[::1,], verboseload(apo_pnas_resampled_file)[::1,]])\n",
    "mins = np.min(tica_resampled, axis=0)\n",
    "maxs = np.max(tica_resampled, axis=0)\n",
    "stds = np.std(tica_resampled, axis=0)\n",
    "custom_lims = [[mins[i] - 1.*stds[i], maxs[i] + 1.*stds[i]] for i in range(0,len(mins))]"
   ]
  },
  {
   "cell_type": "code",
   "execution_count": null,
   "metadata": {
    "collapsed": false
   },
   "outputs": [],
   "source": [
    "ref_pnas = load_file(\"/home/enf/md_simulations/MOR/h8_reimaged/all_pnas_features/ref_coords.h5\")\n",
    "ref_pnas = np.hstack([np.array(x).T for x in ref_pnas])"
   ]
  },
  {
   "cell_type": "code",
   "execution_count": null,
   "metadata": {
    "collapsed": false
   },
   "outputs": [],
   "source": [
    "def get_features(features_dir):\n",
    "    feature_files = get_trajectory_files(features_dir, \".dataset\")\n",
    "    features = np.vstack([load_file(f) for f in feature_files])\n",
    "    print(features.shape)\n",
    "    return features\n",
    "\n",
    "ref_pp_features = pd.DataFrame(get_features(ref_features_dir), columns=feature_names)\n",
    "\n",
    "ref_pp_tica = pd.read_csv(ref_tica_coords, header=None).values\n",
    "#ref_pp_tica.columns = [\"mOR tIC.%d\" %i for i in range(1,ref_pp_tica.shape[1])]\n",
    "\n",
    "ref_pnas = load_file(\"/home/enf/md_simulations/MOR/h8_reimaged/all_pnas_features/ref_coords.h5\")\n",
    "ref_pnas = np.hstack([np.array(x).T for x in ref_pnas])\n",
    "\n",
    "#ref_pnas = pd.DataFrame(ref_pnas, columns=sorted(feature_name_residues_dict.keys()))\n",
    "\n",
    "#ref_features = pd.concat([ref_pp_features*10., ref_lp_features*10., ref_pp_tica, ref_lp_tica, ref_pnas], axis=1)"
   ]
  },
  {
   "cell_type": "code",
   "execution_count": null,
   "metadata": {
    "collapsed": false
   },
   "outputs": [],
   "source": [
    "ref_pp_tica"
   ]
  },
  {
   "cell_type": "code",
   "execution_count": null,
   "metadata": {
    "collapsed": false
   },
   "outputs": [],
   "source": [
    "import jointplot_d3\n",
    "reload(jointplot_d3)\n",
    "from jointplot_d3 import *\n",
    "jointplots(bu72_pnas_resampled[::1,:], analysis_dir, titles = sorted(feature_name_residues_dict.keys()), main = \"mOR_BU72_MSM_\", refcoords = ref_pnas, axes=None, data_j=None, titles_j=None, reshape=False, max_tIC=20, min_density=None, max_diff=3., custom_lims=custom_lims, n_levels=15, n_pts=200j, parallel=True)"
   ]
  },
  {
   "cell_type": "code",
   "execution_count": null,
   "metadata": {
    "collapsed": false
   },
   "outputs": [],
   "source": [
    "ref_pnas"
   ]
  },
  {
   "cell_type": "code",
   "execution_count": null,
   "metadata": {
    "collapsed": false
   },
   "outputs": [],
   "source": [
    "jointplots(apo_pnas_resampled[::1,:], analysis_dir, titles = sorted(feature_name_residues_dict.keys()), main = \"mOR_APO_MSM_\", refcoords=ref_pnas, axes=None, data_j=None, titles_j=None, reshape=False, max_tIC=20, min_density=None, max_diff=3., custom_lims=custom_lims, n_levels=10)"
   ]
  },
  {
   "cell_type": "code",
   "execution_count": null,
   "metadata": {
    "collapsed": false
   },
   "outputs": [],
   "source": [
    "jointplots(suf_pnas_resampled[::1,:], analysis_dir, titles = sorted(feature_name_residues_dict.keys()), main = \"mOR_SUF_MSM_\", refcoords=ref_pnas, axes=None, data_j=None, titles_j=None, reshape=False, max_tIC=20, min_density=None, max_diff=3., custom_lims=custom_lims, n_levels=10)"
   ]
  },
  {
   "cell_type": "code",
   "execution_count": null,
   "metadata": {
    "collapsed": false
   },
   "outputs": [],
   "source": [
    "tica_resampled = np.vstack([verboseload(bu72_tica_resampled_file)[::1,], verboseload(apo_tica_resampled_file)[::1,]])\n",
    "mins = np.min(tica_resampled, axis=0)\n",
    "maxs = np.max(tica_resampled, axis=0)\n",
    "stds = np.std(tica_resampled, axis=0)\n",
    "custom_lims = [[mins[i] - 1.*stds[i], maxs[i] + 1.*stds[i]] for i in range(0,len(mins))]\n"
   ]
  },
  {
   "cell_type": "code",
   "execution_count": null,
   "metadata": {
    "collapsed": false
   },
   "outputs": [],
   "source": [
    "print(custom_lims)\n",
    "print(custom_lims[3][1])"
   ]
  },
  {
   "cell_type": "code",
   "execution_count": null,
   "metadata": {
    "collapsed": false,
    "scrolled": true
   },
   "outputs": [],
   "source": [
    "import jointplot_d3\n",
    "reload(jointplot_d3)\n",
    "from jointplot_d3 import *\n",
    "refcoords_jointplots_dir = \"%s/refcoords_jointplots\" %analysis_dir\n",
    "if not os.path.exists(refcoords_jointplots_dir):\n",
    "    os.makedirs(refcoords_jointplots_dir)\n",
    "#jointplots(verboseload(bu72_tica_resampled_file)[::1,:], refcoords_jointplots_dir, titles = [\"tIC%d\" %j for j in range(1,n_components+1)], main = \"BU72 MSM\", refcoords=ref_pp_tica, axes=None, data_j=None, titles_j=None, reshape=False, max_tIC=10, min_density=None, max_diff=5., custom_lims=custom_lims, n_pts=200j, n_levels=15)\n",
    "jointplots(verboseload(apo_tica_resampled_file)[::1,:], refcoords_jointplots_dir, titles = [\"tIC%d\" %j for j in range(1,n_components+1)], main = \"Apo MSM\", refcoords=ref_pp_tica, axes=None, data_j=None, titles_j=None, reshape=False, max_tIC=10, min_density=None, max_diff=5., custom_lims=custom_lims, n_pts=200j, n_levels=15)\n",
    "\n",
    "\n",
    "#jointplots(verboseload(suf_tica_resampled_file)[::1,:], refcoords_jointplots_dir, titles = [\"tIC%d\" %j for j in range(1,n_components+1)], main = \"Sufentanil MSM\", refcoords=ref_pp_tica, axes=None, data_j=None, titles_j=None, reshape=False, max_tIC=10, min_density=None, max_diff=5., custom_lims=custom_lims, n_pts=200j, n_levels=15)"
   ]
  },
  {
   "cell_type": "code",
   "execution_count": null,
   "metadata": {
    "collapsed": false
   },
   "outputs": [],
   "source": [
    "np.concatenate(bu72_tica).shape"
   ]
  },
  {
   "cell_type": "code",
   "execution_count": null,
   "metadata": {
    "collapsed": false
   },
   "outputs": [],
   "source": [
    "np.concatenate(apo_tica).shape"
   ]
  },
  {
   "cell_type": "code",
   "execution_count": null,
   "metadata": {
    "collapsed": false
   },
   "outputs": [],
   "source": [
    "import jointplot_d3\n",
    "reload(jointplot_d3)\n",
    "from jointplot_d3 import *\n",
    "jointplots(verboseload(bu72_tica_resampled_file)[::1,:], analysis_dir, titles = [\"tIC%d\" %j for j in range(1,n_components+1)], main = \"BU72 MSM\", refcoords=None, axes=None, data_j=bu72_pnas_resampled, titles_j=sorted(feature_name_residues_dict.keys()), reshape=False, max_tIC=10, min_density=None, max_diff=5., custom_lims=None)\n",
    "jointplots(verboseload(apo_tica_resampled_file)[::1,:], analysis_dir, titles = [\"tIC%d\" %j for j in range(1,n_components+1)], main = \"Apo MSM\", refcoords=None, axes=None, data_j=apo_pnas_resampled, titles_j=sorted(feature_name_residues_dict.keys()), reshape=False, max_tIC=10, min_density=None, max_diff=5., custom_lims=None)\n",
    "\n",
    "\n",
    "#jointplots(verboseload(suf_tica_resampled_file)[::1,:], analysis_dir, titles = [\"tIC%d\" %j for j in range(1,n_components+1)], main = \"Sufentanil MSM\", refcoords=None, axes=None, data_j=bu72_pnas_resampled, titles_j=sorted(feature_name_residues_dict.keys()), reshape=False, max_tIC=10, min_density=None, max_diff=5., custom_lims=None)"
   ]
  },
  {
   "cell_type": "code",
   "execution_count": null,
   "metadata": {
    "collapsed": false,
    "scrolled": true
   },
   "outputs": [],
   "source": [
    "import detect_intermediates\n",
    "reload(detect_intermediates)\n",
    "from detect_intermediates import *\n"
   ]
  },
  {
   "cell_type": "code",
   "execution_count": null,
   "metadata": {
    "collapsed": false
   },
   "outputs": [],
   "source": [
    "#sample_tIC_regions_silverman(np.concatenate(verboseload(projected_features_dir))[::100,:], analysis_dir)\n",
    "#get_kde_mins_and_maxes(np.concatenate(verboseload(projected_features_dir))[::100,:], analysis_dir)\n",
    "sample_kde_maxima(verboseload(projected_features_dir), analysis_dir, trajs)"
   ]
  },
  {
   "cell_type": "code",
   "execution_count": null,
   "metadata": {
    "collapsed": false
   },
   "outputs": [],
   "source": [
    "jointplots(verboseload(apo_tica_resampled_file)[::1,:], analysis_dir, titles = [\"tIC%d\" %j for j in range(1,n_components+1)], main = \"Apo MSM\", refcoords_file = None, axes=None, data_j=None, titles_j=None, reshape=False, max_tIC=5, min_density=None, max_diff=5., custom_lims=custom_lims)"
   ]
  },
  {
   "cell_type": "code",
   "execution_count": null,
   "metadata": {
    "collapsed": false
   },
   "outputs": [],
   "source": [
    "plot_columns(tica_dir, bu72_pnas_resampled_file, titles = sorted(feature_name_residues_dict.keys()), main = \"mOR_BU72_MSM_\", tICA = False, scale = 1.0, refcoords_file = None, axes=None, concatenate=False, reshape=True)"
   ]
  },
  {
   "cell_type": "code",
   "execution_count": null,
   "metadata": {
    "collapsed": false
   },
   "outputs": [],
   "source": [
    "#bu72_tica = verboseload(bu72_tica_file)\n",
    "#bu72_tica_resampled_file = os.path.join(tica_dir, \"bu72_tica_msm_lag-time%d_prior-counts%s_clusters%d_resampled.h5\" %(lag_time, str(prior_counts), n_clusters))\n",
    "#resample_features_by_msm_equilibirum_pop(bu72_tica, bu72_resampled_traj_to_frames, bu72_tica_resampled_file)\n",
    "#bu72_tica_resampled = verboseload(bu72_tica_resampled_file)\n",
    "plot_columns(tica_dir, bu72_tica_resampled_file, titles = [\"tIC.%d\" %i for i in range(1,n_components+1)], main = \"mOR_BU72_MSM_\", tICA = False, scale = 1.0, refcoords_file = ref_tica_coords, axes=tica_axes, concatenate=False, reshape=True)"
   ]
  },
  {
   "cell_type": "code",
   "execution_count": null,
   "metadata": {
    "collapsed": false
   },
   "outputs": [],
   "source": [
    "bu72_clusterer = verboseload(bu72_clusterer_file)\n",
    "bu72_msm = verboseload(bu72_msm_dir)\n",
    "\n",
    "cluster_id_proportion_tuples = []\n",
    "\n",
    "equilibrium_populations = bu72_msm.populations_\n",
    "\n",
    "for cluster_id in bu72_msm.mapping_.keys():\n",
    "    state_id = bu72_msm.mapping_[cluster_id]\n",
    "    cluster_id_proportion_tuples.append((cluster_id,equilibrium_populations[state_id]))\n",
    "cluster_id_proportion_tuples = sorted(cluster_id_proportion_tuples, key=itemgetter(1), reverse=True)\n",
    "\n",
    "#plot_all_tics_and_clusters(tica_dir, bu72_tica_resampled_file, bu72_clusterer_file, lag_time, tic_range=[0,3], main = \"BU72_MSM_Reweighted\", label = \"cluster_id\", active_cluster_ids = [c[0] for c in cluster_id_proportion_tuples[0:100]], intermediate_cluster_ids = [], inactive_cluster_ids = [], concatenate=False, axes=tica_axes)\n"
   ]
  },
  {
   "cell_type": "code",
   "execution_count": null,
   "metadata": {
    "collapsed": false
   },
   "outputs": [],
   "source": [
    "len(dview)"
   ]
  },
  {
   "cell_type": "code",
   "execution_count": null,
   "metadata": {
    "collapsed": false,
    "scrolled": true
   },
   "outputs": [],
   "source": [
    "import custom_clusterer\n",
    "reload(custom_clusterer)\n",
    "from custom_clusterer import *\n",
    "\n",
    "n_samples = 1\n",
    "n_clusters=\n",
    "samples_dir = \"%s/bu72_clusterer_%dclusters_%dsamples_samples_kdtree\" %(tica_dir, n_clusters, n_samples)\n",
    "samples_indices_file = \"%s/bu72_clusterer_%dclusters_%dsamples_samples_kdtree_indices.h5\" %(tica_dir, n_clusters, n_samples)\n",
    "if not os.path.exists(samples_dir): os.makedirs(samples_dir)\n",
    "print(samples_dir)\n",
    "traj_files = get_trajectory_files(traj_dir, traj_ext)    \n",
    "sample_from_clusterer(bu72_clusterer_file, bu72_tica_file, [traj_files[i] for i in bu72_trajs], \n",
    "                      n_samples, samples_dir, samples_indices_file,\n",
    "                      worker_pool=dview, parallel=False, lig_name=\"LIG\")"
   ]
  },
  {
   "cell_type": "code",
   "execution_count": null,
   "metadata": {
    "collapsed": false
   },
   "outputs": [],
   "source": [
    "get_trajectory_files(traj_dir, traj_ext)"
   ]
  },
  {
   "cell_type": "code",
   "execution_count": null,
   "metadata": {
    "collapsed": false
   },
   "outputs": [],
   "source": [
    "import custom_clusterer\n",
    "reload(custom_clusterer)\n",
    "from custom_clusterer import *\n",
    "\n",
    "n_samples = 5\n",
    "n_clusters=1000\n",
    "samples_dir = \"%s/apo_clusterer_%dclusters_%dsamples_samples_kdtree\" %(tica_dir, n_clusters, n_samples)\n",
    "samples_indices_file = \"%s/apo_clusterer_%dclusters_%dsamples_samples_kdtree_indices.h5\" %(tica_dir, n_clusters, n_samples)\n",
    "if not os.path.exists(samples_dir): os.makedirs(samples_dir)\n",
    "\n",
    "sample_from_clusterer(apo_clusterer_file, apo_tica_file, [traj_files[i] for i in apo_trajs],\n",
    "                      n_samples, samples_dir, samples_indices_file,\n",
    "                      worker_pool=dview, parallel=False, lig_name=\"LIG\")"
   ]
  },
  {
   "cell_type": "code",
   "execution_count": null,
   "metadata": {
    "collapsed": false
   },
   "outputs": [],
   "source": [
    "traj_files"
   ]
  },
  {
   "cell_type": "code",
   "execution_count": null,
   "metadata": {
    "collapsed": false
   },
   "outputs": [],
   "source": [
    "feature_name_residues_dict.keys()"
   ]
  },
  {
   "cell_type": "code",
   "execution_count": null,
   "metadata": {
    "collapsed": false,
    "scrolled": true
   },
   "outputs": [],
   "source": [
    "\n",
    "np.shape(apo_pnas_resampled)\n",
    "msm_dir = os.path.join(tica_dir, \"msm_lag-time%d_prior-counts%s_clusters%d_analysis\" %(lag_time, str(prior_counts), n_clusters))\n",
    "if not os.path.exists(msm_dir): os.makedirs(msm_dir)\n",
    "\n",
    "#plot_columns(msm_dir, apo_pnas_resampled_file, titles = feature_name_residues_dict.keys(), main = \"Apo-mOR\", tICA = False, scale = 1.0, refcoords_file = None, axes=None, concatenate=False)"
   ]
  },
  {
   "cell_type": "code",
   "execution_count": null,
   "metadata": {
    "collapsed": false
   },
   "outputs": [],
   "source": [
    "import pip\n",
    "\n",
    "def install(package):\n",
    "    pip.main(['install', package])\n",
    "    \n",
    "install(\"moviepy\")"
   ]
  },
  {
   "cell_type": "code",
   "execution_count": null,
   "metadata": {
    "collapsed": false
   },
   "outputs": [],
   "source": [
    "import jointplot_d3\n",
    "reload(jointplot_d3)\n",
    "from jointplot_d3 import *\n",
    "\n",
    "for i, traj in enumerate(get_trajectory_files(traj_dir, traj_ext)):\n",
    "    if \"apo_rep_68.\" in traj:\n",
    "        index=i\n",
    "        break\n",
    "\n",
    "jointplot(apo_pnas_resampled[::10,[6,3]], \"%s/test.pdf\" %msm_dir, trajectory=apo_pnas[index][::1,[6,3]], \n",
    "          titles=[\"TM6 to TM3 distance\", \"RMSD of NPxxY to Inactive\"], main = \"mOR Activation Pathway\", \n",
    "          video_file = \"%s/apo_68.mp4\" %msm_dir, custom_xlim=[4.0, 16.0], custom_ylim= [0.0, 1.0])\n",
    "#test(\"%s/test2.mp4\" %msm_dir)"
   ]
  },
  {
   "cell_type": "code",
   "execution_count": null,
   "metadata": {
    "collapsed": true
   },
   "outputs": [],
   "source": [
    "build_msm(bu72_clusterer_file, lag_time, msm_model_dir)\n",
    "build_msm(apo_clusterer_file, lag_time, msm_model_dir)"
   ]
  },
  {
   "cell_type": "code",
   "execution_count": null,
   "metadata": {
    "collapsed": false
   },
   "outputs": [],
   "source": [
    "tics_1_5_file = os.path.join(tica_dir, \"tICs_1_5.h5\")\n",
    "tics = load_file(projected_features_dir)\n",
    "tics_1_5 = [x[:,range(1,5)] for x in tics]\n",
    "verbosedump(tics_1_5, tics_1_5_file)\n",
    "\n",
    "clusterer300_clusters = os.path.join(tica_dir, \"clusterer300_clusters_tICs1_5.h5\")\n",
    "cluster_minikmeans(tica_dir, tics_1_5_file, traj_dir, n_clusters=300, clusterer_dir=clusterer300_clusters)"
   ]
  },
  {
   "cell_type": "code",
   "execution_count": null,
   "metadata": {
    "collapsed": false
   },
   "outputs": [],
   "source": [
    "len(dview)"
   ]
  },
  {
   "cell_type": "code",
   "execution_count": null,
   "metadata": {
    "collapsed": false
   },
   "outputs": [],
   "source": [
    "import custom_clusterer\n",
    "reload(custom_clusterer)\n",
    "from custom_clusterer import *\n",
    "\n",
    "n_samples = 1\n",
    "n_clusters = 300\n",
    "\n",
    "traj_files = get_trajectory_files(traj_dir, traj_ext)\n",
    "featurized_trajectories = [traj_files[i] for i in feature_indices]\n",
    "suf_traj_files = [t for t in featurized_trajectories if \"suf\" in t]\n",
    "reduced_clusterer = verboseload(clusterer300_clusters)\n",
    "suf_reduced_clusterer_file = \"%s/suf_reduced_clusterer.h5\" %tica_dir\n",
    "\n",
    "suf_reduced_tica_file = \"%s/suf_reduced_tica.h5\" %tica_dir\n",
    "suf_reduced_tica = [x[:,range(1,5)] for x in suf_tica]\n",
    "suf_reseeded_dir = \"%s/suf_reseeded_samples\" %tica_dir\n",
    "if not os.path.exists(suf_reseeded_dir):\n",
    "    os.makedirs(suf_reseeded_dir)\n",
    "verbosedump(suf_reduced_tica, suf_reduced_tica_file)\n",
    "\n",
    "suf_reduced_clusters = [reduced_clusterer.labels_[i] for i in suf_trajs]\n",
    "suf_reduced_clusterer = copy.deepcopy(reduced_clusterer)\n",
    "suf_reduced_clusterer.labels_ = suf_reduced_clusters\n",
    "verbosedump(suf_reduced_clusterer, suf_reduced_clusterer_file)\n",
    "#reseed_from_clusterer(suf_reduced_clusterer_file, \"suf\", suf_reseeded_dir, suf_reduced_tica_file, suf_traj_files)\n",
    "\n",
    "\n",
    "samples_dir = \"%s/suf_clusterer_%dclusters_%dsamples_samples_kdtree\" %(tica_dir, n_clusters, n_samples)\n",
    "reseed_dir = \"%s/suf_clusterer_%dclusters_%dsamples_samples_kdtree_reseed\" %(tica_dir, n_clusters, n_samples)\n",
    "samples_indices_file = \"%s/suf_clusterer_%dclusters_%dsamples_samples_kdtree_indices.h5\" %(tica_dir, n_clusters, n_samples)\n",
    "if not os.path.exists(samples_dir): os.makedirs(samples_dir)\n",
    "if not os.path.exists(reseed_dir): os.makedirs(reseed_dir)\n",
    "print(samples_dir)\n",
    "traj_files = get_trajectory_files(traj_dir, traj_ext)    \n",
    "sample_from_clusterer(suf_reduced_clusterer_file, suf_reduced_tica_file, [traj_files[i] for i in suf_trajs], \n",
    "                      n_samples, samples_dir, samples_indices_file,\n",
    "                      worker_pool=dview, parallel=False, lig_name=\"LIG\", reseed_dir = reseed_dir)"
   ]
  },
  {
   "cell_type": "code",
   "execution_count": null,
   "metadata": {
    "collapsed": false
   },
   "outputs": [],
   "source": [
    "import custom_clusterer\n",
    "reload(custom_clusterer)\n",
    "from custom_clusterer import *\n",
    "\n",
    "n_samples = 1\n",
    "n_clusters = 300\n",
    "\n",
    "traj_files = get_trajectory_files(traj_dir, traj_ext)\n",
    "featurized_trajectories = [traj_files[i] for i in feature_indices]\n",
    "bu72_traj_files = [t for t in featurized_trajectories if \"bu72\" in t]\n",
    "reduced_clusterer = verboseload(clusterer300_clusters)\n",
    "bu72_reduced_clusterer_file = \"%s/bu72_reduced_clusterer.h5\" %tica_dir\n",
    "\n",
    "bu72_reduced_tica_file = \"%s/bu72_reduced_tica.h5\" %tica_dir\n",
    "bu72_reduced_tica = [x[:,range(1,5)] for x in bu72_tica]\n",
    "bu72_reseeded_dir = \"%s/bu72_reseeded_samples\" %tica_dir\n",
    "if not os.path.exists(bu72_reseeded_dir):\n",
    "    os.makedirs(bu72_reseeded_dir)\n",
    "verbosedump(bu72_reduced_tica, bu72_reduced_tica_file)\n",
    "\n",
    "bu72_reduced_clusters = [reduced_clusterer.labels_[i] for i in bu72_trajs]\n",
    "bu72_reduced_clusterer = copy.deepcopy(reduced_clusterer)\n",
    "bu72_reduced_clusterer.labels_ = bu72_reduced_clusters\n",
    "verbosedump(bu72_reduced_clusterer, bu72_reduced_clusterer_file)\n",
    "#reseed_from_clusterer(bu72_reduced_clusterer_file, \"bu72\", bu72_reseeded_dir, bu72_reduced_tica_file, bu72_traj_files)\n",
    "\n",
    "\n",
    "samples_dir = \"%s/bu72_clusterer_%dclusters_%dsamples_samples_kdtree\" %(tica_dir, n_clusters, n_samples)\n",
    "reseed_dir = \"%s/bu72_clusterer_%dclusters_%dsamples_samples_kdtree_reseed\" %(tica_dir, n_clusters, n_samples)\n",
    "samples_indices_file = \"%s/bu72_clusterer_%dclusters_%dsamples_samples_kdtree_indices.h5\" %(tica_dir, n_clusters, n_samples)\n",
    "if not os.path.exists(samples_dir): os.makedirs(samples_dir)\n",
    "if not os.path.exists(reseed_dir): os.makedirs(reseed_dir)\n",
    "print(samples_dir)\n",
    "traj_files = get_trajectory_files(traj_dir, traj_ext)    \n",
    "sample_from_clusterer(bu72_reduced_clusterer_file, bu72_reduced_tica_file, [traj_files[i] for i in bu72_trajs], \n",
    "                      n_samples, samples_dir, samples_indices_file,\n",
    "                      worker_pool=dview, parallel=False, lig_name=\"LIG\", reseed_dir = reseed_dir)"
   ]
  },
  {
   "cell_type": "code",
   "execution_count": null,
   "metadata": {
    "collapsed": false
   },
   "outputs": [],
   "source": [
    "import custom_clusterer\n",
    "reload(custom_clusterer)\n",
    "from custom_clusterer import *\n",
    "\n",
    "n_samples = 1\n",
    "n_clusters = 300\n",
    "\n",
    "traj_files = get_trajectory_files(traj_dir, traj_ext)\n",
    "featurized_trajectories = [traj_files[i] for i in feature_indices]\n",
    "apo_traj_files = [t for t in featurized_trajectories if \"apo\" in t]\n",
    "reduced_clusterer = verboseload(clusterer300_clusters)\n",
    "apo_reduced_clusterer_file = \"%s/apo_reduced_clusterer.h5\" %tica_dir\n",
    "\n",
    "apo_reduced_tica_file = \"%s/apo_reduced_tica.h5\" %tica_dir\n",
    "apo_reduced_tica = [x[:,range(1,5)] for x in apo_tica]\n",
    "apo_reseeded_dir = \"%s/apo_reseeded_samples\" %tica_dir\n",
    "if not os.path.exists(apo_reseeded_dir):\n",
    "    os.makedirs(apo_reseeded_dir)\n",
    "verbosedump(apo_reduced_tica, apo_reduced_tica_file)\n",
    "\n",
    "apo_reduced_clusters = [reduced_clusterer.labels_[i] for i in apo_trajs]\n",
    "apo_reduced_clusterer = copy.deepcopy(reduced_clusterer)\n",
    "apo_reduced_clusterer.labels_ = apo_reduced_clusters\n",
    "verbosedump(apo_reduced_clusterer, apo_reduced_clusterer_file)\n",
    "#reseed_from_clusterer(apo_reduced_clusterer_file, \"apo\", apo_reseeded_dir, apo_reduced_tica_file, apo_traj_files)\n",
    "\n",
    "\n",
    "samples_dir = \"%s/apo_clusterer_%dclusters_%dsamples_samples_kdtree\" %(tica_dir, n_clusters, n_samples)\n",
    "reseed_dir = \"%s/apo_clusterer_%dclusters_%dsamples_samples_kdtree_reseed\" %(tica_dir, n_clusters, n_samples)\n",
    "samples_indices_file = \"%s/apo_clusterer_%dclusters_%dsamples_samples_kdtree_indices.h5\" %(tica_dir, n_clusters, n_samples)\n",
    "if not os.path.exists(samples_dir): os.makedirs(samples_dir)\n",
    "if not os.path.exists(reseed_dir): os.makedirs(reseed_dir)\n",
    "print(samples_dir)\n",
    "traj_files = get_trajectory_files(traj_dir, traj_ext)    \n",
    "sample_from_clusterer(apo_reduced_clusterer_file, apo_reduced_tica_file, [traj_files[i] for i in apo_trajs], \n",
    "                      n_samples, samples_dir, samples_indices_file,\n",
    "                      worker_pool=dview, parallel=False, lig_name=\"LIG\", reseed_dir = reseed_dir)"
   ]
  },
  {
   "cell_type": "code",
   "execution_count": null,
   "metadata": {
    "collapsed": false
   },
   "outputs": [],
   "source": [
    "import custom_clusterer\n",
    "reload(custom_clusterer)\n",
    "from custom_clusterer import *\n",
    "traj_files = get_trajectory_files(traj_dir, traj_ext)\n",
    "featurized_trajectories = [traj_files[i] for i in feature_indices]\n",
    "oxy_traj_files = [t for t in featurized_trajectories if \"oxy\" in t]\n",
    "reduced_clusterer = verboseload(clusterer300_clusters)\n",
    "oxy_reduced_clusterer_file = \"%s/oxy_reduced_clusterer.h5\" %tica_dir\n",
    "\n",
    "oxy_reduced_tica_file = \"%s/oxy_reduced_tica.h5\" %tica_dir\n",
    "oxy_reduced_tica = [x[:,range(1,10)] for x in oxy_tica]\n",
    "verbosedump(oxy_reduced_tica, oxy_reduced_tica_file)\n",
    "\n",
    "oxy_reduced_clusters = [reduced_clusterer.labels_[i] for i in oxy_trajs]\n",
    "oxy_reduced_clusterer = copy.deepcopy(reduced_clusterer)\n",
    "oxy_reduced_clusterer.labels_ = oxy_reduced_clusters\n",
    "verbosedump(oxy_reduced_clusterer, oxy_reduced_clusterer_file)\n",
    "reseed_from_clusterer(oxy_reduced_clusterer_file, \"oxy\", tica_dir, oxy_reduced_tica_file, oxy_traj_files)"
   ]
  },
  {
   "cell_type": "code",
   "execution_count": null,
   "metadata": {
    "collapsed": false
   },
   "outputs": [],
   "source": [
    "closest_indices = find_closest_indices_to_cluster_center(tics_1_3_file, clusterer16_clusters)"
   ]
  },
  {
   "cell_type": "code",
   "execution_count": null,
   "metadata": {
    "collapsed": false
   },
   "outputs": [],
   "source": [
    "closest_indices"
   ]
  },
  {
   "cell_type": "code",
   "execution_count": null,
   "metadata": {
    "collapsed": false
   },
   "outputs": [],
   "source": [
    "from scipy.stats import gamma \n",
    "x = np.linspace(0.,16.0, 100)\n",
    "y = gamma.pdf(x, 5.0, loc=8.0, scale=1)\n",
    "plt.plot(x,y)"
   ]
  },
  {
   "cell_type": "code",
   "execution_count": null,
   "metadata": {
    "collapsed": false
   },
   "outputs": [],
   "source": [
    "from scipy.stats import gamma \n",
    "x = np.linspace(0.,16.0, 100)\n",
    "y = gamma.pdf(x, 3.0, loc=8.0, scale=0.4)\n",
    "plt.plot(x,y)\n",
    "plt.show()"
   ]
  },
  {
   "cell_type": "code",
   "execution_count": null,
   "metadata": {
    "collapsed": false
   },
   "outputs": [],
   "source": [
    "reseed_from_clusterer(oxy_clusterer_file, \"oxy\", tica_dir, oxy_tica_file, [trajs[i] for i in oxy_trajs])"
   ]
  },
  {
   "cell_type": "code",
   "execution_count": null,
   "metadata": {
    "collapsed": true
   },
   "outputs": [],
   "source": [
    "min_pop = [3, 4, 6, 8, 9, 26, 29, 30, 31, 32, 33, 39, 41, 43, 52, 55]\n"
   ]
  },
  {
   "cell_type": "code",
   "execution_count": null,
   "metadata": {
    "collapsed": false
   },
   "outputs": [],
   "source": [
    "plot_all_tics_and_clusters(tica_dir, oxy_tica_file, oxy_clusterer_file, lag_time, tic_range=range(0,5), main = \"Oxy_Reseeds\", label = \"cluster_id\", active_cluster_ids = min_pop, intermediate_cluster_ids = [], inactive_cluster_ids = [], concatenate=True, axes=tica_axes)"
   ]
  },
  {
   "cell_type": "code",
   "execution_count": null,
   "metadata": {
    "collapsed": true
   },
   "outputs": [],
   "source": []
  }
 ],
 "metadata": {
  "kernelspec": {
   "display_name": "Python 2",
   "language": "python",
   "name": "python2"
  },
  "language_info": {
   "codemirror_mode": {
    "name": "ipython",
    "version": 2
   },
   "file_extension": ".py",
   "mimetype": "text/x-python",
   "name": "python",
   "nbconvert_exporter": "python",
   "pygments_lexer": "ipython2",
   "version": "2.7.11"
  }
 },
 "nbformat": 4,
 "nbformat_minor": 0
}
