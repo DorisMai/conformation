{
 "cells": [
  {
   "cell_type": "code",
   "execution_count": 10,
   "metadata": {
    "collapsed": false
   },
   "outputs": [],
   "source": [
    "import mdtraj as md"
   ]
  },
  {
   "cell_type": "code",
   "execution_count": 11,
   "metadata": {
    "collapsed": true
   },
   "outputs": [],
   "source": [
    "traj = md.load(\"/home/amir/Post_Process/GPCR/MOR/LIG_path/BU_path/Rep_5-0/BU-EQ.dcd\", top=\"/home/amir/Post_Process/GPCR/MOR/LIG_path/BU_path/Rep_5-0/ionized.pdb\")"
   ]
  },
  {
   "cell_type": "code",
   "execution_count": 3,
   "metadata": {
    "collapsed": false
   },
   "outputs": [
    {
     "data": {
      "text/plain": [
       "<generator object residues at 0x7efdb5ad7120>"
      ]
     },
     "execution_count": 3,
     "metadata": {},
     "output_type": "execute_result"
    }
   ],
   "source": [
    "traj.topology.residues"
   ]
  },
  {
   "cell_type": "code",
   "execution_count": 4,
   "metadata": {
    "collapsed": true
   },
   "outputs": [],
   "source": [
    "residues = [res for res in traj.topology.residues]"
   ]
  },
  {
   "cell_type": "code",
   "execution_count": 5,
   "metadata": {
    "collapsed": false
   },
   "outputs": [
    {
     "data": {
      "text/plain": [
       "['LIG']"
      ]
     },
     "execution_count": 5,
     "metadata": {},
     "output_type": "execute_result"
    }
   ],
   "source": [
    "[res.name for res in residues if \"LIG\" in str(res)]"
   ]
  },
  {
   "cell_type": "code",
   "execution_count": 6,
   "metadata": {
    "collapsed": false
   },
   "outputs": [
    {
     "data": {
      "text/plain": [
       "['L', 'W', 'L', 'W', 'L', 'W', 'L', 'W', 'R', 'L', 'W', 'I']"
      ]
     },
     "execution_count": 6,
     "metadata": {},
     "output_type": "execute_result"
    }
   ],
   "source": [
    "[chain.id for chain in traj.topology.chains]"
   ]
  },
  {
   "cell_type": "code",
   "execution_count": 7,
   "metadata": {
    "collapsed": false
   },
   "outputs": [
    {
     "name": "stdout",
     "output_type": "stream",
     "text": [
      "chain_dict\n",
      "{'residues': [], 'id': 'L', 'index': 0}\n",
      "chain_dict\n",
      "{'residues': [], 'id': 'W', 'index': 1}\n",
      "chain_dict\n",
      "{'residues': [], 'id': 'L', 'index': 2}\n",
      "chain_dict\n",
      "{'residues': [], 'id': 'W', 'index': 3}\n",
      "chain_dict\n",
      "{'residues': [], 'id': 'L', 'index': 4}\n",
      "chain_dict\n",
      "{'residues': [], 'id': 'W', 'index': 5}\n",
      "chain_dict\n",
      "{'residues': [], 'id': 'L', 'index': 6}\n",
      "chain_dict\n",
      "{'residues': [], 'id': 'W', 'index': 7}\n",
      "chain_dict\n",
      "{'residues': [], 'id': 'R', 'index': 8}\n",
      "chain_dict\n",
      "{'residues': [], 'id': 'L', 'index': 9}\n",
      "chain_dict\n",
      "{'residues': [], 'id': 'W', 'index': 10}\n",
      "chain_dict\n",
      "{'residues': [], 'id': 'I', 'index': 11}\n"
     ]
    }
   ],
   "source": [
    "traj.save(\"/home/amir/Post_Process/GPCR/MOR/LIG_path/BU_path/test.h5\")"
   ]
  },
  {
   "cell_type": "code",
   "execution_count": 8,
   "metadata": {
    "collapsed": false
   },
   "outputs": [
    {
     "name": "stdout",
     "output_type": "stream",
     "text": [
      "[c.id for c in topology.chains]\n",
      "['L', 'W', 'L', 'W', 'L', 'W', 'L', 'W', 'R', 'L', 'W', 'I']\n"
     ]
    }
   ],
   "source": [
    "newtraj = md.load(\"/home/amir/Post_Process/GPCR/MOR/LIG_path/BU_path/test.h5\")"
   ]
  },
  {
   "cell_type": "code",
   "execution_count": 9,
   "metadata": {
    "collapsed": false
   },
   "outputs": [
    {
     "data": {
      "text/plain": [
       "['L', 'W', 'L', 'W', 'L', 'W', 'L', 'W', 'R', 'L', 'W', 'I']"
      ]
     },
     "execution_count": 9,
     "metadata": {},
     "output_type": "execute_result"
    }
   ],
   "source": [
    "[chain.id for chain in newtraj.topology.chains]"
   ]
  },
  {
   "cell_type": "code",
   "execution_count": 11,
   "metadata": {
    "collapsed": false
   },
   "outputs": [
    {
     "data": {
      "text/plain": [
       "[('LIG', 'J', 900)]"
      ]
     },
     "execution_count": 11,
     "metadata": {},
     "output_type": "execute_result"
    }
   ],
   "source": [
    "[(res.name, res.chain.id, res.resSeq) for res in newtraj.topology.residues if \"LIG\" in str(res)]"
   ]
  },
  {
   "cell_type": "code",
   "execution_count": null,
   "metadata": {
    "collapsed": true
   },
   "outputs": [],
   "source": [
    "with open"
   ]
  }
 ],
 "metadata": {
  "kernelspec": {
   "display_name": "Python 3",
   "language": "python",
   "name": "python3"
  },
  "language_info": {
   "codemirror_mode": {
    "name": "ipython",
    "version": 3
   },
   "file_extension": ".py",
   "mimetype": "text/x-python",
   "name": "python",
   "nbconvert_exporter": "python",
   "pygments_lexer": "ipython3",
   "version": "3.4.4"
  }
 },
 "nbformat": 4,
 "nbformat_minor": 0
}
