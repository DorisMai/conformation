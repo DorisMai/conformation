{
 "cells": [
  {
   "cell_type": "code",
   "execution_count": 2,
   "metadata": {
    "collapsed": true
   },
   "outputs": [],
   "source": [
    "from grids import *\n",
    "import os"
   ]
  },
  {
   "cell_type": "code",
   "execution_count": 3,
   "metadata": {},
   "outputs": [],
   "source": [
    "#real-space centroid of the box (in this case, centroid of BU72 in PDB: 5C1M)\n",
    "grid_center = \"0.33, 1.64, 9.\"\n",
    "\n",
    "#docking precision\n",
    "precision = \"SP\"\n",
    "\n",
    "#directories\n",
    "base_dir = \"/home/enf/md_simulations/cb1\"\n",
    "ligands_dir = \"%s/ligands\" %base_dir #replace with where we copied the mol files\n",
    "proteins_dir = \"%s/proteins\" %base_dir #replace with where we copied the protein conformers \n",
    "grids_dir = \"%s/grids\" %base_dir #replace ~ with the base directory you're using for the tutorial\n",
    "\n",
    "if not os.path.exists(base_dir):\n",
    "    os.makedirs(base_dir)\n",
    "if not os.path.exists(ligands_dir):\n",
    "    os.makedirs(ligands_dir)\n",
    "if not os.path.exists(proteins_dir):\n",
    "    os.makedirs(proteins_dir)\n",
    "if not os.path.exists(grids_dir):\n",
    "    os.makedirs(grids_dir)\n",
    "\n",
    "docking_dir = \"%s/docking_%s\" %(base_dir, precision) #replace BASE_DIR with some directory \n",
    "if not os.path.exists(docking_dir):\n",
    "    os.makedirs(docking_dir)\n",
    "    \n",
    "#protein structure to which we align\n",
    "active_ref_dir = \"/home/enf/md_simulations/MOR/bu72_ref_receptors/conformation/bu72_ionized_pymol_RL_conformation.pdb\" #copy this file from vsp-compute\n"
   ]
  },
  {
   "cell_type": "code",
   "execution_count": 5,
   "metadata": {},
   "outputs": [],
   "source": [
    "#download cannabinoid compounds\n",
    "cannabinoid_cids = [2543,\n",
    "                    10382701,\n",
    "                    5311501,\n",
    "                    6918505,\n",
    "                    9821569,\n",
    "                    107778,\n",
    "                    3083542,\n",
    "                    4302963,\n",
    "                    644019,\n",
    "                    5712057,\n",
    "                    3081355,\n",
    "                    5361881,\n",
    "                    53393997,\n",
    "                    16078,\n",
    "                    10471670]\n",
    "download_sdfs_from_cids(cannabinoid_cids, ligands_dir, worker_pool=None, parallel=True)"
   ]
  },
  {
   "cell_type": "code",
   "execution_count": 6,
   "metadata": {},
   "outputs": [
    {
     "name": "stdout",
     "output_type": "stream",
     "text": [
      "1\n",
      "['/home/enf/md_simulations/cb1/proteins/5tgz.pdb']\n",
      "$SCHRODINGER/utilities/prepwizard -WAIT -disulfides -fix -noepik -noimpref -noprotassign -reference_st_file /home/enf/md_simulations/MOR/bu72_ref_receptors/conformation/bu72_ionized_pymol_RL_conformation.pdb -NOLOCAL /home/enf/md_simulations/cb1/proteins/5tgz.pdb 5tgz.mae\n",
      "/vspdata/vspcompute/home/enf/md_simulations/cb1/proteins\n",
      "Done prepping proteins\n",
      "/home/enf/md_simulations/cb1/grids\n",
      "cp /home/enf/md_simulations/cb1/proteins/5tgz.mae /home/enf/md_simulations/cb1/grids/5tgz.mae\n",
      "$SCHRODINGER/glide /home/enf/md_simulations/cb1/grids/5tgz.in -OVERWRITE -WAIT\n",
      "completed grid generation job\n",
      "Examining 15 ligands\n",
      "finished preparing ligands\n"
     ]
    },
    {
     "ename": "NameError",
     "evalue": "name 'dview' is not defined",
     "output_type": "error",
     "traceback": [
      "\u001b[0;31m---------------------------------------------------------------------------\u001b[0m",
      "\u001b[0;31mNameError\u001b[0m                                 Traceback (most recent call last)",
      "\u001b[0;32m<ipython-input-6-c7b4c3f0d6d1>\u001b[0m in \u001b[0;36m<module>\u001b[0;34m()\u001b[0m\n\u001b[1;32m     18\u001b[0m                            \u001b[0mprecision\u001b[0m \u001b[0;34m=\u001b[0m \u001b[0mprecision\u001b[0m\u001b[0;34m,\u001b[0m \u001b[0mext\u001b[0m \u001b[0;34m=\u001b[0m \u001b[0;34m\"-out.maegz\"\u001b[0m\u001b[0;34m,\u001b[0m\u001b[0;34m\u001b[0m\u001b[0m\n\u001b[1;32m     19\u001b[0m                            \u001b[0mparallel\u001b[0m \u001b[0;34m=\u001b[0m \u001b[0;32mTrue\u001b[0m\u001b[0;34m,\u001b[0m\u001b[0;34m\u001b[0m\u001b[0m\n\u001b[0;32m---> 20\u001b[0;31m                            \u001b[0mgrid_ext\u001b[0m \u001b[0;34m=\u001b[0m \u001b[0;34m\".zip\"\u001b[0m\u001b[0;34m,\u001b[0m \u001b[0mworker_pool\u001b[0m\u001b[0;34m=\u001b[0m\u001b[0mdview\u001b[0m\u001b[0;34m,\u001b[0m \u001b[0mretry_after_failed\u001b[0m\u001b[0;34m=\u001b[0m\u001b[0;32mFalse\u001b[0m\u001b[0;34m,\u001b[0m\u001b[0;34m\u001b[0m\u001b[0m\n\u001b[0m\u001b[1;32m     21\u001b[0m                            timeout=60*60)\n",
      "\u001b[0;31mNameError\u001b[0m: name 'dview' is not defined"
     ]
    }
   ],
   "source": [
    "\n",
    "#protein preparation\n",
    "pprep(proteins_dir, ref = active_ref_dir, chosen_receptors = None, worker_pool=None, parallel=False)\n",
    "\n",
    "#generate docking grids\n",
    "generate_grids(proteins_dir, grid_center,\n",
    "               grids_dir, remove_lig = \"LIG\",\n",
    "               chosen_receptors = None,\n",
    "               worker_pool=None, outer_box=25.,\n",
    "               parallel=False)\n",
    "\n",
    "#prepare ligands for docking\n",
    "ligand_df = prepare_ligands(ligands_dir, exts = [\".mol\", \".sdf\"],\n",
    "                            n_ring_conf=6, n_stereoisomers=32,\n",
    "                            force_field=16, worker_pool=None,\n",
    "                            parallel=True, redo=False,\n",
    "                            smiles_df=None)\n",
    "\n",
    "chosen_receptors=None"
   ]
  },
  {
   "cell_type": "code",
   "execution_count": 7,
   "metadata": {},
   "outputs": [
    {
     "name": "stdout",
     "output_type": "stream",
     "text": [
      "Creating new directories for each ligand.\n",
      "Done creating directories. Determining which docking jobs to conduct.\n",
      "12\n",
      "0.18509483337402344\n",
      "15\n",
      "About to do 15 Docking computations.\n",
      "timeout 3600 $SCHRODINGER/glide /home/enf/md_simulations/cb1/docking_SP/CID_107778/5tgz.in -OVERWRITE -WAIT -strict -NOJOBID > 5tgz.log\n",
      "timeout 3600 $SCHRODINGER/glide /home/enf/md_simulations/cb1/docking_SP/CID_10382701/5tgz.in -OVERWRITE -WAIT -strict -NOJOBID > 5tgz.log\n",
      "timeout 3600 $SCHRODINGER/glide /home/enf/md_simulations/cb1/docking_SP/CID_10471670/5tgz.in -OVERWRITE -WAIT -strict -NOJOBID > 5tgz.log\n",
      "timeout 3600 $SCHRODINGER/glide /home/enf/md_simulations/cb1/docking_SP/CID_16078/5tgz.in -OVERWRITE -WAIT -strict -NOJOBID > 5tgz.log\n",
      "timeout 3600 $SCHRODINGER/glide /home/enf/md_simulations/cb1/docking_SP/CID_2543/5tgz.in -OVERWRITE -WAIT -strict -NOJOBID > 5tgz.log\n",
      "timeout 3600 $SCHRODINGER/glide /home/enf/md_simulations/cb1/docking_SP/CID_3081355/5tgz.in -OVERWRITE -WAIT -strict -NOJOBID > 5tgz.log\n",
      "timeout 3600 $SCHRODINGER/glide /home/enf/md_simulations/cb1/docking_SP/CID_3083542/5tgz.in -OVERWRITE -WAIT -strict -NOJOBID > 5tgz.log\n",
      "timeout 3600 $SCHRODINGER/glide /home/enf/md_simulations/cb1/docking_SP/CID_4302963/5tgz.in -OVERWRITE -WAIT -strict -NOJOBID > 5tgz.log\n",
      "timeout 3600 $SCHRODINGER/glide /home/enf/md_simulations/cb1/docking_SP/CID_5311501/5tgz.in -OVERWRITE -WAIT -strict -NOJOBID > 5tgz.log\n",
      "timeout 3600 $SCHRODINGER/glide /home/enf/md_simulations/cb1/docking_SP/CID_53393997/5tgz.in -OVERWRITE -WAIT -strict -NOJOBID > 5tgz.log\n",
      "timeout 3600 $SCHRODINGER/glide /home/enf/md_simulations/cb1/docking_SP/CID_5361881/5tgz.in -OVERWRITE -WAIT -strict -NOJOBID > 5tgz.log\n",
      "timeout 3600 $SCHRODINGER/glide /home/enf/md_simulations/cb1/docking_SP/CID_5712057/5tgz.in -OVERWRITE -WAIT -strict -NOJOBID > 5tgz.log\n",
      "timeout 3600 $SCHRODINGER/glide /home/enf/md_simulations/cb1/docking_SP/CID_644019/5tgz.in -OVERWRITE -WAIT -strict -NOJOBID > 5tgz.log\n",
      "timeout 3600 $SCHRODINGER/glide /home/enf/md_simulations/cb1/docking_SP/CID_6918505/5tgz.in -OVERWRITE -WAIT -strict -NOJOBID > 5tgz.log\n",
      "timeout 3600 $SCHRODINGER/glide /home/enf/md_simulations/cb1/docking_SP/CID_9821569/5tgz.in -OVERWRITE -WAIT -strict -NOJOBID > 5tgz.log\n",
      "Completed docking.\n"
     ]
    }
   ],
   "source": [
    "#dock\n",
    "\n",
    "dock_ligands_and_receptors(grids_dir, docking_dir, ligands_dir,\n",
    "                           precision = precision, ext = \"-out.maegz\",\n",
    "                           parallel = True,\n",
    "                           grid_ext = \".zip\", worker_pool=None, retry_after_failed=False,                           \n",
    "                           timeout=60*60)"
   ]
  },
  {
   "cell_type": "code",
   "execution_count": 16,
   "metadata": {},
   "outputs": [
    {
     "data": {
      "text/plain": [
       "'/home/enf/md_simulations/MOR/h8_reimaged/sparse-tICA_t50_n_components2all_residues_4dkl_5c1m_under_cutoff6A-CA-py3-far_2_regularization_wolf_autoShrinkage0pt01-backup/all_clusterer_25clusters_1samples_samples_kdtree/docking_SP_32-stereoisomers_6-ring-conf/htbc'"
      ]
     },
     "execution_count": 16,
     "metadata": {},
     "output_type": "execute_result"
    }
   ],
   "source": [
    "docking_dir"
   ]
  },
  {
   "cell_type": "code",
   "execution_count": 16,
   "metadata": {},
   "outputs": [],
   "source": [
    "\n",
    "docking_df, poses_df = analyze_docking_results_multiple(docking_dir, precision, \"%s/summary.pkl\" %docking_dir,\n",
    "                                                        poses_summary=None, redo=False, reread=True,\n",
    "                                                        write_to_disk=True, worker_pool=None, parallel=True)\n",
    "\n",
    "\n"
   ]
  }
 ],
 "metadata": {
  "anaconda-cloud": {},
  "kernelspec": {
   "display_name": "Python [Root]",
   "language": "python",
   "name": "Python [Root]"
  },
  "language_info": {
   "codemirror_mode": {
    "name": "ipython",
    "version": 3
   },
   "file_extension": ".py",
   "mimetype": "text/x-python",
   "name": "python",
   "nbconvert_exporter": "python",
   "pygments_lexer": "ipython3",
   "version": "3.5.2"
  }
 },
 "nbformat": 4,
 "nbformat_minor": 1
}
