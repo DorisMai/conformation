{
 "cells": [
  {
   "cell_type": "markdown",
   "metadata": {
    "collapsed": false
   },
   "source": [
    "In this iPython notebook, we will featurize MOR ligand binding simulation by pairwise distances between the ligand and different receptor residues. We will then perform tICA and prospectively build an MSM. "
   ]
  },
  {
   "cell_type": "code",
   "execution_count": 1,
   "metadata": {
    "collapsed": true
   },
   "outputs": [],
   "source": [
    "import seaborn as sns\n",
    "import matplotlib\n",
    "import matplotlib.pyplot as plt\n",
    "\n",
    "# changing matplotlib the default style\n",
    "matplotlib.style.use('ggplot')\n",
    "#matplotlib.rcParams[\"figure.facecolor\"] = \"white\"\n",
    "#matplotlib.rcPar|ams[\"savefig.transparent\"] = \"True\"\n"
   ]
  },
  {
   "cell_type": "code",
   "execution_count": 2,
   "metadata": {
    "collapsed": false
   },
   "outputs": [
    {
     "name": "stderr",
     "output_type": "stream",
     "text": [
      "/home/enf/anaconda3/lib/python3.5/site-packages/matplotlib/__init__.py:1350: UserWarning:  This call to matplotlib.use() has no effect\n",
      "because the backend has already been chosen;\n",
      "matplotlib.use() must be called *before* pylab, matplotlib.pyplot,\n",
      "or matplotlib.backends is imported for the first time.\n",
      "\n",
      "  warnings.warn(_use_error_msg)\n"
     ]
    }
   ],
   "source": [
    "import pandas as pd\n",
    "\n",
    "\n",
    "from PDB_Order_Fixer import PDB_Order_Fixer\n",
    "import mdtraj as md\n",
    "import os\n",
    "import numpy as np\n",
    "import h5py\n",
    "\n",
    "import datetime\n",
    "import glob\n",
    "import copy\n",
    "from functools import partial \n",
    "import operator\n",
    "import time\n",
    "\n",
    "import random \n",
    "import subprocess\n",
    "from subprocess import Popen\n",
    "import sys\n",
    "from custom_clusterer import *\n",
    "from custom_tica import *\n",
    "from custom_featurizer import *\n",
    "from pdb_editing import *\n",
    "from analysis import *\n",
    "from io_functions import *\n",
    "#from topology_fixing import *\n",
    "from subsampling import *\n",
    "from conversions import *\n",
    "from custom_msm import *\n",
    "from grids import *\n",
    "from docking_analysis import *\n",
    "\n",
    "from scipy import stats\n",
    "import os\n",
    "from efficacy_scripts import *\n",
    "\n",
    "\n"
   ]
  },
  {
   "cell_type": "code",
   "execution_count": 3,
   "metadata": {
    "collapsed": true
   },
   "outputs": [],
   "source": [
    "import warnings\n",
    "warnings.filterwarnings('ignore')\n",
    "%matplotlib inline"
   ]
  },
  {
   "cell_type": "code",
   "execution_count": 4,
   "metadata": {
    "collapsed": false
   },
   "outputs": [],
   "source": [
    "from sklearn.preprocessing import scale"
   ]
  },
  {
   "cell_type": "code",
   "execution_count": 5,
   "metadata": {
    "collapsed": false
   },
   "outputs": [],
   "source": [
    "from detect_intermediates import *\n",
    "from interpret_tICs import *"
   ]
  },
  {
   "cell_type": "code",
   "execution_count": 6,
   "metadata": {
    "collapsed": false
   },
   "outputs": [],
   "source": [
    "from msmbuilder.utils import verbosedump, verboseload\n"
   ]
  },
  {
   "cell_type": "code",
   "execution_count": 7,
   "metadata": {
    "collapsed": false,
    "scrolled": true
   },
   "outputs": [
    {
     "name": "stdout",
     "output_type": "stream",
     "text": [
      "tm6_tm3_residues\n",
      "[R279, R165]\n",
      "[65, 66, 67, 68, 69, 70, 71, 72, 73, 74, 75, 76, 77, 78, 79, 80, 81, 82, 83, 84, 85, 86, 87, 88, 89, 90, 91, 92, 93, 94, 95, 96, 97, 98, 99, 100, 101, 102, 103, 104, 105, 106, 107, 108, 109, 110, 111, 112, 113, 114, 115, 116, 117, 118, 119, 120, 121, 122, 123, 124, 125, 126, 127, 128, 129, 130, 131, 132, 133, 134, 135, 136, 137, 138, 139, 140, 141, 142, 143, 144, 145, 146, 147, 148, 149, 150, 151, 152, 153, 154, 155, 156, 157, 158, 159, 160, 161, 162, 163, 164, 165, 166, 167, 168, 169, 170, 171, 172, 173, 174, 175, 176, 177, 178, 179, 180, 181, 182, 183, 184, 185, 186, 187, 188, 189, 190, 191, 192, 193, 194, 195, 196, 197, 198, 199, 200, 201, 202, 203, 204, 205, 206, 207, 208, 209, 210, 211, 212, 213, 214, 215, 216, 217, 218, 219, 220, 221, 222, 223, 224, 225, 226, 227, 228, 229, 230, 231, 232, 233, 234, 235, 236, 237, 238, 239, 240, 241, 242, 243, 244, 245, 246, 247, 248, 249, 250, 251, 252, 253, 254, 255, 256, 257, 258, 259, 273, 274, 275, 276, 277, 278, 279, 280, 281, 282, 283, 284, 285, 286, 287, 288, 289, 290, 291, 292, 293, 294, 295, 296, 297, 298, 299, 300, 301, 302, 303, 304, 305, 306, 307, 308, 309, 310, 311, 312, 313, 314, 315, 316, 317, 318, 319, 320, 321, 322, 323, 324, 325, 326, 327, 328, 329, 330, 331, 332, 333, 334, 335, 336, 337, 338, 339, 340, 341, 342, 343, 344, 345, 346, 347]\n",
      "There are 270 common residues between input structures\n"
     ]
    }
   ],
   "source": [
    "from mor_h8_feature_types import *\n",
    "#from b2ar_feature_types import *\n",
    "from get_variable_names import *\n",
    "from mor_h8_tica_config import *\n",
    "from residue import Residue, Atom"
   ]
  },
  {
   "cell_type": "code",
   "execution_count": 8,
   "metadata": {
    "collapsed": true
   },
   "outputs": [],
   "source": [
    "from sklearn import tree\n",
    "from sklearn.tree import DecisionTreeClassifier, export_graphviz\n",
    "from sklearn.preprocessing import scale\n",
    "from random import shuffle\n",
    "from sklearn.metrics import accuracy_score\n",
    "from sklearn.linear_model import LogisticRegression\n",
    "from sklearn.metrics import roc_curve, auc"
   ]
  },
  {
   "cell_type": "code",
   "execution_count": 9,
   "metadata": {
    "collapsed": true
   },
   "outputs": [],
   "source": [
    "\n",
    "ori_feature_name = copy.deepcopy(feature_name)"
   ]
  },
  {
   "cell_type": "code",
   "execution_count": 10,
   "metadata": {
    "collapsed": false
   },
   "outputs": [],
   "source": [
    "#schemes = [\"closest-heavy\", \"CA\"]\n",
    "#feature_name = \"%s-CA\" %ori_feature_name"
   ]
  },
  {
   "cell_type": "code",
   "execution_count": 11,
   "metadata": {
    "collapsed": false
   },
   "outputs": [],
   "source": [
    "rho = 0.1\n",
    "rho_string = \"0pt1\"\n",
    "lag_time = 5\n",
    "n_components = 10\n",
    "n_clusters = 1500\n",
    "\n",
    "rho = 0.01\n",
    "rho_string = \"0pt01\"\n",
    "lag_time=50\n",
    "ori_feature_name = copy.deepcopy(feature_name)"
   ]
  },
  {
   "cell_type": "code",
   "execution_count": 12,
   "metadata": {
    "collapsed": false
   },
   "outputs": [
    {
     "name": "stdout",
     "output_type": "stream",
     "text": [
      "/home/enf/md_simulations/MOR/h8_reimaged/featuresall_residues_4dkl_5c1m_under_cutoff6A-CA-py3-far\n",
      "/home/enf/md_simulations/MOR/h8_reimaged/featuresall_residues_4dkl_5c1m_under_cutoff6A-CA-py3-far\n"
     ]
    }
   ],
   "source": [
    "schemes = [\"closest-heavy\", \"CA\"]\n",
    "feature_name = \"%s-CA-py3-far\" %ori_feature_name\n",
    "#feature_name = \"%s_phi_psi_chi2\" %feature_name\n",
    "(active_ref_dir, inactive_ref_dir, simulation_ref_dir, scripts_dir,\n",
    "          ligand_dir, agonist_dir, inverse_agonist_dir, biased_agonist_dir, ref_receptors_dir, whole_trajectory_pnas,\n",
    "          sasa_file) = get_base_files(base)\n",
    "\n",
    "tica_dir = get_tica_dir(base, is_sparse, lag_time, n_components, feature_name, \n",
    "                                 wolf_string, shrinkage_string, rho_string)\n",
    "#tica_dir = \"%s-with-inactive\" %tica_dir\n",
    "tica_dir = \"%s-backup\" %tica_dir\n",
    "ori_tica_dir = copy.deepcopy(tica_dir)\n",
    "#tica_dir = \"%s-normalized\" % ori_tica_dir\n",
    "features_dir = get_features_dir(base, feature_name)\n",
    "\n",
    "landmarks_dir = get_landmarks_dir(tica_dir)\n",
    "analysis_dir = get_analysis_dir(tica_dir, n_clusters, sampling_method)\n",
    "gmm_dir = get_gmm_dir(tica_dir)\n",
    "rf_dir = get_rf_dir(tica_dir)\n",
    "\n",
    "\n",
    "ref_tica_dir, ref_tica_coords = get_ref_tica_dirs(tica_dir)\n",
    "\n",
    "graph_file = get_graph_file(tica_dir, msm_lag_time, n_clusters)\n",
    "\n",
    "pnas_titles =  [\"tm6_tm3_dist\", \"rmsd_npxxy_inactive\", \"rmsd_npxxy_active\", \"rmsd_connector_inactive\", \"rmsd_connector_active\"]\n",
    "pnas_features_dir = analysis_dir\n",
    "\n",
    "\n",
    "(clusterer_dir, msm_model_dir, macrostate_dir, features_known, model_dir, projected_features_dir,\n",
    "         projection_operator_dir, ktica_fit_model_filename, ktica_projected_data_filename, nystroem_data_filename,\n",
    "         mutual_information_csv, pearson_csv) = get_tica_files(base, tica_dir, n_clusters, msm_lag_time, n_macrostates)\n",
    "\n",
    "(standardized_features_dir, feature_residues_csv, feature_residues_pkl,\n",
    "          contact_csv, ref_features_dir) = get_feature_files(features_dir)\n",
    "\n",
    "(kmeans_csv, tica_coords_csv, features_csv, active_rmsd_dir, inactive_rmsd_dir, active_pnas_dir, inactive_pnas_joined, active_pnas_joined,\n",
    "        clusters_map_file, ktica_clusters_map_file, analysis_file, combined_file, docking_summary, docking_joined, docking_z_scores_csv,\n",
    "        aggregate_docking, aggregate_docking_joined, docking_pnas_joined, aggregate_docking_pnas, aggregate_docking_pnas_joined, docking_multiple_ligands,\n",
    "        docking_distances_file, docking_pdf, mmgbsa_docking_distances, pnas_coords, mmgbsa_dir, mmgbsa_csv, mmgbsa_pdf, aggregate_mmgbsa,\n",
    "        aggregate_mmgbsa_joined, aggregate_mmgbsa_pnas_joined, mmgbsa_z_scores_csv, active_clusters_csv, intermediate_clusters_csv,\n",
    "        inactive_clusters_csv, pnas_clusters_averages, tica_clusters_averages, tica_classes_csv, tica_samples_csv, subgraph_save_base,\n",
    "        degree_save_base, degree_map_csv, degree_z_map_csv, aggregate_docking_pnas_degree_z_joined, tic_residue_csv, feature_coefs_csv,\n",
    "        duplicated_feature_coefs_csv) = get_analysis_files(analysis_dir, n_clusters, tica_dir, tica_dir, sampling_method, n_samples, precision,\n",
    "                                                           msm_lag_time)\n",
    "\n",
    "(inactive_pnas_distances_dir, active_pnas_distances_dir, active_pnas_all_distances_dir,\n",
    "          inactive_pnas_distances_new_csv, active_pnas_distances_new_csv, active_pnas_joined, active_pnas_means, pnas_coords_dir,\n",
    "          pnas_coords_csv, pnas_all_coords_csv, pnas_coords_hexbin_dir, pnas_coords_co_crystallized_docking_dir,\n",
    "          pnas_coords_active_colors_dir, user_defined_features_file, reaction_coordinates_trajs_file) = get_pnas_files(whole_trajectory_pnas, pnas_features_dir)\n",
    "\n",
    "features_dir = get_features_dir(base, feature_name)\n",
    "\n",
    "\n",
    "\n",
    "graph_file = get_graph_file(tica_dir, msm_lag_time, n_clusters)\n",
    "(scripts_dir, pymol_fixpdb_dir) = get_script_dir(scripts_dir)\n",
    "(save_dir, reimaged_dir, mae_dir, combined_reimaged_dir, grid_dir, docking_dir) = get_docking_dirs(tica_dir, n_clusters, n_components, n_samples, sampling_method, precision)\n",
    "\n"
   ]
  },
  {
   "cell_type": "code",
   "execution_count": 26,
   "metadata": {
    "collapsed": false
   },
   "outputs": [
    {
     "name": "stdout",
     "output_type": "stream",
     "text": [
      "234\n"
     ]
    },
    {
     "data": {
      "text/plain": [
       "<AsyncMapResult: chdir>"
      ]
     },
     "execution_count": 26,
     "metadata": {},
     "output_type": "execute_result"
    }
   ],
   "source": [
    "from ipyparallel import Client\n",
    "rc = Client()\n",
    "print(len(rc.ids))\n",
    "dview = rc[:]\n",
    "dview.map(os.chdir, ['/home/enf/b2ar_analysis/conformation']*len(rc.ids))"
   ]
  },
  {
   "cell_type": "code",
   "execution_count": 15,
   "metadata": {
    "collapsed": false
   },
   "outputs": [],
   "source": [
    "grid_center = \"0.33, 1.64, 9.\"\n",
    "\n",
    "precision = \"SP\"\n",
    "htbc_dir = \"/home/enf/htbc/sdfs\"\n",
    "reference_grids_dir = \"/home/enf/md_simulations/MOR/docking/reference_grids\"\n",
    "reference_docking_dir = \"/home/enf/md_simulations/MOR/docking/reference_docking_%s\" %precision\n",
    "if not os.path.exists(reference_docking_dir):\n",
    "    os.makedirs(reference_docking_dir)\n",
    "\n",
    "#dock_ligands_and_receptors(reference_grids_dir, reference_docking_dir,\n",
    "#                           htbc_dir, precision = precision, ext = \"-out.maegz\",\n",
    "#                           chosen_ligands=False, chosen_receptors=None, parallel=False,\n",
    "#                           grid_ext = \".zip\", worker_pool=dview)"
   ]
  },
  {
   "cell_type": "code",
   "execution_count": 14,
   "metadata": {
    "collapsed": false
   },
   "outputs": [],
   "source": [
    "from imp import reload\n",
    "import analysis\n",
    "reload(analysis)\n",
    "from analysis import *\n",
    "\n",
    "import efficacy_scripts\n",
    "reload(efficacy_scripts)\n",
    "from efficacy_scripts import *\n",
    "\n",
    "\n",
    "ligand_df = pd.read_excel(\"/home/enf/md_simulations/MOR/docking/mu_receptor_ligands_1.xlsx\")\n",
    "ligand_df = ligand_df[[\"smiles\", \"ligand\", \"type\"]].dropna()\n",
    "\n",
    "import re\n",
    "ligand_names = ligand_df[\"ligand\"].values.tolist()\n",
    "new_ligand_names = [re.sub('[^\\w\\-_\\. ]', '_', name) for name in ligand_names]\n",
    "ligand_df[\"ligand\"] = new_ligand_names\n"
   ]
  },
  {
   "cell_type": "code",
   "execution_count": 15,
   "metadata": {
    "collapsed": false
   },
   "outputs": [],
   "source": [
    "ligand_df = pd.read_table(\"/home/enf/md_simulations/MOR/docking/geneid_4988_bioactivity.txt\")\n",
    "ligand_df = ligand_df.loc[(~ligand_df[\"BioAssay Name\"].str.contains(\"hetero\")) & (~ligand_df[\"BioAssay Name\"].str.contains(\"Counter\"))]# & (ligand_df[\"BioAssay Name\"].str.contains(\"GTP\"))]\n",
    "\n",
    "with open(\"/home/enf/md_simulations/MOR/docking/binding_db.pkl\", \"rb\") as f:\n",
    "    binding_db = pickle.load(f)\n",
    "                            "
   ]
  },
  {
   "cell_type": "code",
   "execution_count": 16,
   "metadata": {
    "collapsed": false,
    "scrolled": true
   },
   "outputs": [
    {
     "data": {
      "text/plain": [
       "BindingDB Reactant_set_id                                                                                        50020336\n",
       "Ligand SMILES                                                                  CCC(=O)N(c1ccccc1)C1(COC)CCN(CCc2cccs2)CC1\n",
       "Ligand InChI                                                            InChI=1S/C22H30N2O2S/c1-3-21(25)24(19-8-5-4-6-...\n",
       "Ligand InChI Key                                                                              GGCSSNBKKAUURC-UHFFFAOYSA-N\n",
       "BindingDB MonomerID                                                                                                 94503\n",
       "BindingDB Ligand Name                                                   2-hydroxypropane-1,2,3-tricarboxylic acid;N-[4...\n",
       "Target Name Assigned by Curator or DataSource                                               Nociceptin/mu opioid receptor\n",
       "Target Source Organism According to Curator or DataSource                                               Rattus norvegicus\n",
       "Ki (nM)                                                                                                              0.22\n",
       "IC50 (nM)                                                                                                             NaN\n",
       "Kd (nM)                                                                                                               NaN\n",
       "EC50 (nM)                                                                                                             NaN\n",
       "kon (M-1-s-1)                                                                                                         NaN\n",
       "koff (s-1)                                                                                                            NaN\n",
       "pH                                                                                                                    NaN\n",
       "Temp (C)                                                                                                              NaN\n",
       "Curation/DataSource                                                                                                ChEMBL\n",
       "Article DOI                                                                                                           NaN\n",
       "PMID                                                                                                          2.17065e+06\n",
       "PubChem AID                                                                                                           NaN\n",
       "Patent Number                                                                                                         NaN\n",
       "Authors                                                                 Lalinde, N; Moliterni, J; Wright, D; Spencer, ...\n",
       "Institution                                                                                      Anaquest Pharmaceuticals\n",
       "Link to Ligand in BindingDB                                             http://www.bindingdb.org/bind/chemsearch/marvi...\n",
       "Link to Target in BindingDB                                             http://www.bindingdb.org/jsp/dbsearch/PrimaryS...\n",
       "Link to Ligand-Target Pair in BindingDB                                 http://www.bindingdb.org/jsp/dbsearch/PrimaryS...\n",
       "Ligand HET ID in PDB                                                                                                  NaN\n",
       "PDB ID(s) for Ligand-Target Complex                                                                                   NaN\n",
       "PubChem CID                                                                                                         41693\n",
       "PubChem SID                                                                                                     164035747\n",
       "ChEBI ID of Ligand                                                                                                    NaN\n",
       "ChEMBL ID of Ligand                                                                                                   NaN\n",
       "DrugBank ID of Ligand                                                                                             DB00708\n",
       "IUPHAR_GRAC ID of Ligand                                                                                              NaN\n",
       "KEGG ID of Ligand                                                                                                  C08022\n",
       "ZINC ID of Ligand                                                                                            ZINC00538386\n",
       "Number of Protein Chains in Target (>1 implies a multichain complex)                                                    1\n",
       "BindingDB Target Chain  Sequence                                        MDSSTGPGNTSDCSDPLAQASCSPAPGSWLNLSHVDGNQSDPCGLN...\n",
       "PDB ID(s) of Target Chain                                                                                            4DKL\n",
       "UniProt (SwissProt) Recommended Name of Target Chain                                              Mu-type opioid receptor\n",
       "UniProt (SwissProt) Entry Name of Target Chain                                                                   OPRM_RAT\n",
       "UniProt (SwissProt) Primary ID of Target Chain                                                                     P33535\n",
       "UniProt (SwissProt) Secondary ID(s) of Target Chain                     Q2TV20,Q2TV21,Q4VWM5,Q4VWM7,Q4VWX7,Q4VWX8,Q628...\n",
       "UniProt (SwissProt) Alternative ID(s) of Target Chain                                                                 NaN\n",
       "UniProt (TrEMBL) Submitted Name of Target Chain                                                                       NaN\n",
       "UniProt (TrEMBL) Entry Name of Target Chain                                                                           NaN\n",
       "UniProt (TrEMBL) Primary ID of Target Chain                                                                           NaN\n",
       "UniProt (TrEMBL) Secondary ID(s) of Target Chain                                                                      NaN\n",
       "UniProt (TrEMBL) Alternative ID(s) of Target Chain                                                                    NaN\n",
       "Name: 7257, dtype: object"
      ]
     },
     "execution_count": 16,
     "metadata": {},
     "output_type": "execute_result"
    }
   ],
   "source": [
    "binding_db.loc[binding_db[\"BindingDB Ligand Name\"].str.contains(\"fentanyl\")].iloc[0]"
   ]
  },
  {
   "cell_type": "code",
   "execution_count": 17,
   "metadata": {
    "collapsed": false
   },
   "outputs": [],
   "source": [
    "wiki_agonists = [\"3-HO-PCP\", \"7-PET\", \"Acetorphine\", \"Acetoxyketobemidone\", \"Acetyldihydrocodeine\", \"Acetylfentanyl\", \"Acetylmethadol\", \"Acetylmorphone\", \"Acetylpropionylmorphine\", \"Acrylfentanyl\", \"AD-1211\", \"Adrenorphin\", \"AH-7921\", \"Akuammine\", \"Alfentanil\", \"Alimadol\", \"3-Allylfentanyl\", \"Allylnorpethidine\", \"Allylprodine\", \"Alphacetylmethadol\", \"Alphamethadol\", \"Alphamethylthiofentanyl\", \"Anileridine\", \"Azaprocin\", \"Azidomorphine\", \"BDPC\", \"Benzethidine\", \"Benzhydrocodone\", \"Benzylmorphine\", \"Betacetylmethadol\", \"Betahydroxyfentanyl\", \"Betahydroxythiofentanyl\", \"Betamethadol\", \"Bezitramide\", \"Brifentanil\", \"Bromadoline\", \"Buprenorphine\", \"Butyrfentanyl\", \"BW373U86\", \"C-8813\", \"8-Carboxamidocyclazocine\", \"Carfentanil\", \"Cebranopadol\", \"Chloromorphide\", \"Chloroxymorphamine\", \"14-Cinnamoyloxycodeinone\", \"Ciprefadol\", \"Ciramadol\", \"Clonitazene\", \"Codeine-6-glucuronide\", \"Codeinone\", \"Codoxime\", \"Conorfone\", \"DADLE\", \"DAMGO\", \"Dermorphin\", \"Desmethylclozapine\", \"Desmethylprodine\", \"O-Desmethyltramadol\", \"Desomorphine\", \"Dextromoramide\", \"Dextropropoxyphene\", \"Diacetyldihydromorphine\", \"Diampromide\", \"Dibenzoylmorphine\", \"Dibutyrylmorphine\", \"Diethylthiambutene\", \"Difenoxin\", \"Dihydrocodeine\", \"Dihydroetorphine\", \"Dihydromorphine\", \"Dimenoxadol\", \"Dimepheptanol\", \"Dimethylaminopivalophenone\", \"Dimethylthiambutene\", \"Dioxaphetyl butyrate\", \"Diphenoxylate\", \"Dipipanone\", \"Dipropanoylmorphine\", \"Doxpicomine\", \"DPI-3290\", \"Drotebanol\", \"Eluxadoline\", \"6,14-Endoethenotetrahydrooripavine\", \"Endomorphin\", \"Endomorphin-1\", \"Endomorphin-2\", \"Beta-Endorphin\", \"Eseroline\", \"Ethoheptazine\", \"14-Ethoxymetopon\", \"Ethylmethylthiambutene\", \"Ethylmorphine\", \"Etonitazene\", \"Etorphine\", \"Etoxeridine\", \"Fentanyl\", \"4-Fluorobutyrfentanyl\", \"4-Fluoropethidine\", \"Furanylfentanyl\", \"Furethidine\", \"Hemorphin-4\", \"Heroin\", \"Heterocodeine\", \"Hodgkinsine\", \"Hydrocodone\", \"Hydromorphinol\", \"Hydromorphone\", \"14-Hydroxydihydrocodeine\", \"7-Hydroxymitragynine\", \"Hydroxypethidine\", \"IBNtxA\", \"IC-26\", \"1-Iodomorphine\", \"Isomethadone\", \"Ketamine\", \"Ketobemidone\", \"Lefetamine\", \"Levacetylmethadol\", \"Levallorphan\", \"Levomethadone\", \"Levomethorphan\", \"Levophenacylmorphan\", \"Levorphanol\", \"Lofentanil\", \"Loperamide\", \"Loperamide/simethicone\", \"Meprodine\", \"Metethoheptazine\", \"Methadone\", \"Metheptazine\", \"4-Methoxybutyrfentanyl\", \"14-Methoxydihydromorphinone\", \"14-Methoxymetopon\", \"Α-Methylacetylfentanyl\", \"3-Methylbutyrfentanyl\", \"N-Methylcarfentanil\", \"Methyldesorphine\", \"Methyldihydromorphine\", \"6-Methylenedihydrodesoxymorphine\", \"3-Methylfentanyl\", \"Α-Methylfentanyl\", \"Beta-Methylfentanyl\", \"Methylketobemidone\", \"3-Methylthiofentanyl\", \"Metofoline\", \"Metopon\", \"Mirfentanil\", \"Mitragynine\", \"Mitragynine pseudoindoxyl\", \"6-Monoacetylmorphine\", \"Morpheridine\", \"Morphine\", \"Morphine-6-glucuronide\", \"Morphine-N-oxide\", \"Morphinone\", \"MR-2096\", \"MT-45\", \"Myrophine\", \"Nalmexone\", \"Naltalimide\", \"Nicocodeine\", \"Nicodicodeine\", \"Nicomorphine\", \"Noracymethadol\", \"Norbuprenorphine\", \"Norketamine\", \"Norlevorphanol\", \"Normethadone\", \"Noroxymorphone\", \"Ocfentanil\", \"Ohmefentanyl\", \"Oliceridine\", \"Oxpheneridine\", \"Oxycodone\", \"Oxymorphazone\", \"Oxymorphol\", \"Oxymorphone\", \"Oxytrex\", \"Parafluorofentanyl\", \"Pentamorphone\", \"PEPAP\", \"Pericine\", \"Pethidine\", \"Phenadoxone\", \"Phenampromide\", \"Phenaridine\", \"Phenazocine\", \"Pheneridine\", \"N-Phenethyl-14-ethoxymetopon\", \"N-Phenethylnordesomorphine\", \"N-Phenethylnormorphine\", \"Phenomorphan\", \"Phenoperidine\", \"4-Phenylfentanyl\", \"14-Phenylpropoxymetopon\", \"Picenadol\", \"Piminodine\", \"Piperidylthiambutene\", \"Piritramide\", \"Prodilidine\", \"Prodine\", \"Proheptazine\", \"Properidine\", \"Propylketobemidone\", \"Prosidol\", \"PTI-609\", \"Pyrrolidinylthiambutene\", \"PZM21\", \"R-4066\", \"R-30490\", \"Racemorphan\", \"Remifentanil\", \"Ro4-1539\", \"RWJ-394674\", \"Sameridine\", \"SC-17599\", \"Semorphone\", \"Sufentanil\", \"Tapentadol\", \"Thebacon\", \"Thiambutenes\", \"Thienorphine\", \"Thiofentanyl\", \"Tilidine\", \"Tramadol\", \"Trefentanil\", \"Trimebutine\", \"Trimeperidine\", \"TRIMU 5\", \"U-47700\", \"U-77891\", \"Viminol\"]\n",
    "wiki_antagonists = [\"(3S,4S)-Picenadol\", \"2-(S)-N,N-(R)-Viminol\", \"4-Caffeoyl-1,5-quinide\", \"4′-Hydroxyflavanone\", \"4',7-Dihydroxyflavone\", \"6β-Naltrexol\", \"6β-Naltrexol-d4\", \"18-MC\", \"α-Gliadin\", \"β-Chlornaltrexamine\", \"β-Funaltrexamine\", \"Akuammine\", \"Alvimopan\", \"AM-251\", \"Apigenin\", \"AT-076\", \"Axelopran\", \"Bevenopran\", \"Catechin\", \"Catechin\", \"gallate\", \"Clocinnamox\", \"CTAP\", \"CTOP\", \"Cyclofoxy\", \"Cyprodime\", \"Diacetylnalorphine\", \"Diprenorphine\", \"ECG\", \"EGC\", \"Epicatechin\", \"Eptazocine\", \"Gemazocine\", \"Ginsenoside R\", \"Hyperoside\", \"Ibogaine\", \"Levallorphan\", \"Lobeline\", \"LY-255582\", \"LY-2196044\", \"Methocinnamox\", \"Methylnaltrexone\", \"Methylsamidorphan\", \"Naldemedine\", \"Nalmefene\", \"Nalodeine\", \"(N-allylnorcodeine)\", \"Nalorphine\", \"Nalorphine\", \"dinicotinate\", \"Naloxazone\", \"Naloxegol\", \"Naloxol\", \"Naloxonazine\", \"Naloxone\", \"Naltrexazone\", \"Naltrexonazine\", \"Naltrexone\", \"Naltrindole\", \"Naringenin\", \"Noribogaine\", \"Oxilorphan\", \"Pawhuskin A\", \"Rimonabant\", \"Quadazocine\", \"Samidorphan\", \"Taxifolin\"]\n",
    "agonist_rows = [(a, \"agonist\") for a in wiki_agonists]\n",
    "antagonist_rows = [(a, \"antagonist\") for a in wiki_antagonists]\n",
    "ligand_df = pd.DataFrame(agonist_rows+antagonist_rows, columns=(\"name\", \"action\"))\n",
    "wiki_mor_df_file = \"/home/enf/md_simulations/MOR/docking/wiki_mor_df.pkl\"\n",
    "with open(wiki_mor_df_file, \"wb\") as f:\n",
    "    pickle.dump(ligand_df, f, protocol=2)"
   ]
  },
  {
   "cell_type": "code",
   "execution_count": 27,
   "metadata": {
    "collapsed": false
   },
   "outputs": [],
   "source": [
    "import importlib\n",
    "import analysis\n",
    "importlib.reload(analysis)\n",
    "from analysis import *\n",
    "\n",
    "#print(reference_docking_dir)\n",
    "reference_docking_df, reference_poses_df = analyze_docking_results_multiple(\"/home/enf/md_simulations/MOR/docking/reference_docking_SP\", precision, \"/home/enf/md_simulations/MOR/docking/reference_docking_SP/summary.csv\", worker_pool=None,\n",
    "ligands=None, poses_summary=None, redo=False, reread=True, parallel=True,\n",
    "write_to_disk=True)"
   ]
  },
  {
   "cell_type": "code",
   "execution_count": 28,
   "metadata": {
    "collapsed": false
   },
   "outputs": [
    {
     "name": "stdout",
     "output_type": "stream",
     "text": [
      "(135382, 2)\n"
     ]
    }
   ],
   "source": [
    "#reference_docking_df = reference_docking_df.transpose()\n",
    "print(reference_docking_df.shape)"
   ]
  },
  {
   "cell_type": "code",
   "execution_count": 22,
   "metadata": {
    "collapsed": false
   },
   "outputs": [
    {
     "data": {
      "text/html": [
       "<div>\n",
       "<table border=\"1\" class=\"dataframe\">\n",
       "  <thead>\n",
       "    <tr style=\"text-align: right;\">\n",
       "      <th></th>\n",
       "      <th>bu72_aligned_4DKL_R_L_conformation</th>\n",
       "      <th>bu72_ionized_pymol_RL_conformation</th>\n",
       "      <th>diff</th>\n",
       "    </tr>\n",
       "  </thead>\n",
       "  <tbody>\n",
       "    <tr>\n",
       "      <th>SID_103547933</th>\n",
       "      <td>-0.0</td>\n",
       "      <td>8.72</td>\n",
       "      <td>8.72</td>\n",
       "    </tr>\n",
       "    <tr>\n",
       "      <th>_90021</th>\n",
       "      <td>-0.0</td>\n",
       "      <td>7.41</td>\n",
       "      <td>7.41</td>\n",
       "    </tr>\n",
       "    <tr>\n",
       "      <th>_99059</th>\n",
       "      <td>-0.0</td>\n",
       "      <td>6.81</td>\n",
       "      <td>6.81</td>\n",
       "    </tr>\n",
       "    <tr>\n",
       "      <th>_123923</th>\n",
       "      <td>-0.0</td>\n",
       "      <td>6.70</td>\n",
       "      <td>6.70</td>\n",
       "    </tr>\n",
       "    <tr>\n",
       "      <th>_124511</th>\n",
       "      <td>-0.0</td>\n",
       "      <td>6.66</td>\n",
       "      <td>6.66</td>\n",
       "    </tr>\n",
       "    <tr>\n",
       "      <th>_120698</th>\n",
       "      <td>-0.0</td>\n",
       "      <td>6.64</td>\n",
       "      <td>6.64</td>\n",
       "    </tr>\n",
       "    <tr>\n",
       "      <th>_8447</th>\n",
       "      <td>-0.0</td>\n",
       "      <td>6.57</td>\n",
       "      <td>6.57</td>\n",
       "    </tr>\n",
       "    <tr>\n",
       "      <th>_131257</th>\n",
       "      <td>-0.0</td>\n",
       "      <td>6.53</td>\n",
       "      <td>6.53</td>\n",
       "    </tr>\n",
       "    <tr>\n",
       "      <th>_23537</th>\n",
       "      <td>-0.0</td>\n",
       "      <td>6.49</td>\n",
       "      <td>6.49</td>\n",
       "    </tr>\n",
       "    <tr>\n",
       "      <th>_40881</th>\n",
       "      <td>-0.0</td>\n",
       "      <td>6.48</td>\n",
       "      <td>6.48</td>\n",
       "    </tr>\n",
       "  </tbody>\n",
       "</table>\n",
       "</div>"
      ],
      "text/plain": [
       "               bu72_aligned_4DKL_R_L_conformation  \\\n",
       "SID_103547933                                -0.0   \n",
       "_90021                                       -0.0   \n",
       "_99059                                       -0.0   \n",
       "_123923                                      -0.0   \n",
       "_124511                                      -0.0   \n",
       "_120698                                      -0.0   \n",
       "_8447                                        -0.0   \n",
       "_131257                                      -0.0   \n",
       "_23537                                       -0.0   \n",
       "_40881                                       -0.0   \n",
       "\n",
       "               bu72_ionized_pymol_RL_conformation  diff  \n",
       "SID_103547933                                8.72  8.72  \n",
       "_90021                                       7.41  7.41  \n",
       "_99059                                       6.81  6.81  \n",
       "_123923                                      6.70  6.70  \n",
       "_124511                                      6.66  6.66  \n",
       "_120698                                      6.64  6.64  \n",
       "_8447                                        6.57  6.57  \n",
       "_131257                                      6.53  6.53  \n",
       "_23537                                       6.49  6.49  \n",
       "_40881                                       6.48  6.48  "
      ]
     },
     "execution_count": 22,
     "metadata": {},
     "output_type": "execute_result"
    }
   ],
   "source": [
    "reference_docking_df[\"diff\"] = reference_docking_df[reference_docking_df.columns[1]].subtract(reference_docking_df[reference_docking_df.columns[0]])\n",
    "reference_docking_df.sort(\"diff\", ascending=False, inplace=True)\n",
    "reference_docking_df.iloc[:10]"
   ]
  },
  {
   "cell_type": "code",
   "execution_count": null,
   "metadata": {
    "collapsed": true
   },
   "outputs": [],
   "source": []
  },
  {
   "cell_type": "code",
   "execution_count": 31,
   "metadata": {
    "collapsed": false
   },
   "outputs": [
    {
     "name": "stdout",
     "output_type": "stream",
     "text": [
      "['_53790', '_105375', '_128531', '_120815', '_117962', 'SID_103393362', '_81762', '_55496', '_56469', '_26573', '_74839', '_60708', '_91749', '_59293', '_93403', '_56993', '_60733', '_119798', '_1693', '_61047', '_64036', '_84448', '_27003', '_78071', '_52399', '_61787', '_11756', '_40881', '_105355', '_14360', 'quadazocine', '_112327', '_23930', '_120229', '_60942', '_58036', '_81981', '_8883', '_121497', '_51196', '_28784', '_122313', '_58649', '_11142', '_67307', '_24016', '_12181', '_36343', '_66671', '_3150', '_59242', '_18731', '_101651', '_22288', '_113975', '_88831', '_68006', '_16216', '_18362', '_24326', '_13722', '_16786', '_17655', '_28693', '_61835', '_59952', '_8578', '_44877', '_67318', '_97575', '_1435', '_81763', '_4501', '_49767', '_61456', '_114534', '_80963', '_39039', '_79038', '_26734', '_56299', '_57088', '_81219', 'SID_103547932', '_30081', '_12774', '_59967', '_121014', '_53864', '_121287', '_20557', '_5390', '_91770', '_111723', '_67333', '_61218', '_56302', '_59751', '_55946', '_55594', '_133160', '_10783', '_63543', '_87799', '_99249', '_58179', '_14117', '_129805', '_71638', '_48567', '_88347', '_128859', '_68514', '_23588', '_81298', '_54187', '_95212', '_73103', '_89935', '_59482', '_60637', '_21741', '_4837', '_40829', '_78681', 'SID_131285480', '_43625', '_55914', '_58163', '_110737', '_98450', '_82360', '_131296', '_130239', '_134664', '_105250', '_8638', '_87201', '_83854', '_20437', '_112556', 'UFP-512', '_61645', '_81503', '_103463', '_55472', '_134249', '_24752', '_106765', '_22715', '_7796', '_55603', '_3611', '_84917', '_56232', '_132073', '_1243', '_72711', '_40180', '_125035', '_84126', '_61786', '_121225', '_109458', '_58889', '_58503', '_42172', '_126990', '_34966', '_132194', '_22993', '_121368', '_58405', '_61294', '_134854', '_26332', '_65846', '_21223', '_59903', '_61634', '_21903', '_73416', '_489', '_101609', '_106828', '_58407', '_63673', '_60979', '_56760', '_51080', '_38542', '_105103', '_63435', '_56798', '_35785', '_90021', '_12115', '_89854', '_54579', '_120234', '_59563', '_57923', '_41662', '_36084', '_123559', '_59181', '_53896', '_114126', '_104863', '_53693', '_55437', '_9854', '_27097', '_129722', '_72015', '_61336', '_77683', '_54270', '_42255', '_130089', '_77823', '_19244', '_84829', '_42098', '_121394', '_94443', '_28816', '_76877', '_77774', '_25055', '_39115', '_120572', '_54560', '_24583', '_54513', '_98068', '_31876', '_26130', '_43719', '_70013', '_97411', '_64308', '_55513', '_81387', '_62957', '_10796', '_131692', '_90089', '_121872', '_38501', '_46373', '_32473', '_93425', '_120522', '_87749', '_57033', '_60717', '_124724', '_85920', '_75310', '_58403', '_58402', '_57095', '_23537', '_82862', '_62947', '_109135', '_6617', '_17534', 'SID_103650360', '_134584', '_94105', '_117801', '_9758', '_73690', '_2905', '_103924', '_19620', '_127343', '_43049', '_109011', 'SID_103653221', '_78116', '_60287', '_89638', '_13754', '_56235', '_123465', 'SID_164132274', '_8095', '_83009', '_113246', '_106304', '_91076', '_49764', '_87117', '_112695', 'SID_103347472', '_73747', '_52162', '_124590', '_15296', '_13352', '_51974', '_75376', '_127366', '_59006', '_124748', '_119703', '_70578', 'SID_164129496', '_56231', '_24720', '_42256', '_58648', '_104397', '_57573', '_74210', '_19078', '_15449', '_101400', '_86865', '_73476', '_103443', '_52198', '_65118', '_132216', '_89041', '_6426', '_44158', '_99901', '_93838', '_6896', '_124731', '_40856', '_42681', '_1581', '_20136', '_7832', '_73453', '_39443', '_57927', '_114513', '_79314', '_124478', '_17453', '_91193', '_62746', '_72238', '_57328', '_52950', 'SID_103547931', '_30284', '_56323', '_123840', '_99268', '_22159', '_67129', '_85423', '_72021', '_110254', '_57688', '_58599', '_125407', '_105510', '_38528', '_72169', '_82940', '_24239', '_134826', '_63097', '_124542', '_78722', '_39242', '_61680', '_127907', '_113692', '_29092', '_60464', '_16017', '_59324', '_58481', '_29776', '_55453', '_126241', '_121918', '_16294', '_22241', 'SID_164143536', '_9087', '_81431', '_60397', '_124070', '_58042', '_78996', '_12970', '_56494', '_98758', '_124708', '_61483', '_87495', '_130875', '_7253', '_124753', '_88133', '_124492', '_110568', '_94442', '_74763', '_97373', '_72227', '_123456', '_80451', '_90112', '_77120', '_28529', '_61741', '_64119', '_94060', '_123512', '_87437', '_60533', '_109296', '_88637', '_27881', '_120689', '_60364', '_59094', '_124668', '_55711', '_39605', 'naloxonazine', '_94919', 'SID_103547985', '_55482', '_66653', '_52122', '_67088', '_88675', '_60629', '_107560', '_4591', '_95169', '_129972', '_114011', '_59229', '_83562', '_59197', '_60677', '_87843', '_119947', '_74872', '_96135', '_94263', '_59038', '_1136', '_62785', '_57080', '_49741', '_109659', '_58644', '_112053', '_61763', '_121380', '_56631', '_68520', '_43913', '_26023', '_55366', '_125377', '_2708', '_84947', 'SID_103734826', '_18819', '_44121', '_114526', '_90206', '_127484', '_79217', '_56238', '_75350', '_95093', '_70012', '_56736', '_59679', '_42622', '_110369', '_61391', '_8901', '_114626', '_49436', '_81671', '_55520', '_12710', '_7418', '_109416', '_87403', '_50869', '_54987', '_58590', '_127416', '_104552', 'SID_163326370', '_69482', '_114495', '_69920', '_13662', '_12451', '_130176', '_60935', '_45114', '_93381', '_56246', '_130688', '_74803', '_53438', '_121397', '_84093', '_125340', '_23461', '_15478', '_124694', '_79756', '_134292', '_61063', '_71160', '_28219', '_123381', '_5491', '_130349', '_93153', '_72135', '_48304', '_57885', '_117058', '_69213', '_96127', '_71019', '_55998', '_54559', '_105796', '_121231', '_63679', '_129190', '_46613', '_450', '_8089', '_105207', '_127323', '_54973', '_46792', '_106929', '_111089', '_6689', '_26303', '_65287', '_71894', '_31520', '_110033', '_121399', '_81695', 'SID_164149159', '_104913', '_54977', '_100184', '_106819', '_19538', '_133189', '_38637', '_100962', '_3766', '_67278', '_132044', '_59141', '_124499', '_56188', '_56203', '_121565', '_88068', '_125197', '_130226', '_9247', 'SID_103561186', '_9805', '_70053', '_60202', '_81131', '_18878', '_70068', '_125209', '_85405', '_97296', '_62127', '_67681', '_109615', '_55284', '_39312', '_52581', '_123014', '_73943', '_53185', '_89446', '_16140', '_127737', '_68537', '_121797', '_65239', '_55842', '_59165', '_74420', '_61255', '_23611', '_60765', '_120330', '_64032', '_45226', '_26200', '_79829', '_1916', '_38965', '_72337', '_39668', '_133110', '_11889', '_13944', '_120560', '_56870', '_57805', '_123932', '_59253', '_57040', '_60706', '_93384', '_106752', '_62441', '_72578', '_91358', '_62245', '_106742', '_28608', '_40777', '_62960', '_129743', '_81882', '_72349', '_60803', '_109299', '_74025', '_22941', '_61637', 'SID_174515980', '_101813', '_60947', '_77327', '_38707', '_76642', '_53024', '_41886', '_7919', '_54815', '_108668', '_121300', '_121978', '_85410', '_130344', '_61703', '_22140', '_9937', '_90911', '_80263', '_61405', '_19690', '_57978', '_55522', '_69469', '_73501', '_18068', '_46234', '_103698', 'SID_103700327', '_54959', '_11544', 'SID_164140762', '_67738', '_83316', '_13287', '_61174', '_124740', '_43062', '_68396', '_62333', '_130696', 'SID_164137991', '_30764', '_75472', '_57685', '_130159', '_134423', '_89983', '_43174', '_5453', '_86723', '_61175', '_107751', '_43115', '_1434', '_120038', 'SID_103520827', '_124487', '_44444', '_94707', '_6337', '_8241', '_62900', '_56871', '_17072', '_57524', '_111537', '_26402', '_95103', '_52018', '_8116', '_48446', '_79109', '_60189', '_100992', '_109587', '_61170', '_120620', '_62871', '_105301', '_132072', '_114384', '_32596', '_22362', '_22157', '_78798', '_81659', '_129422', '_121463', '_58886', '_121345', '_134437', '_131170', '_62948', '_60592', '_93818', '_60986', '_114098', '_127364', '_60509', 'SID_103547958', '_5881', '_40055', '_7434', '_97500', '_68961', '_57485', '_57045', '_120267', '_59473', '_124553', '_61254', '_60512', '_61262', '_74773', '_103431', '_71425', '_61454', '_58035', '_110357', '_89904', '_72952', '_22184', '_57928', '_111170', '_51691', '_75871', '_134453', 'SID_164129459', '_101951', '_68500', '_102764', '_103451', '_61639', '_50394', '_58168', '_106540', '_9384', '_82950', '_110961', '_55512', '_130705', '_33067', '_108544', '_123767', '_39036', 'SID_242619954', '_76832', '_80563', '_74955', '_96206', '_103532', '_123604', '_61489', '_81669', '_4857', '_96854', '_80468', '_25192', '_133150', '_18147', '_55528', '_120660', '_57068', '_12240', '_76459', '_21520', '_3860', '_94457', '_59732', '_106744', '_119632', '_56882', '_80732', 'SID_103451051', '_61671', '_128799', '_59317', '_42889', '_106623', '_60970', '_14130', '_123746', '_62853', '_56001', '_23986', '_101641', '_104493', '_56307', '_60795', '_105443', '_6540', '_32354', '_66607', '_113441', '_134252', '_120712', '_127900', '_25031', '_49612', '_28288', '_88894', '_16757', '_71973', '_41133', '_22645', '_3149', '_Leu_enkephalin', '_59758', '_2069', '_63062', '_121846', '_11070', '_63052', '_98308', '_86411', '_24351', '_114090', '_21634', '_106376', '_101131', '_22928', '_108944', '_60454', '_12941', '_104483', '_72122', '_61486', '_99395', '_119728', '_72951', '_100331', '_117042', '_71168', '_16939', '_30851', '_60595', '_54728', '_125387', '_88277', '_21124', '_73794', '_56768', '_57939', '_60462', '_66637', '_93391', '_22559', '_114073', '_25032', '_130686', '_63065', '_95036', '_57925', '_56890', '_55536', '_100476', '_56866', '_84849', '_61214', '_28669', '_113584', '_21915', '_54894', '_61641', '_56315', '_58639', '_111298', '_114168', '_106162', '_104766', '_25337', '_7653', '_61494', '_124773', '_29886', '_15355', '_53401', '_134388', '_103514', '_57528', '_11094', '_96111', '_60479', '_91680', '_121988', '_59325', '_37753', '_59904', '_55429', '_15397', '_18388', '_124757', '_79704', '_25270', '_134281', '_10389', '_5303', '_17530', '_134457', '_134439', '_53263', '_64709', '_77979', 'SID_164140761', '_43664', '_28846', '_62946', '_70464', '_23416', '_46750', '_57189', '_70289', '_88200', '_78211', '_65166', '_16243', '_16771', '_54119', '_103601', '_41361', '_19539', '_48966', '_124726', '_98733', '_124400', '_55624', '_83032', '_79267', '_42756', '_85415', '_23737', 'SID_103575487', '_58487', '_123071', '_61526', '_29066', '_123911', '_114425', '_80223', '_129515', '_4354', '_54975', '_78659', '_7476', '_47533', '_39104', '_93511', '_36525', '_93489', '_88370', '_91019', '_7655', '_121158', '_121180', '_109185', '_55612', '_114342', '_83847', '_29715', '_30341', '_19296', '_29156', '_50497', '_113405', '_59228', '_61020', '_84156', '_14785', '_96186', '_87442', '_113449', '_9267', '_32750', '_66616', '_80983', '_131202', '_19782', '_53159', '_125494', '_50308', '_3349', '_69855', '_42192', '_56005', '_55374', '_112642', '_69706', '_4672', '_107138', '_65342', '_57056', 'SID_103653139', '_54553', '_58162', '_59912', '_101631', '_121096', '_55826', '_54824', '_59243', '_63443', '_6209', '_124415', 'SID_242619952', 'SID_124967393', '_60827', '_15189', '_104926', '_81972', '_58167', '_83248', '_66430', '_11915', '_60701', '_32859', '_60368', '_55737', '_99207', '_20953', '_102221', '_12657', '_131664', '_8126', '_16520', '_60923', '_97755', '_121928', '_61058', '_121229', '_64480', '_14096', '_60707', '_55211', '_24807', '_114537', '_65774', '_105504', '_109599', '_74726', '_72105', '_59085', '_18499', '_115118', '_85106', '_57684', '_60756', '_12714', '_104485', '_14813', '_5020', '_78895', '_66339', '_65208', '_55640', '_58888', '_133436', 'SID_242619947', '_9848', '_77340', '_90027', 'SID_103547955', '_60745', '_121237', '_55719', '_102571', '_12046', '_8447', '_29772', '_1552', '_97175', '_75080', '_16934', '_60341', '_123586', '_31336', '_108607', '_130205', '_60516', '_15333', '_61409', '_93365', '_94929', '_63442', '_58645', '_25813', '_46203', '_124656', '_128732', '_26037', '_63448', '_10074', '_22875', '_101517', '_59269', '_64547', '_55778', '_59333', '_87522', '_9794', '_56354', 'SID_103462995', '_107402', '_64293', '_55887', '_41520', '_57113', '_8037', '_57074', '_89618', '_101575', '_113586', '_61407', '_87827', '_113730', 'SID_103505602', '_57101', '_72927', '_121883', '_39133', '_120505', '_61171', '_82780', '_106519', '_87048', '_55775', '_56151', '_49469', '_60867', '_94437', '_61719', '_60045', '_45778', '_6565', '_124578', '_61567', '_124511', '_19752', '_123246', '_36679', '_123837', '_134293', '_33381', '_88487', '_76687', '_89323', '_121957', '_113654', '_80409', '_24429', '_61442', '_56154', '_130637', '_73686', '_76496', '_55204', '_61463', '_42715', '_14685', '_11203', '_17751', '_25255', '_57115', '_81356', '_59248', '_130125', '_3581', '_128830', '_66011', '_44082', '_102008', '_124625', '_59277', '_26164', '_106509', '_14255', '_133779', '_118249', '_110767', '_11394', '_56114', '_120168', '_10517', '_78059', '_75270', '_60995', '_57122', '_110244', '_43816', '_31296', '_119961', '_52010', '_91936', '_60524', '_23451', 'SID_103547952', '_55908', '_123391', '_82776', '_119833', '_40526', '_8938', '_57108', '_57102', '_45744', '_121122', '_57909', '_61440', '_8142', '_60725', '_61111', '_10395', '_131257', '_57013', '_68177', '_84064', 'SID_242619946', '_59245', '_103571', '_55843', '_27617', '_6203', '_60126', '_55464', '_112690', '_105165', '_81354', '_10667', '_16464', '_5398', '_58247', '_103483', 'SID_103547979', '_77047', '_121982', '_127309', '_123923', '_130621', '_8279', '_16310', '_20913', '_60597', '_65417', '_134316', 'SID_103547933', '_13286', '_124475', '_61177', '_55721', '_7329', '_79277', 'SID_103505600', '_52756', '_61488', '_112022', '_55845', '_72542', '_92432', '_2301', '_87348', '_32848', '_58075', '_59711', '_124841', '_60461', '_76555', '_28840', '_505', 'DSLET', '_47968', '_54730', '_120509', '_24453', '_130166', '_10131', '_66519', '_56465', '_93559', '_87318', '_61323', '_62253', '_47859', '_667', '_54394', '_28456', '_129982', '_114538', '_109069', '_67974', '_61681', '_91773', '_54344', '_43461', '_91776', '_121730', '_6437', '_103605', '_122704', '_41524', '_38441', '_41260', '_7012', '_18462', '_36345', 'SID_242619948', '_122045', '_124420', '_124532', '_68663', '_125835', '_123630', '_60826', '_4336', '_3647', '_20612', '_121381', '_99059', '_127427', '_65745', '_56881', '_109943', '_22384', '_131131', '_60295', '_104120', '_120745', '_133762', '_59486', '_131203', '_56657', '_58885', '_87389', '_27181', '_56880', '_75143', '_56477', '_64719', '_44389', '_8881', '_109436', '_103494', '_112476', '_59045', '_47956', '_105204', '_29597', 'SID_103169342', '_107587', '_112786', '_62053', '_114447', '_123881', '_28027', '_120965', '_68607', '_60230', 'SID_242619951', '_71186', '_90139', '_103668', '_56254', '_44557', '_106455', '_106892', 'SID_103193883', '_79040', '_84048', '_65161', '_56481', '_43656', '_84522', '_6686', '_61678', '_20560', '_37619', '_7020', '_105490', '_18990', '_123849', '_81399', '_62999', '_59285', '_132165', '_51755', '_55035', '_55924', '_42560', '_84134', '_101444', '_127205', '_26289', '_60939', '_25287', '_45102', '_61635', '_103996', '_33313', '_97148', '_95020', '_114362', '_84243', '_73485', '_101623', 'SID_103497437', '_56230', '_120893', 'SID_103615484', '_59004', '_29471', '_91000', '_14539', '_106741', '_102117', '_94036', '_61217', '_15058', '_129624', '_77177', '_98704', '_8277', '_56711', '_25735', '_52602', '_61487', '_77635', '_126281', '_2140', '_56931', '_130658', '_66101', '_8119', '_61654', '_58647', '_68543', '_18185', 'SID_103505599', '_123722', '_3827', '_84916', '_29593', '_127026', '_109072', '_56253', '_82297', '_124439', '_12047', '_104486', '_78035', '_88103', '_22394', '_79635', '_77897', '_6343', '_81428', '_110587', '_108627', '_128259', '_26422', '_17476', '_131548', '_77412', '_73089', '_132970', '_104328', '_41082', '_64154', '_62794', '_69624', '_105574', '_93933', '_3990', 'SID_103547951', '_43383', '_62983', '_94342', '_129962', '_43926', '_60685', '_94319', '_66190', '_92561', '_56259', '_114463', '_58406', '_95038', '_83439', '_80009', '_123257', '_124407', '_53378', 'SID_103547993', '_62949', '_42355', '_60048', '_78303', '_88288', '_132164', '_24753', '_46339', '_111043', '_61646', '_61861', '_58882', '_101123', '_56818', '_132016', '_78879', '_39885', '_59826', '_56239', '_59951', '_44301', '_88907', '_55830', '_2576', '_32971', '_72916', '_56189', '_24466', '_129877', '_98155', '_134760', '_92656', '_28689', '_97270', '_4566', '_40653', '_25656', '_24478', '_114520', '_57804', 'SID_103609979', 'SID_103547954', '_75425', '_60757', '_125888', '_61677', '_55132', '_6432', '_56013', '_120752', '_133164', '_38804', '_42104', '_60470', '_6452', '_20339', '_114428', '_55514', '_113649', '_9515', '_114015', '_125305', '_122690', '_2431', '_74167', '_90328', '_62364', '_113297', '_29193', '_95401', '_58408', '_53880', '_123329', '_60621', '_70876', '_60600', '_46687', '_133146', '_116700', '_106379', '_134443', '_61202', '_61062', '_6983', '_92789', '_63544', '_26872', '_110580', '_14440', '_7125', '_78857', '_57024', '_101231', '_61638', '_95434', '_303', '_110726', '_68913', '_123670', '_13984', '_60830', 'SID_103202725', '_61764', '_56883', '_61725', '_42670', '_113870', '_76711', '_55148', '_59523', '_114424', '_40840', '_125226', '_87829', '_62976', '_56002', '_21203', '_53101', '_22166', '_124482', '_46312', '_56820', '_55212', '_82813', '_57837', '_55448', '_55743', '_32147', '_23019', '_23739', '_114443', '_74531', '_11736', '_61765', '_31408', '_66684', '_61215', '_126320', '_62891', '_120605', '_123686', '_54811', '_55445', '_93108', '_256', '_55759', '_78883', '_58409', '_20453', '_14089', '_80680', '_16515', '_128239', '_11729', '_124523', '_109844', '_85412', '_10005', '_57284', '_25414', '_58733', '_59579', '_19663', '_58164', '_61455', '_109815', '_92931', '_61823', '_99860', '_31750', '_8639', '_72962', '_55767', '_40616', '_-_-pentazocine', '_104495', '_112407', '_63516', '_121417', '_7111', 'SID_103505598', '_90067', '_69284', '_24792', 'SID_103520828', '_62117', '_62793', '_78733', '_92610', '_73764', '_61176', '_70195', '_95961', '_61212', '_56876', '_134353', '_56382', '_61257', '_4378', '_81661', '_56632', '_67967', '_61250', '_55835', '_56784', '_81940', 'SID_103293205', '_103654', '_48731', '_4879', '_104338', '_85418', '_46365', '_61464', '_95288', '_39876', '_63506', '_2924', '_26669', '_134233', '_108667', '_60709', '_53403', '_12912', '_56843', '_65171', '_91112', '_125219', 'SID_242619949', '_55840', '_52113', '_73837', '_60508', '_12033', '_5619', '_42882', '_90771', '_57081', '_88645', '_56958', '_121168', '_38265', 'SID_103547953', '_50202', '_103519', '_43275', '_62829', '_50179', '_58643', '_90367', '_63203', 'SID_103608884', '_28330', '_109166', '_81651', '_128790', '_71628', '_7849', '_98754', '_48505', '_29286', '_124734', '_57107', '_90417', '_105242', '_104387', '_80791', '_102735', '_55498', '_18153', '_107307', 'SID_131283889', '_16111', '_28788', '_25393', '_40543', '_74064', '_20834', '_18002', '_75247', '_55240', '_16264', '_86755', '_109034', '_106450', '_23010', 'SID_164129460', '_25967', '_3972', '_15934', '_21590', '_60748', '_54793', '_120097', '_68510', '_20179', '_103639', '_78704', '_24395', '_60859', '_65499', '_105137', '_109176', '_73781', '_74954', '_60573', 'SID_103505605', '_14318', '_6499', '_42542', '_43133', '_27087', '_82514', '_10398', '_80612', '_56639', '_61173', '_55027', '_102747', '_16030', '_124989', '_108433', '_50017', '_15234', '_14122', '_121826', '_114967', '_42725', '_60987', '_68382', '_73684', '_112584', '_32744', '_43019', '_67891', '_86264', '_40293', '_59012', '_60789', '_50424', '_130385', '_21579', '_38258', '_120630', '_56152', '_37529', '_97904', 'endomorphin-1', '_55051', 'eluxadoline', '_65651', '_69872', '_134261', 'endomorphin-2', '_56800', '_47652', '_67159', '_64856', '_124850', '_87819', '_11082', '_87057', '_119624', '_128820', '_132175', '_19333', '_56466', '_69389', '_73798', '_57924', '_24906', '_66069', '_83876', '_24312', '_28254', '_112466', '_42671', '_120757', '_73531', '_18411', '_95609', '_53157', '_123421', '_61636', '_113268', '_5842', '_123842', '_55595', '_55615', '_16171', '_5934', '_33251', '_134272', '_100436', '_109126', 'SID_242619950', '_82351', '_55611', '_57686', '_81821', '_105451', '_62174', '_101654', '_84546', '_60589', '_59651', '_64072', '_59484', '_85609', '_121326', '_34023', '_123591', '_26151', '_64459', '_38929', '_6708', '_14719', '_57123', '_9529', '_48729', '_60713', '_27013', '_56004', '_133111', '_61718', '_110527', '_110578', '_47692', '_58248', 'SID_103505597', '_4630', '_39354', '_111580', '_59555', '_61003', '_132081', '_65225', '_18079', '_61439', '_27352', '_103678', '_20344', '_29953', '_56842', '_120698', '_55727', '_71648']\n",
      "1989\n"
     ]
    }
   ],
   "source": [
    "reference_docking_df = reference_docking_df.sort(\"bu72_ionized_pymol_RL_conformation\", ascending=False, inplace=False)\n",
    "reference_docking_df[\"sum\"] = reference_docking_df[reference_docking_df.columns[1]].add(reference_docking_df[reference_docking_df.columns[0]])\n",
    "reference_docking_df.sort(\"sum\", ascending=False, inplace=True)\n",
    "top_ligands = reference_docking_df.index.values[:1000]\n",
    "\n",
    "reference_docking_df[\"diff\"] = reference_docking_df[reference_docking_df.columns[1]].subtract(reference_docking_df[reference_docking_df.columns[0]])\n",
    "reference_docking_df.sort(\"diff\", ascending=False, inplace=True)\n",
    "\n",
    "top_ligands = list(set(top_ligands.tolist()).union(set(reference_docking_df.index.values.tolist()[:1000])))\n",
    "print(top_ligands)\n",
    "print(len(top_ligands))"
   ]
  },
  {
   "cell_type": "code",
   "execution_count": 32,
   "metadata": {
    "collapsed": false,
    "scrolled": true
   },
   "outputs": [
    {
     "data": {
      "text/html": [
       "<div>\n",
       "<table border=\"1\" class=\"dataframe\">\n",
       "  <thead>\n",
       "    <tr style=\"text-align: right;\">\n",
       "      <th></th>\n",
       "      <th>bu72_aligned_4DKL_R_L_conformation</th>\n",
       "      <th>bu72_ionized_pymol_RL_conformation</th>\n",
       "      <th>sum</th>\n",
       "      <th>diff</th>\n",
       "    </tr>\n",
       "  </thead>\n",
       "  <tbody>\n",
       "    <tr>\n",
       "      <th>SID_103547933</th>\n",
       "      <td>-0.00</td>\n",
       "      <td>8.72</td>\n",
       "      <td>8.72</td>\n",
       "      <td>8.72</td>\n",
       "    </tr>\n",
       "    <tr>\n",
       "      <th>_90021</th>\n",
       "      <td>-0.00</td>\n",
       "      <td>7.41</td>\n",
       "      <td>7.41</td>\n",
       "      <td>7.41</td>\n",
       "    </tr>\n",
       "    <tr>\n",
       "      <th>_99059</th>\n",
       "      <td>-0.00</td>\n",
       "      <td>6.81</td>\n",
       "      <td>6.81</td>\n",
       "      <td>6.81</td>\n",
       "    </tr>\n",
       "    <tr>\n",
       "      <th>_123923</th>\n",
       "      <td>-0.00</td>\n",
       "      <td>6.70</td>\n",
       "      <td>6.70</td>\n",
       "      <td>6.70</td>\n",
       "    </tr>\n",
       "    <tr>\n",
       "      <th>_124511</th>\n",
       "      <td>-0.00</td>\n",
       "      <td>6.66</td>\n",
       "      <td>6.66</td>\n",
       "      <td>6.66</td>\n",
       "    </tr>\n",
       "    <tr>\n",
       "      <th>_120698</th>\n",
       "      <td>-0.00</td>\n",
       "      <td>6.64</td>\n",
       "      <td>6.64</td>\n",
       "      <td>6.64</td>\n",
       "    </tr>\n",
       "    <tr>\n",
       "      <th>_8447</th>\n",
       "      <td>-0.00</td>\n",
       "      <td>6.57</td>\n",
       "      <td>6.57</td>\n",
       "      <td>6.57</td>\n",
       "    </tr>\n",
       "    <tr>\n",
       "      <th>_131257</th>\n",
       "      <td>-0.00</td>\n",
       "      <td>6.53</td>\n",
       "      <td>6.53</td>\n",
       "      <td>6.53</td>\n",
       "    </tr>\n",
       "    <tr>\n",
       "      <th>_23537</th>\n",
       "      <td>-0.00</td>\n",
       "      <td>6.49</td>\n",
       "      <td>6.49</td>\n",
       "      <td>6.49</td>\n",
       "    </tr>\n",
       "    <tr>\n",
       "      <th>_40881</th>\n",
       "      <td>-0.00</td>\n",
       "      <td>6.48</td>\n",
       "      <td>6.48</td>\n",
       "      <td>6.48</td>\n",
       "    </tr>\n",
       "    <tr>\n",
       "      <th>_93511</th>\n",
       "      <td>-0.00</td>\n",
       "      <td>6.39</td>\n",
       "      <td>6.39</td>\n",
       "      <td>6.39</td>\n",
       "    </tr>\n",
       "    <tr>\n",
       "      <th>_93559</th>\n",
       "      <td>-0.00</td>\n",
       "      <td>6.30</td>\n",
       "      <td>6.30</td>\n",
       "      <td>6.30</td>\n",
       "    </tr>\n",
       "    <tr>\n",
       "      <th>_74803</th>\n",
       "      <td>-0.00</td>\n",
       "      <td>6.28</td>\n",
       "      <td>6.28</td>\n",
       "      <td>6.28</td>\n",
       "    </tr>\n",
       "    <tr>\n",
       "      <th>_256</th>\n",
       "      <td>-0.00</td>\n",
       "      <td>6.26</td>\n",
       "      <td>6.26</td>\n",
       "      <td>6.26</td>\n",
       "    </tr>\n",
       "    <tr>\n",
       "      <th>_27097</th>\n",
       "      <td>-0.00</td>\n",
       "      <td>6.26</td>\n",
       "      <td>6.26</td>\n",
       "      <td>6.26</td>\n",
       "    </tr>\n",
       "    <tr>\n",
       "      <th>_26734</th>\n",
       "      <td>-0.00</td>\n",
       "      <td>6.25</td>\n",
       "      <td>6.25</td>\n",
       "      <td>6.25</td>\n",
       "    </tr>\n",
       "    <tr>\n",
       "      <th>_42542</th>\n",
       "      <td>-0.00</td>\n",
       "      <td>6.24</td>\n",
       "      <td>6.24</td>\n",
       "      <td>6.24</td>\n",
       "    </tr>\n",
       "    <tr>\n",
       "      <th>_30284</th>\n",
       "      <td>-0.00</td>\n",
       "      <td>6.24</td>\n",
       "      <td>6.24</td>\n",
       "      <td>6.24</td>\n",
       "    </tr>\n",
       "    <tr>\n",
       "      <th>_132970</th>\n",
       "      <td>-0.00</td>\n",
       "      <td>6.15</td>\n",
       "      <td>6.15</td>\n",
       "      <td>6.15</td>\n",
       "    </tr>\n",
       "    <tr>\n",
       "      <th>_39443</th>\n",
       "      <td>-0.00</td>\n",
       "      <td>6.11</td>\n",
       "      <td>6.11</td>\n",
       "      <td>6.11</td>\n",
       "    </tr>\n",
       "    <tr>\n",
       "      <th>_112022</th>\n",
       "      <td>-0.00</td>\n",
       "      <td>6.10</td>\n",
       "      <td>6.10</td>\n",
       "      <td>6.10</td>\n",
       "    </tr>\n",
       "    <tr>\n",
       "      <th>_3972</th>\n",
       "      <td>-0.00</td>\n",
       "      <td>5.99</td>\n",
       "      <td>5.99</td>\n",
       "      <td>5.99</td>\n",
       "    </tr>\n",
       "    <tr>\n",
       "      <th>_59826</th>\n",
       "      <td>-0.00</td>\n",
       "      <td>5.95</td>\n",
       "      <td>5.95</td>\n",
       "      <td>5.95</td>\n",
       "    </tr>\n",
       "    <tr>\n",
       "      <th>SID_103451051</th>\n",
       "      <td>-0.00</td>\n",
       "      <td>5.94</td>\n",
       "      <td>5.94</td>\n",
       "      <td>5.94</td>\n",
       "    </tr>\n",
       "    <tr>\n",
       "      <th>_42098</th>\n",
       "      <td>-0.00</td>\n",
       "      <td>5.94</td>\n",
       "      <td>5.94</td>\n",
       "      <td>5.94</td>\n",
       "    </tr>\n",
       "    <tr>\n",
       "      <th>_40543</th>\n",
       "      <td>-0.00</td>\n",
       "      <td>5.93</td>\n",
       "      <td>5.93</td>\n",
       "      <td>5.93</td>\n",
       "    </tr>\n",
       "    <tr>\n",
       "      <th>_86865</th>\n",
       "      <td>-0.00</td>\n",
       "      <td>5.88</td>\n",
       "      <td>5.88</td>\n",
       "      <td>5.88</td>\n",
       "    </tr>\n",
       "    <tr>\n",
       "      <th>_125835</th>\n",
       "      <td>-0.00</td>\n",
       "      <td>5.86</td>\n",
       "      <td>5.86</td>\n",
       "      <td>5.86</td>\n",
       "    </tr>\n",
       "    <tr>\n",
       "      <th>_105250</th>\n",
       "      <td>-0.00</td>\n",
       "      <td>5.86</td>\n",
       "      <td>5.86</td>\n",
       "      <td>5.86</td>\n",
       "    </tr>\n",
       "    <tr>\n",
       "      <th>_8881</th>\n",
       "      <td>-0.00</td>\n",
       "      <td>5.83</td>\n",
       "      <td>5.83</td>\n",
       "      <td>5.83</td>\n",
       "    </tr>\n",
       "    <tr>\n",
       "      <th>...</th>\n",
       "      <td>...</td>\n",
       "      <td>...</td>\n",
       "      <td>...</td>\n",
       "      <td>...</td>\n",
       "    </tr>\n",
       "    <tr>\n",
       "      <th>_38528</th>\n",
       "      <td>-0.00</td>\n",
       "      <td>4.96</td>\n",
       "      <td>4.96</td>\n",
       "      <td>4.96</td>\n",
       "    </tr>\n",
       "    <tr>\n",
       "      <th>_26669</th>\n",
       "      <td>-0.00</td>\n",
       "      <td>4.91</td>\n",
       "      <td>4.91</td>\n",
       "      <td>4.91</td>\n",
       "    </tr>\n",
       "    <tr>\n",
       "      <th>_47652</th>\n",
       "      <td>-0.00</td>\n",
       "      <td>4.91</td>\n",
       "      <td>4.91</td>\n",
       "      <td>4.91</td>\n",
       "    </tr>\n",
       "    <tr>\n",
       "      <th>_123911</th>\n",
       "      <td>-0.00</td>\n",
       "      <td>4.88</td>\n",
       "      <td>4.88</td>\n",
       "      <td>4.88</td>\n",
       "    </tr>\n",
       "    <tr>\n",
       "      <th>_42104</th>\n",
       "      <td>-0.00</td>\n",
       "      <td>4.75</td>\n",
       "      <td>4.75</td>\n",
       "      <td>4.75</td>\n",
       "    </tr>\n",
       "    <tr>\n",
       "      <th>_106162</th>\n",
       "      <td>-0.00</td>\n",
       "      <td>4.73</td>\n",
       "      <td>4.73</td>\n",
       "      <td>4.73</td>\n",
       "    </tr>\n",
       "    <tr>\n",
       "      <th>_39885</th>\n",
       "      <td>-0.00</td>\n",
       "      <td>4.65</td>\n",
       "      <td>4.65</td>\n",
       "      <td>4.65</td>\n",
       "    </tr>\n",
       "    <tr>\n",
       "      <th>_118249</th>\n",
       "      <td>-0.00</td>\n",
       "      <td>4.65</td>\n",
       "      <td>4.65</td>\n",
       "      <td>4.65</td>\n",
       "    </tr>\n",
       "    <tr>\n",
       "      <th>_58036</th>\n",
       "      <td>-0.00</td>\n",
       "      <td>4.62</td>\n",
       "      <td>4.62</td>\n",
       "      <td>4.62</td>\n",
       "    </tr>\n",
       "    <tr>\n",
       "      <th>_131692</th>\n",
       "      <td>-0.00</td>\n",
       "      <td>4.60</td>\n",
       "      <td>4.60</td>\n",
       "      <td>4.60</td>\n",
       "    </tr>\n",
       "    <tr>\n",
       "      <th>_83032</th>\n",
       "      <td>-0.00</td>\n",
       "      <td>4.51</td>\n",
       "      <td>4.51</td>\n",
       "      <td>4.51</td>\n",
       "    </tr>\n",
       "    <tr>\n",
       "      <th>_117058</th>\n",
       "      <td>-0.00</td>\n",
       "      <td>4.50</td>\n",
       "      <td>4.50</td>\n",
       "      <td>4.50</td>\n",
       "    </tr>\n",
       "    <tr>\n",
       "      <th>_82813</th>\n",
       "      <td>-0.00</td>\n",
       "      <td>4.36</td>\n",
       "      <td>4.36</td>\n",
       "      <td>4.36</td>\n",
       "    </tr>\n",
       "    <tr>\n",
       "      <th>_43049</th>\n",
       "      <td>-0.00</td>\n",
       "      <td>4.34</td>\n",
       "      <td>4.34</td>\n",
       "      <td>4.34</td>\n",
       "    </tr>\n",
       "    <tr>\n",
       "      <th>_52162</th>\n",
       "      <td>-0.00</td>\n",
       "      <td>4.25</td>\n",
       "      <td>4.25</td>\n",
       "      <td>4.25</td>\n",
       "    </tr>\n",
       "    <tr>\n",
       "      <th>_19296</th>\n",
       "      <td>-0.00</td>\n",
       "      <td>4.12</td>\n",
       "      <td>4.12</td>\n",
       "      <td>4.12</td>\n",
       "    </tr>\n",
       "    <tr>\n",
       "      <th>_97373</th>\n",
       "      <td>-0.00</td>\n",
       "      <td>4.12</td>\n",
       "      <td>4.12</td>\n",
       "      <td>4.12</td>\n",
       "    </tr>\n",
       "    <tr>\n",
       "      <th>_120757</th>\n",
       "      <td>-0.00</td>\n",
       "      <td>3.88</td>\n",
       "      <td>3.88</td>\n",
       "      <td>3.88</td>\n",
       "    </tr>\n",
       "    <tr>\n",
       "      <th>_49741</th>\n",
       "      <td>-0.00</td>\n",
       "      <td>3.87</td>\n",
       "      <td>3.87</td>\n",
       "      <td>3.87</td>\n",
       "    </tr>\n",
       "    <tr>\n",
       "      <th>_121928</th>\n",
       "      <td>-0.00</td>\n",
       "      <td>3.81</td>\n",
       "      <td>3.81</td>\n",
       "      <td>3.81</td>\n",
       "    </tr>\n",
       "    <tr>\n",
       "      <th>_58162</th>\n",
       "      <td>4.98</td>\n",
       "      <td>8.78</td>\n",
       "      <td>13.76</td>\n",
       "      <td>3.80</td>\n",
       "    </tr>\n",
       "    <tr>\n",
       "      <th>_111043</th>\n",
       "      <td>3.13</td>\n",
       "      <td>6.91</td>\n",
       "      <td>10.04</td>\n",
       "      <td>3.78</td>\n",
       "    </tr>\n",
       "    <tr>\n",
       "      <th>_128790</th>\n",
       "      <td>2.16</td>\n",
       "      <td>5.93</td>\n",
       "      <td>8.09</td>\n",
       "      <td>3.77</td>\n",
       "    </tr>\n",
       "    <tr>\n",
       "      <th>_50179</th>\n",
       "      <td>-0.00</td>\n",
       "      <td>3.63</td>\n",
       "      <td>3.63</td>\n",
       "      <td>3.63</td>\n",
       "    </tr>\n",
       "    <tr>\n",
       "      <th>_68961</th>\n",
       "      <td>2.66</td>\n",
       "      <td>6.17</td>\n",
       "      <td>8.83</td>\n",
       "      <td>3.51</td>\n",
       "    </tr>\n",
       "    <tr>\n",
       "      <th>_73103</th>\n",
       "      <td>-0.00</td>\n",
       "      <td>3.39</td>\n",
       "      <td>3.39</td>\n",
       "      <td>3.39</td>\n",
       "    </tr>\n",
       "    <tr>\n",
       "      <th>_27003</th>\n",
       "      <td>5.24</td>\n",
       "      <td>8.49</td>\n",
       "      <td>13.73</td>\n",
       "      <td>3.25</td>\n",
       "    </tr>\n",
       "    <tr>\n",
       "      <th>_128820</th>\n",
       "      <td>-0.00</td>\n",
       "      <td>3.23</td>\n",
       "      <td>3.23</td>\n",
       "      <td>3.23</td>\n",
       "    </tr>\n",
       "    <tr>\n",
       "      <th>_15189</th>\n",
       "      <td>3.88</td>\n",
       "      <td>6.99</td>\n",
       "      <td>10.87</td>\n",
       "      <td>3.11</td>\n",
       "    </tr>\n",
       "    <tr>\n",
       "      <th>_134252</th>\n",
       "      <td>3.76</td>\n",
       "      <td>6.78</td>\n",
       "      <td>10.54</td>\n",
       "      <td>3.02</td>\n",
       "    </tr>\n",
       "  </tbody>\n",
       "</table>\n",
       "<p>100 rows × 4 columns</p>\n",
       "</div>"
      ],
      "text/plain": [
       "               bu72_aligned_4DKL_R_L_conformation  \\\n",
       "SID_103547933                               -0.00   \n",
       "_90021                                      -0.00   \n",
       "_99059                                      -0.00   \n",
       "_123923                                     -0.00   \n",
       "_124511                                     -0.00   \n",
       "_120698                                     -0.00   \n",
       "_8447                                       -0.00   \n",
       "_131257                                     -0.00   \n",
       "_23537                                      -0.00   \n",
       "_40881                                      -0.00   \n",
       "_93511                                      -0.00   \n",
       "_93559                                      -0.00   \n",
       "_74803                                      -0.00   \n",
       "_256                                        -0.00   \n",
       "_27097                                      -0.00   \n",
       "_26734                                      -0.00   \n",
       "_42542                                      -0.00   \n",
       "_30284                                      -0.00   \n",
       "_132970                                     -0.00   \n",
       "_39443                                      -0.00   \n",
       "_112022                                     -0.00   \n",
       "_3972                                       -0.00   \n",
       "_59826                                      -0.00   \n",
       "SID_103451051                               -0.00   \n",
       "_42098                                      -0.00   \n",
       "_40543                                      -0.00   \n",
       "_86865                                      -0.00   \n",
       "_125835                                     -0.00   \n",
       "_105250                                     -0.00   \n",
       "_8881                                       -0.00   \n",
       "...                                           ...   \n",
       "_38528                                      -0.00   \n",
       "_26669                                      -0.00   \n",
       "_47652                                      -0.00   \n",
       "_123911                                     -0.00   \n",
       "_42104                                      -0.00   \n",
       "_106162                                     -0.00   \n",
       "_39885                                      -0.00   \n",
       "_118249                                     -0.00   \n",
       "_58036                                      -0.00   \n",
       "_131692                                     -0.00   \n",
       "_83032                                      -0.00   \n",
       "_117058                                     -0.00   \n",
       "_82813                                      -0.00   \n",
       "_43049                                      -0.00   \n",
       "_52162                                      -0.00   \n",
       "_19296                                      -0.00   \n",
       "_97373                                      -0.00   \n",
       "_120757                                     -0.00   \n",
       "_49741                                      -0.00   \n",
       "_121928                                     -0.00   \n",
       "_58162                                       4.98   \n",
       "_111043                                      3.13   \n",
       "_128790                                      2.16   \n",
       "_50179                                      -0.00   \n",
       "_68961                                       2.66   \n",
       "_73103                                      -0.00   \n",
       "_27003                                       5.24   \n",
       "_128820                                     -0.00   \n",
       "_15189                                       3.88   \n",
       "_134252                                      3.76   \n",
       "\n",
       "               bu72_ionized_pymol_RL_conformation    sum  diff  \n",
       "SID_103547933                                8.72   8.72  8.72  \n",
       "_90021                                       7.41   7.41  7.41  \n",
       "_99059                                       6.81   6.81  6.81  \n",
       "_123923                                      6.70   6.70  6.70  \n",
       "_124511                                      6.66   6.66  6.66  \n",
       "_120698                                      6.64   6.64  6.64  \n",
       "_8447                                        6.57   6.57  6.57  \n",
       "_131257                                      6.53   6.53  6.53  \n",
       "_23537                                       6.49   6.49  6.49  \n",
       "_40881                                       6.48   6.48  6.48  \n",
       "_93511                                       6.39   6.39  6.39  \n",
       "_93559                                       6.30   6.30  6.30  \n",
       "_74803                                       6.28   6.28  6.28  \n",
       "_256                                         6.26   6.26  6.26  \n",
       "_27097                                       6.26   6.26  6.26  \n",
       "_26734                                       6.25   6.25  6.25  \n",
       "_42542                                       6.24   6.24  6.24  \n",
       "_30284                                       6.24   6.24  6.24  \n",
       "_132970                                      6.15   6.15  6.15  \n",
       "_39443                                       6.11   6.11  6.11  \n",
       "_112022                                      6.10   6.10  6.10  \n",
       "_3972                                        5.99   5.99  5.99  \n",
       "_59826                                       5.95   5.95  5.95  \n",
       "SID_103451051                                5.94   5.94  5.94  \n",
       "_42098                                       5.94   5.94  5.94  \n",
       "_40543                                       5.93   5.93  5.93  \n",
       "_86865                                       5.88   5.88  5.88  \n",
       "_125835                                      5.86   5.86  5.86  \n",
       "_105250                                      5.86   5.86  5.86  \n",
       "_8881                                        5.83   5.83  5.83  \n",
       "...                                           ...    ...   ...  \n",
       "_38528                                       4.96   4.96  4.96  \n",
       "_26669                                       4.91   4.91  4.91  \n",
       "_47652                                       4.91   4.91  4.91  \n",
       "_123911                                      4.88   4.88  4.88  \n",
       "_42104                                       4.75   4.75  4.75  \n",
       "_106162                                      4.73   4.73  4.73  \n",
       "_39885                                       4.65   4.65  4.65  \n",
       "_118249                                      4.65   4.65  4.65  \n",
       "_58036                                       4.62   4.62  4.62  \n",
       "_131692                                      4.60   4.60  4.60  \n",
       "_83032                                       4.51   4.51  4.51  \n",
       "_117058                                      4.50   4.50  4.50  \n",
       "_82813                                       4.36   4.36  4.36  \n",
       "_43049                                       4.34   4.34  4.34  \n",
       "_52162                                       4.25   4.25  4.25  \n",
       "_19296                                       4.12   4.12  4.12  \n",
       "_97373                                       4.12   4.12  4.12  \n",
       "_120757                                      3.88   3.88  3.88  \n",
       "_49741                                       3.87   3.87  3.87  \n",
       "_121928                                      3.81   3.81  3.81  \n",
       "_58162                                       8.78  13.76  3.80  \n",
       "_111043                                      6.91  10.04  3.78  \n",
       "_128790                                      5.93   8.09  3.77  \n",
       "_50179                                       3.63   3.63  3.63  \n",
       "_68961                                       6.17   8.83  3.51  \n",
       "_73103                                       3.39   3.39  3.39  \n",
       "_27003                                       8.49  13.73  3.25  \n",
       "_128820                                      3.23   3.23  3.23  \n",
       "_15189                                       6.99  10.87  3.11  \n",
       "_134252                                      6.78  10.54  3.02  \n",
       "\n",
       "[100 rows x 4 columns]"
      ]
     },
     "execution_count": 32,
     "metadata": {},
     "output_type": "execute_result"
    }
   ],
   "source": [
    "reference_docking_df.iloc[:100]"
   ]
  },
  {
   "cell_type": "code",
   "execution_count": 29,
   "metadata": {
    "collapsed": false
   },
   "outputs": [
    {
     "name": "stdout",
     "output_type": "stream",
     "text": [
      "About to do 831 Docking computations.\n",
      "Completed docking.\n"
     ]
    }
   ],
   "source": [
    "from importlib import reload\n",
    "import grids\n",
    "reload(grids)\n",
    "from grids import *\n",
    "\n",
    "reference_grids_dir = \"/home/enf/md_simulations/MOR/docking/reference_grids\"\n",
    "reference_docking_dir = \"/home/enf/md_simulations/MOR/docking/reference_docking_%s\" %precision\n",
    "\n",
    "\n",
    "ref_receptors_dir = \"/home/enf/md_simulations/MOR/bu72_ref_receptors/conformation\"\n",
    "active_ref_dir = \"%s/bu72_ionized_pymol_RL_conformation.pdb\" %ref_receptors_dir\n",
    "inactive_ref_dir = \"%s/bu72_aligned_4DKL_R_L_conformation.pdb\" %ref_receptors_dir\n",
    "\n",
    "base_docking_dir = \"/home/enf/md_simulations/MOR/h8_reimaged/sparse-tICA_t50_n_components10all_residues_4dkl_5c1m_under_cutoff6A-CA-py3-far_regularization_wolf_autoShrinkage0pt01-backup/docking_100clusters\"\n",
    "if not os.path.exists(base_docking_dir):\n",
    "    os.makedirs(base_docking_dir)\n",
    "\n",
    "#base_docking_dir = \"/home/enf/md_simulations/MOR/docking\"\n",
    "\n",
    "grid_center = \"0.33, 1.64, 9.\"\n",
    "\n",
    "#samples_dir = \"%s/conformations\" %base_docking_dir\n",
    "samples_dir = \"/home/enf/md_simulations/MOR/h8_reimaged/sparse-tICA_t50_n_components10all_residues_4dkl_5c1m_under_cutoff6A-CA-py3-far_regularization_wolf_autoShrinkage0pt01-backup/all_clusterer_100clusters_1samples_samples_kdtree\"\n",
    "ligands_dir = \"/home/enf/md_simulations/MOR/docking/ligands\"\n",
    "if not os.path.exists(ligands_dir):\n",
    "    os.makedirs(ligands_dir)\n",
    "\n",
    "grid_dir = \"%s/grids\" %base_docking_dir\n",
    "if not os.path.exists(grid_dir):\n",
    "    os.makedirs(grid_dir)\n",
    "precision = \"XP\"\n",
    "docking_dir = \"%s/docking_%s\" %(base_docking_dir, precision)\n",
    "if not os.path.exists(docking_dir):\n",
    "    os.makedirs(docking_dir)\n",
    "\n",
    "reimaged_dir = samples_dir\n",
    "mae_dir = reimaged_dir\n",
    "#remove_ter(reimaged_dir)\n",
    "#reorder(reimaged_dir)\n",
    "\n",
    "#pprep(mae_dir, ref = active_ref_dir, chosen_receptors = None, worker_pool=None, parallel=True)\n",
    "\n",
    "#generate_grids(mae_dir, grid_center, grid_dir, remove_lig = \"LIG\", chosen_receptors = None, worker_pool=None, outer_box=25., parallel=True)\n",
    "\n",
    "#ligand_df = prepare_ligands(ligands_dir, exts = [\".mol\", \".sdf\"],\n",
    "#                n_ring_conf=1, n_stereoisomers=1,\n",
    "#                force_field=16, worker_pool=None,\n",
    "#                parallel=True, redo=False,\n",
    "#                smiles_df=None)#, cid_df=ligand_df,\n",
    "#               #binding_db=None)\n",
    "\n",
    "#prepare_ligands(ligands_dir, exts = [\".mae\", \".mol\"],\n",
    "#                n_ring_conf=1, n_stereoisomers=1,\n",
    "#                force_field=16, worker_pool=dview,\n",
    "#                parallel=False, redo=False,\n",
    "#                smiles_df=None, cid_df=None,\n",
    "#                binding_db=None)#binding_db[['PubChem CID', 'PubChem SID',\n",
    "#                #'ChEMBL ID of Ligand', 'Ligand SMILES']])\n",
    "\n",
    "#ligands_dir = htbc_dir\n",
    "\n",
    "chosen_ligands = list(set(get_ligands(ligands_dir, \".sdf\") + get_ligands(ligands_dir, \".mol\")))\n",
    "dock_ligands_and_receptors(grid_dir, docking_dir, ligands_dir,\n",
    "                           precision = precision, ext = \"-out.maegz\",\n",
    "                           chosen_ligands=chosen_ligands, chosen_receptors = None, parallel = False,\n",
    "                           grid_ext = \".zip\", worker_pool=dview, retry_after_failed=True,timeout=60*60*24)\n",
    "\n",
    "#dock_ligands_and_receptors(grid_dir, docking_dir,  biased_agonist_dir, precision = precision, ext = \"-out.maegz\", chosen_ligands = biased_ligands, chosen_receptors = chosen_receptors, parallel = None, grid_ext = \".grd\", worker_pool=dview)\n",
    "#dock_ligands_and_receptors(grid_dir, docking_dir, agonist_dir, precision = precision, ext = \"-out.maegz\", chosen_ligands = agonist_ligands, chosen_receptors = chosen_receptors, parallel = None, grid_ext = \".grd\", worker_pool=dview)\n"
   ]
  },
  {
   "cell_type": "code",
   "execution_count": 24,
   "metadata": {
    "collapsed": false
   },
   "outputs": [
    {
     "data": {
      "text/plain": [
       "['14-phenylpropoxymetopon',\n",
       " '6,14-endoethenotetrahydrooripavine',\n",
       " '6beta-naltrexol-d4',\n",
       " 'alpha-methylacetylfentanyl',\n",
       " 'beta-funaltrexamine',\n",
       " 'betahydroxythiofentanyl',\n",
       " 'c-8813',\n",
       " 'dimethylaminopivalophenone',\n",
       " 'dioxaphetyl_butyrate',\n",
       " 'methylketobemidone',\n",
       " 'mitragynine_pseudoindoxyl',\n",
       " 'prosidol',\n",
       " 'r-4066',\n",
       " 'ro4-1539',\n",
       " 'sc-17599',\n",
       " 'trimu_5']"
      ]
     },
     "execution_count": 24,
     "metadata": {},
     "output_type": "execute_result"
    }
   ],
   "source": [
    "\n",
    "chosen_ligands = get_ligands(ligands_dir, \".sdf\")\n",
    "\n",
    "\n",
    "chosen_ligands"
   ]
  },
  {
   "cell_type": "code",
   "execution_count": 34,
   "metadata": {
    "collapsed": false
   },
   "outputs": [
    {
     "data": {
      "text/plain": [
       "1989"
      ]
     },
     "execution_count": 34,
     "metadata": {},
     "output_type": "execute_result"
    }
   ],
   "source": [
    "len(top_ligands)"
   ]
  },
  {
   "cell_type": "code",
   "execution_count": 20,
   "metadata": {
    "collapsed": false
   },
   "outputs": [
    {
     "name": "stdout",
     "output_type": "stream",
     "text": [
      "About to do 508 Docking computations.\n",
      "Completed docking.\n"
     ]
    }
   ],
   "source": [
    "precision = \"XP\"\n",
    "reference_grids_dir = \"/home/enf/md_simulations/MOR/docking/reference_grids\"\n",
    "reference_docking_dir = \"/home/enf/md_simulations/MOR/docking/reference_docking_%s\" %precision\n",
    "\n",
    "ligands_dir = \"/home/enf/md_simulations/MOR/docking/ligands\"\n",
    "        \n",
    "dock_ligands_and_receptors(reference_grids_dir, reference_docking_dir, ligands_dir,\n",
    "                           precision = precision, ext = \"-out.maegz\",\n",
    "                           chosen_ligands=False, chosen_receptors = None, parallel = False,\n",
    "                           grid_ext = \".zip\", worker_pool=dview, retry_after_failed=True)"
   ]
  },
  {
   "cell_type": "code",
   "execution_count": null,
   "metadata": {
    "collapsed": true
   },
   "outputs": [],
   "source": [
    "docking_df, poses_df = analyze_docking_results_in_dir(docking_dir, ligands_dir, write_to_disk=False, redo=True)\n",
    "docking_df = docking_df.transpose()"
   ]
  },
  {
   "cell_type": "code",
   "execution_count": 17,
   "metadata": {
    "collapsed": true
   },
   "outputs": [],
   "source": [
    "pd.set_option('display.max_rows', None)\n",
    "pd.set_option('display.max_columns', None)"
   ]
  },
  {
   "cell_type": "code",
   "execution_count": null,
   "metadata": {
    "collapsed": true
   },
   "outputs": [],
   "source": [
    "from sklearn.preprocessing import binarize\n",
    "\n",
    "common_ligands = [n for n in ligand_df.ligand.values if n in docking_df.index.values]\n",
    "\n",
    "top_clusters = docking_df.columns.values\n",
    "\n",
    "classes = ligand_df[\"type\"].values.tolist()\n",
    "class_labels = []\n",
    "for label in classes:\n",
    "    if \"antagonist\" in label.lower():\n",
    "        class_labels.append(0.)\n",
    "    elif \"partial\" in label.lower():\n",
    "        class_labels.append(1.)\n",
    "    else:\n",
    "        class_labels.append(2.)\n",
    "ligand_df[\"label\"] = class_labels\n",
    "\n",
    "y = ligand_df.loc[common_ligands].label.values\n",
    "\n",
    "C_df = docking_df.loc[common_ligands][n for n in docking_df.columns.values.tolist() if \"cluster\" not in n]\n",
    "C_df[\"difference\"] = C_df[C_df.columns[0]].subtract(C_df[C_df.columns[1]])\n",
    "\n",
    "X_df = docking_df.loc[common_ligands][top_clusters]\n",
    "\n",
    "C_df = standardize_df(C_df)\n",
    "X_df = standardize_df(X_df)\n",
    "\n",
    "C = C_df.values\n",
    "X = X_df.values\n",
    "\n",
    "X_diff = np.zeros((X.shape[0], X.shape[1]**2/2))\n",
    "k=0\n",
    "for i in range(0,X.shape[1]):\n",
    "    for j in range(i+1,X.shape[1]):\n",
    "        X_diff[:,k] = X[:,i] - X[:,j]\n",
    "        k+=1\n",
    "X_diff = np.hstack([X_scaled, X_diff, C*-1.0])\n",
    "\n",
    "features = [C, X]\n",
    "feature_names = [\"Crystal Structures\", \"MSM Docking\"]"
   ]
  },
  {
   "cell_type": "code",
   "execution_count": null,
   "metadata": {
    "collapsed": true
   },
   "outputs": [],
   "source": [
    "results_dict = {}\n",
    "n_trials = 100\n",
    "train_test_split_prop = 0.8\n",
    "\n",
    "save_name = \"three_class_logistic_cv_trials%d_split%s.pkl\" %(n_trials, str(train_test_split_prop))\n",
    "results_dict[save_name] = generate_or_load_model(features, y, feature_names, n_trials, train_test_split_prop, False, \"logistic_cv\", \"%s/%s.pkl\" %(analysis_dir, save_name), redo=True)\n",
    "\n",
    "analyze_multiclass_experiment(results_dict[save_name], \n",
    "                              [\"Crystal Structures\", \"MSM Docking\"],\n",
    "                              top_clusters, common_ligands, analysis_dir,\n",
    "                              [\"Antagonists\", \"Partial Agonists\", \"Agonists\"], X_scaled, \n",
    "                              exp_title=\"Ligand Class\", coef_name=\"Logistic Coefficient\")"
   ]
  },
  {
   "cell_type": "code",
   "execution_count": null,
   "metadata": {
    "collapsed": true
   },
   "outputs": [],
   "source": [
    "classes = ligand_df[\"type\"].values.tolist()\n",
    "class_labels = []\n",
    "for label in classes:\n",
    "    if \"antagonist\" in label.lower():\n",
    "        class_labels.append(0.)\n",
    "    else:\n",
    "        class_labels.append(1.)\n",
    "ligand_df[\"label\"] = class_labels\n",
    "y = ligand_df.loc[common_ligands].label.values\n",
    "\n",
    "save_name = \"two_class_logistic_cv_trials%d_split%s.pkl\" %(n_trials, str(train_test_split_prop))\n",
    "results_dict[save_name] = generate_or_load_model(features, y, feature_names, n_trials, train_test_split_prop, False, \"logistic_cv\", \"%s/%s.pkl\" %(analysis_dir, save_name), redo=True)\n",
    "\n",
    "analyze_multiclass_experiment(results_dict[save_name], \n",
    "                              [\"Crystal Structures\", \"MSM Docking\"],\n",
    "                              top_clusters, common_ligands, analysis_dir,\n",
    "                              [\"Antagonists\", \"Agonists\"], X_scaled, \n",
    "                              exp_title=\"Ligand Class\", coef_name=\"Logistic Coefficient\")\n"
   ]
  },
  {
   "cell_type": "code",
   "execution_count": null,
   "metadata": {
    "collapsed": false
   },
   "outputs": [],
   "source": [
    "n_trials = 1000\n",
    "\n",
    "y = multi_binarizer(y_gpr, [0.33, 0.66])\n",
    "gprot_results_t1000_multi0pt33_0pt66_split0pt6_logistic_2f = do_classification_experiment(features, y, feature_names, n_trials, 0.6, regularize=False, model=\"logistic_cv\")\n",
    "with open(\"%s/gprot_results_t1000_multi0pt33_0pt66_split0pt6_logistic_2f.pkl\" %analysis_dir, \"wb\") as f:\n",
    "    pickle.dump(gprot_results_t1000_multi0pt33_0pt66_split0pt6_logistic_2f, f)\n",
    "\n",
    "y = multi_binarizer(y_arr, [0.33, 0.66])\n",
    "arr_results_t1000_multi0pt33_0pt66_split0pt6_logistic_2f = do_classification_experiment(features, y, feature_names, n_trials, 0.6, regularize=False, model=\"logistic_cv\")\n",
    "with open(\"%s/arr_results_t1000_multi0pt33_0pt66_split0pt6_logistic_2f.pkl\" %analysis_dir, \"wb\") as f:\n",
    "    pickle.dump(arr_results_t1000_multi0pt33_0pt66_split0pt6_logistic_2f, f)\n",
    "\n",
    "print(np.median(np.array(gprot_results_t1000_multi0pt33_0pt66_split0pt6_logistic_2f[\"test_roc_aucs\"]), axis=0))\n",
    "print(np.median(np.array(arr_results_t1000_multi0pt33_0pt66_split0pt6_logistic_2f[\"test_roc_aucs\"]), axis=0))\n",
    "    \n",
    "    \n",
    "y = multi_binarizer(y_gpr, [0.2, 0.8])\n",
    "gprot_results_t1000_multi0pt2_0pt8_split0pt6_logistic_2f = do_classification_experiment(features, y, feature_names, n_trials, 0.6, regularize=False, model=\"logistic_cv\")\n",
    "with open(\"%s/gprot_results_t1000_multi0pt2_0pt8_split0pt6_logistic_2f.pkl\" %analysis_dir, \"wb\") as f:\n",
    "    pickle.dump(gprot_results_t1000_multi0pt2_0pt8_split0pt6_logistic_2f, f)\n",
    "\n",
    "y = multi_binarizer(y_arr, [0.2, 0.8])\n",
    "arr_results_t1000_multi0pt2_0pt8_split0pt6_logistic_2f = do_classification_experiment(features, y, feature_names, n_trials, 0.6, regularize=False, model=\"logistic_cv\")\n",
    "with open(\"%s/arr_results_t1000_multi0pt2_0pt8_split0pt6_logistic_2f.pkl\" %analysis_dir, \"wb\") as f:\n",
    "    pickle.dump(arr_results_t1000_multi0pt2_0pt8_split0pt6_logistic_2f, f)\n",
    "\n",
    "print(np.median(np.array(gprot_results_t1000_multi0pt2_0pt8_split0pt6_logistic_2f[\"test_roc_aucs\"]), axis=0))\n",
    "print(np.median(np.array(arr_results_t1000_multi0pt2_0pt8_split0pt6_logistic_2f[\"test_roc_aucs\"]), axis=0))   \n",
    "\n",
    "y = multi_binarizer(y_gpr, [0.5])\n",
    "gprot_results_t1000_single0pt5_split0pt6_logistic_2f = do_classification_experiment(features, y, feature_names, n_trials, 0.6, regularize=False, model=\"logistic_cv\")\n",
    "with open(\"%s/gprot_results_t1000_single0pt5_split0pt6_logistic_2f.pkl\" %analysis_dir, \"wb\") as f:\n",
    "    pickle.dump(gprot_results_t1000_single0pt5_split0pt6_logistic_2f, f)\n",
    "\n",
    "y = multi_binarizer(y_arr, [0.5])\n",
    "arr_results_t1000_single0pt5_split0pt6_logistic_2f = do_classification_experiment(features, y, feature_names, n_trials, 0.6, regularize=False, model=\"logistic_cv\")\n",
    "with open(\"%s/arr_results_t1000_single0pt5_split0pt6_logistic_2f.pkl\" %analysis_dir, \"wb\") as f:\n",
    "    pickle.dump(arr_results_t1000_single0pt5_split0pt6_logistic_2f, f)\n",
    "    \n",
    "print(np.median(np.array(gprot_results_t1000_single0pt5_split0pt6_logistic_2f[\"test_roc_aucs\"]), axis=0))\n",
    "print(np.median(np.array(arr_results_t1000_single0pt5_split0pt6_logistic_2f[\"test_roc_aucs\"]), axis=0))\n",
    "\n",
    "    \n",
    "y = multi_binarizer(y_gpr, [0.2])\n",
    "gprot_results_t1000_single0pt2_split0pt6_logistic_2f = do_classification_experiment(features, y, feature_names, n_trials, 0.6, regularize=False, model=\"logistic_cv\")\n",
    "with open(\"%s/gprot_results_t1000_single0pt2_split0pt6_logistic_2f.pkl\" %analysis_dir, \"wb\") as f:\n",
    "    pickle.dump(gprot_results_t1000_single0pt2_split0pt6_logistic_2f, f)\n",
    "\n",
    "y = multi_binarizer(y_arr, [0.2])\n",
    "arr_results_t1000_single0pt2_split0pt6_logistic_2f = do_classification_experiment(features, y, feature_names, n_trials, 0.6, regularize=False, model=\"logistic_cv\")\n",
    "with open(\"%s/arr_results_t1000_single0pt2_split0pt6_logistic_2f.pkl\" %analysis_dir, \"wb\") as f:\n",
    "    pickle.dump(arr_results_t1000_single0pt2_split0pt6_logistic_2f, f)\n",
    "\n",
    "print(np.median(np.array(gprot_results_t1000_single0pt2_split0pt6_logistic_2f[\"test_roc_aucs\"]), axis=0))\n",
    "print(np.median(np.array(arr_results_t1000_single0pt2_split0pt6_logistic_2f[\"test_roc_aucs\"]), axis=0))\n",
    "\n",
    "        \n",
    "gprot_results_t1000_0pt8_ridge = do_regression_experiment(features, y_gpr, feature_names, n_trials, .8, regularize=False, model=\"RidgeCV\")\n",
    "with open(\"%s/gprot_results_t1000_0pt8_ridge.pkl\" %analysis_dir, \"wb\") as f:\n",
    "    pickle.dump(gprot_results_t1000_0pt8_ridge, f)\n",
    "\n",
    "arr_results_t1000_0pt8_ridge = do_regression_experiment(features, y_arr, feature_names, n_trials, .8, regularize=False, model=\"RidgeCV\")\n",
    "with open(\"%s/arr_results_t1000_0pt8_ridge.pkl\" %analysis_dir, \"wb\") as f:\n",
    "    pickle.dump(arr_results_t1000_0pt8_ridge, f)\n",
    "\n",
    "print(np.median(np.array(gprot_results_t1000_0pt8_ridge[\"test_r2s\"]), axis=0))\n",
    "print(np.median(np.array(arr_results_t1000_0pt8_ridge[\"test_r2s\"]), axis=0))\n",
    "\n",
    "\n",
    "\n"
   ]
  },
  {
   "cell_type": "code",
   "execution_count": null,
   "metadata": {
    "collapsed": false
   },
   "outputs": [],
   "source": [
    "import efficacy_scripts\n",
    "reload(efficacy_scripts)\n",
    "from efficacy_scripts import *\n",
    "n_trials = 1000\n",
    "\n",
    "y = multi_binarizer(y_gpr, [0.2, 0.8])\n",
    "gprot_results_t1000_multi0pt2_split0pt8_logistic_cv_2f_obs = do_classification_experiment(features, y, feature_names, n_trials, 0.8, regularize=True, model=\"logistic_cv\")\n",
    "with open(\"%s/gprot_results_t1000_multi0pt2_split0pt8_logistic_cv_2f_obs.pkl\" %analysis_dir, \"wb\") as f:\n",
    "    pickle.dump(gprot_results_t1000_multi0pt2_split0pt8_logistic_cv_2f_obs, f)\n",
    "\n",
    "y = multi_binarizer(y_arr, [0.2, 0.8])\n",
    "arr_results_t1000_multi0pt2_split0pt8_logistic_cv_2f_obs = do_classification_experiment(features, y, feature_names, n_trials, 0.8, regularize=True, model=\"logistic_cv\")\n",
    "with open(\"%s/arr_results_t1000_multi0pt2_split0pt8_logistic_cv_2f_obs.pkl\" %analysis_dir, \"wb\") as f:\n",
    "    pickle.dump(arr_results_t1000_multi0pt2_split0pt8_logistic_cv_2f_obs, f)\n",
    "\n",
    "\n",
    "y = multi_binarizer(y_gpr, [0.2])\n",
    "gprot_results_t1000_single0pt2_split0pt8_logistic_cv_2f_obs = do_classification_experiment(features, y, feature_names, n_trials, 0.8, regularize=True, model=\"logistic_cv\")\n",
    "with open(\"%s/gprot_results_t1000_single0pt2_split0pt8_logistic_cv_2f_obs.pkl\" %analysis_dir, \"wb\") as f:\n",
    "    pickle.dump(gprot_results_t1000_single0pt2_split0pt8_logistic_cv_2f_obs, f)\n",
    "\n",
    "y = multi_binarizer(y_arr, [0.2])\n",
    "arr_results_t1000_single0pt2_split0pt8_logistic_cv_2f_obs = do_classification_experiment(features, y, feature_names, n_trials, 0.8, regularize=True, model=\"logistic_cv\")\n",
    "with open(\"%s/arr_results_t1000_single0pt2_split0pt8_logistic_cv_2f_obs.pkl\" %analysis_dir, \"wb\") as f:\n",
    "    pickle.dump(arr_results_t1000_single0pt2_split0pt8_logistic_cv_2f_obs, f)\n",
    "\n"
   ]
  },
  {
   "cell_type": "code",
   "execution_count": null,
   "metadata": {
    "collapsed": false
   },
   "outputs": [],
   "source": [
    "np.median(np.array(a_vs_g_results_t1000_single0pt2_split0pt8_logistic_cv_2f_obs[\"test_roc_aucs\"]), axis=0)\n"
   ]
  },
  {
   "cell_type": "code",
   "execution_count": null,
   "metadata": {
    "collapsed": false
   },
   "outputs": [],
   "source": [
    "arr_results_t100_single0pt2_split0pt9_rfr_2f_obs[\"feature_importances\"][0]"
   ]
  },
  {
   "cell_type": "code",
   "execution_count": null,
   "metadata": {
    "collapsed": false,
    "scrolled": false
   },
   "outputs": [],
   "source": [
    "import efficacy_scripts\n",
    "reload(efficacy_scripts)\n",
    "from efficacy_scripts import *\n",
    "analyze_multiclass_experiment(gprot_results_t100_single0pt2_split0pt9_logistic_cv_2f_obs, \n",
    "                              [\"Crystal Structures\", \"MSM Docking\"],\n",
    "                              top_clusters.tolist() + null_features.columns.values.tolist(), common_agonists, analysis_dir,\n",
    "                              [\"GProtein Antagonists\", \"GProtein Agonists\"], X_scaled, \n",
    "                              exp_title=\"GProtein Class\", coef_name=\"Logistic Coefficient\")\n"
   ]
  },
  {
   "cell_type": "code",
   "execution_count": null,
   "metadata": {
    "collapsed": false
   },
   "outputs": [],
   "source": [
    "all_features_df.columns.shape"
   ]
  },
  {
   "cell_type": "code",
   "execution_count": null,
   "metadata": {
    "collapsed": false
   },
   "outputs": [],
   "source": [
    "arr_results_t100_single0pt2_split0pt9_rfr_2f_obs[\"feature_importances\"][0][2].shape"
   ]
  },
  {
   "cell_type": "code",
   "execution_count": null,
   "metadata": {
    "collapsed": false
   },
   "outputs": [],
   "source": [
    "all_features_df.columns.values.tolist()"
   ]
  },
  {
   "cell_type": "code",
   "execution_count": null,
   "metadata": {
    "collapsed": false
   },
   "outputs": [],
   "source": [
    "print(np.median(np.array(gprot_results_t1000_0pt8_ridge[\"test_r2s\"]), axis=0))\n",
    "print(np.median(np.array(arr_results_t1000_0pt8_ridge[\"test_r2s\"]), axis=0))\n",
    "print(\"/n\")\n",
    "\n",
    "print(np.median(np.array(gprot_results_t1000_multi0pt33_0pt66_split0pt6_logistic_2f[\"test_roc_aucs\"]), axis=0))\n",
    "print(np.median(np.array(arr_results_t1000_multi0pt33_0pt66_split0pt6_logistic_2f[\"test_roc_aucs\"]), axis=0))\n",
    "print(\"/n\")\n",
    "\n",
    "print(np.median(np.array(gprot_results_t1000_multi0pt2_0pt8_split0pt6_logistic_2f[\"test_roc_aucs\"]), axis=0))\n",
    "print(np.median(np.array(arr_results_t1000_multi0pt2_0pt8_split0pt6_logistic_2f[\"test_roc_aucs\"]), axis=0))\n",
    "print(\"/n\")\n",
    "\n",
    "print(np.median(np.array(gprot_results_t1000_single0pt5_split0pt6_logistic_2f[\"test_roc_aucs\"]), axis=0))\n",
    "print(np.median(np.array(arr_results_t1000_single0pt5_split0pt6_logistic_2f[\"test_roc_aucs\"]), axis=0))\n",
    "print(\"/n\")\n",
    "\n",
    "print(np.median(np.array(gprot_results_t1000_single0pt2_split0pt6_logistic_2f[\"test_roc_aucs\"]), axis=0))\n",
    "print(np.median(np.array(arr_results_t1000_single0pt2_split0pt6_logistic_2f[\"test_roc_aucs\"]), axis=0))\n",
    "\n",
    "\n",
    "\n"
   ]
  },
  {
   "cell_type": "code",
   "execution_count": null,
   "metadata": {
    "collapsed": false,
    "scrolled": false
   },
   "outputs": [],
   "source": [
    "import plots\n",
    "reload(plots)\n",
    "from plots import *\n",
    "\n",
    "import efficacy_scripts\n",
    "reload(efficacy_scripts)\n",
    "from efficacy_scripts import *\n",
    "\n",
    "\n",
    "feature_names = top_clusters.tolist() +  [\"Inactive Crystal\", \"Active Crystal\", \"Crystal Difference\"] \n",
    "feature_names = [s.replace(\"cluster\", \"MSM State \") for s in feature_names]\n",
    "print(feature_names)\n",
    "\n",
    "#with open(\"%s/gprot_results_t1000_multi0pt2_0pt8_split0pt6_logistic_2f.pkl\" %analysis_dir, \"rb\") as f:\n",
    "#    gprot_results_t1000_multi0pt2_0pt8_split0pt6_logistic_2f = pickle.load(f)\n",
    "#analyze_multiclass_experiment(gprot_results_t1000_multi0pt2_0pt8_split0pt6_logistic_2f, [\"Crystal Structures\", \"MSM Docking\"], feature_names, common_agonists, analysis_dir, [\"G Protein Antagonists\", \"G Protein Partial Agonists\", \"G Protein Full Agonists\"], X_scaled, exp_title=\"GProtein Three Clas 1000 Trials\", coef_name=\"Logistic Coefficient\")\n",
    "\n",
    "\n",
    "#with open(\"%s/arr_results_t1000_multi0pt2_0pt8_split0pt6_logistic_2f.pkl\" %analysis_dir, \"rb\") as f:\n",
    "#    arr_results_t1000_multi0pt2_0pt8_split0pt6_logistic_2f = pickle.load(f)\n",
    "#analyze_multiclass_experiment(arr_results_t1000_multi0pt2_0pt8_split0pt6_logistic_2f, [\"Crystal Structures\", \"MSM Docking\"], feature_names, common_agonists, analysis_dir, [\"Arrestin Antagonists\", \"Arrestin Partial Agonists\", \"Arrestin Full Agonists\"], X_scaled, exp_title=\"Arrestin Three Class 1000 Trials\", coef_name=\"Logistic Coefficient\")\n",
    "\n",
    "#plt.clf()\n",
    "#analyze_multiclass_experiment(gprot_results_t100_single0pt2_split0pt6_logistic_2f, [\"Crystal Structures\", \"MSM Docking\"], feature_names, common_agonists, analysis_dir, [\"G Protein Antagonists\", \"G Protein Agonists\"], X_scaled, exp_title=\"Two Class\", coef_name=\"Logistic Coefficient\")\n",
    "with open(\"%s/arr_results_t1000_single0pt2_split0pt6_logistic_2f.pkl\" %analysis_dir, \"rb\") as f:\n",
    "    arr_results_t1000_single0pt2_split0pt6_logistic_2f = pickle.load(f)\n",
    "analyze_multiclass_experiment(arr_results_t1000_single0pt2_split0pt6_logistic_2f, [\"Crystal Structures\", \"MSM Docking\"],feature_names, common_agonists, analysis_dir, [\"Arrestin Antagonists\", \"Arrestin Agonists\"], X_scaled, exp_title=\"Arrestin Two Class\", coef_name=\"Logistic Coefficient\")\n",
    "\n",
    "with open(\"%s/gprot_results_t1000_single0pt2_split0pt6_logistic_2f.pkl\" %analysis_dir, \"rb\") as f:\n",
    "    gprot_results_t1000_single0pt2_split0pt6_logistic_2f = pickle.load(f)\n",
    "analyze_multiclass_experiment(gprot_results_t1000_single0pt2_split0pt6_logistic_2f, [\"Crystal Structures\", \"MSM Docking\"],feature_names, common_agonists, analysis_dir, [\"G Protein Antagonists\", \"G Protein Agonists\"], X_scaled, exp_title=\"G Protein Two Class\", coef_name=\"Logistic Coefficient\")\n",
    "\n"
   ]
  },
  {
   "cell_type": "code",
   "execution_count": null,
   "metadata": {
    "collapsed": false
   },
   "outputs": [],
   "source": [
    "analysis_dir"
   ]
  },
  {
   "cell_type": "code",
   "execution_count": null,
   "metadata": {
    "collapsed": false
   },
   "outputs": [],
   "source": [
    "X_scaled[:,25]"
   ]
  },
  {
   "cell_type": "code",
   "execution_count": null,
   "metadata": {
    "collapsed": false
   },
   "outputs": [],
   "source": [
    "ddg_scaled[\"salbutamol\"].sort(inplace=False\n",
    "                             )"
   ]
  },
  {
   "cell_type": "code",
   "execution_count": null,
   "metadata": {
    "collapsed": false
   },
   "outputs": [],
   "source": [
    "arr_results_t100_multi_0pt6_logistic = arr_results_t100_multi_0pt_6_rfr \n",
    "\n",
    "= arr_results_t1000_multi_0pt_6_rfr "
   ]
  },
  {
   "cell_type": "code",
   "execution_count": null,
   "metadata": {
    "collapsed": false
   },
   "outputs": [],
   "source": [
    "save_file = \"%s/arr_results_t1000_multi_0pt6_logistic.pkl\" %(analysis_dir)\n",
    "with open(save_file, \"wb\") as f:\n",
    "    pickle.dump(arr_results_t1000_multi_0pt6_logistic, f)\n",
    "    "
   ]
  },
  {
   "cell_type": "code",
   "execution_count": null,
   "metadata": {
    "collapsed": true
   },
   "outputs": [],
   "source": [
    "save_file = \"%s/gprot_results_t1000_multi_0pt6_logistic.pkl\" %(analysis_dir)\n",
    "with open(save_file, \"wb\") as f:\n",
    "    pickle.dump(gprot_results_t1000_multi_0pt6_logistic, f)\n",
    "    "
   ]
  },
  {
   "cell_type": "code",
   "execution_count": null,
   "metadata": {
    "collapsed": false
   },
   "outputs": [],
   "source": [
    "np.median(np.array(arr_results_t1000_0pt5_md3_ridge[\"test_r2s\"]), axis=0)"
   ]
  },
  {
   "cell_type": "code",
   "execution_count": null,
   "metadata": {
    "collapsed": false
   },
   "outputs": [],
   "source": [
    "np.median(np.array(arr_results_t1000_0pt5_md3_ridge[\"kendall_pvalues\"]), axis=0)"
   ]
  },
  {
   "cell_type": "code",
   "execution_count": null,
   "metadata": {
    "collapsed": true
   },
   "outputs": [],
   "source": [
    "np.median(np.array(arr_results_t1000_0pt5_md3_ridge[\"kendall_pvalues\"]), axis=0)"
   ]
  },
  {
   "cell_type": "code",
   "execution_count": null,
   "metadata": {
    "collapsed": false
   },
   "outputs": [],
   "source": [
    "np.median(np.array(arr_results_t1000_multi_0pt6_logistic[\"test_roc_aucs\"]), axis=0)\n"
   ]
  },
  {
   "cell_type": "code",
   "execution_count": null,
   "metadata": {
    "collapsed": false
   },
   "outputs": [],
   "source": [
    "plt.hist(y_gpr, bins=50)\n",
    "plt.show()"
   ]
  },
  {
   "cell_type": "code",
   "execution_count": null,
   "metadata": {
    "collapsed": false
   },
   "outputs": [],
   "source": [
    "from sklearn.preprocessing import binarize\n",
    "#arrestin_antagonists = [\"s-carvedilol\", \"nebivolol\"]\n",
    "#non_arrestin_antagonists = [n for n in antagonists if n not in arrestin_antagonists and n not in [\"Carvedilol\"]]\n",
    "#y = np.array([1. for i in arrestin_antagonists] + [0. for i in non_arrestin_antagonists]).reshape((-1,1))\n",
    "\n",
    "\n",
    "total_activity = bret[\"B2AR-Arrestin, Mean\"].loc[common_ligands].add(bret[\"B2AR-Gprotein, Mean\"].loc[common_ligands])\n",
    "#common_agonists = arrestin_antagonists + non_arrestin_antagonists\n",
    "#biased_ligands = [\"ethylnorepinephrine\", \"isoetharine\", \"N-Cyclopentylbutanephrine\"]\n",
    "#non_biased_ligands =  [\"r_isopreterenol\", \"r_epinephrine\", \"norepinephrine\", \"zinterol\", \"orciprenaline\", \"epinine\", \"terbutaline\", \"fenoterol\", \"procaterol\", \"formoterol\", \"salbutamol\", \"salmeterol\"]\n",
    "#y = np.array([1. for i in biased_ligands] + [0. for i in non_biased_ligands]).reshape((-1,1))\n",
    "#common_agonists = biased_ligands + non_biased_ligands\n",
    "\n",
    "#common_agonists = total_activity.loc[total_activity > 0.2].index.values\n",
    "#y_ori = bret[\"B2AR-Arrestin, Mean\"].loc[common_agonists].subtract(bret[\"B2AR-Gprotein, Mean\"].loc[common_agonists]).values.reshape((-1,1))\n",
    "\n",
    "top_clusters = delta_delta_g.index.values\n",
    "#top_clusters = list(set(delta_delta_g.sort(\"nebivolol\").index.values[:10].tolist() + delta_delta_g.sort(\"3p0g_lig\").index.values[:10].tolist()))\n",
    "#top_clusters = list(set(delta_delta_g.sort(\"N-Cyclopentylbutanephrine\", inplace=False).index.values[:4].tolist() + delta_delta_g.sort(\"procaterol\", inplace=False).index.values[:4].tolist()))\n",
    "#agonists_df = [a for a in agonists if a in delta_delta_g.columns.values]\n",
    "#common_agonists = agonists_df + antagonists\n",
    "#y = np.array([1. for i in agonists_df] + [0. for i in antagonists]).reshape((-1,1))\n",
    "common_agonists = common_ligands\n",
    "y_arr = bret[\"B2AR-Arrestin, Mean\"].loc[common_agonists].values.reshape((-1,1))\n",
    "y_gpr = bret[\"B2AR-Gprotein, Mean\"].loc[common_agonists].values.reshape((-1,1))\n",
    "#y_ori = y_arr - y_gpr\n",
    "#y_ori = y_arr\n",
    "y = multi_binarizer(y_arr, [0.33, 0.66])\n",
    "#y = binarize(y_gpr, threshold=0.2)\n",
    "\n",
    "C = null_features.loc[common_agonists].values\n",
    "#X = delta_delta_g.loc[top_clusters][common_agonists].values.T\n",
    "X = np.hstack([delta_delta_g.loc[top_clusters][common_agonists].values.T, C])\n",
    "#X_scaled = ddg_scaled.loc[top_clusters][common_agonists].values.T\n",
    "X_scaled = np.hstack([ddg_scaled.loc[top_clusters][common_agonists].values.T, C])\n",
    "#D_scaled = docking_normalized.loc[top_clusters][common_agonists].values.T\n",
    "D_scaled = np.hstack([docking_normalized.loc[top_clusters][common_agonists].values.T, C])\n",
    "X_diff = np.zeros((X.shape[0], X.shape[1]**2/2))\n",
    "k=0\n",
    "for i in range(0,X.shape[1]):\n",
    "    for j in range(i+1,X.shape[1]):\n",
    "        X_diff[:,k] = X[:,i] - X[:,j]\n",
    "        k+=1\n",
    "X_diff = np.hstack([X_scaled, X_diff, C])\n",
    "\n",
    "features = [C, D_scaled, X, X_scaled, X_diff]\n",
    "features_y = [C, D_scaled, X, X_scaled, X_diff]\n",
    "feature_names = [\"Crystal Structures\", \"Normalized Docking\", \"Docking ddG\", \"Docking ddg Scaled\", \"Docking ddG Differences\"]\n",
    "\n",
    "n_trials = 1000\n",
    "test_accuracies, test_aucs, test_log_aucs, C_test_aucs, C_test_log_aucs, feature_importances = do_classification_experiment(features, y, feature_names, n_trials, 0.8, regularize=False)\n",
    "#arr_results_t100_0pt9_md3 = do_regression_experiment(features, y, feature_names, n_trials, 0.9, regularize=False)"
   ]
  },
  {
   "cell_type": "code",
   "execution_count": null,
   "metadata": {
    "collapsed": false
   },
   "outputs": [],
   "source": [
    "save_file = \"%s/arr_results_t1000_0pt9_md3.pkl\" %analysis_dir\n",
    "with open(save_file, \"wb\") as f:\n",
    "    pickle.dump(arr_results_t1000_0pt9_md3, f)"
   ]
  },
  {
   "cell_type": "code",
   "execution_count": null,
   "metadata": {
    "collapsed": false
   },
   "outputs": [],
   "source": [
    "print(np.median(np.array(arr_results_t1000_0pt9_md3[\"test_r2s\"]), axis=0))"
   ]
  },
  {
   "cell_type": "code",
   "execution_count": null,
   "metadata": {
    "collapsed": false
   },
   "outputs": [],
   "source": [
    "from sklearn.preprocessing import binarize\n",
    "#arrestin_antagonists = [\"s-carvedilol\", \"nebivolol\"]\n",
    "#non_arrestin_antagonists = [n for n in antagonists if n not in arrestin_antagonists and n not in [\"Carvedilol\"]]\n",
    "#y = np.array([1. for i in arrestin_antagonists] + [0. for i in non_arrestin_antagonists]).reshape((-1,1))\n",
    "\n",
    "\n",
    "total_activity = bret[\"B2AR-Arrestin, Mean\"].loc[common_ligands].add(bret[\"B2AR-Gprotein, Mean\"].loc[common_ligands])\n",
    "#common_agonists = arrestin_antagonists + non_arrestin_antagonists\n",
    "#biased_ligands = [\"ethylnorepinephrine\", \"isoetharine\", \"N-Cyclopentylbutanephrine\"]\n",
    "#non_biased_ligands =  [\"r_isopreterenol\", \"r_epinephrine\", \"norepinephrine\", \"zinterol\", \"orciprenaline\", \"epinine\", \"terbutaline\", \"fenoterol\", \"procaterol\", \"formoterol\", \"salbutamol\", \"salmeterol\"]\n",
    "#y = np.array([1. for i in biased_ligands] + [0. for i in non_biased_ligands]).reshape((-1,1))\n",
    "#common_agonists = biased_ligands + non_biased_ligands\n",
    "\n",
    "common_agonists = total_activity.loc[total_activity > 0.2].index.values\n",
    "#y_ori = bret[\"B2AR-Arrestin, Mean\"].loc[common_agonists].subtract(bret[\"B2AR-Gprotein, Mean\"].loc[common_agonists]).values.reshape((-1,1))\n",
    "\n",
    "top_clusters = delta_delta_g.index.values\n",
    "#top_clusters = list(set(delta_delta_g.sort(\"nebivolol\").index.values[:10].tolist() + delta_delta_g.sort(\"3p0g_lig\").index.values[:10].tolist()))\n",
    "#top_clusters = list(set(delta_delta_g.sort(\"N-Cyclopentylbutanephrine\", inplace=False).index.values[:4].tolist() + delta_delta_g.sort(\"procaterol\", inplace=False).index.values[:4].tolist()))\n",
    "#agonists_df = [a for a in agonists if a in delta_delta_g.columns.values]\n",
    "#common_agonists = agonists_df + antagonists\n",
    "#y = np.array([1. for i in agonists_df] + [0. for i in antagonists]).reshape((-1,1))\n",
    "#common_agonists = common_ligands\n",
    "y_arr = bret[\"B2AR-Arrestin, Mean\"].loc[common_agonists].values.reshape((-1,1))\n",
    "y_gpr = bret[\"B2AR-Gprotein, Mean\"].loc[common_agonists].values.reshape((-1,1))\n",
    "y_ori = y_arr - y_gpr\n",
    "#y_ori = y_arr\n",
    "#y = y_arr\n",
    "y = binarize(y_ori, threshold=-0.2)\n",
    "\n",
    "C = null_features.loc[common_agonists].values\n",
    "#X = delta_delta_g.loc[top_clusters][common_agonists].values.T\n",
    "X = np.hstack([delta_delta_g.loc[top_clusters][common_agonists].values.T, C])\n",
    "#X_scaled = ddg_scaled.loc[top_clusters][common_agonists].values.T\n",
    "X_scaled = np.hstack([ddg_scaled.loc[top_clusters][common_agonists].values.T, C])\n",
    "#D_scaled = docking_normalized.loc[top_clusters][common_agonists].values.T\n",
    "D_scaled = np.hstack([docking_normalized.loc[top_clusters][common_agonists].values.T, C])\n",
    "X_diff = np.zeros((X.shape[0], X.shape[1]**2/2))\n",
    "k=0\n",
    "for i in range(0,X.shape[1]):\n",
    "    for j in range(i+1,X.shape[1]):\n",
    "        X_diff[:,k] = X[:,i] - X[:,j]\n",
    "        k+=1\n",
    "X_diff = np.hstack([X_scaled, X_diff, C])\n",
    "\n",
    "features = [C, D_scaled, X, X_scaled, X_diff]\n",
    "features_y = [C, D_scaled, X, X_scaled]\n",
    "feature_names = [\"Crystal Structures\", \"Normalized Docking\", \"Docking ddG\", \"Docking ddg Scaled\", \"Docking ddG Differences\"]\n",
    "\n",
    "n_trials = 1000\n",
    "#arr_classification_results_t1000_0pt6 = do_classification_experiment(features, y, feature_names, n_trials, 0.6, regularize=False)\n",
    "arr_vs_gprot_classification_results_t1000_0pt8 = do_classification_experiment(features, y, feature_names, n_trials, 0.8, regularize=False)\n",
    "#arr_results_1000 = do_regression_experiment(features, y, feature_names, n_trials, 0.8, regularize=False)"
   ]
  },
  {
   "cell_type": "code",
   "execution_count": null,
   "metadata": {
    "collapsed": false
   },
   "outputs": [],
   "source": [
    "with open(\"%s/arr_vs_gprot_classification_results_t100_0pt8.pkl\" %analysis_dir, \"wb\") as f:\n",
    "    pickle.dump(arr_vs_gprot_classification_results_t100_0pt8, f)"
   ]
  },
  {
   "cell_type": "code",
   "execution_count": null,
   "metadata": {
    "collapsed": false
   },
   "outputs": [],
   "source": [
    "print(np.median(np.array(arr_vs_gprot_classification_results_t100_0pt8[\"test_aucs\"]), axis=0))"
   ]
  },
  {
   "cell_type": "code",
   "execution_count": null,
   "metadata": {
    "collapsed": false
   },
   "outputs": [],
   "source": [
    "plt.hist(y_ori,bins=50)\n",
    "plt.show()"
   ]
  },
  {
   "cell_type": "code",
   "execution_count": null,
   "metadata": {
    "collapsed": false
   },
   "outputs": [],
   "source": [
    "\n",
    "save_file = \"%s/arr_classification_results_t1000_0pt6.pkl\" %analysis_dir\n",
    "with open(save_file, \"wb\") as f:\n",
    "    pickle.dump(arr_classification_results_t1000_0pt6, f)"
   ]
  },
  {
   "cell_type": "code",
   "execution_count": null,
   "metadata": {
    "collapsed": false
   },
   "outputs": [],
   "source": [
    "np.median(np.array(arr_classification_results_t1000_0pt6[\"test_log_aucs\"]),axis=0)"
   ]
  },
  {
   "cell_type": "code",
   "execution_count": null,
   "metadata": {
    "collapsed": false
   },
   "outputs": [],
   "source": [
    "from sklearn.preprocessing import binarize\n",
    "#arrestin_antagonists = [\"s-carvedilol\", \"nebivolol\"]\n",
    "#non_arrestin_antagonists = [n for n in antagonists if n not in arrestin_antagonists and n not in [\"Carvedilol\"]]\n",
    "#y = np.array([1. for i in arrestin_antagonists] + [0. for i in non_arrestin_antagonists]).reshape((-1,1))\n",
    "\n",
    "\n",
    "total_activity = bret[\"B2AR-Arrestin, Mean\"].loc[common_ligands].add(bret[\"B2AR-Gprotein, Mean\"].loc[common_ligands])\n",
    "#common_agonists = arrestin_antagonists + non_arrestin_antagonists\n",
    "#biased_ligands = [\"ethylnorepinephrine\", \"isoetharine\", \"N-Cyclopentylbutanephrine\"]\n",
    "#non_biased_ligands =  [\"r_isopreterenol\", \"r_epinephrine\", \"norepinephrine\", \"zinterol\", \"orciprenaline\", \"epinine\", \"terbutaline\", \"fenoterol\", \"procaterol\", \"formoterol\", \"salbutamol\", \"salmeterol\"]\n",
    "#y = np.array([1. for i in biased_ligands] + [0. for i in non_biased_ligands]).reshape((-1,1))\n",
    "#common_agonists = biased_ligands + non_biased_ligands\n",
    "\n",
    "#common_agonists = total_activity.loc[total_activity > 0.2].index.values\n",
    "#y_ori = bret[\"B2AR-Arrestin, Mean\"].loc[common_agonists].subtract(bret[\"B2AR-Gprotein, Mean\"].loc[common_agonists]).values.reshape((-1,1))\n",
    "\n",
    "top_clusters = delta_delta_g.index.values\n",
    "#top_clusters = list(set(delta_delta_g.sort(\"nebivolol\").index.values[:10].tolist() + delta_delta_g.sort(\"3p0g_lig\").index.values[:10].tolist()))\n",
    "#top_clusters = list(set(delta_delta_g.sort(\"N-Cyclopentylbutanephrine\", inplace=False).index.values[:4].tolist() + delta_delta_g.sort(\"procaterol\", inplace=False).index.values[:4].tolist()))\n",
    "#agonists_df = [a for a in agonists if a in delta_delta_g.columns.values]\n",
    "#common_agonists = agonists_df + antagonists\n",
    "#y = np.array([1. for i in agonists_df] + [0. for i in antagonists]).reshape((-1,1))\n",
    "common_agonists = common_ligands\n",
    "y_arr = bret[\"B2AR-Arrestin, Mean\"].loc[common_agonists].values.reshape((-1,1))\n",
    "y_gpr = bret[\"B2AR-Gprotein, Mean\"].loc[common_agonists].values.reshape((-1,1))\n",
    "#y_ori = y_arr - y_gpr\n",
    "y_ori = y_arr\n",
    "#y = y_arr\n",
    "y = binarize(y_arr, threshold=0.2)\n",
    "\n",
    "C = null_features.loc[common_agonists].values\n",
    "#X = delta_delta_g.loc[top_clusters][common_agonists].values.T\n",
    "X = np.hstack([delta_delta_g.loc[top_clusters][common_agonists].values.T, C])\n",
    "#X_scaled = ddg_scaled.loc[top_clusters][common_agonists].values.T\n",
    "X_scaled = np.hstack([ddg_scaled.loc[top_clusters][common_agonists].values.T, C])\n",
    "#D_scaled = docking_normalized.loc[top_clusters][common_agonists].values.T\n",
    "D_scaled = np.hstack([docking_normalized.loc[top_clusters][common_agonists].values.T, C])\n",
    "X_diff = np.zeros((X.shape[0], X.shape[1]**2/2))\n",
    "k=0\n",
    "for i in range(0,X.shape[1]):\n",
    "    for j in range(i+1,X.shape[1]):\n",
    "        X_diff[:,k] = X[:,i] - X[:,j]\n",
    "        k+=1\n",
    "X_diff = np.hstack([X_scaled, X_diff, C])\n",
    "\n",
    "features = [C, D_scaled, X, X_scaled, X_diff]\n",
    "features_y = [C, D_scaled, X, X_scaled]\n",
    "feature_names = [\"Crystal Structures\", \"Normalized Docking\", \"Docking ddG\", \"Docking ddg Scaled\", \"Docking ddG Differences\"]\n",
    "\n",
    "n_trials = 1000\n",
    "test_accuracies, test_aucs, test_log_aucs, C_test_aucs, C_test_log_aucs, feature_importances = do_classification_experiment(features, y, feature_names, n_trials, 0.8, regularize=False)\n",
    "#arr_auc_results = do_regression_experiment(features, y, feature_names, n_trials, 0.8, regularize=False)"
   ]
  },
  {
   "cell_type": "code",
   "execution_count": null,
   "metadata": {
    "collapsed": false
   },
   "outputs": [],
   "source": [
    "np.median(np.array(test_log_aucs),axis=0)"
   ]
  },
  {
   "cell_type": "code",
   "execution_count": null,
   "metadata": {
    "collapsed": false
   },
   "outputs": [],
   "source": [
    "np.median(np.array(gprot_results[\"test_r2s\"]),axis=0)"
   ]
  },
  {
   "cell_type": "code",
   "execution_count": null,
   "metadata": {
    "collapsed": false
   },
   "outputs": [],
   "source": [
    "gprot_results[\"test_r2s\"]"
   ]
  },
  {
   "cell_type": "code",
   "execution_count": null,
   "metadata": {
    "collapsed": false
   },
   "outputs": [],
   "source": [
    "features_y = copy.deepcopy(features)\n",
    "features_y.append(y)\n",
    "train_test_arrays = train_test_split(*features_y, train_size=0.8)\n",
    "print([a.shape for a in train_test_arrays])"
   ]
  },
  {
   "cell_type": "code",
   "execution_count": null,
   "metadata": {
    "collapsed": false
   },
   "outputs": [],
   "source": [
    "train_test_arrays = train_test_split(*features_y, train_size=0.8)\n",
    "print([a.shape for a in train_test_arrays])"
   ]
  },
  {
   "cell_type": "code",
   "execution_count": null,
   "metadata": {
    "collapsed": false
   },
   "outputs": [],
   "source": [
    "gprot_results = copy.deepcopy([test_accuracies, test_aucs, test_log_aucs, C_test_aucs, C_test_log_aucs, feature_importances])\n",
    "#import pickle\n",
    "gprot_file = \"%s/gprot_results_0pt2_XP_no-regularization.pkl\"\n",
    "with open(\"%s/gprot_results_0pt2_XP_no-regularization.pkl\", \"wb\") as f:\n",
    "    pickle.dump(gprot_results, f)\n",
    "with open(gprot_file) as f:\n",
    "    test_accuracies, test_aucs, test_log_aucs, C_test_aucs, C_test_log_aucs, feature_importances = pickle.load(f)"
   ]
  },
  {
   "cell_type": "code",
   "execution_count": null,
   "metadata": {
    "collapsed": true
   },
   "outputs": [],
   "source": [
    "#arrestin_results = copy.deepcopy([test_accuracies, test_aucs, test_log_aucs, C_test_aucs, C_test_log_aucs, feature_importances])\n",
    "#import pickle\n",
    "arrestin_file = \"%s/arrestin_results_0pt2_XP_no-regularization.pkl\"\n",
    "#with open(\"%s/arrestin_results_0pt2_XP_no-regularization.pkl\", \"wb\") as f:\n",
    "#    pickle.dump(arrestin_results, f)\n",
    "with open(arrestin_file) as f:\n",
    "    test_accuracies, test_aucs, test_log_aucs, C_test_aucs, C_test_log_aucs, feature_importances = pickle.load(f)"
   ]
  },
  {
   "cell_type": "code",
   "execution_count": null,
   "metadata": {
    "collapsed": true
   },
   "outputs": [],
   "source": [
    "#arrestin_rfr_results = copy.deepcopy([test_r2s, rfr_feature_importances])\n",
    "arrestin_rfr_file = \"%s/arrestin_results_rfr_XP_no-regularization.pkl\"\n",
    "#with open(\"%s/arrestin_results_rfr_XP_no-regularization.pkl\", \"wb\") as f:\n",
    "#    pickle.dump(arrestin_rfr_results, f)\n",
    "with open(arrestin_rfr_file) as f:\n",
    "    test_r2s, rfr_feature_importances = pickle.load(f)"
   ]
  },
  {
   "cell_type": "code",
   "execution_count": null,
   "metadata": {
    "collapsed": true
   },
   "outputs": [],
   "source": [
    "#gprot_rfr_results = copy.deepcopy([test_r2s, rfr_feature_importances])\n",
    "gprot_rfr_file = \"%s/gprot_results_rfr_XP_no-regularization.pkl\"\n",
    "#with open(\"%s/gprot_results_rfr_XP_no-regularization.pkl\", \"wb\") as f:\n",
    "#    pickle.dump(gprot_rfr_results, f)\n",
    "with open(gprot_rfr_file) as f:\n",
    "    test_r2s, rfr_feature_importances = pickle.load(f)"
   ]
  },
  {
   "cell_type": "code",
   "execution_count": null,
   "metadata": {
    "collapsed": false
   },
   "outputs": [],
   "source": [
    "test_aucs = np.array(test_aucs)\n",
    "plt.clf()\n",
    "plt.boxplot(test_aucs[:,2]-test_aucs[:,0])\n",
    "plt.show()"
   ]
  },
  {
   "cell_type": "code",
   "execution_count": null,
   "metadata": {
    "collapsed": false
   },
   "outputs": [],
   "source": [
    "test_log_aucs = np.array(test_log_aucs)\n",
    "np.percentile(test_aucs[:,2]-test_aucs[:,0], 50)"
   ]
  },
  {
   "cell_type": "code",
   "execution_count": null,
   "metadata": {
    "collapsed": false
   },
   "outputs": [],
   "source": [
    "import sklearn\n",
    "null_preds = binarize(C[:,2])\n",
    "sklearn.metrics.roc_auc_score(binarize(y, 0.2).ravel(), null_preds.ravel())"
   ]
  },
  {
   "cell_type": "code",
   "execution_count": null,
   "metadata": {
    "collapsed": false
   },
   "outputs": [],
   "source": [
    "test_aucs = np.array(test_aucs)\n",
    "print(np.median(test_aucs, axis=0))\n",
    "print(np.median(test_aucs[:,2] - test_aucs[:,0]))"
   ]
  },
  {
   "cell_type": "code",
   "execution_count": null,
   "metadata": {
    "collapsed": false
   },
   "outputs": [],
   "source": [
    "n_successes = len(np.where(test_aucs[:,2]-test_aucs[:,0] > 0.)[0])\n",
    "nobs = test_aucs.shape[0]\n",
    "statsmodels.stats.proportion.proportion_confint(count=n_successes, nobs=nobs, alpha=0.01, method='wilson')\n"
   ]
  },
  {
   "cell_type": "code",
   "execution_count": null,
   "metadata": {
    "collapsed": false
   },
   "outputs": [],
   "source": [
    "np.median(np.array(test_r2s),axis=0)"
   ]
  },
  {
   "cell_type": "code",
   "execution_count": null,
   "metadata": {
    "collapsed": true
   },
   "outputs": [],
   "source": [
    "arrestin_vs_gprot_results = copy.deepcopy([test_accuracies, test_aucs, test_log_aucs, C_test_aucs, C_test_log_aucs, feature_importances])\n",
    "import pickle\n",
    "with open(\"%s/arrestin_vs_gprot_results_-0pt2_XP.pkl\", \"wb\") as f:\n",
    "    pickle.dump(arrestin_vs_gprot_results, f)"
   ]
  },
  {
   "cell_type": "code",
   "execution_count": null,
   "metadata": {
    "collapsed": true
   },
   "outputs": [],
   "source": []
  },
  {
   "cell_type": "code",
   "execution_count": null,
   "metadata": {
    "collapsed": true
   },
   "outputs": [],
   "source": [
    "arrestin_vs_gprot_rfr_results = copy.deepcopy([test_r2s, rfr_feature_importances])\n",
    "import pickle\n",
    "with open(\"%s/arrestin_vs_gprot_rfr_results_XP.pkl\", \"wb\") as f:\n",
    "    pickle.dump(arrestin_vs_gprot_rfr_results, f)"
   ]
  },
  {
   "cell_type": "code",
   "execution_count": null,
   "metadata": {
    "collapsed": true
   },
   "outputs": [],
   "source": [
    "test_accuracies, test_aucs, test_log_aucs, C_test_aucs, C_test_log_aucs, feature_importances = arrestin_vs_gprot_results"
   ]
  },
  {
   "cell_type": "code",
   "execution_count": null,
   "metadata": {
    "collapsed": true
   },
   "outputs": [],
   "source": [
    "#gprotein_results = copy.deepcopy([test_accuracies, test_aucs, test_log_aucs, C_test_aucs, C_test_log_aucs, feature_importances])"
   ]
  },
  {
   "cell_type": "code",
   "execution_count": null,
   "metadata": {
    "collapsed": false
   },
   "outputs": [],
   "source": [
    "results_dict = gprot_results_t1000_multi_0pt6_logistic\n",
    "import efficacy_scripts\n",
    "reload(efficacy_scripts)\n",
    "from efficacy_scripts import *\n",
    "importances_df, results_df = analyze_classification_experiment(results_dict[\"test_roc_aucs\"],\n",
    "                                               results_dict[\"feature_importances\"],\n",
    "                                               feature_names,\n",
    "                                               X_scaled, y, pd.concat([ddg_scaled, null_features.transpose()], axis=0),\n",
    "                                               top_clusters.tolist() + null_features.columns.values.tolist(), \n",
    "                                               common_agonists, \n",
    "                                                \"Predicting G Protein Three Class, 1000 trials, 60:40 Split, XP\", analysis_dir)"
   ]
  },
  {
   "cell_type": "code",
   "execution_count": null,
   "metadata": {
    "collapsed": false
   },
   "outputs": [],
   "source": [
    "feature_names"
   ]
  },
  {
   "cell_type": "code",
   "execution_count": null,
   "metadata": {
    "collapsed": false,
    "scrolled": true
   },
   "outputs": [],
   "source": [
    "importances_df, results_df = analyze_experiment(test_aucs, test_log_aucs, feature_importances, feature_names,\n",
    "                        X_scaled, y, pd.concat([ddg_scaled, null_features.transpose()], axis=0) , top_clusters.tolist() + null_features.columns.values.tolist(), common_agonists, \"Predicting Arrestin, w Crystal Features, 0.2, SP\", analysis_dir)"
   ]
  },
  {
   "cell_type": "code",
   "execution_count": null,
   "metadata": {
    "collapsed": false
   },
   "outputs": [],
   "source": [
    "importances_df, results_df = analyze_regression_experiment(test_r2s, rfr_feature_importances, feature_names,\n",
    "                        X, y, pd.concat([delta_delta_g, null_features.transpose()], axis=0) , top_clusters.tolist() + null_features.columns.values.tolist(), common_agonists, \"Predicting Arrestin, RFR, w Crystal Features, SP\", analysis_dir)"
   ]
  },
  {
   "cell_type": "code",
   "execution_count": null,
   "metadata": {
    "collapsed": false
   },
   "outputs": [],
   "source": [
    "def get_top_measurable_features(samples_normalized_features_avg_df, cluster_name):\n",
    "    import re\n",
    "    top_features_cluster = []\n",
    "    #top_features_cluster = samples_normalized_features_avg_df.loc[\"cluster_name\"].loc[samples_normalized_features_avg_df.loc[\"cluster_name\"].abs() > .75].index.values\n",
    "    #print(top_features_cluster)\n",
    "    #print(len(top_features_cluster))\n",
    "    [top_features_cluster.append(pair) for pair in samples_normalized_features_avg_df.loc[cluster_name].abs().sort(inplace=False, ascending=False).index.values[:10]]\n",
    "    all_features = []\n",
    "    features = []\n",
    "    for f in top_features_cluster:\n",
    "        fs = f.split(\",\")\n",
    "        for i in range(0, len(fs)):\n",
    "            res = int(re.findall(r'\\d+', fs[i])[0])\n",
    "            all_features.append(res)\n",
    "            if \"TRP\" in fs[i] or \"CYS\" in fs[i] or \"TYR\" in fs[i] or \"LYS\" in fs[i]:\n",
    "                features.append(res)\n",
    "            \n",
    "    top_features_cluster = sorted(list(set(features)))\n",
    "    #print(sorted(list(set([int(re.findall(r'\\d+', r)[0]) for r in all_features]))))\n",
    "    #print(top_features_cluster)\n",
    "    return top_features_cluster, all_features\n",
    "a, b = get_top_measurable_features(samples_normalized_features_averages_df, 6)"
   ]
  },
  {
   "cell_type": "code",
   "execution_count": null,
   "metadata": {
    "collapsed": false
   },
   "outputs": [],
   "source": [
    "print(b)"
   ]
  },
  {
   "cell_type": "code",
   "execution_count": null,
   "metadata": {
    "collapsed": false
   },
   "outputs": [],
   "source": [
    "ddg_scaled[[\"norepinephrine\", \"r_epinephrine\", \"ethylnorepinephrine\", \"nebivolol\", \"s-carvedilol\", \"s-carazolol\"]]"
   ]
  },
  {
   "cell_type": "code",
   "execution_count": null,
   "metadata": {
    "collapsed": false
   },
   "outputs": [],
   "source": [
    "print(np.mean(test_aucs, axis=0))\n",
    "print(np.median(test_aucs, axis=0))\n",
    "print(np.mean(test_log_aucs, axis=0))\n",
    "print(np.median(test_log_aucs, axis=0))\n",
    "\n"
   ]
  },
  {
   "cell_type": "code",
   "execution_count": null,
   "metadata": {
    "collapsed": false
   },
   "outputs": [],
   "source": [
    "plt.scatter(ddg_scaled.loc[\"cluster2\"][common_agonists], y)"
   ]
  },
  {
   "cell_type": "code",
   "execution_count": null,
   "metadata": {
    "collapsed": true
   },
   "outputs": [],
   "source": []
  },
  {
   "cell_type": "code",
   "execution_count": null,
   "metadata": {
    "collapsed": false
   },
   "outputs": [],
   "source": [
    "y_ori = bret[\"B2AR-Gprotein, Mean\"].loc[common_agonists].values.reshape((-1,1))\n",
    "y = binarize(y_ori, threshold=0.05)\n",
    "\n",
    "X = delta_delta_g.loc[top_clusters][common_agonists].values.T\n",
    "X_scaled = ddg_scaled.loc[top_clusters][common_agonists].values.T\n",
    "C = null_features.loc[common_agonists].values\n",
    "D_scaled = docking_normalized.loc[top_clusters][common_agonists].values.T\n",
    "\n",
    "X_train = D_scaled\n",
    "y_train = y\n",
    "f = np.zeros(X_train.shape[1])\n",
    "\n",
    "rfr = RandomForestClassifier(n_estimators=1000, max_features='sqrt', n_jobs=-1, oob_score=True)\n",
    "rfr.fit(X_train, y_train)\n",
    "\n",
    "#top_indices = np.argsort(rfr.feature_importances_*-1.)[:min(20, X_train.shape[1])]\n",
    "#rfr = RandomForestClassifier(n_estimators=100, max_features='sqrt', n_jobs=-1, oob_score=True)\n",
    "#X_train = X_train[:, top_indices]\n",
    "#rfr.fit(X_train, y_train)\n",
    "#f[top_indices] = rfr.feature_importances_\n",
    "#y_pred = rfr.predict(X_train)\n",
    "#y_score = rfr.predict_proba(X_train)\n",
    "top_indices=range(0,100)"
   ]
  },
  {
   "cell_type": "code",
   "execution_count": null,
   "metadata": {
    "collapsed": false
   },
   "outputs": [],
   "source": [
    "top_indices"
   ]
  },
  {
   "cell_type": "code",
   "execution_count": null,
   "metadata": {
    "collapsed": false
   },
   "outputs": [],
   "source": [
    "X_scaled.shape"
   ]
  },
  {
   "cell_type": "code",
   "execution_count": null,
   "metadata": {
    "collapsed": false
   },
   "outputs": [],
   "source": [
    "#G Protein, Agonist Results\n",
    "test_drugs = secret_compounds + [\"nebivolol\", \"s-carvedilol\", \"xamoterol\", \"3p0g_lig\", \"isoetharine\", \"ethylnorepinephrine\", \"N-Cyclopentylbutanephrine\", \"ta-2005\", \"procaterol\"]\n",
    "X_test = docking_normalized.transpose().loc[test_drugs].values[:, top_indices]\n",
    "print(X_test)\n",
    "pd.DataFrame(rfr.predict_proba(X_test), index=test_drugs, columns=[\"P(Antagonist\", \"P(Agonist)\"])"
   ]
  },
  {
   "cell_type": "code",
   "execution_count": null,
   "metadata": {
    "collapsed": false
   },
   "outputs": [],
   "source": [
    "#ARRESTIN, Agonist Results\n",
    "X_test = docking_normalized.transpose().loc[test_drugs].values[:, top_indices]\n",
    "X_test.shape\n",
    "pd.DataFrame(rfr.predict_proba(X_test), index=test_drugs, columns=[\"P(Antagonist\", \"P(Agonist)\"])"
   ]
  },
  {
   "cell_type": "code",
   "execution_count": null,
   "metadata": {
    "collapsed": false
   },
   "outputs": [],
   "source": [
    "#G Protein, Full Agonist Results\n",
    "test_drugs = secret_compounds + [\"nebivolol\", \"s-carvedilol\", \"xamoterol\", \"3p0g_lig\", \"isoetharine\", \"ethylnorepinephrine\", \"N-Cyclopentylbutanephrine\"]\n",
    "X_test = docking_normalized.transpose().loc[test_drugs].values[:, top_indices]\n",
    "pd.DataFrame(rfr.predict_proba(X_test), index=test_drugs, columns=[\"P(Antagonist\", \"P(Agonist)\"])"
   ]
  },
  {
   "cell_type": "code",
   "execution_count": null,
   "metadata": {
    "collapsed": false
   },
   "outputs": [],
   "source": [
    "#ARRESTIN, Agonist Results\n",
    "X_test = docking_normalized.transpose().loc[test_drugs].values[:, top_indices]\n",
    "X_test.shape\n",
    "pd.DataFrame(rfr.predict_proba(X_test), index=test_drugs, columns=[\"P(Antagonist\", \"P(Agonist)\"])"
   ]
  },
  {
   "cell_type": "code",
   "execution_count": null,
   "metadata": {
    "collapsed": false
   },
   "outputs": [],
   "source": [
    "common_agonists = total_activity.loc[total_activity > 0.2].index.values\n",
    "plt.scatter(docking_normalized.loc[\"cluster21\"][common_agonists], bret[\"B2AR-Gprotein, Mean\"].subtract(bret[\"B2AR-Arrestin, Mean\"])[common_agonists])"
   ]
  },
  {
   "cell_type": "code",
   "execution_count": null,
   "metadata": {
    "collapsed": false
   },
   "outputs": [],
   "source": [
    "len(common_ligands)"
   ]
  },
  {
   "cell_type": "code",
   "execution_count": null,
   "metadata": {
    "collapsed": false
   },
   "outputs": [],
   "source": [
    "#ARRESTIN, Partial Agonist Results\n",
    "X_test = docking_normalized.transpose().loc[test_drugs].values[:, top_indices]\n",
    "X_test.shape\n",
    "pd.DataFrame(rfr.predict_proba(X_test), index=test_drugs, columns=[\"P(Antagonist\", \"P(Agonist)\"])"
   ]
  },
  {
   "cell_type": "code",
   "execution_count": null,
   "metadata": {
    "collapsed": false
   },
   "outputs": [],
   "source": [
    "#ARRESTIN, Full Agonist Results\n",
    "X_test = docking_normalized.transpose().loc[test_drugs].values[:, top_indices]\n",
    "X_test.shape\n",
    "pd.DataFrame(rfr.predict_proba(X_test), index=test_drugs, columns=[\"P(Antagonist\", \"P(Agonist)\"])"
   ]
  },
  {
   "cell_type": "code",
   "execution_count": null,
   "metadata": {
    "collapsed": false
   },
   "outputs": [],
   "source": [
    "top_indices"
   ]
  },
  {
   "cell_type": "code",
   "execution_count": null,
   "metadata": {
    "collapsed": false
   },
   "outputs": [],
   "source": [
    "ddg_scaled.transpose().loc[secret_compounds]"
   ]
  },
  {
   "cell_type": "code",
   "execution_count": null,
   "metadata": {
    "collapsed": false
   },
   "outputs": [],
   "source": [
    "plot_clustermap(docking_normalized[secret_compounds].iloc[top_indices].transpose(), save_file=\"%s/mehrdad_clustermap.pdf\" %(save_dir), method='average', z_score=None)\n",
    "\n"
   ]
  },
  {
   "cell_type": "code",
   "execution_count": null,
   "metadata": {
    "collapsed": false
   },
   "outputs": [],
   "source": [
    "np.median(test_aucs, axis=0)"
   ]
  },
  {
   "cell_type": "code",
   "execution_count": null,
   "metadata": {
    "collapsed": false
   },
   "outputs": [],
   "source": [
    "plt.scatter(ddg_scaled.loc[\"cluster11\"][common_agonists], y)\n",
    "\n"
   ]
  },
  {
   "cell_type": "code",
   "execution_count": null,
   "metadata": {
    "collapsed": false
   },
   "outputs": [],
   "source": [
    "arrestin_top = [16, 80, 43, 21, 84, 38, 44, 6, 13, 99]\n",
    "gprot_top = [44, 6, 83, 4, 76, 99, 62, 92, 39, 80]\n",
    "\n",
    "arrestin_only = sorted(list(set(arrestin_top).difference(set(gprot_top))))\n",
    "print(arrestin_only)\n",
    "gprot_only = sorted(list(set(gprot_top).difference(set(arrestin_top))))\n",
    "print(gprot_only)\n",
    "both = sorted(list(set(arrestin_top).intersection(set(gprot_top))))\n",
    "print(both)\n"
   ]
  },
  {
   "cell_type": "code",
   "execution_count": null,
   "metadata": {
    "collapsed": false
   },
   "outputs": [],
   "source": [
    "samples_pnas_tica.loc[importances_df.index.values.tolist()[:5]]"
   ]
  },
  {
   "cell_type": "code",
   "execution_count": null,
   "metadata": {
    "collapsed": false
   },
   "outputs": [],
   "source": [
    "importances_df"
   ]
  },
  {
   "cell_type": "code",
   "execution_count": null,
   "metadata": {
    "collapsed": false
   },
   "outputs": [],
   "source": [
    "import sklearn\n",
    "reload(sklearn)\n",
    "from sklearn.metrics import r2_score\n",
    "from sklearn.ensemble import GradientBoostingRegressor\n",
    "from sklearn.preprocessing import binarize\n",
    "from sklearn import cross_validation\n",
    "\n",
    "test_accuracies = []\n",
    "test_aucs = []\n",
    "test_log_aucs = []\n",
    "C_test_aucs = []\n",
    "C_test_log_aucs = []\n",
    "n_trials = 10\n",
    "feature_importances = []\n",
    "total_activity = bret[\"B2AR-Arrestin, Mean\"].loc[common_ligands].add(bret[\"B2AR-Gprotein, Mean\"].loc[common_ligands])\n",
    "common_agonists = total_activity.loc[total_activity > 0.1].index.values\n",
    "\n",
    "#biased_ligands = [\"ethylnorepinephrine\", \"isoetharine\", \"N-Cyclopentylbutanephrine\"]\n",
    "#biased_ligands += [\"nebivolol\", \"s-carvedilol\"]\n",
    "#non_biased_ligands =  [\"r_isopreterenol\", \"r_epinephrine\", \"norepinephrine\", \"zinterol\", \"orciprenaline\", \"epinine\", \"terbutaline\", \"fenoterol\", \"procaterol\", \"formoterol\", \"salbutamol\", \"salmeterol\"]\n",
    "#non_biased_ligands += [\"s-carazolol\", \"Ici215001\", \"bisoprolol\", \"timolol\", \"s-atenolol\"]\n",
    "#non_biased_ligands = [n for n in df.columns.values.tolist() if n not in biased_ligands and \"Carvedilol\" not in n]\n",
    "#common_agonists = biased_ligands + non_biased_ligands\n",
    "#common_agonists = common_ligands\n",
    "#top_clusters = [\"cluster80\", \"cluster62\", \"cluster11\", \"cluster21\", \"cluster16\", \"cluster43\", \"cluster38\"]\n",
    "#differences = np.zeros((len(top_clusters), len(top_clusters)))\n",
    "#for i, cluster in enumerate(top_clusters):\n",
    "#    for j in range(i, len(top_clusters)):\n",
    "#        differences[i][j] = \n",
    "\n",
    "#top_clusters = importances_df.index.values\n",
    "top_clusters = delta_delta_g.index.values\n",
    "\n",
    "y_ori = bret[\"B2AR-Arrestin, Mean\"].loc[common_agonists].subtract(bret[\"B2AR-Gprotein, Mean\"].loc[common_agonists]).values.reshape((-1,1))\n",
    "#y_ori = np.vstack([y_ori, np.ones(3).reshape((-1,1))])\n",
    "#common_agonists = common_agonists.tolist() + biased_ligands\n",
    "\n",
    "X = delta_delta_g.loc[top_clusters][common_agonists].values.T\n",
    "X_scaled = ddg_scaled.loc[top_clusters][common_agonists].values.T\n",
    "C = null_features.loc[common_agonists].values\n",
    "D_scaled = docking_normalized.loc[top_clusters][common_agonists].values.T\n",
    "\n",
    "#y = np.array([1. for n in biased_ligands] + [0. for n in non_biased_ligands]).reshape((-1,1))\n",
    "#print(y_ori)\n",
    "#y_ori = bret[\"B2AR-Arrestin, Mean\"].loc[common_agonists].values.reshape((-1,1))\n",
    "#plt.hist(y_ori, bins=25)\n",
    "y = binarize(y_ori, threshold=-0.2)\n",
    "\n",
    "features = [C, X_scaled, D_scaled]\n",
    "features_y = [C, X_scaled, D_scaled, y]\n",
    "feature_names = [\"Crystal Structures\", \"MSM ddG\", \"Docking\"]"
   ]
  },
  {
   "cell_type": "code",
   "execution_count": null,
   "metadata": {
    "collapsed": false,
    "scrolled": true
   },
   "outputs": [],
   "source": [
    "xt = ddg_scaled[biased_ligands].values.T\n",
    "xt_preds = []\n",
    "\n",
    "\n",
    "for j in range(0,n_trials):\n",
    "    print(j)\n",
    "    aucs = []\n",
    "    log_aucs = []\n",
    "    train_test_arrays = sklearn.cross_validation.train_test_split(*features_y, train_size=0.8, stratify=y) \n",
    "    y_train = train_test_arrays[2*len(features)]\n",
    "    y_test = train_test_arrays[2*len(features) + 1]\n",
    "    feature_importance = []\n",
    "    \n",
    "    for i in range(0, len(features)):\n",
    "        X_train = train_test_arrays[2*i]\n",
    "        X_test = train_test_arrays[2*i+1]\n",
    "\n",
    "        sc = StandardScaler()\n",
    "        sc.fit(X_train)\n",
    "        X_train = sc.transform(X_train)\n",
    "        X_test = sc.transform(X_test)\n",
    "\n",
    "        rfr = RandomForestClassifier(n_estimators=100, max_features='sqrt', max_depth=3, n_jobs=-1, oob_score=True)\n",
    "        rfr.fit(X_train, y_train)\n",
    "        #top_indices = np.argsort(rfr.feature_importances_*-1.)[:min(10, X.shape[1])]\n",
    "        feature_importance.append(rfr.feature_importances_)\n",
    "        #rfr = RandomForestClassifier(n_estimators=10, max_features=None, n_jobs=-1, oob_score=True)\n",
    "        #X_train = X_train[:, top_indices]\n",
    "        #X_test = X_test[:, top_indices]\n",
    "        #rfr.fit(X_train, y_train)\n",
    "        #f = np.zeros(X.shape[1])\n",
    "        #f[top_indices] = rfr.feature_importances_\n",
    "        #feature_importance.append(f)\n",
    "        \n",
    "        if i == 1:\n",
    "            xt_preds.append(rfr.predict(xt))\n",
    "        \n",
    "        y_pred = rfr.predict(X_test)\n",
    "        y_score = rfr.predict_proba(X_test)\n",
    "        auc, logauc = compute_auc(y_test, y_score)\n",
    "        aucs.append(auc)\n",
    "        log_aucs.append(logauc)  \n",
    "    feature_importances.append(feature_importance)\n",
    "    test_aucs.append(aucs)\n",
    "    test_log_aucs.append(log_aucs)"
   ]
  },
  {
   "cell_type": "code",
   "execution_count": null,
   "metadata": {
    "collapsed": false
   },
   "outputs": [],
   "source": [
    "biased_ligands = [\"ethylnorepinephrine\", \"isoetharine\", \"N-Cyclopentylbutanephrine\"]\n",
    "\n",
    "non_biased_ligands =  [\"r_isopreterenol\", \"r_epinephrine\", \"norepinephrine\", \"zinterol\", \"orciprenaline\", \"epinine\", \"terbutaline\", \"fenoterol\", \"procaterol\", \"formoterol\", \"salbutamol\", \"salmeterol\"]\n",
    "\n",
    "ddg_scaled.loc[importances_df.index.values[:5]][biased_ligands + non_biased_ligands]"
   ]
  },
  {
   "cell_type": "code",
   "execution_count": null,
   "metadata": {
    "collapsed": false
   },
   "outputs": [],
   "source": [
    "ddg_scaled.sort(\"procaterol\", inplace=False).iloc[:10]"
   ]
  },
  {
   "cell_type": "code",
   "execution_count": null,
   "metadata": {
    "collapsed": false
   },
   "outputs": [],
   "source": [
    "plt.scatter(ddg_scaled.loc[\"cluster36\"][common_agonists], y)"
   ]
  },
  {
   "cell_type": "code",
   "execution_count": null,
   "metadata": {
    "collapsed": false
   },
   "outputs": [],
   "source": [
    "y"
   ]
  },
  {
   "cell_type": "code",
   "execution_count": null,
   "metadata": {
    "collapsed": false,
    "scrolled": true
   },
   "outputs": [],
   "source": [
    "import sklearn\n",
    "reload(sklearn)\n",
    "from sklearn.metrics import r2_score\n",
    "from sklearn.ensemble import GradientBoostingRegressor\n",
    "from sklearn.preprocessing import binarize\n",
    "from sklearn import cross_validation\n",
    "\n",
    "test_accuracies = []\n",
    "test_aucs = []\n",
    "test_log_aucs = []\n",
    "C_test_aucs = []\n",
    "C_test_log_aucs = []\n",
    "n_trials = 1000\n",
    "feature_importances = []\n",
    "reg = []\n",
    "total_activity = bret[\"B2AR-Arrestin, Mean\"].loc[common_ligands].add(bret[\"B2AR-Gprotein, Mean\"].loc[common_ligands])\n",
    "common_agonists = total_activity.loc[total_activity > 0.3].index.values\n",
    "\n",
    "#biased_ligands = [\"ethylnorepinephrine\", \"isoetharine\", \"N-Cyclopentylbutanephrine\", \"3p0g_lig\"]\n",
    "#biased_ligands = [\"nebivolol\", \"s-carvedilol\"]\n",
    "#non_biased_ligands =  [\"r_isopreterenol\", \"r_epinephrine\", \"norepinephrine\", \"zinterol\", \"orciprenaline\", \"epinine\", \"terbutaline\", \"fenoterol\", \"procaterol\", \"formoterol\", \"salbutamol\", \"salmeterol\"]\n",
    "#non_biased_ligands = [\"s-carazolol\", \"Ici215001\", \"bisoprolol\", \"timolol\", \"s-atenolol\"]\n",
    "#non_biased_ligands = [n for n in df.columns.values.tolist() if n not in biased_ligands and \"Carvedilol\" not in n]\n",
    "#common_agonists = biased_ligands + non_biased_ligands\n",
    "\n",
    "X = delta_delta_g[common_agonists].values.T\n",
    "X_scaled = ddg_scaled[common_agonists].values.T\n",
    "C = null_features.loc[common_agonists].values\n",
    "\n",
    "#y = np.array([1. for n in biased_ligands] + [0. for n in non_biased_ligands]).reshape((-1,1))\n",
    "#y_ori = bret[\"B2AR-Arrestin, Mean\"].loc[common_ligands].divide(bret[\"B2AR-Arrestin, Mean\"].loc[common_agonists].add(bret[\"B2AR-Gprotein, Mean\"].loc[common_agonists])).values.reshape((-1,1))\n",
    "y_ori = bret[\"B2AR-Arrestin, Mean\"].loc[common_agonists].values.reshape((-1,1))\n",
    "plt.hist(y_ori, bins=25)\n",
    "y = binarize(y_ori, threshold=0.2) \n",
    "\n",
    "features = [C, X, X_scaled, docking_normalized[common_agonists].values.T]\n",
    "features_y = [C, X, X_scaled, docking_normalized[common_agonists].values.T, y]\n",
    "feature_names = [\"Crystal Structures\", \"MSM States\", \"Normalized MSM States\", \"Normalized Docking\"]\n",
    "  \n",
    "\n",
    "for j in range(0,n_trials):\n",
    "    print(j)\n",
    "    aucs = []\n",
    "    log_aucs = []\n",
    "    train_test_arrays = sklearn.cross_validation.train_test_split(*features_y, train_size=0.8, stratify=y) \n",
    "    y_train = train_test_arrays[2*len(features)]\n",
    "    y_test = train_test_arrays[2*len(features) + 1]\n",
    "    feature_importance = []\n",
    "    r = []\n",
    "    \n",
    "    for i in range(0, len(features)):\n",
    "        X_train = train_test_arrays[2*i]\n",
    "        X_test = train_test_arrays[2*i+1]\n",
    "\n",
    "        sc = StandardScaler()\n",
    "        sc.fit(X_train)\n",
    "        X_train = sc.transform(X_train)\n",
    "        X_test = sc.transform(X_test)\n",
    "        \n",
    "        cs = np.logspace(-3., 20.)\n",
    "        rfr = LogisticRegressionCV(Cs=cs, penalty='l2')\n",
    "        rfr.fit(X_train, y_train)\n",
    "        feature_importance.append(rfr.coef_)\n",
    "        y_pred = rfr.predict(X_test)\n",
    "        y_score = rfr.predict_proba(X_test)\n",
    "        auc, logauc = compute_auc(y_test, y_score)\n",
    "        aucs.append(auc)\n",
    "        log_aucs.append(logauc)  \n",
    "        r.append(rfr.C_)\n",
    "    reg.append(r)\n",
    "    feature_importances.append(feature_importance)\n",
    "    test_aucs.append(aucs)\n",
    "    test_log_aucs.append(log_aucs)"
   ]
  },
  {
   "cell_type": "code",
   "execution_count": null,
   "metadata": {
    "collapsed": false
   },
   "outputs": [],
   "source": [
    "plt.scatter(docking_normalized.loc[\"cluster80\"][common_ligands], -1.0*bret.loc[common_ligands][\"B2AR-Gprotein, Mean\"].subtract(bret.loc[common_ligands][\"B2AR-Arrestin, Mean\"]))"
   ]
  },
  {
   "cell_type": "code",
   "execution_count": null,
   "metadata": {
    "collapsed": false,
    "scrolled": true
   },
   "outputs": [],
   "source": [
    "auc_df = pd.DataFrame(np.array(test_aucs), columns=feature_names)\n",
    "auc_df.plot(kind='box')"
   ]
  },
  {
   "cell_type": "code",
   "execution_count": null,
   "metadata": {
    "collapsed": false
   },
   "outputs": [],
   "source": [
    "auc_df.median(axis=0)"
   ]
  },
  {
   "cell_type": "code",
   "execution_count": null,
   "metadata": {
    "collapsed": false
   },
   "outputs": [],
   "source": [
    "normalized_docking_importances = [f[1] for f in feature_importances]"
   ]
  },
  {
   "cell_type": "code",
   "execution_count": null,
   "metadata": {
    "collapsed": false,
    "scrolled": true
   },
   "outputs": [],
   "source": [
    "importances_df = make_importances_df(normalized_docking_importances, top_clusters)\n",
    "importances_df\n"
   ]
  },
  {
   "cell_type": "code",
   "execution_count": null,
   "metadata": {
    "collapsed": false
   },
   "outputs": [],
   "source": [
    "from sklearn.preprocessing import binarize\n",
    "X = ddg_scaled[common_ligands].values.T\n",
    "y = bret[\"B2AR-Gprotein, Mean\"].loc[common_ligands].values.reshape((-1,1))\n",
    "y = binarize(y, threshold=0.5)\n",
    "print(np.shape(y))\n",
    "from sklearn.svm import l1_min_c\n",
    "from sklearn import linear_model\n",
    "\n",
    "#cs = l1_min_c(X, y, loss='log') * np.logspace(0, 3)\n",
    "cs = np.logspace(-3., 20.)\n",
    "print(\"Computing regularization path ...\")\n",
    "clf = linear_model.LogisticRegression(C=1.0, penalty='l2', tol=1e-6)\n",
    "coefs_ = []\n",
    "for c in cs:\n",
    "    clf.set_params(C=c)\n",
    "    clf.fit(X, y)\n",
    "    coefs_.append(clf.coef_.ravel().copy())\n",
    "\n",
    "coefs_ = pd.DataFrame(np.array(coefs_), columns=ddg_scaled.index.values, index=np.log10(cs))\n",
    "#coefs_[list(set(inactive_clusters.tolist()).intersection(set(importances_df.iloc[10:20].index.values.tolist())))].plot()\n",
    "coefs_[importances_df.index.values[:5]].plot()\n",
    "#plt.plot(np.log10(cs), coefs_)\n",
    "#ymin, ymax = plt.ylim()\n",
    "###plt.xlabel('log(C)')\n",
    "#plt.ylabel('Coefficients')\n",
    "##plt.title('Logistic Regression Path')\n",
    "#plt.axis('tight')\n",
    "#plt.show()"
   ]
  },
  {
   "cell_type": "code",
   "execution_count": null,
   "metadata": {
    "collapsed": false
   },
   "outputs": [],
   "source": [
    "samples_pnas_tica.loc[importances_df.index.values[:10]]"
   ]
  },
  {
   "cell_type": "code",
   "execution_count": null,
   "metadata": {
    "collapsed": false
   },
   "outputs": [],
   "source": [
    "plt.scatter(deltas_tica.loc[importances_df.index.values[:10]][\"tIC.6\"], coefs_[importances_df.index.values[:10]].values[49])"
   ]
  },
  {
   "cell_type": "code",
   "execution_count": null,
   "metadata": {
    "collapsed": false,
    "scrolled": true
   },
   "outputs": [],
   "source": [
    "plot_clustermap(ddg_scaled[common_agonists.tolist()].loc[importances_df.index.values.tolist()[:5]].transpose(), save_file=\"%s/msm_n-clusters%d_lag-time%d_tICs%d.pdf\" %(tica_dir, n_clusters, msm_lag_time, n_components), method='average')\n",
    "\n"
   ]
  },
  {
   "cell_type": "code",
   "execution_count": null,
   "metadata": {
    "collapsed": false
   },
   "outputs": [],
   "source": [
    "samples_pnas_tica.loc[samples_pnas_tica[\"tm6_tm3_dist\"] < 18.0].loc[importances_df.iloc[0:5].index].dropna()"
   ]
  },
  {
   "cell_type": "code",
   "execution_count": null,
   "metadata": {
    "collapsed": false
   },
   "outputs": [],
   "source": [
    "ddg_scaled[\"nebivolol\"].subtract(ddg_scaled[\"s-carazolol\"]).sort(inplace=False).iloc[:10]"
   ]
  },
  {
   "cell_type": "code",
   "execution_count": null,
   "metadata": {
    "collapsed": false
   },
   "outputs": [],
   "source": [
    "ddg_scaled[\"s-carvedilol\"].subtract(ddg_scaled[\"s-carazolol\"]).sort(inplace=False).iloc[:10]"
   ]
  },
  {
   "cell_type": "code",
   "execution_count": null,
   "metadata": {
    "collapsed": false
   },
   "outputs": [],
   "source": [
    "samples_pnas_tica.loc[[\"cluster74\", \"cluster69\", \"cluster13\", \"cluster12\", \"cluster66\"]]"
   ]
  },
  {
   "cell_type": "code",
   "execution_count": null,
   "metadata": {
    "collapsed": false,
    "scrolled": true
   },
   "outputs": [],
   "source": [
    "import plots\n",
    "reload(plots)\n",
    "from plots import *\n",
    "#plot_importances_barh(importances_df.values, importances_df.index.values, \"MSM State Importance in Arrestin Prediction\", \"Feature Importance\", \"MSM State\", \"%s/arrestin_0pt5_classification_rfr.pdf\" %(tica_dir), n_features=50)\n",
    "importances_df.iloc[0:25].plot(kind='barh')\n",
    "plt.xlabel(\"Feature Importance\")\n",
    "plt.ylabel(\"MSM State\")\n",
    "plt.title(\"Importance of MSM States in Predicting Arrestin Activity\")\n",
    "plt.savefig(\"%s/msm_%dstates_arrestin_0pt2_agonists_only_classification_rfr.pdf\" %(tica_dir, n_clusters))\n",
    "#plt.clf()\n"
   ]
  },
  {
   "cell_type": "code",
   "execution_count": null,
   "metadata": {
    "collapsed": true
   },
   "outputs": [],
   "source": []
  },
  {
   "cell_type": "code",
   "execution_count": null,
   "metadata": {
    "collapsed": false
   },
   "outputs": [],
   "source": [
    "X = docking_normalized[common_agonists].values.T\n",
    "y = bret[\"B2AR-Arrestin, Mean\"].subtract(bret[\"B2AR-Gprotein, Mean\"]).loc[common_agonists].values.reshape((-1,1))\n",
    "y = binarize(y, threshold=-0.2)\n",
    "print(y)\n",
    "from sklearn import linear_model\n",
    "\n",
    "cs = np.logspace(-3., 200.)\n",
    "clf = linear_model.LogisticRegression(C=1.0, penalty='l2', tol=1e-6)\n",
    "coefs_ = []\n",
    "for c in cs:\n",
    "    clf.set_params(C=c)\n",
    "    clf.fit(X, y)\n",
    "    coefs_.append(clf.coef_.ravel().copy())\n",
    "\n",
    "coefs_ = pd.DataFrame(np.array(coefs_), columns=ddg_scaled.index.values, index=np.log10(cs))\n",
    "coefs_[importances_df.iloc[0:10].loc[samples_pnas_tica[\"tm6_tm3_dist\"] < 9.].index].plot()\n",
    "plt.xlabel(\"Log Regularization Parameter\")\n",
    "plt.ylabel(\"Coefficient for Arrestin Activity\")\n",
    "plt.title(\"Logistic Regression Coefficient in Predicting Arrestin Activity\")\n",
    "plt.savefig(\"%s/msm_%dstates_arrestin_0pt2_agonists_only_classification_logistic.pdf\" %(tica_dir, n_clusters))\n",
    "#plt.clf()"
   ]
  },
  {
   "cell_type": "code",
   "execution_count": null,
   "metadata": {
    "collapsed": false
   },
   "outputs": [],
   "source": [
    "np.shape(coefs_)"
   ]
  },
  {
   "cell_type": "code",
   "execution_count": null,
   "metadata": {
    "collapsed": false
   },
   "outputs": [],
   "source": [
    "print(np.median(np.nan_to_num(test_aucs)))\n",
    "print(np.median(np.nan_to_num(C_test_aucs)))\n",
    "print(np.median(np.nan_to_num(test_log_aucs)))\n",
    "print(np.median(np.nan_to_num(C_test_log_aucs)))"
   ]
  },
  {
   "cell_type": "code",
   "execution_count": null,
   "metadata": {
    "collapsed": false
   },
   "outputs": [],
   "source": [
    "lr = LinearRegression()\n",
    "states = importances_df.index.values.tolist()\n",
    "model = lr.fit(X, y_ori)\n",
    "pd.DataFrame(model.coef_.T, index=delta_delta_g.index, columns=[\"importance\"]).loc[states]#.sort(\"importance\", inplace=False)"
   ]
  },
  {
   "cell_type": "code",
   "execution_count": null,
   "metadata": {
    "collapsed": false
   },
   "outputs": [],
   "source": [
    "model.coef_.shape"
   ]
  },
  {
   "cell_type": "code",
   "execution_count": null,
   "metadata": {
    "collapsed": false
   },
   "outputs": [],
   "source": []
  },
  {
   "cell_type": "code",
   "execution_count": null,
   "metadata": {
    "collapsed": false
   },
   "outputs": [],
   "source": [
    "import seaborn\n",
    "reload(seaborn)\n",
    "import seaborn as sns\n",
    "plt.style.use('ggplot')\n",
    "plt.figure(figsize=(5, 5))\n",
    "sns.set_style(\"darkgrid\")\n",
    "g = (auc_df\n",
    "    .pipe((sns.boxplot, 'data'), orient='v', showfliers=True))\n",
    "g.set_xticklabels(auc_df.columns.values, rotation=90)\n",
    "sns.despine()\n",
    "plt.title(\"AUC for Arrestin Prediction\")\n",
    "plt.ylabel(\"Frequency AUCs over Random Splits\")\n",
    "plt.xlabel(\"Featurization\")\n",
    "plt.show()\n",
    "plt.savefig(\"%s/auc_arrestin_prediction_all_ligands_0pt2_cutoff.pdf\" %tica_dir)"
   ]
  },
  {
   "cell_type": "code",
   "execution_count": null,
   "metadata": {
    "collapsed": false
   },
   "outputs": [],
   "source": [
    "corr_matrix = compute_pearson_matrix(delta_delta_g[common_agonists].values.T, y)\n",
    "corr_df = pd.DataFrame(model.coef_.T, index=delta_delta_g.index.values, columns=[\"Correlation\"]).sort(\"Correlation\",inplace=False)\n",
    "#corr_df.loc[[\"cluster80\", \"cluster16\", \"cluster43\", \"cluster44\"]].plot(kind='barh')\n",
    "corr_df.loc[importances_df.index.values[:20]].sort(\"Correlation\", inplace=False).plot(kind='barh')#, figsize=(5,20))\n",
    "plt.xlabel(\"Pearsson Correlation with Arrestin Activity\")\n",
    "plt.ylabel(\"MSM State\")\n",
    "plt.title(\"Correlation of MSM States with Arrestin Activity\")\n"
   ]
  },
  {
   "cell_type": "code",
   "execution_count": null,
   "metadata": {
    "collapsed": true
   },
   "outputs": [],
   "source": []
  },
  {
   "cell_type": "code",
   "execution_count": null,
   "metadata": {
    "collapsed": false
   },
   "outputs": [],
   "source": [
    "samples_pnas_tica.loc[corr_df.loc[importances_df.index.values[:20]].sort(\"Correlation\", inplace=False).index.values]"
   ]
  },
  {
   "cell_type": "code",
   "execution_count": null,
   "metadata": {
    "collapsed": true
   },
   "outputs": [],
   "source": []
  },
  {
   "cell_type": "code",
   "execution_count": null,
   "metadata": {
    "collapsed": false
   },
   "outputs": [],
   "source": [
    "df = copy.deepcopy(aggregate_docking_msm)\n",
    "df[df.columns.values] = scale(df.values)\n",
    "plt.scatter(df[common_ligands].loc[\"cluster13\"].values, bret[\"B2AR-Arrestin, Mean\"].loc[common_ligands].values.T)"
   ]
  },
  {
   "cell_type": "code",
   "execution_count": null,
   "metadata": {
    "collapsed": false
   },
   "outputs": [],
   "source": [
    "bret"
   ]
  },
  {
   "cell_type": "code",
   "execution_count": null,
   "metadata": {
    "collapsed": false,
    "scrolled": true
   },
   "outputs": [],
   "source": [
    "import sklearn\n",
    "reload(sklearn)\n",
    "from sklearn.metrics import r2_score\n",
    "from sklearn.ensemble import GradientBoostingRegressor\n",
    "from sklearn.preprocessing import binarize\n",
    "from sklearn import cross_validation\n",
    "\n",
    "test_accuracies = []\n",
    "test_aucs = []\n",
    "test_log_aucs = []\n",
    "C_test_aucs = []\n",
    "C_test_log_aucs = []\n",
    "n_trials = 100\n",
    "feature_importances = []\n",
    "\n",
    "for j in range(0,n_trials):\n",
    "    print(j)\n",
    "\n",
    "    X = delta_delta_g[common_ligands].values.T\n",
    "    C = null_features.loc[common_ligands].values\n",
    "    y = bret[\"B2AR-Arrestin, Mean\"].loc[common_ligands].values.reshape((-1,1))\n",
    "    y = binarize(y, threshold=0.5)\n",
    "\n",
    "    X_train, X_test, y_train, y_test, C_train, C_test = sklearn.cross_validation.train_test_split(X, y, C, train_size=0.8, stratify=y)\n",
    "    \n",
    "    sc = StandardScaler()\n",
    "    sc.fit(X_train)\n",
    "    X_train = sc.transform(X_train)\n",
    "    X_test = sc.transform(X_test)\n",
    "\n",
    "    sc = StandardScaler()\n",
    "    sc.fit(C_train)\n",
    "    C_train = sc.transform(C_train)\n",
    "    C_test = sc.transform(C_test)\n",
    " \n",
    "    rfr = RandomForestClassifier(n_estimators=100, max_features='sqrt', max_depth=2, n_jobs=-1, oob_score=True)\n",
    "    rfr.fit(X_train, y_train)\n",
    "    feature_importances.append(rfr.feature_importances_)\n",
    "    y_pred = rfr.predict(X_test)\n",
    "    test_accuracies.append(np.sqrt(np.mean(np.square(y_test-y_pred.reshape((-1,1))))))\n",
    "    y_score = rfr.predict_proba(X_test)\n",
    "    auc, logauc = compute_auc(y_test, y_score)\n",
    "    test_aucs.append(auc)\n",
    "    test_log_aucs.append(logauc)\n",
    "    \n",
    "    rfr = RandomForestClassifier(n_estimators=100, max_features='sqrt', max_depth=2, n_jobs=-1, oob_score=True)\n",
    "    rfr.fit(C_train, y_train)\n",
    "    C_y_pred = rfr.predict(C_test)\n",
    "    y_score = rfr.predict_proba(C_test)\n",
    "    auc, logauc = compute_auc(y_test, y_score)\n",
    "    C_test_aucs.append(auc)\n",
    "    C_test_log_aucs.append(logauc)\n",
    "\n",
    "    \n",
    "    \n",
    "\n",
    "    "
   ]
  },
  {
   "cell_type": "code",
   "execution_count": null,
   "metadata": {
    "collapsed": false
   },
   "outputs": [],
   "source": [
    "import seaborn\n",
    "reload(seaborn)\n",
    "import seaborn as sns\n",
    "auc_df = pd.DataFrame(np.vstack([test_aucs, C_test_aucs]).T, columns=[\"MSM States\", \"Crystal Structures\"])\n",
    "\n",
    "plt.style.use('ggplot')\n",
    "plt.figure(figsize=(5, 5))\n",
    "sns.set_style(\"darkgrid\")\n",
    "g = (auc_df\n",
    "    .pipe((sns.boxplot, 'data'), orient='v', showfliers=True))\n",
    "#g.set_xticklabels(experiments.columns.values, rotation=90)\n",
    "sns.despine()\n",
    "plt.title(\"AUC for G Protein Prediction\")\n",
    "plt.ylabel(\"Frequency AUCs over Random Splits\")\n",
    "plt.xlabel(\"Featurization\")\n",
    "plt.show()\n",
    "plt.savefig(\"%s/msm_n-states%d_auc_gprot_prediction_cutoff0pt5.pdf\" %(tica_dir, n_clusters))"
   ]
  },
  {
   "cell_type": "code",
   "execution_count": null,
   "metadata": {
    "collapsed": false
   },
   "outputs": [],
   "source": [
    "importances_df = make_importances_df(feature_importances, delta_delta_g.index.values.tolist())\n",
    "importances_df\n",
    "\n"
   ]
  },
  {
   "cell_type": "code",
   "execution_count": null,
   "metadata": {
    "collapsed": false
   },
   "outputs": [],
   "source": [
    "import sklearn\n",
    "from sklearn.linear_model import LinearRegression, Lasso\n",
    "model = Lasso(alpha=0.0001)                                \n",
    "model.fit(ddg_scaled[common_agonists].values.T, bret.loc[common_agonists][\"B2AR-Arrestin, Mean\"].subtract(bret.loc[common_agonists][\"B2AR-Gprotein, Mean\"].values))\n",
    "pd.DataFrame(model.coef_, index=ddg_scaled.index, columns=[\"importance\"]).sort(\"importance\", inplace=False)"
   ]
  },
  {
   "cell_type": "code",
   "execution_count": null,
   "metadata": {
    "collapsed": false
   },
   "outputs": [],
   "source": [
    "print(np.median(np.nan_to_num(test_aucs)))\n",
    "print(np.median(np.nan_to_num(C_test_aucs)))\n",
    "print(np.median(np.nan_to_num(test_log_aucs)))\n",
    "print(np.median(np.nan_to_num(C_test_log_aucs)))"
   ]
  },
  {
   "cell_type": "code",
   "execution_count": null,
   "metadata": {
    "collapsed": false
   },
   "outputs": [],
   "source": [
    "import plots\n",
    "reload(plots)\n",
    "from plots import *\n",
    "#plot_importances_barh(importances_df.values, importances_df.index.values, \"MSM State Importance in Arrestin Prediction\", \"Feature Importance\", \"MSM State\", \"%s/arrestin_0pt5_classification_rfr.pdf\" %(tica_dir), n_features=50)\n",
    "importances_df.iloc[0:25].plot(kind='barh')\n",
    "plt.xlabel(\"Feature Importance\")\n",
    "plt.ylabel(\"MSM State\")\n",
    "plt.title(\"Importance of MSM States in Predicting G Protein Activity\")\n",
    "#plt.savefig(\"%s/msm_%dstates_gprot_0pt5_classification_rfr.pdf\" %(tica_dir, n_clusters))\n",
    "#plt.clf()\n",
    "\n"
   ]
  },
  {
   "cell_type": "code",
   "execution_count": null,
   "metadata": {
    "collapsed": false
   },
   "outputs": [],
   "source": [
    "corr_matrix = compute_pearson_matrix(ddg_scaled[common_ligands].values.T, y)\n",
    "corr_df = pd.DataFrame(model.coef_, index=ddg_scaled.index.values, columns=[\"Correlation\"])\n",
    "corr_df.loc[importances_df.index.values[:10]].sort(\"Correlation\", inplace=False).plot(kind='barh')\n",
    "plt.xlabel(\"Pearsson Correlation with G Protein Activity\")\n",
    "plt.ylabel(\"MSM State\")\n",
    "plt.title(\"Correlation of MSM States with G Protein Activity\")\n",
    "#plt.savefig(\"%s/msm_%dstates_gprot_0pt5_classification_correlations.pdf\" %(tica_dir, n_clusters))\n",
    "#plt.clf()\n",
    "\n",
    "\n"
   ]
  },
  {
   "cell_type": "code",
   "execution_count": null,
   "metadata": {
    "collapsed": false
   },
   "outputs": [],
   "source": [
    "pd.set_option('display.max_rows', 500)\n",
    "pd.set_option('display.max_columns', 500)"
   ]
  }
 ],
 "metadata": {
  "anaconda-cloud": {},
  "kernelspec": {
   "display_name": "Python [Root]",
   "language": "python",
   "name": "Python [Root]"
  },
  "language_info": {
   "codemirror_mode": {
    "name": "ipython",
    "version": 3
   },
   "file_extension": ".py",
   "mimetype": "text/x-python",
   "name": "python",
   "nbconvert_exporter": "python",
   "pygments_lexer": "ipython3",
   "version": "3.5.2"
  }
 },
 "nbformat": 4,
 "nbformat_minor": 0
}
