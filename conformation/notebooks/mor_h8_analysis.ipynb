{
 "cells": [
  {
   "cell_type": "code",
   "execution_count": 1,
   "metadata": {
    "collapsed": false
   },
   "outputs": [],
   "source": [
    "from PDB_Order_Fixer import PDB_Order_Fixer\n",
    "import mdtraj as md\n",
    "import os\n",
    "import numpy as np\n",
    "import h5py\n",
    "\n",
    "import datetime\n",
    "import glob\n",
    "import copy\n",
    "from functools import partial \n",
    "import operator\n",
    "import time\n",
    "\n",
    "import random \n",
    "import subprocess\n",
    "from subprocess import Popen\n",
    "import sys\n",
    "from io_functions import *\n",
    "from custom_clusterer import *\n",
    "from custom_tica import *\n",
    "from custom_featurizer import *\n",
    "from pdb_editing import *\n",
    "from analysis import *\n",
    "from io_functions import *\n",
    "#from topology_fixing import *\n",
    "from subsampling import *\n",
    "from conversions import *\n",
    "from custom_msm import *\n",
    "from grids import *"
   ]
  },
  {
   "cell_type": "code",
   "execution_count": 2,
   "metadata": {
    "collapsed": false
   },
   "outputs": [
    {
     "name": "stderr",
     "output_type": "stream",
     "text": [
      "/home/enf/software/anaconda/lib/python2.7/site-packages/ipykernel/pylab/config.py:66: DeprecationWarning: metadata {'config': True} was set from the constructor.  Metadata should be set using the .tag() method, e.g., Int().tag(key1='value1', key2='value2')\n",
      "  inline backend.\"\"\"\n",
      "/home/enf/software/anaconda/lib/python2.7/site-packages/ipykernel/pylab/config.py:71: DeprecationWarning: metadata {'config': True} was set from the constructor.  Metadata should be set using the .tag() method, e.g., Int().tag(key1='value1', key2='value2')\n",
      "  'retina', 'jpeg', 'svg', 'pdf'.\"\"\")\n",
      "/home/enf/software/anaconda/lib/python2.7/site-packages/ipykernel/pylab/config.py:85: DeprecationWarning: metadata {'config': True} was set from the constructor.  Metadata should be set using the .tag() method, e.g., Int().tag(key1='value1', key2='value2')\n",
      "  use `figure_formats` instead)\"\"\")\n",
      "/home/enf/software/anaconda/lib/python2.7/site-packages/ipykernel/pylab/config.py:95: DeprecationWarning: metadata {'config': True} was set from the constructor.  Metadata should be set using the .tag() method, e.g., Int().tag(key1='value1', key2='value2')\n",
      "  \"\"\"\n",
      "/home/enf/software/anaconda/lib/python2.7/site-packages/ipykernel/pylab/config.py:114: DeprecationWarning: metadata {'config': True} was set from the constructor.  Metadata should be set using the .tag() method, e.g., Int().tag(key1='value1', key2='value2')\n",
      "  \"\"\")\n",
      "/home/enf/software/anaconda/lib/python2.7/site-packages/ipykernel/pylab/config.py:44: DeprecationWarning: InlineBackend._config_changed is deprecated: use @observe and @unobserve instead.\n",
      "  def _config_changed(self, name, old, new):\n",
      "/home/enf/software/anaconda/lib/python2.7/site-packages/traitlets/traitlets.py:770: DeprecationWarning: A parent of InlineBackend._config_changed has adopted the new @observe(change) API\n",
      "  clsname, change_or_name), DeprecationWarning)\n",
      "/home/enf/software/anaconda/lib/python2.7/site-packages/IPython/core/formatters.py:98: DeprecationWarning: DisplayFormatter._formatters_default is deprecated: use @default decorator instead.\n",
      "  def _formatters_default(self):\n",
      "/home/enf/software/anaconda/lib/python2.7/site-packages/IPython/core/formatters.py:677: DeprecationWarning: PlainTextFormatter._deferred_printers_default is deprecated: use @default decorator instead.\n",
      "  def _deferred_printers_default(self):\n",
      "/home/enf/software/anaconda/lib/python2.7/site-packages/IPython/core/formatters.py:669: DeprecationWarning: PlainTextFormatter._singleton_printers_default is deprecated: use @default decorator instead.\n",
      "  def _singleton_printers_default(self):\n",
      "/home/enf/software/anaconda/lib/python2.7/site-packages/IPython/core/formatters.py:672: DeprecationWarning: PlainTextFormatter._type_printers_default is deprecated: use @default decorator instead.\n",
      "  def _type_printers_default(self):\n",
      "/home/enf/software/anaconda/lib/python2.7/site-packages/IPython/core/formatters.py:672: DeprecationWarning: PlainTextFormatter._type_printers_default is deprecated: use @default decorator instead.\n",
      "  def _type_printers_default(self):\n",
      "/home/enf/software/anaconda/lib/python2.7/site-packages/IPython/core/formatters.py:677: DeprecationWarning: PlainTextFormatter._deferred_printers_default is deprecated: use @default decorator instead.\n",
      "  def _deferred_printers_default(self):\n",
      "/home/enf/software/anaconda/lib/python2.7/site-packages/matplotlib/__init__.py:872: UserWarning: axes.color_cycle is deprecated and replaced with axes.prop_cycle; please use the latter.\n",
      "  warnings.warn(self.msg_depr % (key, alt_key))\n"
     ]
    }
   ],
   "source": [
    "%matplotlib inline\n",
    "\n",
    "import matplotlib.pyplot as plt\n",
    "\n",
    "import matplotlib as mpl\n",
    "from seaborn.apionly import set_palette\n",
    "from IPython.display import set_matplotlib_formats\n",
    "\n",
    "# configure plotting\n",
    "set_matplotlib_formats('pdf', 'svg')\n",
    "set_palette('Set1', n_colors=15, desat=None)"
   ]
  },
  {
   "cell_type": "markdown",
   "metadata": {
    "collapsed": false
   },
   "source": [
    "In this iPython notebook, we will featurize MOR ligand binding simulation by pairwise distances between the ligand and different receptor residues. We will then perform tICA and prospectively build an MSM. "
   ]
  },
  {
   "cell_type": "code",
   "execution_count": 3,
   "metadata": {
    "collapsed": false
   },
   "outputs": [
    {
     "name": "stdout",
     "output_type": "stream",
     "text": [
      "we are operating on biox3\n"
     ]
    }
   ],
   "source": [
    "from detect_intermediates import *\n",
    "from interpret_tICs import *"
   ]
  },
  {
   "cell_type": "code",
   "execution_count": 4,
   "metadata": {
    "collapsed": false
   },
   "outputs": [
    {
     "name": "stdout",
     "output_type": "stream",
     "text": [
      "tm6_tm3_residues\n",
      "[R279, R165]\n",
      "[65, 66, 67, 68, 69, 70, 71, 72, 73, 74, 75, 76, 77, 78, 79, 80, 81, 82, 83, 84, 85, 86, 87, 88, 89, 90, 91, 92, 93, 94, 95, 96, 97, 98, 99, 100, 101, 102, 103, 104, 105, 106, 107, 108, 109, 110, 111, 112, 113, 114, 115, 116, 117, 118, 119, 120, 121, 122, 123, 124, 125, 126, 127, 128, 129, 130, 131, 132, 133, 134, 135, 136, 137, 138, 139, 140, 141, 142, 143, 144, 145, 146, 147, 148, 149, 150, 151, 152, 153, 154, 155, 156, 157, 158, 159, 160, 161, 162, 163, 164, 165, 166, 167, 168, 169, 170, 171, 172, 173, 174, 175, 176, 177, 178, 179, 180, 181, 182, 183, 184, 185, 186, 187, 188, 189, 190, 191, 192, 193, 194, 195, 196, 197, 198, 199, 200, 201, 202, 203, 204, 205, 206, 207, 208, 209, 210, 211, 212, 213, 214, 215, 216, 217, 218, 219, 220, 221, 222, 223, 224, 225, 226, 227, 228, 229, 230, 231, 232, 233, 234, 235, 236, 237, 238, 239, 240, 241, 242, 243, 244, 245, 246, 247, 248, 249, 250, 251, 252, 253, 254, 255, 256, 257, 258, 259, 273, 274, 275, 276, 277, 278, 279, 280, 281, 282, 283, 284, 285, 286, 287, 288, 289, 290, 291, 292, 293, 294, 295, 296, 297, 298, 299, 300, 301, 302, 303, 304, 305, 306, 307, 308, 309, 310, 311, 312, 313, 314, 315, 316, 317, 318, 319, 320, 321, 322, 323, 324, 325, 326, 327, 328, 329, 330, 331, 332, 333, 334, 335, 336, 337, 338, 339, 340, 341, 342, 343, 344, 345, 346, 347]\n",
      "There are 270 common residues between input structures\n"
     ]
    }
   ],
   "source": [
    "from mor_h8_feature_types import *\n",
    "from get_variable_names import *\n",
    "from mor_h8_tica_config import *\n",
    "from residue import Residue, Atom"
   ]
  },
  {
   "cell_type": "code",
   "execution_count": 5,
   "metadata": {
    "collapsed": false
   },
   "outputs": [
    {
     "name": "stdout",
     "output_type": "stream",
     "text": [
      "/home/enf/md_simulations/MOR/h8_reimaged/featuresall_residues_4dkl_5c1m_under_cutoff6A_top-features-gamma-pdf\n",
      "/home/enf/md_simulations/MOR/h8_reimaged/featuresall_residues_4dkl_5c1m_under_cutoff6A_top-features-gamma-pdf\n"
     ]
    }
   ],
   "source": [
    "feature_name = \"all_residues_4dkl_5c1m_under_cutoff6A_top-features-gamma-pdf\"\n",
    "\n",
    "(active_ref_dir, inactive_ref_dir, simulation_ref_dir, scripts_dir,\n",
    "          ligand_dir, agonist_dir, inverse_agonist_dir, biased_agonist_dir, ref_receptors_dir, whole_trajectory_pnas,\n",
    "          sasa_file) = get_base_files(base)\n",
    "\n",
    "tica_dir = get_tica_dir(base, is_sparse, lag_time, n_components, feature_name, \n",
    "                                 wolf_string, shrinkage_string, rho_string)\n",
    "ori_tica_dir = copy.deepcopy(tica_dir)\n",
    "features_dir = get_features_dir(base, feature_name)\n",
    "\n",
    "landmarks_dir = get_landmarks_dir(tica_dir)\n",
    "analysis_dir = get_analysis_dir(tica_dir, n_clusters, sampling_method)\n",
    "gmm_dir = get_gmm_dir(tica_dir)\n",
    "rf_dir = get_rf_dir(tica_dir)\n",
    "\n",
    "\n",
    "ref_tica_dir, ref_tica_coords = get_ref_tica_dirs(tica_dir)\n",
    "\n",
    "graph_file = get_graph_file(tica_dir, msm_lag_time, n_clusters)\n",
    "\n",
    "pnas_titles =  [\"tm6_tm3_dist\", \"rmsd_npxxy_inactive\", \"rmsd_npxxy_active\", \"rmsd_connector_inactive\", \"rmsd_connector_active\"]\n",
    "pnas_features_dir = analysis_dir\n",
    "\n",
    "\n",
    "(clusterer_dir, msm_model_dir, macrostate_dir, features_known, model_dir, projected_features_dir,\n",
    "         projection_operator_dir, ktica_fit_model_filename, ktica_projected_data_filename, nystroem_data_filename,\n",
    "         mutual_information_csv, pearson_csv) = get_tica_files(base, tica_dir, n_clusters, msm_lag_time, n_macrostates)\n",
    "\n",
    "(standardized_features_dir, feature_residues_csv, feature_residues_pkl,\n",
    "          contact_csv, ref_features_dir) = get_feature_files(features_dir)\n",
    "\n",
    "(kmeans_csv, tica_coords_csv, features_csv, active_rmsd_dir, inactive_rmsd_dir, active_pnas_dir, inactive_pnas_joined, active_pnas_joined,\n",
    "        clusters_map_file, ktica_clusters_map_file, analysis_file, combined_file, docking_summary, docking_joined, docking_z_scores_csv,\n",
    "        aggregate_docking, aggregate_docking_joined, docking_pnas_joined, aggregate_docking_pnas, aggregate_docking_pnas_joined, docking_multiple_ligands,\n",
    "        docking_distances_file, docking_pdf, mmgbsa_docking_distances, pnas_coords, mmgbsa_dir, mmgbsa_csv, mmgbsa_pdf, aggregate_mmgbsa,\n",
    "        aggregate_mmgbsa_joined, aggregate_mmgbsa_pnas_joined, mmgbsa_z_scores_csv, active_clusters_csv, intermediate_clusters_csv,\n",
    "        inactive_clusters_csv, pnas_clusters_averages, tica_clusters_averages, tica_classes_csv, tica_samples_csv, subgraph_save_base,\n",
    "        degree_save_base, degree_map_csv, degree_z_map_csv, aggregate_docking_pnas_degree_z_joined, tic_residue_csv, feature_coefs_csv,\n",
    "        duplicated_feature_coefs_csv) = get_analysis_files(analysis_dir, n_clusters, tica_dir, tica_dir, sampling_method, n_samples, precision,\n",
    "                                                           msm_lag_time)\n",
    "\n",
    "(inactive_pnas_distances_dir, active_pnas_distances_dir, active_pnas_all_distances_dir,\n",
    "          inactive_pnas_distances_new_csv, active_pnas_distances_new_csv, active_pnas_joined, active_pnas_means, pnas_coords_dir,\n",
    "          pnas_coords_csv, pnas_all_coords_csv, pnas_coords_hexbin_dir, pnas_coords_co_crystallized_docking_dir,\n",
    "          pnas_coords_active_colors_dir, user_defined_features_file, reaction_coordinates_trajs_file) = get_pnas_files(whole_trajectory_pnas, pnas_features_dir)\n",
    "\n",
    "features_dir = get_features_dir(base, feature_name)\n",
    "\n",
    "\n",
    "\n",
    "graph_file = get_graph_file(tica_dir, msm_lag_time, n_clusters)\n",
    "(scripts_dir, pymol_fixpdb_dir) = get_script_dir(scripts_dir)\n",
    "(save_dir, reimaged_dir, mae_dir, combined_reimaged_dir, grid_dir, docking_dir) = get_docking_dirs(tica_dir, n_clusters, n_components, n_samples, sampling_method, precision)\n"
   ]
  },
  {
   "cell_type": "code",
   "execution_count": 6,
   "metadata": {
    "collapsed": false
   },
   "outputs": [
    {
     "name": "stdout",
     "output_type": "stream",
     "text": [
      "/home/enf/md_simulations/MOR/h8_reimaged/featuresall_residues_4dkl_5c1m_under_cutoff6A_top-features-gamma-pdf/feature_residues.pkl\n"
     ]
    }
   ],
   "source": [
    "print feature_residues_pkl"
   ]
  },
  {
   "cell_type": "code",
   "execution_count": 7,
   "metadata": {
    "collapsed": false
   },
   "outputs": [
    {
     "name": "stderr",
     "output_type": "stream",
     "text": [
      "/home/enf/software/anaconda/lib/python2.7/site-packages/ipyparallel/client/client.py:312: DeprecationWarning: Client._profile_default is deprecated: use @default decorator instead.\n",
      "  def _profile_default(self):\n",
      "/home/enf/software/anaconda/lib/python2.7/site-packages/ipyparallel/client/client.py:312: DeprecationWarning: Client._profile_default is deprecated: use @default decorator instead.\n",
      "  def _profile_default(self):\n",
      "/home/enf/software/anaconda/lib/python2.7/site-packages/IPython/core/profiledir.py:57: DeprecationWarning: ProfileDir._location_changed is deprecated: use @observe and @unobserve instead.\n",
      "  def _location_changed(self, name, old, new):\n",
      "/home/enf/software/anaconda/lib/python2.7/site-packages/IPython/core/profiledir.py:126: DeprecationWarning: ProfileDir._security_dir_changed is deprecated: use @observe and @unobserve instead.\n",
      "  def _security_dir_changed(self, name, old, new):\n",
      "/home/enf/software/anaconda/lib/python2.7/site-packages/IPython/core/profiledir.py:71: DeprecationWarning: ProfileDir._log_dir_changed is deprecated: use @observe and @unobserve instead.\n",
      "  def _log_dir_changed(self, name, old, new):\n",
      "/home/enf/software/anaconda/lib/python2.7/site-packages/IPython/core/profiledir.py:111: DeprecationWarning: ProfileDir._startup_dir_changed is deprecated: use @observe and @unobserve instead.\n",
      "  def _startup_dir_changed(self, name, old, new):\n",
      "/home/enf/software/anaconda/lib/python2.7/site-packages/IPython/core/profiledir.py:132: DeprecationWarning: ProfileDir._pid_dir_changed is deprecated: use @observe and @unobserve instead.\n",
      "  def _pid_dir_changed(self, name, old, new):\n",
      "/home/enf/software/anaconda/lib/python2.7/site-packages/IPython/core/profiledir.py:138: DeprecationWarning: ProfileDir._static_dir_changed is deprecated: use @observe and @unobserve instead.\n",
      "  def _static_dir_changed(self, name, old, new):\n",
      "/home/enf/software/anaconda/lib/python2.7/site-packages/jupyter_client/session.py:351: DeprecationWarning: Session._digest_mod_default is deprecated: use @default decorator instead.\n",
      "  def _digest_mod_default(self):\n",
      "/home/enf/software/anaconda/lib/python2.7/site-packages/jupyter_client/session.py:331: DeprecationWarning: Session._key_default is deprecated: use @default decorator instead.\n",
      "  def _key_default(self):\n",
      "/home/enf/software/anaconda/lib/python2.7/site-packages/jupyter_client/session.py:306: DeprecationWarning: Session._session_default is deprecated: use @default decorator instead.\n",
      "  def _session_default(self):\n",
      "/home/enf/software/anaconda/lib/python2.7/site-packages/jupyter_client/session.py:334: DeprecationWarning: Session._key_changed is deprecated: use @observe and @unobserve instead.\n",
      "  def _key_changed(self):\n",
      "/home/enf/software/anaconda/lib/python2.7/site-packages/jupyter_client/session.py:351: DeprecationWarning: Session._digest_mod_default is deprecated: use @default decorator instead.\n",
      "  def _digest_mod_default(self):\n",
      "/home/enf/software/anaconda/lib/python2.7/site-packages/jupyter_client/session.py:306: DeprecationWarning: Session._session_default is deprecated: use @default decorator instead.\n",
      "  def _session_default(self):\n",
      "/home/enf/software/anaconda/lib/python2.7/site-packages/IPython/core/formatters.py:92: DeprecationWarning: DisplayFormatter._ipython_display_formatter_default is deprecated: use @default decorator instead.\n",
      "  def _ipython_display_formatter_default(self):\n"
     ]
    },
    {
     "name": "stdout",
     "output_type": "stream",
     "text": [
      "350\n"
     ]
    },
    {
     "name": "stderr",
     "output_type": "stream",
     "text": [
      "/home/enf/software/anaconda/lib/python2.7/site-packages/IPython/core/formatters.py:669: DeprecationWarning: PlainTextFormatter._singleton_printers_default is deprecated: use @default decorator instead.\n",
      "  def _singleton_printers_default(self):\n"
     ]
    },
    {
     "data": {
      "text/plain": [
       "<AsyncMapResult: chdir>"
      ]
     },
     "execution_count": 7,
     "metadata": {},
     "output_type": "execute_result"
    }
   ],
   "source": [
    "from ipyparallel import Client\n",
    "rc = Client()\n",
    "print(len(rc.ids))\n",
    "dview = rc[:]\n",
    "dview.map(os.chdir, ['/home/enf/b2ar_analysis/conformation']*len(rc.ids))"
   ]
  },
  {
   "cell_type": "code",
   "execution_count": 18,
   "metadata": {
    "collapsed": false
   },
   "outputs": [
    {
     "name": "stdout",
     "output_type": "stream",
     "text": [
      "loading /home/enf/md_simulations/MOR/h8_reimaged/featuresall_residues_4dkl_5c1m_under_cutoff6A-CA/apo_rep_85.dataset\n",
      "(462, 4440)\n"
     ]
    }
   ],
   "source": [
    "f = load_file(\"/home/enf/md_simulations/MOR/h8_reimaged/featuresall_residues_4dkl_5c1m_under_cutoff6A-CA/apo_rep_85.dataset\")\n",
    "print(np.shape(f))"
   ]
  },
  {
   "cell_type": "code",
   "execution_count": 21,
   "metadata": {
    "collapsed": false
   },
   "outputs": [
    {
     "name": "stdout",
     "output_type": "stream",
     "text": [
      "[ 0.64961469  0.66602194  0.66592467  0.63948542  0.63587338  0.60345757\n",
      "  0.64630765  0.63133705  0.62835622  0.61737096  0.63898677  0.59233195\n",
      "  0.61077648  0.62222731  0.66184503  0.62608761  0.60952699  0.58673173\n",
      "  0.59007311  0.60639507  0.6193912   0.63611972  0.61656678  0.64260018\n",
      "  0.64610952  0.65614671  0.63218528  0.62076133  0.59317166  0.62671173\n",
      "  0.59976476  0.65676868  0.632653    0.56492603  0.66460592  0.61706424\n",
      "  0.60110283  0.59100425  0.64788824  0.5579735   0.56510991  0.57512546\n",
      "  0.62548161  0.61732984  0.60033673  0.51456451  0.54886299  0.54760832\n",
      "  0.61654752  0.64133185  0.6113646   0.57381809  0.60062361  0.68652225\n",
      "  0.69681996  0.56393993  0.6368382   0.65521145  0.60553265  0.60577291\n",
      "  0.65196663  0.60596538  0.61692148  0.63084573  0.56684172  0.65449965\n",
      "  0.55836672  0.59040231  0.58052677  0.61316198  0.61831766  0.57411927\n",
      "  0.58879858  0.55381835  0.62335193  0.5448125   0.58469957  0.57175303\n",
      "  0.53552169  0.58577573  0.56942433  0.56810707  0.58715457  0.62107784\n",
      "  0.56042963  0.63579088  0.56217629  0.53536314  0.57434809  0.5977484\n",
      "  0.6001097   0.55020416  0.52557641  0.5885036   0.62281018  0.62542349\n",
      "  0.53050202  0.5355826   0.54174542  0.59594065  0.61565238  0.58169317\n",
      "  0.5086928   0.49174467  0.50853509  0.5295257   0.50643116  0.48824587\n",
      "  0.53081542  0.52243745  0.49951744  0.54300863  0.49164027  0.51274031\n",
      "  0.50555813  0.54633051  0.50030327  0.56595618  0.488682    0.4975571\n",
      "  0.52569234  0.52011877  0.51097798  0.5036689   0.50199354  0.53190172\n",
      "  0.51693004  0.52403992  0.54168409  0.50028962  0.48642617  0.46589693\n",
      "  0.51372862  0.51562774  0.50736612  0.50587487  0.50251353  0.5198642\n",
      "  0.53556204  0.50889045  0.5372622   0.52923816  0.52157176  0.52043366\n",
      "  0.51729268  0.49680445  0.51070368  0.50973541  0.51773387  0.53665364\n",
      "  0.54428995  0.51264524  0.47360262  0.50910038  0.47963715  0.52244717\n",
      "  0.53014666  0.5022136   0.51519173  0.5535565   0.53802449  0.54138482\n",
      "  0.55545753  0.51155937  0.55569178  0.52784646  0.55241477  0.57100815\n",
      "  0.53320789  0.53387535  0.55547768  0.54520667  0.54592377  0.59975797\n",
      "  0.51102406  0.57978493  0.53916955  0.50840092  0.54006475  0.5006302\n",
      "  0.50419641  0.50274956  0.50916284  0.51487482  0.496631    0.53929591\n",
      "  0.51154923  0.52428371  0.48487183  0.52683592  0.52916861  0.50996149\n",
      "  0.48919874  0.53109688  0.5314123   0.49740848  0.51657188  0.50539136\n",
      "  0.51681787  0.50141901  0.53072762  0.53396732  0.56244516  0.50679594\n",
      "  0.51970726  0.49858484  0.48773849  0.53319639  0.503995    0.52773076\n",
      "  0.52159339  0.55304039  0.54005945  0.51016879  0.54889369  0.50189829\n",
      "  0.49907339  0.51345855  0.52599669  0.51123041  0.51504892  0.53908634\n",
      "  0.49269098  0.51144451  0.51064354  0.50958169  0.50744843  0.5143314\n",
      "  0.49514973  0.52262652  0.48993957  0.48536667  0.50844669  0.53090483\n",
      "  0.54784304  0.51291531  0.50604182  0.48467213  0.51680869  0.50496787\n",
      "  0.52809119  0.52655178  0.51852012  0.52821308  0.53170621  0.49068719\n",
      "  0.48428622  0.54815322  0.46522754  0.51141745  0.4839012   0.50090098\n",
      "  0.52568012  0.51558304  0.53244948  0.50221646  0.50181025  0.53209805\n",
      "  0.49428117  0.49533382  0.51291555  0.53824455  0.48591933  0.4876757\n",
      "  0.51757741  0.50135022  0.48166412  0.5176307   0.53664517  0.51814663\n",
      "  0.49190599  0.51682711  0.50076985  0.49410763  0.5183531   0.52312386\n",
      "  0.50453103  0.50269163  0.51907843  0.53700101  0.49485546  0.5014165\n",
      "  0.52374756  0.54748905  0.51070428  0.50932294  0.52350175  0.5354948\n",
      "  0.49136135  0.50219989  0.48501593  0.51259232  0.5361101   0.49727789\n",
      "  0.48056903  0.52378649  0.51284164  0.48690763  0.48819125  0.49694115\n",
      "  0.48627749  0.52554071  0.50151074  0.52866548  0.50852865  0.51384932\n",
      "  0.50852221  0.52323854  0.51058668  0.48753703  0.55476314  0.51553559\n",
      "  0.5366115   0.5313704   0.53112119  0.52078617  0.50849938  0.50055879\n",
      "  0.51496595  0.51761061  0.52670109  0.51978773  0.52653116  0.51969606\n",
      "  0.53119838  0.55512428  0.49942252  0.49382019  0.48093647  0.51740235\n",
      "  0.52865279  0.54548132  0.54642826  0.49880758  0.51150322  0.52429467\n",
      "  0.51179689  0.5194      0.51670259  0.52689862  0.51099688  0.51197547\n",
      "  0.5207178   0.49503362  0.50140554  0.48002046  0.50249577  0.53017259\n",
      "  0.48525512  0.51267892  0.51413739  0.50323141  0.49916002  0.53505129\n",
      "  0.50813955  0.48123994  0.50001758  0.51129615  0.52335429  0.50385529\n",
      "  0.49293873  0.49590328  0.51153088  0.48344406  0.53660303  0.49688682\n",
      "  0.53688532  0.51070571  0.52935326  0.5271045   0.51136357  0.49246812\n",
      "  0.52187103  0.5091666   0.51702708  0.51041263  0.51970148  0.51530313\n",
      "  0.50765085  0.52000821  0.53528357  0.50981331  0.47100016  0.48243821\n",
      "  0.49146447  0.48344821  0.505081    0.49743354  0.50218028  0.4999547\n",
      "  0.52745408  0.51058102  0.48629281  0.50269777  0.49239171  0.52246761\n",
      "  0.51325285  0.48390773  0.50850666  0.52501744  0.47884202  0.52454716\n",
      "  0.51424122  0.50883687  0.5356338   0.51046956  0.52607274  0.54180396\n",
      "  0.50510186  0.54886472  0.50146419  0.53622699  0.52734894  0.53847092\n",
      "  0.52980924  0.49466473  0.52274996  0.51898527  0.52840048  0.52628911\n",
      "  0.51264548  0.58001083  0.56301969  0.52177364  0.55890554  0.50935155\n",
      "  0.53617436  0.53672576  0.47334254  0.51000714  0.52888739  0.49362266\n",
      "  0.55848682  0.52622545  0.50877517  0.59236169  0.53547573  0.55830562\n",
      "  0.56152433  0.51865411  0.52550542  0.51453137  0.51987195  0.52247024\n",
      "  0.51716077  0.48202088  0.48008823  0.54195189  0.54203683  0.49510729\n",
      "  0.523996    0.54290318  0.51037532  0.47742218  0.52445829  0.4952324\n",
      "  0.50188249  0.50284576  0.51984406  0.53081954  0.49074924  0.51034164]\n",
      "[ 0.85309601  0.83620423  0.86779696  0.85268247  0.81144428  0.80696833\n",
      "  0.8287161   0.82884848  0.82323301  0.81514466  0.82857114  0.79557669\n",
      "  0.82024449  0.81799376  0.84457374  0.78952008  0.77614677  0.78741854\n",
      "  0.80585003  0.78319287  0.80392069  0.83514225  0.78987193  0.80788535\n",
      "  0.81309986  0.84163666  0.82237655  0.83348376  0.79838914  0.83139557\n",
      "  0.80006659  0.80865771  0.79948246  0.7294656   0.81832135  0.81352204\n",
      "  0.77887154  0.77772701  0.82932985  0.74745363  0.73788136  0.78653318\n",
      "  0.83074206  0.83343959  0.77661252  0.70266843  0.75139177  0.72651452\n",
      "  0.81011313  0.82742947  0.79025131  0.76460356  0.78783256  0.8538993\n",
      "  0.85710758  0.72486329  0.81180978  0.84900224  0.81549722  0.78176963\n",
      "  0.84914523  0.78681165  0.77988136  0.80785811  0.78153998  0.84395868\n",
      "  0.72074622  0.79380488  0.75708526  0.8026427   0.80556816  0.7405026\n",
      "  0.79360271  0.72120881  0.80320543  0.72218889  0.71026015  0.74173701\n",
      "  0.69815797  0.74121618  0.77003235  0.73860109  0.77841091  0.7962743\n",
      "  0.79112393  0.81120092  0.74762392  0.75362396  0.75892353  0.78162217\n",
      "  0.77482802  0.6725328   0.68810093  0.75995797  0.78845787  0.77347672\n",
      "  0.74069721  0.68084848  0.73324072  0.77861762  0.80625951  0.73724556\n",
      "  0.65302706  0.68625152  0.64692295  0.70215732  0.67217863  0.63517976\n",
      "  0.70531934  0.74346018  0.64285523  0.66742098  0.70488739  0.62107676\n",
      "  0.64380217  0.6993978   0.61395663  0.71683419  0.61557943  0.65434545\n",
      "  0.72593373  0.69170368  0.63539904  0.61353546  0.65737551  0.73166829\n",
      "  0.66824514  0.64456695  0.72139454  0.66260654  0.63057142  0.6134547\n",
      "  0.65769434  0.64216483  0.64468545  0.61394739  0.62784427  0.65740603\n",
      "  0.66717237  0.63113457  0.69425142  0.69672936  0.63956708  0.66273499\n",
      "  0.63193232  0.645877    0.63293076  0.63896638  0.6931327   0.6849333\n",
      "  0.7094332   0.64382803  0.61509919  0.69722849  0.62947166  0.66727173\n",
      "  0.67066747  0.67301631  0.66840792  0.74276847  0.70029348  0.69299358\n",
      "  0.75220209  0.6649527   0.71130019  0.70506352  0.71744072  0.73410732\n",
      "  0.67489803  0.76783073  0.71930742  0.69986504  0.71016657  0.74811178\n",
      "  0.66773331  0.79204255  0.6970464   0.62407595  0.65667987  0.65567434\n",
      "  0.66568679  0.6388889   0.64463562  0.6487388   0.60343546  0.62388957\n",
      "  0.62964028  0.66825402  0.59135771  0.62127697  0.63797122  0.63597202\n",
      "  0.60768712  0.67089909  0.6658178   0.63029474  0.64342642  0.61313313\n",
      "  0.6299625   0.59810174  0.66350394  0.65213788  0.67249817  0.6449343\n",
      "  0.65273225  0.61944658  0.61826593  0.65233856  0.64735478  0.63033998\n",
      "  0.64498925  0.70407045  0.66471308  0.6315484   0.66348422  0.60996741\n",
      "  0.63592899  0.64598751  0.63118571  0.62280285  0.64330518  0.63759953\n",
      "  0.63018185  0.64492512  0.62437916  0.62720156  0.63378906  0.64067447\n",
      "  0.63115531  0.63585395  0.60574669  0.65581942  0.62931299  0.64735174\n",
      "  0.63366508  0.61734772  0.65416318  0.62399566  0.61581188  0.64071661\n",
      "  0.65670043  0.65195388  0.63147599  0.64288241  0.64697802  0.63503504\n",
      "  0.60532886  0.70602107  0.58015126  0.64201516  0.61779124  0.65817571\n",
      "  0.64586693  0.68930668  0.6426996   0.63739687  0.63819283  0.66229153\n",
      "  0.62754089  0.60807872  0.62088418  0.64392364  0.60055053  0.62555999\n",
      "  0.63635826  0.623676    0.63258028  0.63582969  0.65712768  0.61524349\n",
      "  0.61715209  0.61632198  0.621149    0.61975908  0.66513771  0.63500279\n",
      "  0.61785901  0.63715345  0.65156972  0.63209605  0.59539545  0.62168825\n",
      "  0.67189461  0.6676349   0.65710211  0.62624693  0.66075474  0.65520048\n",
      "  0.61804777  0.61314237  0.63474417  0.62276167  0.64783692  0.5942474\n",
      "  0.61179072  0.65704632  0.63694257  0.62542391  0.63139874  0.62568539\n",
      "  0.62568808  0.68139428  0.62402964  0.64596766  0.62827116  0.64085305\n",
      "  0.62170953  0.65610915  0.63087004  0.63085586  0.66334021  0.63005251\n",
      "  0.73453271  0.6966604   0.68057495  0.64239681  0.62735993  0.62776333\n",
      "  0.6509558   0.65970689  0.64413023  0.63556123  0.64786983  0.60952175\n",
      "  0.68298733  0.69488811  0.62084579  0.62609088  0.63709307  0.64686435\n",
      "  0.66088313  0.65154862  0.65625596  0.6298238   0.67496902  0.62691897\n",
      "  0.64037365  0.63740808  0.62322515  0.63530338  0.64872646  0.64709216\n",
      "  0.6043148   0.63721991  0.64005065  0.62085974  0.63935393  0.65039688\n",
      "  0.61312193  0.64062184  0.64730424  0.63335186  0.61449504  0.66708559\n",
      "  0.63426161  0.60333443  0.65018636  0.63674456  0.63287318  0.62405348\n",
      "  0.64116621  0.61510146  0.624946    0.6257267   0.6949634   0.63733131\n",
      "  0.67160779  0.6496703   0.64200443  0.67770791  0.67560226  0.61535412\n",
      "  0.65785879  0.62835211  0.63141114  0.63227171  0.64616406  0.6434496\n",
      "  0.6230005   0.69553787  0.66775239  0.65607411  0.61964846  0.61899221\n",
      "  0.64071238  0.6128763   0.6352762   0.6174252   0.60911286  0.65328521\n",
      "  0.65052879  0.63733912  0.59605974  0.62648219  0.60180813  0.65317243\n",
      "  0.63408661  0.61141688  0.60918558  0.65764087  0.61300594  0.64699352\n",
      "  0.65232188  0.62035376  0.62914199  0.63055676  0.64203018  0.66488522\n",
      "  0.63175792  0.65972018  0.60936213  0.67649716  0.6390996   0.63923454\n",
      "  0.62367016  0.6327278   0.66033304  0.65850621  0.67669863  0.65597737\n",
      "  0.67584705  0.68298972  0.75848359  0.72194368  0.69742429  0.64777297\n",
      "  0.68718624  0.72674912  0.63633633  0.64692223  0.64566296  0.65275604\n",
      "  0.69828755  0.65284222  0.67753422  0.71909958  0.68071109  0.70632774\n",
      "  0.73054516  0.66100436  0.65684748  0.65957463  0.67142928  0.6835916\n",
      "  0.64837176  0.58873987  0.58513057  0.65429509  0.68719298  0.62143391\n",
      "  0.65482521  0.65660822  0.64639848  0.62784392  0.63713413  0.6033054\n",
      "  0.62232786  0.62996012  0.61137736  0.64703405  0.62157404  0.65266353]\n"
     ]
    }
   ],
   "source": [
    "print(f[:,0])\n",
    "print(f[:,2221])"
   ]
  },
  {
   "cell_type": "code",
   "execution_count": null,
   "metadata": {
    "collapsed": false
   },
   "outputs": [],
   "source": [
    "feature_name_residues_dict"
   ]
  },
  {
   "cell_type": "code",
   "execution_count": null,
   "metadata": {
    "collapsed": false
   },
   "outputs": [],
   "source": [
    "compute_user_defined_features_wrapper(traj_dir, traj_ext, inactive_dir, active_dir, structure,\n",
    "                                          feature_name_residues_dict, user_defined_features_file, worker_pool = dview)\n",
    "plot_columns(whole_trajectory_pnas, user_defined_features_file, titles = sorted(feature_name_residues_dict.keys()), tICA=False, scale=1.0, refcoords_file=None)"
   ]
  },
  {
   "cell_type": "code",
   "execution_count": null,
   "metadata": {
    "collapsed": false
   },
   "outputs": [],
   "source": [
    "ref_user_defined_features_file = \"%s/ref_coords.h5\" %whole_trajectory_pnas\n",
    "compute_user_defined_features_wrapper(ref_receptors_dir, \".pdb\", inactive_dir, active_dir, structure,\n",
    "                                          feature_name_residues_dict, ref_user_defined_features_file, worker_pool = None)"
   ]
  },
  {
   "cell_type": "code",
   "execution_count": null,
   "metadata": {
    "collapsed": false
   },
   "outputs": [],
   "source": [
    "import analysis\n",
    "reload(analysis)\n",
    "from analysis import *\n",
    "plot_columns(whole_trajectory_pnas, user_defined_features_file, titles = sorted(feature_name_residues_dict.keys()), tICA=False, scale=1.0, refcoords_file=ref_user_defined_features_file)"
   ]
  },
  {
   "cell_type": "code",
   "execution_count": null,
   "metadata": {
    "collapsed": false
   },
   "outputs": [],
   "source": [
    "whole_trajectory_pnas"
   ]
  },
  {
   "cell_type": "code",
   "execution_count": 13,
   "metadata": {
    "collapsed": true
   },
   "outputs": [],
   "source": [
    "import custom_featurizer\n",
    "reload(custom_featurizer)\n",
    "from custom_featurizer import *"
   ]
  },
  {
   "cell_type": "code",
   "execution_count": 16,
   "metadata": {
    "collapsed": false
   },
   "outputs": [
    {
     "name": "stdout",
     "output_type": "stream",
     "text": [
      "loading \"/home/enf/md_simulations/MOR/h8_reimaged/all_pnas_features/user_defined_features.h5\"...\n",
      "(359837, 10)\n",
      "Analyzing tm6_tm3_packing\n",
      "Analyzing rmsd_npxxy_inactive\n",
      "{'rmsd_npxxy_inactive': ['apo_rep_100.h5', 'apo_rep_103.h5', 'apo_rep_106.h5', 'apo_rep_109.h5', 'apo_rep_122.h5', 'apo_rep_124.h5', 'apo_rep_131.h5', 'apo_rep_133.h5', 'apo_rep_143.h5', 'apo_rep_145.h5', 'apo_rep_146.h5', 'apo_rep_149.h5', 'apo_rep_15.h5', 'apo_rep_152.h5', 'apo_rep_155.h5', 'apo_rep_163.h5', 'apo_rep_169.h5', 'apo_rep_170.h5', 'apo_rep_184.h5', 'apo_rep_185.h5', 'apo_rep_190.h5', 'apo_rep_197.h5', 'apo_rep_199.h5', 'apo_rep_210.h5', 'apo_rep_212.h5', 'apo_rep_230.h5', 'apo_rep_231.h5', 'apo_rep_234.h5', 'apo_rep_25.h5', 'apo_rep_255.h5', 'apo_rep_31.h5', 'apo_rep_34.h5', 'apo_rep_35.h5', 'apo_rep_37.h5', 'apo_rep_4.h5', 'apo_rep_41.h5', 'apo_rep_43.h5', 'apo_rep_45.h5', 'apo_rep_5.h5', 'apo_rep_57.h5', 'apo_rep_63.h5', 'apo_rep_65.h5', 'apo_rep_68.h5', 'apo_rep_7.h5', 'apo_rep_73.h5', 'apo_rep_76.h5', 'apo_rep_81.h5', 'apo_rep_86.h5', 'apo_rep_90.h5', 'bu72_reimaged_rep_101.h5', 'bu72_reimaged_rep_102.h5', 'bu72_reimaged_rep_177.h5', 'bu72_reimaged_rep_178.h5', 'bu72_reimaged_rep_179.h5', 'bu72_reimaged_rep_181.h5', 'bu72_reimaged_rep_183.h5', 'bu72_reimaged_rep_184.h5', 'bu72_reimaged_rep_185.h5', 'bu72_reimaged_rep_186.h5', 'bu72_reimaged_rep_189.h5', 'bu72_reimaged_rep_190.h5', 'bu72_reimaged_rep_192.h5', 'bu72_reimaged_rep_197.h5', 'bu72_reimaged_rep_203.h5', 'bu72_reimaged_rep_208.h5', 'bu72_reimaged_rep_21.h5', 'bu72_reimaged_rep_22.h5', 'bu72_reimaged_rep_227.h5', 'bu72_reimaged_rep_23.h5', 'bu72_reimaged_rep_231.h5', 'bu72_reimaged_rep_232.h5', 'bu72_reimaged_rep_234.h5', 'bu72_reimaged_rep_235.h5', 'bu72_reimaged_rep_237.h5', 'bu72_reimaged_rep_238.h5', 'bu72_reimaged_rep_239.h5', 'bu72_reimaged_rep_240.h5', 'bu72_reimaged_rep_242.h5', 'bu72_reimaged_rep_243.h5', 'bu72_reimaged_rep_249.h5', 'bu72_reimaged_rep_251.h5', 'bu72_reimaged_rep_252.h5', 'bu72_reimaged_rep_255.h5', 'bu72_reimaged_rep_31.h5', 'bu72_reimaged_rep_49.h5', 'bu72_reimaged_rep_50.h5', 'bu72_reimaged_rep_53.h5', 'bu72_reimaged_rep_54.h5', 'bu72_reimaged_rep_55.h5', 'bu72_reimaged_rep_57.h5', 'bu72_reimaged_rep_59.h5', 'bu72_reimaged_rep_61.h5', 'bu72_reimaged_rep_62.h5', 'bu72_reimaged_rep_64.h5', 'bu72_reimaged_rep_69.h5', 'bu72_reimaged_rep_70.h5', 'bu72_reimaged_rep_72.h5', 'bu72_reimaged_rep_75.h5', 'bu72_reimaged_rep_77.h5', 'bu72_rep_105.h5', 'bu72_rep_116.h5', 'bu72_rep_117.h5', 'bu72_rep_118.h5', 'bu72_rep_126.h5', 'bu72_rep_127.h5', 'bu72_rep_131.h5', 'bu72_rep_133.h5', 'bu72_rep_135.h5', 'bu72_rep_139.h5', 'bu72_rep_14.h5', 'bu72_rep_143.h5', 'bu72_rep_146.h5', 'bu72_rep_148.h5', 'bu72_rep_149.h5', 'bu72_rep_153.h5', 'bu72_rep_156.h5', 'bu72_rep_157.h5', 'bu72_rep_163.h5', 'bu72_rep_164.h5', 'bu72_rep_173.h5', 'bu72_rep_175.h5', 'bu72_rep_180.h5', 'bu72_rep_181.h5', 'bu72_rep_193.h5', 'bu72_rep_205.h5', 'bu72_rep_206.h5', 'bu72_rep_212.h5', 'bu72_rep_215.h5', 'bu72_rep_218.h5', 'bu72_rep_221.h5', 'bu72_rep_229.h5', 'bu72_rep_234.h5', 'bu72_rep_236.h5', 'bu72_rep_241.h5', 'bu72_rep_250.h5', 'bu72_rep_251.h5', 'bu72_rep_253.h5', 'bu72_rep_256.h5', 'bu72_rep_29.h5', 'bu72_rep_34.h5', 'bu72_rep_36.h5', 'bu72_rep_4.h5', 'bu72_rep_44.h5', 'bu72_rep_49.h5', 'bu72_rep_51.h5', 'bu72_rep_65.h5', 'bu72_rep_70.h5', 'bu72_rep_79.h5', 'bu72_rep_8.h5', 'bu72_rep_82.h5', 'bu72_rep_85.h5', 'bu72_rep_89.h5', 'bu72_rep_91.h5', 'bu72_rep_92.h5', 'bu72_rep_93.h5'], 'tm6_tm3_packing': ['apo_rep_109.h5', 'apo_rep_115.h5', 'apo_rep_134.h5', 'apo_rep_15.h5', 'apo_rep_35.h5', 'apo_rep_68.h5', 'bu72_reimaged_rep_1.h5', 'bu72_reimaged_rep_10.h5', 'bu72_reimaged_rep_102.h5', 'bu72_reimaged_rep_106.h5', 'bu72_reimaged_rep_107.h5', 'bu72_reimaged_rep_110.h5', 'bu72_reimaged_rep_112.h5', 'bu72_reimaged_rep_13.h5', 'bu72_reimaged_rep_14.h5', 'bu72_reimaged_rep_15.h5', 'bu72_reimaged_rep_16.h5', 'bu72_reimaged_rep_2.h5', 'bu72_reimaged_rep_4.h5', 'bu72_reimaged_rep_53.h5', 'bu72_reimaged_rep_7.h5', 'bu72_reimaged_rep_83.h5', 'bu72_reimaged_rep_84.h5', 'bu72_reimaged_rep_87.h5', 'bu72_reimaged_rep_88.h5', 'bu72_reimaged_rep_90.h5', 'bu72_reimaged_rep_92.h5', 'bu72_reimaged_rep_94.h5', 'bu72_reimaged_rep_95.h5', 'bu72_reimaged_rep_96.h5', 'bu72_reimaged_rep_98.h5']}\n"
     ]
    }
   ],
   "source": [
    "#coords_bounds_dict = {'rmsd_npxxy_inactive': [0, 0.5, 1.0], 'tm6_tm3_dist': [6.0, 8.0, 15.0]}\n",
    "coords_bounds_dict = {'rmsd_npxxy_inactive': [0, 0.5, 1.0], 'tm6_tm3_packing': [8.0, 9.5, 15.0]}\n",
    "\n",
    "traversing_trajs = reaction_coordinate_sampler(traj_dir, traj_ext, user_defined_features_file, \n",
    "                            feature_name_residues_dict, coords_bounds_dict, reaction_coordinates_trajs_file)\n"
   ]
  },
  {
   "cell_type": "code",
   "execution_count": 17,
   "metadata": {
    "collapsed": false
   },
   "outputs": [
    {
     "data": {
      "text/plain": [
       "['apo_rep_109.h5',\n",
       " 'apo_rep_15.h5',\n",
       " 'apo_rep_35.h5',\n",
       " 'apo_rep_68.h5',\n",
       " 'bu72_reimaged_rep_102.h5',\n",
       " 'bu72_reimaged_rep_53.h5']"
      ]
     },
     "execution_count": 17,
     "metadata": {},
     "output_type": "execute_result"
    }
   ],
   "source": [
    "intersection_trajs = [a for a in traversing_trajs['rmsd_npxxy_inactive'] if a in traversing_trajs['tm6_tm3_packing']]\n",
    "intersection_trajs"
   ]
  },
  {
   "cell_type": "code",
   "execution_count": null,
   "metadata": {
    "collapsed": false,
    "scrolled": true
   },
   "outputs": [],
   "source": [
    "import custom_featurizer\n",
    "reload(custom_featurizer)\n",
    "from custom_featurizer import *\n",
    "featurize_contacts_custom(traj_dir, features_dir = features_dir, traj_ext = traj_ext, contact_residue_pairs_file = feature_residues_pkl, structures=[inactive_dir, active_dir], contact_residues=contact_residues,\n",
    "                          residues_map = None, contact_cutoff = cutoff, parallel = True, exacycle = exacycle, traj_top_structure = None, iterative=False,\n",
    "                          user_specified_atom_residue_pairs = [], load_from_file=True)"
   ]
  },
  {
   "cell_type": "code",
   "execution_count": null,
   "metadata": {
    "collapsed": false
   },
   "outputs": [],
   "source": [
    "import pickle\n",
    "with open(feature_residues_pkl, \"rb\") as f:\n",
    "    feature_residues = pickle.load(f)\n",
    "print(feature_residues[0])\n",
    "print(feature_residues[0][0].__dict__)\n",
    "print(feature_residues[0][1].__dict__)\n",
    "print(feature_residues[727])"
   ]
  },
  {
   "cell_type": "code",
   "execution_count": null,
   "metadata": {
    "collapsed": false,
    "scrolled": true
   },
   "outputs": [],
   "source": [
    "fit_and_transform(features_directory = features_dir, model_dir = tica_dir, stride=5, lag_time = lag_time, n_components = n_components, sparse = sparse, wolf = wolf, rho = rho, shrinkage = shrinkage, parallel=True, traj_ext = traj_ext)"
   ]
  },
  {
   "cell_type": "code",
   "execution_count": null,
   "metadata": {
    "collapsed": false
   },
   "outputs": [],
   "source": [
    "from imp import reload\n",
    "import analysis\n",
    "reload(analysis)\n",
    "from analysis import *\n",
    "plot_columns(tica_dir, projected_features_dir, titles = [\"tIC%d\" %j for j in range(1,11)], tICA = True, scale = 1.0, refcoords_file = None)"
   ]
  },
  {
   "cell_type": "code",
   "execution_count": null,
   "metadata": {
    "collapsed": false
   },
   "outputs": [],
   "source": [
    "import interpret_tICs\n",
    "reload(interpret_tICs)\n",
    "from interpret_tICs import *\n",
    "tic_components_dir = tica_dir\n",
    "interpret_tIC_components(projection_operator_dir, tic_components_dir, feature_residues_pkl, n_tica_components=n_components, percentile=95)\n"
   ]
  },
  {
   "cell_type": "code",
   "execution_count": null,
   "metadata": {
    "collapsed": false
   },
   "outputs": [],
   "source": [
    "plot_columns(pnas_features_dir, user_defined_features_file, titles = feature_name_residues_dict.keys(), tICA=False, scale=1.0, refcoords_file=None)"
   ]
  },
  {
   "cell_type": "code",
   "execution_count": null,
   "metadata": {
    "collapsed": true
   },
   "outputs": [],
   "source": [
    "\"\"\"\n",
    "New tIC interpretation function: \n",
    "\n",
    "1. Normalize all features (separate function, useful for learning in general.)\n",
    "2. For each feature: discretize into 1's and 0's based on above or below zero z-score\n",
    "3. Fit feature/tIC combo: fit logistic regression CV. \n",
    "4. For each tIC: rank the features by how \"good/strong\" fit is.\n",
    "    b. save the tIC value at which the switch occurs. \n",
    "\n",
    "\n",
    "\"\"\""
   ]
  },
  {
   "cell_type": "code",
   "execution_count": null,
   "metadata": {
    "collapsed": true
   },
   "outputs": [],
   "source": [
    "import custom_featurizer\n",
    "reload(custom_featurizer)\n",
    "from custom_featurizer import *\n",
    "\n",
    "import mor_h8_feature_types\n",
    "reload(mor_h8_feature_types)\n",
    "from mor_h8_feature_types import *\n",
    "\n",
    "print feature_name_residues_dict\n",
    "print structure\n",
    "\n",
    "compute_user_defined_features_wrapper(traj_dir, traj_ext, inactive_dir, active_dir, structure,\n",
    "                                          feature_name_residues_dict, user_defined_features_file)\n",
    "plot_columns(pnas_features_dir, user_defined_features_file, titles = feature_name_residues_dict.keys(), tICA=False, scale=1.0, refcoords_file=None)"
   ]
  },
  {
   "cell_type": "code",
   "execution_count": null,
   "metadata": {
    "collapsed": false
   },
   "outputs": [],
   "source": [
    "plot_pnas_vs_tics(user_defined_features_file, projected_features_dir, sorted(feature_name_residues_dict.keys()), tica_dir)"
   ]
  },
  {
   "cell_type": "code",
   "execution_count": null,
   "metadata": {
    "collapsed": false
   },
   "outputs": [],
   "source": [
    "bu72_trajs = []\n",
    "apo_trajs = []\n",
    "for i, traj in enumerate(get_trajectory_files(traj_dir, traj_ext)):\n",
    "    if \"bu72\" in traj and \"reimaged\" not in traj:\n",
    "        bu72_trajs.append(i)\n",
    "    elif \"apo\" in traj:\n",
    "        apo_trajs.append(i)\n",
    "\n",
    "user_defined_coords = load_file(user_defined_features_file)\n",
    "\n",
    "            "
   ]
  },
  {
   "cell_type": "code",
   "execution_count": null,
   "metadata": {
    "collapsed": false
   },
   "outputs": [],
   "source": [
    "bu72_pnas = [user_defined_coords[i] for i in bu72_trajs]\n",
    "apo_pnas = [user_defined_coords[i] for i in apo_trajs]"
   ]
  },
  {
   "cell_type": "code",
   "execution_count": null,
   "metadata": {
    "collapsed": false
   },
   "outputs": [],
   "source": [
    "from imp import reload\n",
    "import analysis\n",
    "reload(analysis)\n",
    "from analysis import *\n",
    "import seaborn as sns\n",
    "bu72_pnas_concatenated = np.concatenate(bu72_pnas)\n",
    "print(np.shape(bu72_pnas_concatenated))\n",
    "apo_pnas_concatenated = np.concatenate(apo_pnas)\n",
    "bu72_pnas_file = \"%s/bu72.h5\" % whole_trajectory_pnas\n",
    "apo_pnas_file = \"%s/apo.h5\" % whole_trajectory_pnas\n",
    "verbosedump(bu72_pnas, bu72_pnas_file)\n",
    "verbosedump(apo_pnas, apo_pnas_file)\n",
    "\n",
    "columns=sorted(feature_name_residues_dict.keys())\n",
    "plot_columns(whole_trajectory_pnas, bu72_pnas_file, titles=columns, main = \"BU72\", tICA = False, scale = 1.0, refcoords_file = None)\n",
    "plot_columns(whole_trajectory_pnas, apo_pnas_file, titles=columns, main = \"Apo\", tICA = False, scale = 1.0, refcoords_file = None)\n",
    "\n",
    "#df = pd.DataFrame(bu72_pnas_concatenated, columns=sorted(feature_name_residues_dict.keys()))\n",
    "#sns.jointplot(x=\"tm6_tm3_dist\", y=\"rmsd_npxxy_inactive\", data=df, kind=\"kde\")\n",
    "#plt.hexbin(bu72_pnas_concatenated[:,0], bu72_pnas_concatenated[:,2], cmap=plt.cm.YlOrRd_r)"
   ]
  },
  {
   "cell_type": "code",
   "execution_count": null,
   "metadata": {
    "collapsed": false
   },
   "outputs": [],
   "source": [
    "tica_coords = verboseload(projected_features_dir)\n",
    "bu72_tica = [tica_coords[i] for i in bu72_trajs]\n",
    "apo_tica = [tica_coords[i] for i in apo_trajs]\n",
    "bu72_tica_file = \"%s/bu72_tica.h5\" % tica_dir\n",
    "apo_tica_file = \"%s/apo_tica.h5\" % tica_dir\n",
    "verbosedump(bu72_tica, bu72_tica_file)\n",
    "verbosedump(apo_tica, apo_tica_file)"
   ]
  },
  {
   "cell_type": "code",
   "execution_count": null,
   "metadata": {
    "collapsed": true
   },
   "outputs": [],
   "source": [
    "columns = [\"tIC%d\" %i for i in range(1,n_components+1)]\n",
    "plot_columns(tica_dir, bu72_tica_file, titles=columns, main = \"BU72\", tICA = False, scale = 1.0, refcoords_file = None)\n",
    "plot_columns(tica_dir, apo_tica_file, titles=columns, main = \"Apo\", tICA = False, scale = 1.0, refcoords_file = None)\n",
    "\n"
   ]
  },
  {
   "cell_type": "code",
   "execution_count": null,
   "metadata": {
    "collapsed": true
   },
   "outputs": [],
   "source": [
    "clusterer_dir = os.path.join(tica_dir, \"apo_original_300_clusters.h5\")"
   ]
  },
  {
   "cell_type": "code",
   "execution_count": null,
   "metadata": {
    "collapsed": false
   },
   "outputs": [],
   "source": [
    "cluster_minikmeans(tica_dir, apo_tica_file, traj_dir, n_clusters=n_clusters, clusterer_dir=clusterer_dir)"
   ]
  },
  {
   "cell_type": "code",
   "execution_count": null,
   "metadata": {
    "collapsed": false
   },
   "outputs": [],
   "source": [
    "import custom_clusterer\n",
    "from imp import reload\n",
    "reload(custom_clusterer)\n",
    "from custom_clusterer import *\n",
    "reseed_from_clusterer(clusterer_dir, \"apo_original\", tica_dir, apo_tica_file, [get_trajectory_files(traj_dir, traj_ext)[i] for i in apo_trajs])"
   ]
  },
  {
   "cell_type": "code",
   "execution_count": null,
   "metadata": {
    "collapsed": false,
    "scrolled": true
   },
   "outputs": [],
   "source": [
    "clusterer = verboseload(clusterer_dir)\n",
    "cluster_labels = clusterer.labels_\n",
    "bu72_clusters = [cluster_labels[i] for i in bu72_trajs]\n",
    "apo_clusters = [cluster_labels[i] for i in apo_trajs]\n",
    "bu72_clusterer = copy.deepcopy(clusterer)\n",
    "bu72_clusterer.labels_ = bu72_clusters\n",
    "bu72_clusterer_file = \"%s/bu72_clusterer.h5\" %tica_dir\n",
    "verbosedump(bu72_clusterer, bu72_clusterer_file)\n",
    "\n",
    "apo_clusterer = copy.deepcopy(clusterer)\n",
    "apo_clusterer.labels_ = apo_clusters\n",
    "apo_clusterer_file = \"%s/apo_clusterer.h5\" %tica_dir\n",
    "verbosedump(apo_clusterer, apo_clusterer_file)\n"
   ]
  },
  {
   "cell_type": "code",
   "execution_count": null,
   "metadata": {
    "collapsed": false
   },
   "outputs": [],
   "source": [
    "from imp import reload\n",
    "import analysis\n",
    "reload(analysis)\n",
    "from analysis import *\n",
    "bu72_clusters_map = make_clusters_map(verboseload(bu72_clusterer_file))\n",
    "count_tuples = []\n",
    "for i in range(0,n_clusters):\n",
    "    count_tuples.append((i, len(bu72_clusters_map[i])))\n",
    "count_tuples.sort(key=operator.itemgetter(1))\n",
    "min_populated_clusters = [count_tuples[i][0] for i in range(0,16)]\n",
    "print(min_populated_clusters)\n",
    "plot_all_tics_and_clusters(tica_dir, projected_features_dir, bu72_clusterer_file, lag_time, tic_range = [0], main=\"BU72\", label = \"cluster_id\", active_cluster_ids = min_populated_clusters)"
   ]
  },
  {
   "cell_type": "code",
   "execution_count": null,
   "metadata": {
    "collapsed": false
   },
   "outputs": [],
   "source": [
    "count_tuples"
   ]
  },
  {
   "cell_type": "code",
   "execution_count": null,
   "metadata": {
    "collapsed": false
   },
   "outputs": [],
   "source": [
    "apo_clusters_map = make_clusters_map(verboseload(apo_clusterer_file))\n",
    "count_tuples = []\n",
    "for i in range(0,n_clusters):\n",
    "    count_tuples.append((i, len(apo_clusters_map[i])))\n",
    "count_tuples.sort(key=operator.itemgetter(1))\n",
    "min_populated_clusters = [count_tuples[i][0] for i in range(0,16)]\n",
    "print(min_populated_clusters)\n",
    "plot_all_tics_and_clusters(tica_dir, projected_features_dir, apo_clusterer_file, lag_time, tic_range = [0], main=\"Apo\", label = \"cluster_id\", active_cluster_ids = min_populated_clusters)"
   ]
  },
  {
   "cell_type": "code",
   "execution_count": null,
   "metadata": {
    "collapsed": false
   },
   "outputs": [],
   "source": [
    "traj_index_frame_pairs = list(find_closest_indices_to_cluster_center(bu72_tica_file, bu72_clusterer_file))\n",
    "traj_index_frame_pairs = [tuple(pair) for pair in traj_index_frame_pairs]\n",
    "traj_files = get_trajectory_files(traj_dir)\n",
    "bu72_traj_files = [traj_files[i] for i in bu72_trajs]\n",
    "print(traj_index_frame_pairs)\n",
    "\n",
    "for i, traj_index_frame_pair in enumerate(traj_index_frame_pairs):\n",
    "    traj_index, frame = traj_index_frame_pair\n",
    "    if i in min_populated_clusters:\n",
    "        print(\"Looking at cluster %d\" % i)\n",
    "        snapshot = md.load_frame(bu72_traj_files[traj_index], index=frame)\n",
    "        snapshot.save(\"%s/mincount_snapshot_cluster%d.rst7\" % (tica_dir, i))\n",
    "        snapshot.save(\"%s/mincount_snapshot_cluster%d.pdb\" % (tica_dir, i))"
   ]
  },
  {
   "cell_type": "code",
   "execution_count": null,
   "metadata": {
    "collapsed": true
   },
   "outputs": [],
   "source": [
    "traj_index_frame_pairs = list(find_closest_indices_to_cluster_center(apo_tica_file, apo_clusterer_file))\n",
    "traj_index_frame_pairs = [tuple(pair) for pair in traj_index_frame_pairs]\n",
    "traj_files = get_trajectory_files(traj_dir)\n",
    "apo_traj_files = [traj_files[i] for i in apo_trajs]\n",
    "print(traj_index_frame_pairs)\n",
    "\n",
    "for i, traj_index_frame_pair in enumerate(traj_index_frame_pairs):\n",
    "    traj_index, frame = traj_index_frame_pair\n",
    "    if i in min_populated_clusters:\n",
    "        print(\"Looking at cluster %d\" % i)\n",
    "        snapshot = md.load_frame(apo_traj_files[traj_index], index=frame)\n",
    "        snapshot.save(\"%s/apo_mincount_snapshot_cluster%d.rst7\" % (tica_dir, i))\n",
    "        snapshot.save(\"%s/apo_mincount_snapshot_cluster%d.pdb\" % (tica_dir, i))"
   ]
  },
  {
   "cell_type": "code",
   "execution_count": null,
   "metadata": {
    "collapsed": false
   },
   "outputs": [],
   "source": [
    "import custom_msm\n",
    "reload(custom_msm)\n",
    "from custom_msm import *\n",
    "plot_timescales(bu72_clusterer_file, n_clusters, tica_dir, main=\"BU72\", lag_times=range(1,12,2))\n",
    "plot_timescales(apo_clusterer_file, n_clusters, tica_dir, main=\"Apo\", lag_times=range(1,12,2))"
   ]
  },
  {
   "cell_type": "code",
   "execution_count": null,
   "metadata": {
    "collapsed": true
   },
   "outputs": [],
   "source": [
    "build_msm(bu72_clusterer_file, lag_time, msm_model_dir)\n",
    "build_msm(apo_clusterer_file, lag_time, msm_model_dir)"
   ]
  },
  {
   "cell_type": "code",
   "execution_count": null,
   "metadata": {
    "collapsed": false
   },
   "outputs": [],
   "source": [
    "plot_all_tics_and_clusters(tica_dir, projected_features_dir, clusterer_dir, lag_time, label = \"cluster_id\", active_cluster_ids = range(0,n_clusters), intermediate_cluster_ids = [], inactive_cluster_ids = [])"
   ]
  },
  {
   "cell_type": "code",
   "execution_count": null,
   "metadata": {
    "collapsed": false
   },
   "outputs": [],
   "source": [
    "plot_timescales(clusterer_dir, n_clusters, tica_dir, list(range(1,25)))\n"
   ]
  },
  {
   "cell_type": "code",
   "execution_count": null,
   "metadata": {
    "collapsed": false
   },
   "outputs": [],
   "source": [
    "lag_time = 5\n",
    "msm_model_dir = \"%s/msm_lag_time%d.h5\" % (tica_dir, lag_time)\n",
    "#build_msm(clusterer_dir, lag_time=lag_time, msm_model_dir=msm_model_dir)\n"
   ]
  },
  {
   "cell_type": "code",
   "execution_count": null,
   "metadata": {
    "collapsed": false,
    "scrolled": true
   },
   "outputs": [],
   "source": [
    "graph_file = \"%s/msm_lag_time%d_graph.graphml\" % (tica_dir, lag_time)\n",
    "construct_graph(msm_model_dir, clusterer_dir, n_clusters, 5, 5, graph_file, inactive = None, active = None, pnas_clusters_averages = None, tica_clusters_averages = None, docking=None, macrostate = None)\n"
   ]
  },
  {
   "cell_type": "code",
   "execution_count": null,
   "metadata": {
    "collapsed": false,
    "scrolled": false
   },
   "outputs": [],
   "source": [
    "from imp import reload\n",
    "import custom_msm\n",
    "reload(custom_msm)\n",
    "from custom_msm import *\n",
    "msm_file = msm_model_dir\n",
    "sampled_frames_file = '/home/amir/Post_Process/GPCR/MOR/LIG_path/BU_path/tica_ligand_protein_contacts_3_sparse_0pt0025/sampled_frames_clusters50_samples1.h5'\n",
    "msm_trajectory_filename = '/home/amir/Post_Process/GPCR/MOR/LIG_path/BU_path/tica_ligand_protein_contacts_3_sparse_0pt0025/msm_lagtime5_start48_3'\n",
    "make_msm_trajectory(msm_file, projected_features_dir, traj_dir, sampled_frames_file, clusterer_dir, msm_trajectory_filename, \n",
    "                    n_clusters, start_cluster=48, n_steps=1000)"
   ]
  },
  {
   "cell_type": "code",
   "execution_count": null,
   "metadata": {
    "collapsed": true
   },
   "outputs": [],
   "source": [
    "mytraj = md.load(\"/home/amir/Post_Process/GPCR/MOR/LIG_path/BU_path/h5_trajectories/rep_1.h5\")"
   ]
  },
  {
   "cell_type": "code",
   "execution_count": null,
   "metadata": {
    "collapsed": false
   },
   "outputs": [],
   "source": [
    "dir(mytraj)"
   ]
  },
  {
   "cell_type": "code",
   "execution_count": null,
   "metadata": {
    "collapsed": false
   },
   "outputs": [],
   "source": [
    "del mytraj"
   ]
  },
  {
   "cell_type": "code",
   "execution_count": null,
   "metadata": {
    "collapsed": false
   },
   "outputs": [],
   "source": [
    "subset = crystal_structure.atom_slice(range(0,400))\n",
    "subset.xyz\n",
    "print(subset.xyz)\n",
    "distances = md.compute_contacts(subset)\n",
    "print(distances)\n"
   ]
  },
  {
   "cell_type": "code",
   "execution_count": null,
   "metadata": {
    "collapsed": false
   },
   "outputs": [],
   "source": [
    "distances0 = distances[0]"
   ]
  },
  {
   "cell_type": "code",
   "execution_count": null,
   "metadata": {
    "collapsed": false
   },
   "outputs": [],
   "source": [
    "distances0 = np.nan_to_num(distances0)"
   ]
  },
  {
   "cell_type": "code",
   "execution_count": null,
   "metadata": {
    "collapsed": false
   },
   "outputs": [],
   "source": [
    "distances0"
   ]
  },
  {
   "cell_type": "code",
   "execution_count": null,
   "metadata": {
    "collapsed": false
   },
   "outputs": [],
   "source": [
    "np.where(distances0 > 0.0)"
   ]
  },
  {
   "cell_type": "code",
   "execution_count": null,
   "metadata": {
    "collapsed": true
   },
   "outputs": [],
   "source": []
  }
 ],
 "metadata": {
  "kernelspec": {
   "display_name": "Python 2",
   "language": "python",
   "name": "python2"
  },
  "language_info": {
   "codemirror_mode": {
    "name": "ipython",
    "version": 2
   },
   "file_extension": ".py",
   "mimetype": "text/x-python",
   "name": "python",
   "nbconvert_exporter": "python",
   "pygments_lexer": "ipython2",
   "version": "2.7.11"
  }
 },
 "nbformat": 4,
 "nbformat_minor": 0
}
