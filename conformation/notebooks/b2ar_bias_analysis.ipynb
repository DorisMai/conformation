{
 "cells": [
  {
   "cell_type": "markdown",
   "metadata": {
    "collapsed": false
   },
   "source": [
    "In this iPython notebook, we will featurize MOR ligand binding simulation by pairwise distances between the ligand and different receptor residues. We will then perform tICA and prospectively build an MSM. "
   ]
  },
  {
   "cell_type": "code",
   "execution_count": 13,
   "metadata": {
    "collapsed": false
   },
   "outputs": [],
   "source": [
    "from PDB_Order_Fixer import PDB_Order_Fixer\n",
    "import mdtraj as md\n",
    "import os\n",
    "import numpy as np\n",
    "import h5py\n",
    "\n",
    "import datetime\n",
    "import glob\n",
    "import copy\n",
    "from functools import partial \n",
    "import operator\n",
    "import time\n",
    "\n",
    "import random \n",
    "import subprocess\n",
    "from subprocess import Popen\n",
    "import sys\n",
    "from io_functions import *\n",
    "from custom_clusterer import *\n",
    "from custom_tica import *\n",
    "from custom_featurizer import *\n",
    "from pdb_editing import *\n",
    "from analysis import *\n",
    "from io_functions import *\n",
    "#from topology_fixing import *\n",
    "from subsampling import *\n",
    "from conversions import *\n",
    "from custom_msm import *\n",
    "from grids import *\n",
    "from docking_analysis import *"
   ]
  },
  {
   "cell_type": "code",
   "execution_count": 14,
   "metadata": {
    "collapsed": false
   },
   "outputs": [],
   "source": [
    "from detect_intermediates import *\n",
    "from interpret_tICs import *"
   ]
  },
  {
   "cell_type": "code",
   "execution_count": 15,
   "metadata": {
    "collapsed": false
   },
   "outputs": [],
   "source": [
    "from b2ar_feature_types import *\n",
    "from get_variable_names import *\n",
    "from b2ar_tica_config import *\n",
    "from residue import Residue, Atom"
   ]
  },
  {
   "cell_type": "code",
   "execution_count": 16,
   "metadata": {
    "collapsed": true
   },
   "outputs": [],
   "source": [
    "%matplotlib inline\n",
    "\n",
    "import matplotlib.pyplot as plt\n",
    "\n",
    "#set_palette('Set1', n_colors=15, desat=None)"
   ]
  },
  {
   "cell_type": "code",
   "execution_count": 17,
   "metadata": {
    "collapsed": true
   },
   "outputs": [],
   "source": [
    "ori_feature_name = copy.deepcopy(feature_name)"
   ]
  },
  {
   "cell_type": "code",
   "execution_count": 18,
   "metadata": {
    "collapsed": false
   },
   "outputs": [],
   "source": [
    "schemes = ['closest-heavy']\n",
    "#schemes = [\"closest-heavy\", \"CA\"]\n",
    "feature_name = \"%s-py3\" %ori_feature_name\n"
   ]
  },
  {
   "cell_type": "code",
   "execution_count": 19,
   "metadata": {
    "collapsed": true
   },
   "outputs": [],
   "source": [
    "rho = 0.01\n",
    "rho_string = \"_rho0pt01\"\n",
    "n_clusters=25\n",
    "n_samples=5\n",
    "precision = \"XP\"\n",
    "lag_time=5"
   ]
  },
  {
   "cell_type": "code",
   "execution_count": 20,
   "metadata": {
    "collapsed": false
   },
   "outputs": [
    {
     "name": "stdout",
     "output_type": "stream",
     "text": [
      "/home/enf/b2ar_analysis/featuresall_residues_2rh1_3sn6_under_cutoff6A-py3\n",
      "/home/enf/b2ar_analysis/featuresall_residues_2rh1_3sn6_under_cutoff6A-py3\n"
     ]
    }
   ],
   "source": [
    "(active_ref_dir, inactive_ref_dir, simulation_ref_dir, scripts_dir,\n",
    "          ligand_dir, agonist_dir, inverse_agonist_dir, biased_agonist_dir, ref_receptors_dir, whole_trajectory_pnas,\n",
    "          sasa_file) = get_base_files(base)\n",
    "\n",
    "tica_dir = get_tica_dir(base, is_sparse, lag_time, n_components, feature_name, \n",
    "                                 wolf_string, shrinkage_string, rho_string)\n",
    "ori_tica_dir = copy.deepcopy(tica_dir)\n",
    "features_dir = get_features_dir(base, feature_name)\n",
    "\n",
    "landmarks_dir = get_landmarks_dir(tica_dir)\n",
    "analysis_dir = get_analysis_dir(tica_dir, n_clusters, sampling_method)\n",
    "gmm_dir = get_gmm_dir(tica_dir)\n",
    "rf_dirdir = get_rf_dir(tica_dir)\n",
    "\n",
    "\n",
    "ref_tica_dir, ref_tica_coords = get_ref_tica_dirs(tica_dir)\n",
    "\n",
    "graph_file = get_graph_file(tica_dir, msm_lag_time, n_clusters)\n",
    "\n",
    "pnas_titles =  [\"tm6_tm3_dist\", \"rmsd_npxxy_inactive\", \"rmsd_npxxy_active\", \"rmsd_connector_inactive\", \"rmsd_connector_active\"]\n",
    "pnas_features_dir = analysis_dir\n",
    "\n",
    "\n",
    "(clusterer_dir, msm_model_dir, macrostate_dir, features_known, model_dir, projected_features_dir,\n",
    "         projection_operator_dir, ktica_fit_model_filename, ktica_projected_data_filename, nystroem_data_filename,\n",
    "         mutual_information_csv, pearson_csv) = get_tica_files(base, tica_dir, n_clusters, msm_lag_time, n_macrostates)\n",
    "\n",
    "(standardized_features_dir, feature_residues_csv, feature_residues_pkl,\n",
    "          contact_csv, ref_features_dir) = get_feature_files(features_dir)\n",
    "\n",
    "(kmeans_csv, tica_coords_csv, features_csv, active_rmsd_dir, inactive_rmsd_dir, active_pnas_dir, inactive_pnas_joined, active_pnas_joined,\n",
    "        clusters_map_file, ktica_clusters_map_file, analysis_file, combined_file, docking_summary, docking_joined, docking_z_scores_csv,\n",
    "        aggregate_docking, aggregate_docking_joined, docking_pnas_joined, aggregate_docking_pnas, aggregate_docking_pnas_joined, docking_multiple_ligands,\n",
    "        docking_distances_file, docking_pdf, mmgbsa_docking_distances, pnas_coords, mmgbsa_dir, mmgbsa_csv, mmgbsa_pdf, aggregate_mmgbsa,\n",
    "        aggregate_mmgbsa_joined, aggregate_mmgbsa_pnas_joined, mmgbsa_z_scores_csv, active_clusters_csv, intermediate_clusters_csv,\n",
    "        inactive_clusters_csv, pnas_clusters_averages, tica_clusters_averages, tica_classes_csv, tica_samples_csv, subgraph_save_base,\n",
    "        degree_save_base, degree_map_csv, degree_z_map_csv, aggregate_docking_pnas_degree_z_joined, tic_residue_csv, feature_coefs_csv,\n",
    "        duplicated_feature_coefs_csv) = get_analysis_files(analysis_dir, n_clusters, tica_dir, tica_dir, sampling_method, n_samples, precision,\n",
    "                                                           msm_lag_time)\n",
    "\n",
    "(inactive_pnas_distances_dir, active_pnas_distances_dir, active_pnas_all_distances_dir,\n",
    "          inactive_pnas_distances_new_csv, active_pnas_distances_new_csv, active_pnas_joined, active_pnas_means, pnas_coords_dir,\n",
    "          pnas_coords_csv, pnas_all_coords_csv, pnas_coords_hexbin_dir, pnas_coords_co_crystallized_docking_dir,\n",
    "          pnas_coords_active_colors_dir, user_defined_features_file, reaction_coordinates_trajs_file) = get_pnas_files(whole_trajectory_pnas, pnas_features_dir)\n",
    "\n",
    "features_dir = get_features_dir(base, feature_name)\n",
    "\n",
    "\n",
    "\n",
    "graph_file = get_graph_file(tica_dir, msm_lag_time, n_clusters)\n",
    "(scripts_dir, pymol_fixpdb_dir) = get_script_dir(scripts_dir)\n",
    "(save_dir, reimaged_dir, mae_dir, combined_reimaged_dir, grid_dir, docking_dir) = get_docking_dirs(tica_dir, n_clusters, n_components, n_samples, sampling_method, precision)\n"
   ]
  },
  {
   "cell_type": "code",
   "execution_count": 21,
   "metadata": {
    "collapsed": false
   },
   "outputs": [
    {
     "data": {
      "text/plain": [
       "'/home/enf/b2ar_analysis/sparse-tICA_t5_n_components2all_residues_2rh1_3sn6_under_cutoff6A-py3_regularization_wolf_autoShrinkage_rho0pt01'"
      ]
     },
     "execution_count": 21,
     "metadata": {},
     "output_type": "execute_result"
    }
   ],
   "source": [
    "tica_dir"
   ]
  },
  {
   "cell_type": "code",
   "execution_count": 10,
   "metadata": {
    "collapsed": true
   },
   "outputs": [
    {
     "name": "stdout",
     "output_type": "stream",
     "text": [
      "already featurized\n",
      "already featurized\n",
      "already featurized\n",
      "already featurized\n",
      "already featurized\n",
      "already featurized\n",
      "already featurized\n",
      "already featurized\n",
      "already featurized\n",
      "already featurized\n",
      "already featurized\n",
      "already featurized\n",
      "already featurized\n",
      "already featurized\n",
      "already featurized\n",
      "already featurized\n",
      "already featurized\n",
      "already featurized\n",
      "already featurized\n",
      "already featurized\n",
      "already featurized\n",
      "already featurized\n",
      "already featurized\n",
      "already featurized\n",
      "already featurized\n",
      "already featurized\n",
      "already featurized\n",
      "already featurized\n",
      "already featurized\n",
      "already featurized\n",
      "already featurized\n",
      "already featurized\n",
      "already featurized\n",
      "already featurized\n",
      "already featurized\n",
      "already featurized\n",
      "already featurized\n",
      "already featurized\n",
      "already featurized\n",
      "already featurized\n",
      "already featurized\n",
      "already featurized\n",
      "already featurized\n",
      "already featurized\n",
      "already featurized\n",
      "already featurized\n",
      "already featurized\n",
      "already featurized\n",
      "already featurized\n",
      "already featurized\n",
      "already featurized\n",
      "already featurized\n",
      "already featurized\n",
      "already featurized\n",
      "already featurized\n",
      "already featurized\n",
      "already featurized\n",
      "already featurized\n",
      "already featurized\n",
      "already featurized\n",
      "already featurized\n",
      "already featurized\n",
      "already featurized\n",
      "already featurized\n",
      "already featurized\n",
      "already featurized\n",
      "already featurized\n",
      "already featurized\n",
      "already featurized\n",
      "already featurized\n",
      "already featurized\n",
      "already featurized\n",
      "already featurized\n",
      "already featurized\n",
      "already featurized\n",
      "already featurized\n",
      "structure\n",
      "/home/enf/b2ar_analysis/3P0G_pymol_prepped.pdb\n",
      "structure\n",
      "None\n",
      "No residues in trajectory for residue 265 chain C\n",
      "mdraj_index_combinations[0:10]\n",
      "[(6, 7), (6, 8), (6, 9), (6, 10), (6, 11), (6, 12), (6, 13), (6, 14), (6, 15), (6, 16)]\n",
      "contact_features[0:10]\n",
      "[[ASP29, GLU30], [ASP29, VAL31], [ASP29, TRP32], [ASP29, VAL33], [ASP29, VAL34], [ASP29, GLY35], [ASP29, MET36], [ASP29, GLY37], [ASP29, ILE38], [ASP29, VAL39]]\n",
      "About to compute 37128 features\n",
      "(1, 37128)\n",
      "cutoff\n",
      "0.66\n",
      "distances[0:10]\n",
      "[[ 0.13582584  0.29356182  0.32488334 ...,  0.13439713  0.33162621\n",
      "   0.13595058]]\n",
      "There are 2057 residue-residue contacts below cutoff in structure.\n",
      "structure\n",
      "/home/enf/b2ar_analysis/2RH1_prepped.pdb\n",
      "structure\n",
      "None\n",
      "mdraj_index_combinations[0:10]\n",
      "[(1, 2), (1, 3), (1, 4), (1, 5), (1, 6), (1, 7), (1, 8), (1, 9), (1, 10), (1, 11)]\n",
      "contact_features[0:10]\n",
      "[[ASP29, GLU30], [ASP29, VAL31], [ASP29, TRP32], [ASP29, VAL33], [ASP29, VAL34], [ASP29, GLY35], [ASP29, MET36], [ASP29, GLY37], [ASP29, ILE38], [ASP29, VAL39]]\n",
      "About to compute 37401 features\n",
      "(1, 37401)\n",
      "cutoff\n",
      "0.66\n",
      "distances[0:10]\n",
      "[[ 0.13371773  0.36873618  0.36127588 ...,  0.13323663  0.3413406\n",
      "   0.13354076]]\n",
      "There are 2093 residue-residue contacts below cutoff in structure.\n",
      "dihedral_residues:\n",
      "[]\n",
      "There are 2278 features to be used in featurization.\n",
      "Saving contact feature residue pairs to disk.\n",
      "About to featurize trajectories based on the chosen featurization scheme.\n",
      "[ASP29 to GLU30, ASP29 to VAL31, ASP29 to TRP32, ASP29 to VAL33, ASP29 to VAL34, GLU30 to VAL31, GLU30 to TRP32, GLU30 to VAL33, GLU30 to VAL34, GLU30 to GLY35, VAL31 to TRP32, VAL31 to VAL33, VAL31 to VAL34, VAL31 to GLY35, VAL31 to MET36, VAL31 to GLY37, TRP32 to VAL33, TRP32 to VAL34, TRP32 to GLY35, TRP32 to MET36, TRP32 to GLY37, TRP32 to ILE94, TRP32 to LEU95, TRP32 to LYS97, VAL33 to VAL34, VAL33 to GLY35, VAL33 to MET36, VAL33 to GLY37, VAL33 to ILE38, VAL33 to MET40, VAL33 to ILE94, VAL33 to LEU95, VAL33 to MET96, VAL34 to GLY35, VAL34 to MET36, VAL34 to GLY37, VAL34 to ILE38, VAL34 to VAL39, VAL34 to LEU95, GLY35 to MET36, GLY35 to GLY37, GLY35 to ILE38, GLY35 to VAL39, GLY35 to MET40, MET36 to GLY37, MET36 to ILE38, MET36 to VAL39, MET36 to MET40, MET36 to SER41, MET36 to ILE43, MET36 to ILE94, MET36 to LEU95, GLY37 to ILE38, GLY37 to VAL39, GLY37 to MET40, GLY37 to SER41, GLY37 to LEU42, GLY37 to ALA91, GLY37 to LEU95, ILE38 to VAL39, ILE38 to MET40, ILE38 to SER41, ILE38 to LEU42, ILE38 to ILE43, ILE38 to LEU95, VAL39 to MET40, VAL39 to SER41, VAL39 to LEU42, VAL39 to ILE43, VAL39 to VAL44, VAL39 to TRP313, MET40 to SER41, MET40 to LEU42, MET40 to ILE43, MET40 to VAL44, MET40 to LEU45, MET40 to VAL87, MET40 to GLY90, MET40 to ALA91, MET40 to ALA92, MET40 to ILE94, MET40 to LEU95, MET40 to TRP313, SER41 to LEU42, SER41 to ILE43, SER41 to VAL44, SER41 to LEU45, SER41 to ALA46, SER41 to ALA91, LEU42 to ILE43, LEU42 to VAL44, LEU42 to LEU45, LEU42 to ALA46, LEU42 to ILE47, ILE43 to VAL44, ILE43 to LEU45, ILE43 to ALA46, ILE43 to ILE47, ILE43 to VAL48, ILE43 to GLY83, ILE43 to VAL87, ILE43 to TRP313, ILE43 to TYR316, ILE43 to VAL317, ILE43 to GLY320, VAL44 to LEU45, VAL44 to ALA46, VAL44 to ILE47, VAL44 to VAL48, VAL44 to PHE49, VAL44 to MET82, VAL44 to GLY83, VAL44 to LEU84, VAL44 to VAL86, VAL44 to VAL87, VAL44 to PRO88, VAL44 to PHE89, VAL44 to ALA91, VAL44 to TRP313, LEU45 to ALA46, LEU45 to ILE47, LEU45 to VAL48, LEU45 to PHE49, LEU45 to GLY50, LEU45 to GLY83, ALA46 to ILE47, ALA46 to VAL48, ALA46 to PHE49, ALA46 to GLY50, ALA46 to ASN51, ALA46 to SER319, ALA46 to GLY320, ALA46 to PHE321, ALA46 to PRO323, ILE47 to VAL48, ILE47 to PHE49, ILE47 to GLY50, ILE47 to ASN51, ILE47 to VAL52, ILE47 to ALA76, ILE47 to ASP79, ILE47 to LEU80, ILE47 to VAL81, ILE47 to MET82, ILE47 to GLY83, ILE47 to LEU84, ILE47 to VAL87, ILE47 to TYR316, ILE47 to VAL317, ILE47 to ASN318, ILE47 to SER319, ILE47 to GLY320, ILE47 to PHE321, ILE47 to PRO323, VAL48 to PHE49, VAL48 to GLY50, VAL48 to ASN51, VAL48 to VAL52, VAL48 to LEU53, VAL48 to ASP79, VAL48 to LEU80, VAL48 to VAL81, VAL48 to MET82, VAL48 to GLY83, VAL48 to LEU84, VAL48 to GLY320, PHE49 to GLY50, PHE49 to ASN51, PHE49 to VAL52, PHE49 to LEU53, PHE49 to VAL54, PHE49 to LEU80, PHE49 to PRO323, GLY50 to ASN51, GLY50 to VAL52, GLY50 to LEU53, GLY50 to VAL54, GLY50 to ILE55, GLY50 to ALA76, GLY50 to SER319, GLY50 to GLY320, GLY50 to PRO323, GLY50 to LEU324, GLY50 to CYS327, GLY50 to PHE336, ASN51 to VAL52, ASN51 to LEU53, ASN51 to VAL54, ASN51 to ILE55, ASN51 to THR56, ASN51 to ILE72, ASN51 to LEU75, ASN51 to ALA76, ASN51 to CYS77, ASN51 to ALA78, ASN51 to ASP79, ASN51 to LEU80, ASN51 to SER319, ASN51 to GLY320, ASN51 to PHE321, ASN51 to ASN322, ASN51 to PRO323, VAL52 to LEU53, VAL52 to VAL54, VAL52 to ILE55, VAL52 to THR56, VAL52 to ALA57, VAL52 to ALA76, VAL52 to LEU80, VAL52 to LEU84, VAL52 to LEU339, LEU53 to VAL54, LEU53 to ILE55, LEU53 to THR56, LEU53 to ALA57, LEU53 to ILE58, LEU53 to PHE332, LEU53 to PHE336, LEU53 to GLN337, LEU53 to LEU339, VAL54 to ILE55, VAL54 to THR56, VAL54 to ALA57, VAL54 to ILE58, VAL54 to ALA59, VAL54 to LEU64, VAL54 to ILE72, VAL54 to THR73, VAL54 to ALA76, VAL54 to ASN322, VAL54 to PRO323, VAL54 to LEU324, VAL54 to CYS327, VAL54 to PHE332, VAL54 to PHE336, VAL54 to LEU339, ILE55 to THR56, ILE55 to ALA57, ILE55 to ILE58, ILE55 to ALA59, ILE55 to LYS60, ILE55 to ILE72, ILE55 to THR73, ILE55 to ALA76, ILE55 to CYS77, ILE55 to ALA78, ILE55 to LEU80, ILE55 to PHE332, ILE55 to PHE336, THR56 to ALA57, THR56 to ILE58, THR56 to ALA59, THR56 to LYS60, THR56 to PHE61, THR56 to LEU64, THR56 to PHE336, THR56 to LEU339, ALA57 to ILE58, ALA57 to ALA59, ALA57 to LYS60, ALA57 to PHE61, ALA57 to GLU62, ALA57 to LEU64, ALA57 to GLN65, ALA57 to ASP331, ALA57 to PHE332, ALA57 to ALA335, ALA57 to PHE336, ALA57 to LEU339, ILE58 to ALA59, ILE58 to LYS60, ILE58 to PHE61, ILE58 to GLU62, ILE58 to LEU64, ILE58 to GLN65, ILE58 to THR66, ILE58 to ASN69, ILE58 to TYR70, ILE58 to ILE72, ILE58 to THR73, ILE58 to ALA76, ILE58 to LYS147, ILE58 to CYS327, ILE58 to PHE332, ILE58 to ALA335, ILE58 to PHE336, ILE58 to LEU339, ALA59 to LYS60, ALA59 to PHE61, ALA59 to GLU62, ALA59 to LEU64, ALA59 to GLN65, LYS60 to PHE61, LYS60 to GLU62, LYS60 to LEU64, LYS60 to GLN65, LYS60 to LEU339, PHE61 to GLU62, PHE61 to ARG63, PHE61 to LEU64, PHE61 to GLN65, PHE61 to ASP331, PHE61 to ILE334, PHE61 to ALA335, PHE61 to PHE336, PHE61 to GLU338, PHE61 to LEU339, GLU62 to ARG63, GLU62 to LEU64, GLU62 to GLN65, GLU62 to THR66, ARG63 to LEU64, ARG63 to GLN65, ARG63 to THR66, ARG63 to ASN69, ARG63 to SER329, ARG63 to ASP331, ARG63 to ILE334, LEU64 to GLN65, LEU64 to THR66, LEU64 to VAL67, LEU64 to ASN69, LEU64 to TYR70, LEU64 to SER329, LEU64 to ASP331, LEU64 to PHE332, LEU64 to ARG333, LEU64 to ALA335, LEU64 to PHE336, GLN65 to THR66, GLN65 to VAL67, GLN65 to ASN69, GLN65 to TYR70, GLN65 to LYS147, THR66 to VAL67, THR66 to THR68, THR66 to ASN69, THR66 to TYR70, THR66 to PHE71, THR66 to THR73, THR66 to TYR141, THR66 to LYS147, VAL67 to THR68, VAL67 to ASN69, VAL67 to TYR70, VAL67 to PHE71, VAL67 to ILE72, VAL67 to ASP130, VAL67 to TYR141, VAL67 to LEU145, VAL67 to THR146, VAL67 to LYS147, VAL67 to ALA150, THR68 to ASN69, THR68 to TYR70, THR68 to PHE71, THR68 to ILE72, THR68 to THR73, THR68 to ILE127, THR68 to ASP130, THR68 to ARG131, THR68 to ALA134, THR68 to TYR141, ASN69 to TYR70, ASN69 to PHE71, ASN69 to ILE72, ASN69 to THR73, ASN69 to SER74, ASN69 to ASP130, ASN69 to TYR141, ASN69 to LYS147, ASN69 to TYR326, ASN69 to SER329, ASN69 to PHE332, TYR70 to PHE71, TYR70 to ILE72, TYR70 to THR73, TYR70 to SER74, TYR70 to LEU75, TYR70 to THR123, TYR70 to ILE127, TYR70 to LYS147, TYR70 to ALA150, TYR70 to ARG151, TYR70 to VAL152, TYR70 to ILE154, TYR70 to LEU155, PHE71 to ILE72, PHE71 to THR73, PHE71 to SER74, PHE71 to LEU75, PHE71 to ALA76, PHE71 to THR123, PHE71 to LEU124, PHE71 to VAL126, PHE71 to ILE127, PHE71 to ASP130, PHE71 to ARG131, PHE71 to TYR141, PHE71 to LEU145, PHE71 to THR146, PHE71 to LYS149, PHE71 to ALA150, PHE71 to ARG151, PHE71 to ILE153, PHE71 to ILE154, ILE72 to THR73, ILE72 to SER74, ILE72 to LEU75, ILE72 to ALA76, ILE72 to CYS77, ILE72 to ASP79, ILE72 to THR123, ILE72 to ILE127, ILE72 to ASN322, ILE72 to PRO323, ILE72 to TYR326, ILE72 to CYS327, ILE72 to PHE332, THR73 to SER74, THR73 to LEU75, THR73 to ALA76, THR73 to CYS77, THR73 to ALA78, THR73 to THR123, THR73 to ILE127, THR73 to LYS147, THR73 to TRP158, SER74 to LEU75, SER74 to ALA76, SER74 to CYS77, SER74 to ALA78, SER74 to ASP79, SER74 to ALA119, SER74 to SER120, SER74 to THR123, SER74 to ILE154, SER74 to VAL157, SER74 to TRP158, LEU75 to ALA76, LEU75 to CYS77, LEU75 to ALA78, LEU75 to ASP79, LEU75 to LEU80, LEU75 to ALA119, LEU75 to SER120, LEU75 to ILE121, LEU75 to THR123, LEU75 to LEU124, LEU75 to ILE127, LEU75 to ILE154, LEU75 to TRP158, LEU75 to SER319, LEU75 to ASN322, LEU75 to PRO323, LEU75 to TYR326, ALA76 to CYS77, ALA76 to ALA78, ALA76 to ASP79, ALA76 to LEU80, ALA76 to VAL81, ALA76 to THR123, ALA76 to PRO323, CYS77 to ALA78, CYS77 to ASP79, CYS77 to LEU80, CYS77 to VAL81, CYS77 to MET82, CYS77 to CYS116, CYS77 to TRP158, ALA78 to ASP79, ALA78 to LEU80, ALA78 to VAL81, ALA78 to MET82, ALA78 to GLY83, ALA78 to LEU115, ALA78 to CYS116, ALA78 to VAL117, ALA78 to THR118, ALA78 to ALA119, ALA78 to SER120, ALA78 to ILE121, ALA78 to THR123, ALA78 to TRP158, ALA78 to SER319, ASP79 to LEU80, ASP79 to VAL81, ASP79 to MET82, ASP79 to GLY83, ASP79 to LEU84, ASP79 to CYS116, ASP79 to ALA119, ASP79 to SER120, ASP79 to LEU124, ASP79 to TRP158, ASP79 to TYR316, ASP79 to ASN318, ASP79 to SER319, ASP79 to GLY320, ASP79 to PHE321, ASP79 to ASN322, ASP79 to PRO323, LEU80 to VAL81, LEU80 to MET82, LEU80 to GLY83, LEU80 to LEU84, LEU80 to ALA85, LEU80 to CYS116, LEU80 to SER319, VAL81 to MET82, VAL81 to GLY83, VAL81 to LEU84, VAL81 to ALA85, VAL81 to VAL86, VAL81 to VAL87, VAL81 to PRO88, VAL81 to ILE112, VAL81 to LEU115, VAL81 to CYS116, VAL81 to TRP158, MET82 to GLY83, MET82 to LEU84, MET82 to ALA85, MET82 to VAL86, MET82 to VAL87, MET82 to PRO88, MET82 to ILE112, MET82 to ASP113, MET82 to CYS116, MET82 to VAL117, MET82 to THR118, MET82 to ALA119, MET82 to SER120, MET82 to TRP286, MET82 to GLY315, MET82 to TYR316, MET82 to VAL317, MET82 to SER319, GLY83 to LEU84, GLY83 to ALA85, GLY83 to VAL86, GLY83 to VAL87, GLY83 to PRO88, GLY83 to TYR316, GLY83 to SER319, LEU84 to ALA85, LEU84 to VAL86, LEU84 to VAL87, LEU84 to PRO88, LEU84 to PHE89, ALA85 to VAL86, ALA85 to VAL87, ALA85 to PRO88, ALA85 to PHE89, ALA85 to GLY90, ALA85 to TRP105, ALA85 to TRP109, ALA85 to ILE112, VAL86 to VAL87, VAL86 to PRO88, VAL86 to PHE89, VAL86 to GLY90, VAL86 to ALA91, VAL86 to TRP109, VAL86 to THR110, VAL86 to ILE112, VAL86 to ASP113, VAL86 to VAL114, VAL86 to CYS116, VAL86 to TRP313, VAL86 to TYR316, VAL87 to PRO88, VAL87 to PHE89, VAL87 to GLY90, VAL87 to ALA91, VAL87 to ALA92, VAL87 to TRP109, VAL87 to TRP313, VAL87 to TYR316, VAL87 to VAL317, PRO88 to PHE89, PRO88 to GLY90, PRO88 to ALA91, PRO88 to ALA92, PRO88 to HIS93, PRO88 to TRP109, PRO88 to TRP313, PHE89 to GLY90, PHE89 to ALA91, PHE89 to ALA92, PHE89 to HIS93, PHE89 to ILE94, PHE89 to TRP99, PHE89 to PHE101, PHE89 to TRP105, PHE89 to TRP109, PHE89 to TRP313, GLY90 to ALA91, GLY90 to ALA92, GLY90 to HIS93, GLY90 to ILE94, GLY90 to LEU95, GLY90 to TRP99, GLY90 to TRP109, GLY90 to TRP313, GLY90 to TYR316, ALA91 to ALA92, ALA91 to HIS93, ALA91 to ILE94, ALA91 to LEU95, ALA91 to MET96, ALA91 to LYS97, ALA91 to TRP109, ALA91 to TRP313, ALA92 to HIS93, ALA92 to ILE94, ALA92 to LEU95, ALA92 to MET96, ALA92 to LYS97, ALA92 to MET98, ALA92 to TRP99, ALA92 to THR100, ALA92 to PHE101, ALA92 to TRP313, HIS93 to ILE94, HIS93 to LEU95, HIS93 to MET96, HIS93 to LYS97, HIS93 to MET98, HIS93 to TRP99, HIS93 to THR100, HIS93 to PHE101, HIS93 to TRP109, HIS93 to THR189, HIS93 to CYS190, HIS93 to CYS191, HIS93 to ASP192, HIS93 to ILE309, ILE94 to LEU95, ILE94 to MET96, ILE94 to LYS97, ILE94 to MET98, ILE94 to ILE309, ILE94 to TRP313, LEU95 to MET96, LEU95 to LYS97, LEU95 to MET98, MET96 to LYS97, MET96 to MET98, MET96 to TRP99, MET96 to THR100, MET96 to PHE101, LYS97 to MET98, LYS97 to TRP99, LYS97 to THR189, MET98 to TRP99, MET98 to THR100, MET98 to THR189, MET98 to CYS190, MET98 to CYS191, TRP99 to THR100, TRP99 to PHE101, TRP99 to GLY102, TRP99 to ASN103, TRP99 to PHE104, TRP99 to TRP105, TRP99 to CYS106, TRP99 to GLU107, TRP99 to TRP109, TRP99 to GLU187, TRP99 to GLU188, TRP99 to THR189, TRP99 to CYS190, TRP99 to CYS191, THR100 to PHE101, THR100 to GLY102, THR100 to GLU188, THR100 to THR189, PHE101 to GLY102, PHE101 to ASN103, PHE101 to PHE104, PHE101 to TRP105, PHE101 to CYS106, PHE101 to GLU188, PHE101 to THR189, GLY102 to ASN103, GLY102 to PHE104, GLY102 to TRP105, GLY102 to CYS106, GLY102 to GLU107, GLY102 to GLU187, GLY102 to GLU188, GLY102 to THR189, GLY102 to CYS190, GLY102 to CYS191, ASN103 to PHE104, ASN103 to TRP105, ASN103 to CYS106, ASN103 to GLU107, ASN103 to PHE108, ASN103 to ARG175, ASN103 to ASN183, ASN103 to CYS184, ASN103 to TYR185, ASN103 to ALA186, ASN103 to GLU187, ASN103 to GLU188, ASN103 to THR189, ASN103 to CYS190, ASN103 to CYS191, PHE104 to TRP105, PHE104 to CYS106, PHE104 to GLU107, PHE104 to PHE108, PHE104 to TRP109, PHE104 to GLN170, PHE104 to GLU188, TRP105 to CYS106, TRP105 to GLU107, TRP105 to PHE108, TRP105 to TRP109, TRP105 to THR110, TRP105 to ILE112, TRP105 to CYS191, CYS106 to GLU107, CYS106 to PHE108, CYS106 to TRP109, CYS106 to THR110, CYS106 to SER111, CYS106 to ILE169, CYS106 to TYR174, CYS106 to GLU188, CYS106 to CYS190, CYS106 to CYS191, CYS106 to ASP192, CYS106 to PHE193, GLU107 to PHE108, GLU107 to TRP109, GLU107 to THR110, GLU107 to SER111, GLU107 to ILE112, GLU107 to SER165, GLU107 to PHE166, GLU107 to ILE169, GLU107 to GLN170, GLU107 to MET171, GLU107 to HIS172, GLU107 to TYR174, GLU107 to ARG175, GLU107 to TYR185, GLU107 to CYS191, PHE108 to TRP109, PHE108 to THR110, PHE108 to SER111, PHE108 to ILE112, PHE108 to ASP113, PHE108 to PHE166, PHE108 to ILE169, PHE108 to GLN170, TRP109 to THR110, TRP109 to SER111, TRP109 to ILE112, TRP109 to ASP113, TRP109 to VAL114, TRP109 to PHE166, TRP109 to GLN170, TRP109 to CYS191, TRP109 to PHE193, TRP109 to TYR316, THR110 to SER111, THR110 to ILE112, THR110 to ASP113, THR110 to VAL114, THR110 to LEU115, THR110 to SER165, THR110 to PHE166, THR110 to ILE169, THR110 to TYR174, THR110 to CYS191, THR110 to PHE193, THR110 to TYR199, SER111 to ILE112, SER111 to ASP113, SER111 to VAL114, SER111 to LEU115, SER111 to CYS116, SER111 to SER161, SER111 to GLY162, SER111 to SER165, SER111 to PHE166, SER111 to LEU167, SER111 to PRO168, SER111 to ILE169, SER111 to GLN170, ILE112 to ASP113, ILE112 to VAL114, ILE112 to LEU115, ILE112 to CYS116, ILE112 to VAL117, ILE112 to SER165, ILE112 to PHE166, ILE112 to ILE169, ILE112 to GLN170, ASP113 to VAL114, ASP113 to LEU115, ASP113 to CYS116, ASP113 to VAL117, ASP113 to THR118, ASP113 to SER165, ASP113 to PHE166, ASP113 to TRP286, ASP113 to ASN312, ASP113 to TYR316, VAL114 to LEU115, VAL114 to CYS116, VAL114 to VAL117, VAL114 to THR118, VAL114 to ALA119, VAL114 to SER120, VAL114 to SER161, VAL114 to THR164, VAL114 to SER165, VAL114 to PHE166, VAL114 to ILE169, VAL114 to PHE193, VAL114 to TYR199, VAL114 to SER203, VAL114 to SER207, LEU115 to CYS116, LEU115 to VAL117, LEU115 to THR118, LEU115 to ALA119, LEU115 to SER120, LEU115 to VAL157, LEU115 to TRP158, LEU115 to SER161, LEU115 to GLY162, LEU115 to LEU163, LEU115 to THR164, LEU115 to SER165, LEU115 to PHE166, LEU115 to ILE169, LEU115 to SER207, CYS116 to VAL117, CYS116 to THR118, CYS116 to ALA119, CYS116 to SER120, CYS116 to ILE121, CYS116 to TRP158, CYS116 to SER161, CYS116 to SER165, CYS116 to SER319, VAL117 to THR118, VAL117 to ALA119, VAL117 to SER120, VAL117 to ILE121, VAL117 to GLU122, VAL117 to SER161, VAL117 to SER207, VAL117 to PHE208, VAL117 to TRP286, VAL117 to PHE289, VAL117 to PHE290, VAL117 to ASN312, VAL117 to GLY315, VAL117 to TYR316, THR118 to ALA119, THR118 to SER120, THR118 to ILE121, THR118 to GLU122, THR118 to THR123, THR118 to VAL157, THR118 to VAL160, THR118 to SER161, THR118 to GLY162, THR118 to THR164, THR118 to SER165, THR118 to SER203, THR118 to VAL206, THR118 to SER207, THR118 to PHE208, THR118 to PRO211, ALA119 to SER120, ALA119 to ILE121, ALA119 to GLU122, ALA119 to THR123, ALA119 to LEU124, ALA119 to VAL157, ALA119 to TRP158, ALA119 to SER161, ALA119 to SER207, SER120 to ILE121, SER120 to GLU122, SER120 to THR123, SER120 to LEU124, SER120 to CYS125, SER120 to VAL157, SER120 to TRP158, SER120 to SER161, SER120 to PHE282, SER120 to TRP286, SER120 to GLY315, SER120 to ASN318, SER120 to SER319, SER120 to ASN322, ILE121 to GLU122, ILE121 to THR123, ILE121 to LEU124, ILE121 to CYS125, ILE121 to VAL126, ILE121 to VAL206, ILE121 to SER207, ILE121 to PHE208, ILE121 to TYR209, ILE121 to PRO211, ILE121 to LEU212, ILE121 to MET215, ILE121 to PHE282, ILE121 to TRP286, ILE121 to PHE290, ILE121 to GLY315, ILE121 to ASN318, GLU122 to THR123, GLU122 to LEU124, GLU122 to CYS125, GLU122 to VAL126, GLU122 to ILE127, GLU122 to ALA128, GLU122 to MET156, GLU122 to VAL157, GLU122 to TRP158, GLU122 to VAL160, GLU122 to SER161, GLU122 to THR164, GLU122 to VAL206, GLU122 to SER207, GLU122 to PHE208, GLU122 to VAL210, GLU122 to PRO211, THR123 to LEU124, THR123 to CYS125, THR123 to VAL126, THR123 to ILE127, THR123 to ALA128, THR123 to ILE154, THR123 to VAL157, THR123 to TRP158, THR123 to SER161, THR123 to TYR326, LEU124 to CYS125, LEU124 to VAL126, LEU124 to ILE127, LEU124 to ALA128, LEU124 to VAL129, LEU124 to PRO211, LEU124 to MET215, LEU124 to TYR219, LEU124 to ILE278, LEU124 to PHE282, LEU124 to TRP286, LEU124 to ASN318, LEU124 to ASN322, LEU124 to TYR326, CYS125 to VAL126, CYS125 to ILE127, CYS125 to ALA128, CYS125 to VAL129, CYS125 to ASP130, CYS125 to VAL210, CYS125 to PRO211, CYS125 to LEU212, CYS125 to ILE214, CYS125 to MET215, CYS125 to VAL218, CYS125 to TYR219, CYS125 to TYR326, VAL126 to ILE127, VAL126 to ALA128, VAL126 to VAL129, VAL126 to ASP130, VAL126 to ARG131, VAL126 to ILE153, VAL126 to ILE154, VAL126 to VAL157, VAL126 to ILE214, VAL126 to MET215, ILE127 to ALA128, ILE127 to VAL129, ILE127 to ASP130, ILE127 to ARG131, ILE127 to TYR132, ILE127 to VAL218, ILE127 to TYR219, ILE127 to TYR326, ALA128 to VAL129, ALA128 to ASP130, ALA128 to ARG131, ALA128 to TYR132, ALA128 to PHE133, ALA128 to ILE135, ALA128 to ILE214, ALA128 to MET215, ALA128 to VAL218, ALA128 to TYR219, ALA128 to VAL222, ALA128 to ILE278, ALA128 to TYR326, VAL129 to ASP130, VAL129 to ARG131, VAL129 to TYR132, VAL129 to PHE133, VAL129 to ALA134, VAL129 to TYR141, VAL129 to ILE214, VAL129 to MET215, VAL129 to VAL218, VAL129 to TYR219, ASP130 to ARG131, ASP130 to TYR132, ASP130 to PHE133, ASP130 to ALA134, ASP130 to ILE135, ASP130 to TYR141, ASP130 to LEU145, ASP130 to VAL218, ARG131 to TYR132, ARG131 to PHE133, ARG131 to ALA134, ARG131 to ILE135, ARG131 to THR136, ARG131 to TYR141, ARG131 to VAL218, ARG131 to TYR219, ARG131 to VAL222, TYR132 to PHE133, TYR132 to ALA134, TYR132 to ILE135, TYR132 to THR136, TYR132 to SER137, TYR132 to PHE217, TYR132 to VAL218, TYR132 to TYR219, TYR132 to ARG221, TYR132 to VAL222, TYR132 to GLU225, PHE133 to ALA134, PHE133 to ILE135, PHE133 to THR136, PHE133 to SER137, PHE133 to PRO138, PHE133 to PHE139, PHE133 to LYS140, PHE133 to TYR141, PHE133 to LEU145, PHE133 to VAL218, PHE133 to ARG221, ALA134 to ILE135, ALA134 to THR136, ALA134 to SER137, ALA134 to PRO138, ALA134 to PHE139, ALA134 to TYR141, ALA134 to GLN142, ILE135 to THR136, ILE135 to SER137, ILE135 to PRO138, ILE135 to TYR141, ILE135 to TYR219, ILE135 to VAL222, ILE135 to GLU225, THR136 to SER137, THR136 to PRO138, THR136 to PHE139, THR136 to LYS140, THR136 to VAL218, THR136 to ARG221, THR136 to VAL222, THR136 to GLU225, SER137 to PRO138, SER137 to PHE139, SER137 to LYS140, SER137 to TYR141, SER137 to GLN142, SER137 to GLU225, PRO138 to PHE139, PRO138 to LYS140, PRO138 to TYR141, PRO138 to GLN142, PRO138 to SER143, PHE139 to LYS140, PHE139 to TYR141, PHE139 to GLN142, PHE139 to SER143, PHE139 to LEU144, LYS140 to TYR141, LYS140 to GLN142, LYS140 to SER143, LYS140 to LEU144, LYS140 to LEU145, TYR141 to GLN142, TYR141 to SER143, TYR141 to LEU144, TYR141 to LEU145, TYR141 to THR146, GLN142 to SER143, GLN142 to LEU144, GLN142 to LEU145, GLN142 to THR146, SER143 to LEU144, SER143 to LEU145, SER143 to THR146, LEU144 to LEU145, LEU144 to THR146, LEU144 to LYS147, LEU144 to LYS149, LEU145 to THR146, LEU145 to LYS147, LEU145 to ASN148, LEU145 to LYS149, LEU145 to ALA150, LEU145 to ARG151, LEU145 to ILE153, THR146 to LYS147, THR146 to ASN148, THR146 to LYS149, THR146 to ALA150, THR146 to ARG151, LYS147 to ASN148, LYS147 to LYS149, LYS147 to ALA150, LYS147 to ARG151, LYS147 to VAL152, ASN148 to LYS149, ASN148 to ALA150, ASN148 to ARG151, ASN148 to VAL152, ASN148 to ILE153, LYS149 to ALA150, LYS149 to ARG151, LYS149 to VAL152, LYS149 to ILE153, LYS149 to ILE154, ALA150 to ARG151, ALA150 to VAL152, ALA150 to ILE153, ALA150 to ILE154, ALA150 to LEU155, ARG151 to VAL152, ARG151 to ILE153, ARG151 to ILE154, ARG151 to LEU155, ARG151 to MET156, VAL152 to ILE153, VAL152 to ILE154, VAL152 to LEU155, VAL152 to MET156, VAL152 to VAL157, ILE153 to ILE154, ILE153 to LEU155, ILE153 to MET156, ILE153 to VAL157, ILE153 to TRP158, ILE154 to LEU155, ILE154 to MET156, ILE154 to VAL157, ILE154 to TRP158, ILE154 to ILE159, LEU155 to MET156, LEU155 to VAL157, LEU155 to TRP158, LEU155 to ILE159, LEU155 to VAL160, MET156 to VAL157, MET156 to TRP158, MET156 to ILE159, MET156 to VAL160, MET156 to SER161, VAL157 to TRP158, VAL157 to ILE159, VAL157 to VAL160, VAL157 to SER161, VAL157 to GLY162, TRP158 to ILE159, TRP158 to VAL160, TRP158 to SER161, TRP158 to GLY162, TRP158 to LEU163, ILE159 to VAL160, ILE159 to SER161, ILE159 to GLY162, ILE159 to LEU163, ILE159 to THR164, VAL160 to SER161, VAL160 to GLY162, VAL160 to LEU163, VAL160 to THR164, VAL160 to SER165, VAL160 to VAL206, SER161 to GLY162, SER161 to LEU163, SER161 to THR164, SER161 to SER165, SER161 to PHE166, SER161 to VAL206, SER161 to SER207, GLY162 to LEU163, GLY162 to THR164, GLY162 to SER165, GLY162 to PHE166, GLY162 to LEU167, GLY162 to PRO168, LEU163 to THR164, LEU163 to SER165, LEU163 to PHE166, LEU163 to LEU167, LEU163 to PRO168, LEU163 to ILE169, LEU163 to TRP173, LEU163 to TYR199, THR164 to SER165, THR164 to PHE166, THR164 to LEU167, THR164 to PRO168, THR164 to ILE169, THR164 to TYR199, THR164 to ALA202, THR164 to SER203, THR164 to SER204, THR164 to VAL206, THR164 to SER207, SER165 to PHE166, SER165 to LEU167, SER165 to PRO168, SER165 to ILE169, SER165 to GLN170, SER165 to MET171, SER165 to TYR199, PHE166 to LEU167, PHE166 to PRO168, PHE166 to ILE169, PHE166 to GLN170, PHE166 to MET171, PHE166 to HIS172, PHE166 to TYR199, LEU167 to PRO168, LEU167 to ILE169, LEU167 to GLN170, LEU167 to MET171, LEU167 to HIS172, LEU167 to TRP173, LEU167 to TYR199, PRO168 to ILE169, PRO168 to GLN170, PRO168 to MET171, PRO168 to HIS172, PRO168 to TRP173, PRO168 to TYR174, PRO168 to ARG175, PRO168 to TYR199, ILE169 to GLN170, ILE169 to MET171, ILE169 to HIS172, ILE169 to TRP173, ILE169 to TYR174, ILE169 to ARG175, ILE169 to PHE193, ILE169 to THR195, ILE169 to TYR199, GLN170 to MET171, GLN170 to HIS172, GLN170 to TRP173, GLN170 to TYR174, GLN170 to ARG175, MET171 to HIS172, MET171 to TRP173, MET171 to TYR174, MET171 to ARG175, HIS172 to TRP173, HIS172 to TYR174, HIS172 to ARG175, HIS172 to ALA176, HIS172 to ASN196, TRP173 to TYR174, TRP173 to ARG175, TRP173 to ASN196, TRP173 to TYR199, TYR174 to ARG175, TYR174 to ALA176, TYR174 to TYR185, TYR174 to ASP192, TYR174 to PHE193, TYR174 to PHE194, TYR174 to THR195, TYR174 to ASN196, TYR174 to GLN197, TYR174 to TYR199, TYR174 to ALA200, ARG175 to ALA176, ARG175 to THR177, ARG175 to ALA181, ARG175 to ILE182, ARG175 to TYR185, ARG175 to ALA186, ARG175 to PHE194, ARG175 to THR195, ARG175 to ASN196, ARG175 to TYR199, ALA176 to THR177, ALA176 to HIS178, ALA176 to ALA181, ALA176 to ILE182, ALA176 to TYR185, ALA176 to PHE194, ALA176 to THR195, ALA176 to ASN196, THR177 to HIS178, THR177 to GLN179, THR177 to GLU180, THR177 to ALA181, THR177 to ILE182, THR177 to TYR185, THR177 to THR195, THR177 to ASN196, HIS178 to GLN179, HIS178 to GLU180, HIS178 to ALA181, HIS178 to ILE182, HIS178 to ASN183, HIS178 to TYR185, HIS178 to PHE194, HIS178 to THR195, GLN179 to GLU180, GLN179 to ALA181, GLN179 to ILE182, GLN179 to ASN183, GLN179 to CYS184, GLU180 to ALA181, GLU180 to ILE182, GLU180 to ASN183, GLU180 to CYS184, GLU180 to TYR185, GLU180 to CYS190, GLU180 to ASP192, GLU180 to PHE194, GLU180 to ASN301, ALA181 to ILE182, ALA181 to ASN183, ALA181 to CYS184, ALA181 to TYR185, ALA181 to ALA186, ALA181 to CYS190, ALA181 to PHE194, ILE182 to ASN183, ILE182 to CYS184, ILE182 to TYR185, ILE182 to ALA186, ILE182 to GLU187, ILE182 to PHE194, ASN183 to CYS184, ASN183 to TYR185, ASN183 to ALA186, ASN183 to GLU187, ASN183 to GLU188, ASN183 to CYS190, CYS184 to TYR185, CYS184 to ALA186, CYS184 to GLU187, CYS184 to GLU188, CYS184 to THR189, CYS184 to CYS190, CYS184 to CYS191, CYS184 to ASP192, CYS184 to PHE193, CYS184 to PHE194, TYR185 to ALA186, TYR185 to GLU187, TYR185 to GLU188, TYR185 to CYS190, TYR185 to ASP192, TYR185 to PHE193, TYR185 to PHE194, TYR185 to THR195, TYR185 to ASN196, ALA186 to GLU187, ALA186 to GLU188, ALA186 to THR189, ALA186 to CYS190, GLU187 to GLU188, GLU187 to THR189, GLU187 to CYS190, GLU187 to CYS191, GLU188 to THR189, GLU188 to CYS190, GLU188 to CYS191, THR189 to CYS190, THR189 to CYS191, CYS190 to CYS191, CYS190 to ASP192, CYS190 to PHE194, CYS191 to ASP192, CYS191 to PHE193, CYS191 to LYS305, ASP192 to PHE193, ASP192 to PHE194, ASP192 to LYS305, PHE193 to PHE194, PHE193 to THR195, PHE193 to TYR199, PHE193 to ALA200, PHE193 to SER203, PHE193 to PHE289, PHE193 to ASN293, PHE193 to LYS305, PHE193 to TYR308, PHE194 to THR195, PHE194 to ASN196, PHE194 to LYS305, THR195 to ASN196, THR195 to GLN197, THR195 to ALA198, THR195 to TYR199, THR195 to ALA200, THR195 to ASN293, THR195 to VAL297, THR195 to TYR308, ASN196 to GLN197, ASN196 to ALA198, ASN196 to TYR199, ASN196 to ALA200, ASN196 to ILE201, ASN196 to VAL297, GLN197 to ALA198, GLN197 to TYR199, GLN197 to ALA200, GLN197 to ILE201, GLN197 to ALA202, GLN197 to VAL297, GLN197 to ILE298, ALA198 to TYR199, ALA198 to ALA200, ALA198 to ILE201, ALA198 to ALA202, ALA198 to SER203, ALA198 to VAL297, TYR199 to ALA200, TYR199 to ILE201, TYR199 to ALA202, TYR199 to SER203, TYR199 to SER204, TYR199 to ILE205, TYR199 to VAL297, ALA200 to ILE201, ALA200 to ALA202, ALA200 to SER203, ALA200 to SER204, ALA200 to ILE205, ALA200 to PHE290, ALA200 to ASN293, ALA200 to ILE294, ALA200 to VAL297, ILE201 to ALA202, ILE201 to SER203, ILE201 to SER204, ILE201 to ILE205, ILE201 to VAL206, ILE201 to TYR209, ILE201 to ASN293, ILE201 to ILE294, ILE201 to VAL297, ILE201 to ILE298, ALA202 to SER203, ALA202 to SER204, ALA202 to ILE205, ALA202 to VAL206, ALA202 to SER207, ALA202 to ILE294, SER203 to SER204, SER203 to ILE205, SER203 to VAL206, SER203 to SER207, SER203 to PHE208, SER203 to TYR209, SER203 to PHE290, SER203 to ASN293, SER204 to ILE205, SER204 to VAL206, SER204 to SER207, SER204 to PHE208, SER204 to TYR209, SER204 to VAL210, SER204 to PRO211, SER204 to PHE289, SER204 to PHE290, SER204 to ASN293, SER204 to ILE294, ILE205 to VAL206, ILE205 to SER207, ILE205 to PHE208, ILE205 to TYR209, ILE205 to VAL210, ILE205 to PRO211, ILE205 to LEU212, ILE205 to PHE290, ILE205 to ILE294, VAL206 to SER207, VAL206 to PHE208, VAL206 to TYR209, VAL206 to VAL210, VAL206 to PRO211, SER207 to PHE208, SER207 to TYR209, SER207 to VAL210, SER207 to PRO211, SER207 to LEU212, SER207 to PHE282, SER207 to PHE290, PHE208 to TYR209, PHE208 to VAL210, PHE208 to PRO211, PHE208 to LEU212, PHE208 to VAL213, PHE208 to PHE282, PHE208 to THR283, PHE208 to CYS285, PHE208 to TRP286, PHE208 to LEU287, PHE208 to PRO288, PHE208 to PHE290, PHE208 to ILE291, TYR209 to VAL210, TYR209 to PRO211, TYR209 to LEU212, TYR209 to VAL213, TYR209 to ILE214, TYR209 to TRP286, TYR209 to LEU287, TYR209 to PRO288, TYR209 to PHE289, TYR209 to PHE290, TYR209 to ILE291, TYR209 to VAL292, TYR209 to ASN293, TYR209 to ILE294, VAL210 to PRO211, VAL210 to LEU212, VAL210 to VAL213, VAL210 to ILE214, VAL210 to MET215, PRO211 to LEU212, PRO211 to VAL213, PRO211 to ILE214, PRO211 to MET215, PRO211 to VAL216, PRO211 to MET279, PRO211 to PHE282, LEU212 to VAL213, LEU212 to ILE214, LEU212 to MET215, LEU212 to VAL216, LEU212 to PHE217, LEU212 to MET279, LEU212 to PHE282, LEU212 to THR283, LEU212 to LEU287, VAL213 to ILE214, VAL213 to MET215, VAL213 to VAL216, VAL213 to PHE217, VAL213 to VAL218, VAL213 to SER220, VAL213 to MET279, ILE214 to MET215, ILE214 to VAL216, ILE214 to PHE217, ILE214 to VAL218, ILE214 to TYR219, MET215 to VAL216, MET215 to PHE217, MET215 to VAL218, MET215 to TYR219, MET215 to SER220, MET215 to ILE278, MET215 to MET279, MET215 to PHE282, MET215 to TYR326, VAL216 to PHE217, VAL216 to VAL218, VAL216 to TYR219, VAL216 to SER220, VAL216 to ARG221, VAL216 to MET279, VAL216 to THR283, PHE217 to VAL218, PHE217 to TYR219, PHE217 to SER220, PHE217 to ARG221, PHE217 to VAL222, VAL218 to TYR219, VAL218 to SER220, VAL218 to ARG221, VAL218 to VAL222, VAL218 to PHE223, TYR219 to SER220, TYR219 to ARG221, TYR219 to VAL222, TYR219 to PHE223, TYR219 to GLN224, TYR219 to LEU275, TYR219 to ILE278, TYR219 to MET279, TYR219 to TYR326, SER220 to ARG221, SER220 to VAL222, SER220 to PHE223, SER220 to GLN224, SER220 to GLU225, ARG221 to VAL222, ARG221 to PHE223, ARG221 to GLN224, ARG221 to GLU225, ARG221 to ALA226, VAL222 to PHE223, VAL222 to GLN224, VAL222 to GLU225, VAL222 to ALA226, VAL222 to LYS227, VAL222 to LEU275, PHE223 to GLN224, PHE223 to GLU225, PHE223 to ALA226, PHE223 to LYS227, PHE223 to LEU272, PHE223 to LEU275, GLN224 to GLU225, GLN224 to ALA226, GLN224 to LYS227, GLU225 to ALA226, GLU225 to LYS227, ALA226 to LYS227, ALA226 to GLU268, LYS227 to GLU268, LYS227 to HIS269, LYS227 to LEU272, LEU266 to LYS267, LEU266 to GLU268, LEU266 to HIS269, LEU266 to LYS270, LEU266 to ALA271, LYS267 to GLU268, LYS267 to HIS269, LYS267 to LYS270, LYS267 to ALA271, LYS267 to LEU272, GLU268 to HIS269, GLU268 to LYS270, GLU268 to ALA271, GLU268 to LEU272, GLU268 to LYS273, HIS269 to LYS270, HIS269 to ALA271, HIS269 to LEU272, HIS269 to LYS273, HIS269 to THR274, LYS270 to ALA271, LYS270 to LEU272, LYS270 to LYS273, LYS270 to THR274, LYS270 to LEU275, LYS270 to ILE277, ALA271 to LEU272, ALA271 to LYS273, ALA271 to THR274, ALA271 to LEU275, ALA271 to GLY276, LEU272 to LYS273, LEU272 to THR274, LEU272 to LEU275, LEU272 to GLY276, LEU272 to ILE277, LYS273 to THR274, LYS273 to LEU275, LYS273 to GLY276, LYS273 to ILE277, LYS273 to ILE278, THR274 to LEU275, THR274 to GLY276, THR274 to ILE277, THR274 to ILE278, THR274 to MET279, THR274 to GLY280, THR274 to ILE325, LEU275 to GLY276, LEU275 to ILE277, LEU275 to ILE278, LEU275 to MET279, LEU275 to GLY280, GLY276 to ILE277, GLY276 to ILE278, GLY276 to MET279, GLY276 to GLY280, GLY276 to THR281, ILE277 to ILE278, ILE277 to MET279, ILE277 to GLY280, ILE277 to THR281, ILE277 to PHE282, ILE277 to ILE325, ILE278 to MET279, ILE278 to GLY280, ILE278 to THR281, ILE278 to PHE282, ILE278 to THR283, ILE278 to ILE325, ILE278 to TYR326, MET279 to GLY280, MET279 to THR281, MET279 to PHE282, MET279 to THR283, MET279 to LEU284, MET279 to TYR326, GLY280 to THR281, GLY280 to PHE282, GLY280 to THR283, GLY280 to LEU284, GLY280 to CYS285, THR281 to PHE282, THR281 to THR283, THR281 to LEU284, THR281 to CYS285, THR281 to TRP286, THR281 to ASN318, THR281 to PHE321, THR281 to ASN322, THR281 to ILE325, PHE282 to THR283, PHE282 to LEU284, PHE282 to CYS285, PHE282 to TRP286, PHE282 to LEU287, PHE282 to PRO288, PHE282 to ASN318, PHE282 to ASN322, PHE282 to ILE325, PHE282 to TYR326, THR283 to LEU284, THR283 to CYS285, THR283 to TRP286, THR283 to LEU287, THR283 to PRO288, THR283 to PHE289, THR283 to ASN318, LEU284 to CYS285, LEU284 to TRP286, LEU284 to LEU287, LEU284 to PRO288, LEU284 to ILE314, LEU284 to GLY315, LEU284 to PHE321, CYS285 to TRP286, CYS285 to LEU287, CYS285 to PRO288, CYS285 to PHE289, CYS285 to LEU311, CYS285 to ASN312, CYS285 to TRP313, CYS285 to ILE314, CYS285 to GLY315, CYS285 to TYR316, CYS285 to VAL317, CYS285 to ASN318, CYS285 to PHE321, TRP286 to LEU287, TRP286 to PRO288, TRP286 to PHE289, TRP286 to PHE290, TRP286 to ILE291, TRP286 to LEU311, TRP286 to ASN312, TRP286 to TRP313, TRP286 to ILE314, TRP286 to GLY315, TRP286 to TYR316, TRP286 to VAL317, TRP286 to ASN318, TRP286 to SER319, LEU287 to PRO288, LEU287 to PHE289, LEU287 to PHE290, LEU287 to ILE291, LEU287 to VAL292, PRO288 to PHE289, PRO288 to PHE290, PRO288 to ILE291, PRO288 to VAL292, PRO288 to ASN293, PRO288 to LEU311, PRO288 to ILE314, PHE289 to PHE290, PHE289 to ILE291, PHE289 to VAL292, PHE289 to ASN293, PHE289 to ILE294, PHE289 to VAL307, PHE289 to TYR308, PHE289 to ILE309, PHE289 to LEU310, PHE289 to LEU311, PHE289 to ASN312, PHE289 to TRP313, PHE289 to GLY315, PHE290 to ILE291, PHE290 to VAL292, PHE290 to ASN293, PHE290 to ILE294, PHE290 to VAL295, PHE290 to LEU311, PHE290 to ASN312, ILE291 to VAL292, ILE291 to ASN293, ILE291 to ILE294, ILE291 to VAL295, ILE291 to HIS296, ILE291 to ILE298, ILE291 to ILE303, VAL292 to ASN293, VAL292 to ILE294, VAL292 to VAL295, VAL292 to HIS296, VAL292 to VAL297, VAL292 to ILE303, VAL292 to VAL307, VAL292 to TYR308, VAL292 to LEU311, ASN293 to ILE294, ASN293 to VAL295, ASN293 to HIS296, ASN293 to VAL297, ASN293 to ILE298, ASN293 to ILE303, ASN293 to TYR308, ILE294 to VAL295, ILE294 to HIS296, ILE294 to VAL297, ILE294 to ILE298, ILE294 to GLN299, ILE294 to ILE303, VAL295 to HIS296, VAL295 to VAL297, VAL295 to ILE298, VAL295 to GLN299, VAL295 to ASP300, VAL295 to LEU302, VAL295 to ILE303, HIS296 to VAL297, HIS296 to ILE298, HIS296 to GLN299, HIS296 to ASP300, HIS296 to ASN301, HIS296 to LEU302, HIS296 to ILE303, HIS296 to ARG304, HIS296 to LYS305, HIS296 to TYR308, VAL297 to ILE298, VAL297 to GLN299, VAL297 to ASP300, VAL297 to ILE303, ILE298 to GLN299, ILE298 to ASP300, ILE298 to ASN301, GLN299 to ASP300, GLN299 to ASN301, GLN299 to LEU302, GLN299 to ILE303, ASP300 to ASN301, ASP300 to LEU302, ASP300 to ILE303, ASN301 to LEU302, ASN301 to ILE303, ASN301 to ARG304, LEU302 to ILE303, LEU302 to ARG304, ILE303 to ARG304, ILE303 to LYS305, ILE303 to GLU306, ILE303 to VAL307, ILE303 to TYR308, ILE303 to LEU311, ARG304 to LYS305, ARG304 to GLU306, ARG304 to VAL307, ARG304 to TYR308, ARG304 to ILE309, ARG304 to LEU310, LYS305 to GLU306, LYS305 to VAL307, LYS305 to TYR308, LYS305 to ILE309, LYS305 to LEU310, LYS305 to LEU311, GLU306 to VAL307, GLU306 to TYR308, GLU306 to ILE309, GLU306 to LEU310, GLU306 to LEU311, VAL307 to TYR308, VAL307 to ILE309, VAL307 to LEU310, VAL307 to LEU311, VAL307 to ASN312, TYR308 to ILE309, TYR308 to LEU310, TYR308 to LEU311, TYR308 to ASN312, TYR308 to TRP313, ILE309 to LEU310, ILE309 to LEU311, ILE309 to ASN312, ILE309 to TRP313, ILE309 to ILE314, LEU310 to LEU311, LEU310 to ASN312, LEU310 to TRP313, LEU310 to ILE314, LEU310 to GLY315, LEU311 to ASN312, LEU311 to TRP313, LEU311 to ILE314, LEU311 to GLY315, LEU311 to TYR316, ASN312 to TRP313, ASN312 to ILE314, ASN312 to GLY315, ASN312 to TYR316, ASN312 to VAL317, TRP313 to ILE314, TRP313 to GLY315, TRP313 to TYR316, TRP313 to VAL317, TRP313 to ASN318, ILE314 to GLY315, ILE314 to TYR316, ILE314 to VAL317, ILE314 to ASN318, ILE314 to SER319, ILE314 to PHE321, GLY315 to TYR316, GLY315 to VAL317, GLY315 to ASN318, GLY315 to SER319, GLY315 to GLY320, TYR316 to VAL317, TYR316 to ASN318, TYR316 to SER319, TYR316 to GLY320, VAL317 to ASN318, VAL317 to SER319, VAL317 to GLY320, VAL317 to PHE321, VAL317 to ASN322, ASN318 to SER319, ASN318 to GLY320, ASN318 to PHE321, ASN318 to ASN322, ASN318 to PRO323, ASN318 to ILE325, SER319 to GLY320, SER319 to PHE321, SER319 to ASN322, SER319 to PRO323, GLY320 to PHE321, GLY320 to ASN322, GLY320 to PRO323, GLY320 to LEU324, PHE321 to ASN322, PHE321 to PRO323, PHE321 to LEU324, PHE321 to ILE325, PHE321 to TYR326, ASN322 to PRO323, ASN322 to LEU324, ASN322 to ILE325, ASN322 to TYR326, ASN322 to CYS327, PRO323 to LEU324, PRO323 to ILE325, PRO323 to TYR326, PRO323 to CYS327, PRO323 to ARG328, PRO323 to PHE336, LEU324 to ILE325, LEU324 to TYR326, LEU324 to CYS327, LEU324 to ARG328, ILE325 to TYR326, ILE325 to CYS327, ILE325 to ARG328, ILE325 to SER329, TYR326 to CYS327, TYR326 to ARG328, TYR326 to SER329, TYR326 to PHE332, CYS327 to ARG328, CYS327 to SER329, CYS327 to PRO330, CYS327 to PHE332, CYS327 to ARG333, CYS327 to PHE336, ARG328 to SER329, ARG328 to PRO330, ARG328 to ASP331, ARG328 to PHE332, ARG328 to ARG333, ARG328 to PHE336, SER329 to PRO330, SER329 to ASP331, SER329 to PHE332, SER329 to ARG333, SER329 to ILE334, SER329 to PHE336, PRO330 to ASP331, PRO330 to PHE332, PRO330 to ARG333, PRO330 to ILE334, PRO330 to ALA335, PRO330 to GLN337, ASP331 to PHE332, ASP331 to ARG333, ASP331 to ILE334, ASP331 to ALA335, ASP331 to PHE336, PHE332 to ARG333, PHE332 to ILE334, PHE332 to ALA335, PHE332 to PHE336, PHE332 to GLN337, PHE332 to LEU339, ARG333 to ILE334, ARG333 to ALA335, ARG333 to PHE336, ARG333 to GLN337, ARG333 to GLU338, ILE334 to ALA335, ILE334 to PHE336, ILE334 to GLN337, ILE334 to GLU338, ILE334 to LEU339, ALA335 to PHE336, ALA335 to GLN337, ALA335 to GLU338, ALA335 to LEU339, PHE336 to GLN337, PHE336 to GLU338, PHE336 to LEU339, GLN337 to GLU338, GLN337 to LEU339, GLU338 to LEU339, ASP29 to LYS97, VAL33 to LYS97, VAL48 to SER319, GLY50 to TYR326, ASN51 to TYR326, VAL52 to PRO323, LEU53 to PRO323, LEU53 to ALA335, VAL54 to ASN69, VAL54 to TYR326, ILE58 to THR68, ILE58 to TYR326, ALA59 to THR73, LYS60 to ARG63, LYS60 to GLU338, PHE61 to THR66, PHE61 to ASN69, GLU62 to LYS147, ARG63 to PRO330, LEU64 to THR68, VAL67 to ARG131, VAL67 to SER143, VAL67 to ILE154, THR68 to SER143, THR68 to LEU275, TYR70 to ASN148, PHE71 to SER143, PHE71 to VAL157, PHE71 to TYR326, ILE72 to LEU124, ILE72 to ILE154, ILE72 to LEU275, ILE72 to ILE278, THR73 to ILE154, THR73 to TYR326, SER74 to LEU155, LEU75 to CYS116, LEU75 to ILE278, LEU75 to PHE282, ALA76 to ASN322, ALA76 to TYR326, ALA78 to VAL86, ALA78 to ILE112, ASP79 to VAL87, ASP79 to PHE282, ASP79 to TYR326, LEU80 to VAL86, MET82 to VAL114, MET82 to ASN312, LEU84 to TRP105, ALA85 to CYS116, VAL86 to TRP105, VAL87 to SER319, PRO88 to PHE101, GLY90 to PHE101, ALA91 to TYR316, HIS93 to LYS305, MET98 to PHE101, TRP99 to THR110, TRP105 to SER111, LEU115 to ILE159, LEU115 to VAL160, CYS116 to PHE282, VAL117 to PHE282, THR118 to PHE282, ILE121 to VAL210, ILE121 to MET279, ILE121 to THR283, GLU122 to ILE159, GLU122 to GLY162, GLU122 to PHE282, THR123 to PRO211, THR123 to MET279, LEU124 to LEU275, LEU124 to MET279, LEU124 to GLY280, LEU124 to THR283, CYS125 to VAL213, CYS125 to VAL216, CYS125 to MET279, VAL126 to LEU145, VAL126 to MET279, ILE127 to VAL222, ILE127 to LEU275, ILE127 to ILE278, ILE127 to MET279, ALA128 to VAL216, ALA128 to MET279, VAL129 to VAL222, VAL129 to MET279, ASP130 to GLN142, ASP130 to SER143, ASP130 to LEU144, ASP130 to VAL222, ARG131 to GLN142, ARG131 to SER143, ARG131 to LEU144, ARG131 to LEU272, ARG131 to LEU275, ARG131 to MET279, PHE133 to GLN142, PHE133 to SER143, PHE133 to LEU144, PHE133 to VAL222, ALA134 to LYS140, ALA134 to SER143, ALA134 to LEU144, ILE135 to PHE139, ILE135 to LYS140, ILE135 to GLN142, ILE135 to ARG221, ILE135 to PHE223, ILE135 to GLN224, ILE135 to ALA226, ILE135 to LYS227, ILE135 to HIS269, ILE135 to LEU272, THR136 to TYR141, THR136 to LEU144, SER137 to SER143, SER137 to LEU144, PRO138 to LEU144, LYS140 to GLU225, TYR141 to GLU225, TYR141 to ALA226, TYR141 to LEU266, TYR141 to GLU268, TYR141 to HIS269, TYR141 to LEU272, SER143 to ALA150, VAL157 to THR164, TRP158 to SER165, SER161 to LEU167, SER165 to SER203, SER165 to SER207, PRO168 to SER203, MET171 to ARG304, MET171 to VAL307, TRP173 to ALA176, ARG175 to GLN197, ALA176 to GLN197, HIS178 to ASP300, ALA181 to GLU187, ALA181 to ASP192, ALA181 to THR195, CYS191 to PHE194, ASP192 to THR195, THR195 to ILE201, GLN197 to HIS296, GLN197 to ASP300, TYR199 to SER207, SER204 to VAL297, ILE214 to SER220, MET215 to GLY280, MET215 to THR283, TYR219 to HIS269, TYR219 to ALA271, TYR219 to LEU272, TYR219 to LYS273, TYR219 to THR274, TYR219 to GLY276, TYR219 to ILE277, VAL222 to LEU272, PHE223 to HIS269, PHE223 to LYS273, PHE223 to THR274, PHE223 to GLY276, PHE223 to ILE277, GLU225 to HIS269, GLU225 to LEU272, ALA226 to LEU266, ALA226 to HIS269, ALA226 to LEU272, CYS265 to LEU266, CYS265 to LYS267, CYS265 to GLU268, CYS265 to HIS269, CYS265 to LYS270, LYS267 to PRO330, HIS269 to ARG328, LYS270 to ARG328, ALA271 to ARG328, LEU272 to MET279, LEU272 to ARG328, LYS273 to ILE325, LYS273 to ARG328, THR274 to ASN322, THR274 to TYR326, THR274 to CYS327, THR274 to ARG328, THR274 to SER329, LEU275 to ILE325, LEU275 to TYR326, LEU275 to ARG328, ILE277 to ASN322, ILE277 to ARG328, ILE278 to ASN318, ILE278 to PHE321, ILE278 to ASN322, ILE278 to PRO323, MET279 to ASN322, MET279 to ILE325, PHE282 to PHE290, PHE282 to GLY315, LEU284 to PHE289, PRO288 to ILE303, PRO288 to TYR308, PHE290 to TYR308, VAL292 to GLN299, VAL292 to ASP300, VAL292 to ARG304, VAL295 to ASN301, ILE309 to TYR316, GLY320 to ILE325, ASN322 to PHE336, PRO323 to PHE332, LEU324 to PHE336, TYR326 to PRO330, TYR326 to ASP331, TYR326 to ARG333, TYR326 to PHE336]\n",
      "Completed featurizing\n"
     ]
    }
   ],
   "source": [
    "if not os.path.exists(features_dir): os.makedirs(features_dir)\n",
    "import custom_featurizer\n",
    "reload(custom_featurizer)\n",
    "from custom_featurizer import *\n",
    "featurize_contacts_custom(traj_dir, features_dir = features_dir, \n",
    "                          traj_ext = traj_ext, contact_residue_pairs_file = feature_residues_pkl, \n",
    "                          structures = [active_ref_dir, inactive_ref_dir],  \n",
    "                          contact_residues =  contact_residues, residues_map = None, \n",
    "                          contact_cutoff = 0.66, parallel = False, \n",
    "                          exacycle = exacycle, load_from_file=False, schemes=[])\n"
   ]
  },
  {
   "cell_type": "code",
   "execution_count": null,
   "metadata": {
    "collapsed": false
   },
   "outputs": [],
   "source": [
    "fit_normalizer(features_dir)\n",
    "fit_and_transform(features_directory = features_dir, model_dir = tica_dir, stride=5, lag_time = lag_time, n_components = n_components, sparse = sparse, wolf = wolf, rho = rho, shrinkage = shrinkage, parallel=True, traj_ext = traj_ext, normalize=True)"
   ]
  },
  {
   "cell_type": "code",
   "execution_count": 22,
   "metadata": {
    "collapsed": false
   },
   "outputs": [
    {
     "name": "stdout",
     "output_type": "stream",
     "text": [
      "loading \"/home/enf/b2ar_analysis/sparse-tICA_t5_n_components2all_residues_2rh1_3sn6_under_cutoff6A-py3_regularization_wolf_autoShrinkage_rho0pt01/phi_psi_chi2_allprot_tica_coords.h5\"...\n"
     ]
    },
    {
     "ename": "OSError",
     "evalue": "Unable to load /home/enf/b2ar_analysis/sparse-tICA_t5_n_components2all_residues_2rh1_3sn6_under_cutoff6A-py3_regularization_wolf_autoShrinkage_rho0pt01/phi_psi_chi2_allprot_tica_coords.h5 using the pickle or joblib protocol.\nPickle: [Errno 2] No such file or directory: '/home/enf/b2ar_analysis/sparse-tICA_t5_n_components2all_residues_2rh1_3sn6_under_cutoff6A-py3_regularization_wolf_autoShrinkage_rho0pt01/phi_psi_chi2_allprot_tica_coords.h5'\nJoblib: [Errno 2] No such file or directory: '/home/enf/b2ar_analysis/sparse-tICA_t5_n_components2all_residues_2rh1_3sn6_under_cutoff6A-py3_regularization_wolf_autoShrinkage_rho0pt01/phi_psi_chi2_allprot_tica_coords.h5'",
     "output_type": "error",
     "traceback": [
      "\u001b[1;31m---------------------------------------------------------------------------\u001b[0m",
      "\u001b[1;31mFileNotFoundError\u001b[0m                         Traceback (most recent call last)",
      "\u001b[1;32m/home/enf/anaconda3/lib/python3.5/site-packages/msmbuilder/utils/io.py\u001b[0m in \u001b[0;36mload\u001b[1;34m(filename)\u001b[0m\n\u001b[0;32m     55\u001b[0m     \u001b[1;32mtry\u001b[0m\u001b[1;33m:\u001b[0m\u001b[1;33m\u001b[0m\u001b[0m\n\u001b[1;32m---> 56\u001b[1;33m         \u001b[1;32mwith\u001b[0m \u001b[0mopen\u001b[0m\u001b[1;33m(\u001b[0m\u001b[0mfilename\u001b[0m\u001b[1;33m,\u001b[0m \u001b[1;34m'rb'\u001b[0m\u001b[1;33m)\u001b[0m \u001b[1;32mas\u001b[0m \u001b[0mf\u001b[0m\u001b[1;33m:\u001b[0m\u001b[1;33m\u001b[0m\u001b[0m\n\u001b[0m\u001b[0;32m     57\u001b[0m             \u001b[1;32mreturn\u001b[0m \u001b[0mpickle\u001b[0m\u001b[1;33m.\u001b[0m\u001b[0mload\u001b[0m\u001b[1;33m(\u001b[0m\u001b[0mf\u001b[0m\u001b[1;33m)\u001b[0m\u001b[1;33m\u001b[0m\u001b[0m\n",
      "\u001b[1;31mFileNotFoundError\u001b[0m: [Errno 2] No such file or directory: '/home/enf/b2ar_analysis/sparse-tICA_t5_n_components2all_residues_2rh1_3sn6_under_cutoff6A-py3_regularization_wolf_autoShrinkage_rho0pt01/phi_psi_chi2_allprot_tica_coords.h5'",
      "\nDuring handling of the above exception, another exception occurred:\n",
      "\u001b[1;31mFileNotFoundError\u001b[0m                         Traceback (most recent call last)",
      "\u001b[1;32m/home/enf/anaconda3/lib/python3.5/site-packages/msmbuilder/utils/io.py\u001b[0m in \u001b[0;36mload\u001b[1;34m(filename)\u001b[0m\n\u001b[0;32m     59\u001b[0m         \u001b[1;32mtry\u001b[0m\u001b[1;33m:\u001b[0m\u001b[1;33m\u001b[0m\u001b[0m\n\u001b[1;32m---> 60\u001b[1;33m             \u001b[1;32mreturn\u001b[0m \u001b[0mjl_load\u001b[0m\u001b[1;33m(\u001b[0m\u001b[0mfilename\u001b[0m\u001b[1;33m)\u001b[0m\u001b[1;33m\u001b[0m\u001b[0m\n\u001b[0m\u001b[0;32m     61\u001b[0m         \u001b[1;32mexcept\u001b[0m \u001b[0mException\u001b[0m \u001b[1;32mas\u001b[0m \u001b[0me2\u001b[0m\u001b[1;33m:\u001b[0m\u001b[1;33m\u001b[0m\u001b[0m\n",
      "\u001b[1;32m/home/enf/anaconda3/lib/python3.5/site-packages/sklearn/externals/joblib/numpy_pickle.py\u001b[0m in \u001b[0;36mload\u001b[1;34m(filename, mmap_mode)\u001b[0m\n\u001b[0;32m    442\u001b[0m     \"\"\"\n\u001b[1;32m--> 443\u001b[1;33m     \u001b[1;32mwith\u001b[0m \u001b[0mopen\u001b[0m\u001b[1;33m(\u001b[0m\u001b[0mfilename\u001b[0m\u001b[1;33m,\u001b[0m \u001b[1;34m'rb'\u001b[0m\u001b[1;33m)\u001b[0m \u001b[1;32mas\u001b[0m \u001b[0mfile_handle\u001b[0m\u001b[1;33m:\u001b[0m\u001b[1;33m\u001b[0m\u001b[0m\n\u001b[0m\u001b[0;32m    444\u001b[0m         \u001b[1;31m# We are careful to open the file handle early and keep it open to\u001b[0m\u001b[1;33m\u001b[0m\u001b[1;33m\u001b[0m\u001b[0m\n",
      "\u001b[1;31mFileNotFoundError\u001b[0m: [Errno 2] No such file or directory: '/home/enf/b2ar_analysis/sparse-tICA_t5_n_components2all_residues_2rh1_3sn6_under_cutoff6A-py3_regularization_wolf_autoShrinkage_rho0pt01/phi_psi_chi2_allprot_tica_coords.h5'",
      "\nDuring handling of the above exception, another exception occurred:\n",
      "\u001b[1;31mOSError\u001b[0m                                   Traceback (most recent call last)",
      "\u001b[1;32m<ipython-input-22-7b3dbfeda1d6>\u001b[0m in \u001b[0;36m<module>\u001b[1;34m()\u001b[0m\n\u001b[1;32m----> 1\u001b[1;33m \u001b[0mtica_object\u001b[0m \u001b[1;33m=\u001b[0m \u001b[0mverboseload\u001b[0m\u001b[1;33m(\u001b[0m\u001b[0mprojection_operator_dir\u001b[0m\u001b[1;33m)\u001b[0m\u001b[1;33m\u001b[0m\u001b[0m\n\u001b[0m\u001b[0;32m      2\u001b[0m \u001b[0mprint\u001b[0m\u001b[1;33m(\u001b[0m\u001b[0mtica_object\u001b[0m\u001b[1;33m.\u001b[0m\u001b[0mtimescales_\u001b[0m\u001b[1;33m)\u001b[0m\u001b[1;33m\u001b[0m\u001b[0m\n",
      "\u001b[1;32m/home/enf/anaconda3/lib/python3.5/site-packages/msmbuilder/utils/io.py\u001b[0m in \u001b[0;36mverboseload\u001b[1;34m(fn)\u001b[0m\n\u001b[0;32m     79\u001b[0m     \"\"\"\n\u001b[0;32m     80\u001b[0m     \u001b[0mprint\u001b[0m\u001b[1;33m(\u001b[0m\u001b[1;34m'loading \"%s\"...'\u001b[0m \u001b[1;33m%\u001b[0m \u001b[0mfn\u001b[0m\u001b[1;33m)\u001b[0m\u001b[1;33m\u001b[0m\u001b[0m\n\u001b[1;32m---> 81\u001b[1;33m     \u001b[1;32mreturn\u001b[0m \u001b[0mload\u001b[0m\u001b[1;33m(\u001b[0m\u001b[0mfn\u001b[0m\u001b[1;33m)\u001b[0m\u001b[1;33m\u001b[0m\u001b[0m\n\u001b[0m",
      "\u001b[1;32m/home/enf/anaconda3/lib/python3.5/site-packages/msmbuilder/utils/io.py\u001b[0m in \u001b[0;36mload\u001b[1;34m(filename)\u001b[0m\n\u001b[0;32m     63\u001b[0m                 \u001b[1;34m\"Unable to load {} using the pickle or joblib protocol.\\n\"\u001b[0m\u001b[1;33m\u001b[0m\u001b[0m\n\u001b[0;32m     64\u001b[0m                 \u001b[1;34m\"Pickle: {}\\n\"\u001b[0m\u001b[1;33m\u001b[0m\u001b[0m\n\u001b[1;32m---> 65\u001b[1;33m                 \u001b[1;34m\"Joblib: {}\"\u001b[0m\u001b[1;33m.\u001b[0m\u001b[0mformat\u001b[0m\u001b[1;33m(\u001b[0m\u001b[0mfilename\u001b[0m\u001b[1;33m,\u001b[0m \u001b[0me1\u001b[0m\u001b[1;33m,\u001b[0m \u001b[0me2\u001b[0m\u001b[1;33m)\u001b[0m\u001b[1;33m\u001b[0m\u001b[0m\n\u001b[0m\u001b[0;32m     66\u001b[0m             )\n\u001b[0;32m     67\u001b[0m \u001b[1;33m\u001b[0m\u001b[0m\n",
      "\u001b[1;31mOSError\u001b[0m: Unable to load /home/enf/b2ar_analysis/sparse-tICA_t5_n_components2all_residues_2rh1_3sn6_under_cutoff6A-py3_regularization_wolf_autoShrinkage_rho0pt01/phi_psi_chi2_allprot_tica_coords.h5 using the pickle or joblib protocol.\nPickle: [Errno 2] No such file or directory: '/home/enf/b2ar_analysis/sparse-tICA_t5_n_components2all_residues_2rh1_3sn6_under_cutoff6A-py3_regularization_wolf_autoShrinkage_rho0pt01/phi_psi_chi2_allprot_tica_coords.h5'\nJoblib: [Errno 2] No such file or directory: '/home/enf/b2ar_analysis/sparse-tICA_t5_n_components2all_residues_2rh1_3sn6_under_cutoff6A-py3_regularization_wolf_autoShrinkage_rho0pt01/phi_psi_chi2_allprot_tica_coords.h5'"
     ]
    }
   ],
   "source": [
    "tica_object = verboseload(projection_operator_dir)\n",
    "print(tica_object.timescales_)"
   ]
  },
  {
   "cell_type": "code",
   "execution_count": 11,
   "metadata": {
    "collapsed": false
   },
   "outputs": [
    {
     "ename": "FileNotFoundError",
     "evalue": "[Errno 2] No such file or directory: '/home/enf/b2ar_analysis/sparse-tICA_t5_n_components2all_residues_2rh1_3sn6_under_cutoff6A-py3_regularization_wolf_autoShrinkage_rho0pt01/phi_psi_chi2_allprot_tica_coords.h5'",
     "output_type": "error",
     "traceback": [
      "\u001b[1;31m---------------------------------------------------------------------------\u001b[0m",
      "\u001b[1;31mFileNotFoundError\u001b[0m                         Traceback (most recent call last)",
      "\u001b[1;32m<ipython-input-11-8a8f10388762>\u001b[0m in \u001b[0;36m<module>\u001b[1;34m()\u001b[0m\n\u001b[0;32m      1\u001b[0m \u001b[0mtic_components_dir\u001b[0m \u001b[1;33m=\u001b[0m \u001b[0mtica_dir\u001b[0m\u001b[1;33m\u001b[0m\u001b[0m\n\u001b[1;32m----> 2\u001b[1;33m \u001b[0mimportant_contact_features\u001b[0m \u001b[1;33m=\u001b[0m \u001b[0minterpret_tIC_components\u001b[0m\u001b[1;33m(\u001b[0m\u001b[0mprojection_operator_dir\u001b[0m\u001b[1;33m,\u001b[0m \u001b[0mtic_components_dir\u001b[0m\u001b[1;33m,\u001b[0m \u001b[0mfeature_residues_pkl\u001b[0m\u001b[1;33m,\u001b[0m \u001b[0mn_tica_components\u001b[0m\u001b[1;33m=\u001b[0m\u001b[0mn_components\u001b[0m\u001b[1;33m,\u001b[0m \u001b[0mpercentile\u001b[0m\u001b[1;33m=\u001b[0m\u001b[1;36m95\u001b[0m\u001b[1;33m)\u001b[0m\u001b[1;33m\u001b[0m\u001b[0m\n\u001b[0m",
      "\u001b[1;32m/vspdata/vspcompute/home/enf/b2ar_analysis/conformation/interpret_tICs.py\u001b[0m in \u001b[0;36minterpret_tIC_components\u001b[1;34m(tica_filename, save_dir, feature_residues_pkl, n_tica_components, percentile)\u001b[0m\n\u001b[0;32m    192\u001b[0m \u001b[1;33m\u001b[0m\u001b[0m\n\u001b[0;32m    193\u001b[0m \u001b[1;32mdef\u001b[0m \u001b[0minterpret_tIC_components\u001b[0m\u001b[1;33m(\u001b[0m\u001b[0mtica_filename\u001b[0m\u001b[1;33m,\u001b[0m \u001b[0msave_dir\u001b[0m\u001b[1;33m,\u001b[0m \u001b[0mfeature_residues_pkl\u001b[0m\u001b[1;33m,\u001b[0m \u001b[0mn_tica_components\u001b[0m\u001b[1;33m=\u001b[0m\u001b[1;36m25\u001b[0m\u001b[1;33m,\u001b[0m \u001b[0mpercentile\u001b[0m\u001b[1;33m=\u001b[0m\u001b[1;36m95\u001b[0m\u001b[1;33m)\u001b[0m\u001b[1;33m:\u001b[0m\u001b[1;33m\u001b[0m\u001b[0m\n\u001b[1;32m--> 194\u001b[1;33m   \u001b[0mtica_object\u001b[0m \u001b[1;33m=\u001b[0m \u001b[0mcompat_verboseload\u001b[0m\u001b[1;33m(\u001b[0m\u001b[0mtica_filename\u001b[0m\u001b[1;33m)\u001b[0m\u001b[1;33m\u001b[0m\u001b[0m\n\u001b[0m\u001b[0;32m    195\u001b[0m   \u001b[0mtica_components\u001b[0m \u001b[1;33m=\u001b[0m \u001b[0mtica_object\u001b[0m\u001b[1;33m.\u001b[0m\u001b[0mcomponents_\u001b[0m\u001b[1;33m\u001b[0m\u001b[0m\n\u001b[0;32m    196\u001b[0m   \u001b[0mfeatures_with_non_zero_importances\u001b[0m \u001b[1;33m=\u001b[0m \u001b[1;33m[\u001b[0m\u001b[1;33m]\u001b[0m\u001b[1;33m\u001b[0m\u001b[0m\n",
      "\u001b[1;32m/vspdata/vspcompute/home/enf/b2ar_analysis/conformation/io_functions.py\u001b[0m in \u001b[0;36mcompat_verboseload\u001b[1;34m(filename)\u001b[0m\n\u001b[0;32m     15\u001b[0m \u001b[1;33m\u001b[0m\u001b[0m\n\u001b[0;32m     16\u001b[0m \u001b[1;32mdef\u001b[0m \u001b[0mcompat_verboseload\u001b[0m\u001b[1;33m(\u001b[0m\u001b[0mfilename\u001b[0m\u001b[1;33m)\u001b[0m\u001b[1;33m:\u001b[0m\u001b[1;33m\u001b[0m\u001b[0m\n\u001b[1;32m---> 17\u001b[1;33m         \u001b[1;32mwith\u001b[0m \u001b[0mopen\u001b[0m\u001b[1;33m(\u001b[0m\u001b[0mfilename\u001b[0m\u001b[1;33m,\u001b[0m \u001b[1;34m'rb'\u001b[0m\u001b[1;33m)\u001b[0m \u001b[1;32mas\u001b[0m \u001b[0mf\u001b[0m\u001b[1;33m:\u001b[0m\u001b[1;33m\u001b[0m\u001b[0m\n\u001b[0m\u001b[0;32m     18\u001b[0m             \u001b[0md\u001b[0m \u001b[1;33m=\u001b[0m \u001b[0mpickle\u001b[0m\u001b[1;33m.\u001b[0m\u001b[0mload\u001b[0m\u001b[1;33m(\u001b[0m\u001b[0mf\u001b[0m\u001b[1;33m,\u001b[0m \u001b[0mencoding\u001b[0m\u001b[1;33m=\u001b[0m\u001b[1;34m'latin1'\u001b[0m\u001b[1;33m)\u001b[0m\u001b[1;33m\u001b[0m\u001b[0m\n\u001b[0;32m     19\u001b[0m         \u001b[1;32mreturn\u001b[0m \u001b[0md\u001b[0m\u001b[1;33m\u001b[0m\u001b[0m\n",
      "\u001b[1;31mFileNotFoundError\u001b[0m: [Errno 2] No such file or directory: '/home/enf/b2ar_analysis/sparse-tICA_t5_n_components2all_residues_2rh1_3sn6_under_cutoff6A-py3_regularization_wolf_autoShrinkage_rho0pt01/phi_psi_chi2_allprot_tica_coords.h5'"
     ]
    }
   ],
   "source": [
    "tic_components_dir = tica_dir\n",
    "important_contact_features = interpret_tIC_components(projection_operator_dir, tic_components_dir, feature_residues_pkl, n_tica_components=n_components, percentile=95)"
   ]
  },
  {
   "cell_type": "code",
   "execution_count": 12,
   "metadata": {
    "collapsed": false
   },
   "outputs": [
    {
     "name": "stdout",
     "output_type": "stream",
     "text": [
      "loading \"/home/enf/b2ar_analysis/sparse-tICA_t5_n_components2all_residues_2rh1_3sn6_under_cutoff6A-py3_regularization_wolf_autoShrinkage_rho0pt01/phi_psi_chi2_allprot_projected.h5\"...\n"
     ]
    },
    {
     "ename": "OSError",
     "evalue": "Unable to load /home/enf/b2ar_analysis/sparse-tICA_t5_n_components2all_residues_2rh1_3sn6_under_cutoff6A-py3_regularization_wolf_autoShrinkage_rho0pt01/phi_psi_chi2_allprot_projected.h5 using the pickle or joblib protocol.\nPickle: [Errno 2] No such file or directory: '/home/enf/b2ar_analysis/sparse-tICA_t5_n_components2all_residues_2rh1_3sn6_under_cutoff6A-py3_regularization_wolf_autoShrinkage_rho0pt01/phi_psi_chi2_allprot_projected.h5'\nJoblib: [Errno 2] No such file or directory: '/home/enf/b2ar_analysis/sparse-tICA_t5_n_components2all_residues_2rh1_3sn6_under_cutoff6A-py3_regularization_wolf_autoShrinkage_rho0pt01/phi_psi_chi2_allprot_projected.h5'",
     "output_type": "error",
     "traceback": [
      "\u001b[1;31m---------------------------------------------------------------------------\u001b[0m",
      "\u001b[1;31mFileNotFoundError\u001b[0m                         Traceback (most recent call last)",
      "\u001b[1;32m/home/enf/anaconda3/lib/python3.5/site-packages/msmbuilder/utils/io.py\u001b[0m in \u001b[0;36mload\u001b[1;34m(filename)\u001b[0m\n\u001b[0;32m     55\u001b[0m     \u001b[1;32mtry\u001b[0m\u001b[1;33m:\u001b[0m\u001b[1;33m\u001b[0m\u001b[0m\n\u001b[1;32m---> 56\u001b[1;33m         \u001b[1;32mwith\u001b[0m \u001b[0mopen\u001b[0m\u001b[1;33m(\u001b[0m\u001b[0mfilename\u001b[0m\u001b[1;33m,\u001b[0m \u001b[1;34m'rb'\u001b[0m\u001b[1;33m)\u001b[0m \u001b[1;32mas\u001b[0m \u001b[0mf\u001b[0m\u001b[1;33m:\u001b[0m\u001b[1;33m\u001b[0m\u001b[0m\n\u001b[0m\u001b[0;32m     57\u001b[0m             \u001b[1;32mreturn\u001b[0m \u001b[0mpickle\u001b[0m\u001b[1;33m.\u001b[0m\u001b[0mload\u001b[0m\u001b[1;33m(\u001b[0m\u001b[0mf\u001b[0m\u001b[1;33m)\u001b[0m\u001b[1;33m\u001b[0m\u001b[0m\n",
      "\u001b[1;31mFileNotFoundError\u001b[0m: [Errno 2] No such file or directory: '/home/enf/b2ar_analysis/sparse-tICA_t5_n_components2all_residues_2rh1_3sn6_under_cutoff6A-py3_regularization_wolf_autoShrinkage_rho0pt01/phi_psi_chi2_allprot_projected.h5'",
      "\nDuring handling of the above exception, another exception occurred:\n",
      "\u001b[1;31mFileNotFoundError\u001b[0m                         Traceback (most recent call last)",
      "\u001b[1;32m/home/enf/anaconda3/lib/python3.5/site-packages/msmbuilder/utils/io.py\u001b[0m in \u001b[0;36mload\u001b[1;34m(filename)\u001b[0m\n\u001b[0;32m     59\u001b[0m         \u001b[1;32mtry\u001b[0m\u001b[1;33m:\u001b[0m\u001b[1;33m\u001b[0m\u001b[0m\n\u001b[1;32m---> 60\u001b[1;33m             \u001b[1;32mreturn\u001b[0m \u001b[0mjl_load\u001b[0m\u001b[1;33m(\u001b[0m\u001b[0mfilename\u001b[0m\u001b[1;33m)\u001b[0m\u001b[1;33m\u001b[0m\u001b[0m\n\u001b[0m\u001b[0;32m     61\u001b[0m         \u001b[1;32mexcept\u001b[0m \u001b[0mException\u001b[0m \u001b[1;32mas\u001b[0m \u001b[0me2\u001b[0m\u001b[1;33m:\u001b[0m\u001b[1;33m\u001b[0m\u001b[0m\n",
      "\u001b[1;32m/home/enf/anaconda3/lib/python3.5/site-packages/sklearn/externals/joblib/numpy_pickle.py\u001b[0m in \u001b[0;36mload\u001b[1;34m(filename, mmap_mode)\u001b[0m\n\u001b[0;32m    442\u001b[0m     \"\"\"\n\u001b[1;32m--> 443\u001b[1;33m     \u001b[1;32mwith\u001b[0m \u001b[0mopen\u001b[0m\u001b[1;33m(\u001b[0m\u001b[0mfilename\u001b[0m\u001b[1;33m,\u001b[0m \u001b[1;34m'rb'\u001b[0m\u001b[1;33m)\u001b[0m \u001b[1;32mas\u001b[0m \u001b[0mfile_handle\u001b[0m\u001b[1;33m:\u001b[0m\u001b[1;33m\u001b[0m\u001b[0m\n\u001b[0m\u001b[0;32m    444\u001b[0m         \u001b[1;31m# We are careful to open the file handle early and keep it open to\u001b[0m\u001b[1;33m\u001b[0m\u001b[1;33m\u001b[0m\u001b[0m\n",
      "\u001b[1;31mFileNotFoundError\u001b[0m: [Errno 2] No such file or directory: '/home/enf/b2ar_analysis/sparse-tICA_t5_n_components2all_residues_2rh1_3sn6_under_cutoff6A-py3_regularization_wolf_autoShrinkage_rho0pt01/phi_psi_chi2_allprot_projected.h5'",
      "\nDuring handling of the above exception, another exception occurred:\n",
      "\u001b[1;31mOSError\u001b[0m                                   Traceback (most recent call last)",
      "\u001b[1;32m<ipython-input-12-3a626bed0b83>\u001b[0m in \u001b[0;36m<module>\u001b[1;34m()\u001b[0m\n\u001b[1;32m----> 1\u001b[1;33m \u001b[0mtica_coords\u001b[0m \u001b[1;33m=\u001b[0m \u001b[0mverboseload\u001b[0m\u001b[1;33m(\u001b[0m\u001b[0mprojected_features_dir\u001b[0m\u001b[1;33m)\u001b[0m\u001b[1;33m\u001b[0m\u001b[0m\n\u001b[0m\u001b[0;32m      2\u001b[0m \u001b[0mpnas_coords\u001b[0m \u001b[1;33m=\u001b[0m \u001b[0mverboseload\u001b[0m\u001b[1;33m(\u001b[0m\u001b[0mpnas_coords_dir\u001b[0m\u001b[1;33m)\u001b[0m\u001b[1;33m\u001b[0m\u001b[0m\n\u001b[0;32m      3\u001b[0m \u001b[1;32mfor\u001b[0m \u001b[0mpnas_coord\u001b[0m \u001b[1;32min\u001b[0m \u001b[0mpnas_coords\u001b[0m\u001b[1;33m:\u001b[0m \u001b[0mpnas_coord\u001b[0m\u001b[1;33m[\u001b[0m\u001b[1;33m:\u001b[0m\u001b[1;33m,\u001b[0m\u001b[1;36m0\u001b[0m\u001b[1;33m]\u001b[0m\u001b[1;33m*=\u001b[0m\u001b[1;36m7.14\u001b[0m\u001b[1;33m\u001b[0m\u001b[0m\n\u001b[0;32m      4\u001b[0m \u001b[0mtica_names\u001b[0m \u001b[1;33m=\u001b[0m \u001b[1;33m[\u001b[0m\u001b[1;34m\"tIC.%d\"\u001b[0m \u001b[1;33m%\u001b[0m\u001b[0mi\u001b[0m \u001b[1;32mfor\u001b[0m \u001b[0mi\u001b[0m \u001b[1;32min\u001b[0m \u001b[0mrange\u001b[0m\u001b[1;33m(\u001b[0m\u001b[1;36m1\u001b[0m\u001b[1;33m,\u001b[0m\u001b[0mn_components\u001b[0m\u001b[1;33m+\u001b[0m\u001b[1;36m1\u001b[0m\u001b[1;33m)\u001b[0m\u001b[1;33m]\u001b[0m\u001b[1;33m\u001b[0m\u001b[0m\n\u001b[0;32m      5\u001b[0m \u001b[0mpnas_names\u001b[0m \u001b[1;33m=\u001b[0m \u001b[1;33m[\u001b[0m\u001b[1;34m\"tm6_tm3_dist\"\u001b[0m\u001b[1;33m,\u001b[0m \u001b[1;34m\"rmsd_npxxy_inactive\"\u001b[0m\u001b[1;33m,\u001b[0m \u001b[1;34m\"rmsd_npxxy_active\"\u001b[0m\u001b[1;33m,\u001b[0m \u001b[1;34m\"rmsd_connector_inactive\"\u001b[0m\u001b[1;33m,\u001b[0m \u001b[1;34m\"rmsd_connector_active\"\u001b[0m\u001b[1;33m]\u001b[0m\u001b[1;33m\u001b[0m\u001b[0m\n",
      "\u001b[1;32m/home/enf/anaconda3/lib/python3.5/site-packages/msmbuilder/utils/io.py\u001b[0m in \u001b[0;36mverboseload\u001b[1;34m(fn)\u001b[0m\n\u001b[0;32m     79\u001b[0m     \"\"\"\n\u001b[0;32m     80\u001b[0m     \u001b[0mprint\u001b[0m\u001b[1;33m(\u001b[0m\u001b[1;34m'loading \"%s\"...'\u001b[0m \u001b[1;33m%\u001b[0m \u001b[0mfn\u001b[0m\u001b[1;33m)\u001b[0m\u001b[1;33m\u001b[0m\u001b[0m\n\u001b[1;32m---> 81\u001b[1;33m     \u001b[1;32mreturn\u001b[0m \u001b[0mload\u001b[0m\u001b[1;33m(\u001b[0m\u001b[0mfn\u001b[0m\u001b[1;33m)\u001b[0m\u001b[1;33m\u001b[0m\u001b[0m\n\u001b[0m",
      "\u001b[1;32m/home/enf/anaconda3/lib/python3.5/site-packages/msmbuilder/utils/io.py\u001b[0m in \u001b[0;36mload\u001b[1;34m(filename)\u001b[0m\n\u001b[0;32m     63\u001b[0m                 \u001b[1;34m\"Unable to load {} using the pickle or joblib protocol.\\n\"\u001b[0m\u001b[1;33m\u001b[0m\u001b[0m\n\u001b[0;32m     64\u001b[0m                 \u001b[1;34m\"Pickle: {}\\n\"\u001b[0m\u001b[1;33m\u001b[0m\u001b[0m\n\u001b[1;32m---> 65\u001b[1;33m                 \u001b[1;34m\"Joblib: {}\"\u001b[0m\u001b[1;33m.\u001b[0m\u001b[0mformat\u001b[0m\u001b[1;33m(\u001b[0m\u001b[0mfilename\u001b[0m\u001b[1;33m,\u001b[0m \u001b[0me1\u001b[0m\u001b[1;33m,\u001b[0m \u001b[0me2\u001b[0m\u001b[1;33m)\u001b[0m\u001b[1;33m\u001b[0m\u001b[0m\n\u001b[0m\u001b[0;32m     66\u001b[0m             )\n\u001b[0;32m     67\u001b[0m \u001b[1;33m\u001b[0m\u001b[0m\n",
      "\u001b[1;31mOSError\u001b[0m: Unable to load /home/enf/b2ar_analysis/sparse-tICA_t5_n_components2all_residues_2rh1_3sn6_under_cutoff6A-py3_regularization_wolf_autoShrinkage_rho0pt01/phi_psi_chi2_allprot_projected.h5 using the pickle or joblib protocol.\nPickle: [Errno 2] No such file or directory: '/home/enf/b2ar_analysis/sparse-tICA_t5_n_components2all_residues_2rh1_3sn6_under_cutoff6A-py3_regularization_wolf_autoShrinkage_rho0pt01/phi_psi_chi2_allprot_projected.h5'\nJoblib: [Errno 2] No such file or directory: '/home/enf/b2ar_analysis/sparse-tICA_t5_n_components2all_residues_2rh1_3sn6_under_cutoff6A-py3_regularization_wolf_autoShrinkage_rho0pt01/phi_psi_chi2_allprot_projected.h5'"
     ]
    }
   ],
   "source": [
    "tica_coords = verboseload(projected_features_dir)\n",
    "pnas_coords = verboseload(pnas_coords_dir)\n",
    "for pnas_coord in pnas_coords: pnas_coord[:,0]*=7.14\n",
    "tica_names = [\"tIC.%d\" %i for i in range(1,n_components+1)]\n",
    "pnas_names = [\"tm6_tm3_dist\", \"rmsd_npxxy_inactive\", \"rmsd_npxxy_active\", \"rmsd_connector_inactive\", \"rmsd_connector_active\"]"
   ]
  },
  {
   "cell_type": "code",
   "execution_count": 14,
   "metadata": {
    "collapsed": false,
    "scrolled": true
   },
   "outputs": [
    {
     "name": "stdout",
     "output_type": "stream",
     "text": [
      "loading /home/enf/b2ar_analysis/sparse-tICA_t5_n_components2all_residues_2rh1_3sn6_under_cutoff6A_regularization_wolf_autoShrinkage_rho0pt01/phi_psi_chi2_allprot_projected.h5\n",
      "loading \"/home/enf/b2ar_analysis/sparse-tICA_t5_n_components2all_residues_2rh1_3sn6_under_cutoff6A_regularization_wolf_autoShrinkage_rho0pt01/phi_psi_chi2_allprot_projected.h5\"...\n",
      "loading \"/home/enf/b2ar_analysis/sparse-tICA_t5_n_components2all_residues_2rh1_3sn6_under_cutoff6A_regularization_wolf_autoShrinkage_rho0pt01/clusterer_25clusters.h5\"...\n",
      "Saving \"/home/enf/b2ar_analysis/sparse-tICA_t5_n_components2all_residues_2rh1_3sn6_under_cutoff6A_regularization_wolf_autoShrinkage_rho0pt01/clusterer_25clusters.h5\"... (<class 'msmbuilder.cluster.MiniBatchKMeans'>)\n"
     ]
    }
   ],
   "source": [
    "cluster_minikmeans(tica_dir, projected_features_dir, traj_dir, n_clusters=n_clusters, clusterer_dir=clusterer_dir)"
   ]
  },
  {
   "cell_type": "code",
   "execution_count": 15,
   "metadata": {
    "collapsed": false
   },
   "outputs": [
    {
     "data": {
      "text/plain": [
       "'/home/enf/b2ar_analysis/sparse-tICA_t5_n_components2all_residues_2rh1_3sn6_under_cutoff6A_regularization_wolf_autoShrinkage_rho0pt01/docking_n_clusters25_n_samples5_random_XP'"
      ]
     },
     "execution_count": 15,
     "metadata": {},
     "output_type": "execute_result"
    }
   ],
   "source": [
    "docking_dir"
   ]
  },
  {
   "cell_type": "code",
   "execution_count": 13,
   "metadata": {
    "collapsed": false
   },
   "outputs": [
    {
     "name": "stdout",
     "output_type": "stream",
     "text": [
      "loading \"/home/enf/b2ar_analysis/sparse-tICA_t5_n_components2all_residues_2rh1_3sn6_under_cutoff6A_regularization_wolf_autoShrinkage_rho0pt01/clusterer_25clusters.h5\"...\n",
      "60556\n",
      "18142\n",
      "29602\n",
      "11692\n",
      "9005\n",
      "39876\n",
      "6361\n",
      "47042\n",
      "42043\n",
      "15117\n",
      "42889\n",
      "14554\n",
      "7263\n",
      "45472\n",
      "23113\n",
      "25186\n",
      "24422\n",
      "14847\n",
      "41130\n",
      "11930\n",
      "8705\n",
      "10899\n",
      "21655\n",
      "16763\n",
      "11754\n"
     ]
    }
   ],
   "source": [
    "import custom_clusterer\n",
    "reload(custom_clusterer)\n",
    "from custom_clusterer import *\n",
    "\n",
    "samples_indices_file = \"%s/samples_indices.h5\" %analysis_dir\n",
    "samples_dir = \"%s/clusterer_%dclusters_%dsamples\" %(tica_dir, n_clusters, n_samples)\n",
    "if not os.path.exists(samples_dir):\n",
    "    os.makedirs(samples_dir)\n",
    "#sample_from_clusterer(clusterer_dir, projected_features_dir, get_trajectory_files(traj_dir, \".h5\"), \n",
    "#                      n_samples, samples_dir, samples_indices_file, structure=None,\n",
    "#                      residue_cutoff=10000, parallel=True,\n",
    "#                      worker_pool=None)\n",
    "clusters_map = make_clusters_map(verboseload(clusterer_dir))"
   ]
  },
  {
   "cell_type": "code",
   "execution_count": 19,
   "metadata": {
    "collapsed": true
   },
   "outputs": [],
   "source": [
    " def calculate_cluster_averages_per_feature(clusterer, features):\n",
    "  n_clusters = clusterer.n_clusters \n",
    "  concatenated_clusters = np.concatenate(clusterer.labels_)\n",
    "  concatenated_features = np.concatenate(features)\n",
    "  cluster_averages = np.zeros((n_clusters, concatenated_features.shape[1]))\n",
    "  for i in range(0, n_clusters):\n",
    "    rows = np.where(concatenated_clusters == i)[0]\n",
    "    means = np.mean(concatenated_features[rows,:], axis=0)\n",
    "    cluster_averages[i,:] = means\n",
    "  return cluster_averages"
   ]
  },
  {
   "cell_type": "code",
   "execution_count": 20,
   "metadata": {
    "collapsed": false
   },
   "outputs": [
    {
     "name": "stdout",
     "output_type": "stream",
     "text": [
      "loading \"/home/enf/b2ar_analysis/sparse-tICA_t5_n_components2all_residues_2rh1_3sn6_under_cutoff6A_regularization_wolf_autoShrinkage_rho0pt01/clusterer_25clusters.h5\"...\n"
     ]
    }
   ],
   "source": [
    "clusterer = verboseload(clusterer_dir)\n",
    "cluster_averages = calculate_cluster_averages_per_feature(clusterer, pnas_coords)"
   ]
  },
  {
   "cell_type": "code",
   "execution_count": null,
   "metadata": {
    "collapsed": false
   },
   "outputs": [],
   "source": [
    "plt.scatter(cluster_averages[:,0], cluster_averages[:,2])"
   ]
  },
  {
   "cell_type": "code",
   "execution_count": 21,
   "metadata": {
    "collapsed": false
   },
   "outputs": [],
   "source": [
    "cluster_averages = pd.DataFrame(cluster_averages, columns=pnas_names)\n",
    "active_clusters = cluster_averages.loc[(cluster_averages[\"rmsd_npxxy_active\"] < 0.5) & (cluster_averages[\"tm6_tm3_dist\"] > 12.) & (cluster_averages[\"tm6_tm3_dist\"] < 15.)]\n",
    "inactive_clusters = cluster_averages.loc[(cluster_averages[\"rmsd_npxxy_active\"] > 0.5) & (cluster_averages[\"tm6_tm3_dist\"] <10.)]"
   ]
  },
  {
   "cell_type": "code",
   "execution_count": 22,
   "metadata": {
    "collapsed": false
   },
   "outputs": [
    {
     "data": {
      "text/html": [
       "<div>\n",
       "<table border=\"1\" class=\"dataframe\">\n",
       "  <thead>\n",
       "    <tr style=\"text-align: right;\">\n",
       "      <th></th>\n",
       "      <th>tm6_tm3_dist</th>\n",
       "      <th>rmsd_npxxy_inactive</th>\n",
       "      <th>rmsd_npxxy_active</th>\n",
       "      <th>rmsd_connector_inactive</th>\n",
       "      <th>rmsd_connector_active</th>\n",
       "    </tr>\n",
       "  </thead>\n",
       "  <tbody>\n",
       "  </tbody>\n",
       "</table>\n",
       "</div>"
      ],
      "text/plain": [
       "Empty DataFrame\n",
       "Columns: [tm6_tm3_dist, rmsd_npxxy_inactive, rmsd_npxxy_active, rmsd_connector_inactive, rmsd_connector_active]\n",
       "Index: []"
      ]
     },
     "execution_count": 22,
     "metadata": {},
     "output_type": "execute_result"
    }
   ],
   "source": [
    "active_clusters"
   ]
  },
  {
   "cell_type": "code",
   "execution_count": null,
   "metadata": {
    "collapsed": false
   },
   "outputs": [],
   "source": [
    "import plots\n",
    "reload(plots)\n",
    "from plots import *"
   ]
  },
  {
   "cell_type": "code",
   "execution_count": null,
   "metadata": {
    "collapsed": false
   },
   "outputs": [],
   "source": [
    "plot_data_vs_data(np.concatenate(tica_coords), np.concatenate(pnas_coords), tica_names, pnas_names, analysis_dir)"
   ]
  },
  {
   "cell_type": "code",
   "execution_count": null,
   "metadata": {
    "collapsed": false
   },
   "outputs": [],
   "source": [
    "analysis_dir"
   ]
  },
  {
   "cell_type": "code",
   "execution_count": null,
   "metadata": {
    "collapsed": false
   },
   "outputs": [],
   "source": [
    "plot_columns(tica_dir, projected_features_dir, titles = [\"tIC%d\" %j for j in range(1,11)], tICA = True, scale = 1.0, refcoords_file = None)"
   ]
  },
  {
   "cell_type": "code",
   "execution_count": null,
   "metadata": {
    "collapsed": false
   },
   "outputs": [],
   "source": [
    "get_ligands(agonist_dir)"
   ]
  },
  {
   "cell_type": "code",
   "execution_count": null,
   "metadata": {
    "collapsed": false
   },
   "outputs": [],
   "source": [
    "get_ligands(biased_agonist_dir)"
   ]
  },
  {
   "cell_type": "code",
   "execution_count": null,
   "metadata": {
    "collapsed": false
   },
   "outputs": [],
   "source": [
    "docking_multiple_ligands"
   ]
  },
  {
   "cell_type": "code",
   "execution_count": 14,
   "metadata": {
    "collapsed": false
   },
   "outputs": [
    {
     "name": "stdout",
     "output_type": "stream",
     "text": [
      "80\n"
     ]
    },
    {
     "data": {
      "text/plain": [
       "<AsyncMapResult: chdir>"
      ]
     },
     "execution_count": 14,
     "metadata": {},
     "output_type": "execute_result"
    }
   ],
   "source": [
    "from ipyparallel import Client\n",
    "rc = Client()\n",
    "print(len(rc.ids))\n",
    "dview = rc[:]\n",
    "dview.map(os.chdir, ['/home/enf/b2ar_analysis/conformation']*len(rc.ids))\n",
    "\n"
   ]
  },
  {
   "cell_type": "code",
   "execution_count": 16,
   "metadata": {
    "collapsed": false
   },
   "outputs": [
    {
     "name": "stdout",
     "output_type": "stream",
     "text": [
      "Ala59-Leu266_ca_dist\n",
      "Ala59-Leu266_closest_dist\n",
      "Asn148-Leu266_ca_dist\n",
      "Asn148-Leu266_closest_dist\n",
      "Asn148_Arg333_ca_dist\n",
      "Asn148_Arg333_closest_dist\n",
      "Glu268-Arg328_ca_dist\n",
      "Glu268-Arg328_closest_dist\n",
      "Leu266_Arg333_ca_dist\n",
      "Leu266_Arg333_closest_dist\n",
      "Phe282-Ile325_ca_dist\n",
      "Phe282-Ile325_closest_dist\n",
      "Thr66-Leu266_ca_dist\n",
      "Thr66-Leu266_closest_dist\n",
      "rmsd_connector_active\n",
      "rmsd_connector_inactive\n",
      "rmsd_npxxy_active\n",
      "rmsd_npxxy_inactive\n",
      "tm6_tm3_dist\n"
     ]
    }
   ],
   "source": [
    "for name in sorted(feature_name_residues_dict.keys()): print(name)"
   ]
  },
  {
   "cell_type": "code",
   "execution_count": null,
   "metadata": {
    "collapsed": false
   },
   "outputs": [
    {
     "name": "stdout",
     "output_type": "stream",
     "text": [
      "save_file = /home/enf/b2ar_analysis/user_defined_features/A-00.dataset\n",
      "loading /home/enf/b2ar_analysis/user_defined_features/A-00.dataset\n",
      "save_file = /home/enf/b2ar_analysis/user_defined_features/A-02.dataset\n",
      "loading /home/enf/b2ar_analysis/user_defined_features/A-02.dataset\n",
      "save_file = /home/enf/b2ar_analysis/user_defined_features/A-04.dataset\n",
      "loading /home/enf/b2ar_analysis/user_defined_features/A-04.dataset\n",
      "save_file = /home/enf/b2ar_analysis/user_defined_features/A-06.dataset\n",
      "loading /home/enf/b2ar_analysis/user_defined_features/A-06.dataset\n",
      "save_file = /home/enf/b2ar_analysis/user_defined_features/A-08.dataset\n",
      "loading /home/enf/b2ar_analysis/user_defined_features/A-08.dataset\n",
      "save_file = /home/enf/b2ar_analysis/user_defined_features/A-10.dataset\n",
      "loading /home/enf/b2ar_analysis/user_defined_features/A-10.dataset\n",
      "save_file = /home/enf/b2ar_analysis/user_defined_features/A-12.dataset\n",
      "loading /home/enf/b2ar_analysis/user_defined_features/A-12.dataset\n",
      "save_file = /home/enf/b2ar_analysis/user_defined_features/A-14.dataset\n",
      "loading /home/enf/b2ar_analysis/user_defined_features/A-14.dataset\n",
      "save_file = /home/enf/b2ar_analysis/user_defined_features/A-16.dataset\n",
      "loading /home/enf/b2ar_analysis/user_defined_features/A-16.dataset\n",
      "save_file = /home/enf/b2ar_analysis/user_defined_features/A-18.dataset\n",
      "loading /home/enf/b2ar_analysis/user_defined_features/A-18.dataset\n",
      "save_file = /home/enf/b2ar_analysis/user_defined_features/A-20.dataset\n",
      "loading /home/enf/b2ar_analysis/user_defined_features/A-20.dataset\n",
      "save_file = /home/enf/b2ar_analysis/user_defined_features/A-22.dataset\n",
      "loading /home/enf/b2ar_analysis/user_defined_features/A-22.dataset\n",
      "save_file = /home/enf/b2ar_analysis/user_defined_features/A-13.dataset\n",
      "loading /home/enf/b2ar_analysis/user_defined_features/A-13.dataset\n",
      "save_file = /home/enf/b2ar_analysis/user_defined_features/A-09.dataset\n",
      "loading /home/enf/b2ar_analysis/user_defined_features/A-09.dataset\n",
      "save_file = /home/enf/b2ar_analysis/user_defined_features/A-17.dataset\n",
      "loading /home/enf/b2ar_analysis/user_defined_features/A-17.dataset\n",
      "save_file = /home/enf/b2ar_analysis/user_defined_features/A-07.dataset\n",
      "loading /home/enf/b2ar_analysis/user_defined_features/A-07.dataset\n",
      "save_file = /home/enf/b2ar_analysis/user_defined_features/A-05.dataset\n",
      "loading /home/enf/b2ar_analysis/user_defined_features/A-05.dataset\n",
      "save_file = /home/enf/b2ar_analysis/user_defined_features/A-24.dataset\n",
      "loading /home/enf/b2ar_analysis/user_defined_features/A-24.dataset\n",
      "save_file = /home/enf/b2ar_analysis/user_defined_features/A-21.dataset\n",
      "loading /home/enf/b2ar_analysis/user_defined_features/A-21.dataset\n",
      "save_file = /home/enf/b2ar_analysis/user_defined_features/A-19.dataset\n",
      "loading /home/enf/b2ar_analysis/user_defined_features/A-19.dataset\n",
      "save_file = /home/enf/b2ar_analysis/user_defined_features/A-23.dataset\n",
      "loading /home/enf/b2ar_analysis/user_defined_features/A-23.dataset\n",
      "save_file = /home/enf/b2ar_analysis/user_defined_features/A-11.dataset\n",
      "loading /home/enf/b2ar_analysis/user_defined_features/A-11.dataset\n",
      "save_file = /home/enf/b2ar_analysis/user_defined_features/B-01.dataset\n",
      "loading /home/enf/b2ar_analysis/user_defined_features/B-01.dataset\n",
      "save_file = /home/enf/b2ar_analysis/user_defined_features/A-03.dataset\n",
      "loading /home/enf/b2ar_analysis/user_defined_features/A-03.dataset\n",
      "save_file = /home/enf/b2ar_analysis/user_defined_features/B-03.dataset\n",
      "loading /home/enf/b2ar_analysis/user_defined_features/B-03.dataset\n",
      "save_file = /home/enf/b2ar_analysis/user_defined_features/B-02.dataset\n",
      "loading /home/enf/b2ar_analysis/user_defined_features/B-02.dataset\n",
      "save_file = /home/enf/b2ar_analysis/user_defined_features/B-05.dataset\n",
      "loading /home/enf/b2ar_analysis/user_defined_features/B-05.dataset\n",
      "save_file = /home/enf/b2ar_analysis/user_defined_features/B-00.dataset\n",
      "loading /home/enf/b2ar_analysis/user_defined_features/B-00.dataset\n",
      "save_file = /home/enf/b2ar_analysis/user_defined_features/B-04.dataset\n",
      "loading /home/enf/b2ar_analysis/user_defined_features/B-04.dataset\n",
      "save_file = /home/enf/b2ar_analysis/user_defined_features/B-07.dataset\n",
      "loading /home/enf/b2ar_analysis/user_defined_features/B-07.dataset\n",
      "save_file = /home/enf/b2ar_analysis/user_defined_features/B-09.dataset\n",
      "loading /home/enf/b2ar_analysis/user_defined_features/B-09.dataset\n",
      "save_file = /home/enf/b2ar_analysis/user_defined_features/A-15.dataset\n",
      "loading /home/enf/b2ar_analysis/user_defined_features/A-15.dataset\n",
      "save_file = /home/enf/b2ar_analysis/user_defined_features/B-06.dataset\n",
      "loading /home/enf/b2ar_analysis/user_defined_features/B-06.dataset\n",
      "save_file = /home/enf/b2ar_analysis/user_defined_features/C-01.dataset\n",
      "loading /home/enf/b2ar_analysis/user_defined_features/C-01.dataset\n",
      "save_file = /home/enf/b2ar_analysis/user_defined_features/C-03.dataset\n",
      "loading /home/enf/b2ar_analysis/user_defined_features/C-03.dataset\n",
      "save_file = /home/enf/b2ar_analysis/user_defined_features/D-00.dataset\n",
      "loading /home/enf/b2ar_analysis/user_defined_features/D-00.dataset\n",
      "save_file = /home/enf/b2ar_analysis/user_defined_features/D-02.dataset\n",
      "loading /home/enf/b2ar_analysis/user_defined_features/D-02.dataset\n",
      "save_file = /home/enf/b2ar_analysis/user_defined_features/B-08.dataset\n",
      "loading /home/enf/b2ar_analysis/user_defined_features/B-08.dataset\n",
      "save_file = /home/enf/b2ar_analysis/user_defined_features/D-04.dataset\n",
      "loading /home/enf/b2ar_analysis/user_defined_features/D-04.dataset\n",
      "save_file = /home/enf/b2ar_analysis/user_defined_features/D-06.dataset\n",
      "loading /home/enf/b2ar_analysis/user_defined_features/D-06.dataset\n",
      "save_file = /home/enf/b2ar_analysis/user_defined_features/C-02.dataset\n",
      "loading /home/enf/b2ar_analysis/user_defined_features/C-02.dataset\n",
      "save_file = /home/enf/b2ar_analysis/user_defined_features/D-05.dataset\n",
      "loading /home/enf/b2ar_analysis/user_defined_features/D-05.dataset\n",
      "save_file = /home/enf/b2ar_analysis/user_defined_features/D-08.dataset\n",
      "loading /home/enf/b2ar_analysis/user_defined_features/D-08.dataset\n",
      "save_file = /home/enf/b2ar_analysis/user_defined_features/A-01.dataset\n",
      "loading /home/enf/b2ar_analysis/user_defined_features/A-01.dataset\n",
      "save_file = /home/enf/b2ar_analysis/user_defined_features/D-03.dataset\n",
      "loading /home/enf/b2ar_analysis/user_defined_features/D-03.dataset\n",
      "save_file = /home/enf/b2ar_analysis/user_defined_features/C-04.dataset\n",
      "loading /home/enf/b2ar_analysis/user_defined_features/C-04.dataset\n",
      "save_file = /home/enf/b2ar_analysis/user_defined_features/D-10.dataset\n",
      "loading /home/enf/b2ar_analysis/user_defined_features/D-10.dataset\n",
      "save_file = /home/enf/b2ar_analysis/user_defined_features/E-01.dataset\n",
      "loading /home/enf/b2ar_analysis/user_defined_features/E-01.dataset\n",
      "save_file = /home/enf/b2ar_analysis/user_defined_features/E-03.dataset\n",
      "loading /home/enf/b2ar_analysis/user_defined_features/E-03.dataset\n",
      "save_file = /home/enf/b2ar_analysis/user_defined_features/E-05.dataset\n",
      "loading /home/enf/b2ar_analysis/user_defined_features/E-05.dataset\n",
      "save_file = /home/enf/b2ar_analysis/user_defined_features/D-07.dataset\n",
      "loading /home/enf/b2ar_analysis/user_defined_features/D-07.dataset\n",
      "save_file = /home/enf/b2ar_analysis/user_defined_features/C-00.dataset\n",
      "loading /home/enf/b2ar_analysis/user_defined_features/C-00.dataset\n",
      "save_file = /home/enf/b2ar_analysis/user_defined_features/D-01.dataset\n",
      "loading /home/enf/b2ar_analysis/user_defined_features/D-01.dataset\n",
      "save_file = /home/enf/b2ar_analysis/user_defined_features/E-04.dataset\n",
      "loading /home/enf/b2ar_analysis/user_defined_features/E-04.dataset\n",
      "save_file = /home/enf/b2ar_analysis/user_defined_features/E-00.dataset\n",
      "loading /home/enf/b2ar_analysis/user_defined_features/E-00.dataset\n",
      "save_file = /home/enf/b2ar_analysis/user_defined_features/D-09.dataset\n",
      "loading /home/enf/b2ar_analysis/user_defined_features/D-09.dataset\n",
      "save_file = /home/enf/b2ar_analysis/user_defined_features/F-00.dataset\n",
      "loading /home/enf/b2ar_analysis/user_defined_features/F-00.dataset\n",
      "save_file = /home/enf/b2ar_analysis/user_defined_features/E-06.dataset\n",
      "loading /home/enf/b2ar_analysis/user_defined_features/E-06.dataset\n",
      "save_file = /home/enf/b2ar_analysis/user_defined_features/G-00.dataset\n",
      "loading /home/enf/b2ar_analysis/user_defined_features/G-00.dataset\n",
      "save_file = /home/enf/b2ar_analysis/user_defined_features/H-00.dataset\n",
      "loading /home/enf/b2ar_analysis/user_defined_features/H-00.dataset\n",
      "save_file = /home/enf/b2ar_analysis/user_defined_features/H-02.dataset\n",
      "loading /home/enf/b2ar_analysis/user_defined_features/H-02.dataset\n",
      "save_file = /home/enf/b2ar_analysis/user_defined_features/H-04.dataset\n",
      "loading /home/enf/b2ar_analysis/user_defined_features/H-04.dataset\n",
      "save_file = /home/enf/b2ar_analysis/user_defined_features/I-00.dataset\n",
      "loading /home/enf/b2ar_analysis/user_defined_features/I-00.dataset\n",
      "save_file = /home/enf/b2ar_analysis/user_defined_features/I-02.dataset\n",
      "loading /home/enf/b2ar_analysis/user_defined_features/I-02.dataset\n",
      "save_file = /home/enf/b2ar_analysis/user_defined_features/E-02.dataset\n",
      "loading /home/enf/b2ar_analysis/user_defined_features/E-02.dataset\n",
      "save_file = /home/enf/b2ar_analysis/user_defined_features/J-00.dataset\n",
      "loading /home/enf/b2ar_analysis/user_defined_features/J-00.dataset\n",
      "save_file = /home/enf/b2ar_analysis/user_defined_features/F-01.dataset\n",
      "loading /home/enf/b2ar_analysis/user_defined_features/F-01.dataset\n",
      "save_file = /home/enf/b2ar_analysis/user_defined_features/J-02.dataset\n",
      "loading /home/enf/b2ar_analysis/user_defined_features/J-02.dataset\n",
      "save_file = /home/enf/b2ar_analysis/user_defined_features/G-01.dataset\n",
      "loading /home/enf/b2ar_analysis/user_defined_features/G-01.dataset\n",
      "save_file = /home/enf/b2ar_analysis/user_defined_features/J-01.dataset\n",
      "loading /home/enf/b2ar_analysis/user_defined_features/J-01.dataset\n",
      "save_file = /home/enf/b2ar_analysis/user_defined_features/H-01.dataset\n",
      "loading /home/enf/b2ar_analysis/user_defined_features/H-01.dataset\n",
      "save_file = /home/enf/b2ar_analysis/user_defined_features/H-05.dataset\n",
      "loading /home/enf/b2ar_analysis/user_defined_features/H-05.dataset\n",
      "save_file = /home/enf/b2ar_analysis/user_defined_features/H-03.dataset\n",
      "loading /home/enf/b2ar_analysis/user_defined_features/H-03.dataset\n",
      "save_file = /home/enf/b2ar_analysis/user_defined_features/I-03.dataset\n",
      "loading /home/enf/b2ar_analysis/user_defined_features/I-03.dataset\n",
      "save_file = /home/enf/b2ar_analysis/user_defined_features/J-03.dataset\n",
      "loading /home/enf/b2ar_analysis/user_defined_features/J-03.dataset\n",
      "save_file = /home/enf/b2ar_analysis/user_defined_features/I-01.dataset\n",
      "loading /home/enf/b2ar_analysis/user_defined_features/I-01.dataset\n",
      "Saving \"/home/enf/b2ar_analysis/all_pnas_features/user_defined_features.h5\"... (<class 'list'>)\n"
     ]
    }
   ],
   "source": [
    "#import b2ar_feature_types\n",
    "#reload(b2ar_feature_types)\n",
    "#from b2ar_feature_types import *\n",
    "\n",
    "#import analysis\n",
    "#reload(analysis)\n",
    "#from analysis import *\n",
    "\n",
    "from imp import reload\n",
    "import custom_featurizer\n",
    "reload(custom_featurizer)\n",
    "from custom_featurizer import *\n",
    "save_dir = \"/home/enf/b2ar_analysis/user_defined_features\"\n",
    "if not os.path.exists(save_dir):\n",
    "    os.makedirs(save_dir)\n",
    " \n",
    "compute_user_defined_features_wrapper(traj_dir, traj_ext, inactive_dir, active_dir, None,\n",
    "                                        feature_name_residues_dict, user_defined_features_file, save_dir, worker_pool=None, \n",
    "                                        parallel=True, overwrite=False)"
   ]
  },
  {
   "cell_type": "code",
   "execution_count": 23,
   "metadata": {
    "collapsed": false
   },
   "outputs": [
    {
     "name": "stdout",
     "output_type": "stream",
     "text": [
      "/home/enf/b2ar_analysis/all_pnas_features/user_defined_features.h5\n"
     ]
    }
   ],
   "source": [
    "print(user_defined_features_file)"
   ]
  },
  {
   "cell_type": "code",
   "execution_count": null,
   "metadata": {
    "collapsed": false
   },
   "outputs": [
    {
     "name": "stdout",
     "output_type": "stream",
     "text": [
      "biased_ligands\n",
      "['', '', '', 'isoetharine', 'isoetharine_prepped', 'nebivolol', 's-carvedilol', 's-carvedilol_prepped', 'salmeterol', 'xamoterol']\n",
      "/home/enf/b2ar_analysis/sparse-tICA_t5_n_components2all_residues_2rh1_3sn6_under_cutoff6A_regularization_wolf_autoShrinkage_rho0pt01/grids_n_clusters25_n_samples5_random\n",
      "$SCHRODINGER/run $SCHRODINGER/mmshare-v3.3/python/common/delete_atoms.py -asl \"res.pt BIA \" /home/enf/b2ar_analysis/sparse-tICA_t5_n_components2all_residues_2rh1_3sn6_under_cutoff6A_regularization_wolf_autoShrinkage_rho0pt01/clusterer_25clusters_5samples/cluster0_sample0.mae /home/enf/b2ar_analysis/sparse-tICA_t5_n_components2all_residues_2rh1_3sn6_under_cutoff6A_regularization_wolf_autoShrinkage_rho0pt01/grids_n_clusters25_n_samples5_random/cluster0_sample0.mae\n",
      "$SCHRODINGER/run $SCHRODINGER/mmshare-v3.3/python/common/delete_atoms.py -asl \"res.pt BIA \" /home/enf/b2ar_analysis/sparse-tICA_t5_n_components2all_residues_2rh1_3sn6_under_cutoff6A_regularization_wolf_autoShrinkage_rho0pt01/clusterer_25clusters_5samples/cluster0_sample3.mae /home/enf/b2ar_analysis/sparse-tICA_t5_n_components2all_residues_2rh1_3sn6_under_cutoff6A_regularization_wolf_autoShrinkage_rho0pt01/grids_n_clusters25_n_samples5_random/cluster0_sample3.mae\n",
      "$SCHRODINGER/run $SCHRODINGER/mmshare-v3.3/python/common/delete_atoms.py -asl \"res.pt BIA \" /home/enf/b2ar_analysis/sparse-tICA_t5_n_components2all_residues_2rh1_3sn6_under_cutoff6A_regularization_wolf_autoShrinkage_rho0pt01/clusterer_25clusters_5samples/cluster10_sample4.mae /home/enf/b2ar_analysis/sparse-tICA_t5_n_components2all_residues_2rh1_3sn6_under_cutoff6A_regularization_wolf_autoShrinkage_rho0pt01/grids_n_clusters25_n_samples5_random/cluster10_sample4.mae\n",
      "$SCHRODINGER/run $SCHRODINGER/mmshare-v3.3/python/common/delete_atoms.py -asl \"res.pt BIA \" /home/enf/b2ar_analysis/sparse-tICA_t5_n_components2all_residues_2rh1_3sn6_under_cutoff6A_regularization_wolf_autoShrinkage_rho0pt01/clusterer_25clusters_5samples/cluster13_sample4.mae /home/enf/b2ar_analysis/sparse-tICA_t5_n_components2all_residues_2rh1_3sn6_under_cutoff6A_regularization_wolf_autoShrinkage_rho0pt01/grids_n_clusters25_n_samples5_random/cluster13_sample4.mae\n",
      "$SCHRODINGER/run $SCHRODINGER/mmshare-v3.3/python/common/delete_atoms.py -asl \"res.pt BIA \" /home/enf/b2ar_analysis/sparse-tICA_t5_n_components2all_residues_2rh1_3sn6_under_cutoff6A_regularization_wolf_autoShrinkage_rho0pt01/clusterer_25clusters_5samples/cluster14_sample2.mae /home/enf/b2ar_analysis/sparse-tICA_t5_n_components2all_residues_2rh1_3sn6_under_cutoff6A_regularization_wolf_autoShrinkage_rho0pt01/grids_n_clusters25_n_samples5_random/cluster14_sample2.mae\n",
      "$SCHRODINGER/run $SCHRODINGER/mmshare-v3.3/python/common/delete_atoms.py -asl \"res.pt BIA \" /home/enf/b2ar_analysis/sparse-tICA_t5_n_components2all_residues_2rh1_3sn6_under_cutoff6A_regularization_wolf_autoShrinkage_rho0pt01/clusterer_25clusters_5samples/cluster10_sample1.mae /home/enf/b2ar_analysis/sparse-tICA_t5_n_components2all_residues_2rh1_3sn6_under_cutoff6A_regularization_wolf_autoShrinkage_rho0pt01/grids_n_clusters25_n_samples5_random/cluster10_sample1.mae\n",
      "$SCHRODINGER/run $SCHRODINGER/mmshare-v3.3/python/common/delete_atoms.py -asl \"res.pt BIA \" /home/enf/b2ar_analysis/sparse-tICA_t5_n_components2all_residues_2rh1_3sn6_under_cutoff6A_regularization_wolf_autoShrinkage_rho0pt01/clusterer_25clusters_5samples/cluster11_sample2.mae /home/enf/b2ar_analysis/sparse-tICA_t5_n_components2all_residues_2rh1_3sn6_under_cutoff6A_regularization_wolf_autoShrinkage_rho0pt01/grids_n_clusters25_n_samples5_random/cluster11_sample2.mae\n",
      "$SCHRODINGER/run $SCHRODINGER/mmshare-v3.3/python/common/delete_atoms.py -asl \"res.pt BIA \" /home/enf/b2ar_analysis/sparse-tICA_t5_n_components2all_residues_2rh1_3sn6_under_cutoff6A_regularization_wolf_autoShrinkage_rho0pt01/clusterer_25clusters_5samples/cluster12_sample3.mae /home/enf/b2ar_analysis/sparse-tICA_t5_n_components2all_residues_2rh1_3sn6_under_cutoff6A_regularization_wolf_autoShrinkage_rho0pt01/grids_n_clusters25_n_samples5_random/cluster12_sample3.mae\n",
      "$SCHRODINGER/run $SCHRODINGER/mmshare-v3.3/python/common/delete_atoms.py -asl \"res.pt BIA \" /home/enf/b2ar_analysis/sparse-tICA_t5_n_components2all_residues_2rh1_3sn6_under_cutoff6A_regularization_wolf_autoShrinkage_rho0pt01/clusterer_25clusters_5samples/cluster13_sample1.mae /home/enf/b2ar_analysis/sparse-tICA_t5_n_components2all_residues_2rh1_3sn6_under_cutoff6A_regularization_wolf_autoShrinkage_rho0pt01/grids_n_clusters25_n_samples5_random/cluster13_sample1.mae\n",
      "$SCHRODINGER/run $SCHRODINGER/mmshare-v3.3/python/common/delete_atoms.py -asl \"res.pt BIA \" /home/enf/b2ar_analysis/sparse-tICA_t5_n_components2all_residues_2rh1_3sn6_under_cutoff6A_regularization_wolf_autoShrinkage_rho0pt01/clusterer_25clusters_5samples/cluster15_sample3.mae /home/enf/b2ar_analysis/sparse-tICA_t5_n_components2all_residues_2rh1_3sn6_under_cutoff6A_regularization_wolf_autoShrinkage_rho0pt01/grids_n_clusters25_n_samples5_random/cluster15_sample3.mae\n",
      "$SCHRODINGER/run $SCHRODINGER/mmshare-v3.3/python/common/delete_atoms.py -asl \"res.pt BIA \" /home/enf/b2ar_analysis/sparse-tICA_t5_n_components2all_residues_2rh1_3sn6_under_cutoff6A_regularization_wolf_autoShrinkage_rho0pt01/clusterer_25clusters_5samples/cluster15_sample0.mae /home/enf/b2ar_analysis/sparse-tICA_t5_n_components2all_residues_2rh1_3sn6_under_cutoff6A_regularization_wolf_autoShrinkage_rho0pt01/grids_n_clusters25_n_samples5_random/cluster15_sample0.mae\n",
      "$SCHRODINGER/run $SCHRODINGER/mmshare-v3.3/python/common/delete_atoms.py -asl \"res.pt BIA \" /home/enf/b2ar_analysis/sparse-tICA_t5_n_components2all_residues_2rh1_3sn6_under_cutoff6A_regularization_wolf_autoShrinkage_rho0pt01/clusterer_25clusters_5samples/cluster12_sample0.mae /home/enf/b2ar_analysis/sparse-tICA_t5_n_components2all_residues_2rh1_3sn6_under_cutoff6A_regularization_wolf_autoShrinkage_rho0pt01/grids_n_clusters25_n_samples5_random/cluster12_sample0.mae\n",
      "$SCHRODINGER/run $SCHRODINGER/mmshare-v3.3/python/common/delete_atoms.py -asl \"res.pt BIA \" /home/enf/b2ar_analysis/sparse-tICA_t5_n_components2all_residues_2rh1_3sn6_under_cutoff6A_regularization_wolf_autoShrinkage_rho0pt01/clusterer_25clusters_5samples/cluster0_sample1.mae /home/enf/b2ar_analysis/sparse-tICA_t5_n_components2all_residues_2rh1_3sn6_under_cutoff6A_regularization_wolf_autoShrinkage_rho0pt01/grids_n_clusters25_n_samples5_random/cluster0_sample1.mae$SCHRODINGER/run $SCHRODINGER/mmshare-v3.3/python/common/delete_atoms.py -asl \"res.pt BIA \" /home/enf/b2ar_analysis/sparse-tICA_t5_n_components2all_residues_2rh1_3sn6_under_cutoff6A_regularization_wolf_autoShrinkage_rho0pt01/clusterer_25clusters_5samples/cluster0_sample4.mae /home/enf/b2ar_analysis/sparse-tICA_t5_n_components2all_residues_2rh1_3sn6_under_cutoff6A_regularization_wolf_autoShrinkage_rho0pt01/grids_n_clusters25_n_samples5_random/cluster0_sample4.mae$SCHRODINGER/run $SCHRODINGER/mmshare-v3.3/python/common/delete_atoms.py -asl \"res.pt BIA \" /home/enf/b2ar_analysis/sparse-tICA_t5_n_components2all_residues_2rh1_3sn6_under_cutoff6A_regularization_wolf_autoShrinkage_rho0pt01/clusterer_25clusters_5samples/cluster11_sample0.mae /home/enf/b2ar_analysis/sparse-tICA_t5_n_components2all_residues_2rh1_3sn6_under_cutoff6A_regularization_wolf_autoShrinkage_rho0pt01/grids_n_clusters25_n_samples5_random/cluster11_sample0.mae$SCHRODINGER/run $SCHRODINGER/mmshare-v3.3/python/common/delete_atoms.py -asl \"res.pt BIA \" /home/enf/b2ar_analysis/sparse-tICA_t5_n_components2all_residues_2rh1_3sn6_under_cutoff6A_regularization_wolf_autoShrinkage_rho0pt01/clusterer_25clusters_5samples/cluster14_sample0.mae /home/enf/b2ar_analysis/sparse-tICA_t5_n_components2all_residues_2rh1_3sn6_under_cutoff6A_regularization_wolf_autoShrinkage_rho0pt01/grids_n_clusters25_n_samples5_random/cluster14_sample0.mae$SCHRODINGER/run $SCHRODINGER/mmshare-v3.3/python/common/delete_atoms.py -asl \"res.pt BIA \" /home/enf/b2ar_analysis/sparse-tICA_t5_n_components2all_residues_2rh1_3sn6_under_cutoff6A_regularization_wolf_autoShrinkage_rho0pt01/clusterer_25clusters_5samples/cluster14_sample3.mae /home/enf/b2ar_analysis/sparse-tICA_t5_n_components2all_residues_2rh1_3sn6_under_cutoff6A_regularization_wolf_autoShrinkage_rho0pt01/grids_n_clusters25_n_samples5_random/cluster14_sample3.mae$SCHRODINGER/run $SCHRODINGER/mmshare-v3.3/python/common/delete_atoms.py -asl \"res.pt BIA \" /home/enf/b2ar_analysis/sparse-tICA_t5_n_components2all_residues_2rh1_3sn6_under_cutoff6A_regularization_wolf_autoShrinkage_rho0pt01/clusterer_25clusters_5samples/cluster10_sample2.mae /home/enf/b2ar_analysis/sparse-tICA_t5_n_components2all_residues_2rh1_3sn6_under_cutoff6A_regularization_wolf_autoShrinkage_rho0pt01/grids_n_clusters25_n_samples5_random/cluster10_sample2.mae$SCHRODINGER/run $SCHRODINGER/mmshare-v3.3/python/common/delete_atoms.py -asl \"res.pt BIA \" /home/enf/b2ar_analysis/sparse-tICA_t5_n_components2all_residues_2rh1_3sn6_under_cutoff6A_regularization_wolf_autoShrinkage_rho0pt01/clusterer_25clusters_5samples/cluster11_sample3.mae /home/enf/b2ar_analysis/sparse-tICA_t5_n_components2all_residues_2rh1_3sn6_under_cutoff6A_regularization_wolf_autoShrinkage_rho0pt01/grids_n_clusters25_n_samples5_random/cluster11_sample3.mae$SCHRODINGER/run $SCHRODINGER/mmshare-v3.3/python/common/delete_atoms.py -asl \"res.pt BIA \" /home/enf/b2ar_analysis/sparse-tICA_t5_n_components2all_residues_2rh1_3sn6_under_cutoff6A_regularization_wolf_autoShrinkage_rho0pt01/clusterer_25clusters_5samples/cluster12_sample4.mae /home/enf/b2ar_analysis/sparse-tICA_t5_n_components2all_residues_2rh1_3sn6_under_cutoff6A_regularization_wolf_autoShrinkage_rho0pt01/grids_n_clusters25_n_samples5_random/cluster12_sample4.mae$SCHRODINGER/run $SCHRODINGER/mmshare-v3.3/python/common/delete_atoms.py -asl \"res.pt BIA \" /home/enf/b2ar_analysis/sparse-tICA_t5_n_components2all_residues_2rh1_3sn6_under_cutoff6A_regularization_wolf_autoShrinkage_rho0pt01/clusterer_25clusters_5samples/cluster13_sample2.mae /home/enf/b2ar_analysis/sparse-tICA_t5_n_components2all_residues_2rh1_3sn6_under_cutoff6A_regularization_wolf_autoShrinkage_rho0pt01/grids_n_clusters25_n_samples5_random/cluster13_sample2.mae$SCHRODINGER/run $SCHRODINGER/mmshare-v3.3/python/common/delete_atoms.py -asl \"res.pt BIA \" /home/enf/b2ar_analysis/sparse-tICA_t5_n_components2all_residues_2rh1_3sn6_under_cutoff6A_regularization_wolf_autoShrinkage_rho0pt01/clusterer_25clusters_5samples/cluster15_sample4.mae /home/enf/b2ar_analysis/sparse-tICA_t5_n_components2all_residues_2rh1_3sn6_under_cutoff6A_regularization_wolf_autoShrinkage_rho0pt01/grids_n_clusters25_n_samples5_random/cluster15_sample4.mae$SCHRODINGER/run $SCHRODINGER/mmshare-v3.3/python/common/delete_atoms.py -asl \"res.pt BIA \" /home/enf/b2ar_analysis/sparse-tICA_t5_n_components2all_residues_2rh1_3sn6_under_cutoff6A_regularization_wolf_autoShrinkage_rho0pt01/clusterer_25clusters_5samples/cluster15_sample1.mae /home/enf/b2ar_analysis/sparse-tICA_t5_n_components2all_residues_2rh1_3sn6_under_cutoff6A_regularization_wolf_autoShrinkage_rho0pt01/grids_n_clusters25_n_samples5_random/cluster15_sample1.mae$SCHRODINGER/run $SCHRODINGER/mmshare-v3.3/python/common/delete_atoms.py -asl \"res.pt BIA \" /home/enf/b2ar_analysis/sparse-tICA_t5_n_components2all_residues_2rh1_3sn6_under_cutoff6A_regularization_wolf_autoShrinkage_rho0pt01/clusterer_25clusters_5samples/cluster12_sample1.mae /home/enf/b2ar_analysis/sparse-tICA_t5_n_components2all_residues_2rh1_3sn6_under_cutoff6A_regularization_wolf_autoShrinkage_rho0pt01/grids_n_clusters25_n_samples5_random/cluster12_sample1.mae\n",
      "\n",
      "\n",
      "\n",
      "\n",
      "\n",
      "\n",
      "\n",
      "\n",
      "\n",
      "\n",
      "\n",
      "$SCHRODINGER/run $SCHRODINGER/mmshare-v3.3/python/common/delete_atoms.py -asl \"res.pt BIA \" /home/enf/b2ar_analysis/sparse-tICA_t5_n_components2all_residues_2rh1_3sn6_under_cutoff6A_regularization_wolf_autoShrinkage_rho0pt01/clusterer_25clusters_5samples/cluster0_sample2.mae /home/enf/b2ar_analysis/sparse-tICA_t5_n_components2all_residues_2rh1_3sn6_under_cutoff6A_regularization_wolf_autoShrinkage_rho0pt01/grids_n_clusters25_n_samples5_random/cluster0_sample2.mae$SCHRODINGER/run $SCHRODINGER/mmshare-v3.3/python/common/delete_atoms.py -asl \"res.pt BIA \" /home/enf/b2ar_analysis/sparse-tICA_t5_n_components2all_residues_2rh1_3sn6_under_cutoff6A_regularization_wolf_autoShrinkage_rho0pt01/clusterer_25clusters_5samples/cluster10_sample0.mae /home/enf/b2ar_analysis/sparse-tICA_t5_n_components2all_residues_2rh1_3sn6_under_cutoff6A_regularization_wolf_autoShrinkage_rho0pt01/grids_n_clusters25_n_samples5_random/cluster10_sample0.mae$SCHRODINGER/run $SCHRODINGER/mmshare-v3.3/python/common/delete_atoms.py -asl \"res.pt BIA \" /home/enf/b2ar_analysis/sparse-tICA_t5_n_components2all_residues_2rh1_3sn6_under_cutoff6A_regularization_wolf_autoShrinkage_rho0pt01/clusterer_25clusters_5samples/cluster11_sample1.mae /home/enf/b2ar_analysis/sparse-tICA_t5_n_components2all_residues_2rh1_3sn6_under_cutoff6A_regularization_wolf_autoShrinkage_rho0pt01/grids_n_clusters25_n_samples5_random/cluster11_sample1.mae$SCHRODINGER/run $SCHRODINGER/mmshare-v3.3/python/common/delete_atoms.py -asl \"res.pt BIA \" /home/enf/b2ar_analysis/sparse-tICA_t5_n_components2all_residues_2rh1_3sn6_under_cutoff6A_regularization_wolf_autoShrinkage_rho0pt01/clusterer_25clusters_5samples/cluster14_sample1.mae /home/enf/b2ar_analysis/sparse-tICA_t5_n_components2all_residues_2rh1_3sn6_under_cutoff6A_regularization_wolf_autoShrinkage_rho0pt01/grids_n_clusters25_n_samples5_random/cluster14_sample1.mae$SCHRODINGER/run $SCHRODINGER/mmshare-v3.3/python/common/delete_atoms.py -asl \"res.pt BIA \" /home/enf/b2ar_analysis/sparse-tICA_t5_n_components2all_residues_2rh1_3sn6_under_cutoff6A_regularization_wolf_autoShrinkage_rho0pt01/clusterer_25clusters_5samples/cluster14_sample4.mae /home/enf/b2ar_analysis/sparse-tICA_t5_n_components2all_residues_2rh1_3sn6_under_cutoff6A_regularization_wolf_autoShrinkage_rho0pt01/grids_n_clusters25_n_samples5_random/cluster14_sample4.mae$SCHRODINGER/run $SCHRODINGER/mmshare-v3.3/python/common/delete_atoms.py -asl \"res.pt BIA \" /home/enf/b2ar_analysis/sparse-tICA_t5_n_components2all_residues_2rh1_3sn6_under_cutoff6A_regularization_wolf_autoShrinkage_rho0pt01/clusterer_25clusters_5samples/cluster10_sample3.mae /home/enf/b2ar_analysis/sparse-tICA_t5_n_components2all_residues_2rh1_3sn6_under_cutoff6A_regularization_wolf_autoShrinkage_rho0pt01/grids_n_clusters25_n_samples5_random/cluster10_sample3.mae$SCHRODINGER/run $SCHRODINGER/mmshare-v3.3/python/common/delete_atoms.py -asl \"res.pt BIA \" /home/enf/b2ar_analysis/sparse-tICA_t5_n_components2all_residues_2rh1_3sn6_under_cutoff6A_regularization_wolf_autoShrinkage_rho0pt01/clusterer_25clusters_5samples/cluster11_sample4.mae /home/enf/b2ar_analysis/sparse-tICA_t5_n_components2all_residues_2rh1_3sn6_under_cutoff6A_regularization_wolf_autoShrinkage_rho0pt01/grids_n_clusters25_n_samples5_random/cluster11_sample4.mae$SCHRODINGER/run $SCHRODINGER/mmshare-v3.3/python/common/delete_atoms.py -asl \"res.pt BIA \" /home/enf/b2ar_analysis/sparse-tICA_t5_n_components2all_residues_2rh1_3sn6_under_cutoff6A_regularization_wolf_autoShrinkage_rho0pt01/clusterer_25clusters_5samples/cluster13_sample0.mae /home/enf/b2ar_analysis/sparse-tICA_t5_n_components2all_residues_2rh1_3sn6_under_cutoff6A_regularization_wolf_autoShrinkage_rho0pt01/grids_n_clusters25_n_samples5_random/cluster13_sample0.mae$SCHRODINGER/run $SCHRODINGER/mmshare-v3.3/python/common/delete_atoms.py -asl \"res.pt BIA \" /home/enf/b2ar_analysis/sparse-tICA_t5_n_components2all_residues_2rh1_3sn6_under_cutoff6A_regularization_wolf_autoShrinkage_rho0pt01/clusterer_25clusters_5samples/cluster13_sample3.mae /home/enf/b2ar_analysis/sparse-tICA_t5_n_components2all_residues_2rh1_3sn6_under_cutoff6A_regularization_wolf_autoShrinkage_rho0pt01/grids_n_clusters25_n_samples5_random/cluster13_sample3.mae$SCHRODINGER/run $SCHRODINGER/mmshare-v3.3/python/common/delete_atoms.py -asl \"res.pt BIA \" /home/enf/b2ar_analysis/sparse-tICA_t5_n_components2all_residues_2rh1_3sn6_under_cutoff6A_regularization_wolf_autoShrinkage_rho0pt01/clusterer_25clusters_5samples/cluster16_sample0.mae /home/enf/b2ar_analysis/sparse-tICA_t5_n_components2all_residues_2rh1_3sn6_under_cutoff6A_regularization_wolf_autoShrinkage_rho0pt01/grids_n_clusters25_n_samples5_random/cluster16_sample0.mae$SCHRODINGER/run $SCHRODINGER/mmshare-v3.3/python/common/delete_atoms.py -asl \"res.pt BIA \" /home/enf/b2ar_analysis/sparse-tICA_t5_n_components2all_residues_2rh1_3sn6_under_cutoff6A_regularization_wolf_autoShrinkage_rho0pt01/clusterer_25clusters_5samples/cluster15_sample2.mae /home/enf/b2ar_analysis/sparse-tICA_t5_n_components2all_residues_2rh1_3sn6_under_cutoff6A_regularization_wolf_autoShrinkage_rho0pt01/grids_n_clusters25_n_samples5_random/cluster15_sample2.mae$SCHRODINGER/run $SCHRODINGER/mmshare-v3.3/python/common/delete_atoms.py -asl \"res.pt BIA \" /home/enf/b2ar_analysis/sparse-tICA_t5_n_components2all_residues_2rh1_3sn6_under_cutoff6A_regularization_wolf_autoShrinkage_rho0pt01/clusterer_25clusters_5samples/cluster12_sample2.mae /home/enf/b2ar_analysis/sparse-tICA_t5_n_components2all_residues_2rh1_3sn6_under_cutoff6A_regularization_wolf_autoShrinkage_rho0pt01/grids_n_clusters25_n_samples5_random/cluster12_sample2.mae\n",
      "\n",
      "\n",
      "\n",
      "\n",
      "\n",
      "\n",
      "\n",
      "\n",
      "\n",
      "\n",
      "\n",
      "$SCHRODINGER/run $SCHRODINGER/mmshare-v3.3/python/common/delete_atoms.py -asl \"res.pt BIA \" /home/enf/b2ar_analysis/sparse-tICA_t5_n_components2all_residues_2rh1_3sn6_under_cutoff6A_regularization_wolf_autoShrinkage_rho0pt01/clusterer_25clusters_5samples/cluster20_sample0.mae /home/enf/b2ar_analysis/sparse-tICA_t5_n_components2all_residues_2rh1_3sn6_under_cutoff6A_regularization_wolf_autoShrinkage_rho0pt01/grids_n_clusters25_n_samples5_random/cluster20_sample0.mae$SCHRODINGER/run $SCHRODINGER/mmshare-v3.3/python/common/delete_atoms.py -asl \"res.pt BIA \" /home/enf/b2ar_analysis/sparse-tICA_t5_n_components2all_residues_2rh1_3sn6_under_cutoff6A_regularization_wolf_autoShrinkage_rho0pt01/clusterer_25clusters_5samples/cluster21_sample1.mae /home/enf/b2ar_analysis/sparse-tICA_t5_n_components2all_residues_2rh1_3sn6_under_cutoff6A_regularization_wolf_autoShrinkage_rho0pt01/grids_n_clusters25_n_samples5_random/cluster21_sample1.mae$SCHRODINGER/run $SCHRODINGER/mmshare-v3.3/python/common/delete_atoms.py -asl \"res.pt BIA \" /home/enf/b2ar_analysis/sparse-tICA_t5_n_components2all_residues_2rh1_3sn6_under_cutoff6A_regularization_wolf_autoShrinkage_rho0pt01/clusterer_25clusters_5samples/cluster1_sample2.mae /home/enf/b2ar_analysis/sparse-tICA_t5_n_components2all_residues_2rh1_3sn6_under_cutoff6A_regularization_wolf_autoShrinkage_rho0pt01/grids_n_clusters25_n_samples5_random/cluster1_sample2.mae$SCHRODINGER/run $SCHRODINGER/mmshare-v3.3/python/common/delete_atoms.py -asl \"res.pt BIA \" /home/enf/b2ar_analysis/sparse-tICA_t5_n_components2all_residues_2rh1_3sn6_under_cutoff6A_regularization_wolf_autoShrinkage_rho0pt01/clusterer_25clusters_5samples/cluster20_sample3.mae /home/enf/b2ar_analysis/sparse-tICA_t5_n_components2all_residues_2rh1_3sn6_under_cutoff6A_regularization_wolf_autoShrinkage_rho0pt01/grids_n_clusters25_n_samples5_random/cluster20_sample3.mae$SCHRODINGER/run $SCHRODINGER/mmshare-v3.3/python/common/delete_atoms.py -asl \"res.pt BIA \" /home/enf/b2ar_analysis/sparse-tICA_t5_n_components2all_residues_2rh1_3sn6_under_cutoff6A_regularization_wolf_autoShrinkage_rho0pt01/clusterer_25clusters_5samples/cluster19_sample1.mae /home/enf/b2ar_analysis/sparse-tICA_t5_n_components2all_residues_2rh1_3sn6_under_cutoff6A_regularization_wolf_autoShrinkage_rho0pt01/grids_n_clusters25_n_samples5_random/cluster19_sample1.mae$SCHRODINGER/run $SCHRODINGER/mmshare-v3.3/python/common/delete_atoms.py -asl \"res.pt BIA \" /home/enf/b2ar_analysis/sparse-tICA_t5_n_components2all_residues_2rh1_3sn6_under_cutoff6A_regularization_wolf_autoShrinkage_rho0pt01/clusterer_25clusters_5samples/cluster19_sample4.mae /home/enf/b2ar_analysis/sparse-tICA_t5_n_components2all_residues_2rh1_3sn6_under_cutoff6A_regularization_wolf_autoShrinkage_rho0pt01/grids_n_clusters25_n_samples5_random/cluster19_sample4.mae$SCHRODINGER/run $SCHRODINGER/mmshare-v3.3/python/common/delete_atoms.py -asl \"res.pt BIA \" /home/enf/b2ar_analysis/sparse-tICA_t5_n_components2all_residues_2rh1_3sn6_under_cutoff6A_regularization_wolf_autoShrinkage_rho0pt01/clusterer_25clusters_5samples/cluster16_sample1.mae /home/enf/b2ar_analysis/sparse-tICA_t5_n_components2all_residues_2rh1_3sn6_under_cutoff6A_regularization_wolf_autoShrinkage_rho0pt01/grids_n_clusters25_n_samples5_random/cluster16_sample1.mae$SCHRODINGER/run $SCHRODINGER/mmshare-v3.3/python/common/delete_atoms.py -asl \"res.pt BIA \" /home/enf/b2ar_analysis/sparse-tICA_t5_n_components2all_residues_2rh1_3sn6_under_cutoff6A_regularization_wolf_autoShrinkage_rho0pt01/clusterer_25clusters_5samples/cluster18_sample3.mae /home/enf/b2ar_analysis/sparse-tICA_t5_n_components2all_residues_2rh1_3sn6_under_cutoff6A_regularization_wolf_autoShrinkage_rho0pt01/grids_n_clusters25_n_samples5_random/cluster18_sample3.mae$SCHRODINGER/run $SCHRODINGER/mmshare-v3.3/python/common/delete_atoms.py -asl \"res.pt BIA \" /home/enf/b2ar_analysis/sparse-tICA_t5_n_components2all_residues_2rh1_3sn6_under_cutoff6A_regularization_wolf_autoShrinkage_rho0pt01/clusterer_25clusters_5samples/cluster21_sample4.mae /home/enf/b2ar_analysis/sparse-tICA_t5_n_components2all_residues_2rh1_3sn6_under_cutoff6A_regularization_wolf_autoShrinkage_rho0pt01/grids_n_clusters25_n_samples5_random/cluster21_sample4.mae$SCHRODINGER/run $SCHRODINGER/mmshare-v3.3/python/common/delete_atoms.py -asl \"res.pt BIA \" /home/enf/b2ar_analysis/sparse-tICA_t5_n_components2all_residues_2rh1_3sn6_under_cutoff6A_regularization_wolf_autoShrinkage_rho0pt01/clusterer_25clusters_5samples/cluster17_sample2.mae /home/enf/b2ar_analysis/sparse-tICA_t5_n_components2all_residues_2rh1_3sn6_under_cutoff6A_regularization_wolf_autoShrinkage_rho0pt01/grids_n_clusters25_n_samples5_random/cluster17_sample2.mae$SCHRODINGER/run $SCHRODINGER/mmshare-v3.3/python/common/delete_atoms.py -asl \"res.pt BIA \" /home/enf/b2ar_analysis/sparse-tICA_t5_n_components2all_residues_2rh1_3sn6_under_cutoff6A_regularization_wolf_autoShrinkage_rho0pt01/clusterer_25clusters_5samples/cluster18_sample0.mae /home/enf/b2ar_analysis/sparse-tICA_t5_n_components2all_residues_2rh1_3sn6_under_cutoff6A_regularization_wolf_autoShrinkage_rho0pt01/grids_n_clusters25_n_samples5_random/cluster18_sample0.mae$SCHRODINGER/run $SCHRODINGER/mmshare-v3.3/python/common/delete_atoms.py -asl \"res.pt BIA \" /home/enf/b2ar_analysis/sparse-tICA_t5_n_components2all_residues_2rh1_3sn6_under_cutoff6A_regularization_wolf_autoShrinkage_rho0pt01/clusterer_25clusters_5samples/cluster16_sample4.mae /home/enf/b2ar_analysis/sparse-tICA_t5_n_components2all_residues_2rh1_3sn6_under_cutoff6A_regularization_wolf_autoShrinkage_rho0pt01/grids_n_clusters25_n_samples5_random/cluster16_sample4.mae\n",
      "\n",
      "\n",
      "\n",
      "\n",
      "\n",
      "\n",
      "\n",
      "\n",
      "\n",
      "\n",
      "\n",
      "$SCHRODINGER/run $SCHRODINGER/mmshare-v3.3/python/common/delete_atoms.py -asl \"res.pt BIA \" /home/enf/b2ar_analysis/sparse-tICA_t5_n_components2all_residues_2rh1_3sn6_under_cutoff6A_regularization_wolf_autoShrinkage_rho0pt01/clusterer_25clusters_5samples/cluster20_sample1.mae /home/enf/b2ar_analysis/sparse-tICA_t5_n_components2all_residues_2rh1_3sn6_under_cutoff6A_regularization_wolf_autoShrinkage_rho0pt01/grids_n_clusters25_n_samples5_random/cluster20_sample1.mae$SCHRODINGER/run $SCHRODINGER/mmshare-v3.3/python/common/delete_atoms.py -asl \"res.pt BIA \" /home/enf/b2ar_analysis/sparse-tICA_t5_n_components2all_residues_2rh1_3sn6_under_cutoff6A_regularization_wolf_autoShrinkage_rho0pt01/clusterer_25clusters_5samples/cluster21_sample2.mae /home/enf/b2ar_analysis/sparse-tICA_t5_n_components2all_residues_2rh1_3sn6_under_cutoff6A_regularization_wolf_autoShrinkage_rho0pt01/grids_n_clusters25_n_samples5_random/cluster21_sample2.mae$SCHRODINGER/run $SCHRODINGER/mmshare-v3.3/python/common/delete_atoms.py -asl \"res.pt BIA \" /home/enf/b2ar_analysis/sparse-tICA_t5_n_components2all_residues_2rh1_3sn6_under_cutoff6A_regularization_wolf_autoShrinkage_rho0pt01/clusterer_25clusters_5samples/cluster1_sample3.mae /home/enf/b2ar_analysis/sparse-tICA_t5_n_components2all_residues_2rh1_3sn6_under_cutoff6A_regularization_wolf_autoShrinkage_rho0pt01/grids_n_clusters25_n_samples5_random/cluster1_sample3.mae$SCHRODINGER/run $SCHRODINGER/mmshare-v3.3/python/common/delete_atoms.py -asl \"res.pt BIA \" /home/enf/b2ar_analysis/sparse-tICA_t5_n_components2all_residues_2rh1_3sn6_under_cutoff6A_regularization_wolf_autoShrinkage_rho0pt01/clusterer_25clusters_5samples/cluster20_sample4.mae /home/enf/b2ar_analysis/sparse-tICA_t5_n_components2all_residues_2rh1_3sn6_under_cutoff6A_regularization_wolf_autoShrinkage_rho0pt01/grids_n_clusters25_n_samples5_random/cluster20_sample4.mae$SCHRODINGER/run $SCHRODINGER/mmshare-v3.3/python/common/delete_atoms.py -asl \"res.pt BIA \" /home/enf/b2ar_analysis/sparse-tICA_t5_n_components2all_residues_2rh1_3sn6_under_cutoff6A_regularization_wolf_autoShrinkage_rho0pt01/clusterer_25clusters_5samples/cluster19_sample2.mae /home/enf/b2ar_analysis/sparse-tICA_t5_n_components2all_residues_2rh1_3sn6_under_cutoff6A_regularization_wolf_autoShrinkage_rho0pt01/grids_n_clusters25_n_samples5_random/cluster19_sample2.mae$SCHRODINGER/run $SCHRODINGER/mmshare-v3.3/python/common/delete_atoms.py -asl \"res.pt BIA \" /home/enf/b2ar_analysis/sparse-tICA_t5_n_components2all_residues_2rh1_3sn6_under_cutoff6A_regularization_wolf_autoShrinkage_rho0pt01/clusterer_25clusters_5samples/cluster1_sample0.mae /home/enf/b2ar_analysis/sparse-tICA_t5_n_components2all_residues_2rh1_3sn6_under_cutoff6A_regularization_wolf_autoShrinkage_rho0pt01/grids_n_clusters25_n_samples5_random/cluster1_sample0.mae$SCHRODINGER/run $SCHRODINGER/mmshare-v3.3/python/common/delete_atoms.py -asl \"res.pt BIA \" /home/enf/b2ar_analysis/sparse-tICA_t5_n_components2all_residues_2rh1_3sn6_under_cutoff6A_regularization_wolf_autoShrinkage_rho0pt01/clusterer_25clusters_5samples/cluster16_sample2.mae /home/enf/b2ar_analysis/sparse-tICA_t5_n_components2all_residues_2rh1_3sn6_under_cutoff6A_regularization_wolf_autoShrinkage_rho0pt01/grids_n_clusters25_n_samples5_random/cluster16_sample2.mae$SCHRODINGER/run $SCHRODINGER/mmshare-v3.3/python/common/delete_atoms.py -asl \"res.pt BIA \" /home/enf/b2ar_analysis/sparse-tICA_t5_n_components2all_residues_2rh1_3sn6_under_cutoff6A_regularization_wolf_autoShrinkage_rho0pt01/clusterer_25clusters_5samples/cluster18_sample4.mae /home/enf/b2ar_analysis/sparse-tICA_t5_n_components2all_residues_2rh1_3sn6_under_cutoff6A_regularization_wolf_autoShrinkage_rho0pt01/grids_n_clusters25_n_samples5_random/cluster18_sample4.mae$SCHRODINGER/run $SCHRODINGER/mmshare-v3.3/python/common/delete_atoms.py -asl \"res.pt BIA \" /home/enf/b2ar_analysis/sparse-tICA_t5_n_components2all_residues_2rh1_3sn6_under_cutoff6A_regularization_wolf_autoShrinkage_rho0pt01/clusterer_25clusters_5samples/cluster22_sample0.mae /home/enf/b2ar_analysis/sparse-tICA_t5_n_components2all_residues_2rh1_3sn6_under_cutoff6A_regularization_wolf_autoShrinkage_rho0pt01/grids_n_clusters25_n_samples5_random/cluster22_sample0.mae$SCHRODINGER/run $SCHRODINGER/mmshare-v3.3/python/common/delete_atoms.py -asl \"res.pt BIA \" /home/enf/b2ar_analysis/sparse-tICA_t5_n_components2all_residues_2rh1_3sn6_under_cutoff6A_regularization_wolf_autoShrinkage_rho0pt01/clusterer_25clusters_5samples/cluster17_sample3.mae /home/enf/b2ar_analysis/sparse-tICA_t5_n_components2all_residues_2rh1_3sn6_under_cutoff6A_regularization_wolf_autoShrinkage_rho0pt01/grids_n_clusters25_n_samples5_random/cluster17_sample3.mae$SCHRODINGER/run $SCHRODINGER/mmshare-v3.3/python/common/delete_atoms.py -asl \"res.pt BIA \" /home/enf/b2ar_analysis/sparse-tICA_t5_n_components2all_residues_2rh1_3sn6_under_cutoff6A_regularization_wolf_autoShrinkage_rho0pt01/clusterer_25clusters_5samples/cluster18_sample1.mae /home/enf/b2ar_analysis/sparse-tICA_t5_n_components2all_residues_2rh1_3sn6_under_cutoff6A_regularization_wolf_autoShrinkage_rho0pt01/grids_n_clusters25_n_samples5_random/cluster18_sample1.mae$SCHRODINGER/run $SCHRODINGER/mmshare-v3.3/python/common/delete_atoms.py -asl \"res.pt BIA \" /home/enf/b2ar_analysis/sparse-tICA_t5_n_components2all_residues_2rh1_3sn6_under_cutoff6A_regularization_wolf_autoShrinkage_rho0pt01/clusterer_25clusters_5samples/cluster17_sample0.mae /home/enf/b2ar_analysis/sparse-tICA_t5_n_components2all_residues_2rh1_3sn6_under_cutoff6A_regularization_wolf_autoShrinkage_rho0pt01/grids_n_clusters25_n_samples5_random/cluster17_sample0.mae\n",
      "\n",
      "\n",
      "\n",
      "\n",
      "\n",
      "\n",
      "\n",
      "\n",
      "\n",
      "\n",
      "\n",
      "$SCHRODINGER/run $SCHRODINGER/mmshare-v3.3/python/common/delete_atoms.py -asl \"res.pt BIA \" /home/enf/b2ar_analysis/sparse-tICA_t5_n_components2all_residues_2rh1_3sn6_under_cutoff6A_regularization_wolf_autoShrinkage_rho0pt01/clusterer_25clusters_5samples/cluster20_sample2.mae /home/enf/b2ar_analysis/sparse-tICA_t5_n_components2all_residues_2rh1_3sn6_under_cutoff6A_regularization_wolf_autoShrinkage_rho0pt01/grids_n_clusters25_n_samples5_random/cluster20_sample2.mae$SCHRODINGER/run $SCHRODINGER/mmshare-v3.3/python/common/delete_atoms.py -asl \"res.pt BIA \" /home/enf/b2ar_analysis/sparse-tICA_t5_n_components2all_residues_2rh1_3sn6_under_cutoff6A_regularization_wolf_autoShrinkage_rho0pt01/clusterer_25clusters_5samples/cluster21_sample3.mae /home/enf/b2ar_analysis/sparse-tICA_t5_n_components2all_residues_2rh1_3sn6_under_cutoff6A_regularization_wolf_autoShrinkage_rho0pt01/grids_n_clusters25_n_samples5_random/cluster21_sample3.mae$SCHRODINGER/run $SCHRODINGER/mmshare-v3.3/python/common/delete_atoms.py -asl \"res.pt BIA \" /home/enf/b2ar_analysis/sparse-tICA_t5_n_components2all_residues_2rh1_3sn6_under_cutoff6A_regularization_wolf_autoShrinkage_rho0pt01/clusterer_25clusters_5samples/cluster1_sample4.mae /home/enf/b2ar_analysis/sparse-tICA_t5_n_components2all_residues_2rh1_3sn6_under_cutoff6A_regularization_wolf_autoShrinkage_rho0pt01/grids_n_clusters25_n_samples5_random/cluster1_sample4.mae$SCHRODINGER/run $SCHRODINGER/mmshare-v3.3/python/common/delete_atoms.py -asl \"res.pt BIA \" /home/enf/b2ar_analysis/sparse-tICA_t5_n_components2all_residues_2rh1_3sn6_under_cutoff6A_regularization_wolf_autoShrinkage_rho0pt01/clusterer_25clusters_5samples/cluster21_sample0.mae /home/enf/b2ar_analysis/sparse-tICA_t5_n_components2all_residues_2rh1_3sn6_under_cutoff6A_regularization_wolf_autoShrinkage_rho0pt01/grids_n_clusters25_n_samples5_random/cluster21_sample0.mae$SCHRODINGER/run $SCHRODINGER/mmshare-v3.3/python/common/delete_atoms.py -asl \"res.pt BIA \" /home/enf/b2ar_analysis/sparse-tICA_t5_n_components2all_residues_2rh1_3sn6_under_cutoff6A_regularization_wolf_autoShrinkage_rho0pt01/clusterer_25clusters_5samples/cluster19_sample3.mae /home/enf/b2ar_analysis/sparse-tICA_t5_n_components2all_residues_2rh1_3sn6_under_cutoff6A_regularization_wolf_autoShrinkage_rho0pt01/grids_n_clusters25_n_samples5_random/cluster19_sample3.mae$SCHRODINGER/run $SCHRODINGER/mmshare-v3.3/python/common/delete_atoms.py -asl \"res.pt BIA \" /home/enf/b2ar_analysis/sparse-tICA_t5_n_components2all_residues_2rh1_3sn6_under_cutoff6A_regularization_wolf_autoShrinkage_rho0pt01/clusterer_25clusters_5samples/cluster1_sample1.mae /home/enf/b2ar_analysis/sparse-tICA_t5_n_components2all_residues_2rh1_3sn6_under_cutoff6A_regularization_wolf_autoShrinkage_rho0pt01/grids_n_clusters25_n_samples5_random/cluster1_sample1.mae$SCHRODINGER/run $SCHRODINGER/mmshare-v3.3/python/common/delete_atoms.py -asl \"res.pt BIA \" /home/enf/b2ar_analysis/sparse-tICA_t5_n_components2all_residues_2rh1_3sn6_under_cutoff6A_regularization_wolf_autoShrinkage_rho0pt01/clusterer_25clusters_5samples/cluster16_sample3.mae /home/enf/b2ar_analysis/sparse-tICA_t5_n_components2all_residues_2rh1_3sn6_under_cutoff6A_regularization_wolf_autoShrinkage_rho0pt01/grids_n_clusters25_n_samples5_random/cluster16_sample3.mae$SCHRODINGER/run $SCHRODINGER/mmshare-v3.3/python/common/delete_atoms.py -asl \"res.pt BIA \" /home/enf/b2ar_analysis/sparse-tICA_t5_n_components2all_residues_2rh1_3sn6_under_cutoff6A_regularization_wolf_autoShrinkage_rho0pt01/clusterer_25clusters_5samples/cluster19_sample0.mae /home/enf/b2ar_analysis/sparse-tICA_t5_n_components2all_residues_2rh1_3sn6_under_cutoff6A_regularization_wolf_autoShrinkage_rho0pt01/grids_n_clusters25_n_samples5_random/cluster19_sample0.mae$SCHRODINGER/run $SCHRODINGER/mmshare-v3.3/python/common/delete_atoms.py -asl \"res.pt BIA \" /home/enf/b2ar_analysis/sparse-tICA_t5_n_components2all_residues_2rh1_3sn6_under_cutoff6A_regularization_wolf_autoShrinkage_rho0pt01/clusterer_25clusters_5samples/cluster22_sample1.mae /home/enf/b2ar_analysis/sparse-tICA_t5_n_components2all_residues_2rh1_3sn6_under_cutoff6A_regularization_wolf_autoShrinkage_rho0pt01/grids_n_clusters25_n_samples5_random/cluster22_sample1.mae$SCHRODINGER/run $SCHRODINGER/mmshare-v3.3/python/common/delete_atoms.py -asl \"res.pt BIA \" /home/enf/b2ar_analysis/sparse-tICA_t5_n_components2all_residues_2rh1_3sn6_under_cutoff6A_regularization_wolf_autoShrinkage_rho0pt01/clusterer_25clusters_5samples/cluster17_sample4.mae /home/enf/b2ar_analysis/sparse-tICA_t5_n_components2all_residues_2rh1_3sn6_under_cutoff6A_regularization_wolf_autoShrinkage_rho0pt01/grids_n_clusters25_n_samples5_random/cluster17_sample4.mae$SCHRODINGER/run $SCHRODINGER/mmshare-v3.3/python/common/delete_atoms.py -asl \"res.pt BIA \" /home/enf/b2ar_analysis/sparse-tICA_t5_n_components2all_residues_2rh1_3sn6_under_cutoff6A_regularization_wolf_autoShrinkage_rho0pt01/clusterer_25clusters_5samples/cluster18_sample2.mae /home/enf/b2ar_analysis/sparse-tICA_t5_n_components2all_residues_2rh1_3sn6_under_cutoff6A_regularization_wolf_autoShrinkage_rho0pt01/grids_n_clusters25_n_samples5_random/cluster18_sample2.mae$SCHRODINGER/run $SCHRODINGER/mmshare-v3.3/python/common/delete_atoms.py -asl \"res.pt BIA \" /home/enf/b2ar_analysis/sparse-tICA_t5_n_components2all_residues_2rh1_3sn6_under_cutoff6A_regularization_wolf_autoShrinkage_rho0pt01/clusterer_25clusters_5samples/cluster17_sample1.mae /home/enf/b2ar_analysis/sparse-tICA_t5_n_components2all_residues_2rh1_3sn6_under_cutoff6A_regularization_wolf_autoShrinkage_rho0pt01/grids_n_clusters25_n_samples5_random/cluster17_sample1.mae\n",
      "\n",
      "\n",
      "\n",
      "\n",
      "\n",
      "\n",
      "\n",
      "\n",
      "\n",
      "\n",
      "\n",
      "$SCHRODINGER/run $SCHRODINGER/mmshare-v3.3/python/common/delete_atoms.py -asl \"res.pt BIA \" /home/enf/b2ar_analysis/sparse-tICA_t5_n_components2all_residues_2rh1_3sn6_under_cutoff6A_regularization_wolf_autoShrinkage_rho0pt01/clusterer_25clusters_5samples/cluster6_sample0.mae /home/enf/b2ar_analysis/sparse-tICA_t5_n_components2all_residues_2rh1_3sn6_under_cutoff6A_regularization_wolf_autoShrinkage_rho0pt01/grids_n_clusters25_n_samples5_random/cluster6_sample0.mae$SCHRODINGER/run $SCHRODINGER/mmshare-v3.3/python/common/delete_atoms.py -asl \"res.pt BIA \" /home/enf/b2ar_analysis/sparse-tICA_t5_n_components2all_residues_2rh1_3sn6_under_cutoff6A_regularization_wolf_autoShrinkage_rho0pt01/clusterer_25clusters_5samples/cluster4_sample1.mae /home/enf/b2ar_analysis/sparse-tICA_t5_n_components2all_residues_2rh1_3sn6_under_cutoff6A_regularization_wolf_autoShrinkage_rho0pt01/grids_n_clusters25_n_samples5_random/cluster4_sample1.mae$SCHRODINGER/run $SCHRODINGER/mmshare-v3.3/python/common/delete_atoms.py -asl \"res.pt BIA \" /home/enf/b2ar_analysis/sparse-tICA_t5_n_components2all_residues_2rh1_3sn6_under_cutoff6A_regularization_wolf_autoShrinkage_rho0pt01/clusterer_25clusters_5samples/cluster23_sample0.mae /home/enf/b2ar_analysis/sparse-tICA_t5_n_components2all_residues_2rh1_3sn6_under_cutoff6A_regularization_wolf_autoShrinkage_rho0pt01/grids_n_clusters25_n_samples5_random/cluster23_sample0.mae$SCHRODINGER/run $SCHRODINGER/mmshare-v3.3/python/common/delete_atoms.py -asl \"res.pt BIA \" /home/enf/b2ar_analysis/sparse-tICA_t5_n_components2all_residues_2rh1_3sn6_under_cutoff6A_regularization_wolf_autoShrinkage_rho0pt01/clusterer_25clusters_5samples/cluster2_sample2.mae /home/enf/b2ar_analysis/sparse-tICA_t5_n_components2all_residues_2rh1_3sn6_under_cutoff6A_regularization_wolf_autoShrinkage_rho0pt01/grids_n_clusters25_n_samples5_random/cluster2_sample2.mae$SCHRODINGER/run $SCHRODINGER/mmshare-v3.3/python/common/delete_atoms.py -asl \"res.pt BIA \" /home/enf/b2ar_analysis/sparse-tICA_t5_n_components2all_residues_2rh1_3sn6_under_cutoff6A_regularization_wolf_autoShrinkage_rho0pt01/clusterer_25clusters_5samples/cluster3_sample0.mae /home/enf/b2ar_analysis/sparse-tICA_t5_n_components2all_residues_2rh1_3sn6_under_cutoff6A_regularization_wolf_autoShrinkage_rho0pt01/grids_n_clusters25_n_samples5_random/cluster3_sample0.mae$SCHRODINGER/run $SCHRODINGER/mmshare-v3.3/python/common/delete_atoms.py -asl \"res.pt BIA \" /home/enf/b2ar_analysis/sparse-tICA_t5_n_components2all_residues_2rh1_3sn6_under_cutoff6A_regularization_wolf_autoShrinkage_rho0pt01/clusterer_25clusters_5samples/cluster3_sample3.mae /home/enf/b2ar_analysis/sparse-tICA_t5_n_components2all_residues_2rh1_3sn6_under_cutoff6A_regularization_wolf_autoShrinkage_rho0pt01/grids_n_clusters25_n_samples5_random/cluster3_sample3.mae$SCHRODINGER/run $SCHRODINGER/mmshare-v3.3/python/common/delete_atoms.py -asl \"res.pt BIA \" /home/enf/b2ar_analysis/sparse-tICA_t5_n_components2all_residues_2rh1_3sn6_under_cutoff6A_regularization_wolf_autoShrinkage_rho0pt01/clusterer_25clusters_5samples/cluster22_sample2.mae /home/enf/b2ar_analysis/sparse-tICA_t5_n_components2all_residues_2rh1_3sn6_under_cutoff6A_regularization_wolf_autoShrinkage_rho0pt01/grids_n_clusters25_n_samples5_random/cluster22_sample2.mae$SCHRODINGER/run $SCHRODINGER/mmshare-v3.3/python/common/delete_atoms.py -asl \"res.pt BIA \" /home/enf/b2ar_analysis/sparse-tICA_t5_n_components2all_residues_2rh1_3sn6_under_cutoff6A_regularization_wolf_autoShrinkage_rho0pt01/clusterer_25clusters_5samples/cluster24_sample1.mae /home/enf/b2ar_analysis/sparse-tICA_t5_n_components2all_residues_2rh1_3sn6_under_cutoff6A_regularization_wolf_autoShrinkage_rho0pt01/grids_n_clusters25_n_samples5_random/cluster24_sample1.mae$SCHRODINGER/run $SCHRODINGER/mmshare-v3.3/python/common/delete_atoms.py -asl \"res.pt BIA \" /home/enf/b2ar_analysis/sparse-tICA_t5_n_components2all_residues_2rh1_3sn6_under_cutoff6A_regularization_wolf_autoShrinkage_rho0pt01/clusterer_25clusters_5samples/cluster24_sample4.mae /home/enf/b2ar_analysis/sparse-tICA_t5_n_components2all_residues_2rh1_3sn6_under_cutoff6A_regularization_wolf_autoShrinkage_rho0pt01/grids_n_clusters25_n_samples5_random/cluster24_sample4.mae$SCHRODINGER/run $SCHRODINGER/mmshare-v3.3/python/common/delete_atoms.py -asl \"res.pt BIA \" /home/enf/b2ar_analysis/sparse-tICA_t5_n_components2all_residues_2rh1_3sn6_under_cutoff6A_regularization_wolf_autoShrinkage_rho0pt01/clusterer_25clusters_5samples/cluster5_sample2.mae /home/enf/b2ar_analysis/sparse-tICA_t5_n_components2all_residues_2rh1_3sn6_under_cutoff6A_regularization_wolf_autoShrinkage_rho0pt01/grids_n_clusters25_n_samples5_random/cluster5_sample2.mae$SCHRODINGER/run $SCHRODINGER/mmshare-v3.3/python/common/delete_atoms.py -asl \"res.pt BIA \" /home/enf/b2ar_analysis/sparse-tICA_t5_n_components2all_residues_2rh1_3sn6_under_cutoff6A_regularization_wolf_autoShrinkage_rho0pt01/clusterer_25clusters_5samples/cluster23_sample3.mae /home/enf/b2ar_analysis/sparse-tICA_t5_n_components2all_residues_2rh1_3sn6_under_cutoff6A_regularization_wolf_autoShrinkage_rho0pt01/grids_n_clusters25_n_samples5_random/cluster23_sample3.mae$SCHRODINGER/run $SCHRODINGER/mmshare-v3.3/python/common/delete_atoms.py -asl \"res.pt BIA \" /home/enf/b2ar_analysis/sparse-tICA_t5_n_components2all_residues_2rh1_3sn6_under_cutoff6A_regularization_wolf_autoShrinkage_rho0pt01/clusterer_25clusters_5samples/cluster4_sample4.mae /home/enf/b2ar_analysis/sparse-tICA_t5_n_components2all_residues_2rh1_3sn6_under_cutoff6A_regularization_wolf_autoShrinkage_rho0pt01/grids_n_clusters25_n_samples5_random/cluster4_sample4.mae\n",
      "\n",
      "\n",
      "\n",
      "\n",
      "\n",
      "\n",
      "\n",
      "\n",
      "\n",
      "\n",
      "\n",
      "$SCHRODINGER/run $SCHRODINGER/mmshare-v3.3/python/common/delete_atoms.py -asl \"res.pt BIA \" /home/enf/b2ar_analysis/sparse-tICA_t5_n_components2all_residues_2rh1_3sn6_under_cutoff6A_regularization_wolf_autoShrinkage_rho0pt01/clusterer_25clusters_5samples/cluster6_sample1.mae /home/enf/b2ar_analysis/sparse-tICA_t5_n_components2all_residues_2rh1_3sn6_under_cutoff6A_regularization_wolf_autoShrinkage_rho0pt01/grids_n_clusters25_n_samples5_random/cluster6_sample1.mae$SCHRODINGER/run $SCHRODINGER/mmshare-v3.3/python/common/delete_atoms.py -asl \"res.pt BIA \" /home/enf/b2ar_analysis/sparse-tICA_t5_n_components2all_residues_2rh1_3sn6_under_cutoff6A_regularization_wolf_autoShrinkage_rho0pt01/clusterer_25clusters_5samples/cluster4_sample2.mae /home/enf/b2ar_analysis/sparse-tICA_t5_n_components2all_residues_2rh1_3sn6_under_cutoff6A_regularization_wolf_autoShrinkage_rho0pt01/grids_n_clusters25_n_samples5_random/cluster4_sample2.mae$SCHRODINGER/run $SCHRODINGER/mmshare-v3.3/python/common/delete_atoms.py -asl \"res.pt BIA \" /home/enf/b2ar_analysis/sparse-tICA_t5_n_components2all_residues_2rh1_3sn6_under_cutoff6A_regularization_wolf_autoShrinkage_rho0pt01/clusterer_25clusters_5samples/cluster23_sample1.mae /home/enf/b2ar_analysis/sparse-tICA_t5_n_components2all_residues_2rh1_3sn6_under_cutoff6A_regularization_wolf_autoShrinkage_rho0pt01/grids_n_clusters25_n_samples5_random/cluster23_sample1.mae$SCHRODINGER/run $SCHRODINGER/mmshare-v3.3/python/common/delete_atoms.py -asl \"res.pt BIA \" /home/enf/b2ar_analysis/sparse-tICA_t5_n_components2all_residues_2rh1_3sn6_under_cutoff6A_regularization_wolf_autoShrinkage_rho0pt01/clusterer_25clusters_5samples/cluster2_sample3.mae /home/enf/b2ar_analysis/sparse-tICA_t5_n_components2all_residues_2rh1_3sn6_under_cutoff6A_regularization_wolf_autoShrinkage_rho0pt01/grids_n_clusters25_n_samples5_random/cluster2_sample3.mae$SCHRODINGER/run $SCHRODINGER/mmshare-v3.3/python/common/delete_atoms.py -asl \"res.pt BIA \" /home/enf/b2ar_analysis/sparse-tICA_t5_n_components2all_residues_2rh1_3sn6_under_cutoff6A_regularization_wolf_autoShrinkage_rho0pt01/clusterer_25clusters_5samples/cluster3_sample1.mae /home/enf/b2ar_analysis/sparse-tICA_t5_n_components2all_residues_2rh1_3sn6_under_cutoff6A_regularization_wolf_autoShrinkage_rho0pt01/grids_n_clusters25_n_samples5_random/cluster3_sample1.mae$SCHRODINGER/run $SCHRODINGER/mmshare-v3.3/python/common/delete_atoms.py -asl \"res.pt BIA \" /home/enf/b2ar_analysis/sparse-tICA_t5_n_components2all_residues_2rh1_3sn6_under_cutoff6A_regularization_wolf_autoShrinkage_rho0pt01/clusterer_25clusters_5samples/cluster3_sample4.mae /home/enf/b2ar_analysis/sparse-tICA_t5_n_components2all_residues_2rh1_3sn6_under_cutoff6A_regularization_wolf_autoShrinkage_rho0pt01/grids_n_clusters25_n_samples5_random/cluster3_sample4.mae$SCHRODINGER/run $SCHRODINGER/mmshare-v3.3/python/common/delete_atoms.py -asl \"res.pt BIA \" /home/enf/b2ar_analysis/sparse-tICA_t5_n_components2all_residues_2rh1_3sn6_under_cutoff6A_regularization_wolf_autoShrinkage_rho0pt01/clusterer_25clusters_5samples/cluster22_sample3.mae /home/enf/b2ar_analysis/sparse-tICA_t5_n_components2all_residues_2rh1_3sn6_under_cutoff6A_regularization_wolf_autoShrinkage_rho0pt01/grids_n_clusters25_n_samples5_random/cluster22_sample3.mae$SCHRODINGER/run $SCHRODINGER/mmshare-v3.3/python/common/delete_atoms.py -asl \"res.pt BIA \" /home/enf/b2ar_analysis/sparse-tICA_t5_n_components2all_residues_2rh1_3sn6_under_cutoff6A_regularization_wolf_autoShrinkage_rho0pt01/clusterer_25clusters_5samples/cluster24_sample2.mae /home/enf/b2ar_analysis/sparse-tICA_t5_n_components2all_residues_2rh1_3sn6_under_cutoff6A_regularization_wolf_autoShrinkage_rho0pt01/grids_n_clusters25_n_samples5_random/cluster24_sample2.mae$SCHRODINGER/run $SCHRODINGER/mmshare-v3.3/python/common/delete_atoms.py -asl \"res.pt BIA \" /home/enf/b2ar_analysis/sparse-tICA_t5_n_components2all_residues_2rh1_3sn6_under_cutoff6A_regularization_wolf_autoShrinkage_rho0pt01/clusterer_25clusters_5samples/cluster2_sample0.mae /home/enf/b2ar_analysis/sparse-tICA_t5_n_components2all_residues_2rh1_3sn6_under_cutoff6A_regularization_wolf_autoShrinkage_rho0pt01/grids_n_clusters25_n_samples5_random/cluster2_sample0.mae$SCHRODINGER/run $SCHRODINGER/mmshare-v3.3/python/common/delete_atoms.py -asl \"res.pt BIA \" /home/enf/b2ar_analysis/sparse-tICA_t5_n_components2all_residues_2rh1_3sn6_under_cutoff6A_regularization_wolf_autoShrinkage_rho0pt01/clusterer_25clusters_5samples/cluster5_sample3.mae /home/enf/b2ar_analysis/sparse-tICA_t5_n_components2all_residues_2rh1_3sn6_under_cutoff6A_regularization_wolf_autoShrinkage_rho0pt01/grids_n_clusters25_n_samples5_random/cluster5_sample3.mae$SCHRODINGER/run $SCHRODINGER/mmshare-v3.3/python/common/delete_atoms.py -asl \"res.pt BIA \" /home/enf/b2ar_analysis/sparse-tICA_t5_n_components2all_residues_2rh1_3sn6_under_cutoff6A_regularization_wolf_autoShrinkage_rho0pt01/clusterer_25clusters_5samples/cluster23_sample4.mae /home/enf/b2ar_analysis/sparse-tICA_t5_n_components2all_residues_2rh1_3sn6_under_cutoff6A_regularization_wolf_autoShrinkage_rho0pt01/grids_n_clusters25_n_samples5_random/cluster23_sample4.mae$SCHRODINGER/run $SCHRODINGER/mmshare-v3.3/python/common/delete_atoms.py -asl \"res.pt BIA \" /home/enf/b2ar_analysis/sparse-tICA_t5_n_components2all_residues_2rh1_3sn6_under_cutoff6A_regularization_wolf_autoShrinkage_rho0pt01/clusterer_25clusters_5samples/cluster5_sample0.mae /home/enf/b2ar_analysis/sparse-tICA_t5_n_components2all_residues_2rh1_3sn6_under_cutoff6A_regularization_wolf_autoShrinkage_rho0pt01/grids_n_clusters25_n_samples5_random/cluster5_sample0.mae\n",
      "\n",
      "\n",
      "\n",
      "\n",
      "\n",
      "\n",
      "\n",
      "\n",
      "\n",
      "\n",
      "\n",
      "$SCHRODINGER/run $SCHRODINGER/mmshare-v3.3/python/common/delete_atoms.py -asl \"res.pt BIA \" /home/enf/b2ar_analysis/sparse-tICA_t5_n_components2all_residues_2rh1_3sn6_under_cutoff6A_regularization_wolf_autoShrinkage_rho0pt01/clusterer_25clusters_5samples/cluster6_sample2.mae /home/enf/b2ar_analysis/sparse-tICA_t5_n_components2all_residues_2rh1_3sn6_under_cutoff6A_regularization_wolf_autoShrinkage_rho0pt01/grids_n_clusters25_n_samples5_random/cluster6_sample2.mae$SCHRODINGER/run $SCHRODINGER/mmshare-v3.3/python/common/delete_atoms.py -asl \"res.pt BIA \" /home/enf/b2ar_analysis/sparse-tICA_t5_n_components2all_residues_2rh1_3sn6_under_cutoff6A_regularization_wolf_autoShrinkage_rho0pt01/clusterer_25clusters_5samples/cluster4_sample3.mae /home/enf/b2ar_analysis/sparse-tICA_t5_n_components2all_residues_2rh1_3sn6_under_cutoff6A_regularization_wolf_autoShrinkage_rho0pt01/grids_n_clusters25_n_samples5_random/cluster4_sample3.mae$SCHRODINGER/run $SCHRODINGER/mmshare-v3.3/python/common/delete_atoms.py -asl \"res.pt BIA \" /home/enf/b2ar_analysis/sparse-tICA_t5_n_components2all_residues_2rh1_3sn6_under_cutoff6A_regularization_wolf_autoShrinkage_rho0pt01/clusterer_25clusters_5samples/cluster23_sample2.mae /home/enf/b2ar_analysis/sparse-tICA_t5_n_components2all_residues_2rh1_3sn6_under_cutoff6A_regularization_wolf_autoShrinkage_rho0pt01/grids_n_clusters25_n_samples5_random/cluster23_sample2.mae$SCHRODINGER/run $SCHRODINGER/mmshare-v3.3/python/common/delete_atoms.py -asl \"res.pt BIA \" /home/enf/b2ar_analysis/sparse-tICA_t5_n_components2all_residues_2rh1_3sn6_under_cutoff6A_regularization_wolf_autoShrinkage_rho0pt01/clusterer_25clusters_5samples/cluster2_sample4.mae /home/enf/b2ar_analysis/sparse-tICA_t5_n_components2all_residues_2rh1_3sn6_under_cutoff6A_regularization_wolf_autoShrinkage_rho0pt01/grids_n_clusters25_n_samples5_random/cluster2_sample4.mae$SCHRODINGER/run $SCHRODINGER/mmshare-v3.3/python/common/delete_atoms.py -asl \"res.pt BIA \" /home/enf/b2ar_analysis/sparse-tICA_t5_n_components2all_residues_2rh1_3sn6_under_cutoff6A_regularization_wolf_autoShrinkage_rho0pt01/clusterer_25clusters_5samples/cluster3_sample2.mae /home/enf/b2ar_analysis/sparse-tICA_t5_n_components2all_residues_2rh1_3sn6_under_cutoff6A_regularization_wolf_autoShrinkage_rho0pt01/grids_n_clusters25_n_samples5_random/cluster3_sample2.mae$SCHRODINGER/run $SCHRODINGER/mmshare-v3.3/python/common/delete_atoms.py -asl \"res.pt BIA \" /home/enf/b2ar_analysis/sparse-tICA_t5_n_components2all_residues_2rh1_3sn6_under_cutoff6A_regularization_wolf_autoShrinkage_rho0pt01/clusterer_25clusters_5samples/cluster4_sample0.mae /home/enf/b2ar_analysis/sparse-tICA_t5_n_components2all_residues_2rh1_3sn6_under_cutoff6A_regularization_wolf_autoShrinkage_rho0pt01/grids_n_clusters25_n_samples5_random/cluster4_sample0.mae$SCHRODINGER/run $SCHRODINGER/mmshare-v3.3/python/common/delete_atoms.py -asl \"res.pt BIA \" /home/enf/b2ar_analysis/sparse-tICA_t5_n_components2all_residues_2rh1_3sn6_under_cutoff6A_regularization_wolf_autoShrinkage_rho0pt01/clusterer_25clusters_5samples/cluster22_sample4.mae /home/enf/b2ar_analysis/sparse-tICA_t5_n_components2all_residues_2rh1_3sn6_under_cutoff6A_regularization_wolf_autoShrinkage_rho0pt01/grids_n_clusters25_n_samples5_random/cluster22_sample4.mae$SCHRODINGER/run $SCHRODINGER/mmshare-v3.3/python/common/delete_atoms.py -asl \"res.pt BIA \" /home/enf/b2ar_analysis/sparse-tICA_t5_n_components2all_residues_2rh1_3sn6_under_cutoff6A_regularization_wolf_autoShrinkage_rho0pt01/clusterer_25clusters_5samples/cluster24_sample3.mae /home/enf/b2ar_analysis/sparse-tICA_t5_n_components2all_residues_2rh1_3sn6_under_cutoff6A_regularization_wolf_autoShrinkage_rho0pt01/grids_n_clusters25_n_samples5_random/cluster24_sample3.mae$SCHRODINGER/run $SCHRODINGER/mmshare-v3.3/python/common/delete_atoms.py -asl \"res.pt BIA \" /home/enf/b2ar_analysis/sparse-tICA_t5_n_components2all_residues_2rh1_3sn6_under_cutoff6A_regularization_wolf_autoShrinkage_rho0pt01/clusterer_25clusters_5samples/cluster2_sample1.mae /home/enf/b2ar_analysis/sparse-tICA_t5_n_components2all_residues_2rh1_3sn6_under_cutoff6A_regularization_wolf_autoShrinkage_rho0pt01/grids_n_clusters25_n_samples5_random/cluster2_sample1.mae$SCHRODINGER/run $SCHRODINGER/mmshare-v3.3/python/common/delete_atoms.py -asl \"res.pt BIA \" /home/enf/b2ar_analysis/sparse-tICA_t5_n_components2all_residues_2rh1_3sn6_under_cutoff6A_regularization_wolf_autoShrinkage_rho0pt01/clusterer_25clusters_5samples/cluster5_sample4.mae /home/enf/b2ar_analysis/sparse-tICA_t5_n_components2all_residues_2rh1_3sn6_under_cutoff6A_regularization_wolf_autoShrinkage_rho0pt01/grids_n_clusters25_n_samples5_random/cluster5_sample4.mae$SCHRODINGER/run $SCHRODINGER/mmshare-v3.3/python/common/delete_atoms.py -asl \"res.pt BIA \" /home/enf/b2ar_analysis/sparse-tICA_t5_n_components2all_residues_2rh1_3sn6_under_cutoff6A_regularization_wolf_autoShrinkage_rho0pt01/clusterer_25clusters_5samples/cluster24_sample0.mae /home/enf/b2ar_analysis/sparse-tICA_t5_n_components2all_residues_2rh1_3sn6_under_cutoff6A_regularization_wolf_autoShrinkage_rho0pt01/grids_n_clusters25_n_samples5_random/cluster24_sample0.mae$SCHRODINGER/run $SCHRODINGER/mmshare-v3.3/python/common/delete_atoms.py -asl \"res.pt BIA \" /home/enf/b2ar_analysis/sparse-tICA_t5_n_components2all_residues_2rh1_3sn6_under_cutoff6A_regularization_wolf_autoShrinkage_rho0pt01/clusterer_25clusters_5samples/cluster5_sample1.mae /home/enf/b2ar_analysis/sparse-tICA_t5_n_components2all_residues_2rh1_3sn6_under_cutoff6A_regularization_wolf_autoShrinkage_rho0pt01/grids_n_clusters25_n_samples5_random/cluster5_sample1.mae\n",
      "\n",
      "\n",
      "\n",
      "\n",
      "\n",
      "\n",
      "\n",
      "\n",
      "\n",
      "\n",
      "\n",
      "$SCHRODINGER/run $SCHRODINGER/mmshare-v3.3/python/common/delete_atoms.py -asl \"res.pt BIA \" /home/enf/b2ar_analysis/sparse-tICA_t5_n_components2all_residues_2rh1_3sn6_under_cutoff6A_regularization_wolf_autoShrinkage_rho0pt01/clusterer_25clusters_5samples/cluster8_sample2.mae /home/enf/b2ar_analysis/sparse-tICA_t5_n_components2all_residues_2rh1_3sn6_under_cutoff6A_regularization_wolf_autoShrinkage_rho0pt01/grids_n_clusters25_n_samples5_random/cluster8_sample2.mae$SCHRODINGER/run $SCHRODINGER/mmshare-v3.3/python/common/delete_atoms.py -asl \"res.pt BIA \" /home/enf/b2ar_analysis/sparse-tICA_t5_n_components2all_residues_2rh1_3sn6_under_cutoff6A_regularization_wolf_autoShrinkage_rho0pt01/clusterer_25clusters_5samples/cluster9_sample3.mae /home/enf/b2ar_analysis/sparse-tICA_t5_n_components2all_residues_2rh1_3sn6_under_cutoff6A_regularization_wolf_autoShrinkage_rho0pt01/grids_n_clusters25_n_samples5_random/cluster9_sample3.mae$SCHRODINGER/run $SCHRODINGER/mmshare-v3.3/python/common/delete_atoms.py -asl \"res.pt BIA \" /home/enf/b2ar_analysis/sparse-tICA_t5_n_components2all_residues_2rh1_3sn6_under_cutoff6A_regularization_wolf_autoShrinkage_rho0pt01/clusterer_25clusters_5samples/cluster7_sample4.mae /home/enf/b2ar_analysis/sparse-tICA_t5_n_components2all_residues_2rh1_3sn6_under_cutoff6A_regularization_wolf_autoShrinkage_rho0pt01/grids_n_clusters25_n_samples5_random/cluster7_sample4.mae$SCHRODINGER/run $SCHRODINGER/mmshare-v3.3/python/common/delete_atoms.py -asl \"res.pt BIA \" /home/enf/b2ar_analysis/sparse-tICA_t5_n_components2all_residues_2rh1_3sn6_under_cutoff6A_regularization_wolf_autoShrinkage_rho0pt01/clusterer_25clusters_5samples/cluster6_sample3.mae /home/enf/b2ar_analysis/sparse-tICA_t5_n_components2all_residues_2rh1_3sn6_under_cutoff6A_regularization_wolf_autoShrinkage_rho0pt01/grids_n_clusters25_n_samples5_random/cluster6_sample3.mae$SCHRODINGER/run $SCHRODINGER/mmshare-v3.3/python/common/delete_atoms.py -asl \"res.pt BIA \" /home/enf/b2ar_analysis/sparse-tICA_t5_n_components2all_residues_2rh1_3sn6_under_cutoff6A_regularization_wolf_autoShrinkage_rho0pt01/clusterer_25clusters_5samples/cluster9_sample0.mae /home/enf/b2ar_analysis/sparse-tICA_t5_n_components2all_residues_2rh1_3sn6_under_cutoff6A_regularization_wolf_autoShrinkage_rho0pt01/grids_n_clusters25_n_samples5_random/cluster9_sample0.mae$SCHRODINGER/run $SCHRODINGER/mmshare-v3.3/python/common/delete_atoms.py -asl \"res.pt BIA \" /home/enf/b2ar_analysis/sparse-tICA_t5_n_components2all_residues_2rh1_3sn6_under_cutoff6A_regularization_wolf_autoShrinkage_rho0pt01/clusterer_25clusters_5samples/cluster7_sample1.mae /home/enf/b2ar_analysis/sparse-tICA_t5_n_components2all_residues_2rh1_3sn6_under_cutoff6A_regularization_wolf_autoShrinkage_rho0pt01/grids_n_clusters25_n_samples5_random/cluster7_sample1.mae\n",
      "\n",
      "\n",
      "\n",
      "\n",
      "\n",
      "$SCHRODINGER/run $SCHRODINGER/mmshare-v3.3/python/common/delete_atoms.py -asl \"res.pt BIA \" /home/enf/b2ar_analysis/sparse-tICA_t5_n_components2all_residues_2rh1_3sn6_under_cutoff6A_regularization_wolf_autoShrinkage_rho0pt01/clusterer_25clusters_5samples/cluster7_sample2.mae /home/enf/b2ar_analysis/sparse-tICA_t5_n_components2all_residues_2rh1_3sn6_under_cutoff6A_regularization_wolf_autoShrinkage_rho0pt01/grids_n_clusters25_n_samples5_random/cluster7_sample2.mae$SCHRODINGER/run $SCHRODINGER/mmshare-v3.3/python/common/delete_atoms.py -asl \"res.pt BIA \" /home/enf/b2ar_analysis/sparse-tICA_t5_n_components2all_residues_2rh1_3sn6_under_cutoff6A_regularization_wolf_autoShrinkage_rho0pt01/clusterer_25clusters_5samples/cluster9_sample1.mae /home/enf/b2ar_analysis/sparse-tICA_t5_n_components2all_residues_2rh1_3sn6_under_cutoff6A_regularization_wolf_autoShrinkage_rho0pt01/grids_n_clusters25_n_samples5_random/cluster9_sample1.mae$SCHRODINGER/run $SCHRODINGER/mmshare-v3.3/python/common/delete_atoms.py -asl \"res.pt BIA \" /home/enf/b2ar_analysis/sparse-tICA_t5_n_components2all_residues_2rh1_3sn6_under_cutoff6A_regularization_wolf_autoShrinkage_rho0pt01/clusterer_25clusters_5samples/cluster8_sample3.mae /home/enf/b2ar_analysis/sparse-tICA_t5_n_components2all_residues_2rh1_3sn6_under_cutoff6A_regularization_wolf_autoShrinkage_rho0pt01/grids_n_clusters25_n_samples5_random/cluster8_sample3.mae$SCHRODINGER/run $SCHRODINGER/mmshare-v3.3/python/common/delete_atoms.py -asl \"res.pt BIA \" /home/enf/b2ar_analysis/sparse-tICA_t5_n_components2all_residues_2rh1_3sn6_under_cutoff6A_regularization_wolf_autoShrinkage_rho0pt01/clusterer_25clusters_5samples/cluster9_sample4.mae /home/enf/b2ar_analysis/sparse-tICA_t5_n_components2all_residues_2rh1_3sn6_under_cutoff6A_regularization_wolf_autoShrinkage_rho0pt01/grids_n_clusters25_n_samples5_random/cluster9_sample4.mae$SCHRODINGER/run $SCHRODINGER/mmshare-v3.3/python/common/delete_atoms.py -asl \"res.pt BIA \" /home/enf/b2ar_analysis/sparse-tICA_t5_n_components2all_residues_2rh1_3sn6_under_cutoff6A_regularization_wolf_autoShrinkage_rho0pt01/clusterer_25clusters_5samples/cluster6_sample4.mae /home/enf/b2ar_analysis/sparse-tICA_t5_n_components2all_residues_2rh1_3sn6_under_cutoff6A_regularization_wolf_autoShrinkage_rho0pt01/grids_n_clusters25_n_samples5_random/cluster6_sample4.mae$SCHRODINGER/run $SCHRODINGER/mmshare-v3.3/python/common/delete_atoms.py -asl \"res.pt BIA \" /home/enf/b2ar_analysis/sparse-tICA_t5_n_components2all_residues_2rh1_3sn6_under_cutoff6A_regularization_wolf_autoShrinkage_rho0pt01/clusterer_25clusters_5samples/cluster8_sample0.mae /home/enf/b2ar_analysis/sparse-tICA_t5_n_components2all_residues_2rh1_3sn6_under_cutoff6A_regularization_wolf_autoShrinkage_rho0pt01/grids_n_clusters25_n_samples5_random/cluster8_sample0.mae\n",
      "\n",
      "\n",
      "\n",
      "\n",
      "\n",
      "$SCHRODINGER/run $SCHRODINGER/mmshare-v3.3/python/common/delete_atoms.py -asl \"res.pt BIA \" /home/enf/b2ar_analysis/sparse-tICA_t5_n_components2all_residues_2rh1_3sn6_under_cutoff6A_regularization_wolf_autoShrinkage_rho0pt01/clusterer_25clusters_5samples/cluster7_sample3.mae /home/enf/b2ar_analysis/sparse-tICA_t5_n_components2all_residues_2rh1_3sn6_under_cutoff6A_regularization_wolf_autoShrinkage_rho0pt01/grids_n_clusters25_n_samples5_random/cluster7_sample3.mae$SCHRODINGER/run $SCHRODINGER/mmshare-v3.3/python/common/delete_atoms.py -asl \"res.pt BIA \" /home/enf/b2ar_analysis/sparse-tICA_t5_n_components2all_residues_2rh1_3sn6_under_cutoff6A_regularization_wolf_autoShrinkage_rho0pt01/clusterer_25clusters_5samples/cluster9_sample2.mae /home/enf/b2ar_analysis/sparse-tICA_t5_n_components2all_residues_2rh1_3sn6_under_cutoff6A_regularization_wolf_autoShrinkage_rho0pt01/grids_n_clusters25_n_samples5_random/cluster9_sample2.mae$SCHRODINGER/run $SCHRODINGER/mmshare-v3.3/python/common/delete_atoms.py -asl \"res.pt BIA \" /home/enf/b2ar_analysis/sparse-tICA_t5_n_components2all_residues_2rh1_3sn6_under_cutoff6A_regularization_wolf_autoShrinkage_rho0pt01/clusterer_25clusters_5samples/cluster8_sample4.mae /home/enf/b2ar_analysis/sparse-tICA_t5_n_components2all_residues_2rh1_3sn6_under_cutoff6A_regularization_wolf_autoShrinkage_rho0pt01/grids_n_clusters25_n_samples5_random/cluster8_sample4.mae$SCHRODINGER/run $SCHRODINGER/mmshare-v3.3/python/common/delete_atoms.py -asl \"res.pt BIA \" /home/enf/b2ar_analysis/sparse-tICA_t5_n_components2all_residues_2rh1_3sn6_under_cutoff6A_regularization_wolf_autoShrinkage_rho0pt01/clusterer_25clusters_5samples/cluster7_sample0.mae /home/enf/b2ar_analysis/sparse-tICA_t5_n_components2all_residues_2rh1_3sn6_under_cutoff6A_regularization_wolf_autoShrinkage_rho0pt01/grids_n_clusters25_n_samples5_random/cluster7_sample0.mae$SCHRODINGER/run $SCHRODINGER/mmshare-v3.3/python/common/delete_atoms.py -asl \"res.pt BIA \" /home/enf/b2ar_analysis/sparse-tICA_t5_n_components2all_residues_2rh1_3sn6_under_cutoff6A_regularization_wolf_autoShrinkage_rho0pt01/clusterer_25clusters_5samples/cluster8_sample1.mae /home/enf/b2ar_analysis/sparse-tICA_t5_n_components2all_residues_2rh1_3sn6_under_cutoff6A_regularization_wolf_autoShrinkage_rho0pt01/grids_n_clusters25_n_samples5_random/cluster8_sample1.mae\n",
      "\n",
      "\n",
      "\n",
      "\n"
     ]
    }
   ],
   "source": [
    "import grids\n",
    "reload(grids)\n",
    "from grids import *\n",
    "\n",
    "grid_center = \"64.4, 16.9, 11.99\"\n",
    "\n",
    "\n",
    "indices = [0,25]\n",
    "chosen_receptors = []\n",
    "for i in range(indices[0], indices[1]):\n",
    "  for j in range(0, n_samples):\n",
    "    chosen_receptors.append(\"cluster%d_sample%d\" %(i, j))\n",
    "\n",
    "biased_ligands = get_ligands(biased_agonist_dir)\n",
    "print(\"biased_ligands\")\n",
    "print(biased_ligands)\n",
    "reimaged_dir = samples_dir\n",
    "mae_dir = reimaged_dir\n",
    "#remove_ter(reimaged_dir)\n",
    "#reorder(reimaged_dir)\n",
    "\n",
    "inverse_ligands = get_ligands(inverse_agonist_dir)\n",
    "agonist_ligands = get_ligands(agonist_dir)\n",
    "\n",
    "mehrdad_dir = \"%s/mehrdad_ligands\" %agonist_dir\n",
    "all_ligands_dir = \"/home/enf/b2ar_analysis/all_ligands\"\n",
    "\n",
    "\n",
    "#agonist_ligands = [a for a in agonist_ligands if \"TA\" not in a]\n",
    "\n",
    "#pprep(mae_dir, ref = active_ref_dir, chosen_receptors = chosen_receptors, worker_pool=None, parallel=True)\n",
    "generate_grids(mae_dir, grid_center, grid_dir, remove_lig = \"BIA\", chosen_receptors = chosen_receptors, worker_pool=None, outer_box=25.)\n",
    "dock_ligands_and_receptors(grid_dir, docking_dir, all_ligands_dir, precision = precision, ext = \"-out.maegz\", chosen_ligands = False, chosen_receptors = False, parallel = False, grid_ext = \".zip\", worker_pool=dview)\n",
    "\n",
    "#dock_ligands_and_receptors(grid_dir, docking_dir,  biased_agonist_dir, precision = precision, ext = \"-out.maegz\", chosen_ligands = biased_ligands, chosen_receptors = chosen_receptors, parallel = None, grid_ext = \".grd\", worker_pool=dview)\n",
    "#dock_ligands_and_receptors(grid_dir, docking_dir, agonist_dir, precision = precision, ext = \"-out.maegz\", chosen_ligands = agonist_ligands, chosen_receptors = chosen_receptors, parallel = None, grid_ext = \".grd\", worker_pool=dview)\n",
    "\n"
   ]
  },
  {
   "cell_type": "code",
   "execution_count": null,
   "metadata": {
    "collapsed": true
   },
   "outputs": [],
   "source": [
    "t = md.load(\"/home/enf/b2ar_analysis/subsampled_reimaged_amber/C-02.h5\")\n",
    "top = t.topology"
   ]
  },
  {
   "cell_type": "code",
   "execution_count": null,
   "metadata": {
    "collapsed": false
   },
   "outputs": [],
   "source": [
    "[(c.id, c.n_residues) for c in t.topology.chains]"
   ]
  },
  {
   "cell_type": "code",
   "execution_count": 27,
   "metadata": {
    "collapsed": false
   },
   "outputs": [
    {
     "name": "stdout",
     "output_type": "stream",
     "text": [
      "Analyzing docking results\n",
      "/home/enf/b2ar_analysis/sparse-tICA_t5_n_components2all_residues_2rh1_3sn6_under_cutoff6A_regularization_wolf_autoShrinkage_rho0pt01/docking_n_clusters25_n_samples5_random_XP\n",
      "[]\n",
      "/home/enf/b2ar_analysis/sparse-tICA_t5_n_components2all_residues_2rh1_3sn6_under_cutoff6A_regularization_wolf_autoShrinkage_rho0pt01/docking_n_clusters25_n_samples5_random_XP/olodaterol\n",
      "/home/enf/b2ar_analysis/sparse-tICA_t5_n_components2all_residues_2rh1_3sn6_under_cutoff6A_regularization_wolf_autoShrinkage_rho0pt01/docking_n_clusters25_n_samples5_random_XP/s-carvedilol\n",
      "/home/enf/b2ar_analysis/sparse-tICA_t5_n_components2all_residues_2rh1_3sn6_under_cutoff6A_regularization_wolf_autoShrinkage_rho0pt01/docking_n_clusters25_n_samples5_random_XP/s-carazolol\n",
      "/home/enf/b2ar_analysis/sparse-tICA_t5_n_components2all_residues_2rh1_3sn6_under_cutoff6A_regularization_wolf_autoShrinkage_rho0pt01/docking_n_clusters25_n_samples5_random_XP/pindolol\n",
      "/home/enf/b2ar_analysis/sparse-tICA_t5_n_components2all_residues_2rh1_3sn6_under_cutoff6A_regularization_wolf_autoShrinkage_rho0pt01/docking_n_clusters25_n_samples5_random_XP/ah3474\n",
      "/home/enf/b2ar_analysis/sparse-tICA_t5_n_components2all_residues_2rh1_3sn6_under_cutoff6A_regularization_wolf_autoShrinkage_rho0pt01/docking_n_clusters25_n_samples5_random_XP/nadolol\n",
      "/home/enf/b2ar_analysis/sparse-tICA_t5_n_components2all_residues_2rh1_3sn6_under_cutoff6A_regularization_wolf_autoShrinkage_rho0pt01/docking_n_clusters25_n_samples5_random_XP/ritrodine\n",
      "/home/enf/b2ar_analysis/sparse-tICA_t5_n_components2all_residues_2rh1_3sn6_under_cutoff6A_regularization_wolf_autoShrinkage_rho0pt01/docking_n_clusters25_n_samples5_random_XP/acebutolol\n",
      "/home/enf/b2ar_analysis/sparse-tICA_t5_n_components2all_residues_2rh1_3sn6_under_cutoff6A_regularization_wolf_autoShrinkage_rho0pt01/docking_n_clusters25_n_samples5_random_XP/Ici118551\n",
      "/home/enf/b2ar_analysis/sparse-tICA_t5_n_components2all_residues_2rh1_3sn6_under_cutoff6A_regularization_wolf_autoShrinkage_rho0pt01/docking_n_clusters25_n_samples5_random_XP/practolol\n",
      "/home/enf/b2ar_analysis/sparse-tICA_t5_n_components2all_residues_2rh1_3sn6_under_cutoff6A_regularization_wolf_autoShrinkage_rho0pt01/docking_n_clusters25_n_samples5_random_XP/norepinephrine\n",
      "/home/enf/b2ar_analysis/sparse-tICA_t5_n_components2all_residues_2rh1_3sn6_under_cutoff6A_regularization_wolf_autoShrinkage_rho0pt01/docking_n_clusters25_n_samples5_random_XP/s-atenolol\n",
      "/home/enf/b2ar_analysis/sparse-tICA_t5_n_components2all_residues_2rh1_3sn6_under_cutoff6A_regularization_wolf_autoShrinkage_rho0pt01/docking_n_clusters25_n_samples5_random_XP/formoterol\n",
      "/home/enf/b2ar_analysis/sparse-tICA_t5_n_components2all_residues_2rh1_3sn6_under_cutoff6A_regularization_wolf_autoShrinkage_rho0pt01/docking_n_clusters25_n_samples5_random_XP/MAPE\n",
      "/home/enf/b2ar_analysis/sparse-tICA_t5_n_components2all_residues_2rh1_3sn6_under_cutoff6A_regularization_wolf_autoShrinkage_rho0pt01/docking_n_clusters25_n_samples5_random_XP/fenoterol\n",
      "/home/enf/b2ar_analysis/sparse-tICA_t5_n_components2all_residues_2rh1_3sn6_under_cutoff6A_regularization_wolf_autoShrinkage_rho0pt01/docking_n_clusters25_n_samples5_random_XP/cicloprolol\n",
      "/home/enf/b2ar_analysis/sparse-tICA_t5_n_components2all_residues_2rh1_3sn6_under_cutoff6A_regularization_wolf_autoShrinkage_rho0pt01/docking_n_clusters25_n_samples5_random_XP/ZINC_results-single\n",
      "/home/enf/b2ar_analysis/sparse-tICA_t5_n_components2all_residues_2rh1_3sn6_under_cutoff6A_regularization_wolf_autoShrinkage_rho0pt01/docking_n_clusters25_n_samples5_random_XP/clenproperol\n",
      "/home/enf/b2ar_analysis/sparse-tICA_t5_n_components2all_residues_2rh1_3sn6_under_cutoff6A_regularization_wolf_autoShrinkage_rho0pt01/docking_n_clusters25_n_samples5_random_XP/r_epinephrine\n",
      "/home/enf/b2ar_analysis/sparse-tICA_t5_n_components2all_residues_2rh1_3sn6_under_cutoff6A_regularization_wolf_autoShrinkage_rho0pt01/docking_n_clusters25_n_samples5_random_XP/Ici215001\n",
      "/home/enf/b2ar_analysis/sparse-tICA_t5_n_components2all_residues_2rh1_3sn6_under_cutoff6A_regularization_wolf_autoShrinkage_rho0pt01/docking_n_clusters25_n_samples5_random_XP/Tulobuterol\n",
      "/home/enf/b2ar_analysis/sparse-tICA_t5_n_components2all_residues_2rh1_3sn6_under_cutoff6A_regularization_wolf_autoShrinkage_rho0pt01/docking_n_clusters25_n_samples5_random_XP/pronethalol\n",
      "/home/enf/b2ar_analysis/sparse-tICA_t5_n_components2all_residues_2rh1_3sn6_under_cutoff6A_regularization_wolf_autoShrinkage_rho0pt01/docking_n_clusters25_n_samples5_random_XP/du28663\n",
      "/home/enf/b2ar_analysis/sparse-tICA_t5_n_components2all_residues_2rh1_3sn6_under_cutoff6A_regularization_wolf_autoShrinkage_rho0pt01/docking_n_clusters25_n_samples5_random_XP/3p0g_lig\n",
      "/home/enf/b2ar_analysis/sparse-tICA_t5_n_components2all_residues_2rh1_3sn6_under_cutoff6A_regularization_wolf_autoShrinkage_rho0pt01/docking_n_clusters25_n_samples5_random_XP/sotalol\n",
      "/home/enf/b2ar_analysis/sparse-tICA_t5_n_components2all_residues_2rh1_3sn6_under_cutoff6A_regularization_wolf_autoShrinkage_rho0pt01/docking_n_clusters25_n_samples5_random_XP/timolol\n",
      "/home/enf/b2ar_analysis/sparse-tICA_t5_n_components2all_residues_2rh1_3sn6_under_cutoff6A_regularization_wolf_autoShrinkage_rho0pt01/docking_n_clusters25_n_samples5_random_XP/N-Cyclopentylbutanephrine\n",
      "/home/enf/b2ar_analysis/sparse-tICA_t5_n_components2all_residues_2rh1_3sn6_under_cutoff6A_regularization_wolf_autoShrinkage_rho0pt01/docking_n_clusters25_n_samples5_random_XP/metoprolol\n",
      "/home/enf/b2ar_analysis/sparse-tICA_t5_n_components2all_residues_2rh1_3sn6_under_cutoff6A_regularization_wolf_autoShrinkage_rho0pt01/docking_n_clusters25_n_samples5_random_XP/orciprenaline\n",
      "/home/enf/b2ar_analysis/sparse-tICA_t5_n_components2all_residues_2rh1_3sn6_under_cutoff6A_regularization_wolf_autoShrinkage_rho0pt01/docking_n_clusters25_n_samples5_random_XP/labetalol\n",
      "/home/enf/b2ar_analysis/sparse-tICA_t5_n_components2all_residues_2rh1_3sn6_under_cutoff6A_regularization_wolf_autoShrinkage_rho0pt01/docking_n_clusters25_n_samples5_random_XP/cimaterol\n",
      "/home/enf/b2ar_analysis/sparse-tICA_t5_n_components2all_residues_2rh1_3sn6_under_cutoff6A_regularization_wolf_autoShrinkage_rho0pt01/docking_n_clusters25_n_samples5_random_XP/terbutaline\n",
      "/home/enf/b2ar_analysis/sparse-tICA_t5_n_components2all_residues_2rh1_3sn6_under_cutoff6A_regularization_wolf_autoShrinkage_rho0pt01/docking_n_clusters25_n_samples5_random_XP/TERBSN\n",
      "/home/enf/b2ar_analysis/sparse-tICA_t5_n_components2all_residues_2rh1_3sn6_under_cutoff6A_regularization_wolf_autoShrinkage_rho0pt01/docking_n_clusters25_n_samples5_random_XP/sulfonterol\n",
      "/home/enf/b2ar_analysis/sparse-tICA_t5_n_components2all_residues_2rh1_3sn6_under_cutoff6A_regularization_wolf_autoShrinkage_rho0pt01/docking_n_clusters25_n_samples5_random_XP/procaterol\n",
      "/home/enf/b2ar_analysis/sparse-tICA_t5_n_components2all_residues_2rh1_3sn6_under_cutoff6A_regularization_wolf_autoShrinkage_rho0pt01/docking_n_clusters25_n_samples5_random_XP/ethylnorepinephrine\n",
      "/home/enf/b2ar_analysis/sparse-tICA_t5_n_components2all_residues_2rh1_3sn6_under_cutoff6A_regularization_wolf_autoShrinkage_rho0pt01/docking_n_clusters25_n_samples5_random_XP/salmeterol\n",
      "/home/enf/b2ar_analysis/sparse-tICA_t5_n_components2all_residues_2rh1_3sn6_under_cutoff6A_regularization_wolf_autoShrinkage_rho0pt01/docking_n_clusters25_n_samples5_random_XP/t-0509\n",
      "/home/enf/b2ar_analysis/sparse-tICA_t5_n_components2all_residues_2rh1_3sn6_under_cutoff6A_regularization_wolf_autoShrinkage_rho0pt01/docking_n_clusters25_n_samples5_random_XP/alprenalol\n",
      "/home/enf/b2ar_analysis/sparse-tICA_t5_n_components2all_residues_2rh1_3sn6_under_cutoff6A_regularization_wolf_autoShrinkage_rho0pt01/docking_n_clusters25_n_samples5_random_XP/s-carvedilol_prep\n",
      "/home/enf/b2ar_analysis/sparse-tICA_t5_n_components2all_residues_2rh1_3sn6_under_cutoff6A_regularization_wolf_autoShrinkage_rho0pt01/docking_n_clusters25_n_samples5_random_XP/propranolol\n",
      "/home/enf/b2ar_analysis/sparse-tICA_t5_n_components2all_residues_2rh1_3sn6_under_cutoff6A_regularization_wolf_autoShrinkage_rho0pt01/docking_n_clusters25_n_samples5_random_XP/skf42469\n",
      "/home/enf/b2ar_analysis/sparse-tICA_t5_n_components2all_residues_2rh1_3sn6_under_cutoff6A_regularization_wolf_autoShrinkage_rho0pt01/docking_n_clusters25_n_samples5_random_XP/skf56301\n",
      "/home/enf/b2ar_analysis/sparse-tICA_t5_n_components2all_residues_2rh1_3sn6_under_cutoff6A_regularization_wolf_autoShrinkage_rho0pt01/docking_n_clusters25_n_samples5_random_XP/hexoprenaline\n",
      "/home/enf/b2ar_analysis/sparse-tICA_t5_n_components2all_residues_2rh1_3sn6_under_cutoff6A_regularization_wolf_autoShrinkage_rho0pt01/docking_n_clusters25_n_samples5_random_XP/xamoterol\n",
      "/home/enf/b2ar_analysis/sparse-tICA_t5_n_components2all_residues_2rh1_3sn6_under_cutoff6A_regularization_wolf_autoShrinkage_rho0pt01/docking_n_clusters25_n_samples5_random_XP/ah3021\n",
      "/home/enf/b2ar_analysis/sparse-tICA_t5_n_components2all_residues_2rh1_3sn6_under_cutoff6A_regularization_wolf_autoShrinkage_rho0pt01/docking_n_clusters25_n_samples5_random_XP/isoetharine_prep\n",
      "/home/enf/b2ar_analysis/sparse-tICA_t5_n_components2all_residues_2rh1_3sn6_under_cutoff6A_regularization_wolf_autoShrinkage_rho0pt01/docking_n_clusters25_n_samples5_random_XP/bupranolol\n",
      "/home/enf/b2ar_analysis/sparse-tICA_t5_n_components2all_residues_2rh1_3sn6_under_cutoff6A_regularization_wolf_autoShrinkage_rho0pt01/docking_n_clusters25_n_samples5_random_XP/isopropylnorsynephrine\n",
      "/home/enf/b2ar_analysis/sparse-tICA_t5_n_components2all_residues_2rh1_3sn6_under_cutoff6A_regularization_wolf_autoShrinkage_rho0pt01/docking_n_clusters25_n_samples5_random_XP/Ici89406\n",
      "/home/enf/b2ar_analysis/sparse-tICA_t5_n_components2all_residues_2rh1_3sn6_under_cutoff6A_regularization_wolf_autoShrinkage_rho0pt01/docking_n_clusters25_n_samples5_random_XP/clenbuterol\n",
      "/home/enf/b2ar_analysis/sparse-tICA_t5_n_components2all_residues_2rh1_3sn6_under_cutoff6A_regularization_wolf_autoShrinkage_rho0pt01/docking_n_clusters25_n_samples5_random_XP/adrenalone\n",
      "/home/enf/b2ar_analysis/sparse-tICA_t5_n_components2all_residues_2rh1_3sn6_under_cutoff6A_regularization_wolf_autoShrinkage_rho0pt01/docking_n_clusters25_n_samples5_random_XP/ta-2005\n",
      "/home/enf/b2ar_analysis/sparse-tICA_t5_n_components2all_residues_2rh1_3sn6_under_cutoff6A_regularization_wolf_autoShrinkage_rho0pt01/docking_n_clusters25_n_samples5_random_XP/salbutamol\n",
      "/home/enf/b2ar_analysis/sparse-tICA_t5_n_components2all_residues_2rh1_3sn6_under_cutoff6A_regularization_wolf_autoShrinkage_rho0pt01/docking_n_clusters25_n_samples5_random_XP/nebivolol\n",
      "/home/enf/b2ar_analysis/sparse-tICA_t5_n_components2all_residues_2rh1_3sn6_under_cutoff6A_regularization_wolf_autoShrinkage_rho0pt01/docking_n_clusters25_n_samples5_random_XP/Structure2D_CID_3343\n",
      "/home/enf/b2ar_analysis/sparse-tICA_t5_n_components2all_residues_2rh1_3sn6_under_cutoff6A_regularization_wolf_autoShrinkage_rho0pt01/docking_n_clusters25_n_samples5_random_XP/dichloroisopreterenol\n",
      "/home/enf/b2ar_analysis/sparse-tICA_t5_n_components2all_residues_2rh1_3sn6_under_cutoff6A_regularization_wolf_autoShrinkage_rho0pt01/docking_n_clusters25_n_samples5_random_XP/cgp12177\n",
      "/home/enf/b2ar_analysis/sparse-tICA_t5_n_components2all_residues_2rh1_3sn6_under_cutoff6A_regularization_wolf_autoShrinkage_rho0pt01/docking_n_clusters25_n_samples5_random_XP/isoetharine\n",
      "/home/enf/b2ar_analysis/sparse-tICA_t5_n_components2all_residues_2rh1_3sn6_under_cutoff6A_regularization_wolf_autoShrinkage_rho0pt01/docking_n_clusters25_n_samples5_random_XP/bisoprolol\n",
      "/home/enf/b2ar_analysis/sparse-tICA_t5_n_components2all_residues_2rh1_3sn6_under_cutoff6A_regularization_wolf_autoShrinkage_rho0pt01/docking_n_clusters25_n_samples5_random_XP/dopamine\n",
      "/home/enf/b2ar_analysis/sparse-tICA_t5_n_components2all_residues_2rh1_3sn6_under_cutoff6A_regularization_wolf_autoShrinkage_rho0pt01/docking_n_clusters25_n_samples5_random_XP/du211117\n",
      "/home/enf/b2ar_analysis/sparse-tICA_t5_n_components2all_residues_2rh1_3sn6_under_cutoff6A_regularization_wolf_autoShrinkage_rho0pt01/docking_n_clusters25_n_samples5_random_XP/nipradilol\n",
      "/home/enf/b2ar_analysis/sparse-tICA_t5_n_components2all_residues_2rh1_3sn6_under_cutoff6A_regularization_wolf_autoShrinkage_rho0pt01/docking_n_clusters25_n_samples5_random_XP/r_isopreterenol\n",
      "/home/enf/b2ar_analysis/sparse-tICA_t5_n_components2all_residues_2rh1_3sn6_under_cutoff6A_regularization_wolf_autoShrinkage_rho0pt01/docking_n_clusters25_n_samples5_random_XP/bucindolol\n",
      "/home/enf/b2ar_analysis/sparse-tICA_t5_n_components2all_residues_2rh1_3sn6_under_cutoff6A_regularization_wolf_autoShrinkage_rho0pt01/docking_n_clusters25_n_samples5_random_XP/epinine\n",
      "/home/enf/b2ar_analysis/sparse-tICA_t5_n_components2all_residues_2rh1_3sn6_under_cutoff6A_regularization_wolf_autoShrinkage_rho0pt01/docking_n_clusters25_n_samples5_random_XP/bevantolol\n",
      "/home/enf/b2ar_analysis/sparse-tICA_t5_n_components2all_residues_2rh1_3sn6_under_cutoff6A_regularization_wolf_autoShrinkage_rho0pt01/docking_n_clusters25_n_samples5_random_XP/broxaterol\n",
      "/home/enf/b2ar_analysis/sparse-tICA_t5_n_components2all_residues_2rh1_3sn6_under_cutoff6A_regularization_wolf_autoShrinkage_rho0pt01/docking_n_clusters25_n_samples5_random_XP/zinterol\n",
      "/home/enf/b2ar_analysis/sparse-tICA_t5_n_components2all_residues_2rh1_3sn6_under_cutoff6A_regularization_wolf_autoShrinkage_rho0pt01/docking_n_clusters25_n_samples5_random_XP/dobutamine\n",
      "/home/enf/b2ar_analysis/sparse-tICA_t5_n_components2all_residues_2rh1_3sn6_under_cutoff6A_regularization_wolf_autoShrinkage_rho0pt01/docking_n_clusters25_n_samples5_random_XP/nor-metanephrine\n",
      "['olodaterol', 's-carvedilol', 's-carazolol', 'pindolol', 'ah3474', 'nadolol', 'ritrodine', 'acebutolol', 'Ici118551', 'practolol', 'norepinephrine', 's-atenolol', 'formoterol', 'MAPE', 'fenoterol', 'cicloprolol', 'ZINC_results-single', 'clenproperol', 'r_epinephrine', 'Ici215001', 'Tulobuterol', 'pronethalol', 'du28663', '3p0g_lig', 'sotalol', 'timolol', 'N-Cyclopentylbutanephrine', 'metoprolol', 'orciprenaline', 'labetalol', 'cimaterol', 'terbutaline', 'TERBSN', 'sulfonterol', 'procaterol', 'ethylnorepinephrine', 'salmeterol', 't-0509', 'alprenalol', 's-carvedilol_prep', 'propranolol', 'skf42469', 'skf56301', 'hexoprenaline', 'xamoterol', 'ah3021', 'isoetharine_prep', 'bupranolol', 'isopropylnorsynephrine', 'Ici89406', 'clenbuterol', 'adrenalone', 'ta-2005', 'salbutamol', 'nebivolol', 'Structure2D_CID_3343', 'dichloroisopreterenol', 'cgp12177', 'isoetharine', 'bisoprolol', 'dopamine', 'du211117', 'nipradilol', 'r_isopreterenol', 'bucindolol', 'epinine', 'bevantolol', 'broxaterol', 'zinterol', 'dobutamine', 'nor-metanephrine']\n",
      "currently analyzing olodaterol\n"
     ]
    },
    {
     "name": "stderr",
     "output_type": "stream",
     "text": [
      "/home/enf/software/anaconda/lib/python2.7/site-packages/matplotlib/__init__.py:1318: UserWarning:  This call to matplotlib.use() has no effect\n",
      "because the backend has already been chosen;\n",
      "matplotlib.use() must be called *before* pylab, matplotlib.pyplot,\n",
      "or matplotlib.backends is imported for the first time.\n",
      "\n",
      "  warnings.warn(_use_error_msg)\n"
     ]
    },
    {
     "name": "stdout",
     "output_type": "stream",
     "text": [
      "currently analyzing s-carvedilol\n",
      "currently analyzing s-carazolol\n",
      "currently analyzing pindolol\n",
      "currently analyzing ah3474\n",
      "currently analyzing nadolol\n",
      "currently analyzing ritrodine\n",
      "currently analyzing acebutolol\n",
      "currently analyzing Ici118551\n",
      "currently analyzing practolol\n",
      "currently analyzing norepinephrine\n",
      "currently analyzing s-atenolol\n",
      "currently analyzing formoterol\n",
      "currently analyzing MAPE\n",
      "currently analyzing fenoterol\n",
      "currently analyzing cicloprolol\n",
      "currently analyzing ZINC_results-single\n",
      "currently analyzing clenproperol\n",
      "currently analyzing r_epinephrine\n",
      "currently analyzing Ici215001\n",
      "currently analyzing Tulobuterol\n",
      "currently analyzing pronethalol\n",
      "currently analyzing du28663\n",
      "currently analyzing 3p0g_lig\n",
      "currently analyzing sotalol\n",
      "currently analyzing timolol\n",
      "currently analyzing N-Cyclopentylbutanephrine\n",
      "currently analyzing metoprolol\n",
      "currently analyzing orciprenaline\n",
      "currently analyzing labetalol\n",
      "currently analyzing cimaterol\n",
      "currently analyzing terbutaline\n",
      "currently analyzing TERBSN\n",
      "currently analyzing sulfonterol\n",
      "currently analyzing procaterol\n",
      "currently analyzing ethylnorepinephrine\n",
      "currently analyzing salmeterol\n",
      "currently analyzing t-0509\n",
      "currently analyzing alprenalol\n",
      "currently analyzing s-carvedilol_prep\n",
      "currently analyzing propranolol\n",
      "currently analyzing skf42469\n",
      "currently analyzing skf56301\n",
      "currently analyzing hexoprenaline\n",
      "currently analyzing xamoterol\n",
      "currently analyzing ah3021\n",
      "currently analyzing isoetharine_prep\n",
      "currently analyzing bupranolol\n",
      "currently analyzing isopropylnorsynephrine\n",
      "currently analyzing Ici89406\n",
      "currently analyzing clenbuterol\n",
      "currently analyzing adrenalone\n",
      "currently analyzing ta-2005\n",
      "currently analyzing salbutamol\n",
      "currently analyzing nebivolol\n",
      "currently analyzing Structure2D_CID_3343\n",
      "currently analyzing dichloroisopreterenol\n",
      "currently analyzing cgp12177\n",
      "currently analyzing isoetharine\n",
      "currently analyzing bisoprolol\n",
      "currently analyzing dopamine\n",
      "currently analyzing du211117\n",
      "currently analyzing nipradilol\n",
      "currently analyzing r_isopreterenol\n",
      "currently analyzing bucindolol\n",
      "currently analyzing epinine\n",
      "currently analyzing bevantolol\n",
      "currently analyzing broxaterol\n",
      "currently analyzing zinterol\n",
      "currently analyzing dobutamine\n",
      "currently analyzing nor-metanephrine\n"
     ]
    }
   ],
   "source": [
    "import analysis\n",
    "reload(analysis)\n",
    "from analysis import *\n",
    "\n",
    "docking_results = analyze_docking_results_multiple(docking_dir, precision = \"XP\", ligands = get_trajectory_files(all_ligands_dir), summary = docking_multiple_ligands, redo = True)\n",
    "c = compute_cluster_averages(None, csv_filename=docking_multiple_ligands, save_csv=aggregate_docking)\n",
    "\n",
    "#compute_aggregate_scores(docking_multiple_ligands, inverse_agonists = inverse_ligands, summary = aggregate_docking, z_scores_csv = docking_z_scores_csv)\n",
    "#aggregate_docking_joined_map = convert_csv_to_joined_map(aggregate_docking, aggregate_docking_joined)[0]\n",
    "#aggregate_docking_means = calc_mean(aggregate_docking_joined_map)\n",
    "#write_map_to_csv(aggregate_docking_joined, aggregate_docking_means, [\"cluster\", \"mean_aggregate_docking_z_score\"])\n",
    "#r['do.analysis'](tica_dir, analysis_dir, pnas_coords_csv, tica_coords_csv, features_dir, docking_multiple_ligands)\n",
    "#tics_vs_docking_file = \"%s/tICA_vs_docking.pdf\" % analysis_dir\n",
    "#plot_tICs_vs_docking(docking_multiple_ligands, tica_coords_csv, tics_vs_docking_file, chosen_ligand=\"s-carvedilol\")\n"
   ]
  },
  {
   "cell_type": "code",
   "execution_count": null,
   "metadata": {
    "collapsed": false
   },
   "outputs": [],
   "source": [
    "lag_time = 25\n",
    "msm_model_dir = \"%s/msm_lag_time%d.h5\" % (tica_dir, lag_time)\n",
    "build_msm(clusterer_dir, lag_time=lag_time, msm_model_dir=msm_model_dir)\n"
   ]
  },
  {
   "cell_type": "code",
   "execution_count": null,
   "metadata": {
    "collapsed": false
   },
   "outputs": [],
   "source": [
    "n_clusters = 100\n",
    "n_samples=5\n",
    "\n",
    "clusterer_tICs_1_2_3_filename = \"%s/clusterer_tICs_1_2_3_%dclusters_%dsamples.h5\" %(tica_dir, n_clusters, n_samples)\n",
    "clusterer_tICs_1_2_3_map_file = \"%s/clusterer_tICs_1_2_3_%dclusters_%dsamples_map.json\" %(tica_dir, n_clusters, n_samples)\n",
    "tics_to_cluster = [0, 1, 2]\n",
    "\n",
    "projected_features_tICs_1_2_3_filename = \"%s/projected_features_tICs_1_2_3.h5\" %tica_dir\n",
    "projected_features = verboseload(projected_features_dir)\n",
    "projected_features = [f[:, [0, 1, 2]] for f in projected_features]\n",
    "verbosedump(projected_features, projected_features_tICs_1_2_3_filename)\n",
    "\n",
    "cluster_minikmeans(tica_dir, projected_features_dir, traj_dir, n_clusters=n_clusters, clusterer_dir=clusterer_tICs_1_2_3_filename, tICs=tics_to_cluster)\n",
    "clusterer_tICs_1_2_3 = verboseload(clusterer_tICs_1_2_3_filename)\n",
    "clusterer_tICs_1_2_3_map = make_clusters_map(clusterer_tICs_1_2_3)\n",
    "samples_dir = \"%s/clusterer_tICs_1_2_3_%dclusters_%dsamples_samples\" %(tica_dir, n_clusters, n_samples)\n",
    "if not os.path.exists(samples_dir): os.makedirs(samples_dir)\n"
   ]
  },
  {
   "cell_type": "code",
   "execution_count": 68,
   "metadata": {
    "collapsed": true
   },
   "outputs": [],
   "source": [
    "samples_dir = \"/home/enf/b2ar_analysis/reference_receptors\"\n",
    "grid_dir = \"/home/enf/b2ar_analysis/reference_grids\"\n",
    "docking_dir = \"/home/enf/b2ar_analysis/reference_docking/docking_XP\""
   ]
  },
  {
   "cell_type": "code",
   "execution_count": null,
   "metadata": {
    "collapsed": false
   },
   "outputs": [],
   "source": [
    "import custom_clusterer\n",
    "reload(custom_clusterer)\n",
    "from custom_clusterer import *\n",
    "\n",
    "import custom_msm\n",
    "reload(custom_msm)\n",
    "from custom_msm import *\n",
    "\n",
    "samples_dir = \"%s/clusterer_tICs_1_2_3_%dclusters_%dsamples_samples_kdtree\" %(tica_dir, n_clusters, n_samples)\n",
    "samples_indices_file = \"%s/clusterer_tICs_1_2_3_%dclusters_%dsamples_samples_kdtree_indices.h5\" %(tica_dir, n_clusters, n_samples)\n",
    "if not os.path.exists(samples_dir): os.makedirs(samples_dir)\n",
    "\n",
    "#sample_from_clusterer(clusterer_tICs_1_2_3_filename, projected_features_tICs_1_2_3_filename, get_trajectory_files(traj_dir, traj_ext), \n",
    "#                      n_samples, samples_dir, samples_indices_file,\n",
    "#                      worker_pool=None, parallel=False)\n"
   ]
  },
  {
   "cell_type": "code",
   "execution_count": null,
   "metadata": {
    "collapsed": false
   },
   "outputs": [],
   "source": [
    "clusterer_tICs_1_2_3_samples = {}\n",
    "with open(clusters_map_file) as f:\n",
    "    clusterer_samples = json.load(f)\n",
    "    clusterer_samples = {int(k):[tuple(vi[0:2]) for vi in v] for k,v in list(clusterer_samples.items())}\n",
    "#print(clusterer_samples)\n",
    "original_samples = set()\n",
    "for key, sample_list in clusterer_samples.iteritems():\n",
    "    for sample in sample_list:\n",
    "        original_samples.add(sample)\n",
    "#print(original_samples)\n",
    "for cluster_id, sample_list in clusterer_tICs_1_2_3_map.iteritems():\n",
    "    if cluster_id not in clusterer_tICs_1_2_3_samples.keys():\n",
    "        clusterer_tICs_1_2_3_samples[cluster_id] = []\n",
    "    for sample in sample_list:\n",
    "        if sample in original_samples:\n",
    "            clusterer_tICs_1_2_3_samples[cluster_id].append(sample)"
   ]
  },
  {
   "cell_type": "code",
   "execution_count": null,
   "metadata": {
    "collapsed": false,
    "scrolled": true
   },
   "outputs": [],
   "source": [
    "grid_center = \"64.4, 16.9, 11.99\"\n",
    "\n",
    "indices = [0,n_clusters]\n",
    "chosen_receptors = []\n",
    "for i in range(indices[0], indices[1]):\n",
    "  for j in range(0, n_samples):\n",
    "    chosen_receptors.append(\"cluster%d_sample%d\" %(i, j))\n",
    "#print(chosen_receptors)\n",
    "biased_ligands = get_ligands(biased_agonist_dir)\n",
    "#print(\"biased_ligands\")\n",
    "#print(biased_ligands)\n",
    "reimaged_dir = samples_dir\n",
    "mae_dir = reimaged_dir\n",
    "#remove_ter(reimaged_dir)\n",
    "#reorder(reimaged_dir)\n",
    "\n",
    "mehrdad_dir = \"%s/mehrdad_ligands\" %agonist_dir\n",
    "\n",
    "\n",
    "grid_dir =  \"%s/clusterer_tICs_1_2_3_%dclusters_%dsamples_kdtree_grids\" %(tica_dir, n_clusters, n_samples)\n",
    "docking_dir =  \"%s/clusterer_tICs_1_2_3_%dclusters_%dsamples_kdtree_docking\" %(tica_dir, n_clusters, n_samples)\n",
    "\n",
    "#prepare_ligands(inverse_agonist_dir, [\".sdf\"])\n",
    "#prepare_ligands(agonist_dir, [\".sdf\"])\n",
    "\n",
    "agonist_ligands = get_ligands(agonist_dir)\n",
    "inverse_ligands = get_ligands(inverse_agonist_dir)\n",
    "\n",
    "\n",
    "#print(mehrdad_dir)\n",
    "mehrdad_ligands = get_ligands(mehrdad_dir)\n",
    "#print(\"Mehrdad ligands:\")\n",
    "#print(mehrdad_ligands)\n",
    "\n",
    "#pprep(mae_dir, ref = active_ref_dir, chosen_receptors = chosen_receptors, worker_pool=None, parallel=True)\n",
    "#generate_grids(mae_dir, grid_center, grid_dir, remove_lig = \"BIA\", chosen_receptors = chosen_receptors, worker_pool=dview)\n",
    "#unzip_receptors(grid_dir, chosen_receptors, worker_pool=dview)\n",
    "\n",
    "dock_ligands_and_receptors(grid_dir, docking_dir, agonist_dir, precision = precision, ext = \"-out.maegz\", chosen_ligands = agonist_ligands, chosen_receptors = chosen_receptors, parallel = None, grid_ext = \".grd\", worker_pool=dview)\n",
    "dock_ligands_and_receptors(grid_dir, docking_dir,  biased_agonist_dir, precision = precision, ext = \"-out.maegz\", chosen_ligands = biased_ligands, chosen_receptors = chosen_receptors, parallel = None, grid_ext = \".grd\", worker_pool=dview)\n",
    "\n",
    "\n",
    "\n",
    "#agonist_ligands = [a for a in get_ligands(agonist_dir) if \"ta\" not in a and \"TA\" not in a]\n",
    "#dock_ligands_and_receptors(grid_dir, docking_dir, agonist_dir, precision = precision, ext = \"-out.maegz\", chosen_ligands = agonist_ligands, chosen_receptors = chosen_receptors, parallel = None, grid_ext = \".grd\", worker_pool=dview)\n",
    "dock_ligands_and_receptors(grid_dir, docking_dir, mehrdad_dir, precision = precision, ext = \"-out.maegz\", chosen_ligands = False, chosen_receptors = chosen_receptors, parallel = None, grid_ext = \".grd\", worker_pool=dview)\n",
    "dock_ligands_and_receptors(grid_dir, docking_dir, inverse_agonist_dir, precision = precision, ext = \"-out.maegz\", chosen_ligands = inverse_ligands, chosen_receptors = chosen_receptors, parallel = None, grid_ext = \".grd\", worker_pool=dview)\n",
    "\n",
    "\n",
    "\n",
    "\n",
    "\n",
    "\n"
   ]
  },
  {
   "cell_type": "code",
   "execution_count": null,
   "metadata": {
    "collapsed": false
   },
   "outputs": [],
   "source": [
    "grid_center = \"64.4, 16.9, 11.99\"\n",
    "\n",
    "indices = [0,n_clusters]\n",
    "chosen_receptors = []\n",
    "for i in range(indices[0], indices[1]):\n",
    "  for j in range(0, n_samples):\n",
    "    chosen_receptors.append(\"cluster%d_sample%d\" %(i, j))\n",
    "#print(chosen_receptors)\n",
    "biased_ligands = get_ligands(biased_agonist_dir)\n",
    "#print(\"biased_ligands\")\n",
    "#print(biased_ligands)\n",
    "reimaged_dir = samples_dir\n",
    "mae_dir = reimaged_dir\n",
    "#remove_ter(reimaged_dir)\n",
    "#reorder(reimaged_dir)\n",
    "\n",
    "mehrdad_dir = \"%s/mehrdad_ligands\" %agonist_dir\n",
    "\n",
    "\n",
    "#grid_dir =  \"%s/clusterer_tICs_1_2_3_%dclusters_%dsamples_kdtree_grids\" %(tica_dir, n_clusters, n_samples)\n",
    "#docking_dir =  \"%s/clusterer_tICs_1_2_3_%dclusters_%dsamples_kdtree_docking\" %(tica_dir, n_clusters, n_samples)\n",
    "\n",
    "#prepare_ligands(inverse_agonist_dir, [\".sdf\"])\n",
    "#prepare_ligands(agonist_dir, [\".sdf\"])\n",
    "\n",
    "agonist_ligands = get_ligands(agonist_dir)\n",
    "inverse_ligands = get_ligands(inverse_agonist_dir)\n",
    "\n",
    "\n",
    "#print(mehrdad_dir)\n",
    "mehrdad_ligands = get_ligands(mehrdad_dir)\n",
    "#print(\"Mehrdad ligands:\")\n",
    "#print(mehrdad_ligands)\n",
    "\n",
    "#pprep(mae_dir, ref = active_ref_dir, chosen_receptors = chosen_receptors, worker_pool=None, parallel=True)\n",
    "#generate_grids(mae_dir, grid_center, grid_dir, remove_lig = \"BIA\", chosen_receptors = chosen_receptors, worker_pool=dview)\n",
    "#unzip_receptors(grid_dir, chosen_receptors, worker_pool=dview)\n",
    "\n",
    "dock_ligands_and_receptors(grid_dir, docking_dir, mehrdad_dir, precision = precision, ext = \"-out.maegz\", chosen_ligands = mehrdad_ligands, chosen_receptors = False, parallel = \"ligand\", grid_ext = \".zip\", worker_pool=None)\n",
    "\n",
    "\n",
    "dock_ligands_and_receptors(grid_dir, docking_dir, agonist_dir, precision = precision, ext = \"-out.maegz\", chosen_ligands = agonist_ligands, chosen_receptors = False, parallel = \"ligand\", grid_ext = \".zip\", worker_pool=None)\n",
    "dock_ligands_and_receptors(grid_dir, docking_dir, biased_agonist_dir, precision = precision, ext = \"-out.maegz\", chosen_ligands = biased_ligands, chosen_receptors = False, parallel = \"ligand\", grid_ext = \".zip\", worker_pool=None)\n",
    "\n",
    "\n",
    "\n",
    "\n",
    "#agonist_ligands = [a for a in get_ligands(agonist_dir) if \"ta\" not in a and \"TA\" not in a]\n",
    "#dock_ligands_and_receptors(grid_dir, docking_dir, agonist_dir, precision = precision, ext = \"-out.maegz\", chosen_ligands = agonist_ligands, chosen_receptors = chosen_receptors, parallel = None, grid_ext = \".grd\", worker_pool=dview)\n",
    "#dock_ligands_and_receptors(grid_dir, docking_dir, agonist_dir, precision = precision, ext = \"-out.maegz\", chosen_ligands = agonist_ligands, chosen_receptors = False, parallel = \"ligand\", grid_ext = \".zip\", worker_pool=None)\n",
    "\n",
    "dock_ligands_and_receptors(grid_dir, docking_dir, inverse_agonist_dir, precision = precision, ext = \"-out.maegz\", chosen_ligands = inverse_ligands, chosen_receptors = False, parallel = \"ligand\", grid_ext = \".zip\", worker_pool=None)\n",
    "\n",
    "\n",
    "\n",
    "\n",
    "\n",
    "\n",
    "\n",
    "\n"
   ]
  },
  {
   "cell_type": "code",
   "execution_count": null,
   "metadata": {
    "collapsed": false
   },
   "outputs": [],
   "source": [
    "docking_multiple_ligands = \"%s/all_docking_scores.csv\" % docking_dir\n",
    "aggregate_docking = \"%s/aggregate_docking.csv\" % docking_dir\n",
    "\n",
    "analyze_docking_results_multiple(docking_dir, precision = \"SP\", ligands = biased_ligands + agonist_ligands, summary = docking_multiple_ligands, redo = True)\n",
    "compute_cluster_averages(None, csv_filename=docking_multiple_ligands, save_csv=aggregate_docking)\n"
   ]
  },
  {
   "cell_type": "code",
   "execution_count": null,
   "metadata": {
    "collapsed": false
   },
   "outputs": [],
   "source": [
    "df_agg = pd.read_csv(aggregate_docking)\n",
    "aggs = df_agg.sort([' nebivolol'], ascending=[0])\n",
    "aggs.iloc[0:10]\n",
    "ranked = aggs.rank(axis=0, method='average', ascending=False)"
   ]
  },
  {
   "cell_type": "code",
   "execution_count": null,
   "metadata": {
    "collapsed": false
   },
   "outputs": [],
   "source": [
    "ranked.iloc[0:10]"
   ]
  },
  {
   "cell_type": "code",
   "execution_count": null,
   "metadata": {
    "collapsed": false
   },
   "outputs": [],
   "source": [
    "dock_ligands_and_receptors(grid_dir, docking_dir, inverse_agonist_dir, precision = precision, ext = \"-out.maegz\", chosen_ligands = inverse_ligands, chosen_receptors = chosen_receptors, parallel = None, grid_ext = \".grd\", worker_pool=dview)"
   ]
  },
  {
   "cell_type": "code",
   "execution_count": null,
   "metadata": {
    "collapsed": false
   },
   "outputs": [],
   "source": [
    "n_clusters = 500\n",
    "n_samples=10\n",
    "\n",
    "clusterer_tICs_1_2_3_4_filename = \"%s/clusterer_tICs_1_2_3_4_%dclusters_%dsamples.h5\" %(tica_dir, n_clusters, n_samples)\n",
    "clusterer_tICs_1_2_3_4_map_file = \"%s/clusterer_tICs_1_2_3_4_%dclusters_%dsamples_map.json\" %(tica_dir, n_clusters, n_samples)\n",
    "tics_to_cluster = [0, 1, 2, 3]\n",
    "\n",
    "\n",
    "cluster_minikmeans(tica_dir, projected_features_dir, traj_dir, n_clusters=n_clusters, clusterer_dir=clusterer_tICs_1_2_3_4_filename, tICs=tics_to_cluster)\n",
    "clusterer_tICs_1_2_3_4 = verboseload(clusterer_tICs_1_2_3_4_filename)\n",
    "clusterer_tICs_1_2_3_4_map = make_clusters_map(clusterer_tICs_1_2_3_4)\n",
    "samples_dir = \"%s/clusterer_tICs_1_2_3_4_%dclusters_%dsamples_samples\" %(tica_dir, n_clusters, n_samples)\n",
    "if not os.path.exists(samples_dir): os.makedirs(samples_dir)\n",
    "#sample_clusters(clusterer_tICs_1_2_3_4_filename, projected_features_dir, traj_dir, traj_ext, save_dir=samples_dir, n_samples=n_samples, method = sampling_method, clusters_map_file = clusterer_tICs_1_2_3_4_map_file, tICs=[0, 1, 2, 3], worker_pool=dview)\n",
    "\n"
   ]
  },
  {
   "cell_type": "code",
   "execution_count": null,
   "metadata": {
    "collapsed": false
   },
   "outputs": [],
   "source": [
    "grid_center = \"64.4, 16.9, 11.99\"\n",
    "\n",
    "indices = [0,n_clusters]\n",
    "chosen_receptors = []\n",
    "for i in range(indices[0], indices[1]):\n",
    "  for j in range(0, n_samples):\n",
    "    chosen_receptors.append(\"cluster%d_sample%d\" %(i, j))\n",
    "\n",
    "biased_ligands = get_ligands(biased_agonist_dir)\n",
    "print(\"biased_ligands\")\n",
    "print(biased_ligands)\n",
    "reimaged_dir = samples_dir\n",
    "mae_dir = reimaged_dir\n",
    "#remove_ter(reimaged_dir)\n",
    "#reorder(reimaged_dir)\n",
    "\n",
    "inverse_ligands = get_ligands(inverse_agonist_dir)\n",
    "agonist_ligands = get_ligands(agonist_dir)\n",
    "mehrdad_dir = \"%s/mehrdad_ligands\" %agonist_dir\n",
    "\n",
    "agonist_ligands = [a for a in agonist_ligands]\n",
    "\n",
    "grid_dir =  \"%s/clusterer_tICs_1_2_3_4_%dclusters_%dsamples_grids\" %(tica_dir, n_clusters, n_samples)\n",
    "docking_dir =  \"%s/clusterer_tICs_1_2_3_4_%dclusters_%dsamples_docking\" %(tica_dir, n_clusters, n_samples)\n",
    "\n",
    "#prepare_ligands(mehrdad_dir, [\".mol\"])\n",
    "#prepare_ligands(agonist_dir, [\".sdf\"])\n",
    "print(mehrdad_dir)\n",
    "mehrdad_ligands = get_ligands(mehrdad_dir)\n",
    "print(\"Mehrdad ligands:\")\n",
    "print(mehrdad_ligands)\n",
    "\n",
    "#pprep(mae_dir, ref = active_ref_dir, chosen_receptors = chosen_receptors, worker_pool=dview)\n",
    "#generate_grids(mae_dir, grid_center, grid_dir, remove_lig = \"BIA\", chosen_receptors = chosen_receptors, worker_pool=dview)\n",
    "#unzip_receptors(grid_dir, chosen_receptors, worker_pool=dview)\n",
    "\n",
    "dock_ligands_and_receptors(grid_dir, docking_dir,  biased_agonist_dir, precision = precision, ext = \"-out.maegz\", chosen_ligands = biased_ligands, chosen_receptors = chosen_receptors, parallel = None, grid_ext = \".grd\", worker_pool=dview)\n",
    "dock_ligands_and_receptors(grid_dir, docking_dir, agonist_dir, precision = precision, ext = \"-out.maegz\", chosen_ligands = agonist_ligands, chosen_receptors = chosen_receptors, parallel = None, grid_ext = \".grd\", worker_pool=dview)\n",
    "\n",
    "#dock_ligands_and_receptors(grid_dir, docking_dir, agonist_dir, precision = precision, ext = \"-out.maegz\", chosen_ligands = agonist_ligands, chosen_receptors = chosen_receptors, parallel = None, grid_ext = \".grd\", worker_pool=dview)\n",
    "\n",
    "agonist_ligands = [a for a in get_ligands(agonist_dir) if \"ta\" not in a and \"TA\" not in a]\n",
    "#dock_ligands_and_receptors(grid_dir, docking_dir, agonist_dir, precision = precision, ext = \"-out.maegz\", chosen_ligands = agonist_ligands, chosen_receptors = chosen_receptors, parallel = None, grid_ext = \".grd\", worker_pool=dview)\n",
    "#inverse_ligands = [lig for lig in inverse_ligands if \"carazolol\" in lig]\n",
    "dock_ligands_and_receptors(grid_dir, docking_dir,  inverse_agonist_dir, precision = precision, ext = \"-out.maegz\", chosen_ligands = inverse_ligands, chosen_receptors = chosen_receptors, parallel = None, grid_ext = \".grd\", worker_pool=dview)\n",
    "dock_ligands_and_receptors(grid_dir, docking_dir, mehrdad_dir, precision = precision, ext = \"-out.maegz\", chosen_ligands = False, chosen_receptors = chosen_receptors, parallel = None, grid_ext = \".grd\", worker_pool=dview)\n",
    "\n",
    "\n",
    "\n",
    "\n",
    "\n"
   ]
  },
  {
   "cell_type": "code",
   "execution_count": null,
   "metadata": {
    "collapsed": true
   },
   "outputs": [],
   "source": [
    "#### n_clusters = 25\n",
    "n_samples=100\n",
    "\"\"\"\n",
    "clusterer_tICs_1_2_filename = \"%s/clusterer_tICs_1_2_%dclusters_%dsamples.h5\" %(tica_dir, n_clusters, n_samples)\n",
    "clusterer_tICs_1_2_map_file = \"%s/clusterer_tICs_1_2_%dclusters_%dsamples_map.json\" %(tica_dir, n_clusters, n_samples)\n",
    "tics_to_cluster = [0, 1]\n",
    "\n",
    "\n",
    "cluster_minikmeans(tica_dir, projected_features_dir, traj_dir, n_clusters=n_clusters, clusterer_dir=clusterer_tICs_1_2_filename, tICs=tics_to_cluster)\n",
    "clusterer_tICs_1_2 = verboseload(clusterer_tICs_1_2_filename)\n",
    "clusterer_tICs_1_2_map = make_clusters_map(clusterer_tICs_1_2)\n",
    "samples_dir = \"%s/clusterer_tICs_1_2_%dclusters_%dsamples_samples\" %(tica_dir, n_clusters, n_samples)\n",
    "if not os.path.exists(samples_dir): os.makedirs(samples_dir)\n",
    "\"\"\"\n",
    "import custom_clusterer\n",
    "reload(custom_clusterer)\n",
    "from custom_clusterer import *\n",
    "sample_clusters(clusterer_tICs_1_2_filename, projected_features_dir, traj_dir, traj_ext, save_dir=samples_dir, n_samples=n_samples, method = sampling_method, clusters_map_file = clusterer_tICs_1_2_map_file, tICs=[0, 1], worker_pool=None)\n",
    "\n"
   ]
  },
  {
   "cell_type": "code",
   "execution_count": null,
   "metadata": {
    "collapsed": false
   },
   "outputs": [],
   "source": [
    "len(rc.ids)"
   ]
  },
  {
   "cell_type": "code",
   "execution_count": null,
   "metadata": {
    "collapsed": false
   },
   "outputs": [],
   "source": [
    "indices = [0,n_clusters]\n",
    "chosen_receptors = []\n",
    "for i in range(indices[0], indices[1]):\n",
    "  for j in range(0, n_samples):\n",
    "    chosen_receptors.append(\"cluster%d_sample%d\" %(i, j))\n",
    "\n",
    "biased_ligands = get_ligands(biased_agonist_dir)\n",
    "print(\"biased_ligands\")\n",
    "print(biased_ligands)\n",
    "reimaged_dir = samples_dir\n",
    "mae_dir = reimaged_dir\n",
    "remove_ter(reimaged_dir)\n",
    "reorder(reimaged_dir)\n",
    "\n",
    "inverse_ligands = get_ligands(inverse_agonist_dir)\n",
    "agonist_ligands = get_ligands(agonist_dir)\n",
    "\n",
    "agonist_ligands = [a for a in agonist_ligands if \"TA\" not in a and \"ta\" not in a]\n",
    "print(agonist_ligands)\n",
    "\n",
    "grid_dir =  \"%s/clusterer_tICs_1_2_%dclusters_%dsamples_grids\" %(tica_dir, n_clusters, n_samples)\n",
    "docking_dir =  \"%s/clusterer_tICs_1_2_%dclusters_%dsamples_docking\" %(tica_dir, n_clusters, n_samples)\n",
    "\n",
    "pprep(mae_dir, ref = active_ref_dir, chosen_receptors = chosen_receptors, worker_pool=dview)\n",
    "generate_grids(mae_dir, grid_center, grid_dir, remove_lig = \"BIA\", chosen_receptors = chosen_receptors, worker_pool=dview)\n",
    "unzip_receptors(grid_dir, chosen_receptors, worker_pool=dview)\n",
    "\n",
    "dock_ligands_and_receptors(grid_dir, docking_dir,  biased_agonist_dir, precision = precision, ext = \"-out.maegz\", chosen_ligands = biased_ligands, chosen_receptors = chosen_receptors, parallel = None, grid_ext = \".grd\", worker_pool=dview)\n",
    "dock_ligands_and_receptors(grid_dir, docking_dir, agonist_dir, precision = precision, ext = \"-out.maegz\", chosen_ligands = agonist_ligands, chosen_receptors = chosen_receptors, parallel = None, grid_ext = \".grd\", worker_pool=dview)\n",
    "\n",
    "#dock_ligands_and_receptors(grid_dir, docking_dir, agonist_dir, precision = precision, ext = \"-out.maegz\", chosen_ligands = agonist_ligands, chosen_receptors = chosen_receptors, parallel = None, grid_ext = \".grd\", worker_pool=dview)\n",
    "\n"
   ]
  },
  {
   "cell_type": "code",
   "execution_count": null,
   "metadata": {
    "collapsed": false,
    "scrolled": true
   },
   "outputs": [],
   "source": [
    "graph_file = \"%s/msm_lag_time%d_graph.graphml\" % (tica_dir, lag_time)\n",
    "construct_graph(msm_model_dir, clusterer_dir, n_clusters, 5, 5, graph_file, inactive = None, active = None, pnas_clusters_averages = None, tica_clusters_averages = None, docking=None, macrostate = None)\n"
   ]
  },
  {
   "cell_type": "code",
   "execution_count": null,
   "metadata": {
    "collapsed": false,
    "scrolled": false
   },
   "outputs": [],
   "source": [
    "from imp import reload\n",
    "import custom_msm\n",
    "reload(custom_msm)\n",
    "from custom_msm import *\n",
    "msm_file = msm_model_dir\n",
    "sampled_frames_file = \"%s/msm100_frames.h5\" %tica_dir\n",
    "msm_trajectory_filename = \"%s/msm100_1000frames\" %tica_dir\n",
    "make_msm_trajectory(msm_file, projected_features_dir, traj_dir, sampled_frames_file, clusterer_dir, msm_trajectory_filename, \n",
    "                    n_clusters, start_cluster=22, n_steps=1000)"
   ]
  },
  {
   "cell_type": "code",
   "execution_count": null,
   "metadata": {
    "collapsed": true
   },
   "outputs": [],
   "source": [
    "mytraj = md.load(\"/home/amir/Post_Process/GPCR/MOR/LIG_path/BU_path/h5_trajectories/rep_1.h5\")"
   ]
  },
  {
   "cell_type": "code",
   "execution_count": null,
   "metadata": {
    "collapsed": false
   },
   "outputs": [],
   "source": [
    "dir(mytraj)"
   ]
  },
  {
   "cell_type": "code",
   "execution_count": null,
   "metadata": {
    "collapsed": false
   },
   "outputs": [],
   "source": [
    "del mytraj"
   ]
  },
  {
   "cell_type": "code",
   "execution_count": null,
   "metadata": {
    "collapsed": false
   },
   "outputs": [],
   "source": [
    "subset = crystal_structure.atom_slice(range(0,400))\n",
    "subset.xyz\n",
    "print(subset.xyz)\n",
    "distances = md.compute_contacts(subset)\n",
    "print(distances)\n"
   ]
  },
  {
   "cell_type": "code",
   "execution_count": null,
   "metadata": {
    "collapsed": false
   },
   "outputs": [],
   "source": [
    "distances0 = distances[0]"
   ]
  },
  {
   "cell_type": "code",
   "execution_count": null,
   "metadata": {
    "collapsed": false
   },
   "outputs": [],
   "source": [
    "distances0 = np.nan_to_num(distances0)"
   ]
  },
  {
   "cell_type": "code",
   "execution_count": null,
   "metadata": {
    "collapsed": false
   },
   "outputs": [],
   "source": [
    "distances0"
   ]
  },
  {
   "cell_type": "code",
   "execution_count": null,
   "metadata": {
    "collapsed": false
   },
   "outputs": [],
   "source": [
    "np.where(distances0 > 0.0)"
   ]
  },
  {
   "cell_type": "code",
   "execution_count": null,
   "metadata": {
    "collapsed": true
   },
   "outputs": [],
   "source": []
  },
  {
   "cell_type": "code",
   "execution_count": null,
   "metadata": {
    "collapsed": false
   },
   "outputs": [],
   "source": [
    "from msmbuilder.lumping.pcca_plus import PCCAPlus\n",
    "n_macrostates = 50\n",
    "lumper = PCCAPlus(n_macrostates)\n",
    "msm_obj = verboseload(msm_model_dir)\n",
    "lumper = lumper.from_msm(msm=msm_obj, n_macrostates=n_macrostates)\n"
   ]
  },
  {
   "cell_type": "code",
   "execution_count": null,
   "metadata": {
    "collapsed": false
   },
   "outputs": [],
   "source": [
    "for cluster in inactive_clusters.index.values:\n",
    "    if cluster in msm_obj.mapping_.keys():\n",
    "        microstate = msm_obj.mapping_[cluster]\n",
    "        macrostate = lumper.microstate_mapping_[microstate]\n",
    "        if macrostate == 8: print(macrostate)"
   ]
  }
 ],
 "metadata": {
  "kernelspec": {
   "display_name": "Python [Root]",
   "language": "python",
   "name": "Python [Root]"
  },
  "language_info": {
   "codemirror_mode": {
    "name": "ipython",
    "version": 3
   },
   "file_extension": ".py",
   "mimetype": "text/x-python",
   "name": "python",
   "nbconvert_exporter": "python",
   "pygments_lexer": "ipython3",
   "version": "3.5.2"
  }
 },
 "nbformat": 4,
 "nbformat_minor": 0
}
