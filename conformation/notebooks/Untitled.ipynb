{
 "cells": [
  {
   "cell_type": "code",
   "execution_count": 33,
   "metadata": {
    "collapsed": false
   },
   "outputs": [
    {
     "name": "stdout",
     "output_type": "stream",
     "text": [
      "we are operating on biox3\n"
     ]
    }
   ],
   "source": [
    "from PDB_Order_Fixer import PDB_Order_Fixer\n",
    "import mdtraj as md\n",
    "import os\n",
    "import numpy as np\n",
    "import h5py\n",
    "from msmbuilder.decomposition import tICA\n",
    "from msmbuilder.cluster import KMeans\n",
    "\n",
    "from msmbuilder.featurizer import DihedralFeaturizer\n",
    "from msmbuilder.cluster import KMedoids\n",
    "import datetime\n",
    "import multiprocessing as mp\n",
    "import glob\n",
    "import copy\n",
    "import gc\n",
    "from functools import partial \n",
    "import itertools\n",
    "import operator\n",
    "from mdtraj.geometry import dihedral as ManualDihedral\n",
    "import time\n",
    "import fileinput\n",
    "from msmbuilder.cluster import MiniBatchKMedoids\n",
    "\n",
    "import random \n",
    "import subprocess\n",
    "from subprocess import Popen\n",
    "import sys\n",
    "from io_functions import *\n",
    "from custom_clusterer import *\n",
    "from custom_tica import *\n",
    "from custom_featurizer import *\n",
    "from pdb_editing import *\n",
    "from analysis import *\n",
    "from io_functions import *\n",
    "#from topology_fixing import *\n",
    "from subsampling import *\n",
    "from conversions import *\n",
    "from custom_msm import *\n",
    "from grids import *\n",
    "from landmark_kernel_tica import *\n",
    "#from pymol_color_tICA import *\n",
    "\n",
    "import scipy as sp\n",
    "from pandas import *\n",
    "from rpy2.robjects.packages import importr\n",
    "import rpy2.robjects as ro\n",
    "import pandas.rpy.common as com\n",
    "from rpy2.robjects import r\n",
    "import rpy2.robjects.numpy2ri as numpy2ri\n",
    "numpy2ri.activate()\n",
    "from detect_intermediates import *\n",
    "\n",
    "from feature_types import *\n",
    "\n",
    "\n",
    "\n",
    "base = get_base()\n",
    "\n",
    "R_functions = \"%s/conformation/analysis.R\" %base\n",
    "R_analysis = \"%s/conformation/b2ar_analysis.R\" %base\n",
    "ro.r.source(R_functions)\n",
    "ro.r.source(R_analysis)\n",
    "#r.assign(\"'R.scripts\", R_scripts)\n",
    "#ro.r('source(R.scripts)')\n",
    "\n",
    "#traj_dir = \"%s/reference_receptors\" %base\n",
    "\n",
    "\n",
    "sasa_file = \"%s/sasa_bp.csv\" %base\n",
    "#r.assign('sasa.csv', sasa_file)\n",
    "#mae_dir = \"%s/docking_test\" %tica_dir\n",
    "grid_center = \"64.4, 16.9, 11.99\"\n",
    "\n",
    "#inverse_ligands = get_ligands(inverse_agonist_dir)\n",
    "#agonist_ligands = get_ligands(agonist_dir)\n",
    "\n",
    "#inactive = md.load_frame(inactive_ref_dir, top = inactive_ref_dir, index = 0)\n",
    "#active = md.load_frame(active_ref_dir, top = active_ref_dir, index = 0)\n",
    "\n",
    "#compute_pnas_distance(traj_dir, inactive, active)\n",
    "\n",
    "'''\n",
    "precision = \"SP\"\n",
    "tica_dir = \"/scratch/users/enf/b2ar_analysis/reference_docking\"\n",
    "docking_dir = \"%s/docking_%s\" %(tica_dir, precision)\n",
    "grid_dir = \"%s/reference_grids\" %tica_dir\n",
    "ligands_dir = agonist_dir\n",
    "docking_multiple_ligands = \"%s/all_docking_combined.csv\" %docking_dir\n",
    "dock_ligands_and_receptors(grid_dir, docking_dir, ligands_dir, precision = precision, ext = \"-out.maegz\", chosen_ligands = False, chosen_receptors = False, parallel = True)\n",
    "analyze_docking_results_multiple(docking_dir, precision = precision)\n",
    "compute_aggregate_docking_scores(docking_multiple_ligands, docking_dir)\n",
    "'''\n",
    "'''\n",
    "precision = \"SP\"\n",
    "tica_dir = \"/scratch/users/enf/b2ar_analysis/reference_docking\"\n",
    "docking_dir = \"%s/docking_%s\" %(tica_dir, precision)\n",
    "grid_dir = \"%s/reference_grids\" %tica_dir\n",
    "ligands_dir = inverse_agonist_dir\n",
    "docking_multiple_ligands = \"%s/all_docking_combined.csv\" %docking_dir\n",
    "dock_ligands_and_receptors(grid_dir, docking_dir, ligands_dir, precision = precision, ext = \"-out.maegz\", chosen_ligands = False, chosen_receptors = False, parallel = True)\n",
    "analyze_docking_results_multiple(docking_dir, precision = precision, summary = docking_multiple_ligands)\n",
    "#compute_aggregate_docking_scores(docking_multiple_ligands, docking_dir)\n",
    "'''\n",
    "\n",
    "'''\n",
    "top_dock = \"%s/top50_docking.txt\" %tica_dir\n",
    "to_dock = []\n",
    "dockfile = open(top_dock, \"rb\")\n",
    "for line in dockfile.readlines():\n",
    "\tline = line.split('\\n')[0]\n",
    "\tto_dock.append(line)\n",
    "print to_dock\n",
    "'''\n",
    "\n",
    "\n",
    "\n",
    "\n",
    "from tica_variables import *"
   ]
  },
  {
   "cell_type": "code",
   "execution_count": 3,
   "metadata": {
    "collapsed": false
   },
   "outputs": [
    {
     "name": "stdout",
     "output_type": "stream",
     "text": [
      "loading \"/home/enf/b2ar_analysis/tICA_t5_n_components25reimaged_notrajfix_tm_residues_under_cutoff1nm_regularization_wolf_autoShrinkage/phi_psi_chi2_allprot_projected.h5\"...\n"
     ]
    }
   ],
   "source": [
    "test_tic = np.concatenate(verboseload(projected_features_dir))[:,2]"
   ]
  },
  {
   "cell_type": "code",
   "execution_count": 4,
   "metadata": {
    "collapsed": true
   },
   "outputs": [],
   "source": [
    "subset = test_tic[range(0,np.shape(test_tic)[0],100)]"
   ]
  },
  {
   "cell_type": "code",
   "execution_count": 5,
   "metadata": {
    "collapsed": false
   },
   "outputs": [
    {
     "data": {
      "text/plain": [
       "(600018,)"
      ]
     },
     "execution_count": 5,
     "metadata": {},
     "output_type": "execute_result"
    }
   ],
   "source": [
    "np.shape(test_tic)"
   ]
  },
  {
   "cell_type": "code",
   "execution_count": 6,
   "metadata": {
    "collapsed": false
   },
   "outputs": [
    {
     "data": {
      "image/png": "[encoded data removed]",
      "text/plain": [
       "<matplotlib.figure.Figure at 0x7fe62781bb50>"
      ]
     },
     "metadata": {},
     "output_type": "display_data"
    }
   ],
   "source": [
    "import matplotlib.pyplot as plt\n",
    "%matplotlib inline\n",
    "n, bins, patches = plt.hist(subset, 100, normed=1, facecolor='green', alpha=0.75)"
   ]
  },
  {
   "cell_type": "code",
   "execution_count": 36,
   "metadata": {
    "collapsed": false,
    "scrolled": true
   },
   "outputs": [
    {
     "name": "stdout",
     "output_type": "stream",
     "text": [
      "[1] \"fitting model for 2 components\"\n",
      "number of iterations= 28 \n",
      "[1] \"fitting model for 3 components\"\n",
      "number of iterations= 43 \n",
      "[1] \"fitting model for 4 components\"\n",
      "number of iterations= 3 \n",
      "[1] \"fitting model for 5 components\"\n",
      "number of iterations= 13 \n",
      "[1] \"fitting model for 6 components\"\n",
      "number of iterations= 43 \n",
      "[1] \"fitting model for 7 components\"\n",
      "number of iterations= 140 \n",
      "[1] \"fitting model for 8 components\"\n",
      "number of iterations= 74 \n",
      "[1] \"fitting model for 9 components\"\n",
      "number of iterations= 41 \n",
      "[1] \"fitting model for 10 components\"\n",
      "number of iterations= 237 \n",
      "[1] \"fitting model for 2 components\"\n",
      "number of iterations= 4 \n",
      "[1] \"fitting model for 3 components\"\n",
      "number of iterations= 45 \n",
      "[1] \"fitting model for 4 components\"\n",
      "number of iterations= 75 \n",
      "[1] \"fitting model for 5 components\"\n",
      "number of iterations= 13 \n",
      "[1] \"fitting model for 6 components\"\n",
      "number of iterations= 46 \n",
      "[1] \"fitting model for 7 components\"\n",
      "number of iterations= 147 \n",
      "[1] \"fitting model for 8 components\"\n",
      "number of iterations= 246 \n",
      "[1] \"fitting model for 9 components\"\n",
      "number of iterations= 58 \n",
      "[1] \"fitting model for 10 components\"\n",
      "number of iterations= 115 \n",
      "[1] \"fitting model for 2 components\"\n",
      "number of iterations= 36 \n",
      "[1] \"fitting model for 3 components\"\n",
      "number of iterations= 27 \n",
      "[1] \"fitting model for 4 components\"\n",
      "number of iterations= 48 \n",
      "[1] \"fitting model for 5 components\"\n",
      "number of iterations= 16 \n",
      "[1] \"fitting model for 6 components\"\n",
      "number of iterations= 85 \n",
      "[1] \"fitting model for 7 components\"\n",
      "number of iterations= 117 \n",
      "[1] \"fitting model for 8 components\"\n",
      "number of iterations= 307 \n",
      "[1] \"fitting model for 9 components\"\n",
      "number of iterations= 65 \n",
      "[1] \"fitting model for 10 components\"\n",
      "number of iterations= 120 \n",
      "[1] \"fitting model for 2 components\"\n",
      "number of iterations= 4 \n",
      "[1] \"fitting model for 3 components\"\n",
      "number of iterations= 4 \n",
      "[1] \"fitting model for 4 components\"\n",
      "number of iterations= 59 \n",
      "[1] \"fitting model for 5 components\"\n",
      "number of iterations= 13 \n",
      "[1] \"fitting model for 6 components\"\n",
      "number of iterations= 35 \n",
      "[1] \"fitting model for 7 components\"\n",
      "number of iterations= 116 \n",
      "[1] \"fitting model for 8 components\"\n",
      "number of iterations= 47 \n",
      "[1] \"fitting model for 9 components\"\n",
      "number of iterations= 174 \n",
      "[1] \"fitting model for 10 components\"\n",
      "number of iterations= 235 \n",
      "[1] \"fitting model for 2 components\"\n",
      "number of iterations= 23 \n",
      "[1] \"fitting model for 3 components\"\n",
      "number of iterations= 136 \n",
      "[1] \"fitting model for 4 components\"\n",
      "number of iterations= 109 \n",
      "[1] \"fitting model for 5 components\"\n",
      "number of iterations= 85 \n",
      "[1] \"fitting model for 6 components\"\n",
      "number of iterations= 40 \n",
      "[1] \"fitting model for 7 components\"\n",
      "number of iterations= 81 \n",
      "[1] \"fitting model for 8 components\"\n",
      "number of iterations= 133 \n",
      "[1] \"fitting model for 9 components\"\n",
      "number of iterations= 273 \n",
      "[1] \"fitting model for 10 components\"\n",
      "number of iterations= 145 \n",
      "[1] 5 5 5 5 6\n",
      "number of iterations= 11 \n"
     ]
    }
   ],
   "source": [
    "classes = r['compute.tIC.mixture.model'](subset, 2, analysis_dir, max_components=10, num_repeats=5)"
   ]
  },
  {
   "cell_type": "code",
   "execution_count": 37,
   "metadata": {
    "collapsed": false
   },
   "outputs": [
    {
     "name": "stdout",
     "output_type": "stream",
     "text": [
      "$mu\n",
      "[1] -2.3942457 -1.1610593 -0.1852008  0.9207479  1.9187085\n",
      "\n",
      "$classes\n",
      "   [1] 2 2 2 2 2 3 3 3 3 3 3 3 3 3 3 3 3 3 3 3 3 3 3 3 3 3 3 3 3 3 3 3 3 3 3 3 3\n",
      "  [38] 3 3 4 4 4 4 4 4 4 4 4 4 4 4 4 4 4 4 4 4 4 4 4 4 4 4 4 4 4 4 4 4 4 4 4 4 4\n",
      "  [75] 4 4 4 4 4 4 4 4 4 4 4 4 4 4 4 4 4 4 4 4 4 4 4 4 4 4 4 4 4 4 4 4 4 4 4 4 4\n",
      " [112] 4 4 4 4 4 4 4 4 4 4 4 4 4 4 4 4 4 4 4 4 4 4 4 4 4 4 4 4 4 4 4 4 4 4 4 4 4\n",
      " [149] 4 4 4 4 4 4 4 4 4 4 4 4 4 4 4 4 4 4 4 4 4 4 4 4 2 2 2 2 3 3 3 3 3 3 3 3 3\n",
      " [186] 3 3 4 3 3 3 3 2 2 2 2 2 2 2 2 2 2 2 2 2 2 1 3 3 2 3 3 3 2 1 1 2 1 2 1 2 2\n",
      " [223] 2 2 2 2 2 1 1 1 1 1 1 1 1 1 1 1 1 1 1 1 1 1 1 1 1 1 1 1 1 1 1 1 1 1 1 1 1\n",
      " [260] 1 1 1 1 1 1 1 1 1 1 1 1 1 1 1 2 2 2 1 1 2 1 1 1 1 1 1 1 1 1 1 1 1 1 1 1 1\n",
      " [297] 1 1 1 1 1 1 1 1 1 2 2 2 2 2 2 2 2 2 2 2 2 2 2 2 2 2 2 2 2 2 2 2 2 2 2 2 2\n",
      " [334] 2 2 2 2 2 2 2 2 2 2 2 2 2 2 2 3 3 4 4 4 4 4 4 4 4 4 4 4 4 4 4 4 4 4 4 4 4\n",
      " [371] 4 4 4 4 4 4 4 4 4 4 4 4 4 4 4 4 4 4 4 2 2 2 2 2 3 4 3 3 4 4 4 4 4 4 4 4 4\n",
      " [408] 4 4 4 4 4 4 4 4 4 4 4 4 4 4 4 4 4 4 4 4 4 2 3 3 3 3 3 3 3 3 3 3 3 3 3 3 3\n",
      " [445] 3 3 3 3 3 3 3 3 3 3 3 3 3 3 3 3 3 3 3 3 3 3 3 3 3 3 3 3 3 3 3 3 3 2 2 2 2\n",
      " [482] 2 1 1 1 1 1 1 1 1 1 1 1 1 1 1 1 1 1 1 1 1 1 1 1 1 1 1 2 3 2 2 2 3 3 2 2 2\n",
      " [519] 2 2 2 2 2 3 3 2 3 3 3 3 2 3 3 3 3 3 2 2 2 3 3 3 3 3 3 4 4 4 4 4 4 4 4 4 4\n",
      " [556] 4 4 4 4 2 2 3 3 3 4 4 4 4 4 4 4 4 4 4 4 4 4 4 4 4 4 4 4 4 4 4 4 4 4 4 4 4\n",
      " [593] 4 4 4 4 4 4 4 4 4 4 4 4 4 4 4 4 4 4 4 4 4 2 3 3 3 4 4 4 4 4 4 4 4 4 4 4 4\n",
      " [630] 4 4 4 4 4 4 4 4 4 4 4 4 4 4 4 4 4 4 4 4 4 4 4 4 4 4 4 4 4 4 4 4 4 4 4 4 4\n",
      " [667] 4 4 4 4 2 3 3 3 3 3 3 3 3 3 3 3 3 3 3 3 3 3 3 3 3 3 3 3 3 4 4 4 4 4 4 4 4\n",
      " [704] 4 4 4 4 4 4 4 4 4 4 4 4 4 4 4 4 4 4 4 4 3 4 4 4 4 4 3 2 2 2 2 2 1 2 2 2 2\n",
      " [741] 2 2 2 2 2 2 2 2 2 2 2 2 3 3 4 4 4 4 4 4 4 4 4 4 4 4 4 4 4 4 4 4 4 4 4 4 2\n",
      " [778] 2 2 2 2 2 2 2 2 2 3 3 3 4 4 4 4 4 4 4 4 4 4 4 4 4 4 4 4 4 4 4 4 4 4 4 4 4\n",
      " [815] 4 4 4 4 4 4 4 4 4 4 4 4 4 4 4 4 4 4 4 4 4 4 4 4 4 4 4 4 4 4 4 4 4 4 4 4 4\n",
      " [852] 4 4 4 4 4 4 4 4 4 4 4 4 4 4 4 4 4 4 4 4 4 4 4 4 4 4 4 4 4 4 4 4 4 4 4 4 2\n",
      " [889] 2 2 2 2 2 2 2 2 2 2 2 3 3 3 3 3 3 3 3 3 3 3 3 3 3 3 3 3 3 3 3 3 3 3 3 3 3\n",
      " [926] 3 3 3 3 3 3 3 3 3 3 3 3 3 3 3 3 3 3 3 3 3 3 3 3 3 3 3 3 3 3 3 3 3 3 3 3 3\n",
      " [963] 3 3 2 2 2 1 1 1 2 2 1 1 1 1 1 1 1 1 1 1 1 1 1 1 2 2 3 3 3 3 3 3 3 3 3 3 3\n",
      "[1000] 3 3 3 3 3 3 3 3 3 3 3 3 3 3 3 3 3 3 3 3 3 3 3 3 3 3 3 3 3 3 3 3 3 3 3 3 3\n",
      "[1037] 3 3 3 3 3 3 3 3 3 3 3 3 3 3 3 3 3 3 3 4 4 4 4 4 4 4 4 4 2 2 2 3 3 3 3 3 3\n",
      "[1074] 3 3 3 3 3 3 3 3 3 3 3 3 3 3 3 3 3 3 3 3 3 3 3 3 3 3 3 3 3 3 3 3 3 3 3 3 3\n",
      "[1111] 3 3 3 3 3 3 3 3 3 2 2 2 2 3 3 2 2 2 2 2 2 2 2 2 2 2 2 2 2 2 3 3 3 3 3 3 3\n",
      "[1148] 3 3 3 3 3 3 3 2 2 3 3 2 3 3 3 3 3 3 3 3 4 4 4 4 4 4 4 4 4 4 4 4 4 4 4 4 4\n",
      "[1185] 4 4 4 4 4 4 4 4 4 4 4 4 4 4 4 4 4 4 4 4 4 4 4 4 4 4 4 4 4 4 4 4 4 4 4 4 4\n",
      "[1222] 4 4 4 4 4 4 4 4 4 2 2 2 2 2 3 3 3 3 3 3 3 3 3 3 3 3 3 3 3 3 3 3 3 3 3 3 3\n",
      "[1259] 4 4 4 4 4 4 3 3 4 4 4 4 4 4 4 4 4 4 4 4 4 4 4 4 4 4 4 4 2 2 2 3 3 3 3 3 3\n",
      "[1296] 3 3 3 3 3 3 3 3 3 3 3 3 3 3 3 3 3 3 3 3 3 3 3 3 3 3 3 3 3 3 3 3 3 3 3 3 3\n",
      "[1333] 3 3 3 3 3 3 3 3 3 2 2 2 2 2 2 3 2 2 2 1 2 2 3 3 2 2 2 2 3 2 2 2 2 2 3 3 3\n",
      "[1370] 3 3 3 3 3 3 3 2 2 2 2 2 2 2 2 2 2 2 2 2 2 2 3 2 2 3 3 2 3 3 3 3 3 3 3 3 3\n",
      "[1407] 3 3 3 3 3 3 3 3 3 3 3 3 2 3 3 3 3 2 3 2 3 3 3 3 3 3 3 3 3 3 3 3 3 3 3 3 3\n",
      "[1444] 3 3 3 3 3 3 3 3 3 3 3 3 3 3 3 3 3 3 3 3 3 3 3 3 3 3 3 3 3 3 3 3 3 3 3 3 3\n",
      "[1481] 2 3 2 2 2 3 3 3 3 3 3 3 3 3 3 3 3 3 3 3 3 3 3 3 3 3 3 3 4 4 4 4 4 4 4 4 4\n",
      "[1518] 4 4 4 4 4 4 4 2 2 2 2 2 2 2 3 4 4 4 4 4 4 4 4 4 4 4 4 4 4 4 4 4 4 4 4 4 4\n",
      "[1555] 4 4 4 4 4 4 4 4 4 4 4 4 4 4 4 3 3 3 3 3 3 3 3 3 3 3 3 3 2 3 3 2 2 2 2 2 2\n",
      "[1592] 3 3 3 3 3 3 3 5 5 5 5 5 5 5 5 5 5 5 5 5 5 5 4 3 3 3 3 4 4 3 4 4 4 4 4 4 4\n",
      "[1629] 4 4 4 4 4 4 4 3 4 4 4 4 4 4 4 4 4 4 4 4 4 4 3 4 3 4 4 4 4 4 4 4 4 4 4 4 4\n",
      "[1666] 4 4 4 4 4 4 4 4 4 4 4 4 4 4 5 4 4 4 4 4 4 4 4 4 4 5 4 5 5 4 4 4 4 5 5 5 4\n",
      "[1703] 5 5 4 5 4 4 4 4 4 4 4 4 4 4 4 4 4 4 4 4 4 4 4 4 4 4 4 4 4 4 4 4 4 4 4 4 4\n",
      "[1740] 4 4 4 4 4 4 4 4 4 4 4 4 4 4 4 4 4 4 4 4 4 4 4 4 4 4 4 4 4 4 4 4 4 4 4 4 4\n",
      "[1777] 4 4 4 4 4 4 4 4 4 4 4 4 4 4 4 4 4 4 4 4 4 4 4 4 4 4 4 4 4 4 4 4 4 4 4 4 4\n",
      "[1814] 4 4 4 4 4 4 4 4 4 4 4 4 4 4 4 4 4 4 4 4 4 4 3 3 4 4 5 5 5 5 5 5 5 5 5 5 5\n",
      "[1851] 5 5 5 5 5 5 5 5 3 4 4 4 4 4 5 5 5 5 5 5 5 5 5 5 5 5 5 5 5 5 3 3 3 5 5 5 5\n",
      "[1888] 5 5 5 5 5 5 5 5 5 5 5 5 5 5 5 3 3 4 4 4 2 3 3 3 3 4 3 4 4 4 4 4 4 5 4 4 5\n",
      "[1925] 3 3 4 4 4 4 4 4 4 4 4 5 5 5 5 5 5 5 5 5 5 5 3 3 3 3 3 4 4 4 4 4 4 4 4 5 5\n",
      "[1962] 5 5 5 5 5 5 5 5 3 3 3 3 3 3 3 4 4 4 4 4 4 4 4 4 4 3 4 4 4 4 4 4 4 4 4 4 4\n",
      "[1999] 4 4 4 4 4 3 4 4 4 4 4 4 4 4 4 4 4 4 4 4 4 4 4 4 4 4 4 4 4 4 4 4 4 4 4 4 4\n",
      "[2036] 4 4 4 4 4 4 4 4 4 4 4 4 4 4 4 4 4 4 4 4 4 4 4 4 4 4 4 3 3 3 3 3 3 3 3 3 4\n",
      "[2073] 4 4 4 4 4 4 4 4 4 4 4 4 4 3 4 3 3 3 3 3 2 3 3 4 4 4 4 4 4 4 5 5 5 5 5 5 5\n",
      "[2110] 5 5 5 5 5 5 5 5 5 5 5 5 5 5 5 5 5 3 4 4 4 4 4 4 4 4 4 4 4 4 4 4 4 4 4 4 4\n",
      "[2147] 4 4 4 4 4 4 4 4 4 4 4 4 3 3 3 3 4 4 4 4 4 4 4 4 4 4 4 4 4 4 4 4 4 4 4 4 4\n",
      "[2184] 4 4 4 4 4 4 4 4 4 4 4 4 4 4 4 4 4 4 4 4 4 4 4 5 5 5 5 5 5 5 5 5 5 5 5 5 5\n",
      "[2221] 5 5 5 5 5 5 4 4 5 5 5 5 5 5 5 5 5 5 5 5 5 5 5 5 5 5 5 5 5 5 5 5 5 5 5 5 5\n",
      "[2258] 5 5 5 5 5 5 5 5 5 5 5 2 2 2 2 2 2 3 3 3 3 3 3 3 3 3 3 3 3 3 3 3 3 3 3 3 3\n",
      "[2295] 3 3 3 3 3 3 3 3 3 3 3 3 3 3 3 3 3 3 3 3 3 3 3 3 3 3 3 3 3 3 3 3 3 3 3 3 3\n",
      "[2332] 3 3 3 3 3 3 3 3 3 3 3 3 3 3 3 3 3 3 3 3 3 3 3 3 3 3 2 2 2 2 2 2 2 2 2 1 1\n",
      "[2369] 1 1 1 1 1 1 1 1 1 1 1 1 1 1 1 1 1 1 1 1 1 1 1 1 1 1 1 1 1 1 1 1 1 1 1 1 4\n",
      "[2406] 4 4 4 4 4 4 4 4 4 4 4 4 4 4 4 4 4 4 4 4 4 4 4 4 4 4 4 4 4 4 4 4 4 4 4 4 4\n",
      "[2443] 4 4 4 4 4 4 4 4 4 4 4 4 4 4 4 4 4 2 2 3 2 3 3 3 3 3 3 3 3 3 3 3 3 3 3 3 3\n",
      "[2480] 3 3 3 3 3 3 3 3 3 3 3 3 3 3 3 3 2 3 3 3 3 3 3 3 3 3 2 3 3 3 3 3 3 3 3 3 3\n",
      "[2517] 3 3 3 3 2 2 1 1 1 1 1 1 1 1 1 2 2 2 1 1 1 1 1 1 1 1 1 1 1 1 1 1 1 1 1 1 1\n",
      "[2554] 2 2 2 2 2 2 2 2 2 2 2 2 3 3 3 3 3 3 3 3 2 2 2 2 2 2 2 3 3 3 3 3 3 3 3 4 4\n",
      "[2591] 4 4 4 4 4 4 4 4 4 4 4 4 4 4 4 4 4 4 4 4 4 4 4 4 4 4 4 4 4 4 4 4 4 4 4 4 4\n",
      "[2628] 4 4 4 4 4 4 4 2 3 3 3 3 3 3 3 3 4 4 4 4 4 4 4 4 4 4 4 4 4 4 4 4 4 4 4 4 4\n",
      "[2665] 4 4 4 4 4 4 4 4 4 4 4 4 4 4 4 4 4 4 4 4 4 4 4 4 4 4 2 3 2 2 2 2 3 2 2 3 2\n",
      "[2702] 3 3 3 3 3 3 3 3 3 3 3 3 3 3 2 2 2 2 2 2 2 3 3 2 2 2 3 2 2 2 2 2 2 2 3 2 2\n",
      "[2739] 3 2 2 2 2 2 2 3 3 3 3 3 3 3 3 3 3 3 3 3 3 3 3 3 3 3 3 3 3 3 3 3 3 2 3 3 3\n",
      "[2776] 3 3 3 3 3 2 3 3 3 2 3 3 3 3 3 2 3 3 3 3 3 3 3 3 3 3 3 3 3 3 3 3 3 3 3 3 3\n",
      "[2813] 3 4 4 4 4 4 4 4 4 4 4 4 4 4 4 4 4 4 4 4 4 4 4 4 4 4 4 4 4 4 4 4 4 4 4 4 4\n",
      "[2850] 4 4 4 4 4 4 4 4 2 3 2 2 2 2 2 2 2 2 2 2 2 2 2 2 2 2 2 2 2 2 2 3 2 2 2 2 2\n",
      "[2887] 2 2 3 3 3 3 3 3 3 3 3 3 3 3 2 2 2 2 2 2 2 2 2 3 3 3 3 3 3 3 3 3 3 3 3 3 3\n",
      "[2924] 3 4 4 4 4 4 4 4 4 4 4 4 4 4 4 4 4 4 4 4 4 4 4 4 4 4 4 4 4 4 4 4 4 4 4 4 4\n",
      "[2961] 4 4 4 4 4 4 4 4 4 4 4 4 4 4 5 4 4 4 4 4 4 4 3 3 3 3 3 3 3 3 3 3 3 3 3 3 3\n",
      "[2998] 3 3 3 3 3 3 3 3 3 3 2 2 2 3 3 3 4 3 3 4 4 3 4 3 3 3 3 4 4 4 4 4 3 4 3 3 3\n",
      "[3035] 4 3 3 3 3 3 3 3 3 3 3 3 3 3 3 3 3 3 3 3 3 4 3 4 3 4 4 4 5 5 5 5 5 5 5 5 5\n",
      "[3072] 5 5 5 5 3 4 4 4 5 5 5 5 5 5 5 5 5 5 5 5 5 5 5 4 5 5 4 4 4 5 5 5 5 5 5 5 5\n",
      "[3109] 5 5 5 5 5 5 5 5 5 5 5 5 5 5 5 5 5 5 5 5 5 5 5 5 5 5 5 3 3 3 3 3 3 3 3 3 2\n",
      "[3146] 2 2 2 2 2 2 2 3 2 2 2 2 3 5 5 5 5 5 5 5 5 5 5 5 5 5 5 5 5 5 5 5 5 5 5 5 5\n",
      "[3183] 5 5 5 5 5 5 5 5 5 3 3 3 3 3 3 3 3 3 3 3 4 4 4 4 4 4 4 4 4 4 4 4 4 4 4 4 4\n",
      "[3220] 4 4 4 4 4 3 2 2 2 2 2 2 2 2 2 2 2 2 2 1 1 1 1 1 1 1 1 1 1 1 1 1 2 2 2 2 2\n",
      "[3257] 2 2 2 1 2 1 1 1 1 2 2 2 2 2 2 2 2 1 2 2 1 2 2 1 3 3 3 3 3 3 3 3 3 3 3 3 3\n",
      "[3294] 3 3 3 3 3 3 3 3 3 3 3 3 3 3 3 3 3 3 3 3 3 3 3 3 3 3 3 3 3 3 3 3 3 3 3 3 3\n",
      "[3331] 3 3 3 3 3 3 3 3 3 3 3 3 3 3 3 3 3 3 3 3 3 3 3 3 3 3 3 3 3 3 3 3 3 3 3 3 3\n",
      "[3368] 3 3 3 3 3 3 3 3 3 3 3 3 3 3 3 3 3 3 3 3 3 3 3 3 3 3 3 3 3 3 3 3 3 3 3 3 3\n",
      "[3405] 3 3 3 3 3 3 3 3 3 3 3 3 3 3 3 3 3 3 3 3 3 3 3 3 3 3 3 3 3 3 3 3 3 3 3 3 3\n",
      "[3442] 3 3 3 3 3 3 3 3 3 3 3 3 3 3 3 3 3 3 3 3 3 3 3 3 3 3 3 3 3 3 3 3 3 3 3 3 3\n",
      "[3479] 3 3 3 3 3 3 3 3 3 3 3 3 3 3 3 3 3 3 3 3 3 2 2 2 2 2 2 2 2 2 2 2 2 2 3 3 3\n",
      "[3516] 3 3 3 3 3 3 2 2 2 2 2 2 2 2 2 2 2 2 2 2 2 2 2 2 2 2 2 2 2 2 2 2 2 2 2 2 2\n",
      "[3553] 2 2 2 2 2 2 2 2 2 2 2 2 2 2 2 2 2 2 2 2 2 2 2 2 2 2 2 2 2 2 2 2 2 2 2 2 2\n",
      "[3590] 2 2 2 2 2 2 2 2 2 2 2 2 2 2 2 2 2 2 2 2 2 2 2 2 2 2 2 2 2 2 2 2 2 2 2 2 2\n",
      "[3627] 2 2 2 2 2 2 2 2 2 2 2 2 2 2 2 2 2 2 2 2 2 2 2 2 2 2 2 2 2 3 3 3 2 3 2 3 3\n",
      "[3664] 2 3 2 2 2 3 3 3 3 3 3 2 3 3 3 2 2 2 2 2 2 2 2 2 2 3 2 3 3 3 3 3 2 3 3 2 3\n",
      "[3701] 3 4 4 4 3 4 4 4 4 4 4 4 4 4 3 3 3 3 3 3 3 3 3 3 3 3 4 4 4 4 4 4 4 4 4 4 4\n",
      "[3738] 4 4 4 4 3 4 4 4 4 4 4 4 4 4 4 4 4 4 4 3 3 3 3 3 3 3 3 3 3 3 3 3 3 3 3 3 3\n",
      "[3775] 3 3 3 3 3 3 3 3 3 3 3 3 4 4 4 4 4 4 4 5 5 5 5 5 5 5 5 5 5 5 5 5 5 5 5 5 5\n",
      "[3812] 5 5 5 5 5 5 5 5 5 5 5 3 3 3 3 2 2 2 2 2 2 2 2 2 2 2 2 2 2 2 2 2 1 1 1 1 1\n",
      "[3849] 1 1 1 1 3 3 3 4 4 4 5 5 5 5 5 5 5 5 5 5 5 5 4 5 5 5 5 5 5 5 5 5 5 5 5 5 5\n",
      "[3886] 5 5 5 5 5 5 5 5 5 5 5 5 5 5 5 5 4 4 4 4 4 4 4 3 3 2 2 2 2 2 2 2 2 2 3 4 4\n",
      "[3923] 4 4 4 4 4 4 4 4 4 4 4 4 4 4 4 4 4 4 4 4 4 3 3 3 4 3 4 3 3 4 3 3 3 3 3 3 3\n",
      "[3960] 3 3 3 4 3 3 3 4 4 4 4 4 4 4 4 3 4 4 4 4 4 4 4 4 4 3 3 3 3 3 3 3 3 3 3 3 3\n",
      "[3997] 3 3 3 3 3 3 3 3 3 3 3 3 3 3 3 3 3 3 3 3 3 3 3 3 3 3 3 3 3 3 3 3 3 3 3 3 3\n",
      "[4034] 3 3 3 3 3 3 3 3 3 3 3 3 3 3 3 3 3 3 3 3 3 3 3 3 3 3 3 3 3 3 3 3 3 3 3 3 3\n",
      "[4071] 3 3 3 3 3 3 3 3 3 3 3 3 3 3 3 3 3 3 3 3 3 3 3 3 3 3 3 3 3 3 3 3 3 3 3 3 3\n",
      "[4108] 3 3 3 3 3 3 3 3 3 3 3 3 3 3 3 3 3 3 3 3 3 3 3 3 3 3 3 3 3 3 3 3 3 3 3 3 3\n",
      "[4145] 3 3 3 3 3 3 3 3 3 3 3 3 3 3 3 3 3 3 3 3 3 3 3 3 3 3 3 3 3 3 3 3 3 3 3 3 3\n",
      "[4182] 3 3 3 3 3 3 3 3 3 3 3 3 3 3 3 3 3 3 3 3 3 3 3 3 3 3 3 3 3 3 3 3 3 3 3 3 3\n",
      "[4219] 3 3 3 3 3 3 3 3 3 3 3 3 3 3 3 3 3 3 3 3 3 3 3 3 3 3 3 3 3 3 3 3 3 3 3 3 3\n",
      "[4256] 3 3 3 3 3 3 3 3 3 3 3 3 3 3 3 3 3 3 3 3 3 3 3 3 3 3 3 3 3 3 3 3 3 3 3 3 3\n",
      "[4293] 3 3 3 3 3 3 3 3 3 3 3 3 3 3 3 3 3 3 3 3 3 3 3 3 3 3 3 3 3 3 3 3 3 3 3 3 3\n",
      "[4330] 3 3 3 3 3 3 3 3 3 3 3 3 3 3 3 3 3 3 3 3 3 3 3 3 3 3 3 3 3 3 3 3 3 3 3 3 3\n",
      "[4367] 3 3 3 3 3 3 3 3 3 3 3 3 3 3 3 3 3 3 3 3 3 3 3 3 3 3 3 3 3 3 3 4 3 3 3 3 3\n",
      "[4404] 3 3 3 3 3 3 3 3 3 3 3 3 3 3 3 3 3 3 3 3 3 3 3 3 3 3 3 3 3 3 3 3 3 3 3 3 3\n",
      "[4441] 3 3 3 3 3 3 3 3 3 3 3 3 3 3 3 3 3 3 3 3 3 3 3 3 3 3 3 3 3 3 3 3 3 3 3 3 3\n",
      "[4478] 3 3 3 3 3 3 3 3 3 3 3 3 3 3 3 3 3 3 3 3 3 3 3 3 3 3 3 3 3 3 3 3 3 3 3 3 3\n",
      "[4515] 3 3 3 3 3 3 3 3 3 3 3 3 3 3 3 3 3 3 3 3 3 3 3 3 3 3 3 3 3 3 3 3 3 3 3 3 3\n",
      "[4552] 3 3 3 3 3 3 3 3 3 3 3 3 3 3 3 3 3 3 3 3 3 3 3 3 3 3 3 3 3 3 3 3 3 3 3 3 3\n",
      "[4589] 3 3 3 3 3 3 3 3 3 3 3 3 3 3 3 3 3 3 3 3 3 3 3 3 3 3 3 3 3 3 3 3 3 3 3 3 3\n",
      "[4626] 3 3 3 3 3 3 3 3 3 3 3 3 3 3 3 3 3 3 3 3 3 3 3 3 3 3 3 3 3 3 3 3 3 3 3 3 3\n",
      "[4663] 3 3 3 3 3 3 3 3 3 3 3 3 3 3 3 3 3 3 3 3 3 3 3 3 3 3 3 3 3 3 3 3 3 3 3 3 3\n",
      "[4700] 3 3 3 3 3 3 3 3 3 3 3 3 3 3 3 3 3 3 3 3 3 3 3 3 3 3 3 3 3 3 3 3 3 3 3 3 3\n",
      "[4737] 3 3 3 3 3 3 3 3 3 3 3 3 3 3 3 3 3 3 3 3 3 3 3 3 3 3 3 3 3 3 3 3 3 3 3 3 3\n",
      "[4774] 3 3 3 3 3 3 3 3 3 3 3 3 3 3 3 3 3 3 3 3 3 3 3 3 3 3 3 3 3 3 3 3 3 3 3 3 3\n",
      "[4811] 3 3 3 3 3 3 3 3 3 3 3 3 3 3 3 3 3 3 3 3 3 3 3 3 3 3 3 3 3 3 3 3 3 3 3 3 3\n",
      "[4848] 3 3 3 3 3 3 3 3 3 3 3 3 3 3 3 3 3 3 3 3 3 3 3 3 3 3 3 3 3 3 3 3 3 3 3 3 3\n",
      "[4885] 3 3 3 3 3 3 3 3 3 3 3 3 3 4 5 5 5 5 5 5 5 5 5 5 5 5 5 5 5 5 5 5 5 5 5 3 3\n",
      "[4922] 2 3 3 3 3 3 2 3 3 3 2 2 2 2 2 2 2 1 1 1 1 1 1 1 1 1 1 1 1 1 1 1 1 1 1 1 1\n",
      "[4959] 1 1 1 1 1 1 1 1 1 1 1 1 1 1 1 1 1 1 1 1 1 1 1 1 1 2 2 2 3 3 3 2 2 2 2 3 2\n",
      "[4996] 2 2 2 2 2 2 2 2 2 2 2 2 2 1 1 1 1 1 1 2 2 2 2 2 2 2 2 2 2 2 2 2 2 2 2 2 2\n",
      "[5033] 2 2 2 2 2 2 2 2 2 2 2 2 2 2 2 2 2 2 2 2 2 2 2 2 2 2 2 2 2 2 2 2 2 2 2 2 2\n",
      "[5070] 2 2 2 2 2 2 2 2 2 2 2 2 2 2 2 2 2 2 2 2 2 2 2 2 2 2 2 2 2 3 3 3 3 3 3 3 3\n",
      "[5107] 3 3 3 3 3 3 3 3 3 3 3 3 3 3 3 3 3 3 3 3 3 3 3 3 3 3 3 3 3 3 3 3 3 3 3 3 3\n",
      "[5144] 3 3 3 3 3 3 3 3 3 3 3 3 3 3 3 3 3 3 3 3 3 3 3 3 3 3 3 3 3 3 3 3 3 3 3 3 3\n",
      "[5181] 3 3 3 3 3 3 3 3 3 3 3 3 3 3 3 3 3 3 3 3 3 3 3 3 3 3 3 3 3 3 3 3 3 3 3 3 3\n",
      "[5218] 3 3 3 3 3 3 3 3 3 3 3 3 3 3 3 3 3 3 3 3 3 3 3 3 3 3 3 3 3 3 3 3 3 3 3 3 3\n",
      "[5255] 3 3 3 3 3 3 3 3 3 3 3 3 4 4 4 4 4 4 4 4 4 4 4 4 4 4 4 4 4 4 4 4 4 4 4 4 4\n",
      "[5292] 4 4 4 4 4 4 4 4 4 4 4 4 4 4 4 4 4 4 4 4 4 4 3 3 3 3 4 3 3 3 3 3 3 3 3 3 3\n",
      "[5329] 3 3 3 3 3 3 3 3 3 3 3 3 3 3 3 3 3 3 2 2 2 2 2 2 2 2 2 2 2 2 2 1 1 2 1 1 1\n",
      "[5366] 1 1 1 1 1 1 1 1 1 1 1 1 1 3 3 3 3 3 3 3 3 3 3 3 3 3 3 3 3 3 3 3 3 3 3 3 3\n",
      "[5403] 3 3 3 3 3 3 3 2 2 2 2 3 3 3 3 2 3 3 2 3 2 3 2 3 2 3 3 3 3 3 2 3 3 3 2 3 2\n",
      "[5440] 2 3 2 3 2 3 4 4 3 4 4 4 4 4 4 4 4 3 3 3 4 4 4 4 4 4 4 4 3 4 4 3 4 4 4 4 4\n",
      "[5477] 4 3 4 4 4 3 4 4 4 4 4 4 4 4 4 4 4 4 4 4 4 4 4 4 3 3 4 3 3 3 3 3 3 3 3 3 3\n",
      "[5514] 3 3 3 3 3 3 3 3 3 3 3 3 3 3 3 3 3 3 3 3 3 3 3 3 3 3 3 3 3 3 3 3 3 3 3 3 3\n",
      "[5551] 3 3 3 3 3 3 3 3 3 3 3 3 3 3 3 3 3 3 3 3 3 3 3 3 3 3 3 3 3 3 3 3 3 3 3 3 3\n",
      "[5588] 3 3 3 3 3 3 3 3 3 3 3 3 3 3 3 3 3 3 3 3 3 3 3 3 3 3 3 3 3 3 3 3 3 3 3 3 3\n",
      "[5625] 3 3 3 3 3 3 3 3 3 3 3 3 3 3 3 3 3 3 3 3 3 3 3 3 3 3 3 3 3 3 3 3 3 3 3 3 3\n",
      "[5662] 3 3 3 3 3 3 3 3 3 3 3 3 3 3 3 3 3 3 3 3 3 3 3 3 3 3 3 3 3 3 3 3 3 3 3 3 3\n",
      "[5699] 3 3 3 3 3 3 3 3 3 3 3 3 3 3 3 3 3 3 3 3 3 3 3 3 3 3 3 3 3 3 3 3 3 3 3 3 3\n",
      "[5736] 3 3 3 3 3 3 3 3 3 3 3 3 3 3 3 3 3 3 3 3 3 3 3 3 3 3 3 3 3 3 3 3 3 3 3 3 3\n",
      "[5773] 3 3 3 3 3 3 3 3 3 3 3 3 3 3 3 3 3 3 3 3 3 3 3 3 3 3 3 3 3 3 3 3 3 3 3 3 3\n",
      "[5810] 3 3 3 3 3 3 3 3 3 3 3 3 3 3 3 3 3 3 3 3 3 3 3 3 3 3 3 3 3 3 3 3 3 3 3 3 3\n",
      "[5847] 3 3 3 3 3 3 3 3 3 3 3 3 3 3 3 3 3 3 3 3 3 3 3 3 3 3 3 3 3 3 3 3 3 3 3 3 3\n",
      "[5884] 3 3 3 3 3 3 3 3 3 3 3 3 3 3 3 3 3 3 3 3 3 3 3 3 3 3 3 3 3 3 3 3 3 3 3 3 3\n",
      "[5921] 3 3 3 3 3 3 3 3 3 3 3 3 3 3 3 3 2 3 3 3 3 3 3 3 3 3 3 3 3 3 3 3 3 3 3 3 3\n",
      "[5958] 3 3 3 3 3 3 3 3 3 3 3 3 3 3 3 3 3 3 3 3 3 3 3 3 3 3 3 3 3 3 3 3 3 3 3 3 3\n",
      "[5995] 3 3 3 3 3 3 3\n",
      "\n",
      "\n"
     ]
    }
   ],
   "source": [
    "print(classes)"
   ]
  },
  {
   "cell_type": "code",
   "execution_count": 38,
   "metadata": {
    "collapsed": false
   },
   "outputs": [
    {
     "data": {
      "text/plain": [
       "rpy2.robjects.vectors.ListVector"
      ]
     },
     "execution_count": 38,
     "metadata": {},
     "output_type": "execute_result"
    }
   ],
   "source": [
    "type(classes)"
   ]
  },
  {
   "cell_type": "code",
   "execution_count": 39,
   "metadata": {
    "collapsed": false
   },
   "outputs": [
    {
     "ename": "TypeError",
     "evalue": "'str' object cannot be interpreted as an index",
     "output_type": "error",
     "traceback": [
      "\u001b[1;31m---------------------------------------------------------------------------\u001b[0m",
      "\u001b[1;31mTypeError\u001b[0m                                 Traceback (most recent call last)",
      "\u001b[1;32m<ipython-input-39-4b2fedaeb050>\u001b[0m in \u001b[0;36m<module>\u001b[1;34m()\u001b[0m\n\u001b[1;32m----> 1\u001b[1;33m \u001b[0mclasses\u001b[0m\u001b[1;33m[\u001b[0m\u001b[1;34m'mu'\u001b[0m\u001b[1;33m]\u001b[0m\u001b[1;33m\u001b[0m\u001b[0m\n\u001b[0m",
      "\u001b[1;32m/vspdata/vspcompute/home/enf/software/anaconda/lib/python2.7/site-packages/rpy2-2.5.6-py2.7-linux-x86_64.egg/rpy2/robjects/vectors.pyc\u001b[0m in \u001b[0;36m__getitem__\u001b[1;34m(self, i)\u001b[0m\n\u001b[0;32m    242\u001b[0m \u001b[1;33m\u001b[0m\u001b[0m\n\u001b[0;32m    243\u001b[0m     \u001b[1;32mdef\u001b[0m \u001b[0m__getitem__\u001b[0m\u001b[1;33m(\u001b[0m\u001b[0mself\u001b[0m\u001b[1;33m,\u001b[0m \u001b[0mi\u001b[0m\u001b[1;33m)\u001b[0m\u001b[1;33m:\u001b[0m\u001b[1;33m\u001b[0m\u001b[0m\n\u001b[1;32m--> 244\u001b[1;33m         \u001b[0mres\u001b[0m \u001b[1;33m=\u001b[0m \u001b[0msuper\u001b[0m\u001b[1;33m(\u001b[0m\u001b[0mVector\u001b[0m\u001b[1;33m,\u001b[0m \u001b[0mself\u001b[0m\u001b[1;33m)\u001b[0m\u001b[1;33m.\u001b[0m\u001b[0m__getitem__\u001b[0m\u001b[1;33m(\u001b[0m\u001b[0mi\u001b[0m\u001b[1;33m)\u001b[0m\u001b[1;33m\u001b[0m\u001b[0m\n\u001b[0m\u001b[0;32m    245\u001b[0m \u001b[1;33m\u001b[0m\u001b[0m\n\u001b[0;32m    246\u001b[0m         \u001b[1;32mif\u001b[0m \u001b[0misinstance\u001b[0m\u001b[1;33m(\u001b[0m\u001b[0mres\u001b[0m\u001b[1;33m,\u001b[0m \u001b[0mSexp\u001b[0m\u001b[1;33m)\u001b[0m\u001b[1;33m:\u001b[0m\u001b[1;33m\u001b[0m\u001b[0m\n",
      "\u001b[1;31mTypeError\u001b[0m: 'str' object cannot be interpreted as an index"
     ]
    }
   ],
   "source": [
    "classes['mu']"
   ]
  },
  {
   "cell_type": "code",
   "execution_count": 42,
   "metadata": {
    "collapsed": true
   },
   "outputs": [],
   "source": [
    "d = { key : classes.rx2(key) for key in classes.names }"
   ]
  },
  {
   "cell_type": "code",
   "execution_count": 43,
   "metadata": {
    "collapsed": false
   },
   "outputs": [
    {
     "data": {
      "text/plain": [
       "{'classes': <IntVector - Python:0x7fe628165e18 / R:0xc5364d0>\n",
       " [       2,        2,        2, ...,        3,        3,        3],\n",
       " 'mu': <FloatVector - Python:0x7fe61129e8c0 / R:0xbf39f60>\n",
       " [-2.394246, -1.161059, -0.185201, 0.920748, 1.918708]}"
      ]
     },
     "execution_count": 43,
     "metadata": {},
     "output_type": "execute_result"
    }
   ],
   "source": [
    "d"
   ]
  },
  {
   "cell_type": "code",
   "execution_count": 45,
   "metadata": {
    "collapsed": false
   },
   "outputs": [],
   "source": [
    "pyclasses = np.array(d['classes'])"
   ]
  },
  {
   "cell_type": "code",
   "execution_count": 46,
   "metadata": {
    "collapsed": false
   },
   "outputs": [
    {
     "data": {
      "text/plain": [
       "array([2, 2, 2, ..., 3, 3, 3], dtype=int32)"
      ]
     },
     "execution_count": 46,
     "metadata": {},
     "output_type": "execute_result"
    }
   ],
   "source": [
    "pyclasses"
   ]
  },
  {
   "cell_type": "code",
   "execution_count": null,
   "metadata": {
    "collapsed": true
   },
   "outputs": [],
   "source": []
  }
 ],
 "metadata": {
  "kernelspec": {
   "display_name": "Python 2",
   "language": "python",
   "name": "python2"
  },
  "language_info": {
   "codemirror_mode": {
    "name": "ipython",
    "version": 2
   },
   "file_extension": ".py",
   "mimetype": "text/x-python",
   "name": "python",
   "nbconvert_exporter": "python",
   "pygments_lexer": "ipython2",
   "version": "2.7.10"
  }
 },
 "nbformat": 4,
 "nbformat_minor": 0
}
