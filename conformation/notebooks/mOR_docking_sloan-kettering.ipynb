{
 "cells": [
  {
   "cell_type": "markdown",
   "metadata": {
    "collapsed": false
   },
   "source": [
    "In this iPython notebook, we will featurize MOR ligand binding simulation by pairwise distances between the ligand and different receptor residues. We will then perform tICA and prospectively build an MSM. "
   ]
  },
  {
   "cell_type": "code",
   "execution_count": 1,
   "metadata": {
    "collapsed": true
   },
   "outputs": [],
   "source": [
    "import seaborn as sns\n",
    "import matplotlib\n",
    "import matplotlib.pyplot as plt\n",
    "\n",
    "# changing matplotlib the default style\n",
    "matplotlib.style.use('ggplot')\n",
    "#matplotlib.rcParams[\"figure.facecolor\"] = \"white\"\n",
    "#matplotlib.rcPar|ams[\"savefig.transparent\"] = \"True\"\n"
   ]
  },
  {
   "cell_type": "code",
   "execution_count": 2,
   "metadata": {
    "collapsed": false
   },
   "outputs": [
    {
     "name": "stderr",
     "output_type": "stream",
     "text": [
      "/home/enf/anaconda3/lib/python3.5/site-packages/matplotlib/__init__.py:1350: UserWarning:  This call to matplotlib.use() has no effect\n",
      "because the backend has already been chosen;\n",
      "matplotlib.use() must be called *before* pylab, matplotlib.pyplot,\n",
      "or matplotlib.backends is imported for the first time.\n",
      "\n",
      "  warnings.warn(_use_error_msg)\n"
     ]
    }
   ],
   "source": [
    "import pandas as pd\n",
    "\n",
    "\n",
    "from PDB_Order_Fixer import PDB_Order_Fixer\n",
    "import mdtraj as md\n",
    "import os\n",
    "import numpy as np\n",
    "import h5py\n",
    "\n",
    "import datetime\n",
    "import glob\n",
    "import copy\n",
    "from functools import partial \n",
    "import operator\n",
    "import time\n",
    "\n",
    "import random \n",
    "import subprocess\n",
    "from subprocess import Popen\n",
    "import sys\n",
    "from custom_clusterer import *\n",
    "from custom_tica import *\n",
    "from custom_featurizer import *\n",
    "from pdb_editing import *\n",
    "from analysis import *\n",
    "from io_functions import *\n",
    "#from topology_fixing import *\n",
    "from subsampling import *\n",
    "from conversions import *\n",
    "from custom_msm import *\n",
    "from grids import *\n",
    "from docking_analysis import *\n",
    "\n",
    "from scipy import stats\n",
    "import os\n",
    "from efficacy_scripts import *\n",
    "\n",
    "\n"
   ]
  },
  {
   "cell_type": "code",
   "execution_count": 3,
   "metadata": {
    "collapsed": true
   },
   "outputs": [],
   "source": [
    "import warnings\n",
    "warnings.filterwarnings('ignore')\n",
    "%matplotlib inline"
   ]
  },
  {
   "cell_type": "code",
   "execution_count": 4,
   "metadata": {
    "collapsed": false
   },
   "outputs": [],
   "source": [
    "from sklearn.preprocessing import scale"
   ]
  },
  {
   "cell_type": "code",
   "execution_count": 5,
   "metadata": {
    "collapsed": false
   },
   "outputs": [],
   "source": [
    "from detect_intermediates import *\n",
    "from interpret_tICs import *"
   ]
  },
  {
   "cell_type": "code",
   "execution_count": 6,
   "metadata": {
    "collapsed": false
   },
   "outputs": [],
   "source": [
    "from msmbuilder.utils import verbosedump, verboseload\n"
   ]
  },
  {
   "cell_type": "code",
   "execution_count": 7,
   "metadata": {
    "collapsed": false,
    "scrolled": true
   },
   "outputs": [
    {
     "name": "stdout",
     "output_type": "stream",
     "text": [
      "tm6_tm3_residues\n",
      "[R279, R165]\n",
      "[65, 66, 67, 68, 69, 70, 71, 72, 73, 74, 75, 76, 77, 78, 79, 80, 81, 82, 83, 84, 85, 86, 87, 88, 89, 90, 91, 92, 93, 94, 95, 96, 97, 98, 99, 100, 101, 102, 103, 104, 105, 106, 107, 108, 109, 110, 111, 112, 113, 114, 115, 116, 117, 118, 119, 120, 121, 122, 123, 124, 125, 126, 127, 128, 129, 130, 131, 132, 133, 134, 135, 136, 137, 138, 139, 140, 141, 142, 143, 144, 145, 146, 147, 148, 149, 150, 151, 152, 153, 154, 155, 156, 157, 158, 159, 160, 161, 162, 163, 164, 165, 166, 167, 168, 169, 170, 171, 172, 173, 174, 175, 176, 177, 178, 179, 180, 181, 182, 183, 184, 185, 186, 187, 188, 189, 190, 191, 192, 193, 194, 195, 196, 197, 198, 199, 200, 201, 202, 203, 204, 205, 206, 207, 208, 209, 210, 211, 212, 213, 214, 215, 216, 217, 218, 219, 220, 221, 222, 223, 224, 225, 226, 227, 228, 229, 230, 231, 232, 233, 234, 235, 236, 237, 238, 239, 240, 241, 242, 243, 244, 245, 246, 247, 248, 249, 250, 251, 252, 253, 254, 255, 256, 257, 258, 259, 273, 274, 275, 276, 277, 278, 279, 280, 281, 282, 283, 284, 285, 286, 287, 288, 289, 290, 291, 292, 293, 294, 295, 296, 297, 298, 299, 300, 301, 302, 303, 304, 305, 306, 307, 308, 309, 310, 311, 312, 313, 314, 315, 316, 317, 318, 319, 320, 321, 322, 323, 324, 325, 326, 327, 328, 329, 330, 331, 332, 333, 334, 335, 336, 337, 338, 339, 340, 341, 342, 343, 344, 345, 346, 347]\n",
      "There are 270 common residues between input structures\n"
     ]
    }
   ],
   "source": [
    "from mor_h8_feature_types import *\n",
    "#from b2ar_feature_types import *\n",
    "from get_variable_names import *\n",
    "from mor_h8_tica_config import *\n",
    "from residue import Residue, Atom"
   ]
  },
  {
   "cell_type": "code",
   "execution_count": 8,
   "metadata": {
    "collapsed": true
   },
   "outputs": [],
   "source": [
    "from sklearn import tree\n",
    "from sklearn.tree import DecisionTreeClassifier, export_graphviz\n",
    "from sklearn.preprocessing import scale\n",
    "from random import shuffle\n",
    "from sklearn.metrics import accuracy_score\n",
    "from sklearn.linear_model import LogisticRegression\n",
    "from sklearn.metrics import roc_curve, auc"
   ]
  },
  {
   "cell_type": "code",
   "execution_count": 9,
   "metadata": {
    "collapsed": true
   },
   "outputs": [],
   "source": [
    "\n",
    "ori_feature_name = copy.deepcopy(feature_name)"
   ]
  },
  {
   "cell_type": "code",
   "execution_count": 10,
   "metadata": {
    "collapsed": false
   },
   "outputs": [],
   "source": [
    "#schemes = [\"closest-heavy\", \"CA\"]\n",
    "#feature_name = \"%s-CA\" %ori_feature_name"
   ]
  },
  {
   "cell_type": "code",
   "execution_count": 11,
   "metadata": {
    "collapsed": false
   },
   "outputs": [],
   "source": [
    "rho = 0.1\n",
    "rho_string = \"0pt1\"\n",
    "lag_time = 5\n",
    "n_components = 10\n",
    "n_clusters = 1500\n",
    "\n",
    "rho = 0.01\n",
    "rho_string = \"0pt01\"\n",
    "lag_time=50\n",
    "ori_feature_name = copy.deepcopy(feature_name)"
   ]
  },
  {
   "cell_type": "code",
   "execution_count": 12,
   "metadata": {
    "collapsed": false
   },
   "outputs": [
    {
     "name": "stdout",
     "output_type": "stream",
     "text": [
      "/home/enf/md_simulations/MOR/h8_reimaged/featuresall_residues_4dkl_5c1m_under_cutoff6A-CA-py3-far\n",
      "/home/enf/md_simulations/MOR/h8_reimaged/featuresall_residues_4dkl_5c1m_under_cutoff6A-CA-py3-far\n"
     ]
    }
   ],
   "source": [
    "schemes = [\"closest-heavy\", \"CA\"]\n",
    "feature_name = \"%s-CA-py3-far\" %ori_feature_name\n",
    "#feature_name = \"%s_phi_psi_chi2\" %feature_name\n",
    "(active_ref_dir, inactive_ref_dir, simulation_ref_dir, scripts_dir,\n",
    "          ligand_dir, agonist_dir, inverse_agonist_dir, biased_agonist_dir, ref_receptors_dir, whole_trajectory_pnas,\n",
    "          sasa_file) = get_base_files(base)\n",
    "\n",
    "tica_dir = get_tica_dir(base, is_sparse, lag_time, n_components, feature_name, \n",
    "                                 wolf_string, shrinkage_string, rho_string)\n",
    "#tica_dir = \"%s-with-inactive\" %tica_dir\n",
    "tica_dir = \"%s-backup\" %tica_dir\n",
    "ori_tica_dir = copy.deepcopy(tica_dir)\n",
    "#tica_dir = \"%s-normalized\" % ori_tica_dir\n",
    "features_dir = get_features_dir(base, feature_name)\n",
    "\n",
    "landmarks_dir = get_landmarks_dir(tica_dir)\n",
    "analysis_dir = get_analysis_dir(tica_dir, n_clusters, sampling_method)\n",
    "gmm_dir = get_gmm_dir(tica_dir)\n",
    "rf_dir = get_rf_dir(tica_dir)\n",
    "\n",
    "\n",
    "ref_tica_dir, ref_tica_coords = get_ref_tica_dirs(tica_dir)\n",
    "\n",
    "graph_file = get_graph_file(tica_dir, msm_lag_time, n_clusters)\n",
    "\n",
    "pnas_titles =  [\"tm6_tm3_dist\", \"rmsd_npxxy_inactive\", \"rmsd_npxxy_active\", \"rmsd_connector_inactive\", \"rmsd_connector_active\"]\n",
    "pnas_features_dir = analysis_dir\n",
    "\n",
    "\n",
    "(clusterer_dir, msm_model_dir, macrostate_dir, features_known, model_dir, projected_features_dir,\n",
    "         projection_operator_dir, ktica_fit_model_filename, ktica_projected_data_filename, nystroem_data_filename,\n",
    "         mutual_information_csv, pearson_csv) = get_tica_files(base, tica_dir, n_clusters, msm_lag_time, n_macrostates)\n",
    "\n",
    "(standardized_features_dir, feature_residues_csv, feature_residues_pkl,\n",
    "          contact_csv, ref_features_dir) = get_feature_files(features_dir)\n",
    "\n",
    "(kmeans_csv, tica_coords_csv, features_csv, active_rmsd_dir, inactive_rmsd_dir, active_pnas_dir, inactive_pnas_joined, active_pnas_joined,\n",
    "        clusters_map_file, ktica_clusters_map_file, analysis_file, combined_file, docking_summary, docking_joined, docking_z_scores_csv,\n",
    "        aggregate_docking, aggregate_docking_joined, docking_pnas_joined, aggregate_docking_pnas, aggregate_docking_pnas_joined, docking_multiple_ligands,\n",
    "        docking_distances_file, docking_pdf, mmgbsa_docking_distances, pnas_coords, mmgbsa_dir, mmgbsa_csv, mmgbsa_pdf, aggregate_mmgbsa,\n",
    "        aggregate_mmgbsa_joined, aggregate_mmgbsa_pnas_joined, mmgbsa_z_scores_csv, active_clusters_csv, intermediate_clusters_csv,\n",
    "        inactive_clusters_csv, pnas_clusters_averages, tica_clusters_averages, tica_classes_csv, tica_samples_csv, subgraph_save_base,\n",
    "        degree_save_base, degree_map_csv, degree_z_map_csv, aggregate_docking_pnas_degree_z_joined, tic_residue_csv, feature_coefs_csv,\n",
    "        duplicated_feature_coefs_csv) = get_analysis_files(analysis_dir, n_clusters, tica_dir, tica_dir, sampling_method, n_samples, precision,\n",
    "                                                           msm_lag_time)\n",
    "\n",
    "(inactive_pnas_distances_dir, active_pnas_distances_dir, active_pnas_all_distances_dir,\n",
    "          inactive_pnas_distances_new_csv, active_pnas_distances_new_csv, active_pnas_joined, active_pnas_means, pnas_coords_dir,\n",
    "          pnas_coords_csv, pnas_all_coords_csv, pnas_coords_hexbin_dir, pnas_coords_co_crystallized_docking_dir,\n",
    "          pnas_coords_active_colors_dir, user_defined_features_file, reaction_coordinates_trajs_file) = get_pnas_files(whole_trajectory_pnas, pnas_features_dir)\n",
    "\n",
    "features_dir = get_features_dir(base, feature_name)\n",
    "\n",
    "\n",
    "\n",
    "graph_file = get_graph_file(tica_dir, msm_lag_time, n_clusters)\n",
    "(scripts_dir, pymol_fixpdb_dir) = get_script_dir(scripts_dir)\n",
    "(save_dir, reimaged_dir, mae_dir, combined_reimaged_dir, grid_dir, docking_dir) = get_docking_dirs(tica_dir, n_clusters, n_components, n_samples, sampling_method, precision)\n",
    "\n"
   ]
  },
  {
   "cell_type": "code",
   "execution_count": 16,
   "metadata": {
    "collapsed": false
   },
   "outputs": [
    {
     "name": "stdout",
     "output_type": "stream",
     "text": [
      "225\n"
     ]
    },
    {
     "data": {
      "text/plain": [
       "<AsyncMapResult: chdir>"
      ]
     },
     "execution_count": 16,
     "metadata": {},
     "output_type": "execute_result"
    }
   ],
   "source": [
    "from ipyparallel import Client\n",
    "rc = Client()\n",
    "print(len(rc.ids))\n",
    "dview = rc[:]\n",
    "dview.map(os.chdir, ['/home/enf/b2ar_analysis/conformation']*len(rc.ids))"
   ]
  },
  {
   "cell_type": "code",
   "execution_count": 15,
   "metadata": {
    "collapsed": false
   },
   "outputs": [],
   "source": [
    "grid_center = \"0.33, 1.64, 9.\"\n",
    "\n",
    "precision = \"SP\"\n",
    "htbc_dir = \"/home/enf/htbc/sdfs\"\n",
    "reference_grids_dir = \"/home/enf/md_simulations/MOR/docking/reference_grids\"\n",
    "reference_docking_dir = \"/home/enf/md_simulations/MOR/docking/reference_docking_%s\" %precision\n",
    "if not os.path.exists(reference_docking_dir):\n",
    "    os.makedirs(reference_docking_dir)\n",
    "\n",
    "#dock_ligands_and_receptors(reference_grids_dir, reference_docking_dir,\n",
    "#                           htbc_dir, precision = precision, ext = \"-out.maegz\",\n",
    "#                           chosen_ligands=False, chosen_receptors=None, parallel=False,\n",
    "#                           grid_ext = \".zip\", worker_pool=dview)"
   ]
  },
  {
   "cell_type": "code",
   "execution_count": 15,
   "metadata": {
    "collapsed": false
   },
   "outputs": [],
   "source": [
    "from imp import reload\n",
    "import analysis\n",
    "reload(analysis)\n",
    "from analysis import *\n",
    "\n",
    "import efficacy_scripts\n",
    "reload(efficacy_scripts)\n",
    "from efficacy_scripts import *\n",
    "\n",
    "\n",
    "ligand_df = pd.read_excel(\"/home/enf/md_simulations/MOR/docking/mu_receptor_ligands_1.xlsx\")\n",
    "ligand_df = ligand_df[[\"smiles\", \"ligand\", \"type\"]].dropna()\n",
    "\n",
    "import re\n",
    "ligand_names = ligand_df[\"ligand\"].values.tolist()\n",
    "new_ligand_names = [re.sub('[^\\w\\-_\\. ]', '_', name) for name in ligand_names]\n",
    "ligand_df[\"ligand\"] = new_ligand_names\n"
   ]
  },
  {
   "cell_type": "code",
   "execution_count": 16,
   "metadata": {
    "collapsed": false
   },
   "outputs": [],
   "source": [
    "ligand_df = pd.read_table(\"/home/enf/md_simulations/MOR/docking/geneid_4988_bioactivity.txt\")\n",
    "ligand_df = ligand_df.loc[(~ligand_df[\"BioAssay Name\"].str.contains(\"hetero\")) & (~ligand_df[\"BioAssay Name\"].str.contains(\"Counter\"))]# & (ligand_df[\"BioAssay Name\"].str.contains(\"GTP\"))]\n",
    "\n",
    "with open(\"/home/enf/md_simulations/MOR/docking/binding_db.pkl\", \"rb\") as f:\n",
    "    binding_db = pickle.load(f)\n",
    "                            "
   ]
  },
  {
   "cell_type": "code",
   "execution_count": 17,
   "metadata": {
    "collapsed": false,
    "scrolled": true
   },
   "outputs": [
    {
     "data": {
      "text/plain": [
       "BindingDB Reactant_set_id                                                                                        50020336\n",
       "Ligand SMILES                                                                  CCC(=O)N(c1ccccc1)C1(COC)CCN(CCc2cccs2)CC1\n",
       "Ligand InChI                                                            InChI=1S/C22H30N2O2S/c1-3-21(25)24(19-8-5-4-6-...\n",
       "Ligand InChI Key                                                                              GGCSSNBKKAUURC-UHFFFAOYSA-N\n",
       "BindingDB MonomerID                                                                                                 94503\n",
       "BindingDB Ligand Name                                                   2-hydroxypropane-1,2,3-tricarboxylic acid;N-[4...\n",
       "Target Name Assigned by Curator or DataSource                                               Nociceptin/mu opioid receptor\n",
       "Target Source Organism According to Curator or DataSource                                               Rattus norvegicus\n",
       "Ki (nM)                                                                                                              0.22\n",
       "IC50 (nM)                                                                                                             NaN\n",
       "Kd (nM)                                                                                                               NaN\n",
       "EC50 (nM)                                                                                                             NaN\n",
       "kon (M-1-s-1)                                                                                                         NaN\n",
       "koff (s-1)                                                                                                            NaN\n",
       "pH                                                                                                                    NaN\n",
       "Temp (C)                                                                                                              NaN\n",
       "Curation/DataSource                                                                                                ChEMBL\n",
       "Article DOI                                                                                                           NaN\n",
       "PMID                                                                                                          2.17065e+06\n",
       "PubChem AID                                                                                                           NaN\n",
       "Patent Number                                                                                                         NaN\n",
       "Authors                                                                 Lalinde, N; Moliterni, J; Wright, D; Spencer, ...\n",
       "Institution                                                                                      Anaquest Pharmaceuticals\n",
       "Link to Ligand in BindingDB                                             http://www.bindingdb.org/bind/chemsearch/marvi...\n",
       "Link to Target in BindingDB                                             http://www.bindingdb.org/jsp/dbsearch/PrimaryS...\n",
       "Link to Ligand-Target Pair in BindingDB                                 http://www.bindingdb.org/jsp/dbsearch/PrimaryS...\n",
       "Ligand HET ID in PDB                                                                                                  NaN\n",
       "PDB ID(s) for Ligand-Target Complex                                                                                   NaN\n",
       "PubChem CID                                                                                                         41693\n",
       "PubChem SID                                                                                                     164035747\n",
       "ChEBI ID of Ligand                                                                                                    NaN\n",
       "ChEMBL ID of Ligand                                                                                                   NaN\n",
       "DrugBank ID of Ligand                                                                                             DB00708\n",
       "IUPHAR_GRAC ID of Ligand                                                                                              NaN\n",
       "KEGG ID of Ligand                                                                                                  C08022\n",
       "ZINC ID of Ligand                                                                                            ZINC00538386\n",
       "Number of Protein Chains in Target (>1 implies a multichain complex)                                                    1\n",
       "BindingDB Target Chain  Sequence                                        MDSSTGPGNTSDCSDPLAQASCSPAPGSWLNLSHVDGNQSDPCGLN...\n",
       "PDB ID(s) of Target Chain                                                                                            4DKL\n",
       "UniProt (SwissProt) Recommended Name of Target Chain                                              Mu-type opioid receptor\n",
       "UniProt (SwissProt) Entry Name of Target Chain                                                                   OPRM_RAT\n",
       "UniProt (SwissProt) Primary ID of Target Chain                                                                     P33535\n",
       "UniProt (SwissProt) Secondary ID(s) of Target Chain                     Q2TV20,Q2TV21,Q4VWM5,Q4VWM7,Q4VWX7,Q4VWX8,Q628...\n",
       "UniProt (SwissProt) Alternative ID(s) of Target Chain                                                                 NaN\n",
       "UniProt (TrEMBL) Submitted Name of Target Chain                                                                       NaN\n",
       "UniProt (TrEMBL) Entry Name of Target Chain                                                                           NaN\n",
       "UniProt (TrEMBL) Primary ID of Target Chain                                                                           NaN\n",
       "UniProt (TrEMBL) Secondary ID(s) of Target Chain                                                                      NaN\n",
       "UniProt (TrEMBL) Alternative ID(s) of Target Chain                                                                    NaN\n",
       "Name: 7257, dtype: object"
      ]
     },
     "execution_count": 17,
     "metadata": {},
     "output_type": "execute_result"
    }
   ],
   "source": [
    "binding_db.loc[binding_db[\"BindingDB Ligand Name\"].str.contains(\"fentanyl\")].iloc[0]"
   ]
  },
  {
   "cell_type": "code",
   "execution_count": 18,
   "metadata": {
    "collapsed": false
   },
   "outputs": [],
   "source": [
    "wiki_agonists = [\"3-HO-PCP\", \"7-PET\", \"Acetorphine\", \"Acetoxyketobemidone\", \"Acetyldihydrocodeine\", \"Acetylfentanyl\", \"Acetylmethadol\", \"Acetylmorphone\", \"Acetylpropionylmorphine\", \"Acrylfentanyl\", \"AD-1211\", \"Adrenorphin\", \"AH-7921\", \"Akuammine\", \"Alfentanil\", \"Alimadol\", \"3-Allylfentanyl\", \"Allylnorpethidine\", \"Allylprodine\", \"Alphacetylmethadol\", \"Alphamethadol\", \"Alphamethylthiofentanyl\", \"Anileridine\", \"Azaprocin\", \"Azidomorphine\", \"BDPC\", \"Benzethidine\", \"Benzhydrocodone\", \"Benzylmorphine\", \"Betacetylmethadol\", \"Betahydroxyfentanyl\", \"Betahydroxythiofentanyl\", \"Betamethadol\", \"Bezitramide\", \"Brifentanil\", \"Bromadoline\", \"Buprenorphine\", \"Butyrfentanyl\", \"BW373U86\", \"C-8813\", \"8-Carboxamidocyclazocine\", \"Carfentanil\", \"Cebranopadol\", \"Chloromorphide\", \"Chloroxymorphamine\", \"14-Cinnamoyloxycodeinone\", \"Ciprefadol\", \"Ciramadol\", \"Clonitazene\", \"Codeine-6-glucuronide\", \"Codeinone\", \"Codoxime\", \"Conorfone\", \"DADLE\", \"DAMGO\", \"Dermorphin\", \"Desmethylclozapine\", \"Desmethylprodine\", \"O-Desmethyltramadol\", \"Desomorphine\", \"Dextromoramide\", \"Dextropropoxyphene\", \"Diacetyldihydromorphine\", \"Diampromide\", \"Dibenzoylmorphine\", \"Dibutyrylmorphine\", \"Diethylthiambutene\", \"Difenoxin\", \"Dihydrocodeine\", \"Dihydroetorphine\", \"Dihydromorphine\", \"Dimenoxadol\", \"Dimepheptanol\", \"Dimethylaminopivalophenone\", \"Dimethylthiambutene\", \"Dioxaphetyl butyrate\", \"Diphenoxylate\", \"Dipipanone\", \"Dipropanoylmorphine\", \"Doxpicomine\", \"DPI-3290\", \"Drotebanol\", \"Eluxadoline\", \"6,14-Endoethenotetrahydrooripavine\", \"Endomorphin\", \"Endomorphin-1\", \"Endomorphin-2\", \"Beta-Endorphin\", \"Eseroline\", \"Ethoheptazine\", \"14-Ethoxymetopon\", \"Ethylmethylthiambutene\", \"Ethylmorphine\", \"Etonitazene\", \"Etorphine\", \"Etoxeridine\", \"Fentanyl\", \"4-Fluorobutyrfentanyl\", \"4-Fluoropethidine\", \"Furanylfentanyl\", \"Furethidine\", \"Hemorphin-4\", \"Heroin\", \"Heterocodeine\", \"Hodgkinsine\", \"Hydrocodone\", \"Hydromorphinol\", \"Hydromorphone\", \"14-Hydroxydihydrocodeine\", \"7-Hydroxymitragynine\", \"Hydroxypethidine\", \"IBNtxA\", \"IC-26\", \"1-Iodomorphine\", \"Isomethadone\", \"Ketamine\", \"Ketobemidone\", \"Lefetamine\", \"Levacetylmethadol\", \"Levallorphan\", \"Levomethadone\", \"Levomethorphan\", \"Levophenacylmorphan\", \"Levorphanol\", \"Lofentanil\", \"Loperamide\", \"Loperamide/simethicone\", \"Meprodine\", \"Metethoheptazine\", \"Methadone\", \"Metheptazine\", \"4-Methoxybutyrfentanyl\", \"14-Methoxydihydromorphinone\", \"14-Methoxymetopon\", \"Α-Methylacetylfentanyl\", \"3-Methylbutyrfentanyl\", \"N-Methylcarfentanil\", \"Methyldesorphine\", \"Methyldihydromorphine\", \"6-Methylenedihydrodesoxymorphine\", \"3-Methylfentanyl\", \"Α-Methylfentanyl\", \"Beta-Methylfentanyl\", \"Methylketobemidone\", \"3-Methylthiofentanyl\", \"Metofoline\", \"Metopon\", \"Mirfentanil\", \"Mitragynine\", \"Mitragynine pseudoindoxyl\", \"6-Monoacetylmorphine\", \"Morpheridine\", \"Morphine\", \"Morphine-6-glucuronide\", \"Morphine-N-oxide\", \"Morphinone\", \"MR-2096\", \"MT-45\", \"Myrophine\", \"Nalmexone\", \"Naltalimide\", \"Nicocodeine\", \"Nicodicodeine\", \"Nicomorphine\", \"Noracymethadol\", \"Norbuprenorphine\", \"Norketamine\", \"Norlevorphanol\", \"Normethadone\", \"Noroxymorphone\", \"Ocfentanil\", \"Ohmefentanyl\", \"Oliceridine\", \"Oxpheneridine\", \"Oxycodone\", \"Oxymorphazone\", \"Oxymorphol\", \"Oxymorphone\", \"Oxytrex\", \"Parafluorofentanyl\", \"Pentamorphone\", \"PEPAP\", \"Pericine\", \"Pethidine\", \"Phenadoxone\", \"Phenampromide\", \"Phenaridine\", \"Phenazocine\", \"Pheneridine\", \"N-Phenethyl-14-ethoxymetopon\", \"N-Phenethylnordesomorphine\", \"N-Phenethylnormorphine\", \"Phenomorphan\", \"Phenoperidine\", \"4-Phenylfentanyl\", \"14-Phenylpropoxymetopon\", \"Picenadol\", \"Piminodine\", \"Piperidylthiambutene\", \"Piritramide\", \"Prodilidine\", \"Prodine\", \"Proheptazine\", \"Properidine\", \"Propylketobemidone\", \"Prosidol\", \"PTI-609\", \"Pyrrolidinylthiambutene\", \"PZM21\", \"R-4066\", \"R-30490\", \"Racemorphan\", \"Remifentanil\", \"Ro4-1539\", \"RWJ-394674\", \"Sameridine\", \"SC-17599\", \"Semorphone\", \"Sufentanil\", \"Tapentadol\", \"Thebacon\", \"Thiambutenes\", \"Thienorphine\", \"Thiofentanyl\", \"Tilidine\", \"Tramadol\", \"Trefentanil\", \"Trimebutine\", \"Trimeperidine\", \"TRIMU 5\", \"U-47700\", \"U-77891\", \"Viminol\"]\n",
    "wiki_antagonists = [\"(3S,4S)-Picenadol\", \"2-(S)-N,N-(R)-Viminol\", \"4-Caffeoyl-1,5-quinide\", \"4′-Hydroxyflavanone\", \"4',7-Dihydroxyflavone\", \"6β-Naltrexol\", \"6β-Naltrexol-d4\", \"18-MC\", \"α-Gliadin\", \"β-Chlornaltrexamine\", \"β-Funaltrexamine\", \"Akuammine\", \"Alvimopan\", \"AM-251\", \"Apigenin\", \"AT-076\", \"Axelopran\", \"Bevenopran\", \"Catechin\", \"Catechin\", \"gallate\", \"Clocinnamox\", \"CTAP\", \"CTOP\", \"Cyclofoxy\", \"Cyprodime\", \"Diacetylnalorphine\", \"Diprenorphine\", \"ECG\", \"EGC\", \"Epicatechin\", \"Eptazocine\", \"Gemazocine\", \"Ginsenoside R\", \"Hyperoside\", \"Ibogaine\", \"Levallorphan\", \"Lobeline\", \"LY-255582\", \"LY-2196044\", \"Methocinnamox\", \"Methylnaltrexone\", \"Methylsamidorphan\", \"Naldemedine\", \"Nalmefene\", \"Nalodeine\", \"(N-allylnorcodeine)\", \"Nalorphine\", \"Nalorphine\", \"dinicotinate\", \"Naloxazone\", \"Naloxegol\", \"Naloxol\", \"Naloxonazine\", \"Naloxone\", \"Naltrexazone\", \"Naltrexonazine\", \"Naltrexone\", \"Naltrindole\", \"Naringenin\", \"Noribogaine\", \"Oxilorphan\", \"Pawhuskin A\", \"Rimonabant\", \"Quadazocine\", \"Samidorphan\", \"Taxifolin\"]\n",
    "agonist_rows = [(a, \"agonist\") for a in wiki_agonists]\n",
    "antagonist_rows = [(a, \"antagonist\") for a in wiki_antagonists]\n",
    "ligand_df = pd.DataFrame(agonist_rows+antagonist_rows, columns=(\"name\", \"action\"))\n",
    "wiki_mor_df_file = \"/home/enf/md_simulations/MOR/docking/wiki_mor_df.pkl\"\n",
    "with open(wiki_mor_df_file, \"wb\") as f:\n",
    "    pickle.dump(ligand_df, f, protocol=2)"
   ]
  },
  {
   "cell_type": "code",
   "execution_count": null,
   "metadata": {
    "collapsed": false
   },
   "outputs": [
    {
     "name": "stdout",
     "output_type": "stream",
     "text": [
      "Analyzing docking results\n",
      "/home/enf/md_simulations/MOR/docking/reference_docking_SP\n",
      "Obtaining docking scores now...\n",
      "Obtained ligand arguments.\n"
     ]
    },
    {
     "name": "stderr",
     "output_type": "stream",
     "text": [
      "Exception ignored in: <Finalize object, dead>\n",
      "Traceback (most recent call last):\n",
      "  File \"/home/enf/anaconda3/lib/python3.5/multiprocessing/util.py\", line 186, in __call__\n",
      "    res = self._callback(*self._args, **self._kwargs)\n",
      "  File \"/home/enf/anaconda3/lib/python3.5/multiprocessing/pool.py\", line 537, in _terminate_pool\n",
      "    assert result_handler.is_alive() or len(cache) == 0\n",
      "AssertionError: \n"
     ]
    },
    {
     "name": "stdout",
     "output_type": "stream",
     "text": [
      "Examined all ligands.\n",
      "Parsed all log files.\n"
     ]
    }
   ],
   "source": [
    "import importlib\n",
    "import analysis\n",
    "importlib.reload(analysis)\n",
    "from analysis import *\n",
    "\n",
    "#print(reference_docking_dir)\n",
    "reference_docking_df, reference_poses_df = analyze_docking_results_multiple(\"/home/enf/md_simulations/MOR/docking/reference_docking_SP\", precision, \"/home/enf/md_simulations/MOR/docking/reference_docking_SP/summary.pkl\", worker_pool=dview,\n",
    "ligands=None, poses_summary=None, redo=True, reread=True, parallel=True,\n",
    "write_to_disk=True)"
   ]
  },
  {
   "cell_type": "code",
   "execution_count": 23,
   "metadata": {
    "collapsed": false
   },
   "outputs": [
    {
     "name": "stdout",
     "output_type": "stream",
     "text": [
      "(135382, 2)\n"
     ]
    }
   ],
   "source": [
    "#reference_docking_df = reference_docking_df.transpose()\n",
    "print(reference_docking_df.shape)"
   ]
  },
  {
   "cell_type": "code",
   "execution_count": 24,
   "metadata": {
    "collapsed": false
   },
   "outputs": [
    {
     "data": {
      "text/html": [
       "<div>\n",
       "<table border=\"1\" class=\"dataframe\">\n",
       "  <thead>\n",
       "    <tr style=\"text-align: right;\">\n",
       "      <th></th>\n",
       "      <th>bu72_aligned_4DKL_R_L_conformation</th>\n",
       "      <th>bu72_ionized_pymol_RL_conformation</th>\n",
       "      <th>diff</th>\n",
       "    </tr>\n",
       "  </thead>\n",
       "  <tbody>\n",
       "    <tr>\n",
       "      <th>SID_103547933</th>\n",
       "      <td>-0</td>\n",
       "      <td>8.72</td>\n",
       "      <td>8.72</td>\n",
       "    </tr>\n",
       "    <tr>\n",
       "      <th>_90021</th>\n",
       "      <td>-0</td>\n",
       "      <td>7.41</td>\n",
       "      <td>7.41</td>\n",
       "    </tr>\n",
       "    <tr>\n",
       "      <th>_99059</th>\n",
       "      <td>-0</td>\n",
       "      <td>6.81</td>\n",
       "      <td>6.81</td>\n",
       "    </tr>\n",
       "    <tr>\n",
       "      <th>_123923</th>\n",
       "      <td>-0</td>\n",
       "      <td>6.7</td>\n",
       "      <td>6.7</td>\n",
       "    </tr>\n",
       "    <tr>\n",
       "      <th>_124511</th>\n",
       "      <td>-0</td>\n",
       "      <td>6.66</td>\n",
       "      <td>6.66</td>\n",
       "    </tr>\n",
       "    <tr>\n",
       "      <th>_120698</th>\n",
       "      <td>-0</td>\n",
       "      <td>6.64</td>\n",
       "      <td>6.64</td>\n",
       "    </tr>\n",
       "    <tr>\n",
       "      <th>_8447</th>\n",
       "      <td>-0</td>\n",
       "      <td>6.57</td>\n",
       "      <td>6.57</td>\n",
       "    </tr>\n",
       "    <tr>\n",
       "      <th>_131257</th>\n",
       "      <td>-0</td>\n",
       "      <td>6.53</td>\n",
       "      <td>6.53</td>\n",
       "    </tr>\n",
       "    <tr>\n",
       "      <th>_23537</th>\n",
       "      <td>-0</td>\n",
       "      <td>6.49</td>\n",
       "      <td>6.49</td>\n",
       "    </tr>\n",
       "    <tr>\n",
       "      <th>_40881</th>\n",
       "      <td>-0</td>\n",
       "      <td>6.48</td>\n",
       "      <td>6.48</td>\n",
       "    </tr>\n",
       "  </tbody>\n",
       "</table>\n",
       "</div>"
      ],
      "text/plain": [
       "              bu72_aligned_4DKL_R_L_conformation  \\\n",
       "SID_103547933                                 -0   \n",
       "_90021                                        -0   \n",
       "_99059                                        -0   \n",
       "_123923                                       -0   \n",
       "_124511                                       -0   \n",
       "_120698                                       -0   \n",
       "_8447                                         -0   \n",
       "_131257                                       -0   \n",
       "_23537                                        -0   \n",
       "_40881                                        -0   \n",
       "\n",
       "              bu72_ionized_pymol_RL_conformation  diff  \n",
       "SID_103547933                               8.72  8.72  \n",
       "_90021                                      7.41  7.41  \n",
       "_99059                                      6.81  6.81  \n",
       "_123923                                      6.7   6.7  \n",
       "_124511                                     6.66  6.66  \n",
       "_120698                                     6.64  6.64  \n",
       "_8447                                       6.57  6.57  \n",
       "_131257                                     6.53  6.53  \n",
       "_23537                                      6.49  6.49  \n",
       "_40881                                      6.48  6.48  "
      ]
     },
     "execution_count": 24,
     "metadata": {},
     "output_type": "execute_result"
    }
   ],
   "source": [
    "reference_docking_df[\"diff\"] = reference_docking_df[reference_docking_df.columns[1]].subtract(reference_docking_df[reference_docking_df.columns[0]])\n",
    "reference_docking_df.sort(\"diff\", ascending=False, inplace=True)\n",
    "reference_docking_df.iloc[:10]"
   ]
  },
  {
   "cell_type": "code",
   "execution_count": 19,
   "metadata": {
    "collapsed": false
   },
   "outputs": [
    {
     "data": {
      "text/html": [
       "<div>\n",
       "<table border=\"1\" class=\"dataframe\">\n",
       "  <thead>\n",
       "    <tr style=\"text-align: right;\">\n",
       "      <th></th>\n",
       "      <th>PUBCHEM_RESULT_TAG</th>\n",
       "      <th>PUBCHEM_SID</th>\n",
       "      <th>PUBCHEM_CID</th>\n",
       "      <th>PUBCHEM_ACTIVITY_OUTCOME</th>\n",
       "      <th>PUBCHEM_ACTIVITY_SCORE</th>\n",
       "      <th>PUBCHEM_ACTIVITY_URL</th>\n",
       "      <th>PUBCHEM_ASSAYDATA_COMMENT</th>\n",
       "      <th>IC50</th>\n",
       "      <th>SEI</th>\n",
       "      <th>BEI</th>\n",
       "      <th>LE</th>\n",
       "      <th>LLE</th>\n",
       "      <th>IC50 activity comment</th>\n",
       "      <th>IC50 standard flag</th>\n",
       "      <th>IC50 qualifier</th>\n",
       "      <th>IC50 published value</th>\n",
       "      <th>IC50 standard value</th>\n",
       "      <th>IC50 binding domains</th>\n",
       "      <th>CID</th>\n",
       "    </tr>\n",
       "  </thead>\n",
       "  <tbody>\n",
       "    <tr>\n",
       "      <th>4</th>\n",
       "      <td>1</td>\n",
       "      <td>103170037.0</td>\n",
       "      <td>5284596.0</td>\n",
       "      <td>Active</td>\n",
       "      <td>NaN</td>\n",
       "      <td>NaN</td>\n",
       "      <td>NaN</td>\n",
       "      <td>0.0073</td>\n",
       "      <td>11.62</td>\n",
       "      <td>24.85</td>\n",
       "      <td>0.46</td>\n",
       "      <td>6.69</td>\n",
       "      <td>NaN</td>\n",
       "      <td>NaN</td>\n",
       "      <td>=</td>\n",
       "      <td>7.3</td>\n",
       "      <td>7.3</td>\n",
       "      <td>P35372:Pfam-A;2627;7tm_1</td>\n",
       "      <td>5284596</td>\n",
       "    </tr>\n",
       "    <tr>\n",
       "      <th>5</th>\n",
       "      <td>2</td>\n",
       "      <td>103310529.0</td>\n",
       "      <td>134131.0</td>\n",
       "      <td>Active</td>\n",
       "      <td>NaN</td>\n",
       "      <td>NaN</td>\n",
       "      <td>NaN</td>\n",
       "      <td>0.0011</td>\n",
       "      <td>38.17</td>\n",
       "      <td>28.95</td>\n",
       "      <td>0.53</td>\n",
       "      <td>4.25</td>\n",
       "      <td>NaN</td>\n",
       "      <td>NaN</td>\n",
       "      <td>=</td>\n",
       "      <td>1.1</td>\n",
       "      <td>1.1</td>\n",
       "      <td>P35372:Pfam-A;2627;7tm_1</td>\n",
       "      <td>134131</td>\n",
       "    </tr>\n",
       "    <tr>\n",
       "      <th>6</th>\n",
       "      <td>3</td>\n",
       "      <td>103503644.0</td>\n",
       "      <td>16094410.0</td>\n",
       "      <td>Active</td>\n",
       "      <td>NaN</td>\n",
       "      <td>NaN</td>\n",
       "      <td>NaN</td>\n",
       "      <td>0.022</td>\n",
       "      <td>21.57</td>\n",
       "      <td>21.85</td>\n",
       "      <td>0.4</td>\n",
       "      <td>3.47</td>\n",
       "      <td>NaN</td>\n",
       "      <td>NaN</td>\n",
       "      <td>=</td>\n",
       "      <td>22</td>\n",
       "      <td>22</td>\n",
       "      <td>P35372:Pfam-A;2627;7tm_1</td>\n",
       "      <td>16094410</td>\n",
       "    </tr>\n",
       "    <tr>\n",
       "      <th>7</th>\n",
       "      <td>4</td>\n",
       "      <td>103503645.0</td>\n",
       "      <td>16094426.0</td>\n",
       "      <td>Active</td>\n",
       "      <td>NaN</td>\n",
       "      <td>NaN</td>\n",
       "      <td>NaN</td>\n",
       "      <td>0.0013</td>\n",
       "      <td>25.03</td>\n",
       "      <td>25.94</td>\n",
       "      <td>0.49</td>\n",
       "      <td>4.42</td>\n",
       "      <td>NaN</td>\n",
       "      <td>NaN</td>\n",
       "      <td>=</td>\n",
       "      <td>1.3</td>\n",
       "      <td>1.3</td>\n",
       "      <td>P35372:Pfam-A;2627;7tm_1</td>\n",
       "      <td>16094426</td>\n",
       "    </tr>\n",
       "    <tr>\n",
       "      <th>8</th>\n",
       "      <td>5</td>\n",
       "      <td>103503646.0</td>\n",
       "      <td>16094376.0</td>\n",
       "      <td>Active</td>\n",
       "      <td>NaN</td>\n",
       "      <td>NaN</td>\n",
       "      <td>NaN</td>\n",
       "      <td>0.19</td>\n",
       "      <td>22.44</td>\n",
       "      <td>17.08</td>\n",
       "      <td>0.32</td>\n",
       "      <td>2.18</td>\n",
       "      <td>NaN</td>\n",
       "      <td>NaN</td>\n",
       "      <td>=</td>\n",
       "      <td>190</td>\n",
       "      <td>190</td>\n",
       "      <td>P35372:Pfam-A;2627;7tm_1</td>\n",
       "      <td>16094376</td>\n",
       "    </tr>\n",
       "    <tr>\n",
       "      <th>9</th>\n",
       "      <td>6</td>\n",
       "      <td>103503647.0</td>\n",
       "      <td>16094377.0</td>\n",
       "      <td>Active</td>\n",
       "      <td>NaN</td>\n",
       "      <td>NaN</td>\n",
       "      <td>NaN</td>\n",
       "      <td>0.0069</td>\n",
       "      <td>15.4</td>\n",
       "      <td>19.98</td>\n",
       "      <td>0.37</td>\n",
       "      <td>3.93</td>\n",
       "      <td>NaN</td>\n",
       "      <td>NaN</td>\n",
       "      <td>=</td>\n",
       "      <td>6.9</td>\n",
       "      <td>6.9</td>\n",
       "      <td>P35372:Pfam-A;2627;7tm_1</td>\n",
       "      <td>16094377</td>\n",
       "    </tr>\n",
       "    <tr>\n",
       "      <th>10</th>\n",
       "      <td>7</td>\n",
       "      <td>103503650.0</td>\n",
       "      <td>16094411.0</td>\n",
       "      <td>Active</td>\n",
       "      <td>NaN</td>\n",
       "      <td>NaN</td>\n",
       "      <td>NaN</td>\n",
       "      <td>0.066</td>\n",
       "      <td>20.23</td>\n",
       "      <td>23.74</td>\n",
       "      <td>0.45</td>\n",
       "      <td>3.7</td>\n",
       "      <td>NaN</td>\n",
       "      <td>NaN</td>\n",
       "      <td>=</td>\n",
       "      <td>66</td>\n",
       "      <td>66</td>\n",
       "      <td>P35372:Pfam-A;2627;7tm_1</td>\n",
       "      <td>16094411</td>\n",
       "    </tr>\n",
       "    <tr>\n",
       "      <th>13</th>\n",
       "      <td>10</td>\n",
       "      <td>103503653.0</td>\n",
       "      <td>16094378.0</td>\n",
       "      <td>Active</td>\n",
       "      <td>NaN</td>\n",
       "      <td>NaN</td>\n",
       "      <td>NaN</td>\n",
       "      <td>0.0097</td>\n",
       "      <td>22.3</td>\n",
       "      <td>18.11</td>\n",
       "      <td>0.33</td>\n",
       "      <td>2.08</td>\n",
       "      <td>NaN</td>\n",
       "      <td>NaN</td>\n",
       "      <td>=</td>\n",
       "      <td>9.7</td>\n",
       "      <td>9.7</td>\n",
       "      <td>P35372:Pfam-A;2627;7tm_1</td>\n",
       "      <td>16094378</td>\n",
       "    </tr>\n",
       "    <tr>\n",
       "      <th>14</th>\n",
       "      <td>11</td>\n",
       "      <td>103503654.0</td>\n",
       "      <td>16094379.0</td>\n",
       "      <td>Active</td>\n",
       "      <td>NaN</td>\n",
       "      <td>NaN</td>\n",
       "      <td>NaN</td>\n",
       "      <td>0.022</td>\n",
       "      <td>21.31</td>\n",
       "      <td>16.77</td>\n",
       "      <td>0.31</td>\n",
       "      <td>1.72</td>\n",
       "      <td>NaN</td>\n",
       "      <td>NaN</td>\n",
       "      <td>=</td>\n",
       "      <td>22</td>\n",
       "      <td>22</td>\n",
       "      <td>P35372:Pfam-A;2627;7tm_1</td>\n",
       "      <td>16094379</td>\n",
       "    </tr>\n",
       "    <tr>\n",
       "      <th>15</th>\n",
       "      <td>12</td>\n",
       "      <td>103503656.0</td>\n",
       "      <td>16094428.0</td>\n",
       "      <td>Active</td>\n",
       "      <td>NaN</td>\n",
       "      <td>NaN</td>\n",
       "      <td>NaN</td>\n",
       "      <td>0.0021</td>\n",
       "      <td>19.82</td>\n",
       "      <td>23.81</td>\n",
       "      <td>0.44</td>\n",
       "      <td>4.97</td>\n",
       "      <td>NaN</td>\n",
       "      <td>NaN</td>\n",
       "      <td>=</td>\n",
       "      <td>2.1</td>\n",
       "      <td>2.1</td>\n",
       "      <td>P35372:Pfam-A;2627;7tm_1</td>\n",
       "      <td>16094428</td>\n",
       "    </tr>\n",
       "    <tr>\n",
       "      <th>16</th>\n",
       "      <td>13</td>\n",
       "      <td>103503657.0</td>\n",
       "      <td>16094413.0</td>\n",
       "      <td>Active</td>\n",
       "      <td>NaN</td>\n",
       "      <td>NaN</td>\n",
       "      <td>NaN</td>\n",
       "      <td>0.0067</td>\n",
       "      <td>18.67</td>\n",
       "      <td>21.6</td>\n",
       "      <td>0.4</td>\n",
       "      <td>4.42</td>\n",
       "      <td>NaN</td>\n",
       "      <td>NaN</td>\n",
       "      <td>=</td>\n",
       "      <td>6.7</td>\n",
       "      <td>6.7</td>\n",
       "      <td>P35372:Pfam-A;2627;7tm_1</td>\n",
       "      <td>16094413</td>\n",
       "    </tr>\n",
       "    <tr>\n",
       "      <th>17</th>\n",
       "      <td>14</td>\n",
       "      <td>103503658.0</td>\n",
       "      <td>16094380.0</td>\n",
       "      <td>Active</td>\n",
       "      <td>NaN</td>\n",
       "      <td>NaN</td>\n",
       "      <td>NaN</td>\n",
       "      <td>0.074</td>\n",
       "      <td>26.7</td>\n",
       "      <td>17.8</td>\n",
       "      <td>0.32</td>\n",
       "      <td>1.85</td>\n",
       "      <td>NaN</td>\n",
       "      <td>NaN</td>\n",
       "      <td>=</td>\n",
       "      <td>74</td>\n",
       "      <td>74</td>\n",
       "      <td>P35372:Pfam-A;2627;7tm_1</td>\n",
       "      <td>16094380</td>\n",
       "    </tr>\n",
       "    <tr>\n",
       "      <th>18</th>\n",
       "      <td>15</td>\n",
       "      <td>103503659.0</td>\n",
       "      <td>16094381.0</td>\n",
       "      <td>Active</td>\n",
       "      <td>NaN</td>\n",
       "      <td>NaN</td>\n",
       "      <td>NaN</td>\n",
       "      <td>0.016</td>\n",
       "      <td>29.19</td>\n",
       "      <td>19.46</td>\n",
       "      <td>0.35</td>\n",
       "      <td>2.52</td>\n",
       "      <td>NaN</td>\n",
       "      <td>NaN</td>\n",
       "      <td>=</td>\n",
       "      <td>16</td>\n",
       "      <td>16</td>\n",
       "      <td>P35372:Pfam-A;2627;7tm_1</td>\n",
       "      <td>16094381</td>\n",
       "    </tr>\n",
       "    <tr>\n",
       "      <th>19</th>\n",
       "      <td>16</td>\n",
       "      <td>103503661.0</td>\n",
       "      <td>16094429.0</td>\n",
       "      <td>Active</td>\n",
       "      <td>NaN</td>\n",
       "      <td>NaN</td>\n",
       "      <td>NaN</td>\n",
       "      <td>0.078</td>\n",
       "      <td>16.24</td>\n",
       "      <td>18.11</td>\n",
       "      <td>0.33</td>\n",
       "      <td>2.9</td>\n",
       "      <td>NaN</td>\n",
       "      <td>NaN</td>\n",
       "      <td>=</td>\n",
       "      <td>78</td>\n",
       "      <td>78</td>\n",
       "      <td>P35372:Pfam-A;2627;7tm_1</td>\n",
       "      <td>16094429</td>\n",
       "    </tr>\n",
       "    <tr>\n",
       "      <th>20</th>\n",
       "      <td>17</td>\n",
       "      <td>103503662.0</td>\n",
       "      <td>16094419.0</td>\n",
       "      <td>Active</td>\n",
       "      <td>NaN</td>\n",
       "      <td>NaN</td>\n",
       "      <td>NaN</td>\n",
       "      <td>0.054</td>\n",
       "      <td>27.21</td>\n",
       "      <td>21.6</td>\n",
       "      <td>0.4</td>\n",
       "      <td>2.81</td>\n",
       "      <td>NaN</td>\n",
       "      <td>NaN</td>\n",
       "      <td>=</td>\n",
       "      <td>54</td>\n",
       "      <td>54</td>\n",
       "      <td>P35372:Pfam-A;2627;7tm_1</td>\n",
       "      <td>16094419</td>\n",
       "    </tr>\n",
       "    <tr>\n",
       "      <th>21</th>\n",
       "      <td>18</td>\n",
       "      <td>103503663.0</td>\n",
       "      <td>16094382.0</td>\n",
       "      <td>Active</td>\n",
       "      <td>NaN</td>\n",
       "      <td>NaN</td>\n",
       "      <td>NaN</td>\n",
       "      <td>0.08</td>\n",
       "      <td>17.92</td>\n",
       "      <td>17.67</td>\n",
       "      <td>0.32</td>\n",
       "      <td>2.54</td>\n",
       "      <td>NaN</td>\n",
       "      <td>NaN</td>\n",
       "      <td>=</td>\n",
       "      <td>80</td>\n",
       "      <td>80</td>\n",
       "      <td>P35372:Pfam-A;2627;7tm_1</td>\n",
       "      <td>16094382</td>\n",
       "    </tr>\n",
       "    <tr>\n",
       "      <th>22</th>\n",
       "      <td>19</td>\n",
       "      <td>103503664.0</td>\n",
       "      <td>16094383.0</td>\n",
       "      <td>Active</td>\n",
       "      <td>NaN</td>\n",
       "      <td>NaN</td>\n",
       "      <td>NaN</td>\n",
       "      <td>0.013</td>\n",
       "      <td>19.91</td>\n",
       "      <td>22.44</td>\n",
       "      <td>0.41</td>\n",
       "      <td>4.45</td>\n",
       "      <td>NaN</td>\n",
       "      <td>NaN</td>\n",
       "      <td>=</td>\n",
       "      <td>13</td>\n",
       "      <td>13</td>\n",
       "      <td>P35372:Pfam-A;2627;7tm_1</td>\n",
       "      <td>16094383</td>\n",
       "    </tr>\n",
       "    <tr>\n",
       "      <th>23</th>\n",
       "      <td>20</td>\n",
       "      <td>103503666.0</td>\n",
       "      <td>16094414.0</td>\n",
       "      <td>Active</td>\n",
       "      <td>NaN</td>\n",
       "      <td>NaN</td>\n",
       "      <td>NaN</td>\n",
       "      <td>0.00073</td>\n",
       "      <td>34.21</td>\n",
       "      <td>26.07</td>\n",
       "      <td>0.48</td>\n",
       "      <td>4.77</td>\n",
       "      <td>NaN</td>\n",
       "      <td>NaN</td>\n",
       "      <td>=</td>\n",
       "      <td>0.73</td>\n",
       "      <td>0.73</td>\n",
       "      <td>P35372:Pfam-A;2627;7tm_1</td>\n",
       "      <td>16094414</td>\n",
       "    </tr>\n",
       "    <tr>\n",
       "      <th>24</th>\n",
       "      <td>21</td>\n",
       "      <td>103503667.0</td>\n",
       "      <td>16094430.0</td>\n",
       "      <td>Active</td>\n",
       "      <td>NaN</td>\n",
       "      <td>NaN</td>\n",
       "      <td>NaN</td>\n",
       "      <td>0.002</td>\n",
       "      <td>32.57</td>\n",
       "      <td>23.86</td>\n",
       "      <td>0.44</td>\n",
       "      <td>4</td>\n",
       "      <td>NaN</td>\n",
       "      <td>NaN</td>\n",
       "      <td>=</td>\n",
       "      <td>2</td>\n",
       "      <td>2</td>\n",
       "      <td>P35372:Pfam-A;2627;7tm_1</td>\n",
       "      <td>16094430</td>\n",
       "    </tr>\n",
       "    <tr>\n",
       "      <th>25</th>\n",
       "      <td>22</td>\n",
       "      <td>103503668.0</td>\n",
       "      <td>16094384.0</td>\n",
       "      <td>Active</td>\n",
       "      <td>NaN</td>\n",
       "      <td>NaN</td>\n",
       "      <td>NaN</td>\n",
       "      <td>0.0075</td>\n",
       "      <td>20.52</td>\n",
       "      <td>23.12</td>\n",
       "      <td>0.43</td>\n",
       "      <td>4.9</td>\n",
       "      <td>NaN</td>\n",
       "      <td>NaN</td>\n",
       "      <td>=</td>\n",
       "      <td>7.5</td>\n",
       "      <td>7.5</td>\n",
       "      <td>P35372:Pfam-A;2627;7tm_1</td>\n",
       "      <td>16094384</td>\n",
       "    </tr>\n",
       "    <tr>\n",
       "      <th>26</th>\n",
       "      <td>23</td>\n",
       "      <td>103503669.0</td>\n",
       "      <td>16094385.0</td>\n",
       "      <td>Active</td>\n",
       "      <td>NaN</td>\n",
       "      <td>NaN</td>\n",
       "      <td>NaN</td>\n",
       "      <td>0.018</td>\n",
       "      <td>19.56</td>\n",
       "      <td>22.03</td>\n",
       "      <td>0.41</td>\n",
       "      <td>4.52</td>\n",
       "      <td>NaN</td>\n",
       "      <td>NaN</td>\n",
       "      <td>=</td>\n",
       "      <td>18</td>\n",
       "      <td>18</td>\n",
       "      <td>P35372:Pfam-A;2627;7tm_1</td>\n",
       "      <td>16094385</td>\n",
       "    </tr>\n",
       "    <tr>\n",
       "      <th>27</th>\n",
       "      <td>24</td>\n",
       "      <td>103503671.0</td>\n",
       "      <td>16094415.0</td>\n",
       "      <td>Active</td>\n",
       "      <td>NaN</td>\n",
       "      <td>NaN</td>\n",
       "      <td>NaN</td>\n",
       "      <td>0.013</td>\n",
       "      <td>29.52</td>\n",
       "      <td>20.83</td>\n",
       "      <td>0.38</td>\n",
       "      <td>2.74</td>\n",
       "      <td>NaN</td>\n",
       "      <td>NaN</td>\n",
       "      <td>=</td>\n",
       "      <td>13</td>\n",
       "      <td>13</td>\n",
       "      <td>P35372:Pfam-A;2627;7tm_1</td>\n",
       "      <td>16094415</td>\n",
       "    </tr>\n",
       "    <tr>\n",
       "      <th>28</th>\n",
       "      <td>25</td>\n",
       "      <td>103503672.0</td>\n",
       "      <td>16094366.0</td>\n",
       "      <td>Active</td>\n",
       "      <td>NaN</td>\n",
       "      <td>NaN</td>\n",
       "      <td>NaN</td>\n",
       "      <td>0.015</td>\n",
       "      <td>29.29</td>\n",
       "      <td>21.46</td>\n",
       "      <td>0.4</td>\n",
       "      <td>3.38</td>\n",
       "      <td>NaN</td>\n",
       "      <td>NaN</td>\n",
       "      <td>=</td>\n",
       "      <td>15</td>\n",
       "      <td>15</td>\n",
       "      <td>P35372:Pfam-A;2627;7tm_1</td>\n",
       "      <td>16094366</td>\n",
       "    </tr>\n",
       "    <tr>\n",
       "      <th>29</th>\n",
       "      <td>26</td>\n",
       "      <td>103503673.0</td>\n",
       "      <td>16094386.0</td>\n",
       "      <td>Active</td>\n",
       "      <td>NaN</td>\n",
       "      <td>NaN</td>\n",
       "      <td>NaN</td>\n",
       "      <td>0.0072</td>\n",
       "      <td>20.43</td>\n",
       "      <td>23.92</td>\n",
       "      <td>0.44</td>\n",
       "      <td>4.58</td>\n",
       "      <td>NaN</td>\n",
       "      <td>NaN</td>\n",
       "      <td>=</td>\n",
       "      <td>7.2</td>\n",
       "      <td>7.2</td>\n",
       "      <td>P35372:Pfam-A;2627;7tm_1</td>\n",
       "      <td>16094386</td>\n",
       "    </tr>\n",
       "    <tr>\n",
       "      <th>30</th>\n",
       "      <td>27</td>\n",
       "      <td>103503674.0</td>\n",
       "      <td>16094387.0</td>\n",
       "      <td>Active</td>\n",
       "      <td>NaN</td>\n",
       "      <td>NaN</td>\n",
       "      <td>NaN</td>\n",
       "      <td>0.0061</td>\n",
       "      <td>20.61</td>\n",
       "      <td>24.13</td>\n",
       "      <td>0.45</td>\n",
       "      <td>4.73</td>\n",
       "      <td>NaN</td>\n",
       "      <td>NaN</td>\n",
       "      <td>=</td>\n",
       "      <td>6.1</td>\n",
       "      <td>6.1</td>\n",
       "      <td>P35372:Pfam-A;2627;7tm_1</td>\n",
       "      <td>16094387</td>\n",
       "    </tr>\n",
       "    <tr>\n",
       "      <th>32</th>\n",
       "      <td>29</td>\n",
       "      <td>103503677.0</td>\n",
       "      <td>16094362.0</td>\n",
       "      <td>Active</td>\n",
       "      <td>NaN</td>\n",
       "      <td>NaN</td>\n",
       "      <td>NaN</td>\n",
       "      <td>0.14</td>\n",
       "      <td>9.9</td>\n",
       "      <td>17.11</td>\n",
       "      <td>0.33</td>\n",
       "      <td>3.43</td>\n",
       "      <td>NaN</td>\n",
       "      <td>NaN</td>\n",
       "      <td>=</td>\n",
       "      <td>140</td>\n",
       "      <td>140</td>\n",
       "      <td>P35372:Pfam-A;2627;7tm_1</td>\n",
       "      <td>16094362</td>\n",
       "    </tr>\n",
       "    <tr>\n",
       "      <th>33</th>\n",
       "      <td>30</td>\n",
       "      <td>103503678.0</td>\n",
       "      <td>16094388.0</td>\n",
       "      <td>Active</td>\n",
       "      <td>NaN</td>\n",
       "      <td>NaN</td>\n",
       "      <td>NaN</td>\n",
       "      <td>0.00063</td>\n",
       "      <td>16.74</td>\n",
       "      <td>25.81</td>\n",
       "      <td>0.5</td>\n",
       "      <td>5.09</td>\n",
       "      <td>NaN</td>\n",
       "      <td>NaN</td>\n",
       "      <td>=</td>\n",
       "      <td>0.63</td>\n",
       "      <td>0.63</td>\n",
       "      <td>P35372:Pfam-A;2627;7tm_1</td>\n",
       "      <td>16094388</td>\n",
       "    </tr>\n",
       "    <tr>\n",
       "      <th>34</th>\n",
       "      <td>31</td>\n",
       "      <td>103503679.0</td>\n",
       "      <td>16094389.0</td>\n",
       "      <td>Active</td>\n",
       "      <td>NaN</td>\n",
       "      <td>NaN</td>\n",
       "      <td>NaN</td>\n",
       "      <td>0.0014</td>\n",
       "      <td>16.11</td>\n",
       "      <td>24.83</td>\n",
       "      <td>0.48</td>\n",
       "      <td>4.81</td>\n",
       "      <td>NaN</td>\n",
       "      <td>NaN</td>\n",
       "      <td>=</td>\n",
       "      <td>1.4</td>\n",
       "      <td>1.4</td>\n",
       "      <td>P35372:Pfam-A;2627;7tm_1</td>\n",
       "      <td>16094389</td>\n",
       "    </tr>\n",
       "    <tr>\n",
       "      <th>35</th>\n",
       "      <td>32</td>\n",
       "      <td>103503681.0</td>\n",
       "      <td>16094416.0</td>\n",
       "      <td>Active</td>\n",
       "      <td>NaN</td>\n",
       "      <td>NaN</td>\n",
       "      <td>NaN</td>\n",
       "      <td>0.016</td>\n",
       "      <td>13.97</td>\n",
       "      <td>20.54</td>\n",
       "      <td>0.38</td>\n",
       "      <td>4.18</td>\n",
       "      <td>NaN</td>\n",
       "      <td>NaN</td>\n",
       "      <td>=</td>\n",
       "      <td>16</td>\n",
       "      <td>16</td>\n",
       "      <td>P35372:Pfam-A;2627;7tm_1</td>\n",
       "      <td>16094416</td>\n",
       "    </tr>\n",
       "    <tr>\n",
       "      <th>36</th>\n",
       "      <td>33</td>\n",
       "      <td>103503682.0</td>\n",
       "      <td>16094367.0</td>\n",
       "      <td>Active</td>\n",
       "      <td>NaN</td>\n",
       "      <td>NaN</td>\n",
       "      <td>NaN</td>\n",
       "      <td>0.0018</td>\n",
       "      <td>32.74</td>\n",
       "      <td>23.99</td>\n",
       "      <td>0.44</td>\n",
       "      <td>3.88</td>\n",
       "      <td>NaN</td>\n",
       "      <td>NaN</td>\n",
       "      <td>=</td>\n",
       "      <td>1.8</td>\n",
       "      <td>1.8</td>\n",
       "      <td>P35372:Pfam-A;2627;7tm_1</td>\n",
       "      <td>16094367</td>\n",
       "    </tr>\n",
       "    <tr>\n",
       "      <th>37</th>\n",
       "      <td>34</td>\n",
       "      <td>103503683.0</td>\n",
       "      <td>16094390.0</td>\n",
       "      <td>Active</td>\n",
       "      <td>NaN</td>\n",
       "      <td>NaN</td>\n",
       "      <td>NaN</td>\n",
       "      <td>0.0011</td>\n",
       "      <td>33.54</td>\n",
       "      <td>25.13</td>\n",
       "      <td>0.47</td>\n",
       "      <td>3.98</td>\n",
       "      <td>NaN</td>\n",
       "      <td>NaN</td>\n",
       "      <td>=</td>\n",
       "      <td>1.1</td>\n",
       "      <td>1.1</td>\n",
       "      <td>P35372:Pfam-A;2627;7tm_1</td>\n",
       "      <td>16094390</td>\n",
       "    </tr>\n",
       "    <tr>\n",
       "      <th>38</th>\n",
       "      <td>35</td>\n",
       "      <td>103503686.0</td>\n",
       "      <td>16094368.0</td>\n",
       "      <td>Active</td>\n",
       "      <td>NaN</td>\n",
       "      <td>NaN</td>\n",
       "      <td>NaN</td>\n",
       "      <td>0.0015</td>\n",
       "      <td>33.04</td>\n",
       "      <td>24.21</td>\n",
       "      <td>0.45</td>\n",
       "      <td>3.96</td>\n",
       "      <td>NaN</td>\n",
       "      <td>NaN</td>\n",
       "      <td>=</td>\n",
       "      <td>1.5</td>\n",
       "      <td>1.5</td>\n",
       "      <td>P35372:Pfam-A;2627;7tm_1</td>\n",
       "      <td>16094368</td>\n",
       "    </tr>\n",
       "    <tr>\n",
       "      <th>39</th>\n",
       "      <td>36</td>\n",
       "      <td>103503687.0</td>\n",
       "      <td>16094369.0</td>\n",
       "      <td>Active</td>\n",
       "      <td>NaN</td>\n",
       "      <td>NaN</td>\n",
       "      <td>NaN</td>\n",
       "      <td>0.0095</td>\n",
       "      <td>30.03</td>\n",
       "      <td>22.01</td>\n",
       "      <td>0.41</td>\n",
       "      <td>3.16</td>\n",
       "      <td>NaN</td>\n",
       "      <td>NaN</td>\n",
       "      <td>=</td>\n",
       "      <td>9.5</td>\n",
       "      <td>9.5</td>\n",
       "      <td>P35372:Pfam-A;2627;7tm_1</td>\n",
       "      <td>16094369</td>\n",
       "    </tr>\n",
       "    <tr>\n",
       "      <th>40</th>\n",
       "      <td>37</td>\n",
       "      <td>103503691.0</td>\n",
       "      <td>16094370.0</td>\n",
       "      <td>Active</td>\n",
       "      <td>NaN</td>\n",
       "      <td>NaN</td>\n",
       "      <td>NaN</td>\n",
       "      <td>0.0018</td>\n",
       "      <td>32.74</td>\n",
       "      <td>22.72</td>\n",
       "      <td>0.44</td>\n",
       "      <td>3.7</td>\n",
       "      <td>NaN</td>\n",
       "      <td>NaN</td>\n",
       "      <td>=</td>\n",
       "      <td>1.8</td>\n",
       "      <td>1.8</td>\n",
       "      <td>P35372:Pfam-A;2627;7tm_1</td>\n",
       "      <td>16094370</td>\n",
       "    </tr>\n",
       "    <tr>\n",
       "      <th>41</th>\n",
       "      <td>38</td>\n",
       "      <td>103503692.0</td>\n",
       "      <td>16094371.0</td>\n",
       "      <td>Active</td>\n",
       "      <td>NaN</td>\n",
       "      <td>NaN</td>\n",
       "      <td>NaN</td>\n",
       "      <td>0.0018</td>\n",
       "      <td>32.74</td>\n",
       "      <td>22.72</td>\n",
       "      <td>0.44</td>\n",
       "      <td>3.7</td>\n",
       "      <td>NaN</td>\n",
       "      <td>NaN</td>\n",
       "      <td>=</td>\n",
       "      <td>1.8</td>\n",
       "      <td>1.8</td>\n",
       "      <td>P35372:Pfam-A;2627;7tm_1</td>\n",
       "      <td>16094371</td>\n",
       "    </tr>\n",
       "    <tr>\n",
       "      <th>42</th>\n",
       "      <td>39</td>\n",
       "      <td>103503695.0</td>\n",
       "      <td>16094394.0</td>\n",
       "      <td>Active</td>\n",
       "      <td>NaN</td>\n",
       "      <td>NaN</td>\n",
       "      <td>NaN</td>\n",
       "      <td>0.04</td>\n",
       "      <td>27.7</td>\n",
       "      <td>17.34</td>\n",
       "      <td>0.32</td>\n",
       "      <td>1.41</td>\n",
       "      <td>NaN</td>\n",
       "      <td>NaN</td>\n",
       "      <td>=</td>\n",
       "      <td>40</td>\n",
       "      <td>40</td>\n",
       "      <td>P35372:Pfam-A;2627;7tm_1</td>\n",
       "      <td>16094394</td>\n",
       "    </tr>\n",
       "    <tr>\n",
       "      <th>43</th>\n",
       "      <td>40</td>\n",
       "      <td>103503696.0</td>\n",
       "      <td>16094372.0</td>\n",
       "      <td>Active</td>\n",
       "      <td>NaN</td>\n",
       "      <td>NaN</td>\n",
       "      <td>NaN</td>\n",
       "      <td>0.042</td>\n",
       "      <td>27.62</td>\n",
       "      <td>19.16</td>\n",
       "      <td>0.37</td>\n",
       "      <td>2.34</td>\n",
       "      <td>NaN</td>\n",
       "      <td>NaN</td>\n",
       "      <td>=</td>\n",
       "      <td>42</td>\n",
       "      <td>42</td>\n",
       "      <td>P35372:Pfam-A;2627;7tm_1</td>\n",
       "      <td>16094372</td>\n",
       "    </tr>\n",
       "    <tr>\n",
       "      <th>44</th>\n",
       "      <td>41</td>\n",
       "      <td>103503697.0</td>\n",
       "      <td>16094373.0</td>\n",
       "      <td>Active</td>\n",
       "      <td>NaN</td>\n",
       "      <td>NaN</td>\n",
       "      <td>NaN</td>\n",
       "      <td>0.0016</td>\n",
       "      <td>18.74</td>\n",
       "      <td>24</td>\n",
       "      <td>0.44</td>\n",
       "      <td>4.67</td>\n",
       "      <td>NaN</td>\n",
       "      <td>NaN</td>\n",
       "      <td>=</td>\n",
       "      <td>1.6</td>\n",
       "      <td>1.6</td>\n",
       "      <td>P35372:Pfam-A;2627;7tm_1</td>\n",
       "      <td>16094373</td>\n",
       "    </tr>\n",
       "    <tr>\n",
       "      <th>45</th>\n",
       "      <td>42</td>\n",
       "      <td>103503700.0</td>\n",
       "      <td>16094343.0</td>\n",
       "      <td>Active</td>\n",
       "      <td>NaN</td>\n",
       "      <td>NaN</td>\n",
       "      <td>NaN</td>\n",
       "      <td>0.00054</td>\n",
       "      <td>39.49</td>\n",
       "      <td>27.62</td>\n",
       "      <td>0.51</td>\n",
       "      <td>4.17</td>\n",
       "      <td>NaN</td>\n",
       "      <td>NaN</td>\n",
       "      <td>=</td>\n",
       "      <td>0.54</td>\n",
       "      <td>0.54</td>\n",
       "      <td>P35372:Pfam-A;2627;7tm_1</td>\n",
       "      <td>16094343</td>\n",
       "    </tr>\n",
       "    <tr>\n",
       "      <th>46</th>\n",
       "      <td>43</td>\n",
       "      <td>103503701.0</td>\n",
       "      <td>16094420.0</td>\n",
       "      <td>Active</td>\n",
       "      <td>NaN</td>\n",
       "      <td>NaN</td>\n",
       "      <td>NaN</td>\n",
       "      <td>0.0011</td>\n",
       "      <td>25.24</td>\n",
       "      <td>26.63</td>\n",
       "      <td>0.49</td>\n",
       "      <td>5.09</td>\n",
       "      <td>NaN</td>\n",
       "      <td>NaN</td>\n",
       "      <td>=</td>\n",
       "      <td>1.1</td>\n",
       "      <td>1.1</td>\n",
       "      <td>P35372:Pfam-A;2627;7tm_1</td>\n",
       "      <td>16094420</td>\n",
       "    </tr>\n",
       "    <tr>\n",
       "      <th>49</th>\n",
       "      <td>46</td>\n",
       "      <td>103503704.0</td>\n",
       "      <td>16094374.0</td>\n",
       "      <td>Active</td>\n",
       "      <td>NaN</td>\n",
       "      <td>NaN</td>\n",
       "      <td>NaN</td>\n",
       "      <td>0.0045</td>\n",
       "      <td>17.78</td>\n",
       "      <td>22.77</td>\n",
       "      <td>0.42</td>\n",
       "      <td>4.22</td>\n",
       "      <td>NaN</td>\n",
       "      <td>NaN</td>\n",
       "      <td>=</td>\n",
       "      <td>4.5</td>\n",
       "      <td>4.5</td>\n",
       "      <td>P35372:Pfam-A;2627;7tm_1</td>\n",
       "      <td>16094374</td>\n",
       "    </tr>\n",
       "    <tr>\n",
       "      <th>50</th>\n",
       "      <td>47</td>\n",
       "      <td>103503705.0</td>\n",
       "      <td>16094375.0</td>\n",
       "      <td>Active</td>\n",
       "      <td>NaN</td>\n",
       "      <td>NaN</td>\n",
       "      <td>NaN</td>\n",
       "      <td>0.0057</td>\n",
       "      <td>17.56</td>\n",
       "      <td>22.49</td>\n",
       "      <td>0.42</td>\n",
       "      <td>4.11</td>\n",
       "      <td>NaN</td>\n",
       "      <td>NaN</td>\n",
       "      <td>=</td>\n",
       "      <td>5.7</td>\n",
       "      <td>5.7</td>\n",
       "      <td>P35372:Pfam-A;2627;7tm_1</td>\n",
       "      <td>16094375</td>\n",
       "    </tr>\n",
       "    <tr>\n",
       "      <th>51</th>\n",
       "      <td>48</td>\n",
       "      <td>103503708.0</td>\n",
       "      <td>16094393.0</td>\n",
       "      <td>Active</td>\n",
       "      <td>NaN</td>\n",
       "      <td>NaN</td>\n",
       "      <td>NaN</td>\n",
       "      <td>0.22</td>\n",
       "      <td>15.21</td>\n",
       "      <td>17.59</td>\n",
       "      <td>0.32</td>\n",
       "      <td>3</td>\n",
       "      <td>NaN</td>\n",
       "      <td>NaN</td>\n",
       "      <td>=</td>\n",
       "      <td>220</td>\n",
       "      <td>220</td>\n",
       "      <td>P35372:Pfam-A;2627;7tm_1</td>\n",
       "      <td>16094393</td>\n",
       "    </tr>\n",
       "    <tr>\n",
       "      <th>52</th>\n",
       "      <td>49</td>\n",
       "      <td>103503709.0</td>\n",
       "      <td>16094421.0</td>\n",
       "      <td>Active</td>\n",
       "      <td>NaN</td>\n",
       "      <td>NaN</td>\n",
       "      <td>NaN</td>\n",
       "      <td>0.026</td>\n",
       "      <td>28.4</td>\n",
       "      <td>21.64</td>\n",
       "      <td>0.4</td>\n",
       "      <td>3.19</td>\n",
       "      <td>NaN</td>\n",
       "      <td>NaN</td>\n",
       "      <td>=</td>\n",
       "      <td>26</td>\n",
       "      <td>26</td>\n",
       "      <td>P35372:Pfam-A;2627;7tm_1</td>\n",
       "      <td>16094421</td>\n",
       "    </tr>\n",
       "    <tr>\n",
       "      <th>54</th>\n",
       "      <td>51</td>\n",
       "      <td>103503711.0</td>\n",
       "      <td>16094397.0</td>\n",
       "      <td>Active</td>\n",
       "      <td>NaN</td>\n",
       "      <td>NaN</td>\n",
       "      <td>NaN</td>\n",
       "      <td>0.028</td>\n",
       "      <td>15.24</td>\n",
       "      <td>16.65</td>\n",
       "      <td>0.3</td>\n",
       "      <td>2.32</td>\n",
       "      <td>NaN</td>\n",
       "      <td>NaN</td>\n",
       "      <td>=</td>\n",
       "      <td>28</td>\n",
       "      <td>28</td>\n",
       "      <td>P35372:Pfam-A;2627;7tm_1</td>\n",
       "      <td>16094397</td>\n",
       "    </tr>\n",
       "    <tr>\n",
       "      <th>55</th>\n",
       "      <td>52</td>\n",
       "      <td>103503714.0</td>\n",
       "      <td>16094424.0</td>\n",
       "      <td>Active</td>\n",
       "      <td>NaN</td>\n",
       "      <td>NaN</td>\n",
       "      <td>NaN</td>\n",
       "      <td>0.0015</td>\n",
       "      <td>15.12</td>\n",
       "      <td>24.27</td>\n",
       "      <td>0.45</td>\n",
       "      <td>5.71</td>\n",
       "      <td>NaN</td>\n",
       "      <td>NaN</td>\n",
       "      <td>=</td>\n",
       "      <td>1.5</td>\n",
       "      <td>1.5</td>\n",
       "      <td>P35372:Pfam-A;2627;7tm_1</td>\n",
       "      <td>16094424</td>\n",
       "    </tr>\n",
       "    <tr>\n",
       "      <th>56</th>\n",
       "      <td>53</td>\n",
       "      <td>103503715.0</td>\n",
       "      <td>16094408.0</td>\n",
       "      <td>Active</td>\n",
       "      <td>NaN</td>\n",
       "      <td>NaN</td>\n",
       "      <td>NaN</td>\n",
       "      <td>0.052</td>\n",
       "      <td>20.52</td>\n",
       "      <td>21.65</td>\n",
       "      <td>0.4</td>\n",
       "      <td>3.41</td>\n",
       "      <td>NaN</td>\n",
       "      <td>NaN</td>\n",
       "      <td>=</td>\n",
       "      <td>52</td>\n",
       "      <td>52</td>\n",
       "      <td>P35372:Pfam-A;2627;7tm_1</td>\n",
       "      <td>16094408</td>\n",
       "    </tr>\n",
       "    <tr>\n",
       "      <th>58</th>\n",
       "      <td>55</td>\n",
       "      <td>103503718.0</td>\n",
       "      <td>16094425.0</td>\n",
       "      <td>Active</td>\n",
       "      <td>NaN</td>\n",
       "      <td>NaN</td>\n",
       "      <td>NaN</td>\n",
       "      <td>0.0028</td>\n",
       "      <td>24.09</td>\n",
       "      <td>24.4</td>\n",
       "      <td>0.45</td>\n",
       "      <td>4.36</td>\n",
       "      <td>NaN</td>\n",
       "      <td>NaN</td>\n",
       "      <td>=</td>\n",
       "      <td>2.8</td>\n",
       "      <td>2.8</td>\n",
       "      <td>P35372:Pfam-A;2627;7tm_1</td>\n",
       "      <td>16094425</td>\n",
       "    </tr>\n",
       "    <tr>\n",
       "      <th>59</th>\n",
       "      <td>56</td>\n",
       "      <td>131283791.0</td>\n",
       "      <td>5360515.0</td>\n",
       "      <td>Active</td>\n",
       "      <td>NaN</td>\n",
       "      <td>NaN</td>\n",
       "      <td>NaN</td>\n",
       "      <td>0.0041</td>\n",
       "      <td>11.98</td>\n",
       "      <td>24.57</td>\n",
       "      <td>0.46</td>\n",
       "      <td>6.73</td>\n",
       "      <td>NaN</td>\n",
       "      <td>NaN</td>\n",
       "      <td>=</td>\n",
       "      <td>4.1</td>\n",
       "      <td>4.1</td>\n",
       "      <td>P35372:Pfam-A;2627;7tm_1</td>\n",
       "      <td>5360515</td>\n",
       "    </tr>\n",
       "  </tbody>\n",
       "</table>\n",
       "</div>"
      ],
      "text/plain": [
       "   PUBCHEM_RESULT_TAG  PUBCHEM_SID  PUBCHEM_CID PUBCHEM_ACTIVITY_OUTCOME  \\\n",
       "4                   1  103170037.0    5284596.0                   Active   \n",
       "5                   2  103310529.0     134131.0                   Active   \n",
       "6                   3  103503644.0   16094410.0                   Active   \n",
       "7                   4  103503645.0   16094426.0                   Active   \n",
       "8                   5  103503646.0   16094376.0                   Active   \n",
       "9                   6  103503647.0   16094377.0                   Active   \n",
       "10                  7  103503650.0   16094411.0                   Active   \n",
       "13                 10  103503653.0   16094378.0                   Active   \n",
       "14                 11  103503654.0   16094379.0                   Active   \n",
       "15                 12  103503656.0   16094428.0                   Active   \n",
       "16                 13  103503657.0   16094413.0                   Active   \n",
       "17                 14  103503658.0   16094380.0                   Active   \n",
       "18                 15  103503659.0   16094381.0                   Active   \n",
       "19                 16  103503661.0   16094429.0                   Active   \n",
       "20                 17  103503662.0   16094419.0                   Active   \n",
       "21                 18  103503663.0   16094382.0                   Active   \n",
       "22                 19  103503664.0   16094383.0                   Active   \n",
       "23                 20  103503666.0   16094414.0                   Active   \n",
       "24                 21  103503667.0   16094430.0                   Active   \n",
       "25                 22  103503668.0   16094384.0                   Active   \n",
       "26                 23  103503669.0   16094385.0                   Active   \n",
       "27                 24  103503671.0   16094415.0                   Active   \n",
       "28                 25  103503672.0   16094366.0                   Active   \n",
       "29                 26  103503673.0   16094386.0                   Active   \n",
       "30                 27  103503674.0   16094387.0                   Active   \n",
       "32                 29  103503677.0   16094362.0                   Active   \n",
       "33                 30  103503678.0   16094388.0                   Active   \n",
       "34                 31  103503679.0   16094389.0                   Active   \n",
       "35                 32  103503681.0   16094416.0                   Active   \n",
       "36                 33  103503682.0   16094367.0                   Active   \n",
       "37                 34  103503683.0   16094390.0                   Active   \n",
       "38                 35  103503686.0   16094368.0                   Active   \n",
       "39                 36  103503687.0   16094369.0                   Active   \n",
       "40                 37  103503691.0   16094370.0                   Active   \n",
       "41                 38  103503692.0   16094371.0                   Active   \n",
       "42                 39  103503695.0   16094394.0                   Active   \n",
       "43                 40  103503696.0   16094372.0                   Active   \n",
       "44                 41  103503697.0   16094373.0                   Active   \n",
       "45                 42  103503700.0   16094343.0                   Active   \n",
       "46                 43  103503701.0   16094420.0                   Active   \n",
       "49                 46  103503704.0   16094374.0                   Active   \n",
       "50                 47  103503705.0   16094375.0                   Active   \n",
       "51                 48  103503708.0   16094393.0                   Active   \n",
       "52                 49  103503709.0   16094421.0                   Active   \n",
       "54                 51  103503711.0   16094397.0                   Active   \n",
       "55                 52  103503714.0   16094424.0                   Active   \n",
       "56                 53  103503715.0   16094408.0                   Active   \n",
       "58                 55  103503718.0   16094425.0                   Active   \n",
       "59                 56  131283791.0    5360515.0                   Active   \n",
       "\n",
       "    PUBCHEM_ACTIVITY_SCORE  PUBCHEM_ACTIVITY_URL  PUBCHEM_ASSAYDATA_COMMENT  \\\n",
       "4                      NaN                   NaN                        NaN   \n",
       "5                      NaN                   NaN                        NaN   \n",
       "6                      NaN                   NaN                        NaN   \n",
       "7                      NaN                   NaN                        NaN   \n",
       "8                      NaN                   NaN                        NaN   \n",
       "9                      NaN                   NaN                        NaN   \n",
       "10                     NaN                   NaN                        NaN   \n",
       "13                     NaN                   NaN                        NaN   \n",
       "14                     NaN                   NaN                        NaN   \n",
       "15                     NaN                   NaN                        NaN   \n",
       "16                     NaN                   NaN                        NaN   \n",
       "17                     NaN                   NaN                        NaN   \n",
       "18                     NaN                   NaN                        NaN   \n",
       "19                     NaN                   NaN                        NaN   \n",
       "20                     NaN                   NaN                        NaN   \n",
       "21                     NaN                   NaN                        NaN   \n",
       "22                     NaN                   NaN                        NaN   \n",
       "23                     NaN                   NaN                        NaN   \n",
       "24                     NaN                   NaN                        NaN   \n",
       "25                     NaN                   NaN                        NaN   \n",
       "26                     NaN                   NaN                        NaN   \n",
       "27                     NaN                   NaN                        NaN   \n",
       "28                     NaN                   NaN                        NaN   \n",
       "29                     NaN                   NaN                        NaN   \n",
       "30                     NaN                   NaN                        NaN   \n",
       "32                     NaN                   NaN                        NaN   \n",
       "33                     NaN                   NaN                        NaN   \n",
       "34                     NaN                   NaN                        NaN   \n",
       "35                     NaN                   NaN                        NaN   \n",
       "36                     NaN                   NaN                        NaN   \n",
       "37                     NaN                   NaN                        NaN   \n",
       "38                     NaN                   NaN                        NaN   \n",
       "39                     NaN                   NaN                        NaN   \n",
       "40                     NaN                   NaN                        NaN   \n",
       "41                     NaN                   NaN                        NaN   \n",
       "42                     NaN                   NaN                        NaN   \n",
       "43                     NaN                   NaN                        NaN   \n",
       "44                     NaN                   NaN                        NaN   \n",
       "45                     NaN                   NaN                        NaN   \n",
       "46                     NaN                   NaN                        NaN   \n",
       "49                     NaN                   NaN                        NaN   \n",
       "50                     NaN                   NaN                        NaN   \n",
       "51                     NaN                   NaN                        NaN   \n",
       "52                     NaN                   NaN                        NaN   \n",
       "54                     NaN                   NaN                        NaN   \n",
       "55                     NaN                   NaN                        NaN   \n",
       "56                     NaN                   NaN                        NaN   \n",
       "58                     NaN                   NaN                        NaN   \n",
       "59                     NaN                   NaN                        NaN   \n",
       "\n",
       "       IC50    SEI    BEI    LE   LLE IC50 activity comment  \\\n",
       "4    0.0073  11.62  24.85  0.46  6.69                   NaN   \n",
       "5    0.0011  38.17  28.95  0.53  4.25                   NaN   \n",
       "6     0.022  21.57  21.85   0.4  3.47                   NaN   \n",
       "7    0.0013  25.03  25.94  0.49  4.42                   NaN   \n",
       "8      0.19  22.44  17.08  0.32  2.18                   NaN   \n",
       "9    0.0069   15.4  19.98  0.37  3.93                   NaN   \n",
       "10    0.066  20.23  23.74  0.45   3.7                   NaN   \n",
       "13   0.0097   22.3  18.11  0.33  2.08                   NaN   \n",
       "14    0.022  21.31  16.77  0.31  1.72                   NaN   \n",
       "15   0.0021  19.82  23.81  0.44  4.97                   NaN   \n",
       "16   0.0067  18.67   21.6   0.4  4.42                   NaN   \n",
       "17    0.074   26.7   17.8  0.32  1.85                   NaN   \n",
       "18    0.016  29.19  19.46  0.35  2.52                   NaN   \n",
       "19    0.078  16.24  18.11  0.33   2.9                   NaN   \n",
       "20    0.054  27.21   21.6   0.4  2.81                   NaN   \n",
       "21     0.08  17.92  17.67  0.32  2.54                   NaN   \n",
       "22    0.013  19.91  22.44  0.41  4.45                   NaN   \n",
       "23  0.00073  34.21  26.07  0.48  4.77                   NaN   \n",
       "24    0.002  32.57  23.86  0.44     4                   NaN   \n",
       "25   0.0075  20.52  23.12  0.43   4.9                   NaN   \n",
       "26    0.018  19.56  22.03  0.41  4.52                   NaN   \n",
       "27    0.013  29.52  20.83  0.38  2.74                   NaN   \n",
       "28    0.015  29.29  21.46   0.4  3.38                   NaN   \n",
       "29   0.0072  20.43  23.92  0.44  4.58                   NaN   \n",
       "30   0.0061  20.61  24.13  0.45  4.73                   NaN   \n",
       "32     0.14    9.9  17.11  0.33  3.43                   NaN   \n",
       "33  0.00063  16.74  25.81   0.5  5.09                   NaN   \n",
       "34   0.0014  16.11  24.83  0.48  4.81                   NaN   \n",
       "35    0.016  13.97  20.54  0.38  4.18                   NaN   \n",
       "36   0.0018  32.74  23.99  0.44  3.88                   NaN   \n",
       "37   0.0011  33.54  25.13  0.47  3.98                   NaN   \n",
       "38   0.0015  33.04  24.21  0.45  3.96                   NaN   \n",
       "39   0.0095  30.03  22.01  0.41  3.16                   NaN   \n",
       "40   0.0018  32.74  22.72  0.44   3.7                   NaN   \n",
       "41   0.0018  32.74  22.72  0.44   3.7                   NaN   \n",
       "42     0.04   27.7  17.34  0.32  1.41                   NaN   \n",
       "43    0.042  27.62  19.16  0.37  2.34                   NaN   \n",
       "44   0.0016  18.74     24  0.44  4.67                   NaN   \n",
       "45  0.00054  39.49  27.62  0.51  4.17                   NaN   \n",
       "46   0.0011  25.24  26.63  0.49  5.09                   NaN   \n",
       "49   0.0045  17.78  22.77  0.42  4.22                   NaN   \n",
       "50   0.0057  17.56  22.49  0.42  4.11                   NaN   \n",
       "51     0.22  15.21  17.59  0.32     3                   NaN   \n",
       "52    0.026   28.4  21.64   0.4  3.19                   NaN   \n",
       "54    0.028  15.24  16.65   0.3  2.32                   NaN   \n",
       "55   0.0015  15.12  24.27  0.45  5.71                   NaN   \n",
       "56    0.052  20.52  21.65   0.4  3.41                   NaN   \n",
       "58   0.0028  24.09   24.4  0.45  4.36                   NaN   \n",
       "59   0.0041  11.98  24.57  0.46  6.73                   NaN   \n",
       "\n",
       "   IC50 standard flag IC50 qualifier IC50 published value IC50 standard value  \\\n",
       "4                 NaN              =                  7.3                 7.3   \n",
       "5                 NaN              =                  1.1                 1.1   \n",
       "6                 NaN              =                   22                  22   \n",
       "7                 NaN              =                  1.3                 1.3   \n",
       "8                 NaN              =                  190                 190   \n",
       "9                 NaN              =                  6.9                 6.9   \n",
       "10                NaN              =                   66                  66   \n",
       "13                NaN              =                  9.7                 9.7   \n",
       "14                NaN              =                   22                  22   \n",
       "15                NaN              =                  2.1                 2.1   \n",
       "16                NaN              =                  6.7                 6.7   \n",
       "17                NaN              =                   74                  74   \n",
       "18                NaN              =                   16                  16   \n",
       "19                NaN              =                   78                  78   \n",
       "20                NaN              =                   54                  54   \n",
       "21                NaN              =                   80                  80   \n",
       "22                NaN              =                   13                  13   \n",
       "23                NaN              =                 0.73                0.73   \n",
       "24                NaN              =                    2                   2   \n",
       "25                NaN              =                  7.5                 7.5   \n",
       "26                NaN              =                   18                  18   \n",
       "27                NaN              =                   13                  13   \n",
       "28                NaN              =                   15                  15   \n",
       "29                NaN              =                  7.2                 7.2   \n",
       "30                NaN              =                  6.1                 6.1   \n",
       "32                NaN              =                  140                 140   \n",
       "33                NaN              =                 0.63                0.63   \n",
       "34                NaN              =                  1.4                 1.4   \n",
       "35                NaN              =                   16                  16   \n",
       "36                NaN              =                  1.8                 1.8   \n",
       "37                NaN              =                  1.1                 1.1   \n",
       "38                NaN              =                  1.5                 1.5   \n",
       "39                NaN              =                  9.5                 9.5   \n",
       "40                NaN              =                  1.8                 1.8   \n",
       "41                NaN              =                  1.8                 1.8   \n",
       "42                NaN              =                   40                  40   \n",
       "43                NaN              =                   42                  42   \n",
       "44                NaN              =                  1.6                 1.6   \n",
       "45                NaN              =                 0.54                0.54   \n",
       "46                NaN              =                  1.1                 1.1   \n",
       "49                NaN              =                  4.5                 4.5   \n",
       "50                NaN              =                  5.7                 5.7   \n",
       "51                NaN              =                  220                 220   \n",
       "52                NaN              =                   26                  26   \n",
       "54                NaN              =                   28                  28   \n",
       "55                NaN              =                  1.5                 1.5   \n",
       "56                NaN              =                   52                  52   \n",
       "58                NaN              =                  2.8                 2.8   \n",
       "59                NaN              =                  4.1                 4.1   \n",
       "\n",
       "        IC50 binding domains       CID  \n",
       "4   P35372:Pfam-A;2627;7tm_1   5284596  \n",
       "5   P35372:Pfam-A;2627;7tm_1    134131  \n",
       "6   P35372:Pfam-A;2627;7tm_1  16094410  \n",
       "7   P35372:Pfam-A;2627;7tm_1  16094426  \n",
       "8   P35372:Pfam-A;2627;7tm_1  16094376  \n",
       "9   P35372:Pfam-A;2627;7tm_1  16094377  \n",
       "10  P35372:Pfam-A;2627;7tm_1  16094411  \n",
       "13  P35372:Pfam-A;2627;7tm_1  16094378  \n",
       "14  P35372:Pfam-A;2627;7tm_1  16094379  \n",
       "15  P35372:Pfam-A;2627;7tm_1  16094428  \n",
       "16  P35372:Pfam-A;2627;7tm_1  16094413  \n",
       "17  P35372:Pfam-A;2627;7tm_1  16094380  \n",
       "18  P35372:Pfam-A;2627;7tm_1  16094381  \n",
       "19  P35372:Pfam-A;2627;7tm_1  16094429  \n",
       "20  P35372:Pfam-A;2627;7tm_1  16094419  \n",
       "21  P35372:Pfam-A;2627;7tm_1  16094382  \n",
       "22  P35372:Pfam-A;2627;7tm_1  16094383  \n",
       "23  P35372:Pfam-A;2627;7tm_1  16094414  \n",
       "24  P35372:Pfam-A;2627;7tm_1  16094430  \n",
       "25  P35372:Pfam-A;2627;7tm_1  16094384  \n",
       "26  P35372:Pfam-A;2627;7tm_1  16094385  \n",
       "27  P35372:Pfam-A;2627;7tm_1  16094415  \n",
       "28  P35372:Pfam-A;2627;7tm_1  16094366  \n",
       "29  P35372:Pfam-A;2627;7tm_1  16094386  \n",
       "30  P35372:Pfam-A;2627;7tm_1  16094387  \n",
       "32  P35372:Pfam-A;2627;7tm_1  16094362  \n",
       "33  P35372:Pfam-A;2627;7tm_1  16094388  \n",
       "34  P35372:Pfam-A;2627;7tm_1  16094389  \n",
       "35  P35372:Pfam-A;2627;7tm_1  16094416  \n",
       "36  P35372:Pfam-A;2627;7tm_1  16094367  \n",
       "37  P35372:Pfam-A;2627;7tm_1  16094390  \n",
       "38  P35372:Pfam-A;2627;7tm_1  16094368  \n",
       "39  P35372:Pfam-A;2627;7tm_1  16094369  \n",
       "40  P35372:Pfam-A;2627;7tm_1  16094370  \n",
       "41  P35372:Pfam-A;2627;7tm_1  16094371  \n",
       "42  P35372:Pfam-A;2627;7tm_1  16094394  \n",
       "43  P35372:Pfam-A;2627;7tm_1  16094372  \n",
       "44  P35372:Pfam-A;2627;7tm_1  16094373  \n",
       "45  P35372:Pfam-A;2627;7tm_1  16094343  \n",
       "46  P35372:Pfam-A;2627;7tm_1  16094420  \n",
       "49  P35372:Pfam-A;2627;7tm_1  16094374  \n",
       "50  P35372:Pfam-A;2627;7tm_1  16094375  \n",
       "51  P35372:Pfam-A;2627;7tm_1  16094393  \n",
       "52  P35372:Pfam-A;2627;7tm_1  16094421  \n",
       "54  P35372:Pfam-A;2627;7tm_1  16094397  \n",
       "55  P35372:Pfam-A;2627;7tm_1  16094424  \n",
       "56  P35372:Pfam-A;2627;7tm_1  16094408  \n",
       "58  P35372:Pfam-A;2627;7tm_1  16094425  \n",
       "59  P35372:Pfam-A;2627;7tm_1   5360515  "
      ]
     },
     "execution_count": 19,
     "metadata": {},
     "output_type": "execute_result"
    }
   ],
   "source": [
    "aid_ligands = pd.read_csv(\"/home/enf/md_simulations/MOR/docking/AID_274396_data.csv\")\n",
    "aid_ligands = aid_ligands.loc[aid_ligands[\"PUBCHEM_ACTIVITY_OUTCOME\"] == \"Active\"]\n",
    "aid_ligands[\"CID\"] = [int(c) for c in aid_ligands.PUBCHEM_CID.values]\n",
    "aid_ligands\n",
    "download_sdfs_from_cids(aid_ligands.CID.values.tolist(), ligands_dir, worker_pool=None, parallel=True)"
   ]
  },
  {
   "cell_type": "code",
   "execution_count": 38,
   "metadata": {
    "collapsed": true
   },
   "outputs": [],
   "source": []
  },
  {
   "cell_type": "code",
   "execution_count": 26,
   "metadata": {
    "collapsed": false
   },
   "outputs": [
    {
     "name": "stdout",
     "output_type": "stream",
     "text": [
      "['_96570', '_123465', '_91688', '_14122', '_77120', '_6509', '_60661', '_69855', '_12912', '_94437', 'eluxadoline', '_43275', '_72227', '_41133', '_63120', '_133189', '_55917', '_48729', '_16038', '_18068', '_81132', '_42725', '_28149', '_95233', '_17365', '_73943', '_126737', '_88980', '_103936', '_82201', '_58486', '_50017', '_13102', '_34', '_57528', '_93884', '_26000', '_77796', '_54513', '_55611', '_114403', '_9805', '_130705', '_111537', '_57686', '_58043', '_58168', '_128703', '_87117', '_88696', '_103514', '_15053', '_114495', '_93425', '_130205', '_69712', '_57036', '_70493', '_134451', '_20123', 'quadazocine', '_77823', '_48731', '_71041', '_105973', '_69284', '_40526', '_60368', '_54824', '_79305', '_105165', '_128288', '_24356', '_83302', '_124844', '_62053', '_41554', '_67156', '_99860', '_14685', '_37310', '_27900', '_874', 'SID_103328446', '_8615', '_65293', '_66318', '_31520', '_124860', '_124070', '_6476', '_113273', '_114073', '_42079', '_56881', '_101400', '_19782', '_73531', '_14611', '_81503', '_121114', '_59243', '_125235', '_65254', '_80908', '_7849', '_124523', '_131246', '_71927', '_16224', '_97575', '_63570', '_43561', '_43913', '_121539', '_36343', '_44302', '_28632', '_64293', '_114126', '_95524', '_55870', '_94036', '_105207', '_50049', '_123011', '_60986', '_53920', '_125245', '_57488', '_75376', '_73328', '_81858', 'SID_103547933', '_49118', '_98783', '_24991', '_128667', '_72357', '_49143', '_119624', '_106519', '_90094', '_67333', '_844', '_106162', '_65670', '_132206', '_111288', '_43719', '_126767', '_29734', '_17313', '_835', '_53078', '_80669', '_32596', '_61527', '_127230', '_112053', '_133789', '_16538', '_9247', 'SID_131283889', '_41504', '_111116', '_53188', '_122904', '_20179', '_114168', '_22159', '_9267', '_10300', '_128790', '_80009', '_60717', '_26516', '_9384', '_57632', '_54793', '_18878', '_87829', '_44121', '_20970', '_1613', '_61058', '_71533', '_20834', '_54815', 'SID_103566845', '_55143', '_111567', '_1064', '_27703', '_94794', '_123071', '_73854', '_55108', '_61171', '_124499', '_60246', '_55048', '_12033', '_91836', '_78290', '_27875', '_88568', '_57295', '_122934', '_122836', '_130621', '_55892', '_2301', '_32858', '_56626', '_9937', '_61288', '_56174', '_14829', '_25192', '_29132', '_67088', '_56154', '_72317', '_85609', '_78114', '_43262', '_95961', '_59237', '_21690', '_122534', '_38965', 'SID_103653221', '_111000', '_22339', '_105616', '_82930', '_83871', '_60397', '_59920', '_44638', '_33381', '_63193', '_15667', '_63191', '_55762', '_81360', '_129931', '_112149', '_99249', '_23739', '_122045', '_58115', '_58889', '_667', '_64041', '_95993', '_61317', '_85159', '_124757', '_4336', '_114425', '_8142', '_109185', 'SID_103735532', '_12240', '_84134', '_35108', '_95609', '_130530', '_20129', '_1581', '_4048', '_98928', '_56302', '_16758', '_72634', '_27447', '_77063', '_82440', '_119768', '_43625', '_55751', '_49182', '_104726', '_65824', '_60479', '_56382', '_5098', '_65063', '_39104', '_29193', '_35785', '_25811', '_93542', '_53792', '_131289', '_83692', '_59483', '_91682', '_88685', '_7313', '_30045', '_68614', '_74955', '_76832', '_60645', '_8447', '_87820', '_124415', '_84917', '_4501', '_56645', '_8901', '_97925', '_89854', '_28072', '_57724', '_71500', '_15432', '_110254', '_104423', '_6137', '_55727', '_94481', '_55894', '_72927', '_44052', '_86815', '_67738', '_58488', '_99254', '_22142', '_60512', '_77987', '_59283', '_62476', '_2485', '_86670', '_12277', '_126990', '_30810', '_55843', '_121497', '_97797', '_120752', '_41082', '_126717', '_55204', '_41634', '_63546', '_62933', '_132044', '_8396', '_60769', '_64831', '_95216', '_20984', '_82776', '_8235', '_106509', '_68510', '_56820', '_17798', '_95169', '_66607', '_71246', '_75544', '_94619', '_59532', '_120660', '_123021', '_23871', '_54823', '_43062', '_113297', '_123421', '_96525', '_55767', '_3480', '_60477', '_94760', '_132016', '_99234', '_65342', '_121237', '_24466', '_117802', '_95385', '_16437', '_134272', '_32971', '_74235', 'SID_103520828', '_6003', 'SID_103169342', '_58644', '_44557', '_129951', '_98733', '_72542', '_92020', '_59012', '_53438', '_62364', '_37755', '_69509', '_114967', '_23603', '_97817', '_20864', '_450', '_112643', '_7497', '_109024', '_29324', '_82704', '_54931', '_91047', '_76952', '_105440', '_86591', '_11041', '_56354', '_1653', '_74829', '_87819', '_54143', '_9484', '_51196', '_132165', '_76035', '_65156', '_98773', '_44444', '_120712', '_48737', '_9260', '_80983', '_97222', '_104774', '_59947', '_17530', '_74782', '_63510', '_105294', '_120605', '_47706', '_80770', '_113443', '_56990', '_40777', '_102854', '_119961', '_22715', '_61095', '_124827', '_44736', '_16017', '_103578', '_15291', '_69469', '_56826', '_1324', '_126838', '_99782', '_59499', '_130494', '_114520', '_83316', '_85431', '_68622', '_22794', '_29471', '_57837', '_84296', '_72916', '_56473', '_88423', '_80791', '_67355', '_26023', '_41520', '_107560', '_10131', '_105796', '_64072', '_67162', '_69048', '_46750', '_60978', '_105574', '_5726', '_61719', '_56469', '_85526', '_8460', '_42532', '_113968', '_9515', '_77177', '_114014', '_68798', '_87009', '_58164', '_120335', '_7670', '_5934', '_91946', '_58598', '_12153', '_6499', '_10667', '_14970', '_13862', '_22433', '_27617', '_54975', '_88288', '_57909', '_129967', '_60597', '_101595', '_10373', '_95066', '_6885', '_61167', '_23416', '_61226', '_80563', '_59085', '_61654', '_66637', 'SID_164143536', '_22470', '_79979', '_111813', '_83529', '_17681', '_16869', '_85420', '_82539', '_95419', '_32141', '_84753', '_72135', '_120893', '_63512', '_130550', '_108607', '_41874', '_8104', '_109416', '_2140', '_38800', '_125209', '_66069', '_78072', '_29786', '_68878', '_55792', '_60190', 'SID_103547952', '_12898', '_124542', 'SID_242612146', '_134149', '_61565', '_85339', '_9812', '_86723', '_7507', '_62243', '_57095', '_91570', '_38265', '_26843', '_48567', '_56152', '_61223', '_68382', '_130347', '_59711', '_85418', '_19690', '_71870', '_10093', '_59586', '_68577', '_112022', '_124829', '_21915', '_97807', '_90771', '_58248', '_11326', '_78015', '_57485', '_41052', '_60693', '_56385', '_104338', '_57929', '_104429', '_87048', '_52045', '_56343', '_84522', '_58114', '_8398', '_53650', '_58042', '_60621', '_29297', '_67159', '_134233', '_26151', '_60541', '_106788', '_60744', '_22707', '_127309', '_61264', '_99931', '_54977', '_6432', '_108414', '_121918', '_8116', '_124492', '_59579', '_89271', '_88984', '_20136', '_56693', '_28932', '_134453', '_23571', '_10957', '_63679', '_36345', '_79947', '_60753', '_40856', '_61823', '_101192', '_62245', '_61764', '_61061', '_24720', '_8228', '_56232', '_55530', '_117042', '_131450', '_110558', '_103483', '_76822', '_134435', '_101631', '_44912', '_67061', '_56890', '_59962', '_58403', '_106819', '_20339', '_93417', '_17072', '_83979', '_61217', '_81011', '_51080', '_13172', '_11729', '_2425', '_87843', '_103285', '_59895', '_4907', '_61440', '_55035', '_103532', '_124668', '_61634', '_60677', '_80203', '_45292', '_38542', '_132277', '_81219', '_82773', '_70355', '_103589', '_104544', '_43481', '_101031', '_130696', '_60788', '_48814', '_12603', '_15866', '_38637', '_51344', '_104785', '_5940', '_65904', '_27066', '_60939', '_57962', '_65628', '_6689', '_80781', '_43049', '_131621', '_91963', '_24459', '_56239', '_9908', '_59555', 'SID_103347472', '_68537', '_4591', '_107123', '_4630', '_11398', '_112841', '_125217', '_87086', '_1926', '_69833', '_84512', '_125377', '_38249', '_50394', '_18990', '_66671', '_65778', '_111580', '_133473', '_15814', '_92440', '_48216', '_55835', '_88907', '_54540', '_5432', '_82617', '_130478', '_4672', '_56398', '_17951', '_129741', '_3149', '_19244', '_54350', '_27976', '_89618', '_130331', '_123722', '_10531', '_3611', '_81862', '_71085', '_29092', '_134252', '_123842', '_21992', '_66942', '_79684', '_123754', '_19115', '_114015', '_120630', '_11736', '_97375', '_92944', '_54243', '_55202', '_78862', '_19538', '_70335', '_3889', '_112390', '_67917', '_59253', '_104387', '_61054', '_87701', '_26164', '_129743', '_39643', '_104113', '_28249', '_101517', '_127245', '_94025', '_76377', '_64549', '_27967', '_44167', '_60189', '_98610', '_70053', '_98344', '_56288', '_7018', '_84788', '_104223', '_23853', '_24324', '_41664', '_91358', '_8077', '_8593', '_58099', '_130985', '_5398', '_68429', '_107432', 'SID_164140761', '_71848', '_55737', '_98054', '_62948', '_21520', '_54890', '_7653', '_55545', '_28282', '_20437', '_28232', '_134321', '_66851', '_105462', '_18235', '_7613', '_86184', '_6355', '_46000', '_74174', '_9895', '_108881', '_22875', '_6896', '_90508', '_130166', '_65404', '_56657', '_66134', '_120322', '_12941', '_61494', '_61060', '_26370', '_16627', '_65170', '_36344', '_88922', '_24395', '_108581', '_42554', '_112961', '_114013', '_31250', '_120330', '_58409', '_6983', '_16140', '_109659', '_55090', '_20953', '_67891', '_24046', '_14096', '_97812', '_40487', '_59750', '_51691', '_56760', '_57107', '_26681', '_61636', '_38816', '_60126', '_101444', '_44301', '_54559', '_25039', '_123746', '_61405', '_19792', '_83330', '_109615', '_120698', '_6708', '_63042', '_61813', '_60706', 'SID_124973921', '_105481', '_61640', '_55759', '_60653', '_112819', '_55770', '_56006', '_132138', '_19797', '_90112', '_78639', '_131913', '_16786', '_53157', '_46613', '_1705', '_76074', '_15895', '_55498', '_54270', '_63610', '_80212', '_42015', '_16515', '_43212', '_61326', '_39203', '_125593', '_62785', '_56707', '_97373', '_58643', '_131296', '_127364', '_88200', '_33251', '_82267', '_91112', '_8639', '_130226', '_123298', '_90027', '_110004', '_6542', '_61175', '_50497', '_84081', '_36785', '_95103', '_134316', '_101572', '_98774', '_79605', '_79451', '_6617', '_51467', '_34023', '_37319', '_105179', '_56466', '_106304', '_60833', '_57028', '_55834', '_132796', '_126441', '_87634', '_112688', '_109564', '_109458', '_22793', '_91000', '_109149', '_124748', '_51755', '_16651', '_32343', '_94342', '_32386', '_12657', '_106388', '_110747', '_85036', '_52559', '_106741', '_61214', '_42864', '_47352', '_65952', '_97111', '_61409', '_132193', '_32668', '_119703', '_43058', '_12737', '_17896', '_121988', '_7020', '_125035', '_95024', '_132095', '_9854', '_24351', '_87543', '_56736', '_26834', '_95858', '_7118', '_55648', '_96319', '_758', '_116949', '_39099', '_4566', '_61003', '_75472', '_19986', '_59038', '_1562', '_59296', '_16397', '_65774', '_62075', '_130662', '_72048', '_75247', '_66150', '_39355', '_56151', '_25212', '_82813', '_78895', '_77518', '_196', '_50979', '_130690', '_123523', '_77979', '_57805', '_38929', '_27143', '_24973', '_58559', '_103494', '_67001', '_58407', '_120757', '_23216', '_108814', 'SID_163336744', '_56931', '_25130', '_105484', '_46792', '_31296', '_57031', '_103678', '_104913', '_119833', '_60935', '_61143', '_128239', '_15934', '_61062', '_57189', '_102794', '_68520', '_70682', '_22720', '_94341', '_45140', '_16111', '_18005', '_37410', '_58521', '_133183', '_5578', '_100468', '_90015', '_87201', '_74699', '_101695', '_82950', '_129943', '_119728', '_54728', '_121691', '_35766', '_80722', '_44117', '_29585', '_24408', '_8638', '_65311', '_44213', '_59482', '_28816', '_61065', '_24429', '_73837', '_77182', '_61626', '_28456', '_103451', '_131131', '_16243', '_57328', '_57804', '_48890', '_82808', '_27319', '_58203', '_40805', '_105242', '_133150', '_78733', '_58689', '_124586', '_67588', '_103996', '_68494', '_83966', '_69482', '_15280', '_84546', '_69906', '_111555', '_64154', '_73501', '_113397', '_65889', '_54187', '_21330', '_72712', '_83897', '_58838', '_121380', '_21633', '_3752', '_58503', '_85399', '_12866', '_102280', '_43115', '_60867', 'SID_103547932', '_132216', '_96372', '_17906', '_61671', '_65208', '_34966', '_12086', '_114424', '_13984', '_28219', '_99395', '_79314', '_36525', '_77327', 'SID_242619948', '_59325', '_6062', '_27881', '_46181', '_41126', '_73086', '_11082', '_51117', '_25067', '_78741', '_5599', '_78005', '_122313', '_70235', '_79038', '_132203', '_61807', '_56954', '_58733', '_56639', '_85108', '_87298', '_97148', '_55922', '_30305', '_75611', '_81330', '_114526', '_10962', '_57081', '_56715', '_29976', '_130355', '_74773', '_14719', '_104542', '_72275', '_20722', '_37529', '_108438', '_131319', '_60573', '_3088', '_104926', '_57068', '_5390', '_132162', '_125387', '_55121', '_10881', '_82940', '_93384', '_130309', '_10525', '_26659', '_81489', '_123138', '_80680', '_94975', '_88831', '_108955', '_125197', '_12315', 'SID_103243877', '_61455', '_39668', '_23019', '_89163', '_62436', '_8126', '_78798', '_55482', '_192', '_81595', '_98497', '_19237', '_94553', '_25025', '_87753', '_60862', '_62441', '_53693', '_55523', '_61262', '_81981', '_61456', '_131290', '_85026', '_84093', '_118127', '_11025', '_28840', '_14091', '_99901', '_81399', '_59904', '_58051', '_71596', '_101609', '_87608', '_90458', '_61170', '_18124', '_55547', '_1961', '_2032', '_18499', '_123911', '_44389', '_81248', '_134433', '_77999', '_105355', '_134413', '_105457', '_88340', '_64960', '_56882', '_124407', '_68817', '_107782', '_5619', '_60699', '_127338', '_110033', '_134439', '_113284', '_62949', '_46687', '_72952', '_32125', '_89608', '_108693', '_111298', '_61407', '_49767', '_39354', '_104485', '_123837', '_45226', '_43019', '_19270', '_75270', '_6064', '_54560', '_75683', '_88570', '_30341', '_61680', '_129972', '_55938', '_2184', '_110580', '_123344', '_7353', '_47956', '_91763', 'endomorphin-1', '_54066', '_19247', '_31776', '_125394', '_125384', '_40226', '_54720', '_14361', '_31336', '_108314', '_42873', 'SID_103575487', '_132181', '_27097', '_88133', '_134443', '_13180', '_16757', '_88347', '_57685', '_73297', '_126252', '_125733', '_60045', '_7767', '_80963', '_80756', '_10796', '_61525', '_95036', '_76329', '_39512', '_99566', '_126879', '_16799', '_29051', '_79040', '_81428', '_56880', 'SID_174489386', '_1060', '_7832', '_67974', '_12451', '_68668', '_96227', '_62571', '_60048', '_7434', '_12115', '_61294', '_43159', '_103549', '_61639', '_69271', '_63769', '_62976', '_94046', '_94651', 'SID_103505598', '_32473', '_62494', '_23153', '_129614', '_73088', '_47600', '_96135', '_124731', '_4861', '_6607', '_28529', '_108668', '_12165', '_105489', '_24583', '_32750', '_26303', '_70012', '_3647', '_81206', '_14117', '_70748', '_57449', '_127427', '_51525', '_87380', '_92789', '_6209', '_6337', '_104158', '_63764', '_55504', '_125513', '_55711', '_73453', '_52513', '_33977', '_53401', '_61207', '_87841', '_57683', '_125582', '_120234', '_67771', '_57286', '_112190', '_43320', '_108653', '_21828', '_22157', '_42438', '_96187', 'SID_164129459', '_9936', '_12117', '_62246', '_55640', '_93123', '_40616', '_119440', '_25287', '_82514', '_82992', '_56001', '_123559', '_72711', '_20270', '_82862', '_10916', '_72122', '_55946', '_73781', '_851', '_84916', '_103708', '_47608', '_66344', '_132218', 'SID_103547951', '_51425', '_62998', '_55445', '_8139', '_107580', '_133802', '_16939', '_56002', '_31573', '_88258', '_80287', '_125835', '_94207', '_33313', '_29156', '_58204', '_71827', '_82297', '_70556', '_53101', '_104358', '_18731', '_56815', '_10527', '_61463', '_134249', '_121271', '_130645', '_77458', '_62784', '_61255', '_73921', '_76883', '_55370', '_108572', '_65199', '_125415', '_8338', '_52756', '_79087', '_72105', '_79099', '_87691', '_56993', '_80451', '_53076', '_115118', '_134584', '_21903', '_25414', '_3751', 'SID_103734826', '_46082', '_124475', '_80794', '_48958', '_121014', '_54477', '_130089', '_54995', '_66793', '_61002', '_78845', '_45025', '_7131', '_23424', '_93295', '_94543', '_52398', '_121067', '_132637', '_75126', '_33471', '_57108', '_95920', '_80296', '_134854', '_133111', '_127497', '_67645', '_108682', '_5952', '_105646', '_128021', '_90922', '_29286', '_80382', '_129671', '_55453', '_121225', '_59197', '_60757', '_104493', '_65069', '_55845', '_42530', '_89935', '_130537', '_81002', '_121096', '_103605', '_12970', '_85405', '_46373', '_65226', '_64119', '_62954', '_117281', '_81409', '_109072', '_15780', '_12926', '_124708', '_41016', '_123767', '_97136', '_74420', '_55706', '_61442', '_110337', '_105510', '_121158', '_1434', '_104766', '_76716', '_73318', '_6456', '_129909', '_12863', '_124700', '_47968', '_50855', '_68416', '_38378', '_61020', '_110413', '_16835', '_70876', '_23010', '_16216', '_1295', '_103154', '_31866', '_53864', '_69440', '_19426', '_45182', '_107650', '_39707', '_82272', '_97712', '_23611', '_69389', '_74208', '_28027', '_59952', '_32676', '_78879', '_18544', '_92675', '_4045', '_72912', '_8241', '_87980', '_75310', '_67451', '_36103', '_10161', '_13516', '_103729', '_74763', '_129894', '_77838', '_41568', '_28818', '_90021', '_1040', '_127848', '_78941', '_109844', '_7229', '_121957', '_68961', '_74137', '_113654', '_3344', '_96891', '_129805', '_55528', '_36338', '_12489', '_60632', '_88324', '_124435', '_59045', '_13865', '_29265', '_2596', '_26332', '_107587', '_86674', '_70321', '_10708', '_57093', '_59221', '_131404', '_124416', '_65256', '_59069', '_106828', '_81940', '_58162', '_87534', '_126194', '_51043', '_11756', '_100331', '_90047', '_40293', '_47259', '_56800', '_89292', '_118491', '_60332', '_107955', '_108762', '_33321', '_82386', '_70614', '_36448', '_62853', '_1786', '_15068', '_124625', '_52113', '_22527', '_60557', '_75575', '_13019', '_89535', '_83349', '_36424', '_77867', '_72349', '_58948', '_66564', '_92656', '_20453', '_52813', '_68663', '_62973', '_76172', '_132182', '_75143', '_129962', '_1677', '_58590', '_125888', '_127289', '_52278', 'SID_242611747', '_56866', '_79639', '_64849', '_70622', '_16428', '_125401', '_80291', '_11381', '_86865', '_56482', '_38528', '_46457', '_74093', '_59899', '_77396', '_131257', '_16294', '_117801', '_121042', '_26956', '_92839', '_30179', '_94026', '_82340', '_90328', '_13861', '_29159', '_55355', '_61439', '_123881', '_11142', '_62391', '_60870', '_120950', '_58688', '_55138', '_104863', '_59245', '_8977', '_30765', '_89863', '_121261', '_109961', '_76555', '_41886', '_67967', '_126475', '_111560', '_4879', '_71896', '_124724', '_54894', '_22255', '_55393', '_75929', '_98482', '_60972', '_7492', '_59679', '_31685', '_84126', '_4857', '_79267', '_123257', '_70013', '_65982', 'SID_103505602', '_130443', '_124656', '_39133', '_72021', '_124454', '_73908', '_102747', '_53378', '_15758', '_82177', '_80881', '_61741', '_101701', '_75796', '_43563', '_124590', '_125355', '_27702', '_32859', '_82021', '_121231', '_13722', '_81482', '_132704', '_82430', '_31575', '_124753', '_94442', '_102440', '_66053', '_99344', '_125164', '_90186', '_12981', '_16023', '_15484', '_19828', '_81198', '_60707', '_134353', '_76465', '_8242', '_22993', '_93108', '_295', '_81762', '_79829', '_119798', '_60202', '_93996', '_61786', '_52950', '_59093', '_59007', '_106540', '_23988', '_24997', '_120612', '_12759', '_25270', '_56315', '_31476', '_134261', '_62789', '_129190', '_30848', '_97585', '_83499', '_112642', '_48898', '_21177', '_74954', '_86802', '_59229', '_48778', '_71254', '_1243', '_50278', '_24453', '_61542', '_104328', '_55831', 'SID_163326370', '_74210', '_46339', '_784', '_26772', 'SID_103202725', '_25394', '_86652', '_61098', '_78394', '_109176', '_117962', '_41968', '_60795', '_2153', '_106652', '_55606', '_106690', '_50995', '_93818', '_57315', '_25656', '_20865', '_76812', '_57105', '_119550', '_4265', '_124726', '_81347', '_71326', '_68727', '_56253', '_83899', '_56114', '_91193', '_106455', '_59285', '_61686', '_4749', '_62871', '_20401', '_20960', '_26132', '_96255', '_94488', '_62173', '_24308', '_47151', '_72924', '_9640', '_55194', '_70594', '_59317', '_32955', '_113586', '_113938', '_63097', '_123630', '_87799', '_96911', '_103242', '_124400', '_85331', '_81387', '_5472', '_109319', '_68972', '_54119', '_28135', '_61019', '_125425', '_67495', '_64383', '_8308', '_42756', '_100187', '_1199', '_56189', '_20675', '_106545', '_3972', '_63561', '_41042', '_64856', '_25337', '_20745', '_133151', '_127366', '_56757', '_120620', '_108600', '_49741', '_81802', '_109423', '_7608', 'SID_103547955', '_60842', '_121397', '_111289', '_48304', '_87561', '_52631', '_97296', '_65417', '_68543', '_44376', '_125293', '_28784', '_10517', '_14776', 'SID_131285480', '_11671', '_8279', '_7418', '_10395', '_29055', '_87411', '_1146', '_7296', '_46022', '_61638', '_72350', '_11394', '_87045', '_26663', '_63435', '_56958', '_125028', '_3860', '_109436', 'SID_124975252', '_43816', '_83562', 'SID_103393362', '_57924', '_92432', '_25017', '_74803', '_15238', '_19065', '_93509', '_63702', '_62174', '_106596', '_68182', '_103745', '_58519', '_104751', '_94263', '_3289', '_52162', '_129980', '_43664', '_40829', '_131067', '_58885', '_34041', '_60464', '_11889', '_21741', '_44032', '_22530', '_7441', '_4036', '_2375', '_65180', '_133033', '_19231', '_40038', '_123185', '_107325', '_1916', '_102029', '_59004', '_121772', '_60599', '_28689', '_40901', '_83018', '_15355', '_29886', 'SID_164149159', '_73688', '_23537', '_130287', '_59030', '_27352', '_30819', '_55472', 'SID_124972651', '_96161', '_48087', '_113246', '_62117', '_61451', '_55624', '_133121', '_7980', '_11695', '_56153', '_11915', '_91749', '_5038', '_55850', '_76494', '_129211', '_71425', '_69480', '_8350', '_48505', '_65161', '_21388', '_39115', '_124843', '_63062', '_123658', '_13352', '_39615', '_71206', '_112592', '_41379', '_91602', '_85106', '_55778', '_88879', '_97411', '_56246', '_16171', '_16520', '_121481', '_1179', '_101514', '_121463', '_52107', '_33020', '_92571', '_64459', '_85076', '_74531', '_60947', '_1522', '_97970', '_4905', '_119987', '_133170', '_16021', '_75740', '_30851', '_130641', '_60349', '_3329', '_120138', '_24792', '_131189', '_44408', 'SID_174515980', 'SID_103547953', '_47692', '_128859', '_57113', '_54733', '_131005', '_2905', '_32848', '_7012', '_62900', '_105802', '_97201', '_73690', '_64719', '_56635', '_65512', '_83248', '_59419', '_81354', '_4378', '_48446', '_132664', '_125256', '_95416', '_25073', '_107172', '_61787', '_58035', '_62829', '_103654', '_129624', '_125722', '_55924', 'SID_103193883', '_75356', '_5359', '_75918', '_55787', '_60278', '_124439', '_109126', '_67699', '_97974', '_40849', '_74178', '_130712', '_108627', '_56977', '_125498', '_59826', '_80911', '_84057', '_72238', '_121394', '_73115', '_95477', '_127283', '_120552', '_3056', '_33252', '_59141', '_22249', '_8065', '_133988', '_74726', '_56259', '_55212', '_75350', '_39312', '_97904', '_57566', '_134457', '_88396', '_77001', '_47177', '_25597', '_59531', '_131022', '_19311', '_50496', '_55887', '_32113', '_42563', '_70463', '_121872', '_9848', '_62946', '_104239', '_7125', '_76811', '_47533', '_126305', '_74167', '_16024', '_90196', 'naloxonazine', '_14907', '_14545', '_40055', '_31210', '_111113', '_5346', '_101548', '_93933', '_120108', '_63508', '_56883', '_39605', '_62214', '_76030', '_76730', '_65894', '_1348', '_27184', '_80223', '_56277', '_58988', '_129877', '_57284', '_30049', '_3464', '_10389', '_71309', '_130680', '_68500', '_67596', '_117534', '_114749', '_111594', '_57939', '_18362', '_11605', '_109166', '_28670', '_94416', '_61103', '_36594', '_7460', '_55687', '_91612', '_26037', '_65501', '_114626', 'SID_242619954', '_80263', '_60787', '_65328', '_72835', '_66190', '_31408', '_42104', '_124841', '_125523', '_15058', '_133821', '_61254', '_35131', '_70068', '_60793', '_54987', '_121797', '_63065', '_88701', '_109128', '_48966', '_57114', 'SID_103462995', '_62186', '_84156', '_12805', '_94486', '_98155', '_74683', '_24346', '_112690', '_39443', '_23230', '_61635', '_56068', '_97755', '_34137', '_59173', '_125390', '_26130', '_43076', '_81972', '_90787', '_58405', '_94319', '_100910', '_129835', '_50544', '_93412', '_79109', '_132653', '_105414', '_78996', '_123628', '_27111', '_82355', '_17495', '_19221', '_81769', '_78837', '_56020', '_128769', '_23588', '_38707', '_71471', '_134301', '_133115', '_73089', '_49764', '_128281', '_75971', '_55721', '_14360', '_2085', '_78396', '_120038', '_129586', '_43107', '_90662', '_85423', '_66684', '_6482', '_64830', '_134423', '_119562', '_131203', 'SID_103561186', '_43349', '_131163', '_28785', '_90067', '_2156', '_27895', '_93434', '_79510', '_41891', '_55045', '_21150', '_71835', '_83283', '_76761', '_132121', '_121274', '_63443', '_94674', '_73571', '_119950', '_41452', '_61111', '_60519', '_57688', '_58402', '_100476', '_121417', '_3362', '_86264', '_19296', '_117879', '_60772', '_76760', 'SID_124967393', '_61840', '_68514', '_66101', '_106742', '_29953', 'SID_103451051', '_61646', '_70851', '_88068', '_61678', '_23433', '_27330', '_43079', '_89052', '_61177', '_89887', '_6909', '_78035', '_Leu_enkephalin', '_83278', '_61063', '_11731', '_87136', '_88168', '_59568', '_87827', '_95401', '_123107', '_55827', '_67574', '_120267', '_93361', '_128732', '_22384', '_80362', '_88086', '_62945', '_90896', '_78883', '_116444', '_128605', '_127288', '_120689', 'SID_242619952', '_44241', '_12710', '_49469', '_30438', '_99841', '_59655', '_126330', '_6059', '_91546', '_28825', '_60926', '_64834', '_68864', '_78151', '_108565', '_93921', '_57123', '_94318', '_26289', '_8119', '_65171', '_102360', '_40630', '_61681', '_24814', '_108474', '_56964', '_51931', '_130176', '_69706', '_109519', '_29974', '_84849', '_61259', '_132086', '_29568', '_74216', '_66972', '_59473', '_104552', '_84964', '_72295', '_8696', '_105227', '_80019', '_22559', '_74212', '_18374', '_127222', '_119632', '_3990', '_23461', '_41655', '_68191', '_17286', '_10338', '_24753', '_33061', '_124932', '_76162', '_21223', '_89041', '_2069', '_57034', '_130976', '_124578', '_14539', '_18139', '_8698', '_87816', '_62404', '_91394', '_1693', '_14384', '_14265', '_124583', '_56453', '_15333', '_57080', 'SID_103609978', '_133166', '_65524', '_40543', '_81907', '_65651', '_24156', '_58279', '_19594', '_89527', '_106376', '_1488', '_99972', '_82378', '_67375', '_28856', '_59703', '_98427', '_107706', 'SID_103608884', '_106892', '_59249', '_77611', '_57978', '_60040', '_57684', '_42560', '_110272', '_81763', '_121326', '_206', '_80303', '_57861', '_108853', '_101131', '_105171', '_1264', '_83854', '_121629', '_132215', '_96127', '_40857', '_82780', '_14813', '_41875', '_15296', '_57088', '_123682', '_127080', '_9753', '_7032', '_59088', '_4354', '_54959', '_89983', '_48975', '_61695', '_87504', '_84244', '_62879', '_7023', '_101248', '_134528', '_2418', 'SID_103547954', '_61547', '_5953', '_27193', '_72015', '_43597', '_85576', '_77728', '_121883', '_6203', '_43332', '_59357', '_113650', '_60287', '_22362', '_17785', '_87389', '_18147', '_26573', '_96196', '_65705', '_134826', '_87495', '_134293', '_42601', '_60938', 'SID_103547979', '_103636', '_93403', '_72386', '_2931', '_121484', '_29307', '_11104', '_61212', '_43', '_19383', '_131692', '_6666', '_12222', '_62999', '_34892', '_123841', '_123840', '_69624', '_23290', '_120881', '_121721', '_101154', '_91776', '_32123', '_70043', '_107307', '_62134', '_60923', '_12714', '_55496', '_113975', '_109043', '_59681', '_60527', '_25186', '_85183', '_80289', '_55374', '_55840', '_61278', '_42220', '_39098', '_40840', '_81821', '_130561', '_126281', '_60739', '_50202', '_73684', '_105443', '_63544', '_51974', '_130459', '_77948', '_72284', '_60826', '_111828', '_126493', '_13801', '_98291', '_38501', '_58648', '_132175', '_14318', '_56493', '_72981', '_4258', '_53896', '_50743', '_63948', '_45641', '_14089', 'SID_103497437', '_73918', '_123456', '_121399', '_130686', '_85409', 'SID_174515081', '_114428', '_67089', '_55987', '_83439', '_68477', '_5833', '_61064', '_63442', 'SID_103547997', '_100163', '_108903', '_67713', '_80439', '_55449', '_68006', '_26672', '_99947', '_72937', '_61464', '_55480', '_62111', '_36711', '_54896', '_66605', '_33627', '_59149', '_109195', '_55455', '_25932', '_25012', '_21777', '_61569', '_44158', '_94929', '_130584', '_96068', '_60875', '_42192', '_42832', '_62127', '_61483', '_56342', '_61047', '_124532', '_913', '_55612', '_56879', '_96048', '_42256', '_94432', '_5519', '_83579', '_121928', '_120114', '_124695', '_117717', '_42622', '_123732', '_56230', '_63189', '_55908', '_96244', '_121122', '_39054', '_25277', '_5453', '_61567', '_69598', '_129620', '_64034', '_98162', '_16771', '_70574', '_130807', '_58515', '_56870', '_82899', '_6343', '_505', '_134462', '_103571', '_23986', '_57122', '_9354', '_60794', '_107402', '_100184', '_21522', '_72578', '_98758', 'SID_164129460', '_7655', '_113692', '_112558', '_7476', '_29424', '_3349', '_62957', '_84082', '_79756', '_69223', '_120229', '_4429', '_46682', '_78413', '_88084', '_30764', '_78835', '_60745', '_65047', '_72501', '_84243', '_55914', '_86411', '_114481', '_94844', '_73798', '_19752', '_40653', '_56946', '_88487', '_14321', '_13944', '_5491', '_99958', '_45114', '_58167', '_19463', '_109011', '_58599', '_11173', '_3354', '_97328', '_66519', '_20560', '_81121', '_60709', '_59269', '_42715', '_42098', '_132142', '_105150', '_28414', '_24312', '_18738', '_60481', '_77258', '_18237', '_83879', '_60701', 'SID_164140762', '_127471', '_20962', '_52786', '_19998', '_47828', '_109069', '_78994', '_61721', '_40858', '_76687', '_70284', '_105204', '_55051', '_108164', '_58075', '_4974', '_56997', '_65239', '_97415', '_60295', '_61645', '_98754', '_60977', '_28669', '_108597', '_114248', '_8934', '_25055', '_123923', '_32779', '_55743', '_67129', '_109009', '_12390', '_92561', '_108346', '_120505', '_109034', '_32394', '_85920', '_56185', '_70643', '_61297', '_66430', '_83902', '_22525', '_59966', '_71196', '_49436', '_88264', '_40180', '_73030', '_94105', '_61218', '_21634', '_86683', '_58646', '_54653', '_65224', '_81833', '_6918', '_88645', '_124747', '_1932', '_109530', '_18079', '_87348', '_95212', '_125407', '_102117', '_93838', '_120168', '_88225', '_87749', '_130435', 'endomorphin-2', '_88277', '_22166', '_108315', '_85676', '_78857', '_41050', '_104397', '_2133', '_105451', '_112786', '_124417', '_64392', '_60509', '_69920', '_116011', '_89864', '_85421', '_53403', '_81695', '_127737', '_47246', '_55512', '_111170', '_130239', '_98704', '_63908', '_80436', '_38992', '_101641', '_59951', '_26402', '_1991', '_55106', '_14422', '_5303', '_61462', '_97495', '_55683', '_132640', '_60059', '_61641', '_59758', '_3150', '_1249', '_57056', '_91773', '_80131', '_73686', '_103512', '_103587', '_102780', '_41399', '_24375', '_60995', '_66377', '_104126', '_88621', '_73416', '_77683', '_4367', '_40881', '_128319', '_134475', '_79293', '_87403', '_66310', '_58759', '_114534', '_106379', '_19804', '_38938', '_129912', '_81791', '_64709', '_61558', '_92873', 'SID_103609979', '_76011', '_22181', '_77833', '_46536', '_57963', '_56203', '_59181', '_90089', '_60047', '_50179', '_84448', '_91019', '_87597', '_26737', '_94555', '_61215', '_81298', '_61174', '_80237', '_57423', '_34912', '_60830', '_58406', '_12214', '_41259', '_64939', '_8881', '_130349', '_108877', 'SID_312377382', '_54730', '_94919', '_79664', '_55211', '_124483', '_57928', '_79518', '_118335', '_19356', '_16915', '_24326', '_65499', '_109864', '_4686', '_123222', '_43220', '_56204', '_89638', '_129722', '_66281', '_101280', '_26209', '_114219', '_75941', '_63052', '_47063', '_54951', '_16934', '_63660', '_83847', '_19539', '_101951', '_60470', '_12605', '_57925', '_111983', '_14785', '_58649', 'DSLET', '_57484', 'SID_103505600', '_92766', '_107507', '_6452', '_60215', '_78806', '_106398', '_9198', '_62793', '_77402', '_76597', '_62167', '_65287', '_37103', '_106680', '_58645', '_99059', '_26441', '_10910', '_12243', '_79818', '_84594', '_13662', '_113298', '_14163', '_55448', '_126786', '_56280', '_131750', '_61336', '_22140', '_129422', '_43146', '_110527', '_130206', '_123384', '_59651', '_125111', '_58107', '_15336', '_93153', '_127269', '_44497', '_106378', '_42155', '_68607', '_56106', '_23521', '_60524', '_64308', '_29597', '_51806', '_71617', '_57557', '_78045', '_111171', '_56301', '_11469', '_6767', '_100236', '_103924', '_79064', '_107751', '_47358', '_61703', '_44676', '_78175', '_53213', '_8714', '_60230', '_55868', '_121168', '_6236', '_18153', '_7164', '_56465', '_33067', '_98178', '_41260', '_114384', '_13286', '_32940', '_60713', '_124329', '_8277', '_124989', '_42542', '_113274', '_22184', '_112160', '_123025', '_22465', '_59571', '_48051', 'SID_242619951', '_170', '_111473', '_56720', '_59484', '_30284', '_107278', '_76711', '_87940', '_122763', '_47859', '_26422', '_81659', '_61022', '_489', '_56299', '_112685', '_114447', '_60364', '_21409', '_129199', 'SID_103594951', '_1591', '_103608', '_90558', '_8800', '_28846', '_38804', '_56711', '_74052', '_71648', '_61446', '_120097', '_123075', '_105205', '_130385', '_66339', '_113216', '_134525', '_130875', '_94411', '_23123', '_16615', '_59133', '_104644', '_48226', '_101543', '_66616', '_60998', '_110369', '_126433', '_45102', '_8578', '_14255', '_94364', '_120745', '_62891', '_7111', '_113449', '_56294', '_68950', '_74338', '_56004', '_45778', '_9529', '_78445', '_51499', '_65204', '_7165', 'SID_194186045', '_120152', '_41361', '_94698', '_77788', '_48016', '_61241', '_22645', '_99608', '_62980', '_60983', '_61675', '_67885', '_55775', '_103698', '_23451', '_42934', '_55208', '_63203', '_60942', '_57112', '_5969', '_120563', 'SID_242619950', '_59094', '_61486', '_113591', '_76840', '_53567', '_55603', '_77764', '_91909', '_14440', '_81045', '_41521', '_1552', '_39617', '_44756', '_4540', '_63543', '_73626', '_104505', '_58247', '_16310', '_54591', '_10267', 'SID_194165496', '_10260', '_45088', '_134375', 'SID_103505605', '_57524', '_27825', '_83742', 'SID_103293205', '_11639', '_56262', '_121099', '_6852', '_95020', '_96252', '_43383', '_124313', '_56752', '_79866', '_23218', '_121604', '_132642', '_25723', '_61487', '_20355', '_130377', '_14280', '_15329', '_133120', '_130637', '_113584', '_125247', '_32354', '_97556', '_31876', '_53762', '_67318', '_101651', '_60600', '_126776', '_50468', '_61835', '_119713', '_133181', '_40759', '_57979', '_97500', '_129647', '_113901', '_103641', '_61424', '_56878', '_7935', '_94711', '_52231', '_48854', '_73364', '_108647', '_127205', '_123867', '_104120', '_105195', '_65286', '_48540', '_68583', '_32481', '_101412', '_130556', '_68642', '_17666', '_109432', '_59316', '_27946', '_20990', '_57922', '_4331', '_103648', '_102764', '_89131', '_111628', '_14811', '_122690', '_25268', '_11102', '_56842', '_108763', '_22663', '_63688', 'SID_242619947', '_57558', '_130658', '_123670', '_24906', '_24047', '_61488', '_73167', '_11094', '_60592', '_90231', '_56871', '_32977', '_59228', '_98450', '_104486', '_91170', '_59179', '_102770', '_72930', '_18322', '_55522', '_66572', '_58647', '_16264', '_122931', '_91770', 'SID_103734818', '_11564', '_76789', '_25813', '_65511', '_29370', '_90911', '_129611', '_53263', '_17625', '_124694', '_41314', '_20752', '_64088', '_103601', '_64108', '_114098', '_64032', '_43461', '_88103', '_76700', '_80775', '_7919', '_55594', '_91511', '_54632', '_50448', '_72688', '_97824', '_5881', '_66338', '_121816', '_95983', '_130428', '_57927', 'SID_242619949', '_60756', '_8095', '_57097', '_74872', '_123591', '_99385', '_105301', '_56434', '_59936', '_28254', '_82360', '_68764', '_129930', '_42681', '_87190', '_111697', '_13085', 'SID_103547985', '_15189', '_71638', '_55802', '_22833', '_121469', '_60589', '_42759', '_64265', '_55429', '_76445', '_98068', '_110553', '_124740', '_81356', '_113981', '_95038', '_38258', '_80565', '_111089', '_61257', '_109010', '_101811', '_5842', '_94978', '_132970', '_56235', '_121368', '_112476', '_77684', '_73553', '_67136', '_11438', '_6565', '_46029', '_7364', '_81484', '_133668', '_58179', 'SID_103700327', '_56631', '_81882', '_101575', '_118249', '_672', '_96102', '_10998', '_113268', '_123932', '_133053', '_16217', '_97270', '_125624', '_59411', '_55874', '_42355', '_79277', '_113337', '_37483', '_71168', '_47049', '_128531', '_118674', '_68909', '_97919', '_35718', '_25326', '_55803', '_100066', '_25281', '_60517', '_124850', '_123246', '_109135', '_131170', '_60979', '_55148', '_103519', '_65879', '_99443', '_101576', '_61296', '_124797', '_61669', '_57729', '_95673', '_70625', '_112342', '_89323', '_60725', '_81685', '_113970', '_82392', '_109299', '_12947', '_77340', '_24239', '_17029', '_71129', '_47268', '_55996', '_54080', '_73665', '_98289', '_59751', '_26249', '_96747', '_46365', '_50831', '_108687', '_129094', '_87419', '_18411', '_60286', '_127441', '_112862', 'SID_103505599', '_127900', '_64670', '_3493', '_65227', '_48149', 'SID_163326400', '_97175', '_39082', '_55003', '_24344', '_133595', '_46312', '_134388', '_122890', '_101449', '_72459', '_10783', '_4449', '_72406', '_56632', '_56254', '_41306', '_31330', '_46994', '_86755', '_109815', '_130693', '_56481', '_81888', '_52399', '_120523', '_78071', '_16030', '_82911', '_3581', '_19078', '_29027', '_112584', '_27003', '_62983', '_61765', '_95093', '_11070', '_61720', '_55049', '_66137', '_113801', '_74318', '_125494', '_96169', '_-_-pentazocine', '_6600', '_17476', '_61333', '_96111', '_54935', '_54579', '_62960', 'SID_103547931', '_117298', '_124470', '_63673', '_75615', '_84962', '_106682', '_17216', '_131802', '_80691', '_113781', '_55027', '_23444', '_55513', '_22019', '_76244', '_72951', '_26599', '_127907', '_134394', '_76828', '_47315', '_22501', '_25328', '_26734', '_73747', '_44082', '_131301', '_76408', '_67676', '_108548', '_28693', 'SID_103547993', '_27181', '_60915', '_4837', '_74064', '_119946', '_114539', '_103637', '_80093', '_65118', '_6926', '_15234', '_86713', '_1865', '_32194', '_26424', '_77047', '_101778', '_6426', '_124773', '_60733', '_62754', '_14557', '_76177', '_8293', '_68993', '_17544', '_78026', '_93365', '_56884', '_131405', '_8037', '_61701', '_39242', '_73454', '_13875', '_78059', '_45261', '_112631', '_122774', '_132073', '_71160', '_37355', '_27087', '_16464', '_131548', '_79969', '_43114', '_125933', '_75967', '_77882', '_24807', '_97597', '_110737', '_1329', '_46', '_114537', '_2038', '_79635', '_57103', '_29258', '_71894', '_95415', '_53159', '_105075', '_100228', '_94629', '_57111', '_3844', '_81074', '_120815', '_43946', '_28788', '_129515', '_100061', '_107421', '_108544', '_92967', '_112327', '_27863', '_99673', '_42671', '_132081', '_80119', '_125266', '_101351', '_123824', '_90747', '_61839', '_130001', '_101022', '_61725', '_52934', '_20557', '_1730', '_82568', '_12891', '_13796', '_63136', '_46563', '_90489', '_78697', '_69213', '_29715', '_31638', '_12808', '_131023', '_121577', '_63506', '_64547', '_47652', '_127026', '_6018', '_116700', '_96854', '_103639', '_98736', '_94122', '_124511', '_130243', '_39642', '_87437', '_18495', '_15449', '_70499', '_24637', '_8883', '_100403', '_75425', '_66951', '_52198', '_114548', '_58886', '_130687', '_91446', '_97432', '_31970', '_110578', '_126369', '_58408', '_56238', '_2607', '_63197', '_8319', '_109599', '_132777', '_82385', '_130344', '_61685', '_72962', '_88477', '_28353', '_73103', '_102571', '_56261', '_16054', '_89058', '_21203', '_55866', '_123637', '_29394', '_20344', '_56188', '_127484', '_25672', '_92570', '_12724', '_29573', '_57101', '_133779', '_78116', '_53024', '_83105', '_32941', '_62825', '_8259', '_19708', '_8561', '_41853', '_106490', '_55719', '_60516', '_60513', '_112466', '_28275', '_73764', '_43174', '_53189', '_46981', '_70190', '_105401', '_23930', '_6281', '_18462', '_7796', '_46203', '_27013', '_61489', '_55043', '_63011', '_60685', '_9794', '_8372', '_101899', '_60209', '_83909', '_80266', '_61443', '_120522', '_84846', '_25344', '_103443', '_130315', '_183', '_19620', '_109296', '_36648', '_36679', '_58487', '_85415', '_88637', '_8132', '_114090', '_108602', '_32744', '_77412', '_76800', '_129922', '_106869', '_119812', '_52602', '_51042', '_60413', '_34366', '_106347', '_38441', '_90644', '_125340', '_100203', '_61637', '_62991', '_71898', '_29066', '_94526', '_6686', '_60206', '_42091', '_105504', '_60581', '_126799', '_94060', '_58639', '_46420', '_60462', '_8753', '_97005', '_57885', '_129913', '_14023', '_59887', '_59732', '_57074', '_25403', '_60533', '_25605', '_66772', '_133184', '_123604', '_56307', '_121300', '_121229', '_22928', '_56818', '_99471', '_15081', '_80202', '_100204', '_43133', '_12047', 'SID_103520827', '_76652', '_15877', '_125595', '_66011', '_37232', '_78535', '_109567', '_60987', '_58769', '_2924', '_2861', '_125219', '_128799', '_104357', '_64608', '_65745', '_88089', '_126674', '_83009', '_55819', '_30618', '_61718', '_55240', '_11329', '_92910', '_42255', '_48539', '_124487', '_131072', '_59013', 'SID_164137991', '_68206', '_14235', '_85412', '_107138', '_112829', '_81651', '_55520', '_68177', '_56162', '_70641', '_21798', '_29776', '_55201', '_33158', '_18808', '_105137', '_16221', '_121345', '_61202', '_81810', '_25031', '_83877', '_87318', '_62746', '_99101', '_56768', '_114362', '_106672', '_66820', '_106623', '_105222', '_13335', '_105250', '_120572', '_54973', '_11574', '_16802', '_75871', '_70134', '_12618', '_61395', '_61445', '_124734', '_17708', '_112407', '_39885', '_6540', '_131134', '_59912', '_87947', '_120509', '_55830', '_60454', '_20282', '_108435', '_70578', '_101813', '_56784', '_123849', '_39402', '_61526', '_133164', '_93534', '_120965', '_24478', '_73608', '_134664', '_28608', '_130648', '_62794', '_103463', '_55826', '_58888', '_119947', '_15645', '_132164', '_96973', '_106929', '_78211', '_114513', '_66020', '_102221', '_58116', '_93381', '_96820', '_123453', '_41546', '_132043', '_55876', '_97794', '_110587', '_120973', '_63516', '_3766', '_90417', '_79845', '_13584', 'SID_124962100', '_59804', '_105103', '_13899', '_62401', '_95951', 'UFP-512', '_57756', '_74849', '_2564', '_21931', '_110357', '_58163', '_105490', '_70464', '_1510', '_123014', '_128754', '_125305', '_3827', '_108944', '_120576', '_107896', '_56798', '_54888', '_25990', '_42172', '_57115', '_104029', '_7253', '_66722', '_126601', '_75080', '_133146', '_22288', '_5178', '_61398', '_56738', '_24086', '_80277', '_77774', '_128820', '_81669', '_111149', '_68430', '_16392', '_94500', '_19686', '_112695', '_98308', '_97262', 'SID_124972650', '_77299', '_93391', '_105229', '_46234', '_50898', '_121287', '_54589', '_54553', '_91936', '_41957', '_16896', '_2254', '_22600', '_27708', '_22394', '_130257', '_57013', '_101274', '_25032', '_82351', '_62779', '_123440', '_17826', '_109587', '_92931', '_78659', '_98808', '_15088', '_110293', '_42889', '_57073', '_123512', '_26669', '_58882', '_17751', '_60508', '_56374', '_27213', '_86642', '_55329', '_72337', '_42670', '_17453', '_9087', '_30206', '_95288', '_56129', '_55748', '_123955', '_42897', '_134058', '_10060', '_62947', '_104860', '_23737', '_44419', '_103481', '_94457', '_43316', '_17534', '_7329', '_56876', '_90206', '_12046', '_55437', '_17540', '_53790', '_129632', '_18423', '_37753', '_56231', '_113405', '_59165', '_1294', '_73512', '_56013', '_78722', '_30944', '_53418', '_131679', '_101546', '_78303', '_91680', '_61613', '_124553', '_68396', '_93489', '_39876', '_109398', '_104483', '_59006', '_104474', '_121982', '_48587', '_26701', '_92344', '_97953', '_56005', '_70289', '_18521', '_86704', '_65166', '_62150', '_128830', '_76877', '_55980', '_29593', '_60526', '_44877', '_100436', '_84947', '_6928', '_59333', '_101364', '_60755', '_26434', '_25255', '_9403', '_123484', '_121675', '_132103', '_59969', '_124845', '_254', '_9335', '_55615', '_94496', '_51301', '_60747', '_121922', '_125052', '_127334', '_76663', '_80409', '_87728', '_104377', '_28838', '_70843', '_121180', '_67787', '_133436', '_67890', '_56477', '_72811', '_17655', '_116622', '_22241', '_130760', '_80468', '_25967', '_19300', '_14130', '_109095', '_11544', '_32559', '_80885', '_94274', '_94101', '_54184', '_80612', '_108667', '_61861', '_71060', '_81649', '_89446', '_130193', '_69657', '_52010', '_24752', '_128698', '_33710', '_59227', '_20481', '_99207', '_81895', '_114443', '_82697', 'SID_103650360', '_61173', '_121846', '_124482', '_90367', '_81671', '_44786', '_18388', '_47788', '_41015', '_8569', '_6026', '_22074', '_64744', '_72140', '_52018', '_20840', '_130340', '_72877', '_97960', '_26872', '_26426', '_111043', '_39036', '_79989', '_134343', '_130468', '_131664', '_61824', '_1231', 'SID_103653139', '_18819', '_110767', '_54893', '_47586', '_43926', '_17553', '_16614', '_22289', '_88894', '_101875', '_62333', '_42666', '_12287', '_25916', '_16877', '_71628', '_109943', '_59960', '_59486', '_96081', '_65846', '_27325', '_104585', '_14348', '_10011', '_20288', '_105375', '_121037', '_134464', '_87057', '_68913', '_59261', '_77685', '_10587', '_101564', '_72871', '_131037', '_128379', '_63064', '_123329', '_16577', '_1136', '_76879', '_19441', '_124420', '_64375', '_8861', '_80347', 'SID_242612082', '_120221', '_38314', '_76496', '_59523', '_83032', '_31886', '_87810', '_127343', '_76844', '_113701', '_57024', '_77897', '_28288', '_128278', '_87442', '_99157', '_91975', '_123896', '_56494', '_27215', '_95434', '_24979', '_8050', '_48767', '_59288', '_9758', '_28621', '_27912', '_71521', '_69872', '_128369', '_11728', '_18002', '_120840', '_55930', '_101560', '_114538', '_26063', '_65026', '_101424', '_121565', '_114222', '_101623', '_99200', '_6437', '_134281', '_124478', '_67183', '_111723', '_92913', '_59324', '_57573', '_54534', '_55514', '_87571', '_25066', '_124472', '_60629', '_25322', '_121495', '_84064', '_134571', '_101487', '_106744', '_103668', '_60748', '_24016', '_62215', '_121381', '_73493', '_19738', '_106765', '_67307', '_126320', '_101123', '_62734', '_8089', '_101459', '_63448', '_61208', '_123365', '_41764', '_57923', '_59277', '_114350', '_20913', '_106450', '_70074', '_126746', '_134760', '_27374', '_56843', '_64036', '_26451', '_12774', '_53713', '_5766', '_51642', '_50869', '_130159', '_63187', '_43803', '_74646', '_73476', '_32860', '_65225', '_85963', '_55248', '_42306', '_71731', '_60631', '_120560', '_61018', '_101654', '_10005', '_122335', 'SID_103547958', '_54346', '_61403', '_60789', '_93416', '_58481', '_19663', '_50308', '_11008', '_74607', '_53185', '_27356', '_94443', '_10074', '_20728', '_124647', '_74025', '_49612', '_94223', '_61295', '_113649', '_123586', '_56296', '_101637', '_16067', '_41868', '_129952', 'SID_103609912', '_60628', '_61250', '_129923', '_60207', '_130125', '_8938', '_21579', '_82465', '_71973', '_55114', '_16529', '_87143', '_21124', '_108433', '_96206', '_79379', '_5020', '_88675', '_61176', '_41662', '_85413', 'PL017', '_112556', '_60003', '_132144', '_122704', '_87498', '_60803', '_61391', '_61029', '_71501', '_18226', '_64729', '_26143', '_96253', '_26210', '_2576', '_74604', '_128270', '_87522', '_56751', '_121826', '_2218', '_66050', '_108985', '_256', '_113441', '_60752', '_1900', '_76415', '_112789', '_41524', '_100962', '_130688', '_60970', '_11203', '_238', '_128269', '_84048', '_54901', '_61092', '_123225', '_79217', '_73093', '_414', '_88891', '_57116', '_4967', '_22564', '_16101', '_132194', '_43307', '_113612', '_5135', '_60765', '_93462', '_46325', '_56767', '_130601', '_57040', '_76211', '_63536', '_132367', '_91076', '_101973', '_133110', '_85361', '_132072', '_55366', '_23656', '_6750', '_88116', '_55998', '_84829', '_70195', '_6768', '_50780', '_55172', '_20735', '_130597', '_82665', '_120452', '_126241', '_90130', '_60595', '_114011', '_60637', '_85191', '_9789', '_117058', '_110961', '_98286', '_6709', '_89904', '_32147', '_32688', '_31592', '_29525', '_103322', '_71807', '_29260', '_133130', '_54811', '_91989', '_5786', '_100992', '_73485', '_97924', '_11179', '_121730', '_31750', '_982', '_4532', '_15478', '_37619', '_97836', '_46397', '_93559', '_86769', '_133160', '_10764', '_81131', '_31948', '_12721', '_128862', '_54344', '_101432', '_39610', '_131267', '_88102', '_59564', '_131202', '_59248', '_93378', '_55595', '_46969', '_21590', '_71186', '_81609', '_78289', '_51345', '_60859', '_18472', '_15397', '_37843', '_63106', '_59242', '_127323', '_38737', '_122833', '_16083', '_111308', '_10298', '_111494', '_67681', '_78681', '_127416', 'SID_103615484', '_2708', '_10146', '_116400', '_11279', '_57060', '_117479', '_102639', '_10071', '_18787', 'SID_164129496', '_29772', '_9234', '_76823', '_69998', '_61763', '_113730', '_71365', 'SID_242619946', '_62830', '_56323', '_81431', '_25735', '_43276', '_59293', '_21415', 'SID_103505597', '_28330', '_60396', '_62253', '_67262', '_89108', '_128259', '_100206', '_105066', '_21862', '_61670', '_47519', '_124559', '_79603', '_66653', '_55464', '_76459', '_123790', '_67897', '_2994', '_125226', '_80293', '_58941', '_86006', '_61206', '_57765', '_58139', '_92610', '_61323', '_32592', '_74435', '_55571', '_25393', '_125410', '_113931', '_81044', '_41676', '_57045', '_14579', '_42882', '_48122', '_78363', '_57098', '_89509', '_59563', '_103431', '_58036', '_99529', '_99574', '_77746', '_84140', '_112621', '_20612', '_101403', '_8252', '_28775', '_123391', '_67278', '_53880', '_15819', '_1689', '_62802', '_20841', '_88370', '_99826', '_24802', '_55536', '_122532', '_7317', '_30081', '_303', '_61561', '_128803', '_102008', '_72839', '_10437', '_55842', '_104495', '_113278', '_30068', '_56995', '_46163', '_85410', '_61694', '_134292', '_120584', '_55434', '_69156', '_36084', '_55766', '_44060', '_26200', '_12181', '_32505', '_18185', '_103295', '_78213', '_113865', '_133762', '_64480', '_22744', '_60461', '_96171', '_108342', '_61251', '_53300', '_1435', '_2431', '_10398', '_51045', '_130146', '_60341', '_83876', '_95836', '_62544', '_43010', '_126266', '_13754', 'SID_164132274', '_105255', '_10623', '_120193', '_74839', '_123381', '_129982', '_76642', '_1287', '_39647', '_27591', '_74504', '_113796', '_56785', '_62463', '_117690', '_113194', '_39039', '_78616', '_83513', '_99268', '_99822', '_60827', '_61454', '_68411', '_24800', '_81067', '_134038', '_19333', '_15522', '_20663', '_34613', '_106752', '_110244', '_96186', '_78704', '_60746', '_98100', '_74131', '_19087', '_79225', '_40177', '_13287', '_63087', '_90139', '_6425', '_134206', '_57102', '_105472', '_19863', '_12700', '_50424', '_59488', '_24038', '_57033', '_103490', '_59903', '_67722', '_7616', '_94707', '_22941', '_61677', '_103099', '_55426', '_52122', '_54394', '_55132', '_79779', '_81661', '_121978', '_77635', '_134437', '_119743', '_80732', '_127268', '_45744', '_110726', '_16460', '_69224', '_93511', '_101231', '_46219', '_75413', '_123686', '_60708', '_72549', '_96176', '_100385', '_113870', '_68034', '_33602', '_52794', '_59967', '_72854', '_100533', '_123751', '_110568', '_62906', '_29564', '_111803', '_21532', '_85193', '_72169', '_131417', '_80454', '_26823', '_55284', '_40830', '_83335', '_108728', '_114342', '_3080', '_60480', '_52581', '_79704', '_56245', '_60544', '_88348', '_73794', '_71019', '_94055', '_88382', '_43656', '_114463', '_119854', '_102735']\n",
      "4949\n"
     ]
    }
   ],
   "source": [
    "n_keep = 2500\n",
    "\n",
    "reference_docking_df = reference_docking_df.sort(\"bu72_ionized_pymol_RL_conformation\", ascending=False, inplace=False)\n",
    "reference_docking_df[\"sum\"] = reference_docking_df[reference_docking_df.columns[1]].add(reference_docking_df[reference_docking_df.columns[0]])\n",
    "reference_docking_df.sort(\"sum\", ascending=False, inplace=True)\n",
    "top_ligands = reference_docking_df.index.values[:n_keep]\n",
    "\n",
    "reference_docking_df[\"diff\"] = reference_docking_df[reference_docking_df.columns[1]].subtract(reference_docking_df[reference_docking_df.columns[0]])\n",
    "reference_docking_df.sort(\"diff\", ascending=False, inplace=True)\n",
    "\n",
    "top_ligands = list(set(top_ligands.tolist()).union(set(reference_docking_df.index.values.tolist()[:n_keep])))\n",
    "print(top_ligands)\n",
    "print(len(top_ligands))"
   ]
  },
  {
   "cell_type": "code",
   "execution_count": 27,
   "metadata": {
    "collapsed": false,
    "scrolled": true
   },
   "outputs": [
    {
     "data": {
      "text/html": [
       "<div>\n",
       "<table border=\"1\" class=\"dataframe\">\n",
       "  <thead>\n",
       "    <tr style=\"text-align: right;\">\n",
       "      <th></th>\n",
       "      <th>bu72_aligned_4DKL_R_L_conformation</th>\n",
       "      <th>bu72_ionized_pymol_RL_conformation</th>\n",
       "      <th>diff</th>\n",
       "      <th>sum</th>\n",
       "    </tr>\n",
       "  </thead>\n",
       "  <tbody>\n",
       "    <tr>\n",
       "      <th>SID_103547933</th>\n",
       "      <td>-0</td>\n",
       "      <td>8.72</td>\n",
       "      <td>8.72</td>\n",
       "      <td>8.72</td>\n",
       "    </tr>\n",
       "    <tr>\n",
       "      <th>_90021</th>\n",
       "      <td>-0</td>\n",
       "      <td>7.41</td>\n",
       "      <td>7.41</td>\n",
       "      <td>7.41</td>\n",
       "    </tr>\n",
       "    <tr>\n",
       "      <th>_99059</th>\n",
       "      <td>-0</td>\n",
       "      <td>6.81</td>\n",
       "      <td>6.81</td>\n",
       "      <td>6.81</td>\n",
       "    </tr>\n",
       "    <tr>\n",
       "      <th>_123923</th>\n",
       "      <td>-0</td>\n",
       "      <td>6.7</td>\n",
       "      <td>6.7</td>\n",
       "      <td>6.7</td>\n",
       "    </tr>\n",
       "    <tr>\n",
       "      <th>_124511</th>\n",
       "      <td>-0</td>\n",
       "      <td>6.66</td>\n",
       "      <td>6.66</td>\n",
       "      <td>6.66</td>\n",
       "    </tr>\n",
       "    <tr>\n",
       "      <th>_120698</th>\n",
       "      <td>-0</td>\n",
       "      <td>6.64</td>\n",
       "      <td>6.64</td>\n",
       "      <td>6.64</td>\n",
       "    </tr>\n",
       "    <tr>\n",
       "      <th>_8447</th>\n",
       "      <td>-0</td>\n",
       "      <td>6.57</td>\n",
       "      <td>6.57</td>\n",
       "      <td>6.57</td>\n",
       "    </tr>\n",
       "    <tr>\n",
       "      <th>_131257</th>\n",
       "      <td>-0</td>\n",
       "      <td>6.53</td>\n",
       "      <td>6.53</td>\n",
       "      <td>6.53</td>\n",
       "    </tr>\n",
       "    <tr>\n",
       "      <th>_23537</th>\n",
       "      <td>-0</td>\n",
       "      <td>6.49</td>\n",
       "      <td>6.49</td>\n",
       "      <td>6.49</td>\n",
       "    </tr>\n",
       "    <tr>\n",
       "      <th>_40881</th>\n",
       "      <td>-0</td>\n",
       "      <td>6.48</td>\n",
       "      <td>6.48</td>\n",
       "      <td>6.48</td>\n",
       "    </tr>\n",
       "    <tr>\n",
       "      <th>_93511</th>\n",
       "      <td>-0</td>\n",
       "      <td>6.39</td>\n",
       "      <td>6.39</td>\n",
       "      <td>6.39</td>\n",
       "    </tr>\n",
       "    <tr>\n",
       "      <th>_93559</th>\n",
       "      <td>-0</td>\n",
       "      <td>6.3</td>\n",
       "      <td>6.3</td>\n",
       "      <td>6.3</td>\n",
       "    </tr>\n",
       "    <tr>\n",
       "      <th>_74803</th>\n",
       "      <td>-0</td>\n",
       "      <td>6.28</td>\n",
       "      <td>6.28</td>\n",
       "      <td>6.28</td>\n",
       "    </tr>\n",
       "    <tr>\n",
       "      <th>_27097</th>\n",
       "      <td>-0</td>\n",
       "      <td>6.26</td>\n",
       "      <td>6.26</td>\n",
       "      <td>6.26</td>\n",
       "    </tr>\n",
       "    <tr>\n",
       "      <th>_256</th>\n",
       "      <td>-0</td>\n",
       "      <td>6.26</td>\n",
       "      <td>6.26</td>\n",
       "      <td>6.26</td>\n",
       "    </tr>\n",
       "    <tr>\n",
       "      <th>_26734</th>\n",
       "      <td>-0</td>\n",
       "      <td>6.25</td>\n",
       "      <td>6.25</td>\n",
       "      <td>6.25</td>\n",
       "    </tr>\n",
       "    <tr>\n",
       "      <th>_30284</th>\n",
       "      <td>-0</td>\n",
       "      <td>6.24</td>\n",
       "      <td>6.24</td>\n",
       "      <td>6.24</td>\n",
       "    </tr>\n",
       "    <tr>\n",
       "      <th>_42542</th>\n",
       "      <td>-0</td>\n",
       "      <td>6.24</td>\n",
       "      <td>6.24</td>\n",
       "      <td>6.24</td>\n",
       "    </tr>\n",
       "    <tr>\n",
       "      <th>_132970</th>\n",
       "      <td>-0</td>\n",
       "      <td>6.15</td>\n",
       "      <td>6.15</td>\n",
       "      <td>6.15</td>\n",
       "    </tr>\n",
       "    <tr>\n",
       "      <th>_39443</th>\n",
       "      <td>-0</td>\n",
       "      <td>6.11</td>\n",
       "      <td>6.11</td>\n",
       "      <td>6.11</td>\n",
       "    </tr>\n",
       "    <tr>\n",
       "      <th>_112022</th>\n",
       "      <td>-0</td>\n",
       "      <td>6.1</td>\n",
       "      <td>6.1</td>\n",
       "      <td>6.1</td>\n",
       "    </tr>\n",
       "    <tr>\n",
       "      <th>_3972</th>\n",
       "      <td>-0</td>\n",
       "      <td>5.99</td>\n",
       "      <td>5.99</td>\n",
       "      <td>5.99</td>\n",
       "    </tr>\n",
       "    <tr>\n",
       "      <th>_59826</th>\n",
       "      <td>-0</td>\n",
       "      <td>5.95</td>\n",
       "      <td>5.95</td>\n",
       "      <td>5.95</td>\n",
       "    </tr>\n",
       "    <tr>\n",
       "      <th>_42098</th>\n",
       "      <td>-0</td>\n",
       "      <td>5.94</td>\n",
       "      <td>5.94</td>\n",
       "      <td>5.94</td>\n",
       "    </tr>\n",
       "    <tr>\n",
       "      <th>SID_103451051</th>\n",
       "      <td>-0</td>\n",
       "      <td>5.94</td>\n",
       "      <td>5.94</td>\n",
       "      <td>5.94</td>\n",
       "    </tr>\n",
       "    <tr>\n",
       "      <th>_40543</th>\n",
       "      <td>-0</td>\n",
       "      <td>5.93</td>\n",
       "      <td>5.93</td>\n",
       "      <td>5.93</td>\n",
       "    </tr>\n",
       "    <tr>\n",
       "      <th>_86865</th>\n",
       "      <td>-0</td>\n",
       "      <td>5.88</td>\n",
       "      <td>5.88</td>\n",
       "      <td>5.88</td>\n",
       "    </tr>\n",
       "    <tr>\n",
       "      <th>_105250</th>\n",
       "      <td>-0</td>\n",
       "      <td>5.86</td>\n",
       "      <td>5.86</td>\n",
       "      <td>5.86</td>\n",
       "    </tr>\n",
       "    <tr>\n",
       "      <th>_125835</th>\n",
       "      <td>-0</td>\n",
       "      <td>5.86</td>\n",
       "      <td>5.86</td>\n",
       "      <td>5.86</td>\n",
       "    </tr>\n",
       "    <tr>\n",
       "      <th>_8881</th>\n",
       "      <td>-0</td>\n",
       "      <td>5.83</td>\n",
       "      <td>5.83</td>\n",
       "      <td>5.83</td>\n",
       "    </tr>\n",
       "    <tr>\n",
       "      <th>...</th>\n",
       "      <td>...</td>\n",
       "      <td>...</td>\n",
       "      <td>...</td>\n",
       "      <td>...</td>\n",
       "    </tr>\n",
       "    <tr>\n",
       "      <th>_38528</th>\n",
       "      <td>-0</td>\n",
       "      <td>4.96</td>\n",
       "      <td>4.96</td>\n",
       "      <td>4.96</td>\n",
       "    </tr>\n",
       "    <tr>\n",
       "      <th>_26669</th>\n",
       "      <td>-0</td>\n",
       "      <td>4.91</td>\n",
       "      <td>4.91</td>\n",
       "      <td>4.91</td>\n",
       "    </tr>\n",
       "    <tr>\n",
       "      <th>_47652</th>\n",
       "      <td>-0</td>\n",
       "      <td>4.91</td>\n",
       "      <td>4.91</td>\n",
       "      <td>4.91</td>\n",
       "    </tr>\n",
       "    <tr>\n",
       "      <th>_123911</th>\n",
       "      <td>-0</td>\n",
       "      <td>4.88</td>\n",
       "      <td>4.88</td>\n",
       "      <td>4.88</td>\n",
       "    </tr>\n",
       "    <tr>\n",
       "      <th>_42104</th>\n",
       "      <td>-0</td>\n",
       "      <td>4.75</td>\n",
       "      <td>4.75</td>\n",
       "      <td>4.75</td>\n",
       "    </tr>\n",
       "    <tr>\n",
       "      <th>_106162</th>\n",
       "      <td>-0</td>\n",
       "      <td>4.73</td>\n",
       "      <td>4.73</td>\n",
       "      <td>4.73</td>\n",
       "    </tr>\n",
       "    <tr>\n",
       "      <th>_118249</th>\n",
       "      <td>-0</td>\n",
       "      <td>4.65</td>\n",
       "      <td>4.65</td>\n",
       "      <td>4.65</td>\n",
       "    </tr>\n",
       "    <tr>\n",
       "      <th>_39885</th>\n",
       "      <td>-0</td>\n",
       "      <td>4.65</td>\n",
       "      <td>4.65</td>\n",
       "      <td>4.65</td>\n",
       "    </tr>\n",
       "    <tr>\n",
       "      <th>_58036</th>\n",
       "      <td>-0</td>\n",
       "      <td>4.62</td>\n",
       "      <td>4.62</td>\n",
       "      <td>4.62</td>\n",
       "    </tr>\n",
       "    <tr>\n",
       "      <th>_131692</th>\n",
       "      <td>-0</td>\n",
       "      <td>4.6</td>\n",
       "      <td>4.6</td>\n",
       "      <td>4.6</td>\n",
       "    </tr>\n",
       "    <tr>\n",
       "      <th>_83032</th>\n",
       "      <td>-0</td>\n",
       "      <td>4.51</td>\n",
       "      <td>4.51</td>\n",
       "      <td>4.51</td>\n",
       "    </tr>\n",
       "    <tr>\n",
       "      <th>_117058</th>\n",
       "      <td>-0</td>\n",
       "      <td>4.5</td>\n",
       "      <td>4.5</td>\n",
       "      <td>4.5</td>\n",
       "    </tr>\n",
       "    <tr>\n",
       "      <th>_82813</th>\n",
       "      <td>-0</td>\n",
       "      <td>4.36</td>\n",
       "      <td>4.36</td>\n",
       "      <td>4.36</td>\n",
       "    </tr>\n",
       "    <tr>\n",
       "      <th>_43049</th>\n",
       "      <td>-0</td>\n",
       "      <td>4.34</td>\n",
       "      <td>4.34</td>\n",
       "      <td>4.34</td>\n",
       "    </tr>\n",
       "    <tr>\n",
       "      <th>_52162</th>\n",
       "      <td>-0</td>\n",
       "      <td>4.25</td>\n",
       "      <td>4.25</td>\n",
       "      <td>4.25</td>\n",
       "    </tr>\n",
       "    <tr>\n",
       "      <th>_19296</th>\n",
       "      <td>-0</td>\n",
       "      <td>4.12</td>\n",
       "      <td>4.12</td>\n",
       "      <td>4.12</td>\n",
       "    </tr>\n",
       "    <tr>\n",
       "      <th>_97373</th>\n",
       "      <td>-0</td>\n",
       "      <td>4.12</td>\n",
       "      <td>4.12</td>\n",
       "      <td>4.12</td>\n",
       "    </tr>\n",
       "    <tr>\n",
       "      <th>_120757</th>\n",
       "      <td>-0</td>\n",
       "      <td>3.88</td>\n",
       "      <td>3.88</td>\n",
       "      <td>3.88</td>\n",
       "    </tr>\n",
       "    <tr>\n",
       "      <th>_49741</th>\n",
       "      <td>-0</td>\n",
       "      <td>3.87</td>\n",
       "      <td>3.87</td>\n",
       "      <td>3.87</td>\n",
       "    </tr>\n",
       "    <tr>\n",
       "      <th>_121928</th>\n",
       "      <td>-0</td>\n",
       "      <td>3.81</td>\n",
       "      <td>3.81</td>\n",
       "      <td>3.81</td>\n",
       "    </tr>\n",
       "    <tr>\n",
       "      <th>_58162</th>\n",
       "      <td>4.98</td>\n",
       "      <td>8.78</td>\n",
       "      <td>3.8</td>\n",
       "      <td>13.76</td>\n",
       "    </tr>\n",
       "    <tr>\n",
       "      <th>_111043</th>\n",
       "      <td>3.13</td>\n",
       "      <td>6.91</td>\n",
       "      <td>3.78</td>\n",
       "      <td>10.04</td>\n",
       "    </tr>\n",
       "    <tr>\n",
       "      <th>_128790</th>\n",
       "      <td>2.16</td>\n",
       "      <td>5.93</td>\n",
       "      <td>3.77</td>\n",
       "      <td>8.09</td>\n",
       "    </tr>\n",
       "    <tr>\n",
       "      <th>_50179</th>\n",
       "      <td>-0</td>\n",
       "      <td>3.63</td>\n",
       "      <td>3.63</td>\n",
       "      <td>3.63</td>\n",
       "    </tr>\n",
       "    <tr>\n",
       "      <th>_68961</th>\n",
       "      <td>2.66</td>\n",
       "      <td>6.17</td>\n",
       "      <td>3.51</td>\n",
       "      <td>8.83</td>\n",
       "    </tr>\n",
       "    <tr>\n",
       "      <th>_73103</th>\n",
       "      <td>-0</td>\n",
       "      <td>3.39</td>\n",
       "      <td>3.39</td>\n",
       "      <td>3.39</td>\n",
       "    </tr>\n",
       "    <tr>\n",
       "      <th>_27003</th>\n",
       "      <td>5.24</td>\n",
       "      <td>8.49</td>\n",
       "      <td>3.25</td>\n",
       "      <td>13.73</td>\n",
       "    </tr>\n",
       "    <tr>\n",
       "      <th>_128820</th>\n",
       "      <td>-0</td>\n",
       "      <td>3.23</td>\n",
       "      <td>3.23</td>\n",
       "      <td>3.23</td>\n",
       "    </tr>\n",
       "    <tr>\n",
       "      <th>_15189</th>\n",
       "      <td>3.88</td>\n",
       "      <td>6.99</td>\n",
       "      <td>3.11</td>\n",
       "      <td>10.87</td>\n",
       "    </tr>\n",
       "    <tr>\n",
       "      <th>_134252</th>\n",
       "      <td>3.76</td>\n",
       "      <td>6.78</td>\n",
       "      <td>3.02</td>\n",
       "      <td>10.54</td>\n",
       "    </tr>\n",
       "  </tbody>\n",
       "</table>\n",
       "<p>100 rows × 4 columns</p>\n",
       "</div>"
      ],
      "text/plain": [
       "              bu72_aligned_4DKL_R_L_conformation  \\\n",
       "SID_103547933                                 -0   \n",
       "_90021                                        -0   \n",
       "_99059                                        -0   \n",
       "_123923                                       -0   \n",
       "_124511                                       -0   \n",
       "_120698                                       -0   \n",
       "_8447                                         -0   \n",
       "_131257                                       -0   \n",
       "_23537                                        -0   \n",
       "_40881                                        -0   \n",
       "_93511                                        -0   \n",
       "_93559                                        -0   \n",
       "_74803                                        -0   \n",
       "_27097                                        -0   \n",
       "_256                                          -0   \n",
       "_26734                                        -0   \n",
       "_30284                                        -0   \n",
       "_42542                                        -0   \n",
       "_132970                                       -0   \n",
       "_39443                                        -0   \n",
       "_112022                                       -0   \n",
       "_3972                                         -0   \n",
       "_59826                                        -0   \n",
       "_42098                                        -0   \n",
       "SID_103451051                                 -0   \n",
       "_40543                                        -0   \n",
       "_86865                                        -0   \n",
       "_105250                                       -0   \n",
       "_125835                                       -0   \n",
       "_8881                                         -0   \n",
       "...                                          ...   \n",
       "_38528                                        -0   \n",
       "_26669                                        -0   \n",
       "_47652                                        -0   \n",
       "_123911                                       -0   \n",
       "_42104                                        -0   \n",
       "_106162                                       -0   \n",
       "_118249                                       -0   \n",
       "_39885                                        -0   \n",
       "_58036                                        -0   \n",
       "_131692                                       -0   \n",
       "_83032                                        -0   \n",
       "_117058                                       -0   \n",
       "_82813                                        -0   \n",
       "_43049                                        -0   \n",
       "_52162                                        -0   \n",
       "_19296                                        -0   \n",
       "_97373                                        -0   \n",
       "_120757                                       -0   \n",
       "_49741                                        -0   \n",
       "_121928                                       -0   \n",
       "_58162                                      4.98   \n",
       "_111043                                     3.13   \n",
       "_128790                                     2.16   \n",
       "_50179                                        -0   \n",
       "_68961                                      2.66   \n",
       "_73103                                        -0   \n",
       "_27003                                      5.24   \n",
       "_128820                                       -0   \n",
       "_15189                                      3.88   \n",
       "_134252                                     3.76   \n",
       "\n",
       "              bu72_ionized_pymol_RL_conformation  diff    sum  \n",
       "SID_103547933                               8.72  8.72   8.72  \n",
       "_90021                                      7.41  7.41   7.41  \n",
       "_99059                                      6.81  6.81   6.81  \n",
       "_123923                                      6.7   6.7    6.7  \n",
       "_124511                                     6.66  6.66   6.66  \n",
       "_120698                                     6.64  6.64   6.64  \n",
       "_8447                                       6.57  6.57   6.57  \n",
       "_131257                                     6.53  6.53   6.53  \n",
       "_23537                                      6.49  6.49   6.49  \n",
       "_40881                                      6.48  6.48   6.48  \n",
       "_93511                                      6.39  6.39   6.39  \n",
       "_93559                                       6.3   6.3    6.3  \n",
       "_74803                                      6.28  6.28   6.28  \n",
       "_27097                                      6.26  6.26   6.26  \n",
       "_256                                        6.26  6.26   6.26  \n",
       "_26734                                      6.25  6.25   6.25  \n",
       "_30284                                      6.24  6.24   6.24  \n",
       "_42542                                      6.24  6.24   6.24  \n",
       "_132970                                     6.15  6.15   6.15  \n",
       "_39443                                      6.11  6.11   6.11  \n",
       "_112022                                      6.1   6.1    6.1  \n",
       "_3972                                       5.99  5.99   5.99  \n",
       "_59826                                      5.95  5.95   5.95  \n",
       "_42098                                      5.94  5.94   5.94  \n",
       "SID_103451051                               5.94  5.94   5.94  \n",
       "_40543                                      5.93  5.93   5.93  \n",
       "_86865                                      5.88  5.88   5.88  \n",
       "_105250                                     5.86  5.86   5.86  \n",
       "_125835                                     5.86  5.86   5.86  \n",
       "_8881                                       5.83  5.83   5.83  \n",
       "...                                          ...   ...    ...  \n",
       "_38528                                      4.96  4.96   4.96  \n",
       "_26669                                      4.91  4.91   4.91  \n",
       "_47652                                      4.91  4.91   4.91  \n",
       "_123911                                     4.88  4.88   4.88  \n",
       "_42104                                      4.75  4.75   4.75  \n",
       "_106162                                     4.73  4.73   4.73  \n",
       "_118249                                     4.65  4.65   4.65  \n",
       "_39885                                      4.65  4.65   4.65  \n",
       "_58036                                      4.62  4.62   4.62  \n",
       "_131692                                      4.6   4.6    4.6  \n",
       "_83032                                      4.51  4.51   4.51  \n",
       "_117058                                      4.5   4.5    4.5  \n",
       "_82813                                      4.36  4.36   4.36  \n",
       "_43049                                      4.34  4.34   4.34  \n",
       "_52162                                      4.25  4.25   4.25  \n",
       "_19296                                      4.12  4.12   4.12  \n",
       "_97373                                      4.12  4.12   4.12  \n",
       "_120757                                     3.88  3.88   3.88  \n",
       "_49741                                      3.87  3.87   3.87  \n",
       "_121928                                     3.81  3.81   3.81  \n",
       "_58162                                      8.78   3.8  13.76  \n",
       "_111043                                     6.91  3.78  10.04  \n",
       "_128790                                     5.93  3.77   8.09  \n",
       "_50179                                      3.63  3.63   3.63  \n",
       "_68961                                      6.17  3.51   8.83  \n",
       "_73103                                      3.39  3.39   3.39  \n",
       "_27003                                      8.49  3.25  13.73  \n",
       "_128820                                     3.23  3.23   3.23  \n",
       "_15189                                      6.99  3.11  10.87  \n",
       "_134252                                     6.78  3.02  10.54  \n",
       "\n",
       "[100 rows x 4 columns]"
      ]
     },
     "execution_count": 27,
     "metadata": {},
     "output_type": "execute_result"
    }
   ],
   "source": [
    "reference_docking_df.iloc[:100]"
   ]
  },
  {
   "cell_type": "code",
   "execution_count": 49,
   "metadata": {
    "collapsed": false
   },
   "outputs": [],
   "source": [
    "drugbank_duds = pd.read_csv(\"/home/enf/md_simulations/MOR/docking/drugbank_no_MOR.csv\")\n",
    "cids = convert_names_to_cids(drugbank_duds[\"CAS Number\"].values.tolist(), worker_pool=dview, parallel=False)\n",
    "cids = [n for n in cids if n is not None]\n",
    "download_sdfs_from_cids(cids, ligands_dir, worker_pool=dview, parallel=False)"
   ]
  },
  {
   "cell_type": "code",
   "execution_count": null,
   "metadata": {
    "collapsed": false
   },
   "outputs": [
    {
     "name": "stdout",
     "output_type": "stream",
     "text": [
      "Creating new directories for each ligand.\n",
      "Done creating directories. Determining which docking jobs to conduct.\n",
      "About to do 819 Docking computations.\n",
      "Completed docking.\n"
     ]
    }
   ],
   "source": [
    "from importlib import reload\n",
    "import grids\n",
    "reload(grids)\n",
    "from grids import *\n",
    "\n",
    "reference_grids_dir = \"/home/enf/md_simulations/MOR/docking/reference_grids\"\n",
    "reference_docking_dir = \"/home/enf/md_simulations/MOR/docking/reference_docking_%s\" %precision\n",
    "\n",
    "\n",
    "ref_receptors_dir = \"/home/enf/md_simulations/MOR/bu72_ref_receptors/conformation\"\n",
    "active_ref_dir = \"%s/bu72_ionized_pymol_RL_conformation.pdb\" %ref_receptors_dir\n",
    "inactive_ref_dir = \"%s/bu72_aligned_4DKL_R_L_conformation.pdb\" %ref_receptors_dir\n",
    "\n",
    "base_docking_dir = \"/home/enf/md_simulations/MOR/h8_reimaged/sparse-tICA_t50_n_components10all_residues_4dkl_5c1m_under_cutoff6A-CA-py3-far_regularization_wolf_autoShrinkage0pt01-backup/docking_100clusters\"\n",
    "if not os.path.exists(base_docking_dir):\n",
    "    os.makedirs(base_docking_dir)\n",
    "\n",
    "#base_docking_dir = \"/home/enf/md_simulations/MOR/docking\"\n",
    "\n",
    "grid_center = \"0.33, 1.64, 9.\"\n",
    "\n",
    "#samples_dir = \"%s/conformations\" %base_docking_dir\n",
    "samples_dir = \"/home/enf/md_simulations/MOR/h8_reimaged/sparse-tICA_t50_n_components10all_residues_4dkl_5c1m_under_cutoff6A-CA-py3-far_regularization_wolf_autoShrinkage0pt01-backup/all_clusterer_100clusters_1samples_samples_kdtree\"\n",
    "ligands_dir = \"/home/enf/md_simulations/MOR/docking/ligands\"\n",
    "if not os.path.exists(ligands_dir):\n",
    "    os.makedirs(ligands_dir)\n",
    "\n",
    "grid_dir = \"%s/grids\" %base_docking_dir\n",
    "if not os.path.exists(grid_dir):\n",
    "    os.makedirs(grid_dir)\n",
    "precision = \"XP\"\n",
    "docking_dir = \"%s/docking_%s\" %(base_docking_dir, precision)\n",
    "if not os.path.exists(docking_dir):\n",
    "    os.makedirs(docking_dir)\n",
    "\n",
    "reimaged_dir = samples_dir\n",
    "mae_dir = reimaged_dir\n",
    "#remove_ter(reimaged_dir)\n",
    "#reorder(reimaged_dir)\n",
    "\n",
    "#pprep(mae_dir, ref = active_ref_dir, chosen_receptors = None, worker_pool=None, parallel=True)\n",
    "\n",
    "#generate_grids(mae_dir, grid_center, grid_dir, remove_lig = \"LIG\", chosen_receptors = None, worker_pool=None, outer_box=25., parallel=True)\n",
    "\n",
    "#ligand_df = prepare_ligands(ligands_dir, exts = [\".mol\"],\n",
    "#                n_ring_conf=1, n_stereoisomers=1,\n",
    "#                force_field=16, worker_pool=dview,\n",
    "#                parallel=True, redo=False,\n",
    "#                smiles_df=None)#, cid_df=ligand_df,\n",
    "               #binding_db=None)\n",
    "\n",
    "#prepare_ligands(ligands_dir, exts = [\".mae\", \".mol\"],\n",
    "#                n_ring_conf=1, n_stereoisomers=1,\n",
    "#                force_field=16, worker_pool=dview,\n",
    "#                parallel=False, redo=False,\n",
    "#                smiles_df=None, cid_df=None,\n",
    "#                binding_db=None)#binding_db[['PubChem CID', 'PubChem SID',\n",
    "#                #'ChEMBL ID of Ligand', 'Ligand SMILES']])\n",
    "\n",
    "#ligands_dir = htbc_dir\n",
    "\n",
    "#chosen_ligands = list(set(get_ligands(ligands_dir, \".sdf\") + get_ligands(ligands_dir, \".mol\")))\n",
    "chosen_ligands = [\"CID_%d\" %i for i in aid_ligands.CID.values] + get_ligands(ligands_dir, \".mol\")\n",
    "htbc_dir = \"/home/enf/htbc/sdfs\"\n",
    "#ligands_dir = htbc_dir\n",
    "dock_ligands_and_receptors(grid_dir, docking_dir, ligands_dir,\n",
    "                           precision = precision, ext = \"-out.maegz\",\n",
    "                           chosen_ligands=chosen_ligands, chosen_receptors = None, parallel = False,\n",
    "                           grid_ext = \".zip\", worker_pool=dview, retry_after_failed=True,timeout=60*60*24)\n",
    "\n",
    "#dock_ligands_and_receptors(grid_dir, docking_dir,  biased_agonist_dir, precision = precision, ext = \"-out.maegz\", chosen_ligands = biased_ligands, chosen_receptors = chosen_receptors, parallel = None, grid_ext = \".grd\", worker_pool=dview)\n",
    "#dock_ligands_and_receptors(grid_dir, docking_dir, agonist_dir, precision = precision, ext = \"-out.maegz\", chosen_ligands = agonist_ligands, chosen_receptors = chosen_receptors, parallel = None, grid_ext = \".grd\", worker_pool=dview)\n"
   ]
  },
  {
   "cell_type": "code",
   "execution_count": null,
   "metadata": {
    "collapsed": true
   },
   "outputs": [],
   "source": []
  },
  {
   "cell_type": "code",
   "execution_count": 34,
   "metadata": {
    "collapsed": false
   },
   "outputs": [
    {
     "data": {
      "text/plain": [
       "1989"
      ]
     },
     "execution_count": 34,
     "metadata": {},
     "output_type": "execute_result"
    }
   ],
   "source": [
    "len(top_ligands)"
   ]
  },
  {
   "cell_type": "code",
   "execution_count": 20,
   "metadata": {
    "collapsed": false
   },
   "outputs": [
    {
     "name": "stdout",
     "output_type": "stream",
     "text": [
      "About to do 508 Docking computations.\n",
      "Completed docking.\n"
     ]
    }
   ],
   "source": [
    "precision = \"XP\"\n",
    "reference_grids_dir = \"/home/enf/md_simulations/MOR/docking/reference_grids\"\n",
    "reference_docking_dir = \"/home/enf/md_simulations/MOR/docking/reference_docking_%s\" %precision\n",
    "\n",
    "ligands_dir = \"/home/enf/md_simulations/MOR/docking/ligands\"\n",
    "        \n",
    "dock_ligands_and_receptors(reference_grids_dir, reference_docking_dir, ligands_dir,\n",
    "                           precision = precision, ext = \"-out.maegz\",\n",
    "                           chosen_ligands=False, chosen_receptors = None, parallel = False,\n",
    "                           grid_ext = \".zip\", worker_pool=dview, retry_after_failed=True)"
   ]
  },
  {
   "cell_type": "code",
   "execution_count": null,
   "metadata": {
    "collapsed": true
   },
   "outputs": [],
   "source": [
    "docking_df, poses_df = analyze_docking_results_in_dir(docking_dir, ligands_dir, write_to_disk=False, redo=True)\n",
    "docking_df = docking_df.transpose()"
   ]
  },
  {
   "cell_type": "code",
   "execution_count": 17,
   "metadata": {
    "collapsed": true
   },
   "outputs": [],
   "source": [
    "pd.set_option('display.max_rows', None)\n",
    "pd.set_option('display.max_columns', None)"
   ]
  },
  {
   "cell_type": "code",
   "execution_count": null,
   "metadata": {
    "collapsed": true
   },
   "outputs": [],
   "source": [
    "from sklearn.preprocessing import binarize\n",
    "\n",
    "common_ligands = [n for n in ligand_df.ligand.values if n in docking_df.index.values]\n",
    "\n",
    "top_clusters = docking_df.columns.values\n",
    "\n",
    "classes = ligand_df[\"type\"].values.tolist()\n",
    "class_labels = []\n",
    "for label in classes:\n",
    "    if \"antagonist\" in label.lower():\n",
    "        class_labels.append(0.)\n",
    "    elif \"partial\" in label.lower():\n",
    "        class_labels.append(1.)\n",
    "    else:\n",
    "        class_labels.append(2.)\n",
    "ligand_df[\"label\"] = class_labels\n",
    "\n",
    "y = ligand_df.loc[common_ligands].label.values\n",
    "\n",
    "C_df = docking_df.loc[common_ligands][n for n in docking_df.columns.values.tolist() if \"cluster\" not in n]\n",
    "C_df[\"difference\"] = C_df[C_df.columns[0]].subtract(C_df[C_df.columns[1]])\n",
    "\n",
    "X_df = docking_df.loc[common_ligands][top_clusters]\n",
    "\n",
    "C_df = standardize_df(C_df)\n",
    "X_df = standardize_df(X_df)\n",
    "\n",
    "C = C_df.values\n",
    "X = X_df.values\n",
    "\n",
    "X_diff = np.zeros((X.shape[0], X.shape[1]**2/2))\n",
    "k=0\n",
    "for i in range(0,X.shape[1]):\n",
    "    for j in range(i+1,X.shape[1]):\n",
    "        X_diff[:,k] = X[:,i] - X[:,j]\n",
    "        k+=1\n",
    "X_diff = np.hstack([X_scaled, X_diff, C*-1.0])\n",
    "\n",
    "features = [C, X]\n",
    "feature_names = [\"Crystal Structures\", \"MSM Docking\"]"
   ]
  },
  {
   "cell_type": "code",
   "execution_count": null,
   "metadata": {
    "collapsed": true
   },
   "outputs": [],
   "source": [
    "results_dict = {}\n",
    "n_trials = 100\n",
    "train_test_split_prop = 0.8\n",
    "\n",
    "save_name = \"three_class_logistic_cv_trials%d_split%s.pkl\" %(n_trials, str(train_test_split_prop))\n",
    "results_dict[save_name] = generate_or_load_model(features, y, feature_names, n_trials, train_test_split_prop, False, \"logistic_cv\", \"%s/%s.pkl\" %(analysis_dir, save_name), redo=True)\n",
    "\n",
    "analyze_multiclass_experiment(results_dict[save_name], \n",
    "                              [\"Crystal Structures\", \"MSM Docking\"],\n",
    "                              top_clusters, common_ligands, analysis_dir,\n",
    "                              [\"Antagonists\", \"Partial Agonists\", \"Agonists\"], X_scaled, \n",
    "                              exp_title=\"Ligand Class\", coef_name=\"Logistic Coefficient\")"
   ]
  },
  {
   "cell_type": "code",
   "execution_count": null,
   "metadata": {
    "collapsed": true
   },
   "outputs": [],
   "source": [
    "classes = ligand_df[\"type\"].values.tolist()\n",
    "class_labels = []\n",
    "for label in classes:\n",
    "    if \"antagonist\" in label.lower():\n",
    "        class_labels.append(0.)\n",
    "    else:\n",
    "        class_labels.append(1.)\n",
    "ligand_df[\"label\"] = class_labels\n",
    "y = ligand_df.loc[common_ligands].label.values\n",
    "\n",
    "save_name = \"two_class_logistic_cv_trials%d_split%s.pkl\" %(n_trials, str(train_test_split_prop))\n",
    "results_dict[save_name] = generate_or_load_model(features, y, feature_names, n_trials, train_test_split_prop, False, \"logistic_cv\", \"%s/%s.pkl\" %(analysis_dir, save_name), redo=True)\n",
    "\n",
    "analyze_multiclass_experiment(results_dict[save_name], \n",
    "                              [\"Crystal Structures\", \"MSM Docking\"],\n",
    "                              top_clusters, common_ligands, analysis_dir,\n",
    "                              [\"Antagonists\", \"Agonists\"], X_scaled, \n",
    "                              exp_title=\"Ligand Class\", coef_name=\"Logistic Coefficient\")\n"
   ]
  },
  {
   "cell_type": "code",
   "execution_count": null,
   "metadata": {
    "collapsed": false
   },
   "outputs": [],
   "source": [
    "n_trials = 1000\n",
    "\n",
    "y = multi_binarizer(y_gpr, [0.33, 0.66])\n",
    "gprot_results_t1000_multi0pt33_0pt66_split0pt6_logistic_2f = do_classification_experiment(features, y, feature_names, n_trials, 0.6, regularize=False, model=\"logistic_cv\")\n",
    "with open(\"%s/gprot_results_t1000_multi0pt33_0pt66_split0pt6_logistic_2f.pkl\" %analysis_dir, \"wb\") as f:\n",
    "    pickle.dump(gprot_results_t1000_multi0pt33_0pt66_split0pt6_logistic_2f, f)\n",
    "\n",
    "y = multi_binarizer(y_arr, [0.33, 0.66])\n",
    "arr_results_t1000_multi0pt33_0pt66_split0pt6_logistic_2f = do_classification_experiment(features, y, feature_names, n_trials, 0.6, regularize=False, model=\"logistic_cv\")\n",
    "with open(\"%s/arr_results_t1000_multi0pt33_0pt66_split0pt6_logistic_2f.pkl\" %analysis_dir, \"wb\") as f:\n",
    "    pickle.dump(arr_results_t1000_multi0pt33_0pt66_split0pt6_logistic_2f, f)\n",
    "\n",
    "print(np.median(np.array(gprot_results_t1000_multi0pt33_0pt66_split0pt6_logistic_2f[\"test_roc_aucs\"]), axis=0))\n",
    "print(np.median(np.array(arr_results_t1000_multi0pt33_0pt66_split0pt6_logistic_2f[\"test_roc_aucs\"]), axis=0))\n",
    "    \n",
    "    \n",
    "y = multi_binarizer(y_gpr, [0.2, 0.8])\n",
    "gprot_results_t1000_multi0pt2_0pt8_split0pt6_logistic_2f = do_classification_experiment(features, y, feature_names, n_trials, 0.6, regularize=False, model=\"logistic_cv\")\n",
    "with open(\"%s/gprot_results_t1000_multi0pt2_0pt8_split0pt6_logistic_2f.pkl\" %analysis_dir, \"wb\") as f:\n",
    "    pickle.dump(gprot_results_t1000_multi0pt2_0pt8_split0pt6_logistic_2f, f)\n",
    "\n",
    "y = multi_binarizer(y_arr, [0.2, 0.8])\n",
    "arr_results_t1000_multi0pt2_0pt8_split0pt6_logistic_2f = do_classification_experiment(features, y, feature_names, n_trials, 0.6, regularize=False, model=\"logistic_cv\")\n",
    "with open(\"%s/arr_results_t1000_multi0pt2_0pt8_split0pt6_logistic_2f.pkl\" %analysis_dir, \"wb\") as f:\n",
    "    pickle.dump(arr_results_t1000_multi0pt2_0pt8_split0pt6_logistic_2f, f)\n",
    "\n",
    "print(np.median(np.array(gprot_results_t1000_multi0pt2_0pt8_split0pt6_logistic_2f[\"test_roc_aucs\"]), axis=0))\n",
    "print(np.median(np.array(arr_results_t1000_multi0pt2_0pt8_split0pt6_logistic_2f[\"test_roc_aucs\"]), axis=0))   \n",
    "\n",
    "y = multi_binarizer(y_gpr, [0.5])\n",
    "gprot_results_t1000_single0pt5_split0pt6_logistic_2f = do_classification_experiment(features, y, feature_names, n_trials, 0.6, regularize=False, model=\"logistic_cv\")\n",
    "with open(\"%s/gprot_results_t1000_single0pt5_split0pt6_logistic_2f.pkl\" %analysis_dir, \"wb\") as f:\n",
    "    pickle.dump(gprot_results_t1000_single0pt5_split0pt6_logistic_2f, f)\n",
    "\n",
    "y = multi_binarizer(y_arr, [0.5])\n",
    "arr_results_t1000_single0pt5_split0pt6_logistic_2f = do_classification_experiment(features, y, feature_names, n_trials, 0.6, regularize=False, model=\"logistic_cv\")\n",
    "with open(\"%s/arr_results_t1000_single0pt5_split0pt6_logistic_2f.pkl\" %analysis_dir, \"wb\") as f:\n",
    "    pickle.dump(arr_results_t1000_single0pt5_split0pt6_logistic_2f, f)\n",
    "    \n",
    "print(np.median(np.array(gprot_results_t1000_single0pt5_split0pt6_logistic_2f[\"test_roc_aucs\"]), axis=0))\n",
    "print(np.median(np.array(arr_results_t1000_single0pt5_split0pt6_logistic_2f[\"test_roc_aucs\"]), axis=0))\n",
    "\n",
    "    \n",
    "y = multi_binarizer(y_gpr, [0.2])\n",
    "gprot_results_t1000_single0pt2_split0pt6_logistic_2f = do_classification_experiment(features, y, feature_names, n_trials, 0.6, regularize=False, model=\"logistic_cv\")\n",
    "with open(\"%s/gprot_results_t1000_single0pt2_split0pt6_logistic_2f.pkl\" %analysis_dir, \"wb\") as f:\n",
    "    pickle.dump(gprot_results_t1000_single0pt2_split0pt6_logistic_2f, f)\n",
    "\n",
    "y = multi_binarizer(y_arr, [0.2])\n",
    "arr_results_t1000_single0pt2_split0pt6_logistic_2f = do_classification_experiment(features, y, feature_names, n_trials, 0.6, regularize=False, model=\"logistic_cv\")\n",
    "with open(\"%s/arr_results_t1000_single0pt2_split0pt6_logistic_2f.pkl\" %analysis_dir, \"wb\") as f:\n",
    "    pickle.dump(arr_results_t1000_single0pt2_split0pt6_logistic_2f, f)\n",
    "\n",
    "print(np.median(np.array(gprot_results_t1000_single0pt2_split0pt6_logistic_2f[\"test_roc_aucs\"]), axis=0))\n",
    "print(np.median(np.array(arr_results_t1000_single0pt2_split0pt6_logistic_2f[\"test_roc_aucs\"]), axis=0))\n",
    "\n",
    "        \n",
    "gprot_results_t1000_0pt8_ridge = do_regression_experiment(features, y_gpr, feature_names, n_trials, .8, regularize=False, model=\"RidgeCV\")\n",
    "with open(\"%s/gprot_results_t1000_0pt8_ridge.pkl\" %analysis_dir, \"wb\") as f:\n",
    "    pickle.dump(gprot_results_t1000_0pt8_ridge, f)\n",
    "\n",
    "arr_results_t1000_0pt8_ridge = do_regression_experiment(features, y_arr, feature_names, n_trials, .8, regularize=False, model=\"RidgeCV\")\n",
    "with open(\"%s/arr_results_t1000_0pt8_ridge.pkl\" %analysis_dir, \"wb\") as f:\n",
    "    pickle.dump(arr_results_t1000_0pt8_ridge, f)\n",
    "\n",
    "print(np.median(np.array(gprot_results_t1000_0pt8_ridge[\"test_r2s\"]), axis=0))\n",
    "print(np.median(np.array(arr_results_t1000_0pt8_ridge[\"test_r2s\"]), axis=0))\n",
    "\n",
    "\n",
    "\n"
   ]
  },
  {
   "cell_type": "code",
   "execution_count": null,
   "metadata": {
    "collapsed": false
   },
   "outputs": [],
   "source": [
    "import efficacy_scripts\n",
    "reload(efficacy_scripts)\n",
    "from efficacy_scripts import *\n",
    "n_trials = 1000\n",
    "\n",
    "y = multi_binarizer(y_gpr, [0.2, 0.8])\n",
    "gprot_results_t1000_multi0pt2_split0pt8_logistic_cv_2f_obs = do_classification_experiment(features, y, feature_names, n_trials, 0.8, regularize=True, model=\"logistic_cv\")\n",
    "with open(\"%s/gprot_results_t1000_multi0pt2_split0pt8_logistic_cv_2f_obs.pkl\" %analysis_dir, \"wb\") as f:\n",
    "    pickle.dump(gprot_results_t1000_multi0pt2_split0pt8_logistic_cv_2f_obs, f)\n",
    "\n",
    "y = multi_binarizer(y_arr, [0.2, 0.8])\n",
    "arr_results_t1000_multi0pt2_split0pt8_logistic_cv_2f_obs = do_classification_experiment(features, y, feature_names, n_trials, 0.8, regularize=True, model=\"logistic_cv\")\n",
    "with open(\"%s/arr_results_t1000_multi0pt2_split0pt8_logistic_cv_2f_obs.pkl\" %analysis_dir, \"wb\") as f:\n",
    "    pickle.dump(arr_results_t1000_multi0pt2_split0pt8_logistic_cv_2f_obs, f)\n",
    "\n",
    "\n",
    "y = multi_binarizer(y_gpr, [0.2])\n",
    "gprot_results_t1000_single0pt2_split0pt8_logistic_cv_2f_obs = do_classification_experiment(features, y, feature_names, n_trials, 0.8, regularize=True, model=\"logistic_cv\")\n",
    "with open(\"%s/gprot_results_t1000_single0pt2_split0pt8_logistic_cv_2f_obs.pkl\" %analysis_dir, \"wb\") as f:\n",
    "    pickle.dump(gprot_results_t1000_single0pt2_split0pt8_logistic_cv_2f_obs, f)\n",
    "\n",
    "y = multi_binarizer(y_arr, [0.2])\n",
    "arr_results_t1000_single0pt2_split0pt8_logistic_cv_2f_obs = do_classification_experiment(features, y, feature_names, n_trials, 0.8, regularize=True, model=\"logistic_cv\")\n",
    "with open(\"%s/arr_results_t1000_single0pt2_split0pt8_logistic_cv_2f_obs.pkl\" %analysis_dir, \"wb\") as f:\n",
    "    pickle.dump(arr_results_t1000_single0pt2_split0pt8_logistic_cv_2f_obs, f)\n",
    "\n"
   ]
  },
  {
   "cell_type": "code",
   "execution_count": null,
   "metadata": {
    "collapsed": false
   },
   "outputs": [],
   "source": [
    "np.median(np.array(a_vs_g_results_t1000_single0pt2_split0pt8_logistic_cv_2f_obs[\"test_roc_aucs\"]), axis=0)\n"
   ]
  },
  {
   "cell_type": "code",
   "execution_count": null,
   "metadata": {
    "collapsed": false
   },
   "outputs": [],
   "source": [
    "arr_results_t100_single0pt2_split0pt9_rfr_2f_obs[\"feature_importances\"][0]"
   ]
  },
  {
   "cell_type": "code",
   "execution_count": null,
   "metadata": {
    "collapsed": false,
    "scrolled": false
   },
   "outputs": [],
   "source": [
    "import efficacy_scripts\n",
    "reload(efficacy_scripts)\n",
    "from efficacy_scripts import *\n",
    "analyze_multiclass_experiment(gprot_results_t100_single0pt2_split0pt9_logistic_cv_2f_obs, \n",
    "                              [\"Crystal Structures\", \"MSM Docking\"],\n",
    "                              top_clusters.tolist() + null_features.columns.values.tolist(), common_agonists, analysis_dir,\n",
    "                              [\"GProtein Antagonists\", \"GProtein Agonists\"], X_scaled, \n",
    "                              exp_title=\"GProtein Class\", coef_name=\"Logistic Coefficient\")\n"
   ]
  },
  {
   "cell_type": "code",
   "execution_count": null,
   "metadata": {
    "collapsed": false
   },
   "outputs": [],
   "source": [
    "all_features_df.columns.shape"
   ]
  },
  {
   "cell_type": "code",
   "execution_count": null,
   "metadata": {
    "collapsed": false
   },
   "outputs": [],
   "source": [
    "arr_results_t100_single0pt2_split0pt9_rfr_2f_obs[\"feature_importances\"][0][2].shape"
   ]
  },
  {
   "cell_type": "code",
   "execution_count": null,
   "metadata": {
    "collapsed": false
   },
   "outputs": [],
   "source": [
    "all_features_df.columns.values.tolist()"
   ]
  },
  {
   "cell_type": "code",
   "execution_count": null,
   "metadata": {
    "collapsed": false
   },
   "outputs": [],
   "source": [
    "print(np.median(np.array(gprot_results_t1000_0pt8_ridge[\"test_r2s\"]), axis=0))\n",
    "print(np.median(np.array(arr_results_t1000_0pt8_ridge[\"test_r2s\"]), axis=0))\n",
    "print(\"/n\")\n",
    "\n",
    "print(np.median(np.array(gprot_results_t1000_multi0pt33_0pt66_split0pt6_logistic_2f[\"test_roc_aucs\"]), axis=0))\n",
    "print(np.median(np.array(arr_results_t1000_multi0pt33_0pt66_split0pt6_logistic_2f[\"test_roc_aucs\"]), axis=0))\n",
    "print(\"/n\")\n",
    "\n",
    "print(np.median(np.array(gprot_results_t1000_multi0pt2_0pt8_split0pt6_logistic_2f[\"test_roc_aucs\"]), axis=0))\n",
    "print(np.median(np.array(arr_results_t1000_multi0pt2_0pt8_split0pt6_logistic_2f[\"test_roc_aucs\"]), axis=0))\n",
    "print(\"/n\")\n",
    "\n",
    "print(np.median(np.array(gprot_results_t1000_single0pt5_split0pt6_logistic_2f[\"test_roc_aucs\"]), axis=0))\n",
    "print(np.median(np.array(arr_results_t1000_single0pt5_split0pt6_logistic_2f[\"test_roc_aucs\"]), axis=0))\n",
    "print(\"/n\")\n",
    "\n",
    "print(np.median(np.array(gprot_results_t1000_single0pt2_split0pt6_logistic_2f[\"test_roc_aucs\"]), axis=0))\n",
    "print(np.median(np.array(arr_results_t1000_single0pt2_split0pt6_logistic_2f[\"test_roc_aucs\"]), axis=0))\n",
    "\n",
    "\n",
    "\n"
   ]
  },
  {
   "cell_type": "code",
   "execution_count": null,
   "metadata": {
    "collapsed": false,
    "scrolled": false
   },
   "outputs": [],
   "source": [
    "import plots\n",
    "reload(plots)\n",
    "from plots import *\n",
    "\n",
    "import efficacy_scripts\n",
    "reload(efficacy_scripts)\n",
    "from efficacy_scripts import *\n",
    "\n",
    "\n",
    "feature_names = top_clusters.tolist() +  [\"Inactive Crystal\", \"Active Crystal\", \"Crystal Difference\"] \n",
    "feature_names = [s.replace(\"cluster\", \"MSM State \") for s in feature_names]\n",
    "print(feature_names)\n",
    "\n",
    "#with open(\"%s/gprot_results_t1000_multi0pt2_0pt8_split0pt6_logistic_2f.pkl\" %analysis_dir, \"rb\") as f:\n",
    "#    gprot_results_t1000_multi0pt2_0pt8_split0pt6_logistic_2f = pickle.load(f)\n",
    "#analyze_multiclass_experiment(gprot_results_t1000_multi0pt2_0pt8_split0pt6_logistic_2f, [\"Crystal Structures\", \"MSM Docking\"], feature_names, common_agonists, analysis_dir, [\"G Protein Antagonists\", \"G Protein Partial Agonists\", \"G Protein Full Agonists\"], X_scaled, exp_title=\"GProtein Three Clas 1000 Trials\", coef_name=\"Logistic Coefficient\")\n",
    "\n",
    "\n",
    "#with open(\"%s/arr_results_t1000_multi0pt2_0pt8_split0pt6_logistic_2f.pkl\" %analysis_dir, \"rb\") as f:\n",
    "#    arr_results_t1000_multi0pt2_0pt8_split0pt6_logistic_2f = pickle.load(f)\n",
    "#analyze_multiclass_experiment(arr_results_t1000_multi0pt2_0pt8_split0pt6_logistic_2f, [\"Crystal Structures\", \"MSM Docking\"], feature_names, common_agonists, analysis_dir, [\"Arrestin Antagonists\", \"Arrestin Partial Agonists\", \"Arrestin Full Agonists\"], X_scaled, exp_title=\"Arrestin Three Class 1000 Trials\", coef_name=\"Logistic Coefficient\")\n",
    "\n",
    "#plt.clf()\n",
    "#analyze_multiclass_experiment(gprot_results_t100_single0pt2_split0pt6_logistic_2f, [\"Crystal Structures\", \"MSM Docking\"], feature_names, common_agonists, analysis_dir, [\"G Protein Antagonists\", \"G Protein Agonists\"], X_scaled, exp_title=\"Two Class\", coef_name=\"Logistic Coefficient\")\n",
    "with open(\"%s/arr_results_t1000_single0pt2_split0pt6_logistic_2f.pkl\" %analysis_dir, \"rb\") as f:\n",
    "    arr_results_t1000_single0pt2_split0pt6_logistic_2f = pickle.load(f)\n",
    "analyze_multiclass_experiment(arr_results_t1000_single0pt2_split0pt6_logistic_2f, [\"Crystal Structures\", \"MSM Docking\"],feature_names, common_agonists, analysis_dir, [\"Arrestin Antagonists\", \"Arrestin Agonists\"], X_scaled, exp_title=\"Arrestin Two Class\", coef_name=\"Logistic Coefficient\")\n",
    "\n",
    "with open(\"%s/gprot_results_t1000_single0pt2_split0pt6_logistic_2f.pkl\" %analysis_dir, \"rb\") as f:\n",
    "    gprot_results_t1000_single0pt2_split0pt6_logistic_2f = pickle.load(f)\n",
    "analyze_multiclass_experiment(gprot_results_t1000_single0pt2_split0pt6_logistic_2f, [\"Crystal Structures\", \"MSM Docking\"],feature_names, common_agonists, analysis_dir, [\"G Protein Antagonists\", \"G Protein Agonists\"], X_scaled, exp_title=\"G Protein Two Class\", coef_name=\"Logistic Coefficient\")\n",
    "\n"
   ]
  },
  {
   "cell_type": "code",
   "execution_count": null,
   "metadata": {
    "collapsed": false
   },
   "outputs": [],
   "source": [
    "analysis_dir"
   ]
  },
  {
   "cell_type": "code",
   "execution_count": null,
   "metadata": {
    "collapsed": false
   },
   "outputs": [],
   "source": [
    "X_scaled[:,25]"
   ]
  },
  {
   "cell_type": "code",
   "execution_count": null,
   "metadata": {
    "collapsed": false
   },
   "outputs": [],
   "source": [
    "ddg_scaled[\"salbutamol\"].sort(inplace=False\n",
    "                             )"
   ]
  },
  {
   "cell_type": "code",
   "execution_count": null,
   "metadata": {
    "collapsed": false
   },
   "outputs": [],
   "source": [
    "arr_results_t100_multi_0pt6_logistic = arr_results_t100_multi_0pt_6_rfr \n",
    "\n",
    "= arr_results_t1000_multi_0pt_6_rfr "
   ]
  },
  {
   "cell_type": "code",
   "execution_count": null,
   "metadata": {
    "collapsed": false
   },
   "outputs": [],
   "source": [
    "save_file = \"%s/arr_results_t1000_multi_0pt6_logistic.pkl\" %(analysis_dir)\n",
    "with open(save_file, \"wb\") as f:\n",
    "    pickle.dump(arr_results_t1000_multi_0pt6_logistic, f)\n",
    "    "
   ]
  },
  {
   "cell_type": "code",
   "execution_count": null,
   "metadata": {
    "collapsed": true
   },
   "outputs": [],
   "source": [
    "save_file = \"%s/gprot_results_t1000_multi_0pt6_logistic.pkl\" %(analysis_dir)\n",
    "with open(save_file, \"wb\") as f:\n",
    "    pickle.dump(gprot_results_t1000_multi_0pt6_logistic, f)\n",
    "    "
   ]
  },
  {
   "cell_type": "code",
   "execution_count": null,
   "metadata": {
    "collapsed": false
   },
   "outputs": [],
   "source": [
    "np.median(np.array(arr_results_t1000_0pt5_md3_ridge[\"test_r2s\"]), axis=0)"
   ]
  },
  {
   "cell_type": "code",
   "execution_count": null,
   "metadata": {
    "collapsed": false
   },
   "outputs": [],
   "source": [
    "np.median(np.array(arr_results_t1000_0pt5_md3_ridge[\"kendall_pvalues\"]), axis=0)"
   ]
  },
  {
   "cell_type": "code",
   "execution_count": null,
   "metadata": {
    "collapsed": true
   },
   "outputs": [],
   "source": [
    "np.median(np.array(arr_results_t1000_0pt5_md3_ridge[\"kendall_pvalues\"]), axis=0)"
   ]
  },
  {
   "cell_type": "code",
   "execution_count": null,
   "metadata": {
    "collapsed": false
   },
   "outputs": [],
   "source": [
    "np.median(np.array(arr_results_t1000_multi_0pt6_logistic[\"test_roc_aucs\"]), axis=0)\n"
   ]
  },
  {
   "cell_type": "code",
   "execution_count": null,
   "metadata": {
    "collapsed": false
   },
   "outputs": [],
   "source": [
    "plt.hist(y_gpr, bins=50)\n",
    "plt.show()"
   ]
  },
  {
   "cell_type": "code",
   "execution_count": null,
   "metadata": {
    "collapsed": false
   },
   "outputs": [],
   "source": [
    "from sklearn.preprocessing import binarize\n",
    "#arrestin_antagonists = [\"s-carvedilol\", \"nebivolol\"]\n",
    "#non_arrestin_antagonists = [n for n in antagonists if n not in arrestin_antagonists and n not in [\"Carvedilol\"]]\n",
    "#y = np.array([1. for i in arrestin_antagonists] + [0. for i in non_arrestin_antagonists]).reshape((-1,1))\n",
    "\n",
    "\n",
    "total_activity = bret[\"B2AR-Arrestin, Mean\"].loc[common_ligands].add(bret[\"B2AR-Gprotein, Mean\"].loc[common_ligands])\n",
    "#common_agonists = arrestin_antagonists + non_arrestin_antagonists\n",
    "#biased_ligands = [\"ethylnorepinephrine\", \"isoetharine\", \"N-Cyclopentylbutanephrine\"]\n",
    "#non_biased_ligands =  [\"r_isopreterenol\", \"r_epinephrine\", \"norepinephrine\", \"zinterol\", \"orciprenaline\", \"epinine\", \"terbutaline\", \"fenoterol\", \"procaterol\", \"formoterol\", \"salbutamol\", \"salmeterol\"]\n",
    "#y = np.array([1. for i in biased_ligands] + [0. for i in non_biased_ligands]).reshape((-1,1))\n",
    "#common_agonists = biased_ligands + non_biased_ligands\n",
    "\n",
    "#common_agonists = total_activity.loc[total_activity > 0.2].index.values\n",
    "#y_ori = bret[\"B2AR-Arrestin, Mean\"].loc[common_agonists].subtract(bret[\"B2AR-Gprotein, Mean\"].loc[common_agonists]).values.reshape((-1,1))\n",
    "\n",
    "top_clusters = delta_delta_g.index.values\n",
    "#top_clusters = list(set(delta_delta_g.sort(\"nebivolol\").index.values[:10].tolist() + delta_delta_g.sort(\"3p0g_lig\").index.values[:10].tolist()))\n",
    "#top_clusters = list(set(delta_delta_g.sort(\"N-Cyclopentylbutanephrine\", inplace=False).index.values[:4].tolist() + delta_delta_g.sort(\"procaterol\", inplace=False).index.values[:4].tolist()))\n",
    "#agonists_df = [a for a in agonists if a in delta_delta_g.columns.values]\n",
    "#common_agonists = agonists_df + antagonists\n",
    "#y = np.array([1. for i in agonists_df] + [0. for i in antagonists]).reshape((-1,1))\n",
    "common_agonists = common_ligands\n",
    "y_arr = bret[\"B2AR-Arrestin, Mean\"].loc[common_agonists].values.reshape((-1,1))\n",
    "y_gpr = bret[\"B2AR-Gprotein, Mean\"].loc[common_agonists].values.reshape((-1,1))\n",
    "#y_ori = y_arr - y_gpr\n",
    "#y_ori = y_arr\n",
    "y = multi_binarizer(y_arr, [0.33, 0.66])\n",
    "#y = binarize(y_gpr, threshold=0.2)\n",
    "\n",
    "C = null_features.loc[common_agonists].values\n",
    "#X = delta_delta_g.loc[top_clusters][common_agonists].values.T\n",
    "X = np.hstack([delta_delta_g.loc[top_clusters][common_agonists].values.T, C])\n",
    "#X_scaled = ddg_scaled.loc[top_clusters][common_agonists].values.T\n",
    "X_scaled = np.hstack([ddg_scaled.loc[top_clusters][common_agonists].values.T, C])\n",
    "#D_scaled = docking_normalized.loc[top_clusters][common_agonists].values.T\n",
    "D_scaled = np.hstack([docking_normalized.loc[top_clusters][common_agonists].values.T, C])\n",
    "X_diff = np.zeros((X.shape[0], X.shape[1]**2/2))\n",
    "k=0\n",
    "for i in range(0,X.shape[1]):\n",
    "    for j in range(i+1,X.shape[1]):\n",
    "        X_diff[:,k] = X[:,i] - X[:,j]\n",
    "        k+=1\n",
    "X_diff = np.hstack([X_scaled, X_diff, C])\n",
    "\n",
    "features = [C, D_scaled, X, X_scaled, X_diff]\n",
    "features_y = [C, D_scaled, X, X_scaled, X_diff]\n",
    "feature_names = [\"Crystal Structures\", \"Normalized Docking\", \"Docking ddG\", \"Docking ddg Scaled\", \"Docking ddG Differences\"]\n",
    "\n",
    "n_trials = 1000\n",
    "test_accuracies, test_aucs, test_log_aucs, C_test_aucs, C_test_log_aucs, feature_importances = do_classification_experiment(features, y, feature_names, n_trials, 0.8, regularize=False)\n",
    "#arr_results_t100_0pt9_md3 = do_regression_experiment(features, y, feature_names, n_trials, 0.9, regularize=False)"
   ]
  },
  {
   "cell_type": "code",
   "execution_count": null,
   "metadata": {
    "collapsed": false
   },
   "outputs": [],
   "source": [
    "save_file = \"%s/arr_results_t1000_0pt9_md3.pkl\" %analysis_dir\n",
    "with open(save_file, \"wb\") as f:\n",
    "    pickle.dump(arr_results_t1000_0pt9_md3, f)"
   ]
  },
  {
   "cell_type": "code",
   "execution_count": null,
   "metadata": {
    "collapsed": false
   },
   "outputs": [],
   "source": [
    "print(np.median(np.array(arr_results_t1000_0pt9_md3[\"test_r2s\"]), axis=0))"
   ]
  },
  {
   "cell_type": "code",
   "execution_count": null,
   "metadata": {
    "collapsed": false
   },
   "outputs": [],
   "source": [
    "from sklearn.preprocessing import binarize\n",
    "#arrestin_antagonists = [\"s-carvedilol\", \"nebivolol\"]\n",
    "#non_arrestin_antagonists = [n for n in antagonists if n not in arrestin_antagonists and n not in [\"Carvedilol\"]]\n",
    "#y = np.array([1. for i in arrestin_antagonists] + [0. for i in non_arrestin_antagonists]).reshape((-1,1))\n",
    "\n",
    "\n",
    "total_activity = bret[\"B2AR-Arrestin, Mean\"].loc[common_ligands].add(bret[\"B2AR-Gprotein, Mean\"].loc[common_ligands])\n",
    "#common_agonists = arrestin_antagonists + non_arrestin_antagonists\n",
    "#biased_ligands = [\"ethylnorepinephrine\", \"isoetharine\", \"N-Cyclopentylbutanephrine\"]\n",
    "#non_biased_ligands =  [\"r_isopreterenol\", \"r_epinephrine\", \"norepinephrine\", \"zinterol\", \"orciprenaline\", \"epinine\", \"terbutaline\", \"fenoterol\", \"procaterol\", \"formoterol\", \"salbutamol\", \"salmeterol\"]\n",
    "#y = np.array([1. for i in biased_ligands] + [0. for i in non_biased_ligands]).reshape((-1,1))\n",
    "#common_agonists = biased_ligands + non_biased_ligands\n",
    "\n",
    "common_agonists = total_activity.loc[total_activity > 0.2].index.values\n",
    "#y_ori = bret[\"B2AR-Arrestin, Mean\"].loc[common_agonists].subtract(bret[\"B2AR-Gprotein, Mean\"].loc[common_agonists]).values.reshape((-1,1))\n",
    "\n",
    "top_clusters = delta_delta_g.index.values\n",
    "#top_clusters = list(set(delta_delta_g.sort(\"nebivolol\").index.values[:10].tolist() + delta_delta_g.sort(\"3p0g_lig\").index.values[:10].tolist()))\n",
    "#top_clusters = list(set(delta_delta_g.sort(\"N-Cyclopentylbutanephrine\", inplace=False).index.values[:4].tolist() + delta_delta_g.sort(\"procaterol\", inplace=False).index.values[:4].tolist()))\n",
    "#agonists_df = [a for a in agonists if a in delta_delta_g.columns.values]\n",
    "#common_agonists = agonists_df + antagonists\n",
    "#y = np.array([1. for i in agonists_df] + [0. for i in antagonists]).reshape((-1,1))\n",
    "#common_agonists = common_ligands\n",
    "y_arr = bret[\"B2AR-Arrestin, Mean\"].loc[common_agonists].values.reshape((-1,1))\n",
    "y_gpr = bret[\"B2AR-Gprotein, Mean\"].loc[common_agonists].values.reshape((-1,1))\n",
    "y_ori = y_arr - y_gpr\n",
    "#y_ori = y_arr\n",
    "#y = y_arr\n",
    "y = binarize(y_ori, threshold=-0.2)\n",
    "\n",
    "C = null_features.loc[common_agonists].values\n",
    "#X = delta_delta_g.loc[top_clusters][common_agonists].values.T\n",
    "X = np.hstack([delta_delta_g.loc[top_clusters][common_agonists].values.T, C])\n",
    "#X_scaled = ddg_scaled.loc[top_clusters][common_agonists].values.T\n",
    "X_scaled = np.hstack([ddg_scaled.loc[top_clusters][common_agonists].values.T, C])\n",
    "#D_scaled = docking_normalized.loc[top_clusters][common_agonists].values.T\n",
    "D_scaled = np.hstack([docking_normalized.loc[top_clusters][common_agonists].values.T, C])\n",
    "X_diff = np.zeros((X.shape[0], X.shape[1]**2/2))\n",
    "k=0\n",
    "for i in range(0,X.shape[1]):\n",
    "    for j in range(i+1,X.shape[1]):\n",
    "        X_diff[:,k] = X[:,i] - X[:,j]\n",
    "        k+=1\n",
    "X_diff = np.hstack([X_scaled, X_diff, C])\n",
    "\n",
    "features = [C, D_scaled, X, X_scaled, X_diff]\n",
    "features_y = [C, D_scaled, X, X_scaled]\n",
    "feature_names = [\"Crystal Structures\", \"Normalized Docking\", \"Docking ddG\", \"Docking ddg Scaled\", \"Docking ddG Differences\"]\n",
    "\n",
    "n_trials = 1000\n",
    "#arr_classification_results_t1000_0pt6 = do_classification_experiment(features, y, feature_names, n_trials, 0.6, regularize=False)\n",
    "arr_vs_gprot_classification_results_t1000_0pt8 = do_classification_experiment(features, y, feature_names, n_trials, 0.8, regularize=False)\n",
    "#arr_results_1000 = do_regression_experiment(features, y, feature_names, n_trials, 0.8, regularize=False)"
   ]
  },
  {
   "cell_type": "code",
   "execution_count": null,
   "metadata": {
    "collapsed": false
   },
   "outputs": [],
   "source": [
    "with open(\"%s/arr_vs_gprot_classification_results_t100_0pt8.pkl\" %analysis_dir, \"wb\") as f:\n",
    "    pickle.dump(arr_vs_gprot_classification_results_t100_0pt8, f)"
   ]
  },
  {
   "cell_type": "code",
   "execution_count": null,
   "metadata": {
    "collapsed": false
   },
   "outputs": [],
   "source": [
    "print(np.median(np.array(arr_vs_gprot_classification_results_t100_0pt8[\"test_aucs\"]), axis=0))"
   ]
  },
  {
   "cell_type": "code",
   "execution_count": null,
   "metadata": {
    "collapsed": false
   },
   "outputs": [],
   "source": [
    "plt.hist(y_ori,bins=50)\n",
    "plt.show()"
   ]
  },
  {
   "cell_type": "code",
   "execution_count": null,
   "metadata": {
    "collapsed": false
   },
   "outputs": [],
   "source": [
    "\n",
    "save_file = \"%s/arr_classification_results_t1000_0pt6.pkl\" %analysis_dir\n",
    "with open(save_file, \"wb\") as f:\n",
    "    pickle.dump(arr_classification_results_t1000_0pt6, f)"
   ]
  },
  {
   "cell_type": "code",
   "execution_count": null,
   "metadata": {
    "collapsed": false
   },
   "outputs": [],
   "source": [
    "np.median(np.array(arr_classification_results_t1000_0pt6[\"test_log_aucs\"]),axis=0)"
   ]
  },
  {
   "cell_type": "code",
   "execution_count": null,
   "metadata": {
    "collapsed": false
   },
   "outputs": [],
   "source": [
    "from sklearn.preprocessing import binarize\n",
    "#arrestin_antagonists = [\"s-carvedilol\", \"nebivolol\"]\n",
    "#non_arrestin_antagonists = [n for n in antagonists if n not in arrestin_antagonists and n not in [\"Carvedilol\"]]\n",
    "#y = np.array([1. for i in arrestin_antagonists] + [0. for i in non_arrestin_antagonists]).reshape((-1,1))\n",
    "\n",
    "\n",
    "total_activity = bret[\"B2AR-Arrestin, Mean\"].loc[common_ligands].add(bret[\"B2AR-Gprotein, Mean\"].loc[common_ligands])\n",
    "#common_agonists = arrestin_antagonists + non_arrestin_antagonists\n",
    "#biased_ligands = [\"ethylnorepinephrine\", \"isoetharine\", \"N-Cyclopentylbutanephrine\"]\n",
    "#non_biased_ligands =  [\"r_isopreterenol\", \"r_epinephrine\", \"norepinephrine\", \"zinterol\", \"orciprenaline\", \"epinine\", \"terbutaline\", \"fenoterol\", \"procaterol\", \"formoterol\", \"salbutamol\", \"salmeterol\"]\n",
    "#y = np.array([1. for i in biased_ligands] + [0. for i in non_biased_ligands]).reshape((-1,1))\n",
    "#common_agonists = biased_ligands + non_biased_ligands\n",
    "\n",
    "#common_agonists = total_activity.loc[total_activity > 0.2].index.values\n",
    "#y_ori = bret[\"B2AR-Arrestin, Mean\"].loc[common_agonists].subtract(bret[\"B2AR-Gprotein, Mean\"].loc[common_agonists]).values.reshape((-1,1))\n",
    "\n",
    "top_clusters = delta_delta_g.index.values\n",
    "#top_clusters = list(set(delta_delta_g.sort(\"nebivolol\").index.values[:10].tolist() + delta_delta_g.sort(\"3p0g_lig\").index.values[:10].tolist()))\n",
    "#top_clusters = list(set(delta_delta_g.sort(\"N-Cyclopentylbutanephrine\", inplace=False).index.values[:4].tolist() + delta_delta_g.sort(\"procaterol\", inplace=False).index.values[:4].tolist()))\n",
    "#agonists_df = [a for a in agonists if a in delta_delta_g.columns.values]\n",
    "#common_agonists = agonists_df + antagonists\n",
    "#y = np.array([1. for i in agonists_df] + [0. for i in antagonists]).reshape((-1,1))\n",
    "common_agonists = common_ligands\n",
    "y_arr = bret[\"B2AR-Arrestin, Mean\"].loc[common_agonists].values.reshape((-1,1))\n",
    "y_gpr = bret[\"B2AR-Gprotein, Mean\"].loc[common_agonists].values.reshape((-1,1))\n",
    "#y_ori = y_arr - y_gpr\n",
    "y_ori = y_arr\n",
    "#y = y_arr\n",
    "y = binarize(y_arr, threshold=0.2)\n",
    "\n",
    "C = null_features.loc[common_agonists].values\n",
    "#X = delta_delta_g.loc[top_clusters][common_agonists].values.T\n",
    "X = np.hstack([delta_delta_g.loc[top_clusters][common_agonists].values.T, C])\n",
    "#X_scaled = ddg_scaled.loc[top_clusters][common_agonists].values.T\n",
    "X_scaled = np.hstack([ddg_scaled.loc[top_clusters][common_agonists].values.T, C])\n",
    "#D_scaled = docking_normalized.loc[top_clusters][common_agonists].values.T\n",
    "D_scaled = np.hstack([docking_normalized.loc[top_clusters][common_agonists].values.T, C])\n",
    "X_diff = np.zeros((X.shape[0], X.shape[1]**2/2))\n",
    "k=0\n",
    "for i in range(0,X.shape[1]):\n",
    "    for j in range(i+1,X.shape[1]):\n",
    "        X_diff[:,k] = X[:,i] - X[:,j]\n",
    "        k+=1\n",
    "X_diff = np.hstack([X_scaled, X_diff, C])\n",
    "\n",
    "features = [C, D_scaled, X, X_scaled, X_diff]\n",
    "features_y = [C, D_scaled, X, X_scaled]\n",
    "feature_names = [\"Crystal Structures\", \"Normalized Docking\", \"Docking ddG\", \"Docking ddg Scaled\", \"Docking ddG Differences\"]\n",
    "\n",
    "n_trials = 1000\n",
    "test_accuracies, test_aucs, test_log_aucs, C_test_aucs, C_test_log_aucs, feature_importances = do_classification_experiment(features, y, feature_names, n_trials, 0.8, regularize=False)\n",
    "#arr_auc_results = do_regression_experiment(features, y, feature_names, n_trials, 0.8, regularize=False)"
   ]
  },
  {
   "cell_type": "code",
   "execution_count": null,
   "metadata": {
    "collapsed": false
   },
   "outputs": [],
   "source": [
    "np.median(np.array(test_log_aucs),axis=0)"
   ]
  },
  {
   "cell_type": "code",
   "execution_count": null,
   "metadata": {
    "collapsed": false
   },
   "outputs": [],
   "source": [
    "np.median(np.array(gprot_results[\"test_r2s\"]),axis=0)"
   ]
  },
  {
   "cell_type": "code",
   "execution_count": null,
   "metadata": {
    "collapsed": false
   },
   "outputs": [],
   "source": [
    "gprot_results[\"test_r2s\"]"
   ]
  },
  {
   "cell_type": "code",
   "execution_count": null,
   "metadata": {
    "collapsed": false
   },
   "outputs": [],
   "source": [
    "features_y = copy.deepcopy(features)\n",
    "features_y.append(y)\n",
    "train_test_arrays = train_test_split(*features_y, train_size=0.8)\n",
    "print([a.shape for a in train_test_arrays])"
   ]
  },
  {
   "cell_type": "code",
   "execution_count": null,
   "metadata": {
    "collapsed": false
   },
   "outputs": [],
   "source": [
    "train_test_arrays = train_test_split(*features_y, train_size=0.8)\n",
    "print([a.shape for a in train_test_arrays])"
   ]
  },
  {
   "cell_type": "code",
   "execution_count": null,
   "metadata": {
    "collapsed": false
   },
   "outputs": [],
   "source": [
    "gprot_results = copy.deepcopy([test_accuracies, test_aucs, test_log_aucs, C_test_aucs, C_test_log_aucs, feature_importances])\n",
    "#import pickle\n",
    "gprot_file = \"%s/gprot_results_0pt2_XP_no-regularization.pkl\"\n",
    "with open(\"%s/gprot_results_0pt2_XP_no-regularization.pkl\", \"wb\") as f:\n",
    "    pickle.dump(gprot_results, f)\n",
    "with open(gprot_file) as f:\n",
    "    test_accuracies, test_aucs, test_log_aucs, C_test_aucs, C_test_log_aucs, feature_importances = pickle.load(f)"
   ]
  },
  {
   "cell_type": "code",
   "execution_count": null,
   "metadata": {
    "collapsed": true
   },
   "outputs": [],
   "source": [
    "#arrestin_results = copy.deepcopy([test_accuracies, test_aucs, test_log_aucs, C_test_aucs, C_test_log_aucs, feature_importances])\n",
    "#import pickle\n",
    "arrestin_file = \"%s/arrestin_results_0pt2_XP_no-regularization.pkl\"\n",
    "#with open(\"%s/arrestin_results_0pt2_XP_no-regularization.pkl\", \"wb\") as f:\n",
    "#    pickle.dump(arrestin_results, f)\n",
    "with open(arrestin_file) as f:\n",
    "    test_accuracies, test_aucs, test_log_aucs, C_test_aucs, C_test_log_aucs, feature_importances = pickle.load(f)"
   ]
  },
  {
   "cell_type": "code",
   "execution_count": null,
   "metadata": {
    "collapsed": true
   },
   "outputs": [],
   "source": [
    "#arrestin_rfr_results = copy.deepcopy([test_r2s, rfr_feature_importances])\n",
    "arrestin_rfr_file = \"%s/arrestin_results_rfr_XP_no-regularization.pkl\"\n",
    "#with open(\"%s/arrestin_results_rfr_XP_no-regularization.pkl\", \"wb\") as f:\n",
    "#    pickle.dump(arrestin_rfr_results, f)\n",
    "with open(arrestin_rfr_file) as f:\n",
    "    test_r2s, rfr_feature_importances = pickle.load(f)"
   ]
  },
  {
   "cell_type": "code",
   "execution_count": null,
   "metadata": {
    "collapsed": true
   },
   "outputs": [],
   "source": [
    "#gprot_rfr_results = copy.deepcopy([test_r2s, rfr_feature_importances])\n",
    "gprot_rfr_file = \"%s/gprot_results_rfr_XP_no-regularization.pkl\"\n",
    "#with open(\"%s/gprot_results_rfr_XP_no-regularization.pkl\", \"wb\") as f:\n",
    "#    pickle.dump(gprot_rfr_results, f)\n",
    "with open(gprot_rfr_file) as f:\n",
    "    test_r2s, rfr_feature_importances = pickle.load(f)"
   ]
  },
  {
   "cell_type": "code",
   "execution_count": null,
   "metadata": {
    "collapsed": false
   },
   "outputs": [],
   "source": [
    "test_aucs = np.array(test_aucs)\n",
    "plt.clf()\n",
    "plt.boxplot(test_aucs[:,2]-test_aucs[:,0])\n",
    "plt.show()"
   ]
  },
  {
   "cell_type": "code",
   "execution_count": null,
   "metadata": {
    "collapsed": false
   },
   "outputs": [],
   "source": [
    "test_log_aucs = np.array(test_log_aucs)\n",
    "np.percentile(test_aucs[:,2]-test_aucs[:,0], 50)"
   ]
  },
  {
   "cell_type": "code",
   "execution_count": null,
   "metadata": {
    "collapsed": false
   },
   "outputs": [],
   "source": [
    "import sklearn\n",
    "null_preds = binarize(C[:,2])\n",
    "sklearn.metrics.roc_auc_score(binarize(y, 0.2).ravel(), null_preds.ravel())"
   ]
  },
  {
   "cell_type": "code",
   "execution_count": null,
   "metadata": {
    "collapsed": false
   },
   "outputs": [],
   "source": [
    "test_aucs = np.array(test_aucs)\n",
    "print(np.median(test_aucs, axis=0))\n",
    "print(np.median(test_aucs[:,2] - test_aucs[:,0]))"
   ]
  },
  {
   "cell_type": "code",
   "execution_count": null,
   "metadata": {
    "collapsed": false
   },
   "outputs": [],
   "source": [
    "n_successes = len(np.where(test_aucs[:,2]-test_aucs[:,0] > 0.)[0])\n",
    "nobs = test_aucs.shape[0]\n",
    "statsmodels.stats.proportion.proportion_confint(count=n_successes, nobs=nobs, alpha=0.01, method='wilson')\n"
   ]
  },
  {
   "cell_type": "code",
   "execution_count": null,
   "metadata": {
    "collapsed": false
   },
   "outputs": [],
   "source": [
    "np.median(np.array(test_r2s),axis=0)"
   ]
  },
  {
   "cell_type": "code",
   "execution_count": null,
   "metadata": {
    "collapsed": true
   },
   "outputs": [],
   "source": [
    "arrestin_vs_gprot_results = copy.deepcopy([test_accuracies, test_aucs, test_log_aucs, C_test_aucs, C_test_log_aucs, feature_importances])\n",
    "import pickle\n",
    "with open(\"%s/arrestin_vs_gprot_results_-0pt2_XP.pkl\", \"wb\") as f:\n",
    "    pickle.dump(arrestin_vs_gprot_results, f)"
   ]
  },
  {
   "cell_type": "code",
   "execution_count": null,
   "metadata": {
    "collapsed": true
   },
   "outputs": [],
   "source": []
  },
  {
   "cell_type": "code",
   "execution_count": null,
   "metadata": {
    "collapsed": true
   },
   "outputs": [],
   "source": [
    "arrestin_vs_gprot_rfr_results = copy.deepcopy([test_r2s, rfr_feature_importances])\n",
    "import pickle\n",
    "with open(\"%s/arrestin_vs_gprot_rfr_results_XP.pkl\", \"wb\") as f:\n",
    "    pickle.dump(arrestin_vs_gprot_rfr_results, f)"
   ]
  },
  {
   "cell_type": "code",
   "execution_count": null,
   "metadata": {
    "collapsed": true
   },
   "outputs": [],
   "source": [
    "test_accuracies, test_aucs, test_log_aucs, C_test_aucs, C_test_log_aucs, feature_importances = arrestin_vs_gprot_results"
   ]
  },
  {
   "cell_type": "code",
   "execution_count": null,
   "metadata": {
    "collapsed": true
   },
   "outputs": [],
   "source": [
    "#gprotein_results = copy.deepcopy([test_accuracies, test_aucs, test_log_aucs, C_test_aucs, C_test_log_aucs, feature_importances])"
   ]
  },
  {
   "cell_type": "code",
   "execution_count": null,
   "metadata": {
    "collapsed": false
   },
   "outputs": [],
   "source": [
    "results_dict = gprot_results_t1000_multi_0pt6_logistic\n",
    "import efficacy_scripts\n",
    "reload(efficacy_scripts)\n",
    "from efficacy_scripts import *\n",
    "importances_df, results_df = analyze_classification_experiment(results_dict[\"test_roc_aucs\"],\n",
    "                                               results_dict[\"feature_importances\"],\n",
    "                                               feature_names,\n",
    "                                               X_scaled, y, pd.concat([ddg_scaled, null_features.transpose()], axis=0),\n",
    "                                               top_clusters.tolist() + null_features.columns.values.tolist(), \n",
    "                                               common_agonists, \n",
    "                                                \"Predicting G Protein Three Class, 1000 trials, 60:40 Split, XP\", analysis_dir)"
   ]
  },
  {
   "cell_type": "code",
   "execution_count": null,
   "metadata": {
    "collapsed": false
   },
   "outputs": [],
   "source": [
    "feature_names"
   ]
  },
  {
   "cell_type": "code",
   "execution_count": null,
   "metadata": {
    "collapsed": false,
    "scrolled": true
   },
   "outputs": [],
   "source": [
    "importances_df, results_df = analyze_experiment(test_aucs, test_log_aucs, feature_importances, feature_names,\n",
    "                        X_scaled, y, pd.concat([ddg_scaled, null_features.transpose()], axis=0) , top_clusters.tolist() + null_features.columns.values.tolist(), common_agonists, \"Predicting Arrestin, w Crystal Features, 0.2, SP\", analysis_dir)"
   ]
  },
  {
   "cell_type": "code",
   "execution_count": null,
   "metadata": {
    "collapsed": false
   },
   "outputs": [],
   "source": [
    "importances_df, results_df = analyze_regression_experiment(test_r2s, rfr_feature_importances, feature_names,\n",
    "                        X, y, pd.concat([delta_delta_g, null_features.transpose()], axis=0) , top_clusters.tolist() + null_features.columns.values.tolist(), common_agonists, \"Predicting Arrestin, RFR, w Crystal Features, SP\", analysis_dir)"
   ]
  },
  {
   "cell_type": "code",
   "execution_count": null,
   "metadata": {
    "collapsed": false
   },
   "outputs": [],
   "source": [
    "def get_top_measurable_features(samples_normalized_features_avg_df, cluster_name):\n",
    "    import re\n",
    "    top_features_cluster = []\n",
    "    #top_features_cluster = samples_normalized_features_avg_df.loc[\"cluster_name\"].loc[samples_normalized_features_avg_df.loc[\"cluster_name\"].abs() > .75].index.values\n",
    "    #print(top_features_cluster)\n",
    "    #print(len(top_features_cluster))\n",
    "    [top_features_cluster.append(pair) for pair in samples_normalized_features_avg_df.loc[cluster_name].abs().sort(inplace=False, ascending=False).index.values[:10]]\n",
    "    all_features = []\n",
    "    features = []\n",
    "    for f in top_features_cluster:\n",
    "        fs = f.split(\",\")\n",
    "        for i in range(0, len(fs)):\n",
    "            res = int(re.findall(r'\\d+', fs[i])[0])\n",
    "            all_features.append(res)\n",
    "            if \"TRP\" in fs[i] or \"CYS\" in fs[i] or \"TYR\" in fs[i] or \"LYS\" in fs[i]:\n",
    "                features.append(res)\n",
    "            \n",
    "    top_features_cluster = sorted(list(set(features)))\n",
    "    #print(sorted(list(set([int(re.findall(r'\\d+', r)[0]) for r in all_features]))))\n",
    "    #print(top_features_cluster)\n",
    "    return top_features_cluster, all_features\n",
    "a, b = get_top_measurable_features(samples_normalized_features_averages_df, 6)"
   ]
  },
  {
   "cell_type": "code",
   "execution_count": null,
   "metadata": {
    "collapsed": false
   },
   "outputs": [],
   "source": [
    "print(b)"
   ]
  },
  {
   "cell_type": "code",
   "execution_count": null,
   "metadata": {
    "collapsed": false
   },
   "outputs": [],
   "source": [
    "ddg_scaled[[\"norepinephrine\", \"r_epinephrine\", \"ethylnorepinephrine\", \"nebivolol\", \"s-carvedilol\", \"s-carazolol\"]]"
   ]
  },
  {
   "cell_type": "code",
   "execution_count": null,
   "metadata": {
    "collapsed": false
   },
   "outputs": [],
   "source": [
    "print(np.mean(test_aucs, axis=0))\n",
    "print(np.median(test_aucs, axis=0))\n",
    "print(np.mean(test_log_aucs, axis=0))\n",
    "print(np.median(test_log_aucs, axis=0))\n",
    "\n"
   ]
  },
  {
   "cell_type": "code",
   "execution_count": null,
   "metadata": {
    "collapsed": false
   },
   "outputs": [],
   "source": [
    "plt.scatter(ddg_scaled.loc[\"cluster2\"][common_agonists], y)"
   ]
  },
  {
   "cell_type": "code",
   "execution_count": null,
   "metadata": {
    "collapsed": true
   },
   "outputs": [],
   "source": []
  },
  {
   "cell_type": "code",
   "execution_count": null,
   "metadata": {
    "collapsed": false
   },
   "outputs": [],
   "source": [
    "y_ori = bret[\"B2AR-Gprotein, Mean\"].loc[common_agonists].values.reshape((-1,1))\n",
    "y = binarize(y_ori, threshold=0.05)\n",
    "\n",
    "X = delta_delta_g.loc[top_clusters][common_agonists].values.T\n",
    "X_scaled = ddg_scaled.loc[top_clusters][common_agonists].values.T\n",
    "C = null_features.loc[common_agonists].values\n",
    "D_scaled = docking_normalized.loc[top_clusters][common_agonists].values.T\n",
    "\n",
    "X_train = D_scaled\n",
    "y_train = y\n",
    "f = np.zeros(X_train.shape[1])\n",
    "\n",
    "rfr = RandomForestClassifier(n_estimators=1000, max_features='sqrt', n_jobs=-1, oob_score=True)\n",
    "rfr.fit(X_train, y_train)\n",
    "\n",
    "#top_indices = np.argsort(rfr.feature_importances_*-1.)[:min(20, X_train.shape[1])]\n",
    "#rfr = RandomForestClassifier(n_estimators=100, max_features='sqrt', n_jobs=-1, oob_score=True)\n",
    "#X_train = X_train[:, top_indices]\n",
    "#rfr.fit(X_train, y_train)\n",
    "#f[top_indices] = rfr.feature_importances_\n",
    "#y_pred = rfr.predict(X_train)\n",
    "#y_score = rfr.predict_proba(X_train)\n",
    "top_indices=range(0,100)"
   ]
  },
  {
   "cell_type": "code",
   "execution_count": null,
   "metadata": {
    "collapsed": false
   },
   "outputs": [],
   "source": [
    "top_indices"
   ]
  },
  {
   "cell_type": "code",
   "execution_count": null,
   "metadata": {
    "collapsed": false
   },
   "outputs": [],
   "source": [
    "X_scaled.shape"
   ]
  },
  {
   "cell_type": "code",
   "execution_count": null,
   "metadata": {
    "collapsed": false
   },
   "outputs": [],
   "source": [
    "#G Protein, Agonist Results\n",
    "test_drugs = secret_compounds + [\"nebivolol\", \"s-carvedilol\", \"xamoterol\", \"3p0g_lig\", \"isoetharine\", \"ethylnorepinephrine\", \"N-Cyclopentylbutanephrine\", \"ta-2005\", \"procaterol\"]\n",
    "X_test = docking_normalized.transpose().loc[test_drugs].values[:, top_indices]\n",
    "print(X_test)\n",
    "pd.DataFrame(rfr.predict_proba(X_test), index=test_drugs, columns=[\"P(Antagonist\", \"P(Agonist)\"])"
   ]
  },
  {
   "cell_type": "code",
   "execution_count": null,
   "metadata": {
    "collapsed": false
   },
   "outputs": [],
   "source": [
    "#ARRESTIN, Agonist Results\n",
    "X_test = docking_normalized.transpose().loc[test_drugs].values[:, top_indices]\n",
    "X_test.shape\n",
    "pd.DataFrame(rfr.predict_proba(X_test), index=test_drugs, columns=[\"P(Antagonist\", \"P(Agonist)\"])"
   ]
  },
  {
   "cell_type": "code",
   "execution_count": null,
   "metadata": {
    "collapsed": false
   },
   "outputs": [],
   "source": [
    "#G Protein, Full Agonist Results\n",
    "test_drugs = secret_compounds + [\"nebivolol\", \"s-carvedilol\", \"xamoterol\", \"3p0g_lig\", \"isoetharine\", \"ethylnorepinephrine\", \"N-Cyclopentylbutanephrine\"]\n",
    "X_test = docking_normalized.transpose().loc[test_drugs].values[:, top_indices]\n",
    "pd.DataFrame(rfr.predict_proba(X_test), index=test_drugs, columns=[\"P(Antagonist\", \"P(Agonist)\"])"
   ]
  },
  {
   "cell_type": "code",
   "execution_count": null,
   "metadata": {
    "collapsed": false
   },
   "outputs": [],
   "source": [
    "#ARRESTIN, Agonist Results\n",
    "X_test = docking_normalized.transpose().loc[test_drugs].values[:, top_indices]\n",
    "X_test.shape\n",
    "pd.DataFrame(rfr.predict_proba(X_test), index=test_drugs, columns=[\"P(Antagonist\", \"P(Agonist)\"])"
   ]
  },
  {
   "cell_type": "code",
   "execution_count": null,
   "metadata": {
    "collapsed": false
   },
   "outputs": [],
   "source": [
    "common_agonists = total_activity.loc[total_activity > 0.2].index.values\n",
    "plt.scatter(docking_normalized.loc[\"cluster21\"][common_agonists], bret[\"B2AR-Gprotein, Mean\"].subtract(bret[\"B2AR-Arrestin, Mean\"])[common_agonists])"
   ]
  },
  {
   "cell_type": "code",
   "execution_count": null,
   "metadata": {
    "collapsed": false
   },
   "outputs": [],
   "source": [
    "len(common_ligands)"
   ]
  },
  {
   "cell_type": "code",
   "execution_count": null,
   "metadata": {
    "collapsed": false
   },
   "outputs": [],
   "source": [
    "#ARRESTIN, Partial Agonist Results\n",
    "X_test = docking_normalized.transpose().loc[test_drugs].values[:, top_indices]\n",
    "X_test.shape\n",
    "pd.DataFrame(rfr.predict_proba(X_test), index=test_drugs, columns=[\"P(Antagonist\", \"P(Agonist)\"])"
   ]
  },
  {
   "cell_type": "code",
   "execution_count": null,
   "metadata": {
    "collapsed": false
   },
   "outputs": [],
   "source": [
    "#ARRESTIN, Full Agonist Results\n",
    "X_test = docking_normalized.transpose().loc[test_drugs].values[:, top_indices]\n",
    "X_test.shape\n",
    "pd.DataFrame(rfr.predict_proba(X_test), index=test_drugs, columns=[\"P(Antagonist\", \"P(Agonist)\"])"
   ]
  },
  {
   "cell_type": "code",
   "execution_count": null,
   "metadata": {
    "collapsed": false
   },
   "outputs": [],
   "source": [
    "top_indices"
   ]
  },
  {
   "cell_type": "code",
   "execution_count": null,
   "metadata": {
    "collapsed": false
   },
   "outputs": [],
   "source": [
    "ddg_scaled.transpose().loc[secret_compounds]"
   ]
  },
  {
   "cell_type": "code",
   "execution_count": null,
   "metadata": {
    "collapsed": false
   },
   "outputs": [],
   "source": [
    "plot_clustermap(docking_normalized[secret_compounds].iloc[top_indices].transpose(), save_file=\"%s/mehrdad_clustermap.pdf\" %(save_dir), method='average', z_score=None)\n",
    "\n"
   ]
  },
  {
   "cell_type": "code",
   "execution_count": null,
   "metadata": {
    "collapsed": false
   },
   "outputs": [],
   "source": [
    "np.median(test_aucs, axis=0)"
   ]
  },
  {
   "cell_type": "code",
   "execution_count": null,
   "metadata": {
    "collapsed": false
   },
   "outputs": [],
   "source": [
    "plt.scatter(ddg_scaled.loc[\"cluster11\"][common_agonists], y)\n",
    "\n"
   ]
  },
  {
   "cell_type": "code",
   "execution_count": null,
   "metadata": {
    "collapsed": false
   },
   "outputs": [],
   "source": [
    "arrestin_top = [16, 80, 43, 21, 84, 38, 44, 6, 13, 99]\n",
    "gprot_top = [44, 6, 83, 4, 76, 99, 62, 92, 39, 80]\n",
    "\n",
    "arrestin_only = sorted(list(set(arrestin_top).difference(set(gprot_top))))\n",
    "print(arrestin_only)\n",
    "gprot_only = sorted(list(set(gprot_top).difference(set(arrestin_top))))\n",
    "print(gprot_only)\n",
    "both = sorted(list(set(arrestin_top).intersection(set(gprot_top))))\n",
    "print(both)\n"
   ]
  },
  {
   "cell_type": "code",
   "execution_count": null,
   "metadata": {
    "collapsed": false
   },
   "outputs": [],
   "source": [
    "samples_pnas_tica.loc[importances_df.index.values.tolist()[:5]]"
   ]
  },
  {
   "cell_type": "code",
   "execution_count": null,
   "metadata": {
    "collapsed": false
   },
   "outputs": [],
   "source": [
    "importances_df"
   ]
  },
  {
   "cell_type": "code",
   "execution_count": null,
   "metadata": {
    "collapsed": false
   },
   "outputs": [],
   "source": [
    "import sklearn\n",
    "reload(sklearn)\n",
    "from sklearn.metrics import r2_score\n",
    "from sklearn.ensemble import GradientBoostingRegressor\n",
    "from sklearn.preprocessing import binarize\n",
    "from sklearn import cross_validation\n",
    "\n",
    "test_accuracies = []\n",
    "test_aucs = []\n",
    "test_log_aucs = []\n",
    "C_test_aucs = []\n",
    "C_test_log_aucs = []\n",
    "n_trials = 10\n",
    "feature_importances = []\n",
    "total_activity = bret[\"B2AR-Arrestin, Mean\"].loc[common_ligands].add(bret[\"B2AR-Gprotein, Mean\"].loc[common_ligands])\n",
    "common_agonists = total_activity.loc[total_activity > 0.1].index.values\n",
    "\n",
    "#biased_ligands = [\"ethylnorepinephrine\", \"isoetharine\", \"N-Cyclopentylbutanephrine\"]\n",
    "#biased_ligands += [\"nebivolol\", \"s-carvedilol\"]\n",
    "#non_biased_ligands =  [\"r_isopreterenol\", \"r_epinephrine\", \"norepinephrine\", \"zinterol\", \"orciprenaline\", \"epinine\", \"terbutaline\", \"fenoterol\", \"procaterol\", \"formoterol\", \"salbutamol\", \"salmeterol\"]\n",
    "#non_biased_ligands += [\"s-carazolol\", \"Ici215001\", \"bisoprolol\", \"timolol\", \"s-atenolol\"]\n",
    "#non_biased_ligands = [n for n in df.columns.values.tolist() if n not in biased_ligands and \"Carvedilol\" not in n]\n",
    "#common_agonists = biased_ligands + non_biased_ligands\n",
    "#common_agonists = common_ligands\n",
    "#top_clusters = [\"cluster80\", \"cluster62\", \"cluster11\", \"cluster21\", \"cluster16\", \"cluster43\", \"cluster38\"]\n",
    "#differences = np.zeros((len(top_clusters), len(top_clusters)))\n",
    "#for i, cluster in enumerate(top_clusters):\n",
    "#    for j in range(i, len(top_clusters)):\n",
    "#        differences[i][j] = \n",
    "\n",
    "#top_clusters = importances_df.index.values\n",
    "top_clusters = delta_delta_g.index.values\n",
    "\n",
    "y_ori = bret[\"B2AR-Arrestin, Mean\"].loc[common_agonists].subtract(bret[\"B2AR-Gprotein, Mean\"].loc[common_agonists]).values.reshape((-1,1))\n",
    "#y_ori = np.vstack([y_ori, np.ones(3).reshape((-1,1))])\n",
    "#common_agonists = common_agonists.tolist() + biased_ligands\n",
    "\n",
    "X = delta_delta_g.loc[top_clusters][common_agonists].values.T\n",
    "X_scaled = ddg_scaled.loc[top_clusters][common_agonists].values.T\n",
    "C = null_features.loc[common_agonists].values\n",
    "D_scaled = docking_normalized.loc[top_clusters][common_agonists].values.T\n",
    "\n",
    "#y = np.array([1. for n in biased_ligands] + [0. for n in non_biased_ligands]).reshape((-1,1))\n",
    "#print(y_ori)\n",
    "#y_ori = bret[\"B2AR-Arrestin, Mean\"].loc[common_agonists].values.reshape((-1,1))\n",
    "#plt.hist(y_ori, bins=25)\n",
    "y = binarize(y_ori, threshold=-0.2)\n",
    "\n",
    "features = [C, X_scaled, D_scaled]\n",
    "features_y = [C, X_scaled, D_scaled, y]\n",
    "feature_names = [\"Crystal Structures\", \"MSM ddG\", \"Docking\"]"
   ]
  },
  {
   "cell_type": "code",
   "execution_count": null,
   "metadata": {
    "collapsed": false,
    "scrolled": true
   },
   "outputs": [],
   "source": [
    "xt = ddg_scaled[biased_ligands].values.T\n",
    "xt_preds = []\n",
    "\n",
    "\n",
    "for j in range(0,n_trials):\n",
    "    print(j)\n",
    "    aucs = []\n",
    "    log_aucs = []\n",
    "    train_test_arrays = sklearn.cross_validation.train_test_split(*features_y, train_size=0.8, stratify=y) \n",
    "    y_train = train_test_arrays[2*len(features)]\n",
    "    y_test = train_test_arrays[2*len(features) + 1]\n",
    "    feature_importance = []\n",
    "    \n",
    "    for i in range(0, len(features)):\n",
    "        X_train = train_test_arrays[2*i]\n",
    "        X_test = train_test_arrays[2*i+1]\n",
    "\n",
    "        sc = StandardScaler()\n",
    "        sc.fit(X_train)\n",
    "        X_train = sc.transform(X_train)\n",
    "        X_test = sc.transform(X_test)\n",
    "\n",
    "        rfr = RandomForestClassifier(n_estimators=100, max_features='sqrt', max_depth=3, n_jobs=-1, oob_score=True)\n",
    "        rfr.fit(X_train, y_train)\n",
    "        #top_indices = np.argsort(rfr.feature_importances_*-1.)[:min(10, X.shape[1])]\n",
    "        feature_importance.append(rfr.feature_importances_)\n",
    "        #rfr = RandomForestClassifier(n_estimators=10, max_features=None, n_jobs=-1, oob_score=True)\n",
    "        #X_train = X_train[:, top_indices]\n",
    "        #X_test = X_test[:, top_indices]\n",
    "        #rfr.fit(X_train, y_train)\n",
    "        #f = np.zeros(X.shape[1])\n",
    "        #f[top_indices] = rfr.feature_importances_\n",
    "        #feature_importance.append(f)\n",
    "        \n",
    "        if i == 1:\n",
    "            xt_preds.append(rfr.predict(xt))\n",
    "        \n",
    "        y_pred = rfr.predict(X_test)\n",
    "        y_score = rfr.predict_proba(X_test)\n",
    "        auc, logauc = compute_auc(y_test, y_score)\n",
    "        aucs.append(auc)\n",
    "        log_aucs.append(logauc)  \n",
    "    feature_importances.append(feature_importance)\n",
    "    test_aucs.append(aucs)\n",
    "    test_log_aucs.append(log_aucs)"
   ]
  },
  {
   "cell_type": "code",
   "execution_count": null,
   "metadata": {
    "collapsed": false
   },
   "outputs": [],
   "source": [
    "biased_ligands = [\"ethylnorepinephrine\", \"isoetharine\", \"N-Cyclopentylbutanephrine\"]\n",
    "\n",
    "non_biased_ligands =  [\"r_isopreterenol\", \"r_epinephrine\", \"norepinephrine\", \"zinterol\", \"orciprenaline\", \"epinine\", \"terbutaline\", \"fenoterol\", \"procaterol\", \"formoterol\", \"salbutamol\", \"salmeterol\"]\n",
    "\n",
    "ddg_scaled.loc[importances_df.index.values[:5]][biased_ligands + non_biased_ligands]"
   ]
  },
  {
   "cell_type": "code",
   "execution_count": null,
   "metadata": {
    "collapsed": false
   },
   "outputs": [],
   "source": [
    "ddg_scaled.sort(\"procaterol\", inplace=False).iloc[:10]"
   ]
  },
  {
   "cell_type": "code",
   "execution_count": null,
   "metadata": {
    "collapsed": false
   },
   "outputs": [],
   "source": [
    "plt.scatter(ddg_scaled.loc[\"cluster36\"][common_agonists], y)"
   ]
  },
  {
   "cell_type": "code",
   "execution_count": null,
   "metadata": {
    "collapsed": false
   },
   "outputs": [],
   "source": [
    "y"
   ]
  },
  {
   "cell_type": "code",
   "execution_count": null,
   "metadata": {
    "collapsed": false,
    "scrolled": true
   },
   "outputs": [],
   "source": [
    "import sklearn\n",
    "reload(sklearn)\n",
    "from sklearn.metrics import r2_score\n",
    "from sklearn.ensemble import GradientBoostingRegressor\n",
    "from sklearn.preprocessing import binarize\n",
    "from sklearn import cross_validation\n",
    "\n",
    "test_accuracies = []\n",
    "test_aucs = []\n",
    "test_log_aucs = []\n",
    "C_test_aucs = []\n",
    "C_test_log_aucs = []\n",
    "n_trials = 1000\n",
    "feature_importances = []\n",
    "reg = []\n",
    "total_activity = bret[\"B2AR-Arrestin, Mean\"].loc[common_ligands].add(bret[\"B2AR-Gprotein, Mean\"].loc[common_ligands])\n",
    "common_agonists = total_activity.loc[total_activity > 0.3].index.values\n",
    "\n",
    "#biased_ligands = [\"ethylnorepinephrine\", \"isoetharine\", \"N-Cyclopentylbutanephrine\", \"3p0g_lig\"]\n",
    "#biased_ligands = [\"nebivolol\", \"s-carvedilol\"]\n",
    "#non_biased_ligands =  [\"r_isopreterenol\", \"r_epinephrine\", \"norepinephrine\", \"zinterol\", \"orciprenaline\", \"epinine\", \"terbutaline\", \"fenoterol\", \"procaterol\", \"formoterol\", \"salbutamol\", \"salmeterol\"]\n",
    "#non_biased_ligands = [\"s-carazolol\", \"Ici215001\", \"bisoprolol\", \"timolol\", \"s-atenolol\"]\n",
    "#non_biased_ligands = [n for n in df.columns.values.tolist() if n not in biased_ligands and \"Carvedilol\" not in n]\n",
    "#common_agonists = biased_ligands + non_biased_ligands\n",
    "\n",
    "X = delta_delta_g[common_agonists].values.T\n",
    "X_scaled = ddg_scaled[common_agonists].values.T\n",
    "C = null_features.loc[common_agonists].values\n",
    "\n",
    "#y = np.array([1. for n in biased_ligands] + [0. for n in non_biased_ligands]).reshape((-1,1))\n",
    "#y_ori = bret[\"B2AR-Arrestin, Mean\"].loc[common_ligands].divide(bret[\"B2AR-Arrestin, Mean\"].loc[common_agonists].add(bret[\"B2AR-Gprotein, Mean\"].loc[common_agonists])).values.reshape((-1,1))\n",
    "y_ori = bret[\"B2AR-Arrestin, Mean\"].loc[common_agonists].values.reshape((-1,1))\n",
    "plt.hist(y_ori, bins=25)\n",
    "y = binarize(y_ori, threshold=0.2) \n",
    "\n",
    "features = [C, X, X_scaled, docking_normalized[common_agonists].values.T]\n",
    "features_y = [C, X, X_scaled, docking_normalized[common_agonists].values.T, y]\n",
    "feature_names = [\"Crystal Structures\", \"MSM States\", \"Normalized MSM States\", \"Normalized Docking\"]\n",
    "  \n",
    "\n",
    "for j in range(0,n_trials):\n",
    "    print(j)\n",
    "    aucs = []\n",
    "    log_aucs = []\n",
    "    train_test_arrays = sklearn.cross_validation.train_test_split(*features_y, train_size=0.8, stratify=y) \n",
    "    y_train = train_test_arrays[2*len(features)]\n",
    "    y_test = train_test_arrays[2*len(features) + 1]\n",
    "    feature_importance = []\n",
    "    r = []\n",
    "    \n",
    "    for i in range(0, len(features)):\n",
    "        X_train = train_test_arrays[2*i]\n",
    "        X_test = train_test_arrays[2*i+1]\n",
    "\n",
    "        sc = StandardScaler()\n",
    "        sc.fit(X_train)\n",
    "        X_train = sc.transform(X_train)\n",
    "        X_test = sc.transform(X_test)\n",
    "        \n",
    "        cs = np.logspace(-3., 20.)\n",
    "        rfr = LogisticRegressionCV(Cs=cs, penalty='l2')\n",
    "        rfr.fit(X_train, y_train)\n",
    "        feature_importance.append(rfr.coef_)\n",
    "        y_pred = rfr.predict(X_test)\n",
    "        y_score = rfr.predict_proba(X_test)\n",
    "        auc, logauc = compute_auc(y_test, y_score)\n",
    "        aucs.append(auc)\n",
    "        log_aucs.append(logauc)  \n",
    "        r.append(rfr.C_)\n",
    "    reg.append(r)\n",
    "    feature_importances.append(feature_importance)\n",
    "    test_aucs.append(aucs)\n",
    "    test_log_aucs.append(log_aucs)"
   ]
  },
  {
   "cell_type": "code",
   "execution_count": null,
   "metadata": {
    "collapsed": false
   },
   "outputs": [],
   "source": [
    "plt.scatter(docking_normalized.loc[\"cluster80\"][common_ligands], -1.0*bret.loc[common_ligands][\"B2AR-Gprotein, Mean\"].subtract(bret.loc[common_ligands][\"B2AR-Arrestin, Mean\"]))"
   ]
  },
  {
   "cell_type": "code",
   "execution_count": null,
   "metadata": {
    "collapsed": false,
    "scrolled": true
   },
   "outputs": [],
   "source": [
    "auc_df = pd.DataFrame(np.array(test_aucs), columns=feature_names)\n",
    "auc_df.plot(kind='box')"
   ]
  },
  {
   "cell_type": "code",
   "execution_count": null,
   "metadata": {
    "collapsed": false
   },
   "outputs": [],
   "source": [
    "auc_df.median(axis=0)"
   ]
  },
  {
   "cell_type": "code",
   "execution_count": null,
   "metadata": {
    "collapsed": false
   },
   "outputs": [],
   "source": [
    "normalized_docking_importances = [f[1] for f in feature_importances]"
   ]
  },
  {
   "cell_type": "code",
   "execution_count": null,
   "metadata": {
    "collapsed": false,
    "scrolled": true
   },
   "outputs": [],
   "source": [
    "importances_df = make_importances_df(normalized_docking_importances, top_clusters)\n",
    "importances_df\n"
   ]
  },
  {
   "cell_type": "code",
   "execution_count": null,
   "metadata": {
    "collapsed": false
   },
   "outputs": [],
   "source": [
    "from sklearn.preprocessing import binarize\n",
    "X = ddg_scaled[common_ligands].values.T\n",
    "y = bret[\"B2AR-Gprotein, Mean\"].loc[common_ligands].values.reshape((-1,1))\n",
    "y = binarize(y, threshold=0.5)\n",
    "print(np.shape(y))\n",
    "from sklearn.svm import l1_min_c\n",
    "from sklearn import linear_model\n",
    "\n",
    "#cs = l1_min_c(X, y, loss='log') * np.logspace(0, 3)\n",
    "cs = np.logspace(-3., 20.)\n",
    "print(\"Computing regularization path ...\")\n",
    "clf = linear_model.LogisticRegression(C=1.0, penalty='l2', tol=1e-6)\n",
    "coefs_ = []\n",
    "for c in cs:\n",
    "    clf.set_params(C=c)\n",
    "    clf.fit(X, y)\n",
    "    coefs_.append(clf.coef_.ravel().copy())\n",
    "\n",
    "coefs_ = pd.DataFrame(np.array(coefs_), columns=ddg_scaled.index.values, index=np.log10(cs))\n",
    "#coefs_[list(set(inactive_clusters.tolist()).intersection(set(importances_df.iloc[10:20].index.values.tolist())))].plot()\n",
    "coefs_[importances_df.index.values[:5]].plot()\n",
    "#plt.plot(np.log10(cs), coefs_)\n",
    "#ymin, ymax = plt.ylim()\n",
    "###plt.xlabel('log(C)')\n",
    "#plt.ylabel('Coefficients')\n",
    "##plt.title('Logistic Regression Path')\n",
    "#plt.axis('tight')\n",
    "#plt.show()"
   ]
  },
  {
   "cell_type": "code",
   "execution_count": null,
   "metadata": {
    "collapsed": false
   },
   "outputs": [],
   "source": [
    "samples_pnas_tica.loc[importances_df.index.values[:10]]"
   ]
  },
  {
   "cell_type": "code",
   "execution_count": null,
   "metadata": {
    "collapsed": false
   },
   "outputs": [],
   "source": [
    "plt.scatter(deltas_tica.loc[importances_df.index.values[:10]][\"tIC.6\"], coefs_[importances_df.index.values[:10]].values[49])"
   ]
  },
  {
   "cell_type": "code",
   "execution_count": null,
   "metadata": {
    "collapsed": false,
    "scrolled": true
   },
   "outputs": [],
   "source": [
    "plot_clustermap(ddg_scaled[common_agonists.tolist()].loc[importances_df.index.values.tolist()[:5]].transpose(), save_file=\"%s/msm_n-clusters%d_lag-time%d_tICs%d.pdf\" %(tica_dir, n_clusters, msm_lag_time, n_components), method='average')\n",
    "\n"
   ]
  },
  {
   "cell_type": "code",
   "execution_count": null,
   "metadata": {
    "collapsed": false
   },
   "outputs": [],
   "source": [
    "samples_pnas_tica.loc[samples_pnas_tica[\"tm6_tm3_dist\"] < 18.0].loc[importances_df.iloc[0:5].index].dropna()"
   ]
  },
  {
   "cell_type": "code",
   "execution_count": null,
   "metadata": {
    "collapsed": false
   },
   "outputs": [],
   "source": [
    "ddg_scaled[\"nebivolol\"].subtract(ddg_scaled[\"s-carazolol\"]).sort(inplace=False).iloc[:10]"
   ]
  },
  {
   "cell_type": "code",
   "execution_count": null,
   "metadata": {
    "collapsed": false
   },
   "outputs": [],
   "source": [
    "ddg_scaled[\"s-carvedilol\"].subtract(ddg_scaled[\"s-carazolol\"]).sort(inplace=False).iloc[:10]"
   ]
  },
  {
   "cell_type": "code",
   "execution_count": null,
   "metadata": {
    "collapsed": false
   },
   "outputs": [],
   "source": [
    "samples_pnas_tica.loc[[\"cluster74\", \"cluster69\", \"cluster13\", \"cluster12\", \"cluster66\"]]"
   ]
  },
  {
   "cell_type": "code",
   "execution_count": null,
   "metadata": {
    "collapsed": false,
    "scrolled": true
   },
   "outputs": [],
   "source": [
    "import plots\n",
    "reload(plots)\n",
    "from plots import *\n",
    "#plot_importances_barh(importances_df.values, importances_df.index.values, \"MSM State Importance in Arrestin Prediction\", \"Feature Importance\", \"MSM State\", \"%s/arrestin_0pt5_classification_rfr.pdf\" %(tica_dir), n_features=50)\n",
    "importances_df.iloc[0:25].plot(kind='barh')\n",
    "plt.xlabel(\"Feature Importance\")\n",
    "plt.ylabel(\"MSM State\")\n",
    "plt.title(\"Importance of MSM States in Predicting Arrestin Activity\")\n",
    "plt.savefig(\"%s/msm_%dstates_arrestin_0pt2_agonists_only_classification_rfr.pdf\" %(tica_dir, n_clusters))\n",
    "#plt.clf()\n"
   ]
  },
  {
   "cell_type": "code",
   "execution_count": null,
   "metadata": {
    "collapsed": true
   },
   "outputs": [],
   "source": []
  },
  {
   "cell_type": "code",
   "execution_count": null,
   "metadata": {
    "collapsed": false
   },
   "outputs": [],
   "source": [
    "X = docking_normalized[common_agonists].values.T\n",
    "y = bret[\"B2AR-Arrestin, Mean\"].subtract(bret[\"B2AR-Gprotein, Mean\"]).loc[common_agonists].values.reshape((-1,1))\n",
    "y = binarize(y, threshold=-0.2)\n",
    "print(y)\n",
    "from sklearn import linear_model\n",
    "\n",
    "cs = np.logspace(-3., 200.)\n",
    "clf = linear_model.LogisticRegression(C=1.0, penalty='l2', tol=1e-6)\n",
    "coefs_ = []\n",
    "for c in cs:\n",
    "    clf.set_params(C=c)\n",
    "    clf.fit(X, y)\n",
    "    coefs_.append(clf.coef_.ravel().copy())\n",
    "\n",
    "coefs_ = pd.DataFrame(np.array(coefs_), columns=ddg_scaled.index.values, index=np.log10(cs))\n",
    "coefs_[importances_df.iloc[0:10].loc[samples_pnas_tica[\"tm6_tm3_dist\"] < 9.].index].plot()\n",
    "plt.xlabel(\"Log Regularization Parameter\")\n",
    "plt.ylabel(\"Coefficient for Arrestin Activity\")\n",
    "plt.title(\"Logistic Regression Coefficient in Predicting Arrestin Activity\")\n",
    "plt.savefig(\"%s/msm_%dstates_arrestin_0pt2_agonists_only_classification_logistic.pdf\" %(tica_dir, n_clusters))\n",
    "#plt.clf()"
   ]
  },
  {
   "cell_type": "code",
   "execution_count": null,
   "metadata": {
    "collapsed": false
   },
   "outputs": [],
   "source": [
    "np.shape(coefs_)"
   ]
  },
  {
   "cell_type": "code",
   "execution_count": null,
   "metadata": {
    "collapsed": false
   },
   "outputs": [],
   "source": [
    "print(np.median(np.nan_to_num(test_aucs)))\n",
    "print(np.median(np.nan_to_num(C_test_aucs)))\n",
    "print(np.median(np.nan_to_num(test_log_aucs)))\n",
    "print(np.median(np.nan_to_num(C_test_log_aucs)))"
   ]
  },
  {
   "cell_type": "code",
   "execution_count": null,
   "metadata": {
    "collapsed": false
   },
   "outputs": [],
   "source": [
    "lr = LinearRegression()\n",
    "states = importances_df.index.values.tolist()\n",
    "model = lr.fit(X, y_ori)\n",
    "pd.DataFrame(model.coef_.T, index=delta_delta_g.index, columns=[\"importance\"]).loc[states]#.sort(\"importance\", inplace=False)"
   ]
  },
  {
   "cell_type": "code",
   "execution_count": null,
   "metadata": {
    "collapsed": false
   },
   "outputs": [],
   "source": [
    "model.coef_.shape"
   ]
  },
  {
   "cell_type": "code",
   "execution_count": null,
   "metadata": {
    "collapsed": false
   },
   "outputs": [],
   "source": []
  },
  {
   "cell_type": "code",
   "execution_count": null,
   "metadata": {
    "collapsed": false
   },
   "outputs": [],
   "source": [
    "import seaborn\n",
    "reload(seaborn)\n",
    "import seaborn as sns\n",
    "plt.style.use('ggplot')\n",
    "plt.figure(figsize=(5, 5))\n",
    "sns.set_style(\"darkgrid\")\n",
    "g = (auc_df\n",
    "    .pipe((sns.boxplot, 'data'), orient='v', showfliers=True))\n",
    "g.set_xticklabels(auc_df.columns.values, rotation=90)\n",
    "sns.despine()\n",
    "plt.title(\"AUC for Arrestin Prediction\")\n",
    "plt.ylabel(\"Frequency AUCs over Random Splits\")\n",
    "plt.xlabel(\"Featurization\")\n",
    "plt.show()\n",
    "plt.savefig(\"%s/auc_arrestin_prediction_all_ligands_0pt2_cutoff.pdf\" %tica_dir)"
   ]
  },
  {
   "cell_type": "code",
   "execution_count": null,
   "metadata": {
    "collapsed": false
   },
   "outputs": [],
   "source": [
    "corr_matrix = compute_pearson_matrix(delta_delta_g[common_agonists].values.T, y)\n",
    "corr_df = pd.DataFrame(model.coef_.T, index=delta_delta_g.index.values, columns=[\"Correlation\"]).sort(\"Correlation\",inplace=False)\n",
    "#corr_df.loc[[\"cluster80\", \"cluster16\", \"cluster43\", \"cluster44\"]].plot(kind='barh')\n",
    "corr_df.loc[importances_df.index.values[:20]].sort(\"Correlation\", inplace=False).plot(kind='barh')#, figsize=(5,20))\n",
    "plt.xlabel(\"Pearsson Correlation with Arrestin Activity\")\n",
    "plt.ylabel(\"MSM State\")\n",
    "plt.title(\"Correlation of MSM States with Arrestin Activity\")\n"
   ]
  },
  {
   "cell_type": "code",
   "execution_count": null,
   "metadata": {
    "collapsed": true
   },
   "outputs": [],
   "source": []
  },
  {
   "cell_type": "code",
   "execution_count": null,
   "metadata": {
    "collapsed": false
   },
   "outputs": [],
   "source": [
    "samples_pnas_tica.loc[corr_df.loc[importances_df.index.values[:20]].sort(\"Correlation\", inplace=False).index.values]"
   ]
  },
  {
   "cell_type": "code",
   "execution_count": null,
   "metadata": {
    "collapsed": true
   },
   "outputs": [],
   "source": []
  },
  {
   "cell_type": "code",
   "execution_count": null,
   "metadata": {
    "collapsed": false
   },
   "outputs": [],
   "source": [
    "df = copy.deepcopy(aggregate_docking_msm)\n",
    "df[df.columns.values] = scale(df.values)\n",
    "plt.scatter(df[common_ligands].loc[\"cluster13\"].values, bret[\"B2AR-Arrestin, Mean\"].loc[common_ligands].values.T)"
   ]
  },
  {
   "cell_type": "code",
   "execution_count": null,
   "metadata": {
    "collapsed": false
   },
   "outputs": [],
   "source": [
    "bret"
   ]
  },
  {
   "cell_type": "code",
   "execution_count": null,
   "metadata": {
    "collapsed": false,
    "scrolled": true
   },
   "outputs": [],
   "source": [
    "import sklearn\n",
    "reload(sklearn)\n",
    "from sklearn.metrics import r2_score\n",
    "from sklearn.ensemble import GradientBoostingRegressor\n",
    "from sklearn.preprocessing import binarize\n",
    "from sklearn import cross_validation\n",
    "\n",
    "test_accuracies = []\n",
    "test_aucs = []\n",
    "test_log_aucs = []\n",
    "C_test_aucs = []\n",
    "C_test_log_aucs = []\n",
    "n_trials = 100\n",
    "feature_importances = []\n",
    "\n",
    "for j in range(0,n_trials):\n",
    "    print(j)\n",
    "\n",
    "    X = delta_delta_g[common_ligands].values.T\n",
    "    C = null_features.loc[common_ligands].values\n",
    "    y = bret[\"B2AR-Arrestin, Mean\"].loc[common_ligands].values.reshape((-1,1))\n",
    "    y = binarize(y, threshold=0.5)\n",
    "\n",
    "    X_train, X_test, y_train, y_test, C_train, C_test = sklearn.cross_validation.train_test_split(X, y, C, train_size=0.8, stratify=y)\n",
    "    \n",
    "    sc = StandardScaler()\n",
    "    sc.fit(X_train)\n",
    "    X_train = sc.transform(X_train)\n",
    "    X_test = sc.transform(X_test)\n",
    "\n",
    "    sc = StandardScaler()\n",
    "    sc.fit(C_train)\n",
    "    C_train = sc.transform(C_train)\n",
    "    C_test = sc.transform(C_test)\n",
    " \n",
    "    rfr = RandomForestClassifier(n_estimators=100, max_features='sqrt', max_depth=2, n_jobs=-1, oob_score=True)\n",
    "    rfr.fit(X_train, y_train)\n",
    "    feature_importances.append(rfr.feature_importances_)\n",
    "    y_pred = rfr.predict(X_test)\n",
    "    test_accuracies.append(np.sqrt(np.mean(np.square(y_test-y_pred.reshape((-1,1))))))\n",
    "    y_score = rfr.predict_proba(X_test)\n",
    "    auc, logauc = compute_auc(y_test, y_score)\n",
    "    test_aucs.append(auc)\n",
    "    test_log_aucs.append(logauc)\n",
    "    \n",
    "    rfr = RandomForestClassifier(n_estimators=100, max_features='sqrt', max_depth=2, n_jobs=-1, oob_score=True)\n",
    "    rfr.fit(C_train, y_train)\n",
    "    C_y_pred = rfr.predict(C_test)\n",
    "    y_score = rfr.predict_proba(C_test)\n",
    "    auc, logauc = compute_auc(y_test, y_score)\n",
    "    C_test_aucs.append(auc)\n",
    "    C_test_log_aucs.append(logauc)\n",
    "\n",
    "    \n",
    "    \n",
    "\n",
    "    "
   ]
  },
  {
   "cell_type": "code",
   "execution_count": null,
   "metadata": {
    "collapsed": false
   },
   "outputs": [],
   "source": [
    "import seaborn\n",
    "reload(seaborn)\n",
    "import seaborn as sns\n",
    "auc_df = pd.DataFrame(np.vstack([test_aucs, C_test_aucs]).T, columns=[\"MSM States\", \"Crystal Structures\"])\n",
    "\n",
    "plt.style.use('ggplot')\n",
    "plt.figure(figsize=(5, 5))\n",
    "sns.set_style(\"darkgrid\")\n",
    "g = (auc_df\n",
    "    .pipe((sns.boxplot, 'data'), orient='v', showfliers=True))\n",
    "#g.set_xticklabels(experiments.columns.values, rotation=90)\n",
    "sns.despine()\n",
    "plt.title(\"AUC for G Protein Prediction\")\n",
    "plt.ylabel(\"Frequency AUCs over Random Splits\")\n",
    "plt.xlabel(\"Featurization\")\n",
    "plt.show()\n",
    "plt.savefig(\"%s/msm_n-states%d_auc_gprot_prediction_cutoff0pt5.pdf\" %(tica_dir, n_clusters))"
   ]
  },
  {
   "cell_type": "code",
   "execution_count": null,
   "metadata": {
    "collapsed": false
   },
   "outputs": [],
   "source": [
    "importances_df = make_importances_df(feature_importances, delta_delta_g.index.values.tolist())\n",
    "importances_df\n",
    "\n"
   ]
  },
  {
   "cell_type": "code",
   "execution_count": null,
   "metadata": {
    "collapsed": false
   },
   "outputs": [],
   "source": [
    "import sklearn\n",
    "from sklearn.linear_model import LinearRegression, Lasso\n",
    "model = Lasso(alpha=0.0001)                                \n",
    "model.fit(ddg_scaled[common_agonists].values.T, bret.loc[common_agonists][\"B2AR-Arrestin, Mean\"].subtract(bret.loc[common_agonists][\"B2AR-Gprotein, Mean\"].values))\n",
    "pd.DataFrame(model.coef_, index=ddg_scaled.index, columns=[\"importance\"]).sort(\"importance\", inplace=False)"
   ]
  },
  {
   "cell_type": "code",
   "execution_count": null,
   "metadata": {
    "collapsed": false
   },
   "outputs": [],
   "source": [
    "print(np.median(np.nan_to_num(test_aucs)))\n",
    "print(np.median(np.nan_to_num(C_test_aucs)))\n",
    "print(np.median(np.nan_to_num(test_log_aucs)))\n",
    "print(np.median(np.nan_to_num(C_test_log_aucs)))"
   ]
  },
  {
   "cell_type": "code",
   "execution_count": null,
   "metadata": {
    "collapsed": false
   },
   "outputs": [],
   "source": [
    "import plots\n",
    "reload(plots)\n",
    "from plots import *\n",
    "#plot_importances_barh(importances_df.values, importances_df.index.values, \"MSM State Importance in Arrestin Prediction\", \"Feature Importance\", \"MSM State\", \"%s/arrestin_0pt5_classification_rfr.pdf\" %(tica_dir), n_features=50)\n",
    "importances_df.iloc[0:25].plot(kind='barh')\n",
    "plt.xlabel(\"Feature Importance\")\n",
    "plt.ylabel(\"MSM State\")\n",
    "plt.title(\"Importance of MSM States in Predicting G Protein Activity\")\n",
    "#plt.savefig(\"%s/msm_%dstates_gprot_0pt5_classification_rfr.pdf\" %(tica_dir, n_clusters))\n",
    "#plt.clf()\n",
    "\n"
   ]
  },
  {
   "cell_type": "code",
   "execution_count": null,
   "metadata": {
    "collapsed": false
   },
   "outputs": [],
   "source": [
    "corr_matrix = compute_pearson_matrix(ddg_scaled[common_ligands].values.T, y)\n",
    "corr_df = pd.DataFrame(model.coef_, index=ddg_scaled.index.values, columns=[\"Correlation\"])\n",
    "corr_df.loc[importances_df.index.values[:10]].sort(\"Correlation\", inplace=False).plot(kind='barh')\n",
    "plt.xlabel(\"Pearsson Correlation with G Protein Activity\")\n",
    "plt.ylabel(\"MSM State\")\n",
    "plt.title(\"Correlation of MSM States with G Protein Activity\")\n",
    "#plt.savefig(\"%s/msm_%dstates_gprot_0pt5_classification_correlations.pdf\" %(tica_dir, n_clusters))\n",
    "#plt.clf()\n",
    "\n",
    "\n"
   ]
  },
  {
   "cell_type": "code",
   "execution_count": null,
   "metadata": {
    "collapsed": false
   },
   "outputs": [],
   "source": [
    "pd.set_option('display.max_rows', 500)\n",
    "pd.set_option('display.max_columns', 500)"
   ]
  }
 ],
 "metadata": {
  "anaconda-cloud": {},
  "kernelspec": {
   "display_name": "Python [Root]",
   "language": "python",
   "name": "Python [Root]"
  },
  "language_info": {
   "codemirror_mode": {
    "name": "ipython",
    "version": 3
   },
   "file_extension": ".py",
   "mimetype": "text/x-python",
   "name": "python",
   "nbconvert_exporter": "python",
   "pygments_lexer": "ipython3",
   "version": "3.5.2"
  }
 },
 "nbformat": 4,
 "nbformat_minor": 0
}
