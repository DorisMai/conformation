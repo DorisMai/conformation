{
 "cells": [
  {
   "cell_type": "code",
   "execution_count": null,
   "metadata": {
    "collapsed": false
   },
   "outputs": [],
   "source": [
    "import pandas as pd\n",
    "import matplotlib\n",
    "import matplotlib.pyplot as plt\n",
    "\n",
    "# changing matplotlib the default style\n",
    "matplotlib.style.use('ggplot')\n",
    "\n",
    "from PDB_Order_Fixer import PDB_Order_Fixer\n",
    "import mdtraj as md\n",
    "import os\n",
    "import numpy as np\n",
    "import h5py\n",
    "\n",
    "import datetime\n",
    "import glob\n",
    "import copy\n",
    "from functools import partial \n",
    "import operator\n",
    "import time\n",
    "\n",
    "import random \n",
    "import subprocess\n",
    "from subprocess import Popen\n",
    "import sys\n",
    "from io_functions import *\n",
    "from custom_clusterer import *\n",
    "from custom_tica import *\n",
    "from custom_featurizer import *\n",
    "from pdb_editing import *\n",
    "from analysis import *\n",
    "from io_functions import *\n",
    "#from topology_fixing import *\n",
    "from subsampling import *\n",
    "from conversions import *\n",
    "from custom_msm import *\n",
    "#from grids import *\n",
    "from docking_analysis import *"
   ]
  },
  {
   "cell_type": "code",
   "execution_count": null,
   "metadata": {
    "collapsed": false
   },
   "outputs": [],
   "source": [
    "import io_functions\n",
    "from imp import reload\n",
    "reload(io_functions)\n",
    "from io_functions import *"
   ]
  },
  {
   "cell_type": "code",
   "execution_count": null,
   "metadata": {
    "collapsed": false
   },
   "outputs": [],
   "source": [
    "from operator import itemgetter"
   ]
  },
  {
   "cell_type": "code",
   "execution_count": null,
   "metadata": {
    "collapsed": false
   },
   "outputs": [],
   "source": [
    "import warnings\n",
    "warnings.filterwarnings('ignore')\n",
    "%matplotlib inline"
   ]
  },
  {
   "cell_type": "markdown",
   "metadata": {
    "collapsed": false
   },
   "source": [
    "In this iPython notebook, we will featurize MOR ligand binding simulation by pairwise distances between the ligand and different receptor residues. We will then perform tICA and prospectively build an MSM. "
   ]
  },
  {
   "cell_type": "code",
   "execution_count": null,
   "metadata": {
    "collapsed": false
   },
   "outputs": [],
   "source": [
    "from detect_intermediates import *\n",
    "from interpret_tICs import *"
   ]
  },
  {
   "cell_type": "code",
   "execution_count": null,
   "metadata": {
    "collapsed": false
   },
   "outputs": [],
   "source": [
    "from mor_h8_feature_types import *\n",
    "from get_variable_names import *\n",
    "from mor_h8_tica_config import *\n",
    "from residue import Residue, Atom\n",
    "ori_feature_name = copy.deepcopy(feature_name)"
   ]
  },
  {
   "cell_type": "code",
   "execution_count": null,
   "metadata": {
    "collapsed": false
   },
   "outputs": [],
   "source": [
    "rho = 0.1\n",
    "rho_string = \"0pt1\"\n",
    "lag_time = 5\n",
    "n_components = 10\n",
    "n_clusters = 3000\n",
    "\n",
    "rho = 0.025\n",
    "rho_string = \"0pt025\"\n",
    "lag_time=50\n",
    "ori_feature_name = copy.deepcopy(feature_name)\n",
    "is_sparse = False"
   ]
  },
  {
   "cell_type": "code",
   "execution_count": null,
   "metadata": {
    "collapsed": false,
    "scrolled": true
   },
   "outputs": [],
   "source": [
    "schemes = [\"closest-heavy\", \"CA\"]\n",
    "feature_name = \"%s-CA-py3-far\" %ori_feature_name\n",
    "#feature_name = \"%s_phi_psi_chi2\" %feature_name\n",
    "(active_ref_dir, inactive_ref_dir, simulation_ref_dir, scripts_dir,\n",
    "          ligand_dir, agonist_dir, inverse_agonist_dir, biased_agonist_dir, ref_receptors_dir, whole_trajectory_pnas,\n",
    "          sasa_file) = get_base_files(base)\n",
    "\n",
    "tica_dir = get_tica_dir(base, is_sparse, lag_time, n_components, feature_name, \n",
    "                                 wolf_string, shrinkage_string, rho_string)\n",
    "#tica_dir = \"%s-with-inactive\" %tica_dir\n",
    "tica_dir = \"%s-backup\" %tica_dir\n",
    "ori_tica_dir = copy.deepcopy(tica_dir)\n",
    "#tica_dir = \"%s-normalized\" % ori_tica_dir\n",
    "features_dir = get_features_dir(base, feature_name)\n",
    "\n",
    "landmarks_dir = get_landmarks_dir(tica_dir)\n",
    "analysis_dir = get_analysis_dir(tica_dir, n_clusters, sampling_method)\n",
    "gmm_dir = get_gmm_dir(tica_dir)\n",
    "rf_dir = get_rf_dir(tica_dir)\n",
    "\n",
    "\n",
    "ref_tica_dir, ref_tica_coords = get_ref_tica_dirs(tica_dir)\n",
    "\n",
    "graph_file = get_graph_file(tica_dir, msm_lag_time, n_clusters)\n",
    "\n",
    "pnas_titles =  [\"tm6_tm3_dist\", \"rmsd_npxxy_inactive\", \"rmsd_npxxy_active\", \"rmsd_connector_inactive\", \"rmsd_connector_active\"]\n",
    "pnas_features_dir = analysis_dir\n",
    "\n",
    "\n",
    "(clusterer_dir, msm_model_dir, macrostate_dir, features_known, model_dir, projected_features_dir,\n",
    "         projection_operator_dir, ktica_fit_model_filename, ktica_projected_data_filename, nystroem_data_filename,\n",
    "         mutual_information_csv, pearson_csv) = get_tica_files(base, tica_dir, n_clusters, msm_lag_time, n_macrostates)\n",
    "\n",
    "(standardized_features_dir, feature_residues_csv, feature_residues_pkl,\n",
    "          contact_csv, ref_features_dir) = get_feature_files(features_dir)\n",
    "\n",
    "(kmeans_csv, tica_coords_csv, features_csv, active_rmsd_dir, inactive_rmsd_dir, active_pnas_dir, inactive_pnas_joined, active_pnas_joined,\n",
    "        clusters_map_file, ktica_clusters_map_file, analysis_file, combined_file, docking_summary, docking_joined, docking_z_scores_csv,\n",
    "        aggregate_docking, aggregate_docking_joined, docking_pnas_joined, aggregate_docking_pnas, aggregate_docking_pnas_joined, docking_multiple_ligands,\n",
    "        docking_distances_file, docking_pdf, mmgbsa_docking_distances, pnas_coords, mmgbsa_dir, mmgbsa_csv, mmgbsa_pdf, aggregate_mmgbsa,\n",
    "        aggregate_mmgbsa_joined, aggregate_mmgbsa_pnas_joined, mmgbsa_z_scores_csv, active_clusters_csv, intermediate_clusters_csv,\n",
    "        inactive_clusters_csv, pnas_clusters_averages, tica_clusters_averages, tica_classes_csv, tica_samples_csv, subgraph_save_base,\n",
    "        degree_save_base, degree_map_csv, degree_z_map_csv, aggregate_docking_pnas_degree_z_joined, tic_residue_csv, feature_coefs_csv,\n",
    "        duplicated_feature_coefs_csv) = get_analysis_files(analysis_dir, n_clusters, tica_dir, tica_dir, sampling_method, n_samples, precision,\n",
    "                                                           msm_lag_time)\n",
    "\n",
    "(inactive_pnas_distances_dir, active_pnas_distances_dir, active_pnas_all_distances_dir,\n",
    "          inactive_pnas_distances_new_csv, active_pnas_distances_new_csv, active_pnas_joined, active_pnas_means, pnas_coords_dir,\n",
    "          pnas_coords_csv, pnas_all_coords_csv, pnas_coords_hexbin_dir, pnas_coords_co_crystallized_docking_dir,\n",
    "          pnas_coords_active_colors_dir, user_defined_features_file, reaction_coordinates_trajs_file) = get_pnas_files(whole_trajectory_pnas, pnas_features_dir)\n",
    "\n",
    "features_dir = get_features_dir(base, feature_name)\n",
    "\n",
    "\n",
    "\n",
    "graph_file = get_graph_file(tica_dir, msm_lag_time, n_clusters)\n",
    "(scripts_dir, pymol_fixpdb_dir) = get_script_dir(scripts_dir)\n",
    "(save_dir, reimaged_dir, mae_dir, combined_reimaged_dir, grid_dir, docking_dir) = get_docking_dirs(tica_dir, n_clusters, n_components, n_samples, sampling_method, precision)\n"
   ]
  },
  {
   "cell_type": "code",
   "execution_count": null,
   "metadata": {
    "collapsed": false
   },
   "outputs": [],
   "source": [
    "features_dir"
   ]
  },
  {
   "cell_type": "code",
   "execution_count": null,
   "metadata": {
    "collapsed": false
   },
   "outputs": [],
   "source": [
    "from ipyparallel import Client\n",
    "rc = Client()\n",
    "print(len(rc.ids))\n",
    "dview = rc[:]\n",
    "dview.map(os.chdir, ['/home/enf/b2ar_analysis/conformation']*len(rc.ids))"
   ]
  },
  {
   "cell_type": "code",
   "execution_count": null,
   "metadata": {
    "collapsed": false,
    "scrolled": true
   },
   "outputs": [],
   "source": [
    "import custom_featurizer\n",
    "reload (custom_featurizer)\n",
    "from custom_featurizer import *\n",
    "suf_trajectories = [t for t in get_trajectory_files(traj_dir, \".h5\") if \"suf\" in t and \"re\" in t]\n",
    "fix_chain_names(suf_trajectories, dview)\n",
    "#featurize_contacts_custom(traj_dir, features_dir = features_dir, traj_ext = traj_ext, contact_residue_pairs_file = feature_residues_pkl, structures=[inactive_dir, active_dir], contact_residues=contact_residues,\n",
    "#                          residues_map = None, contact_cutoff = cutoff, parallel = False, exacycle = exacycle, traj_top_structure = None, iterative=False,\n",
    "#                          user_specified_atom_residue_pairs = [], load_from_file=False, worker_pool=None, schemes=schemes)"
   ]
  },
  {
   "cell_type": "code",
   "execution_count": null,
   "metadata": {
    "collapsed": true
   },
   "outputs": [],
   "source": []
  },
  {
   "cell_type": "code",
   "execution_count": null,
   "metadata": {
    "collapsed": false
   },
   "outputs": [],
   "source": [
    "user_defined_features_dir = \"%s/user_defined_features\" %traj_dir\n",
    "if not os.path.exists(user_defined_features_dir):\n",
    "    os.makedirs(user_defined_features_dir)\n",
    "compute_user_defined_features_wrapper(traj_dir, traj_ext, inactive_dir, active_dir, None,\n",
    "                                        feature_name_residues_dict, user_defined_features_file, worker_pool=dview, \n",
    "                                        save_dir=user_defined_features_dir, parallel=False, overwrite=True)"
   ]
  },
  {
   "cell_type": "code",
   "execution_count": null,
   "metadata": {
    "collapsed": false
   },
   "outputs": [],
   "source": [
    "ref_user_defined_features_file = \"/home/enf/md_simulations/MOR/h8_reimaged/all_pnas_features/ref_coords.h5\"\n",
    "ref_user_defined_features_dir = \"%s/ref_user_defined_features\" %traj_dir\n",
    "if not os.path.exists(ref_user_defined_features_dir):\n",
    "    os.makedirs(ref_user_defined_features_dir)\n",
    "\n",
    "compute_user_defined_features_wrapper(ref_receptors_dir, \".pdb\", inactive_dir, active_dir, None,\n",
    "                                        feature_name_residues_dict, ref_user_defined_features_file, worker_pool=None, \n",
    "                                        save_dir=ref_user_defined_features_dir, parallel=False, overwrite=True)"
   ]
  },
  {
   "cell_type": "code",
   "execution_count": null,
   "metadata": {
    "collapsed": false
   },
   "outputs": [],
   "source": [
    "traj_dir = \"/home/enf/md_simulations/MOR/h8_reimaged/trajectories\""
   ]
  },
  {
   "cell_type": "code",
   "execution_count": null,
   "metadata": {
    "collapsed": false
   },
   "outputs": [],
   "source": [
    "import custom_featurizer\n",
    "reload(custom_featurizer)\n",
    "from custom_featurizer import *\n",
    "featurize_contacts_custom(traj_dir, features_dir = features_dir, traj_ext = traj_ext, contact_residue_pairs_file = feature_residues_pkl, structures=[inactive_dir, active_dir], contact_residues=contact_residues,\n",
    "                          residues_map = None, contact_cutoff = cutoff, parallel = False, exacycle = exacycle, traj_top_structure = None, iterative=False,\n",
    "                          user_specified_atom_residue_pairs = [], load_from_file=False, worker_pool=dview, schemes=schemes, binarize=None, redo=True)"
   ]
  },
  {
   "cell_type": "code",
   "execution_count": null,
   "metadata": {
    "collapsed": false,
    "scrolled": true
   },
   "outputs": [],
   "source": [
    "fit_normalizer(features_dir)"
   ]
  },
  {
   "cell_type": "code",
   "execution_count": null,
   "metadata": {
    "collapsed": false
   },
   "outputs": [],
   "source": [
    "import pickle\n",
    "with open(feature_residues_pkl, \"rb\") as f:\n",
    "    feature_residues = pickle.load(f)"
   ]
  },
  {
   "cell_type": "code",
   "execution_count": null,
   "metadata": {
    "collapsed": false
   },
   "outputs": [],
   "source": [
    "type(feature_name_residues_dict[\"Arg280_Glu341_closest_dist\"])"
   ]
  },
  {
   "cell_type": "code",
   "execution_count": null,
   "metadata": {
    "collapsed": false,
    "scrolled": true
   },
   "outputs": [],
   "source": [
    "import custom_tica\n",
    "reload(custom_tica)\n",
    "from custom_tica import *\n",
    "fit_and_transform(features_directory = features_dir, model_dir = tica_dir, stride=5, lag_time = lag_time, n_components = n_components, sparse = sparse, wolf = wolf, rho = rho, shrinkage = shrinkage, parallel=True, traj_ext = traj_ext, normalize=True, partial_fit=True)"
   ]
  },
  {
   "cell_type": "code",
   "execution_count": null,
   "metadata": {
    "collapsed": false,
    "scrolled": false
   },
   "outputs": [],
   "source": [
    "import custom_featurizer\n",
    "reload(custom_featurizer)\n",
    "from custom_featurizer import *\n",
    "\n",
    "featurize_contacts_custom(ref_receptors_dir, features_dir = ref_features_dir, traj_ext = \".pdb\", contact_residue_pairs_file = feature_residues_pkl, structures=[inactive_dir, active_dir], contact_residues=contact_residues,\n",
    "                          residues_map = None, contact_cutoff = cutoff, parallel = False, exacycle = exacycle, traj_top_structure = None, iterative=False,\n",
    "                          user_specified_atom_residue_pairs = [], load_from_file=False, worker_pool=None, schemes=schemes)"
   ]
  },
  {
   "cell_type": "code",
   "execution_count": null,
   "metadata": {
    "collapsed": false
   },
   "outputs": [],
   "source": [
    "transform(existing_model = projection_operator_dir, features_directory = ref_features_dir, tica_dir = ref_tica_dir, normalizer=compat_verboseload(\"%s/normalizer.h5\" %features_dir))\n"
   ]
  },
  {
   "cell_type": "code",
   "execution_count": null,
   "metadata": {
    "collapsed": false
   },
   "outputs": [],
   "source": [
    "import custom_tica\n",
    "reload(custom_tica)\n",
    "from custom_tica import *\n",
    "transform_to_h5(projection_operator_dir, features_dir, projected_features_dir, worker_pool=None, parallel=True, normalizer=compat_verboseload(\"%s/normalizer.h5\" %features_dir))"
   ]
  },
  {
   "cell_type": "code",
   "execution_count": 13,
   "metadata": {
    "collapsed": false
   },
   "outputs": [],
   "source": [
    "tica_object = compat_verboseload(projection_operator_dir)"
   ]
  },
  {
   "cell_type": "code",
   "execution_count": null,
   "metadata": {
    "collapsed": true
   },
   "outputs": [],
   "source": [
    "with open(projection_operator_dir, 'rb') as f:\n",
    "    tica_object = pickle.load(f, encoding='latin1') "
   ]
  },
  {
   "cell_type": "code",
   "execution_count": null,
   "metadata": {
    "collapsed": false
   },
   "outputs": [],
   "source": [
    "#all_tica = compat_verboseload(projected_features_dir)\n",
    "#all_tica = [x[:,range(1,10)] for x in all_tica]\n",
    "#print(all_tica[0].shape)\n",
    "#print(len(all_tica))\n",
    "#verbosedump(all_tica, projected_features_dir)\n"
   ]
  },
  {
   "cell_type": "code",
   "execution_count": null,
   "metadata": {
    "collapsed": false
   },
   "outputs": [],
   "source": [
    "#n_components=9"
   ]
  },
  {
   "cell_type": "code",
   "execution_count": 14,
   "metadata": {
    "collapsed": false,
    "scrolled": true
   },
   "outputs": [
    {
     "data": {
      "text/plain": [
       "array([ 1280.48740679,  1041.50879789,   673.36663116,   568.64202807,\n",
       "         536.56037043,   330.10680758,   326.58160159,   317.34294955,\n",
       "         315.51455385,   263.50453577])"
      ]
     },
     "execution_count": 14,
     "metadata": {},
     "output_type": "execute_result"
    }
   ],
   "source": [
    "tica_object.timescales_"
   ]
  },
  {
   "cell_type": "code",
   "execution_count": null,
   "metadata": {
    "collapsed": false
   },
   "outputs": [],
   "source": [
    "plot_columns(tica_dir, projected_features_dir, titles = [\"tIC%d\" %j for j in range(1,11)], tICA = True, scale = 1.0, refcoords_file = None)"
   ]
  },
  {
   "cell_type": "code",
   "execution_count": null,
   "metadata": {
    "collapsed": false
   },
   "outputs": [],
   "source": [
    "feature_indices = []\n",
    "traj_basenames = get_trajectory_files(traj_dir, \".h5\")\n",
    "traj_basenames = [os.path.splitext(os.path.basename(t))[0] for t in traj_basenames]\n",
    "feature_basenames = get_trajectory_files(features_dir, \".dataset\")\n",
    "feature_basenames = [os.path.splitext(os.path.basename(t))[0] for t in feature_basenames]\n",
    "for i, traj_basename in enumerate(traj_basenames):\n",
    "    if traj_basename in feature_basenames:\n",
    "        feature_indices.append(int(i))"
   ]
  },
  {
   "cell_type": "code",
   "execution_count": null,
   "metadata": {
    "collapsed": false
   },
   "outputs": [],
   "source": [
    "tica_coords = compat_verboseload(projected_features_dir)\n",
    "pnas_coords = compat_verboseload(user_defined_features_file)\n",
    "pnas_coords = [pnas_coords[i] for i in feature_indices]\n",
    "tica_names = [\"tIC.%d\" %i for i in range(1,n_components+1)]\n",
    "pnas_names = sorted(feature_name_residues_dict.keys())"
   ]
  },
  {
   "cell_type": "code",
   "execution_count": null,
   "metadata": {
    "collapsed": false
   },
   "outputs": [],
   "source": [
    "print(np.concatenate(tica_coords).shape)\n",
    "print(np.concatenate(pnas_coords).shape)"
   ]
  },
  {
   "cell_type": "code",
   "execution_count": null,
   "metadata": {
    "collapsed": true
   },
   "outputs": [],
   "source": []
  },
  {
   "cell_type": "code",
   "execution_count": null,
   "metadata": {
    "collapsed": false
   },
   "outputs": [],
   "source": [
    "from plots import *"
   ]
  },
  {
   "cell_type": "code",
   "execution_count": null,
   "metadata": {
    "collapsed": false
   },
   "outputs": [],
   "source": [
    "plot_data_vs_data(np.concatenate(tica_coords), np.concatenate(pnas_coords), tica_names, pnas_names, analysis_dir)"
   ]
  },
  {
   "cell_type": "code",
   "execution_count": null,
   "metadata": {
    "collapsed": true
   },
   "outputs": [],
   "source": [
    "subsampled_features_dir = os.path.join(tica_dir, \"subsampled_features\")\n",
    "if not os.path.exists(subsampled_features_dir): os.makedirs(subsampled_features_dir)"
   ]
  },
  {
   "cell_type": "code",
   "execution_count": null,
   "metadata": {
    "collapsed": false
   },
   "outputs": [],
   "source": [
    "feature_names = compat_verboseload(feature_residues_pkl)"
   ]
  },
  {
   "cell_type": "code",
   "execution_count": null,
   "metadata": {
    "collapsed": false
   },
   "outputs": [],
   "source": [
    "ref_features = [load_file(f) for f in get_trajectory_files(ref_features_dir, \".dataset\")]\n",
    "print(len(ref_features))\n",
    "print(ref_features[0].shape)\n",
    "print(ref_features[1].shape)\n",
    "print(len(feature_names))\n",
    "ref_features = pd.DataFrame(ref_features[0], columns=[str(f) for f in feature_names])"
   ]
  },
  {
   "cell_type": "code",
   "execution_count": 15,
   "metadata": {
    "collapsed": false,
    "scrolled": true
   },
   "outputs": [
    {
     "name": "stdout",
     "output_type": "stream",
     "text": [
      "Interpreting tIC 1\n",
      "feature_importances_df.shape\n",
      "(7, 5)\n",
      "residue_importances_df.shape\n",
      "(9, 2)\n",
      "             feature_name      res_i      res_j  importance  \\\n",
      "6  Asn230_Ca To Ala304_Ca  Asn230_Ca  Ala304_Ca    0.532033   \n",
      "2  Trp318_Ca To Ile308_Ca  Trp318_Ca  Ile308_Ca   -0.345481   \n",
      "3  Tyr299_Ca To Ile308_Ca  Tyr299_Ca  Ile308_Ca    0.343473   \n",
      "4  Tyr299_Ca To Ala304_Ca  Tyr299_Ca  Ala304_Ca   -0.314400   \n",
      "1  Trp318_Ca To Lys303_Ca  Trp318_Ca  Lys303_Ca    0.202939   \n",
      "5  Lys303_Ca To Lys233_Ca  Lys303_Ca  Lys233_Ca   -0.172400   \n",
      "0        Leu305 To Val300     Leu305     Val300    0.119846   \n",
      "\n",
      "                  feature  \n",
      "6  ASN230_CA to ALA304_CA  \n",
      "2  TRP318_CA to ILE308_CA  \n",
      "3  TYR299_CA to ILE308_CA  \n",
      "4  TYR299_CA to ALA304_CA  \n",
      "1  TRP318_CA to LYS303_CA  \n",
      "5  LYS303_CA to LYS233_CA  \n",
      "0        LEU305 to VAL300  \n",
      "Using dark_background\n",
      "             residue  importance\n",
      "Asn230_Ca  Asn230_Ca    0.532033\n",
      "Ala304_Ca  Ala304_Ca    0.489711\n",
      "Tyr299_Ca  Tyr299_Ca    0.310579\n",
      "Ile308_Ca  Ile308_Ca    0.309025\n",
      "Lys303_Ca  Lys303_Ca    0.184172\n",
      "Trp318_Ca  Trp318_Ca    0.175518\n",
      "Lys233_Ca  Lys233_Ca   -0.172400\n",
      "Val300        Val300    0.119846\n",
      "Leu305        Leu305    0.119846\n",
      "Using dark_background\n",
      "Interpreting tIC 2\n",
      "feature_importances_df.shape\n",
      "(4, 5)\n",
      "residue_importances_df.shape\n",
      "(7, 2)\n",
      "             feature_name      res_i      res_j  importance  \\\n",
      "0         Leu88 To Phe338      Leu88     Phe338    0.427943   \n",
      "1         Phe84 To Phe338      Phe84     Phe338    0.306028   \n",
      "2  Val334_Ca To Leu339_Ca  Val334_Ca  Leu339_Ca    0.198025   \n",
      "3  Asn328_Ca To Ile155_Ca  Asn328_Ca  Ile155_Ca    0.149127   \n",
      "\n",
      "                  feature  \n",
      "0         LEU88 to PHE338  \n",
      "1         PHE84 to PHE338  \n",
      "2  VAL334_CA to LEU339_CA  \n",
      "3  ASN328_CA to ILE155_CA  \n",
      "Using dark_background\n",
      "             residue  importance\n",
      "Leu88          Leu88    0.427943\n",
      "Phe338        Phe338    0.421847\n",
      "Phe84          Phe84    0.306028\n",
      "Leu339_Ca  Leu339_Ca    0.198025\n",
      "Val334_Ca  Val334_Ca    0.198025\n",
      "Ile155_Ca  Ile155_Ca    0.149127\n",
      "Asn328_Ca  Asn328_Ca    0.149127\n",
      "Using dark_background\n",
      "Interpreting tIC 3\n",
      "feature_importances_df.shape\n",
      "(9, 5)\n",
      "residue_importances_df.shape\n",
      "(17, 2)\n",
      "             feature_name      res_i      res_j  importance  \\\n",
      "3  Glu229_Ca To Ala304_Ca  Glu229_Ca  Ala304_Ca   -0.475408   \n",
      "0        Asn230 To Ala304     Asn230     Ala304    0.473783   \n",
      "1        Val300 To Lys233     Val300     Lys233    0.413383   \n",
      "5  Lys303_Ca To Lys233_Ca  Lys303_Ca  Lys233_Ca    0.390766   \n",
      "6  Val236_Ca To Val300_Ca  Val236_Ca  Val300_Ca   -0.339783   \n",
      "2  Phe237_Ca To Leu232_Ca  Phe237_Ca  Leu232_Ca   -0.230407   \n",
      "4  Tyr299_Ca To Ala304_Ca  Tyr299_Ca  Ala304_Ca    0.189217   \n",
      "8  Arg280_Ca To Phe338_Ca  Arg280_Ca  Phe338_Ca   -0.150052   \n",
      "7  Tyr336_Ca To Val285_Ca  Tyr336_Ca  Val285_Ca    0.113748   \n",
      "\n",
      "                  feature  \n",
      "3  GLU229_CA to ALA304_CA  \n",
      "0        ASN230 to ALA304  \n",
      "1        VAL300 to LYS233  \n",
      "5  LYS303_CA to LYS233_CA  \n",
      "6  VAL236_CA to VAL300_CA  \n",
      "2  PHE237_CA to LEU232_CA  \n",
      "4  TYR299_CA to ALA304_CA  \n",
      "8  ARG280_CA to PHE338_CA  \n",
      "7  TYR336_CA to VAL285_CA  \n",
      "Using dark_background\n",
      "             residue  importance\n",
      "Glu229_Ca  Glu229_Ca   -0.475408\n",
      "Asn230        Asn230    0.473783\n",
      "Ala304        Ala304    0.473783\n",
      "Val300        Val300    0.413383\n",
      "Lys233        Lys233    0.413383\n",
      "Lys233_Ca  Lys233_Ca    0.390766\n",
      "Lys303_Ca  Lys303_Ca    0.390766\n",
      "Val300_Ca  Val300_Ca   -0.339783\n",
      "Val236_Ca  Val236_Ca   -0.339783\n",
      "Leu232_Ca  Leu232_Ca   -0.230407\n",
      "Phe237_Ca  Phe237_Ca   -0.230407\n",
      "Tyr299_Ca  Tyr299_Ca    0.189217\n",
      "Ala304_Ca  Ala304_Ca    0.155985\n",
      "Arg280_Ca  Arg280_Ca   -0.150052\n",
      "Phe338_Ca  Phe338_Ca   -0.150052\n",
      "Tyr336_Ca  Tyr336_Ca    0.113748\n",
      "Val285_Ca  Val285_Ca    0.113748\n",
      "Using dark_background\n",
      "Interpreting tIC 4\n",
      "feature_importances_df.shape\n",
      "(15, 5)\n",
      "residue_importances_df.shape\n",
      "(23, 2)\n",
      "              feature_name      res_i      res_j  importance  \\\n",
      "14  Tyr336_Ca To Val286_Ca  Tyr336_Ca  Val286_Ca    1.098912   \n",
      "4   Tyr336_Ca To Val285_Ca  Tyr336_Ca  Val285_Ca   -0.811507   \n",
      "6   Val285_Ca To Leu158_Ca  Val285_Ca  Leu158_Ca    0.744235   \n",
      "7   Val286_Ca To Tyr252_Ca  Val286_Ca  Tyr252_Ca    0.515450   \n",
      "8   Val286_Ca To Leu158_Ca  Val286_Ca  Leu158_Ca   -0.494385   \n",
      "9   Tyr252_Ca To Ala287_Ca  Tyr252_Ca  Ala287_Ca   -0.400101   \n",
      "5   Tyr336_Ca To Met161_Ca  Tyr336_Ca  Met161_Ca   -0.286572   \n",
      "13  Val284_Ca To Thr279_Ca  Val284_Ca  Thr279_Ca   -0.253946   \n",
      "11  Ile155_Ca To Ile290_Ca  Ile155_Ca  Ile290_Ca   -0.231545   \n",
      "10  Ile278_Ca To Leu283_Ca  Ile278_Ca  Leu283_Ca   -0.187870   \n",
      "0         Tyr336 To Asp114     Tyr336     Asp114    0.156560   \n",
      "3    His319_Ca To Thr67_Ca  His319_Ca   Thr67_Ca    0.156018   \n",
      "1         Val285 To Arg280     Val285     Arg280    0.149866   \n",
      "12  Arg280_Ca To Phe338_Ca  Arg280_Ca  Phe338_Ca    0.128024   \n",
      "2   Glu229_Ca To Leu219_Ca  Glu229_Ca  Leu219_Ca    0.102231   \n",
      "\n",
      "                   feature  \n",
      "14  TYR336_CA to VAL286_CA  \n",
      "4   TYR336_CA to VAL285_CA  \n",
      "6   VAL285_CA to LEU158_CA  \n",
      "7   VAL286_CA to TYR252_CA  \n",
      "8   VAL286_CA to LEU158_CA  \n",
      "9   TYR252_CA to ALA287_CA  \n",
      "5   TYR336_CA to MET161_CA  \n",
      "13  VAL284_CA to THR279_CA  \n",
      "11  ILE155_CA to ILE290_CA  \n",
      "10  ILE278_CA to LEU283_CA  \n",
      "0         TYR336 to ASP114  \n",
      "3    HIS319_CA to THR67_CA  \n",
      "1         VAL285 to ARG280  \n",
      "12  ARG280_CA to PHE338_CA  \n",
      "2   GLU229_CA to LEU219_CA  \n",
      "Using dark_background\n",
      "             residue  importance\n",
      "Val286_Ca  Val286_Ca    1.040566\n",
      "Tyr336_Ca  Tyr336_Ca    0.960364\n",
      "Leu158_Ca  Leu158_Ca    0.682304\n",
      "Val285_Ca  Val285_Ca    0.666448\n",
      "Tyr252_Ca  Tyr252_Ca    0.469672\n",
      "Ala287_Ca  Ala287_Ca   -0.400101\n",
      "Met161_Ca  Met161_Ca   -0.286572\n",
      "Val284_Ca  Val284_Ca   -0.253946\n",
      "Thr279_Ca  Thr279_Ca   -0.253946\n",
      "Ile155_Ca  Ile155_Ca   -0.231545\n",
      "Ile290_Ca  Ile290_Ca   -0.231545\n",
      "Ile278_Ca  Ile278_Ca   -0.187870\n",
      "Leu283_Ca  Leu283_Ca   -0.187870\n",
      "Asp114        Asp114    0.156560\n",
      "Tyr336        Tyr336    0.156560\n",
      "Thr67_Ca    Thr67_Ca    0.156018\n",
      "His319_Ca  His319_Ca    0.156018\n",
      "Arg280        Arg280    0.149866\n",
      "Val285        Val285    0.149866\n",
      "Arg280_Ca  Arg280_Ca    0.128024\n",
      "Phe338_Ca  Phe338_Ca    0.128024\n",
      "Leu219_Ca  Leu219_Ca    0.102231\n",
      "Glu229_Ca  Glu229_Ca    0.102231\n",
      "Using dark_background\n",
      "Interpreting tIC 5\n",
      "feature_importances_df.shape\n",
      "(9, 5)\n",
      "residue_importances_df.shape\n",
      "(17, 2)\n",
      "             feature_name      res_i      res_j  importance  \\\n",
      "8  Tyr336_Ca To Ile248_Ca  Tyr336_Ca  Ile248_Ca    0.400464   \n",
      "0         Ile71 To Tyr128      Ile71     Tyr128   -0.240026   \n",
      "2   His319_Ca To Tyr75_Ca  His319_Ca   Tyr75_Ca    0.233968   \n",
      "5   Phe320_Ca To Ile71_Ca  Phe320_Ca   Ile71_Ca    0.209162   \n",
      "4  Glu341_Ca To Arg280_Ca  Glu341_Ca  Arg280_Ca   -0.208591   \n",
      "3   Val81_Ca To Ser329_Ca   Val81_Ca  Ser329_Ca   -0.196771   \n",
      "7  Tyr326_Ca To Ser119_Ca  Tyr326_Ca  Ser119_Ca   -0.159282   \n",
      "1         Tyr326 To Gly82     Tyr326      Gly82    0.142487   \n",
      "6  Ser329_Ca To Ala117_Ca  Ser329_Ca  Ala117_Ca   -0.122567   \n",
      "\n",
      "                  feature  \n",
      "8  TYR336_CA to ILE248_CA  \n",
      "0         ILE71 to TYR128  \n",
      "2   HIS319_CA to TYR75_CA  \n",
      "5   PHE320_CA to ILE71_CA  \n",
      "4  GLU341_CA to ARG280_CA  \n",
      "3   VAL81_CA to SER329_CA  \n",
      "7  TYR326_CA to SER119_CA  \n",
      "1         TYR326 to GLY82  \n",
      "6  SER329_CA to ALA117_CA  \n",
      "Using dark_background\n",
      "             residue  importance\n",
      "Ile248_Ca  Ile248_Ca    0.400464\n",
      "Tyr336_Ca  Tyr336_Ca    0.400464\n",
      "Tyr128        Tyr128   -0.240026\n",
      "Ile71          Ile71   -0.240026\n",
      "Tyr75_Ca    Tyr75_Ca    0.233968\n",
      "His319_Ca  His319_Ca    0.233968\n",
      "Ile71_Ca    Ile71_Ca    0.209162\n",
      "Phe320_Ca  Phe320_Ca    0.209162\n",
      "Arg280_Ca  Arg280_Ca   -0.208591\n",
      "Glu341_Ca  Glu341_Ca   -0.208591\n",
      "Val81_Ca    Val81_Ca   -0.196771\n",
      "Tyr326_Ca  Tyr326_Ca   -0.159282\n",
      "Ser119_Ca  Ser119_Ca   -0.159282\n",
      "Gly82          Gly82    0.142487\n",
      "Tyr326        Tyr326    0.142487\n",
      "Ser329_Ca  Ser329_Ca   -0.126278\n",
      "Ala117_Ca  Ala117_Ca   -0.122567\n",
      "Using dark_background\n",
      "Interpreting tIC 6\n",
      "feature_importances_df.shape\n",
      "(10, 5)\n",
      "residue_importances_df.shape\n",
      "(19, 2)\n",
      "             feature_name      res_i      res_j  importance  \\\n",
      "5  Asp340_Ca To Ile278_Ca  Asp340_Ca  Ile278_Ca    0.709516   \n",
      "4  Asp340_Ca To Arg277_Ca  Asp340_Ca  Arg277_Ca   -0.618935   \n",
      "1         Ala68 To Tyr128      Ala68     Tyr128    0.449038   \n",
      "6  Glu341_Ca To Arg280_Ca  Glu341_Ca  Arg280_Ca   -0.319174   \n",
      "2        Thr208 To Phe135     Thr208     Phe135    0.276688   \n",
      "8  Asp114_Ca To Pro333_Ca  Asp114_Ca  Pro333_Ca    0.229197   \n",
      "0        Phe289 To Leu335     Phe289     Leu335    0.209872   \n",
      "3  Val236_Ca To Leu231_Ca  Val236_Ca  Leu231_Ca   -0.203681   \n",
      "7  Arg165_Ca To Thr279_Ca  Arg165_Ca  Thr279_Ca    0.188714   \n",
      "9  Tyr148_Ca To Lys233_Ca  Tyr148_Ca  Lys233_Ca   -0.171751   \n",
      "\n",
      "                  feature  \n",
      "5  ASP340_CA to ILE278_CA  \n",
      "4  ASP340_CA to ARG277_CA  \n",
      "1         ALA68 to TYR128  \n",
      "6  GLU341_CA to ARG280_CA  \n",
      "2        THR208 to PHE135  \n",
      "8  ASP114_CA to PRO333_CA  \n",
      "0        PHE289 to LEU335  \n",
      "3  VAL236_CA to LEU231_CA  \n",
      "7  ARG165_CA to THR279_CA  \n",
      "9  TYR148_CA to LYS233_CA  \n",
      "Using dark_background\n",
      "             residue  importance\n",
      "Ile278_Ca  Ile278_Ca    0.709516\n",
      "Asp340_Ca  Asp340_Ca    0.643093\n",
      "Arg277_Ca  Arg277_Ca   -0.618935\n",
      "Ala68          Ala68    0.449038\n",
      "Tyr128        Tyr128    0.449038\n",
      "Arg280_Ca  Arg280_Ca   -0.319174\n",
      "Glu341_Ca  Glu341_Ca   -0.319174\n",
      "Phe135        Phe135    0.276688\n",
      "Thr208        Thr208    0.276688\n",
      "Pro333_Ca  Pro333_Ca    0.229197\n",
      "Asp114_Ca  Asp114_Ca    0.229197\n",
      "Leu335        Leu335    0.209872\n",
      "Phe289        Phe289    0.209872\n",
      "Val236_Ca  Val236_Ca   -0.203681\n",
      "Leu231_Ca  Leu231_Ca   -0.203681\n",
      "Arg165_Ca  Arg165_Ca    0.188714\n",
      "Thr279_Ca  Thr279_Ca    0.188714\n",
      "Tyr148_Ca  Tyr148_Ca   -0.171751\n",
      "Lys233_Ca  Lys233_Ca   -0.171751\n",
      "Using dark_background\n",
      "Interpreting tIC 7\n",
      "feature_importances_df.shape\n",
      "(8, 5)\n",
      "residue_importances_df.shape\n",
      "(14, 2)\n",
      "             feature_name      res_i      res_j  importance  \\\n",
      "4        Tyr326 To Tyr128     Tyr326     Tyr128    1.079906   \n",
      "6  Tyr326_Ca To Tyr128_Ca  Tyr326_Ca  Tyr128_Ca   -0.373403   \n",
      "5  Leu339_Ca To Val282_Ca  Leu339_Ca  Val282_Ca    0.277121   \n",
      "7   His319_Ca To Leu74_Ca  His319_Ca   Leu74_Ca    0.270036   \n",
      "0        Trp293 To Ala240     Trp293     Ala240    0.269172   \n",
      "2        Tyr326 To Asp147     Tyr326     Asp147    0.239802   \n",
      "3        Tyr326 To Ala117     Tyr326     Ala117    0.149737   \n",
      "1        His297 To Ile155     His297     Ile155    0.142279   \n",
      "\n",
      "                  feature  \n",
      "4        TYR326 to TYR128  \n",
      "6  TYR326_CA to TYR128_CA  \n",
      "5  LEU339_CA to VAL282_CA  \n",
      "7   HIS319_CA to LEU74_CA  \n",
      "0        TRP293 to ALA240  \n",
      "2        TYR326 to ASP147  \n",
      "3        TYR326 to ALA117  \n",
      "1        HIS297 to ILE155  \n",
      "Using dark_background\n",
      "             residue  importance\n",
      "Tyr128        Tyr128    1.079906\n",
      "Tyr326        Tyr326    0.995896\n",
      "Tyr128_Ca  Tyr128_Ca   -0.373403\n",
      "Tyr326_Ca  Tyr326_Ca   -0.373403\n",
      "Val282_Ca  Val282_Ca    0.277121\n",
      "Leu339_Ca  Leu339_Ca    0.277121\n",
      "Leu74_Ca    Leu74_Ca    0.270036\n",
      "His319_Ca  His319_Ca    0.270036\n",
      "Ala240        Ala240    0.269172\n",
      "Trp293        Trp293    0.269172\n",
      "Asp147        Asp147    0.239802\n",
      "Ala117        Ala117    0.149737\n",
      "Ile155        Ile155    0.142279\n",
      "His297        His297    0.142279\n",
      "Using dark_background\n",
      "Interpreting tIC 8\n",
      "feature_importances_df.shape\n",
      "(12, 5)\n",
      "residue_importances_df.shape\n",
      "(22, 2)\n",
      "              feature_name      res_i      res_j  importance  \\\n",
      "0         Ser317 To Thr312     Ser317     Thr312    0.426503   \n",
      "11   Thr312_Ca To Ile71_Ca  Thr312_Ca   Ile71_Ca    0.309966   \n",
      "9   Arg165_Ca To Thr279_Ca  Arg165_Ca  Thr279_Ca   -0.248926   \n",
      "5   Met281_Ca To Met161_Ca  Met281_Ca  Met161_Ca    0.221905   \n",
      "7    Ser329_Ca To Asn86_Ca  Ser329_Ca   Asn86_Ca   -0.201991   \n",
      "3   Met151_Ca To Ile146_Ca  Met151_Ca  Ile146_Ca   -0.173514   \n",
      "10  Val284_Ca To Thr279_Ca  Val284_Ca  Thr279_Ca    0.170603   \n",
      "8   Asp216_Ca To Lys209_Ca  Asp216_Ca  Lys209_Ca    0.167257   \n",
      "1   Ser145_Ca To Asn150_Ca  Ser145_Ca  Asn150_Ca   -0.164169   \n",
      "2   Thr207_Ca To Cys217_Ca  Thr207_Ca  Cys217_Ca    0.156524   \n",
      "6    Ser125_Ca To Ile71_Ca  Ser125_Ca   Ile71_Ca    0.121923   \n",
      "4   Thr208_Ca To Thr218_Ca  Thr208_Ca  Thr218_Ca    0.089403   \n",
      "\n",
      "                   feature  \n",
      "0         SER317 to THR312  \n",
      "11   THR312_CA to ILE71_CA  \n",
      "9   ARG165_CA to THR279_CA  \n",
      "5   MET281_CA to MET161_CA  \n",
      "7    SER329_CA to ASN86_CA  \n",
      "3   MET151_CA to ILE146_CA  \n",
      "10  VAL284_CA to THR279_CA  \n",
      "8   ASP216_CA to LYS209_CA  \n",
      "1   SER145_CA to ASN150_CA  \n",
      "2   THR207_CA to CYS217_CA  \n",
      "6    SER125_CA to ILE71_CA  \n",
      "4   THR208_CA to THR218_CA  \n",
      "Using dark_background\n",
      "             residue  importance\n",
      "Ser317        Ser317    0.426503\n",
      "Thr312        Thr312    0.426503\n",
      "Thr312_Ca  Thr312_Ca    0.309966\n",
      "Ile71_Ca    Ile71_Ca    0.300564\n",
      "Arg165_Ca  Arg165_Ca   -0.248926\n",
      "Met161_Ca  Met161_Ca    0.221905\n",
      "Met281_Ca  Met281_Ca    0.221905\n",
      "Ser329_Ca  Ser329_Ca   -0.201991\n",
      "Asn86_Ca    Asn86_Ca   -0.201991\n",
      "Ile146_Ca  Ile146_Ca   -0.173514\n",
      "Met151_Ca  Met151_Ca   -0.173514\n",
      "Val284_Ca  Val284_Ca    0.170603\n",
      "Asp216_Ca  Asp216_Ca    0.167257\n",
      "Lys209_Ca  Lys209_Ca    0.167257\n",
      "Asn150_Ca  Asn150_Ca   -0.164169\n",
      "Ser145_Ca  Ser145_Ca   -0.164169\n",
      "Cys217_Ca  Cys217_Ca    0.156524\n",
      "Thr207_Ca  Thr207_Ca    0.156524\n",
      "Thr279_Ca  Thr279_Ca    0.149627\n",
      "Ser125_Ca  Ser125_Ca    0.121923\n",
      "Thr208_Ca  Thr208_Ca    0.089403\n",
      "Thr218_Ca  Thr218_Ca    0.089403\n",
      "Using dark_background\n",
      "Interpreting tIC 9\n",
      "feature_importances_df.shape\n",
      "(8, 5)\n",
      "residue_importances_df.shape\n",
      "(16, 2)\n",
      "             feature_name      res_i      res_j  importance  \\\n",
      "0         Tyr336 To Asn86     Tyr336      Asn86   -0.488015   \n",
      "3  Pro295_Ca To Phe289_Ca  Pro295_Ca  Phe289_Ca    0.430506   \n",
      "5  Trp293_Ca To Asn332_Ca  Trp293_Ca  Asn332_Ca    0.380914   \n",
      "1   Thr315_Ca To Thr67_Ca  Thr315_Ca   Thr67_Ca   -0.238214   \n",
      "2  Thr207_Ca To Gly136_Ca  Thr207_Ca  Gly136_Ca    0.159014   \n",
      "7   Val89_Ca To Ala337_Ca   Val89_Ca  Ala337_Ca    0.158724   \n",
      "4  Phe135_Ca To Pro122_Ca  Phe135_Ca  Pro122_Ca    0.153821   \n",
      "6  Leu275_Ca To Ile256_Ca  Leu275_Ca  Ile256_Ca   -0.137689   \n",
      "\n",
      "                  feature  \n",
      "0         TYR336 to ASN86  \n",
      "3  PRO295_CA to PHE289_CA  \n",
      "5  TRP293_CA to ASN332_CA  \n",
      "1   THR315_CA to THR67_CA  \n",
      "2  THR207_CA to GLY136_CA  \n",
      "7   VAL89_CA to ALA337_CA  \n",
      "4  PHE135_CA to PRO122_CA  \n",
      "6  LEU275_CA to ILE256_CA  \n",
      "Using dark_background\n",
      "             residue  importance\n",
      "Asn86          Asn86   -0.488015\n",
      "Tyr336        Tyr336   -0.488015\n",
      "Phe289_Ca  Phe289_Ca    0.430506\n",
      "Pro295_Ca  Pro295_Ca    0.430506\n",
      "Asn332_Ca  Asn332_Ca    0.380914\n",
      "Trp293_Ca  Trp293_Ca    0.380914\n",
      "Thr67_Ca    Thr67_Ca   -0.238214\n",
      "Thr315_Ca  Thr315_Ca   -0.238214\n",
      "Gly136_Ca  Gly136_Ca    0.159014\n",
      "Thr207_Ca  Thr207_Ca    0.159014\n",
      "Ala337_Ca  Ala337_Ca    0.158724\n",
      "Val89_Ca    Val89_Ca    0.158724\n",
      "Pro122_Ca  Pro122_Ca    0.153821\n",
      "Phe135_Ca  Phe135_Ca    0.153821\n",
      "Ile256_Ca  Ile256_Ca   -0.137689\n",
      "Leu275_Ca  Leu275_Ca   -0.137689\n",
      "Using dark_background\n",
      "Interpreting tIC 10\n",
      "feature_importances_df.shape\n",
      "(14, 5)\n",
      "residue_importances_df.shape\n",
      "(25, 2)\n",
      "              feature_name      res_i      res_j  importance  \\\n",
      "8   Val236_Ca To Ile301_Ca  Val236_Ca  Ile301_Ca   -0.837441   \n",
      "4   Phe237_Ca To Ile301_Ca  Phe237_Ca  Ile301_Ca    0.799553   \n",
      "7   Val236_Ca To Leu231_Ca  Val236_Ca  Leu231_Ca    0.536159   \n",
      "10  Asp340_Ca To Ile278_Ca  Asp340_Ca  Ile278_Ca    0.488878   \n",
      "1         Gln314 To Tyr299     Gln314     Tyr299    0.367109   \n",
      "9   Asp340_Ca To Arg277_Ca  Asp340_Ca  Arg277_Ca   -0.350663   \n",
      "11  Glu341_Ca To Arg280_Ca  Glu341_Ca  Arg280_Ca   -0.315298   \n",
      "3         Phe221 To Lys233     Phe221     Lys233    0.225424   \n",
      "12  Tyr336_Ca To Val286_Ca  Tyr336_Ca  Val286_Ca   -0.196601   \n",
      "5   Val288_Ca To Leu335_Ca  Val288_Ca  Leu335_Ca    0.157961   \n",
      "0         Trp293 To Ala240     Trp293     Ala240    0.145937   \n",
      "2         Phe289 To Asn150     Phe289     Asn150    0.135527   \n",
      "13  Met161_Ca To Ala337_Ca  Met161_Ca  Ala337_Ca   -0.130172   \n",
      "6   Met151_Ca To Ile146_Ca  Met151_Ca  Ile146_Ca   -0.124741   \n",
      "\n",
      "                   feature  \n",
      "8   VAL236_CA to ILE301_CA  \n",
      "4   PHE237_CA to ILE301_CA  \n",
      "7   VAL236_CA to LEU231_CA  \n",
      "10  ASP340_CA to ILE278_CA  \n",
      "1         GLN314 to TYR299  \n",
      "9   ASP340_CA to ARG277_CA  \n",
      "11  GLU341_CA to ARG280_CA  \n",
      "3         PHE221 to LYS233  \n",
      "12  TYR336_CA to VAL286_CA  \n",
      "5   VAL288_CA to LEU335_CA  \n",
      "0         TRP293 to ALA240  \n",
      "2         PHE289 to ASN150  \n",
      "13  MET161_CA to ALA337_CA  \n",
      "6   MET151_CA to ILE146_CA  \n",
      "Using dark_background\n",
      "             residue  importance\n",
      "Phe237_Ca  Phe237_Ca    0.799553\n",
      "Ile301_Ca  Ile301_Ca    0.717703\n",
      "Leu231_Ca  Leu231_Ca    0.536159\n",
      "Ile278_Ca  Ile278_Ca    0.488878\n",
      "Val236_Ca  Val236_Ca    0.467479\n",
      "Asp340_Ca  Asp340_Ca    0.446901\n",
      "Tyr299        Tyr299    0.367109\n",
      "Gln314        Gln314    0.367109\n",
      "Arg277_Ca  Arg277_Ca   -0.350663\n",
      "Glu341_Ca  Glu341_Ca   -0.315298\n",
      "Arg280_Ca  Arg280_Ca   -0.315298\n",
      "Lys233        Lys233    0.225424\n",
      "Phe221        Phe221    0.225424\n",
      "Tyr336_Ca  Tyr336_Ca   -0.196601\n",
      "Val286_Ca  Val286_Ca   -0.196601\n",
      "Leu335_Ca  Leu335_Ca    0.157961\n",
      "Val288_Ca  Val288_Ca    0.157961\n",
      "Trp293        Trp293    0.145937\n",
      "Ala240        Ala240    0.145937\n",
      "Asn150        Asn150    0.135527\n",
      "Phe289        Phe289    0.135527\n",
      "Ala337_Ca  Ala337_Ca   -0.130172\n",
      "Met161_Ca  Met161_Ca   -0.130172\n",
      "Ile146_Ca  Ile146_Ca   -0.124741\n",
      "Met151_Ca  Met151_Ca   -0.124741\n",
      "Using dark_background\n"
     ]
    },
    {
     "data": {
      "text/plain": [
       "<matplotlib.figure.Figure at 0x7f0412ba3780>"
      ]
     },
     "metadata": {},
     "output_type": "display_data"
    }
   ],
   "source": [
    "import interpret_tICs\n",
    "reload(interpret_tICs)\n",
    "from interpret_tICs import *\n",
    "tic_components_dir = tica_dir\n",
    "important_contact_features = interpret_tIC_components(projection_operator_dir, tic_components_dir, feature_residues_pkl, n_tica_components=n_components, percentile=95)\n"
   ]
  },
  {
   "cell_type": "code",
   "execution_count": null,
   "metadata": {
    "collapsed": false
   },
   "outputs": [],
   "source": [
    "import interpret_tICs\n",
    "reload(interpret_tICs)\n",
    "from interpret_tICs import *\n",
    "tic_subsampled_features_file = \"%s/features_subsampled.pkl\" % tica_dir\n",
    "subsampled_features_dir = os.path.join(tica_dir, \"subsampled_features\")\n",
    "if not os.path.exists(subsampled_features_dir): os.makedirs(subsampled_features_dir)\n",
    "important_contact_features_pruned, important_contact_features_indices = find_non_zero_features(important_contact_features[0], feature_names)\n",
    "subsample_features(features_dir, important_contact_features_indices, important_contact_features_pruned, tic_subsampled_features_file)"
   ]
  },
  {
   "cell_type": "code",
   "execution_count": null,
   "metadata": {
    "collapsed": false
   },
   "outputs": [],
   "source": [
    "protein_top_features = load_file(tic_subsampled_features_file)\n",
    "pd.concat(protein_top_features).shape"
   ]
  },
  {
   "cell_type": "code",
   "execution_count": null,
   "metadata": {
    "collapsed": false
   },
   "outputs": [],
   "source": [
    "from ipyparallel import Client\n",
    "rc = Client()\n",
    "dview = rc[:]\n",
    "dview.map(os.chdir, ['/home/enf/b2ar_analysis/conformation']*len(rc.ids))\n",
    "\n",
    "print(len(rc.ids))\n"
   ]
  },
  {
   "cell_type": "code",
   "execution_count": null,
   "metadata": {
    "collapsed": false
   },
   "outputs": [],
   "source": [
    "bu72_trajs = []\n",
    "apo_trajs = []\n",
    "oxy_trajs = []\n",
    "suf_trajs = []\n",
    "trv_trajs = []\n",
    "trajs = get_trajectory_files(features_dir, \".dataset\")\n",
    "#trajs = [t for t in get_trajectory_files(traj_dir, traj_ext) if \"apo_reimaged\" not in t and \"oxy\" not in t]\n",
    "for i, traj in enumerate(trajs):\n",
    "    if \"bu72\" in traj or \"CO\" in traj or \"Co\" in traj:\n",
    "        bu72_trajs.append(i)\n",
    "    elif \"apo\" in traj:\n",
    "        apo_trajs.append(i)\n",
    "    elif \"oxy\" in traj:\n",
    "        oxy_trajs.append(i)\n",
    "    elif \"suf\" in traj:\n",
    "        suf_trajs.append(i)\n",
    "    elif \"trv\" in traj:\n",
    "        trv_trajs.append(i)\n",
    "\n",
    "user_defined_coords = load_file(user_defined_features_file)\n",
    "\n",
    "            "
   ]
  },
  {
   "cell_type": "code",
   "execution_count": null,
   "metadata": {
    "collapsed": false
   },
   "outputs": [],
   "source": [
    "len(bu72_trajs)"
   ]
  },
  {
   "cell_type": "code",
   "execution_count": null,
   "metadata": {
    "collapsed": false,
    "scrolled": true
   },
   "outputs": [],
   "source": [
    "bu72_pnas = [user_defined_coords[i] for i in bu72_trajs]\n",
    "apo_pnas = [user_defined_coords[i] for i in apo_trajs]\n",
    "oxy_pnas = [user_defined_coords[i] for i in oxy_trajs]\n",
    "suf_pnas = [user_defined_coords[i] for i in suf_trajs]"
   ]
  },
  {
   "cell_type": "code",
   "execution_count": null,
   "metadata": {
    "collapsed": false
   },
   "outputs": [],
   "source": [
    "bu72_pnas_file = \"%s/bu72.h5\" % whole_trajectory_pnas\n",
    "apo_pnas_file = \"%s/apo.h5\" % whole_trajectory_pnas\n",
    "#oxy_pnas_file = \"%s/oxy.h5\" % whole_trajectory_pnas\n",
    "suf_pnas_file = \"%s/suf.h5\" % whole_trajectory_pnas"
   ]
  },
  {
   "cell_type": "code",
   "execution_count": null,
   "metadata": {
    "collapsed": false
   },
   "outputs": [],
   "source": [
    "from imp import reload\n",
    "import analysis\n",
    "reload(analysis)\n",
    "from analysis import *\n",
    "import seaborn as sns\n",
    "bu72_pnas_concatenated = np.concatenate(bu72_pnas)\n",
    "print(np.shape(bu72_pnas_concatenated))\n",
    "apo_pnas_concatenated = np.concatenate(apo_pnas)\n",
    "#oxy_pnas_concatenated = np.concatenate(oxy_pnas)\n",
    "suf_pnas_concatenated = np.concatenate(suf_pnas)\n",
    "\n",
    "\n",
    "\n",
    "\n",
    "verbosedump(bu72_pnas, bu72_pnas_file)\n",
    "verbosedump(apo_pnas, apo_pnas_file)\n",
    "#verbosedump(oxy_pnas, oxy_pnas_file)\n",
    "verbosedump(suf_pnas, suf_pnas_file)\n",
    "\n",
    "\n",
    "\n",
    "\n",
    "\n",
    "columns=sorted(feature_name_residues_dict.keys())\n",
    "#plot_columns(whole_trajectory_pnas, bu72_pnas_file, titles=columns, main = \"BU72\", tICA = False, scale = 1.0, refcoords_file = None)\n",
    "#plot_columns(whole_trajectory_pnas, apo_pnas_file, titles=columns, main = \"Apo\", tICA = False, scale = 1.0, refcoords_file = None)\n",
    "\n",
    "#df = pd.DataFrame(bu72_pnas_concatenated, columns=sorted(feature_name_residues_dict.keys()))\n",
    "#sns.jointplot(x=\"tm6_tm3_dist\", y=\"rmsd_npxxy_inactive\", data=df, kind=\"kde\")\n",
    "#plt.hexbin(bu72_pnas_concatenated[:,0], bu72_pnas_concatenated[:,2], cmap=plt.cm.YlOrRd_r)"
   ]
  },
  {
   "cell_type": "code",
   "execution_count": null,
   "metadata": {
    "collapsed": false
   },
   "outputs": [],
   "source": [
    "#oxy_tica_file = \"%s/oxy_tica.h5\" % tica_dir\n",
    "bu72_tica_file = \"%s/bu72_tica.h5\" % tica_dir\n",
    "apo_tica_file = \"%s/apo_tica.h5\" % tica_dir\n",
    "suf_tica_file = \"%s/suf_tica.h5\" % tica_dir"
   ]
  },
  {
   "cell_type": "code",
   "execution_count": null,
   "metadata": {
    "collapsed": false
   },
   "outputs": [],
   "source": [
    "tica_coords = compat_verboseload(projected_features_dir)\n",
    "#oxy_tica = [tica_coords[i] for i in oxy_trajs]\n",
    "bu72_tica = [tica_coords[i] for i in bu72_trajs]\n",
    "apo_tica = [tica_coords[i] for i in apo_trajs]\n",
    "suf_tica = [tica_coords[i] for i in suf_trajs]\n",
    "\n",
    "\n",
    "#verbosedump(oxy_tica, oxy_tica_file)\n",
    "verbosedump(bu72_tica, bu72_tica_file)\n",
    "verbosedump(apo_tica, apo_tica_file)\n",
    "verbosedump(suf_tica, suf_tica_file)\n",
    "\n",
    "\n",
    "\n",
    "columns = [\"tIC%d\" %i for i in range(1,n_components+1)]\n",
    "#plot_columns(tica_dir, bu72_tica_file, titles=columns, main = \"BU72\", tICA = False, scale = 1.0, refcoords_file = None)\n",
    "#plot_columns(tica_dir, apo_tica_file, titles=columns, main = \"Apo\", tICA = False, scale = 1.0, refcoords_file = None)\n",
    "\n",
    "\n"
   ]
  },
  {
   "cell_type": "code",
   "execution_count": null,
   "metadata": {
    "collapsed": false
   },
   "outputs": [],
   "source": [
    "#print(np.concatenate(oxy_tica).shape)\n",
    "print(np.concatenate(apo_tica).shape)\n",
    "print(np.concatenate(bu72_tica).shape)\n",
    "print(np.concatenate(suf_tica).shape)\n"
   ]
  },
  {
   "cell_type": "code",
   "execution_count": null,
   "metadata": {
    "collapsed": false
   },
   "outputs": [],
   "source": [
    "import custom_clusterer\n",
    "reload(custom_clusterer)\n",
    "from custom_clusterer import *\n",
    "n_clusters = 1500\n",
    "clusterer_dir = \"%s/clusterer_%dclusters.h5\" %(tica_dir, n_clusters)\n",
    "if not os.path.exists(clusterer_dir):\n",
    "    cluster_minikmeans(tica_dir, projected_features_dir, traj_dir, n_clusters=n_clusters, clusterer_dir=clusterer_dir)"
   ]
  },
  {
   "cell_type": "code",
   "execution_count": null,
   "metadata": {
    "collapsed": false
   },
   "outputs": [],
   "source": [
    "print(clusterer_dir)"
   ]
  },
  {
   "cell_type": "code",
   "execution_count": null,
   "metadata": {
    "collapsed": false
   },
   "outputs": [],
   "source": [
    "oxy_clusterer_file = \"%s/oxy_clusterer%d.h5\" %(tica_dir, n_clusters)\n",
    "bu72_clusterer_file = \"%s/bu72_clusterer%d.h5\" %(tica_dir, n_clusters)\n",
    "apo_clusterer_file = \"%s/apo_clusterer%d.h5\" %(tica_dir, n_clusters)\n",
    "suf_clusterer_file = \"%s/suf_clusterer%d.h5\" %(tica_dir, n_clusters)\n",
    "\n"
   ]
  },
  {
   "cell_type": "code",
   "execution_count": null,
   "metadata": {
    "collapsed": false
   },
   "outputs": [],
   "source": [
    "clusterer = compat_verboseload(clusterer_dir)\n",
    "cluster_labels = clusterer.labels_\n",
    "#oxy_clusters = [cluster_labels[i] for i in oxy_trajs]\n",
    "bu72_clusters = [cluster_labels[i] for i in bu72_trajs]\n",
    "apo_clusters = [cluster_labels[i] for i in apo_trajs]\n",
    "suf_clusters = [cluster_labels[i] for i in suf_trajs]\n",
    "\n",
    "\n",
    "\n",
    "bu72_clusterer = copy.deepcopy(clusterer)\n",
    "bu72_clusterer.labels_ = bu72_clusters\n",
    "#if not os.path.exists(bu72_clusterer_file):\n",
    "verbosedump(bu72_clusterer, bu72_clusterer_file)\n",
    "\n",
    "apo_clusterer = copy.deepcopy(clusterer)\n",
    "apo_clusterer.labels_ = apo_clusters\n",
    "    \n",
    "#if not os.path.exists(apo_clusterer_file):\n",
    "verbosedump(apo_clusterer, apo_clusterer_file)\n",
    "\n",
    "#oxy_clusterer = copy.deepcopy(clusterer)\n",
    "#oxy_clusterer.labels_ = oxy_clusters\n",
    "    \n",
    "#if not os.path.exists(oxy_clusterer_file):\n",
    "#verbosedump(oxy_clusterer, oxy_clusterer_file)\n",
    "\n",
    "suf_clusterer = copy.deepcopy(clusterer)\n",
    "suf_clusterer.labels_ = suf_clusters\n",
    "    \n",
    "#if not os.path.exists(oxy_clusterer_file):\n",
    "verbosedump(suf_clusterer, suf_clusterer_file)"
   ]
  },
  {
   "cell_type": "code",
   "execution_count": null,
   "metadata": {
    "collapsed": true
   },
   "outputs": [],
   "source": [
    "cluster_tica_averages = calculate_cluster_averages_per_feature(bu72_clusterer, bu72_tica)\n",
    "cluster_tica_averages = pd.DataFrame(cluster_tica_averages, columns=[\"tIC.%d\" %i for i in range(1, n_components+1)])\n",
    "\n"
   ]
  },
  {
   "cell_type": "code",
   "execution_count": null,
   "metadata": {
    "collapsed": false
   },
   "outputs": [],
   "source": [
    "intermediate_actives = cluster_tica_averages.loc[(cluster_tica_averages[\"tIC.2\"] > 0.7) & (cluster_tica_averages[\"tIC.2\"] < 1.2) & (cluster_tica_averages[\"tIC.5\"] > 0.) & (cluster_tica_averages[\"tIC.2\"] < 0.8)]\n",
    "intermediate_actives"
   ]
  },
  {
   "cell_type": "code",
   "execution_count": null,
   "metadata": {
    "collapsed": true
   },
   "outputs": [],
   "source": [
    "import custom_msm\n",
    "reload(custom_msm)\n",
    "from custom_msm import *\n",
    "from msm_resampled import *"
   ]
  },
  {
   "cell_type": "code",
   "execution_count": null,
   "metadata": {
    "collapsed": false
   },
   "outputs": [],
   "source": [
    "apo_clusters_map = make_clusters_map(apo_clusterer)\n",
    "bu72_clusters_map = make_clusters_map(bu72_clusterer)\n",
    "#oxy_clusters_map = make_clusters_map(oxy_clusterer)\n",
    "suf_clusters_map = make_clusters_map(suf_clusterer)"
   ]
  },
  {
   "cell_type": "code",
   "execution_count": null,
   "metadata": {
    "collapsed": false,
    "scrolled": true
   },
   "outputs": [],
   "source": [
    "\n",
    "plt.clf()\n",
    "plot_timescales(apo_clusterer_file, n_clusters, tica_dir, main=\"Apo MSM Timescales\", lag_times=list(range(1,51,10)))"
   ]
  },
  {
   "cell_type": "code",
   "execution_count": null,
   "metadata": {
    "collapsed": false
   },
   "outputs": [],
   "source": [
    "plt.clf()\n",
    "plot_timescales(bu72_clusterer_file, n_clusters, tica_dir, main=\"BU72 MSM Timescales\", lag_times=list(range(1,51,10)))"
   ]
  },
  {
   "cell_type": "code",
   "execution_count": null,
   "metadata": {
    "collapsed": false
   },
   "outputs": [],
   "source": [
    "plt.clf()\n",
    "plot_timescales(suf_clusterer_file, n_clusters, tica_dir, main=\"SUF MSM Timescales\", lag_times=list(range(1,101,20)))"
   ]
  },
  {
   "cell_type": "code",
   "execution_count": null,
   "metadata": {
    "collapsed": false,
    "scrolled": true
   },
   "outputs": [],
   "source": [
    "apo_lag_time=25\n",
    "prior_counts = 0.0\n",
    "apo_msm_dir = os.path.join(tica_dir, \"apo_msm_lag-time%d_prior-counts%s_clusters%d.h5\" %(apo_lag_time, str(prior_counts), n_clusters))\n",
    "if not os.path.exists(apo_msm_dir):\n",
    "    apo_msm = build_msm(apo_clusterer_file, apo_lag_time, apo_msm_dir, prior_counts)\n",
    "else:\n",
    "    apo_msm = compat_verboseload(apo_msm_dir)\n",
    "\n",
    "import msm_resampled\n",
    "reload(msm_resampled)\n",
    "from msm_resampled import *\n",
    "total_samples = 20000\n",
    "num_trajs = len(apo_trajs)\n",
    "prior_counts = 0.\n",
    "apo_resampled_traj_to_frames_file = os.path.join(tica_dir, \"apo_msm_lag-time%d_prior-counts%s_clusters%d_resampled_%d.h5\" %(apo_lag_time, str(prior_counts), n_clusters, total_samples))\n",
    "#if not os.path.exists(apo_resampled_traj_to_frames_file):\n",
    "apo_resampled_traj_to_frames = resample_by_msm(total_samples, apo_msm, apo_clusters_map, num_trajs, apo_resampled_traj_to_frames_file)\n",
    "#else:\n",
    "apo_resampled_traj_to_frames = compat_verboseload(apo_resampled_traj_to_frames_file)\n",
    "\n",
    "apo_pnas = compat_verboseload(apo_pnas_file)\n",
    "apo_pnas_resampled_file = os.path.join(tica_dir, \"apo_pnas_msm_lag-time%d_prior-counts%s_clusters%d_resampled_%d.h5\" %(apo_lag_time, str(prior_counts), n_clusters, total_samples))\n",
    "resample_features_by_msm_equilibirum_pop(apo_pnas, apo_resampled_traj_to_frames, apo_pnas_resampled_file)\n",
    "apo_pnas_resampled = compat_verboseload(apo_pnas_resampled_file)\n",
    "\n",
    "tica_concatenated = np.concatenate(compat_verboseload(projected_features_dir))\n",
    "tica_axes = [(np.min(tica_concatenated[:,i]), np.max(tica_concatenated[:,i])) for i in range(0, np.shape(tica_concatenated)[1])]\n",
    "\n",
    "apo_tica = compat_verboseload(apo_tica_file)\n",
    "apo_tica_resampled_file = os.path.join(tica_dir, \"apo_tica_msm_lag-time%d_prior-counts%s_clusters%d_resampled_%d.h5\" %(apo_lag_time, str(prior_counts), n_clusters, total_samples))\n",
    "resample_features_by_msm_equilibirum_pop(apo_tica, apo_resampled_traj_to_frames, apo_tica_resampled_file)\n",
    "apo_tica_resampled = compat_verboseload(apo_tica_resampled_file)\n",
    "\n",
    "apo_clusterer = compat_verboseload(apo_clusterer_file)\n",
    "apo_msm = compat_verboseload(apo_msm_dir)\n",
    "\n",
    "cluster_id_proportion_tuples = []\n",
    "\n",
    "equilibrium_populations = apo_msm.populations_\n",
    "\n",
    "for cluster_id in apo_msm.mapping_.keys():\n",
    "    state_id = apo_msm.mapping_[cluster_id]\n",
    "    cluster_id_proportion_tuples.append((cluster_id,equilibrium_populations[state_id]))\n",
    "cluster_id_proportion_tuples = sorted(cluster_id_proportion_tuples, key=itemgetter(1), reverse=True)\n",
    "\n",
    "#plot_all_tics_and_clusters(tica_dir, apo_tica_resampled_file, apo_clusterer_file, lag_time, tic_range=range(0,n_components), main = \"Apo_MSM_Reweighted\", label = \"cluster_id\", active_cluster_ids = [c[0] for c in cluster_id_proportion_tuples[0:100]], intermediate_cluster_ids = [], inactive_cluster_ids = [], concatenate=False, axes=tica_axes)\n",
    "\n",
    "#plot_columns(tica_dir, apo_tica_resampled_file, titles = [\"tIC.%d\" %i for i in range(1,n_components+1)], main = \"mOR_Apo_MSM_\", tICA = False, scale = 1.0, refcoords_file = ref_tica_coords, axes=tica_axes, concatenate=False, reshape=False)"
   ]
  },
  {
   "cell_type": "code",
   "execution_count": null,
   "metadata": {
    "collapsed": false
   },
   "outputs": [],
   "source": [
    "print(np.concatenate(suf_tica).shape)\n",
    "print(np.concatenate(suf_pnas).shape)"
   ]
  },
  {
   "cell_type": "code",
   "execution_count": null,
   "metadata": {
    "collapsed": false
   },
   "outputs": [],
   "source": [
    "sorted(feature_name_residues_dict.keys())"
   ]
  },
  {
   "cell_type": "code",
   "execution_count": null,
   "metadata": {
    "collapsed": false
   },
   "outputs": [],
   "source": [
    "plt.hexbin(apo_tica_resampled[:,2], apo_tica_resampled[:,9])\n",
    "plt.show()"
   ]
  },
  {
   "cell_type": "code",
   "execution_count": null,
   "metadata": {
    "collapsed": false
   },
   "outputs": [],
   "source": [
    "apo_tica_resampled.shape"
   ]
  },
  {
   "cell_type": "code",
   "execution_count": null,
   "metadata": {
    "collapsed": false
   },
   "outputs": [],
   "source": [
    "plt.scatter(bu72_tica_resampled[:,2], bu72_tica_resampled[:,9])\n",
    "plt.show()"
   ]
  },
  {
   "cell_type": "code",
   "execution_count": null,
   "metadata": {
    "collapsed": false
   },
   "outputs": [],
   "source": [
    "bu72_msm.timescales_"
   ]
  },
  {
   "cell_type": "code",
   "execution_count": null,
   "metadata": {
    "collapsed": false
   },
   "outputs": [],
   "source": [
    "plt.clf()\n",
    "plt.hist(np.concatenate(apo_pnas)[:,4], bins=50, range=[0,2])\n",
    "plt.show()"
   ]
  },
  {
   "cell_type": "code",
   "execution_count": null,
   "metadata": {
    "collapsed": false
   },
   "outputs": [],
   "source": [
    "plt.clf()\n",
    "plt.hist(bu72_pnas_resampled[:,8],bins=50, range=[8,16])\n",
    "plt.show()"
   ]
  },
  {
   "cell_type": "code",
   "execution_count": null,
   "metadata": {
    "collapsed": false
   },
   "outputs": [],
   "source": [
    "plt.clf()\n",
    "plt.hist(apo_pnas_resampled[:,8],bins=50, range=[8,16])\n",
    "plt.show()"
   ]
  },
  {
   "cell_type": "code",
   "execution_count": null,
   "metadata": {
    "collapsed": false
   },
   "outputs": [],
   "source": [
    "plt.clf()\n",
    "plt.hist(suf_pnas_resampled[:,8],bins=50, range=[8,16])\n",
    "plt.show()"
   ]
  },
  {
   "cell_type": "code",
   "execution_count": null,
   "metadata": {
    "collapsed": false
   },
   "outputs": [],
   "source": [
    "plt.clf()\n",
    "plt.hist(bu72_tica_resampled[:,2],bins=50, range=[-4,6])\n",
    "plt.show()"
   ]
  },
  {
   "cell_type": "code",
   "execution_count": null,
   "metadata": {
    "collapsed": false
   },
   "outputs": [],
   "source": [
    "plt.clf()\n",
    "plt.hist(apo_tica_resampled[:,2],bins=50, range=[-4,6])\n",
    "plt.show()"
   ]
  },
  {
   "cell_type": "code",
   "execution_count": null,
   "metadata": {
    "collapsed": false
   },
   "outputs": [],
   "source": [
    "\n",
    "bu72_lag_time=25\n",
    "prior_counts = 0.\n",
    "bu72_msm_dir = os.path.join(tica_dir, \"bu72_msm_lag-time%d_prior-counts%s_clusters%d.h5\" %(bu72_lag_time, str(prior_counts), n_clusters))\n",
    "if not os.path.exists(bu72_msm_dir):\n",
    "    bu72_msm = build_msm(bu72_clusterer_file, bu72_lag_time, bu72_msm_dir, prior_counts)\n",
    "else:\n",
    "    bu72_msm = compat_verboseload(bu72_msm_dir)\n",
    "\n",
    "import msm_resampled\n",
    "reload(msm_resampled)\n",
    "from msm_resampled import *\n",
    "total_samples = 20000\n",
    "num_trajs = len(bu72_trajs)\n",
    "bu72_resampled_traj_to_frames_file = os.path.join(tica_dir, \"bu72_msm_lag-time%d_prior-counts%s_clusters%d_resampled_%d.h5\" %(bu72_lag_time, str(prior_counts), n_clusters, total_samples))\n",
    "#if not os.path.exists(bu72_resampled_traj_to_frames_file):\n",
    "bu72_resampled_traj_to_frames = resample_by_msm(total_samples, bu72_msm, bu72_clusters_map, num_trajs, bu72_resampled_traj_to_frames_file)\n",
    "#else:\n",
    "bu72_resampled_traj_to_frames = compat_verboseload(bu72_resampled_traj_to_frames_file)\n",
    "\n",
    "bu72_pnas = compat_verboseload(bu72_pnas_file)\n",
    "bu72_pnas_resampled_file = os.path.join(tica_dir, \"bu72_pnas_msm_lag-time%d_prior-counts%s_clusters%d_resampled_%d.h5\" %(bu72_lag_time, str(prior_counts), n_clusters, total_samples))\n",
    "resample_features_by_msm_equilibirum_pop(bu72_pnas, bu72_resampled_traj_to_frames, bu72_pnas_resampled_file)\n",
    "bu72_pnas_resampled = compat_verboseload(bu72_pnas_resampled_file)\n",
    "\n",
    "tica_concatenated = np.concatenate(compat_verboseload(projected_features_dir))\n",
    "tica_axes = [(np.min(tica_concatenated[:,i]), np.max(tica_concatenated[:,i])) for i in range(0, np.shape(tica_concatenated)[1])]\n",
    "\n",
    "bu72_tica = compat_verboseload(bu72_tica_file)\n",
    "bu72_tica_resampled_file = os.path.join(tica_dir, \"bu72_tica_msm_lag-time%d_prior-counts%s_clusters%d_resampled_%d.h5\" %(bu72_lag_time, str(prior_counts), n_clusters, total_samples))\n",
    "resample_features_by_msm_equilibirum_pop(bu72_tica, bu72_resampled_traj_to_frames, bu72_tica_resampled_file)\n",
    "bu72_tica_resampled = compat_verboseload(bu72_tica_resampled_file)\n",
    "\n",
    "bu72_clusterer = compat_verboseload(bu72_clusterer_file)\n",
    "bu72_msm = compat_verboseload(bu72_msm_dir)\n",
    "\n",
    "cluster_id_proportion_tuples = []\n",
    "\n",
    "equilibrium_populations = bu72_msm.populations_\n",
    "\n",
    "for cluster_id in bu72_msm.mapping_.keys():\n",
    "    state_id = bu72_msm.mapping_[cluster_id]\n",
    "    cluster_id_proportion_tuples.append((cluster_id,equilibrium_populations[state_id]))\n",
    "cluster_id_proportion_tuples = sorted(cluster_id_proportion_tuples, key=itemgetter(1), reverse=True)\n",
    "    \n",
    "#plot_all_tics_and_clusters(tica_dir, bu72_tica_resampled_file, bu72_clusterer_file, lag_time, tic_range=range(0,n_components), main = \"bu72_MSM_Reweighted\", label = \"cluster_id\", active_cluster_ids = [c[0] for c in cluster_id_proportion_tuples[0:100]], intermediate_cluster_ids = [], inactive_cluster_ids = [], concatenate=False, axes=tica_axes)\n",
    "\n",
    "#plot_columns(tica_dir, bu72_tica_resampled_file, titles = [\"tIC.%d\" %i for i in range(1,n_components+1)], main = \"mOR_bu72_MSM_\", tICA = False, scale = 1.0, refcoords_file = ref_tica_coords, axes=tica_axes, concatenate=False, reshape=False)"
   ]
  },
  {
   "cell_type": "code",
   "execution_count": null,
   "metadata": {
    "collapsed": false
   },
   "outputs": [],
   "source": [
    "plt.clf()\n",
    "plt.hist(np.concatenate(bu72_pnas)[:,8], bins=50)\n",
    "plt.show()"
   ]
  },
  {
   "cell_type": "code",
   "execution_count": null,
   "metadata": {
    "collapsed": false
   },
   "outputs": [],
   "source": [
    "bu72_pnas_averages = calculate_cluster_averages_per_feature(bu72_clusterer, bu72_pnas)\n",
    "len(sorted(list(set(np.concatenate(bu72_clusterer.labels_)))))\n",
    "print(np.sum(bu72_msm.populations_[np.concatenate(bu72_msm.transform(np.where(bu72_pnas_averages[:,8] > 12.)[0]))]))\n",
    "print(np.sum(bu72_msm.populations_[np.concatenate(bu72_msm.transform(np.where(bu72_pnas_averages[:,8] < 12.)[0]))]))"
   ]
  },
  {
   "cell_type": "code",
   "execution_count": null,
   "metadata": {
    "collapsed": false
   },
   "outputs": [],
   "source": [
    "apo_pnas_averages = calculate_cluster_averages_per_feature(apo_clusterer, apo_pnas)\n",
    "len(sorted(list(set(np.concatenate(apo_clusterer.labels_)))))\n",
    "print(np.sum(apo_msm.populations_[np.concatenate(apo_msm.transform(np.where(apo_pnas_averages[:,8] > 12.)[0]))]))\n",
    "print(np.sum(apo_msm.populations_[np.concatenate(apo_msm.transform(np.where(apo_pnas_averages[:,8] < 12.)[0]))]))"
   ]
  },
  {
   "cell_type": "code",
   "execution_count": null,
   "metadata": {
    "collapsed": false
   },
   "outputs": [],
   "source": [
    "apo_pnas_averages = calculate_cluster_averages_per_feature(apo_clusterer, apo_pnas)\n",
    "sorted(list(set(np.concatenate(apo_clusterer.labels_))))"
   ]
  },
  {
   "cell_type": "code",
   "execution_count": null,
   "metadata": {
    "collapsed": false
   },
   "outputs": [],
   "source": [
    "np.sum(apo_msm.populations_[np.concatenate(apo_msm.partial_transform(list(set(np.concatenate(apo_clusterer.labels_)))))])"
   ]
  },
  {
   "cell_type": "code",
   "execution_count": null,
   "metadata": {
    "collapsed": false
   },
   "outputs": [],
   "source": [
    "apo_msm.partial_transform(list(set(np.concatenate(apo_clusterer.labels_))))"
   ]
  },
  {
   "cell_type": "code",
   "execution_count": null,
   "metadata": {
    "collapsed": false
   },
   "outputs": [],
   "source": [
    "apo_msm.partial_transform(np.array(list(set(np.concatenate(apo_clusterer.labels_)))))"
   ]
  },
  {
   "cell_type": "code",
   "execution_count": null,
   "metadata": {
    "collapsed": false
   },
   "outputs": [],
   "source": [
    "plt.clf()\n",
    "plt.hist(np.concatenate(apo_pnas)[:,8], bins=50, range=[6,18.])\n",
    "plt.show()"
   ]
  },
  {
   "cell_type": "code",
   "execution_count": null,
   "metadata": {
    "collapsed": false
   },
   "outputs": [],
   "source": [
    "graph_file = \"%s/bu72_clusters_%d_msm_lag_time%d_graph.graphml\" % (tica_dir, n_clusters, bu72_lag_time)\n",
    "bu72_tica_averages = calculate_cluster_averages_per_feature(bu72_clusterer, bu72_tica)\n",
    "bu72_cluster_attributes = {}\n",
    "for i, title in enumerate([\"tIC.%d\" %i for i in range(1,n_components+1)]):\n",
    "    bu72_cluster_attributes[title] = bu72_tica_averages[:,i]\n",
    "\n",
    "bu72_msm_attributes = {'eq_pops' : bu72_msm.populations_}\n",
    "construct_graph(bu72_msm_dir, bu72_clusterer_file, n_clusters, 5, 5, graph_file, inactive = None, active = None, pnas_clusters_averages = None, tica_clusters_averages = None, docking=None, macrostate = None, cluster_attributes=bu72_cluster_attributes, msm_attributes=bu72_msm_attributes)"
   ]
  },
  {
   "cell_type": "code",
   "execution_count": null,
   "metadata": {
    "collapsed": false
   },
   "outputs": [],
   "source": [
    "graph_file"
   ]
  },
  {
   "cell_type": "code",
   "execution_count": null,
   "metadata": {
    "collapsed": false
   },
   "outputs": [],
   "source": [
    "suf_lag_time=25\n",
    "prior_counts = 0.0\n",
    "suf_msm_dir = os.path.join(tica_dir, \"suf_msm_lag-time%d_prior-counts%s_clusters%d.h5\" %(suf_lag_time, str(prior_counts), n_clusters))\n",
    "if not os.path.exists(suf_msm_dir):\n",
    "    suf_msm = build_msm(suf_clusterer_file, suf_lag_time, suf_msm_dir, prior_counts)\n",
    "else:\n",
    "    suf_msm = compat_verboseload(suf_msm_dir)\n",
    "\n",
    "import msm_resampled\n",
    "reload(msm_resampled)\n",
    "from msm_resampled import *\n",
    "total_samples = 20000\n",
    "num_trajs = len(suf_trajs)\n",
    "prior_counts = 0.\n",
    "suf_resampled_traj_to_frames_file = os.path.join(tica_dir, \"suf_msm_lag-time%d_prior-counts%s_clusters%d_resampled_%d.h5\" %(suf_lag_time, str(prior_counts), n_clusters, total_samples))\n",
    "#if not os.path.exists(suf_resampled_traj_to_frames_file):\n",
    "suf_resampled_traj_to_frames = resample_by_msm(total_samples, suf_msm, suf_clusters_map, num_trajs, suf_resampled_traj_to_frames_file)\n",
    "#else:\n",
    "suf_resampled_traj_to_frames = compat_verboseload(suf_resampled_traj_to_frames_file)\n",
    "\n",
    "suf_pnas = compat_verboseload(suf_pnas_file)\n",
    "suf_pnas_resampled_file = os.path.join(tica_dir, \"suf_pnas_msm_lag-time%d_prior-counts%s_clusters%d_resampled_%d.h5\" %(suf_lag_time, str(prior_counts), n_clusters, total_samples))\n",
    "resample_features_by_msm_equilibirum_pop(suf_pnas, suf_resampled_traj_to_frames, suf_pnas_resampled_file)\n",
    "suf_pnas_resampled = compat_verboseload(suf_pnas_resampled_file)\n",
    "\n",
    "tica_concatenated = np.concatenate(compat_verboseload(projected_features_dir))\n",
    "tica_axes = [(np.min(tica_concatenated[:,i]), np.max(tica_concatenated[:,i])) for i in range(0, np.shape(tica_concatenated)[1])]\n",
    "\n",
    "suf_tica = compat_verboseload(suf_tica_file)\n",
    "suf_tica_resampled_file = os.path.join(tica_dir, \"suf_tica_msm_lag-time%d_prior-counts%s_clusters%d_resampled_%d.h5\" %(suf_lag_time, str(prior_counts), n_clusters, total_samples))\n",
    "resample_features_by_msm_equilibirum_pop(suf_tica, suf_resampled_traj_to_frames, suf_tica_resampled_file)\n",
    "suf_tica_resampled = compat_verboseload(suf_tica_resampled_file)\n",
    "\n",
    "suf_clusterer = compat_verboseload(suf_clusterer_file)\n",
    "suf_msm = compat_verboseload(suf_msm_dir)\n",
    "\n",
    "cluster_id_proportion_tuples = []\n",
    "\n",
    "equilibrium_populations = suf_msm.populations_\n",
    "\n",
    "for cluster_id in suf_msm.mapping_.keys():\n",
    "    state_id = suf_msm.mapping_[cluster_id]\n",
    "    cluster_id_proportion_tuples.append((cluster_id,equilibrium_populations[state_id]))\n",
    "cluster_id_proportion_tuples = sorted(cluster_id_proportion_tuples, key=itemgetter(1), reverse=True)\n",
    "    \n",
    "#plot_all_tics_and_clusters(tica_dir, suf_tica_resampled_file, suf_clusterer_file, lag_time, tic_range=range(0,n_components), main = \"suf_MSM_Reweighted\", label = \"cluster_id\", active_cluster_ids = [c[0] for c in cluster_id_proportion_tuples[0:100]], intermediate_cluster_ids = [], inactive_cluster_ids = [], concatenate=False, axes=tica_axes)\n",
    "\n",
    "#plot_columns(tica_dir, suf_tica_resampled_file, titles = [\"tIC.%d\" %i for i in range(1,n_components+1)], main = \"mOR_suf_MSM_\", tICA = False, scale = 1.0, refcoords_file = ref_tica_coords, axes=tica_axes, concatenate=False, reshape=False)"
   ]
  },
  {
   "cell_type": "code",
   "execution_count": null,
   "metadata": {
    "collapsed": true
   },
   "outputs": [],
   "source": []
  },
  {
   "cell_type": "code",
   "execution_count": null,
   "metadata": {
    "collapsed": false
   },
   "outputs": [],
   "source": [
    "plot_columns(tica_dir, apo_pnas_resampled_file, titles = sorted(feature_name_residues_dict.keys()), main = \"mOR_Apo_MSM_\", tICA = False, scale = 1.0, refcoords_file = None, axes=None, concatenate=False, reshape=True)"
   ]
  },
  {
   "cell_type": "code",
   "execution_count": null,
   "metadata": {
    "collapsed": false,
    "scrolled": true
   },
   "outputs": [],
   "source": [
    "bu72_lag_time=25\n",
    "prior_counts = 0.0\n",
    "bu72_msm_dir = os.path.join(tica_dir, \"bu72_msm_lag-time%d_prior-counts%s_clusters%d.h5\" %(bu72_lag_time, str(prior_counts), n_clusters))\n",
    "if not os.path.exists(bu72_msm_dir):\n",
    "    bu72_msm = build_msm(bu72_clusterer_file, bu72_lag_time, bu72_msm_dir, prior_counts)\n",
    "else:\n",
    "    bu72_msm = compat_verboseload(bu72_msm_dir)\n",
    "bu72_msm.timescales_"
   ]
  },
  {
   "cell_type": "code",
   "execution_count": null,
   "metadata": {
    "collapsed": true
   },
   "outputs": [],
   "source": [
    "fixed_assignments = dict()\n",
    "for i, traj in enumerate(bu72_clusterer.labels_):\n",
    "    fixed_assignments[i] = bu72_msm.transform(traj)"
   ]
  },
  {
   "cell_type": "code",
   "execution_count": null,
   "metadata": {
    "collapsed": true
   },
   "outputs": [],
   "source": [
    "fixed_assignments[0]"
   ]
  },
  {
   "cell_type": "code",
   "execution_count": null,
   "metadata": {
    "collapsed": true
   },
   "outputs": [],
   "source": [
    "print(\"hello\")"
   ]
  },
  {
   "cell_type": "code",
   "execution_count": null,
   "metadata": {
    "collapsed": true
   },
   "outputs": [],
   "source": [
    "def pop_vs_counts(msm_obj, fixed_assignments, ax,**kwargs):\n",
    "\n",
    "    pop_count_vect=[]\n",
    "    for i in range(msm_obj.n_states_):\n",
    "        pop_count_vect.append(np.sum([np.count_nonzero(fixed_assignments[j]==i)\n",
    "                                      for j in fixed_assignments.keys()]))\n",
    "    pop_count_vect = pop_count_vect/np.sum(pop_count_vect)\n",
    "    ax.errorbar(np.log10(msm_object.populations_),np.log10(pop_count_vect),**kwargs)\n",
    "    ax.plot([0,-6],[0,-6])\n",
    "    ax.set_ylim([-6,0])\n",
    "    ax.set_xlim([-6,0])\n",
    "    ax.set_xlabel(\" MSM Population\",size=16)\n",
    "    ax.set_ylabel(\"Counts Population\",size=16)\n",
    "    return pop_count_vect\n",
    "f=figure()\n",
    "ax=f.add_subplot(1,1,1)\n",
    "pop_count_vect = pop_vs_counts(bu72_msm, fixed_assignments, ax fmt='o', color='r',label=\"RCSB-ASP\")\n",
    "ax.legend(loc='best',prop={'size':12})"
   ]
  },
  {
   "cell_type": "code",
   "execution_count": null,
   "metadata": {
    "collapsed": false
   },
   "outputs": [],
   "source": [
    "total_samples = 20000\n",
    "num_trajs = len(bu72_trajs)\n",
    "bu72_resampled_traj_to_frames_file = os.path.join(tica_dir, \"bu72_msm_lag-time%d_prior-counts%s_clusters%d_resampled_%d.h5\" %(bu72_lag_time, str(prior_counts), n_clusters, total_samples))\n",
    "if not os.path.exists(bu72_resampled_traj_to_frames_file):\n",
    "    bu72_resampled_traj_to_frames = resample_by_msm(total_samples, bu72_msm, bu72_clusters_map, num_trajs, bu72_resampled_traj_to_frames_file)\n",
    "else:\n",
    "    bu72_resampled_traj_to_frames = compat_verboseload(bu72_resampled_traj_to_frames_file)"
   ]
  },
  {
   "cell_type": "code",
   "execution_count": null,
   "metadata": {
    "collapsed": false
   },
   "outputs": [],
   "source": [
    "bu72_resampled_traj_to_frames_file"
   ]
  },
  {
   "cell_type": "code",
   "execution_count": null,
   "metadata": {
    "collapsed": false
   },
   "outputs": [],
   "source": [
    "bu72_pnas = compat_verboseload(bu72_pnas_file)\n",
    "bu72_pnas_resampled_file = os.path.join(tica_dir, \"bu72_pnas_msm_lag-time%d_prior-counts%s_clusters%d_resampled_%d.h5\" %(bu72_lag_time, str(prior_counts), n_clusters, total_samples))\n",
    "resample_features_by_msm_equilibirum_pop(bu72_pnas, bu72_resampled_traj_to_frames, bu72_pnas_resampled_file)\n",
    "bu72_pnas_resampled = compat_verboseload(bu72_pnas_resampled_file)"
   ]
  },
  {
   "cell_type": "code",
   "execution_count": null,
   "metadata": {
    "collapsed": false
   },
   "outputs": [],
   "source": [
    "bu72_tica = compat_verboseload(bu72_tica_file)\n",
    "bu72_tica_resampled_file = os.path.join(tica_dir, \"bu72_tica_msm_lag-time%d_prior-counts%s_clusters%d_resampled_%d.h5\" %(bu72_lag_time, str(prior_counts), n_clusters, total_samples))\n",
    "resample_features_by_msm_equilibirum_pop(bu72_tica, bu72_resampled_traj_to_frames, bu72_tica_resampled_file)\n",
    "bu72_tica_resampled = compat_verboseload(bu72_tica_resampled_file)"
   ]
  },
  {
   "cell_type": "code",
   "execution_count": null,
   "metadata": {
    "collapsed": false,
    "scrolled": true
   },
   "outputs": [],
   "source": [
    "bu72_clusterer = compat_verboseload(bu72_clusterer_file)\n",
    "bu72_msm = compat_verboseload(bu72_msm_dir)\n",
    "\n",
    "cluster_id_proportion_tuples = []\n",
    "\n",
    "equilibrium_populations = bu72_msm.populations_\n",
    "\n",
    "for cluster_id in bu72_msm.mapping_.keys():\n",
    "    state_id = bu72_msm.mapping_[cluster_id]\n",
    "    cluster_id_proportion_tuples.append((cluster_id,equilibrium_populations[state_id]))\n",
    "cluster_id_proportion_tuples = sorted(cluster_id_proportion_tuples, key=itemgetter(1), reverse=True)\n",
    "    \n",
    "plot_all_tics_and_clusters(tica_dir, bu72_tica_resampled_file, bu72_clusterer_file, lag_time, tic_range=range(0,10), main = \"bu72_MSM_Reweighted\", label = \"cluster_id\", active_cluster_ids = [c[0] for c in cluster_id_proportion_tuples[0:100]], intermediate_cluster_ids = [], inactive_cluster_ids = [], concatenate=False, axes=tica_axes)"
   ]
  },
  {
   "cell_type": "code",
   "execution_count": null,
   "metadata": {
    "collapsed": false
   },
   "outputs": [],
   "source": [
    "bu72_pnas_file"
   ]
  },
  {
   "cell_type": "code",
   "execution_count": null,
   "metadata": {
    "collapsed": false
   },
   "outputs": [],
   "source": [
    "analysis_dir"
   ]
  },
  {
   "cell_type": "code",
   "execution_count": null,
   "metadata": {
    "collapsed": false
   },
   "outputs": [],
   "source": [
    "tica_resampled = np.vstack([compat_verboseload(bu72_pnas_resampled_file)[::1,], compat_verboseload(apo_pnas_resampled_file)[::1,], compat_verboseload(suf_pnas_resampled_file)[::1,]])\n",
    "mins = np.min(tica_resampled, axis=0)\n",
    "maxs = np.max(tica_resampled, axis=0)\n",
    "stds = np.std(tica_resampled, axis=0)\n",
    "custom_lims = [[mins[i] - .5*stds[i], maxs[i] + .5*stds[i]] for i in range(0,len(mins))]"
   ]
  },
  {
   "cell_type": "code",
   "execution_count": null,
   "metadata": {
    "collapsed": false
   },
   "outputs": [],
   "source": [
    "ref_pnas = load_file(\"/home/enf/md_simulations/MOR/h8_reimaged/all_pnas_features/ref_coords.h5\")\n",
    "ref_pnas = np.hstack([np.array(x).T for x in ref_pnas])"
   ]
  },
  {
   "cell_type": "code",
   "execution_count": null,
   "metadata": {
    "collapsed": false
   },
   "outputs": [],
   "source": [
    "def get_features(features_dir):\n",
    "    feature_files = get_trajectory_files(features_dir, \".dataset\")\n",
    "    features = np.vstack([load_file(f) for f in feature_files])\n",
    "    print(features.shape)\n",
    "    return features\n",
    "\n",
    "ref_pp_features = pd.DataFrame(get_features(ref_features_dir), columns=feature_names)\n",
    "\n",
    "ref_pp_tica = pd.read_csv(ref_tica_coords, header=None).values\n",
    "#ref_pp_tica.columns = [\"mOR tIC.%d\" %i for i in range(1,ref_pp_tica.shape[1])]\n",
    "\n",
    "ref_pnas = load_file(\"/home/enf/md_simulations/MOR/h8_reimaged/all_pnas_features/ref_coords.h5\")\n",
    "ref_pnas = np.hstack([np.array(x).T for x in ref_pnas])\n",
    "\n",
    "#ref_pnas = pd.DataFrame(ref_pnas, columns=sorted(feature_name_residues_dict.keys()))\n",
    "\n",
    "#ref_features = pd.concat([ref_pp_features*10., ref_lp_features*10., ref_pp_tica, ref_lp_tica, ref_pnas], axis=1)"
   ]
  },
  {
   "cell_type": "code",
   "execution_count": null,
   "metadata": {
    "collapsed": true
   },
   "outputs": [],
   "source": [
    "coords_bounds_dict = {\"tIC.4\": [(8.0, 10.), (12., 15.)]}\n",
    "all_traj_files = get_trajectory_files(traj_dir, traj_ext)\n",
    "trajs_to_watch = reaction_coordinate_sampler([all_traj_files[i] for i in bu72_trajs], \".h5\", [t.values for t in all_traj_features], \n",
    "                            all_traj_features[0].columns.values.tolist(), coords_bounds_dict, \n",
    "                            \"%s/trajs_to_watch.csv\" %pp_tica_dir)"
   ]
  },
  {
   "cell_type": "code",
   "execution_count": null,
   "metadata": {
    "collapsed": false
   },
   "outputs": [],
   "source": [
    "ref_pp_tica"
   ]
  },
  {
   "cell_type": "code",
   "execution_count": null,
   "metadata": {
    "collapsed": false
   },
   "outputs": [],
   "source": [
    "import jointplot_d3\n",
    "reload(jointplot_d3)\n",
    "from jointplot_d3 import *\n",
    "jointplots(bu72_pnas_resampled[::1,:], analysis_dir, titles = sorted(feature_name_residues_dict.keys()), main = \"mOR_BU72_MSM_%d_Clusters\" %n_clusters, refcoords = ref_pnas, axes=None, data_j=None, titles_j=None, reshape=False, max_tIC=20, min_density=None, max_diff=3., custom_lims=custom_lims, n_levels=15, n_pts=200j, parallel=True, remake=True)"
   ]
  },
  {
   "cell_type": "code",
   "execution_count": null,
   "metadata": {
    "collapsed": false
   },
   "outputs": [],
   "source": [
    "ref_pnas"
   ]
  },
  {
   "cell_type": "code",
   "execution_count": null,
   "metadata": {
    "collapsed": false
   },
   "outputs": [],
   "source": [
    "jointplots(apo_pnas_resampled[::1,:], analysis_dir, titles = sorted(feature_name_residues_dict.keys()), main = \"mOR_APO_MSM_%d_Clusters\" %n_clusters, refcoords=ref_pnas, axes=None, data_j=None, titles_j=None, reshape=False, max_tIC=20, min_density=None, max_diff=3., custom_lims=custom_lims, n_levels=10, remake=True)"
   ]
  },
  {
   "cell_type": "code",
   "execution_count": null,
   "metadata": {
    "collapsed": false
   },
   "outputs": [],
   "source": [
    "jointplots(suf_pnas_resampled[::1,:], analysis_dir, titles = sorted(feature_name_residues_dict.keys()), main = \"mOR_SUF_MSM_%d_Clusters\" %n_clusters, refcoords=ref_pnas, axes=None, data_j=None, titles_j=None, reshape=False, max_tIC=20, min_density=None, max_diff=3., custom_lims=custom_lims, n_levels=10, remake=True)"
   ]
  },
  {
   "cell_type": "code",
   "execution_count": null,
   "metadata": {
    "collapsed": false
   },
   "outputs": [],
   "source": [
    "tica_resampled = np.vstack([compat_verboseload(bu72_tica_resampled_file)[::1,], compat_verboseload(apo_tica_resampled_file)[::1,], compat_verboseload(suf_tica_resampled_file)[::1,]])\n",
    "mins = np.min(tica_resampled, axis=0)\n",
    "maxs = np.max(tica_resampled, axis=0)\n",
    "stds = np.std(tica_resampled, axis=0)\n",
    "custom_lims = [[mins[i] - 1.*stds[i], maxs[i] + 1.*stds[i]] for i in range(0,len(mins))]\n"
   ]
  },
  {
   "cell_type": "code",
   "execution_count": null,
   "metadata": {
    "collapsed": false
   },
   "outputs": [],
   "source": [
    "custom_lims"
   ]
  },
  {
   "cell_type": "code",
   "execution_count": null,
   "metadata": {
    "collapsed": false
   },
   "outputs": [],
   "source": [
    "print(custom_lims)\n",
    "print(custom_lims[3][1])"
   ]
  },
  {
   "cell_type": "code",
   "execution_count": null,
   "metadata": {
    "collapsed": false,
    "scrolled": true
   },
   "outputs": [],
   "source": [
    "import jointplot_d3\n",
    "reload(jointplot_d3)\n",
    "from jointplot_d3 import *\n",
    "refcoords_jointplots_dir = \"%s/refcoords_jointplots\" %analysis_dir\n",
    "if not os.path.exists(refcoords_jointplots_dir):\n",
    "    os.makedirs(refcoords_jointplots_dir)\n",
    "jointplots(compat_verboseload(bu72_tica_resampled_file)[::1,:], refcoords_jointplots_dir, titles = [\"tIC%d\" %j for j in range(1,n_components+1)], main = \"BU72 MSM\", refcoords=ref_pp_tica, axes=None, data_j=None, titles_j=None, reshape=False, max_tIC=2, min_density=None, max_diff=8., custom_lims=custom_lims, n_pts=200j, n_levels=15, remake=True, parallel=True, min_i=1)\n",
    "jointplots(compat_verboseload(apo_tica_resampled_file)[::1,:], refcoords_jointplots_dir, titles = [\"tIC%d\" %j for j in range(1,n_components+1)], main = \"Apo MSM\", refcoords=ref_pp_tica, axes=None, data_j=None, titles_j=None, reshape=False, max_tIC=2, min_density=None, max_diff=8., custom_lims=custom_lims, n_pts=200j, n_levels=15, remake=True, parallel=True, min_i=1)\n",
    "jointplots(compat_verboseload(suf_tica_resampled_file)[::1,:], refcoords_jointplots_dir, titles = [\"tIC%d\" %j for j in range(1,n_components+1)], main = \"Sufentanil MSM\", refcoords=ref_pp_tica, axes=None, data_j=None, titles_j=None, reshape=False, max_tIC=2, min_density=None, max_diff=8., custom_lims=custom_lims, n_pts=200j, n_levels=15, remake=True, parallel=True, min_i=1)\n",
    "\n"
   ]
  },
  {
   "cell_type": "code",
   "execution_count": null,
   "metadata": {
    "collapsed": false
   },
   "outputs": [],
   "source": []
  },
  {
   "cell_type": "code",
   "execution_count": null,
   "metadata": {
    "collapsed": true
   },
   "outputs": [],
   "source": []
  },
  {
   "cell_type": "code",
   "execution_count": null,
   "metadata": {
    "collapsed": false
   },
   "outputs": [],
   "source": [
    "ref_pp_tica"
   ]
  },
  {
   "cell_type": "code",
   "execution_count": null,
   "metadata": {
    "collapsed": false
   },
   "outputs": [],
   "source": [
    "np.concatenate(bu72_tica).shape"
   ]
  },
  {
   "cell_type": "code",
   "execution_count": null,
   "metadata": {
    "collapsed": false
   },
   "outputs": [],
   "source": [
    "np.concatenate(apo_tica).shape"
   ]
  },
  {
   "cell_type": "code",
   "execution_count": null,
   "metadata": {
    "collapsed": false
   },
   "outputs": [],
   "source": [
    "import jointplot_d3\n",
    "reload(jointplot_d3)\n",
    "from jointplot_d3 import *\n",
    "jointplots(compat_verboseload(bu72_tica_resampled_file)[::1,:], analysis_dir, titles = [\"tIC%d\" %j for j in range(1,n_components+1)], main = \"BU72 MSM\", refcoords=None, axes=None, data_j=bu72_pnas_resampled, titles_j=sorted(feature_name_residues_dict.keys()), reshape=False, max_tIC=10, min_density=None, max_diff=8., custom_lims=None, remake=True)\n",
    "#jointplots(compat_verboseload(apo_tica_resampled_file)[::1,:], analysis_dir, titles = [\"tIC%d\" %j for j in range(1,n_components+1)], main = \"Apo MSM\", refcoords=None, axes=None, data_j=apo_pnas_resampled, titles_j=sorted(feature_name_residues_dict.keys()), reshape=False, max_tIC=10, min_density=None, max_diff=8., custom_lims=None)\n",
    "#jointplots(compat_verboseload(suf_tica_resampled_file)[::1,:], analysis_dir, titles = [\"tIC%d\" %j for j in range(1,n_components+1)], main = \"Sufentanil MSM\", refcoords=None, axes=None, data_j=bu72_pnas_resampled, titles_j=sorted(feature_name_residues_dict.keys()), reshape=False, max_tIC=10, min_density=None, max_diff=8., custom_lims=None)"
   ]
  },
  {
   "cell_type": "code",
   "execution_count": null,
   "metadata": {
    "collapsed": false,
    "scrolled": true
   },
   "outputs": [],
   "source": [
    "import detect_intermediates\n",
    "reload(detect_intermediates)\n",
    "from detect_intermediates import *\n"
   ]
  },
  {
   "cell_type": "code",
   "execution_count": null,
   "metadata": {
    "collapsed": false
   },
   "outputs": [],
   "source": [
    "#sample_tIC_regions_silverman(np.concatenate(compat_verboseload(projected_features_dir))[::100,:], analysis_dir)\n",
    "#get_kde_mins_and_maxes(np.concatenate(compat_verboseload(projected_features_dir))[::100,:], analysis_dir)\n",
    "sample_kde_maxima(compat_verboseload(projected_features_dir), analysis_dir, trajs)"
   ]
  },
  {
   "cell_type": "code",
   "execution_count": null,
   "metadata": {
    "collapsed": false
   },
   "outputs": [],
   "source": [
    "jointplots(compat_verboseload(apo_tica_resampled_file)[::1,:], analysis_dir, titles = [\"tIC%d\" %j for j in range(1,n_components+1)], main = \"Apo MSM\", refcoords_file = None, axes=None, data_j=None, titles_j=None, reshape=False, max_tIC=5, min_density=None, max_diff=5., custom_lims=custom_lims)"
   ]
  },
  {
   "cell_type": "code",
   "execution_count": null,
   "metadata": {
    "collapsed": false
   },
   "outputs": [],
   "source": [
    "plot_columns(tica_dir, bu72_pnas_resampled_file, titles = sorted(feature_name_residues_dict.keys()), main = \"mOR_BU72_MSM_\", tICA = False, scale = 1.0, refcoords_file = None, axes=None, concatenate=False, reshape=True)"
   ]
  },
  {
   "cell_type": "code",
   "execution_count": null,
   "metadata": {
    "collapsed": false
   },
   "outputs": [],
   "source": [
    "#bu72_tica = compat_verboseload(bu72_tica_file)\n",
    "#bu72_tica_resampled_file = os.path.join(tica_dir, \"bu72_tica_msm_lag-time%d_prior-counts%s_clusters%d_resampled.h5\" %(lag_time, str(prior_counts), n_clusters))\n",
    "#resample_features_by_msm_equilibirum_pop(bu72_tica, bu72_resampled_traj_to_frames, bu72_tica_resampled_file)\n",
    "#bu72_tica_resampled = compat_verboseload(bu72_tica_resampled_file)\n",
    "plot_columns(tica_dir, bu72_tica_resampled_file, titles = [\"tIC.%d\" %i for i in range(1,n_components+1)], main = \"mOR_BU72_MSM_\", tICA = False, scale = 1.0, refcoords_file = ref_tica_coords, axes=tica_axes, concatenate=False, reshape=True)"
   ]
  },
  {
   "cell_type": "code",
   "execution_count": null,
   "metadata": {
    "collapsed": false
   },
   "outputs": [],
   "source": [
    "bu72_clusterer = compat_verboseload(bu72_clusterer_file)\n",
    "bu72_msm = compat_verboseload(bu72_msm_dir)\n",
    "\n",
    "cluster_id_proportion_tuples = []\n",
    "\n",
    "equilibrium_populations = bu72_msm.populations_\n",
    "\n",
    "for cluster_id in bu72_msm.mapping_.keys():\n",
    "    state_id = bu72_msm.mapping_[cluster_id]\n",
    "    cluster_id_proportion_tuples.append((cluster_id,equilibrium_populations[state_id]))\n",
    "cluster_id_proportion_tuples = sorted(cluster_id_proportion_tuples, key=itemgetter(1), reverse=True)\n",
    "\n",
    "#plot_all_tics_and_clusters(tica_dir, bu72_tica_resampled_file, bu72_clusterer_file, lag_time, tic_range=[0,3], main = \"BU72_MSM_Reweighted\", label = \"cluster_id\", active_cluster_ids = [c[0] for c in cluster_id_proportion_tuples[0:100]], intermediate_cluster_ids = [], inactive_cluster_ids = [], concatenate=False, axes=tica_axes)\n"
   ]
  },
  {
   "cell_type": "code",
   "execution_count": null,
   "metadata": {
    "collapsed": false
   },
   "outputs": [],
   "source": [
    "len(dview)"
   ]
  },
  {
   "cell_type": "code",
   "execution_count": null,
   "metadata": {
    "collapsed": false,
    "scrolled": true
   },
   "outputs": [],
   "source": [
    "import custom_clusterer\n",
    "reload(custom_clusterer)\n",
    "from custom_clusterer import *\n",
    "\n",
    "n_samples = 1\n",
    "n_clusters= 1500\n",
    "samples_dir = \"%s/bu72_clusterer_%dclusters_%dsamples_samples_kdtree\" %(tica_dir, n_clusters, n_samples)\n",
    "samples_indices_file = \"%s/bu72_clusterer_%dclusters_%dsamples_samples_kdtree_indices.h5\" %(tica_dir, n_clusters, n_samples)\n",
    "if not os.path.exists(samples_dir): os.makedirs(samples_dir)\n",
    "print(samples_dir)\n",
    "traj_files = get_trajectory_files(traj_dir, traj_ext)    \n",
    "sample_from_clusterer(bu72_clusterer_file, bu72_tica_file, [traj_files[i] for i in bu72_trajs], \n",
    "                      n_samples, samples_dir, samples_indices_file,\n",
    "                      worker_pool=dview, parallel=False, lig_name=\"LIG\")"
   ]
  },
  {
   "cell_type": "code",
   "execution_count": null,
   "metadata": {
    "collapsed": false
   },
   "outputs": [],
   "source": [
    "import custom_clusterer\n",
    "reload(custom_clusterer)\n",
    "from custom_clusterer import *\n",
    "\n",
    "n_samples = 5\n",
    "n_clusters= 1500\n",
    "samples_dir = \"%s/suf_clusterer_%dclusters_%dsamples_samples_kdtree\" %(tica_dir, n_clusters, n_samples)\n",
    "samples_indices_file = \"%s/suf_clusterer_%dclusters_%dsamples_samples_kdtree_indices.h5\" %(tica_dir, n_clusters, n_samples)\n",
    "if not os.path.exists(samples_dir): os.makedirs(samples_dir)\n",
    "print(samples_dir)\n",
    "traj_files = get_trajectory_files(traj_dir, traj_ext)    \n",
    "sample_from_clusterer(suf_clusterer_file, suf_tica_file, [traj_files[i] for i in suf_trajs], \n",
    "                      n_samples, samples_dir, samples_indices_file,\n",
    "                      worker_pool=dview, parallel=False, lig_name=\"LIG\")"
   ]
  },
  {
   "cell_type": "code",
   "execution_count": null,
   "metadata": {
    "collapsed": false
   },
   "outputs": [],
   "source": [
    "get_trajectory_files(traj_dir, traj_ext)"
   ]
  },
  {
   "cell_type": "code",
   "execution_count": null,
   "metadata": {
    "collapsed": false
   },
   "outputs": [],
   "source": [
    "import custom_clusterer\n",
    "reload(custom_clusterer)\n",
    "from custom_clusterer import *\n",
    "\n",
    "n_samples = 5\n",
    "n_clusters=1000\n",
    "samples_dir = \"%s/apo_clusterer_%dclusters_%dsamples_samples_kdtree\" %(tica_dir, n_clusters, n_samples)\n",
    "samples_indices_file = \"%s/apo_clusterer_%dclusters_%dsamples_samples_kdtree_indices.h5\" %(tica_dir, n_clusters, n_samples)\n",
    "if not os.path.exists(samples_dir): os.makedirs(samples_dir)\n",
    "\n",
    "sample_from_clusterer(apo_clusterer_file, apo_tica_file, [traj_files[i] for i in apo_trajs],\n",
    "                      n_samples, samples_dir, samples_indices_file,\n",
    "                      worker_pool=dview, parallel=False, lig_name=\"LIG\")"
   ]
  },
  {
   "cell_type": "code",
   "execution_count": null,
   "metadata": {
    "collapsed": false
   },
   "outputs": [],
   "source": [
    "traj_files"
   ]
  },
  {
   "cell_type": "code",
   "execution_count": null,
   "metadata": {
    "collapsed": false
   },
   "outputs": [],
   "source": [
    "feature_name_residues_dict.keys()"
   ]
  },
  {
   "cell_type": "code",
   "execution_count": null,
   "metadata": {
    "collapsed": false,
    "scrolled": true
   },
   "outputs": [],
   "source": [
    "\n",
    "np.shape(apo_pnas_resampled)\n",
    "msm_dir = os.path.join(tica_dir, \"msm_lag-time%d_prior-counts%s_clusters%d_analysis\" %(lag_time, str(prior_counts), n_clusters))\n",
    "if not os.path.exists(msm_dir): os.makedirs(msm_dir)\n",
    "\n",
    "#plot_columns(msm_dir, apo_pnas_resampled_file, titles = feature_name_residues_dict.keys(), main = \"Apo-mOR\", tICA = False, scale = 1.0, refcoords_file = None, axes=None, concatenate=False)"
   ]
  },
  {
   "cell_type": "code",
   "execution_count": null,
   "metadata": {
    "collapsed": false
   },
   "outputs": [],
   "source": [
    "import pip\n",
    "\n",
    "def install(package):\n",
    "    pip.main(['install', package])\n",
    "    \n",
    "install(\"moviepy\")"
   ]
  },
  {
   "cell_type": "code",
   "execution_count": null,
   "metadata": {
    "collapsed": false
   },
   "outputs": [],
   "source": [
    "import jointplot_d3\n",
    "reload(jointplot_d3)\n",
    "from jointplot_d3 import *\n",
    "\n",
    "for i, traj in enumerate(get_trajectory_files(traj_dir, traj_ext)):\n",
    "    if \"apo_rep_68.\" in traj:\n",
    "        index=i\n",
    "        break\n",
    "\n",
    "jointplot(apo_pnas_resampled[::10,[6,3]], \"%s/test.pdf\" %msm_dir, trajectory=apo_pnas[index][::1,[6,3]], \n",
    "          titles=[\"TM6 to TM3 distance\", \"RMSD of NPxxY to Inactive\"], main = \"mOR Activation Pathway\", \n",
    "          video_file = \"%s/apo_68.mp4\" %msm_dir, custom_xlim=[4.0, 16.0], custom_ylim= [0.0, 1.0])\n",
    "#test(\"%s/test2.mp4\" %msm_dir)"
   ]
  },
  {
   "cell_type": "code",
   "execution_count": null,
   "metadata": {
    "collapsed": true
   },
   "outputs": [],
   "source": [
    "build_msm(bu72_clusterer_file, lag_time, msm_model_dir)\n",
    "build_msm(apo_clusterer_file, lag_time, msm_model_dir)"
   ]
  },
  {
   "cell_type": "code",
   "execution_count": null,
   "metadata": {
    "collapsed": false
   },
   "outputs": [],
   "source": [
    "tics_1_5_file = os.path.join(tica_dir, \"tICs_1_5.h5\")\n",
    "tics = load_file(projected_features_dir)\n",
    "tics_1_5 = [x[:,range(1,5)] for x in tics]\n",
    "verbosedump(tics_1_5, tics_1_5_file)\n",
    "\n",
    "clusterer300_clusters = os.path.join(tica_dir, \"clusterer300_clusters_tICs1_5.h5\")\n",
    "cluster_minikmeans(tica_dir, tics_1_5_file, traj_dir, n_clusters=300, clusterer_dir=clusterer300_clusters)"
   ]
  },
  {
   "cell_type": "code",
   "execution_count": null,
   "metadata": {
    "collapsed": false
   },
   "outputs": [],
   "source": [
    "len(dview)"
   ]
  },
  {
   "cell_type": "code",
   "execution_count": null,
   "metadata": {
    "collapsed": false
   },
   "outputs": [],
   "source": [
    "import custom_clusterer\n",
    "reload(custom_clusterer)\n",
    "from custom_clusterer import *\n",
    "\n",
    "n_samples = 1\n",
    "n_clusters = 300\n",
    "\n",
    "traj_files = get_trajectory_files(traj_dir, traj_ext)\n",
    "featurized_trajectories = [traj_files[i] for i in feature_indices]\n",
    "suf_traj_files = [t for t in featurized_trajectories if \"suf\" in t]\n",
    "reduced_clusterer = compat_verboseload(clusterer300_clusters)\n",
    "suf_reduced_clusterer_file = \"%s/suf_reduced_clusterer.h5\" %tica_dir\n",
    "\n",
    "suf_reduced_tica_file = \"%s/suf_reduced_tica.h5\" %tica_dir\n",
    "suf_reduced_tica = [x[:,range(1,5)] for x in suf_tica]\n",
    "suf_reseeded_dir = \"%s/suf_reseeded_samples\" %tica_dir\n",
    "if not os.path.exists(suf_reseeded_dir):\n",
    "    os.makedirs(suf_reseeded_dir)\n",
    "verbosedump(suf_reduced_tica, suf_reduced_tica_file)\n",
    "\n",
    "suf_reduced_clusters = [reduced_clusterer.labels_[i] for i in suf_trajs]\n",
    "suf_reduced_clusterer = copy.deepcopy(reduced_clusterer)\n",
    "suf_reduced_clusterer.labels_ = suf_reduced_clusters\n",
    "verbosedump(suf_reduced_clusterer, suf_reduced_clusterer_file)\n",
    "#reseed_from_clusterer(suf_reduced_clusterer_file, \"suf\", suf_reseeded_dir, suf_reduced_tica_file, suf_traj_files)\n",
    "\n",
    "\n",
    "samples_dir = \"%s/suf_clusterer_%dclusters_%dsamples_samples_kdtree\" %(tica_dir, n_clusters, n_samples)\n",
    "reseed_dir = \"%s/suf_clusterer_%dclusters_%dsamples_samples_kdtree_reseed\" %(tica_dir, n_clusters, n_samples)\n",
    "samples_indices_file = \"%s/suf_clusterer_%dclusters_%dsamples_samples_kdtree_indices.h5\" %(tica_dir, n_clusters, n_samples)\n",
    "if not os.path.exists(samples_dir): os.makedirs(samples_dir)\n",
    "if not os.path.exists(reseed_dir): os.makedirs(reseed_dir)\n",
    "print(samples_dir)\n",
    "traj_files = get_trajectory_files(traj_dir, traj_ext)    \n",
    "sample_from_clusterer(suf_reduced_clusterer_file, suf_reduced_tica_file, [traj_files[i] for i in suf_trajs], \n",
    "                      n_samples, samples_dir, samples_indices_file,\n",
    "                      worker_pool=dview, parallel=False, lig_name=\"LIG\", reseed_dir = reseed_dir)"
   ]
  },
  {
   "cell_type": "code",
   "execution_count": null,
   "metadata": {
    "collapsed": false
   },
   "outputs": [],
   "source": [
    "import custom_clusterer\n",
    "reload(custom_clusterer)\n",
    "from custom_clusterer import *\n",
    "\n",
    "n_samples = 1\n",
    "n_clusters = 300\n",
    "\n",
    "traj_files = get_trajectory_files(traj_dir, traj_ext)\n",
    "featurized_trajectories = [traj_files[i] for i in feature_indices]\n",
    "bu72_traj_files = [t for t in featurized_trajectories if \"bu72\" in t]\n",
    "reduced_clusterer = compat_verboseload(clusterer300_clusters)\n",
    "bu72_reduced_clusterer_file = \"%s/bu72_reduced_clusterer.h5\" %tica_dir\n",
    "\n",
    "bu72_reduced_tica_file = \"%s/bu72_reduced_tica.h5\" %tica_dir\n",
    "bu72_reduced_tica = [x[:,range(1,5)] for x in bu72_tica]\n",
    "bu72_reseeded_dir = \"%s/bu72_reseeded_samples\" %tica_dir\n",
    "if not os.path.exists(bu72_reseeded_dir):\n",
    "    os.makedirs(bu72_reseeded_dir)\n",
    "verbosedump(bu72_reduced_tica, bu72_reduced_tica_file)\n",
    "\n",
    "bu72_reduced_clusters = [reduced_clusterer.labels_[i] for i in bu72_trajs]\n",
    "bu72_reduced_clusterer = copy.deepcopy(reduced_clusterer)\n",
    "bu72_reduced_clusterer.labels_ = bu72_reduced_clusters\n",
    "verbosedump(bu72_reduced_clusterer, bu72_reduced_clusterer_file)\n",
    "#reseed_from_clusterer(bu72_reduced_clusterer_file, \"bu72\", bu72_reseeded_dir, bu72_reduced_tica_file, bu72_traj_files)\n",
    "\n",
    "\n",
    "samples_dir = \"%s/bu72_clusterer_%dclusters_%dsamples_samples_kdtree\" %(tica_dir, n_clusters, n_samples)\n",
    "reseed_dir = \"%s/bu72_clusterer_%dclusters_%dsamples_samples_kdtree_reseed\" %(tica_dir, n_clusters, n_samples)\n",
    "samples_indices_file = \"%s/bu72_clusterer_%dclusters_%dsamples_samples_kdtree_indices.h5\" %(tica_dir, n_clusters, n_samples)\n",
    "if not os.path.exists(samples_dir): os.makedirs(samples_dir)\n",
    "if not os.path.exists(reseed_dir): os.makedirs(reseed_dir)\n",
    "print(samples_dir)\n",
    "traj_files = get_trajectory_files(traj_dir, traj_ext)    \n",
    "sample_from_clusterer(bu72_reduced_clusterer_file, bu72_reduced_tica_file, [traj_files[i] for i in bu72_trajs], \n",
    "                      n_samples, samples_dir, samples_indices_file,\n",
    "                      worker_pool=dview, parallel=False, lig_name=\"LIG\", reseed_dir = reseed_dir)"
   ]
  },
  {
   "cell_type": "code",
   "execution_count": null,
   "metadata": {
    "collapsed": false
   },
   "outputs": [],
   "source": [
    "import custom_clusterer\n",
    "reload(custom_clusterer)\n",
    "from custom_clusterer import *\n",
    "\n",
    "n_samples = 1\n",
    "n_clusters = 300\n",
    "\n",
    "traj_files = get_trajectory_files(traj_dir, traj_ext)\n",
    "featurized_trajectories = [traj_files[i] for i in feature_indices]\n",
    "apo_traj_files = [t for t in featurized_trajectories if \"apo\" in t]\n",
    "reduced_clusterer = compat_verboseload(clusterer300_clusters)\n",
    "apo_reduced_clusterer_file = \"%s/apo_reduced_clusterer.h5\" %tica_dir\n",
    "\n",
    "apo_reduced_tica_file = \"%s/apo_reduced_tica.h5\" %tica_dir\n",
    "apo_reduced_tica = [x[:,range(1,5)] for x in apo_tica]\n",
    "apo_reseeded_dir = \"%s/apo_reseeded_samples\" %tica_dir\n",
    "if not os.path.exists(apo_reseeded_dir):\n",
    "    os.makedirs(apo_reseeded_dir)\n",
    "verbosedump(apo_reduced_tica, apo_reduced_tica_file)\n",
    "\n",
    "apo_reduced_clusters = [reduced_clusterer.labels_[i] for i in apo_trajs]\n",
    "apo_reduced_clusterer = copy.deepcopy(reduced_clusterer)\n",
    "apo_reduced_clusterer.labels_ = apo_reduced_clusters\n",
    "verbosedump(apo_reduced_clusterer, apo_reduced_clusterer_file)\n",
    "#reseed_from_clusterer(apo_reduced_clusterer_file, \"apo\", apo_reseeded_dir, apo_reduced_tica_file, apo_traj_files)\n",
    "\n",
    "\n",
    "samples_dir = \"%s/apo_clusterer_%dclusters_%dsamples_samples_kdtree\" %(tica_dir, n_clusters, n_samples)\n",
    "reseed_dir = \"%s/apo_clusterer_%dclusters_%dsamples_samples_kdtree_reseed\" %(tica_dir, n_clusters, n_samples)\n",
    "samples_indices_file = \"%s/apo_clusterer_%dclusters_%dsamples_samples_kdtree_indices.h5\" %(tica_dir, n_clusters, n_samples)\n",
    "if not os.path.exists(samples_dir): os.makedirs(samples_dir)\n",
    "if not os.path.exists(reseed_dir): os.makedirs(reseed_dir)\n",
    "print(samples_dir)\n",
    "traj_files = get_trajectory_files(traj_dir, traj_ext)    \n",
    "sample_from_clusterer(apo_reduced_clusterer_file, apo_reduced_tica_file, [traj_files[i] for i in apo_trajs], \n",
    "                      n_samples, samples_dir, samples_indices_file,\n",
    "                      worker_pool=dview, parallel=False, lig_name=\"LIG\", reseed_dir = reseed_dir)"
   ]
  },
  {
   "cell_type": "code",
   "execution_count": null,
   "metadata": {
    "collapsed": false
   },
   "outputs": [],
   "source": [
    "import custom_clusterer\n",
    "reload(custom_clusterer)\n",
    "from custom_clusterer import *\n",
    "traj_files = get_trajectory_files(traj_dir, traj_ext)\n",
    "featurized_trajectories = [traj_files[i] for i in feature_indices]\n",
    "oxy_traj_files = [t for t in featurized_trajectories if \"oxy\" in t]\n",
    "reduced_clusterer = compat_verboseload(clusterer300_clusters)\n",
    "oxy_reduced_clusterer_file = \"%s/oxy_reduced_clusterer.h5\" %tica_dir\n",
    "\n",
    "oxy_reduced_tica_file = \"%s/oxy_reduced_tica.h5\" %tica_dir\n",
    "oxy_reduced_tica = [x[:,range(1,10)] for x in oxy_tica]\n",
    "verbosedump(oxy_reduced_tica, oxy_reduced_tica_file)\n",
    "\n",
    "oxy_reduced_clusters = [reduced_clusterer.labels_[i] for i in oxy_trajs]\n",
    "oxy_reduced_clusterer = copy.deepcopy(reduced_clusterer)\n",
    "oxy_reduced_clusterer.labels_ = oxy_reduced_clusters\n",
    "verbosedump(oxy_reduced_clusterer, oxy_reduced_clusterer_file)\n",
    "reseed_from_clusterer(oxy_reduced_clusterer_file, \"oxy\", tica_dir, oxy_reduced_tica_file, oxy_traj_files)"
   ]
  },
  {
   "cell_type": "code",
   "execution_count": null,
   "metadata": {
    "collapsed": false
   },
   "outputs": [],
   "source": [
    "closest_indices = find_closest_indices_to_cluster_center(tics_1_3_file, clusterer16_clusters)"
   ]
  },
  {
   "cell_type": "code",
   "execution_count": null,
   "metadata": {
    "collapsed": false
   },
   "outputs": [],
   "source": [
    "closest_indices"
   ]
  },
  {
   "cell_type": "code",
   "execution_count": null,
   "metadata": {
    "collapsed": false
   },
   "outputs": [],
   "source": [
    "from scipy.stats import gamma \n",
    "x = np.linspace(0.,16.0, 100)\n",
    "y = gamma.pdf(x, 5.0, loc=8.0, scale=1)\n",
    "plt.plot(x,y)"
   ]
  },
  {
   "cell_type": "code",
   "execution_count": null,
   "metadata": {
    "collapsed": false
   },
   "outputs": [],
   "source": [
    "from scipy.stats import gamma \n",
    "x = np.linspace(0.,16.0, 100)\n",
    "y = gamma.pdf(x, 3.0, loc=8.0, scale=0.4)\n",
    "plt.plot(x,y)\n",
    "plt.show()"
   ]
  },
  {
   "cell_type": "code",
   "execution_count": null,
   "metadata": {
    "collapsed": false
   },
   "outputs": [],
   "source": [
    "reseed_from_clusterer(oxy_clusterer_file, \"oxy\", tica_dir, oxy_tica_file, [trajs[i] for i in oxy_trajs])"
   ]
  },
  {
   "cell_type": "code",
   "execution_count": null,
   "metadata": {
    "collapsed": true
   },
   "outputs": [],
   "source": [
    "min_pop = [3, 4, 6, 8, 9, 26, 29, 30, 31, 32, 33, 39, 41, 43, 52, 55]\n"
   ]
  },
  {
   "cell_type": "code",
   "execution_count": null,
   "metadata": {
    "collapsed": false
   },
   "outputs": [],
   "source": [
    "plot_all_tics_and_clusters(tica_dir, oxy_tica_file, oxy_clusterer_file, lag_time, tic_range=range(0,5), main = \"Oxy_Reseeds\", label = \"cluster_id\", active_cluster_ids = min_pop, intermediate_cluster_ids = [], inactive_cluster_ids = [], concatenate=True, axes=tica_axes)"
   ]
  },
  {
   "cell_type": "code",
   "execution_count": null,
   "metadata": {
    "collapsed": true
   },
   "outputs": [],
   "source": []
  }
 ],
 "metadata": {
  "kernelspec": {
   "display_name": "Python [Root]",
   "language": "python",
   "name": "Python [Root]"
  },
  "language_info": {
   "codemirror_mode": {
    "name": "ipython",
    "version": 3
   },
   "file_extension": ".py",
   "mimetype": "text/x-python",
   "name": "python",
   "nbconvert_exporter": "python",
   "pygments_lexer": "ipython3",
   "version": "3.5.2"
  }
 },
 "nbformat": 4,
 "nbformat_minor": 0
}
