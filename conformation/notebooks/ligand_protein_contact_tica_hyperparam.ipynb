{
 "cells": [
  {
   "cell_type": "markdown",
   "metadata": {
    "collapsed": false
   },
   "source": [
    "In this iPython notebook, we will featurize MOR ligand binding simulation by pairwise distances between the ligand and different receptor residues. We will then perform tICA and prospectively build an MSM. "
   ]
  },
  {
   "cell_type": "code",
   "execution_count": 1,
   "metadata": {
    "collapsed": false
   },
   "outputs": [],
   "source": [
    "from PDB_Order_Fixer import PDB_Order_Fixer\n",
    "import mdtraj as md\n",
    "import os\n",
    "import numpy as np\n",
    "import h5py\n",
    "\n",
    "import datetime\n",
    "import glob\n",
    "import copy\n",
    "from functools import partial \n",
    "import operator\n",
    "import time\n",
    "\n",
    "import random \n",
    "import subprocess\n",
    "from subprocess import Popen\n",
    "import sys\n",
    "from io_functions import *\n",
    "from custom_clusterer import *\n",
    "from custom_tica import *\n",
    "from custom_featurizer import *\n",
    "from pdb_editing import *\n",
    "from analysis import *\n",
    "from io_functions import *\n",
    "#from topology_fixing import *\n",
    "from subsampling import *\n",
    "from conversions import *\n",
    "from custom_msm import *\n",
    "from grids import *"
   ]
  },
  {
   "cell_type": "code",
   "execution_count": 2,
   "metadata": {
    "collapsed": false
   },
   "outputs": [
    {
     "name": "stdout",
     "output_type": "stream",
     "text": [
      "WHERE ARE WE?\n"
     ]
    }
   ],
   "source": [
    "from detect_intermediates import *\n",
    "from interpret_tICs import *"
   ]
  },
  {
   "cell_type": "code",
   "execution_count": 3,
   "metadata": {
    "collapsed": false
   },
   "outputs": [
    {
     "name": "stdout",
     "output_type": "stream",
     "text": [
      "tm6_tm3_residues\n",
      "[A279, A165]\n",
      "[65, 66, 67, 68, 69, 70, 71, 72, 73, 74, 75, 76, 77, 78, 79, 80, 81, 82, 83, 84, 85, 86, 87, 88, 89, 90, 91, 92, 93, 94, 95, 96, 97, 98, 99, 100, 101, 102, 103, 104, 105, 106, 107, 108, 109, 110, 111, 112, 113, 114, 115, 116, 117, 118, 119, 120, 121, 122, 123, 124, 125, 126, 127, 128, 129, 130, 131, 132, 133, 134, 135, 136, 137, 138, 139, 140, 141, 142, 143, 144, 145, 146, 147, 148, 149, 150, 151, 152, 153, 154, 155, 156, 157, 158, 159, 160, 161, 162, 163, 164, 165, 166, 167, 168, 169, 170, 171, 172, 173, 174, 175, 176, 177, 178, 179, 180, 181, 182, 183, 184, 185, 186, 187, 188, 189, 190, 191, 192, 193, 194, 195, 196, 197, 198, 199, 200, 201, 202, 203, 204, 205, 206, 207, 208, 209, 210, 211, 212, 213, 214, 215, 216, 217, 218, 219, 220, 221, 222, 223, 224, 225, 226, 227, 228, 229, 230, 231, 232, 233, 234, 235, 236, 237, 238, 239, 240, 241, 242, 243, 244, 245, 246, 247, 248, 249, 250, 251, 252, 253, 254, 255, 256, 257, 258, 259, 273, 274, 275, 276, 277, 278, 279, 280, 281, 282, 283, 284, 285, 286, 287, 288, 289, 290, 291, 292, 293, 294, 295, 296, 297, 298, 299, 300, 301, 302, 303, 304, 305, 306, 307, 308, 309, 310, 311, 312, 313, 314, 315, 316, 317, 318, 319, 320, 321, 322, 323, 324, 325, 326, 327, 328, 329, 330, 331, 332, 333, 334, 335, 336, 337, 338, 339, 340, 341, 342, 343, 344, 345, 346, 347]\n",
      "There are 270 common residues between input structures\n"
     ]
    }
   ],
   "source": [
    "from tutorial_feature_types import *\n",
    "from get_variable_names import *\n",
    "from tutorial_tica_config import *"
   ]
  },
  {
   "cell_type": "code",
   "execution_count": 4,
   "metadata": {
    "collapsed": false
   },
   "outputs": [
    {
     "name": "stdout",
     "output_type": "stream",
     "text": [
      "/home/amir/Post_Process/GPCR/MOR/LIG_path/BU_path/ligand_protein_contacts\n",
      "/home/amir/Post_Process/GPCR/MOR/LIG_path/BU_path/ligand_protein_contacts/feature_residues.pkl\n"
     ]
    }
   ],
   "source": [
    "features_dir = \"%s/ligand_protein_contacts\" % (base)\n",
    "print(features_dir)\n",
    "if not os.path.exists(features_dir): os.makedirs(features_dir)\n",
    "feature_residues_pkl = \"%s/feature_residues.pkl\" % features_dir\n",
    "print(feature_residues_pkl)"
   ]
  },
  {
   "cell_type": "code",
   "execution_count": 5,
   "metadata": {
    "collapsed": true
   },
   "outputs": [],
   "source": [
    "ligand_residue = Residue(resSeq = 900, chain_id=\"J\", res_name=\"LIG\")"
   ]
  },
  {
   "cell_type": "code",
   "execution_count": 6,
   "metadata": {
    "collapsed": false
   },
   "outputs": [
    {
     "data": {
      "text/plain": [
       "[0, 1, 2, 3, 4, 5, 6, 7, 8, 9]"
      ]
     },
     "execution_count": 6,
     "metadata": {},
     "output_type": "execute_result"
    }
   ],
   "source": [
    "list(range(0,10))"
   ]
  },
  {
   "cell_type": "code",
   "execution_count": 60,
   "metadata": {
    "collapsed": false
   },
   "outputs": [
    {
     "name": "stdout",
     "output_type": "stream",
     "text": [
      "[(J900, I294), (J900, I324), (J900, I206), (J900, I140), (J900, I315), (J900, I66), (J900, I121), (J900, I212), (J900, I322), (J900, I235), (J900, I204), (J900, I123), (J900, I225), (J900, I229), (J900, I139), (J900, I296), (J900, I150), (J900, I128), (J900, I148), (J900, I197), (J900, I318), (J900, I129), (J900, I213), (J900, I152), (J900, I232), (J900, I149), (J900, I145), (J900, I298), (J900, I141), (J900, I238), (J900, I233), (J900, I223), (J900, I304), (J900, I301), (J900, I295), (J900, I221), (J900, I126), (J900, I203), (J900, I118), (J900, I78), (J900, I65), (J900, I151), (J900, I72), (J900, I76), (J900, I317), (J900, I70), (J900, I138), (J900, I220), (J900, I306), (J900, I316), (J900, I127), (J900, I293), (J900, I302), (J900, I227), (J900, I73), (J900, I137), (J900, I211), (J900, I218), (J900, I311), (J900, I200), (J900, I79), (J900, I132), (J900, I222), (J900, I75), (J900, I116), (J900, I313), (J900, I320), (J900, I305), (J900, I125), (J900, I130), (J900, I131), (J900, I142), (J900, I216), (J900, I199), (J900, I321), (J900, I146), (J900, I119), (J900, I326), (J900, I122), (J900, I136), (J900, I77), (J900, I215), (J900, I237), (J900, I69), (J900, I143), (J900, I120), (J900, I224), (J900, I124), (J900, I228), (J900, I307), (J900, I133), (J900, I323), (J900, I329), (J900, I303), (J900, I217), (J900, I219), (J900, I207), (J900, I208), (J900, I231), (J900, I147), (J900, I67), (J900, I209), (J900, I198), (J900, I310), (J900, I144), (J900, I319), (J900, I117), (J900, I202), (J900, I236), (J900, I292), (J900, I327), (J900, I201), (J900, I309), (J900, I314), (J900, I214), (J900, I226), (J900, I210), (J900, I300), (J900, I328), (J900, I297), (J900, I230), (J900, I71), (J900, I74), (J900, I134), (J900, I135), (J900, I312), (J900, I234), (J900, I308), (J900, I68), (J900, I299), (J900, I325), (J900, I205)]\n"
     ]
    }
   ],
   "source": [
    "excluded_set = set(list(range(270, 292)) + list(range(239, 263)) + list(range(153, 170)) + list(range(170, 197)) + list(range(102, 116)) + list(range(80, 102)) + list(range(330, 350)))\n",
    "included_residues = [res for res in contact_residues if res.resSeq not in excluded_set]\n",
    "user_specified_contact_residue_pairs = [(ligand_residue, contact_residue) for contact_residue in included_residues]\n",
    "print(user_specified_contact_residue_pairs)"
   ]
  },
  {
   "cell_type": "code",
   "execution_count": 61,
   "metadata": {
    "collapsed": false,
    "scrolled": true
   },
   "outputs": [
    {
     "name": "stdout",
     "output_type": "stream",
     "text": [
      "There are 0 pairs of residues to be used in contact featurization.\n",
      "Saving contact feature residue pairs to disk.\n",
      "About to featurize trajectories based on the chosen featurization scheme.\n",
      "looking at 132 pairs for trajectory\n",
      "looking at 132 pairs for trajectory\n",
      "looking at 132 pairs for trajectory\n",
      "looking at 132 pairs for trajectory\n",
      "looking at 132 pairs for trajectory\n",
      "looking at 132 pairs for trajectory\n",
      "looking at 132 pairs for trajectory\n",
      "looking at 132 pairs for trajectory\n",
      "new features /home/amir/Post_Process/GPCR/MOR/LIG_path/BU_path/h5_trajectories/BU-EQRep_3-0.h5 has shape: new features /home/amir/Post_Process/GPCR/MOR/LIG_path/BU_path/h5_trajectories/BU-EQRep_3-2.h5 has shape: new features /home/amir/Post_Process/GPCR/MOR/LIG_path/BU_path/h5_trajectories/BU-EQRep_2-0.h5 has shape: new features /home/amir/Post_Process/GPCR/MOR/LIG_path/BU_path/h5_trajectories/BU-EQRep_2-2.h5 has shape: new features /home/amir/Post_Process/GPCR/MOR/LIG_path/BU_path/h5_trajectories/BU-EQRep_1-0.h5 has shape: new features /home/amir/Post_Process/GPCR/MOR/LIG_path/BU_path/h5_trajectories/BU-EQRep_1-2.h5 has shape: new features /home/amir/Post_Process/GPCR/MOR/LIG_path/BU_path/h5_trajectories/BU-EQRep_0-2.h5 has shape: new features /home/amir/Post_Process/GPCR/MOR/LIG_path/BU_path/h5_trajectories/BU-EQRep_0-0.h5 has shape: \n",
      "\n",
      "\n",
      "\n",
      "\n",
      "\n",
      "\n",
      "\n",
      "(158, 132)\n",
      "(162, 132)\n",
      "(166, 132)\n",
      "(157, 132)\n",
      "(178, 132)\n",
      "(136, 132)\n",
      "(172, 132)\n",
      "(180, 132)\n",
      "looking at 132 pairs for trajectorylooking at 132 pairs for trajectorylooking at 132 pairs for trajectorylooking at 132 pairs for trajectorylooking at 132 pairs for trajectorylooking at 132 pairs for trajectorylooking at 132 pairs for trajectorylooking at 132 pairs for trajectory\n",
      "\n",
      "\n",
      "\n",
      "\n",
      "\n",
      "\n",
      "\n",
      "new features /home/amir/Post_Process/GPCR/MOR/LIG_path/BU_path/h5_trajectories/BU-EQRep_3-1.h5 has shape: new features /home/amir/Post_Process/GPCR/MOR/LIG_path/BU_path/h5_trajectories/BU-EQRep_3-3.h5 has shape: new features /home/amir/Post_Process/GPCR/MOR/LIG_path/BU_path/h5_trajectories/BU-EQRep_2-1.h5 has shape: new features /home/amir/Post_Process/GPCR/MOR/LIG_path/BU_path/h5_trajectories/BU-EQRep_2-3.h5 has shape: new features /home/amir/Post_Process/GPCR/MOR/LIG_path/BU_path/h5_trajectories/BU-EQRep_0-1.h5 has shape: new features /home/amir/Post_Process/GPCR/MOR/LIG_path/BU_path/h5_trajectories/BU-EQRep_1-3.h5 has shape: new features /home/amir/Post_Process/GPCR/MOR/LIG_path/BU_path/h5_trajectories/BU-EQRep_0-3.h5 has shape: \n",
      "\n",
      "\n",
      "\n",
      "\n",
      "\n",
      "\n",
      "(175, 132)\n",
      "(171, 132)\n",
      "(177, 132)\n",
      "(169, 132)\n",
      "(142, 132)\n",
      "(137, 132)\n",
      "(169, 132)\n",
      "looking at 132 pairs for trajectory\n"
     ]
    },
    {
     "ename": "KeyboardInterrupt",
     "evalue": "",
     "output_type": "error",
     "traceback": [
      "\u001b[1;31m---------------------------------------------------------------------------\u001b[0m",
      "\u001b[1;31mKeyboardInterrupt\u001b[0m                         Traceback (most recent call last)",
      "\u001b[1;32m<ipython-input-61-c762a2f3687a>\u001b[0m in \u001b[0;36m<module>\u001b[1;34m()\u001b[0m\n\u001b[0;32m      4\u001b[0m featurize_contacts_custom(traj_dir, features_dir = features_dir, traj_ext = traj_ext, contact_residue_pairs_file = feature_residues_pkl, structures=[], contact_residues=[],\n\u001b[0;32m      5\u001b[0m                           \u001b[0mresidues_map\u001b[0m \u001b[1;33m=\u001b[0m \u001b[1;32mNone\u001b[0m\u001b[1;33m,\u001b[0m \u001b[0mcontact_cutoff\u001b[0m \u001b[1;33m=\u001b[0m \u001b[0mcutoff\u001b[0m\u001b[1;33m,\u001b[0m \u001b[0mparallel\u001b[0m \u001b[1;33m=\u001b[0m \u001b[0mfeaturize_parallel\u001b[0m\u001b[1;33m,\u001b[0m \u001b[0mexacycle\u001b[0m \u001b[1;33m=\u001b[0m \u001b[0mexacycle\u001b[0m\u001b[1;33m,\u001b[0m \u001b[0mtraj_top_structure\u001b[0m \u001b[1;33m=\u001b[0m \u001b[1;32mNone\u001b[0m\u001b[1;33m,\u001b[0m \u001b[0miterative\u001b[0m\u001b[1;33m=\u001b[0m\u001b[1;32mFalse\u001b[0m\u001b[1;33m,\u001b[0m\u001b[1;33m\u001b[0m\u001b[0m\n\u001b[1;32m----> 6\u001b[1;33m                           user_specified_contact_residue_pairs=user_specified_contact_residue_pairs)\n\u001b[0m",
      "\u001b[1;32m/home/amir/Post_Process/GPCR/conformation/custom_featurizer.py\u001b[0m in \u001b[0;36mfeaturize_contacts_custom\u001b[1;34m(traj_dir, features_dir, traj_ext, structures, traj_top_structure, contact_residue_pairs_file, dihedral_residues, dihedral_types, contact_residues, agonist_bound, residues_map, contact_cutoff, user_specified_contact_residue_pairs, parallel, exacycle, iterative)\u001b[0m\n\u001b[0;32m    499\u001b[0m         \u001b[1;32mif\u001b[0m \u001b[0mparallel\u001b[0m\u001b[1;33m:\u001b[0m\u001b[1;33m\u001b[0m\u001b[0m\n\u001b[0;32m    500\u001b[0m                 \u001b[0mpool\u001b[0m \u001b[1;33m=\u001b[0m \u001b[0mmp\u001b[0m\u001b[1;33m.\u001b[0m\u001b[0mPool\u001b[0m\u001b[1;33m(\u001b[0m\u001b[0mmp\u001b[0m\u001b[1;33m.\u001b[0m\u001b[0mcpu_count\u001b[0m\u001b[1;33m(\u001b[0m\u001b[1;33m)\u001b[0m\u001b[1;33m)\u001b[0m\u001b[1;33m\u001b[0m\u001b[0m\n\u001b[1;32m--> 501\u001b[1;33m                 \u001b[0mpool\u001b[0m\u001b[1;33m.\u001b[0m\u001b[0mmap\u001b[0m\u001b[1;33m(\u001b[0m\u001b[0mfeaturize_partial\u001b[0m\u001b[1;33m,\u001b[0m \u001b[0mtrajs\u001b[0m\u001b[1;33m)\u001b[0m\u001b[1;33m\u001b[0m\u001b[0m\n\u001b[0m\u001b[0;32m    502\u001b[0m                 \u001b[0mpool\u001b[0m\u001b[1;33m.\u001b[0m\u001b[0mterminate\u001b[0m\u001b[1;33m(\u001b[0m\u001b[1;33m)\u001b[0m\u001b[1;33m\u001b[0m\u001b[0m\n\u001b[0;32m    503\u001b[0m         \u001b[1;32melse\u001b[0m\u001b[1;33m:\u001b[0m\u001b[1;33m\u001b[0m\u001b[0m\n",
      "\u001b[1;32m/home/amir/anaconda3/lib/python3.4/multiprocessing/pool.py\u001b[0m in \u001b[0;36mmap\u001b[1;34m(self, func, iterable, chunksize)\u001b[0m\n\u001b[0;32m    258\u001b[0m         \u001b[1;32min\u001b[0m \u001b[0ma\u001b[0m \u001b[0mlist\u001b[0m \u001b[0mthat\u001b[0m \u001b[1;32mis\u001b[0m \u001b[0mreturned\u001b[0m\u001b[1;33m.\u001b[0m\u001b[1;33m\u001b[0m\u001b[0m\n\u001b[0;32m    259\u001b[0m         '''\n\u001b[1;32m--> 260\u001b[1;33m         \u001b[1;32mreturn\u001b[0m \u001b[0mself\u001b[0m\u001b[1;33m.\u001b[0m\u001b[0m_map_async\u001b[0m\u001b[1;33m(\u001b[0m\u001b[0mfunc\u001b[0m\u001b[1;33m,\u001b[0m \u001b[0miterable\u001b[0m\u001b[1;33m,\u001b[0m \u001b[0mmapstar\u001b[0m\u001b[1;33m,\u001b[0m \u001b[0mchunksize\u001b[0m\u001b[1;33m)\u001b[0m\u001b[1;33m.\u001b[0m\u001b[0mget\u001b[0m\u001b[1;33m(\u001b[0m\u001b[1;33m)\u001b[0m\u001b[1;33m\u001b[0m\u001b[0m\n\u001b[0m\u001b[0;32m    261\u001b[0m \u001b[1;33m\u001b[0m\u001b[0m\n\u001b[0;32m    262\u001b[0m     \u001b[1;32mdef\u001b[0m \u001b[0mstarmap\u001b[0m\u001b[1;33m(\u001b[0m\u001b[0mself\u001b[0m\u001b[1;33m,\u001b[0m \u001b[0mfunc\u001b[0m\u001b[1;33m,\u001b[0m \u001b[0miterable\u001b[0m\u001b[1;33m,\u001b[0m \u001b[0mchunksize\u001b[0m\u001b[1;33m=\u001b[0m\u001b[1;32mNone\u001b[0m\u001b[1;33m)\u001b[0m\u001b[1;33m:\u001b[0m\u001b[1;33m\u001b[0m\u001b[0m\n",
      "\u001b[1;32m/home/amir/anaconda3/lib/python3.4/multiprocessing/pool.py\u001b[0m in \u001b[0;36mget\u001b[1;34m(self, timeout)\u001b[0m\n\u001b[0;32m    600\u001b[0m \u001b[1;33m\u001b[0m\u001b[0m\n\u001b[0;32m    601\u001b[0m     \u001b[1;32mdef\u001b[0m \u001b[0mget\u001b[0m\u001b[1;33m(\u001b[0m\u001b[0mself\u001b[0m\u001b[1;33m,\u001b[0m \u001b[0mtimeout\u001b[0m\u001b[1;33m=\u001b[0m\u001b[1;32mNone\u001b[0m\u001b[1;33m)\u001b[0m\u001b[1;33m:\u001b[0m\u001b[1;33m\u001b[0m\u001b[0m\n\u001b[1;32m--> 602\u001b[1;33m         \u001b[0mself\u001b[0m\u001b[1;33m.\u001b[0m\u001b[0mwait\u001b[0m\u001b[1;33m(\u001b[0m\u001b[0mtimeout\u001b[0m\u001b[1;33m)\u001b[0m\u001b[1;33m\u001b[0m\u001b[0m\n\u001b[0m\u001b[0;32m    603\u001b[0m         \u001b[1;32mif\u001b[0m \u001b[1;32mnot\u001b[0m \u001b[0mself\u001b[0m\u001b[1;33m.\u001b[0m\u001b[0mready\u001b[0m\u001b[1;33m(\u001b[0m\u001b[1;33m)\u001b[0m\u001b[1;33m:\u001b[0m\u001b[1;33m\u001b[0m\u001b[0m\n\u001b[0;32m    604\u001b[0m             \u001b[1;32mraise\u001b[0m \u001b[0mTimeoutError\u001b[0m\u001b[1;33m\u001b[0m\u001b[0m\n",
      "\u001b[1;32m/home/amir/anaconda3/lib/python3.4/multiprocessing/pool.py\u001b[0m in \u001b[0;36mwait\u001b[1;34m(self, timeout)\u001b[0m\n\u001b[0;32m    597\u001b[0m \u001b[1;33m\u001b[0m\u001b[0m\n\u001b[0;32m    598\u001b[0m     \u001b[1;32mdef\u001b[0m \u001b[0mwait\u001b[0m\u001b[1;33m(\u001b[0m\u001b[0mself\u001b[0m\u001b[1;33m,\u001b[0m \u001b[0mtimeout\u001b[0m\u001b[1;33m=\u001b[0m\u001b[1;32mNone\u001b[0m\u001b[1;33m)\u001b[0m\u001b[1;33m:\u001b[0m\u001b[1;33m\u001b[0m\u001b[0m\n\u001b[1;32m--> 599\u001b[1;33m         \u001b[0mself\u001b[0m\u001b[1;33m.\u001b[0m\u001b[0m_event\u001b[0m\u001b[1;33m.\u001b[0m\u001b[0mwait\u001b[0m\u001b[1;33m(\u001b[0m\u001b[0mtimeout\u001b[0m\u001b[1;33m)\u001b[0m\u001b[1;33m\u001b[0m\u001b[0m\n\u001b[0m\u001b[0;32m    600\u001b[0m \u001b[1;33m\u001b[0m\u001b[0m\n\u001b[0;32m    601\u001b[0m     \u001b[1;32mdef\u001b[0m \u001b[0mget\u001b[0m\u001b[1;33m(\u001b[0m\u001b[0mself\u001b[0m\u001b[1;33m,\u001b[0m \u001b[0mtimeout\u001b[0m\u001b[1;33m=\u001b[0m\u001b[1;32mNone\u001b[0m\u001b[1;33m)\u001b[0m\u001b[1;33m:\u001b[0m\u001b[1;33m\u001b[0m\u001b[0m\n",
      "\u001b[1;32m/home/amir/anaconda3/lib/python3.4/threading.py\u001b[0m in \u001b[0;36mwait\u001b[1;34m(self, timeout)\u001b[0m\n\u001b[0;32m    544\u001b[0m             \u001b[0msignaled\u001b[0m \u001b[1;33m=\u001b[0m \u001b[0mself\u001b[0m\u001b[1;33m.\u001b[0m\u001b[0m_flag\u001b[0m\u001b[1;33m\u001b[0m\u001b[0m\n\u001b[0;32m    545\u001b[0m             \u001b[1;32mif\u001b[0m \u001b[1;32mnot\u001b[0m \u001b[0msignaled\u001b[0m\u001b[1;33m:\u001b[0m\u001b[1;33m\u001b[0m\u001b[0m\n\u001b[1;32m--> 546\u001b[1;33m                 \u001b[0msignaled\u001b[0m \u001b[1;33m=\u001b[0m \u001b[0mself\u001b[0m\u001b[1;33m.\u001b[0m\u001b[0m_cond\u001b[0m\u001b[1;33m.\u001b[0m\u001b[0mwait\u001b[0m\u001b[1;33m(\u001b[0m\u001b[0mtimeout\u001b[0m\u001b[1;33m)\u001b[0m\u001b[1;33m\u001b[0m\u001b[0m\n\u001b[0m\u001b[0;32m    547\u001b[0m             \u001b[1;32mreturn\u001b[0m \u001b[0msignaled\u001b[0m\u001b[1;33m\u001b[0m\u001b[0m\n\u001b[0;32m    548\u001b[0m \u001b[1;33m\u001b[0m\u001b[0m\n",
      "\u001b[1;32m/home/amir/anaconda3/lib/python3.4/threading.py\u001b[0m in \u001b[0;36mwait\u001b[1;34m(self, timeout)\u001b[0m\n\u001b[0;32m    288\u001b[0m         \u001b[1;32mtry\u001b[0m\u001b[1;33m:\u001b[0m    \u001b[1;31m# restore state no matter what (e.g., KeyboardInterrupt)\u001b[0m\u001b[1;33m\u001b[0m\u001b[0m\n\u001b[0;32m    289\u001b[0m             \u001b[1;32mif\u001b[0m \u001b[0mtimeout\u001b[0m \u001b[1;32mis\u001b[0m \u001b[1;32mNone\u001b[0m\u001b[1;33m:\u001b[0m\u001b[1;33m\u001b[0m\u001b[0m\n\u001b[1;32m--> 290\u001b[1;33m                 \u001b[0mwaiter\u001b[0m\u001b[1;33m.\u001b[0m\u001b[0macquire\u001b[0m\u001b[1;33m(\u001b[0m\u001b[1;33m)\u001b[0m\u001b[1;33m\u001b[0m\u001b[0m\n\u001b[0m\u001b[0;32m    291\u001b[0m                 \u001b[0mgotit\u001b[0m \u001b[1;33m=\u001b[0m \u001b[1;32mTrue\u001b[0m\u001b[1;33m\u001b[0m\u001b[0m\n\u001b[0;32m    292\u001b[0m             \u001b[1;32melse\u001b[0m\u001b[1;33m:\u001b[0m\u001b[1;33m\u001b[0m\u001b[0m\n",
      "\u001b[1;31mKeyboardInterrupt\u001b[0m: "
     ]
    }
   ],
   "source": [
    "os.system(\"rm %s\" % feature_residues_pkl)\n",
    "os.system(\"rm -rf %s\" % features_dir)\n",
    "if not os.path.exists(features_dir): os.makedirs(features_dir)\n",
    "featurize_contacts_custom(traj_dir, features_dir = features_dir, traj_ext = traj_ext, contact_residue_pairs_file = feature_residues_pkl, structures=[], contact_residues=[],\n",
    "                          residues_map = None, contact_cutoff = cutoff, parallel = featurize_parallel, exacycle = exacycle, traj_top_structure = None, iterative=False,\n",
    "                          user_specified_contact_residue_pairs=user_specified_contact_residue_pairs)"
   ]
  },
  {
   "cell_type": "code",
   "execution_count": 20,
   "metadata": {
    "collapsed": false
   },
   "outputs": [
    {
     "name": "stdout",
     "output_type": "stream",
     "text": [
      "(J900, I304)\n",
      "{'chain_name': None, 'ballosteros_weinstein': None, 'resSeq': 900, 'res_name': 'LIG', 'chain_id': 'J'}\n",
      "{'chain_name': None, 'ballosteros_weinstein': None, 'resSeq': 304, 'res_name': 'ALA304', 'chain_id': 'I'}\n"
     ]
    }
   ],
   "source": [
    "import pickle\n",
    "with open(feature_residues_pkl, \"rb\") as f:\n",
    "    feature_residues = pickle.load(f)\n",
    "print(feature_residues[0])\n",
    "print(feature_residues[0][0].__dict__)\n",
    "print(feature_residues[0][1].__dict__)\n",
    "#tica_dir = \"%s/tica_ligand_protein_contacts_2_sparse_0pt001\" % base\n",
    "tica_dir = \"%s/tica_ligand_protein_contacts_2\" % base\n"
   ]
  },
  {
   "cell_type": "code",
   "execution_count": 9,
   "metadata": {
    "collapsed": false
   },
   "outputs": [
    {
     "name": "stdout",
     "output_type": "stream",
     "text": [
      "loading feature files\n"
     ]
    },
    {
     "name": "stderr",
     "output_type": "stream",
     "text": [
      "/home/amir/source/msmbuilder/msmbuilder/decomposition/sparsetica.py:149: ExperimentalWarning: \n",
      "\"\"\"\"\"\"\"\"\"\"\"\"\"\"\"\"\"\"\"\"\"\"\"\"\"\"\"\"\"\"\"\"\"\"\"\"\"\"\"\"\"\"\"\"\"\"\"\"\"\"\n",
      "Warning: 'SparseTICA' is in an experimental state.\n",
      "\"\"\"\"\"\"\"\"\"\"\"\"\"\"\"\"\"\"\"\"\"\"\"\"\"\"\"\"\"\"\"\"\"\"\"\"\"\"\"\"\"\"\"\"\"\"\"\"\"\"\n",
      "  self._do_solve()\n",
      "/home/amir/source/msmbuilder/msmbuilder/decomposition/speigh.py:392: UserWarning: optimal_inaccurate\n",
      "  warnings.warn(problem.status)\n"
     ]
    },
    {
     "name": "stdout",
     "output_type": "stream",
     "text": [
      "(180, 128)\n",
      "[ 1.09186065  0.50612396  1.24744558  1.43701756  0.50880903  1.40332401\n",
      "  1.24323976  1.1783185   0.65211928  0.6267736 ]\n",
      "(38,)\n",
      "fitting data to tICA model\n",
      "Sparse time-structure based Independent Components Analysis (tICA)\n",
      "------------------------------------------------------------------\n",
      "n_components        : 5\n",
      "gamma               : 0.05\n",
      "lag_time            : 5\n",
      "weighted_transform  : True\n",
      "rho                 : 0.0001\n",
      "n_features          : 128\n",
      "\n",
      "Top 5 timescales :\n",
      "[ 0.  0.  0.  0.  0.]\n",
      "\n",
      "Top 5 eigenvalues :\n",
      "[ 0.  0.  0.  0.  0.]\n",
      "\n",
      "Number of active degrees of freedom:\n",
      "[0/128, 0/128, 0/128, 0/128, 0/128]\n",
      "loading /home/amir/Post_Process/GPCR/MOR/LIG_path/BU_path/ligand_protein_contacts/BU-EQRep_0-0.dataset\n",
      "loading /home/amir/Post_Process/GPCR/MOR/LIG_path/BU_path/ligand_protein_contacts/BU-EQRep_2-2.dataset\n",
      "loading /home/amir/Post_Process/GPCR/MOR/LIG_path/BU_path/ligand_protein_contacts/BU-EQRep_2-0.dataset\n",
      "loading /home/amir/Post_Process/GPCR/MOR/LIG_path/BU_path/ligand_protein_contacts/BU-EQRep_1-0.dataset\n",
      "loading /home/amir/Post_Process/GPCR/MOR/LIG_path/BU_path/ligand_protein_contacts/BU-EQRep_3-0.dataset\n",
      "loading /home/amir/Post_Process/GPCR/MOR/LIG_path/BU_path/ligand_protein_contacts/BU-EQRep_3-2.dataset\n",
      "loading /home/amir/Post_Process/GPCR/MOR/LIG_path/BU_path/ligand_protein_contacts/BU-EQRep_0-2.dataset\n",
      "loading /home/amir/Post_Process/GPCR/MOR/LIG_path/BU_path/ligand_protein_contacts/BU-EQRep_1-2.dataset\n",
      "loading /home/amir/Post_Process/GPCR/MOR/LIG_path/BU_path/ligand_protein_contacts/BU-EQRep_0-1.datasetloading /home/amir/Post_Process/GPCR/MOR/LIG_path/BU_path/ligand_protein_contacts/BU-EQRep_2-3.datasetloading /home/amir/Post_Process/GPCR/MOR/LIG_path/BU_path/ligand_protein_contacts/BU-EQRep_2-1.datasetloading /home/amir/Post_Process/GPCR/MOR/LIG_path/BU_path/ligand_protein_contacts/BU-EQRep_1-1.datasetloading /home/amir/Post_Process/GPCR/MOR/LIG_path/BU_path/ligand_protein_contacts/BU-EQRep_3-1.datasetloading /home/amir/Post_Process/GPCR/MOR/LIG_path/BU_path/ligand_protein_contacts/BU-EQRep_3-3.datasetloading /home/amir/Post_Process/GPCR/MOR/LIG_path/BU_path/ligand_protein_contacts/BU-EQRep_0-3.datasetloading /home/amir/Post_Process/GPCR/MOR/LIG_path/BU_path/ligand_protein_contacts/BU-EQRep_1-3.dataset\n",
      "\n",
      "\n",
      "\n",
      "\n",
      "\n",
      "\n",
      "\n",
      "loading /home/amir/Post_Process/GPCR/MOR/LIG_path/BU_path/ligand_protein_contacts/BU-EQRep_4-0.datasetloading /home/amir/Post_Process/GPCR/MOR/LIG_path/BU_path/ligand_protein_contacts/BU-EQRep_5-0.datasetloading /home/amir/Post_Process/GPCR/MOR/LIG_path/BU_path/ligand_protein_contacts/BU-EQrep_5.datasetloading /home/amir/Post_Process/GPCR/MOR/LIG_path/BU_path/ligand_protein_contacts/BU-EQRep_5-2.datasetloading /home/amir/Post_Process/GPCR/MOR/LIG_path/BU_path/ligand_protein_contacts/BU-EQRep_6-0.datasetloading /home/amir/Post_Process/GPCR/MOR/LIG_path/BU_path/ligand_protein_contacts/BU-EQRep_4-2.datasetloading /home/amir/Post_Process/GPCR/MOR/LIG_path/BU_path/ligand_protein_contacts/BU-EQRep_6-2.datasetloading /home/amir/Post_Process/GPCR/MOR/LIG_path/BU_path/ligand_protein_contacts/BU-EQrep_1.dataset\n",
      "\n",
      "\n",
      "\n",
      "\n",
      "\n",
      "\n",
      "\n",
      "loading /home/amir/Post_Process/GPCR/MOR/LIG_path/BU_path/ligand_protein_contacts/BU-EQRep_4-1.datasetloading /home/amir/Post_Process/GPCR/MOR/LIG_path/BU_path/ligand_protein_contacts/BU-EQRep_5-1.datasetloading /home/amir/Post_Process/GPCR/MOR/LIG_path/BU_path/ligand_protein_contacts/BU-R1rep_1.datasetloading /home/amir/Post_Process/GPCR/MOR/LIG_path/BU_path/ligand_protein_contacts/BU-EQRep_5-3.datasetloading /home/amir/Post_Process/GPCR/MOR/LIG_path/BU_path/ligand_protein_contacts/BU-EQRep_6-1.datasetloading /home/amir/Post_Process/GPCR/MOR/LIG_path/BU_path/ligand_protein_contacts/BU-EQRep_4-3.datasetloading /home/amir/Post_Process/GPCR/MOR/LIG_path/BU_path/ligand_protein_contacts/BU-EQRep_6-3.datasetloading /home/amir/Post_Process/GPCR/MOR/LIG_path/BU_path/ligand_protein_contacts/BU-EQrep_2.dataset\n",
      "\n",
      "\n",
      "\n",
      "\n",
      "\n",
      "\n",
      "\n",
      "loading /home/amir/Post_Process/GPCR/MOR/LIG_path/BU_path/ligand_protein_contacts/BU-R1rep_2.datasetloading /home/amir/Post_Process/GPCR/MOR/LIG_path/BU_path/ligand_protein_contacts/BU-EQrep_3.dataset\n",
      "loading /home/amir/Post_Process/GPCR/MOR/LIG_path/BU_path/ligand_protein_contacts/BU-R1rep_4.dataset\n",
      "loading /home/amir/Post_Process/GPCR/MOR/LIG_path/BU_path/ligand_protein_contacts/BU-EQrep_4.dataset\n",
      "loading /home/amir/Post_Process/GPCR/MOR/LIG_path/BU_path/ligand_protein_contacts/BU-R1rep_3.dataset\n",
      "loading /home/amir/Post_Process/GPCR/MOR/LIG_path/BU_path/ligand_protein_contacts/BU-R1rep_5.dataset\n",
      "\n",
      "\n",
      "transformed data with tICA model\n",
      "Saving \"/home/amir/Post_Process/GPCR/MOR/LIG_path/BU_path/tica_ligand_protein_contacts_2_sparse_0pt001/phi_psi_chi2_allprot_tica_coords.h5\"... (<class 'msmbuilder.decomposition.sparsetica.SparseTICA'>)\n",
      "saved tICA model\n",
      "Saving \"/home/amir/Post_Process/GPCR/MOR/LIG_path/BU_path/tica_ligand_protein_contacts_2_sparse_0pt001/phi_psi_chi2_allprot_projected.h5\"... (<class 'list'>)\n",
      "saved data projected onto tICA coords\n"
     ]
    },
    {
     "name": "stderr",
     "output_type": "stream",
     "text": [
      "/home/amir/source/msmbuilder/msmbuilder/decomposition/speigh.py:392: UserWarning: unbounded_inaccurate\n",
      "  warnings.warn(problem.status)\n"
     ]
    }
   ],
   "source": [
    "os.system(\"rm -rf %s\" % tica_dir)\n",
    "lag_time = 5\n",
    "n_components = 5\n",
    "sparse = True\n",
    "wolf = True\n",
    "rho = 0.0001\n",
    "shrinkage = None\n",
    "traj_ext = \".h5\"\n",
    "fit_and_transform(features_directory = features_dir, model_dir = tica_dir, stride=5, lag_time = lag_time, n_components = n_components, sparse = sparse, wolf = wolf, rho = rho, shrinkage = shrinkage, parallel=True, traj_ext = traj_ext)"
   ]
  },
  {
   "cell_type": "code",
   "execution_count": 11,
   "metadata": {
    "collapsed": false
   },
   "outputs": [],
   "source": [
    "projected_features_dir = \"%s/phi_psi_chi2_allprot_projected.h5\" % tica_dir\n",
    "#plot_columns(tica_dir, projected_features_dir, titles = [\"tIC%d\" %j for j in range(1,6)], tICA = True, scale = 1.0, refcoords_file = None)"
   ]
  },
  {
   "cell_type": "code",
   "execution_count": 17,
   "metadata": {
    "collapsed": true
   },
   "outputs": [],
   "source": [
    "%load_ext autoreload\n",
    "%autoreload 2"
   ]
  },
  {
   "cell_type": "code",
   "execution_count": 12,
   "metadata": {
    "collapsed": false
   },
   "outputs": [],
   "source": [
    "tic_components_dir = \"%s/tic_components\" % tica_dir\n",
    "if not os.path.exists(tic_components_dir): os.makedirs(tic_components_dir)\n",
    "projection_operator_dir = \"%s/phi_psi_chi2_allprot_tica_coords.h5\" % tica_dir\n",
    "#interpret_tIC_components(projection_operator_dir, tic_components_dir, feature_residues_pkl, n_tica_components=5, percentile=95)\n"
   ]
  },
  {
   "cell_type": "code",
   "execution_count": 12,
   "metadata": {
    "collapsed": false
   },
   "outputs": [
    {
     "name": "stdout",
     "output_type": "stream",
     "text": [
      "Clustering by KMeans\n",
      "loading \"/home/amir/Post_Process/GPCR/MOR/LIG_path/BU_path/tica_ligand_protein_contacts/phi_psi_chi2_allprot_projected.h5\"...\n",
      "Saving \"/home/amir/Post_Process/GPCR/MOR/LIG_path/BU_path/tica_ligand_protein_contacts/clusterer_20clusters.h5\"... (<class 'msmbuilder.cluster.MiniBatchKMeans'>)\n"
     ]
    }
   ],
   "source": [
    "n_clusters = 20\n",
    "clusterer_dir = \"%s/clusterer_20clusters.h5\" % tica_dir\n",
    "cluster_minikmeans(tica_dir, projected_features_dir, traj_dir, n_clusters, clusterer_dir, tICs=list(range(0,5)))"
   ]
  },
  {
   "cell_type": "code",
   "execution_count": 13,
   "metadata": {
    "collapsed": false
   },
   "outputs": [
    {
     "name": "stdout",
     "output_type": "stream",
     "text": [
      "loading \"/home/amir/Post_Process/GPCR/MOR/LIG_path/BU_path/tica_ligand_protein_contacts/clusterer_20clusters.h5\"...\n",
      "262\n",
      "634\n",
      "324\n",
      "508\n",
      "230\n",
      "218\n",
      "53\n",
      "495\n",
      "127\n",
      "51\n",
      "199\n",
      "127\n",
      "157\n",
      "225\n",
      "196\n",
      "46\n",
      "170\n",
      "213\n",
      "73\n",
      "99\n",
      "loading \"/home/amir/Post_Process/GPCR/MOR/LIG_path/BU_path/tica_ligand_protein_contacts/phi_psi_chi2_allprot_projected.h5\"...\n",
      "[-0.01124774  0.58449434 -1.08396697  1.11620643 -0.65247929]\n",
      "[-0.67914499  0.67845379  0.12448838 -0.51431626  1.13534581]\n",
      "[ 0.61522346 -1.69544941 -0.25643443 -0.33323974  0.26822238]\n",
      "[-0.54891778  0.45493771  0.0723318   0.12042543  0.07938815]\n",
      "[-0.40135866 -0.42609819  1.43762083 -1.24069908 -1.50903686]\n",
      "[-0.05751177 -0.35714849 -0.27142278  1.34217091 -0.0967051 ]\n",
      "[ 2.32771449  2.74901408  1.77317397  2.60938902  0.24579139]\n",
      "[-0.65404158  0.98874826 -0.6921161  -0.97706034 -0.64371765]\n",
      "[ 0.53989198 -1.17048726 -0.77504116  0.220729   -0.6812312 ]\n",
      "[ 5.03829811  2.25991895  0.87660835 -2.2717616   1.20413478]\n",
      "[-0.16659334 -0.45086256  0.68093974  0.51715303  0.14358958]\n",
      "[-0.10441956 -0.79024438  1.61668376 -0.39086038  0.14516128]\n",
      "[ 0.33191646 -1.38544485 -1.3747756  -0.81395537  0.07523187]\n",
      "[-0.09144831 -0.66621771  0.8159168   1.02075835  1.45114176]\n",
      "[-0.06594757  0.36142044  0.23103396  1.18088018 -1.64904072]\n",
      "[ 4.79192433  2.50714619  0.71260769  0.2233401  -0.2478105 ]\n",
      "[-0.12803423 -0.11911066 -1.13717304  0.72860885  1.13212654]\n",
      "[ 0.09756859 -0.64379944  1.56104939  0.81372572 -0.77661981]\n",
      "[ 1.30302553 -1.74597843  1.00538228 -1.98749691  0.0958186 ]\n",
      "[ 1.88647711 -0.57321286 -2.65066866 -0.073881   -0.52297811]\n",
      "[(9, 26, 0.44212772958804564), (9, 173, 0.54343053283480258), (13, 108, 1.0782893318022184), (18, 55, 1.1306187163762786), (18, 106, 0.62483188157628666), (13, 141, 1.1978654517121901), (9, 84, 0.60429929662652782), (18, 121, 1.0010478945021923), (9, 162, 0.6437727607612822), (13, 121, 0.96936030894546288)]\n",
      "[0, 1, 2, 3, 4, 5, 6, 7, 8, 9, 10, 11, 12, 13, 14, 15, 16, 17, 18, 19]\n",
      "20\n",
      "[(9, 36, 0.14242509578852866), (9, 28, 0.15767114696908308), (9, 29, 0.18091942732292662), (9, 44, 0.18209317527343319), (9, 38, 0.18303267873029097), (9, 27, 0.194565111909379), (9, 9, 0.21235569883311425), (9, 33, 0.22229451937975031), (9, 32, 0.2309931641927723), (9, 11, 0.23360750756160495)]\n",
      "Done sampling, now saving clusters map\n",
      "0\n",
      "1\n",
      "2\n",
      "3\n",
      "4\n",
      "5\n",
      "6\n",
      "7\n",
      "8\n",
      "9\n",
      "10\n",
      "11\n",
      "12\n",
      "13\n",
      "14\n",
      "15\n",
      "16\n",
      "17\n",
      "18\n",
      "19\n",
      "cluster 0 sample 90\n",
      "cluster 1 sample 48\n",
      "cluster 2 sample 142\n",
      "cluster 3 sample 114\n",
      "cluster 4 sample 224\n",
      "cluster 5 sample 145\n",
      "cluster 6 sample 50\n",
      "cluster 7 sample 251\n",
      "cluster 0 sample 78cluster 1 sample 82cluster 2 sample 254cluster 3 sample 187cluster 4 sample 13cluster 5 sample 183cluster 6 sample 23cluster 7 sample 458\n",
      "\n",
      "\n",
      "\n",
      "\n",
      "\n",
      "\n",
      "\n",
      "cluster 0 sample 238cluster 1 sample 461cluster 2 sample 220cluster 3 sample 361cluster 4 sample 98cluster 5 sample 210cluster 6 sample 21cluster 7 sample 96\n",
      "\n",
      "\n",
      "\n",
      "\n",
      "\n",
      "\n",
      "\n",
      "cluster 0 sample 155cluster 1 sample 278cluster 2 sample 241cluster 3 sample 167cluster 4 sample 58cluster 5 sample 216cluster 6 sample 32cluster 7 sample 255\n",
      "\n",
      "\n",
      "\n",
      "\n",
      "\n",
      "\n",
      "\n",
      "cluster 0 sample 166cluster 1 sample 506cluster 2 sample 56cluster 3 sample 292cluster 4 sample 211cluster 5 sample 81cluster 6 sample 35cluster 7 sample 486\n",
      "\n",
      "\n",
      "\n",
      "\n",
      "\n",
      "\n",
      "\n",
      "cluster 0 sample 21cluster 1 sample 171cluster 2 sample 15cluster 3 sample 230cluster 4 sample 112cluster 5 sample 184cluster 6 sample 13cluster 7 sample 295\n",
      "\n",
      "\n",
      "\n",
      "\n",
      "\n",
      "\n",
      "\n",
      "cluster 0 sample 59cluster 1 sample 11cluster 2 sample 137cluster 3 sample 286cluster 4 sample 41cluster 5 sample 124cluster 6 sample 7cluster 7 sample 272\n",
      "\n",
      "\n",
      "\n",
      "\n",
      "\n",
      "\n",
      "\n",
      "cluster 0 sample 121cluster 1 sample 499cluster 2 sample 78cluster 3 sample 348cluster 4 sample 175cluster 5 sample 91cluster 6 sample 16cluster 7 sample 312\n",
      "\n",
      "\n",
      "\n",
      "\n",
      "\n",
      "\n",
      "\n",
      "cluster 0 sample 216cluster 1 sample 155cluster 2 sample 159cluster 3 sample 266cluster 4 sample 80cluster 5 sample 32cluster 6 sample 5cluster 7 sample 79\n",
      "\n",
      "\n",
      "\n",
      "\n",
      "\n",
      "\n",
      "\n",
      "cluster 0 sample 234cluster 1 sample 434cluster 2 sample 43cluster 3 sample 301cluster 4 sample 70cluster 5 sample 15cluster 6 sample 40cluster 7 sample 66\n",
      "\n",
      "\n",
      "\n",
      "\n",
      "\n",
      "\n",
      "\n",
      "01234567\n",
      "\n",
      "\n",
      "\n",
      "\n",
      "\n",
      "\n",
      "\n",
      "cluster 10 sample 93\n",
      "cluster 15 sample 35\n",
      "cluster 14 sample 186\n",
      "cluster 12 sample 96\n",
      "cluster 8 sample 48\n",
      "cluster 13 sample 31\n",
      "cluster 11 sample 50\n",
      "cluster 9 sample 37\n",
      "cluster 10 sample 50cluster 15 sample 23cluster 14 sample 51cluster 12 sample 79cluster 8 sample 65cluster 13 sample 108cluster 11 sample 76cluster 9 sample 19\n",
      "\n",
      "\n",
      "\n",
      "\n",
      "\n",
      "\n",
      "\n",
      "cluster 10 sample 4cluster 15 sample 27cluster 14 sample 149cluster 12 sample 86cluster 8 sample 69cluster 13 sample 209cluster 11 sample 35cluster 9 sample 36\n",
      "\n",
      "\n",
      "\n",
      "\n",
      "\n",
      "\n",
      "\n",
      "cluster 10 sample 102cluster 15 sample 3cluster 14 sample 141cluster 12 sample 48cluster 8 sample 9cluster 13 sample 84cluster 11 sample 106cluster 9 sample 22\n",
      "\n",
      "\n",
      "\n",
      "\n",
      "\n",
      "\n",
      "\n",
      "cluster 10 sample 187cluster 15 sample 34cluster 14 sample 36cluster 12 sample 4cluster 8 sample 106cluster 13 sample 224cluster 11 sample 10cluster 9 sample 42\n",
      "\n",
      "\n",
      "\n",
      "\n",
      "\n",
      "\n",
      "\n",
      "cluster 10 sample 145cluster 15 sample 20cluster 14 sample 124cluster 12 sample 40cluster 8 sample 117cluster 13 sample 6cluster 11 sample 121cluster 9 sample 41\n",
      "\n",
      "\n",
      "\n",
      "\n",
      "\n",
      "\n",
      "\n",
      "cluster 10 sample 198cluster 15 sample 12cluster 14 sample 118cluster 12 sample 18cluster 8 sample 62cluster 13 sample 32cluster 11 sample 57cluster 9 sample 2\n",
      "\n",
      "\n",
      "\n",
      "\n",
      "\n",
      "\n",
      "\n",
      "cluster 10 sample 104cluster 15 sample 22cluster 14 sample 20cluster 12 sample 88cluster 8 sample 7cluster 13 sample 122cluster 11 sample 23cluster 9 sample 11\n",
      "\n",
      "\n",
      "\n",
      "\n",
      "\n",
      "\n",
      "\n",
      "cluster 10 sample 151cluster 15 sample 11cluster 14 sample 73cluster 12 sample 146cluster 8 sample 40cluster 13 sample 107cluster 11 sample 97cluster 9 sample 7\n",
      "\n",
      "\n",
      "\n",
      "\n",
      "\n",
      "\n",
      "\n",
      "cluster 10 sample 182cluster 15 sample 32cluster 14 sample 112cluster 12 sample 121cluster 8 sample 58cluster 13 sample 170cluster 11 sample 60cluster 9 sample 4\n",
      "\n",
      "\n",
      "\n",
      "\n",
      "\n",
      "\n",
      "\n",
      "10151412813119\n",
      "\n",
      "\n",
      "\n",
      "\n",
      "\n",
      "\n",
      "\n",
      "cluster 19 sample 93\n",
      "cluster 18 sample 54\n",
      "cluster 17 sample 160\n",
      "cluster 16 sample 52\n",
      "cluster 16 sample 35cluster 19 sample 71cluster 18 sample 7cluster 17 sample 38\n",
      "\n",
      "\n",
      "\n",
      "cluster 16 sample 36cluster 19 sample 41cluster 18 sample 30cluster 17 sample 31\n",
      "\n",
      "\n",
      "\n",
      "cluster 16 sample 167cluster 19 sample 7cluster 18 sample 46cluster 17 sample 156\n",
      "\n",
      "\n",
      "\n",
      "cluster 16 sample 78cluster 19 sample 76cluster 18 sample 19cluster 17 sample 97\n",
      "\n",
      "\n",
      "\n",
      "cluster 16 sample 96cluster 19 sample 83cluster 18 sample 38cluster 17 sample 168\n",
      "\n",
      "\n",
      "\n",
      "cluster 16 sample 25cluster 19 sample 66cluster 18 sample 51cluster 17 sample 2\n",
      "\n",
      "\n",
      "\n",
      "cluster 16 sample 79cluster 19 sample 86cluster 18 sample 11cluster 17 sample 120\n",
      "\n",
      "\n",
      "\n",
      "cluster 16 sample 135cluster 19 sample 32cluster 18 sample 4cluster 17 sample 116\n",
      "\n",
      "\n",
      "\n",
      "cluster 16 sample 99cluster 19 sample 5cluster 18 sample 33cluster 17 sample 35\n",
      "\n",
      "\n",
      "\n",
      "16191817\n",
      "\n",
      "\n",
      "\n"
     ]
    }
   ],
   "source": [
    "n_samples=10\n",
    "save_dir = \"%s/clusters20_samples10\" % tica_dir\n",
    "sampling_method = \"random\"\n",
    "clusters_map_file = \"%s/clusters20_map.h5\" % tica_dir\n",
    "sample_clusters(clusterer_dir, projected_features_dir, traj_dir, traj_ext, save_dir, n_samples, method = sampling_method, clusters_map_file = clusters_map_file)"
   ]
  },
  {
   "cell_type": "code",
   "execution_count": null,
   "metadata": {
    "collapsed": true
   },
   "outputs": [],
   "source": [
    "plot_all_tics_and_clusters(tica_dir, projected_features_dir, clusterer_dir, lag_time, label = \"dot\", active_cluster_ids = range(0,20), intermediate_cluster_ids = [], inactive_cluster_ids = [])"
   ]
  },
  {
   "cell_type": "code",
   "execution_count": 13,
   "metadata": {
    "collapsed": false
   },
   "outputs": [
    {
     "name": "stdout",
     "output_type": "stream",
     "text": [
      "loading /home/amir/Post_Process/GPCR/MOR/LIG_path/BU_path/ligand_protein_contacts/BU-EQRep_0-0.dataset\n",
      "loading /home/amir/Post_Process/GPCR/MOR/LIG_path/BU_path/ligand_protein_contacts/BU-EQRep_0-1.dataset\n",
      "loading /home/amir/Post_Process/GPCR/MOR/LIG_path/BU_path/ligand_protein_contacts/BU-EQRep_0-2.dataset\n",
      "loading /home/amir/Post_Process/GPCR/MOR/LIG_path/BU_path/ligand_protein_contacts/BU-EQRep_0-3.dataset\n",
      "loading /home/amir/Post_Process/GPCR/MOR/LIG_path/BU_path/ligand_protein_contacts/BU-EQRep_1-0.dataset\n",
      "loading /home/amir/Post_Process/GPCR/MOR/LIG_path/BU_path/ligand_protein_contacts/BU-EQRep_1-1.dataset\n",
      "loading /home/amir/Post_Process/GPCR/MOR/LIG_path/BU_path/ligand_protein_contacts/BU-EQRep_1-2.dataset\n",
      "loading /home/amir/Post_Process/GPCR/MOR/LIG_path/BU_path/ligand_protein_contacts/BU-EQRep_1-3.dataset\n",
      "loading /home/amir/Post_Process/GPCR/MOR/LIG_path/BU_path/ligand_protein_contacts/BU-EQRep_2-0.dataset\n",
      "loading /home/amir/Post_Process/GPCR/MOR/LIG_path/BU_path/ligand_protein_contacts/BU-EQRep_2-1.dataset\n",
      "loading /home/amir/Post_Process/GPCR/MOR/LIG_path/BU_path/ligand_protein_contacts/BU-EQRep_2-2.dataset\n",
      "loading /home/amir/Post_Process/GPCR/MOR/LIG_path/BU_path/ligand_protein_contacts/BU-EQRep_2-3.dataset\n",
      "loading /home/amir/Post_Process/GPCR/MOR/LIG_path/BU_path/ligand_protein_contacts/BU-EQRep_3-0.dataset\n",
      "loading /home/amir/Post_Process/GPCR/MOR/LIG_path/BU_path/ligand_protein_contacts/BU-EQRep_3-1.dataset\n",
      "loading /home/amir/Post_Process/GPCR/MOR/LIG_path/BU_path/ligand_protein_contacts/BU-EQRep_3-2.dataset\n",
      "loading /home/amir/Post_Process/GPCR/MOR/LIG_path/BU_path/ligand_protein_contacts/BU-EQRep_3-3.dataset\n",
      "loading /home/amir/Post_Process/GPCR/MOR/LIG_path/BU_path/ligand_protein_contacts/BU-EQRep_4-0.dataset\n",
      "loading /home/amir/Post_Process/GPCR/MOR/LIG_path/BU_path/ligand_protein_contacts/BU-EQRep_4-1.dataset\n",
      "loading /home/amir/Post_Process/GPCR/MOR/LIG_path/BU_path/ligand_protein_contacts/BU-EQRep_4-2.dataset\n",
      "loading /home/amir/Post_Process/GPCR/MOR/LIG_path/BU_path/ligand_protein_contacts/BU-EQRep_4-3.dataset\n",
      "loading /home/amir/Post_Process/GPCR/MOR/LIG_path/BU_path/ligand_protein_contacts/BU-EQRep_5-0.dataset\n",
      "loading /home/amir/Post_Process/GPCR/MOR/LIG_path/BU_path/ligand_protein_contacts/BU-EQRep_5-1.dataset\n",
      "loading /home/amir/Post_Process/GPCR/MOR/LIG_path/BU_path/ligand_protein_contacts/BU-EQRep_5-2.dataset\n",
      "loading /home/amir/Post_Process/GPCR/MOR/LIG_path/BU_path/ligand_protein_contacts/BU-EQRep_5-3.dataset\n",
      "loading /home/amir/Post_Process/GPCR/MOR/LIG_path/BU_path/ligand_protein_contacts/BU-EQRep_6-0.dataset\n",
      "loading /home/amir/Post_Process/GPCR/MOR/LIG_path/BU_path/ligand_protein_contacts/BU-EQRep_6-1.dataset\n",
      "loading /home/amir/Post_Process/GPCR/MOR/LIG_path/BU_path/ligand_protein_contacts/BU-EQRep_6-2.dataset\n",
      "loading /home/amir/Post_Process/GPCR/MOR/LIG_path/BU_path/ligand_protein_contacts/BU-EQRep_6-3.dataset\n",
      "loading /home/amir/Post_Process/GPCR/MOR/LIG_path/BU_path/ligand_protein_contacts/BU-EQrep_1.dataset\n",
      "loading /home/amir/Post_Process/GPCR/MOR/LIG_path/BU_path/ligand_protein_contacts/BU-EQrep_2.dataset\n",
      "loading /home/amir/Post_Process/GPCR/MOR/LIG_path/BU_path/ligand_protein_contacts/BU-EQrep_3.dataset\n",
      "loading /home/amir/Post_Process/GPCR/MOR/LIG_path/BU_path/ligand_protein_contacts/BU-EQrep_4.dataset\n",
      "loading /home/amir/Post_Process/GPCR/MOR/LIG_path/BU_path/ligand_protein_contacts/BU-EQrep_5.dataset\n",
      "loading /home/amir/Post_Process/GPCR/MOR/LIG_path/BU_path/ligand_protein_contacts/BU-R1rep_1.dataset\n",
      "loading /home/amir/Post_Process/GPCR/MOR/LIG_path/BU_path/ligand_protein_contacts/BU-R1rep_2.dataset\n",
      "loading /home/amir/Post_Process/GPCR/MOR/LIG_path/BU_path/ligand_protein_contacts/BU-R1rep_3.dataset\n",
      "loading /home/amir/Post_Process/GPCR/MOR/LIG_path/BU_path/ligand_protein_contacts/BU-R1rep_4.dataset\n",
      "loading /home/amir/Post_Process/GPCR/MOR/LIG_path/BU_path/ligand_protein_contacts/BU-R1rep_5.dataset\n"
     ]
    }
   ],
   "source": [
    "feature_files = get_trajectory_files(features_dir, \".dataset\")\n",
    "features = [load_file(feature_file) for feature_file in feature_files]"
   ]
  },
  {
   "cell_type": "code",
   "execution_count": 14,
   "metadata": {
    "collapsed": true
   },
   "outputs": [],
   "source": [
    "features = np.concatenate(features)"
   ]
  },
  {
   "cell_type": "code",
   "execution_count": 18,
   "metadata": {
    "collapsed": false
   },
   "outputs": [
    {
     "name": "stdout",
     "output_type": "stream",
     "text": [
      "loading /home/amir/Post_Process/GPCR/MOR/LIG_path/BU_path/tica_ligand_protein_contacts_2/phi_psi_chi2_allprot_projected.h5\n",
      "loading \"/home/amir/Post_Process/GPCR/MOR/LIG_path/BU_path/tica_ligand_protein_contacts_2/phi_psi_chi2_allprot_projected.h5\"...\n",
      "(6060, 5)\n"
     ]
    }
   ],
   "source": [
    "tics = np.concatenate(load_file(projected_features_dir))\n",
    "print(np.shape(tics))"
   ]
  },
  {
   "cell_type": "code",
   "execution_count": 21,
   "metadata": {
    "collapsed": false
   },
   "outputs": [],
   "source": [
    "with open(feature_residues_pkl, \"rb\") as f:\n",
    "    feature_residues = pickle.load(f)"
   ]
  },
  {
   "cell_type": "code",
   "execution_count": 45,
   "metadata": {
    "collapsed": false
   },
   "outputs": [],
   "source": [
    "feature_to_column = {}\n",
    "for j, feature in enumerate(feature_residues):\n",
    "    feature_to_column[feature[1].resSeq] = j"
   ]
  },
  {
   "cell_type": "code",
   "execution_count": 25,
   "metadata": {
    "collapsed": true
   },
   "outputs": [],
   "source": [
    "%matplotlib inline\n",
    "\n",
    "import matplotlib\n",
    "import numpy as np\n",
    "import matplotlib.pyplot as plt"
   ]
  },
  {
   "cell_type": "code",
   "execution_count": 59,
   "metadata": {
    "collapsed": false
   },
   "outputs": [
    {
     "ename": "KeyError",
     "evalue": "326",
     "output_type": "error",
     "traceback": [
      "\u001b[1;31m---------------------------------------------------------------------------\u001b[0m",
      "\u001b[1;31mKeyError\u001b[0m                                  Traceback (most recent call last)",
      "\u001b[1;32m<ipython-input-59-5bf86b1c5e24>\u001b[0m in \u001b[0;36m<module>\u001b[1;34m()\u001b[0m\n\u001b[0;32m      1\u001b[0m \u001b[1;31m#plt.hexbin(tics[:,0], features[:,feature_to_column[324]], bins='log')\u001b[0m\u001b[1;33m\u001b[0m\u001b[1;33m\u001b[0m\u001b[0m\n\u001b[1;32m----> 2\u001b[1;33m \u001b[0mplt\u001b[0m\u001b[1;33m.\u001b[0m\u001b[0mhexbin\u001b[0m\u001b[1;33m(\u001b[0m\u001b[0mfeatures\u001b[0m\u001b[1;33m[\u001b[0m\u001b[1;33m:\u001b[0m\u001b[1;33m,\u001b[0m\u001b[0mfeature_to_column\u001b[0m\u001b[1;33m[\u001b[0m\u001b[1;36m147\u001b[0m\u001b[1;33m]\u001b[0m\u001b[1;33m]\u001b[0m\u001b[1;33m,\u001b[0m \u001b[0mfeatures\u001b[0m\u001b[1;33m[\u001b[0m\u001b[1;33m:\u001b[0m\u001b[1;33m,\u001b[0m\u001b[0mfeature_to_column\u001b[0m\u001b[1;33m[\u001b[0m\u001b[1;36m326\u001b[0m\u001b[1;33m]\u001b[0m\u001b[1;33m]\u001b[0m\u001b[1;33m,\u001b[0m \u001b[0mbins\u001b[0m\u001b[1;33m=\u001b[0m\u001b[1;34m'log'\u001b[0m\u001b[1;33m)\u001b[0m\u001b[1;33m\u001b[0m\u001b[0m\n\u001b[0m\u001b[0;32m      3\u001b[0m \u001b[1;33m\u001b[0m\u001b[0m\n\u001b[0;32m      4\u001b[0m \u001b[1;31m#plt.axis([-1, 2, 0, 1])\u001b[0m\u001b[1;33m\u001b[0m\u001b[1;33m\u001b[0m\u001b[0m\n",
      "\u001b[1;31mKeyError\u001b[0m: 326"
     ]
    }
   ],
   "source": [
    "#plt.hexbin(tics[:,0], features[:,feature_to_column[324]], bins='log')\n",
    "plt.hexbin(features[:,feature_to_column[147]], features[:,feature_to_column[326]], bins='log')\n",
    "\n",
    "#plt.axis([-1, 2, 0, 1])"
   ]
  },
  {
   "cell_type": "code",
   "execution_count": 48,
   "metadata": {
    "collapsed": false
   },
   "outputs": [
    {
     "name": "stdout",
     "output_type": "stream",
     "text": [
      "[[[-3.67750001 -2.00090003 -3.06229997]\n",
      "  [-3.55780005 -1.92980003 -3.01830006]\n",
      "  [-3.56550002 -1.78180003 -3.05369997]\n",
      "  ..., \n",
      "  [-1.46140003 -0.32269999 -1.54359996]\n",
      "  [-1.40170002 -0.40900001 -1.77069998]\n",
      "  [-1.92920005 -0.43360001 -1.81420004]]]\n",
      "(array([[ 0.29087129,  0.30480972,  0.50911838, ...,  0.31547278,\n",
      "         0.29779878,  0.30303043]], dtype=float32), array([[ 0,  3],\n",
      "       [ 0,  4],\n",
      "       [ 0,  5],\n",
      "       ..., \n",
      "       [47, 50],\n",
      "       [47, 51],\n",
      "       [48, 51]]))\n"
     ]
    }
   ],
   "source": [
    "subset = crystal_structure.atom_slice(range(0,400))\n",
    "subset.xyz\n",
    "print(subset.xyz)\n",
    "distances = md.compute_contacts(subset)\n",
    "print(distances)\n"
   ]
  },
  {
   "cell_type": "code",
   "execution_count": 20,
   "metadata": {
    "collapsed": false
   },
   "outputs": [],
   "source": [
    "distances0 = distances[0]"
   ]
  },
  {
   "cell_type": "code",
   "execution_count": 23,
   "metadata": {
    "collapsed": false
   },
   "outputs": [],
   "source": [
    "distances0 = np.nan_to_num(distances0)"
   ]
  },
  {
   "cell_type": "code",
   "execution_count": 24,
   "metadata": {
    "collapsed": false
   },
   "outputs": [
    {
     "data": {
      "text/plain": [
       "array([[ 0.,  0.,  0., ...,  0.,  0.,  0.]], dtype=float32)"
      ]
     },
     "execution_count": 24,
     "metadata": {},
     "output_type": "execute_result"
    }
   ],
   "source": [
    "distances0"
   ]
  },
  {
   "cell_type": "code",
   "execution_count": 25,
   "metadata": {
    "collapsed": false
   },
   "outputs": [
    {
     "data": {
      "text/plain": [
       "(array([], dtype=int64), array([], dtype=int64))"
      ]
     },
     "execution_count": 25,
     "metadata": {},
     "output_type": "execute_result"
    }
   ],
   "source": [
    "np.where(distances0 > 0.0)"
   ]
  },
  {
   "cell_type": "code",
   "execution_count": null,
   "metadata": {
    "collapsed": true
   },
   "outputs": [],
   "source": []
  }
 ],
 "metadata": {
  "kernelspec": {
   "display_name": "Python 3",
   "language": "python",
   "name": "python3"
  },
  "language_info": {
   "codemirror_mode": {
    "name": "ipython",
    "version": 3
   },
   "file_extension": ".py",
   "mimetype": "text/x-python",
   "name": "python",
   "nbconvert_exporter": "python",
   "pygments_lexer": "ipython3",
   "version": "3.4.4"
  }
 },
 "nbformat": 4,
 "nbformat_minor": 0
}
