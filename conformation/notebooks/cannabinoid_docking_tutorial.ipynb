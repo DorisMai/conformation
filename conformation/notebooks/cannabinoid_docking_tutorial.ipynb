{
 "cells": [
  {
   "cell_type": "code",
   "execution_count": 1,
   "metadata": {
    "collapsed": true
   },
   "outputs": [],
   "source": [
    "import os\n",
    "from conformation.src.grids import *\n"
   ]
  },
  {
   "cell_type": "code",
   "execution_count": 9,
   "metadata": {
    "collapsed": true
   },
   "outputs": [],
   "source": [
    "#real-space centroid of the box (in this case, centroid of BU72 in PDB: 5C1M)\n",
    "grid_center = \"0.33, 1.64, 9.\"\n",
    "\n",
    "#docking precision\n",
    "precision = \"XP\"\n",
    "\n",
    "#directories\n",
    "base_dir = \"/home/enf/md_simulations/cb1\"\n",
    "ligands_dir = \"%s/ligands\" %base_dir #replace with where we copied the mol files\n",
    "proteins_dir = \"%s/proteins\" %base_dir #replace with where we copied the protein conformers \n",
    "grids_dir = \"%s/grids\" %base_dir #replace ~ with the base directory you're using for the tutorial\n",
    "\n",
    "if not os.path.exists(base_dir):\n",
    "    os.makedirs(base_dir)\n",
    "if not os.path.exists(ligands_dir):\n",
    "    os.makedirs(ligands_dir)\n",
    "if not os.path.exists(proteins_dir):\n",
    "    os.makedirs(proteins_dir)\n",
    "if not os.path.exists(grids_dir):\n",
    "    os.makedirs(grids_dir)\n",
    "\n",
    "docking_dir = \"%s/docking_%s\" %(base_dir, precision) #replace BASE_DIR with some directory \n",
    "if not os.path.exists(docking_dir):\n",
    "    os.makedirs(docking_dir)\n",
    "    \n",
    "#protein structure to which we align\n",
    "active_ref_dir = \"/home/enf/md_simulations/MOR/bu72_ref_receptors/conformation/bu72_ionized_pymol_RL_conformation.pdb\" #copy this file from vsp-compute\n"
   ]
  },
  {
   "cell_type": "code",
   "execution_count": 10,
   "metadata": {
    "collapsed": true
   },
   "outputs": [],
   "source": [
    "#download cannabinoid compounds\n",
    "cannabinoid_cids = [2543,\n",
    "                    10382701,\n",
    "                    5311501,\n",
    "                    6918505,\n",
    "                    9821569,\n",
    "                    107778,\n",
    "                    3083542,\n",
    "                    4302963,\n",
    "                    644019,\n",
    "                    5712057,\n",
    "                    3081355,\n",
    "                    5361881,\n",
    "                    53393997,\n",
    "                    16078,\n",
    "                    10471670]\n",
    "download_sdfs_from_cids(cannabinoid_cids, ligands_dir, worker_pool=None, parallel=True)"
   ]
  },
  {
   "cell_type": "code",
   "execution_count": 4,
   "metadata": {},
   "outputs": [
    {
     "name": "stdout",
     "output_type": "stream",
     "text": [
      "1\n",
      "['/home/enf/md_simulations/cb1/proteins/5tgz.pdb']\n",
      "already prepped and mae'd protein\n",
      "Done prepping proteins\n",
      "/home/enf/md_simulations/cb1/grids\n",
      "['/home/enf/md_simulations/cb1/proteins/5tgz.mae']\n",
      "Already created that grid job, skipping\n",
      "already generated grid; skipping\n",
      "Examining 15 ligands\n",
      "finished preparing ligands\n"
     ]
    }
   ],
   "source": [
    "\n",
    "#protein preparation\n",
    "pprep(proteins_dir, ref = active_ref_dir, chosen_receptors = None, worker_pool=None, parallel=False)\n",
    "\n",
    "#generate docking grids\n",
    "generate_grids(proteins_dir, grid_center,\n",
    "               grids_dir, remove_lig = \"LIG\",\n",
    "               chosen_receptors = None,\n",
    "               worker_pool=None, outer_box=25.,\n",
    "               parallel=False)\n",
    "\n",
    "#prepare ligands for docking\n",
    "ligand_df = prepare_ligands(ligands_dir, exts = [\".mol\", \".sdf\"],\n",
    "                            n_ring_conf=6, n_stereoisomers=32,\n",
    "                            force_field=16, worker_pool=None,\n",
    "                            parallel=True, redo=False,\n",
    "                            smiles_df=None)\n",
    "\n",
    "chosen_receptors=None"
   ]
  },
  {
   "cell_type": "code",
   "execution_count": null,
   "metadata": {},
   "outputs": [
    {
     "name": "stdout",
     "output_type": "stream",
     "text": [
      "Creating new directories for each ligand.\n",
      "Done creating directories. Determining which docking jobs to conduct.\n",
      "12\n",
      "0.18297243118286133\n",
      "15\n",
      "About to do 15 Docking computations.\n",
      "timeout 3600 $SCHRODINGER/glide /home/enf/md_simulations/cb1/docking_XP/CID_10471670/5tgz.in -OVERWRITE -WAIT -strict -NOJOBID > 5tgz.log\n",
      "timeout 3600 $SCHRODINGER/glide /home/enf/md_simulations/cb1/docking_XP/CID_10382701/5tgz.in -OVERWRITE -WAIT -strict -NOJOBID > 5tgz.log\n",
      "timeout 3600 $SCHRODINGER/glide /home/enf/md_simulations/cb1/docking_XP/CID_107778/5tgz.in -OVERWRITE -WAIT -strict -NOJOBID > 5tgz.log\n",
      "timeout 3600 $SCHRODINGER/glide /home/enf/md_simulations/cb1/docking_XP/CID_16078/5tgz.in -OVERWRITE -WAIT -strict -NOJOBID > 5tgz.log\n",
      "timeout 3600 $SCHRODINGER/glide /home/enf/md_simulations/cb1/docking_XP/CID_2543/5tgz.in -OVERWRITE -WAIT -strict -NOJOBID > 5tgz.log\n",
      "timeout 3600 $SCHRODINGER/glide /home/enf/md_simulations/cb1/docking_XP/CID_3081355/5tgz.in -OVERWRITE -WAIT -strict -NOJOBID > 5tgz.log\n"
     ]
    }
   ],
   "source": [
    "#dock\n",
    "\n",
    "dock_ligands_and_receptors(grids_dir, docking_dir, ligands_dir,\n",
    "                           precision = precision, ext = \"-out.maegz\",\n",
    "                           parallel = True,\n",
    "                           grid_ext = \".zip\", worker_pool=None, retry_after_failed=False,                           \n",
    "                           timeout=60*60)"
   ]
  },
  {
   "cell_type": "code",
   "execution_count": 6,
   "metadata": {},
   "outputs": [
    {
     "data": {
      "text/plain": [
       "'/home/enf/md_simulations/cb1/docking_SP'"
      ]
     },
     "execution_count": 6,
     "metadata": {},
     "output_type": "execute_result"
    }
   ],
   "source": [
    "docking_dir"
   ]
  },
  {
   "cell_type": "code",
   "execution_count": 7,
   "metadata": {},
   "outputs": [
    {
     "name": "stdout",
     "output_type": "stream",
     "text": [
      "Analyzing docking results\n",
      "/home/enf/md_simulations/cb1/docking_SP\n",
      "Obtaining docking scores now...\n",
      "Obtained ligand arguments.\n",
      "0.18042278289794922\n",
      "Examined all ligands.\n",
      "0.18648195266723633\n",
      "Parsed all log files.\n"
     ]
    }
   ],
   "source": [
    "docking_df, poses_df = analyze_docking_results_multiple(docking_dir, precision, \"%s/summary.pkl\" %docking_dir,\n",
    "                                                        poses_summary=None, redo=False, reread=True,\n",
    "                                                        write_to_disk=True, worker_pool=None, parallel=True)\n",
    "\n",
    "\n"
   ]
  },
  {
   "cell_type": "code",
   "execution_count": 8,
   "metadata": {},
   "outputs": [
    {
     "data": {
      "text/html": [
       "<div>\n",
       "<table border=\"1\" class=\"dataframe\">\n",
       "  <thead>\n",
       "    <tr style=\"text-align: right;\">\n",
       "      <th></th>\n",
       "      <th>5tgz</th>\n",
       "    </tr>\n",
       "  </thead>\n",
       "  <tbody>\n",
       "    <tr>\n",
       "      <th>CID_2543</th>\n",
       "      <td>7.82</td>\n",
       "    </tr>\n",
       "    <tr>\n",
       "      <th>CID_3083542</th>\n",
       "      <td>-0.00</td>\n",
       "    </tr>\n",
       "    <tr>\n",
       "      <th>CID_5712057</th>\n",
       "      <td>9.07</td>\n",
       "    </tr>\n",
       "    <tr>\n",
       "      <th>CID_9821569</th>\n",
       "      <td>-0.00</td>\n",
       "    </tr>\n",
       "    <tr>\n",
       "      <th>CID_16078</th>\n",
       "      <td>-0.00</td>\n",
       "    </tr>\n",
       "    <tr>\n",
       "      <th>CID_107778</th>\n",
       "      <td>-0.00</td>\n",
       "    </tr>\n",
       "    <tr>\n",
       "      <th>CID_644019</th>\n",
       "      <td>8.41</td>\n",
       "    </tr>\n",
       "    <tr>\n",
       "      <th>CID_5361881</th>\n",
       "      <td>-0.00</td>\n",
       "    </tr>\n",
       "    <tr>\n",
       "      <th>CID_10382701</th>\n",
       "      <td>6.26</td>\n",
       "    </tr>\n",
       "    <tr>\n",
       "      <th>CID_4302963</th>\n",
       "      <td>8.99</td>\n",
       "    </tr>\n",
       "    <tr>\n",
       "      <th>CID_53393997</th>\n",
       "      <td>10.38</td>\n",
       "    </tr>\n",
       "    <tr>\n",
       "      <th>CID_3081355</th>\n",
       "      <td>-0.00</td>\n",
       "    </tr>\n",
       "    <tr>\n",
       "      <th>CID_6918505</th>\n",
       "      <td>7.31</td>\n",
       "    </tr>\n",
       "    <tr>\n",
       "      <th>CID_5311501</th>\n",
       "      <td>-0.00</td>\n",
       "    </tr>\n",
       "    <tr>\n",
       "      <th>CID_10471670</th>\n",
       "      <td>7.21</td>\n",
       "    </tr>\n",
       "  </tbody>\n",
       "</table>\n",
       "</div>"
      ],
      "text/plain": [
       "               5tgz\n",
       "CID_2543       7.82\n",
       "CID_3083542   -0.00\n",
       "CID_5712057    9.07\n",
       "CID_9821569   -0.00\n",
       "CID_16078     -0.00\n",
       "CID_107778    -0.00\n",
       "CID_644019     8.41\n",
       "CID_5361881   -0.00\n",
       "CID_10382701   6.26\n",
       "CID_4302963    8.99\n",
       "CID_53393997  10.38\n",
       "CID_3081355   -0.00\n",
       "CID_6918505    7.31\n",
       "CID_5311501   -0.00\n",
       "CID_10471670   7.21"
      ]
     },
     "execution_count": 8,
     "metadata": {},
     "output_type": "execute_result"
    }
   ],
   "source": [
    "docking_df"
   ]
  },
  {
   "cell_type": "code",
   "execution_count": null,
   "metadata": {
    "collapsed": true
   },
   "outputs": [],
   "source": []
  }
 ],
 "metadata": {
  "anaconda-cloud": {},
  "kernelspec": {
   "display_name": "Python [Root]",
   "language": "python",
   "name": "Python [Root]"
  },
  "language_info": {
   "codemirror_mode": {
    "name": "ipython",
    "version": 3
   },
   "file_extension": ".py",
   "mimetype": "text/x-python",
   "name": "python",
   "nbconvert_exporter": "python",
   "pygments_lexer": "ipython3",
   "version": "3.5.2"
  }
 },
 "nbformat": 4,
 "nbformat_minor": 1
}
