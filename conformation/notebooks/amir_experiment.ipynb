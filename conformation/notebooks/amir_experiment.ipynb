{
 "cells": [
  {
   "cell_type": "markdown",
   "metadata": {
    "collapsed": false
   },
   "source": [
    "In this iPython notebook, we will featurize MOR ligand binding simulation by pairwise distances between the ligand and different receptor residues. We will then perform tICA and prospectively build an MSM. "
   ]
  },
  {
   "cell_type": "code",
   "execution_count": 1,
   "metadata": {
    "collapsed": false
   },
   "outputs": [],
   "source": [
    "from PDB_Order_Fixer import PDB_Order_Fixer\n",
    "import mdtraj as md\n",
    "import os\n",
    "import numpy as np\n",
    "import h5py\n",
    "\n",
    "import datetime\n",
    "import glob\n",
    "import copy\n",
    "from functools import partial \n",
    "import operator\n",
    "import time\n",
    "\n",
    "import random \n",
    "import subprocess\n",
    "from subprocess import Popen\n",
    "import sys\n",
    "from io_functions import *\n",
    "from custom_clusterer import *\n",
    "from custom_tica import *\n",
    "from custom_featurizer import *\n",
    "from pdb_editing import *\n",
    "from analysis import *\n",
    "from io_functions import *\n",
    "#from topology_fixing import *\n",
    "from subsampling import *\n",
    "from conversions import *\n",
    "from custom_msm import *\n",
    "from grids import *"
   ]
  },
  {
   "cell_type": "code",
   "execution_count": 2,
   "metadata": {
    "collapsed": false
   },
   "outputs": [
    {
     "name": "stdout",
     "output_type": "stream",
     "text": [
      "WHERE ARE WE?\n"
     ]
    }
   ],
   "source": [
    "from detect_intermediates import *\n",
    "from interpret_tICs import *"
   ]
  },
  {
   "cell_type": "code",
   "execution_count": 3,
   "metadata": {
    "collapsed": false
   },
   "outputs": [
    {
     "name": "stdout",
     "output_type": "stream",
     "text": [
      "tm6_tm3_residues\n",
      "[A279, A165]\n",
      "[65, 66, 67, 68, 69, 70, 71, 72, 73, 74, 75, 76, 77, 78, 79, 80, 81, 82, 83, 84, 85, 86, 87, 88, 89, 90, 91, 92, 93, 94, 95, 96, 97, 98, 99, 100, 101, 102, 103, 104, 105, 106, 107, 108, 109, 110, 111, 112, 113, 114, 115, 116, 117, 118, 119, 120, 121, 122, 123, 124, 125, 126, 127, 128, 129, 130, 131, 132, 133, 134, 135, 136, 137, 138, 139, 140, 141, 142, 143, 144, 145, 146, 147, 148, 149, 150, 151, 152, 153, 154, 155, 156, 157, 158, 159, 160, 161, 162, 163, 164, 165, 166, 167, 168, 169, 170, 171, 172, 173, 174, 175, 176, 177, 178, 179, 180, 181, 182, 183, 184, 185, 186, 187, 188, 189, 190, 191, 192, 193, 194, 195, 196, 197, 198, 199, 200, 201, 202, 203, 204, 205, 206, 207, 208, 209, 210, 211, 212, 213, 214, 215, 216, 217, 218, 219, 220, 221, 222, 223, 224, 225, 226, 227, 228, 229, 230, 231, 232, 233, 234, 235, 236, 237, 238, 239, 240, 241, 242, 243, 244, 245, 246, 247, 248, 249, 250, 251, 252, 253, 254, 255, 256, 257, 258, 259, 273, 274, 275, 276, 277, 278, 279, 280, 281, 282, 283, 284, 285, 286, 287, 288, 289, 290, 291, 292, 293, 294, 295, 296, 297, 298, 299, 300, 301, 302, 303, 304, 305, 306, 307, 308, 309, 310, 311, 312, 313, 314, 315, 316, 317, 318, 319, 320, 321, 322, 323, 324, 325, 326, 327, 328, 329, 330, 331, 332, 333, 334, 335, 336, 337, 338, 339, 340, 341, 342, 343, 344, 345, 346, 347]\n",
      "There are 270 common residues between input structures\n"
     ]
    }
   ],
   "source": [
    "from tutorial_feature_types import *\n",
    "from get_variable_names import *\n",
    "from tutorial_tica_config import *"
   ]
  },
  {
   "cell_type": "code",
   "execution_count": 4,
   "metadata": {
    "collapsed": false
   },
   "outputs": [
    {
     "name": "stdout",
     "output_type": "stream",
     "text": [
      "/home/amir/Post_Process/GPCR/MOR/LIG_path/BU_path/ligand_protein_contacts\n",
      "/home/amir/Post_Process/GPCR/MOR/LIG_path/BU_path/ligand_protein_contacts/feature_residues.pkl\n"
     ]
    }
   ],
   "source": [
    "features_dir = \"%s/ligand_protein_contacts\" % (base)\n",
    "print(features_dir)\n",
    "if not os.path.exists(features_dir): os.makedirs(features_dir)\n",
    "feature_residues_pkl = \"%s/feature_residues.pkl\" % features_dir\n",
    "print(feature_residues_pkl)"
   ]
  },
  {
   "cell_type": "code",
   "execution_count": 5,
   "metadata": {
    "collapsed": true
   },
   "outputs": [],
   "source": [
    "ligand_residue = Residue(resSeq = 900, chain_id=\"J\", res_name=\"LIG\")"
   ]
  },
  {
   "cell_type": "code",
   "execution_count": 6,
   "metadata": {
    "collapsed": false
   },
   "outputs": [
    {
     "name": "stdout",
     "output_type": "stream",
     "text": [
      "[(J900, I225), (J900, I320), (J900, I208), (J900, I139), (J900, I213), (J900, I303), (J900, I236), (J900, I232), (J900, I69), (J900, I207), (J900, I118), (J900, I129), (J900, I201), (J900, I136), (J900, I307), (J900, I205), (J900, I197), (J900, I74), (J900, I67), (J900, I138), (J900, I124), (J900, I76), (J900, I301), (J900, I141), (J900, I292), (J900, I310), (J900, I311), (J900, I125), (J900, I305), (J900, I308), (J900, I309), (J900, I238), (J900, I324), (J900, I322), (J900, I318), (J900, I147), (J900, I315), (J900, I150), (J900, I140), (J900, I223), (J900, I77), (J900, I217), (J900, I224), (J900, I78), (J900, I132), (J900, I70), (J900, I126), (J900, I300), (J900, I200), (J900, I73), (J900, I221), (J900, I297), (J900, I145), (J900, I146), (J900, I117), (J900, I149), (J900, I321), (J900, I68), (J900, I313), (J900, I206), (J900, I135), (J900, I198), (J900, I210), (J900, I71), (J900, I128), (J900, I218), (J900, I296), (J900, I312), (J900, I314), (J900, I209), (J900, I120), (J900, I228), (J900, I231), (J900, I293), (J900, I212), (J900, I237), (J900, I220), (J900, I216), (J900, I151), (J900, I79), (J900, I148), (J900, I144), (J900, I230), (J900, I304), (J900, I119), (J900, I66), (J900, I65), (J900, I317), (J900, I235), (J900, I215), (J900, I302), (J900, I227), (J900, I214), (J900, I122), (J900, I295), (J900, I211), (J900, I121), (J900, I137), (J900, I319), (J900, I199), (J900, I127), (J900, I222), (J900, I226), (J900, I298), (J900, I75), (J900, I133), (J900, I202), (J900, I316), (J900, I134), (J900, I204), (J900, I152), (J900, I123), (J900, I325), (J900, I233), (J900, I142), (J900, I116), (J900, I234), (J900, I323), (J900, I130), (J900, I131), (J900, I203), (J900, I143), (J900, I219), (J900, I299), (J900, I306), (J900, I229), (J900, I294), (J900, I72)]\n"
     ]
    }
   ],
   "source": [
    "excluded_set = set(list(range(270, 292)) + list(range(239, 263)) + list(range(153, 170)) + list(range(170, 197)) + list(range(102, 116)) + list(range(80, 102)) + list(range(326, 350)))\n",
    "included_residues = [res for res in contact_residues if res.resSeq not in excluded_set]\n",
    "user_specified_contact_residue_pairs = [(ligand_residue, contact_residue) for contact_residue in included_residues]\n",
    "print(user_specified_contact_residue_pairs)"
   ]
  },
  {
   "cell_type": "code",
   "execution_count": 7,
   "metadata": {
    "collapsed": false
   },
   "outputs": [
    {
     "name": "stdout",
     "output_type": "stream",
     "text": [
      "(J900, I304)\n",
      "{'chain_name': None, 'res_name': 'LIG', 'ballosteros_weinstein': None, 'chain_id': 'J', 'resSeq': 900}\n",
      "{'chain_name': None, 'res_name': 'ALA304', 'ballosteros_weinstein': None, 'chain_id': 'I', 'resSeq': 304}\n"
     ]
    }
   ],
   "source": [
    "import pickle\n",
    "with open(feature_residues_pkl, \"rb\") as f:\n",
    "    feature_residues = pickle.load(f)\n",
    "print(feature_residues[0])\n",
    "print(feature_residues[0][0].__dict__)\n",
    "print(feature_residues[0][1].__dict__)\n",
    "tica_dir = \"%s/tica_ligand_protein_contacts\" % base\n"
   ]
  },
  {
   "cell_type": "code",
   "execution_count": 8,
   "metadata": {
    "collapsed": false
   },
   "outputs": [],
   "source": [
    "projected_features_dir = \"%s/phi_psi_chi2_allprot_projected.h5\" % tica_dir\n",
    "#plot_columns(tica_dir, projected_features_dir, titles = [\"tIC%d\" %j for j in range(1,6)], tICA = True, scale = 1.0, refcoords_file = None)"
   ]
  },
  {
   "cell_type": "code",
   "execution_count": 9,
   "metadata": {
    "collapsed": false
   },
   "outputs": [],
   "source": [
    "tic_components_dir = \"%s/tic_components\" % tica_dir\n",
    "if not os.path.exists(tic_components_dir): os.makedirs(tic_components_dir)\n",
    "projection_operator_dir = \"%s/phi_psi_chi2_allprot_tica_coords.h5\" % tica_dir\n",
    "#interpret_tIC_components(projection_operator_dir, tic_components_dir, feature_residues_pkl, n_tica_components=5, percentile=95)\n"
   ]
  },
  {
   "cell_type": "code",
   "execution_count": 10,
   "metadata": {
    "collapsed": true
   },
   "outputs": [],
   "source": [
    "n_clusters = 20\n",
    "clusterer_dir = \"%s/clusterer_20clusters.h5\" % tica_dir\n",
    "n_samples=10\n",
    "save_dir = \"%s/clusters20_samples10\" % tica_dir\n",
    "sampling_method = \"random\"\n",
    "clusters_map_file = \"%s/clusters20_map.h5\" % tica_dir"
   ]
  },
  {
   "cell_type": "code",
   "execution_count": 11,
   "metadata": {
    "collapsed": false
   },
   "outputs": [
    {
     "name": "stdout",
     "output_type": "stream",
     "text": [
      "loading \"/home/amir/Post_Process/GPCR/MOR/LIG_path/BU_path/tica_ligand_protein_contacts/phi_psi_chi2_allprot_projected.h5\"...\n",
      "loading \"/home/amir/Post_Process/GPCR/MOR/LIG_path/BU_path/tica_ligand_protein_contacts/clusterer_20clusters.h5\"...\n",
      "Looking at 5 tICS\n",
      "Printed all tICA coords and all requested clusters\n"
     ]
    }
   ],
   "source": [
    "plot_all_tics_and_clusters(tica_dir, projected_features_dir, clusterer_dir, lag_time, label = \"cluster_id\", active_cluster_ids = range(0,20), intermediate_cluster_ids = [], inactive_cluster_ids = [])"
   ]
  },
  {
   "cell_type": "code",
   "execution_count": 20,
   "metadata": {
    "collapsed": false
   },
   "outputs": [
    {
     "ename": "UnicodeDecodeError",
     "evalue": "'utf-8' codec can't decode byte 0x80 in position 0: invalid start byte",
     "output_type": "error",
     "traceback": [
      "\u001b[1;31m---------------------------------------------------------------------------\u001b[0m",
      "\u001b[1;31mUnicodeDecodeError\u001b[0m                        Traceback (most recent call last)",
      "\u001b[1;32m<ipython-input-20-7c98216b5288>\u001b[0m in \u001b[0;36m<module>\u001b[1;34m()\u001b[0m\n\u001b[0;32m      1\u001b[0m \u001b[1;32mwith\u001b[0m \u001b[0mopen\u001b[0m\u001b[1;33m(\u001b[0m\u001b[0mfeature_residues_pkl\u001b[0m\u001b[1;33m)\u001b[0m \u001b[1;32mas\u001b[0m \u001b[0mf\u001b[0m\u001b[1;33m:\u001b[0m\u001b[1;33m\u001b[0m\u001b[0m\n\u001b[1;32m----> 2\u001b[1;33m     \u001b[0mfeature_residues\u001b[0m \u001b[1;33m=\u001b[0m \u001b[0mpickle\u001b[0m\u001b[1;33m.\u001b[0m\u001b[0mload\u001b[0m\u001b[1;33m(\u001b[0m\u001b[0mf\u001b[0m\u001b[1;33m)\u001b[0m\u001b[1;33m\u001b[0m\u001b[0m\n\u001b[0m",
      "\u001b[1;32m/home/amir/anaconda3/lib/python3.4/codecs.py\u001b[0m in \u001b[0;36mdecode\u001b[1;34m(self, input, final)\u001b[0m\n\u001b[0;32m    317\u001b[0m         \u001b[1;31m# decode input (taking the buffer into account)\u001b[0m\u001b[1;33m\u001b[0m\u001b[1;33m\u001b[0m\u001b[0m\n\u001b[0;32m    318\u001b[0m         \u001b[0mdata\u001b[0m \u001b[1;33m=\u001b[0m \u001b[0mself\u001b[0m\u001b[1;33m.\u001b[0m\u001b[0mbuffer\u001b[0m \u001b[1;33m+\u001b[0m \u001b[0minput\u001b[0m\u001b[1;33m\u001b[0m\u001b[0m\n\u001b[1;32m--> 319\u001b[1;33m         \u001b[1;33m(\u001b[0m\u001b[0mresult\u001b[0m\u001b[1;33m,\u001b[0m \u001b[0mconsumed\u001b[0m\u001b[1;33m)\u001b[0m \u001b[1;33m=\u001b[0m \u001b[0mself\u001b[0m\u001b[1;33m.\u001b[0m\u001b[0m_buffer_decode\u001b[0m\u001b[1;33m(\u001b[0m\u001b[0mdata\u001b[0m\u001b[1;33m,\u001b[0m \u001b[0mself\u001b[0m\u001b[1;33m.\u001b[0m\u001b[0merrors\u001b[0m\u001b[1;33m,\u001b[0m \u001b[0mfinal\u001b[0m\u001b[1;33m)\u001b[0m\u001b[1;33m\u001b[0m\u001b[0m\n\u001b[0m\u001b[0;32m    320\u001b[0m         \u001b[1;31m# keep undecoded input until the next call\u001b[0m\u001b[1;33m\u001b[0m\u001b[1;33m\u001b[0m\u001b[0m\n\u001b[0;32m    321\u001b[0m         \u001b[0mself\u001b[0m\u001b[1;33m.\u001b[0m\u001b[0mbuffer\u001b[0m \u001b[1;33m=\u001b[0m \u001b[0mdata\u001b[0m\u001b[1;33m[\u001b[0m\u001b[0mconsumed\u001b[0m\u001b[1;33m:\u001b[0m\u001b[1;33m]\u001b[0m\u001b[1;33m\u001b[0m\u001b[0m\n",
      "\u001b[1;31mUnicodeDecodeError\u001b[0m: 'utf-8' codec can't decode byte 0x80 in position 0: invalid start byte"
     ]
    }
   ],
   "source": [
    "with open(feature_residues_pkl) as f:\n",
    "    feature_residues = pickle.load(f)"
   ]
  },
  {
   "cell_type": "code",
   "execution_count": 48,
   "metadata": {
    "collapsed": false
   },
   "outputs": [
    {
     "name": "stdout",
     "output_type": "stream",
     "text": [
      "[[[-3.67750001 -2.00090003 -3.06229997]\n",
      "  [-3.55780005 -1.92980003 -3.01830006]\n",
      "  [-3.56550002 -1.78180003 -3.05369997]\n",
      "  ..., \n",
      "  [-1.46140003 -0.32269999 -1.54359996]\n",
      "  [-1.40170002 -0.40900001 -1.77069998]\n",
      "  [-1.92920005 -0.43360001 -1.81420004]]]\n",
      "(array([[ 0.29087129,  0.30480972,  0.50911838, ...,  0.31547278,\n",
      "         0.29779878,  0.30303043]], dtype=float32), array([[ 0,  3],\n",
      "       [ 0,  4],\n",
      "       [ 0,  5],\n",
      "       ..., \n",
      "       [47, 50],\n",
      "       [47, 51],\n",
      "       [48, 51]]))\n"
     ]
    }
   ],
   "source": [
    "subset = crystal_structure.atom_slice(range(0,400))\n",
    "subset.xyz\n",
    "print(subset.xyz)\n",
    "distances = md.compute_contacts(subset)\n",
    "print(distances)\n"
   ]
  },
  {
   "cell_type": "code",
   "execution_count": 20,
   "metadata": {
    "collapsed": false
   },
   "outputs": [],
   "source": [
    "distances0 = distances[0]"
   ]
  },
  {
   "cell_type": "code",
   "execution_count": 23,
   "metadata": {
    "collapsed": false
   },
   "outputs": [],
   "source": [
    "distances0 = np.nan_to_num(distances0)"
   ]
  },
  {
   "cell_type": "code",
   "execution_count": 24,
   "metadata": {
    "collapsed": false
   },
   "outputs": [
    {
     "data": {
      "text/plain": [
       "array([[ 0.,  0.,  0., ...,  0.,  0.,  0.]], dtype=float32)"
      ]
     },
     "execution_count": 24,
     "metadata": {},
     "output_type": "execute_result"
    }
   ],
   "source": [
    "distances0"
   ]
  },
  {
   "cell_type": "code",
   "execution_count": 25,
   "metadata": {
    "collapsed": false
   },
   "outputs": [
    {
     "data": {
      "text/plain": [
       "(array([], dtype=int64), array([], dtype=int64))"
      ]
     },
     "execution_count": 25,
     "metadata": {},
     "output_type": "execute_result"
    }
   ],
   "source": [
    "np.where(distances0 > 0.0)"
   ]
  },
  {
   "cell_type": "code",
   "execution_count": null,
   "metadata": {
    "collapsed": true
   },
   "outputs": [],
   "source": []
  }
 ],
 "metadata": {
  "kernelspec": {
   "display_name": "Python 3",
   "language": "python",
   "name": "python3"
  },
  "language_info": {
   "codemirror_mode": {
    "name": "ipython",
    "version": 3
   },
   "file_extension": ".py",
   "mimetype": "text/x-python",
   "name": "python",
   "nbconvert_exporter": "python",
   "pygments_lexer": "ipython3",
   "version": "3.4.4"
  }
 },
 "nbformat": 4,
 "nbformat_minor": 0
}
