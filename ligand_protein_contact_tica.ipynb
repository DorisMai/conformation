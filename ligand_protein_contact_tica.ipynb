{
 "cells": [
  {
   "cell_type": "markdown",
   "metadata": {
    "collapsed": false
   },
   "source": [
    "In this iPython notebook, we will featurize MOR ligand binding simulation by pairwise distances between the ligand and different receptor residues. We will then perform tICA and prospectively build an MSM. "
   ]
  },
  {
   "cell_type": "code",
   "execution_count": 1,
   "metadata": {
    "collapsed": false
   },
   "outputs": [],
   "source": [
    "from PDB_Order_Fixer import PDB_Order_Fixer\n",
    "import mdtraj as md\n",
    "import os\n",
    "import numpy as np\n",
    "import h5py\n",
    "\n",
    "import datetime\n",
    "import glob\n",
    "import copy\n",
    "from functools import partial \n",
    "import operator\n",
    "import time\n",
    "\n",
    "import random \n",
    "import subprocess\n",
    "from subprocess import Popen\n",
    "import sys\n",
    "from io_functions import *\n",
    "from custom_clusterer import *\n",
    "from custom_tica import *\n",
    "from custom_featurizer import *\n",
    "from pdb_editing import *\n",
    "from analysis import *\n",
    "from io_functions import *\n",
    "#from topology_fixing import *\n",
    "from subsampling import *\n",
    "from conversions import *\n",
    "from custom_msm import *\n",
    "from grids import *"
   ]
  },
  {
   "cell_type": "code",
   "execution_count": 2,
   "metadata": {
    "collapsed": false
   },
   "outputs": [
    {
     "name": "stdout",
     "output_type": "stream",
     "text": [
      "we are operating on biox3\n"
     ]
    }
   ],
   "source": [
    "from detect_intermediates import *\n",
    "from interpret_tICs import *"
   ]
  },
  {
   "cell_type": "code",
   "execution_count": 3,
   "metadata": {
    "collapsed": false
   },
   "outputs": [
    {
     "name": "stdout",
     "output_type": "stream",
     "text": [
      "tm6_tm3_residues\n",
      "[A279, A165]\n",
      "[65, 66, 67, 68, 69, 70, 71, 72, 73, 74, 75, 76, 77, 78, 79, 80, 81, 82, 83, 84, 85, 86, 87, 88, 89, 90, 91, 92, 93, 94, 95, 96, 97, 98, 99, 100, 101, 102, 103, 104, 105, 106, 107, 108, 109, 110, 111, 112, 113, 114, 115, 116, 117, 118, 119, 120, 121, 122, 123, 124, 125, 126, 127, 128, 129, 130, 131, 132, 133, 134, 135, 136, 137, 138, 139, 140, 141, 142, 143, 144, 145, 146, 147, 148, 149, 150, 151, 152, 153, 154, 155, 156, 157, 158, 159, 160, 161, 162, 163, 164, 165, 166, 167, 168, 169, 170, 171, 172, 173, 174, 175, 176, 177, 178, 179, 180, 181, 182, 183, 184, 185, 186, 187, 188, 189, 190, 191, 192, 193, 194, 195, 196, 197, 198, 199, 200, 201, 202, 203, 204, 205, 206, 207, 208, 209, 210, 211, 212, 213, 214, 215, 216, 217, 218, 219, 220, 221, 222, 223, 224, 225, 226, 227, 228, 229, 230, 231, 232, 233, 234, 235, 236, 237, 238, 239, 240, 241, 242, 243, 244, 245, 246, 247, 248, 249, 250, 251, 252, 253, 254, 255, 256, 257, 258, 259, 273, 274, 275, 276, 277, 278, 279, 280, 281, 282, 283, 284, 285, 286, 287, 288, 289, 290, 291, 292, 293, 294, 295, 296, 297, 298, 299, 300, 301, 302, 303, 304, 305, 306, 307, 308, 309, 310, 311, 312, 313, 314, 315, 316, 317, 318, 319, 320, 321, 322, 323, 324, 325, 326, 327, 328, 329, 330, 331, 332, 333, 334, 335, 336, 337, 338, 339, 340, 341, 342, 343, 344, 345, 346, 347]\n",
      "There are 270 common residues between input structures\n"
     ]
    }
   ],
   "source": [
    "from tutorial_feature_types import *\n",
    "from get_variable_names import *\n",
    "from tutorial_tica_config import *\n",
    "from imp import reload\n",
    "import residue\n",
    "reload(residue)\n",
    "from residue import Residue, Atom"
   ]
  },
  {
   "cell_type": "code",
   "execution_count": 4,
   "metadata": {
    "collapsed": false
   },
   "outputs": [
    {
     "name": "stdout",
     "output_type": "stream",
     "text": [
      "/home/enf/quintin/Post_Process/GPCR/MOR/LIG_path/BU_path/ligand_protein_contacts\n",
      "/home/enf/quintin/Post_Process/GPCR/MOR/LIG_path/BU_path/ligand_protein_contacts/feature_residues.pkl\n"
     ]
    }
   ],
   "source": [
    "features_dir = \"%s/ligand_protein_contacts\" % (base)\n",
    "print(features_dir)\n",
    "if not os.path.exists(features_dir): os.makedirs(features_dir)\n",
    "feature_residues_pkl = \"%s/feature_residues.pkl\" % features_dir\n",
    "print(feature_residues_pkl)"
   ]
  },
  {
   "cell_type": "code",
   "execution_count": 27,
   "metadata": {
    "collapsed": false
   },
   "outputs": [
    {
     "name": "stdout",
     "output_type": "stream",
     "text": [
      "/home/enf/quintin/Post_Process/GPCR/MOR/LIG_path/BU_path/featuresall_residues_4dkl_5c1m_under_cutoff5A\n",
      "/home/enf/quintin/Post_Process/GPCR/MOR/LIG_path/BU_path/featuresall_residues_4dkl_5c1m_under_cutoff5A\n"
     ]
    }
   ],
   "source": [
    "(active_ref_dir, inactive_ref_dir, simulation_ref_dir, scripts_dir,\n",
    "          ligand_dir, agonist_dir, inverse_agonist_dir, biased_agonist_dir, ref_receptors_dir, whole_trajectory_pnas,\n",
    "          sasa_file) = get_base_files(base)\n",
    "\n",
    "tica_dir = get_tica_dir(base, is_sparse, lag_time, n_components, feature_name, \n",
    "                                 wolf_string, shrinkage_string, rho_string)\n",
    "ori_tica_dir = copy.deepcopy(tica_dir)\n",
    "features_dir = get_features_dir(base, feature_name)\n",
    "\n",
    "landmarks_dir = get_landmarks_dir(tica_dir)\n",
    "analysis_dir = get_analysis_dir(tica_dir, n_clusters, sampling_method)\n",
    "gmm_dir = get_gmm_dir(tica_dir)\n",
    "rf_dir = get_rf_dir(tica_dir)\n",
    "\n",
    "\n",
    "ref_tica_dir, ref_tica_coords = get_ref_tica_dirs(tica_dir)\n",
    "\n",
    "graph_file = get_graph_file(tica_dir, msm_lag_time, n_clusters)\n",
    "\n",
    "pnas_titles =  [\"tm6_tm3_dist\", \"rmsd_npxxy_inactive\", \"rmsd_npxxy_active\", \"rmsd_connector_inactive\", \"rmsd_connector_active\"]\n",
    "pnas_features_dir = analysis_dir\n",
    "\n",
    "\n",
    "(clusterer_dir, msm_model_dir, macrostate_dir, features_known, model_dir, projected_features_dir,\n",
    "         projection_operator_dir, ktica_fit_model_filename, ktica_projected_data_filename, nystroem_data_filename,\n",
    "         mutual_information_csv, pearson_csv) = get_tica_files(base, tica_dir, n_clusters, msm_lag_time, n_macrostates)\n",
    "\n",
    "(standardized_features_dir, feature_residues_csv, feature_residues_pkl,\n",
    "          contact_csv, ref_features_dir) = get_feature_files(features_dir)\n",
    "\n",
    "(kmeans_csv, tica_coords_csv, features_csv, active_rmsd_dir, inactive_rmsd_dir, active_pnas_dir, inactive_pnas_joined, active_pnas_joined,\n",
    "        clusters_map_file, ktica_clusters_map_file, analysis_file, combined_file, docking_summary, docking_joined, docking_z_scores_csv,\n",
    "        aggregate_docking, aggregate_docking_joined, docking_pnas_joined, aggregate_docking_pnas, aggregate_docking_pnas_joined, docking_multiple_ligands,\n",
    "        docking_distances_file, docking_pdf, mmgbsa_docking_distances, pnas_coords, mmgbsa_dir, mmgbsa_csv, mmgbsa_pdf, aggregate_mmgbsa,\n",
    "        aggregate_mmgbsa_joined, aggregate_mmgbsa_pnas_joined, mmgbsa_z_scores_csv, active_clusters_csv, intermediate_clusters_csv,\n",
    "        inactive_clusters_csv, pnas_clusters_averages, tica_clusters_averages, tica_classes_csv, tica_samples_csv, subgraph_save_base,\n",
    "        degree_save_base, degree_map_csv, degree_z_map_csv, aggregate_docking_pnas_degree_z_joined, tic_residue_csv, feature_coefs_csv,\n",
    "        duplicated_feature_coefs_csv) = get_analysis_files(analysis_dir, n_clusters, tica_dir, tica_dir, sampling_method, n_samples, precision,\n",
    "                                                           msm_lag_time)\n",
    "\n",
    "(inactive_pnas_distances_dir, active_pnas_distances_dir, active_pnas_all_distances_dir,\n",
    "          inactive_pnas_distances_new_csv, active_pnas_distances_new_csv, active_pnas_joined, active_pnas_means, pnas_coords_dir,\n",
    "          pnas_coords_csv, pnas_all_coords_csv, pnas_coords_hexbin_dir, pnas_coords_co_crystallized_docking_dir,\n",
    "          pnas_coords_active_colors_dir, user_defined_features_file, reaction_coordinates_trajs_file) = get_pnas_files(whole_trajectory_pnas, pnas_features_dir)\n",
    "\n",
    "features_dir = get_features_dir(base, feature_name)\n",
    "\n",
    "\n",
    "\n",
    "graph_file = get_graph_file(tica_dir, msm_lag_time, n_clusters)\n",
    "(scripts_dir, pymol_fixpdb_dir) = get_script_dir(scripts_dir)\n",
    "(save_dir, reimaged_dir, mae_dir, combined_reimaged_dir, grid_dir, docking_dir) = get_docking_dirs(tica_dir, n_clusters, n_components, n_samples, sampling_method, precision)\n"
   ]
  },
  {
   "cell_type": "code",
   "execution_count": 5,
   "metadata": {
    "collapsed": true
   },
   "outputs": [],
   "source": [
    "ligand_residue = Residue(resSeq=900, chain_id=\"L\", res_name=\"LIG\")"
   ]
  },
  {
   "cell_type": "code",
   "execution_count": 25,
   "metadata": {
    "collapsed": false
   },
   "outputs": [],
   "source": [
    "ligand_atom_names = [\"N1\", \"O1\", \"C7\", \"C17\"]\n",
    "ligand_atoms = []\n",
    "for atom_name in ligand_atom_names:\n",
    "    ligand_atoms.append(Atom(resSeq=900, chain_id=\"R\", atom_name=atom_name, res_name=\"LIG\"))"
   ]
  },
  {
   "cell_type": "code",
   "execution_count": 17,
   "metadata": {
    "collapsed": false,
    "scrolled": true
   },
   "outputs": [
    {
     "name": "stdout",
     "output_type": "stream",
     "text": [
      "[65, 66, 67, 68, 69, 70, 71, 72, 73, 74, 75, 76, 77, 78, 79, 80, 81, 82, 83, 84, 86, 87, 90, 109, 110, 111, 112, 113, 114, 115, 116, 117, 118, 119, 120, 121, 122, 123, 124, 125, 126, 127, 128, 129, 130, 131, 132, 133, 134, 135, 136, 137, 138, 139, 140, 141, 142, 143, 144, 145, 146, 147, 148, 149, 150, 151, 152, 153, 154, 155, 156, 157, 158, 159, 187, 188, 189, 190, 191, 192, 193, 194, 195, 196, 197, 198, 199, 200, 201, 202, 203, 204, 205, 206, 207, 208, 209, 210, 211, 212, 213, 214, 215, 216, 217, 218, 219, 220, 221, 222, 223, 224, 225, 226, 227, 228, 229, 230, 231, 232, 233, 234, 235, 236, 237, 238, 239, 240, 241, 242, 243, 244, 245, 246, 247, 248, 286, 287, 288, 289, 290, 291, 292, 293, 294, 295, 296, 297, 298, 299, 300, 301, 302, 303, 304, 305, 306, 307, 308, 309, 310, 311, 312, 313, 314, 315, 316, 317, 318, 319, 320, 321, 322, 323, 324, 325, 326, 327, 328, 329, 330, 331, 601]\n"
     ]
    },
    {
     "data": {
      "text/plain": [
       "183"
      ]
     },
     "execution_count": 17,
     "metadata": {},
     "output_type": "execute_result"
    }
   ],
   "source": [
    "included = \"65 65 65 65 65 66 66 66 66 66 66 66 67 67 67 67 67 68 68 68 68 68 69 69 69 69 69 69 69 69 70 70 70 70 70 70 70 71 71 71 71 71 71 71 71 72 72 72 72 72 72 72 72 73 73 73 73 73 74 74 74 74 74 74 74 74 75 75 75 75 75 75 75 75 75 75 75 75 76 76 76 76 76 76 77 77 77 77 77 77 77 77 78 78 78 78 78 78 78 79 79 79 79 79 79 80 80 80 80 80 80 80 81 81 81 81 81 81 81 82 82 82 82 83 83 83 83 83 83 83 83 84 84 84 86 86 86 86 86 87 87 87 87 87 87 87 87 90 90 109 109 109 109 109 110 110 110 110 110 110 111 111 111 111 112 112 112 112 112 112 112 112 113 113 113 113 113 114 114 114 114 114 114 114 114 115 115 115 115 115 116 116 116 116 116 116 116 116 117 117 117 117 117 118 118 118 118 118 118 118 119 119 119 119 119 119 120 120 120 120 120 120 120 121 121 121 121 121 121 121 121 122 122 122 122 122 122 122 123 123 123 123 123 123 123 123 123 123 123 124 124 124 124 124 124 124 124 124 125 125 125 125 125 125 126 126 126 126 126 126 126 127 127 127 127 127 127 127 127 128 128 128 128 128 128 128 128 128 128 128 128 129 129 129 129 129 129 129 129 130 130 130 130 130 130 130 130 131 131 131 131 132 132 132 132 132 132 132 133 133 133 133 133 133 133 133 133 133 133 133 133 133 134 134 134 134 134 134 134 135 135 135 135 135 135 135 135 135 135 135 136 136 136 136 137 137 137 137 137 137 137 137 138 138 138 138 138 138 138 138 139 139 139 139 139 139 139 139 140 140 140 140 140 140 141 141 141 141 141 141 141 141 141 142 142 142 142 142 142 142 142 143 143 143 143 143 143 143 144 144 144 144 144 144 144 144 145 145 145 145 145 145 146 146 146 146 146 146 146 146 147 147 147 147 147 147 147 147 148 148 148 148 148 148 148 148 148 148 148 148 149 149 149 149 149 149 149 149 149 149 149 149 150 150 150 150 150 150 150 150 151 151 151 151 151 151 151 151 152 152 152 152 152 152 152 152 152 152 152 153 153 153 153 153 153 153 154 154 154 154 154 154 155 155 155 155 155 155 155 155 156 156 156 156 156 156 156 156 156 156 156 157 157 157 157 158 158 158 159 159 187 188 188 189 189 189 189 189 189 189 190 190 190 190 190 190 191 191 191 191 191 191 191 191 192 192 192 192 192 192 192 192 192 192 192 192 192 192 193 193 193 193 193 193 193 193 194 194 194 194 194 194 194 194 195 195 195 195 195 195 196 196 196 196 196 196 197 197 197 197 197 198 198 198 198 198 198 198 198 199 199 199 199 200 200 200 200 200 200 200 200 201 201 201 201 201 201 201 202 202 202 202 202 202 202 203 203 203 203 203 203 203 203 204 204 204 204 204 204 204 204 204 204 204 205 205 205 205 205 205 205 205 206 206 206 206 206 207 207 207 207 207 207 207 208 208 208 208 208 208 208 209 209 209 209 209 209 209 209 209 210 210 210 210 210 210 210 210 210 210 210 210 211 211 211 211 211 211 211 211 211 211 211 212 212 212 212 212 212 212 212 212 213 213 213 213 214 214 214 214 214 214 215 215 215 215 215 215 215 215 216 216 216 216 216 216 216 216 217 217 217 217 217 217 218 218 218 218 218 218 218 219 219 219 219 219 219 219 219 220 220 220 220 220 220 220 221 221 221 221 221 221 221 221 221 221 221 222 222 222 222 222 222 223 223 223 223 223 223 223 223 223 223 224 224 224 224 224 224 224 225 225 225 225 225 225 225 226 226 226 226 226 226 226 226 226 226 226 226 226 226 227 227 227 227 227 227 227 227 227 227 227 227 228 228 228 228 228 228 228 228 228 228 228 228 228 228 229 229 229 229 229 229 229 229 229 230 230 230 230 230 230 230 230 231 231 231 231 231 231 231 231 232 232 232 232 232 232 232 232 233 233 233 233 233 233 233 233 233 234 234 234 234 234 234 234 234 235 235 235 235 235 235 236 236 236 236 236 236 236 237 237 237 237 237 237 237 237 237 237 237 238 238 238 238 238 238 238 238 239 239 239 239 239 239 239 239 239 239 239 240 240 240 240 240 241 241 241 241 241 241 241 241 241 241 241 242 242 242 242 242 242 242 242 243 243 243 243 243 243 243 243 244 244 244 244 244 244 244 245 245 245 245 245 245 245 246 246 246 246 246 246 246 246 247 247 247 247 247 248 286 287 288 288 288 288 289 289 289 289 289 289 289 289 289 289 289 290 290 290 290 290 290 290 290 291 291 291 291 291 291 291 292 292 292 292 292 292 293 293 293 293 293 293 293 293 293 293 293 293 293 293 294 294 294 294 294 294 294 295 295 295 295 295 295 295 296 296 296 296 296 296 296 296 297 297 297 297 297 297 297 297 297 297 298 298 298 298 298 298 298 298 299 299 299 299 299 299 299 299 299 299 299 299 300 300 300 300 300 300 300 301 301 301 301 301 301 301 301 302 302 302 302 302 302 302 302 303 303 303 303 303 303 303 303 303 304 304 304 304 304 305 305 305 305 305 305 305 305 306 306 306 306 306 306 306 306 307 307 307 307 307 307 307 308 308 308 308 308 308 308 308 309 309 309 309 309 309 309 310 310 310 310 310 310 310 310 310 311 311 311 311 311 311 311 312 312 312 312 312 312 312 313 313 313 313 313 313 313 313 313 313 313 314 314 314 314 314 314 314 314 314 315 315 315 315 315 315 315 316 316 316 316 316 316 316 317 317 317 317 317 317 318 318 318 318 318 318 318 318 318 318 318 318 318 318 319 319 319 319 319 319 319 319 319 319 320 320 320 320 320 320 320 320 320 320 320 321 321 321 321 321 321 322 322 322 322 322 322 322 322 323 323 323 323 323 324 324 324 324 324 324 324 324 325 325 325 325 326 326 326 326 326 326 326 326 326 326 326 326 327 327 327 327 327 327 327 328 328 328 328 328 328 328 328 329 329 329 329 329 329 330 330 330 330 330 330 331 331 331 331 331 331 601 601 601 601 601 601 601 601 601 601 601 601 601 601 601 601 601 601 601 601 601 601 601 601 601 601 601 601 601 601 601 601 601\"\n",
    "included_list = set(included.split())\n",
    "included_list = sorted([int(i) for i in included_list])\n",
    "print(included_list)\n",
    "len(included_list)"
   ]
  },
  {
   "cell_type": "code",
   "execution_count": 26,
   "metadata": {
    "collapsed": false
   },
   "outputs": [
    {
     "name": "stdout",
     "output_type": "stream",
     "text": [
      "[(L900, R318), (L900, R319), (L900, R316), (L900, R317), (L900, R314), (L900, R315), (L900, R312), (L900, R313), (L900, R310), (L900, R311), (L900, R147), (L900, R146), (L900, R145), (L900, R144), (L900, R143), (L900, R142), (L900, R140), (L900, R149), (L900, R148), (L900, R137), (L900, R124), (L900, R309), (L900, R308), (L900, R301), (L900, R300), (L900, R303), (L900, R302), (L900, R305), (L900, R304), (L900, R307), (L900, R306), (L900, R81), (L900, R80), (L900, R83), (L900, R82), (L900, R84), (L900, R87), (L900, R86), (L900, R72), (L900, R229), (L900, R126), (L900, R228), (L900, R154), (L900, R141), (L900, R73), (L900, R129), (L900, R90), (L900, R128), (L900, R159), (L900, R234), (L900, R200), (L900, R201), (L900, R202), (L900, R203), (L900, R204), (L900, R205), (L900, R206), (L900, R207), (L900, R208), (L900, R209), (L900, R118), (L900, R119), (L900, R110), (L900, R111), (L900, R112), (L900, R113), (L900, R114), (L900, R115), (L900, R116), (L900, R117), (L900, R288), (L900, R289), (L900, R286), (L900, R287), (L900, R67), (L900, R66), (L900, R65), (L900, R150), (L900, R69), (L900, R68), (L900, R151), (L900, R213), (L900, R212), (L900, R211), (L900, R210), (L900, R217), (L900, R216), (L900, R215), (L900, R214), (L900, R219), (L900, R218), (L900, R123), (L900, R109), (L900, R70), (L900, R299), (L900, R298), (L900, R127), (L900, R191), (L900, R293), (L900, R292), (L900, R291), (L900, R290), (L900, R297), (L900, R296), (L900, R295), (L900, R294), (L900, R190), (L900, R231), (L900, R192), (L900, R193), (L900, R194), (L900, R75), (L900, R76), (L900, R77), (L900, R78), (L900, R74), (L900, R195), (L900, R135), (L900, R132), (L900, R133), (L900, R226), (L900, R227), (L900, R224), (L900, R197), (L900, R222), (L900, R223), (L900, R220), (L900, R139), (L900, R238), (L900, R198), (L900, R196), (L900, R79), (L900, R221), (L900, R225), (L900, R187), (L900, R189), (L900, R188), (L900, R121), (L900, R331), (L900, R230), (L900, R233), (L900, R232), (L900, R235), (L900, R134), (L900, R237), (L900, R236), (L900, R239), (L900, R130), (L900, R131), (L900, R199), (L900, R330), (L900, R138), (L900, R136), (L900, R71), (L900, R125), (L900, R120), (L900, R322), (L900, R321), (L900, R320), (L900, R327), (L900, R326), (L900, R325), (L900, R324), (L900, R329), (L900, R328), (L900, R323), (L900, R155), (L900, R156), (L900, R157), (L900, R248), (L900, R152), (L900, R153), (L900, R244), (L900, R245), (L900, R246), (L900, R247), (L900, R240), (L900, R241), (L900, R242), (L900, R243), (L900, R158), (L900, R122)]\n",
      "[(R318, LIG-N1), (R318, LIG-O1), (R318, LIG-C7), (R318, LIG-C17), (R319, LIG-N1), (R319, LIG-O1), (R319, LIG-C7), (R319, LIG-C17), (R316, LIG-N1), (R316, LIG-O1), (R316, LIG-C7), (R316, LIG-C17), (R317, LIG-N1), (R317, LIG-O1), (R317, LIG-C7), (R317, LIG-C17), (R314, LIG-N1), (R314, LIG-O1), (R314, LIG-C7), (R314, LIG-C17), (R315, LIG-N1), (R315, LIG-O1), (R315, LIG-C7), (R315, LIG-C17), (R312, LIG-N1), (R312, LIG-O1), (R312, LIG-C7), (R312, LIG-C17), (R313, LIG-N1), (R313, LIG-O1), (R313, LIG-C7), (R313, LIG-C17), (R310, LIG-N1), (R310, LIG-O1), (R310, LIG-C7), (R310, LIG-C17), (R311, LIG-N1), (R311, LIG-O1), (R311, LIG-C7), (R311, LIG-C17), (R147, LIG-N1), (R147, LIG-O1), (R147, LIG-C7), (R147, LIG-C17), (R146, LIG-N1), (R146, LIG-O1), (R146, LIG-C7), (R146, LIG-C17), (R145, LIG-N1), (R145, LIG-O1), (R145, LIG-C7), (R145, LIG-C17), (R144, LIG-N1), (R144, LIG-O1), (R144, LIG-C7), (R144, LIG-C17), (R143, LIG-N1), (R143, LIG-O1), (R143, LIG-C7), (R143, LIG-C17), (R142, LIG-N1), (R142, LIG-O1), (R142, LIG-C7), (R142, LIG-C17), (R140, LIG-N1), (R140, LIG-O1), (R140, LIG-C7), (R140, LIG-C17), (R149, LIG-N1), (R149, LIG-O1), (R149, LIG-C7), (R149, LIG-C17), (R148, LIG-N1), (R148, LIG-O1), (R148, LIG-C7), (R148, LIG-C17), (R137, LIG-N1), (R137, LIG-O1), (R137, LIG-C7), (R137, LIG-C17), (R124, LIG-N1), (R124, LIG-O1), (R124, LIG-C7), (R124, LIG-C17), (R309, LIG-N1), (R309, LIG-O1), (R309, LIG-C7), (R309, LIG-C17), (R308, LIG-N1), (R308, LIG-O1), (R308, LIG-C7), (R308, LIG-C17), (R301, LIG-N1), (R301, LIG-O1), (R301, LIG-C7), (R301, LIG-C17), (R300, LIG-N1), (R300, LIG-O1), (R300, LIG-C7), (R300, LIG-C17), (R303, LIG-N1), (R303, LIG-O1), (R303, LIG-C7), (R303, LIG-C17), (R302, LIG-N1), (R302, LIG-O1), (R302, LIG-C7), (R302, LIG-C17), (R305, LIG-N1), (R305, LIG-O1), (R305, LIG-C7), (R305, LIG-C17), (R304, LIG-N1), (R304, LIG-O1), (R304, LIG-C7), (R304, LIG-C17), (R307, LIG-N1), (R307, LIG-O1), (R307, LIG-C7), (R307, LIG-C17), (R306, LIG-N1), (R306, LIG-O1), (R306, LIG-C7), (R306, LIG-C17), (R72, LIG-N1), (R72, LIG-O1), (R72, LIG-C7), (R72, LIG-C17), (R229, LIG-N1), (R229, LIG-O1), (R229, LIG-C7), (R229, LIG-C17), (R126, LIG-N1), (R126, LIG-O1), (R126, LIG-C7), (R126, LIG-C17), (R228, LIG-N1), (R228, LIG-O1), (R228, LIG-C7), (R228, LIG-C17), (R141, LIG-N1), (R141, LIG-O1), (R141, LIG-C7), (R141, LIG-C17), (R73, LIG-N1), (R73, LIG-O1), (R73, LIG-C7), (R73, LIG-C17), (R129, LIG-N1), (R129, LIG-O1), (R129, LIG-C7), (R129, LIG-C17), (R128, LIG-N1), (R128, LIG-O1), (R128, LIG-C7), (R128, LIG-C17), (R234, LIG-N1), (R234, LIG-O1), (R234, LIG-C7), (R234, LIG-C17), (R200, LIG-N1), (R200, LIG-O1), (R200, LIG-C7), (R200, LIG-C17), (R201, LIG-N1), (R201, LIG-O1), (R201, LIG-C7), (R201, LIG-C17), (R202, LIG-N1), (R202, LIG-O1), (R202, LIG-C7), (R202, LIG-C17), (R203, LIG-N1), (R203, LIG-O1), (R203, LIG-C7), (R203, LIG-C17), (R204, LIG-N1), (R204, LIG-O1), (R204, LIG-C7), (R204, LIG-C17), (R205, LIG-N1), (R205, LIG-O1), (R205, LIG-C7), (R205, LIG-C17), (R206, LIG-N1), (R206, LIG-O1), (R206, LIG-C7), (R206, LIG-C17), (R207, LIG-N1), (R207, LIG-O1), (R207, LIG-C7), (R207, LIG-C17), (R208, LIG-N1), (R208, LIG-O1), (R208, LIG-C7), (R208, LIG-C17), (R209, LIG-N1), (R209, LIG-O1), (R209, LIG-C7), (R209, LIG-C17), (R118, LIG-N1), (R118, LIG-O1), (R118, LIG-C7), (R118, LIG-C17), (R119, LIG-N1), (R119, LIG-O1), (R119, LIG-C7), (R119, LIG-C17), (R116, LIG-N1), (R116, LIG-O1), (R116, LIG-C7), (R116, LIG-C17), (R117, LIG-N1), (R117, LIG-O1), (R117, LIG-C7), (R117, LIG-C17), (R67, LIG-N1), (R67, LIG-O1), (R67, LIG-C7), (R67, LIG-C17), (R66, LIG-N1), (R66, LIG-O1), (R66, LIG-C7), (R66, LIG-C17), (R65, LIG-N1), (R65, LIG-O1), (R65, LIG-C7), (R65, LIG-C17), (R150, LIG-N1), (R150, LIG-O1), (R150, LIG-C7), (R150, LIG-C17), (R69, LIG-N1), (R69, LIG-O1), (R69, LIG-C7), (R69, LIG-C17), (R68, LIG-N1), (R68, LIG-O1), (R68, LIG-C7), (R68, LIG-C17), (R151, LIG-N1), (R151, LIG-O1), (R151, LIG-C7), (R151, LIG-C17), (R213, LIG-N1), (R213, LIG-O1), (R213, LIG-C7), (R213, LIG-C17), (R212, LIG-N1), (R212, LIG-O1), (R212, LIG-C7), (R212, LIG-C17), (R211, LIG-N1), (R211, LIG-O1), (R211, LIG-C7), (R211, LIG-C17), (R210, LIG-N1), (R210, LIG-O1), (R210, LIG-C7), (R210, LIG-C17), (R217, LIG-N1), (R217, LIG-O1), (R217, LIG-C7), (R217, LIG-C17), (R216, LIG-N1), (R216, LIG-O1), (R216, LIG-C7), (R216, LIG-C17), (R215, LIG-N1), (R215, LIG-O1), (R215, LIG-C7), (R215, LIG-C17), (R214, LIG-N1), (R214, LIG-O1), (R214, LIG-C7), (R214, LIG-C17), (R219, LIG-N1), (R219, LIG-O1), (R219, LIG-C7), (R219, LIG-C17), (R218, LIG-N1), (R218, LIG-O1), (R218, LIG-C7), (R218, LIG-C17), (R123, LIG-N1), (R123, LIG-O1), (R123, LIG-C7), (R123, LIG-C17), (R70, LIG-N1), (R70, LIG-O1), (R70, LIG-C7), (R70, LIG-C17), (R299, LIG-N1), (R299, LIG-O1), (R299, LIG-C7), (R299, LIG-C17), (R298, LIG-N1), (R298, LIG-O1), (R298, LIG-C7), (R298, LIG-C17), (R127, LIG-N1), (R127, LIG-O1), (R127, LIG-C7), (R127, LIG-C17), (R293, LIG-N1), (R293, LIG-O1), (R293, LIG-C7), (R293, LIG-C17), (R292, LIG-N1), (R292, LIG-O1), (R292, LIG-C7), (R292, LIG-C17), (R297, LIG-N1), (R297, LIG-O1), (R297, LIG-C7), (R297, LIG-C17), (R296, LIG-N1), (R296, LIG-O1), (R296, LIG-C7), (R296, LIG-C17), (R295, LIG-N1), (R295, LIG-O1), (R295, LIG-C7), (R295, LIG-C17), (R294, LIG-N1), (R294, LIG-O1), (R294, LIG-C7), (R294, LIG-C17), (R231, LIG-N1), (R231, LIG-O1), (R231, LIG-C7), (R231, LIG-C17), (R75, LIG-N1), (R75, LIG-O1), (R75, LIG-C7), (R75, LIG-C17), (R76, LIG-N1), (R76, LIG-O1), (R76, LIG-C7), (R76, LIG-C17), (R77, LIG-N1), (R77, LIG-O1), (R77, LIG-C7), (R77, LIG-C17), (R78, LIG-N1), (R78, LIG-O1), (R78, LIG-C7), (R78, LIG-C17), (R74, LIG-N1), (R74, LIG-O1), (R74, LIG-C7), (R74, LIG-C17), (R135, LIG-N1), (R135, LIG-O1), (R135, LIG-C7), (R135, LIG-C17), (R132, LIG-N1), (R132, LIG-O1), (R132, LIG-C7), (R132, LIG-C17), (R133, LIG-N1), (R133, LIG-O1), (R133, LIG-C7), (R133, LIG-C17), (R226, LIG-N1), (R226, LIG-O1), (R226, LIG-C7), (R226, LIG-C17), (R227, LIG-N1), (R227, LIG-O1), (R227, LIG-C7), (R227, LIG-C17), (R224, LIG-N1), (R224, LIG-O1), (R224, LIG-C7), (R224, LIG-C17), (R197, LIG-N1), (R197, LIG-O1), (R197, LIG-C7), (R197, LIG-C17), (R222, LIG-N1), (R222, LIG-O1), (R222, LIG-C7), (R222, LIG-C17), (R223, LIG-N1), (R223, LIG-O1), (R223, LIG-C7), (R223, LIG-C17), (R220, LIG-N1), (R220, LIG-O1), (R220, LIG-C7), (R220, LIG-C17), (R139, LIG-N1), (R139, LIG-O1), (R139, LIG-C7), (R139, LIG-C17), (R238, LIG-N1), (R238, LIG-O1), (R238, LIG-C7), (R238, LIG-C17), (R198, LIG-N1), (R198, LIG-O1), (R198, LIG-C7), (R198, LIG-C17), (R79, LIG-N1), (R79, LIG-O1), (R79, LIG-C7), (R79, LIG-C17), (R221, LIG-N1), (R221, LIG-O1), (R221, LIG-C7), (R221, LIG-C17), (R225, LIG-N1), (R225, LIG-O1), (R225, LIG-C7), (R225, LIG-C17), (R121, LIG-N1), (R121, LIG-O1), (R121, LIG-C7), (R121, LIG-C17), (R230, LIG-N1), (R230, LIG-O1), (R230, LIG-C7), (R230, LIG-C17), (R233, LIG-N1), (R233, LIG-O1), (R233, LIG-C7), (R233, LIG-C17), (R232, LIG-N1), (R232, LIG-O1), (R232, LIG-C7), (R232, LIG-C17), (R235, LIG-N1), (R235, LIG-O1), (R235, LIG-C7), (R235, LIG-C17), (R134, LIG-N1), (R134, LIG-O1), (R134, LIG-C7), (R134, LIG-C17), (R237, LIG-N1), (R237, LIG-O1), (R237, LIG-C7), (R237, LIG-C17), (R236, LIG-N1), (R236, LIG-O1), (R236, LIG-C7), (R236, LIG-C17), (R130, LIG-N1), (R130, LIG-O1), (R130, LIG-C7), (R130, LIG-C17), (R131, LIG-N1), (R131, LIG-O1), (R131, LIG-C7), (R131, LIG-C17), (R199, LIG-N1), (R199, LIG-O1), (R199, LIG-C7), (R199, LIG-C17), (R138, LIG-N1), (R138, LIG-O1), (R138, LIG-C7), (R138, LIG-C17), (R136, LIG-N1), (R136, LIG-O1), (R136, LIG-C7), (R136, LIG-C17), (R71, LIG-N1), (R71, LIG-O1), (R71, LIG-C7), (R71, LIG-C17), (R125, LIG-N1), (R125, LIG-O1), (R125, LIG-C7), (R125, LIG-C17), (R120, LIG-N1), (R120, LIG-O1), (R120, LIG-C7), (R120, LIG-C17), (R322, LIG-N1), (R322, LIG-O1), (R322, LIG-C7), (R322, LIG-C17), (R321, LIG-N1), (R321, LIG-O1), (R321, LIG-C7), (R321, LIG-C17), (R320, LIG-N1), (R320, LIG-O1), (R320, LIG-C7), (R320, LIG-C17), (R325, LIG-N1), (R325, LIG-O1), (R325, LIG-C7), (R325, LIG-C17), (R324, LIG-N1), (R324, LIG-O1), (R324, LIG-C7), (R324, LIG-C17), (R323, LIG-N1), (R323, LIG-O1), (R323, LIG-C7), (R323, LIG-C17), (R152, LIG-N1), (R152, LIG-O1), (R152, LIG-C7), (R152, LIG-C17), (R122, LIG-N1), (R122, LIG-O1), (R122, LIG-C7), (R122, LIG-C17)]\n"
     ]
    }
   ],
   "source": [
    "excluded_set = set(list(range(270, 292)) + list(range(239, 263)) + list(range(153, 170)) + list(range(170, 197)) + list(range(102, 116)) + list(range(80, 102)) + list(range(326, 350)))\n",
    "included_residues = [res for res in contact_residues if res.resSeq not in excluded_set]\n",
    "user_specified_contact_residue_pairs = [(ligand_residue, contact_residue) for contact_residue in contact_residues if contact_residue.resSeq in included_list]\n",
    "user_specified_atom_residue_pairs = [x for x in itertools.product(included_residues, ligand_atoms)]\n",
    "print(user_specified_contact_residue_pairs)\n",
    "print(user_specified_atom_residue_pairs)"
   ]
  },
  {
   "cell_type": "code",
   "execution_count": 8,
   "metadata": {
    "collapsed": false,
    "scrolled": true
   },
   "outputs": [
    {
     "name": "stdout",
     "output_type": "stream",
     "text": [
      "There are 0 pairs of residues to be used in contact featurization.\n",
      "Saving contact feature residue pairs to disk.\n",
      "About to featurize trajectories based on the chosen featurization scheme.\n",
      "Completed featurizing\n",
      "looking at 182 pairs for trajectory\n",
      "looking at 182 pairs for trajectory\n",
      "looking at 182 pairs for trajectory\n",
      "looking at 182 pairs for trajectory\n",
      "looking at 182 pairs for trajectory\n",
      "looking at 182 pairs for trajectory\n",
      "looking at 182 pairs for trajectory\n",
      "looking at 182 pairs for trajectory\n",
      "new features /home/amir/Post_Process/GPCR/MOR/LIG_path/BU_path/h5_trajectories/Rep_3-0.h5 has shape: new features /home/amir/Post_Process/GPCR/MOR/LIG_path/BU_path/h5_trajectories/Rep_0-2.h5 has shape: new features /home/amir/Post_Process/GPCR/MOR/LIG_path/BU_path/h5_trajectories/Rep_2-0.h5 has shape: new features /home/amir/Post_Process/GPCR/MOR/LIG_path/BU_path/h5_trajectories/Rep_0-0.h5 has shape: new features /home/amir/Post_Process/GPCR/MOR/LIG_path/BU_path/h5_trajectories/Rep_3-2.h5 has shape: new features /home/amir/Post_Process/GPCR/MOR/LIG_path/BU_path/h5_trajectories/Rep_1-2.h5 has shape: new features /home/amir/Post_Process/GPCR/MOR/LIG_path/BU_path/h5_trajectories/Rep_2-2.h5 has shape: new features /home/amir/Post_Process/GPCR/MOR/LIG_path/BU_path/h5_trajectories/Rep_1-0.h5 has shape: \n",
      "\n",
      "\n",
      "\n",
      "\n",
      "\n",
      "\n",
      "\n",
      "(158, 182)\n",
      "(172, 182)\n",
      "(166, 182)\n",
      "(180, 182)\n",
      "(162, 182)\n",
      "(136, 182)\n",
      "(157, 182)\n",
      "(178, 182)\n",
      "looking at 182 pairs for trajectorylooking at 182 pairs for trajectorylooking at 182 pairs for trajectorylooking at 182 pairs for trajectorylooking at 182 pairs for trajectorylooking at 182 pairs for trajectorylooking at 182 pairs for trajectorylooking at 182 pairs for trajectory\n",
      "\n",
      "\n",
      "\n",
      "\n",
      "\n",
      "\n",
      "\n",
      "new features /home/amir/Post_Process/GPCR/MOR/LIG_path/BU_path/h5_trajectories/Rep_3-1.h5 has shape: new features /home/amir/Post_Process/GPCR/MOR/LIG_path/BU_path/h5_trajectories/Rep_0-3.h5 has shape: new features /home/amir/Post_Process/GPCR/MOR/LIG_path/BU_path/h5_trajectories/Rep_2-1.h5 has shape: new features /home/amir/Post_Process/GPCR/MOR/LIG_path/BU_path/h5_trajectories/Rep_0-1.h5 has shape: new features /home/amir/Post_Process/GPCR/MOR/LIG_path/BU_path/h5_trajectories/Rep_3-3.h5 has shape: new features /home/amir/Post_Process/GPCR/MOR/LIG_path/BU_path/h5_trajectories/Rep_1-3.h5 has shape: new features /home/amir/Post_Process/GPCR/MOR/LIG_path/BU_path/h5_trajectories/Rep_2-3.h5 has shape: new features /home/amir/Post_Process/GPCR/MOR/LIG_path/BU_path/h5_trajectories/Rep_1-1.h5 has shape: \n",
      "\n",
      "\n",
      "\n",
      "\n",
      "\n",
      "\n",
      "\n",
      "(175, 182)\n",
      "(169, 182)\n",
      "(177, 182)\n",
      "(142, 182)\n",
      "(171, 182)\n",
      "(137, 182)\n",
      "(169, 182)\n",
      "(167, 182)\n",
      "looking at 182 pairs for trajectorylooking at 182 pairs for trajectorylooking at 182 pairs for trajectorylooking at 182 pairs for trajectorylooking at 182 pairs for trajectorylooking at 182 pairs for trajectorylooking at 182 pairs for trajectorylooking at 182 pairs for trajectory\n",
      "\n",
      "\n",
      "\n",
      "\n",
      "\n",
      "\n",
      "\n",
      "new features /home/amir/Post_Process/GPCR/MOR/LIG_path/BU_path/h5_trajectories/Rep_4-0.h5 has shape: new features /home/amir/Post_Process/GPCR/MOR/LIG_path/BU_path/h5_trajectories/Rep_5-0.h5 has shape: new features /home/amir/Post_Process/GPCR/MOR/LIG_path/BU_path/h5_trajectories/rep_1.h5 has shape: new features /home/amir/Post_Process/GPCR/MOR/LIG_path/BU_path/h5_trajectories/Rep_5-2.h5 has shape: new features /home/amir/Post_Process/GPCR/MOR/LIG_path/BU_path/h5_trajectories/Snap1.h5 has shape: new features /home/amir/Post_Process/GPCR/MOR/LIG_path/BU_path/h5_trajectories/Rep_4-2.h5 has shape: new features /home/amir/Post_Process/GPCR/MOR/LIG_path/BU_path/h5_trajectories/Rep_6-0.h5 has shape: new features /home/amir/Post_Process/GPCR/MOR/LIG_path/BU_path/h5_trajectories/Rep_6-2.h5 has shape: \n",
      "\n",
      "\n",
      "\n",
      "\n",
      "\n",
      "\n",
      "\n",
      "(167, 182)\n",
      "(126, 182)\n",
      "(340, 182)\n",
      "(181, 182)\n",
      "(815, 182)\n",
      "(140, 182)\n",
      "(172, 182)\n",
      "(178, 182)\n",
      "looking at 182 pairs for trajectorylooking at 182 pairs for trajectorylooking at 182 pairs for trajectorylooking at 182 pairs for trajectorylooking at 182 pairs for trajectorylooking at 182 pairs for trajectorylooking at 182 pairs for trajectorylooking at 182 pairs for trajectory\n",
      "\n",
      "\n",
      "\n",
      "\n",
      "\n",
      "\n",
      "\n",
      "new features /home/amir/Post_Process/GPCR/MOR/LIG_path/BU_path/h5_trajectories/Rep_4-1.h5 has shape: new features /home/amir/Post_Process/GPCR/MOR/LIG_path/BU_path/h5_trajectories/Rep_5-1.h5 has shape: new features /home/amir/Post_Process/GPCR/MOR/LIG_path/BU_path/h5_trajectories/rep_2.h5 has shape: new features /home/amir/Post_Process/GPCR/MOR/LIG_path/BU_path/h5_trajectories/Rep_5-3.h5 has shape: new features /home/amir/Post_Process/GPCR/MOR/LIG_path/BU_path/h5_trajectories/Snap_S.h5 has shape: new features /home/amir/Post_Process/GPCR/MOR/LIG_path/BU_path/h5_trajectories/Rep_4-3.h5 has shape: new features /home/amir/Post_Process/GPCR/MOR/LIG_path/BU_path/h5_trajectories/Rep_6-1.h5 has shape: new features /home/amir/Post_Process/GPCR/MOR/LIG_path/BU_path/h5_trajectories/Rep_6-3.h5 has shape: \n",
      "\n",
      "\n",
      "\n",
      "\n",
      "\n",
      "\n",
      "\n",
      "(174, 182)\n",
      "(8, 182)\n",
      "(332, 182)\n",
      "(176, 182)\n",
      "(55, 182)\n",
      "(170, 182)\n",
      "(171, 182)\n",
      "(128, 182)\n",
      "looking at 182 pairs for trajectorylooking at 182 pairs for trajectory\n",
      "\n",
      "new features /home/amir/Post_Process/GPCR/MOR/LIG_path/BU_path/h5_trajectories/rep_5.h5 has shape: new features /home/amir/Post_Process/GPCR/MOR/LIG_path/BU_path/h5_trajectories/rep_3.h5 has shape: \n",
      "\n",
      "(330, 182)\n",
      "(326, 182)\n",
      "looking at 182 pairs for trajectory\n",
      "new features /home/amir/Post_Process/GPCR/MOR/LIG_path/BU_path/h5_trajectories/rep_4.h5 has shape: \n",
      "(325, 182)\n"
     ]
    }
   ],
   "source": [
    "if not os.path.exists(features_dir): os.makedirs(features_dir)\n",
    "featurize_contacts_custom(traj_dir, features_dir = features_dir, traj_ext = traj_ext, contact_residue_pairs_file = feature_residues_pkl, structures=[], contact_residues=[],\n",
    "                          residues_map = None, contact_cutoff = cutoff, parallel = featurize_parallel, exacycle = exacycle, traj_top_structure = None, iterative=False,\n",
    "                          user_specified_contact_residue_pairs=user_specified_contact_residue_pairs)"
   ]
  },
  {
   "cell_type": "code",
   "execution_count": 10,
   "metadata": {
    "collapsed": false
   },
   "outputs": [
    {
     "name": "stdout",
     "output_type": "stream",
     "text": [
      "(L900, R299)\n",
      "{'chain_id': 'L', 'ballosteros_weinstein': None, 'resSeq': 900, 'chain_name': None, 'res_name': 'LIG'}\n",
      "{'chain_id': 'R', 'ballosteros_weinstein': None, 'resSeq': 299, 'chain_name': None, 'res_name': 'TYR299'}\n"
     ]
    }
   ],
   "source": [
    "import pickle\n",
    "with open(feature_residues_pkl, \"rb\") as f:\n",
    "    feature_residues = pickle.load(f)\n",
    "print(feature_residues[0])\n",
    "print(feature_residues[0][0].__dict__)\n",
    "print(feature_residues[0][1].__dict__)\n",
    "tica_dir = \"%s/tica_ligand_protein_contacts_3_sparse_0pt0025\" % base\n"
   ]
  },
  {
   "cell_type": "code",
   "execution_count": 12,
   "metadata": {
    "collapsed": false
   },
   "outputs": [
    {
     "name": "stdout",
     "output_type": "stream",
     "text": [
      "loading feature files\n",
      "(180, 182)\n",
      "[ 0.82180941  1.33188927  0.607912    0.78654128  0.74846721  0.65147954\n",
      "  0.30931449  0.75141162  1.08251381  0.71781051]\n",
      "(35,)\n",
      "fitting data to tICA model\n",
      "Sparse time-structure based Independent Components Analysis (tICA)\n",
      "------------------------------------------------------------------\n",
      "n_components        : 5\n",
      "shrinkage           : 0.0004154515178374709\n",
      "lag_time            : 5\n",
      "weighted_transform  : True\n",
      "rho                 : 0.0025\n",
      "n_features          : 182\n",
      "\n",
      "Top 5 timescales :\n",
      "[ 448.85467137  303.52027895  141.69345996  129.01927576  104.0150402 ]\n",
      "\n",
      "Top 5 eigenvalues :\n",
      "[ 0.98892235  0.98366158  0.9653279   0.96198743  0.9530671 ]\n",
      "\n",
      "Number of active degrees of freedom:\n",
      "[8/182, 7/182, 22/182, 37/182, 35/182]\n",
      "loading /home/amir/Post_Process/GPCR/MOR/LIG_path/BU_path/ligand_protein_contacts/Rep_0-0.dataset\n",
      "loading /home/amir/Post_Process/GPCR/MOR/LIG_path/BU_path/ligand_protein_contacts/Rep_0-2.dataset\n",
      "loading /home/amir/Post_Process/GPCR/MOR/LIG_path/BU_path/ligand_protein_contacts/Rep_2-0.dataset\n",
      "loading /home/amir/Post_Process/GPCR/MOR/LIG_path/BU_path/ligand_protein_contacts/Rep_1-2.dataset\n",
      "loading /home/amir/Post_Process/GPCR/MOR/LIG_path/BU_path/ligand_protein_contacts/Rep_3-0.dataset\n",
      "loading /home/amir/Post_Process/GPCR/MOR/LIG_path/BU_path/ligand_protein_contacts/Rep_2-2.dataset\n",
      "loading /home/amir/Post_Process/GPCR/MOR/LIG_path/BU_path/ligand_protein_contacts/Rep_1-0.dataset\n",
      "loading /home/amir/Post_Process/GPCR/MOR/LIG_path/BU_path/ligand_protein_contacts/Rep_3-2.dataset\n",
      "loading /home/amir/Post_Process/GPCR/MOR/LIG_path/BU_path/ligand_protein_contacts/Rep_0-1.datasetloading /home/amir/Post_Process/GPCR/MOR/LIG_path/BU_path/ligand_protein_contacts/Rep_0-3.datasetloading /home/amir/Post_Process/GPCR/MOR/LIG_path/BU_path/ligand_protein_contacts/Rep_2-1.datasetloading /home/amir/Post_Process/GPCR/MOR/LIG_path/BU_path/ligand_protein_contacts/Rep_1-3.datasetloading /home/amir/Post_Process/GPCR/MOR/LIG_path/BU_path/ligand_protein_contacts/Rep_3-1.datasetloading /home/amir/Post_Process/GPCR/MOR/LIG_path/BU_path/ligand_protein_contacts/Rep_2-3.datasetloading /home/amir/Post_Process/GPCR/MOR/LIG_path/BU_path/ligand_protein_contacts/Rep_1-1.datasetloading /home/amir/Post_Process/GPCR/MOR/LIG_path/BU_path/ligand_protein_contacts/Rep_3-3.dataset\n",
      "\n",
      "\n",
      "\n",
      "\n",
      "\n",
      "\n",
      "\n",
      "loading /home/amir/Post_Process/GPCR/MOR/LIG_path/BU_path/ligand_protein_contacts/Rep_5-0.datasetloading /home/amir/Post_Process/GPCR/MOR/LIG_path/BU_path/ligand_protein_contacts/Rep_6-0.datasetloading /home/amir/Post_Process/GPCR/MOR/LIG_path/BU_path/ligand_protein_contacts/Rep_4-2.datasetloading /home/amir/Post_Process/GPCR/MOR/LIG_path/BU_path/ligand_protein_contacts/Rep_4-0.datasetloading /home/amir/Post_Process/GPCR/MOR/LIG_path/BU_path/ligand_protein_contacts/Snap1.datasetloading /home/amir/Post_Process/GPCR/MOR/LIG_path/BU_path/ligand_protein_contacts/Rep_6-2.datasetloading /home/amir/Post_Process/GPCR/MOR/LIG_path/BU_path/ligand_protein_contacts/Rep_5-2.datasetloading /home/amir/Post_Process/GPCR/MOR/LIG_path/BU_path/ligand_protein_contacts/rep_1.dataset\n",
      "\n",
      "\n",
      "\n",
      "\n",
      "\n",
      "\n",
      "\n",
      "loading /home/amir/Post_Process/GPCR/MOR/LIG_path/BU_path/ligand_protein_contacts/Rep_5-1.datasetloading /home/amir/Post_Process/GPCR/MOR/LIG_path/BU_path/ligand_protein_contacts/Rep_6-1.datasetloading /home/amir/Post_Process/GPCR/MOR/LIG_path/BU_path/ligand_protein_contacts/Rep_4-3.datasetloading /home/amir/Post_Process/GPCR/MOR/LIG_path/BU_path/ligand_protein_contacts/Rep_4-1.datasetloading /home/amir/Post_Process/GPCR/MOR/LIG_path/BU_path/ligand_protein_contacts/Snap_S.datasetloading /home/amir/Post_Process/GPCR/MOR/LIG_path/BU_path/ligand_protein_contacts/Rep_6-3.datasetloading /home/amir/Post_Process/GPCR/MOR/LIG_path/BU_path/ligand_protein_contacts/Rep_5-3.datasetloading /home/amir/Post_Process/GPCR/MOR/LIG_path/BU_path/ligand_protein_contacts/rep_2.dataset\n",
      "\n",
      "\n",
      "\n",
      "\n",
      "\n",
      "\n",
      "\n",
      "loading /home/amir/Post_Process/GPCR/MOR/LIG_path/BU_path/ligand_protein_contacts/rep_3.dataset\n",
      "loading /home/amir/Post_Process/GPCR/MOR/LIG_path/BU_path/ligand_protein_contacts/rep_5.datasetloading /home/amir/Post_Process/GPCR/MOR/LIG_path/BU_path/ligand_protein_contacts/rep_4.dataset\n",
      "\n",
      "\n",
      "transformed data with tICA model\n",
      "Saving \"/home/amir/Post_Process/GPCR/MOR/LIG_path/BU_path/tica_ligand_protein_contacts_3_sparse_0pt0025/phi_psi_chi2_allprot_tica_coords.h5\"... (<class 'msmbuilder.decomposition.sparsetica.SparseTICA'>)\n",
      "saved tICA model\n",
      "Saving \"/home/amir/Post_Process/GPCR/MOR/LIG_path/BU_path/tica_ligand_protein_contacts_3_sparse_0pt0025/phi_psi_chi2_allprot_projected.h5\"... (<class 'list'>)\n",
      "saved data projected onto tICA coords\n"
     ]
    }
   ],
   "source": [
    "os.system(\"rm -rf %s\" % tica_dir)\n",
    "lag_time = 5\n",
    "n_components = 5\n",
    "sparse = True\n",
    "wolf = True\n",
    "rho = 0.0025\n",
    "shrinkage = None\n",
    "traj_ext = \".h5\"\n",
    "fit_and_transform(features_directory = features_dir, model_dir = tica_dir, stride=5, lag_time = lag_time, n_components = n_components, sparse = sparse, wolf = wolf, rho = rho, shrinkage = shrinkage, parallel=True, traj_ext = traj_ext)"
   ]
  },
  {
   "cell_type": "code",
   "execution_count": 11,
   "metadata": {
    "collapsed": false
   },
   "outputs": [],
   "source": [
    "projected_features_dir = \"%s/phi_psi_chi2_allprot_projected.h5\" % tica_dir\n",
    "#plot_columns(tica_dir, projected_features_dir, titles = [\"tIC%d\" %j for j in range(1,6)], tICA = True, scale = 1.0, refcoords_file = None)"
   ]
  },
  {
   "cell_type": "code",
   "execution_count": 12,
   "metadata": {
    "collapsed": true
   },
   "outputs": [],
   "source": [
    "%load_ext autoreload\n",
    "%autoreload 2"
   ]
  },
  {
   "cell_type": "code",
   "execution_count": 13,
   "metadata": {
    "collapsed": false
   },
   "outputs": [],
   "source": [
    "tic_components_dir = \"%s/tic_components\" % tica_dir\n",
    "if not os.path.exists(tic_components_dir): os.makedirs(tic_components_dir)\n",
    "projection_operator_dir = \"%s/phi_psi_chi2_allprot_tica_coords.h5\" % tica_dir\n",
    "#interpret_tIC_components(projection_operator_dir, tic_components_dir, feature_residues_pkl, n_tica_components=5, percentile=95)\n"
   ]
  },
  {
   "cell_type": "code",
   "execution_count": 14,
   "metadata": {
    "collapsed": false
   },
   "outputs": [
    {
     "name": "stdout",
     "output_type": "stream",
     "text": [
      "Already clustered\n"
     ]
    }
   ],
   "source": [
    "n_clusters = 50\n",
    "clusterer_dir = \"%s/clusterer_50clusters.h5\" % tica_dir\n",
    "cluster_minikmeans(tica_dir, projected_features_dir, traj_dir, n_clusters, clusterer_dir, tICs=list(range(0,5)))"
   ]
  },
  {
   "cell_type": "code",
   "execution_count": 17,
   "metadata": {
    "collapsed": false
   },
   "outputs": [
    {
     "name": "stdout",
     "output_type": "stream",
     "text": [
      "loading \"/home/amir/Post_Process/GPCR/MOR/LIG_path/BU_path/tica_ligand_protein_contacts_3_sparse_0pt0025/clusterer_50clusters.h5\"...\n",
      "478\n",
      "136\n",
      "151\n",
      "74\n",
      "155\n",
      "164\n",
      "329\n",
      "188\n",
      "46\n",
      "179\n",
      "51\n",
      "53\n",
      "358\n",
      "116\n",
      "22\n",
      "73\n",
      "192\n",
      "135\n",
      "148\n",
      "41\n",
      "125\n",
      "82\n",
      "114\n",
      "156\n",
      "131\n",
      "199\n",
      "105\n",
      "35\n",
      "17\n",
      "168\n",
      "94\n",
      "72\n",
      "52\n",
      "47\n",
      "115\n",
      "258\n",
      "179\n",
      "69\n",
      "75\n",
      "80\n",
      "183\n",
      "211\n",
      "134\n",
      "317\n",
      "272\n",
      "25\n",
      "192\n",
      "58\n",
      "185\n",
      "91\n",
      "loading \"/home/amir/Post_Process/GPCR/MOR/LIG_path/BU_path/tica_ligand_protein_contacts_3_sparse_0pt0025/phi_psi_chi2_allprot_projected.h5\"...\n",
      "[-504.15923741   46.74621863  -80.63647766   67.33860839  189.12706714]\n",
      "[ 386.17165754 -153.83715071  158.50347295 -234.90808379   25.43297459]\n",
      "[-410.16139299  -13.48744081   12.6899848    58.72163181  -94.72815609]\n",
      "[ 636.99721471 -283.5879122   157.69926624  184.56203233  128.58142793]\n",
      "[ 623.38906852 -110.28955748  -82.64496207  -67.70225719  -55.91743954]\n",
      "[-256.41318496  -32.0686535    50.24223589  -88.2497065     2.93650121]\n",
      "[-410.81951717   29.1200788    35.47512224   38.22852782 -115.38933323]\n",
      "[-366.42992062   58.38719609   25.67462859   26.19820501 -137.5797583 ]\n",
      "[  154.14320758  1315.6418163    360.7548783   -148.82815571    53.21742015]\n",
      "[ 199.36376336 -122.5218185   138.93312634 -200.02202384    7.80062217]\n",
      "[  8.69890022e+02   2.18285058e+02  -3.45835859e+02  -1.81232676e-01\n",
      "  -1.01038686e+02]\n",
      "[ -49.50842628  -26.01807951 -105.67195764 -118.53209279   -5.98736731]\n",
      "[ 456.32567969 -289.24371042  140.20404535  250.50947795   81.0836268 ]\n",
      "[ -74.90907228  130.86765443 -103.29321092 -150.36497851   39.85560807]\n",
      "[ 1357.28308674  1599.90855103   143.71693393   201.22061408    38.76014142]\n",
      "[ 730.02940153  527.4950442  -477.41081555  121.59855622 -117.52642404]\n",
      "[-581.85324429   77.89669558   12.16702343  252.10160951  -87.05391767]\n",
      "[ 395.98690434 -280.10983632  162.06181428  137.58467174   79.49255633]\n",
      "[ -62.08773024  -79.30496455   31.72220343 -114.01375154    2.50872909]\n",
      "[ 404.32104201  -56.55752481  -23.22578405 -143.72419184  -48.84726754]\n",
      "[ 454.15255872 -160.77125728 -307.52783633   74.90524582   22.71839668]\n",
      "[ -30.53294734   25.40897561 -261.9658685   -20.97681113  -72.56466598]\n",
      "[-451.38002243   65.91486152  -76.08291072   42.79106225  165.70881818]\n",
      "[ 226.79254522 -113.87016354  -59.72727778 -106.82840418   34.76149555]\n",
      "[ 535.98445972 -305.63177006  132.47427106  180.71638796   58.29247969]\n",
      "[-486.47120095   61.30985488 -109.85326238   -3.63366882  164.13943271]\n",
      "[ 911.100514    -88.45800829 -143.24775763  -40.64388159  -58.46641659]\n",
      "[  761.18234015  2251.62977328   323.61690012   181.57804503    37.3191934 ]\n",
      "[ 1089.70869491   446.43169644    40.13202034     4.87974091   -29.67369938]\n",
      "[-194.2033611   209.21036894 -186.69822157  -77.30679357  164.36205446]\n",
      "[ 102.14314471   26.39901218   35.94535712 -176.5779579    15.35717329]\n",
      "[ -60.97272738 -132.02925406 -198.49205674  -11.57355961    2.57301716]\n",
      "[ 715.42590472  167.93996283  -81.27249771 -153.11991152  -45.01551918]\n",
      "[  912.98338287  1830.63351073   176.79594824   110.34636138    36.96124297]\n",
      "[-437.04883256   94.69854568  -27.06900081  103.16772828 -186.12840256]\n",
      "[-411.4539926   -20.68469316  115.43979422   83.91709898 -101.80141059]\n",
      "[ 299.48650229 -143.28850748  114.43163478 -153.75408817  -37.83339874]\n",
      "[-178.93076751   20.99451879 -104.85917016 -151.85839048   73.89604216]\n",
      "[  33.53322881   66.92293813  237.88531894 -195.2254294    49.35538715]\n",
      "[ 100.42583906 -111.82973682  -69.32738238 -170.41772878   -2.87972924]\n",
      "[ 776.8489534  -129.34904461 -232.72267903   51.89194049 -102.36325246]\n",
      "[-249.70426796    6.78906839   -4.37361387  -78.98723022   66.51241341]\n",
      "[-368.67961936   17.75588482   80.20789884   -6.76519132  -92.66420909]\n",
      "[-392.19938131   58.23218518  -21.63252377   11.84720669 -145.57668224]\n",
      "[-311.75797741  -16.02936772   25.50325638  -83.48304365  -39.48877472]\n",
      "[ 321.10740718  -48.87293739 -156.69191796  -54.19975655  -44.94474838]\n",
      "[  56.29124233 -156.63810298  122.68282631 -151.80856797    5.07269765]\n",
      "[-111.44620813  -26.61257155   37.20717714  -81.18236992    1.12345589]\n",
      "[ 486.68640925 -320.21157568  149.97943868   32.92984749  -13.50760357]\n",
      "[ 519.70568993  -56.16010511 -161.06278281   -1.13080906  -34.13907327]\n",
      "[(4, 135, 34.632334592932068), (4, 36, 28.711311860395675), (31, 165, 49.224253657164077), (31, 44, 50.509925799566915), (14, 108, 52.477561404702072), (11, 90, 42.913701919553205), (4, 66, 57.920951466607427), (31, 195, 31.834665603659921), (31, 286, 14.739457689756923), (31, 74, 33.739199083734562)]\n",
      "[0, 1, 2, 3, 4, 5, 6, 7, 8, 9, 10, 11, 12, 13, 14, 15, 16, 17, 18, 19, 20, 21, 22, 23, 24, 25, 26, 27, 28, 29, 30, 31, 32, 33, 34, 35, 36, 37, 38, 39, 40, 41, 42, 43, 44, 45, 46, 47, 48, 49]\n",
      "50\n",
      "[(11, 98, 14.604367335380246), (31, 286, 14.739457689756923), (11, 74, 16.005486137664107), (31, 245, 17.919370605473219), (31, 227, 18.211629706238686), (31, 301, 18.22310255046979), (31, 295, 18.393399568199115), (31, 258, 18.906658774192408), (11, 132, 19.102528593315085), (31, 241, 19.473442695315939)]\n",
      "Done sampling, now saving clusters map\n",
      "0\n",
      "1\n",
      "2\n",
      "3\n",
      "4\n",
      "5\n",
      "6\n",
      "7\n",
      "8\n",
      "9\n",
      "10\n",
      "11\n",
      "12\n",
      "13\n",
      "14\n",
      "15\n",
      "16\n",
      "17\n",
      "18\n",
      "19\n",
      "20\n",
      "21\n",
      "22\n",
      "23\n",
      "24\n",
      "25\n",
      "26\n",
      "27\n",
      "28\n",
      "29\n",
      "30\n",
      "31\n",
      "32\n",
      "33\n",
      "34\n",
      "35\n",
      "36\n",
      "37\n",
      "38\n",
      "39\n",
      "40\n",
      "41\n",
      "42\n",
      "43\n",
      "44\n",
      "45\n",
      "46\n",
      "47\n",
      "48\n",
      "49\n",
      "cluster 0 sample 138\n",
      "cluster 2 sample 18\n",
      "cluster 4 sample 42\n",
      "cluster 6 sample 196\n",
      "cluster 8 sample 15\n",
      "cluster 10 sample 40\n",
      "cluster 12 sample 136\n",
      "cluster 14 sample 14\n",
      "cluster 0 sample 412cluster 2 sample 68cluster 4 sample 54cluster 6 sample 226cluster 8 sample 14cluster 10 sample 20cluster 12 sample 72cluster 14 sample 0\n",
      "\n",
      "\n",
      "\n",
      "\n",
      "\n",
      "\n",
      "\n",
      "cluster 0 sample 375cluster 2 sample 125cluster 4 sample 124cluster 6 sample 41cluster 8 sample 35cluster 10 sample 21cluster 12 sample 313cluster 14 sample 10\n",
      "\n",
      "\n",
      "\n",
      "\n",
      "\n",
      "\n",
      "\n",
      "cluster 0 sample 327cluster 2 sample 10cluster 4 sample 20cluster 6 sample 169cluster 8 sample 22cluster 10 sample 18cluster 12 sample 338cluster 14 sample 15\n",
      "\n",
      "\n",
      "\n",
      "\n",
      "\n",
      "\n",
      "\n",
      "cluster 0 sample 437cluster 2 sample 19cluster 4 sample 81cluster 6 sample 89cluster 8 sample 37cluster 10 sample 7cluster 12 sample 280cluster 14 sample 20\n",
      "\n",
      "\n",
      "\n",
      "\n",
      "\n",
      "\n",
      "\n",
      "cluster 0 sample 391cluster 2 sample 140cluster 4 sample 62cluster 6 sample 239cluster 8 sample 33cluster 10 sample 12cluster 12 sample 1cluster 14 sample 7\n",
      "\n",
      "\n",
      "\n",
      "\n",
      "\n",
      "\n",
      "\n",
      "cluster 0 sample 302cluster 2 sample 1cluster 4 sample 79cluster 6 sample 3cluster 8 sample 42cluster 10 sample 8cluster 12 sample 327cluster 14 sample 17\n",
      "\n",
      "\n",
      "\n",
      "\n",
      "\n",
      "\n",
      "\n",
      "cluster 0 sample 152cluster 2 sample 57cluster 4 sample 92cluster 6 sample 139cluster 8 sample 7cluster 10 sample 35cluster 12 sample 305cluster 14 sample 4\n",
      "\n",
      "\n",
      "\n",
      "\n",
      "\n",
      "\n",
      "\n",
      "cluster 0 sample 383cluster 2 sample 64cluster 4 sample 77cluster 6 sample 274cluster 8 sample 3cluster 10 sample 13cluster 12 sample 12cluster 14 sample 13\n",
      "\n",
      "\n",
      "\n",
      "\n",
      "\n",
      "\n",
      "\n",
      "cluster 0 sample 278cluster 2 sample 115cluster 4 sample 76cluster 6 sample 92cluster 8 sample 40cluster 10 sample 46cluster 12 sample 274cluster 14 sample 11\n",
      "\n",
      "\n",
      "\n",
      "\n",
      "\n",
      "\n",
      "\n",
      "02468101214\n",
      "\n",
      "\n",
      "\n",
      "\n",
      "\n",
      "\n",
      "\n",
      "cluster 1 sample 123\n",
      "cluster 3 sample 63\n",
      "cluster 5 sample 94\n",
      "cluster 7 sample 19\n",
      "cluster 9 sample 105\n",
      "cluster 11 sample 18\n",
      "cluster 13 sample 101\n",
      "cluster 15 sample 29\n",
      "cluster 1 sample 115cluster 3 sample 33cluster 5 sample 117cluster 7 sample 154cluster 9 sample 72cluster 11 sample 12cluster 13 sample 62cluster 15 sample 67\n",
      "\n",
      "\n",
      "\n",
      "\n",
      "\n",
      "\n",
      "\n",
      "cluster 1 sample 80cluster 3 sample 59cluster 5 sample 68cluster 7 sample 133cluster 9 sample 0cluster 11 sample 45cluster 13 sample 98cluster 15 sample 58\n",
      "\n",
      "\n",
      "\n",
      "\n",
      "\n",
      "\n",
      "\n",
      "cluster 1 sample 38cluster 3 sample 53cluster 5 sample 3cluster 7 sample 187cluster 9 sample 147cluster 11 sample 6cluster 13 sample 15cluster 15 sample 37\n",
      "\n",
      "\n",
      "\n",
      "\n",
      "\n",
      "\n",
      "\n",
      "cluster 1 sample 46cluster 3 sample 34cluster 5 sample 118cluster 7 sample 44cluster 9 sample 78cluster 11 sample 24cluster 13 sample 16cluster 15 sample 19\n",
      "\n",
      "\n",
      "\n",
      "\n",
      "\n",
      "\n",
      "\n",
      "cluster 1 sample 3cluster 3 sample 10cluster 5 sample 52cluster 7 sample 66cluster 9 sample 154cluster 11 sample 33cluster 13 sample 22cluster 15 sample 26\n",
      "\n",
      "\n",
      "\n",
      "\n",
      "\n",
      "\n",
      "\n",
      "cluster 1 sample 15cluster 3 sample 18cluster 5 sample 96cluster 7 sample 18cluster 9 sample 113cluster 11 sample 49cluster 13 sample 64cluster 15 sample 53\n",
      "\n",
      "\n",
      "\n",
      "\n",
      "\n",
      "\n",
      "\n",
      "cluster 1 sample 8cluster 3 sample 61cluster 5 sample 80cluster 7 sample 72cluster 9 sample 60cluster 11 sample 51cluster 13 sample 69cluster 15 sample 51\n",
      "\n",
      "\n",
      "\n",
      "\n",
      "\n",
      "\n",
      "\n",
      "cluster 1 sample 99cluster 3 sample 28cluster 5 sample 23cluster 7 sample 10cluster 9 sample 4cluster 11 sample 14cluster 13 sample 85cluster 15 sample 65\n",
      "\n",
      "\n",
      "\n",
      "\n",
      "\n",
      "\n",
      "\n",
      "cluster 1 sample 93cluster 3 sample 44cluster 5 sample 129cluster 7 sample 91cluster 9 sample 16cluster 11 sample 30cluster 13 sample 45cluster 15 sample 20\n",
      "\n",
      "\n",
      "\n",
      "\n",
      "\n",
      "\n",
      "\n",
      "13579111315\n",
      "\n",
      "\n",
      "\n",
      "\n",
      "\n",
      "\n",
      "\n",
      "cluster 24 sample 85\n",
      "cluster 30 sample 2\n",
      "cluster 22 sample 20cluster 26 sample 53\n",
      "cluster 18 sample 108\n",
      "cluster 20 sample 11\n",
      "cluster 28 sample 1\n",
      "cluster 16 sample 101\n",
      "cluster 24 sample 9cluster 30 sample 84\n",
      "cluster 26 sample 55cluster 18 sample 132cluster 20 sample 45cluster 28 sample 12cluster 16 sample 50\n",
      "\n",
      "cluster 22 sample 98\n",
      "\n",
      "\n",
      "\n",
      "\n",
      "cluster 24 sample 53cluster 30 sample 51\n",
      "cluster 26 sample 50cluster 18 sample 67cluster 20 sample 43cluster 28 sample 15cluster 16 sample 56\n",
      "\n",
      "cluster 22 sample 52\n",
      "\n",
      "\n",
      "\n",
      "\n",
      "cluster 24 sample 34cluster 30 sample 8\n",
      "cluster 26 sample 80cluster 18 sample 56cluster 20 sample 19cluster 28 sample 0cluster 16 sample 160\n",
      "\n",
      "cluster 22 sample 65\n",
      "\n",
      "\n",
      "\n",
      "\n",
      "cluster 24 sample 86cluster 30 sample 62\n",
      "cluster 26 sample 96cluster 18 sample 106cluster 20 sample 67cluster 28 sample 8cluster 16 sample 98\n",
      "\n",
      "cluster 22 sample 85\n",
      "\n",
      "\n",
      "\n",
      "\n",
      "cluster 24 sample 63cluster 30 sample 34\n",
      "cluster 26 sample 12cluster 18 sample 101cluster 20 sample 115cluster 28 sample 16cluster 16 sample 185\n",
      "\n",
      "cluster 22 sample 67\n",
      "\n",
      "\n",
      "\n",
      "\n",
      "cluster 24 sample 99cluster 30 sample 19\n",
      "cluster 26 sample 10cluster 18 sample 143cluster 20 sample 57cluster 28 sample 10cluster 16 sample 138\n",
      "\n",
      "cluster 22 sample 7\n",
      "\n",
      "\n",
      "\n",
      "\n",
      "cluster 24 sample 19cluster 30 sample 0\n",
      "cluster 26 sample 42cluster 18 sample 147cluster 20 sample 23cluster 28 sample 3cluster 16 sample 8\n",
      "\n",
      "cluster 22 sample 86\n",
      "\n",
      "\n",
      "\n",
      "\n",
      "cluster 24 sample 114cluster 30 sample 27\n",
      "cluster 26 sample 90cluster 18 sample 146cluster 20 sample 10cluster 28 sample 14cluster 16 sample 61\n",
      "\n",
      "cluster 22 sample 93\n",
      "\n",
      "\n",
      "\n",
      "\n",
      "cluster 24 sample 13cluster 30 sample 76\n",
      "cluster 26 sample 22cluster 18 sample 50cluster 20 sample 6cluster 28 sample 9cluster 16 sample 128\n",
      "\n",
      "cluster 22 sample 112\n",
      "\n",
      "\n",
      "\n",
      "\n",
      "2430\n",
      "2618202816\n",
      "\n",
      "22\n",
      "\n",
      "\n",
      "\n",
      "\n",
      "cluster 25 sample 196\n",
      "cluster 31 sample 2\n",
      "\n",
      "cluster 27 sample 11\n",
      "cluster 19 sample 39\n",
      "cluster 21 sample 23\n",
      "cluster 29 sample 28\n",
      "cluster 17 sample 133\n"
     ]
    }
   ],
   "source": [
    "n_samples=10\n",
    "save_dir = \"%s/clusters50_samples10\" % tica_dir\n",
    "sampling_method = \"random\"\n",
    "clusters_map_file = \"%s/clusters50_map.h5\" % tica_dir\n",
    "sample_clusters(clusterer_dir, projected_features_dir, traj_dir, traj_ext, save_dir, n_samples, method = sampling_method, clusters_map_file = clusters_map_file)"
   ]
  },
  {
   "cell_type": "code",
   "execution_count": 16,
   "metadata": {
    "collapsed": false
   },
   "outputs": [
    {
     "name": "stdout",
     "output_type": "stream",
     "text": [
      "loading \"/home/amir/Post_Process/GPCR/MOR/LIG_path/BU_path/tica_ligand_protein_contacts_3_sparse_0pt0025/phi_psi_chi2_allprot_projected.h5\"...\n",
      "loading \"/home/amir/Post_Process/GPCR/MOR/LIG_path/BU_path/tica_ligand_protein_contacts_3_sparse_0pt0025/clusterer_50clusters.h5\"...\n",
      "Looking at 5 tICS\n",
      "Printed all tICA coords and all requested clusters\n"
     ]
    }
   ],
   "source": [
    "plot_all_tics_and_clusters(tica_dir, projected_features_dir, clusterer_dir, lag_time, label = \"cluster_id\", active_cluster_ids = range(0,n_clusters), intermediate_cluster_ids = [], inactive_cluster_ids = [])"
   ]
  },
  {
   "cell_type": "code",
   "execution_count": 13,
   "metadata": {
    "collapsed": false
   },
   "outputs": [
    {
     "name": "stdout",
     "output_type": "stream",
     "text": [
      "loading \"/home/amir/Post_Process/GPCR/MOR/LIG_path/BU_path/tica_ligand_protein_contacts_3_sparse_0pt0025/clusterer_50clusters.h5\"...\n",
      "MiniBatchKMeans(batch_size=100, compute_labels=True, init='k-means++',\n",
      "        init_size=None, max_iter=100, max_no_improvement=10, n_clusters=50,\n",
      "        n_init=10, random_state=None, reassignment_ratio=0.01, tol=0.0,\n",
      "        verbose=0)\n",
      "MSM contains 6 strongly connected components above weight=1.00. Component 4 selected, with population 83.132705%\n",
      "MSM contains 6 strongly connected components above weight=0.50. Component 4 selected, with population 83.090379%\n",
      "MSM contains 7 strongly connected components above weight=0.33. Component 5 selected, with population 81.978022%\n",
      "MSM contains 7 strongly connected components above weight=0.25. Component 5 selected, with population 81.929308%\n",
      "MSM contains 7 strongly connected components above weight=0.20. Component 5 selected, with population 81.880089%\n",
      "MSM contains 7 strongly connected components above weight=0.17. Component 5 selected, with population 81.830357%\n",
      "MSM contains 7 strongly connected components above weight=0.14. Component 5 selected, with population 81.780105%\n",
      "MSM contains 7 strongly connected components above weight=0.12. Component 5 selected, with population 81.729323%\n",
      "MSM contains 7 strongly connected components above weight=0.11. Component 5 selected, with population 81.680774%\n",
      "MSM contains 7 strongly connected components above weight=0.10. Component 5 selected, with population 81.631723%\n",
      "MSM contains 7 strongly connected components above weight=0.09. Component 5 selected, with population 81.582162%\n",
      "MSM contains 7 strongly connected components above weight=0.08. Component 5 selected, with population 81.532085%\n",
      "MSM contains 7 strongly connected components above weight=0.08. Component 5 selected, with population 81.481481%\n",
      "MSM contains 7 strongly connected components above weight=0.07. Component 5 selected, with population 81.430344%\n",
      "MSM contains 7 strongly connected components above weight=0.07. Component 5 selected, with population 81.378665%\n",
      "MSM contains 7 strongly connected components above weight=0.06. Component 5 selected, with population 81.326435%\n",
      "MSM contains 7 strongly connected components above weight=0.06. Component 5 selected, with population 81.273644%\n",
      "MSM contains 7 strongly connected components above weight=0.06. Component 5 selected, with population 81.220285%\n",
      "MSM contains 7 strongly connected components above weight=0.05. Component 5 selected, with population 81.166348%\n",
      "MSM contains 7 strongly connected components above weight=0.05. Component 5 selected, with population 81.111823%\n",
      "MSM contains 7 strongly connected components above weight=0.05. Component 5 selected, with population 81.056701%\n",
      "MSM contains 7 strongly connected components above weight=0.05. Component 5 selected, with population 81.017169%\n",
      "MSM contains 7 strongly connected components above weight=0.04. Component 5 selected, with population 80.977199%\n",
      "MSM contains 7 strongly connected components above weight=0.04. Component 5 selected, with population 80.936783%\n",
      "[[  4.74084947e+02   3.43404562e+02   1.49992546e+02   9.25405570e+01\n",
      "    6.16084697e+01   5.07197356e+01   4.30771632e+01   3.94535399e+01\n",
      "    2.44213415e+01   1.86841470e+01]\n",
      " [  1.41848012e+03   5.88794057e+02   3.31430754e+02   1.68141682e+02\n",
      "    1.25595483e+02   8.26465057e+01   7.61692203e+01   6.57073816e+01\n",
      "    3.30364355e+01   2.73232719e+01]\n",
      " [  1.19974025e+03   6.28764749e+02   3.18983945e+02   1.75858299e+02\n",
      "    1.23332637e+02   1.05022041e+02   9.57577393e+01   4.86911535e+01\n",
      "    4.68983073e+01   4.40020104e+01]\n",
      " [  1.69722476e+03   7.49360981e+02   4.24355430e+02   2.35112430e+02\n",
      "    1.59647704e+02   1.05341155e+02   1.00274248e+02   7.06644829e+01\n",
      "    6.05220122e+01   5.91124617e+01]\n",
      " [  2.14752708e+03   7.81705912e+02   5.30912911e+02   2.72011583e+02\n",
      "    1.90443016e+02   1.16572556e+02   1.08368650e+02   7.44690892e+01\n",
      "    7.01322395e+01   6.79336692e+01]\n",
      " [  2.50145386e+03   7.83474079e+02   6.46501831e+02   3.22620101e+02\n",
      "    2.25900260e+02   1.37197078e+02   1.19539558e+02   9.51038103e+01\n",
      "    7.55185684e+01   7.37352127e+01]\n",
      " [  3.12908642e+03   8.10991098e+02   7.75933132e+02   3.52554560e+02\n",
      "    2.51836974e+02   1.45103961e+02   1.25063810e+02   9.41181637e+01\n",
      "    9.24697492e+01   8.64594921e+01]\n",
      " [  3.91327985e+03   9.31117792e+02   8.26352148e+02   3.91255467e+02\n",
      "    2.80089466e+02   1.62165804e+02   1.34345443e+02   1.19397066e+02\n",
      "    1.02750486e+02   9.72373293e+01]\n",
      " [  4.38028085e+03   1.04994324e+03   8.29384574e+02   4.08083313e+02\n",
      "    3.08629173e+02   1.80919027e+02   1.38899080e+02   1.18525902e+02\n",
      "    1.14337495e+02   1.03920691e+02]\n",
      " [  5.27906842e+03   1.53257921e+03   8.22268528e+02   4.61053741e+02\n",
      "    3.33848929e+02   2.01120331e+02   1.45437913e+02   1.26191025e+02\n",
      "    1.14855446e+02   1.14274445e+02]\n",
      " [  5.47998328e+03   3.11373749e+03   8.40800638e+02   4.84003330e+02\n",
      "    3.33396941e+02   2.17426953e+02   1.60003860e+02   1.55267059e+02\n",
      "    1.34569252e+02   1.21243988e+02]\n",
      " [  6.13524506e+03   3.52594734e+03   8.42317889e+02   5.38264741e+02\n",
      "    3.56962035e+02   2.33407926e+02   1.80033992e+02   1.61009917e+02\n",
      "    1.48749912e+02   1.37291238e+02]\n",
      " [  6.81331788e+03   4.55173104e+03   8.52495852e+02   5.92863963e+02\n",
      "    3.95538910e+02   2.51152457e+02   2.13494212e+02   1.76595267e+02\n",
      "    1.68651373e+02   1.48169284e+02]\n",
      " [  1.09288342e+04   5.96945973e+03   8.63186570e+02   6.09924326e+02\n",
      "    4.07140381e+02   2.72685871e+02   2.01441696e+02   1.80304963e+02\n",
      "    1.75736523e+02   1.57732666e+02]\n",
      " [  1.20305999e+04   6.43148555e+03   8.74167981e+02   6.73131026e+02\n",
      "    4.23288209e+02   3.29790216e+02   2.34099408e+02   1.99745609e+02\n",
      "    1.90810963e+02   1.68174043e+02]\n",
      " [  1.12068533e+04   6.16289766e+03   8.67039949e+02   6.63981463e+02\n",
      "    4.58909131e+02   3.91442125e+02   2.41934389e+02   1.95912480e+02\n",
      "    1.87459660e+02   1.86275303e+02]\n",
      " [  1.49110509e+04   6.82479282e+03   9.00192217e+02   7.21843870e+02\n",
      "    4.96667458e+02   4.20019149e+02   2.59050359e+02   2.40486150e+02\n",
      "    2.02555067e+02   1.93762736e+02]\n",
      " [  1.54733338e+04   6.53682895e+03   9.51141483e+02   7.57465045e+02\n",
      "    5.73066590e+02   4.65911463e+02   2.81360424e+02   2.54172061e+02\n",
      "    2.38990276e+02   2.03095747e+02]\n",
      " [  1.51586365e+04   6.86715826e+03   9.83226060e+02   9.53004012e+02\n",
      "    6.52818489e+02   4.64654254e+02   2.88212539e+02   2.63063893e+02\n",
      "    2.25586384e+02   2.20433285e+02]\n",
      " [  1.79836015e+04   7.91589017e+03   1.03519149e+03   9.67000355e+02\n",
      "    7.00209222e+02   4.90749740e+02   3.20056944e+02   2.95948492e+02\n",
      "    2.27614308e+02   2.23654757e+02]\n",
      " [  2.00002468e+04   7.02393429e+03   1.47756439e+03   9.98495574e+02\n",
      "    6.76056747e+02   5.07403928e+02   3.11590636e+02   2.79848617e+02\n",
      "    2.71317540e+02   2.35236842e+02]\n",
      " [  2.02885006e+04   7.85290935e+03   1.51764114e+03   1.02839448e+03\n",
      "    7.10132472e+02   5.08827564e+02   3.39959549e+02   2.90275990e+02\n",
      "    2.88449249e+02   2.46537347e+02]\n",
      " [  2.34718443e+04   9.31429923e+03   1.61733671e+03   1.00907393e+03\n",
      "    7.20334890e+02   5.49850395e+02   3.42503571e+02   3.06284917e+02\n",
      "    2.56063631e+02   2.53674028e+02]\n",
      " [  2.44090782e+04   8.64590923e+03   1.69441011e+03   1.02710905e+03\n",
      "    7.11831634e+02   5.42177938e+02   3.53340532e+02   3.22305106e+02\n",
      "    2.63620921e+02   2.61636903e+02]]\n"
     ]
    }
   ],
   "source": [
    "plot_timescales(clusterer_dir, n_clusters, tica_dir, list(range(1,25)))\n"
   ]
  },
  {
   "cell_type": "code",
   "execution_count": 15,
   "metadata": {
    "collapsed": false
   },
   "outputs": [],
   "source": [
    "lag_time = 5\n",
    "msm_model_dir = \"%s/msm_lag_time%d.h5\" % (tica_dir, lag_time)\n",
    "#build_msm(clusterer_dir, lag_time=lag_time, msm_model_dir=msm_model_dir)\n"
   ]
  },
  {
   "cell_type": "code",
   "execution_count": 17,
   "metadata": {
    "collapsed": false,
    "scrolled": true
   },
   "outputs": [
    {
     "name": "stdout",
     "output_type": "stream",
     "text": [
      "loading \"/home/amir/Post_Process/GPCR/MOR/LIG_path/BU_path/tica_ligand_protein_contacts_3_sparse_0pt0025/clusterer_50clusters.h5\"...\n",
      "loading \"/home/amir/Post_Process/GPCR/MOR/LIG_path/BU_path/tica_ligand_protein_contacts_3_sparse_0pt0025/msm_lag_time5.h5\"...\n",
      "39\n"
     ]
    }
   ],
   "source": [
    "graph_file = \"%s/msm_lag_time%d_graph.graphml\" % (tica_dir, lag_time)\n",
    "construct_graph(msm_model_dir, clusterer_dir, n_clusters, 5, 5, graph_file, inactive = None, active = None, pnas_clusters_averages = None, tica_clusters_averages = None, docking=None, macrostate = None)\n"
   ]
  },
  {
   "cell_type": "code",
   "execution_count": 31,
   "metadata": {
    "collapsed": false,
    "scrolled": false
   },
   "outputs": [
    {
     "name": "stdout",
     "output_type": "stream",
     "text": [
      "loading \"/home/amir/Post_Process/GPCR/MOR/LIG_path/BU_path/tica_ligand_protein_contacts_3_sparse_0pt0025/phi_psi_chi2_allprot_projected.h5\"...\n",
      "loading \"/home/amir/Post_Process/GPCR/MOR/LIG_path/BU_path/tica_ligand_protein_contacts_3_sparse_0pt0025/clusterer_50clusters.h5\"...\n",
      "loading \"/home/amir/Post_Process/GPCR/MOR/LIG_path/BU_path/tica_ligand_protein_contacts_3_sparse_0pt0025/sampled_frames_clusters50_samples1.h5\"...\n",
      "loading \"/home/amir/Post_Process/GPCR/MOR/LIG_path/BU_path/tica_ligand_protein_contacts_3_sparse_0pt0025/msm_lag_time5.h5\"...\n",
      "Complete. Saving to disk.\n"
     ]
    }
   ],
   "source": [
    "from imp import reload\n",
    "import custom_msm\n",
    "reload(custom_msm)\n",
    "from custom_msm import *\n",
    "msm_file = msm_model_dir\n",
    "sampled_frames_file = '/home/amir/Post_Process/GPCR/MOR/LIG_path/BU_path/tica_ligand_protein_contacts_3_sparse_0pt0025/sampled_frames_clusters50_samples1.h5'\n",
    "msm_trajectory_filename = '/home/amir/Post_Process/GPCR/MOR/LIG_path/BU_path/tica_ligand_protein_contacts_3_sparse_0pt0025/msm_lagtime5_start48_3'\n",
    "make_msm_trajectory(msm_file, projected_features_dir, traj_dir, sampled_frames_file, clusterer_dir, msm_trajectory_filename, \n",
    "                    n_clusters, start_cluster=48, n_steps=1000)"
   ]
  },
  {
   "cell_type": "code",
   "execution_count": 22,
   "metadata": {
    "collapsed": true
   },
   "outputs": [],
   "source": [
    "mytraj = md.load(\"/home/amir/Post_Process/GPCR/MOR/LIG_path/BU_path/h5_trajectories/rep_1.h5\")"
   ]
  },
  {
   "cell_type": "code",
   "execution_count": 23,
   "metadata": {
    "collapsed": false
   },
   "outputs": [
    {
     "data": {
      "text/plain": [
       "['__add__',\n",
       " '__class__',\n",
       " '__delattr__',\n",
       " '__dict__',\n",
       " '__dir__',\n",
       " '__doc__',\n",
       " '__eq__',\n",
       " '__format__',\n",
       " '__ge__',\n",
       " '__getattribute__',\n",
       " '__getitem__',\n",
       " '__gt__',\n",
       " '__hash__',\n",
       " '__init__',\n",
       " '__le__',\n",
       " '__len__',\n",
       " '__lt__',\n",
       " '__module__',\n",
       " '__ne__',\n",
       " '__new__',\n",
       " '__reduce__',\n",
       " '__reduce_ex__',\n",
       " '__repr__',\n",
       " '__setattr__',\n",
       " '__sizeof__',\n",
       " '__slotnames__',\n",
       " '__str__',\n",
       " '__subclasshook__',\n",
       " '__weakref__',\n",
       " '_check_valid_unitcell',\n",
       " '_distance_unit',\n",
       " '_have_unitcell',\n",
       " '_rmsd_traces',\n",
       " '_savers',\n",
       " '_string_summary_basic',\n",
       " '_time',\n",
       " '_time_default_to_arange',\n",
       " '_topology',\n",
       " '_unitcell_angles',\n",
       " '_unitcell_lengths',\n",
       " '_xyz',\n",
       " 'atom_slice',\n",
       " 'center_coordinates',\n",
       " 'join',\n",
       " 'load',\n",
       " 'n_atoms',\n",
       " 'n_chains',\n",
       " 'n_frames',\n",
       " 'n_residues',\n",
       " 'openmm_boxes',\n",
       " 'openmm_positions',\n",
       " 'remove_solvent',\n",
       " 'restrict_atoms',\n",
       " 'save',\n",
       " 'save_amberrst7',\n",
       " 'save_binpos',\n",
       " 'save_dcd',\n",
       " 'save_dtr',\n",
       " 'save_gro',\n",
       " 'save_hdf5',\n",
       " 'save_lammpstrj',\n",
       " 'save_lh5',\n",
       " 'save_mdcrd',\n",
       " 'save_netcdf',\n",
       " 'save_netcdfrst',\n",
       " 'save_pdb',\n",
       " 'save_trr',\n",
       " 'save_xtc',\n",
       " 'save_xyz',\n",
       " 'slice',\n",
       " 'stack',\n",
       " 'superpose',\n",
       " 'time',\n",
       " 'timestep',\n",
       " 'top',\n",
       " 'topology',\n",
       " 'unitcell_angles',\n",
       " 'unitcell_lengths',\n",
       " 'unitcell_vectors',\n",
       " 'unitcell_volumes',\n",
       " 'xyz']"
      ]
     },
     "execution_count": 23,
     "metadata": {},
     "output_type": "execute_result"
    }
   ],
   "source": [
    "dir(mytraj)"
   ]
  },
  {
   "cell_type": "code",
   "execution_count": 19,
   "metadata": {
    "collapsed": false
   },
   "outputs": [],
   "source": [
    "del mytraj"
   ]
  },
  {
   "cell_type": "code",
   "execution_count": 48,
   "metadata": {
    "collapsed": false
   },
   "outputs": [
    {
     "name": "stdout",
     "output_type": "stream",
     "text": [
      "[[[-3.67750001 -2.00090003 -3.06229997]\n",
      "  [-3.55780005 -1.92980003 -3.01830006]\n",
      "  [-3.56550002 -1.78180003 -3.05369997]\n",
      "  ..., \n",
      "  [-1.46140003 -0.32269999 -1.54359996]\n",
      "  [-1.40170002 -0.40900001 -1.77069998]\n",
      "  [-1.92920005 -0.43360001 -1.81420004]]]\n",
      "(array([[ 0.29087129,  0.30480972,  0.50911838, ...,  0.31547278,\n",
      "         0.29779878,  0.30303043]], dtype=float32), array([[ 0,  3],\n",
      "       [ 0,  4],\n",
      "       [ 0,  5],\n",
      "       ..., \n",
      "       [47, 50],\n",
      "       [47, 51],\n",
      "       [48, 51]]))\n"
     ]
    }
   ],
   "source": [
    "subset = crystal_structure.atom_slice(range(0,400))\n",
    "subset.xyz\n",
    "print(subset.xyz)\n",
    "distances = md.compute_contacts(subset)\n",
    "print(distances)\n"
   ]
  },
  {
   "cell_type": "code",
   "execution_count": 20,
   "metadata": {
    "collapsed": false
   },
   "outputs": [],
   "source": [
    "distances0 = distances[0]"
   ]
  },
  {
   "cell_type": "code",
   "execution_count": 23,
   "metadata": {
    "collapsed": false
   },
   "outputs": [],
   "source": [
    "distances0 = np.nan_to_num(distances0)"
   ]
  },
  {
   "cell_type": "code",
   "execution_count": 24,
   "metadata": {
    "collapsed": false
   },
   "outputs": [
    {
     "data": {
      "text/plain": [
       "array([[ 0.,  0.,  0., ...,  0.,  0.,  0.]], dtype=float32)"
      ]
     },
     "execution_count": 24,
     "metadata": {},
     "output_type": "execute_result"
    }
   ],
   "source": [
    "distances0"
   ]
  },
  {
   "cell_type": "code",
   "execution_count": 25,
   "metadata": {
    "collapsed": false
   },
   "outputs": [
    {
     "data": {
      "text/plain": [
       "(array([], dtype=int64), array([], dtype=int64))"
      ]
     },
     "execution_count": 25,
     "metadata": {},
     "output_type": "execute_result"
    }
   ],
   "source": [
    "np.where(distances0 > 0.0)"
   ]
  },
  {
   "cell_type": "code",
   "execution_count": null,
   "metadata": {
    "collapsed": true
   },
   "outputs": [],
   "source": []
  }
 ],
 "metadata": {
  "kernelspec": {
   "display_name": "Python 2",
   "language": "python",
   "name": "python2"
  },
  "language_info": {
   "codemirror_mode": {
    "name": "ipython",
    "version": 2
   },
   "file_extension": ".py",
   "mimetype": "text/x-python",
   "name": "python",
   "nbconvert_exporter": "python",
   "pygments_lexer": "ipython2",
   "version": "2.7.10"
  }
 },
 "nbformat": 4,
 "nbformat_minor": 0
}
