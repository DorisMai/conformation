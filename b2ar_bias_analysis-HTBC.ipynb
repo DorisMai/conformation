{
 "cells": [
  {
   "cell_type": "markdown",
   "metadata": {
    "collapsed": false
   },
   "source": [
    "In this iPython notebook, we will featurize MOR ligand binding simulation by pairwise distances between the ligand and different receptor residues. We will then perform tICA and prospectively build an MSM. "
   ]
  },
  {
   "cell_type": "code",
   "execution_count": 2,
   "metadata": {
    "collapsed": true
   },
   "outputs": [],
   "source": [
    "import seaborn as sns\n",
    "import matplotlib\n",
    "import matplotlib.pyplot as plt\n",
    "\n",
    "# changing matplotlib the default style\n",
    "matplotlib.style.use('ggplot')\n",
    "#matplotlib.rcParams[\"figure.facecolor\"] = \"white\"\n",
    "#matplotlib.rcPar|ams[\"savefig.transparent\"] = \"True\"\n"
   ]
  },
  {
   "cell_type": "code",
   "execution_count": 3,
   "metadata": {
    "collapsed": false
   },
   "outputs": [
    {
     "name": "stderr",
     "output_type": "stream",
     "text": [
      "/home/enf/anaconda3/lib/python3.5/site-packages/matplotlib/__init__.py:1350: UserWarning:  This call to matplotlib.use() has no effect\n",
      "because the backend has already been chosen;\n",
      "matplotlib.use() must be called *before* pylab, matplotlib.pyplot,\n",
      "or matplotlib.backends is imported for the first time.\n",
      "\n",
      "  warnings.warn(_use_error_msg)\n"
     ]
    }
   ],
   "source": [
    "import pandas as pd\n",
    "\n",
    "\n",
    "from PDB_Order_Fixer import PDB_Order_Fixer\n",
    "import mdtraj as md\n",
    "import os\n",
    "import numpy as np\n",
    "import h5py\n",
    "\n",
    "import datetime\n",
    "import glob\n",
    "import copy\n",
    "from functools import partial \n",
    "import operator\n",
    "import time\n",
    "\n",
    "import random \n",
    "import subprocess\n",
    "from subprocess import Popen\n",
    "import sys\n",
    "from custom_clusterer import *\n",
    "from custom_tica import *\n",
    "from custom_featurizer import *\n",
    "from pdb_editing import *\n",
    "from analysis import *\n",
    "from io_functions import *\n",
    "#from topology_fixing import *\n",
    "from subsampling import *\n",
    "from conversions import *\n",
    "from custom_msm import *\n",
    "from grids import *\n",
    "from docking_analysis import *\n",
    "\n",
    "from scipy import stats\n",
    "import os\n",
    "from efficacy_scripts import *\n",
    "\n",
    "\n"
   ]
  },
  {
   "cell_type": "code",
   "execution_count": 4,
   "metadata": {
    "collapsed": true
   },
   "outputs": [],
   "source": [
    "import warnings\n",
    "warnings.filterwarnings('ignore')\n",
    "%matplotlib inline"
   ]
  },
  {
   "cell_type": "code",
   "execution_count": 5,
   "metadata": {
    "collapsed": false
   },
   "outputs": [],
   "source": [
    "from sklearn.preprocessing import scale"
   ]
  },
  {
   "cell_type": "code",
   "execution_count": 6,
   "metadata": {
    "collapsed": false
   },
   "outputs": [],
   "source": [
    "from detect_intermediates import *\n",
    "from interpret_tICs import *"
   ]
  },
  {
   "cell_type": "code",
   "execution_count": 7,
   "metadata": {
    "collapsed": false
   },
   "outputs": [],
   "source": [
    "from msmbuilder.utils import verbosedump, verboseload\n"
   ]
  },
  {
   "cell_type": "code",
   "execution_count": 8,
   "metadata": {
    "collapsed": false
   },
   "outputs": [],
   "source": [
    "from b2ar_feature_types import *\n",
    "#from b2ar_feature_types import *\n",
    "from get_variable_names import *\n",
    "from b2ar_tica_config import *\n",
    "from residue import Residue, Atom"
   ]
  },
  {
   "cell_type": "code",
   "execution_count": 9,
   "metadata": {
    "collapsed": true
   },
   "outputs": [],
   "source": [
    "from sklearn import tree\n",
    "from sklearn.tree import DecisionTreeClassifier, export_graphviz\n",
    "from sklearn.preprocessing import scale\n",
    "from random import shuffle\n",
    "from sklearn.metrics import accuracy_score\n",
    "from sklearn.linear_model import LogisticRegression\n",
    "from sklearn.metrics import roc_curve, auc"
   ]
  },
  {
   "cell_type": "code",
   "execution_count": 10,
   "metadata": {
    "collapsed": true
   },
   "outputs": [],
   "source": [
    "\n",
    "ori_feature_name = copy.deepcopy(feature_name)"
   ]
  },
  {
   "cell_type": "code",
   "execution_count": 11,
   "metadata": {
    "collapsed": false
   },
   "outputs": [],
   "source": [
    "#schemes = [\"closest-heavy\", \"CA\"]\n",
    "#feature_name = \"%s-CA\" %ori_feature_name"
   ]
  },
  {
   "cell_type": "code",
   "execution_count": 12,
   "metadata": {
    "collapsed": true
   },
   "outputs": [],
   "source": [
    "rho = 0.01\n",
    "rho_string = \"_rho0pt01\"\n",
    "n_clusters = 25\n",
    "n_samples = 1\n",
    "lag_time=5\n",
    "precision = \"XP\""
   ]
  },
  {
   "cell_type": "code",
   "execution_count": 13,
   "metadata": {
    "collapsed": false
   },
   "outputs": [
    {
     "name": "stdout",
     "output_type": "stream",
     "text": [
      "/home/enf/b2ar_analysis/featuresall_residues_2rh1_3sn6_under_cutoff6A\n",
      "/home/enf/b2ar_analysis/featuresall_residues_2rh1_3sn6_under_cutoff6A\n"
     ]
    }
   ],
   "source": [
    "(active_ref_dir, inactive_ref_dir, simulation_ref_dir, scripts_dir,\n",
    "          ligand_dir, agonist_dir, inverse_agonist_dir, biased_agonist_dir, ref_receptors_dir, whole_trajectory_pnas,\n",
    "          sasa_file) = get_base_files(base)\n",
    "\n",
    "tica_dir = get_tica_dir(base, is_sparse, lag_time, n_components, feature_name, \n",
    "                                 wolf_string, shrinkage_string, rho_string)\n",
    "ori_tica_dir = copy.deepcopy(tica_dir)\n",
    "features_dir = get_features_dir(base, feature_name)\n",
    "\n",
    "landmarks_dir = get_landmarks_dir(tica_dir)\n",
    "analysis_dir = get_analysis_dir(tica_dir, n_clusters, sampling_method)\n",
    "gmm_dir = get_gmm_dir(tica_dir)\n",
    "rf_dirdir = get_rf_dir(tica_dir)\n",
    "\n",
    "\n",
    "ref_tica_dir, ref_tica_coords = get_ref_tica_dirs(tica_dir)\n",
    "\n",
    "graph_file = get_graph_file(tica_dir, msm_lag_time, n_clusters)\n",
    "\n",
    "pnas_titles =  [\"tm6_tm3_dist\", \"rmsd_npxxy_inactive\", \"rmsd_npxxy_active\", \"rmsd_connector_inactive\", \"rmsd_connector_active\"]\n",
    "pnas_features_dir = analysis_dir\n",
    "\n",
    "\n",
    "(clusterer_dir, msm_model_dir, macrostate_dir, features_known, model_dir, projected_features_dir,\n",
    "         projection_operator_dir, ktica_fit_model_filename, ktica_projected_data_filename, nystroem_data_filename,\n",
    "         mutual_information_csv, pearson_csv) = get_tica_files(base, tica_dir, n_clusters, msm_lag_time, n_macrostates)\n",
    "\n",
    "(standardized_features_dir, feature_residues_csv, feature_residues_pkl,\n",
    "          contact_csv, ref_features_dir) = get_feature_files(features_dir)\n",
    "\n",
    "(kmeans_csv, tica_coords_csv, features_csv, active_rmsd_dir, inactive_rmsd_dir, active_pnas_dir, inactive_pnas_joined, active_pnas_joined,\n",
    "        clusters_map_file, ktica_clusters_map_file, analysis_file, combined_file, docking_summary, docking_joined, docking_z_scores_csv,\n",
    "        aggregate_docking, aggregate_docking_joined, docking_pnas_joined, aggregate_docking_pnas, aggregate_docking_pnas_joined, docking_multiple_ligands,\n",
    "        docking_distances_file, docking_pdf, mmgbsa_docking_distances, pnas_coords, mmgbsa_dir, mmgbsa_csv, mmgbsa_pdf, aggregate_mmgbsa,\n",
    "        aggregate_mmgbsa_joined, aggregate_mmgbsa_pnas_joined, mmgbsa_z_scores_csv, active_clusters_csv, intermediate_clusters_csv,\n",
    "        inactive_clusters_csv, pnas_clusters_averages, tica_clusters_averages, tica_classes_csv, tica_samples_csv, subgraph_save_base,\n",
    "        degree_save_base, degree_map_csv, degree_z_map_csv, aggregate_docking_pnas_degree_z_joined, tic_residue_csv, feature_coefs_csv,\n",
    "        duplicated_feature_coefs_csv) = get_analysis_files(analysis_dir, n_clusters, tica_dir, tica_dir, sampling_method, n_samples, precision,\n",
    "                                                           msm_lag_time)\n",
    "\n",
    "(inactive_pnas_distances_dir, active_pnas_distances_dir, active_pnas_all_distances_dir,\n",
    "          inactive_pnas_distances_new_csv, active_pnas_distances_new_csv, active_pnas_joined, active_pnas_means, pnas_coords_dir,\n",
    "          pnas_coords_csv, pnas_all_coords_csv, pnas_coords_hexbin_dir, pnas_coords_co_crystallized_docking_dir,\n",
    "          pnas_coords_active_colors_dir, user_defined_features_file, reaction_coordinates_trajs_file) = get_pnas_files(whole_trajectory_pnas, pnas_features_dir)\n",
    "\n",
    "features_dir = get_features_dir(base, feature_name)\n",
    "\n",
    "\n",
    "\n",
    "graph_file = get_graph_file(tica_dir, msm_lag_time, n_clusters)\n",
    "(scripts_dir, pymol_fixpdb_dir) = get_script_dir(scripts_dir)\n",
    "(save_dir, reimaged_dir, mae_dir, combined_reimaged_dir, grid_dir, docking_dir) = get_docking_dirs(tica_dir, n_clusters, n_components, n_samples, sampling_method, precision)\n"
   ]
  },
  {
   "cell_type": "code",
   "execution_count": 14,
   "metadata": {
    "collapsed": false
   },
   "outputs": [
    {
     "data": {
      "text/plain": [
       "12"
      ]
     },
     "execution_count": 14,
     "metadata": {},
     "output_type": "execute_result"
    }
   ],
   "source": [
    "import multiprocessing as mp\n",
    "mp.cpu_count()"
   ]
  },
  {
   "cell_type": "code",
   "execution_count": 82,
   "metadata": {
    "collapsed": false
   },
   "outputs": [
    {
     "name": "stdout",
     "output_type": "stream",
     "text": [
      "234\n"
     ]
    },
    {
     "data": {
      "text/plain": [
       "<AsyncMapResult: chdir>"
      ]
     },
     "execution_count": 82,
     "metadata": {},
     "output_type": "execute_result"
    }
   ],
   "source": [
    "from ipyparallel import Client\n",
    "rc = Client()\n",
    "print(len(rc.ids))\n",
    "dview = rc[:]\n",
    "dview.map(os.chdir, ['/home/enf/b2ar_analysis/conformation']*len(rc.ids))"
   ]
  },
  {
   "cell_type": "code",
   "execution_count": 15,
   "metadata": {
    "collapsed": false
   },
   "outputs": [
    {
     "ename": "NameError",
     "evalue": "name 'dview' is not defined",
     "output_type": "error",
     "traceback": [
      "\u001b[1;31m---------------------------------------------------------------------------\u001b[0m",
      "\u001b[1;31mNameError\u001b[0m                                 Traceback (most recent call last)",
      "\u001b[1;32m<ipython-input-15-9b191a35e90a>\u001b[0m in \u001b[0;36m<module>\u001b[1;34m()\u001b[0m\n\u001b[0;32m      9\u001b[0m                            \u001b[0mhtbc_dir\u001b[0m\u001b[1;33m,\u001b[0m \u001b[0mprecision\u001b[0m \u001b[1;33m=\u001b[0m \u001b[0mprecision\u001b[0m\u001b[1;33m,\u001b[0m \u001b[0mext\u001b[0m \u001b[1;33m=\u001b[0m \u001b[1;34m\"-out.maegz\"\u001b[0m\u001b[1;33m,\u001b[0m\u001b[1;33m\u001b[0m\u001b[0m\n\u001b[0;32m     10\u001b[0m                            \u001b[0mchosen_ligands\u001b[0m\u001b[1;33m=\u001b[0m\u001b[1;32mNone\u001b[0m\u001b[1;33m,\u001b[0m \u001b[0mchosen_receptors\u001b[0m\u001b[1;33m=\u001b[0m\u001b[1;32mNone\u001b[0m\u001b[1;33m,\u001b[0m \u001b[0mparallel\u001b[0m\u001b[1;33m=\u001b[0m\u001b[1;32mFalse\u001b[0m\u001b[1;33m,\u001b[0m\u001b[1;33m\u001b[0m\u001b[0m\n\u001b[1;32m---> 11\u001b[1;33m                            grid_ext = \".zip\", worker_pool=dview)\n\u001b[0m\u001b[0;32m     12\u001b[0m \u001b[1;33m\u001b[0m\u001b[0m\n",
      "\u001b[1;31mNameError\u001b[0m: name 'dview' is not defined"
     ]
    }
   ],
   "source": [
    "grid_center = \"64.4, 16.9, 11.99\"\n",
    "\n",
    "precision = \"SP\"\n",
    "htbc_dir = \"/home/enf/htbc/sdfs\"\n",
    "reference_docking_dir = \"/home/enf/b2ar_analysis/reference_docking/docking_SP\"\n",
    "reference_grid_dir = \"/home/enf/b2ar_analysis/reference_docking/reference_grids/\"\n",
    "\n",
    "dock_ligands_and_receptors(reference_grid_dir, reference_docking_dir,\n",
    "                           htbc_dir, precision = precision, ext = \"-out.maegz\",\n",
    "                           chosen_ligands=None, chosen_receptors=None, parallel=False,\n",
    "                           grid_ext = \".zip\", worker_pool=dview)\n",
    "\n"
   ]
  },
  {
   "cell_type": "code",
   "execution_count": 26,
   "metadata": {
    "collapsed": false
   },
   "outputs": [],
   "source": [
    "from imp import reload\n",
    "import analysis\n",
    "reload(analysis)\n",
    "from analysis import *\n",
    "\n",
    "import efficacy_scripts\n",
    "reload(efficacy_scripts)\n",
    "from efficacy_scripts import *\n",
    "\n",
    "reference_docking_dir = \"/home/enf/b2ar_analysis/reference_docking/docking_SP\"\n",
    "ligands_dir = \"/home/enf/htbc/sdfs\"\n",
    "reference_docking_df, reference_poses_df = analyze_docking_results_in_dir(reference_docking_dir, ligands_dir, write_to_disk=False, redo=False)"
   ]
  },
  {
   "cell_type": "code",
   "execution_count": 20,
   "metadata": {
    "collapsed": false
   },
   "outputs": [],
   "source": [
    "reference_docking_df = reference_docking_df.transpose()"
   ]
  },
  {
   "cell_type": "code",
   "execution_count": 27,
   "metadata": {
    "collapsed": false
   },
   "outputs": [
    {
     "data": {
      "text/plain": [
       "['2rh1_grid', '3p0g_grid']"
      ]
     },
     "execution_count": 27,
     "metadata": {},
     "output_type": "execute_result"
    }
   ],
   "source": [
    "reference_docking_df.columns.values.tolist()"
   ]
  },
  {
   "cell_type": "code",
   "execution_count": 28,
   "metadata": {
    "collapsed": false
   },
   "outputs": [
    {
     "data": {
      "text/plain": [
       "(134660, 2)"
      ]
     },
     "execution_count": 28,
     "metadata": {},
     "output_type": "execute_result"
    }
   ],
   "source": [
    "reference_docking_df.shape"
   ]
  },
  {
   "cell_type": "code",
   "execution_count": 34,
   "metadata": {
    "collapsed": false
   },
   "outputs": [],
   "source": [
    "df = reference_docking_df.sort(columns='3p0g_grid', inplace=False, ascending=False)\n",
    "df[df.columns] = np.nan_to_num(df.values)"
   ]
  },
  {
   "cell_type": "code",
   "execution_count": 52,
   "metadata": {
    "collapsed": false
   },
   "outputs": [],
   "source": [
    "df[\"difference\"] = df[\"3p0g_grid\"].subtract(df[\"2rh1_grid\"])\n",
    "df[\"mean\"] = df[\"3p0g_grid\"].add(df[\"2rh1_grid\"])\n",
    "df.sort(\"mean\", inplace=True, ascending=False)"
   ]
  },
  {
   "cell_type": "code",
   "execution_count": 53,
   "metadata": {
    "collapsed": false
   },
   "outputs": [
    {
     "data": {
      "text/html": [
       "<div>\n",
       "<table border=\"1\" class=\"dataframe\">\n",
       "  <thead>\n",
       "    <tr style=\"text-align: right;\">\n",
       "      <th></th>\n",
       "      <th>2rh1_grid</th>\n",
       "      <th>3p0g_grid</th>\n",
       "      <th>difference</th>\n",
       "      <th>mean</th>\n",
       "    </tr>\n",
       "  </thead>\n",
       "  <tbody>\n",
       "    <tr>\n",
       "      <th>_46365</th>\n",
       "      <td>11.15</td>\n",
       "      <td>10.35</td>\n",
       "      <td>-0.80</td>\n",
       "      <td>21.50</td>\n",
       "    </tr>\n",
       "    <tr>\n",
       "      <th>_43235</th>\n",
       "      <td>10.87</td>\n",
       "      <td>9.70</td>\n",
       "      <td>-1.17</td>\n",
       "      <td>20.57</td>\n",
       "    </tr>\n",
       "    <tr>\n",
       "      <th>_62901</th>\n",
       "      <td>10.67</td>\n",
       "      <td>8.85</td>\n",
       "      <td>-1.82</td>\n",
       "      <td>19.52</td>\n",
       "    </tr>\n",
       "    <tr>\n",
       "      <th>_119833</th>\n",
       "      <td>8.53</td>\n",
       "      <td>10.85</td>\n",
       "      <td>2.32</td>\n",
       "      <td>19.38</td>\n",
       "    </tr>\n",
       "    <tr>\n",
       "      <th>_103698</th>\n",
       "      <td>10.82</td>\n",
       "      <td>8.49</td>\n",
       "      <td>-2.33</td>\n",
       "      <td>19.31</td>\n",
       "    </tr>\n",
       "    <tr>\n",
       "      <th>_42622</th>\n",
       "      <td>10.83</td>\n",
       "      <td>8.19</td>\n",
       "      <td>-2.64</td>\n",
       "      <td>19.02</td>\n",
       "    </tr>\n",
       "    <tr>\n",
       "      <th>_124773</th>\n",
       "      <td>8.52</td>\n",
       "      <td>10.49</td>\n",
       "      <td>1.97</td>\n",
       "      <td>19.01</td>\n",
       "    </tr>\n",
       "    <tr>\n",
       "      <th>_103874</th>\n",
       "      <td>10.10</td>\n",
       "      <td>8.91</td>\n",
       "      <td>-1.19</td>\n",
       "      <td>19.01</td>\n",
       "    </tr>\n",
       "    <tr>\n",
       "      <th>_124756</th>\n",
       "      <td>9.39</td>\n",
       "      <td>9.60</td>\n",
       "      <td>0.21</td>\n",
       "      <td>18.99</td>\n",
       "    </tr>\n",
       "    <tr>\n",
       "      <th>_120850</th>\n",
       "      <td>9.38</td>\n",
       "      <td>9.51</td>\n",
       "      <td>0.13</td>\n",
       "      <td>18.89</td>\n",
       "    </tr>\n",
       "  </tbody>\n",
       "</table>\n",
       "</div>"
      ],
      "text/plain": [
       "         2rh1_grid  3p0g_grid  difference   mean\n",
       "_46365       11.15      10.35       -0.80  21.50\n",
       "_43235       10.87       9.70       -1.17  20.57\n",
       "_62901       10.67       8.85       -1.82  19.52\n",
       "_119833       8.53      10.85        2.32  19.38\n",
       "_103698      10.82       8.49       -2.33  19.31\n",
       "_42622       10.83       8.19       -2.64  19.02\n",
       "_124773       8.52      10.49        1.97  19.01\n",
       "_103874      10.10       8.91       -1.19  19.01\n",
       "_124756       9.39       9.60        0.21  18.99\n",
       "_120850       9.38       9.51        0.13  18.89"
      ]
     },
     "execution_count": 53,
     "metadata": {},
     "output_type": "execute_result"
    }
   ],
   "source": [
    "df.iloc[:10]"
   ]
  },
  {
   "cell_type": "code",
   "execution_count": 46,
   "metadata": {
    "collapsed": false
   },
   "outputs": [
    {
     "data": {
      "text/html": [
       "<div>\n",
       "<table border=\"1\" class=\"dataframe\">\n",
       "  <thead>\n",
       "    <tr style=\"text-align: right;\">\n",
       "      <th></th>\n",
       "      <th>2rh1_grid</th>\n",
       "      <th>3p0g_grid</th>\n",
       "      <th>difference</th>\n",
       "    </tr>\n",
       "  </thead>\n",
       "  <tbody>\n",
       "    <tr>\n",
       "      <th>_119833</th>\n",
       "      <td>8.53</td>\n",
       "      <td>10.85</td>\n",
       "      <td>2.32</td>\n",
       "    </tr>\n",
       "    <tr>\n",
       "      <th>_114015</th>\n",
       "      <td>7.61</td>\n",
       "      <td>10.79</td>\n",
       "      <td>3.18</td>\n",
       "    </tr>\n",
       "    <tr>\n",
       "      <th>_124668</th>\n",
       "      <td>7.60</td>\n",
       "      <td>10.72</td>\n",
       "      <td>3.12</td>\n",
       "    </tr>\n",
       "    <tr>\n",
       "      <th>_124773</th>\n",
       "      <td>8.52</td>\n",
       "      <td>10.49</td>\n",
       "      <td>1.97</td>\n",
       "    </tr>\n",
       "    <tr>\n",
       "      <th>_113986</th>\n",
       "      <td>8.03</td>\n",
       "      <td>10.39</td>\n",
       "      <td>2.36</td>\n",
       "    </tr>\n",
       "    <tr>\n",
       "      <th>_46365</th>\n",
       "      <td>11.15</td>\n",
       "      <td>10.35</td>\n",
       "      <td>-0.80</td>\n",
       "    </tr>\n",
       "    <tr>\n",
       "      <th>_119947</th>\n",
       "      <td>8.22</td>\n",
       "      <td>10.19</td>\n",
       "      <td>1.97</td>\n",
       "    </tr>\n",
       "    <tr>\n",
       "      <th>_119642</th>\n",
       "      <td>8.15</td>\n",
       "      <td>10.10</td>\n",
       "      <td>1.95</td>\n",
       "    </tr>\n",
       "    <tr>\n",
       "      <th>_10391</th>\n",
       "      <td>6.84</td>\n",
       "      <td>10.09</td>\n",
       "      <td>3.25</td>\n",
       "    </tr>\n",
       "    <tr>\n",
       "      <th>_120116</th>\n",
       "      <td>6.94</td>\n",
       "      <td>9.95</td>\n",
       "      <td>3.01</td>\n",
       "    </tr>\n",
       "  </tbody>\n",
       "</table>\n",
       "</div>"
      ],
      "text/plain": [
       "         2rh1_grid  3p0g_grid  difference\n",
       "_119833       8.53      10.85        2.32\n",
       "_114015       7.61      10.79        3.18\n",
       "_124668       7.60      10.72        3.12\n",
       "_124773       8.52      10.49        1.97\n",
       "_113986       8.03      10.39        2.36\n",
       "_46365       11.15      10.35       -0.80\n",
       "_119947       8.22      10.19        1.97\n",
       "_119642       8.15      10.10        1.95\n",
       "_10391        6.84      10.09        3.25\n",
       "_120116       6.94       9.95        3.01"
      ]
     },
     "execution_count": 46,
     "metadata": {},
     "output_type": "execute_result"
    }
   ],
   "source": [
    "#df = df.sort(\"3p0g_grid\", ascending=False, inplace=False)\n",
    "#df.iloc[0:10]"
   ]
  },
  {
   "cell_type": "code",
   "execution_count": 47,
   "metadata": {
    "collapsed": true
   },
   "outputs": [],
   "source": [
    "with open('/home/enf/b2ar_analysis/sparse-tICA_t5_n_components2all_residues_2rh1_3sn6_under_cutoff6A_regularization_wolf_autoShrinkage_rho0pt01/analysis_n_clusters25_random/a_vs_g-all-0.66_rfr_trials1000_split0.8_normalizeFalse_normalize-axis0True_n-estimators1000.pkl', \"rb\") as f:\n",
    "    model = pickle.load(f)"
   ]
  },
  {
   "cell_type": "code",
   "execution_count": 48,
   "metadata": {
    "collapsed": false
   },
   "outputs": [],
   "source": [
    "xtal_model = model['Crystal Structures'][0]\n",
    "\n",
    "bias_prob = xtal_model.predict_proba(df.values)\n",
    "\n",
    "bias_df = pd.DataFrame(bias_prob, index=df.index, columns=[\"class A\", \"class B\"]).sort(\"class B\", ascending=False, inplace=False)"
   ]
  },
  {
   "cell_type": "code",
   "execution_count": 51,
   "metadata": {
    "collapsed": false,
    "scrolled": false
   },
   "outputs": [
    {
     "data": {
      "text/html": [
       "<div>\n",
       "<table border=\"1\" class=\"dataframe\">\n",
       "  <thead>\n",
       "    <tr style=\"text-align: right;\">\n",
       "      <th></th>\n",
       "      <th>class A</th>\n",
       "      <th>class B</th>\n",
       "    </tr>\n",
       "  </thead>\n",
       "  <tbody>\n",
       "    <tr>\n",
       "      <th>_119833</th>\n",
       "      <td>0.212</td>\n",
       "      <td>0.788</td>\n",
       "    </tr>\n",
       "    <tr>\n",
       "      <th>_72125</th>\n",
       "      <td>0.221</td>\n",
       "      <td>0.779</td>\n",
       "    </tr>\n",
       "    <tr>\n",
       "      <th>_130022</th>\n",
       "      <td>0.221</td>\n",
       "      <td>0.779</td>\n",
       "    </tr>\n",
       "    <tr>\n",
       "      <th>_134080</th>\n",
       "      <td>0.221</td>\n",
       "      <td>0.779</td>\n",
       "    </tr>\n",
       "    <tr>\n",
       "      <th>_26712</th>\n",
       "      <td>0.225</td>\n",
       "      <td>0.775</td>\n",
       "    </tr>\n",
       "    <tr>\n",
       "      <th>_87046</th>\n",
       "      <td>0.225</td>\n",
       "      <td>0.775</td>\n",
       "    </tr>\n",
       "    <tr>\n",
       "      <th>_75299</th>\n",
       "      <td>0.225</td>\n",
       "      <td>0.775</td>\n",
       "    </tr>\n",
       "    <tr>\n",
       "      <th>_24372</th>\n",
       "      <td>0.226</td>\n",
       "      <td>0.774</td>\n",
       "    </tr>\n",
       "    <tr>\n",
       "      <th>_5594</th>\n",
       "      <td>0.226</td>\n",
       "      <td>0.774</td>\n",
       "    </tr>\n",
       "    <tr>\n",
       "      <th>_84202</th>\n",
       "      <td>0.226</td>\n",
       "      <td>0.774</td>\n",
       "    </tr>\n",
       "  </tbody>\n",
       "</table>\n",
       "</div>"
      ],
      "text/plain": [
       "         class A  class B\n",
       "_119833    0.212    0.788\n",
       "_72125     0.221    0.779\n",
       "_130022    0.221    0.779\n",
       "_134080    0.221    0.779\n",
       "_26712     0.225    0.775\n",
       "_87046     0.225    0.775\n",
       "_75299     0.225    0.775\n",
       "_24372     0.226    0.774\n",
       "_5594      0.226    0.774\n",
       "_84202     0.226    0.774"
      ]
     },
     "execution_count": 51,
     "metadata": {},
     "output_type": "execute_result"
    }
   ],
   "source": [
    "bias_df.iloc[:10]\n",
    "\n",
    "#CANNOT DO MUST FIT A SEPARATE SP MODEL!!!!"
   ]
  },
  {
   "cell_type": "code",
   "execution_count": 79,
   "metadata": {
    "collapsed": true
   },
   "outputs": [],
   "source": [
    "all_ligands_dir = \"/home/enf/b2ar_analysis/all_ligands\""
   ]
  },
  {
   "cell_type": "code",
   "execution_count": 72,
   "metadata": {
    "collapsed": false,
    "scrolled": true
   },
   "outputs": [],
   "source": [
    "import grids\n",
    "reload(grids)\n",
    "from grids import *\n",
    "\n",
    "\n",
    "bret = pd.read_excel(\"/home/enf/b2ar_analysis/bret_bias_study2.xlsx\", header=0).set_index(\"EvanName\")\n",
    "#bret = pd.read_csv(\"/home/enf/b2ar_analysis/bias_analysis/bret_bias_study.csv\", header=0).dropna().set_index(\"EvanName\")\n",
    "bret[\"B2AR-Arrestin, Mean\"].sort(inplace=False)#.subtract(bret[\"B2AR-Arrestin, Mean\"])\n",
    "cids = [int(cid) for cid in bret[\"CID\"].values if 0 != int(np.nan_to_num(cid))]\n",
    "download_sdfs_from_cids(cids, all_ligands_dir, worker_pool=None, parallel=True)"
   ]
  },
  {
   "cell_type": "code",
   "execution_count": 80,
   "metadata": {
    "collapsed": false
   },
   "outputs": [
    {
     "data": {
      "text/plain": [
       "45"
      ]
     },
     "execution_count": 80,
     "metadata": {},
     "output_type": "execute_result"
    }
   ],
   "source": [
    "len([n for n in get_ligands(all_ligands_dir, \".sdf\") if \"CID\" in n[0:3]])"
   ]
  },
  {
   "cell_type": "code",
   "execution_count": 80,
   "metadata": {
    "collapsed": false
   },
   "outputs": [],
   "source": [
    "\n",
    "\n",
    "baker_ligands = [\"329-63-5\", \"97879-29-3\", \"5716-20-1\", \"86615-41-0\", \"86615-41-0\", \"71119-11-4\", \"5696-15-1\", \"57775-29-8\", \"54239-37-1\", \"21898-19-1\", \"874882-72-1\", \"71771-90-9\", \"49745-95-1\", \"62-31-7\", \"1944-12-03\", \"183814-30-4\", \"51-30-9\", \"579-56-6\", \"244192-94-7\", \"159182-43-1\", \"03-10-5588\", \"5874-97-5\", \"118457-14-0\", \"108341-18-0\", \"770-05-8\", \"6452-73-9\", \"13523-86-9\", \"62929-91-3\", \"90274-24-1\", \"23239-51-2\", \"51022-70-9\", \"89365-50-4\", \"39731-05-0\", \"174689-39-5\", \"244081-42-3\", \"23031-32-5\", \"56776-01-3\", \"178600-17-4\", \"129689-30-1\", \"37000-20-7\"]\n",
    "baker_ligands += [\"CGP 20712A\", \"ICI 89406\", \"Practolol\", \"Xamoterol\", \"Bisoprolol\", \"Betaxolol\", \"Atenolol\", \"ICI 215001\", \"Acebutolol\", \"Metoprolol\", \"CGP 12177\", \"Labetolol\", \"Carvedilol\", \"Pronethalol\", \"Propranolol\", \"Sotalol\", \"CL 316243\", \"Alprenolol\", \"Bupranolol\", \"Nadolol\", \"Timolol\", \"ICI 118551\", \"Salbutamol\", \"Terbutaline\", \"Salmeterol\"]\n",
    "wiki_ligands = [\"Abediterol\", \"Amibegron\", \"Arbutamine\", \"Arformoterol\", \"Arotinolol\", \"Bambuterol\", \"Befunolol\", \"Bitolterol\", \"Bromoacetylalprenololmenthane\", \"(BAAM)\", \"Broxaterol\", \"Buphenine\", \"Carbuterol\", \"Cimaterol\", \"Clenbuterol\", \"Denopamine\", \"Deterenol\", \"Dipivefrine\", \"Dobutamine\", \"Dopamine\", \"Dopexamine\", \"Ephedrine\", \"Epinephrine\", \"(adrenaline)\", \"Etafedrine\", \"Etilefrine\", \"Ethylnorepinephrine\", \"Fenoterol\", \"2-Fluoronorepinephrine\", \"5-Fluoronorepinephrine\", \"Formoterol\", \"Hexoprenaline\", \"Higenamine\", \"Indacaterol\", \"Isoetarine\", \"Isoprenaline\", \"(isoproterenol)\", \"N-Isopropyloctopamine\", \"Isoxsuprine\", \"Labetalol\", \"Levonordefrin\", \"Levosalbutamol\", \"Mabuterol\", \"Methoxyphenamine\", \"Methyldopa\", \"Norepinephrine\", \"(noradrenaline)\", \"Orciprenaline\", \"Oxyfedrine\", \"Phenylpropanolamine\", \"Pirbuterol\", \"Prenalterol\", \"Ractopamine\", \"Procaterol\", \"Pseudoephedrine\", \"Quinterenol\", \"Reproterol\", \"Rimiterol\", \"Ritodrine\", \"Salbutamol\", \"(albuterol)\", \"Salmeterol\", \"Solabegron\", \"Terbutaline\", \"Tretoquinol\", \"Tulobuterol\", \"Xamoterol\", \"Zilpaterol\", \"Zinterol\"]\n",
    "baker_ligands += wiki_ligands\n",
    "baker_cids = convert_names_to_cids(baker_ligands, None, True)\n",
    "\n",
    "pubchem_cids = [\"76972397\", \"76972192\", \"76969093\", \"76968032\", \"76966860\", \"76963246\", \"76958839\", \"76956802\", \"73417104\", \"73416983\", \"73416870\", \"73416846\", \"73416798\", \"71587364\", \"70685132\", \"56603492\", \"54545496\", \"46886609\", \"43834308\", \"24906312\", \"23368803\", \"16219010\", \"14010333\", \"9890216\", \"9859211\", \"9841972\", \"9796663\", \"6917856\", \"6603756\", \"6438331\", \"5702285\", \"5702273\", \"5702098\", \"5489013\", \"5489012\", \"5458580\", \"5311064\", \"3035442\", \"3032600\", \"657230\", \"656677\", \"656634\", \"441411\", \"431097\", \"217067\", \"166551\", \"156297\", \"127126\", \"122186\", \"121888\", \"121877\", \"114840\", \"71149\", \"68603\", \"65772\", \"61122\", \"60789\", \"56052\", \"55483\", \"38286\", \"37990\", \"37989\", \"36283\", \"29138\", \"29137\", \"25654\", \"13320\", \"11368\", \"8239\", \"5924\", \"5816\", \"5807\", \"5606\", \"5581\", \"4567\", \"4117\", \"3995\", \"3783\", \"3779\", \"2783\", \"2755\", \"2687\", \"2437\", \"2309\", \"838\", \"91827721\", \"76969219\", \"76967915\", \"76966198\", \"76965438\", \"76960798\", \"73417071\", \"73416960\", \"73416949\", \"73416743\", \"73416654\", \"71700183\", \"53477580\", \"24866733\", \"24835641\", \"16759149\", \"16654936\", \"16219912\", \"16035068\", \"11954385\", \"11711522\", \"11504295\", \"10378992\", \"10297443\", \"9933004\", \"9887812\", \"9884233\", \"9865528\", \"9861452\", \"9832292\", \"9820882\", \"6917801\", \"6917710\", \"6603122\", \"6440459\", \"6335907\", \"5702161\", \"5486546\", \"5312115\", \"3083544\", \"3040551\", \"3038500\", \"3038222\", \"3034756\", \"688570\", \"688563\", \"688561\", \"657301\", \"656601\", \"441334\", \"441333\", \"325003\", \"189562\", \"171674\", \"164652\", \"155774\", \"71301\", \"68658\", \"65324\", \"56801\", \"43590\", \"43091\", \"42396\", \"39859\", \"36811\", \"36094\", \"35330\", \"35329\", \"33572\", \"31728\", \"31620\", \"23702\", \"5403\", \"5152\", \"4916\", \"4845\", \"4086\", \"3762\", \"3609\", \"3410\", \"3343\", \"3306\", \"2083\"]\n",
    "\n",
    "ligand_df = pd.DataFrame(baker_ligands, columns=[\"name\"])"
   ]
  },
  {
   "cell_type": "code",
   "execution_count": 81,
   "metadata": {
    "collapsed": false
   },
   "outputs": [],
   "source": [
    "import grids\n",
    "reload(grids)\n",
    "from grids import *\n",
    "\n",
    "download_sdfs_from_cids([int(s) for s in pubchem_cids] + baker_cids, \"/home/enf/b2ar_analysis/all_ligands\", worker_pool=None, parallel=True)"
   ]
  },
  {
   "cell_type": "code",
   "execution_count": 40,
   "metadata": {
    "collapsed": false
   },
   "outputs": [
    {
     "data": {
      "text/html": [
       "<div>\n",
       "<table border=\"1\" class=\"dataframe\">\n",
       "  <thead>\n",
       "    <tr style=\"text-align: right;\">\n",
       "      <th></th>\n",
       "      <th>smiles</th>\n",
       "      <th>ligand</th>\n",
       "    </tr>\n",
       "  </thead>\n",
       "  <tbody>\n",
       "    <tr>\n",
       "      <th>b2ar_dude_inactive-0</th>\n",
       "      <td>'c1ccc2c(c1)c3c([nH]2)c(=O)n(c(=O)[nH]3)CCN4CC...</td>\n",
       "      <td>b2ar_dude_inactive-0</td>\n",
       "    </tr>\n",
       "    <tr>\n",
       "      <th>b2ar_dude_inactive-1</th>\n",
       "      <td>'c1ccc2c(c1)c3c([nH]2)c(=O)n(c(=O)[nH]3)CCN4CC...</td>\n",
       "      <td>b2ar_dude_inactive-1</td>\n",
       "    </tr>\n",
       "    <tr>\n",
       "      <th>b2ar_dude_inactive-2</th>\n",
       "      <td>'c1ccc2c(c1)cccc2CC(=O)Nc3ccc(cc3)CCNC[C@@H](C...</td>\n",
       "      <td>b2ar_dude_inactive-2</td>\n",
       "    </tr>\n",
       "    <tr>\n",
       "      <th>b2ar_dude_inactive-3</th>\n",
       "      <td>'c1ccc2c(c1)ccc(n2)CC(=O)Nc3ccc(cc3)CCNC[C@@H]...</td>\n",
       "      <td>b2ar_dude_inactive-3</td>\n",
       "    </tr>\n",
       "    <tr>\n",
       "      <th>b2ar_dude_inactive-4</th>\n",
       "      <td>'c1ccc2c(c1)C(C=N2)CC(=O)Nc3ccc(cc3)CCNC[C@@H]...</td>\n",
       "      <td>b2ar_dude_inactive-4</td>\n",
       "    </tr>\n",
       "    <tr>\n",
       "      <th>b2ar_dude_inactive-5</th>\n",
       "      <td>'c1ccc2cc(ccc2c1)CC(=O)Nc3ccc(cc3)CCNC[C@@H](C...</td>\n",
       "      <td>b2ar_dude_inactive-5</td>\n",
       "    </tr>\n",
       "    <tr>\n",
       "      <th>b2ar_dude_inactive-6</th>\n",
       "      <td>'c1ccc2cnc(cc2c1)CC(=O)Nc3ccc(cc3)CCNC[C@@H](C...</td>\n",
       "      <td>b2ar_dude_inactive-6</td>\n",
       "    </tr>\n",
       "    <tr>\n",
       "      <th>b2ar_dude_inactive-7</th>\n",
       "      <td>'c1cc(c(c2c1C(OCC2)CN)O)O</td>\n",
       "      <td>b2ar_dude_inactive-7</td>\n",
       "    </tr>\n",
       "    <tr>\n",
       "      <th>b2ar_dude_inactive-8</th>\n",
       "      <td>'c1cc(c(cc1C2(CCCNC2)O)O)O</td>\n",
       "      <td>b2ar_dude_inactive-8</td>\n",
       "    </tr>\n",
       "    <tr>\n",
       "      <th>b2ar_dude_inactive-9</th>\n",
       "      <td>'c1ccc(cc1)c2c(=O)c3ccc(cc3oc2c4ccccc4)OCC(CNC...</td>\n",
       "      <td>b2ar_dude_inactive-9</td>\n",
       "    </tr>\n",
       "  </tbody>\n",
       "</table>\n",
       "</div>"
      ],
      "text/plain": [
       "                                                                 smiles  \\\n",
       "b2ar_dude_inactive-0  'c1ccc2c(c1)c3c([nH]2)c(=O)n(c(=O)[nH]3)CCN4CC...   \n",
       "b2ar_dude_inactive-1  'c1ccc2c(c1)c3c([nH]2)c(=O)n(c(=O)[nH]3)CCN4CC...   \n",
       "b2ar_dude_inactive-2  'c1ccc2c(c1)cccc2CC(=O)Nc3ccc(cc3)CCNC[C@@H](C...   \n",
       "b2ar_dude_inactive-3  'c1ccc2c(c1)ccc(n2)CC(=O)Nc3ccc(cc3)CCNC[C@@H]...   \n",
       "b2ar_dude_inactive-4  'c1ccc2c(c1)C(C=N2)CC(=O)Nc3ccc(cc3)CCNC[C@@H]...   \n",
       "b2ar_dude_inactive-5  'c1ccc2cc(ccc2c1)CC(=O)Nc3ccc(cc3)CCNC[C@@H](C...   \n",
       "b2ar_dude_inactive-6  'c1ccc2cnc(cc2c1)CC(=O)Nc3ccc(cc3)CCNC[C@@H](C...   \n",
       "b2ar_dude_inactive-7                          'c1cc(c(c2c1C(OCC2)CN)O)O   \n",
       "b2ar_dude_inactive-8                         'c1cc(c(cc1C2(CCCNC2)O)O)O   \n",
       "b2ar_dude_inactive-9  'c1ccc(cc1)c2c(=O)c3ccc(cc3oc2c4ccccc4)OCC(CNC...   \n",
       "\n",
       "                                    ligand  \n",
       "b2ar_dude_inactive-0  b2ar_dude_inactive-0  \n",
       "b2ar_dude_inactive-1  b2ar_dude_inactive-1  \n",
       "b2ar_dude_inactive-2  b2ar_dude_inactive-2  \n",
       "b2ar_dude_inactive-3  b2ar_dude_inactive-3  \n",
       "b2ar_dude_inactive-4  b2ar_dude_inactive-4  \n",
       "b2ar_dude_inactive-5  b2ar_dude_inactive-5  \n",
       "b2ar_dude_inactive-6  b2ar_dude_inactive-6  \n",
       "b2ar_dude_inactive-7  b2ar_dude_inactive-7  \n",
       "b2ar_dude_inactive-8  b2ar_dude_inactive-8  \n",
       "b2ar_dude_inactive-9  b2ar_dude_inactive-9  "
      ]
     },
     "execution_count": 40,
     "metadata": {},
     "output_type": "execute_result"
    }
   ],
   "source": [
    "smiles_df = pd.read_table(\"/home/enf/b2ar_analysis/all_ligands/dude_inactives.txt\")\n",
    "x = [str(line).split() for line in smiles_df.values]\n",
    "smiles_df = pd.DataFrame([l[1] for l in x], index=[\"b2ar_dude_inactive-%d\" %i for i in range(0, len(x))], columns=[\"smiles\"])\n",
    "smiles_df[\"ligand\"] = smiles_df.index\n",
    "smiles_df.iloc[:10]"
   ]
  },
  {
   "cell_type": "code",
   "execution_count": null,
   "metadata": {
    "collapsed": false,
    "scrolled": true
   },
   "outputs": [
    {
     "name": "stdout",
     "output_type": "stream",
     "text": [
      "About to do 1279 Docking computations.\n"
     ]
    }
   ],
   "source": [
    "from importlib import reload\n",
    "import grids\n",
    "reload(grids)\n",
    "from grids import *\n",
    "\n",
    "grid_center = \"64.4, 16.9, 11.99\"\n",
    "\n",
    "\n",
    "#reimaged_dir = samples_dir\n",
    "#mae_dir = reimaged_dir\n",
    "#remove_ter(reimaged_dir)\n",
    "#reorder(reimaged_dir)\n",
    "\n",
    "\n",
    "#agonist_ligands = [a for a in agonist_ligands if \"TA\" not in a]\n",
    "\n",
    "#pprep(mae_dir, ref = active_ref_dir, chosen_receptors = chosen_receptors, worker_pool=None, parallel=True)\n",
    "#generate_grids(mae_dir, grid_center, grid_dir, remove_lig = \"BIA\", chosen_receptors = chosen_receptors, worker_pool=None, outer_box=25.)\n",
    "\n",
    "precision = \"SP\"\n",
    "htbc_dir = \"/home/enf/htbc/sdfs\"\n",
    "docking_dir = \"/home/enf/htbc/b2ar/docking_SP_32-stereoisomer_6-ring-conf\"\n",
    "grid_dir = \"/home/enf/htbc/b2ar/grids\"\n",
    "\n",
    "lig_dir = \"/home/enf/b2ar_analysis/all_ligands/32-stereoisomers_6-ring-conf\"\n",
    "#df = prepare_ligands(lig_dir, exts = [\".sdf\"],\n",
    "#                     n_ring_conf=6, n_stereoisomers=32,\n",
    "#                     force_field=16, worker_pool=dview,\n",
    "#                     parallel=True, redo=False,\n",
    "#                     smiles_df=None, cid_df=None,\n",
    "#                     binding_db=None,\n",
    "#                     return_df=True)\n",
    "\n",
    "if not os.path.exists(docking_dir):\n",
    "    os.makedirs(docking_dir)\n",
    "if not os.path.exists(grid_dir):\n",
    "    os.makedirs(grid_dir)\n",
    "\n",
    "#chosen_ligands = df.index.values.tolist()[:2000]\n",
    "chosen_ligands = [n for n in get_ligands(lig_dir, \".mae\") if \"CID\" in n]\n",
    "#lig_dir = all_ligands_dir\n",
    "dock_ligands_and_receptors(grid_dir, docking_dir, lig_dir,\n",
    "                           precision = precision, ext = \"-out.maegz\",\n",
    "                           chosen_ligands=chosen_ligands, chosen_receptors = None,\n",
    "                           parallel = False, grid_ext = \".zip\", worker_pool=dview,\n",
    "                           retry_after_failed=True, timeout=60*1200*1000)\n",
    "#dock_ligands_and_receptors(grid_dir, docking_dir, lig_dir, precision = precision, ext = \"-out.maegz\", chosen_ligands=chosen_ligands, chosen_receptors = None, parallel = False, grid_ext = \".zip\", worker_pool=dview, retry_after_failed=True, timeout=60*1200)\n",
    "\n",
    "\n",
    "#dock_ligands_and_receptors(grid_dir, docking_dir,  biased_agonist_dir, precision = precision, ext = \"-out.maegz\", chosen_ligands = biased_ligands, chosen_receptors = chosen_receptors, parallel = None, grid_ext = \".grd\", worker_pool=dview)\n",
    "#dock_ligands_and_receptors(grid_dir, docking_dir, agonist_dir, precision = precision, ext = \"-out.maegz\", chosen_ligands = agonist_ligands, chosen_receptors = chosen_receptors, parallel = None, grid_ext = \".grd\", worker_pool=dview)\n",
    "\n",
    "\n"
   ]
  },
  {
   "cell_type": "code",
   "execution_count": 56,
   "metadata": {
    "collapsed": false,
    "scrolled": true
   },
   "outputs": [
    {
     "data": {
      "text/plain": [
       "['CID_10087493',\n",
       " 'CID_10353067',\n",
       " 'CID_10443654',\n",
       " 'CID_123686',\n",
       " 'CID_1237',\n",
       " 'CID_155774',\n",
       " 'CID_161394',\n",
       " 'CID_170373',\n",
       " 'CID_18026',\n",
       " 'CID_2083',\n",
       " 'CID_2119',\n",
       " 'CID_217246',\n",
       " 'CID_2249',\n",
       " 'CID_23843',\n",
       " 'CID_23844',\n",
       " 'CID_2405',\n",
       " 'CID_2585',\n",
       " 'CID_2687',\n",
       " 'CID_2755',\n",
       " 'CID_2783',\n",
       " 'CID_3343',\n",
       " 'CID_33572',\n",
       " 'CID_3609',\n",
       " 'CID_36811',\n",
       " 'CID_3682',\n",
       " 'CID_3779',\n",
       " 'CID_3869',\n",
       " 'CID_4086',\n",
       " 'CID_4382',\n",
       " 'CID_4546390',\n",
       " 'CID_4828',\n",
       " 'CID_4883',\n",
       " 'CID_4930',\n",
       " 'CID_4946',\n",
       " 'CID_5241141',\n",
       " 'CID_5253',\n",
       " 'CID_5403',\n",
       " 'CID_5478',\n",
       " 'CID_5606',\n",
       " 'CID_5806',\n",
       " 'CID_681',\n",
       " 'CID_7436',\n",
       " 'CID_838',\n",
       " 'CID_913',\n",
       " 'CID_951']"
      ]
     },
     "execution_count": 56,
     "metadata": {},
     "output_type": "execute_result"
    }
   ],
   "source": [
    "chosen_ligands = [n for n in get_ligands(lig_dir) if \"cid\" in str(n).lower()]\n",
    "chosen_ligands"
   ]
  },
  {
   "cell_type": "code",
   "execution_count": 58,
   "metadata": {
    "collapsed": false
   },
   "outputs": [
    {
     "data": {
      "text/plain": [
       "['CID_10087493',\n",
       " 'CID_10353067',\n",
       " 'CID_10443654',\n",
       " 'CID_123686',\n",
       " 'CID_1237',\n",
       " 'CID_155774',\n",
       " 'CID_161394',\n",
       " 'CID_170373',\n",
       " 'CID_18026',\n",
       " 'CID_2083',\n",
       " 'CID_2119',\n",
       " 'CID_217246',\n",
       " 'CID_2249',\n",
       " 'CID_23843',\n",
       " 'CID_23844',\n",
       " 'CID_2405',\n",
       " 'CID_2585',\n",
       " 'CID_2687',\n",
       " 'CID_2755',\n",
       " 'CID_2783',\n",
       " 'CID_3343',\n",
       " 'CID_33572',\n",
       " 'CID_3609',\n",
       " 'CID_36811',\n",
       " 'CID_3682',\n",
       " 'CID_3779',\n",
       " 'CID_3869',\n",
       " 'CID_4086',\n",
       " 'CID_4382',\n",
       " 'CID_4546390',\n",
       " 'CID_4828',\n",
       " 'CID_4883',\n",
       " 'CID_4930',\n",
       " 'CID_4946',\n",
       " 'CID_5241141',\n",
       " 'CID_5253',\n",
       " 'CID_5403',\n",
       " 'CID_5478',\n",
       " 'CID_5606',\n",
       " 'CID_5806',\n",
       " 'CID_681',\n",
       " 'CID_7436',\n",
       " 'CID_838',\n",
       " 'CID_913',\n",
       " 'CID_951',\n",
       " 'b2ar_dude_inactive-0',\n",
       " 'b2ar_dude_inactive-1',\n",
       " 'b2ar_dude_inactive-10',\n",
       " 'b2ar_dude_inactive-100',\n",
       " 'b2ar_dude_inactive-101',\n",
       " 'b2ar_dude_inactive-102',\n",
       " 'b2ar_dude_inactive-103',\n",
       " 'b2ar_dude_inactive-104',\n",
       " 'b2ar_dude_inactive-105',\n",
       " 'b2ar_dude_inactive-106',\n",
       " 'b2ar_dude_inactive-107',\n",
       " 'b2ar_dude_inactive-108',\n",
       " 'b2ar_dude_inactive-109',\n",
       " 'b2ar_dude_inactive-11',\n",
       " 'b2ar_dude_inactive-110',\n",
       " 'b2ar_dude_inactive-111',\n",
       " 'b2ar_dude_inactive-112',\n",
       " 'b2ar_dude_inactive-113',\n",
       " 'b2ar_dude_inactive-114',\n",
       " 'b2ar_dude_inactive-115',\n",
       " 'b2ar_dude_inactive-116',\n",
       " 'b2ar_dude_inactive-12',\n",
       " 'b2ar_dude_inactive-13',\n",
       " 'b2ar_dude_inactive-14',\n",
       " 'b2ar_dude_inactive-15',\n",
       " 'b2ar_dude_inactive-16',\n",
       " 'b2ar_dude_inactive-17',\n",
       " 'b2ar_dude_inactive-18',\n",
       " 'b2ar_dude_inactive-19',\n",
       " 'b2ar_dude_inactive-2',\n",
       " 'b2ar_dude_inactive-20',\n",
       " 'b2ar_dude_inactive-21',\n",
       " 'b2ar_dude_inactive-22',\n",
       " 'b2ar_dude_inactive-23',\n",
       " 'b2ar_dude_inactive-24',\n",
       " 'b2ar_dude_inactive-25',\n",
       " 'b2ar_dude_inactive-26',\n",
       " 'b2ar_dude_inactive-27',\n",
       " 'b2ar_dude_inactive-28',\n",
       " 'b2ar_dude_inactive-29',\n",
       " 'b2ar_dude_inactive-3',\n",
       " 'b2ar_dude_inactive-30',\n",
       " 'b2ar_dude_inactive-31',\n",
       " 'b2ar_dude_inactive-32',\n",
       " 'b2ar_dude_inactive-33',\n",
       " 'b2ar_dude_inactive-34',\n",
       " 'b2ar_dude_inactive-35',\n",
       " 'b2ar_dude_inactive-36',\n",
       " 'b2ar_dude_inactive-37',\n",
       " 'b2ar_dude_inactive-38',\n",
       " 'b2ar_dude_inactive-39',\n",
       " 'b2ar_dude_inactive-4',\n",
       " 'b2ar_dude_inactive-40',\n",
       " 'b2ar_dude_inactive-41',\n",
       " 'b2ar_dude_inactive-42',\n",
       " 'b2ar_dude_inactive-43',\n",
       " 'b2ar_dude_inactive-44',\n",
       " 'b2ar_dude_inactive-45',\n",
       " 'b2ar_dude_inactive-46',\n",
       " 'b2ar_dude_inactive-47',\n",
       " 'b2ar_dude_inactive-48',\n",
       " 'b2ar_dude_inactive-49',\n",
       " 'b2ar_dude_inactive-5',\n",
       " 'b2ar_dude_inactive-50',\n",
       " 'b2ar_dude_inactive-51',\n",
       " 'b2ar_dude_inactive-52',\n",
       " 'b2ar_dude_inactive-53',\n",
       " 'b2ar_dude_inactive-54',\n",
       " 'b2ar_dude_inactive-55',\n",
       " 'b2ar_dude_inactive-56',\n",
       " 'b2ar_dude_inactive-57',\n",
       " 'b2ar_dude_inactive-58',\n",
       " 'b2ar_dude_inactive-59',\n",
       " 'b2ar_dude_inactive-6',\n",
       " 'b2ar_dude_inactive-60',\n",
       " 'b2ar_dude_inactive-61',\n",
       " 'b2ar_dude_inactive-62',\n",
       " 'b2ar_dude_inactive-63',\n",
       " 'b2ar_dude_inactive-64',\n",
       " 'b2ar_dude_inactive-65',\n",
       " 'b2ar_dude_inactive-66',\n",
       " 'b2ar_dude_inactive-67',\n",
       " 'b2ar_dude_inactive-68',\n",
       " 'b2ar_dude_inactive-69',\n",
       " 'b2ar_dude_inactive-7',\n",
       " 'b2ar_dude_inactive-70',\n",
       " 'b2ar_dude_inactive-71',\n",
       " 'b2ar_dude_inactive-72',\n",
       " 'b2ar_dude_inactive-73',\n",
       " 'b2ar_dude_inactive-74',\n",
       " 'b2ar_dude_inactive-75',\n",
       " 'b2ar_dude_inactive-76',\n",
       " 'b2ar_dude_inactive-77',\n",
       " 'b2ar_dude_inactive-78',\n",
       " 'b2ar_dude_inactive-79',\n",
       " 'b2ar_dude_inactive-8',\n",
       " 'b2ar_dude_inactive-80',\n",
       " 'b2ar_dude_inactive-81',\n",
       " 'b2ar_dude_inactive-82',\n",
       " 'b2ar_dude_inactive-83',\n",
       " 'b2ar_dude_inactive-84',\n",
       " 'b2ar_dude_inactive-85',\n",
       " 'b2ar_dude_inactive-86',\n",
       " 'b2ar_dude_inactive-87',\n",
       " 'b2ar_dude_inactive-88',\n",
       " 'b2ar_dude_inactive-89',\n",
       " 'b2ar_dude_inactive-9',\n",
       " 'b2ar_dude_inactive-90',\n",
       " 'b2ar_dude_inactive-91',\n",
       " 'b2ar_dude_inactive-92',\n",
       " 'b2ar_dude_inactive-93',\n",
       " 'b2ar_dude_inactive-94',\n",
       " 'b2ar_dude_inactive-95',\n",
       " 'b2ar_dude_inactive-96',\n",
       " 'b2ar_dude_inactive-97',\n",
       " 'b2ar_dude_inactive-98',\n",
       " 'b2ar_dude_inactive-99']"
      ]
     },
     "execution_count": 58,
     "metadata": {},
     "output_type": "execute_result"
    }
   ],
   "source": [
    "get_ligands(lig_dir, \".mae\")"
   ]
  },
  {
   "cell_type": "code",
   "execution_count": null,
   "metadata": {
    "collapsed": false
   },
   "outputs": [],
   "source": [
    "from importlib import reload\n",
    "import grids\n",
    "reload(grids)\n",
    "from grids import *\n",
    "\n",
    "grid_center = \"64.4, 16.9, 11.99\"\n",
    "\n",
    "\n",
    "#reimaged_dir = samples_dir\n",
    "#mae_dir = reimaged_dir\n",
    "#remove_ter(reimaged_dir)\n",
    "#reorder(reimaged_dir)\n",
    "\n",
    "\n",
    "#agonist_ligands = [a for a in agonist_ligands if \"TA\" not in a]\n",
    "\n",
    "#pprep(mae_dir, ref = active_ref_dir, chosen_receptors = chosen_receptors, worker_pool=None, parallel=True)\n",
    "#generate_grids(mae_dir, grid_center, grid_dir, remove_lig = \"BIA\", chosen_receptors = chosen_receptors, worker_pool=None, outer_box=25.)\n",
    "\n",
    "precision = \"SP\"\n",
    "htbc_dir = \"/home/enf/htbc/sdfs\"\n",
    "docking_dir = \"/home/enf/htbc/b2ar/docking_SP_1-stereoisomer/bret\"\n",
    "grid_dir = \"/home/enf/htbc/b2ar/grids\"\n",
    "\n",
    "lig_dir = \"/home/enf/b2ar_analysis/all_ligands/1_stereoisomer\"\n",
    "#df = prepare_ligands(lig_dir, exts = [\".sdf\", \".smi\"],\n",
    "#                     n_ring_conf=1, n_stereoisomers=1,\n",
    "#                     force_field=16, worker_pool=dview,\n",
    "#                     parallel=True, redo=False,\n",
    "#                     smiles_df=smiles_df, cid_df=None,\n",
    "#                     binding_db=None,\n",
    "#                     return_df=True)\n",
    "\n",
    "if not os.path.exists(docking_dir):\n",
    "    os.makedirs(docking_dir)\n",
    "if not os.path.exists(grid_dir):\n",
    "    os.makedirs(grid_dir)\n",
    "\n",
    "#chosen_ligands = df.index.values.tolist()[:2000]\n",
    "chosen_ligands = [n for n in get_ligands(lig_dir, \".mae\") if \"inactive\" in n]\n",
    "#lig_dir = all_ligands_dir\n",
    "dock_ligands_and_receptors(grid_dir, docking_dir, lig_dir,\n",
    "                           precision = precision, ext = \"-out.maegz\",\n",
    "                           chosen_ligands=chosen_ligands, chosen_receptors = None,\n",
    "                           parallel = False, grid_ext = \".zip\", worker_pool=dview,\n",
    "                           retry_after_failed=True, timeout=60*1200*1000)\n",
    "#dock_ligands_and_receptors(grid_dir, docking_dir, lig_dir, precision = precision, ext = \"-out.maegz\", chosen_ligands=chosen_ligands, chosen_receptors = None, parallel = False, grid_ext = \".zip\", worker_pool=dview, retry_after_failed=True, timeout=60*1200)\n",
    "\n",
    "\n",
    "#dock_ligands_and_receptors(grid_dir, docking_dir,  biased_agonist_dir, precision = precision, ext = \"-out.maegz\", chosen_ligands = biased_ligands, chosen_receptors = chosen_receptors, parallel = None, grid_ext = \".grd\", worker_pool=dview)\n",
    "#dock_ligands_and_receptors(grid_dir, docking_dir, agonist_dir, precision = precision, ext = \"-out.maegz\", chosen_ligands = agonist_ligands, chosen_receptors = chosen_receptors, parallel = None, grid_ext = \".grd\", worker_pool=dview)\n",
    "\n",
    "\n",
    "\n"
   ]
  },
  {
   "cell_type": "code",
   "execution_count": null,
   "metadata": {
    "collapsed": true
   },
   "outputs": [],
   "source": [
    "from importlib import reload\n",
    "import grids\n",
    "reload(grids)\n",
    "from grids import *\n",
    "\n",
    "grid_center = \"64.4, 16.9, 11.99\"\n",
    "\n",
    "\n",
    "#reimaged_dir = samples_dir\n",
    "#mae_dir = reimaged_dir\n",
    "#remove_ter(reimaged_dir)\n",
    "#reorder(reimaged_dir)\n",
    "\n",
    "\n",
    "#agonist_ligands = [a for a in agonist_ligands if \"TA\" not in a]\n",
    "\n",
    "#pprep(mae_dir, ref = active_ref_dir, chosen_receptors = chosen_receptors, worker_pool=None, parallel=True)\n",
    "#generate_grids(mae_dir, grid_center, grid_dir, remove_lig = \"BIA\", chosen_receptors = chosen_receptors, worker_pool=None, outer_box=25.)\n",
    "\n",
    "precision = \"XP\"\n",
    "htbc_dir = \"/home/enf/htbc/sdfs/32_stereoisomers\"\n",
    "docking_dir = \"/home/enf/htbc/b2ar/docking_xp\"\n",
    "grid_dir = \"/home/enf/htbc/b2ar/grids\"\n",
    "\n",
    "df = prepare_ligands(htbc_dir, exts = [\".sdf\"],\n",
    "                n_ring_conf=6, n_stereoisomers=32,\n",
    "               force_field=16, worker_pool=dview,\n",
    "               parallel=None, redo=False,\n",
    "              smiles_df=None, cid_df=None,\n",
    "             binding_db=None,\n",
    "             return_df=True)\n",
    "\n",
    "if not os.path.exists(docking_dir):\n",
    "    os.makedirs(docking_dir)\n",
    "if not os.path.exists(grid_dir):\n",
    "    os.makedirs(grid_dir)\n",
    "\n",
    "#chosen_ligands = df.index.values.tolist()[:2000]\n",
    "#chosen_ligands = [n for n in get_ligands(all_ligands_dir) if \"CID\" in n[0:3]]\n",
    "#print(len(chosen_ligands))\n",
    "#lig_dir = all_ligands_dir\n",
    "#dock_ligands_and_receptors(grid_dir, docking_dir, lig_dir, precision = precision, ext = \"-out.maegz\", chosen_ligands=chosen_ligands, chosen_receptors = None, parallel = False, grid_ext = \".zip\", worker_pool=None, retry_after_failed=True, timeout=180)\n",
    "\n",
    "#dock_ligands_and_receptors(grid_dir, docking_dir,  biased_agonist_dir, precision = precision, ext = \"-out.maegz\", chosen_ligands = biased_ligands, chosen_receptors = chosen_receptors, parallel = None, grid_ext = \".grd\", worker_pool=dview)\n",
    "#dock_ligands_and_receptors(grid_dir, docking_dir, agonist_dir, precision = precision, ext = \"-out.maegz\", chosen_ligands = agonist_ligands, chosen_receptors = chosen_receptors, parallel = None, grid_ext = \".grd\", worker_pool=dview)\n",
    "\n",
    "\n",
    "\n"
   ]
  },
  {
   "cell_type": "code",
   "execution_count": null,
   "metadata": {
    "collapsed": true
   },
   "outputs": [],
   "source": []
  },
  {
   "cell_type": "code",
   "execution_count": 34,
   "metadata": {
    "collapsed": false
   },
   "outputs": [
    {
     "data": {
      "text/plain": [
       "'/home/enf/b2ar_analysis/sparse-tICA_t5_n_components2all_residues_2rh1_3sn6_under_cutoff6A_regularization_wolf_autoShrinkage_rho0pt01/grids_n_clusters25_n_samples1_random'"
      ]
     },
     "execution_count": 34,
     "metadata": {},
     "output_type": "execute_result"
    }
   ],
   "source": [
    "grid_dir"
   ]
  },
  {
   "cell_type": "code",
   "execution_count": null,
   "metadata": {
    "collapsed": false
   },
   "outputs": [],
   "source": [
    "tica_object = compat_verboseload(projection_operator_dir)\n",
    "print(tica_object.timescales_)"
   ]
  },
  {
   "cell_type": "code",
   "execution_count": null,
   "metadata": {
    "collapsed": false
   },
   "outputs": [],
   "source": [
    "tic_components_dir = tica_dir\n",
    "important_contact_features = interpret_tIC_components(projection_operator_dir, tic_components_dir, feature_residues_pkl, n_tica_components=5, percentile=95)"
   ]
  },
  {
   "cell_type": "code",
   "execution_count": null,
   "metadata": {
    "collapsed": false
   },
   "outputs": [],
   "source": [
    "feature_names = compat_verboseload(feature_residues_pkl)"
   ]
  },
  {
   "cell_type": "code",
   "execution_count": null,
   "metadata": {
    "collapsed": false
   },
   "outputs": [],
   "source": [
    "tic_subsampled_features_file = \"%s/features_subsampled.pkl\" % tica_dir\n",
    "subsampled_features_dir = os.path.join(tica_dir, \"subsampled_features\")\n",
    "if not os.path.exists(subsampled_features_dir): os.makedirs(subsampled_features_dir)\n",
    "important_contact_features_pruned, important_contact_features_indices = find_non_zero_features(important_contact_features[0], feature_names)\n",
    "#subsample_features(features_dir, important_contact_features_indices, important_contact_features_pruned, tic_subsampled_features_file)"
   ]
  },
  {
   "cell_type": "code",
   "execution_count": null,
   "metadata": {
    "collapsed": false,
    "scrolled": true
   },
   "outputs": [],
   "source": [
    "tica_coords = compat_verboseload(projected_features_dir)\n",
    "pnas_coords = compat_verboseload(pnas_coords_dir)\n",
    "for pnas_coord in pnas_coords: pnas_coord[:,0]*=7.14\n",
    "tica_names = [\"tIC.%d\" %i for i in range(1,n_components+1)]\n",
    "pnas_names = [\"tm6_tm3_dist\", \"rmsd_npxxy_inactive\", \"rmsd_npxxy_active\", \"rmsd_connector_inactive\", \"rmsd_connector_active\"]"
   ]
  },
  {
   "cell_type": "code",
   "execution_count": null,
   "metadata": {
    "collapsed": false
   },
   "outputs": [],
   "source": [
    "import plots\n",
    "reload(plots)\n",
    "from plots import *\n",
    "#plot_histograms(projected_features_dir, analysis_dir, \"tICA histogram\", titles=[\"tIC.%d\" %i for i in range(1,n_components+1)])"
   ]
  },
  {
   "cell_type": "code",
   "execution_count": null,
   "metadata": {
    "collapsed": false
   },
   "outputs": [],
   "source": [
    "lag_time = 25\n",
    "msm_model_dir = \"%s/msm_lag_time%d.h5\" % (tica_dir, lag_time)\n",
    "#build_msm(clusterer_tICs_1_2_3_filename, lag_time=lag_time, msm_model_dir=msm_model_dir)\n",
    "msm_object = compat_verboseload(msm_model_dir)\n",
    "prior_counts = 0."
   ]
  },
  {
   "cell_type": "code",
   "execution_count": null,
   "metadata": {
    "collapsed": false,
    "scrolled": true
   },
   "outputs": [],
   "source": [
    "\n",
    "#compute_aggregate_scores(docking_multiple_ligands, inverse_agonists = inverse_ligands, summary = aggregate_docking, z_scores_csv = docking_z_scores_csv)\n",
    "#aggregate_docking_joined_map = convert_csv_to_joined_map(aggregate_docking, aggregate_docking_joined)[0]\n",
    "#aggregate_docking_means = calc_mean(aggregate_docking_joined_map)\n",
    "#write_map_to_csv(aggregate_docking_joined, aggregate_docking_means, [\"cluster\", \"mean_aggregate_docking_z_score\"])\n",
    "#r['do.analysis'](tica_dir, analysis_dir, pnas_coords_csv, tica_coords_csv, features_dir, docking_multiple_ligands)\n",
    "#tics_vs_docking_file = \"%s/tICA_vs_docking_carazolol.pdf\" % analysis_dir\n",
    "#plot_tICs_vs_docking(docking_multiple_ligands, tica_coords_csv, tics_vs_docking_file, chosen_ligand=\"s-carazolol\")\n"
   ]
  },
  {
   "cell_type": "code",
   "execution_count": null,
   "metadata": {
    "collapsed": false
   },
   "outputs": [],
   "source": [
    "projection_operator_dir"
   ]
  },
  {
   "cell_type": "code",
   "execution_count": null,
   "metadata": {
    "collapsed": false
   },
   "outputs": [],
   "source": [
    "alt_pp_tica_dir = \"/home/enf/b2ar_analysis/sparse-tICA_t5_n_components25all_residues_2rh1_3sn6_under_cutoff6A_regularization_wolf_autoShrinkage_rho0pt01\"\n",
    "alt_projection_operator_dir = \"%s/phi_psi_chi2_allprot_tica_coords.h5\" %alt_pp_tica_dir\n",
    "tic_subsampled_features_file = \"%s/features_subsampled.pkl\" % alt_pp_tica_dir\n",
    "\n",
    "alt_important_contact_features = interpret_tIC_components(alt_projection_operator_dir, alt_pp_tica_dir, feature_residues_pkl, n_tica_components=10, percentile=95)\n",
    "\n",
    "subsampled_features_dir = os.path.join(alt_pp_tica_dir, \"subsampled_features\")\n",
    "if not os.path.exists(subsampled_features_dir): os.makedirs(subsampled_features_dir)\n",
    "alt_important_contact_features_pruned, alt_important_contact_features_indices = find_non_zero_features(alt_important_contact_features[0], feature_names)\n",
    "if not os.path.exists(tic_subsampled_features_file):\n",
    "    subsample_features(features_dir, alt_important_contact_features_indices, alt_important_contact_features_pruned, tic_subsampled_features_file)"
   ]
  },
  {
   "cell_type": "code",
   "execution_count": null,
   "metadata": {
    "collapsed": false
   },
   "outputs": [],
   "source": [
    "top_features = load_file(tic_subsampled_features_file)\n",
    "top_features = [t*10. for t in top_features]\n",
    "\n",
    "user_defined_coords = compat_verboseload(user_defined_features_file)\n",
    "user_defined_names = sorted(feature_name_residues_dict.keys())\n",
    "user_defined_dfs = [pd.DataFrame(t, columns=user_defined_names) for t in user_defined_coords]\n",
    "\n",
    "tica_dfs = [pd.DataFrame(t, columns=[\"tIC.%d\" %i for i in range(1,n_components+1)]) for t in tica_coords]\n",
    "\n",
    "all_feature_dfs = [pd.concat([top_features[i], user_defined_dfs[i], tica_dfs[i]], axis=1) for i in range(0, len(top_features))]\n"
   ]
  },
  {
   "cell_type": "code",
   "execution_count": null,
   "metadata": {
    "collapsed": false
   },
   "outputs": [],
   "source": [
    "all_traj_features_np = [f.values for f in all_feature_dfs]\n",
    "cluster_features_averages = calculate_cluster_averages_per_feature(clusterer, all_traj_features_np)\n",
    "cluster_features_averages = pd.DataFrame(cluster_features_averages, columns=all_feature_dfs[0].columns, index=[\"cluster%d\" %i for i in range(0,n_clusters)])"
   ]
  },
  {
   "cell_type": "code",
   "execution_count": null,
   "metadata": {
    "collapsed": false
   },
   "outputs": [],
   "source": [
    "import custom_clusterer\n",
    "reload(custom_clusterer)\n",
    "from custom_clusterer import *\n",
    "feature_name = \"Asn148-Leu266_ca_dist\"\n",
    "find_snapshots_within_feature_range(all_feature_dfs, feature_name, [31., 32.], \n",
    "                                    get_trajectory_files(traj_dir, traj_ext), analysis_dir,\n",
    "                                    \"%s_31_32\" %feature_name, 5, lig_name=\"BIA\", \n",
    "                                    structure=None)"
   ]
  },
  {
   "cell_type": "code",
   "execution_count": null,
   "metadata": {
    "collapsed": false
   },
   "outputs": [],
   "source": [
    "cluster_features_averages.loc[(cluster_features_averages[\"Asn148-Leu266_ca_dist\"] > 35.) & (cluster_features_averages[\"Asn148-Leu266_ca_dist\"] < 40.)][\"Asn148-Leu266_ca_dist\"]"
   ]
  },
  {
   "cell_type": "code",
   "execution_count": null,
   "metadata": {
    "collapsed": false,
    "scrolled": true
   },
   "outputs": [],
   "source": [
    "all_features_onehot, names_onehot = multi_onehot_trajectories([t.values for t in all_feature_dfs], all_feature_dfs[0].columns.values.tolist(), subsample=100)\n",
    "all_features_onehot = [pd.DataFrame(t, columns=names_onehot) for t in all_features_onehot]"
   ]
  },
  {
   "cell_type": "code",
   "execution_count": null,
   "metadata": {
    "collapsed": false
   },
   "outputs": [],
   "source": [
    "[n for n in top_features[0].columns.values.tolist() if \"TYR326\" in n]"
   ]
  },
  {
   "cell_type": "code",
   "execution_count": null,
   "metadata": {
    "collapsed": false
   },
   "outputs": [],
   "source": [
    "from imp import reload\n",
    "import efficacy_scripts\n",
    "reload(efficacy_scripts)\n",
    "from efficacy_scripts import *\n",
    "\n",
    "clusterer, cluster_averages, active_clusters, inactive_clusters, biased_ligands, agonist_ligands, inverse_ligands, all_ligands, c, feature_residues, tica_coords, user_defined_coords, pp_n_components, apriori_dfs, tica_dfs, cluster_pnas_averages, cluster_tica_averages, cluster_tica_pnas, top_features, clusters_map, tica_resampled_file, projected_features, num_trajs, features_eq, all_traj_features, samples_indices_file, samples_dir, samples_tica_avg_df, samples_pnas_avg_df, samples_features_avg_df, samples_normalized_features_avg_df, feature_names, feature_strings, samples_pnas_tica, reference_docking = initialize_analysis(clusterer_dir, user_defined_coords, user_defined_names, biased_agonist_dir, agonist_dir, inverse_agonist_dir, docking_dir, precision, docking_multiple_ligands, aggregate_docking, feature_residues_pkl, n_components, all_feature_dfs,\n",
    "                        lag_time, n_clusters, projected_features_dir, traj_dir, traj_ext, tica_dir,\n",
    "                        prior_counts, msm_object, analysis_dir, n_samples)"
   ]
  },
  {
   "cell_type": "code",
   "execution_count": null,
   "metadata": {
    "collapsed": false
   },
   "outputs": [],
   "source": [
    "analysis_dir"
   ]
  },
  {
   "cell_type": "code",
   "execution_count": null,
   "metadata": {
    "collapsed": false,
    "scrolled": true
   },
   "outputs": [],
   "source": [
    "import msm_resampled\n",
    "reload(msm_resampled)\n",
    "from msm_resampled import *\n",
    "\n",
    "import efficacy_scripts\n",
    "reload(efficacy_scripts)\n",
    "from efficacy_scripts import *\n",
    "\n",
    "docking_cluster_averages = c\n",
    "all_ligands_dir = \"/home/enf/b2ar_analysis/all_ligands\"\n",
    "ligands = get_ligands(all_ligands_dir)\n",
    "apo_populations, df_agg, aggregate_docking_msm, docking_normalized, ddg_scaled, deltas_tica, delta_delta_g, lig_features_eq, new_populations, bi_msm, num_trajs, features, null_features, classes, agonists, antagonists, labels, X, N, C, y = compute_docking_dg(docking_cluster_averages, msm_object, samples_tica_avg_df, samples_pnas_avg_df, samples_normalized_features_avg_df, important_contact_features, traj_dir, traj_ext, tica_dir, ligands, reference_docking, clusters_map, all_features_onehot, analysis_dir)"
   ]
  },
  {
   "cell_type": "code",
   "execution_count": null,
   "metadata": {
    "collapsed": false,
    "scrolled": true
   },
   "outputs": [],
   "source": [
    "lig_continuous_features = msm_reweighted_features_per_ligand(all_feature_dfs, new_populations, bi_msm, 10000, clusters_map, num_trajs, apo_populations, save_dir)"
   ]
  },
  {
   "cell_type": "code",
   "execution_count": null,
   "metadata": {
    "collapsed": false,
    "scrolled": false
   },
   "outputs": [],
   "source": [
    "import detect_intermediates\n",
    "reload(detect_intermediates)\n",
    "from detect_intermediates import *\n",
    "\n",
    "import efficacy_scripts\n",
    "reload(efficacy_scripts)\n",
    "from efficacy_scripts import *\n",
    "#compare_feature_to_apo(lig_continuous_features, [\"r_isopreterenol\", \"nebivolol\", \"3p0g_lig\", \"r_epinephrine\", \"s-carvedilol\"], \"\")\n",
    "ligands = [\"r_isopreterenol\", \"3p0g_lig\", \"r_epinephrine\", 'Ici118551', \"s-carazolol\", \"salbutamol\", \"salmeterol\"]\n",
    "compare_feature_to_apo(lig_continuous_features, ligands, \"s-carazolol\", 'Asn148-Leu266_ca_dist')\n",
    "plot_overall_kde(lig_continuous_features, ligands, 'Asn148-Leu266_ca_dist')"
   ]
  },
  {
   "cell_type": "code",
   "execution_count": null,
   "metadata": {
    "collapsed": false,
    "scrolled": true
   },
   "outputs": [],
   "source": [
    "X_binarized = np.zeros((len(lig_features_eq.keys()), lig_features_eq[lig_features_eq.keys()[0]].shape[1]))\n",
    "for i, lig in enumerate(lig_features_eq.keys()):\n",
    "    print(i)\n",
    "    x = lig_features_eq[lig]\n",
    "    X_binarized[i,:] = x.astype(bool).sum(axis=0).values\n",
    "    "
   ]
  },
  {
   "cell_type": "code",
   "execution_count": null,
   "metadata": {
    "collapsed": false
   },
   "outputs": [],
   "source": [
    "X_onehot_df = pd.DataFrame(X_binarized, index=lig_features_eq.keys(), columns=names_onehot)"
   ]
  },
  {
   "cell_type": "code",
   "execution_count": null,
   "metadata": {
    "collapsed": false
   },
   "outputs": [],
   "source": [
    "[n for n in names_onehot if \"TYR326\" in n]"
   ]
  },
  {
   "cell_type": "code",
   "execution_count": null,
   "metadata": {
    "collapsed": false
   },
   "outputs": [],
   "source": [
    "X_onehot_df['rmsd_npxxy_active < 0.334651'].sort(inplace=False).plot(kind='barh')\n",
    "plt.show()"
   ]
  },
  {
   "cell_type": "code",
   "execution_count": null,
   "metadata": {
    "collapsed": false,
    "scrolled": true
   },
   "outputs": [],
   "source": [
    "#X_all_features = np.zeros((len(lig_features_eq.keys()), lig_features_eq[lig_features_eq.keys()[0]].shape[1]))\n",
    "#for i, lig in enumerate(lig_features_eq.keys()):\n",
    "#    x = lig_features_eq[lig].mean().values\n",
    "#    X_all_features[i,:] = x\n",
    "#X_all_features_df = pd.DataFrame(X_all_features, index=lig_features_eq.keys(), columns=lig_features_eq[lig].columns)\n",
    "#X_all_features_df = standardize_df(X_all_features_df)"
   ]
  },
  {
   "cell_type": "code",
   "execution_count": null,
   "metadata": {
    "collapsed": false
   },
   "outputs": [],
   "source": [
    "salt_bridge = []\n",
    "for ligand in common_ligands:\n",
    "    salt_bridge.append(lig_features_eq[ligand].loc[lig_features_eq[ligand][\"Glu268-Arg328_dist\"] < 5.].shape[0])\n",
    "    "
   ]
  },
  {
   "cell_type": "code",
   "execution_count": null,
   "metadata": {
    "collapsed": false
   },
   "outputs": [],
   "source": [
    "salt_bridge = []\n",
    "for ligand in common_ligands:\n",
    "    salt_bridge.append(lig_features_eq[ligand].loc[lig_features_eq[ligand][\"Asn148-Leu266_dist\"] > 37.5].shape[0])\n",
    "pd.DataFrame(salt_bridge, index=common_ligands, columns=[\"dist\"]).sort(columns=\"dist\", inplace=False)"
   ]
  },
  {
   "cell_type": "code",
   "execution_count": null,
   "metadata": {
    "collapsed": false,
    "scrolled": true
   },
   "outputs": [],
   "source": [
    "plt.hist(lig_features_eq[\"r_isopreterenol\"][\"Asn148-Leu266_ca_dist\"].values, bins=50)\n",
    "plt.show()\n",
    "plt.hist(lig_features_eq[\"s-carazolol\"][\"Asn148-Leu266_ca_dist\"].values, bins=50)\n",
    "plt.show()\n",
    "plt.hist(lig_features_eq[\"practolol\"][\"Asn148-Leu266_ca_dist\"].values, bins=50)\n",
    "plt.show()\n",
    "plt.hist(lig_features_eq[\"practolol\"][\"tm6_tm3_dist\"].values, bins=50)\n",
    "plt.show()\n",
    "plt.hist(lig_features_eq[\"r_isopreterenol\"][\"tm6_tm3_dist\"].values, bins=50)\n",
    "plt.show()\n",
    "plt.hist(lig_features_eq[\"s-carvedilol\"][\"tm6_tm3_dist\"].values, bins=50)\n",
    "plt.show()"
   ]
  },
  {
   "cell_type": "code",
   "execution_count": null,
   "metadata": {
    "collapsed": false
   },
   "outputs": [],
   "source": [
    "plt.scatter(standardize_df(X_onehot_df.loc[common_ligands][X_onehot_df.columns.values[-13]]).values, bret.loc[common_ligands][\"B2AR-Gprotein, Mean\"])\n",
    "plt.show()"
   ]
  },
  {
   "cell_type": "code",
   "execution_count": null,
   "metadata": {
    "collapsed": false,
    "scrolled": false
   },
   "outputs": [],
   "source": [
    "df = pd.DataFrame(compute_pearson_matrix(standardize_df(X_onehot_df.loc[common_ligands].transpose()).values.T,bret[\"B2AR-Gprotein, Mean\"].subtract(bret[\"B2AR-Arrestin, Mean\"]).loc[common_agonists].values.reshape((-1,1))), index=X_onehot_df.columns, columns=[\"correlation\"]).sort(\"correlation\", inplace=False)\n",
    "print(df)"
   ]
  },
  {
   "cell_type": "code",
   "execution_count": null,
   "metadata": {
    "collapsed": false
   },
   "outputs": [],
   "source": [
    "list(feature_name_residues_dict.keys())"
   ]
  },
  {
   "cell_type": "code",
   "execution_count": null,
   "metadata": {
    "collapsed": true
   },
   "outputs": [],
   "source": [
    "pd.set_option('display.max_rows', None)\n",
    "pd.set_option('display.max_columns', None)"
   ]
  },
  {
   "cell_type": "code",
   "execution_count": null,
   "metadata": {
    "collapsed": false
   },
   "outputs": [],
   "source": [
    "cluster_pnas_averages"
   ]
  },
  {
   "cell_type": "code",
   "execution_count": null,
   "metadata": {
    "collapsed": false
   },
   "outputs": [],
   "source": [
    "samples_features_avg_df"
   ]
  },
  {
   "cell_type": "code",
   "execution_count": null,
   "metadata": {
    "collapsed": false,
    "scrolled": true
   },
   "outputs": [],
   "source": [
    "bret = pd.read_excel(\"/home/enf/b2ar_analysis/bret_bias_study2.xlsx\", header=0).dropna().set_index(\"EvanName\")\n",
    "#bret = pd.read_csv(\"/home/enf/b2ar_analysis/bias_analysis/bret_bias_study.csv\", header=0).dropna().set_index(\"EvanName\")\n",
    "common_ligands = [n for n in bret.index.values if n in delta_delta_g.columns.values]\n",
    "bret[\"B2AR-Arrestin, Mean\"].sort(inplace=False)#.subtract(bret[\"B2AR-Arrestin, Mean\"])\n"
   ]
  },
  {
   "cell_type": "code",
   "execution_count": null,
   "metadata": {
    "collapsed": false
   },
   "outputs": [],
   "source": [
    "bret"
   ]
  },
  {
   "cell_type": "code",
   "execution_count": null,
   "metadata": {
    "collapsed": false,
    "scrolled": true
   },
   "outputs": [],
   "source": [
    "from sklearn.preprocessing import binarize\n",
    "import efficacy_scripts\n",
    "reload(efficacy_scripts)\n",
    "from efficacy_scripts import *\n",
    "#arrestin_antagonists = [\"s-carvedilol\", \"nebivolol\"]\n",
    "#non_arrestin_antagonists = [n for n in antagonists if n not in arrestin_antagonists and n not in [\"Carvedilol\"]]\n",
    "#y = np.array([1. for i in arrestin_antagonists] + [0. for i in non_arrestin_antagonists]).reshape((-1,1))\n",
    "\n",
    "\n",
    "total_activity = bret[\"B2AR-Arrestin, Mean\"].loc[common_ligands].add(bret[\"B2AR-Gprotein, Mean\"].loc[common_ligands])\n",
    "#common_agonists = arrestin_antagonists + non_arrestin_antagonists\n",
    "#biased_ligands = [\"ethylnorepinephrine\", \"isoetharine\", \"N-Cyclopentylbutanephrine\"]\n",
    "#non_biased_ligands =  [\"r_isopreterenol\", \"r_epinephrine\", \"norepinephrine\", \"zinterol\", \"orciprenaline\", \"epinine\", \"terbutaline\", \"fenoterol\", \"procaterol\", \"formoterol\", \"salbutamol\", \"salmeterol\"]\n",
    "#y = np.array([1. for i in biased_ligands] + [0. for i in non_biased_ligands]).reshape((-1,1))\n",
    "#common_agonists = biased_ligands + non_biased_ligands\n",
    "\n",
    "common_agonists = total_activity.loc[total_activity > 0.2].index.values\n",
    "y_ori = bret[\"B2AR-Arrestin, Mean\"].loc[common_agonists].subtract(bret[\"B2AR-Gprotein, Mean\"].loc[common_agonists]).values.reshape((-1,1))\n",
    "\n",
    "top_clusters = delta_delta_g.index.values\n",
    "#top_clusters = list(set(delta_delta_g.sort(\"nebivolol\").index.values[:10].tolist() + delta_delta_g.sort(\"3p0g_lig\").index.values[:10].tolist()))\n",
    "#top_clusters = list(set(delta_delta_g.sort(\"N-Cyclopentylbutanephrine\", inplace=False).index.values[:4].tolist() + delta_delta_g.sort(\"procaterol\", inplace=False).index.values[:4].tolist()))\n",
    "#agonists_df = [a for a in agonists if a in delta_delta_g.columns.values]\n",
    "#common_agonists = agonists_df + antagonists\n",
    "#y = np.array([1. for i in agonists_df] + [0. for i in antagonists]).reshape((-1,1))\n",
    "#common_agonists = common_ligands\n",
    "y_arr = bret[\"B2AR-Arrestin, Mean\"].loc[common_agonists].values.reshape((-1,1))\n",
    "y_gpr = bret[\"B2AR-Gprotein, Mean\"].loc[common_agonists].values.reshape((-1,1))\n",
    "#y_ori = y_arr - y_gpr\n",
    "#y_ori = y_arr\n",
    "#y = y_arr\n",
    "#y = multi_binarizer(y_gpr, [0.2, 0.8])\n",
    "y = multi_binarizer(y_ori, [-0.2])\n",
    "print(y)\n",
    "\n",
    "C = null_features.loc[common_agonists].values\n",
    "#X = delta_delta_g.loc[top_clusters][common_agonists].values.T\n",
    "X = np.hstack([delta_delta_g.loc[top_clusters][common_agonists].values.T, C*-1.0])\n",
    "#X_scaled = ddg_scaled.loc[top_clusters][common_agonists].values.T\n",
    "X_scaled = np.hstack([ddg_scaled.loc[top_clusters][common_agonists].values.T, C*-1.0])\n",
    "#D_scaled = docking_normalized.loc[top_clusters][common_agonists].values.T\n",
    "D_scaled = np.hstack([docking_normalized.loc[top_clusters][common_agonists].values.T, C*-1.0])\n",
    "X_diff = np.zeros((X.shape[0], X.shape[1]**2/2))\n",
    "k=0\n",
    "for i in range(0,X.shape[1]):\n",
    "    for j in range(i+1,X.shape[1]):\n",
    "        X_diff[:,k] = X[:,i] - X[:,j]\n",
    "        k+=1\n",
    "X_diff = np.hstack([X_scaled, X_diff, C*-1.0])\n",
    "\n",
    "all_features_df = pd.concat([ddg_scaled.loc[top_clusters], null_features.multiply(-1.0).transpose(), X_onehot_df.transpose()], axis=0)[common_agonists].transpose()\n",
    "all_features = all_features_df.values\n",
    "features = [C*-1.0, X_scaled]\n",
    "features_y = [C*-1.0, X_scaled]\n",
    "feature_names = [\"Crystal Structures\", \"Docking ddG Scaled\"]#, \"Docking ddG and Observables\"]\n",
    "\n",
    "n_trials=1000\n",
    "a_vs_g_results_t1000_single0pt2_split0pt8_logistic_cv_2f_obs = do_classification_experiment(features, y, feature_names, n_trials, 0.8, regularize=True, model=\"logistic_cv\")\n",
    "with open(\"%s/a_vs_g_results_t1000_single0pt2_split0pt8_logistic_cv_2f_obs.pkl\" %analysis_dir, \"wb\") as f:\n",
    "    pickle.dump(a_vs_g_results_t1000_single0pt2_split0pt8_logistic_cv_2f_obs, f)\n",
    "\n",
    "\n",
    "analyze_multiclass_experiment(a_vs_g_results_t1000_single0pt2_split0pt8_logistic_cv_2f_obs, \n",
    "                              [\"Crystal Structures\", \"MSM Docking\"],\n",
    "                              top_clusters.tolist() + null_features.columns.values.tolist(), common_agonists, analysis_dir,\n",
    "                              [\"Arrestin vs. G Protein\", \"G Protein Agonists\"], X_scaled, \n",
    "                              exp_title=\"Arrestin vs. G Protein Two Class\", coef_name=\"Logistic Coefficient\")\n",
    "\n"
   ]
  },
  {
   "cell_type": "code",
   "execution_count": null,
   "metadata": {
    "collapsed": false
   },
   "outputs": [],
   "source": [
    "all_features_df.loc[\"r_isopreterenol\"]"
   ]
  },
  {
   "cell_type": "code",
   "execution_count": null,
   "metadata": {
    "collapsed": false
   },
   "outputs": [],
   "source": [
    "analysis_dir = \"%s_%dsamples\" %(analysis_dir, n_samples)\n",
    "print(analysis_dir)"
   ]
  },
  {
   "cell_type": "code",
   "execution_count": null,
   "metadata": {
    "collapsed": true
   },
   "outputs": [],
   "source": [
    "if not os.path.exists(analysis_dir):\n",
    "    os.makedirs(analysis_dir)"
   ]
  },
  {
   "cell_type": "code",
   "execution_count": null,
   "metadata": {
    "collapsed": false
   },
   "outputs": [],
   "source": [
    "n_trials = 1000\n",
    "\n",
    "y = multi_binarizer(y_gpr, [0.33, 0.66])\n",
    "gprot_results_t1000_multi0pt33_0pt66_split0pt6_logistic_2f = do_classification_experiment(features, y, feature_names, n_trials, 0.6, regularize=False, model=\"logistic_cv\")\n",
    "with open(\"%s/gprot_results_t1000_multi0pt33_0pt66_split0pt6_logistic_2f.pkl\" %analysis_dir, \"wb\") as f:\n",
    "    pickle.dump(gprot_results_t1000_multi0pt33_0pt66_split0pt6_logistic_2f, f)\n",
    "\n",
    "y = multi_binarizer(y_arr, [0.33, 0.66])\n",
    "arr_results_t1000_multi0pt33_0pt66_split0pt6_logistic_2f = do_classification_experiment(features, y, feature_names, n_trials, 0.6, regularize=False, model=\"logistic_cv\")\n",
    "with open(\"%s/arr_results_t1000_multi0pt33_0pt66_split0pt6_logistic_2f.pkl\" %analysis_dir, \"wb\") as f:\n",
    "    pickle.dump(arr_results_t1000_multi0pt33_0pt66_split0pt6_logistic_2f, f)\n",
    "\n",
    "print(np.median(np.array(gprot_results_t1000_multi0pt33_0pt66_split0pt6_logistic_2f[\"test_roc_aucs\"]), axis=0))\n",
    "print(np.median(np.array(arr_results_t1000_multi0pt33_0pt66_split0pt6_logistic_2f[\"test_roc_aucs\"]), axis=0))\n",
    "    \n",
    "    \n",
    "y = multi_binarizer(y_gpr, [0.2, 0.8])\n",
    "gprot_results_t1000_multi0pt2_0pt8_split0pt6_logistic_2f = do_classification_experiment(features, y, feature_names, n_trials, 0.6, regularize=False, model=\"logistic_cv\")\n",
    "with open(\"%s/gprot_results_t1000_multi0pt2_0pt8_split0pt6_logistic_2f.pkl\" %analysis_dir, \"wb\") as f:\n",
    "    pickle.dump(gprot_results_t1000_multi0pt2_0pt8_split0pt6_logistic_2f, f)\n",
    "\n",
    "y = multi_binarizer(y_arr, [0.2, 0.8])\n",
    "arr_results_t1000_multi0pt2_0pt8_split0pt6_logistic_2f = do_classification_experiment(features, y, feature_names, n_trials, 0.6, regularize=False, model=\"logistic_cv\")\n",
    "with open(\"%s/arr_results_t1000_multi0pt2_0pt8_split0pt6_logistic_2f.pkl\" %analysis_dir, \"wb\") as f:\n",
    "    pickle.dump(arr_results_t1000_multi0pt2_0pt8_split0pt6_logistic_2f, f)\n",
    "\n",
    "print(np.median(np.array(gprot_results_t1000_multi0pt2_0pt8_split0pt6_logistic_2f[\"test_roc_aucs\"]), axis=0))\n",
    "print(np.median(np.array(arr_results_t1000_multi0pt2_0pt8_split0pt6_logistic_2f[\"test_roc_aucs\"]), axis=0))   \n",
    "\n",
    "y = multi_binarizer(y_gpr, [0.5])\n",
    "gprot_results_t1000_single0pt5_split0pt6_logistic_2f = do_classification_experiment(features, y, feature_names, n_trials, 0.6, regularize=False, model=\"logistic_cv\")\n",
    "with open(\"%s/gprot_results_t1000_single0pt5_split0pt6_logistic_2f.pkl\" %analysis_dir, \"wb\") as f:\n",
    "    pickle.dump(gprot_results_t1000_single0pt5_split0pt6_logistic_2f, f)\n",
    "\n",
    "y = multi_binarizer(y_arr, [0.5])\n",
    "arr_results_t1000_single0pt5_split0pt6_logistic_2f = do_classification_experiment(features, y, feature_names, n_trials, 0.6, regularize=False, model=\"logistic_cv\")\n",
    "with open(\"%s/arr_results_t1000_single0pt5_split0pt6_logistic_2f.pkl\" %analysis_dir, \"wb\") as f:\n",
    "    pickle.dump(arr_results_t1000_single0pt5_split0pt6_logistic_2f, f)\n",
    "    \n",
    "print(np.median(np.array(gprot_results_t1000_single0pt5_split0pt6_logistic_2f[\"test_roc_aucs\"]), axis=0))\n",
    "print(np.median(np.array(arr_results_t1000_single0pt5_split0pt6_logistic_2f[\"test_roc_aucs\"]), axis=0))\n",
    "\n",
    "    \n",
    "y = multi_binarizer(y_gpr, [0.2])\n",
    "gprot_results_t1000_single0pt2_split0pt6_logistic_2f = do_classification_experiment(features, y, feature_names, n_trials, 0.6, regularize=False, model=\"logistic_cv\")\n",
    "with open(\"%s/gprot_results_t1000_single0pt2_split0pt6_logistic_2f.pkl\" %analysis_dir, \"wb\") as f:\n",
    "    pickle.dump(gprot_results_t1000_single0pt2_split0pt6_logistic_2f, f)\n",
    "\n",
    "y = multi_binarizer(y_arr, [0.2])\n",
    "arr_results_t1000_single0pt2_split0pt6_logistic_2f = do_classification_experiment(features, y, feature_names, n_trials, 0.6, regularize=False, model=\"logistic_cv\")\n",
    "with open(\"%s/arr_results_t1000_single0pt2_split0pt6_logistic_2f.pkl\" %analysis_dir, \"wb\") as f:\n",
    "    pickle.dump(arr_results_t1000_single0pt2_split0pt6_logistic_2f, f)\n",
    "\n",
    "print(np.median(np.array(gprot_results_t1000_single0pt2_split0pt6_logistic_2f[\"test_roc_aucs\"]), axis=0))\n",
    "print(np.median(np.array(arr_results_t1000_single0pt2_split0pt6_logistic_2f[\"test_roc_aucs\"]), axis=0))\n",
    "\n",
    "        \n",
    "gprot_results_t1000_0pt8_ridge = do_regression_experiment(features, y_gpr, feature_names, n_trials, .8, regularize=False, model=\"RidgeCV\")\n",
    "with open(\"%s/gprot_results_t1000_0pt8_ridge.pkl\" %analysis_dir, \"wb\") as f:\n",
    "    pickle.dump(gprot_results_t1000_0pt8_ridge, f)\n",
    "\n",
    "arr_results_t1000_0pt8_ridge = do_regression_experiment(features, y_arr, feature_names, n_trials, .8, regularize=False, model=\"RidgeCV\")\n",
    "with open(\"%s/arr_results_t1000_0pt8_ridge.pkl\" %analysis_dir, \"wb\") as f:\n",
    "    pickle.dump(arr_results_t1000_0pt8_ridge, f)\n",
    "\n",
    "print(np.median(np.array(gprot_results_t1000_0pt8_ridge[\"test_r2s\"]), axis=0))\n",
    "print(np.median(np.array(arr_results_t1000_0pt8_ridge[\"test_r2s\"]), axis=0))\n",
    "\n",
    "\n",
    "\n"
   ]
  },
  {
   "cell_type": "code",
   "execution_count": null,
   "metadata": {
    "collapsed": false
   },
   "outputs": [],
   "source": [
    "import efficacy_scripts\n",
    "reload(efficacy_scripts)\n",
    "from efficacy_scripts import *\n",
    "n_trials = 1000\n",
    "\n",
    "y = multi_binarizer(y_gpr, [0.2, 0.8])\n",
    "gprot_results_t1000_multi0pt2_split0pt8_logistic_cv_2f_obs = do_classification_experiment(features, y, feature_names, n_trials, 0.8, regularize=True, model=\"logistic_cv\")\n",
    "with open(\"%s/gprot_results_t1000_multi0pt2_split0pt8_logistic_cv_2f_obs.pkl\" %analysis_dir, \"wb\") as f:\n",
    "    pickle.dump(gprot_results_t1000_multi0pt2_split0pt8_logistic_cv_2f_obs, f)\n",
    "\n",
    "y = multi_binarizer(y_arr, [0.2, 0.8])\n",
    "arr_results_t1000_multi0pt2_split0pt8_logistic_cv_2f_obs = do_classification_experiment(features, y, feature_names, n_trials, 0.8, regularize=True, model=\"logistic_cv\")\n",
    "with open(\"%s/arr_results_t1000_multi0pt2_split0pt8_logistic_cv_2f_obs.pkl\" %analysis_dir, \"wb\") as f:\n",
    "    pickle.dump(arr_results_t1000_multi0pt2_split0pt8_logistic_cv_2f_obs, f)\n",
    "\n",
    "\n",
    "y = multi_binarizer(y_gpr, [0.2])\n",
    "gprot_results_t1000_single0pt2_split0pt8_logistic_cv_2f_obs = do_classification_experiment(features, y, feature_names, n_trials, 0.8, regularize=True, model=\"logistic_cv\")\n",
    "with open(\"%s/gprot_results_t1000_single0pt2_split0pt8_logistic_cv_2f_obs.pkl\" %analysis_dir, \"wb\") as f:\n",
    "    pickle.dump(gprot_results_t1000_single0pt2_split0pt8_logistic_cv_2f_obs, f)\n",
    "\n",
    "y = multi_binarizer(y_arr, [0.2])\n",
    "arr_results_t1000_single0pt2_split0pt8_logistic_cv_2f_obs = do_classification_experiment(features, y, feature_names, n_trials, 0.8, regularize=True, model=\"logistic_cv\")\n",
    "with open(\"%s/arr_results_t1000_single0pt2_split0pt8_logistic_cv_2f_obs.pkl\" %analysis_dir, \"wb\") as f:\n",
    "    pickle.dump(arr_results_t1000_single0pt2_split0pt8_logistic_cv_2f_obs, f)\n",
    "\n"
   ]
  },
  {
   "cell_type": "code",
   "execution_count": null,
   "metadata": {
    "collapsed": false
   },
   "outputs": [],
   "source": [
    "np.median(np.array(a_vs_g_results_t1000_single0pt2_split0pt8_logistic_cv_2f_obs[\"test_roc_aucs\"]), axis=0)\n"
   ]
  },
  {
   "cell_type": "code",
   "execution_count": null,
   "metadata": {
    "collapsed": false
   },
   "outputs": [],
   "source": [
    "arr_results_t100_single0pt2_split0pt9_rfr_2f_obs[\"feature_importances\"][0]"
   ]
  },
  {
   "cell_type": "code",
   "execution_count": null,
   "metadata": {
    "collapsed": false,
    "scrolled": false
   },
   "outputs": [],
   "source": [
    "import efficacy_scripts\n",
    "reload(efficacy_scripts)\n",
    "from efficacy_scripts import *\n",
    "analyze_multiclass_experiment(gprot_results_t100_single0pt2_split0pt9_logistic_cv_2f_obs, \n",
    "                              [\"Crystal Structures\", \"MSM Docking\"],\n",
    "                              top_clusters.tolist() + null_features.columns.values.tolist(), common_agonists, analysis_dir,\n",
    "                              [\"GProtein Antagonists\", \"GProtein Agonists\"], X_scaled, \n",
    "                              exp_title=\"GProtein Class\", coef_name=\"Logistic Coefficient\")\n"
   ]
  },
  {
   "cell_type": "code",
   "execution_count": null,
   "metadata": {
    "collapsed": false
   },
   "outputs": [],
   "source": [
    "all_features_df.columns.shape"
   ]
  },
  {
   "cell_type": "code",
   "execution_count": null,
   "metadata": {
    "collapsed": false
   },
   "outputs": [],
   "source": [
    "arr_results_t100_single0pt2_split0pt9_rfr_2f_obs[\"feature_importances\"][0][2].shape"
   ]
  },
  {
   "cell_type": "code",
   "execution_count": null,
   "metadata": {
    "collapsed": false
   },
   "outputs": [],
   "source": [
    "all_features_df.columns.values.tolist()"
   ]
  },
  {
   "cell_type": "code",
   "execution_count": null,
   "metadata": {
    "collapsed": false
   },
   "outputs": [],
   "source": [
    "print(np.median(np.array(gprot_results_t1000_0pt8_ridge[\"test_r2s\"]), axis=0))\n",
    "print(np.median(np.array(arr_results_t1000_0pt8_ridge[\"test_r2s\"]), axis=0))\n",
    "print(\"/n\")\n",
    "\n",
    "print(np.median(np.array(gprot_results_t1000_multi0pt33_0pt66_split0pt6_logistic_2f[\"test_roc_aucs\"]), axis=0))\n",
    "print(np.median(np.array(arr_results_t1000_multi0pt33_0pt66_split0pt6_logistic_2f[\"test_roc_aucs\"]), axis=0))\n",
    "print(\"/n\")\n",
    "\n",
    "print(np.median(np.array(gprot_results_t1000_multi0pt2_0pt8_split0pt6_logistic_2f[\"test_roc_aucs\"]), axis=0))\n",
    "print(np.median(np.array(arr_results_t1000_multi0pt2_0pt8_split0pt6_logistic_2f[\"test_roc_aucs\"]), axis=0))\n",
    "print(\"/n\")\n",
    "\n",
    "print(np.median(np.array(gprot_results_t1000_single0pt5_split0pt6_logistic_2f[\"test_roc_aucs\"]), axis=0))\n",
    "print(np.median(np.array(arr_results_t1000_single0pt5_split0pt6_logistic_2f[\"test_roc_aucs\"]), axis=0))\n",
    "print(\"/n\")\n",
    "\n",
    "print(np.median(np.array(gprot_results_t1000_single0pt2_split0pt6_logistic_2f[\"test_roc_aucs\"]), axis=0))\n",
    "print(np.median(np.array(arr_results_t1000_single0pt2_split0pt6_logistic_2f[\"test_roc_aucs\"]), axis=0))\n",
    "\n",
    "\n",
    "\n"
   ]
  },
  {
   "cell_type": "code",
   "execution_count": null,
   "metadata": {
    "collapsed": false,
    "scrolled": false
   },
   "outputs": [],
   "source": [
    "import plots\n",
    "reload(plots)\n",
    "from plots import *\n",
    "\n",
    "import efficacy_scripts\n",
    "reload(efficacy_scripts)\n",
    "from efficacy_scripts import *\n",
    "\n",
    "\n",
    "feature_names = top_clusters.tolist() +  [\"Inactive Crystal\", \"Active Crystal\", \"Crystal Difference\"] \n",
    "feature_names = [s.replace(\"cluster\", \"MSM State \") for s in feature_names]\n",
    "print(feature_names)\n",
    "\n",
    "#with open(\"%s/gprot_results_t1000_multi0pt2_0pt8_split0pt6_logistic_2f.pkl\" %analysis_dir, \"rb\") as f:\n",
    "#    gprot_results_t1000_multi0pt2_0pt8_split0pt6_logistic_2f = pickle.load(f)\n",
    "#analyze_multiclass_experiment(gprot_results_t1000_multi0pt2_0pt8_split0pt6_logistic_2f, [\"Crystal Structures\", \"MSM Docking\"], feature_names, common_agonists, analysis_dir, [\"G Protein Antagonists\", \"G Protein Partial Agonists\", \"G Protein Full Agonists\"], X_scaled, exp_title=\"GProtein Three Clas 1000 Trials\", coef_name=\"Logistic Coefficient\")\n",
    "\n",
    "\n",
    "#with open(\"%s/arr_results_t1000_multi0pt2_0pt8_split0pt6_logistic_2f.pkl\" %analysis_dir, \"rb\") as f:\n",
    "#    arr_results_t1000_multi0pt2_0pt8_split0pt6_logistic_2f = pickle.load(f)\n",
    "#analyze_multiclass_experiment(arr_results_t1000_multi0pt2_0pt8_split0pt6_logistic_2f, [\"Crystal Structures\", \"MSM Docking\"], feature_names, common_agonists, analysis_dir, [\"Arrestin Antagonists\", \"Arrestin Partial Agonists\", \"Arrestin Full Agonists\"], X_scaled, exp_title=\"Arrestin Three Class 1000 Trials\", coef_name=\"Logistic Coefficient\")\n",
    "\n",
    "#plt.clf()\n",
    "#analyze_multiclass_experiment(gprot_results_t100_single0pt2_split0pt6_logistic_2f, [\"Crystal Structures\", \"MSM Docking\"], feature_names, common_agonists, analysis_dir, [\"G Protein Antagonists\", \"G Protein Agonists\"], X_scaled, exp_title=\"Two Class\", coef_name=\"Logistic Coefficient\")\n",
    "with open(\"%s/arr_results_t1000_single0pt2_split0pt6_logistic_2f.pkl\" %analysis_dir, \"rb\") as f:\n",
    "    arr_results_t1000_single0pt2_split0pt6_logistic_2f = pickle.load(f)\n",
    "analyze_multiclass_experiment(arr_results_t1000_single0pt2_split0pt6_logistic_2f, [\"Crystal Structures\", \"MSM Docking\"],feature_names, common_agonists, analysis_dir, [\"Arrestin Antagonists\", \"Arrestin Agonists\"], X_scaled, exp_title=\"Arrestin Two Class\", coef_name=\"Logistic Coefficient\")\n",
    "\n",
    "with open(\"%s/gprot_results_t1000_single0pt2_split0pt6_logistic_2f.pkl\" %analysis_dir, \"rb\") as f:\n",
    "    gprot_results_t1000_single0pt2_split0pt6_logistic_2f = pickle.load(f)\n",
    "analyze_multiclass_experiment(gprot_results_t1000_single0pt2_split0pt6_logistic_2f, [\"Crystal Structures\", \"MSM Docking\"],feature_names, common_agonists, analysis_dir, [\"G Protein Antagonists\", \"G Protein Agonists\"], X_scaled, exp_title=\"G Protein Two Class\", coef_name=\"Logistic Coefficient\")\n",
    "\n"
   ]
  },
  {
   "cell_type": "code",
   "execution_count": null,
   "metadata": {
    "collapsed": false
   },
   "outputs": [],
   "source": [
    "analysis_dir"
   ]
  },
  {
   "cell_type": "code",
   "execution_count": null,
   "metadata": {
    "collapsed": false
   },
   "outputs": [],
   "source": [
    "X_scaled[:,25]"
   ]
  },
  {
   "cell_type": "code",
   "execution_count": null,
   "metadata": {
    "collapsed": false
   },
   "outputs": [],
   "source": [
    "ddg_scaled[\"salbutamol\"].sort(inplace=False\n",
    "                             )"
   ]
  },
  {
   "cell_type": "code",
   "execution_count": null,
   "metadata": {
    "collapsed": false
   },
   "outputs": [],
   "source": [
    "arr_results_t100_multi_0pt6_logistic = arr_results_t100_multi_0pt_6_rfr \n",
    "\n",
    "= arr_results_t1000_multi_0pt_6_rfr "
   ]
  },
  {
   "cell_type": "code",
   "execution_count": null,
   "metadata": {
    "collapsed": false
   },
   "outputs": [],
   "source": [
    "save_file = \"%s/arr_results_t1000_multi_0pt6_logistic.pkl\" %(analysis_dir)\n",
    "with open(save_file, \"wb\") as f:\n",
    "    pickle.dump(arr_results_t1000_multi_0pt6_logistic, f)\n",
    "    "
   ]
  },
  {
   "cell_type": "code",
   "execution_count": null,
   "metadata": {
    "collapsed": true
   },
   "outputs": [],
   "source": [
    "save_file = \"%s/gprot_results_t1000_multi_0pt6_logistic.pkl\" %(analysis_dir)\n",
    "with open(save_file, \"wb\") as f:\n",
    "    pickle.dump(gprot_results_t1000_multi_0pt6_logistic, f)\n",
    "    "
   ]
  },
  {
   "cell_type": "code",
   "execution_count": null,
   "metadata": {
    "collapsed": false
   },
   "outputs": [],
   "source": [
    "np.median(np.array(arr_results_t1000_0pt5_md3_ridge[\"test_r2s\"]), axis=0)"
   ]
  },
  {
   "cell_type": "code",
   "execution_count": null,
   "metadata": {
    "collapsed": false
   },
   "outputs": [],
   "source": [
    "np.median(np.array(arr_results_t1000_0pt5_md3_ridge[\"kendall_pvalues\"]), axis=0)"
   ]
  },
  {
   "cell_type": "code",
   "execution_count": null,
   "metadata": {
    "collapsed": true
   },
   "outputs": [],
   "source": [
    "np.median(np.array(arr_results_t1000_0pt5_md3_ridge[\"kendall_pvalues\"]), axis=0)"
   ]
  },
  {
   "cell_type": "code",
   "execution_count": null,
   "metadata": {
    "collapsed": false
   },
   "outputs": [],
   "source": [
    "np.median(np.array(arr_results_t1000_multi_0pt6_logistic[\"test_roc_aucs\"]), axis=0)\n"
   ]
  },
  {
   "cell_type": "code",
   "execution_count": null,
   "metadata": {
    "collapsed": false
   },
   "outputs": [],
   "source": [
    "plt.hist(y_gpr, bins=50)\n",
    "plt.show()"
   ]
  },
  {
   "cell_type": "code",
   "execution_count": null,
   "metadata": {
    "collapsed": false
   },
   "outputs": [],
   "source": [
    "from sklearn.preprocessing import binarize\n",
    "#arrestin_antagonists = [\"s-carvedilol\", \"nebivolol\"]\n",
    "#non_arrestin_antagonists = [n for n in antagonists if n not in arrestin_antagonists and n not in [\"Carvedilol\"]]\n",
    "#y = np.array([1. for i in arrestin_antagonists] + [0. for i in non_arrestin_antagonists]).reshape((-1,1))\n",
    "\n",
    "\n",
    "total_activity = bret[\"B2AR-Arrestin, Mean\"].loc[common_ligands].add(bret[\"B2AR-Gprotein, Mean\"].loc[common_ligands])\n",
    "#common_agonists = arrestin_antagonists + non_arrestin_antagonists\n",
    "#biased_ligands = [\"ethylnorepinephrine\", \"isoetharine\", \"N-Cyclopentylbutanephrine\"]\n",
    "#non_biased_ligands =  [\"r_isopreterenol\", \"r_epinephrine\", \"norepinephrine\", \"zinterol\", \"orciprenaline\", \"epinine\", \"terbutaline\", \"fenoterol\", \"procaterol\", \"formoterol\", \"salbutamol\", \"salmeterol\"]\n",
    "#y = np.array([1. for i in biased_ligands] + [0. for i in non_biased_ligands]).reshape((-1,1))\n",
    "#common_agonists = biased_ligands + non_biased_ligands\n",
    "\n",
    "#common_agonists = total_activity.loc[total_activity > 0.2].index.values\n",
    "#y_ori = bret[\"B2AR-Arrestin, Mean\"].loc[common_agonists].subtract(bret[\"B2AR-Gprotein, Mean\"].loc[common_agonists]).values.reshape((-1,1))\n",
    "\n",
    "top_clusters = delta_delta_g.index.values\n",
    "#top_clusters = list(set(delta_delta_g.sort(\"nebivolol\").index.values[:10].tolist() + delta_delta_g.sort(\"3p0g_lig\").index.values[:10].tolist()))\n",
    "#top_clusters = list(set(delta_delta_g.sort(\"N-Cyclopentylbutanephrine\", inplace=False).index.values[:4].tolist() + delta_delta_g.sort(\"procaterol\", inplace=False).index.values[:4].tolist()))\n",
    "#agonists_df = [a for a in agonists if a in delta_delta_g.columns.values]\n",
    "#common_agonists = agonists_df + antagonists\n",
    "#y = np.array([1. for i in agonists_df] + [0. for i in antagonists]).reshape((-1,1))\n",
    "common_agonists = common_ligands\n",
    "y_arr = bret[\"B2AR-Arrestin, Mean\"].loc[common_agonists].values.reshape((-1,1))\n",
    "y_gpr = bret[\"B2AR-Gprotein, Mean\"].loc[common_agonists].values.reshape((-1,1))\n",
    "#y_ori = y_arr - y_gpr\n",
    "#y_ori = y_arr\n",
    "y = multi_binarizer(y_arr, [0.33, 0.66])\n",
    "#y = binarize(y_gpr, threshold=0.2)\n",
    "\n",
    "C = null_features.loc[common_agonists].values\n",
    "#X = delta_delta_g.loc[top_clusters][common_agonists].values.T\n",
    "X = np.hstack([delta_delta_g.loc[top_clusters][common_agonists].values.T, C])\n",
    "#X_scaled = ddg_scaled.loc[top_clusters][common_agonists].values.T\n",
    "X_scaled = np.hstack([ddg_scaled.loc[top_clusters][common_agonists].values.T, C])\n",
    "#D_scaled = docking_normalized.loc[top_clusters][common_agonists].values.T\n",
    "D_scaled = np.hstack([docking_normalized.loc[top_clusters][common_agonists].values.T, C])\n",
    "X_diff = np.zeros((X.shape[0], X.shape[1]**2/2))\n",
    "k=0\n",
    "for i in range(0,X.shape[1]):\n",
    "    for j in range(i+1,X.shape[1]):\n",
    "        X_diff[:,k] = X[:,i] - X[:,j]\n",
    "        k+=1\n",
    "X_diff = np.hstack([X_scaled, X_diff, C])\n",
    "\n",
    "features = [C, D_scaled, X, X_scaled, X_diff]\n",
    "features_y = [C, D_scaled, X, X_scaled, X_diff]\n",
    "feature_names = [\"Crystal Structures\", \"Normalized Docking\", \"Docking ddG\", \"Docking ddg Scaled\", \"Docking ddG Differences\"]\n",
    "\n",
    "n_trials = 1000\n",
    "test_accuracies, test_aucs, test_log_aucs, C_test_aucs, C_test_log_aucs, feature_importances = do_classification_experiment(features, y, feature_names, n_trials, 0.8, regularize=False)\n",
    "#arr_results_t100_0pt9_md3 = do_regression_experiment(features, y, feature_names, n_trials, 0.9, regularize=False)"
   ]
  },
  {
   "cell_type": "code",
   "execution_count": null,
   "metadata": {
    "collapsed": false
   },
   "outputs": [],
   "source": [
    "save_file = \"%s/arr_results_t1000_0pt9_md3.pkl\" %analysis_dir\n",
    "with open(save_file, \"wb\") as f:\n",
    "    pickle.dump(arr_results_t1000_0pt9_md3, f)"
   ]
  },
  {
   "cell_type": "code",
   "execution_count": null,
   "metadata": {
    "collapsed": false
   },
   "outputs": [],
   "source": [
    "print(np.median(np.array(arr_results_t1000_0pt9_md3[\"test_r2s\"]), axis=0))"
   ]
  },
  {
   "cell_type": "code",
   "execution_count": null,
   "metadata": {
    "collapsed": false
   },
   "outputs": [],
   "source": [
    "from sklearn.preprocessing import binarize\n",
    "#arrestin_antagonists = [\"s-carvedilol\", \"nebivolol\"]\n",
    "#non_arrestin_antagonists = [n for n in antagonists if n not in arrestin_antagonists and n not in [\"Carvedilol\"]]\n",
    "#y = np.array([1. for i in arrestin_antagonists] + [0. for i in non_arrestin_antagonists]).reshape((-1,1))\n",
    "\n",
    "\n",
    "total_activity = bret[\"B2AR-Arrestin, Mean\"].loc[common_ligands].add(bret[\"B2AR-Gprotein, Mean\"].loc[common_ligands])\n",
    "#common_agonists = arrestin_antagonists + non_arrestin_antagonists\n",
    "#biased_ligands = [\"ethylnorepinephrine\", \"isoetharine\", \"N-Cyclopentylbutanephrine\"]\n",
    "#non_biased_ligands =  [\"r_isopreterenol\", \"r_epinephrine\", \"norepinephrine\", \"zinterol\", \"orciprenaline\", \"epinine\", \"terbutaline\", \"fenoterol\", \"procaterol\", \"formoterol\", \"salbutamol\", \"salmeterol\"]\n",
    "#y = np.array([1. for i in biased_ligands] + [0. for i in non_biased_ligands]).reshape((-1,1))\n",
    "#common_agonists = biased_ligands + non_biased_ligands\n",
    "\n",
    "common_agonists = total_activity.loc[total_activity > 0.2].index.values\n",
    "#y_ori = bret[\"B2AR-Arrestin, Mean\"].loc[common_agonists].subtract(bret[\"B2AR-Gprotein, Mean\"].loc[common_agonists]).values.reshape((-1,1))\n",
    "\n",
    "top_clusters = delta_delta_g.index.values\n",
    "#top_clusters = list(set(delta_delta_g.sort(\"nebivolol\").index.values[:10].tolist() + delta_delta_g.sort(\"3p0g_lig\").index.values[:10].tolist()))\n",
    "#top_clusters = list(set(delta_delta_g.sort(\"N-Cyclopentylbutanephrine\", inplace=False).index.values[:4].tolist() + delta_delta_g.sort(\"procaterol\", inplace=False).index.values[:4].tolist()))\n",
    "#agonists_df = [a for a in agonists if a in delta_delta_g.columns.values]\n",
    "#common_agonists = agonists_df + antagonists\n",
    "#y = np.array([1. for i in agonists_df] + [0. for i in antagonists]).reshape((-1,1))\n",
    "#common_agonists = common_ligands\n",
    "y_arr = bret[\"B2AR-Arrestin, Mean\"].loc[common_agonists].values.reshape((-1,1))\n",
    "y_gpr = bret[\"B2AR-Gprotein, Mean\"].loc[common_agonists].values.reshape((-1,1))\n",
    "y_ori = y_arr - y_gpr\n",
    "#y_ori = y_arr\n",
    "#y = y_arr\n",
    "y = binarize(y_ori, threshold=-0.2)\n",
    "\n",
    "C = null_features.loc[common_agonists].values\n",
    "#X = delta_delta_g.loc[top_clusters][common_agonists].values.T\n",
    "X = np.hstack([delta_delta_g.loc[top_clusters][common_agonists].values.T, C])\n",
    "#X_scaled = ddg_scaled.loc[top_clusters][common_agonists].values.T\n",
    "X_scaled = np.hstack([ddg_scaled.loc[top_clusters][common_agonists].values.T, C])\n",
    "#D_scaled = docking_normalized.loc[top_clusters][common_agonists].values.T\n",
    "D_scaled = np.hstack([docking_normalized.loc[top_clusters][common_agonists].values.T, C])\n",
    "X_diff = np.zeros((X.shape[0], X.shape[1]**2/2))\n",
    "k=0\n",
    "for i in range(0,X.shape[1]):\n",
    "    for j in range(i+1,X.shape[1]):\n",
    "        X_diff[:,k] = X[:,i] - X[:,j]\n",
    "        k+=1\n",
    "X_diff = np.hstack([X_scaled, X_diff, C])\n",
    "\n",
    "features = [C, D_scaled, X, X_scaled, X_diff]\n",
    "features_y = [C, D_scaled, X, X_scaled]\n",
    "feature_names = [\"Crystal Structures\", \"Normalized Docking\", \"Docking ddG\", \"Docking ddg Scaled\", \"Docking ddG Differences\"]\n",
    "\n",
    "n_trials = 1000\n",
    "#arr_classification_results_t1000_0pt6 = do_classification_experiment(features, y, feature_names, n_trials, 0.6, regularize=False)\n",
    "arr_vs_gprot_classification_results_t1000_0pt8 = do_classification_experiment(features, y, feature_names, n_trials, 0.8, regularize=False)\n",
    "#arr_results_1000 = do_regression_experiment(features, y, feature_names, n_trials, 0.8, regularize=False)"
   ]
  },
  {
   "cell_type": "code",
   "execution_count": null,
   "metadata": {
    "collapsed": false
   },
   "outputs": [],
   "source": [
    "with open(\"%s/arr_vs_gprot_classification_results_t100_0pt8.pkl\" %analysis_dir, \"wb\") as f:\n",
    "    pickle.dump(arr_vs_gprot_classification_results_t100_0pt8, f)"
   ]
  },
  {
   "cell_type": "code",
   "execution_count": null,
   "metadata": {
    "collapsed": false
   },
   "outputs": [],
   "source": [
    "print(np.median(np.array(arr_vs_gprot_classification_results_t100_0pt8[\"test_aucs\"]), axis=0))"
   ]
  },
  {
   "cell_type": "code",
   "execution_count": null,
   "metadata": {
    "collapsed": false
   },
   "outputs": [],
   "source": [
    "plt.hist(y_ori,bins=50)\n",
    "plt.show()"
   ]
  },
  {
   "cell_type": "code",
   "execution_count": null,
   "metadata": {
    "collapsed": false
   },
   "outputs": [],
   "source": [
    "\n",
    "save_file = \"%s/arr_classification_results_t1000_0pt6.pkl\" %analysis_dir\n",
    "with open(save_file, \"wb\") as f:\n",
    "    pickle.dump(arr_classification_results_t1000_0pt6, f)"
   ]
  },
  {
   "cell_type": "code",
   "execution_count": null,
   "metadata": {
    "collapsed": false
   },
   "outputs": [],
   "source": [
    "np.median(np.array(arr_classification_results_t1000_0pt6[\"test_log_aucs\"]),axis=0)"
   ]
  },
  {
   "cell_type": "code",
   "execution_count": null,
   "metadata": {
    "collapsed": false
   },
   "outputs": [],
   "source": [
    "from sklearn.preprocessing import binarize\n",
    "#arrestin_antagonists = [\"s-carvedilol\", \"nebivolol\"]\n",
    "#non_arrestin_antagonists = [n for n in antagonists if n not in arrestin_antagonists and n not in [\"Carvedilol\"]]\n",
    "#y = np.array([1. for i in arrestin_antagonists] + [0. for i in non_arrestin_antagonists]).reshape((-1,1))\n",
    "\n",
    "\n",
    "total_activity = bret[\"B2AR-Arrestin, Mean\"].loc[common_ligands].add(bret[\"B2AR-Gprotein, Mean\"].loc[common_ligands])\n",
    "#common_agonists = arrestin_antagonists + non_arrestin_antagonists\n",
    "#biased_ligands = [\"ethylnorepinephrine\", \"isoetharine\", \"N-Cyclopentylbutanephrine\"]\n",
    "#non_biased_ligands =  [\"r_isopreterenol\", \"r_epinephrine\", \"norepinephrine\", \"zinterol\", \"orciprenaline\", \"epinine\", \"terbutaline\", \"fenoterol\", \"procaterol\", \"formoterol\", \"salbutamol\", \"salmeterol\"]\n",
    "#y = np.array([1. for i in biased_ligands] + [0. for i in non_biased_ligands]).reshape((-1,1))\n",
    "#common_agonists = biased_ligands + non_biased_ligands\n",
    "\n",
    "#common_agonists = total_activity.loc[total_activity > 0.2].index.values\n",
    "#y_ori = bret[\"B2AR-Arrestin, Mean\"].loc[common_agonists].subtract(bret[\"B2AR-Gprotein, Mean\"].loc[common_agonists]).values.reshape((-1,1))\n",
    "\n",
    "top_clusters = delta_delta_g.index.values\n",
    "#top_clusters = list(set(delta_delta_g.sort(\"nebivolol\").index.values[:10].tolist() + delta_delta_g.sort(\"3p0g_lig\").index.values[:10].tolist()))\n",
    "#top_clusters = list(set(delta_delta_g.sort(\"N-Cyclopentylbutanephrine\", inplace=False).index.values[:4].tolist() + delta_delta_g.sort(\"procaterol\", inplace=False).index.values[:4].tolist()))\n",
    "#agonists_df = [a for a in agonists if a in delta_delta_g.columns.values]\n",
    "#common_agonists = agonists_df + antagonists\n",
    "#y = np.array([1. for i in agonists_df] + [0. for i in antagonists]).reshape((-1,1))\n",
    "common_agonists = common_ligands\n",
    "y_arr = bret[\"B2AR-Arrestin, Mean\"].loc[common_agonists].values.reshape((-1,1))\n",
    "y_gpr = bret[\"B2AR-Gprotein, Mean\"].loc[common_agonists].values.reshape((-1,1))\n",
    "#y_ori = y_arr - y_gpr\n",
    "y_ori = y_arr\n",
    "#y = y_arr\n",
    "y = binarize(y_arr, threshold=0.2)\n",
    "\n",
    "C = null_features.loc[common_agonists].values\n",
    "#X = delta_delta_g.loc[top_clusters][common_agonists].values.T\n",
    "X = np.hstack([delta_delta_g.loc[top_clusters][common_agonists].values.T, C])\n",
    "#X_scaled = ddg_scaled.loc[top_clusters][common_agonists].values.T\n",
    "X_scaled = np.hstack([ddg_scaled.loc[top_clusters][common_agonists].values.T, C])\n",
    "#D_scaled = docking_normalized.loc[top_clusters][common_agonists].values.T\n",
    "D_scaled = np.hstack([docking_normalized.loc[top_clusters][common_agonists].values.T, C])\n",
    "X_diff = np.zeros((X.shape[0], X.shape[1]**2/2))\n",
    "k=0\n",
    "for i in range(0,X.shape[1]):\n",
    "    for j in range(i+1,X.shape[1]):\n",
    "        X_diff[:,k] = X[:,i] - X[:,j]\n",
    "        k+=1\n",
    "X_diff = np.hstack([X_scaled, X_diff, C])\n",
    "\n",
    "features = [C, D_scaled, X, X_scaled, X_diff]\n",
    "features_y = [C, D_scaled, X, X_scaled]\n",
    "feature_names = [\"Crystal Structures\", \"Normalized Docking\", \"Docking ddG\", \"Docking ddg Scaled\", \"Docking ddG Differences\"]\n",
    "\n",
    "n_trials = 1000\n",
    "test_accuracies, test_aucs, test_log_aucs, C_test_aucs, C_test_log_aucs, feature_importances = do_classification_experiment(features, y, feature_names, n_trials, 0.8, regularize=False)\n",
    "#arr_auc_results = do_regression_experiment(features, y, feature_names, n_trials, 0.8, regularize=False)"
   ]
  },
  {
   "cell_type": "code",
   "execution_count": null,
   "metadata": {
    "collapsed": false
   },
   "outputs": [],
   "source": [
    "np.median(np.array(test_log_aucs),axis=0)"
   ]
  },
  {
   "cell_type": "code",
   "execution_count": null,
   "metadata": {
    "collapsed": false
   },
   "outputs": [],
   "source": [
    "np.median(np.array(gprot_results[\"test_r2s\"]),axis=0)"
   ]
  },
  {
   "cell_type": "code",
   "execution_count": null,
   "metadata": {
    "collapsed": false
   },
   "outputs": [],
   "source": [
    "gprot_results[\"test_r2s\"]"
   ]
  },
  {
   "cell_type": "code",
   "execution_count": null,
   "metadata": {
    "collapsed": false
   },
   "outputs": [],
   "source": [
    "features_y = copy.deepcopy(features)\n",
    "features_y.append(y)\n",
    "train_test_arrays = train_test_split(*features_y, train_size=0.8)\n",
    "print([a.shape for a in train_test_arrays])"
   ]
  },
  {
   "cell_type": "code",
   "execution_count": null,
   "metadata": {
    "collapsed": false
   },
   "outputs": [],
   "source": [
    "train_test_arrays = train_test_split(*features_y, train_size=0.8)\n",
    "print([a.shape for a in train_test_arrays])"
   ]
  },
  {
   "cell_type": "code",
   "execution_count": null,
   "metadata": {
    "collapsed": false
   },
   "outputs": [],
   "source": [
    "gprot_results = copy.deepcopy([test_accuracies, test_aucs, test_log_aucs, C_test_aucs, C_test_log_aucs, feature_importances])\n",
    "#import pickle\n",
    "gprot_file = \"%s/gprot_results_0pt2_XP_no-regularization.pkl\"\n",
    "with open(\"%s/gprot_results_0pt2_XP_no-regularization.pkl\", \"wb\") as f:\n",
    "    pickle.dump(gprot_results, f)\n",
    "with open(gprot_file) as f:\n",
    "    test_accuracies, test_aucs, test_log_aucs, C_test_aucs, C_test_log_aucs, feature_importances = pickle.load(f)"
   ]
  },
  {
   "cell_type": "code",
   "execution_count": null,
   "metadata": {
    "collapsed": true
   },
   "outputs": [],
   "source": [
    "#arrestin_results = copy.deepcopy([test_accuracies, test_aucs, test_log_aucs, C_test_aucs, C_test_log_aucs, feature_importances])\n",
    "#import pickle\n",
    "arrestin_file = \"%s/arrestin_results_0pt2_XP_no-regularization.pkl\"\n",
    "#with open(\"%s/arrestin_results_0pt2_XP_no-regularization.pkl\", \"wb\") as f:\n",
    "#    pickle.dump(arrestin_results, f)\n",
    "with open(arrestin_file) as f:\n",
    "    test_accuracies, test_aucs, test_log_aucs, C_test_aucs, C_test_log_aucs, feature_importances = pickle.load(f)"
   ]
  },
  {
   "cell_type": "code",
   "execution_count": null,
   "metadata": {
    "collapsed": true
   },
   "outputs": [],
   "source": [
    "#arrestin_rfr_results = copy.deepcopy([test_r2s, rfr_feature_importances])\n",
    "arrestin_rfr_file = \"%s/arrestin_results_rfr_XP_no-regularization.pkl\"\n",
    "#with open(\"%s/arrestin_results_rfr_XP_no-regularization.pkl\", \"wb\") as f:\n",
    "#    pickle.dump(arrestin_rfr_results, f)\n",
    "with open(arrestin_rfr_file) as f:\n",
    "    test_r2s, rfr_feature_importances = pickle.load(f)"
   ]
  },
  {
   "cell_type": "code",
   "execution_count": null,
   "metadata": {
    "collapsed": true
   },
   "outputs": [],
   "source": [
    "#gprot_rfr_results = copy.deepcopy([test_r2s, rfr_feature_importances])\n",
    "gprot_rfr_file = \"%s/gprot_results_rfr_XP_no-regularization.pkl\"\n",
    "#with open(\"%s/gprot_results_rfr_XP_no-regularization.pkl\", \"wb\") as f:\n",
    "#    pickle.dump(gprot_rfr_results, f)\n",
    "with open(gprot_rfr_file) as f:\n",
    "    test_r2s, rfr_feature_importances = pickle.load(f)"
   ]
  },
  {
   "cell_type": "code",
   "execution_count": null,
   "metadata": {
    "collapsed": false
   },
   "outputs": [],
   "source": [
    "test_aucs = np.array(test_aucs)\n",
    "plt.clf()\n",
    "plt.boxplot(test_aucs[:,2]-test_aucs[:,0])\n",
    "plt.show()"
   ]
  },
  {
   "cell_type": "code",
   "execution_count": null,
   "metadata": {
    "collapsed": false
   },
   "outputs": [],
   "source": [
    "test_log_aucs = np.array(test_log_aucs)\n",
    "np.percentile(test_aucs[:,2]-test_aucs[:,0], 50)"
   ]
  },
  {
   "cell_type": "code",
   "execution_count": null,
   "metadata": {
    "collapsed": false
   },
   "outputs": [],
   "source": [
    "import sklearn\n",
    "null_preds = binarize(C[:,2])\n",
    "sklearn.metrics.roc_auc_score(binarize(y, 0.2).ravel(), null_preds.ravel())"
   ]
  },
  {
   "cell_type": "code",
   "execution_count": null,
   "metadata": {
    "collapsed": false
   },
   "outputs": [],
   "source": [
    "test_aucs = np.array(test_aucs)\n",
    "print(np.median(test_aucs, axis=0))\n",
    "print(np.median(test_aucs[:,2] - test_aucs[:,0]))"
   ]
  },
  {
   "cell_type": "code",
   "execution_count": null,
   "metadata": {
    "collapsed": false
   },
   "outputs": [],
   "source": [
    "n_successes = len(np.where(test_aucs[:,2]-test_aucs[:,0] > 0.)[0])\n",
    "nobs = test_aucs.shape[0]\n",
    "statsmodels.stats.proportion.proportion_confint(count=n_successes, nobs=nobs, alpha=0.01, method='wilson')\n"
   ]
  },
  {
   "cell_type": "code",
   "execution_count": null,
   "metadata": {
    "collapsed": false
   },
   "outputs": [],
   "source": [
    "np.median(np.array(test_r2s),axis=0)"
   ]
  },
  {
   "cell_type": "code",
   "execution_count": null,
   "metadata": {
    "collapsed": true
   },
   "outputs": [],
   "source": [
    "arrestin_vs_gprot_results = copy.deepcopy([test_accuracies, test_aucs, test_log_aucs, C_test_aucs, C_test_log_aucs, feature_importances])\n",
    "import pickle\n",
    "with open(\"%s/arrestin_vs_gprot_results_-0pt2_XP.pkl\", \"wb\") as f:\n",
    "    pickle.dump(arrestin_vs_gprot_results, f)"
   ]
  },
  {
   "cell_type": "code",
   "execution_count": null,
   "metadata": {
    "collapsed": true
   },
   "outputs": [],
   "source": []
  },
  {
   "cell_type": "code",
   "execution_count": null,
   "metadata": {
    "collapsed": true
   },
   "outputs": [],
   "source": [
    "arrestin_vs_gprot_rfr_results = copy.deepcopy([test_r2s, rfr_feature_importances])\n",
    "import pickle\n",
    "with open(\"%s/arrestin_vs_gprot_rfr_results_XP.pkl\", \"wb\") as f:\n",
    "    pickle.dump(arrestin_vs_gprot_rfr_results, f)"
   ]
  },
  {
   "cell_type": "code",
   "execution_count": null,
   "metadata": {
    "collapsed": true
   },
   "outputs": [],
   "source": [
    "test_accuracies, test_aucs, test_log_aucs, C_test_aucs, C_test_log_aucs, feature_importances = arrestin_vs_gprot_results"
   ]
  },
  {
   "cell_type": "code",
   "execution_count": null,
   "metadata": {
    "collapsed": true
   },
   "outputs": [],
   "source": [
    "#gprotein_results = copy.deepcopy([test_accuracies, test_aucs, test_log_aucs, C_test_aucs, C_test_log_aucs, feature_importances])"
   ]
  },
  {
   "cell_type": "code",
   "execution_count": null,
   "metadata": {
    "collapsed": false
   },
   "outputs": [],
   "source": [
    "results_dict = gprot_results_t1000_multi_0pt6_logistic\n",
    "import efficacy_scripts\n",
    "reload(efficacy_scripts)\n",
    "from efficacy_scripts import *\n",
    "importances_df, results_df = analyze_classification_experiment(results_dict[\"test_roc_aucs\"],\n",
    "                                               results_dict[\"feature_importances\"],\n",
    "                                               feature_names,\n",
    "                                               X_scaled, y, pd.concat([ddg_scaled, null_features.transpose()], axis=0),\n",
    "                                               top_clusters.tolist() + null_features.columns.values.tolist(), \n",
    "                                               common_agonists, \n",
    "                                                \"Predicting G Protein Three Class, 1000 trials, 60:40 Split, XP\", analysis_dir)"
   ]
  },
  {
   "cell_type": "code",
   "execution_count": null,
   "metadata": {
    "collapsed": false
   },
   "outputs": [],
   "source": [
    "feature_names"
   ]
  },
  {
   "cell_type": "code",
   "execution_count": null,
   "metadata": {
    "collapsed": false,
    "scrolled": true
   },
   "outputs": [],
   "source": [
    "importances_df, results_df = analyze_experiment(test_aucs, test_log_aucs, feature_importances, feature_names,\n",
    "                        X_scaled, y, pd.concat([ddg_scaled, null_features.transpose()], axis=0) , top_clusters.tolist() + null_features.columns.values.tolist(), common_agonists, \"Predicting Arrestin, w Crystal Features, 0.2, SP\", analysis_dir)"
   ]
  },
  {
   "cell_type": "code",
   "execution_count": null,
   "metadata": {
    "collapsed": false
   },
   "outputs": [],
   "source": [
    "importances_df, results_df = analyze_regression_experiment(test_r2s, rfr_feature_importances, feature_names,\n",
    "                        X, y, pd.concat([delta_delta_g, null_features.transpose()], axis=0) , top_clusters.tolist() + null_features.columns.values.tolist(), common_agonists, \"Predicting Arrestin, RFR, w Crystal Features, SP\", analysis_dir)"
   ]
  },
  {
   "cell_type": "code",
   "execution_count": null,
   "metadata": {
    "collapsed": false
   },
   "outputs": [],
   "source": [
    "def get_top_measurable_features(samples_normalized_features_avg_df, cluster_name):\n",
    "    import re\n",
    "    top_features_cluster = []\n",
    "    #top_features_cluster = samples_normalized_features_avg_df.loc[\"cluster_name\"].loc[samples_normalized_features_avg_df.loc[\"cluster_name\"].abs() > .75].index.values\n",
    "    #print(top_features_cluster)\n",
    "    #print(len(top_features_cluster))\n",
    "    [top_features_cluster.append(pair) for pair in samples_normalized_features_avg_df.loc[cluster_name].abs().sort(inplace=False, ascending=False).index.values[:10]]\n",
    "    all_features = []\n",
    "    features = []\n",
    "    for f in top_features_cluster:\n",
    "        fs = f.split(\",\")\n",
    "        for i in range(0, len(fs)):\n",
    "            res = int(re.findall(r'\\d+', fs[i])[0])\n",
    "            all_features.append(res)\n",
    "            if \"TRP\" in fs[i] or \"CYS\" in fs[i] or \"TYR\" in fs[i] or \"LYS\" in fs[i]:\n",
    "                features.append(res)\n",
    "            \n",
    "    top_features_cluster = sorted(list(set(features)))\n",
    "    #print(sorted(list(set([int(re.findall(r'\\d+', r)[0]) for r in all_features]))))\n",
    "    #print(top_features_cluster)\n",
    "    return top_features_cluster, all_features\n",
    "a, b = get_top_measurable_features(samples_normalized_features_averages_df, 6)"
   ]
  },
  {
   "cell_type": "code",
   "execution_count": null,
   "metadata": {
    "collapsed": false
   },
   "outputs": [],
   "source": [
    "print(b)"
   ]
  },
  {
   "cell_type": "code",
   "execution_count": null,
   "metadata": {
    "collapsed": false
   },
   "outputs": [],
   "source": [
    "ddg_scaled[[\"norepinephrine\", \"r_epinephrine\", \"ethylnorepinephrine\", \"nebivolol\", \"s-carvedilol\", \"s-carazolol\"]]"
   ]
  },
  {
   "cell_type": "code",
   "execution_count": null,
   "metadata": {
    "collapsed": false
   },
   "outputs": [],
   "source": [
    "print(np.mean(test_aucs, axis=0))\n",
    "print(np.median(test_aucs, axis=0))\n",
    "print(np.mean(test_log_aucs, axis=0))\n",
    "print(np.median(test_log_aucs, axis=0))\n",
    "\n"
   ]
  },
  {
   "cell_type": "code",
   "execution_count": null,
   "metadata": {
    "collapsed": false
   },
   "outputs": [],
   "source": [
    "plt.scatter(ddg_scaled.loc[\"cluster2\"][common_agonists], y)"
   ]
  },
  {
   "cell_type": "code",
   "execution_count": null,
   "metadata": {
    "collapsed": true
   },
   "outputs": [],
   "source": []
  },
  {
   "cell_type": "code",
   "execution_count": null,
   "metadata": {
    "collapsed": false
   },
   "outputs": [],
   "source": [
    "y_ori = bret[\"B2AR-Gprotein, Mean\"].loc[common_agonists].values.reshape((-1,1))\n",
    "y = binarize(y_ori, threshold=0.05)\n",
    "\n",
    "X = delta_delta_g.loc[top_clusters][common_agonists].values.T\n",
    "X_scaled = ddg_scaled.loc[top_clusters][common_agonists].values.T\n",
    "C = null_features.loc[common_agonists].values\n",
    "D_scaled = docking_normalized.loc[top_clusters][common_agonists].values.T\n",
    "\n",
    "X_train = D_scaled\n",
    "y_train = y\n",
    "f = np.zeros(X_train.shape[1])\n",
    "\n",
    "rfr = RandomForestClassifier(n_estimators=1000, max_features='sqrt', n_jobs=-1, oob_score=True)\n",
    "rfr.fit(X_train, y_train)\n",
    "\n",
    "#top_indices = np.argsort(rfr.feature_importances_*-1.)[:min(20, X_train.shape[1])]\n",
    "#rfr = RandomForestClassifier(n_estimators=100, max_features='sqrt', n_jobs=-1, oob_score=True)\n",
    "#X_train = X_train[:, top_indices]\n",
    "#rfr.fit(X_train, y_train)\n",
    "#f[top_indices] = rfr.feature_importances_\n",
    "#y_pred = rfr.predict(X_train)\n",
    "#y_score = rfr.predict_proba(X_train)\n",
    "top_indices=range(0,100)"
   ]
  },
  {
   "cell_type": "code",
   "execution_count": null,
   "metadata": {
    "collapsed": false
   },
   "outputs": [],
   "source": [
    "top_indices"
   ]
  },
  {
   "cell_type": "code",
   "execution_count": null,
   "metadata": {
    "collapsed": false
   },
   "outputs": [],
   "source": [
    "X_scaled.shape"
   ]
  },
  {
   "cell_type": "code",
   "execution_count": null,
   "metadata": {
    "collapsed": false
   },
   "outputs": [],
   "source": [
    "#G Protein, Agonist Results\n",
    "test_drugs = secret_compounds + [\"nebivolol\", \"s-carvedilol\", \"xamoterol\", \"3p0g_lig\", \"isoetharine\", \"ethylnorepinephrine\", \"N-Cyclopentylbutanephrine\", \"ta-2005\", \"procaterol\"]\n",
    "X_test = docking_normalized.transpose().loc[test_drugs].values[:, top_indices]\n",
    "print(X_test)\n",
    "pd.DataFrame(rfr.predict_proba(X_test), index=test_drugs, columns=[\"P(Antagonist\", \"P(Agonist)\"])"
   ]
  },
  {
   "cell_type": "code",
   "execution_count": null,
   "metadata": {
    "collapsed": false
   },
   "outputs": [],
   "source": [
    "#ARRESTIN, Agonist Results\n",
    "X_test = docking_normalized.transpose().loc[test_drugs].values[:, top_indices]\n",
    "X_test.shape\n",
    "pd.DataFrame(rfr.predict_proba(X_test), index=test_drugs, columns=[\"P(Antagonist\", \"P(Agonist)\"])"
   ]
  },
  {
   "cell_type": "code",
   "execution_count": null,
   "metadata": {
    "collapsed": false
   },
   "outputs": [],
   "source": [
    "#G Protein, Full Agonist Results\n",
    "test_drugs = secret_compounds + [\"nebivolol\", \"s-carvedilol\", \"xamoterol\", \"3p0g_lig\", \"isoetharine\", \"ethylnorepinephrine\", \"N-Cyclopentylbutanephrine\"]\n",
    "X_test = docking_normalized.transpose().loc[test_drugs].values[:, top_indices]\n",
    "pd.DataFrame(rfr.predict_proba(X_test), index=test_drugs, columns=[\"P(Antagonist\", \"P(Agonist)\"])"
   ]
  },
  {
   "cell_type": "code",
   "execution_count": null,
   "metadata": {
    "collapsed": false
   },
   "outputs": [],
   "source": [
    "#ARRESTIN, Agonist Results\n",
    "X_test = docking_normalized.transpose().loc[test_drugs].values[:, top_indices]\n",
    "X_test.shape\n",
    "pd.DataFrame(rfr.predict_proba(X_test), index=test_drugs, columns=[\"P(Antagonist\", \"P(Agonist)\"])"
   ]
  },
  {
   "cell_type": "code",
   "execution_count": null,
   "metadata": {
    "collapsed": false
   },
   "outputs": [],
   "source": [
    "common_agonists = total_activity.loc[total_activity > 0.2].index.values\n",
    "plt.scatter(docking_normalized.loc[\"cluster21\"][common_agonists], bret[\"B2AR-Gprotein, Mean\"].subtract(bret[\"B2AR-Arrestin, Mean\"])[common_agonists])"
   ]
  },
  {
   "cell_type": "code",
   "execution_count": null,
   "metadata": {
    "collapsed": false
   },
   "outputs": [],
   "source": [
    "len(common_ligands)"
   ]
  },
  {
   "cell_type": "code",
   "execution_count": null,
   "metadata": {
    "collapsed": false
   },
   "outputs": [],
   "source": [
    "#ARRESTIN, Partial Agonist Results\n",
    "X_test = docking_normalized.transpose().loc[test_drugs].values[:, top_indices]\n",
    "X_test.shape\n",
    "pd.DataFrame(rfr.predict_proba(X_test), index=test_drugs, columns=[\"P(Antagonist\", \"P(Agonist)\"])"
   ]
  },
  {
   "cell_type": "code",
   "execution_count": null,
   "metadata": {
    "collapsed": false
   },
   "outputs": [],
   "source": [
    "#ARRESTIN, Full Agonist Results\n",
    "X_test = docking_normalized.transpose().loc[test_drugs].values[:, top_indices]\n",
    "X_test.shape\n",
    "pd.DataFrame(rfr.predict_proba(X_test), index=test_drugs, columns=[\"P(Antagonist\", \"P(Agonist)\"])"
   ]
  },
  {
   "cell_type": "code",
   "execution_count": null,
   "metadata": {
    "collapsed": false
   },
   "outputs": [],
   "source": [
    "top_indices"
   ]
  },
  {
   "cell_type": "code",
   "execution_count": null,
   "metadata": {
    "collapsed": false
   },
   "outputs": [],
   "source": [
    "ddg_scaled.transpose().loc[secret_compounds]"
   ]
  },
  {
   "cell_type": "code",
   "execution_count": null,
   "metadata": {
    "collapsed": false
   },
   "outputs": [],
   "source": [
    "plot_clustermap(docking_normalized[secret_compounds].iloc[top_indices].transpose(), save_file=\"%s/mehrdad_clustermap.pdf\" %(save_dir), method='average', z_score=None)\n",
    "\n"
   ]
  },
  {
   "cell_type": "code",
   "execution_count": null,
   "metadata": {
    "collapsed": false
   },
   "outputs": [],
   "source": [
    "np.median(test_aucs, axis=0)"
   ]
  },
  {
   "cell_type": "code",
   "execution_count": null,
   "metadata": {
    "collapsed": false
   },
   "outputs": [],
   "source": [
    "plt.scatter(ddg_scaled.loc[\"cluster11\"][common_agonists], y)\n",
    "\n"
   ]
  },
  {
   "cell_type": "code",
   "execution_count": null,
   "metadata": {
    "collapsed": false
   },
   "outputs": [],
   "source": [
    "arrestin_top = [16, 80, 43, 21, 84, 38, 44, 6, 13, 99]\n",
    "gprot_top = [44, 6, 83, 4, 76, 99, 62, 92, 39, 80]\n",
    "\n",
    "arrestin_only = sorted(list(set(arrestin_top).difference(set(gprot_top))))\n",
    "print(arrestin_only)\n",
    "gprot_only = sorted(list(set(gprot_top).difference(set(arrestin_top))))\n",
    "print(gprot_only)\n",
    "both = sorted(list(set(arrestin_top).intersection(set(gprot_top))))\n",
    "print(both)\n"
   ]
  },
  {
   "cell_type": "code",
   "execution_count": null,
   "metadata": {
    "collapsed": false
   },
   "outputs": [],
   "source": [
    "samples_pnas_tica.loc[importances_df.index.values.tolist()[:5]]"
   ]
  },
  {
   "cell_type": "code",
   "execution_count": null,
   "metadata": {
    "collapsed": false
   },
   "outputs": [],
   "source": [
    "importances_df"
   ]
  },
  {
   "cell_type": "code",
   "execution_count": null,
   "metadata": {
    "collapsed": false
   },
   "outputs": [],
   "source": [
    "import sklearn\n",
    "reload(sklearn)\n",
    "from sklearn.metrics import r2_score\n",
    "from sklearn.ensemble import GradientBoostingRegressor\n",
    "from sklearn.preprocessing import binarize\n",
    "from sklearn import cross_validation\n",
    "\n",
    "test_accuracies = []\n",
    "test_aucs = []\n",
    "test_log_aucs = []\n",
    "C_test_aucs = []\n",
    "C_test_log_aucs = []\n",
    "n_trials = 10\n",
    "feature_importances = []\n",
    "total_activity = bret[\"B2AR-Arrestin, Mean\"].loc[common_ligands].add(bret[\"B2AR-Gprotein, Mean\"].loc[common_ligands])\n",
    "common_agonists = total_activity.loc[total_activity > 0.1].index.values\n",
    "\n",
    "#biased_ligands = [\"ethylnorepinephrine\", \"isoetharine\", \"N-Cyclopentylbutanephrine\"]\n",
    "#biased_ligands += [\"nebivolol\", \"s-carvedilol\"]\n",
    "#non_biased_ligands =  [\"r_isopreterenol\", \"r_epinephrine\", \"norepinephrine\", \"zinterol\", \"orciprenaline\", \"epinine\", \"terbutaline\", \"fenoterol\", \"procaterol\", \"formoterol\", \"salbutamol\", \"salmeterol\"]\n",
    "#non_biased_ligands += [\"s-carazolol\", \"Ici215001\", \"bisoprolol\", \"timolol\", \"s-atenolol\"]\n",
    "#non_biased_ligands = [n for n in df.columns.values.tolist() if n not in biased_ligands and \"Carvedilol\" not in n]\n",
    "#common_agonists = biased_ligands + non_biased_ligands\n",
    "#common_agonists = common_ligands\n",
    "#top_clusters = [\"cluster80\", \"cluster62\", \"cluster11\", \"cluster21\", \"cluster16\", \"cluster43\", \"cluster38\"]\n",
    "#differences = np.zeros((len(top_clusters), len(top_clusters)))\n",
    "#for i, cluster in enumerate(top_clusters):\n",
    "#    for j in range(i, len(top_clusters)):\n",
    "#        differences[i][j] = \n",
    "\n",
    "#top_clusters = importances_df.index.values\n",
    "top_clusters = delta_delta_g.index.values\n",
    "\n",
    "y_ori = bret[\"B2AR-Arrestin, Mean\"].loc[common_agonists].subtract(bret[\"B2AR-Gprotein, Mean\"].loc[common_agonists]).values.reshape((-1,1))\n",
    "#y_ori = np.vstack([y_ori, np.ones(3).reshape((-1,1))])\n",
    "#common_agonists = common_agonists.tolist() + biased_ligands\n",
    "\n",
    "X = delta_delta_g.loc[top_clusters][common_agonists].values.T\n",
    "X_scaled = ddg_scaled.loc[top_clusters][common_agonists].values.T\n",
    "C = null_features.loc[common_agonists].values\n",
    "D_scaled = docking_normalized.loc[top_clusters][common_agonists].values.T\n",
    "\n",
    "#y = np.array([1. for n in biased_ligands] + [0. for n in non_biased_ligands]).reshape((-1,1))\n",
    "#print(y_ori)\n",
    "#y_ori = bret[\"B2AR-Arrestin, Mean\"].loc[common_agonists].values.reshape((-1,1))\n",
    "#plt.hist(y_ori, bins=25)\n",
    "y = binarize(y_ori, threshold=-0.2)\n",
    "\n",
    "features = [C, X_scaled, D_scaled]\n",
    "features_y = [C, X_scaled, D_scaled, y]\n",
    "feature_names = [\"Crystal Structures\", \"MSM ddG\", \"Docking\"]"
   ]
  },
  {
   "cell_type": "code",
   "execution_count": null,
   "metadata": {
    "collapsed": false,
    "scrolled": true
   },
   "outputs": [],
   "source": [
    "xt = ddg_scaled[biased_ligands].values.T\n",
    "xt_preds = []\n",
    "\n",
    "\n",
    "for j in range(0,n_trials):\n",
    "    print(j)\n",
    "    aucs = []\n",
    "    log_aucs = []\n",
    "    train_test_arrays = sklearn.cross_validation.train_test_split(*features_y, train_size=0.8, stratify=y) \n",
    "    y_train = train_test_arrays[2*len(features)]\n",
    "    y_test = train_test_arrays[2*len(features) + 1]\n",
    "    feature_importance = []\n",
    "    \n",
    "    for i in range(0, len(features)):\n",
    "        X_train = train_test_arrays[2*i]\n",
    "        X_test = train_test_arrays[2*i+1]\n",
    "\n",
    "        sc = StandardScaler()\n",
    "        sc.fit(X_train)\n",
    "        X_train = sc.transform(X_train)\n",
    "        X_test = sc.transform(X_test)\n",
    "\n",
    "        rfr = RandomForestClassifier(n_estimators=100, max_features='sqrt', max_depth=3, n_jobs=-1, oob_score=True)\n",
    "        rfr.fit(X_train, y_train)\n",
    "        #top_indices = np.argsort(rfr.feature_importances_*-1.)[:min(10, X.shape[1])]\n",
    "        feature_importance.append(rfr.feature_importances_)\n",
    "        #rfr = RandomForestClassifier(n_estimators=10, max_features=None, n_jobs=-1, oob_score=True)\n",
    "        #X_train = X_train[:, top_indices]\n",
    "        #X_test = X_test[:, top_indices]\n",
    "        #rfr.fit(X_train, y_train)\n",
    "        #f = np.zeros(X.shape[1])\n",
    "        #f[top_indices] = rfr.feature_importances_\n",
    "        #feature_importance.append(f)\n",
    "        \n",
    "        if i == 1:\n",
    "            xt_preds.append(rfr.predict(xt))\n",
    "        \n",
    "        y_pred = rfr.predict(X_test)\n",
    "        y_score = rfr.predict_proba(X_test)\n",
    "        auc, logauc = compute_auc(y_test, y_score)\n",
    "        aucs.append(auc)\n",
    "        log_aucs.append(logauc)  \n",
    "    feature_importances.append(feature_importance)\n",
    "    test_aucs.append(aucs)\n",
    "    test_log_aucs.append(log_aucs)"
   ]
  },
  {
   "cell_type": "code",
   "execution_count": null,
   "metadata": {
    "collapsed": false
   },
   "outputs": [],
   "source": [
    "biased_ligands = [\"ethylnorepinephrine\", \"isoetharine\", \"N-Cyclopentylbutanephrine\"]\n",
    "\n",
    "non_biased_ligands =  [\"r_isopreterenol\", \"r_epinephrine\", \"norepinephrine\", \"zinterol\", \"orciprenaline\", \"epinine\", \"terbutaline\", \"fenoterol\", \"procaterol\", \"formoterol\", \"salbutamol\", \"salmeterol\"]\n",
    "\n",
    "ddg_scaled.loc[importances_df.index.values[:5]][biased_ligands + non_biased_ligands]"
   ]
  },
  {
   "cell_type": "code",
   "execution_count": null,
   "metadata": {
    "collapsed": false
   },
   "outputs": [],
   "source": [
    "ddg_scaled.sort(\"procaterol\", inplace=False).iloc[:10]"
   ]
  },
  {
   "cell_type": "code",
   "execution_count": null,
   "metadata": {
    "collapsed": false
   },
   "outputs": [],
   "source": [
    "plt.scatter(ddg_scaled.loc[\"cluster36\"][common_agonists], y)"
   ]
  },
  {
   "cell_type": "code",
   "execution_count": null,
   "metadata": {
    "collapsed": false
   },
   "outputs": [],
   "source": [
    "y"
   ]
  },
  {
   "cell_type": "code",
   "execution_count": null,
   "metadata": {
    "collapsed": false,
    "scrolled": true
   },
   "outputs": [],
   "source": [
    "import sklearn\n",
    "reload(sklearn)\n",
    "from sklearn.metrics import r2_score\n",
    "from sklearn.ensemble import GradientBoostingRegressor\n",
    "from sklearn.preprocessing import binarize\n",
    "from sklearn import cross_validation\n",
    "\n",
    "test_accuracies = []\n",
    "test_aucs = []\n",
    "test_log_aucs = []\n",
    "C_test_aucs = []\n",
    "C_test_log_aucs = []\n",
    "n_trials = 1000\n",
    "feature_importances = []\n",
    "reg = []\n",
    "total_activity = bret[\"B2AR-Arrestin, Mean\"].loc[common_ligands].add(bret[\"B2AR-Gprotein, Mean\"].loc[common_ligands])\n",
    "common_agonists = total_activity.loc[total_activity > 0.3].index.values\n",
    "\n",
    "#biased_ligands = [\"ethylnorepinephrine\", \"isoetharine\", \"N-Cyclopentylbutanephrine\", \"3p0g_lig\"]\n",
    "#biased_ligands = [\"nebivolol\", \"s-carvedilol\"]\n",
    "#non_biased_ligands =  [\"r_isopreterenol\", \"r_epinephrine\", \"norepinephrine\", \"zinterol\", \"orciprenaline\", \"epinine\", \"terbutaline\", \"fenoterol\", \"procaterol\", \"formoterol\", \"salbutamol\", \"salmeterol\"]\n",
    "#non_biased_ligands = [\"s-carazolol\", \"Ici215001\", \"bisoprolol\", \"timolol\", \"s-atenolol\"]\n",
    "#non_biased_ligands = [n for n in df.columns.values.tolist() if n not in biased_ligands and \"Carvedilol\" not in n]\n",
    "#common_agonists = biased_ligands + non_biased_ligands\n",
    "\n",
    "X = delta_delta_g[common_agonists].values.T\n",
    "X_scaled = ddg_scaled[common_agonists].values.T\n",
    "C = null_features.loc[common_agonists].values\n",
    "\n",
    "#y = np.array([1. for n in biased_ligands] + [0. for n in non_biased_ligands]).reshape((-1,1))\n",
    "#y_ori = bret[\"B2AR-Arrestin, Mean\"].loc[common_ligands].divide(bret[\"B2AR-Arrestin, Mean\"].loc[common_agonists].add(bret[\"B2AR-Gprotein, Mean\"].loc[common_agonists])).values.reshape((-1,1))\n",
    "y_ori = bret[\"B2AR-Arrestin, Mean\"].loc[common_agonists].values.reshape((-1,1))\n",
    "plt.hist(y_ori, bins=25)\n",
    "y = binarize(y_ori, threshold=0.2) \n",
    "\n",
    "features = [C, X, X_scaled, docking_normalized[common_agonists].values.T]\n",
    "features_y = [C, X, X_scaled, docking_normalized[common_agonists].values.T, y]\n",
    "feature_names = [\"Crystal Structures\", \"MSM States\", \"Normalized MSM States\", \"Normalized Docking\"]\n",
    "  \n",
    "\n",
    "for j in range(0,n_trials):\n",
    "    print(j)\n",
    "    aucs = []\n",
    "    log_aucs = []\n",
    "    train_test_arrays = sklearn.cross_validation.train_test_split(*features_y, train_size=0.8, stratify=y) \n",
    "    y_train = train_test_arrays[2*len(features)]\n",
    "    y_test = train_test_arrays[2*len(features) + 1]\n",
    "    feature_importance = []\n",
    "    r = []\n",
    "    \n",
    "    for i in range(0, len(features)):\n",
    "        X_train = train_test_arrays[2*i]\n",
    "        X_test = train_test_arrays[2*i+1]\n",
    "\n",
    "        sc = StandardScaler()\n",
    "        sc.fit(X_train)\n",
    "        X_train = sc.transform(X_train)\n",
    "        X_test = sc.transform(X_test)\n",
    "        \n",
    "        cs = np.logspace(-3., 20.)\n",
    "        rfr = LogisticRegressionCV(Cs=cs, penalty='l2')\n",
    "        rfr.fit(X_train, y_train)\n",
    "        feature_importance.append(rfr.coef_)\n",
    "        y_pred = rfr.predict(X_test)\n",
    "        y_score = rfr.predict_proba(X_test)\n",
    "        auc, logauc = compute_auc(y_test, y_score)\n",
    "        aucs.append(auc)\n",
    "        log_aucs.append(logauc)  \n",
    "        r.append(rfr.C_)\n",
    "    reg.append(r)\n",
    "    feature_importances.append(feature_importance)\n",
    "    test_aucs.append(aucs)\n",
    "    test_log_aucs.append(log_aucs)"
   ]
  },
  {
   "cell_type": "code",
   "execution_count": null,
   "metadata": {
    "collapsed": false
   },
   "outputs": [],
   "source": [
    "plt.scatter(docking_normalized.loc[\"cluster80\"][common_ligands], -1.0*bret.loc[common_ligands][\"B2AR-Gprotein, Mean\"].subtract(bret.loc[common_ligands][\"B2AR-Arrestin, Mean\"]))"
   ]
  },
  {
   "cell_type": "code",
   "execution_count": null,
   "metadata": {
    "collapsed": false,
    "scrolled": true
   },
   "outputs": [],
   "source": [
    "auc_df = pd.DataFrame(np.array(test_aucs), columns=feature_names)\n",
    "auc_df.plot(kind='box')"
   ]
  },
  {
   "cell_type": "code",
   "execution_count": null,
   "metadata": {
    "collapsed": false
   },
   "outputs": [],
   "source": [
    "auc_df.median(axis=0)"
   ]
  },
  {
   "cell_type": "code",
   "execution_count": null,
   "metadata": {
    "collapsed": false
   },
   "outputs": [],
   "source": [
    "normalized_docking_importances = [f[1] for f in feature_importances]"
   ]
  },
  {
   "cell_type": "code",
   "execution_count": null,
   "metadata": {
    "collapsed": false,
    "scrolled": true
   },
   "outputs": [],
   "source": [
    "importances_df = make_importances_df(normalized_docking_importances, top_clusters)\n",
    "importances_df\n"
   ]
  },
  {
   "cell_type": "code",
   "execution_count": null,
   "metadata": {
    "collapsed": false
   },
   "outputs": [],
   "source": [
    "from sklearn.preprocessing import binarize\n",
    "X = ddg_scaled[common_ligands].values.T\n",
    "y = bret[\"B2AR-Gprotein, Mean\"].loc[common_ligands].values.reshape((-1,1))\n",
    "y = binarize(y, threshold=0.5)\n",
    "print(np.shape(y))\n",
    "from sklearn.svm import l1_min_c\n",
    "from sklearn import linear_model\n",
    "\n",
    "#cs = l1_min_c(X, y, loss='log') * np.logspace(0, 3)\n",
    "cs = np.logspace(-3., 20.)\n",
    "print(\"Computing regularization path ...\")\n",
    "clf = linear_model.LogisticRegression(C=1.0, penalty='l2', tol=1e-6)\n",
    "coefs_ = []\n",
    "for c in cs:\n",
    "    clf.set_params(C=c)\n",
    "    clf.fit(X, y)\n",
    "    coefs_.append(clf.coef_.ravel().copy())\n",
    "\n",
    "coefs_ = pd.DataFrame(np.array(coefs_), columns=ddg_scaled.index.values, index=np.log10(cs))\n",
    "#coefs_[list(set(inactive_clusters.tolist()).intersection(set(importances_df.iloc[10:20].index.values.tolist())))].plot()\n",
    "coefs_[importances_df.index.values[:5]].plot()\n",
    "#plt.plot(np.log10(cs), coefs_)\n",
    "#ymin, ymax = plt.ylim()\n",
    "###plt.xlabel('log(C)')\n",
    "#plt.ylabel('Coefficients')\n",
    "##plt.title('Logistic Regression Path')\n",
    "#plt.axis('tight')\n",
    "#plt.show()"
   ]
  },
  {
   "cell_type": "code",
   "execution_count": null,
   "metadata": {
    "collapsed": false
   },
   "outputs": [],
   "source": [
    "samples_pnas_tica.loc[importances_df.index.values[:10]]"
   ]
  },
  {
   "cell_type": "code",
   "execution_count": null,
   "metadata": {
    "collapsed": false
   },
   "outputs": [],
   "source": [
    "plt.scatter(deltas_tica.loc[importances_df.index.values[:10]][\"tIC.6\"], coefs_[importances_df.index.values[:10]].values[49])"
   ]
  },
  {
   "cell_type": "code",
   "execution_count": null,
   "metadata": {
    "collapsed": false,
    "scrolled": true
   },
   "outputs": [],
   "source": [
    "plot_clustermap(ddg_scaled[common_agonists.tolist()].loc[importances_df.index.values.tolist()[:5]].transpose(), save_file=\"%s/msm_n-clusters%d_lag-time%d_tICs%d.pdf\" %(tica_dir, n_clusters, msm_lag_time, n_components), method='average')\n",
    "\n"
   ]
  },
  {
   "cell_type": "code",
   "execution_count": null,
   "metadata": {
    "collapsed": false
   },
   "outputs": [],
   "source": [
    "samples_pnas_tica.loc[samples_pnas_tica[\"tm6_tm3_dist\"] < 18.0].loc[importances_df.iloc[0:5].index].dropna()"
   ]
  },
  {
   "cell_type": "code",
   "execution_count": null,
   "metadata": {
    "collapsed": false
   },
   "outputs": [],
   "source": [
    "ddg_scaled[\"nebivolol\"].subtract(ddg_scaled[\"s-carazolol\"]).sort(inplace=False).iloc[:10]"
   ]
  },
  {
   "cell_type": "code",
   "execution_count": null,
   "metadata": {
    "collapsed": false
   },
   "outputs": [],
   "source": [
    "ddg_scaled[\"s-carvedilol\"].subtract(ddg_scaled[\"s-carazolol\"]).sort(inplace=False).iloc[:10]"
   ]
  },
  {
   "cell_type": "code",
   "execution_count": null,
   "metadata": {
    "collapsed": false
   },
   "outputs": [],
   "source": [
    "samples_pnas_tica.loc[[\"cluster74\", \"cluster69\", \"cluster13\", \"cluster12\", \"cluster66\"]]"
   ]
  },
  {
   "cell_type": "code",
   "execution_count": null,
   "metadata": {
    "collapsed": false,
    "scrolled": true
   },
   "outputs": [],
   "source": [
    "import plots\n",
    "reload(plots)\n",
    "from plots import *\n",
    "#plot_importances_barh(importances_df.values, importances_df.index.values, \"MSM State Importance in Arrestin Prediction\", \"Feature Importance\", \"MSM State\", \"%s/arrestin_0pt5_classification_rfr.pdf\" %(tica_dir), n_features=50)\n",
    "importances_df.iloc[0:25].plot(kind='barh')\n",
    "plt.xlabel(\"Feature Importance\")\n",
    "plt.ylabel(\"MSM State\")\n",
    "plt.title(\"Importance of MSM States in Predicting Arrestin Activity\")\n",
    "plt.savefig(\"%s/msm_%dstates_arrestin_0pt2_agonists_only_classification_rfr.pdf\" %(tica_dir, n_clusters))\n",
    "#plt.clf()\n"
   ]
  },
  {
   "cell_type": "code",
   "execution_count": null,
   "metadata": {
    "collapsed": true
   },
   "outputs": [],
   "source": []
  },
  {
   "cell_type": "code",
   "execution_count": null,
   "metadata": {
    "collapsed": false
   },
   "outputs": [],
   "source": [
    "X = docking_normalized[common_agonists].values.T\n",
    "y = bret[\"B2AR-Arrestin, Mean\"].subtract(bret[\"B2AR-Gprotein, Mean\"]).loc[common_agonists].values.reshape((-1,1))\n",
    "y = binarize(y, threshold=-0.2)\n",
    "print(y)\n",
    "from sklearn import linear_model\n",
    "\n",
    "cs = np.logspace(-3., 200.)\n",
    "clf = linear_model.LogisticRegression(C=1.0, penalty='l2', tol=1e-6)\n",
    "coefs_ = []\n",
    "for c in cs:\n",
    "    clf.set_params(C=c)\n",
    "    clf.fit(X, y)\n",
    "    coefs_.append(clf.coef_.ravel().copy())\n",
    "\n",
    "coefs_ = pd.DataFrame(np.array(coefs_), columns=ddg_scaled.index.values, index=np.log10(cs))\n",
    "coefs_[importances_df.iloc[0:10].loc[samples_pnas_tica[\"tm6_tm3_dist\"] < 9.].index].plot()\n",
    "plt.xlabel(\"Log Regularization Parameter\")\n",
    "plt.ylabel(\"Coefficient for Arrestin Activity\")\n",
    "plt.title(\"Logistic Regression Coefficient in Predicting Arrestin Activity\")\n",
    "plt.savefig(\"%s/msm_%dstates_arrestin_0pt2_agonists_only_classification_logistic.pdf\" %(tica_dir, n_clusters))\n",
    "#plt.clf()"
   ]
  },
  {
   "cell_type": "code",
   "execution_count": null,
   "metadata": {
    "collapsed": false
   },
   "outputs": [],
   "source": [
    "np.shape(coefs_)"
   ]
  },
  {
   "cell_type": "code",
   "execution_count": null,
   "metadata": {
    "collapsed": false
   },
   "outputs": [],
   "source": [
    "print(np.median(np.nan_to_num(test_aucs)))\n",
    "print(np.median(np.nan_to_num(C_test_aucs)))\n",
    "print(np.median(np.nan_to_num(test_log_aucs)))\n",
    "print(np.median(np.nan_to_num(C_test_log_aucs)))"
   ]
  },
  {
   "cell_type": "code",
   "execution_count": null,
   "metadata": {
    "collapsed": false
   },
   "outputs": [],
   "source": [
    "lr = LinearRegression()\n",
    "states = importances_df.index.values.tolist()\n",
    "model = lr.fit(X, y_ori)\n",
    "pd.DataFrame(model.coef_.T, index=delta_delta_g.index, columns=[\"importance\"]).loc[states]#.sort(\"importance\", inplace=False)"
   ]
  },
  {
   "cell_type": "code",
   "execution_count": null,
   "metadata": {
    "collapsed": false
   },
   "outputs": [],
   "source": [
    "model.coef_.shape"
   ]
  },
  {
   "cell_type": "code",
   "execution_count": null,
   "metadata": {
    "collapsed": false
   },
   "outputs": [],
   "source": []
  },
  {
   "cell_type": "code",
   "execution_count": null,
   "metadata": {
    "collapsed": false
   },
   "outputs": [],
   "source": [
    "import seaborn\n",
    "reload(seaborn)\n",
    "import seaborn as sns\n",
    "plt.style.use('ggplot')\n",
    "plt.figure(figsize=(5, 5))\n",
    "sns.set_style(\"darkgrid\")\n",
    "g = (auc_df\n",
    "    .pipe((sns.boxplot, 'data'), orient='v', showfliers=True))\n",
    "g.set_xticklabels(auc_df.columns.values, rotation=90)\n",
    "sns.despine()\n",
    "plt.title(\"AUC for Arrestin Prediction\")\n",
    "plt.ylabel(\"Frequency AUCs over Random Splits\")\n",
    "plt.xlabel(\"Featurization\")\n",
    "plt.show()\n",
    "plt.savefig(\"%s/auc_arrestin_prediction_all_ligands_0pt2_cutoff.pdf\" %tica_dir)"
   ]
  },
  {
   "cell_type": "code",
   "execution_count": null,
   "metadata": {
    "collapsed": false
   },
   "outputs": [],
   "source": [
    "corr_matrix = compute_pearson_matrix(delta_delta_g[common_agonists].values.T, y)\n",
    "corr_df = pd.DataFrame(model.coef_.T, index=delta_delta_g.index.values, columns=[\"Correlation\"]).sort(\"Correlation\",inplace=False)\n",
    "#corr_df.loc[[\"cluster80\", \"cluster16\", \"cluster43\", \"cluster44\"]].plot(kind='barh')\n",
    "corr_df.loc[importances_df.index.values[:20]].sort(\"Correlation\", inplace=False).plot(kind='barh')#, figsize=(5,20))\n",
    "plt.xlabel(\"Pearsson Correlation with Arrestin Activity\")\n",
    "plt.ylabel(\"MSM State\")\n",
    "plt.title(\"Correlation of MSM States with Arrestin Activity\")\n"
   ]
  },
  {
   "cell_type": "code",
   "execution_count": null,
   "metadata": {
    "collapsed": true
   },
   "outputs": [],
   "source": []
  },
  {
   "cell_type": "code",
   "execution_count": null,
   "metadata": {
    "collapsed": false
   },
   "outputs": [],
   "source": [
    "samples_pnas_tica.loc[corr_df.loc[importances_df.index.values[:20]].sort(\"Correlation\", inplace=False).index.values]"
   ]
  },
  {
   "cell_type": "code",
   "execution_count": null,
   "metadata": {
    "collapsed": true
   },
   "outputs": [],
   "source": []
  },
  {
   "cell_type": "code",
   "execution_count": null,
   "metadata": {
    "collapsed": false
   },
   "outputs": [],
   "source": [
    "df = copy.deepcopy(aggregate_docking_msm)\n",
    "df[df.columns.values] = scale(df.values)\n",
    "plt.scatter(df[common_ligands].loc[\"cluster13\"].values, bret[\"B2AR-Arrestin, Mean\"].loc[common_ligands].values.T)"
   ]
  },
  {
   "cell_type": "code",
   "execution_count": null,
   "metadata": {
    "collapsed": false
   },
   "outputs": [],
   "source": [
    "bret"
   ]
  },
  {
   "cell_type": "code",
   "execution_count": null,
   "metadata": {
    "collapsed": false,
    "scrolled": true
   },
   "outputs": [],
   "source": [
    "import sklearn\n",
    "reload(sklearn)\n",
    "from sklearn.metrics import r2_score\n",
    "from sklearn.ensemble import GradientBoostingRegressor\n",
    "from sklearn.preprocessing import binarize\n",
    "from sklearn import cross_validation\n",
    "\n",
    "test_accuracies = []\n",
    "test_aucs = []\n",
    "test_log_aucs = []\n",
    "C_test_aucs = []\n",
    "C_test_log_aucs = []\n",
    "n_trials = 100\n",
    "feature_importances = []\n",
    "\n",
    "for j in range(0,n_trials):\n",
    "    print(j)\n",
    "\n",
    "    X = delta_delta_g[common_ligands].values.T\n",
    "    C = null_features.loc[common_ligands].values\n",
    "    y = bret[\"B2AR-Arrestin, Mean\"].loc[common_ligands].values.reshape((-1,1))\n",
    "    y = binarize(y, threshold=0.5)\n",
    "\n",
    "    X_train, X_test, y_train, y_test, C_train, C_test = sklearn.cross_validation.train_test_split(X, y, C, train_size=0.8, stratify=y)\n",
    "    \n",
    "    sc = StandardScaler()\n",
    "    sc.fit(X_train)\n",
    "    X_train = sc.transform(X_train)\n",
    "    X_test = sc.transform(X_test)\n",
    "\n",
    "    sc = StandardScaler()\n",
    "    sc.fit(C_train)\n",
    "    C_train = sc.transform(C_train)\n",
    "    C_test = sc.transform(C_test)\n",
    " \n",
    "    rfr = RandomForestClassifier(n_estimators=100, max_features='sqrt', max_depth=2, n_jobs=-1, oob_score=True)\n",
    "    rfr.fit(X_train, y_train)\n",
    "    feature_importances.append(rfr.feature_importances_)\n",
    "    y_pred = rfr.predict(X_test)\n",
    "    test_accuracies.append(np.sqrt(np.mean(np.square(y_test-y_pred.reshape((-1,1))))))\n",
    "    y_score = rfr.predict_proba(X_test)\n",
    "    auc, logauc = compute_auc(y_test, y_score)\n",
    "    test_aucs.append(auc)\n",
    "    test_log_aucs.append(logauc)\n",
    "    \n",
    "    rfr = RandomForestClassifier(n_estimators=100, max_features='sqrt', max_depth=2, n_jobs=-1, oob_score=True)\n",
    "    rfr.fit(C_train, y_train)\n",
    "    C_y_pred = rfr.predict(C_test)\n",
    "    y_score = rfr.predict_proba(C_test)\n",
    "    auc, logauc = compute_auc(y_test, y_score)\n",
    "    C_test_aucs.append(auc)\n",
    "    C_test_log_aucs.append(logauc)\n",
    "\n",
    "    \n",
    "    \n",
    "\n",
    "    "
   ]
  },
  {
   "cell_type": "code",
   "execution_count": null,
   "metadata": {
    "collapsed": false
   },
   "outputs": [],
   "source": [
    "import seaborn\n",
    "reload(seaborn)\n",
    "import seaborn as sns\n",
    "auc_df = pd.DataFrame(np.vstack([test_aucs, C_test_aucs]).T, columns=[\"MSM States\", \"Crystal Structures\"])\n",
    "\n",
    "plt.style.use('ggplot')\n",
    "plt.figure(figsize=(5, 5))\n",
    "sns.set_style(\"darkgrid\")\n",
    "g = (auc_df\n",
    "    .pipe((sns.boxplot, 'data'), orient='v', showfliers=True))\n",
    "#g.set_xticklabels(experiments.columns.values, rotation=90)\n",
    "sns.despine()\n",
    "plt.title(\"AUC for G Protein Prediction\")\n",
    "plt.ylabel(\"Frequency AUCs over Random Splits\")\n",
    "plt.xlabel(\"Featurization\")\n",
    "plt.show()\n",
    "plt.savefig(\"%s/msm_n-states%d_auc_gprot_prediction_cutoff0pt5.pdf\" %(tica_dir, n_clusters))"
   ]
  },
  {
   "cell_type": "code",
   "execution_count": null,
   "metadata": {
    "collapsed": false
   },
   "outputs": [],
   "source": [
    "importances_df = make_importances_df(feature_importances, delta_delta_g.index.values.tolist())\n",
    "importances_df\n",
    "\n"
   ]
  },
  {
   "cell_type": "code",
   "execution_count": null,
   "metadata": {
    "collapsed": false
   },
   "outputs": [],
   "source": [
    "import sklearn\n",
    "from sklearn.linear_model import LinearRegression, Lasso\n",
    "model = Lasso(alpha=0.0001)                                \n",
    "model.fit(ddg_scaled[common_agonists].values.T, bret.loc[common_agonists][\"B2AR-Arrestin, Mean\"].subtract(bret.loc[common_agonists][\"B2AR-Gprotein, Mean\"].values))\n",
    "pd.DataFrame(model.coef_, index=ddg_scaled.index, columns=[\"importance\"]).sort(\"importance\", inplace=False)"
   ]
  },
  {
   "cell_type": "code",
   "execution_count": null,
   "metadata": {
    "collapsed": false
   },
   "outputs": [],
   "source": [
    "print(np.median(np.nan_to_num(test_aucs)))\n",
    "print(np.median(np.nan_to_num(C_test_aucs)))\n",
    "print(np.median(np.nan_to_num(test_log_aucs)))\n",
    "print(np.median(np.nan_to_num(C_test_log_aucs)))"
   ]
  },
  {
   "cell_type": "code",
   "execution_count": null,
   "metadata": {
    "collapsed": false
   },
   "outputs": [],
   "source": [
    "import plots\n",
    "reload(plots)\n",
    "from plots import *\n",
    "#plot_importances_barh(importances_df.values, importances_df.index.values, \"MSM State Importance in Arrestin Prediction\", \"Feature Importance\", \"MSM State\", \"%s/arrestin_0pt5_classification_rfr.pdf\" %(tica_dir), n_features=50)\n",
    "importances_df.iloc[0:25].plot(kind='barh')\n",
    "plt.xlabel(\"Feature Importance\")\n",
    "plt.ylabel(\"MSM State\")\n",
    "plt.title(\"Importance of MSM States in Predicting G Protein Activity\")\n",
    "#plt.savefig(\"%s/msm_%dstates_gprot_0pt5_classification_rfr.pdf\" %(tica_dir, n_clusters))\n",
    "#plt.clf()\n",
    "\n"
   ]
  },
  {
   "cell_type": "code",
   "execution_count": null,
   "metadata": {
    "collapsed": false
   },
   "outputs": [],
   "source": [
    "corr_matrix = compute_pearson_matrix(ddg_scaled[common_ligands].values.T, y)\n",
    "corr_df = pd.DataFrame(model.coef_, index=ddg_scaled.index.values, columns=[\"Correlation\"])\n",
    "corr_df.loc[importances_df.index.values[:10]].sort(\"Correlation\", inplace=False).plot(kind='barh')\n",
    "plt.xlabel(\"Pearsson Correlation with G Protein Activity\")\n",
    "plt.ylabel(\"MSM State\")\n",
    "plt.title(\"Correlation of MSM States with G Protein Activity\")\n",
    "#plt.savefig(\"%s/msm_%dstates_gprot_0pt5_classification_correlations.pdf\" %(tica_dir, n_clusters))\n",
    "#plt.clf()\n",
    "\n",
    "\n"
   ]
  },
  {
   "cell_type": "code",
   "execution_count": null,
   "metadata": {
    "collapsed": false
   },
   "outputs": [],
   "source": [
    "pd.set_option('display.max_rows', 500)\n",
    "pd.set_option('display.max_columns', 500)"
   ]
  }
 ],
 "metadata": {
  "anaconda-cloud": {},
  "kernelspec": {
   "display_name": "Python [Root]",
   "language": "python",
   "name": "Python [Root]"
  },
  "language_info": {
   "codemirror_mode": {
    "name": "ipython",
    "version": 3
   },
   "file_extension": ".py",
   "mimetype": "text/x-python",
   "name": "python",
   "nbconvert_exporter": "python",
   "pygments_lexer": "ipython3",
   "version": "3.5.2"
  }
 },
 "nbformat": 4,
 "nbformat_minor": 0
}
